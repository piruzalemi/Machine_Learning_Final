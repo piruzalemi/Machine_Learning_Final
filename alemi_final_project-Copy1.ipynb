{
 "cells": [
  {
   "cell_type": "code",
   "execution_count": 1,
   "metadata": {
    "colab": {},
    "colab_type": "code",
    "id": "QBlUzYPaJ1Ks"
   },
   "outputs": [],
   "source": [
    "import numpy as np"
   ]
  },
  {
   "cell_type": "markdown",
   "metadata": {
    "colab_type": "text",
    "id": "5S5tBknqkNnz"
   },
   "source": [
    "# **CountVectorizer**"
   ]
  },
  {
   "cell_type": "code",
   "execution_count": 2,
   "metadata": {
    "colab": {},
    "colab_type": "code",
    "id": "CRwqeL3OHkX9"
   },
   "outputs": [],
   "source": [
    "from sklearn.feature_extraction.text import CountVectorizer"
   ]
  },
  {
   "cell_type": "code",
   "execution_count": 3,
   "metadata": {
    "colab": {},
    "colab_type": "code",
    "id": "AagsmfAKHt5S"
   },
   "outputs": [],
   "source": [
    "# COUNT VECTORIZER TAKES AN ARRAY OF TEXT DATA, WHICH CAN BE DOCUMENTS OR SENTENCES AND CONSTRUCTS THE BAG-OF-WORDS MODEL FOR US\n",
    "# Note CountVectorizer is an  instance of some type. We need to initialize that instance first before we apply the .fit_transform(docs) Alemi 04/07/2020\n",
    "count=CountVectorizer()\n"
   ]
  },
  {
   "cell_type": "code",
   "execution_count": 4,
   "metadata": {
    "colab": {},
    "colab_type": "code",
    "id": "1rJq1RE-H0xy"
   },
   "outputs": [],
   "source": [
    "import numpy as np \n",
    "# Note there are 4 lines in Docs which is really 3 documents. Each document is separated by a \",\". So the frequency of occurance for the word \"is\" = 3 for the 3rd document\n",
    "# 1 for the first and 1 for the second document. The word \"is\" occurs max = 3. It also occurs in every document. \n",
    "docs = np.array(['The sun is shining on Zhongping',\n",
    "                 'The weather is sweet',\n",
    "                 'The sun is shining, the weather is sweet,'\n",
    "                 'and one and one is two'])\n"
   ]
  },
  {
   "cell_type": "code",
   "execution_count": 5,
   "metadata": {
    "colab": {},
    "colab_type": "code",
    "id": "rO8VZbpHIQ6O"
   },
   "outputs": [],
   "source": [
    "# Transforming Words into Feature Vectors \n",
    "bag = count.fit_transform(docs)"
   ]
  },
  {
   "cell_type": "code",
   "execution_count": 6,
   "metadata": {
    "colab": {
     "base_uri": "https://localhost:8080/",
     "height": 34
    },
    "colab_type": "code",
    "id": "iTNpzpXNIWws",
    "outputId": "cd74e373-2570-46eb-d85f-71c490e48fb0"
   },
   "outputs": [
    {
     "name": "stdout",
     "output_type": "stream",
     "text": [
      "{'the': 7, 'sun': 5, 'is': 1, 'shining': 4, 'on': 2, 'zhongping': 10, 'weather': 9, 'sweet': 6, 'and': 0, 'one': 3, 'two': 8}\n"
     ]
    }
   ],
   "source": [
    "print(count.vocabulary_)"
   ]
  },
  {
   "cell_type": "code",
   "execution_count": 7,
   "metadata": {
    "colab": {
     "base_uri": "https://localhost:8080/",
     "height": 68
    },
    "colab_type": "code",
    "id": "wWdEsgHMN8jM",
    "outputId": "ca89c6c8-2e7f-4d8d-a379-cb9a61b7c9f9"
   },
   "outputs": [
    {
     "name": "stdout",
     "output_type": "stream",
     "text": [
      "[[0 1 1 0 1 1 0 1 0 0 1]\n",
      " [0 1 0 0 0 0 1 1 0 1 0]\n",
      " [2 3 0 2 1 1 1 2 1 1 0]]\n"
     ]
    }
   ],
   "source": [
    "# Each index position in the feature vectors shown here corresponds to the integer values that are stored as dictionary items in the CountVectorizer vocabulary\n",
    "# For example, the first feature at index position 0 resembles the count of the word 'and' which only occurs in the last document. Zhongping occurs on index 10,\n",
    "# recall our index starts with zero, and it (Zhongping) only occurs once! in the first document. We call these feature vectors: Raw Term Frequencies: tf(t,d) -\n",
    "# the number of times a term t occurs in a document d. The sequence of items in the bag-of-words model we just created is also called the 1-gram or unigram model -\n",
    "# Each item or token in the vocabulary represents a single word. More generally, the contigious sequences of items in NLP - words, letters, or symbols - are also called\n",
    "# n-grams. \n",
    "# In 1-gram, we will have 1-gram: \"The\", \"Sun\", \"is\", \"Shining\"\n",
    "# In 2-gram: \"The sun\", \"Sun is\", \"is Shining\"\n",
    "# We could have initialized our CountVectorizer instance with ngram_range=(2,2)\n",
    "print(bag.toarray())"
   ]
  },
  {
   "cell_type": "code",
   "execution_count": 8,
   "metadata": {
    "colab": {
     "base_uri": "https://localhost:8080/",
     "height": 187
    },
    "colab_type": "code",
    "id": "YCCTYBxNQoJ1",
    "outputId": "3182c075-8d79-4e59-fba2-3d8747d86939"
   },
   "outputs": [
    {
     "name": "stdout",
     "output_type": "stream",
     "text": [
      "Name: tensorflow\r\n",
      "Version: 2.1.0\r\n",
      "Summary: TensorFlow is an open source machine learning framework for everyone.\r\n",
      "Home-page: https://www.tensorflow.org/\r\n",
      "Author: Google Inc.\r\n",
      "Author-email: packages@tensorflow.org\r\n",
      "License: Apache 2.0\r\n",
      "Location: /Users/piruzalemi/opt/anaconda3/lib/python3.7/site-packages\r\n",
      "Requires: wheel, keras-applications, opt-einsum, numpy, absl-py, six, tensorboard, scipy, astor, keras-preprocessing, gast, tensorflow-estimator, wrapt, termcolor, google-pasta, grpcio, protobuf\r\n",
      "Required-by: \r\n"
     ]
    }
   ],
   "source": [
    "# Let us capture the inverse of document frequency: idf(t,d) = log n/(1+df(d,t)) - where n is the number of our documents. Log is a weight and f(d,t) was explained before!\n",
    "# Another transformer from scikit-learn library is TfidTransformer class, that takes the term frequencies from CountVectorizer class as input and transforms them into tf-idfs\n",
    "!pip show tensorflow\n"
   ]
  },
  {
   "cell_type": "code",
   "execution_count": 9,
   "metadata": {
    "colab": {
     "base_uri": "https://localhost:8080/",
     "height": 153
    },
    "colab_type": "code",
    "id": "ZMcSRJi5V6QO",
    "outputId": "fcaf772c-3b2b-4a09-d77c-0c0c43c4d422"
   },
   "outputs": [
    {
     "name": "stdout",
     "output_type": "stream",
     "text": [
      "/bin/sh: apt-get: command not found\r\n"
     ]
    }
   ],
   "source": [
    "# https://pypi.python.org/pypi/libarchive\n",
    "!apt-get -qq install -y libarchive-dev && pip install -q -U libarchive\n",
    "import libarchive"
   ]
  },
  {
   "cell_type": "code",
   "execution_count": 10,
   "metadata": {
    "colab": {
     "base_uri": "https://localhost:8080/",
     "height": 153
    },
    "colab_type": "code",
    "id": "9uwcdQcRYYN4",
    "outputId": "3a50d424-d610-4e25-84a2-f523e55b1c66"
   },
   "outputs": [
    {
     "name": "stdout",
     "output_type": "stream",
     "text": [
      "/bin/sh: apt-get: command not found\r\n"
     ]
    }
   ],
   "source": [
    "# from sklearn.feature_extraction.text import TfidTransformer\n",
    "!apt-get -qq install -y libfluidsynth1"
   ]
  },
  {
   "cell_type": "code",
   "execution_count": 11,
   "metadata": {
    "colab": {
     "base_uri": "https://localhost:8080/",
     "height": 768
    },
    "colab_type": "code",
    "id": "EKD-aShpYgdF",
    "outputId": "d651768b-62f4-4866-d478-09f82338e7e3"
   },
   "outputs": [
    {
     "name": "stdout",
     "output_type": "stream",
     "text": [
      "Requirement already satisfied: tf-nightly in /Users/piruzalemi/opt/anaconda3/lib/python3.7/site-packages (2.2.0.dev20200409)\n",
      "Requirement already satisfied: tf-estimator-nightly in /Users/piruzalemi/opt/anaconda3/lib/python3.7/site-packages (from tf-nightly) (2.3.0.dev2020040901)\n",
      "Requirement already satisfied: astunparse==1.6.3 in /Users/piruzalemi/opt/anaconda3/lib/python3.7/site-packages (from tf-nightly) (1.6.3)\n",
      "Requirement already satisfied: grpcio>=1.8.6 in /Users/piruzalemi/opt/anaconda3/lib/python3.7/site-packages (from tf-nightly) (1.27.2)\n",
      "Requirement already satisfied: wheel>=0.26; python_version >= \"3\" in /Users/piruzalemi/opt/anaconda3/lib/python3.7/site-packages (from tf-nightly) (0.33.6)\n",
      "Requirement already satisfied: protobuf>=3.9.2 in /Users/piruzalemi/opt/anaconda3/lib/python3.7/site-packages (from tf-nightly) (3.11.3)\n",
      "Requirement already satisfied: google-pasta>=0.1.8 in /Users/piruzalemi/opt/anaconda3/lib/python3.7/site-packages (from tf-nightly) (0.2.0)\n",
      "Requirement already satisfied: absl-py>=0.7.0 in /Users/piruzalemi/opt/anaconda3/lib/python3.7/site-packages (from tf-nightly) (0.9.0)\n",
      "Requirement already satisfied: scipy==1.4.1; python_version >= \"3\" in /Users/piruzalemi/opt/anaconda3/lib/python3.7/site-packages (from tf-nightly) (1.4.1)\n",
      "Collecting gast==0.3.3\n",
      "  Using cached gast-0.3.3-py2.py3-none-any.whl (9.7 kB)\n",
      "Requirement already satisfied: termcolor>=1.1.0 in /Users/piruzalemi/opt/anaconda3/lib/python3.7/site-packages (from tf-nightly) (1.1.0)\n",
      "Requirement already satisfied: six>=1.12.0 in /Users/piruzalemi/opt/anaconda3/lib/python3.7/site-packages (from tf-nightly) (1.12.0)\n",
      "Requirement already satisfied: opt-einsum>=2.3.2 in /Users/piruzalemi/opt/anaconda3/lib/python3.7/site-packages (from tf-nightly) (3.2.0)\n",
      "Requirement already satisfied: numpy<2.0,>=1.16.0 in /Users/piruzalemi/opt/anaconda3/lib/python3.7/site-packages (from tf-nightly) (1.17.2)\n",
      "Requirement already satisfied: h5py<2.11.0,>=2.10.0 in /Users/piruzalemi/opt/anaconda3/lib/python3.7/site-packages (from tf-nightly) (2.10.0)\n",
      "Requirement already satisfied: wrapt>=1.11.1 in /Users/piruzalemi/opt/anaconda3/lib/python3.7/site-packages (from tf-nightly) (1.11.2)\n",
      "Requirement already satisfied: keras-preprocessing>=1.1.0 in /Users/piruzalemi/opt/anaconda3/lib/python3.7/site-packages (from tf-nightly) (1.1.0)\n",
      "Requirement already satisfied: tb-nightly<2.4.0a0,>=2.3.0a0 in /Users/piruzalemi/opt/anaconda3/lib/python3.7/site-packages (from tf-nightly) (2.3.0a20200409)\n",
      "Requirement already satisfied: setuptools in /Users/piruzalemi/opt/anaconda3/lib/python3.7/site-packages (from protobuf>=3.9.2->tf-nightly) (41.4.0)\n",
      "Requirement already satisfied: google-auth<2,>=1.6.3 in /Users/piruzalemi/opt/anaconda3/lib/python3.7/site-packages (from tb-nightly<2.4.0a0,>=2.3.0a0->tf-nightly) (1.12.0)\n",
      "Requirement already satisfied: markdown>=2.6.8 in /Users/piruzalemi/opt/anaconda3/lib/python3.7/site-packages (from tb-nightly<2.4.0a0,>=2.3.0a0->tf-nightly) (3.2.1)\n",
      "Requirement already satisfied: tensorboard-plugin-wit>=1.6.0 in /Users/piruzalemi/opt/anaconda3/lib/python3.7/site-packages (from tb-nightly<2.4.0a0,>=2.3.0a0->tf-nightly) (1.6.0.post3)\n",
      "Requirement already satisfied: requests<3,>=2.21.0 in /Users/piruzalemi/opt/anaconda3/lib/python3.7/site-packages (from tb-nightly<2.4.0a0,>=2.3.0a0->tf-nightly) (2.22.0)\n",
      "Requirement already satisfied: google-auth-oauthlib<0.5,>=0.4.1 in /Users/piruzalemi/opt/anaconda3/lib/python3.7/site-packages (from tb-nightly<2.4.0a0,>=2.3.0a0->tf-nightly) (0.4.1)\n",
      "Requirement already satisfied: werkzeug>=0.11.15 in /Users/piruzalemi/opt/anaconda3/lib/python3.7/site-packages (from tb-nightly<2.4.0a0,>=2.3.0a0->tf-nightly) (0.16.0)\n",
      "Requirement already satisfied: rsa<4.1,>=3.1.4 in /Users/piruzalemi/opt/anaconda3/lib/python3.7/site-packages (from google-auth<2,>=1.6.3->tb-nightly<2.4.0a0,>=2.3.0a0->tf-nightly) (4.0)\n",
      "Requirement already satisfied: pyasn1-modules>=0.2.1 in /Users/piruzalemi/opt/anaconda3/lib/python3.7/site-packages (from google-auth<2,>=1.6.3->tb-nightly<2.4.0a0,>=2.3.0a0->tf-nightly) (0.2.8)\n",
      "Requirement already satisfied: cachetools<5.0,>=2.0.0 in /Users/piruzalemi/opt/anaconda3/lib/python3.7/site-packages (from google-auth<2,>=1.6.3->tb-nightly<2.4.0a0,>=2.3.0a0->tf-nightly) (4.0.0)\n",
      "Requirement already satisfied: urllib3!=1.25.0,!=1.25.1,<1.26,>=1.21.1 in /Users/piruzalemi/opt/anaconda3/lib/python3.7/site-packages (from requests<3,>=2.21.0->tb-nightly<2.4.0a0,>=2.3.0a0->tf-nightly) (1.24.2)\n",
      "Requirement already satisfied: chardet<3.1.0,>=3.0.2 in /Users/piruzalemi/opt/anaconda3/lib/python3.7/site-packages (from requests<3,>=2.21.0->tb-nightly<2.4.0a0,>=2.3.0a0->tf-nightly) (3.0.4)\n",
      "Requirement already satisfied: certifi>=2017.4.17 in /Users/piruzalemi/opt/anaconda3/lib/python3.7/site-packages (from requests<3,>=2.21.0->tb-nightly<2.4.0a0,>=2.3.0a0->tf-nightly) (2019.9.11)\n",
      "Requirement already satisfied: idna<2.9,>=2.5 in /Users/piruzalemi/opt/anaconda3/lib/python3.7/site-packages (from requests<3,>=2.21.0->tb-nightly<2.4.0a0,>=2.3.0a0->tf-nightly) (2.8)\n",
      "Requirement already satisfied: requests-oauthlib>=0.7.0 in /Users/piruzalemi/opt/anaconda3/lib/python3.7/site-packages (from google-auth-oauthlib<0.5,>=0.4.1->tb-nightly<2.4.0a0,>=2.3.0a0->tf-nightly) (1.3.0)\n",
      "Requirement already satisfied: pyasn1>=0.1.3 in /Users/piruzalemi/opt/anaconda3/lib/python3.7/site-packages (from rsa<4.1,>=3.1.4->google-auth<2,>=1.6.3->tb-nightly<2.4.0a0,>=2.3.0a0->tf-nightly) (0.4.8)\n",
      "Requirement already satisfied: oauthlib>=3.0.0 in /Users/piruzalemi/opt/anaconda3/lib/python3.7/site-packages (from requests-oauthlib>=0.7.0->google-auth-oauthlib<0.5,>=0.4.1->tb-nightly<2.4.0a0,>=2.3.0a0->tf-nightly) (3.1.0)\n",
      "\u001b[31mERROR: tensorflow 2.1.0 has requirement gast==0.2.2, but you'll have gast 0.3.3 which is incompatible.\u001b[0m\n",
      "Installing collected packages: gast\n",
      "  Attempting uninstall: gast\n",
      "    Found existing installation: gast 0.2.2\n",
      "    Uninstalling gast-0.2.2:\n",
      "      Successfully uninstalled gast-0.2.2\n",
      "Successfully installed gast-0.3.3\n"
     ]
    }
   ],
   "source": [
    "#from sklearn.feature_extraction.text import TfidTransformer\n",
    "!pip install tf-nightly"
   ]
  },
  {
   "cell_type": "code",
   "execution_count": 12,
   "metadata": {
    "colab": {},
    "colab_type": "code",
    "id": "um58XzwEY_u7"
   },
   "outputs": [],
   "source": [
    "#from sklearn.feature_extraction.text import TfidTransformer\n",
    "from sklearn.feature_extraction.text import TfidfTransformer"
   ]
  },
  {
   "cell_type": "code",
   "execution_count": 13,
   "metadata": {
    "colab": {},
    "colab_type": "code",
    "id": "oWNyTgqxanwL"
   },
   "outputs": [],
   "source": [
    "#  Tf is “n” (natural) by default, “l” (logarithmic) when sublinear_tf=True. \n",
    "#  Idf is “t” when use_idf is given, “n” (none) otherwise. \n",
    "#  Normalization is “c” (cosine)\n",
    "#  when norm='l2', “n” (none) when norm=None.\n",
    "tfidf = TfidfTransformer(use_idf=True,norm='l2',smooth_idf=True)"
   ]
  },
  {
   "cell_type": "code",
   "execution_count": 14,
   "metadata": {
    "colab": {},
    "colab_type": "code",
    "id": "Hxi_EzyGbr5B"
   },
   "outputs": [],
   "source": [
    "np.set_printoptions(precision=2)"
   ]
  },
  {
   "cell_type": "code",
   "execution_count": 15,
   "metadata": {
    "colab": {
     "base_uri": "https://localhost:8080/",
     "height": 68
    },
    "colab_type": "code",
    "id": "Ce81zUwvcKu3",
    "outputId": "61bc0e3d-b5de-40cd-f0e5-740c87766542"
   },
   "outputs": [
    {
     "name": "stdout",
     "output_type": "stream",
     "text": [
      "[[0.   0.3  0.51 0.   0.39 0.39 0.   0.3  0.   0.   0.51]\n",
      " [0.   0.43 0.   0.   0.   0.   0.56 0.43 0.   0.56 0.  ]\n",
      " [0.5  0.45 0.   0.5  0.19 0.19 0.19 0.3  0.25 0.19 0.  ]]\n"
     ]
    }
   ],
   "source": [
    "print(tfidf.fit_transform(count.fit_transform(docs)).toarray())"
   ]
  },
  {
   "cell_type": "code",
   "execution_count": 16,
   "metadata": {
    "colab": {},
    "colab_type": "code",
    "id": "T1Bqxtdkci6V"
   },
   "outputs": [],
   "source": [
    "# The word 'is' has a frequency of 3 (tf=3) in the third document, and the document frequency of this term is also 3 since the term \"is\" occurs in all three documents (df=3)\n",
    "#. Thus, we can calculate  the inverse document frequency as follows: idf(\"is\",d3) = log(1+3)/(1+3) = 0, and the tf-idf (termFrequency-inverseDocumentFrequency) \n",
    "#  tf-idf(\"is\",d3)=3 * (0+1) =3. Note this value is different than the above derived tf-idf(d3), as the above values in the final step is L2-normalized.\n",
    "# lets clean our data by excluding unwanted characters!"
   ]
  },
  {
   "cell_type": "code",
   "execution_count": 17,
   "metadata": {
    "colab": {},
    "colab_type": "code",
    "id": "hji2ebjnn4ey"
   },
   "outputs": [],
   "source": [
    "#import pyprind\n",
    "import tarfile\n",
    "!pip install -q matplotlib-venn"
   ]
  },
  {
   "cell_type": "code",
   "execution_count": 18,
   "metadata": {
    "colab": {},
    "colab_type": "code",
    "id": "F2uHBKyZpAKx"
   },
   "outputs": [],
   "source": [
    "#with tarfile.open('https://www.kaggle.com/aaron7sun/stocknews#Combined_News_DJIA.csv') as tar:\n",
    "#  tar.extractall()\n",
    "import numpy as np"
   ]
  },
  {
   "cell_type": "code",
   "execution_count": 19,
   "metadata": {
    "colab": {
     "base_uri": "https://localhost:8080/",
     "height": 85
    },
    "colab_type": "code",
    "id": "x_98qzDPrOVP",
    "outputId": "dfeb1503-3d00-4d27-e4f4-2d48ebf44726"
   },
   "outputs": [
    {
     "name": "stdout",
     "output_type": "stream",
     "text": [
      "Requirement already satisfied: pyprind in /Users/piruzalemi/opt/anaconda3/lib/python3.7/site-packages (2.11.2)\r\n"
     ]
    }
   ],
   "source": [
    "np.random.seed(0)\n",
    "!pip install pyprind\n",
    "import pyprind\n",
    "import pandas as pd\n",
    "import os"
   ]
  },
  {
   "cell_type": "code",
   "execution_count": null,
   "metadata": {
    "colab": {},
    "colab_type": "code",
    "id": "bSiBW9SiUD27"
   },
   "outputs": [],
   "source": [
    "\n"
   ]
  },
  {
   "cell_type": "markdown",
   "metadata": {
    "colab_type": "text",
    "id": "WsqbxzYQju2n"
   },
   "source": [
    "# **Access Kaggle**\n"
   ]
  },
  {
   "cell_type": "code",
   "execution_count": 20,
   "metadata": {
    "colab": {
     "base_uri": "https://localhost:8080/",
     "height": 204
    },
    "colab_type": "code",
    "id": "J6942WUGjrVI",
    "outputId": "c6af5b56-5c9e-49c3-acf1-da0cee8b368f"
   },
   "outputs": [
    {
     "name": "stdout",
     "output_type": "stream",
     "text": [
      "Requirement already satisfied: kaggle in /Users/piruzalemi/opt/anaconda3/lib/python3.7/site-packages (1.5.6)\n",
      "Requirement already satisfied: urllib3<1.25,>=1.21.1 in /Users/piruzalemi/opt/anaconda3/lib/python3.7/site-packages (from kaggle) (1.24.2)\n",
      "Requirement already satisfied: requests in /Users/piruzalemi/opt/anaconda3/lib/python3.7/site-packages (from kaggle) (2.22.0)\n",
      "Requirement already satisfied: python-slugify in /Users/piruzalemi/opt/anaconda3/lib/python3.7/site-packages (from kaggle) (4.0.0)\n",
      "Requirement already satisfied: python-dateutil in /Users/piruzalemi/opt/anaconda3/lib/python3.7/site-packages (from kaggle) (2.8.0)\n",
      "Requirement already satisfied: tqdm in /Users/piruzalemi/opt/anaconda3/lib/python3.7/site-packages (from kaggle) (4.45.0)\n",
      "Requirement already satisfied: certifi in /Users/piruzalemi/opt/anaconda3/lib/python3.7/site-packages (from kaggle) (2019.9.11)\n",
      "Requirement already satisfied: six>=1.10 in /Users/piruzalemi/opt/anaconda3/lib/python3.7/site-packages (from kaggle) (1.12.0)\n",
      "Requirement already satisfied: idna<2.9,>=2.5 in /Users/piruzalemi/opt/anaconda3/lib/python3.7/site-packages (from requests->kaggle) (2.8)\n",
      "Requirement already satisfied: chardet<3.1.0,>=3.0.2 in /Users/piruzalemi/opt/anaconda3/lib/python3.7/site-packages (from requests->kaggle) (3.0.4)\n",
      "Requirement already satisfied: text-unidecode>=1.3 in /Users/piruzalemi/opt/anaconda3/lib/python3.7/site-packages (from python-slugify->kaggle) (1.3)\n"
     ]
    }
   ],
   "source": [
    "# Install Kaggle library\n",
    "!pip install -q kaggle\n",
    "!pip install kaggle"
   ]
  },
  {
   "cell_type": "code",
   "execution_count": 21,
   "metadata": {},
   "outputs": [],
   "source": [
    "#!mkdir ~/.kaggle\n",
    "#!cp Downloads/kaggle.json ~/.kaggle/kaggle.json"
   ]
  },
  {
   "cell_type": "code",
   "execution_count": 22,
   "metadata": {
    "colab": {
     "base_uri": "https://localhost:8080/",
     "height": 85
    },
    "colab_type": "code",
    "id": "ysm9AzmjWiEA",
    "outputId": "dade59a9-bc9b-460e-aeed-2cbe356ff52d"
   },
   "outputs": [
    {
     "name": "stdout",
     "output_type": "stream",
     "text": [
      "Warning: Your Kaggle API key is readable by other users on this system! To fix this, you can run 'chmod 600 /Users/piruzalemi/.kaggle/kaggle.json'\n",
      "stocknews.zip: Skipping, found more recently modified local copy (use --force to force download)\n"
     ]
    }
   ],
   "source": [
    "!kaggle datasets download -d aaron7sun/stocknews"
   ]
  },
  {
   "cell_type": "code",
   "execution_count": null,
   "metadata": {
    "colab": {},
    "colab_type": "code",
    "id": "w9II8-IFcdYb"
   },
   "outputs": [],
   "source": []
  },
  {
   "cell_type": "code",
   "execution_count": 23,
   "metadata": {
    "colab": {
     "base_uri": "https://localhost:8080/",
     "height": 51
    },
    "colab_type": "code",
    "id": "a092eIpKZfI4",
    "outputId": "702377f5-f8b5-4b8f-c007-9760690cab2b"
   },
   "outputs": [
    {
     "name": "stdout",
     "output_type": "stream",
     "text": [
      "Warning: Your Kaggle API key is readable by other users on this system! To fix this, you can run 'chmod 600 /Users/piruzalemi/.kaggle/kaggle.json'\n",
      "stocknews.zip: Skipping, found more recently modified local copy (use --force to force download)\n"
     ]
    }
   ],
   "source": [
    "!kaggle datasets download -d aaron7sun/stocknews"
   ]
  },
  {
   "cell_type": "code",
   "execution_count": 24,
   "metadata": {
    "colab": {
     "base_uri": "https://localhost:8080/",
     "height": 51
    },
    "colab_type": "code",
    "id": "0UULO-XWcemh",
    "outputId": "b066e869-6b11-4729-e8fd-b506b13e156c"
   },
   "outputs": [
    {
     "name": "stdout",
     "output_type": "stream",
     "text": [
      "Alemi2_final_project.ipynb\r\n",
      "\u001b[31mCombined_News_DJIA.csv\u001b[m\u001b[m*\r\n",
      "Combined_News_DJIA.xls\r\n",
      "D11ScikitLearnBayes.pdf\r\n",
      "Final_NLTK_Latent.ipynb\r\n",
      "Linear_Visualization_Graph.ipynb\r\n",
      "Naive_Visualization_Graph-Copy1.ipynb\r\n",
      "Naive_Visualization_Graph.ipynb\r\n",
      "\u001b[31mRedditNews.csv\u001b[m\u001b[m*\r\n",
      "TensorFlow.ipynb\r\n",
      "Tony Holdroyd - Tensorflow 2.0 Quick Start Guide (2019, Packt Publishing).pdf\r\n",
      "Untitled.ipynb\r\n",
      "alemi2_NLTK.ipynb\r\n",
      "alemi_NLTK.ipynb\r\n",
      "alemi_final_project-Copy1.ipynb\r\n",
      "alemi_final_project.ipynb\r\n",
      "alemi_final_project2.ipynb\r\n",
      "kaggle.json\r\n",
      "plot_logistic.ipynb\r\n",
      "report.txt\r\n",
      "\u001b[34mstocknews\u001b[m\u001b[m/\r\n",
      "stocknews.zip\r\n",
      "\u001b[31mupload_DJIA_table.csv\u001b[m\u001b[m*\r\n"
     ]
    }
   ],
   "source": [
    "ls"
   ]
  },
  {
   "cell_type": "code",
   "execution_count": 25,
   "metadata": {
    "colab": {
     "base_uri": "https://localhost:8080/",
     "height": 85
    },
    "colab_type": "code",
    "id": "5lGlyNj21IsX",
    "outputId": "626c4da6-3825-4604-df1d-7194600329ed"
   },
   "outputs": [],
   "source": [
    "#pd.read_csv(\"stocknews/RedditNews.csv\")\n",
    "#!unzip stocknews.zip -d ~/.kaggle"
   ]
  },
  {
   "cell_type": "code",
   "execution_count": 26,
   "metadata": {
    "colab": {
     "base_uri": "https://localhost:8080/",
     "height": 204
    },
    "colab_type": "code",
    "id": "W9uWsRvOrpHT",
    "outputId": "90813efb-e58c-4ba2-cea6-6c540afe96f8"
   },
   "outputs": [
    {
     "data": {
      "text/html": [
       "<div>\n",
       "<style scoped>\n",
       "    .dataframe tbody tr th:only-of-type {\n",
       "        vertical-align: middle;\n",
       "    }\n",
       "\n",
       "    .dataframe tbody tr th {\n",
       "        vertical-align: top;\n",
       "    }\n",
       "\n",
       "    .dataframe thead th {\n",
       "        text-align: right;\n",
       "    }\n",
       "</style>\n",
       "<table border=\"1\" class=\"dataframe\">\n",
       "  <thead>\n",
       "    <tr style=\"text-align: right;\">\n",
       "      <th></th>\n",
       "      <th>Date</th>\n",
       "      <th>News</th>\n",
       "    </tr>\n",
       "  </thead>\n",
       "  <tbody>\n",
       "    <tr>\n",
       "      <td>0</td>\n",
       "      <td>2016-07-01</td>\n",
       "      <td>A 117-year-old woman in Mexico City finally re...</td>\n",
       "    </tr>\n",
       "    <tr>\n",
       "      <td>1</td>\n",
       "      <td>2016-07-01</td>\n",
       "      <td>IMF chief backs Athens as permanent Olympic host</td>\n",
       "    </tr>\n",
       "    <tr>\n",
       "      <td>2</td>\n",
       "      <td>2016-07-01</td>\n",
       "      <td>The president of France says if Brexit won, so...</td>\n",
       "    </tr>\n",
       "    <tr>\n",
       "      <td>3</td>\n",
       "      <td>2016-07-01</td>\n",
       "      <td>British Man Who Must Give Police 24 Hours' Not...</td>\n",
       "    </tr>\n",
       "    <tr>\n",
       "      <td>4</td>\n",
       "      <td>2016-07-01</td>\n",
       "      <td>100+ Nobel laureates urge Greenpeace to stop o...</td>\n",
       "    </tr>\n",
       "  </tbody>\n",
       "</table>\n",
       "</div>"
      ],
      "text/plain": [
       "         Date                                               News\n",
       "0  2016-07-01  A 117-year-old woman in Mexico City finally re...\n",
       "1  2016-07-01   IMF chief backs Athens as permanent Olympic host\n",
       "2  2016-07-01  The president of France says if Brexit won, so...\n",
       "3  2016-07-01  British Man Who Must Give Police 24 Hours' Not...\n",
       "4  2016-07-01  100+ Nobel laureates urge Greenpeace to stop o..."
      ]
     },
     "execution_count": 26,
     "metadata": {},
     "output_type": "execute_result"
    }
   ],
   "source": [
    "#df=pd.read_csv('stocknews.zip', compression='zip', header=0, sep=',', quotechar='\"')\n",
    "rNews=pd.read_csv('RedditNews.csv')\n",
    "rNews.head()\n"
   ]
  },
  {
   "cell_type": "code",
   "execution_count": 27,
   "metadata": {
    "colab": {
     "base_uri": "https://localhost:8080/",
     "height": 479
    },
    "colab_type": "code",
    "id": "Wy3cjoljWg0A",
    "outputId": "e9620e17-07be-44e9-ee7d-22c1dabd4c91"
   },
   "outputs": [
    {
     "data": {
      "text/html": [
       "<div>\n",
       "<style scoped>\n",
       "    .dataframe tbody tr th:only-of-type {\n",
       "        vertical-align: middle;\n",
       "    }\n",
       "\n",
       "    .dataframe tbody tr th {\n",
       "        vertical-align: top;\n",
       "    }\n",
       "\n",
       "    .dataframe thead th {\n",
       "        text-align: right;\n",
       "    }\n",
       "</style>\n",
       "<table border=\"1\" class=\"dataframe\">\n",
       "  <thead>\n",
       "    <tr style=\"text-align: right;\">\n",
       "      <th></th>\n",
       "      <th>Date</th>\n",
       "      <th>Label</th>\n",
       "      <th>Top1</th>\n",
       "      <th>Top2</th>\n",
       "      <th>Top3</th>\n",
       "      <th>Top4</th>\n",
       "      <th>Top5</th>\n",
       "      <th>Top6</th>\n",
       "      <th>Top7</th>\n",
       "      <th>Top8</th>\n",
       "      <th>...</th>\n",
       "      <th>Top16</th>\n",
       "      <th>Top17</th>\n",
       "      <th>Top18</th>\n",
       "      <th>Top19</th>\n",
       "      <th>Top20</th>\n",
       "      <th>Top21</th>\n",
       "      <th>Top22</th>\n",
       "      <th>Top23</th>\n",
       "      <th>Top24</th>\n",
       "      <th>Top25</th>\n",
       "    </tr>\n",
       "  </thead>\n",
       "  <tbody>\n",
       "    <tr>\n",
       "      <td>0</td>\n",
       "      <td>2008-08-08</td>\n",
       "      <td>0</td>\n",
       "      <td>b\"Georgia 'downs two Russian warplanes' as cou...</td>\n",
       "      <td>b'BREAKING: Musharraf to be impeached.'</td>\n",
       "      <td>b'Russia Today: Columns of troops roll into So...</td>\n",
       "      <td>b'Russian tanks are moving towards the capital...</td>\n",
       "      <td>b\"Afghan children raped with 'impunity,' U.N. ...</td>\n",
       "      <td>b'150 Russian tanks have entered South Ossetia...</td>\n",
       "      <td>b\"Breaking: Georgia invades South Ossetia, Rus...</td>\n",
       "      <td>b\"The 'enemy combatent' trials are nothing but...</td>\n",
       "      <td>...</td>\n",
       "      <td>b'Georgia Invades South Ossetia - if Russia ge...</td>\n",
       "      <td>b'Al-Qaeda Faces Islamist Backlash'</td>\n",
       "      <td>b'Condoleezza Rice: \"The US would not act to p...</td>\n",
       "      <td>b'This is a busy day:  The European Union has ...</td>\n",
       "      <td>b\"Georgia will withdraw 1,000 soldiers from Ir...</td>\n",
       "      <td>b'Why the Pentagon Thinks Attacking Iran is a ...</td>\n",
       "      <td>b'Caucasus in crisis: Georgia invades South Os...</td>\n",
       "      <td>b'Indian shoe manufactory  - And again in a se...</td>\n",
       "      <td>b'Visitors Suffering from Mental Illnesses Ban...</td>\n",
       "      <td>b\"No Help for Mexico's Kidnapping Surge\"</td>\n",
       "    </tr>\n",
       "    <tr>\n",
       "      <td>1</td>\n",
       "      <td>2008-08-11</td>\n",
       "      <td>1</td>\n",
       "      <td>b'Why wont America and Nato help us? If they w...</td>\n",
       "      <td>b'Bush puts foot down on Georgian conflict'</td>\n",
       "      <td>b\"Jewish Georgian minister: Thanks to Israeli ...</td>\n",
       "      <td>b'Georgian army flees in disarray as Russians ...</td>\n",
       "      <td>b\"Olympic opening ceremony fireworks 'faked'\"</td>\n",
       "      <td>b'What were the Mossad with fraudulent New Zea...</td>\n",
       "      <td>b'Russia angered by Israeli military sale to G...</td>\n",
       "      <td>b'An American citizen living in S.Ossetia blam...</td>\n",
       "      <td>...</td>\n",
       "      <td>b'Israel and the US behind the Georgian aggres...</td>\n",
       "      <td>b'\"Do not believe TV, neither Russian nor Geor...</td>\n",
       "      <td>b'Riots are still going on in Montreal (Canada...</td>\n",
       "      <td>b'China to overtake US as largest manufacturer'</td>\n",
       "      <td>b'War in South Ossetia [PICS]'</td>\n",
       "      <td>b'Israeli Physicians Group Condemns State Tort...</td>\n",
       "      <td>b' Russia has just beaten the United States ov...</td>\n",
       "      <td>b'Perhaps *the* question about the Georgia - R...</td>\n",
       "      <td>b'Russia is so much better at war'</td>\n",
       "      <td>b\"So this is what it's come to: trading sex fo...</td>\n",
       "    </tr>\n",
       "    <tr>\n",
       "      <td>2</td>\n",
       "      <td>2008-08-12</td>\n",
       "      <td>0</td>\n",
       "      <td>b'Remember that adorable 9-year-old who sang a...</td>\n",
       "      <td>b\"Russia 'ends Georgia operation'\"</td>\n",
       "      <td>b'\"If we had no sexual harassment we would hav...</td>\n",
       "      <td>b\"Al-Qa'eda is losing support in Iraq because ...</td>\n",
       "      <td>b'Ceasefire in Georgia: Putin Outmaneuvers the...</td>\n",
       "      <td>b'Why Microsoft and Intel tried to kill the XO...</td>\n",
       "      <td>b'Stratfor: The Russo-Georgian War and the Bal...</td>\n",
       "      <td>b\"I'm Trying to Get a Sense of This Whole Geor...</td>\n",
       "      <td>...</td>\n",
       "      <td>b'U.S. troops still in Georgia (did you know t...</td>\n",
       "      <td>b'Why Russias response to Georgia was right'</td>\n",
       "      <td>b'Gorbachev accuses U.S. of making a \"serious ...</td>\n",
       "      <td>b'Russia, Georgia, and NATO: Cold War Two'</td>\n",
       "      <td>b'Remember that adorable 62-year-old who led y...</td>\n",
       "      <td>b'War in Georgia: The Israeli connection'</td>\n",
       "      <td>b'All signs point to the US encouraging Georgi...</td>\n",
       "      <td>b'Christopher King argues that the US and NATO...</td>\n",
       "      <td>b'America: The New Mexico?'</td>\n",
       "      <td>b\"BBC NEWS | Asia-Pacific | Extinction 'by man...</td>\n",
       "    </tr>\n",
       "    <tr>\n",
       "      <td>3</td>\n",
       "      <td>2008-08-13</td>\n",
       "      <td>0</td>\n",
       "      <td>b' U.S. refuses Israel weapons to attack Iran:...</td>\n",
       "      <td>b\"When the president ordered to attack Tskhinv...</td>\n",
       "      <td>b' Israel clears troops who killed Reuters cam...</td>\n",
       "      <td>b'Britain\\'s policy of being tough on drugs is...</td>\n",
       "      <td>b'Body of 14 year old found in trunk; Latest (...</td>\n",
       "      <td>b'China has moved 10 *million* quake survivors...</td>\n",
       "      <td>b\"Bush announces Operation Get All Up In Russi...</td>\n",
       "      <td>b'Russian forces sink Georgian ships '</td>\n",
       "      <td>...</td>\n",
       "      <td>b'Elephants extinct by 2020?'</td>\n",
       "      <td>b'US humanitarian missions soon in Georgia - i...</td>\n",
       "      <td>b\"Georgia's DDOS came from US sources\"</td>\n",
       "      <td>b'Russian convoy heads into Georgia, violating...</td>\n",
       "      <td>b'Israeli defence minister: US against strike ...</td>\n",
       "      <td>b'Gorbachev: We Had No Choice'</td>\n",
       "      <td>b'Witness: Russian forces head towards Tbilisi...</td>\n",
       "      <td>b' Quarter of Russians blame U.S. for conflict...</td>\n",
       "      <td>b'Georgian president  says US military will ta...</td>\n",
       "      <td>b'2006: Nobel laureate Aleksander Solzhenitsyn...</td>\n",
       "    </tr>\n",
       "    <tr>\n",
       "      <td>4</td>\n",
       "      <td>2008-08-14</td>\n",
       "      <td>1</td>\n",
       "      <td>b'All the experts admit that we should legalis...</td>\n",
       "      <td>b'War in South Osetia - 89 pictures made by a ...</td>\n",
       "      <td>b'Swedish wrestler Ara Abrahamian throws away ...</td>\n",
       "      <td>b'Russia exaggerated the death toll in South O...</td>\n",
       "      <td>b'Missile That Killed 9 Inside Pakistan May Ha...</td>\n",
       "      <td>b\"Rushdie Condemns Random House's Refusal to P...</td>\n",
       "      <td>b'Poland and US agree to missle defense deal. ...</td>\n",
       "      <td>b'Will the Russians conquer Tblisi? Bet on it,...</td>\n",
       "      <td>...</td>\n",
       "      <td>b'Bank analyst forecast Georgian crisis 2 days...</td>\n",
       "      <td>b\"Georgia confict could set back Russia's US r...</td>\n",
       "      <td>b'War in the Caucasus is as much the product o...</td>\n",
       "      <td>b'\"Non-media\" photos of South Ossetia/Georgia ...</td>\n",
       "      <td>b'Georgian TV reporter shot by Russian sniper ...</td>\n",
       "      <td>b'Saudi Arabia: Mother moves to block child ma...</td>\n",
       "      <td>b'Taliban wages war on humanitarian aid workers'</td>\n",
       "      <td>b'Russia: World  \"can forget about\" Georgia\\'s...</td>\n",
       "      <td>b'Darfur rebels accuse Sudan of mounting major...</td>\n",
       "      <td>b'Philippines : Peace Advocate say Muslims nee...</td>\n",
       "    </tr>\n",
       "  </tbody>\n",
       "</table>\n",
       "<p>5 rows × 27 columns</p>\n",
       "</div>"
      ],
      "text/plain": [
       "         Date  Label                                               Top1  \\\n",
       "0  2008-08-08      0  b\"Georgia 'downs two Russian warplanes' as cou...   \n",
       "1  2008-08-11      1  b'Why wont America and Nato help us? If they w...   \n",
       "2  2008-08-12      0  b'Remember that adorable 9-year-old who sang a...   \n",
       "3  2008-08-13      0  b' U.S. refuses Israel weapons to attack Iran:...   \n",
       "4  2008-08-14      1  b'All the experts admit that we should legalis...   \n",
       "\n",
       "                                                Top2  \\\n",
       "0            b'BREAKING: Musharraf to be impeached.'   \n",
       "1        b'Bush puts foot down on Georgian conflict'   \n",
       "2                 b\"Russia 'ends Georgia operation'\"   \n",
       "3  b\"When the president ordered to attack Tskhinv...   \n",
       "4  b'War in South Osetia - 89 pictures made by a ...   \n",
       "\n",
       "                                                Top3  \\\n",
       "0  b'Russia Today: Columns of troops roll into So...   \n",
       "1  b\"Jewish Georgian minister: Thanks to Israeli ...   \n",
       "2  b'\"If we had no sexual harassment we would hav...   \n",
       "3  b' Israel clears troops who killed Reuters cam...   \n",
       "4  b'Swedish wrestler Ara Abrahamian throws away ...   \n",
       "\n",
       "                                                Top4  \\\n",
       "0  b'Russian tanks are moving towards the capital...   \n",
       "1  b'Georgian army flees in disarray as Russians ...   \n",
       "2  b\"Al-Qa'eda is losing support in Iraq because ...   \n",
       "3  b'Britain\\'s policy of being tough on drugs is...   \n",
       "4  b'Russia exaggerated the death toll in South O...   \n",
       "\n",
       "                                                Top5  \\\n",
       "0  b\"Afghan children raped with 'impunity,' U.N. ...   \n",
       "1      b\"Olympic opening ceremony fireworks 'faked'\"   \n",
       "2  b'Ceasefire in Georgia: Putin Outmaneuvers the...   \n",
       "3  b'Body of 14 year old found in trunk; Latest (...   \n",
       "4  b'Missile That Killed 9 Inside Pakistan May Ha...   \n",
       "\n",
       "                                                Top6  \\\n",
       "0  b'150 Russian tanks have entered South Ossetia...   \n",
       "1  b'What were the Mossad with fraudulent New Zea...   \n",
       "2  b'Why Microsoft and Intel tried to kill the XO...   \n",
       "3  b'China has moved 10 *million* quake survivors...   \n",
       "4  b\"Rushdie Condemns Random House's Refusal to P...   \n",
       "\n",
       "                                                Top7  \\\n",
       "0  b\"Breaking: Georgia invades South Ossetia, Rus...   \n",
       "1  b'Russia angered by Israeli military sale to G...   \n",
       "2  b'Stratfor: The Russo-Georgian War and the Bal...   \n",
       "3  b\"Bush announces Operation Get All Up In Russi...   \n",
       "4  b'Poland and US agree to missle defense deal. ...   \n",
       "\n",
       "                                                Top8  ...  \\\n",
       "0  b\"The 'enemy combatent' trials are nothing but...  ...   \n",
       "1  b'An American citizen living in S.Ossetia blam...  ...   \n",
       "2  b\"I'm Trying to Get a Sense of This Whole Geor...  ...   \n",
       "3             b'Russian forces sink Georgian ships '  ...   \n",
       "4  b'Will the Russians conquer Tblisi? Bet on it,...  ...   \n",
       "\n",
       "                                               Top16  \\\n",
       "0  b'Georgia Invades South Ossetia - if Russia ge...   \n",
       "1  b'Israel and the US behind the Georgian aggres...   \n",
       "2  b'U.S. troops still in Georgia (did you know t...   \n",
       "3                      b'Elephants extinct by 2020?'   \n",
       "4  b'Bank analyst forecast Georgian crisis 2 days...   \n",
       "\n",
       "                                               Top17  \\\n",
       "0                b'Al-Qaeda Faces Islamist Backlash'   \n",
       "1  b'\"Do not believe TV, neither Russian nor Geor...   \n",
       "2       b'Why Russias response to Georgia was right'   \n",
       "3  b'US humanitarian missions soon in Georgia - i...   \n",
       "4  b\"Georgia confict could set back Russia's US r...   \n",
       "\n",
       "                                               Top18  \\\n",
       "0  b'Condoleezza Rice: \"The US would not act to p...   \n",
       "1  b'Riots are still going on in Montreal (Canada...   \n",
       "2  b'Gorbachev accuses U.S. of making a \"serious ...   \n",
       "3             b\"Georgia's DDOS came from US sources\"   \n",
       "4  b'War in the Caucasus is as much the product o...   \n",
       "\n",
       "                                               Top19  \\\n",
       "0  b'This is a busy day:  The European Union has ...   \n",
       "1    b'China to overtake US as largest manufacturer'   \n",
       "2         b'Russia, Georgia, and NATO: Cold War Two'   \n",
       "3  b'Russian convoy heads into Georgia, violating...   \n",
       "4  b'\"Non-media\" photos of South Ossetia/Georgia ...   \n",
       "\n",
       "                                               Top20  \\\n",
       "0  b\"Georgia will withdraw 1,000 soldiers from Ir...   \n",
       "1                     b'War in South Ossetia [PICS]'   \n",
       "2  b'Remember that adorable 62-year-old who led y...   \n",
       "3  b'Israeli defence minister: US against strike ...   \n",
       "4  b'Georgian TV reporter shot by Russian sniper ...   \n",
       "\n",
       "                                               Top21  \\\n",
       "0  b'Why the Pentagon Thinks Attacking Iran is a ...   \n",
       "1  b'Israeli Physicians Group Condemns State Tort...   \n",
       "2          b'War in Georgia: The Israeli connection'   \n",
       "3                     b'Gorbachev: We Had No Choice'   \n",
       "4  b'Saudi Arabia: Mother moves to block child ma...   \n",
       "\n",
       "                                               Top22  \\\n",
       "0  b'Caucasus in crisis: Georgia invades South Os...   \n",
       "1  b' Russia has just beaten the United States ov...   \n",
       "2  b'All signs point to the US encouraging Georgi...   \n",
       "3  b'Witness: Russian forces head towards Tbilisi...   \n",
       "4   b'Taliban wages war on humanitarian aid workers'   \n",
       "\n",
       "                                               Top23  \\\n",
       "0  b'Indian shoe manufactory  - And again in a se...   \n",
       "1  b'Perhaps *the* question about the Georgia - R...   \n",
       "2  b'Christopher King argues that the US and NATO...   \n",
       "3  b' Quarter of Russians blame U.S. for conflict...   \n",
       "4  b'Russia: World  \"can forget about\" Georgia\\'s...   \n",
       "\n",
       "                                               Top24  \\\n",
       "0  b'Visitors Suffering from Mental Illnesses Ban...   \n",
       "1                 b'Russia is so much better at war'   \n",
       "2                        b'America: The New Mexico?'   \n",
       "3  b'Georgian president  says US military will ta...   \n",
       "4  b'Darfur rebels accuse Sudan of mounting major...   \n",
       "\n",
       "                                               Top25  \n",
       "0           b\"No Help for Mexico's Kidnapping Surge\"  \n",
       "1  b\"So this is what it's come to: trading sex fo...  \n",
       "2  b\"BBC NEWS | Asia-Pacific | Extinction 'by man...  \n",
       "3  b'2006: Nobel laureate Aleksander Solzhenitsyn...  \n",
       "4  b'Philippines : Peace Advocate say Muslims nee...  \n",
       "\n",
       "[5 rows x 27 columns]"
      ]
     },
     "execution_count": 27,
     "metadata": {},
     "output_type": "execute_result"
    }
   ],
   "source": [
    "dNews=pd.read_csv('Combined_News_DJIA.csv')\n",
    "dNews.head()"
   ]
  },
  {
   "cell_type": "code",
   "execution_count": null,
   "metadata": {
    "colab": {},
    "colab_type": "code",
    "id": "K9QFT6voN8ZS"
   },
   "outputs": [],
   "source": []
  },
  {
   "cell_type": "code",
   "execution_count": 28,
   "metadata": {
    "colab": {},
    "colab_type": "code",
    "id": "MRd-_-jtrysP"
   },
   "outputs": [],
   "source": [
    "# we need to clean yje \"'\" and \\ and all punctuation marks like b\" which are HTML makups\n",
    "# to accomplish this, we will use Python's regular expression (regex) library re as shown below\n",
    "import re\n"
   ]
  },
  {
   "cell_type": "code",
   "execution_count": 29,
   "metadata": {
    "colab": {},
    "colab_type": "code",
    "id": "eAOwyDS0OHsg"
   },
   "outputs": [],
   "source": [
    "# We will remove all the non-word characters from the text via the regex [\\w] + and convert the text into lower characters\n",
    "def preprocessor(text):\n",
    "    \n",
    "    text = (re.sub('[\\W]+',' ', text.lower() + ''))\n",
    "    text = re.sub(\"b \",' ',text)\n",
    "    return text"
   ]
  },
  {
   "cell_type": "code",
   "execution_count": 30,
   "metadata": {
    "colab": {},
    "colab_type": "code",
    "id": "39lPBbHNPFzj"
   },
   "outputs": [],
   "source": [
    "dNews['Top1'] = dNews['Top1'].apply(preprocessor)"
   ]
  },
  {
   "cell_type": "code",
   "execution_count": 31,
   "metadata": {
    "colab": {
     "base_uri": "https://localhost:8080/",
     "height": 119
    },
    "colab_type": "code",
    "id": "Fzd8n9U3OLvk",
    "outputId": "36f4d43e-9fad-4860-e79b-5dec66ca1508"
   },
   "outputs": [
    {
     "data": {
      "text/plain": [
       "0     georgia downs two russian warplanes as countr...\n",
       "1     why wont america and nato help us if they won...\n",
       "2     remember that adorable 9 year old who sang at...\n",
       "3     u s refuses israel weapons to attack iran rep...\n",
       "4     all the experts admit that we should legalise...\n",
       "Name: Top1, dtype: object"
      ]
     },
     "execution_count": 31,
     "metadata": {},
     "output_type": "execute_result"
    }
   ],
   "source": [
    "dNews['Top1'].head()"
   ]
  },
  {
   "cell_type": "code",
   "execution_count": 32,
   "metadata": {
    "colab": {
     "base_uri": "https://localhost:8080/",
     "height": 34
    },
    "colab_type": "code",
    "id": "tU4DREe7Jbmo",
    "outputId": "e9255a43-dbed-4d87-8097-eca6af731a70"
   },
   "outputs": [
    {
     "data": {
      "text/plain": [
       "' georgia downs two russian warplanes as countries move to brink of war '"
      ]
     },
     "execution_count": 32,
     "metadata": {},
     "output_type": "execute_result"
    }
   ],
   "source": [
    "dNews.loc[0,'Top1'][0:]"
   ]
  },
  {
   "cell_type": "markdown",
   "metadata": {
    "colab_type": "text",
    "id": "Oa6u6cvEjVZb"
   },
   "source": [
    "# **Tokenization**"
   ]
  },
  {
   "cell_type": "code",
   "execution_count": 33,
   "metadata": {
    "colab": {},
    "colab_type": "code",
    "id": "h58jYPi2JgQb"
   },
   "outputs": [],
   "source": [
    "def tokenizer(text):\n",
    "  return text.split()\n"
   ]
  },
  {
   "cell_type": "code",
   "execution_count": 34,
   "metadata": {
    "colab": {
     "base_uri": "https://localhost:8080/",
     "height": 221
    },
    "colab_type": "code",
    "id": "WrFRQg05UF3h",
    "outputId": "870b61ee-b80e-4df8-faad-9d2b508101ec"
   },
   "outputs": [
    {
     "data": {
      "text/plain": [
       "['georgia',\n",
       " 'downs',\n",
       " 'two',\n",
       " 'russian',\n",
       " 'warplanes',\n",
       " 'as',\n",
       " 'countries',\n",
       " 'move',\n",
       " 'to',\n",
       " 'brink',\n",
       " 'of',\n",
       " 'war']"
      ]
     },
     "execution_count": 34,
     "metadata": {},
     "output_type": "execute_result"
    }
   ],
   "source": [
    "tokenizer(dNews['Top1'][0])"
   ]
  },
  {
   "cell_type": "code",
   "execution_count": 35,
   "metadata": {
    "colab": {
     "base_uri": "https://localhost:8080/",
     "height": 51
    },
    "colab_type": "code",
    "id": "rSA5M-m8UOuq",
    "outputId": "f03cb835-2f40-455f-c707-f39cff81f714"
   },
   "outputs": [
    {
     "name": "stdout",
     "output_type": "stream",
     "text": [
      "Requirement already satisfied: nltk in /Users/piruzalemi/opt/anaconda3/lib/python3.7/site-packages (3.4.5)\r\n",
      "Requirement already satisfied: six in /Users/piruzalemi/opt/anaconda3/lib/python3.7/site-packages (from nltk) (1.12.0)\r\n"
     ]
    }
   ],
   "source": [
    "# install NTLK see www.ntlk.org/book/ in advanced applications in NLP\n",
    "#  We will use Porter stemmer's algorim - 1979, which is word stemming\n",
    "!pip install nltk"
   ]
  },
  {
   "cell_type": "code",
   "execution_count": 36,
   "metadata": {
    "colab": {},
    "colab_type": "code",
    "id": "sdEjXP5dVL8b"
   },
   "outputs": [],
   "source": [
    "from nltk.stem.porter import PorterStemmer"
   ]
  },
  {
   "cell_type": "code",
   "execution_count": 37,
   "metadata": {
    "colab": {},
    "colab_type": "code",
    "id": "bJXeWPSNVVY-"
   },
   "outputs": [],
   "source": [
    "porter = PorterStemmer()"
   ]
  },
  {
   "cell_type": "code",
   "execution_count": 38,
   "metadata": {
    "colab": {},
    "colab_type": "code",
    "id": "VV15Z-guVeRI"
   },
   "outputs": [],
   "source": [
    "def tokenizer_porter(text):\n",
    "  return [porter.stem(word) for word in text.split()]"
   ]
  },
  {
   "cell_type": "code",
   "execution_count": 39,
   "metadata": {
    "colab": {
     "base_uri": "https://localhost:8080/",
     "height": 221
    },
    "colab_type": "code",
    "id": "JubrRWzGV9Bh",
    "outputId": "6d311cd7-f6ce-40da-8fb0-5cf56f4c41fb"
   },
   "outputs": [
    {
     "data": {
      "text/plain": [
       "['georgia',\n",
       " 'down',\n",
       " 'two',\n",
       " 'russian',\n",
       " 'warplan',\n",
       " 'as',\n",
       " 'countri',\n",
       " 'move',\n",
       " 'to',\n",
       " 'brink',\n",
       " 'of',\n",
       " 'war']"
      ]
     },
     "execution_count": 39,
     "metadata": {},
     "output_type": "execute_result"
    }
   ],
   "source": [
    "tokenizer_porter(dNews['Top1'][0])"
   ]
  },
  {
   "cell_type": "code",
   "execution_count": 40,
   "metadata": {
    "colab": {},
    "colab_type": "code",
    "id": "Asr6REjLWIX-"
   },
   "outputs": [],
   "source": [
    "# Stopwords are simply those words that are extremely common but bear no use for our analysis!\n",
    "# like is, and, has, like,,,, we will use 127 stopwords already available in the NTLK library which we get by downloading it\n",
    "import nltk\n"
   ]
  },
  {
   "cell_type": "code",
   "execution_count": 41,
   "metadata": {
    "colab": {
     "base_uri": "https://localhost:8080/",
     "height": 68
    },
    "colab_type": "code",
    "id": "T7o0yWP-W8wE",
    "outputId": "a3326ba3-809f-447c-d3bd-5f00e6a58d38"
   },
   "outputs": [
    {
     "name": "stderr",
     "output_type": "stream",
     "text": [
      "[nltk_data] Downloading package stopwords to\n",
      "[nltk_data]     /Users/piruzalemi/nltk_data...\n",
      "[nltk_data]   Package stopwords is already up-to-date!\n"
     ]
    },
    {
     "data": {
      "text/plain": [
       "True"
      ]
     },
     "execution_count": 41,
     "metadata": {},
     "output_type": "execute_result"
    }
   ],
   "source": [
    "nltk.download('stopwords')"
   ]
  },
  {
   "cell_type": "code",
   "execution_count": 42,
   "metadata": {
    "colab": {},
    "colab_type": "code",
    "id": "LtF8gSbCXMoq"
   },
   "outputs": [],
   "source": [
    "# Load and apply the stopwards after download\n",
    "from nltk.corpus import stopwords"
   ]
  },
  {
   "cell_type": "code",
   "execution_count": 43,
   "metadata": {
    "colab": {},
    "colab_type": "code",
    "id": "5LVSio16XcjC"
   },
   "outputs": [],
   "source": [
    "stop = stopwords.words('english')"
   ]
  },
  {
   "cell_type": "code",
   "execution_count": 44,
   "metadata": {
    "colab": {
     "base_uri": "https://localhost:8080/",
     "height": 34
    },
    "colab_type": "code",
    "id": "U4eAtudkXi3L",
    "outputId": "04d5d6b8-e1b0-4aae-a32a-48e07c684607"
   },
   "outputs": [
    {
     "data": {
      "text/plain": [
       "['georgia', 'two', 'russian', 'warplan', 'countri', 'move', 'brink', 'war']"
      ]
     },
     "execution_count": 44,
     "metadata": {},
     "output_type": "execute_result"
    }
   ],
   "source": [
    "[w for w in tokenizer_porter(dNews['Top1'][0]) if w not in stop]"
   ]
  },
  {
   "cell_type": "code",
   "execution_count": 45,
   "metadata": {
    "colab": {},
    "colab_type": "code",
    "id": "ZJswnWtUYD-m"
   },
   "outputs": [],
   "source": [
    "# Training a logistic regression model for Document Classification\n",
    "# Here we train a logistic "
   ]
  },
  {
   "cell_type": "markdown",
   "metadata": {
    "colab_type": "text",
    "id": "UiGzHCI6aGmH"
   },
   "source": [
    "# **Training a Logistic Regression on Document Classification - Alemi 04/07/2020**\n",
    "\n"
   ]
  },
  {
   "cell_type": "code",
   "execution_count": 46,
   "metadata": {
    "colab": {
     "base_uri": "https://localhost:8080/",
     "height": 700
    },
    "colab_type": "code",
    "id": "jqrQ7heAaNU5",
    "outputId": "a8c9e634-4cdc-4998-fe40-5162c62fd921"
   },
   "outputs": [],
   "source": [
    "# we will use \n",
    "#dNews.head()"
   ]
  },
  {
   "cell_type": "markdown",
   "metadata": {},
   "source": [
    "# Select the Test & Train Data"
   ]
  },
  {
   "cell_type": "code",
   "execution_count": 47,
   "metadata": {
    "colab": {},
    "colab_type": "code",
    "id": "gKCK4WHha1XG"
   },
   "outputs": [
    {
     "data": {
      "text/plain": [
       "(1001,)"
      ]
     },
     "execution_count": 47,
     "metadata": {},
     "output_type": "execute_result"
    }
   ],
   "source": [
    "#. This should run on cleaned data, Note i have solely cleaned only row [0], we have to run the above code on all rows!!!!!!!\n",
    "#. So this code is solely is for a placeholder, after the data is fully cleaned, then we run this part...Alemi 04/07/2020\n",
    "X_train = dNews.loc[:1000,\"Top1\"].values\n",
    "X_train.shape"
   ]
  },
  {
   "cell_type": "code",
   "execution_count": 51,
   "metadata": {},
   "outputs": [
    {
     "ename": "NameError",
     "evalue": "name 'vectorizer' is not defined",
     "output_type": "error",
     "traceback": [
      "\u001b[0;31m---------------------------------------------------------------------------\u001b[0m",
      "\u001b[0;31mNameError\u001b[0m                                 Traceback (most recent call last)",
      "\u001b[0;32m<ipython-input-51-f77d93346cee>\u001b[0m in \u001b[0;36m<module>\u001b[0;34m\u001b[0m\n\u001b[0;32m----> 1\u001b[0;31m \u001b[0mX_train_tf\u001b[0m \u001b[0;34m=\u001b[0m\u001b[0mtfidf\u001b[0m\u001b[0;34m.\u001b[0m\u001b[0mfit_transform\u001b[0m\u001b[0;34m(\u001b[0m\u001b[0mvectorizer\u001b[0m\u001b[0;34m(\u001b[0m\u001b[0mX_train\u001b[0m\u001b[0;34m)\u001b[0m\u001b[0;34m)\u001b[0m\u001b[0;34m\u001b[0m\u001b[0;34m\u001b[0m\u001b[0m\n\u001b[0m\u001b[1;32m      2\u001b[0m \u001b[0mX_train_tf\u001b[0m\u001b[0;34m.\u001b[0m\u001b[0mshape\u001b[0m\u001b[0;34m\u001b[0m\u001b[0;34m\u001b[0m\u001b[0m\n",
      "\u001b[0;31mNameError\u001b[0m: name 'vectorizer' is not defined"
     ]
    }
   ],
   "source": [
    "X_train_tf =tfidf.fit_transform(vectorizer(X_train))\n",
    "X_train_tf.shape"
   ]
  },
  {
   "cell_type": "code",
   "execution_count": 49,
   "metadata": {
    "colab": {},
    "colab_type": "code",
    "id": "EAPswo-kcV_E"
   },
   "outputs": [
    {
     "data": {
      "text/plain": [
       "(1001,)"
      ]
     },
     "execution_count": 49,
     "metadata": {},
     "output_type": "execute_result"
    }
   ],
   "source": [
    "y_train= dNews.loc[:1000,\"Label\"].values\n",
    "y_train.shape"
   ]
  },
  {
   "cell_type": "code",
   "execution_count": 388,
   "metadata": {},
   "outputs": [],
   "source": [
    "#test = old_count_vectorizer.transform(test)\n",
    "#tfidf_data = old_tfidf_transformer.transform(test)"
   ]
  },
  {
   "cell_type": "code",
   "execution_count": 389,
   "metadata": {
    "colab": {},
    "colab_type": "code",
    "id": "uvXGXMnJdDuQ"
   },
   "outputs": [
    {
     "data": {
      "text/plain": [
       "(988,)"
      ]
     },
     "execution_count": 389,
     "metadata": {},
     "output_type": "execute_result"
    }
   ],
   "source": [
    "X_test = dNews.loc[1001:,\"Top1\"].values\n",
    "X_test.shape"
   ]
  },
  {
   "cell_type": "code",
   "execution_count": 390,
   "metadata": {},
   "outputs": [
    {
     "data": {
      "text/plain": [
       "(988, 5040)"
      ]
     },
     "execution_count": 390,
     "metadata": {},
     "output_type": "execute_result"
    }
   ],
   "source": [
    "X_test_tf =tfidf.transform(vectorizer.transform(X_test))\n",
    "X_test_tf.shape"
   ]
  },
  {
   "cell_type": "code",
   "execution_count": 391,
   "metadata": {
    "colab": {},
    "colab_type": "code",
    "id": "3cSh8K3SdNgJ"
   },
   "outputs": [
    {
     "data": {
      "text/plain": [
       "(988,)"
      ]
     },
     "execution_count": 391,
     "metadata": {},
     "output_type": "execute_result"
    }
   ],
   "source": [
    "y_test= dNews.loc[1001:,\"Label\"].values\n",
    "y_test.shape"
   ]
  },
  {
   "cell_type": "code",
   "execution_count": 392,
   "metadata": {},
   "outputs": [],
   "source": [
    "from sklearn.model_selection import train_test_split\n",
    "# X,y =  dNews.iloc[:, 2:].values, dNews.iloc[:, 1].values\n"
   ]
  },
  {
   "cell_type": "code",
   "execution_count": 393,
   "metadata": {},
   "outputs": [],
   "source": [
    "# X_train, X_test, y_train, y_test =\\\n",
    "#    train_test_split(X,y,test_size=0.3,random_state=0,stratify=y)"
   ]
  },
  {
   "cell_type": "markdown",
   "metadata": {},
   "source": [
    "# Imports from SkLearn"
   ]
  },
  {
   "cell_type": "code",
   "execution_count": 58,
   "metadata": {
    "colab": {},
    "colab_type": "code",
    "id": "XzaHmogAd7LR"
   },
   "outputs": [],
   "source": [
    "# like our class exercise we run the GridSearch to find the optimal set of parameters\n",
    "from sklearn.model_selection import GridSearchCV"
   ]
  },
  {
   "cell_type": "code",
   "execution_count": 59,
   "metadata": {
    "colab": {},
    "colab_type": "code",
    "id": "RdAJOwhPePcb"
   },
   "outputs": [],
   "source": [
    "from sklearn.pipeline import Pipeline"
   ]
  },
  {
   "cell_type": "code",
   "execution_count": 60,
   "metadata": {
    "colab": {},
    "colab_type": "code",
    "id": "yczMmIIBeb-8"
   },
   "outputs": [],
   "source": [
    "from sklearn.linear_model import LogisticRegression"
   ]
  },
  {
   "cell_type": "code",
   "execution_count": 61,
   "metadata": {
    "colab": {},
    "colab_type": "code",
    "id": "SLxx4aM_ei2w"
   },
   "outputs": [],
   "source": [
    "from sklearn.feature_extraction.text import TfidfVectorizer"
   ]
  },
  {
   "cell_type": "code",
   "execution_count": 62,
   "metadata": {
    "colab": {},
    "colab_type": "code",
    "id": "5VMepxqOerNs"
   },
   "outputs": [],
   "source": [
    "tfidf = TfidfVectorizer(strip_accents=None,lowercase=False,preprocessor=None)"
   ]
  },
  {
   "cell_type": "markdown",
   "metadata": {
    "colab_type": "text",
    "id": "MMYhXC2Y_A7D"
   },
   "source": [
    "# **Clean the Text Data**"
   ]
  },
  {
   "cell_type": "code",
   "execution_count": 63,
   "metadata": {
    "colab": {
     "base_uri": "https://localhost:8080/",
     "height": 221
    },
    "colab_type": "code",
    "id": "-z9UitYk_JqU",
    "outputId": "451cbe59-a496-4dd1-8f55-0bdc9823f863"
   },
   "outputs": [
    {
     "data": {
      "text/plain": [
       "0        georgia downs two russian warplanes as countr...\n",
       "1        why wont america and nato help us if they won...\n",
       "2        remember that adorable 9 year old who sang at...\n",
       "3        u s refuses israel weapons to attack iran rep...\n",
       "4        all the experts admit that we should legalise...\n",
       "                              ...                        \n",
       "1984    barclays and rbs shares suspended from trading...\n",
       "1985    2 500 scientists to australia if you want to s...\n",
       "1986                     explosion at airport in istanbul\n",
       "1987    jamaica proposes marijuana dispensers for tour...\n",
       "1988    a 117 year old woman in mexico city finally re...\n",
       "Name: Top1, Length: 1989, dtype: object"
      ]
     },
     "execution_count": 63,
     "metadata": {},
     "output_type": "execute_result"
    }
   ],
   "source": [
    "dNews['Top1']"
   ]
  },
  {
   "cell_type": "code",
   "execution_count": 64,
   "metadata": {
    "colab": {
     "base_uri": "https://localhost:8080/",
     "height": 68
    },
    "colab_type": "code",
    "id": "Bh6Glq_6_Jue",
    "outputId": "31ee0014-2584-4eee-c70b-4026a65e7e0d"
   },
   "outputs": [
    {
     "name": "stderr",
     "output_type": "stream",
     "text": [
      "[nltk_data] Downloading package stopwords to\n",
      "[nltk_data]     /Users/piruzalemi/nltk_data...\n",
      "[nltk_data]   Package stopwords is already up-to-date!\n"
     ]
    },
    {
     "data": {
      "text/plain": [
       "True"
      ]
     },
     "execution_count": 64,
     "metadata": {},
     "output_type": "execute_result"
    }
   ],
   "source": [
    "#import nltk\n",
    "nltk.download('stopwords')"
   ]
  },
  {
   "cell_type": "code",
   "execution_count": 65,
   "metadata": {
    "colab": {},
    "colab_type": "code",
    "id": "QO40oHNl_JyZ"
   },
   "outputs": [],
   "source": [
    "from nltk.corpus import stopwords"
   ]
  },
  {
   "cell_type": "code",
   "execution_count": 66,
   "metadata": {
    "colab": {},
    "colab_type": "code",
    "id": "ODgPjfQA_J2k"
   },
   "outputs": [],
   "source": [
    "stop=stopwords.words('english') + [None]"
   ]
  },
  {
   "cell_type": "code",
   "execution_count": 67,
   "metadata": {},
   "outputs": [
    {
     "data": {
      "text/plain": [
       "['georgia',\n",
       " 'down',\n",
       " 'two',\n",
       " 'russian',\n",
       " 'warplan',\n",
       " 'as',\n",
       " 'countri',\n",
       " 'move',\n",
       " 'to',\n",
       " 'brink',\n",
       " 'of',\n",
       " 'war']"
      ]
     },
     "execution_count": 67,
     "metadata": {},
     "output_type": "execute_result"
    }
   ],
   "source": [
    "tokenizer_porter(dNews['Top1'][0])"
   ]
  },
  {
   "cell_type": "code",
   "execution_count": 68,
   "metadata": {
    "colab": {
     "base_uri": "https://localhost:8080/",
     "height": 307
    },
    "colab_type": "code",
    "id": "XbB7gBBi_J-N",
    "outputId": "8c9c5689-b65e-4f31-fcb8-9257c31edddb"
   },
   "outputs": [
    {
     "data": {
      "text/plain": [
       "['georgia', 'two', 'russian', 'warplan', 'countri', 'move', 'brink', 'war']"
      ]
     },
     "execution_count": 68,
     "metadata": {},
     "output_type": "execute_result"
    }
   ],
   "source": [
    "[w for w in tokenizer_porter(dNews['Top1'][0]) if w not in stop]"
   ]
  },
  {
   "cell_type": "markdown",
   "metadata": {
    "colab_type": "text",
    "id": "YTipH0Qh4C05"
   },
   "source": [
    "# **Transforming words into feature vectors**"
   ]
  },
  {
   "cell_type": "code",
   "execution_count": 69,
   "metadata": {
    "colab": {},
    "colab_type": "code",
    "id": "fDIAp3Kz4QB9"
   },
   "outputs": [],
   "source": [
    "from sklearn.feature_extraction.text import CountVectorizer"
   ]
  },
  {
   "cell_type": "code",
   "execution_count": 70,
   "metadata": {},
   "outputs": [],
   "source": [
    "cv = CountVectorizer(stop_words='english')"
   ]
  },
  {
   "cell_type": "code",
   "execution_count": 71,
   "metadata": {
    "colab": {},
    "colab_type": "code",
    "id": "f9s8os4o4QPv"
   },
   "outputs": [],
   "source": [
    "#count=CountVectorizer"
   ]
  },
  {
   "cell_type": "code",
   "execution_count": 72,
   "metadata": {
    "colab": {},
    "colab_type": "code",
    "id": "Kj1C19054QZY"
   },
   "outputs": [],
   "source": [
    "#docs=np.array(dNews['Top1'])"
   ]
  },
  {
   "cell_type": "code",
   "execution_count": 73,
   "metadata": {
    "colab": {},
    "colab_type": "code",
    "id": "WO4jV_FV5hIP"
   },
   "outputs": [],
   "source": [
    "vectorizer = TfidfVectorizer(stop_words='english')"
   ]
  },
  {
   "cell_type": "markdown",
   "metadata": {},
   "source": [
    "### Bag of Words indices +  Vectorized + stop_words"
   ]
  },
  {
   "cell_type": "code",
   "execution_count": 74,
   "metadata": {},
   "outputs": [
    {
     "ename": "NameError",
     "evalue": "name 'X_test' is not defined",
     "output_type": "error",
     "traceback": [
      "\u001b[0;31m---------------------------------------------------------------------------\u001b[0m",
      "\u001b[0;31mNameError\u001b[0m                                 Traceback (most recent call last)",
      "\u001b[0;32m<ipython-input-74-de4ad2dde696>\u001b[0m in \u001b[0;36m<module>\u001b[0;34m\u001b[0m\n\u001b[1;32m      1\u001b[0m \u001b[0;31m# This is my bag of words based on the word count in the respective document, takes an array of texts and counts its words\u001b[0m\u001b[0;34m\u001b[0m\u001b[0;34m\u001b[0m\u001b[0;34m\u001b[0m\u001b[0m\n\u001b[0;32m----> 2\u001b[0;31m \u001b[0mbagX_test\u001b[0m\u001b[0;34m=\u001b[0m\u001b[0mvectorizer\u001b[0m\u001b[0;34m.\u001b[0m\u001b[0mfit_transform\u001b[0m\u001b[0;34m(\u001b[0m\u001b[0mX_test\u001b[0m\u001b[0;34m)\u001b[0m\u001b[0;34m\u001b[0m\u001b[0;34m\u001b[0m\u001b[0m\n\u001b[0m\u001b[1;32m      3\u001b[0m \u001b[0mprint\u001b[0m\u001b[0;34m(\u001b[0m\u001b[0mvectorizer\u001b[0m\u001b[0;34m.\u001b[0m\u001b[0mvocabulary_\u001b[0m\u001b[0;34m)\u001b[0m\u001b[0;34m\u001b[0m\u001b[0;34m\u001b[0m\u001b[0m\n",
      "\u001b[0;31mNameError\u001b[0m: name 'X_test' is not defined"
     ]
    }
   ],
   "source": [
    "# This is my bag of words based on the word count in the respective document, takes an array of texts and counts its words\n",
    "bagX_test=vectorizer.fit_transform(X_test)\n",
    "print(vectorizer.vocabulary_)\n"
   ]
  },
  {
   "cell_type": "code",
   "execution_count": 75,
   "metadata": {},
   "outputs": [
    {
     "name": "stdout",
     "output_type": "stream",
     "text": [
      "{'georgia': 1907, 'downs': 1439, 'russian': 3759, 'warplanes': 4654, 'countries': 1092, 'brink': 671, 'war': 4647, 'wont': 4748, 'america': 284, 'nato': 2914, 'help': 2067, 'did': 1336, 'iraq': 2343, 'remember': 3617, 'adorable': 205, 'year': 4784, 'old': 3023, 'sang': 3790, 'opening': 3034, 'ceremonies': 834, 'fake': 1679, 'refuses': 3583, 'israel': 2358, 'weapons': 4682, 'attack': 400, 'iran': 2340, 'report': 3639, 'experts': 1636, 'admit': 201, 'legalise': 2536, 'drugs': 1464, 'mom': 2837, 'missing': 2820, 'gay': 1894, 'man': 2693, 'bad': 453, '21': 61, 'cheerleader': 857, 'looking': 2632, 'afghan': 221, 'prison': 3364, 'majority': 2678, 'female': 1722, 'prisoners': 3366, 'serving': 3897, '20': 49, 'sentences': 3886, 'victims': 4585, 'rape': 3510, 'arrested': 361, 'locked': 2618, 'hours': 2145, 'taking': 4266, 'photo': 3210, 'police': 3281, 'van': 4564, 'ignoring': 2188, 'entry': 1567, 'sign': 3960, 'elderly': 1516, 'chinese': 869, 'women': 4744, 'sentenced': 3885, 'education': 1502, 'labor': 2476, 'sought': 4040, 'permit': 3190, 'demonstrate': 1285, 'official': 3015, 'olympic': 3026, 'protest': 3420, 'area': 342, 'british': 674, 'resident': 3662, 'held': 2061, 'guantanamo': 1990, 'bay': 494, 'wins': 4731, 'legal': 2535, 'battle': 493, 'force': 1809, 'foreign': 1813, 'office': 3012, 'reveal': 3690, 'torture': 4390, 'evidence': 1601, 'syria': 4253, 'says': 3809, 'ready': 3534, 'missile': 2819, 'soil': 4022, 'counterweight': 1091, 'plans': 3257, 'deploy': 1300, 'shield': 3924, 'poland': 3280, 'czech': 1175, 'republic': 3649, 'korea': 2465, 'kim': 2452, 'died': 1340, '2003': 52, 'replaced': 3636, 'lookalike': 2631, 'waseda': 4661, 'professor': 3384, 'north': 2963, 'halts': 2014, 'denuclearisation': 1296, 'fails': 1677, 'remove': 3621, 'list': 2599, 'states': 4120, 'sponsoring': 4078, 'terrorism': 4321, 'photos': 3216, '15': 21, 'iraqi': 2344, 'suicide': 4196, 'bomber': 604, 'gave': 1893, 'military': 2794, 'declaration': 1235, 'moscow': 2858, 'prime': 3360, 'minister': 2807, 'vladimir': 4619, 'putin': 3464, 'accused': 171, 'provoking': 3436, 'conflict': 1018, 'possibly': 3306, 'domestic': 1419, 'election': 1518, 'purposes': 3459, 'girl': 1919, 'filmed': 1749, 'israeli': 2359, 'soldiers': 4026, 'brutality': 690, 'family': 1689, 'victim': 4584, 'revenge': 3695, 'attacks': 402, 'legalization': 2537, 'marijuana': 2710, 'majour': 2679, 'steps': 4129, 'right': 3712, 'direction': 1358, 'security': 3861, 'guards': 1993, 'beat': 504, 'soccer': 4017, 'football': 1805, 'game': 1883, 'fans': 1694, 'players': 3264, 'charge': 848, 'field': 1731, 'jordan': 2402, 'honor': 2122, 'killings': 2450, 'murdered': 2886, 'reasons': 3539, 'caught': 807, 'guilty': 1996, 'claim': 900, 'killing': 2449, 'obtain': 2996, 'lenient': 2546, 'sentencing': 3887, 'french': 1845, 'judge': 2410, 'ordered': 3054, 'branches': 642, 'scientologists': 3835, 'leaders': 2517, 'stand': 4106, 'trial': 4429, 'fraud': 1839, 'love': 2646, 'world': 4755, 'thai': 4331, 'samak': 3785, 'sundaravej': 4201, 'forced': 1810, 'resign': 3664, 'court': 1098, 'said': 3774, 'violated': 4604, 'constitution': 1036, 'hosting': 2139, 'cooking': 1063, 'seriously': 3891, 'dutch': 1469, 'ban': 464, 'burkas': 712, 'picking': 3223, 'children': 864, 'school': 3826, 'american': 285, 'intelligence': 2302, 'confirms': 1016, 'latest': 2499, 'actions': 185, 'south': 4044, 'ossetia': 3069, 'started': 4114, 'russias': 3761, 'position': 3303, 'correct': 1078, 'opec': 3031, 'finished': 1765, 'saudi': 3798, 'arabia': 338, 'later': 2498, 'saakashvili': 3763, 'lie': 2570, 'west': 4700, 'begins': 512, 'doubt': 1432, 'georgian': 1908, 'leader': 2516, 'pakistani': 3109, 'tribesmen': 4431, 'representing': 3647, 'half': 2013, 'million': 2797, 'people': 3180, 'vowed': 4632, 'switch': 4247, 'sides': 3956, 'amp': 292, 'join': 2396, 'taliban': 4267, 'americans': 286, 'don': 1420, 'stop': 4140, 'raids': 3492, 'pakistan': 3108, 'embassy': 1531, 'yemen': 4787, 'leaves': 2528, '16': 24, 'dead': 1212, '200': 50, 'babies': 445, 'sick': 3955, 'milk': 2796, 'scandal': 3812, 'spreading': 4086, 'brits': 675, 'short': 3944, 'selling': 3872, 'financial': 1756, 'stocks': 4133, 'navy': 2917, 'sails': 3777, 'venezuela': 4574, '13': 16, 'billion': 550, 'money': 2841, 'allocated': 268, 'reconstruction': 3558, 'projects': 3396, 'wasted': 4668, 'stolen': 4135, 'ending': 1548, 'al': 257, 'qaedas': 3472, 'coffers': 938, 'empire': 1537, 'near': 2921, 'collapse': 940, 'woman': 4743, 'red': 3565, 'handed': 2022, 'drinking': 1453, 'orange': 3051, 'juice': 2412, 'dubai': 1465, 'japanese': 2379, 'space': 4050, 'tourist': 4397, 'paid': 3103, 'adventures': 211, '21m': 63, 'iss': 2362, 'bumped': 706, 'sent': 3883, 'investors': 2333, 'instead': 2289, 'kept': 2432, 'power': 3320, 'nightmares': 2954, 'bbc': 496, 'gorbachev': 1944, 'forms': 1822, 'new': 2937, 'party': 3140, 'opposing': 3047, 'fucking': 1857, 'hell': 2063, 'great': 1966, 'britain': 673, '2008': 54, 've': 4568, 'soweto': 4049, 'seen': 3866, 'aids': 246, 'orphans': 3065, 'eating': 1486, 'better': 540, 'mexican': 2783, 'farm': 1696, 'dies': 1341, 'lighting': 2580, 'strikes': 4159, 'kill': 2446, 'iceland': 2173, 'sept': 3888, '08': 3, 'best': 536, 'country': 1093, 'live': 2608, '07': 2, 'oct': 3005, 'food': 1802, 'hoarding': 2095, 'currency': 1164, 'rated': 3516, 'just': 2419, 'zimbabwe': 4804, 'russia': 3758, 'won': 4745, 'buy': 725, 'version': 4576, 'fine': 1759, '11': 12, 'modern': 2831, 'slavery': 3997, 'bush': 722, 'administration': 199, 'month': 2846, 'quietly': 3481, 'cutting': 1172, 'birth': 556, 'control': 1058, 'supplies': 4207, 'worlds': 4756, 'poorest': 3293, 'africa': 224, 'icelandic': 2174, 'isk': 2349, 'loses': 2637, '73': 121, 'value': 4562, 'single': 3975, 'day': 1207, 'yesterday': 4791, 'usd': 4547, '92': 139, 'today': 4371, '418': 95, 'eu': 1588, 'bans': 478, 'incandescent': 2222, 'light': 2578, 'bul': 699, 'lawyer': 2511, 'defended': 1256, 'journalists': 2407, 'poisoned': 3278, 'france': 1835, 'behalf': 514, '64': 115, 'canadians': 761, 'vote': 4628, 'conservative': 1026, 'government': 1950, 'apologize': 317, 'weeks': 4693, 'podium': 3275, 'coke': 939, 'dealers': 1217, 'badass': 454, 'house': 2146, 'private': 3368, 'zoo': 4806, 'freedoms': 1842, 'threat': 4348, 'big': 544, 'brother': 684, 'state': 4118, 'warns': 4653, 'director': 1361, 'public': 3439, 'prosecutions': 3413, 'falls': 1685, '119th': 13, '160': 25, 'ranked': 3509, 'press': 3346, 'outside': 3082, 'territory': 4319, 'reporters': 3643, 'borders': 618, 'argentina': 344, 'nationalizes': 2911, 'pensions': 3178, 'acknowledges': 178, 'enormous': 1557, 'error': 1579, 'takes': 4265, 'action': 184, 'protect': 3418, 'workers': 4752, 'retirees': 3686, 'banks': 474, 'formally': 1821, 'renews': 3628, 'ties': 4361, 'cuba': 1152, 'rampant': 3504, 'committed': 969, 'crimes': 1126, 'finnish': 1768, 'voting': 4631, 'votes': 4630, 'paper': 3117, 'trail': 4409, 'know': 2460, 'got': 1947, 'worry': 4759, 'wanted': 4645, 'shine': 3928, 'australian': 418, 'friends': 1849, 'potential': 3314, 'internet': 2314, 'filter': 1751, 'problem': 3373, 'let': 2551, 'spotlight': 4081, 'reply': 3638, 'ends': 1550, 'bilingual': 548, 'road': 3728, 'wales': 4639, 'ask': 373, 'camera': 748, 'license': 2567, 'mp': 2870, 'receive': 3545, 'copy': 1069, 'orwell': 3067, 'nineteen': 2955, 'eighty': 1513, 'kenya': 2430, 'declares': 1237, 'holiday': 2102, 'obama': 2990, 'london': 2624, 'smokers': 4009, 'banned': 475, 'fostering': 1826, 'wait': 4637, 'id': 2175, 'cards': 780, 'wtf': 4773, 'indifferent': 2241, 'scheme': 3822, 'actually': 190, 'want': 4644, 'card': 779, 'uk': 4482, 'asks': 375, 'media': 2749, 'release': 3605, 'iaea': 2171, 'documents': 1411, 'linking': 2595, 'nuclear': 2979, 'push': 3461, 'fabricated': 1664, 'sudan': 4184, 'president': 3344, 'announced': 303, 'immediate': 2202, 'ceasefire': 815, 'darfur': 1193, 'stupid': 4174, 'believing': 524, 'witchcraft': 4737, 'work': 4751, 'harder': 2034, 'recoup': 3563, 'note': 2970, 'left': 2533, 'pyramid': 3468, 'operators': 3038, 'taunt': 4283, 'angry': 298, 'good': 1942, 'going': 1939, 'hang': 2026, 'balls': 463, 'hanged': 2027, 'saddam': 3770, 'hussein': 2168, 'sarkozy': 3793, 'yes': 4790, 'end': 1545, 'like': 2583, 'point': 3276, 'haitians': 2011, 'desperate': 1312, 'mothers': 2860, 'newborns': 2938, 'infants': 2260, 'die': 1339, 'malnourishment': 2692, 'india': 2238, 'sinks': 3979, 'somali': 4031, 'pirate': 3242, 'ship': 3929, 'ignored': 2187, 'g20': 1870, 'meeting': 2756, 'denmark': 1295, 'considers': 1031, 'outlawing': 3077, 'male': 2688, 'circumcision': 886, 'minors': 2811, 'swiss': 4246, 'army': 358, 'vegetarians': 4570, 'fighting': 1737, 'boycott': 634, 'tasers': 4282, 'cause': 808, 'fear': 1711, 'damage': 1181, 'confidence': 1014, 'rip': 3719, 'brenden': 658, 'foster': 1825, 'wish': 4736, 'feed': 1717, 'homeless': 2108, 'updates': 4533, 'mumbai': 2884, 'blasts': 576, 'photographer': 3213, 'gun': 1999, 'armed': 352, 'make': 2680, 'offence': 3006, 'punishable': 3450, 'years': 4785, 'imprisonment': 2218, 'publish': 3441, 'elicit': 1524, 'information': 2267, 'constable': 1035, 'brazil': 645, 'announces': 304, 'plan': 3253, 'slow': 4002, 'amazon': 280, 'deforestation': 1265, '70': 119, 'fell': 1720, 'assassin': 382, 'canadian': 760, 'conservatives': 1027, 'suspend': 4230, 'parliament': 3129, 'avoid': 432, 'facing': 1672, 'non': 2960, 'false': 1686, 'flag': 1784, 'men': 2768, 'illegally': 2193, 'buying': 726, 'mobile': 2829, 'phone': 3207, 'used': 4549, 'gunmen': 2000, 'counter': 1087, 'insurgency': 2296, 'officer': 3013, 'gets': 1911, 'kiss': 2456, 'deaf': 1215, 'canada': 759, 'wal': 4638, 'mart': 2721, 'tries': 4433, 'prevent': 3349, 'employee': 1538, 'unionization': 4516, 'supreme': 4215, 'escapee': 1581, 'tells': 4307, 'horrors': 2132, 'korean': 2466, 'camp': 752, 'unrest': 4528, 'gripped': 1979, 'greece': 1969, 'spilling': 4073, 'rest': 3675, 'europe': 1591, 'raising': 3497, 'concerns': 1000, 'clashes': 906, 'trigger': 4434, 'opponents': 3042, 'globalization': 1931, 'disaffected': 1364, 'youth': 4797, 'mugabe': 2877, 'arrest': 360, 'charges': 850, 'jaw': 2382, 'dropped': 1459, 'face': 1666, 'contorted': 1054, 'turks': 4463, 'armenian': 353, 'massacres': 2726, 'shoe': 3936, 'thrower': 4353, 'faces': 1668, '7yrs': 127, 'offending': 3008, 'head': 2047, 'applauds': 327, 'ing': 2271, 'uses': 4552, 'molotov': 2836, 'cocktails': 935, 'fight': 1735, 'pirates': 3244, 'scientist': 3832, 'repeat': 3632, '1962': 37, 'milgram': 2793, 'test': 4325, '80': 128, 'told': 4372, 'authority': 423, 'figure': 1739, 'learned': 2523, 'threatened': 4349, 'anti': 310, 'act': 181, 'videoing': 4589, 'performing': 3187, 'search': 3849, 'express': 1647, '39': 90, 'capital': 771, 'discover': 1373, 'lets': 2552, 'intrest': 2321, 'rate': 3515, '22': 64, '99': 144, 'compounded': 990, 'monthly': 2847, 'late': 2497, 'fee': 1716, 'earth': 1479, 'city': 894, 'shipbreakers': 3930, '120': 15, 'reportedly': 3641, 'killed': 2447, 'gaza': 1896, 'entire': 1564, 'apt': 336, 'building': 696, 'civilians': 897, 'union': 4515, 'activist': 187, 'eye': 1660, 'acid': 176, 'supporters': 4210, 'blockade': 580, 'company': 979, 'riot': 3715, 'run': 3751, 'leaving': 2529, 'shields': 3925, 'helmets': 2066, 'shoes': 3937, 'pleads': 3266, 'acting': 183, 'spy': 4089, 'australia': 417, 'request': 3652, 'detainees': 1322, 'palestine': 3111, 'stands': 4108, 'soldier': 4025, 'true': 4446, 'lied': 2571, 'vatican': 4567, 'giant': 1916, 'concentration': 996, 'time': 4365, 'video': 4588, 'didn': 1337, 'hinders': 2085, 'arms': 357, 'delivery': 1275, 'headquarters': 2048, 'hit': 2090, 'white': 4709, 'phosphorus': 3209, 'shells': 3921, 'reveals': 3693, 'worst': 4761, 'sins': 3980, 'desecrating': 1306, 'eucharist': 1589, 'outranks': 3081, 'genocide': 1905, 'farmers': 1698, 'beginning': 511, 'feel': 1718, 'sting': 4132, 'worldwide': 4757, 'officers': 3014, 'warned': 4651, 'traveling': 4421, 'danger': 1186, 'huh': 2156, 'nytimes': 2988, 'publishes': 3443, 'op': 3030, 'ed': 1496, 'libyan': 2566, 'muammar': 2874, 'qaddafi': 3470, 'strangely': 4149, 'makes': 2683, 'sense': 3880, 'solution': 4029, 'bailout': 459, 'russians': 3760, 'cheaper': 854, 'vodka': 4620, 'cut': 1170, 'alcohol': 260, 'taxes': 4285, 'ease': 1481, 'citizens': 893, 'pain': 3104, 'human': 2157, 'rights': 3713, 'richard': 3706, 'falk': 1681, 'jewish': 2388, 'evokes': 1603, 'memories': 2767, 'warsaw': 4659, 'ghetto': 1913, 'dismisses': 1386, 'argument': 348, 'assault': 385, 'self': 3870, 'defense': 1258, 'labels': 2475, 'hater': 2044, 'david': 1204, 'attenborough': 406, 'creationist': 1118, 'hate': 2043, 'mail': 2672, 'crediting': 1121, 'god': 1936, 'dear': 1220, 'reddit': 3567, 'attention': 409, 'humanitarian': 2158, 'crisis': 1133, 'democratic': 1282, 'congo': 1019, 'taken': 4264, 'lives': 2610, '1998': 45, 'continue': 1051, 'leave': 2527, '45': 101, '000': 0, 'deep': 1247, 'doo': 1427, 'picture': 3225, 'students': 4169, 'bombings': 606, 'mention': 2770, 'names': 2904, 'ages': 231, 'anymore': 313, 'blame': 569, 'protester': 3422, 'thrown': 4354, 'wen': 4697, 'jiabao': 2390, 'speech': 4065, 'cambridge': 746, 'university': 4522, 'called': 741, 'dictator': 1334, 'admits': 202, 'peace': 3166, 'doctor': 1405, 'daughters': 1203, 'tank': 4274, 'claims': 903, 'reasonable': 3538, 'shocked': 3934, 'moral': 2850, 'girls': 1920, 'pu': 3438, 'lords': 2635, 'surveillance': 4223, 'greatest': 1968, 'democracy': 1281, 'hitler': 2092, 'shortly': 3945, 'fires': 1770, 'pregnant': 3336, 'gang': 1884, '100': 5, 'lashes': 2496, 'committing': 971, 'adultery': 209, 'christians': 878, 'jerusalem': 2387, 'jews': 2389, 'spitting': 4075, 'teenage': 4298, 'thief': 4338, 'picked': 3222, 'wrong': 4770, 'tried': 4432, 'bag': 455, 'belonging': 526, 'pensioner': 3176, 'jean': 2384, 'hirst': 2087, 'championship': 839, 'sprinter': 4088, 'dude': 1467, 'send': 3876, 'veterans': 4580, 'hunt': 2164, 'win': 4727, 'wasn': 4666, 'godly': 1937, 'sniper': 4013, 'shot': 3946, 'running': 3753, 'trees': 4427, 'smoke': 4008, 'mexico': 2785, 'discovered': 1374, 'oil': 3021, 'times': 4367, 'present': 3341, 'known': 2462, 'reserves': 3660, 'saudis': 3799, 'goes': 1938, 'electric': 1521, 'vehicle': 4571, 'progress': 3392, 'extremists': 1659, 'criminalising': 1128, 'legitimate': 2544, 'dissent': 1390, 'guise': 1997, 'extremism': 1657, 'word': 4749, 'definition': 1264, 'seized': 3869, '425': 97, 'acres': 180, 'palestinian': 3112, 'land': 2487, 'build': 695, 'settlement': 3901, '2500': 71, 'homes': 2112, 'interested': 2308, 'graph': 1962, 'historic': 2088, 'collapses': 941, 'puts': 3465, 'current': 1165, 'perspective': 3198, 'legalize': 2538, 'ammiano': 288, 'introduce': 2322, 'legislation': 2543, 'monday': 2840, 'allow': 269, 'pot': 3312, 'tax': 4284, 'bono': 612, 'african': 225, 'aid': 244, 'survives': 4226, '10': 4, 'days': 1209, 'ski': 3986, 'mountain': 2863, 'spouse': 4083, 'rescue': 3657, 'teams': 4293, 'began': 509, 'ground': 1981, 'searches': 3850, 'tuesday': 4455, 'despite': 1313, 'helicopter': 2062, 'pilots': 3235, 'twice': 4470, 'reporting': 3644, 'saw': 3806, 'sos': 4039, 'symbol': 4250, 'carved': 791, 'snow': 4016, 'blocks': 583, 'pasta': 3152, 'shipment': 3931, 'piece': 3227, 'macaroni': 2664, 'united': 4519, 'decided': 1231, 'upcoming': 4532, 'conference': 1012, 'racism': 3485, 'unless': 4524, 'final': 1753, 'document': 1407, 'changed': 842, 'drop': 1458, 'references': 3575, 'night': 2953, 'asteroid': 393, 'ago': 234, 'size': 3985, 'story': 4146, 'moving': 2869, '12': 14, 'miles': 2792, 'second': 3852, 'buzzed': 728, 'pass': 3141, 'distance': 1393, 'moon': 2849, 'luck': 2654, 'bigoted': 547, 'parents': 3125, 'disabled': 1363, 'telly': 4308, 'say': 3807, 'mandatory': 2699, 'jail': 2371, 'terms': 4315, 'economist': 1489, 'disaster': 1368, 'policy': 3284, 'jong': 2401, 'il': 2191, 'news': 2940, 'koreans': 2467, 'camps': 756, 'net': 2929, 'neutrality': 2935, 'guys': 2002, 'mps': 2871, 'jailed': 2372, 'offensive': 3009, 'hamas': 2017, 'ruled': 3747, 'strip': 4161, '434': 98, 'including': 2227, '960': 142, '239': 67, '235': 66, 'fighters': 1736, 'ara': 337, 'wailing': 4636, 'stricken': 4155, 'graphic': 1963, 'shooting': 3939, '37': 88, 'californian': 740, 'nonviolent': 2961, 'protests': 3425, 'hello': 2064, 'wikileaks': 4719, 'huge': 2154, 'bank': 469, 'gags': 1877, 'newspaper': 2941, 'revealing': 3692, 'multi': 2880, 'pound': 3316, 'rort': 3737, 'adds': 197, 'website': 4688, 'scenes': 3820, 'recession': 3551, 'crowded': 1145, 'civilian': 896, 'sorts': 4038, 'away': 440, 'terrified': 4317, 'pic': 3219, 'tshirt': 4453, 'way': 4678, 'doesnt': 1414, 'ironic': 2348, 'thousands': 4347, 'cctv': 813, 'cameras': 750, 'shut': 3952, 'google': 1943, 'street': 4153, 'view': 4593, 'privacy': 3367, 'china': 868, 'youtube': 4798, 'drug': 1462, 'pics': 3224, 'defamation': 1251, 'religion': 3611, 'violation': 4606, 'machine': 2665, 'overdrive': 3085, 'shoot': 3938, 'kids': 2444, 'went': 4698, 'warning': 4652, 'shots': 3947, 'exaggerated': 1607, 'does': 1412, 'think': 4341, 'anybody': 312, 'buys': 727, 'crap': 1110, 'western': 4701, 'censorship': 825, 'll': 2614, 'morbidly': 2852, 'absurd': 154, 'prosecution': 3412, 'child': 863, 'pornography': 3301, 'laws': 2509, 'possible': 3305, 'palin': 3114, 'spaniards': 4052, 'grateful': 1964, 'reilly': 3600, 'promising': 3399, 'visit': 4615, 'spain': 4051, 'mideastern': 2790, 'nation': 2909, 'photoshops': 3217, 'photograph': 3211, 'cabinet': 731, 'dark': 1194, 'calderon': 738, 'impossible': 2216, 'tons': 4380, 'complicity': 987, 'authorities': 422, 'protesters': 3423, 'tibet': 4359, 'death': 1222, 'film': 1748, 'maker': 2681, 'sir': 3981, 'patron': 3159, 'group': 1982, 'seeking': 3864, 'growth': 1987, 'population': 3298, 'overfishing': 3086, 'wipe': 4733, 'bluefin': 590, 'tuna': 4456, 'wwf': 4775, 'monsanto': 2845, 'uprooted': 4538, 'germany': 1910, 'cultivation': 1155, 'gm': 1934, 'corn': 1073, 'deleting': 1272, 'tourists': 4398, 'photographing': 3214, 'transport': 4417, 'strictly': 4157, 'forbidden': 1807, 'poll': 3289, '60': 110, 'swedes': 4242, 'showed': 3949, '89': 135, 'cent': 827, 'believed': 523, 'founders': 1830, 'acquitted': 179, 'decides': 1232, 'museum': 2893, 'tolerance': 4374, 'atop': 398, 'muslim': 2895, 'cemetery': 822, 'redditors': 3568, 'awarded': 437, 'homo': 2115, 'heroes': 2071, 'fm': 1798, 'believe': 522, 'accepts': 161, 'decisions': 1234, 'admin': 198, 'forth': 1823, 'initiatives': 2276, 'wants': 4646, 'decide': 1230, '19': 29, 'coward': 1103, 'tent': 4311, 'handcuff': 2020, 'hold': 2098, 'indecently': 2235, 'scene': 3819, 'setting': 3899, 'afghanistan': 222, 'need': 2924, 'understand': 4500, 'waterboarding': 4672, 'outbreak': 3072, 'swine': 4245, 'flu': 1795, 'renamed': 3625, 'influenza': 2265, 'deference': 1259, 'sensitivities': 3882, 'pork': 3299, 'health': 2050, 'muslims': 2896, 'dont': 1426, 'care': 781, 'doesn': 1413, 'speak': 4058, 'everybody': 1598, 'talking': 4269, 'personal': 3197, 'use': 4548, 'breaking': 651, 'royal': 3742, 'car': 777, 'bus': 721, 'high': 2080, 'speed': 4067, 'hits': 2093, 'remarkable': 3615, 'thing': 4339, 'happened': 2029, 'week': 4691, '400': 93, 'fellow': 1721, 'wearing': 4684, 'black': 563, 'solidarity': 4027, 'carrying': 787, 'signs': 3965, 'support': 4209, 'walked': 4641, 'keswick': 2433, 'rally': 3500, 'consider': 1028, 'banning': 477, 'marriage': 2717, '18': 28, 'brazilian': 646, 'cattle': 805, 'ranching': 3506, 'permission': 3189, 'paraguayan': 3120, 'destroy': 1314, 'forest': 1815, 'ayoreo': 444, 'totobiegosode': 4394, 'indians': 2240, 'uncontacted': 4493, 'tribes': 4430, 'biggest': 546, 'sweden': 4241, 'membership': 2765, 'count': 1086, 'tm': 4369, 'shoots': 3940, 'peaceful': 3167, 'protestor': 3424, 'blank': 572, 'idf': 2180, 'intentionally': 2305, 'target': 4278, 'eric': 1578, 'arthur': 365, 'blair': 568, 'aka': 256, 'george': 1906, 'proud': 3426, 'thought': 4345, 'muscle': 2892, 'passes': 3146, 'law': 2508, 'making': 2684, 'illegal': 2192, 'shia': 3923, 'refuse': 3581, 'sex': 3908, 'husband': 2166, 'custody': 1168, 'wonder': 4746, 'doubting': 1433, 'sacrifice': 3768, 'worth': 4762, 'piratebay': 3243, 'launches': 2504, 'wonderful': 4747, 'dimes': 1350, 'swedish': 4243, 'freeze': 1844, 'accounts': 169, 'admins': 200, 'alvaro': 277, 'colom': 948, 'unsung': 4529, 'hero': 2070, 'reason': 3537, 'bulbs': 700, 'moat': 2828, 'cleaning': 912, 'campaigning': 754, 'journalist': 2406, 'heather': 2056, 'brooke': 682, 'spent': 4068, 'tooth': 4383, 'nail': 2900, 'come': 960, 'clean': 911, 'expenses': 1632, 'tamil': 4272, 'tiger': 4362, 'rebels': 3543, 'velupillai': 4573, 'prabhakaran': 3325, 'belgian': 520, 'bodybuilding': 599, 'canceled': 763, 'doping': 1429, 'officials': 3017, 'competitors': 982, 'fled': 1786, 'endemic': 1547, 'abuse': 155, 'irish': 2347, 'catholic': 804, 'inquiry': 2280, 'finds': 1758, 'nigerian': 2951, 'hundreds': 2162, 'maybe': 2738, 'rich': 3705, 'niger': 2950, 'delta': 1276, 'received': 3546, 'little': 2606, 'international': 2312, 'tiananmen': 4358, 'anniversary': 301, 'unimportant': 4513, 'european': 1592, 'shock': 3933, 'politicians': 3288, 'digital': 1346, 'illiterates': 2195, 'fuck': 1855, 'strike': 4158, 'longer': 2628, 'bound': 629, '1953': 35, 'armistice': 355, 'immigrant': 2206, 'cracks': 1109, 'centuries': 831, 'mathematical': 2733, 'puzzle': 3467, 'hidden': 2077, 'massacre': 2725, 'throes': 4351, 'sri': 4094, 'lankan': 2491, 'civil': 895, 'result': 3681, 'shelling': 3920, 'air': 250, 'aircraft': 251, '215': 62, 'disappeared': 1366, 'radar': 3487, 'atlantic': 396, 'ocean': 3003, 'jaqui': 2381, 'smith': 4007, 'finally': 1754, 'small': 4006, 'respite': 3670, 'breathes': 654, 'sigh': 3958, 'relief': 3610, 'june': 2416, '4th': 104, '1989': 41, 'carradine': 785, 'bangkok': 467, 'dearlove': 1221, 'concerned': 999, 'loss': 2639, 'liberties': 2562, 'mi6': 2788, 'striking': 4160, 'disturbing': 1397, 'invasions': 2327, 'enters': 1562, 'torre': 4388, 'cnn': 928, 'teaching': 4290, 'spot': 4080, 'terrorists': 4323, 'olds': 3025, 'urges': 4545, 'tell': 4305, 'teacher': 4289, 'hear': 2052, 'expressing': 1648, 'extremist': 1658, 'views': 4595, 'frank': 1837, 'mcgarahan': 2743, 'beaten': 505, 'stepped': 4127, 'courage': 1097, 'life': 2572, 'darkness': 1195, 'berlusconi': 532, 'decree': 1241, 'wiretapping': 4735, 'justice': 2420, 'freedom': 1841, 'blogs': 584, 'italy': 2366, 'asleep': 376, 'tv': 4468, 'pictures': 3226, 'tehran': 4300, 'delivered': 1274, 'stark': 4112, 'reminder': 3619, 'backward': 451, 'medieval': 2754, 'fanatics': 1693, 'thirds': 4343, '30': 79, 'interests': 2309, 'aspirations': 378, 'counterparts': 1089, 'yall': 4781, 'wanna': 4643, 'feminism': 1723, 'patriotism': 3157, 'iranian': 2341, 'leaked': 2519, 'real': 3535, 'results': 3682, 'interior': 2311, 'ministry': 2809, 'ones': 3028, 'showing': 3950, 'ahmadinejad': 242, 'coming': 962, 'suspicious': 4232, 'accident': 163, '00am': 1, 'posting': 3310, 'vancouver': 4565, 'site': 3982, '2010': 56, 'winter': 4732, 'olympics': 3027, 'seize': 3868, 'warrant': 4655, 'issued': 2364, 'mistaken': 2821, 'grabbed': 1954, 'pinned': 3237, 'arm': 350, 'led': 2531, 'bowels': 632, 'identification': 2177, 'basij': 490, 'bring': 668, 'urgent': 4544, 'basiji': 491, 'footballers': 1806, 'wore': 4750, 'green': 1973, 'armbands': 351, 'retire': 3685, 'hardline': 2035, 'regime': 3587, 'unimaginable': 4512, 'horror': 2131, 'screw': 3845, 'honduras': 2120, 'coup': 1095, 'currently': 1166, 'holding': 2100, 'gtfo': 1989, 'happy': 2031, 'scientology': 3836, 'viral': 4611, 'marketing': 2716, 'uganda': 4478, 'outlaw': 3076, 'friend': 1847, 'email': 1529, 'videos': 4590, 'firing': 1774, 'uploaded': 4536, 'eyewitness': 1662, 'account': 167, 'disappear': 1365, 'falsely': 1687, 'cried': 1124, 'town': 4401, 'sale': 3780, 'bottled': 625, 'water': 4671, 'community': 977, 'ireland': 2345, 'blasphemy': 574, 'passed': 3143, 'wednesday': 4690, '25': 69, 'euro': 1590, 'enter': 1560, 'confiscate': 1017, 'blasphemous': 573, 'materials': 2732, 'books': 615, 'artwork': 370, 'cartoons': 790, 'mohammed': 2833, 'book': 614, 'burnings': 716, 'wars': 4658, 'break': 649, 'bhopal': 541, 'pop': 3294, 'rationed': 3519, 'minutes': 2813, 'supply': 4208, 'indore': 2251, 'hour': 2144, 'seven': 3905, 'line': 2591, 'melting': 2762, 'alps': 275, 'contaminated': 1045, '1984': 39, 'catastrophe': 802, 'scared': 3818, 'dow': 1434, 'chemical': 858, 'management': 2695, 'team': 4291, 'hiding': 2079, 'earthquake': 1480, 'm7': 2663, 'coast': 931, 'island': 2353, 'zealand': 4801, 'tsunami': 4454, 'professional': 3383, 'snipers': 4014, 'brought': 686, 'guard': 1991, 'vulnerable': 4635, 'colony': 953, 'penguins': 3175, 'troops': 4443, 'contractors': 1057, 'caused': 809, 'substantial': 4178, 'archeological': 341, 'babylon': 447, 'considered': 1029, 'civilizations': 898, 'fsm': 1853, 'terrible': 4316, 'sad': 3769, 'mum': 2883, 'hard': 2033, 'read': 3533, 'cell': 819, 'ad': 191, 'shows': 3951, 'friendly': 1848, 'wall': 4642, 'palestinians': 3113, 'kick': 2437, 'ball': 462, 'salvo': 3784, 'tear': 4294, 'gas': 1889, 'grenades': 1976, 'fired': 1769, 'return': 3687, 'includes': 2226, 'lol': 2623, 'jersey': 2386, 'mayors': 2740, 'rabbis': 3483, 'involvement': 2336, 'laundering': 2505, 'conspiracy': 1034, '26': 74, 'documentary': 1409, 'footage': 1804, 'fool': 1803, 'trips': 4440, 'rays': 3525, 'treatment': 4426, 'scourge': 3842, 'scalpal': 3811, 'ringworm': 3714, 'dna': 1403, 'database': 1198, 'convicted': 1062, 'crime': 1125, 'argue': 347, 'innocent': 2278, 'likely': 2584, 'commit': 967, 'future': 1869, 'drags': 1445, 'daughter': 1202, 'faux': 1707, 'detector': 1324, 'radio': 3489, 'skipped': 3988, 'previous': 3353, 'experience': 1633, 'surprised': 4220, 'hasn': 2042, 'higher': 2081, 'scale': 3810, 'bom': 603, 'incredible': 2234, 'bolivia': 602, 'circus': 887, 'animals': 300, 'defines': 1263, 'cruelty': 1149, 'kind': 2453, 'chavez': 853, 'shuts': 3954, '34': 85, 'stations': 4121, 'waves': 4676, 'belong': 525, 'bourgeoisie': 630, 'idol': 2182, 'teenager': 4299, 'revelation': 3694, 'releases': 3607, 'terrorist': 4322, 'sight': 3959, 'supposedly': 4213, 'unhackable': 4508, 'containing': 1044, 'cloned': 921, 'modified': 2832, 'unbelievable': 4489, 'hypocrisy': 2170, 'islamic': 2351, 'preacher': 3332, 'dictatorship': 1335, 'allowed': 270, 'descendants': 1305, 'rats': 3522, 'pigs': 3230, 'elected': 1517, 'islamist': 2352, 'parliamentarian': 3130, 'member': 2763, 'refused': 3582, 'malaysia': 2687, 'brain': 640, 'damaged': 1182, 'nh1n1': 2944, 'masturbation': 2730, 'nhomosexuality': 2946, 'refusal': 3580, 'decrypt': 1246, 'data': 1197, 'message': 2775, 'anonymous': 308, 'living': 2612, 'recently': 3550, 'diagnosed': 1332, 'breast': 653, 'cancer': 766, 'gotten': 1948, 'letter': 2553, 'panels': 3116, 'medical': 2750, 'councils': 1085, 'determine': 1326, 'eligible': 1525, 'percent': 3184, 'coverage': 1102, 'provided': 3431, 'pay': 3161, '635': 113, '85': 133, 'service': 3894, 'compared': 980, '131': 17, '44': 99, 'netherlands': 2930, '137': 18, '94': 140, 'campaign': 753, 'officially': 3016, 'castrating': 798, 'driving': 1456, 'alan': 258, 'turing': 4460, 'helped': 2068, 'nazi': 2918, 'codes': 937, 'revolutionize': 3702, 'computing': 993, 'homosexual': 2116, 'huckabee': 2153, 'room': 3736, 'middle': 2789, 'homeland': 2107, 'able': 149, 'settlements': 3902, 'aipac': 249, '2012': 58, 'checkbooks': 855, 'australians': 419, 'stayed': 4124, 'turns': 4466, 'sleeping': 3999, 'atm': 397, 'cocaine': 934, 'bar': 479, 'guy': 2001, 'haven': 2045, 'learn': 2522, 'effective': 1505, 'decriminalizes': 1244, 'possession': 3304, 'amounts': 291, 'heroin': 2072, 'body': 598, 'trying': 4451, 'plastic': 3261, 'pint': 3238, 'glasses': 1926, 'compulsory': 991, 'nanny': 2905, 'order': 3053, 'consumption': 1042, 'hostage': 2137, 'kills': 2451, 'escapes': 1582, 'courts': 1100, 'blocking': 582, 'youngest': 4796, 'person': 3196, 'sail': 3775, 'apology': 319, 'backlash': 450, 'latin': 2500, 'liberal': 2561, 'prosecutors': 3415, 'cultural': 1156, 'publishing': 3444, 'cartoon': 789, 'suggests': 4195, 'ii': 2189, 'fabrication': 1665, 'chief': 862, 'inspector': 2286, 'calls': 743, 'hyped': 2169, 'darling': 1196, 'aspiration': 377, 'corrupt': 1079, 'grows': 1986, 'changing': 844, 'proudly': 3427, 'secular': 3860, 'combat': 956, 'units': 4520, 'filling': 1747, 'nurse': 2986, 'struck': 4165, 'register': 3591, 'secretly': 3857, 'filming': 1750, 'lack': 2480, 'brighton': 667, 'hospital': 2133, 'nominated': 2959, 'national': 2910, 'award': 436, 'decades': 1228, 'inbreeding': 2221, 'causing': 810, 'immense': 2204, 'suffering': 4189, 'pedigree': 3170, 'dogs': 1416, 'plagued': 3250, 'painful': 3105, 'deadly': 1213, 'genetic': 1902, 'diseases': 1383, 'breeding': 656, 'appearance': 323, 'investigation': 2331, 'starving': 4117, 'virtually': 4613, 'machinery': 2666, 'eaten': 1485, 'livestock': 2611, 'czar': 1174, 'slams': 3991, 'harper': 2039, 'gov': 1949, 'exits': 1624, 'approach': 331, 'utterly': 4556, 'failed': 1675, 'past': 3151, '40': 92, 'emperor': 1536, 'truly': 4447, 'clothes': 925, 'case': 792, 'church': 881, 'dissolved': 1392, 'typo': 4475, 'obscure': 2993, 'voted': 4629, 'explicitly': 1638, 'prevents': 3352, 'richer': 3707, 'wealth': 4680, 'fallen': 1684, 'region': 3589, 'allowing': 271, 'step': 4126, 'plate': 3262, 'richest': 3708, 'continent': 1050, 'promised': 3398, 'wear': 4683, 'lime': 2587, 'dress': 1449, 'funeral': 1867, 'september': 3889, '15th': 23, 'kevin': 2434, 'elliot': 1527, 'promise': 3397, 'young': 4794, 'created': 1114, 'volunteer': 4626, 'patrol': 3158, 'malls': 2691, 'places': 3249, 'interracial': 2316, 'dates': 1201, 'committee': 970, 'cross': 1141, 'access': 162, 'safe': 3772, 'cease': 814, 'november': 2974, '1992': 43, '600': 111, 'scientists': 3833, '104': 9, 'nobel': 2957, 'laureates': 2507, 'endorsed': 1549, 'bride': 664, 'inspires': 2287, 'curfew': 1163, 'extended': 1649, '50': 105, 'brazillian': 647, 'barrios': 486, 'barracaded': 483, 'evicted': 1599, 'fan': 1692, 'armored': 356, 'pittsburgh': 3247, 'campus': 757, 'stopping': 4141, 'anarchists': 294, 'philippine': 3205, 'saving': 3804, 'working': 4753, 'chiquitas': 871, 'plantations': 3259, 'hands': 2025, 'burning': 715, 'inside': 2283, 'rubber': 3743, 'gloves': 1933, '14': 19, 'mess': 2774, 'farmer': 1697, 'holy': 2105, 'roman': 3735, 'nova': 2972, 'scotia': 3839, 'bishop': 559, 'busted': 724, 'ncanadian': 2919, 'airport': 253, 'laptop': 2492, 'porn': 3300, 'nthe': 2978, 'kicker': 2439, 'previously': 3354, 'nhelped': 2945, 'broker': 680, 'nsexually': 2976, 'abused': 156, 'priests': 3359, 'diocese': 1352, 'boy': 633, 'harnessed': 2038, 'wind': 4728, 'malawian': 2686, 'transformed': 4415, 'village': 4597, 'windmills': 4729, 'junk': 2418, 'revolution': 3700, 'regulation': 3596, 'requires': 3655, 'chemicals': 859, 'assessed': 388, 'potentially': 3315, 'toxic': 4402, 'effects': 1506, 'beings': 518, 'environment': 1568, 'signals': 3961, 'industrys': 2254, 'ability': 148, 'withhold': 4739, 'critical': 1134, 'italian': 2365, 'prosecutor': 3414, 'cia': 882, 'kidnapping': 2442, 'grave': 1965, 'cover': 1101, 'energy': 1551, 'utility': 4555, 'companies': 978, 'prices': 3356, '42': 96, '382': 89, 'household': 2147, 'wholesale': 4711, 'cost': 1081, 'electricity': 1522, 'halved': 2015, 'bills': 552, 'oh': 3020, 'wow': 4765, 'joseph': 2404, 'stalin': 4102, 'grandson': 1959, 'yevgeny': 4792, 'dzhugashvili': 1473, 'launched': 2503, 'claiming': 902, 'defamed': 1252, 'soviet': 4047, 'deaths': 1223, 'yahoo': 4780, 'users': 4551, 'forces': 1811, 'immediately': 2203, 'taser': 4281, 'manufacturer': 2705, 'directive': 1359, 'aim': 247, 'weapon': 4681, 'suspect': 4227, 'chest': 860, 'question': 3479, 'guardian': 1992, 'gagged': 1876, 'fingerprint': 1763, 'unmasks': 4526, 'da': 1176, 'vinci': 4600, 'painting': 3106, 'sold': 4024, 'auction': 412, '19th': 46, 'century': 832, 'german': 1909, 'collector': 945, 'multispectral': 2882, 'imaging': 2199, 'peer': 3172, 'layers': 2513, 'pigment': 3229, 'discovering': 1375, 'proved': 3428, 'vinvi': 4602, 'serve': 3892, 'occupation': 3000, 'violent': 4609, 'racist': 3486, 'inhumane': 2274, 'undemocratic': 4495, 'immoral': 2208, 'extreme': 1656, 'condition': 1008, 'presents': 3342, 'mortal': 2856, 'peoples': 3181, 'blackwater': 567, 'prostitutes': 3416, 'lithuanian': 2605, 'dad': 1177, 'senior': 3878, 'politician': 3287, 'molested': 2835, 'lobby': 2615, 'decriminalization': 1242, 'kuwaiti': 2471, 'passport': 3148, 'consent': 1024, 'husbands': 2167, 'columbia': 954, 'cops': 1067, 'stomp': 4137, 'ribs': 3703, 'posted': 3308, 'calder': 737, 'heard': 2053, 'diplomats': 1356, 'especially': 1584, 'publicly': 3440, 'usually': 4554, 'deal': 1216, 'respond': 3671, 'ah': 241, 'soo': 4034, 'desu': 1318, 'ka': 2423, 'fined': 1760, '900': 137, 'metallica': 2776, 'sucks': 4183, 'frontman': 1851, 'james': 2375, 'hetfield': 2074, 'chose': 874, 'bands': 466, 'music': 2894, 'represents': 3648, 'likemaybe': 2585, 'aggression': 233, 'adviser': 215, 'sparked': 4054, 'controversy': 1060, 'ecstasy': 1492, 'lsd': 2652, 'cannabis': 767, 'dangerous': 1187, 'cigarettes': 884, 'unidentified': 4510, 'ukraine': 4483, 'emergency': 1534, 'declared': 1236, 'following': 1801, 'comments': 965, 'regarding': 3585, 'ectasy': 1493, 'nutt': 2987, 'sacked': 3766, 'telling': 4306, 'truth': 4449, 'wild': 4722, 'bear': 501, 'beating': 506, 'clash': 905, 'suppress': 4214, 'broke': 678, 'agent': 230, 'rendition': 3626, 'epidemic': 1571, '109': 10, '763': 124, 'infected': 2261, 'hospitalized': 2134, 'friday': 1846, 'advisers': 216, 'sacking': 3767, 'whistleblower': 4707, 'cop': 1064, 'sensation': 3879, 'released': 3606, 'series': 3890, 'calling': 742, 'corruption': 1080, 'christian': 877, 'janitor': 2377, 'rises': 3722, 'barriers': 485, 'caste': 796, 'creed': 1122, 'sectarian': 3858, 'gives': 1922, 'save': 3801, 'idea': 2176, 'participating': 3132, 'drafting': 1444, 'speechless': 4066, 'authorized': 424, 'predator': 3334, 'drone': 1457, 'months': 2848, '500': 106, 'kicks': 2440, 'weather': 4687, 'channel': 845, 'ass': 379, 'approves': 334, 'settler': 3903, 'dog': 1415, 'bridge': 665, 'latvia': 2501, 'translated': 4416, 'article': 366, 'fifa': 1733, 'finance': 1755, 'stadium': 4098, 'territories': 4318, 'complete': 985, 'fucked': 1856, 'snooping': 4015, 'cloud': 927, 'storage': 4142, 'powers': 3323, 'specified': 4064, 'facilitating': 1670, 'prevention': 3351, 'reduction': 3571, 'online': 3029, 'infringement': 2269, 'copyright': 1071, 'limitations': 2588, 'disconnections': 1372, 'offenders': 3007, 'paralyzed': 3122, 'fully': 1860, 'aware': 438, '23': 65, 'isn': 2355, 'vegetable': 4569, 'saying': 3808, 'communicating': 973, 'really': 3536, 'faking': 1680, 'communication': 974, 'arriving': 363, 'integration': 2300, 'contract': 1056, 'require': 3653, 'respect': 3669, 'equality': 1573, 'medicine': 2752, 'startling': 4116, 'breakthrough': 652, 'treating': 4425, 'wife': 4716, 'cure': 1162, 'multiple': 2881, 'sclerosis': 3837, 'ms': 2872, 'nuez': 2980, 'blood': 586, 'mouth': 2866, 'killer': 2448, 'putting': 3466, 'didnt': 1338, 'instinctively': 2290, 'reached': 3529, 'kinds': 2454, 'recorded': 3560, 'types': 4474, 'fibrous': 1729, 'bone': 610, 'refer': 3573, 'clearly': 914, 'radiation': 3488, 'exposed': 1644, 'poisoning': 3279, 'salad': 3778, 'laced': 2479, 'overdose': 3084, 'pressure': 3347, 'medication': 2751, 'saddest': 3771, 'history': 2089, 'senate': 3875, 'studying': 4171, 'minimum': 2805, 'given': 1921, 'approval': 332, 'minor': 2810, 'amendments': 283, 'ruins': 3745, 'pompeii': 3291, 'added': 194, 'draw': 1447, 'ignites': 2185, 'cup': 1158, 'fever': 1725, 'tony': 4381, 'minute': 2812, 'wmd': 4742, 'taxi': 4286, 'driver': 1455, 'cash4gold': 795, 'built': 698, 'maintain': 2676, 'madness': 2668, 'vid': 4587, 'settlers': 3904, 'occupied': 3001, 'intepretation': 2306, 'quantum': 3474, 'physics': 3218, 'parallel': 3121, 'universe': 4521, 'crossed': 1142, 'border': 617, 'timeline': 4366, 'punched': 3448, 'pepper': 3182, 'sprayed': 4084, 'shit': 3932, 'kicked': 2438, 'handcuffed': 2021, 'wet': 4703, 'naked': 2902, 'tycoons': 4473, 'entitled': 1565, 'fields': 1732, 'assume': 390, 'invasion': 2326, 'opposition': 3048, 'federal': 1715, 'isp': 2356, 'filtering': 1752, 'hugo': 2155, 'climate': 918, 'saved': 3802, 'uninsured': 4514, 'japan': 2378, 'sees': 3867, 'prescriptions': 3339, 'filled': 1746, 'sorry': 4037, 'whopping': 4713, 'bucks': 693, 'home': 2106, 'paying': 3162, 'managing': 2697, 'things': 4340, 'prague': 3328, 'tower': 4400, 'largest': 2494, 'spherical': 4069, 'npanorama': 2975, 'gigapixel': 1918, 'megazoom': 2760, 'laura': 2506, 'dekker': 1268, 'ran': 3505, 'caribbean': 783, 'wrecked': 4766, 'copenhagen': 1065, 'backyard': 452, 'training': 4411, 'property': 3407, 'owner': 3092, 'defends': 1257, 'knocks': 2459, 'pope': 3295, 'benedict': 529, 'christmas': 879, 'mass': 2724, 'fact': 1673, 'born': 620, 'greater': 1967, 'chance': 840, 'raped': 3511, 'learning': 2524, 'reports': 3645, 'lots': 2642, 'witness': 4741, 'exiles': 1621, 'close': 922, 'contacts': 1043, 'risking': 3725, 'post': 3307, 'taboo': 4257, 'major': 2677, 'starting': 4115, 'tomorrow': 4378, 'scanners': 3815, 'images': 2198, 'depict': 1299, 'untouched': 4530, 'stomach': 4136, 'contents': 1048, 'baby': 446, 'birds': 554, 'remote': 3620, 'marine': 2711, 'sanctuaries': 3788, '2000': 51, 'nearest': 2922, 'teach': 4288, 'gays': 1895, 'agenda': 229, 'ugandan': 4479, 'families': 1688, 'sodomize': 4020, 'impose': 2215, 'sentence': 3884, 'behavior': 515, 'having': 2046, 'sexual': 3909, 'intercourse': 2307, 'imams': 2200, 'affiliated': 220, 'council': 1084, 'fatwa': 1706, 'evil': 1602, 'track': 4404, 'captives': 774, 'agree': 235, 'fly': 1796, 'meet': 2755, 'stole': 4134, 'intellectual': 2301, 'crazy': 1113, 'considering': 1030, 'ceasing': 817, 'operation': 3037, 'signed': 3962, 'www': 4776, 'redcross': 3566, 'org': 3058, 'donate': 1421, 'haiti': 2010, 'difference': 1342, 'ceases': 816, 'amaze': 278, 'amazing': 279, 'somebody': 4032, 'spokesman': 4077, 'robert': 3729, 'gibbs': 1917, 'pat': 3154, 'robertson': 3730, 'remarks': 3616, 'cancellation': 764, 'debt': 1227, '2nd': 78, 'exist': 1622, 'im': 2197, 'collect': 942, '41': 94, 'mln': 2826, 'doubles': 1431, 'totaling': 4393, '83': 131, '448': 100, '252': 72, 'link': 2593, '360': 87, 'burqa': 718, 'dr': 1441, 'norman': 2962, 'finkelstein': 1766, 'exterminated': 1651, 'dispicable': 1387, 'martyrdom': 2722, 'try': 4450, 'justify': 2422, 'brutalization': 691, 'demolition': 1284, 'daily': 1179, 'commits': 968, 'howard': 2148, 'zinn': 4805, 'arguably': 346, 'important': 2214, 'scholars': 3825, 'raised': 3496, '100k': 6, 'sweat': 4240, 'shutdown': 3953, 'funds': 1866, 'fix': 1782, 'bloomberg': 587, 'secret': 3854, 'banking': 472, 'cabal': 730, 'uprising': 4537, 'overturns': 3089, 'harvard': 2040, 'student': 4168, 'expelled': 1630, 'essay': 1585, 'computer': 992, 'drive': 1454, 'sympathetic': 4251, 'lashed': 2495, '101': 8, 'conceiving': 994, 'rapist': 3512, 'pardoned': 3124, 'turkish': 4462, 'buried': 711, 'alive': 262, 'honour': 2123, 'nuganda': 2981, 'nanti': 2906, 'worse': 4760, 'rat': 3514, 'acknowledged': 177, 'equation': 1574, 'invading': 2324, 'actively': 186, 'consulted': 1039, 'planning': 3256, 'jazeera': 2383, 'obtained': 2997, 'exclusive': 1612, 'appears': 325, 'ordering': 3055, 'number': 2983, 'range': 3508, 'blocked': 581, 'agreement': 237, 'allows': 272, 'terror': 4320, 'monitor': 2843, 'europeans': 1593, 'transactions': 4414, 'urged': 4542, 'hand': 2019, 'zero': 4803, 'rupees': 3755, 'asked': 374, 'bribe': 660, 'bid': 542, 'stamp': 4104, 'luger': 2655, 'giving': 1923, 'motorcade': 2861, 'finger': 1762, 'swearing': 4239, 'individual': 2245, 'permitted': 3191, 'foul': 1828, 'language': 2489, 'swear': 4238, 'figures': 1740, 'cigarette': 883, 'torch': 4386, 'surprise': 4219, 'nice': 2948, 'thugs': 4356, 'upload': 4535, 'autistic': 425, 'kid': 2441, 'employees': 1539, 'charged': 849, 'pow': 3319, 'auschwitz': 414, 'survived': 4225, '1944': 31, 'denis': 1293, 'avey': 430, 'swapped': 4235, 'identities': 2179, 'prisoner': 3365, '91': 138, 'gaddafi': 1872, 'jihad': 2391, 'switzerland': 4248, 'magnitude': 2670, 'reported': 3640, 'concepcion': 997, 'chile': 865, 'constitutional': 1037, 'ncourt': 2920, 'rules': 3748, 'telephone': 4303, 'yeah': 4783, '1985': 40, 'band': 465, '250': 70, '95': 141, 'diverted': 1400, 'ethiopian': 1587, 'silent': 3967, 'rebellion': 3542, 'scanning': 3816, 'manchester': 2698, 'flight': 1788, 'retain': 3683, 'looks': 2633, 'inward': 2337, 'mall': 2690, 'culture': 1157, 'posters': 3309, 'throws': 4355, 'grenade': 1975, 'holland': 2103, 'proposes': 3411, 'simply': 3971, 'english': 1556, 'outlets': 3078, 'shame': 3913, 'cahoots': 735, 'scientologist': 3834, 'slave': 3996, 'alleges': 265, 'chained': 836, 'disappointed': 1367, 'religious': 3612, 'organisation': 3059, 'start': 4113, 'accept': 160, 'bonkers': 611, 'lessons': 2550, 'learnt': 2525, 'beard': 502, 'boards': 595, 'plane': 3254, 'exploding': 1640, 'rid': 3710, 'penalty': 3174, 'spanish': 4053, 'organization': 3062, 'sgae': 3911, 'brings': 670, 'outcome': 3073, 'p2p': 3095, 'networks': 2933, 'edonkey': 1499, 'bittorrent': 562, 'material': 2731, 'profit': 3386, 'completely': 986, 'whoops': 4712, 'li': 2558, 'dems': 1290, 'restore': 3676, 'trampled': 4412, 'nick': 2949, 'clegg': 916, 'teamed': 4292, 'fishing': 1780, 'critically': 1135, 'endangered': 1546, 'species': 4063, 'extinction': 1652, 'paedophilia': 3100, 'plainly': 3252, 'loudly': 2645, 'sinful': 3973, 'criminal': 1127, 'israels': 2361, 'fu': 1854, 'east': 1483, 'negotiation': 2927, 'ireport': 2346, 'comment': 964, 'vetted': 4582, 'raise': 3495, 'awareness': 439, 'happening': 2030, 'thank': 4333, 'upvote': 4539, 'karmawhore': 2426, 'throwaway': 4352, 'xvi': 4779, 'defrock': 1266, 'priest': 3358, 'boys': 635, 'receiving': 3548, 'letters': 2554, 'bishops': 560, 'pleading': 3265, 'pocketed': 3274, 'revenues': 3696, 'dealings': 1219, 'consortium': 1033, 'ui': 4481, 'corporation': 1076, 'efforts': 1509, 'connection': 1022, 'naval': 2916, 'sinking': 3978, 'board': 593, 'torpedo': 4387, 'suspected': 4228, 'large': 2493, 'explosion': 1641, 'subway': 4180, 'economy': 1490, 'rushed': 3757, 'debate': 1224, 'fox': 1832, 'ripping': 3720, 'content': 1047, 'straight': 4147, 'depths': 1304, 'shin': 3927, 'bet': 537, 'mentioning': 2771, 'identifying': 2178, 'reporter': 3642, 'expose': 1643, 'reuters': 3689, 'shouldn': 3948, 'outraged': 3080, 'silenced': 3966, 'published': 3442, 'kyrgyz': 2472, 'overall': 3083, 'bishkek': 558, 'escape': 1580, 'kyrgyzstan': 2473, 'trust': 4448, 'aggregator': 232, 'political': 3286, 'bcg': 497, 'offered': 3010, 'diligent': 1348, 'effort': 1508, 'morally': 2851, 'nearly': 2923, 'immersion': 2205, 'propaganda': 3405, 'piiiiiiiissed': 3231, 'arrests': 362, 'crew': 1123, 'members': 2764, 'coal': 930, 'trashed': 4420, 'barrier': 484, 'reef': 3572, 'finding': 1757, 'groups': 1983, 'males': 2689, 'executed': 1616, 'using': 4553, 'unfortunately': 4507, 'special': 4061, 'ops': 3049, 'entered': 1561, 'quarters': 3475, 'ied': 2183, 'dormitory': 1430, 'disruptive': 1389, 'volcano': 4624, 'talks': 4270, 'burials': 710, 'sensitive': 3881, 'souls': 4041, 'explicit': 1637, 'bit': 561, 'turn': 4464, 'electorate': 1520, 'dollar': 1418, 'gt': 1988, 'firm': 1775, 'represent': 3646, 'prophet': 3408, 'sues': 4187, 'danish': 1189, 'newspapers': 2942, 'countersues': 1090, 'insulted': 2295, 'koran': 2464, 'demanding': 1279, 'passages': 3142, 'removed': 3622, 'burqas': 719, 'appalls': 320, 'forcing': 1812, 'discrimination': 1378, 'traffic': 4407, 'park': 3128, 'lost': 2641, 'bronze': 681, 'medal': 2747, 'gymnast': 2003, 'proven': 3429, 'underage': 4496, 'belgium': 521, 'lower': 2649, 'veil': 4572, 'homosexuality': 2117, 'sin': 3972, 'soviets': 4048, 'leaking': 2520, 'wells': 4696, 'couldn': 1083, 'seal': 3847, 'nuked': 2982, 'greeks': 1972, 'struggle': 4166, 'status': 4122, 'emptied': 1540, 'abandoned': 145, 'vacations': 4559, 'jobs': 2393, 'bemoan': 528, 'difficult': 1345, 'humiliated': 2161, 'sabotaged': 3764, 'summit': 4199, 'recordings': 3561, 'spiegel': 4070, 'prevented': 3350, 'tackling': 4259, 'change': 841, 'crucial': 1147, 'powerless': 3322, 'look': 2630, 'furious': 1868, 'mad': 2667, 'austerity': 416, 'gambling': 1882, 'losses': 2640, 'hey': 2075, 'sec': 3851, 'clears': 915, 'murderer': 2887, 'apparently': 321, 'torturing': 4392, 'confessions': 1013, 'chilli': 867, 'fireworks': 1773, 'gordon': 1945, 'brown': 687, 'stepping': 4128, 'labour': 2477, 'unfolds': 4506, 'slowly': 4003, 'gulf': 1998, 'denies': 1292, 'lgbt': 2557, 'documentarian': 1408, 'kiana': 2436, 'firouz': 1777, 'asylum': 395, 'deported': 1302, '300': 80, 'hanging': 2028, 'unrepentant': 4527, 'noise': 2958, 'kabul': 2424, 'chomsky': 872, 'interrogators': 2317, 'written': 4769, 'suggested': 4192, 'likes': 2586, 'elvis': 1528, 'costello': 1082, 'santana': 3792, 'cancel': 762, 'supporting': 4211, 'academic': 158, 'crackdown': 1107, 'paintings': 3107, 'picasso': 3220, 'matisse': 2734, 'artists': 369, 'art': 364, 'paris': 3127, 'challenged': 837, 'intention': 2304, 'muhammad': 2879, 'veteren': 4581, 'satirist': 3796, 'zapiro': 4800, 'newstands': 2943, 'sell': 3871, 'warheads': 4649, 'apartheid': 315, 'kenyan': 2431, 'judges': 2411, 'rule': 3746, 'nare': 2907, 'discriminatory': 1379, 'unconstitutional': 4492, 'severs': 3907, 'norway': 2966, '1bn': 47, 'forests': 1816, 'indonesia': 2249, 'sank': 3791, 'warship': 4660, 'details': 1319, 'flotilla': 1793, 'incident': 2224, 'bigger': 545, 'strategic': 4151, 'implications': 2213, 'produced': 3378, 'stratfor': 4152, 'global': 1929, 'harm': 2037, 'comes': 961, 'consequences': 1025, 'lift': 2576, 'repeating': 3634, '1947': 32, 'refugees': 3579, 'boarded': 594, 'wounding': 4764, 'pr': 3324, 'paved': 3160, 'founding': 1831, 'indian': 2239, 'executives': 1618, 'removing': 3624, 'haaretz': 2005, 'infographic': 2266, 'tallest': 4271, 'mountains': 2864, 'deepest': 1249, 'trench': 4428, 'deepwater': 1250, 'horizon': 2126, 'drilling': 1452, 'depth': 1303, 'supremo': 4216, 'labyrinth': 2478, 'horrifying': 2130, 'bodyguard': 600, 'abby': 146, 'sutherland': 4234, 'sailor': 3776, 'dares': 1192, 'solved': 4030, 'soon': 4035, 'restricted': 3679, 'retention': 3684, 'activity': 188, 'passports': 3149, 'bp': 636, 'doing': 1417, 'pretty': 3348, 'demolish': 1283, 'homeowners': 2110, 'alternative': 276, 'proposal': 3409, 'razed': 3526, 'discussed': 1381, 'alleged': 263, 'mossad': 2859, 'adversely': 212, 'affect': 219, 'relations': 3603, 'berlin': 531, 'far': 1695, 'obtaining': 2998, 'murder': 2885, 'persecution': 3195, 'beacon': 500, 'internationally': 2313, 'perpetrator': 3193, 'atrocities': 399, 'dying': 1471, 'secretive': 3856, 'train': 4410, 'armies': 354, 'southern': 4045, 'mineral': 2802, 'sanctions': 3787, 'legalizes': 2540, 'marry': 2719, 'partner': 3138, 'castration': 799, 'punishment': 3452, 'seeks': 3865, 'opinion': 3039, 'repealed': 3631, 'quite': 3482, 'detractors': 1328, 'tactics': 4260, 'improve': 2219, 'suffered': 4188, 'severe': 3906, 'facial': 1669, 'burns': 717, 'drops': 1461, 'veteran': 4579, 'editor': 1498, 'twitter': 4471, 'mourning': 2865, 'pro': 3371, 'hezbollah': 2076, 'adulterer': 208, 'stoning': 4138, 'bangladesh': 468, 'refusing': 3584, 'bribes': 662, 'relatives': 3604, 'pursue': 3460, 'ok': 3022, 'long': 2627, 'hottest': 2143, 'record': 3559, 'according': 166, 'nasa': 2908, 'hotter': 2142, 'keeping': 2428, 'records': 3562, 'grant': 1960, 'marriages': 2718, 'heterosexual': 2073, 'unions': 4517, 'gadget': 1873, 'makersincluding': 2682, 'hp': 2150, 'applemay': 329, 'raw': 3523, 'ingredients': 2272, 'genocidal': 1904, 'militias': 2795, 'movement': 2868, 'begun': 513, 'trace': 4403, 'rare': 3513, 'metals': 2777, 'mines': 2804, 'victory': 4586, 'founder': 1829, 'julian': 2413, 'assange': 381, 'knows': 2463, 'designer': 1311, 'sunglasses': 4203, 'consensual': 1023, 'introduced': 2323, 'daniel': 1188, 'pushing': 3463, '2009': 55, 'user': 4550, 'logs': 2622, 'massive': 2727, 'leak': 2518, 'files': 1743, 'exposes': 1645, 'interview': 2320, 'wide': 4715, 'discrepancy': 1377, '2006': 53, 'insurgent': 2297, 'newly': 2939, 'weren': 4699, 'catalonia': 801, 'bullfighting': 704, 'landmark': 2488, 'fundamental': 1863, 'shamed': 3914, 'grilling': 1977, 'coach': 929, 'punished': 3451, 'betraying': 539, 'lightly': 2581, 'withdraw': 4738, 'weekend': 4692, 'imprisoned': 2217, 'hikers': 2083, 'bargaining': 482, 'chips': 870, 'unjust': 4523, '28': 75, 'felipe': 1719, 'agrees': 238, 'discuss': 1380, 'wrote': 4772, 'detention': 1325, 'pentagon': 3179, 'demands': 1280, '90': 136, 'methinks': 2779, 'works': 4754, '800': 129, 'wildfires': 4723, 'ignited': 2184, 'heat': 2055, 'wave': 4675, 'claimed': 901, '52': 108, 'responsibility': 3673, 'consumes': 1041, 'responsible': 3674, 'educating': 1501, 'socioeconomic': 4019, 'context': 1049, 'production': 3381, 'distribution': 1396, 'vicente': 4583, 'super': 4204, 'rejected': 3601, 'invitation': 2334, 'gates': 1890, 'warren': 4657, 'buffett': 694, 'pledge': 3268, 'fortune': 1824, 'criticized': 1137, 'millionaires': 2799, 'donations': 1425, 'replace': 3635, 'duties': 1470, 'carried': 786, 'pedophiles': 3171, 'inquest': 2279, 'kelly': 2429, 'casting': 797, 'destruction': 1317, 'satellite': 3794, 'extent': 1650, 'flooding': 1789, 'vs': 4634, 'noam': 2956, 'enables': 1544, 'host': 2136, 'place': 3248, 'servers': 3893, 'campaigns': 755, 'joint': 2399, 'taxpayers': 4287, 'pick': 3221, 'tab': 4256, 'hospitals': 2135, 'maim': 2673, 'arabian': 339, 'mans': 2703, 'spinal': 4074, 'cord': 1072, 'ceo': 833, 'scandinavian': 3814, 'megabank': 2758, 'crash': 1111, 'treated': 4424, 'differently': 1344, 'firms': 1776, 'jam': 2373, 'criminalization': 1129, 'hiv': 2094, 'synagogue': 4252, 'squarely': 4093, 'center': 828, 'heart': 2054, 'pride': 3357, 'downtown': 1440, 'beirut': 519, 'vietnam': 4591, 'adopts': 204, 'washington': 4664, 'interventionist': 2319, 'gen': 1899, 'vinh': 4601, 'reconfirmed': 3557, 'pillars': 3234, 'vietnams': 4592, 'joining': 2397, 'alliances': 266, 'ally': 273, 'set': 3898, 'bases': 488, 'offset': 3018, 'spate': 4057, 'negative': 2925, 'stories': 4145, 'combatant': 957, 'willing': 4726, 'sweeping': 4244, 'concession': 1002, 'dividing': 1402, 'pact': 3099, 'demand': 1277, 'remain': 3613, 'undivided': 4503, 'associated': 389, 'standards': 4107, 'staff': 4099, 'uncritically': 4494, 'suggestions': 4194, 'situation': 3984, 'different': 1343, 'climbing': 919, 'mt': 2873, 'kilimanjaro': 2445, 'charity': 851, 'bidding': 543, 'peak': 3169, 'squander': 4091, 'opportunity': 3043, 'upvotes': 4540, 'awesome': 441, 'harvesting': 2041, 'crops': 1140, 'market': 2715, 'fetching': 1724, 'firewood': 1772, 'loved': 2647, 'insurgents': 2298, 'captive': 773, 'tweets': 4469, 'whereabouts': 4706, 'weary': 4686, 'debates': 1225, 'legalizing': 2541, 'suggestion': 4193, 'percolating': 3185, 'exhausted': 1620, 'runaway': 3752, 'violence': 4608, 'renowned': 3629, 'harbouring': 2032, 'imf': 2201, 'fears': 1712, 'social': 4018, 'dawkins': 1206, 'fry': 1852, 'pratchett': 3330, 'sources': 4043, 'confirmed': 1015, 'morning': 2854, 'tel': 4301, 'aviv': 431, 'accidentally': 164, 'yr': 4799, 'instantly': 2288, 'egyptian': 1512, 'manipulate': 2700, 'attempt': 403, 'mubarak': 2875, 'spoiler': 4076, 'shopped': 3941, 'wounded': 4763, 'infantry': 2259, 'unit': 4518, 'fights': 1738, 'ambush': 282, 'kunar': 2469, 'province': 3435, 'bullet': 703, 'helmet': 2065, 'direct': 1357, 'rail': 3493, 'frankfurt': 1838, 'journey': 2408, 'insinuating': 2284, 'reserve': 3659, 'moment': 2838, 'assassins': 384, 'queen': 3478, 'poverty': 3318, 'fund': 1862, 'buckingham': 692, 'palace': 3110, 'source': 4042, 'nations': 2912, 'tapes': 4276, 'servicemen': 3895, 'sport': 4079, 'finish': 1764, 'reparation': 3630, 'websites': 4689, 'scandinavia': 3813, 'combating': 958, 'suspects': 4229, 'mainsteam': 2675, 'panama': 3115, 'tycoon': 4472, '50m': 107, 'poor': 3292, 'millionaire': 2798, 'denying': 1297, 'evolution': 1604, 'warming': 4650, 'study': 4170, 'effect': 1504, 'prostitution': 3417, 'improvement': 2220, 'hungarian': 2163, 'sludge': 4004, 'spill': 4072, 'reaches': 3530, 'danube': 1190, 'river': 3727, 'prize': 3370, 'liu': 2607, 'xiaobo': 4777, '33': 83, 'trapped': 4418, 'chilean': 866, 'miners': 2803, 'moved': 2867, 'profiting': 3387, 'expense': 1631, 'drawing': 1448, 'share': 3915, 'proceeds': 3375, 'ordeal': 3052, 'business': 723, 'thursday': 4357, 'dublin': 1466, 'brian': 659, 'lenihan': 2547, 'allied': 267, 'bought': 626, '832': 132, 'miner': 2801, 'hoisted': 2097, '33rd': 84, 'rescued': 3658, 'absolutely': 153, 'astounded': 394, 'managed': 2694, 'pull': 3446, 'funding': 1865, 'blacklisting': 565, 'decision': 1233, 'moneybookers': 2842, 'collects': 946, 'whistleblowing': 4708, 'damn': 1184, 'engineer': 1554, 'unemployment': 4504, 'lowest': 2650, 'income': 2228, 'inequality': 2256, 'healthcare': 2051, 'expectancy': 1626, 'low': 2648, 'infant': 2258, 'mortality': 2857, 'numeracy': 2985, 'literacy': 2602, 'incarceration': 2223, 'homicides': 2114, 'mental': 2769, 'illness': 2196, 'beats': 507, 'mile': 2791, 'elects': 1523, 'mayor': 2739, 'page': 3101, 'featured': 1714, 'homosexuals': 2118, 'bright': 666, 'yellow': 4786, 'banner': 476, 'alongside': 274, 'addresses': 196, 'crocodile': 1138, 'passengers': 3145, 'karzai': 2427, 'receives': 3547, 'cash': 794, 'presidential': 3345, 'expects': 1629, 'provides': 3433, 'bags': 457, 'ruinous': 3744, 'lawsuits': 2510, 'bombshell': 608, 'cambodians': 745, 'funded': 1864, 'saves': 3803, 'attacking': 401, 'grabbing': 1955, 'tail': 4263, 'sink': 3977, 'surface': 4217, 'boat': 596, 'storey': 4144, 'fall': 1683, 'unharmed': 4509, 'bounces': 628, 'cafe': 734, 'awning': 442, 'passing': 3147, 'shoppers': 3942, 'pulling': 3447, 'copies': 1066, 'adbusters': 193, 'magazine': 2669, 'shelves': 3922, 'congress': 1020, 'cjc': 899, 'semitism': 3874, 'photographs': 3215, 'ghettos': 1914, 'couple': 1096, 'jackpot': 2369, 'passenger': 3144, 'observed': 2995, 'caucasian': 806, 'appeared': 324, 'subject': 4176, 'attended': 408, 'washroom': 4665, 'emerged': 1533, 'asian': 372, 'early': 1475, '20s': 60, 'knowingly': 2461, 'statements': 4119, 'opponent': 3041, 'risk': 3724, 'void': 4623, 'noticed': 2971, 'heavy': 2057, 'horrifically': 2129, 'theyre': 4337, 'easily': 1482, 'numbers': 2984, 'handle': 2024, 'lightweight': 2582, 'indoctrinated': 2247, 'capacity': 770, 'loyalty': 2651, 'barbarism': 480, 'exceeds': 1609, 'adults': 210, 'premier': 3338, 'indispensable': 2244, 'censored': 824, 'cyber': 1173, 'stay': 4123, 'classy': 909, 'boris': 619, 'johnson': 2395, 'authorise': 420, 'wests': 4702, 'spread': 4085, 'achieved': 175, 'vile': 4596, 'means': 2746, 'getting': 1912, 'groped': 1980, 'tsa': 4452, 'bother': 622, 'finland': 1767, 'catch': 803, 'watching': 4670, 'remand': 3614, 'local': 2616, 'advises': 217, 'tour': 4395, 'texas': 4329, 'tim': 4364, 'berners': 533, 'lee': 2532, 'creator': 1119, 'defend': 1255, 'fragmented': 1834, 'islands': 2354, 'apple': 328, 'facebook': 1667, 'artillery': 367, 'maritime': 2712, 'prompting': 3402, '29': 77, 'pike': 3232, 'deployed': 1301, 'schoolchildren': 3828, 'whitehall': 4710, 'traditional': 4406, 'toothless': 4384, 'reduced': 3570, 'jo': 2392, 'properly': 3406, 'ecuador': 1494, 'offers': 3011, 'wikileak': 4718, 'residency': 3661, 'questions': 3480, 'declaring': 1238, 'outlandish': 3075, 'secrecy': 3853, 'bradley': 639, 'manning': 2702, 'solider': 4028, 'vanishes': 4566, 'removes': 3623, 'dns': 1404, 'razor': 3527, '1911': 30, 'recent': 3549, 'mirroring': 2815, 'free': 1840, 'journalism': 2405, 'remind': 3618, 'collective': 944, 'persecuted': 3194, 'amnesty': 289, 'abuses': 157, 'mc': 2741, 'hammered': 2018, 'mastercard': 2728, 'downed': 1435, 'ddos': 1211, 'overnight': 3087, 'payment': 3163, 'sue': 4185, 'visa': 4614, 'lula': 2656, 'blaming': 571, 'disclosed': 1369, 'blamed': 570, 'copycats': 1070, 'popping': 3297, 'indoleaks': 2248, 'brusselsleaks': 688, 'balkanleaks': 461, 'cameraman': 749, 'baghdad': 456, 'delays': 1269, 'hotel': 2140, 'suggest': 4191, 'colluded': 947, 'conditions': 1009, 'glenn': 1927, 'greenwald': 1974, 'salon': 3782, 'com': 955, 'paypal': 3164, 'instruments': 2293, 'stallman': 4103, 'hacking': 2008, 'equivalent': 1575, 'demonstration': 1287, 'enable': 1542, 'registered': 3592, 'defiance': 1260, 'mirror': 2814, 'rejects': 3602, 'downloading': 1438, 'revealed': 3691, 'bullied': 705, 'investigating': 2330, 'wikilleaker': 4720, 'cpl': 1105, 'brad': 637, 'pre': 3331, 'usa': 4546, 'labelled': 2474, 'engages': 1552, 'deserving': 1310, 'bogus': 601, 'gag': 1875, 'pointless': 3277, 'polls': 3290, 'influence': 2264, 'lancet': 2486, 'demonstrates': 1286, 'clear': 913, 'scientific': 3831, 'opposes': 3046, 'advisory': 218, 'misuse': 2823, 'piracy': 3241, 'villager': 4598, 'speaking': 4059, 'netizens': 2931, 'truck': 4445, 'threatens': 4350, 'cable': 732, 'july': 2414, '1990': 42, 'ambassador': 281, 'april': 335, 'glaspie': 1925, 'kuwait': 2470, 'friendship': 1850, 'punja': 3453, 'governor': 1952, 'salman': 3781, 'taseer': 4280, 'assassinated': 383, 'islamabad': 2350, 'functioning': 1861, 'level': 2555, 'consistent': 1032, 'avoiding': 434, 'nationwide': 2913, 'egypt': 1511, 'attend': 407, 'coptic': 1068, 'murrow': 2891, 'leonid': 2549, 'parfyonov': 3126, 'stunning': 4173, 'television': 4304, 'watch': 4669, 'audience': 413, 'listened': 2600, 'deadpan': 1214, 'loud': 2643, 'uh': 4480, 'brisbane': 672, 'au': 411, 'cities': 889, 'washed': 4662, 'floods': 1790, 'toll': 4376, 'rising': 3723, 'succeeded': 4181, 'pesticides': 3200, 'increasing': 2232, 'yields': 4793, 'incomes': 2229, 'diversifying': 1398, 'farming': 1699, 'systems': 4255, 'project': 3394, 'promoting': 3401, 'sustainable': 4233, 'practices': 3326, 'aussie': 415, 'lanka': 2490, 'probably': 3372, 'mauritanian': 2737, 'issue': 2363, 'genital': 1903, 'mutilation': 2898, 'fgm': 1727, 'thousand': 4346, 'israelis': 2360, 'protested': 3421, 'waving': 4677, 'came': 747, 'policies': 3283, 'disclosures': 1371, 'significant': 3963, 'precisely': 3333, 'govt': 1953, 'deceit': 1229, 'wrongdoing': 4771, 'deliberately': 1273, 'wildly': 4724, 'misconduct': 2816, 'central': 829, 'institutions': 2291, 'parties': 3136, 'treasury': 4423, 'boss': 621, 'blast': 575, 'rocks': 3733, 'main': 2674, 'tunisia': 4457, 'riots': 3718, 'cairo': 736, 'residents': 3663, 'passwords': 3150, 'wi': 4714, 'fi': 1728, 'routers': 3741, 'communicate': 972, 'violently': 4610, 'smooth': 4010, '100s': 7, 'blackout': 566, 'faxing': 1710, 'cables': 733, 'enabled': 1543, 'feature': 1713, 'voice': 4622, 'demonstrators': 1289, 'tahrir': 4261, 'square': 4092, 'concessions': 1003, 'insufficient': 2294, 'reverse': 3697, 'crtc': 1146, 'billing': 549, 'ub': 4476, 'horrific': 2128, 'diplomatic': 1355, 'streets': 4154, 'jan': 2376, 'einstein': 1514, 'honey': 2121, 'bee': 508, 'telegraph': 4302, 'runs': 3754, 'overpowered': 3088, 'tipped': 4368, 'bow': 631, 'march': 2708, 'pm': 3272, 'silvio': 3968, 'suspends': 4231, 'antartic': 309, 'whaling': 4705, 'dramatic': 1446, 'departure': 1298, 'longstanding': 2629, 'intends': 2303, 'resolutions': 3668, 'censuring': 826, 'revolutionary': 3701, 'commanding': 963, 'assurances': 392, 'required': 3654, 'open': 3032, 'quake': 3473, 'christchurch': 876, 'listening': 2601, 'gadaffi': 1871, 'batshit': 492, 'insane': 2281, 'libya': 2565, 'rebel': 3541, 'tripoli': 4438, 'ghostly': 1915, 'marauding': 2707, 'hotrod': 2141, 'indiscriminately': 2243, 'mercenaries': 2773, 'hired': 2086, 'immune': 2209, 'clause': 910, 'resolution': 3667, 'demanded': 1278, 'insanely': 2282, 'slums': 4005, 'king': 2455, 'bahrain': 458, 'referring': 3577, 'engaging': 1553, 'guerilla': 1995, 'bazookas': 495, 'losing': 2638, 'planet': 3255, 'pink': 3236, 'floyd': 1794, 'roger': 3734, 'waters': 4674, 'joins': 2398, 'divestment': 1401, 'bds': 498, 'seedbox': 3862, '172': 27, 'savings': 3805, 'proposed': 3410, 'exercise': 1619, 'charade': 847, 'appease': 326, 'strong': 4164, 'curry': 1167, 'favour': 1709, 'cameron': 751, 'dissident': 1391, 'creates': 1115, 'documentation': 1410, 'mark': 2713, 'zuckerberg': 4807, 'profile': 3385, 'dalai': 1180, 'lama': 2484, 'citing': 891, 'tibetan': 4360, 'deserve': 1309, 'freely': 1843, 'northeastern': 2964, 'links': 2596, 'sites': 3983, 'crashing': 1112, 'sendai': 3877, 'aches': 173, 'forget': 1818, 'homepage': 2111, 'boom': 616, 'stuff': 4172, 'increasingly': 2233, 'relied': 3609, 'sector': 3859, 'concentrated': 995, 'manufacturing': 2706, 'adrift': 206, 'pacific': 3097, 'photographed': 3212, 'specialist': 4062, '3rd': 91, 'class': 907, 'dylan': 1472, 'mccord': 2742, 'unarmed': 4488, 'operating': 3036, 'nsfw': 2977, 'based': 487, 'heads': 2049, 'mi5': 2787, 'cps': 1106, 'contempt': 1046, 'nakba': 2901, 'punish': 3449, 'reference': 3574, '1948': 33, 'burma': 713, 'classified': 908, 'gadhafi': 1874, 'aide': 245, 'bodies': 597, 'morgue': 2853, 'holder': 2099, 'announce': 302, 'emerge': 1532, 'stood': 4139, 'knelt': 2458, 'mud': 2876, 'brick': 663, 'exploded': 1639, 'opened': 3033, 'repeatedly': 3633, 'm4': 2662, 'carbine': 778, 'star': 4111, 'emirates': 1535, 'drugged': 1463, 'earliest': 1474, 'writings': 4768, 'existence': 1623, 'jordanian': 2403, 'cave': 811, 'occasions': 2999, 'axe': 443, 'murdering': 2888, 'rampage': 3503, 'justified': 2421, 'mo': 2827, 'florida': 1792, 'pastor': 3153, 'terry': 4324, 'jones': 2400, 'recognize': 3554, 'sovereign': 4046, 'jenin': 2385, 'agency': 228, 'skull': 3989, 'dated': 1200, '684': 118, 'exceptionally': 1610, 'preserved': 3343, 'waterlogged': 4673, 'pit': 3246, 'oldest': 3024, 'intact': 2299, 'asia': 371, 'ancient': 296, 'brains': 641, 'surfing': 4218, 'diplomat': 1354, 'denied': 1291, 'invalid': 2325, 'legalized': 2539, 'jamaica': 2374, 'decriminalizing': 1245, 'execute': 1615, 'behead': 516, 'mutilate': 2897, 'surrender': 4221, 'eurosceptic': 1595, 'opposed': 3045, 'immigration': 2207, 'bailouts': 460, 'struggling': 4167, 'fifth': 1734, 'countrys': 1094, 'general': 1900, 'castro': 800, 'resigns': 3665, 'cuban': 1153, 'communist': 975, 'cubans': 1154, '1959': 36, 'controversial': 1059, 'filesharing': 1744, 'urgency': 4543, 'restrepo': 3677, 'chris': 875, 'hondros': 2119, 'misurata': 2822, 'syrian': 4254, 'til': 4363, 'fukushima': 1859, 'eat': 1484, 'meals': 2745, 'crackers': 1108, 'breakfast': 650, 'packet': 3098, 'rice': 3704, 'chicken': 861, 'dinner': 1351, 'evenings': 1597, 'gather': 1891, 'cheer': 856, 'clap': 904, 'sleep': 3998, 'floor': 1791, 'fatah': 1703, 'reconciliation': 3556, 'factions': 1674, 'form': 1820, 'interim': 2310, 'date': 1199, 'famous': 1691, 'beloved': 527, 'artist': 368, 'ai': 243, 'weiwei': 4695, 'erased': 1577, 'hope': 2125, 'outcry': 3074, 'dropping': 1460, 'concrete': 1005, 'bombs': 607, 'bin': 553, 'laden': 2481, 'sony': 4033, 'breach': 648, 'theft': 4334, '25m': 73, 'referendum': 3576, 'bankers': 471, 'hedge': 2059, 'managers': 2696, 'vet': 4578, 'unanimously': 4487, 'gangs': 1885, 'mexicans': 2784, 'organised': 3061, 'salary': 3779, 'entertainment': 1563, 'industries': 2252, 'supports': 4212, 'lewp': 2556, 'firewall': 1771, 'censor': 823, 'block': 579, 'illicit': 2194, 'rallying': 3501, 'revokes': 3698, '140': 20, 'temporarily': 4310, '1967': 38, 'vacation': 4558, 'targeted': 4279, 'plo': 3269, 'cams': 758, 'raid': 3490, 'cbs': 812, 'evening': 1596, 'defied': 1262, 'inflatable': 2262, 'explosives': 1642, 'mannequins': 2701, 'sea': 3846, 'filipino': 1745, 'excommunication': 1613, 'condoms': 1011, 'tepco': 4313, 'crippled': 1131, 'daiichi': 1178, 'plant': 3258, 'pensioners': 3177, 'younger': 4795, 'papers': 3118, 'manslaughter': 2704, 'ian': 2172, 'tomlinson': 4377, '17': 26, 'pyramids': 3469, 'survey': 4224, 'infra': 2268, 'detect': 1323, 'underground': 4498, 'buildings': 697, 'ratko': 3521, 'mladi': 2825, 'agribusiness': 239, 'swaths': 4237, 'rainforest': 3494, 'archaeologists': 340, 'sealed': 3848, 'tunnel': 4458, 'underneath': 4499, 'teotihuacan': 4312, 'temple': 4309, 'qaeda': 3471, 'cupcake': 1159, 'hacked': 2006, 'instructions': 2292, 'recipe': 3552, 'cupcakes': 1160, 'plants': 3260, '2022': 59, 'reactors': 3532, 'f1': 1663, 'bernie': 534, 'ecclestone': 1488, 'grand': 1958, 'prix': 3369, 'cancelled': 765, 'objected': 2991, 'anchor': 295, 'monks': 2844, 'rounded': 3739, 'monastery': 2839, 'cartels': 788, 'notch': 2969, 'trafficker': 4408, 'gladiatorlike': 1924, 'lulzsec': 2657, 'condemn': 1006, 'violate': 4603, 'canuck': 768, 'stanley': 4110, 'lone': 2625, 'rioters': 3716, 'crossposted': 1144, 'oceans': 3004, 'shocking': 3935, 'decline': 1239, 'mastermind': 2729, 'substitute': 4179, 'addicts': 195, 'holds': 2101, 'closed': 923, 'door': 1428, 'meetings': 2757, 'amsterdam': 293, 'foreigners': 1814, 'purchase': 3457, 'increase': 2230, 'smuggled': 4011, 'begging': 510, 'famine': 1690, 'kosher': 2468, 'halal': 2012, 'animal': 299, 'slaughter': 3994, 'slashes': 3993, 'rations': 3520, '150': 22, 'grams': 1957, 'produces': 3380, '350': 86, 'calories': 744, 'literature': 2603, 'brutal': 689, 'defected': 1254, 'hurt': 2165, 'industry': 2253, 'term': 4314, 'environmental': 1569, 'era': 1576, 'eyes': 1661, 'kidney': 2443, 'tortured': 4391, 'failing': 1676, 'praise': 3329, 'withholding': 4740, '800m': 130, 'reach': 3528, 'standstill': 4109, 'rupert': 3756, 'murdoch': 2889, 'gathering': 1892, 'pace': 3096, 'simple': 3970, 'invention': 2328, 'bottle': 624, 'teaspoons': 4295, 'bleach': 577, 'bringing': 669, 'philippines': 3206, 'colombian': 950, 'colonel': 952, '57': 109, 'dressed': 1450, 'uniforms': 4511, 'pushed': 3462, 'exceed': 1608, 'organisations': 3060, 'granted': 1961, 'rebekah': 3540, 'brooks': 683, 'parliamentary': 3131, 'scotland': 3840, 'yard': 4782, 'response': 3672, 'oslo': 3068, 'firsthand': 1778, 'utya': 4557, 'crosspost': 1143, 'linux': 2597, 'expectation': 1627, 'anonymity': 307, 'ruling': 3749, 'superior': 4205, 'advertisements': 213, 'misleading': 2817, 'undergo': 4497, 'regular': 3593, 'tests': 4328, 'assuming': 391, 'metropolitan': 2782, 'tech': 4296, 'deleted': 1271, 'emails': 1530, 'negotiate': 2926, '67': 117, 'lines': 2592, 'sydney': 4249, 'defuse': 1267, 'strapped': 4150, 'recognition': 3553, 'software': 4021, 'violates': 4605, 'network': 2932, 'programme': 3390, 'delete': 1270, 'collected': 943, 'fines': 1761, 'slaughtered': 3995, 'sheep': 3918, 'plainclothes': 3251, 'randomly': 3507, 'besieged': 535, 'hama': 2016, 'burying': 720, 'gardens': 1888, 'venture': 4575, 'cemeteries': 821, 'nhs': 2947, 'developed': 1330, 'efficient': 1507, 'looting': 2634, 'areas': 343, 'broad': 676, 'daylight': 1208, 'expected': 1628, 'birmingham': 555, 'rioting': 3717, 'darcus': 1191, 'howe': 2149, 'writer': 4767, 'play': 3263, 'handing': 2023, 'agencies': 227, 'protection': 3419, 'apart': 314, 'communities': 976, 'values': 4563, 'stealth': 4125, 'chopper': 873, 'sparking': 4055, 'demonstrations': 1288, 'orders': 3056, 'isps': 2357, 'leakymails': 2521, 'blogspot': 585, 'relevant': 3608, 'exposing': 1646, 'powerful': 3321, 'unmask': 4525, 'returned': 3688, '78': 126, 'hefty': 2060, 'yen': 4789, 'owners': 3093, 'ethical': 1586, 'jack': 2368, 'layton': 2514, 'lehman': 2545, 'brothers': 685, 'bankruptcy': 473, 'governments': 1951, 'missed': 2818, 'regulate': 3594, 'matter': 2736, 'natural': 2915, 'lair': 2482, 'album': 259, 'condoleezza': 1010, 'diplomacy': 1353, 'achieve': 174, 'goals': 1935, 'luxury': 2661, 'lurk': 2659, 'compound': 989, 'doctors': 1406, 'farms': 1700, 'billionth': 551, 'congressman': 1021, 'providing': 3434, 'advice': 214, 'cling': 920, 'hackings': 2009, '870': 134, 'phones': 3208, 'tapped': 4277, 'schoolboy': 3827, 'prince': 3361, 'william': 4725, 'scope': 3838, 'ordinance': 3057, 'hostile': 2138, 'commissioned': 966, 'lifetime': 2575, 'bisexual': 557, 'lifted': 2577, 'england': 1555, 'escort': 1583, 'vessel': 4577, 'spartacus': 4056, 'sand': 3789, 'aged': 226, 'tor': 4385, 'glimpse': 1928, 'projections': 3395, 'elections': 1519, 'accusation': 170, 'disclosure': 1370, 'edited': 1497, 'grower': 1984, 'broken': 679, 'absolute': 152, 'particles': 3134, 'travelling': 4422, 'faster': 1701, 'continues': 1053, 'cement': 820, 'flaunt': 1785, 'grip': 1978, 'hijacked': 2082, 'turkey': 4461, 'promoted': 3400, 'dealing': 1218, 'regards': 3586, 'japans': 2380, 'trillion': 4435, 'stake': 4101, 'tobacco': 4370, 'rebuilding': 3544, 'fatty': 1705, 'products': 3382, 'fat': 1702, 'slim': 4000, 'disease': 1382, 'arranged': 359, 'lebanon': 2530, 'chaos': 846, 'attempts': 405, 'resisted': 3666, 'saul': 3800, 'permutter': 3192, 'schmidt': 3824, 'adam': 192, 'riess': 3711, 'discovery': 1376, 'accelerating': 159, 'expansion': 1625, 'observations': 2994, 'distant': 1394, 'supernovae': 4206, 'mugged': 2878, 'metro': 2781, 'wikipedia': 4721, 'ddl': 1210, 'stage': 4100, 'eviction': 1600, 'jaffa': 2370, 'tape': 4275, 'shopping': 3943, 'centre': 830, 'ads': 207, 'pipe': 3240, 'complaints': 984, 'viewers': 4594, 'louder': 2644, 'programmes': 3391, 'interrupting': 2318, 'forgives': 1819, 'goldman': 1940, 'sachs': 3765, '10m': 11, 'pounds': 3317, 'avoidance': 433, 'visits': 4618, 'ottawa': 3070, 'oblige': 2992, 'detain': 1320, 'investigate': 2329, 'norwegian': 2967, 'stance': 4105, 'bearing': 503, 'dilma': 1349, 'rousseff': 3740, 'ministers': 2808, 'tolerated': 4375, 'bribery': 661, 'graft': 1956, 'acts': 189, 'tolerable': 4373, 'occupy': 3002, 'spreads': 4087, 'vaccine': 4561, 'malaria': 2685, 'capture': 775, '700': 120, 'metres': 2780, 'excessive': 1611, 'mining': 2806, 'pays': 3165, 'sinister': 3976, 'insist': 2285, 'logo': 2621, 'underwater': 4502, 'directors': 1362, 'condemned': 1007, 'elite': 1526, 'greedy': 1970, '49': 103, 'rise': 3721, 'average': 429, 'inflation': 2263, 'unesco': 4505, 'shift': 3926, 'burden': 708, 'corporations': 1077, 'celebrates': 818, 'tangible': 4273, 'success': 4182, 'extradition': 1654, 'appeal': 322, 'proof': 3404, 'plots': 3270, 'phase': 3203, 'lightbulbs': 2579, 'inefficient': 2255, 'phased': 3204, 'cur': 1161, 'donation': 1424, 'globalhealth': 1930, 'wei': 4694, 'euros': 1594, 'sum': 4198, 'schizophrenic': 3823, 'ebrard': 1487, 'california': 739, 'decriminalize': 1243, 'argentine': 345, 'predictions': 3335, 'walk': 4640, 'homemade': 2109, 'rehabilitation': 3597, 'device': 1331, 'father': 1704, 'scottish': 3841, 'replaces': 3637, 'urban': 4541, 'jungle': 2417, 'hills': 2084, 'boulders': 627, 'tunnels': 4459, 'period': 3188, 'fewer': 1726, 'accidents': 165, 'teen': 4297, 'ray': 3524, 'airports': 254, 'parting': 3137, 'ways': 4679, 'screen': 3844, 'millions': 2800, 'airline': 252, 'clothing': 926, 'debating': 1226, 'creating': 1116, 'blacklist': 564, 'avaaz': 427, 'neutrinos': 2936, 'experiment': 1635, 'pile': 3233, 'spotted': 4082, 'surrounded': 4222, 'stifling': 4131, 'attempting': 404, 'sun': 4200, 'sunday': 4202, 'lithuania': 2604, 'liquidated': 2598, 'waste': 4667, 'entrepreneur': 1566, '639': 114, 'hectares': 2058, 'sq': 4090, 'mi': 2786, 'investor': 2332, 'prejudice': 3337, 'limits': 2590, 'independence': 2237, 'ensure': 1558, 'benefit': 530, 'anders': 297, 'behring': 517, 'breivik': 657, 'accountable': 168, 'psychiatrists': 3437, 'experiencing': 1634, 'disruption': 1388, 'services': 3896, 'closing': 924, 'schools': 3830, 'virtual': 4612, 'cruise': 1150, 'overwhelmingly': 3090, 'prohibition': 3393, 'increased': 2231, 'alert': 261, 'petition': 3202, 'pardon': 3123, 'pioneer': 3239, 'awakening': 435, 'apolitical': 316, 'airs': 255, 'captured': 776, 'coastguard': 932, 'stabbed': 4096, 'fisherman': 1779, 'apprehend': 330, 'rock': 3732, 'revolt': 3699, 'wukan': 4774, 'denizens': 1294, 'shave': 3917, 'mohawks': 2834, 'punks': 3455, 'concert': 1001, 'indonesias': 2250, 'raided': 3491, 'punk': 3454, 'detained': 1321, '65': 116, 'buzzing': 729, 'spiky': 4071, 'stripping': 4163, 'piercings': 3228, 'perceived': 3183, 'christopher': 880, 'hitchens': 2091, '62': 112, 'burned': 714, 'equal': 1572, 'galileo': 1880, 'assad': 380, 'desert': 1308, 'allegedly': 264, 'betrayed': 538, 'volkswagen': 4625, 'reduce': 3569, 'blurring': 591, 'nigh': 2952, 'fought': 1827, 'hide': 2078, 'medals': 2748, 'peru': 3199, 'shell': 3919, 'reign': 3599, 'implementing': 2211, 'gearing': 1898, 'wargames': 4648, 'strait': 4148, 'hormuz': 2127, 'renewable': 3627, 'owned': 3091, 'whalers': 4704, 'ultra': 4484, 'orthodox': 3066, 'gynecology': 2004, 'loggers': 2620, 'indigenous': 2242, 'citizen': 892, 'mit': 2824, 'presence': 3340, 'marked': 2714, 'impact': 2210, 'adolescents': 203, 'career': 782, 'educational': 1503, 'performance': 3186, '195': 34, 'tonnes': 4379, 'methamphetamine': 2778, 'captain': 772, 'tripped': 4439, 'lifeboat': 2573, 'thailand': 4332, 'recognizes': 3555, 'branson': 643, 'rick': 3709, 'falkvinge': 1682, 'restrict': 3678, 'repulsive': 3651, 'consumers': 1040, 'forever': 1817, 'comply': 988, 'fidel': 1730, 'lambasted': 2485, 'republican': 3650, 'race': 3484, 'competition': 981, 'idiocy': 2181, 'ignorance': 2186, 'donates': 1422, '750': 123, 'carlos': 784, 'fuentes': 1858, 'robin': 3731, 'hood': 2124, 'acta': 182, 'mep': 2772, 'kader': 2425, 'arif': 349, 'lead': 2515, 'negotiator': 2928, 'cuts': 1171, 'lifesaving': 2574, 'generic': 1901, 'restricts': 3680, 'bulgarian': 702, 'xpost': 4778, 'evolutionreddit': 1605, 'slovenia': 4001, 'apologizes': 318, 'signing': 3964, 'ljubljana': 2613, 'scans': 3817, 'flying': 1797, 'lake': 2483, 'vostok': 4627, 'cases': 793, 'polio': 3285, 'charlotte': 852, 'settle': 3900, 'singer': 3974, 'damaging': 1183, 'sued': 4186, 'suffers': 4190, 'neurological': 2934, 'problems': 3374, 'linked': 2594, 'providers': 3432, 'log': 2619, 'customers': 1169, 'provide': 3430, 'siding': 3957, 'pronographers': 3403, 'bulgaria': 701, 'ratify': 3518, '309': 81, 'mask': 2723, 'counterfeit': 1088, 'bonds': 609, 'thinking': 4342, 'memo': 2766, 'blows': 589, 'lid': 2569, 'greek': 1971, 'undertaken': 4501, 'destroying': 1316, 'reforms': 3578, 'outrage': 3079, 'safer': 3773, 'guatemala': 1994, 'colombia': 949, 'regional': 3590, 'trade': 4405, 'interpol': 2315, 'hackers': 2007, 'megaupload': 2759, 'defeats': 1253, 'antisec': 311, 'dumps': 1468, 'continued': 1052, 'earned': 1477, 'humanity': 2159, 'construction': 1038, 'leftist': 2534, 'troublesome': 4444, 'destroyed': 1315, 'ensured': 1559, 'unable': 4485, 'earn': 1476, 'devastated': 1329, 'file': 1741, 'downloaders': 1437, 'cp': 1104, 'download': 1436, 'seeing': 3863, 'desecration': 1307, 'aboriginal': 151, 'burial': 709, 'swastikas': 4236, 'kkk': 2457, 'disgusting': 1384, 'concern': 998, 'cruel': 1148, 'inhuman': 2273, 'slash': 3992, 'price': 3355, '97': 143, 'solar': 4023, 'villages': 4599, 'moroccans': 2855, 'penal': 3173, 'code': 936, 'deterrent': 1327, 'amounting': 290, 'iranians': 2342, 'initiative': 2275, 'lt': 2653, 'potato': 3313, 'agricultural': 240, 'produce': 3377, 'directly': 1360, 'producers': 3379, 'pirating': 3245, 'extradited': 1653, 'secretary': 3855, 'theresa': 4335, 'approved': 333, 'visited': 4616, 'criticism': 1136, 'program': 3389, 'aims': 248, 'mariana': 2709, 'corp': 1075, 'crippling': 1132, 'ramifications': 3502, 'colombias': 951, 'americas': 287, 'failure': 1678, 'talk': 4268, 'speaks': 4060, 'favor': 1708, 'foxconn': 1833, 'agreed': 236, 'tackle': 4258, 'violations': 4607, 'assembling': 387, 'iphones': 2339, 'ipads': 2338, 'bred': 655, 'criminals': 1130, 'draconian': 1442, 'gain': 1878, 'touted': 4399, 'sopa': 4036, 'cispa': 888, 'include': 2225, 'warranting': 4656, 'murdochs': 2890, 'sky': 3990, 'troll': 4441, 'exactly': 1606, 'liam': 2560, 'stacey': 4097, 'nz': 2989, 'mysteriously': 2899, 'lose': 2636, 'launch': 2502, '24': 68, '48': 102, 'oxford': 3094, 'library': 2564, 'digitize': 1347, 'pages': 3102, 'texts': 4330, 'available': 428, 'el': 1515, 'salvador': 3783, 'saturday': 3797, 'homicide': 2113, 'auto': 426, 'parts': 3139, 'filed': 1742, 'complaint': 983, 'accusing': 172, 'juarez': 2409, 'scheduled': 3821, 'testify': 4327, 'screaming': 3843, 'bombing': 605, 'pulitzer': 3445, 'drifting': 1451, 'aboard': 150, 'injured': 2277, 'epic': 1570, 'upheld': 4534, 'rulings': 3750, 'iinet': 2190, 'infringements': 2270, 'sanction': 3786, 'authoritarian': 421, 'regimes': 3588, 'backed': 448, 'execs': 1614, 'unveiled': 4531, 'novartis': 2973, 'legally': 2542, 'annulled': 306, 'northern': 2965, 'rajasthan': 3498, '1st': 48, 'blind': 578, 'posts': 3311, 'limiting': 2589, 'organizations': 3063, 'conclude': 1004, 'fit': 1781, 'stewardship': 4130, 'motorcycle': 2862, 'washes': 4663, 'located': 2617, 'harley': 2036, 'davidson': 1205, 'emptive': 1541, 'facilities': 1671, 'vogue': 4621, 'skinny': 3987, 'models': 2830, 'abc': 147, 'broadcasting': 677, 'worried': 4758, 'globe': 1932, 'trash': 4419, 'garbage': 1887, 'patch': 3155, 'fold': 1799, 'profound': 3388, 'changes': 843, 'draft': 1443, 'crop': 1139, 'growing': 1985, 'coca': 933, 'opium': 3040, 'poppies': 3296, 'schoolgirl': 3829, 'hemorrhage': 2069, 'donating': 1423, 'organs': 3064, 'ritchie': 3726, 'lived': 2609, 'gap': 1886, 'infamous': 2257, 'cliff': 917, 'gone': 1941, 'named': 2903, '2011': 57, 'peacefully': 3168, 'wifi': 4717, 'liable': 2559, 'sharing': 3916, 'subjected': 4177, 'extraordinary': 1655, 'policemen': 3282, 'semitic': 3873, 'yemeni': 4788, 'parade': 3119, 'rehearsal': 3598, 'conversation': 1061, 'poachers': 3273, 'maharashtra': 2671, 'quebec': 3477, 'trampling': 4413, 'basic': 489, 'quash': 3476, 'wears': 4685, 'style': 4175, 'lawyers': 2512, 'courtroom': 1099, 'attire': 410, 'unconsitutional': 4491, 'unanimous': 4486, 'similar': 3969, 'cap': 769, 'executive': 1617, 'mars': 2720, 'trip': 4437, 'eduard': 1500, 'khil': 2435, 'trololo': 4442, 'st': 4095, 'petersburg': 3201, '77': 125, 'lutheran': 2660, 'bradbury': 638, 'visitors': 4617, 'forbids': 1808, 'tourism': 4396, 'indefinitely': 2236, 'banker': 470, 'ousted': 3071, 'involved': 2335, 'afraid': 223, 'gallup': 1881, 'priority': 3363, 'john': 2394, 'testifies': 4326, 'oppose': 3044, '1997': 44, 'pure': 3458, 'ecstacy': 1491, 'mdma': 2744, 'regulated': 3595, 'stores': 4143, 'lunches': 2658, 'wired': 4734, 'cipla': 885, 'medicines': 2753, 'shaking': 3912, 'brave': 644, 'jumps': 2415, 'plunge': 3271, 'flees': 1787, 'ecuadorian': 1495, 'blow': 588, 'diversity': 1399, 'winning': 4730, 'unblocks': 4490, 'lonesome': 2626, 'galapagos': 1879, 'tortoise': 4389, 'zealanders': 4802, 'recreational': 3564, 'particularly': 3135, 'backing': 449, 'sexually': 3910, 'assaulted': 386, 'stripped': 4162, 'turned': 4465, 'humans': 2160, 'announcing': 305, 'bunch': 707, 'individuals': 2246, 'process': 3376, 'creation': 1117, 'resale': 3656, 'licenses': 2568, 'fixed': 1783, 'rates': 3517, 'barclays': 481, 'bo': 592, 'diamond': 1333, 'matt': 2735, 'taibbi': 4262, 'libor': 2563, 'deepens': 1248, 'damning': 1185, 'implicates': 2212, 'botswana': 623, 'leatherback': 2526, 'turtle': 4467, 'eggs': 1510, 'crushed': 1151, 'trinidad': 4436, 'beach': 499, 'thestar': 4336, 'melinda': 2761, 'challenges': 838, 'vowing': 4633, 'contraception': 1055, 'thirsty': 4344, 'coroner': 1074, 'patient': 3156, 'pleas': 3267, 'hoax': 2096, 'satirical': 3795, 'took': 4382, 'cervical': 835, 'ja': 2367, 'opted': 3050, 'hpv': 2151, 'vaccination': 4560, 'pupils': 3456, 'follow': 1800, 'strict': 4156, 'principles': 3362, 'practise': 3327, 'portugal': 3302, 'decreases': 1240, 'lenovo': 2548, 'distributes': 1395, 'bonus': 613, '32': 82, 'offshore': 3019, 'roughly': 3738, 'gdp': 1897, 'combined': 959, '280bn': 76, 'hsbc': 2152, 'citigroup': 890, 'ubs': 4477, 'credit': 1120, 'suisse': 4197, 'norwegians': 2968, 'reacted': 3531, 'openness': 3035, 'participation': 3133, 'gorillas': 1946, 'dismantling': 1385, 'snares': 4012, 'rwanda': 3762, 'francois': 1836, 'hollande': 2104, '75': 122, 'earners': 1478, 'deficit': 1261, 'ral': 3499}\n"
     ]
    }
   ],
   "source": [
    "bagX_train=vectorizer.fit_transform(X_train)\n",
    "print(vectorizer.vocabulary_)"
   ]
  },
  {
   "cell_type": "code",
   "execution_count": 76,
   "metadata": {},
   "outputs": [
    {
     "ename": "NameError",
     "evalue": "name 'bagX_test' is not defined",
     "output_type": "error",
     "traceback": [
      "\u001b[0;31m---------------------------------------------------------------------------\u001b[0m",
      "\u001b[0;31mNameError\u001b[0m                                 Traceback (most recent call last)",
      "\u001b[0;32m<ipython-input-76-210ac298d4e6>\u001b[0m in \u001b[0;36m<module>\u001b[0;34m\u001b[0m\n\u001b[0;32m----> 1\u001b[0;31m \u001b[0mbagX_test\u001b[0m\u001b[0;34m.\u001b[0m\u001b[0mshape\u001b[0m\u001b[0;34m,\u001b[0m \u001b[0mbagX_train\u001b[0m\u001b[0;34m.\u001b[0m\u001b[0mshape\u001b[0m\u001b[0;34m\u001b[0m\u001b[0;34m\u001b[0m\u001b[0m\n\u001b[0m",
      "\u001b[0;31mNameError\u001b[0m: name 'bagX_test' is not defined"
     ]
    }
   ],
   "source": [
    "bagX_test.shape, bagX_train.shape"
   ]
  },
  {
   "cell_type": "code",
   "execution_count": 77,
   "metadata": {
    "colab": {
     "base_uri": "https://localhost:8080/",
     "height": 71
    },
    "colab_type": "code",
    "id": "zMyJD1my5mRR",
    "outputId": "f80f59b2-654d-43a7-c583-4c6c4a60b68a"
   },
   "outputs": [
    {
     "name": "stdout",
     "output_type": "stream",
     "text": [
      "{'georgia': 3031, 'downs': 2259, 'russian': 5928, 'warplanes': 7294, 'countries': 1736, 'brink': 1070, 'war': 7283, 'wont': 7430, 'america': 494, 'nato': 4602, 'help': 3286, 'did': 2103, 'iraq': 3718, 'remember': 5696, 'adorable': 369, 'year': 7489, 'old': 4782, 'sang': 5976, 'opening': 4798, 'ceremonies': 1307, 'fake': 2674, 'refuses': 5646, 'israel': 3741, 'weapons': 7329, 'attack': 683, 'iran': 3714, 'report': 5726, 'experts': 2607, 'admit': 361, 'legalise': 3997, 'drugs': 2301, 'mom': 4475, 'missing': 4448, 'gay': 3007, 'man': 4219, 'bad': 758, '21': 102, 'cheerleader': 1356, 'looking': 4128, 'afghan': 393, 'prison': 5323, 'majority': 4194, 'female': 2743, 'prisoners': 5325, 'serving': 6119, '20': 81, 'sentences': 6106, 'victims': 7194, 'rape': 5541, 'arrested': 615, 'locked': 4108, 'hours': 3400, 'taking': 6677, 'photo': 5067, 'police': 5180, 'van': 7158, 'ignoring': 3473, 'entry': 2486, 'sign': 6217, 'elderly': 2392, 'chinese': 1373, 'women': 7425, 'sentenced': 6105, 'education': 2370, 'labor': 3916, 'sought': 6329, 'permit': 5033, 'demonstrate': 2013, 'official': 4773, 'olympic': 4786, 'protest': 5412, 'area': 591, 'british': 1074, 'resident': 5759, 'held': 3278, 'guantanamo': 3155, 'bay': 821, 'wins': 7404, 'legal': 3995, 'battle': 819, 'force': 2871, 'foreign': 2876, 'office': 4769, 'reveal': 5804, 'torture': 6860, 'evidence': 2549, 'syria': 6659, 'says': 6002, 'ready': 5574, 'missile': 4446, 'soil': 6305, 'counterweight': 1735, 'plans': 5133, 'deploy': 2039, 'shield': 6164, 'poland': 5179, 'czech': 1854, 'republic': 5739, 'korea': 3900, 'kim': 3879, 'died': 2107, '2003': 84, 'replaced': 5723, 'lookalike': 4127, 'waseda': 7301, 'professor': 5351, 'north': 4695, 'halts': 3201, 'denuclearisation': 2031, 'fails': 2670, 'remove': 5702, 'list': 4080, 'states': 6443, 'sponsoring': 6386, 'terrorism': 6758, 'photos': 5073, '15': 38, 'iraqi': 3719, 'suicide': 6572, 'bomber': 983, 'gave': 3006, 'military': 4409, 'declaration': 1932, 'moscow': 4510, 'prime': 5314, 'minister': 4428, 'vladimir': 7240, 'putin': 5477, 'accused': 316, 'provoking': 5435, 'conflict': 1610, 'possibly': 5224, 'domestic': 2230, 'election': 2395, 'purposes': 5471, 'girl': 3049, 'filmed': 2780, 'israeli': 3742, 'soldiers': 6309, 'brutality': 1095, 'family': 2690, 'victim': 7193, 'revenge': 5810, 'attacks': 687, 'legalization': 3999, 'marijuana': 4253, 'majour': 4196, 'steps': 6459, 'right': 5842, 'direction': 2130, 'security': 6076, 'guards': 3160, 'beat': 831, 'soccer': 6298, 'football': 2866, 'game': 2989, 'fans': 2696, 'players': 5146, 'charge': 1338, 'field': 2758, 'jordan': 3805, 'honor': 3370, 'killings': 3875, 'murdered': 4562, 'reasons': 5581, 'caught': 1268, 'guilty': 3165, 'claim': 1422, 'killing': 3874, 'obtain': 4746, 'lenient': 4008, 'sentencing': 6107, 'french': 2932, 'judge': 3816, 'ordered': 4826, 'branches': 1030, 'scientologists': 6036, 'leaders': 3971, 'stand': 6424, 'trial': 6935, 'fraud': 2921, 'love': 4144, 'world': 7443, 'thai': 6773, 'samak': 5968, 'sundaravej': 6581, 'forced': 2872, 'resign': 5761, 'court': 1745, 'said': 5948, 'violated': 7218, 'constitution': 1637, 'hosting': 3393, 'cooking': 1687, 'seriously': 6112, 'dutch': 2312, 'ban': 778, 'burkas': 1127, 'picking': 5081, 'children': 1366, 'school': 6025, 'american': 495, 'intelligence': 3650, 'confirms': 1606, 'latest': 3949, 'actions': 334, 'south': 6334, 'ossetia': 4849, 'started': 6434, 'russias': 5930, 'position': 5218, 'correct': 1710, 'opec': 4795, 'finished': 2802, 'saudi': 5990, 'arabia': 581, 'later': 3948, 'saakashvili': 5933, 'lie': 4041, 'west': 7357, 'begins': 846, 'doubt': 2251, 'georgian': 3032, 'leader': 3970, 'pakistani': 4908, 'tribesmen': 6938, 'representing': 5735, 'half': 3197, 'million': 4413, 'people': 5020, 'vowed': 7258, 'switch': 6651, 'sides': 6210, 'amp': 504, 'join': 3796, 'taliban': 6679, 'americans': 496, 'don': 2231, 'stop': 6483, 'raids': 5519, 'pakistan': 4907, 'embassy': 2421, 'yemen': 7492, 'leaves': 3988, '16': 44, 'dead': 1901, '200': 82, 'babies': 746, 'sick': 6209, 'milk': 4411, 'scandal': 6006, 'spreading': 6398, 'brits': 1075, 'short': 6191, 'selling': 6089, 'financial': 2792, 'stocks': 6474, 'navy': 4608, 'sails': 5951, 'venezuela': 7178, '13': 30, 'billion': 898, 'money': 4481, 'allocated': 471, 'reconstruction': 5609, 'projects': 5372, 'wasted': 7308, 'stolen': 6476, 'ending': 2455, 'al': 448, 'qaedas': 5486, 'coffers': 1483, 'empire': 2431, 'near': 4614, 'collapse': 1487, 'woman': 7424, 'red': 5621, 'handed': 3210, 'drinking': 2284, 'orange': 4820, 'juice': 3820, 'dubai': 2304, 'japanese': 3770, 'space': 6342, 'tourist': 6872, 'paid': 4902, 'adventures': 377, '21m': 106, 'iss': 3745, 'bumped': 1120, 'sent': 6103, 'investors': 3703, 'instead': 3632, 'kept': 3848, 'power': 5243, 'nightmares': 4676, 'bbc': 823, 'gorbachev': 3083, 'forms': 2893, 'new': 4653, 'party': 4962, 'opposing': 4816, 'fucking': 2950, 'hell': 3282, 'great': 3119, 'britain': 1072, '2008': 87, 've': 7168, 'soweto': 6341, 'seen': 6082, 'aids': 426, 'orphans': 4844, 'eating': 2340, 'better': 884, 'mexican': 4379, 'farm': 2698, 'dies': 2108, 'lighting': 4055, 'strikes': 6508, 'kill': 3870, 'iceland': 3451, 'sept': 6109, '08': 9, 'best': 880, 'country': 1737, 'live': 4092, '07': 8, 'oct': 4758, 'food': 2863, 'hoarding': 3334, 'currency': 1835, 'rated': 5551, 'just': 3829, 'zimbabwe': 7517, 'russia': 5927, 'won': 7427, 'buy': 1143, 'version': 7183, 'fine': 2795, '11': 23, 'modern': 4464, 'slavery': 6267, 'bush': 1138, 'administration': 359, 'month': 4491, 'quietly': 5503, 'cutting': 1845, 'birth': 908, 'control': 1673, 'supplies': 6593, 'worlds': 7444, 'poorest': 5199, 'africa': 396, 'icelandic': 3452, 'isk': 3731, 'loses': 4134, '73': 218, 'value': 7155, 'single': 6237, 'day': 1893, 'yesterday': 7496, 'usd': 7134, '92': 252, 'today': 6833, '418': 166, 'eu': 2526, 'bans': 795, 'incandescent': 3524, 'light': 4053, 'bul': 1112, 'lawyer': 3964, 'defended': 1970, 'journalists': 3811, 'poisoned': 5177, 'france': 2916, 'behalf': 848, '64': 204, 'canadians': 1189, 'vote': 7251, 'conservative': 1626, 'government': 3094, 'apologize': 547, 'weeks': 7345, 'podium': 5172, 'coke': 1484, 'dealers': 1906, 'badass': 759, 'house': 3401, 'private': 5329, 'zoo': 7522, 'freedoms': 2927, 'threat': 6794, 'big': 892, 'brother': 1085, 'state': 6440, 'warns': 7293, 'director': 2133, 'public': 5443, 'prosecutions': 5399, 'falls': 2683, '119th': 26, '160': 45, 'ranked': 5540, 'press': 5292, 'outside': 4868, 'territory': 6756, 'reporters': 5730, 'borders': 1000, 'argentina': 595, 'nationalizes': 4597, 'pensions': 5017, 'acknowledges': 326, 'enormous': 2471, 'error': 2503, 'takes': 6676, 'action': 333, 'protect': 5408, 'workers': 7440, 'retirees': 5797, 'banks': 791, 'formally': 2891, 'renews': 5710, 'ties': 6818, 'cuba': 1819, 'rampant': 5533, 'committed': 1532, 'crimes': 1784, 'finnish': 2805, 'voting': 7256, 'votes': 7255, 'paper': 4923, 'trail': 6895, 'know': 3894, 'got': 3087, 'worry': 7449, 'wanted': 7281, 'shine': 6169, 'australian': 708, 'friends': 2938, 'potential': 5235, 'internet': 3669, 'filter': 2783, 'problem': 5337, 'let': 4014, 'spotlight': 6393, 'reply': 5725, 'ends': 2458, 'bilingual': 896, 'road': 5864, 'wales': 7271, 'ask': 637, 'camera': 1173, 'license': 4038, 'mp': 4535, 'receive': 5590, 'copy': 1695, 'orwell': 4846, 'nineteen': 4679, 'eighty': 2389, 'kenya': 3845, 'declares': 1934, 'holiday': 3343, 'obama': 4733, 'london': 4119, 'smokers': 6283, 'banned': 792, 'fostering': 2902, 'wait': 7267, 'id': 3454, 'cards': 1224, 'wtf': 7473, 'indifferent': 3554, 'scheme': 6018, 'actually': 345, 'want': 7280, 'card': 1222, 'uk': 7018, 'asks': 640, 'media': 4321, 'release': 5679, 'iaea': 3446, 'documents': 2216, 'linking': 4074, 'nuclear': 4715, 'push': 5473, 'fabricated': 2651, 'sudan': 6556, 'president': 5290, 'announced': 524, 'immediate': 3496, 'ceasefire': 1279, 'darfur': 1877, 'stupid': 6532, 'believing': 865, 'witchcraft': 7413, 'work': 7435, 'harder': 3229, 'recoup': 5615, 'note': 4704, 'left': 3993, 'pyramid': 5482, 'operators': 4806, 'taunt': 6704, 'angry': 516, 'good': 3079, 'going': 3073, 'hang': 3215, 'balls': 776, 'hanged': 3216, 'saddam': 5942, 'hussein': 3439, 'sarkozy': 5981, 'yes': 7495, 'end': 2452, 'like': 4058, 'point': 5173, 'haitians': 3194, 'desperate': 2064, 'mothers': 4516, 'newborns': 4654, 'infants': 3577, 'die': 2106, 'malnourishment': 4215, 'india': 3549, 'sinks': 6242, 'somali': 6316, 'pirate': 5108, 'ship': 6170, 'ignored': 3472, 'g20': 2971, 'meeting': 4331, 'denmark': 2027, 'considers': 1632, 'outlawing': 4859, 'male': 4210, 'circumcision': 1404, 'minors': 4435, 'swiss': 6650, 'army': 612, 'vegetarians': 7171, 'fighting': 2765, 'boycott': 1022, 'tasers': 6701, 'cause': 1269, 'fear': 2720, 'damage': 1860, 'confidence': 1604, 'rip': 5852, 'brenden': 1054, 'foster': 2901, 'wish': 7412, 'feed': 2734, 'homeless': 3351, 'updates': 7109, 'mumbai': 4559, 'blasts': 935, 'photographer': 5070, 'gun': 3169, 'armed': 605, 'make': 4197, 'offence': 4761, 'punishable': 5459, 'years': 7490, 'imprisonment': 3520, 'publish': 5446, 'elicit': 2407, 'information': 3591, 'constable': 1636, 'brazil': 1036, 'announces': 525, 'plan': 5126, 'slow': 6272, 'amazon': 489, 'deforestation': 1981, '70': 212, 'fell': 2739, 'assassin': 647, 'canadian': 1188, 'conservatives': 1627, 'suspend': 6626, 'parliament': 4943, 'avoid': 729, 'facing': 2662, 'non': 4688, 'false': 2685, 'flag': 2826, 'men': 4347, 'illegally': 3482, 'buying': 1145, 'mobile': 4461, 'phone': 5064, 'used': 7136, 'gunmen': 3170, 'counter': 1728, 'insurgency': 3642, 'officer': 4770, 'gets': 3039, 'kiss': 3886, 'deaf': 1904, 'canada': 1186, 'wal': 7270, 'mart': 4268, 'tries': 6941, 'prevent': 5298, 'employee': 2432, 'unionization': 7072, 'supreme': 6602, 'escapee': 2507, 'tells': 6739, 'horrors': 3385, 'korean': 3901, 'camp': 1178, 'unrest': 7096, 'gripped': 3139, 'greece': 3122, 'spilling': 6378, 'rest': 5781, 'europe': 2530, 'raising': 5526, 'concerns': 1583, 'clashes': 1430, 'trigger': 6942, 'opponents': 4810, 'globalization': 3062, 'disaffected': 2136, 'youth': 7507, 'mugabe': 4547, 'arrest': 614, 'charges': 1341, 'jaw': 3774, 'dropped': 2293, 'face': 2653, 'contorted': 1663, 'turks': 6988, 'armenian': 607, 'massacres': 4276, 'shoe': 6181, 'thrower': 6802, 'faces': 2657, '7yrs': 230, 'offending': 4764, 'head': 3254, 'applauds': 564, 'ing': 3597, 'uses': 7141, 'molotov': 4474, 'cocktails': 1478, 'fight': 2762, 'pirates': 5110, 'scientist': 6033, 'repeat': 5719, '1962': 66, 'milgram': 4407, 'test': 6764, '80': 231, 'told': 6836, 'authority': 715, 'figure': 2767, 'learned': 3982, 'threatened': 6796, 'anti': 534, 'act': 330, 'videoing': 7198, 'performing': 5029, 'search': 6056, 'express': 2626, '39': 159, 'capital': 1209, 'discover': 2149, 'lets': 4015, 'intrest': 3682, 'rate': 5550, '22': 107, '99': 260, 'compounded': 1567, 'monthly': 4492, 'late': 3947, 'fee': 2733, 'earth': 2329, 'city': 1413, 'shipbreakers': 6171, '120': 28, 'reportedly': 5728, 'killed': 3871, 'gaza': 3009, 'entire': 2481, 'apt': 579, 'building': 1108, 'civilians': 1418, 'union': 7071, 'activist': 338, 'eye': 2646, 'acid': 323, 'supporters': 6597, 'blockade': 947, 'company': 1547, 'riot': 5848, 'run': 5916, 'leaving': 3989, 'shields': 6165, 'helmets': 3285, 'shoes': 6182, 'pleads': 5152, 'acting': 332, 'spy': 6401, 'australia': 707, 'request': 5743, 'detainees': 2078, 'palestine': 4910, 'stands': 6427, 'soldier': 6308, 'true': 6960, 'lied': 4042, 'vatican': 7166, 'giant': 3044, 'concentration': 1578, 'time': 6824, 'video': 7197, 'didn': 2104, 'hinders': 3320, 'arms': 611, 'delivery': 2001, 'headquarters': 3257, 'hit': 3328, 'white': 7371, 'phosphorus': 5066, 'shells': 6159, 'reveals': 5807, 'worst': 7453, 'sins': 6243, 'desecrating': 2054, 'eucharist': 2527, 'outranks': 4866, 'genocide': 3026, 'farmers': 2700, 'beginning': 845, 'feel': 2735, 'sting': 6468, 'worldwide': 7445, 'officers': 4771, 'warned': 7290, 'traveling': 6922, 'danger': 1869, 'huh': 3417, 'nytimes': 4729, 'publishes': 5448, 'op': 4794, 'ed': 2359, 'libyan': 4035, 'muammar': 4542, 'qaddafi': 5484, 'strangely': 6497, 'makes': 4201, 'sense': 6100, 'solution': 6312, 'bailout': 766, 'russians': 5929, 'cheaper': 1350, 'vodka': 7241, 'cut': 1843, 'alcohol': 454, 'taxes': 6707, 'ease': 2331, 'citizens': 1412, 'pain': 4903, 'human': 3418, 'rights': 5843, 'richard': 5829, 'falk': 2677, 'jewish': 3785, 'evokes': 2551, 'memories': 4345, 'warsaw': 7299, 'ghetto': 3041, 'dismisses': 2169, 'argument': 600, 'assault': 651, 'self': 6086, 'defense': 1973, 'labels': 3915, 'hater': 3244, 'david': 1889, 'attenborough': 691, 'creationist': 1773, 'hate': 3243, 'mail': 4185, 'crediting': 1777, 'god': 3069, 'dear': 1910, 'reddit': 5623, 'attention': 694, 'humanitarian': 3419, 'crisis': 1792, 'democratic': 2009, 'congo': 1611, 'taken': 6675, 'lives': 4095, '1998': 77, 'continue': 1660, 'leave': 3987, '45': 174, '000': 1, 'deep': 1954, 'doo': 2241, 'picture': 5085, 'students': 6524, 'bombings': 985, 'mention': 4350, 'names': 4587, 'ages': 407, 'anymore': 540, 'blame': 927, 'protester': 5414, 'thrown': 6804, 'wen': 7353, 'jiabao': 3787, 'speech': 6365, 'cambridge': 1171, 'university': 7079, 'called': 1165, 'dictator': 2100, 'admits': 362, 'peace': 4997, 'doctor': 2208, 'daughters': 1888, 'tank': 6686, 'claims': 1425, 'reasonable': 5580, 'shocked': 6178, 'moral': 4498, 'girls': 3051, 'pu': 5442, 'lords': 4132, 'surveillance': 6615, 'greatest': 3121, 'democracy': 2008, 'hitler': 3330, 'shortly': 6193, 'fires': 2809, 'pregnant': 5273, 'gang': 2991, '100': 11, 'lashes': 3945, 'committing': 1534, 'adultery': 374, 'christians': 1392, 'jerusalem': 3783, 'jews': 3786, 'spitting': 6381, 'teenage': 6726, 'thief': 6782, 'picked': 5080, 'wrong': 7470, 'tried': 6940, 'bag': 760, 'belonging': 867, 'pensioner': 5015, 'jean': 3776, 'hirst': 3325, 'championship': 1320, 'sprinter': 6400, 'dude': 2307, 'send': 6094, 'veterans': 7187, 'hunt': 3430, 'win': 7396, 'wasn': 7306, 'godly': 3070, 'sniper': 6293, 'shot': 6194, 'running': 5919, 'trees': 6933, 'smoke': 6282, 'mexico': 4381, 'discovered': 2150, 'oil': 4780, 'times': 6826, 'present': 5284, 'known': 3896, 'reserves': 5757, 'saudis': 5991, 'goes': 3072, 'electric': 2399, 'vehicle': 7173, 'progress': 5365, 'extremists': 2644, 'criminalising': 1786, 'legitimate': 4006, 'dissent': 2181, 'guise': 3167, 'extremism': 2642, 'word': 7432, 'definition': 1980, 'seized': 6085, '425': 168, 'acres': 329, 'palestinian': 4911, 'land': 3930, 'build': 1107, 'settlement': 6124, '2500': 120, 'homes': 3357, 'interested': 3661, 'graph': 3112, 'historic': 3326, 'collapses': 1488, 'puts': 5478, 'current': 1836, 'perspective': 5043, 'legalize': 4000, 'ammiano': 499, 'introduce': 3683, 'legislation': 4005, 'monday': 4480, 'allow': 472, 'pot': 5233, 'tax': 6706, 'bono': 992, 'african': 397, 'aid': 423, 'survives': 6620, '10': 10, 'days': 1896, 'ski': 6253, 'mountain': 4522, 'spouse': 6395, 'rescue': 5750, 'teams': 6718, 'began': 841, 'ground': 3141, 'searches': 6057, 'tuesday': 6972, 'despite': 2065, 'helicopter': 3279, 'pilots': 5099, 'twice': 7001, 'reporting': 5731, 'saw': 5999, 'sos': 6327, 'symbol': 6655, 'carved': 1244, 'snow': 6296, 'blocks': 951, 'pasta': 4975, 'shipment': 6172, 'piece': 5087, 'macaroni': 4171, 'united': 7076, 'decided': 1926, 'upcoming': 7107, 'conference': 1601, 'racism': 5508, 'unless': 7084, 'final': 2788, 'document': 2211, 'changed': 1324, 'drop': 2292, 'references': 5632, 'night': 4673, 'asteroid': 667, 'ago': 411, 'size': 6251, 'story': 6494, 'moving': 4532, '12': 27, 'miles': 4406, 'second': 6064, 'buzzed': 1147, 'pass': 4963, 'distance': 2184, 'moon': 4497, 'luck': 4154, 'bigoted': 895, 'parents': 4937, 'disabled': 2135, 'telly': 6740, 'say': 6000, 'mandatory': 4227, 'jail': 3760, 'terms': 6752, 'economist': 2349, 'disaster': 2143, 'policy': 5184, 'jong': 3804, 'il': 3478, 'news': 4656, 'koreans': 3902, 'camps': 1183, 'net': 4641, 'neutrality': 4651, 'guys': 3175, 'mps': 4537, 'jailed': 3761, 'offensive': 4765, 'hamas': 3204, 'ruled': 5911, 'strip': 6510, '434': 171, 'including': 3533, '960': 258, '239': 114, '235': 113, 'fighters': 2764, 'ara': 580, 'wailing': 7266, 'stricken': 6504, 'graphic': 3113, 'shooting': 6185, '37': 157, 'californian': 1163, 'nonviolent': 4689, 'protests': 5419, 'hello': 3283, 'wikileaks': 7385, 'huge': 3415, 'bank': 786, 'gags': 2979, 'newspaper': 4658, 'revealing': 5806, 'multi': 4552, 'pound': 5239, 'rort': 5888, 'adds': 356, 'website': 7336, 'scenes': 6015, 'recession': 5596, 'crowded': 1806, 'civilian': 1417, 'sorts': 6326, 'away': 738, 'terrified': 6754, 'pic': 5077, 'tshirt': 6969, 'way': 7322, 'doesnt': 2219, 'ironic': 3724, 'thousands': 6793, 'cctv': 1276, 'cameras': 1175, 'shut': 6205, 'google': 3081, 'street': 6501, 'view': 7202, 'privacy': 5328, 'china': 1372, 'youtube': 7509, 'drug': 2299, 'pics': 5084, 'defamation': 1958, 'religion': 5686, 'violation': 7220, 'machine': 4173, 'overdrive': 4871, 'shoot': 6183, 'kids': 3867, 'went': 7354, 'warning': 7291, 'shots': 6195, 'exaggerated': 2557, 'does': 2217, 'think': 6786, 'anybody': 539, 'buys': 1146, 'crap': 1762, 'western': 7358, 'censorship': 1294, 'll': 4100, 'morbidly': 4500, 'absurd': 289, 'prosecution': 5398, 'child': 1365, 'pornography': 5212, 'laws': 3962, 'possible': 5223, 'palin': 4913, 'spaniards': 6346, 'grateful': 3115, 'reilly': 5667, 'promising': 5377, 'visit': 7234, 'spain': 6345, 'mideastern': 4397, 'nation': 4595, 'photoshops': 5074, 'photograph': 5068, 'cabinet': 1151, 'dark': 1879, 'calderon': 1161, 'impossible': 3517, 'tons': 6847, 'complicity': 1564, 'authorities': 714, 'protesters': 5415, 'tibet': 6813, 'death': 1912, 'film': 2779, 'maker': 4198, 'sir': 6244, 'patron': 4986, 'group': 3143, 'seeking': 6080, 'growth': 3150, 'population': 5207, 'overfishing': 4872, 'wipe': 7406, 'bluefin': 962, 'tuna': 6977, 'wwf': 7476, 'monsanto': 4490, 'uprooted': 7119, 'germany': 3036, 'cultivation': 1824, 'gm': 3065, 'corn': 1703, 'deleting': 1995, 'tourists': 6873, 'photographing': 5071, 'transport': 6915, 'strictly': 6506, 'forbidden': 2869, 'poll': 5190, '60': 194, 'swedes': 6644, 'showed': 6198, '89': 246, 'cent': 1296, 'believed': 863, 'founders': 2907, 'acquitted': 328, 'decides': 1927, 'museum': 4570, 'tolerance': 6838, 'atop': 681, 'muslim': 4574, 'cemetery': 1291, 'redditors': 5624, 'awarded': 735, 'homo': 3360, 'heroes': 3297, 'fm': 2855, 'believe': 862, 'accepts': 302, 'decisions': 1930, 'admin': 358, 'forth': 2895, 'initiatives': 3604, 'wants': 7282, 'decide': 1925, '19': 56, 'coward': 1753, 'tent': 6745, 'handcuff': 3208, 'hold': 3337, 'indecently': 3545, 'scene': 6014, 'setting': 6122, 'afghanistan': 394, 'need': 4620, 'understand': 7050, 'waterboarding': 7316, 'outbreak': 4853, 'swine': 6649, 'flu': 2851, 'renamed': 5706, 'influenza': 3587, 'deference': 1975, 'sensitivities': 6102, 'pork': 5210, 'health': 3260, 'muslims': 4575, 'dont': 2240, 'care': 1225, 'doesn': 2218, 'speak': 6352, 'everybody': 2546, 'talking': 6681, 'personal': 5040, 'use': 7135, 'breaking': 1045, 'royal': 5901, 'car': 1218, 'bus': 1137, 'high': 3309, 'speed': 6367, 'hits': 3331, 'remarkable': 5693, 'thing': 6784, 'happened': 3221, 'week': 7342, '400': 163, 'fellow': 2741, 'wearing': 7331, 'black': 918, 'solidarity': 6310, 'carrying': 1237, 'signs': 6224, 'support': 6595, 'walked': 7273, 'keswick': 3849, 'rally': 5529, 'consider': 1628, 'banning': 794, 'marriage': 4262, '18': 51, 'brazilian': 1037, 'cattle': 1266, 'ranching': 5535, 'permission': 5032, 'paraguayan': 4927, 'destroy': 2067, 'forest': 2880, 'ayoreo': 743, 'totobiegosode': 6868, 'indians': 3551, 'uncontacted': 7040, 'tribes': 6937, 'biggest': 894, 'sweden': 6643, 'membership': 4342, 'count': 1726, 'tm': 6831, 'shoots': 6186, 'peaceful': 4998, 'protestor': 5417, 'blank': 930, 'idf': 3460, 'intentionally': 3655, 'target': 6695, 'eric': 2501, 'arthur': 623, 'blair': 926, 'aka': 447, 'george': 3030, 'proud': 5420, 'thought': 6791, 'muscle': 4569, 'passes': 4969, 'law': 3959, 'making': 4202, 'illegal': 3481, 'shia': 6163, 'refuse': 5644, 'sex': 6132, 'husband': 3437, 'custody': 1839, 'wonder': 7428, 'doubting': 2252, 'sacrifice': 5940, 'worth': 7454, 'piratebay': 5109, 'launches': 3955, 'wonderful': 7429, 'dimes': 2120, 'swedish': 6645, 'freeze': 2929, 'accounts': 313, 'admins': 360, 'alvaro': 483, 'colom': 1500, 'unsung': 7099, 'hero': 3296, 'reason': 5579, 'bulbs': 1113, 'moat': 4460, 'cleaning': 1438, 'campaigning': 1181, 'journalist': 3810, 'heather': 3269, 'brooke': 1083, 'spent': 6371, 'tooth': 6851, 'nail': 4582, 'come': 1515, 'clean': 1437, 'expenses': 2601, 'tamil': 6684, 'tiger': 6819, 'rebels': 5586, 'velupillai': 7176, 'prabhakaran': 5249, 'belgian': 860, 'bodybuilding': 974, 'canceled': 1193, 'doping': 2244, 'officials': 4775, 'competitors': 1556, 'fled': 2833, 'endemic': 2454, 'abuse': 290, 'irish': 3723, 'catholic': 1265, 'inquiry': 3613, 'finds': 2794, 'nigerian': 4671, 'hundreds': 3424, 'maybe': 4295, 'rich': 5828, 'niger': 4669, 'delta': 2002, 'received': 5591, 'little': 4090, 'international': 3667, 'tiananmen': 6811, 'anniversary': 522, 'unimportant': 7069, 'european': 2531, 'shock': 6177, 'politicians': 5188, 'digital': 2115, 'illiterates': 3486, 'fuck': 2948, 'strike': 6507, 'longer': 4123, 'bound': 1015, '1953': 63, 'armistice': 609, 'immigrant': 3500, 'cracks': 1760, 'centuries': 1303, 'mathematical': 4287, 'puzzle': 5480, 'hidden': 3304, 'massacre': 4275, 'throes': 6800, 'sri': 6410, 'lankan': 3939, 'civil': 1416, 'result': 5790, 'shelling': 6158, 'air': 433, 'aircraft': 435, '215': 103, 'disappeared': 2139, 'radar': 5510, 'atlantic': 676, 'ocean': 4756, 'jaqui': 3772, 'smith': 6280, 'finally': 2789, 'small': 6277, 'respite': 5772, 'breathes': 1050, 'sigh': 6215, 'relief': 5685, 'june': 3826, '4th': 180, '1989': 72, 'carradine': 1234, 'bangkok': 783, 'dearlove': 1911, 'concerned': 1581, 'loss': 4136, 'liberties': 4031, 'mi6': 4386, 'striking': 6509, 'disturbing': 2191, 'invasions': 3690, 'enters': 2479, 'torre': 6858, 'cnn': 1467, 'teaching': 6714, 'spot': 6392, 'terrorists': 6760, 'olds': 4784, 'urges': 7128, 'tell': 6737, 'teacher': 6712, 'hear': 3263, 'expressing': 2627, 'extremist': 2643, 'views': 7206, 'frank': 2919, 'mcgarahan': 4304, 'beaten': 832, 'stepped': 6457, 'courage': 1742, 'life': 4045, 'darkness': 1880, 'berlusconi': 875, 'decree': 1943, 'wiretapping': 7410, 'justice': 3830, 'freedom': 2926, 'blogs': 953, 'italy': 3751, 'asleep': 641, 'tv': 6997, 'pictures': 5086, 'tehran': 6730, 'delivered': 2000, 'stark': 6431, 'reminder': 5699, 'backward': 756, 'medieval': 4329, 'fanatics': 2695, 'thirds': 6789, '30': 139, 'interests': 3662, 'aspirations': 643, 'counterparts': 1732, 'yall': 7484, 'wanna': 7279, 'feminism': 2745, 'patriotism': 4984, 'iranian': 3715, 'leaked': 3976, 'real': 5575, 'results': 5791, 'interior': 3665, 'ministry': 4430, 'ones': 4788, 'showing': 6200, 'ahmadinejad': 420, 'coming': 1519, 'suspicious': 6630, 'accident': 305, '00am': 6, 'posting': 5228, 'vancouver': 7159, 'site': 6247, '2010': 90, 'winter': 7405, 'olympics': 4787, 'seize': 6084, 'warrant': 7295, 'issued': 3747, 'mistaken': 4452, 'grabbed': 3100, 'pinned': 5102, 'arm': 603, 'led': 3991, 'bowels': 1019, 'identification': 3456, 'basij': 813, 'bring': 1067, 'urgent': 7127, 'basiji': 814, 'footballers': 2868, 'wore': 7434, 'green': 3126, 'armbands': 604, 'retire': 5796, 'hardline': 3230, 'regime': 5650, 'unimaginable': 7068, 'horror': 3384, 'screw': 6050, 'honduras': 3366, 'coup': 1739, 'currently': 1837, 'holding': 3339, 'gtfo': 3153, 'happy': 3223, 'scientology': 6037, 'viral': 7227, 'marketing': 4260, 'uganda': 7012, 'outlaw': 4858, 'friend': 2936, 'email': 2416, 'videos': 7199, 'firing': 2813, 'uploaded': 7114, 'eyewitness': 2648, 'account': 310, 'disappear': 2137, 'falsely': 2686, 'cried': 1780, 'town': 6877, 'sale': 5960, 'bottled': 1009, 'water': 7315, 'community': 1545, 'ireland': 3721, 'blasphemy': 932, 'passed': 4966, 'wednesday': 7340, '25': 118, 'euro': 2528, 'enter': 2477, 'confiscate': 1607, 'blasphemous': 931, 'materials': 4286, 'books': 996, 'artwork': 631, 'cartoons': 1243, 'mohammed': 4468, 'book': 994, 'burnings': 1132, 'wars': 7298, 'break': 1043, 'bhopal': 886, 'pop': 5202, 'rationed': 5556, 'minutes': 4437, 'supply': 6594, 'indore': 3567, 'hour': 3399, 'seven': 6128, 'line': 4068, 'melting': 4339, 'alps': 480, 'contaminated': 1652, '1984': 69, 'catastrophe': 1260, 'scared': 6013, 'dow': 2253, 'chemical': 1358, 'management': 4221, 'team': 6715, 'hiding': 3307, 'earthquake': 2330, 'm7': 4169, 'coast': 1471, 'island': 3735, 'zealand': 7513, 'tsunami': 6970, 'professional': 5350, 'snipers': 6294, 'brought': 1089, 'guard': 3158, 'vulnerable': 7261, 'colony': 1505, 'penguins': 5011, 'troops': 6953, 'contractors': 1667, 'caused': 1270, 'substantial': 6547, 'archeological': 589, 'babylon': 748, 'considered': 1630, 'civilizations': 1420, 'fsm': 2945, 'terrible': 6753, 'sad': 5941, 'mum': 4558, 'hard': 3228, 'read': 5573, 'cell': 1286, 'ad': 347, 'shows': 6202, 'friendly': 2937, 'wall': 7276, 'palestinians': 4912, 'kick': 3859, 'ball': 773, 'salvo': 5966, 'tear': 6719, 'gas': 3000, 'grenades': 3130, 'fired': 2807, 'return': 5798, 'includes': 3532, 'lol': 4118, 'jersey': 3782, 'mayors': 4298, 'rabbis': 5506, 'involvement': 3708, 'laundering': 3956, 'conspiracy': 1635, '26': 125, 'documentary': 2213, 'footage': 2865, 'fool': 2864, 'trips': 6949, 'rays': 5562, 'treatment': 6930, 'scourge': 6047, 'scalpal': 6005, 'ringworm': 5846, 'dna': 2204, 'database': 1883, 'convicted': 1683, 'crime': 1782, 'argue': 598, 'innocent': 3609, 'likely': 4059, 'commit': 1529, 'future': 2970, 'drags': 2269, 'daughter': 1887, 'faux': 2713, 'detector': 2081, 'radio': 5514, 'skipped': 6256, 'previous': 5304, 'experience': 2602, 'surprised': 6611, 'hasn': 3242, 'higher': 3310, 'scale': 6004, 'bom': 981, 'incredible': 3542, 'bolivia': 980, 'circus': 1406, 'animals': 519, 'defines': 1979, 'cruelty': 1811, 'kind': 3880, 'chavez': 1348, 'shuts': 6207, '34': 151, 'stations': 6445, 'waves': 7320, 'belong': 866, 'bourgeoisie': 1017, 'idol': 3464, 'teenager': 6727, 'revelation': 5808, 'releases': 5681, 'terrorist': 6759, 'sight': 6216, 'supposedly': 6600, 'unhackable': 7063, 'containing': 1649, 'cloned': 1456, 'modified': 4466, 'unbelievable': 7033, 'hypocrisy': 3444, 'islamic': 3733, 'preacher': 5262, 'dictatorship': 2102, 'allowed': 473, 'descendants': 2050, 'rats': 5559, 'pigs': 5091, 'elected': 2394, 'islamist': 3734, 'parliamentarian': 4944, 'member': 4340, 'refused': 5645, 'malaysia': 4207, 'brain': 1028, 'damaged': 1861, 'nh1n1': 4661, 'masturbation': 4283, 'nhomosexuality': 4663, 'refusal': 5643, 'decrypt': 1952, 'data': 1882, 'message': 4364, 'anonymous': 529, 'living': 4098, 'recently': 5595, 'diagnosed': 2096, 'breast': 1049, 'cancer': 1198, 'gotten': 3089, 'letter': 4016, 'panels': 4921, 'medical': 4322, 'councils': 1723, 'determine': 2085, 'eligible': 2408, 'percent': 5025, 'coverage': 1750, 'provided': 5426, 'pay': 4991, '635': 202, '85': 240, 'service': 6116, 'compared': 1548, '131': 31, '44': 172, 'netherlands': 4644, '137': 32, '94': 255, 'campaign': 1179, 'officially': 4774, 'castrating': 1254, 'driving': 2289, 'alan': 449, 'turing': 6984, 'helped': 3287, 'nazi': 4609, 'codes': 1481, 'revolutionize': 5821, 'computing': 1574, 'homosexual': 3361, 'huckabee': 3414, 'room': 5885, 'middle': 4396, 'homeland': 3350, 'able': 275, 'settlements': 6125, 'aipac': 432, '2012': 92, 'checkbooks': 1354, 'australians': 709, 'stayed': 6448, 'turns': 6994, 'sleeping': 6269, 'atm': 678, 'cocaine': 1474, 'bar': 797, 'guy': 3174, 'haven': 3249, 'learn': 3981, 'effective': 2375, 'decriminalizes': 1950, 'possession': 5220, 'amounts': 503, 'heroin': 3298, 'body': 973, 'trying': 6967, 'plastic': 5139, 'pint': 5103, 'glasses': 3057, 'compulsory': 1571, 'nanny': 4590, 'order': 4825, 'consumption': 1646, 'hostage': 3390, 'kills': 3876, 'escapes': 2508, 'courts': 1747, 'blocking': 950, 'youngest': 7504, 'person': 5039, 'sail': 5949, 'apology': 549, 'backlash': 754, 'latin': 3950, 'liberal': 4028, 'prosecutors': 5401, 'cultural': 1825, 'publishing': 5449, 'cartoon': 1242, 'suggests': 6571, 'ii': 3474, 'fabrication': 2652, 'chief': 1364, 'inspector': 3625, 'calls': 1167, 'hyped': 3441, 'darling': 1881, 'aspiration': 642, 'corrupt': 1714, 'grows': 3149, 'changing': 1326, 'proudly': 5421, 'secular': 6074, 'combat': 1511, 'units': 7077, 'filling': 2777, 'nurse': 4725, 'struck': 6518, 'register': 5654, 'secretly': 6069, 'filming': 2781, 'lack': 3921, 'brighton': 1066, 'hospital': 3386, 'nominated': 4686, 'national': 4596, 'award': 734, 'decades': 1920, 'inbreeding': 3523, 'causing': 1272, 'immense': 3498, 'suffering': 6563, 'pedigree': 5003, 'dogs': 2221, 'plagued': 5122, 'painful': 4904, 'deadly': 1902, 'genetic': 3021, 'diseases': 2162, 'breeding': 1052, 'appearance': 558, 'investigation': 3697, 'starving': 6439, 'virtually': 7230, 'machinery': 4174, 'eaten': 2338, 'livestock': 4096, 'czar': 1853, 'slams': 6260, 'harper': 3235, 'gov': 3091, 'exits': 2588, 'approach': 572, 'utterly': 7146, 'failed': 2668, 'past': 4974, '40': 162, 'emperor': 2430, 'truly': 6961, 'clothes': 1463, 'case': 1246, 'church': 1397, 'dissolved': 2183, 'typo': 7007, 'obscure': 4741, 'voted': 7252, 'explicitly': 2611, 'prevents': 5303, 'richer': 5830, 'wealth': 7326, 'fallen': 2680, 'region': 5652, 'allowing': 474, 'step': 6455, 'plate': 5140, 'richest': 5832, 'continent': 1659, 'promised': 5375, 'wear': 7330, 'lime': 4062, 'dress': 2278, 'funeral': 2966, 'september': 6110, '15th': 43, 'kevin': 3850, 'elliot': 2413, 'promise': 5374, 'young': 7502, 'created': 1768, 'volunteer': 7249, 'patrol': 4985, 'malls': 4214, 'places': 5119, 'interracial': 3673, 'dates': 1886, 'committee': 1533, 'cross': 1801, 'access': 303, 'safe': 5944, 'cease': 1278, 'november': 4709, '1992': 75, '600': 195, 'scientists': 6034, '104': 17, 'nobel': 4684, 'laureates': 3958, 'endorsed': 2456, 'bride': 1062, 'inspires': 3627, 'curfew': 1832, 'extended': 2629, '50': 181, 'brazillian': 1039, 'barrios': 808, 'barracaded': 803, 'evicted': 2547, 'fan': 2694, 'armored': 610, 'pittsburgh': 5114, 'campus': 1184, 'stopping': 6485, 'anarchists': 508, 'philippine': 5061, 'saving': 5996, 'working': 7441, 'chiquitas': 1375, 'plantations': 5135, 'hands': 3214, 'burning': 1131, 'inside': 3617, 'rubber': 5904, 'gloves': 3064, '14': 33, 'mess': 4363, 'farmer': 2699, 'holy': 3348, 'roman': 5879, 'nova': 4707, 'scotia': 6044, 'bishop': 912, 'busted': 1141, 'ncanadian': 4611, 'airport': 441, 'laptop': 3941, 'porn': 5211, 'nthe': 4714, 'kicker': 3861, 'previously': 5305, 'nhelped': 4662, 'broker': 1081, 'nsexually': 4712, 'abused': 291, 'priests': 5312, 'diocese': 2123, 'boy': 1021, 'harnessed': 3234, 'wind': 7397, 'malawian': 4206, 'transformed': 6907, 'village': 7210, 'windmills': 7399, 'junk': 3828, 'revolution': 5819, 'regulation': 5660, 'requires': 5747, 'chemicals': 1359, 'assessed': 657, 'potentially': 5236, 'toxic': 6879, 'effects': 2377, 'beings': 858, 'environment': 2488, 'signals': 6219, 'industrys': 3571, 'ability': 274, 'withhold': 7417, 'critical': 1793, 'italian': 3750, 'prosecutor': 5400, 'cia': 1398, 'kidnapping': 3865, 'grave': 3116, 'cover': 1749, 'energy': 2461, 'utility': 7145, 'companies': 1546, 'prices': 5309, '42': 167, '382': 158, 'household': 3402, 'wholesale': 7374, 'cost': 1717, 'electricity': 2401, 'halved': 3202, 'bills': 903, 'oh': 4779, 'wow': 7459, 'joseph': 3808, 'stalin': 6419, 'grandson': 3107, 'yevgeny': 7497, 'dzhugashvili': 2319, 'launched': 3953, 'claiming': 1424, 'defamed': 1959, 'soviet': 6338, 'deaths': 1913, 'yahoo': 7483, 'users': 7140, 'forces': 2873, 'immediately': 3497, 'taser': 6700, 'manufacturer': 4241, 'directive': 2131, 'aim': 428, 'weapon': 7328, 'suspect': 6623, 'chest': 1361, 'question': 5498, 'guardian': 3159, 'gagged': 2978, 'fingerprint': 2799, 'unmasks': 7087, 'da': 1855, 'vinci': 7214, 'painting': 4905, 'sold': 6307, 'auction': 701, '19th': 78, 'century': 1304, 'german': 3033, 'collector': 1494, 'multispectral': 4557, 'imaging': 3493, 'peer': 5006, 'layers': 3966, 'pigment': 5090, 'discovering': 2151, 'proved': 5423, 'vinvi': 7216, 'serve': 6113, 'occupation': 4750, 'violent': 7224, 'racist': 5509, 'inhumane': 3602, 'undemocratic': 7044, 'immoral': 3503, 'extreme': 2641, 'condition': 1594, 'presents': 5286, 'mortal': 4506, 'peoples': 5021, 'blackwater': 924, 'prostitutes': 5406, 'lithuanian': 4089, 'dad': 1856, 'senior': 6098, 'politician': 5187, 'molested': 4472, 'lobby': 4101, 'decriminalization': 1948, 'kuwaiti': 3910, 'passport': 4971, 'consent': 1622, 'husbands': 3438, 'columbia': 1507, 'cops': 1693, 'stomp': 6478, 'ribs': 5826, 'posted': 5226, 'calder': 1160, 'heard': 3264, 'diplomats': 2127, 'especially': 2510, 'publicly': 5445, 'usually': 7144, 'deal': 1905, 'respond': 5773, 'ah': 418, 'soo': 6321, 'desu': 2073, 'ka': 3835, 'fined': 2796, '900': 249, 'metallica': 4368, 'sucks': 6555, 'frontman': 2943, 'james': 3765, 'hetfield': 3300, 'chose': 1385, 'bands': 781, 'music': 4571, 'represents': 5736, 'likemaybe': 4060, 'aggression': 409, 'adviser': 382, 'sparked': 6348, 'controversy': 1677, 'ecstasy': 2355, 'lsd': 4151, 'cannabis': 1203, 'dangerous': 1870, 'cigarettes': 1400, 'unidentified': 7066, 'ukraine': 7019, 'emergency': 2426, 'declared': 1933, 'following': 2861, 'comments': 1523, 'regarding': 5648, 'ectasy': 2356, 'nutt': 4726, 'sacked': 5937, 'telling': 6738, 'truth': 6965, 'wild': 7388, 'bear': 828, 'beating': 833, 'clash': 1429, 'suppress': 6601, 'broke': 1079, 'agent': 405, 'rendition': 5708, 'epidemic': 2491, '109': 20, '763': 224, 'infected': 3579, 'hospitalized': 3387, 'friday': 2935, 'advisers': 383, 'sacking': 5938, 'whistleblower': 7368, 'cop': 1689, 'sensation': 6099, 'released': 5680, 'series': 6111, 'calling': 1166, 'corruption': 1715, 'christian': 1390, 'janitor': 3768, 'rises': 5855, 'barriers': 807, 'caste': 1252, 'creed': 1778, 'sectarian': 6072, 'gives': 3053, 'save': 5993, 'idea': 3455, 'participating': 4949, 'drafting': 2266, 'speechless': 6366, 'authorized': 717, 'predator': 5268, 'drone': 2290, 'months': 4493, '500': 182, 'kicks': 3862, 'weather': 7334, 'channel': 1327, 'ass': 644, 'approves': 576, 'settler': 6126, 'dog': 2220, 'bridge': 1063, 'latvia': 3951, 'translated': 6909, 'article': 625, 'fifa': 2760, 'finance': 2791, 'stadium': 6414, 'territories': 6755, 'complete': 1560, 'fucked': 2949, 'snooping': 6295, 'cloud': 1465, 'storage': 6487, 'powers': 5247, 'specified': 6363, 'facilitating': 2659, 'prevention': 5301, 'reduction': 5627, 'online': 4791, 'infringement': 3594, 'copyright': 1697, 'limitations': 4064, 'disconnections': 2148, 'offenders': 4763, 'paralyzed': 4931, 'fully': 2956, 'aware': 736, '23': 112, 'isn': 3737, 'vegetable': 7170, 'saying': 6001, 'communicating': 1539, 'really': 5578, 'faking': 2675, 'communication': 1540, 'arriving': 620, 'integration': 3648, 'contract': 1665, 'require': 5745, 'respect': 5771, 'equality': 2493, 'medicine': 4326, 'startling': 6436, 'breakthrough': 1047, 'treating': 6929, 'wife': 7382, 'cure': 1831, 'multiple': 4555, 'sclerosis': 6038, 'ms': 4539, 'nuez': 4716, 'blood': 955, 'mouth': 4527, 'killer': 3872, 'putting': 5479, 'didnt': 2105, 'instinctively': 3633, 'reached': 5567, 'kinds': 3881, 'recorded': 5611, 'types': 7005, 'fibrous': 2756, 'bone': 989, 'refer': 5630, 'clearly': 1441, 'radiation': 5511, 'exposed': 2623, 'poisoning': 5178, 'salad': 5953, 'laced': 3920, 'overdose': 4870, 'pressure': 5293, 'medication': 4324, 'saddest': 5943, 'history': 3327, 'senate': 6092, 'studying': 6527, 'minimum': 4426, 'given': 3052, 'approval': 574, 'minor': 4432, 'amendments': 493, 'ruins': 5909, 'pompeii': 5195, 'added': 350, 'draw': 2276, 'ignites': 3469, 'cup': 1827, 'fever': 2752, 'tony': 6848, 'minute': 4436, 'wmd': 7422, 'taxi': 6708, 'driver': 2287, 'cash4gold': 1249, 'built': 1111, 'maintain': 4190, 'madness': 4179, 'vid': 7196, 'settlers': 6127, 'occupied': 4751, 'intepretation': 3657, 'quantum': 5492, 'physics': 5076, 'parallel': 4928, 'universe': 7078, 'crossed': 1802, 'border': 999, 'timeline': 6825, 'punched': 5457, 'pepper': 5022, 'sprayed': 6396, 'shit': 6176, 'kicked': 3860, 'handcuffed': 3209, 'wet': 7361, 'naked': 4585, 'tycoons': 7004, 'entitled': 2483, 'fields': 2759, 'assume': 663, 'invasion': 3689, 'opposition': 4817, 'federal': 2729, 'isp': 3739, 'filtering': 2784, 'hugo': 3416, 'climate': 1449, 'saved': 5994, 'uninsured': 7070, 'japan': 3769, 'sees': 6083, 'prescriptions': 5282, 'filled': 2776, 'sorry': 6324, 'whopping': 7376, 'bucks': 1099, 'home': 3349, 'paying': 4992, 'managing': 4225, 'things': 6785, 'prague': 5255, 'tower': 6876, 'largest': 3943, 'spherical': 6373, 'npanorama': 4710, 'gigapixel': 3047, 'megazoom': 4336, 'laura': 3957, 'dekker': 1988, 'ran': 5534, 'caribbean': 1228, 'wrecked': 7463, 'copenhagen': 1690, 'backyard': 757, 'training': 6897, 'property': 5390, 'owner': 4883, 'defends': 1972, 'knocks': 3893, 'pope': 5203, 'benedict': 870, 'christmas': 1393, 'mass': 4274, 'fact': 2663, 'born': 1002, 'greater': 3120, 'chance': 1321, 'raped': 5542, 'learning': 3984, 'reports': 5732, 'lots': 4139, 'witness': 7419, 'exiles': 2583, 'close': 1458, 'contacts': 1647, 'risking': 5858, 'post': 5225, 'taboo': 6666, 'major': 4193, 'starting': 6435, 'tomorrow': 6845, 'scanners': 6010, 'images': 3491, 'depict': 2035, 'untouched': 7101, 'stomach': 6477, 'contents': 1656, 'baby': 747, 'birds': 906, 'remote': 5700, 'marine': 4254, 'sanctuaries': 5974, '2000': 83, 'nearest': 4616, 'teach': 6711, 'gays': 3008, 'agenda': 404, 'ugandan': 7013, 'families': 2689, 'sodomize': 6303, 'impose': 3515, 'sentence': 6104, 'behavior': 850, 'having': 3251, 'sexual': 6133, 'intercourse': 3660, 'imams': 3494, 'affiliated': 391, 'council': 1721, 'fatwa': 2712, 'evil': 2550, 'track': 6883, 'captives': 1215, 'agree': 412, 'fly': 2853, 'meet': 4330, 'stole': 6475, 'intellectual': 3649, 'crazy': 1766, 'considering': 1631, 'ceasing': 1281, 'operation': 4803, 'signed': 6220, 'www': 7478, 'redcross': 5622, 'org': 4830, 'donate': 2233, 'haiti': 3192, 'difference': 2111, 'ceases': 1280, 'amaze': 487, 'amazing': 488, 'somebody': 6318, 'spokesman': 6384, 'robert': 5868, 'gibbs': 3046, 'pat': 4977, 'robertson': 5869, 'remarks': 5694, 'cancellation': 1195, 'debt': 1917, '2nd': 138, 'exist': 2584, 'im': 3489, 'collect': 1491, '41': 165, 'mln': 4458, 'doubles': 2250, 'totaling': 6865, '83': 238, '448': 173, '252': 121, 'link': 4071, '360': 156, 'burqa': 1134, 'dr': 2263, 'norman': 4694, 'finkelstein': 2803, 'exterminated': 2631, 'dispicable': 2175, 'martyrdom': 4271, 'try': 6966, 'justify': 3833, 'brutalization': 1096, 'demolition': 2011, 'daily': 1858, 'commits': 1531, 'howard': 3405, 'zinn': 7519, 'arguably': 597, 'important': 3513, 'scholars': 6023, 'raised': 5525, '100k': 13, 'sweat': 6641, 'shutdown': 6206, 'funds': 2965, 'fix': 2824, 'bloomberg': 956, 'secret': 6066, 'banking': 789, 'cabal': 1150, 'uprising': 7117, 'overturns': 4879, 'harvard': 3239, 'student': 6523, 'expelled': 2598, 'essay': 2513, 'computer': 1572, 'drive': 2285, 'sympathetic': 6656, 'lashed': 3944, '101': 16, 'conceiving': 1575, 'rapist': 5546, 'pardoned': 4934, 'turkish': 6987, 'buried': 1126, 'alive': 461, 'honour': 3371, 'nuganda': 4717, 'nanti': 4591, 'worse': 7451, 'rat': 5549, 'acknowledged': 325, 'equation': 2494, 'invading': 3687, 'actively': 336, 'consulted': 1642, 'planning': 5132, 'jazeera': 3775, 'obtained': 4747, 'exclusive': 2567, 'appears': 561, 'ordering': 4827, 'number': 4721, 'range': 5538, 'blocked': 948, 'agreement': 414, 'allows': 475, 'terror': 6757, 'monitor': 4484, 'europeans': 2532, 'transactions': 6903, 'urged': 7125, 'hand': 3207, 'zero': 7515, 'rupees': 5921, 'asked': 638, 'bribe': 1058, 'bid': 890, 'stamp': 6422, 'luger': 4156, 'giving': 3054, 'motorcade': 4520, 'finger': 2798, 'swearing': 6640, 'individual': 3559, 'permitted': 5034, 'foul': 2904, 'language': 3937, 'swear': 6639, 'figures': 2768, 'cigarette': 1399, 'torch': 6855, 'surprise': 6610, 'nice': 4665, 'thugs': 6807, 'upload': 7113, 'autistic': 720, 'kid': 3863, 'employees': 2433, 'charged': 1339, 'pow': 5242, 'auschwitz': 704, 'survived': 6619, '1944': 59, 'denis': 2025, 'avey': 727, 'swapped': 6634, 'identities': 3459, 'prisoner': 5324, '91': 251, 'gaddafi': 2974, 'jihad': 3789, 'switzerland': 6652, 'magnitude': 4182, 'reported': 5727, 'concepcion': 1579, 'chile': 1367, 'constitutional': 1638, 'ncourt': 4612, 'rules': 5912, 'telephone': 6733, 'yeah': 7488, '1985': 70, 'band': 779, '250': 119, '95': 256, 'diverted': 2196, 'ethiopian': 2524, 'silent': 6227, 'rebellion': 5585, 'scanning': 6011, 'manchester': 4226, 'flight': 2839, 'retain': 5792, 'looks': 4129, 'inward': 3709, 'mall': 4213, 'culture': 1826, 'posters': 5227, 'throws': 6805, 'grenade': 3129, 'holland': 3344, 'proposes': 5396, 'simply': 6232, 'english': 2469, 'outlets': 4861, 'shame': 6142, 'cahoots': 1157, 'scientologist': 6035, 'slave': 6266, 'alleges': 467, 'chained': 1314, 'disappointed': 2141, 'religious': 5688, 'organisation': 4832, 'start': 6433, 'accept': 300, 'bonkers': 991, 'lessons': 4013, 'learnt': 3985, 'beard': 829, 'boards': 968, 'plane': 5127, 'exploding': 2613, 'rid': 5836, 'penalty': 5009, 'spanish': 6347, 'organization': 4838, 'sgae': 6136, 'brings': 1069, 'outcome': 4854, 'p2p': 4888, 'networks': 4648, 'edonkey': 2366, 'bittorrent': 917, 'material': 4285, 'profit': 5353, 'completely': 1562, 'whoops': 7375, 'li': 4024, 'dems': 2020, 'restore': 5784, 'trampled': 6899, 'nick': 4666, 'clegg': 1444, 'teamed': 6716, 'fishing': 2822, 'critically': 1794, 'endangered': 2453, 'species': 6360, 'extinction': 2633, 'paedophilia': 4898, 'plainly': 5124, 'loudly': 4142, 'sinful': 6235, 'criminal': 1785, 'israels': 3744, 'fu': 2947, 'east': 2333, 'negotiation': 4628, 'ireport': 3722, 'comment': 1522, 'vetted': 7189, 'raise': 5524, 'awareness': 737, 'happening': 3222, 'thank': 6775, 'upvote': 7121, 'karmawhore': 3839, 'throwaway': 6801, 'xvi': 7482, 'defrock': 1983, 'priest': 5311, 'boys': 1023, 'receiving': 5593, 'letters': 4017, 'bishops': 913, 'pleading': 5151, 'pocketed': 5170, 'revenues': 5812, 'dealings': 1908, 'consortium': 1634, 'ui': 7017, 'corporation': 1707, 'efforts': 2381, 'connection': 1618, 'naval': 4606, 'sinking': 6241, 'board': 966, 'torpedo': 6857, 'suspected': 6624, 'large': 3942, 'explosion': 2616, 'subway': 6550, 'economy': 2351, 'rushed': 5925, 'debate': 1914, 'fox': 2910, 'ripping': 5853, 'content': 1655, 'straight': 6495, 'depths': 2049, 'shin': 6168, 'bet': 881, 'mentioning': 4351, 'identifying': 3458, 'reporter': 5729, 'expose': 2622, 'reuters': 5803, 'shouldn': 6196, 'outraged': 4865, 'silenced': 6226, 'published': 5447, 'kyrgyz': 3912, 'overall': 4869, 'bishkek': 911, 'escape': 2505, 'kyrgyzstan': 3913, 'trust': 6963, 'aggregator': 408, 'political': 5186, 'bcg': 824, 'offered': 4767, 'diligent': 2118, 'effort': 2380, 'morally': 4499, 'nearly': 4617, 'immersion': 3499, 'propaganda': 5385, 'piiiiiiiissed': 5092, 'arrests': 617, 'crew': 1779, 'members': 4341, 'coal': 1469, 'trashed': 6919, 'barrier': 806, 'reef': 5628, 'finding': 2793, 'groups': 3144, 'males': 4211, 'executed': 2572, 'using': 7142, 'unfortunately': 7062, 'special': 6358, 'ops': 4818, 'entered': 2478, 'quarters': 5493, 'ied': 3466, 'dormitory': 2246, 'disruptive': 2180, 'volcano': 7246, 'talks': 6682, 'burials': 1125, 'sensitive': 6101, 'souls': 6330, 'explicit': 2610, 'bit': 915, 'turn': 6989, 'electorate': 2398, 'dollar': 2225, 'gt': 3152, 'firm': 2814, 'represent': 5733, 'prophet': 5391, 'sues': 6559, 'danish': 1872, 'newspapers': 4659, 'countersues': 1733, 'insulted': 3639, 'koran': 3899, 'demanding': 2005, 'passages': 4965, 'removed': 5703, 'burqas': 1135, 'appalls': 552, 'forcing': 2874, 'discrimination': 2155, 'traffic': 6892, 'park': 4941, 'lost': 4138, 'bronze': 1082, 'medal': 4319, 'gymnast': 3176, 'proven': 5424, 'underage': 7045, 'belgium': 861, 'lower': 4147, 'veil': 7175, 'homosexuality': 3362, 'sin': 6234, 'soviets': 6339, 'leaking': 3978, 'wells': 7352, 'couldn': 1720, 'seal': 6053, 'nuked': 4719, 'greeks': 3125, 'struggle': 6520, 'status': 6446, 'emptied': 2436, 'abandoned': 263, 'vacations': 7149, 'jobs': 3793, 'bemoan': 869, 'difficult': 2114, 'humiliated': 3423, 'sabotaged': 5935, 'summit': 6579, 'recordings': 5613, 'spiegel': 6374, 'prevented': 5299, 'tackling': 6668, 'change': 1323, 'crucial': 1809, 'powerless': 5246, 'look': 4126, 'furious': 2967, 'mad': 4177, 'austerity': 706, 'gambling': 2988, 'losses': 4137, 'hey': 3301, 'sec': 6062, 'clears': 1442, 'murderer': 4563, 'apparently': 554, 'torturing': 6862, 'confessions': 1603, 'chilli': 1369, 'fireworks': 2812, 'gordon': 3084, 'brown': 1090, 'stepping': 6458, 'labour': 3918, 'unfolds': 7061, 'slowly': 6273, 'gulf': 3168, 'denies': 2024, 'lgbt': 4023, 'documentarian': 2212, 'kiana': 3858, 'firouz': 2816, 'asylum': 671, 'deported': 2044, '300': 140, 'hanging': 3217, 'unrepentant': 7094, 'noise': 4685, 'kabul': 3836, 'chomsky': 1379, 'interrogators': 3674, 'written': 7469, 'suggested': 6567, 'likes': 4061, 'elvis': 2414, 'costello': 1718, 'santana': 5979, 'cancel': 1192, 'supporting': 6598, 'academic': 296, 'crackdown': 1758, 'paintings': 4906, 'picasso': 5078, 'matisse': 4288, 'artists': 630, 'art': 622, 'paris': 4939, 'challenged': 1318, 'intention': 3654, 'muhammad': 4549, 'veteren': 7188, 'satirist': 5987, 'zapiro': 7512, 'newstands': 4660, 'sell': 6088, 'warheads': 7286, 'apartheid': 543, 'kenyan': 3846, 'judges': 3817, 'rule': 5910, 'nare': 4592, 'discriminatory': 2156, 'unconstitutional': 7039, 'severs': 6131, 'norway': 4699, '1bn': 79, 'forests': 2881, 'indonesia': 3563, 'sank': 5977, 'warship': 7300, 'details': 2075, 'flotilla': 2847, 'incident': 3528, 'bigger': 893, 'strategic': 6499, 'implications': 3512, 'produced': 5343, 'stratfor': 6500, 'global': 3060, 'harm': 3232, 'comes': 1516, 'consequences': 1623, 'lift': 4050, 'repeating': 5721, '1947': 60, 'refugees': 5641, 'boarded': 967, 'wounding': 7458, 'pr': 5248, 'paved': 4989, 'founding': 2908, 'indian': 3550, 'executives': 2577, 'removing': 5705, 'haaretz': 3180, 'infographic': 3589, 'tallest': 6683, 'mountains': 4523, 'deepest': 1956, 'trench': 6934, 'deepwater': 1957, 'horizon': 3378, 'drilling': 2281, 'depth': 2048, 'supremo': 6603, 'labyrinth': 3919, 'horrifying': 3383, 'bodyguard': 975, 'abby': 267, 'sutherland': 6633, 'sailor': 5950, 'dares': 1876, 'solved': 6314, 'soon': 6322, 'restricted': 5788, 'retention': 5795, 'activity': 341, 'passports': 4972, 'bp': 1024, 'doing': 2224, 'pretty': 5297, 'demolish': 2010, 'homeowners': 3355, 'alternative': 481, 'proposal': 5394, 'razed': 5563, 'discussed': 2158, 'alleged': 465, 'mossad': 4513, 'adversely': 378, 'affect': 390, 'relations': 5675, 'berlin': 874, 'far': 2697, 'obtaining': 4748, 'murder': 4561, 'persecution': 5038, 'beacon': 827, 'internationally': 3668, 'perpetrator': 5036, 'atrocities': 682, 'dying': 2315, 'secretive': 6068, 'train': 6896, 'armies': 608, 'southern': 6335, 'mineral': 4419, 'sanctions': 5973, 'legalizes': 4002, 'marry': 4265, 'partner': 4957, 'castration': 1255, 'punishment': 5462, 'seeks': 6081, 'opinion': 4807, 'repealed': 5718, 'quite': 5505, 'detractors': 2087, 'tactics': 6669, 'improve': 3521, 'suffered': 6562, 'severe': 6129, 'facial': 2658, 'burns': 1133, 'drops': 2295, 'veteran': 7186, 'editor': 2362, 'twitter': 7002, 'mourning': 4526, 'pro': 5333, 'hezbollah': 3302, 'adulterer': 373, 'stoning': 6481, 'bangladesh': 784, 'refusing': 5647, 'bribes': 1060, 'relatives': 5678, 'pursue': 5472, 'ok': 4781, 'long': 4122, 'hottest': 3398, 'record': 5610, 'according': 309, 'nasa': 4593, 'hotter': 3397, 'keeping': 3842, 'records': 5614, 'grant': 3109, 'marriages': 4263, 'heterosexual': 3299, 'unions': 7073, 'gadget': 2975, 'makersincluding': 4200, 'hp': 3407, 'applemay': 566, 'raw': 5560, 'ingredients': 3598, 'genocidal': 3025, 'militias': 4410, 'movement': 4529, 'begun': 847, 'trace': 6881, 'rare': 5548, 'metals': 4369, 'mines': 4422, 'victory': 7195, 'founder': 2906, 'julian': 3821, 'assange': 646, 'knows': 3897, 'designer': 2062, 'sunglasses': 6584, 'consensual': 1621, 'introduced': 3684, 'daniel': 1871, 'pushing': 5475, '2009': 88, 'user': 7139, 'logs': 4117, 'massive': 4277, 'leak': 3975, 'files': 2773, 'exposes': 2624, 'interview': 3680, 'wide': 7379, 'discrepancy': 2154, '2006': 85, 'insurgent': 3643, 'newly': 4655, 'weren': 7355, 'catalonia': 1259, 'bullfighting': 1118, 'landmark': 3935, 'fundamental': 2961, 'shamed': 6143, 'grilling': 3134, 'coach': 1468, 'punished': 5460, 'betraying': 883, 'lightly': 4056, 'withdraw': 7414, 'weekend': 7343, 'imprisoned': 3519, 'hikers': 3317, 'bargaining': 802, 'chips': 1374, 'unjust': 7080, '28': 133, 'felipe': 2738, 'agrees': 415, 'discuss': 2157, 'wrote': 7472, 'detention': 2083, 'pentagon': 5018, 'demands': 2006, '90': 248, 'methinks': 4375, 'works': 7442, '800': 232, 'wildfires': 7390, 'ignited': 3468, 'heat': 3268, 'wave': 7319, 'claimed': 1423, '52': 185, 'responsibility': 5778, 'consumes': 1645, 'responsible': 5779, 'educating': 2369, 'socioeconomic': 6301, 'context': 1658, 'production': 5346, 'distribution': 2189, 'vicente': 7191, 'super': 6586, 'rejected': 5670, 'invitation': 3704, 'gates': 3002, 'warren': 7297, 'buffett': 1103, 'pledge': 5154, 'fortune': 2896, 'criticized': 1796, 'millionaires': 4415, 'donations': 2238, 'replace': 5722, 'duties': 2313, 'carried': 1235, 'pedophiles': 5005, 'inquest': 3612, 'kelly': 3844, 'casting': 1253, 'destruction': 2071, 'satellite': 5983, 'extent': 2630, 'flooding': 2842, 'vs': 7260, 'noam': 4683, 'enables': 2442, 'host': 3389, 'place': 5116, 'servers': 6115, 'campaigns': 1182, 'joint': 3800, 'taxpayers': 6709, 'pick': 5079, 'tab': 6664, 'hospitals': 3388, 'maim': 4187, 'arabian': 582, 'mans': 4237, 'spinal': 6379, 'cord': 1701, 'ceo': 1305, 'scandinavian': 6009, 'megabank': 4333, 'crash': 1763, 'treated': 6927, 'differently': 2113, 'firms': 2815, 'jam': 3763, 'criminalization': 1788, 'hiv': 3333, 'synagogue': 6658, 'squarely': 6409, 'center': 1298, 'heart': 3266, 'pride': 5310, 'downtown': 2260, 'beirut': 859, 'vietnam': 7200, 'adopts': 368, 'washington': 7304, 'interventionist': 3679, 'gen': 3016, 'vinh': 7215, 'reconfirmed': 5608, 'pillars': 5096, 'vietnams': 7201, 'joining': 3798, 'alliances': 469, 'ally': 476, 'set': 6120, 'bases': 811, 'offset': 4777, 'spate': 6351, 'negative': 4624, 'stories': 6491, 'combatant': 1512, 'willing': 7395, 'sweeping': 6646, 'concession': 1585, 'dividing': 2199, 'pact': 4894, 'demand': 2003, 'remain': 5690, 'undivided': 7055, 'associated': 662, 'standards': 6426, 'staff': 6415, 'uncritically': 7042, 'suggestions': 6570, 'situation': 6250, 'different': 2112, 'climbing': 1451, 'mt': 4541, 'kilimanjaro': 3869, 'charity': 1344, 'bidding': 891, 'peak': 5001, 'squander': 6407, 'opportunity': 4812, 'upvotes': 7122, 'awesome': 739, 'harvesting': 3240, 'crops': 1800, 'market': 4259, 'fetching': 2751, 'firewood': 2811, 'loved': 4145, 'insurgents': 3644, 'captive': 1214, 'tweets': 7000, 'whereabouts': 7366, 'weary': 7333, 'debates': 1915, 'legalizing': 4003, 'suggestion': 6569, 'percolating': 5026, 'exhausted': 2582, 'runaway': 5917, 'violence': 7223, 'renowned': 5711, 'harbouring': 3227, 'imf': 3495, 'fears': 2723, 'social': 6299, 'dawkins': 1891, 'fry': 2944, 'pratchett': 5258, 'sources': 6333, 'confirmed': 1605, 'morning': 4502, 'tel': 6731, 'aviv': 728, 'accidentally': 306, 'yr': 7510, 'instantly': 3631, 'egyptian': 2386, 'manipulate': 4230, 'attempt': 688, 'mubarak': 4543, 'spoiler': 6383, 'shopped': 6187, 'wounded': 7457, 'infantry': 3576, 'unit': 7074, 'fights': 2766, 'ambush': 491, 'kunar': 3906, 'province': 5430, 'bullet': 1116, 'helmet': 3284, 'direct': 2129, 'rail': 5520, 'frankfurt': 2920, 'journey': 3812, 'insinuating': 3620, 'reserve': 5756, 'moment': 4476, 'assassins': 650, 'queen': 5496, 'poverty': 5241, 'fund': 2960, 'buckingham': 1098, 'palace': 4909, 'source': 6332, 'nations': 4599, 'tapes': 6691, 'servicemen': 6117, 'sport': 6390, 'finish': 2801, 'reparation': 5716, 'websites': 7337, 'scandinavia': 6008, 'combating': 1513, 'suspects': 6625, 'mainsteam': 4189, 'panama': 4918, 'tycoon': 7003, '50m': 184, 'poor': 5198, 'millionaire': 4414, 'denying': 2032, 'evolution': 2552, 'warming': 7288, 'study': 6526, 'effect': 2374, 'prostitution': 5407, 'improvement': 3522, 'hungarian': 3425, 'sludge': 6274, 'spill': 6377, 'reaches': 5568, 'danube': 1873, 'river': 5862, 'prize': 5332, 'liu': 4091, 'xiaobo': 7480, '33': 148, 'trapped': 6917, 'chilean': 1368, 'miners': 4421, 'moved': 4528, 'profiting': 5357, 'expense': 2600, 'drawing': 2277, 'share': 6147, 'proceeds': 5339, 'ordeal': 4824, 'business': 1139, 'thursday': 6808, 'dublin': 2305, 'brian': 1057, 'lenihan': 4009, 'allied': 470, 'bought': 1011, '832': 239, 'miner': 4418, 'hoisted': 3336, '33rd': 150, 'rescued': 5751, 'absolutely': 286, 'astounded': 668, 'managed': 4220, 'pull': 5452, 'funding': 2964, 'blacklisting': 921, 'decision': 1929, 'moneybookers': 4482, 'collects': 1495, 'whistleblowing': 7370, 'damn': 1866, 'engineer': 2467, 'unemployment': 7056, 'lowest': 4149, 'income': 3534, 'inequality': 3573, 'healthcare': 3261, 'expectancy': 2593, 'low': 4146, 'infant': 3575, 'mortality': 4507, 'numeracy': 4723, 'literacy': 4084, 'incarceration': 3526, 'homicides': 3359, 'mental': 4349, 'illness': 3487, 'beats': 835, 'mile': 4405, 'elects': 2403, 'mayor': 4297, 'page': 4899, 'featured': 2725, 'homosexuals': 3363, 'bright': 1064, 'yellow': 7491, 'banner': 793, 'alongside': 477, 'addresses': 354, 'crocodile': 1798, 'passengers': 4968, 'karzai': 3840, 'receives': 5592, 'cash': 1248, 'presidential': 5291, 'expects': 2596, 'provides': 5428, 'bags': 762, 'ruinous': 5908, 'lawsuits': 3963, 'bombshell': 987, 'cambodians': 1170, 'funded': 2963, 'saves': 5995, 'attacking': 686, 'grabbing': 3101, 'tail': 6673, 'sink': 6240, 'surface': 6604, 'boat': 969, 'storey': 6490, 'fall': 2679, 'unharmed': 7064, 'bounces': 1013, 'cafe': 1155, 'awning': 740, 'passing': 4970, 'shoppers': 6188, 'pulling': 5454, 'copies': 1691, 'adbusters': 349, 'magazine': 4181, 'shelves': 6161, 'congress': 1614, 'cjc': 1421, 'semitism': 6091, 'photographs': 5072, 'ghettos': 3042, 'couple': 1740, 'jackpot': 3758, 'passenger': 4967, 'observed': 4743, 'caucasian': 1267, 'appeared': 559, 'subject': 6537, 'attended': 693, 'washroom': 7305, 'emerged': 2425, 'asian': 636, 'early': 2324, '20s': 101, 'knowingly': 3895, 'statements': 6442, 'opponent': 4809, 'risk': 5857, 'void': 7244, 'noticed': 4705, 'heavy': 3272, 'horrifically': 3382, 'theyre': 6781, 'easily': 2332, 'numbers': 4722, 'handle': 3212, 'lightweight': 4057, 'indoctrinated': 3561, 'capacity': 1208, 'loyalty': 4150, 'barbarism': 799, 'exceeds': 2562, 'adults': 376, 'premier': 5276, 'indispensable': 3558, 'censored': 1293, 'cyber': 1847, 'stay': 6447, 'classy': 1435, 'boris': 1001, 'johnson': 3795, 'authorise': 711, 'wests': 7360, 'spread': 6397, 'achieved': 321, 'vile': 7209, 'means': 4311, 'getting': 3040, 'groped': 3140, 'tsa': 6968, 'bother': 1006, 'finland': 2804, 'catch': 1262, 'watching': 7313, 'remand': 5692, 'local': 4103, 'advises': 384, 'tour': 6870, 'texas': 6769, 'tim': 6822, 'berners': 876, 'lee': 3992, 'creator': 1774, 'defend': 1969, 'fragmented': 2915, 'islands': 3736, 'apple': 565, 'facebook': 2654, 'artillery': 628, 'maritime': 4256, 'prompting': 5382, '29': 137, 'pike': 5093, 'deployed': 2040, 'schoolchildren': 6027, 'whitehall': 7372, 'traditional': 6890, 'toothless': 6852, 'reduced': 5626, 'jo': 3792, 'properly': 5388, 'ecuador': 2357, 'offers': 4768, 'wikileak': 7384, 'residency': 5758, 'questions': 5500, 'declaring': 1935, 'outlandish': 4857, 'secrecy': 6065, 'bradley': 1027, 'manning': 4236, 'solider': 6311, 'vanishes': 7162, 'removes': 5704, 'dns': 2205, 'razor': 5564, '1911': 57, 'recent': 5594, 'mirroring': 4440, 'free': 2924, 'journalism': 3809, 'remind': 5698, 'collective': 1493, 'persecuted': 5037, 'amnesty': 501, 'abuses': 293, 'mc': 4299, 'hammered': 3206, 'mastercard': 4279, 'downed': 2254, 'ddos': 1900, 'overnight': 4874, 'payment': 4993, 'sue': 6557, 'visa': 7232, 'lula': 4158, 'blaming': 929, 'disclosed': 2145, 'blamed': 928, 'copycats': 1696, 'popping': 5205, 'indoleaks': 3562, 'brusselsleaks': 1093, 'balkanleaks': 771, 'cameraman': 1174, 'baghdad': 761, 'delays': 1990, 'hotel': 3394, 'suggest': 6566, 'colluded': 1498, 'conditions': 1595, 'glenn': 3058, 'greenwald': 3128, 'salon': 5962, 'com': 1509, 'paypal': 4995, 'instruments': 3637, 'stallman': 6421, 'hacking': 3187, 'equivalent': 2497, 'demonstration': 2016, 'enable': 2440, 'registered': 5655, 'defiance': 1976, 'mirror': 4439, 'rejects': 5672, 'downloading': 2258, 'revealed': 5805, 'bullied': 1119, 'investigating': 3696, 'wikilleaker': 7386, 'cpl': 1756, 'brad': 1025, 'pre': 5261, 'usa': 7133, 'labelled': 3914, 'engages': 2464, 'deserving': 2059, 'bogus': 978, 'gag': 2977, 'pointless': 5174, 'polls': 5191, 'influence': 3585, 'lancet': 3929, 'demonstrates': 2014, 'clear': 1439, 'scientific': 6032, 'opposes': 4815, 'advisory': 385, 'misuse': 4455, 'piracy': 5107, 'villager': 7211, 'speaking': 6355, 'netizens': 4645, 'truck': 6957, 'threatens': 6798, 'cable': 1152, 'july': 3822, '1990': 73, 'ambassador': 490, 'april': 578, 'glaspie': 3056, 'kuwait': 3909, 'friendship': 2939, 'punja': 5463, 'governor': 3096, 'salman': 5961, 'taseer': 6699, 'assassinated': 648, 'islamabad': 3732, 'functioning': 2959, 'level': 4018, 'consistent': 1633, 'avoiding': 731, 'nationwide': 4600, 'egypt': 2384, 'attend': 692, 'coptic': 1694, 'murrow': 4568, 'leonid': 4012, 'parfyonov': 4938, 'stunning': 6531, 'television': 6736, 'watch': 7311, 'audience': 703, 'listened': 4081, 'deadpan': 1903, 'loud': 4140, 'uh': 7016, 'brisbane': 1071, 'au': 699, 'cities': 1408, 'washed': 7302, 'floods': 2843, 'toll': 6841, 'rising': 5856, 'succeeded': 6551, 'pesticides': 5050, 'increasing': 3540, 'yields': 7499, 'incomes': 3535, 'diversifying': 2194, 'farming': 2701, 'systems': 6663, 'project': 5370, 'promoting': 5380, 'sustainable': 6632, 'practices': 5251, 'aussie': 705, 'lanka': 3938, 'probably': 5334, 'mauritanian': 4292, 'issue': 3746, 'genital': 3024, 'mutilation': 4578, 'fgm': 2754, 'thousand': 6792, 'israelis': 3743, 'protested': 5413, 'waving': 7321, 'came': 1172, 'policies': 5183, 'disclosures': 2147, 'significant': 6221, 'precisely': 5265, 'govt': 3097, 'deceit': 1922, 'wrongdoing': 7471, 'deliberately': 1998, 'wildly': 7393, 'misconduct': 4441, 'central': 1300, 'institutions': 3634, 'parties': 4955, 'treasury': 6926, 'boss': 1005, 'blast': 933, 'rocks': 5875, 'main': 4188, 'tunisia': 6979, 'riots': 5851, 'cairo': 1158, 'residents': 5760, 'passwords': 4973, 'wi': 7377, 'fi': 2755, 'routers': 5897, 'communicate': 1538, 'violently': 7225, 'smooth': 6285, '100s': 15, 'blackout': 923, 'faxing': 2717, 'cables': 1153, 'enabled': 2441, 'feature': 2724, 'voice': 7243, 'demonstrators': 2018, 'tahrir': 6671, 'square': 6408, 'concessions': 1586, 'insufficient': 3638, 'reverse': 5814, 'crtc': 1808, 'billing': 897, 'ub': 7009, 'horrific': 3381, 'diplomatic': 2126, 'streets': 6502, 'jan': 3766, 'einstein': 2390, 'honey': 3368, 'bee': 837, 'telegraph': 6732, 'runs': 5920, 'overpowered': 4875, 'tipped': 6828, 'bow': 1018, 'march': 4248, 'pm': 5165, 'silvio': 6229, 'suspends': 6629, 'antartic': 533, 'whaling': 7365, 'dramatic': 2272, 'departure': 2034, 'longstanding': 4125, 'intends': 3652, 'resolutions': 5768, 'censuring': 1295, 'revolutionary': 5820, 'commanding': 1521, 'assurances': 665, 'required': 5746, 'open': 4796, 'quake': 5491, 'christchurch': 1388, 'listening': 4082, 'gadaffi': 2973, 'batshit': 818, 'insane': 3614, 'libya': 4034, 'rebel': 5584, 'tripoli': 6947, 'ghostly': 3043, 'marauding': 4247, 'hotrod': 3396, 'indiscriminately': 3557, 'mercenaries': 4356, 'hired': 3323, 'immune': 3504, 'clause': 1436, 'resolution': 5767, 'demanded': 2004, 'insanely': 3615, 'slums': 6276, 'king': 3882, 'bahrain': 763, 'referring': 5634, 'engaging': 2465, 'guerilla': 3163, 'bazookas': 822, 'losing': 4135, 'planet': 5129, 'pink': 5101, 'floyd': 2850, 'roger': 5877, 'waters': 7318, 'joins': 3799, 'divestment': 2197, 'bds': 825, 'seedbox': 6077, '172': 49, 'savings': 5997, 'proposed': 5395, 'exercise': 2580, 'charade': 1337, 'appease': 562, 'strong': 6515, 'curry': 1838, 'favour': 2715, 'cameron': 1176, 'dissident': 2182, 'creates': 1769, 'documentation': 2214, 'mark': 4257, 'zuckerberg': 7525, 'profile': 5352, 'dalai': 1859, 'lama': 3927, 'citing': 1410, 'tibetan': 6814, 'deserve': 2057, 'freely': 2928, 'northeastern': 4696, 'links': 4075, 'sites': 6248, 'crashing': 1765, 'sendai': 6095, 'aches': 319, 'forget': 2883, 'homepage': 3356, 'boom': 997, 'stuff': 6528, 'increasingly': 3541, 'relied': 5684, 'sector': 6073, 'concentrated': 1577, 'manufacturing': 4242, 'adrift': 370, 'pacific': 4890, 'photographed': 5069, 'specialist': 6359, '3rd': 161, 'class': 1431, 'dylan': 2316, 'mccord': 4302, 'unarmed': 7031, 'operating': 4802, 'nsfw': 4713, 'based': 810, 'heads': 3258, 'mi5': 4385, 'cps': 1757, 'contempt': 1653, 'nakba': 4584, 'punish': 5458, 'reference': 5631, '1948': 61, 'burma': 1128, 'classified': 1433, 'gadhafi': 2976, 'aide': 424, 'bodies': 972, 'morgue': 4501, 'holder': 3338, 'announce': 523, 'emerge': 2424, 'stood': 6482, 'knelt': 3891, 'mud': 4544, 'brick': 1061, 'exploded': 2612, 'opened': 4797, 'repeatedly': 5720, 'm4': 4168, 'carbine': 1220, 'star': 6430, 'emirates': 2428, 'drugged': 2300, 'earliest': 2323, 'writings': 7468, 'existence': 2586, 'jordanian': 3806, 'cave': 1273, 'occasions': 4749, 'axe': 741, 'murdering': 4564, 'rampage': 5532, 'justified': 3832, 'mo': 4459, 'florida': 2846, 'pastor': 4976, 'terry': 6761, 'jones': 3803, 'recognize': 5603, 'sovereign': 6337, 'jenin': 3779, 'agency': 403, 'skull': 6258, 'dated': 1885, '684': 210, 'exceptionally': 2563, 'preserved': 5287, 'waterlogged': 7317, 'pit': 5112, 'oldest': 4783, 'intact': 3646, 'asia': 635, 'ancient': 511, 'brains': 1029, 'surfing': 6606, 'diplomat': 2125, 'denied': 2022, 'invalid': 3688, 'legalized': 4001, 'jamaica': 3764, 'decriminalizing': 1951, 'execute': 2571, 'behead': 852, 'mutilate': 4577, 'surrender': 6612, 'eurosceptic': 2534, 'opposed': 4814, 'immigration': 3502, 'bailouts': 767, 'struggling': 6522, 'fifth': 2761, 'countrys': 1738, 'general': 3017, 'castro': 1256, 'resigns': 5763, 'cuban': 1820, 'communist': 1543, 'cubans': 1821, '1959': 64, 'controversial': 1676, 'filesharing': 2774, 'urgency': 7126, 'restrepo': 5786, 'chris': 1387, 'hondros': 3365, 'misurata': 4454, 'syrian': 6660, 'til': 6821, 'fukushima': 2954, 'eat': 2337, 'meals': 4309, 'crackers': 1759, 'breakfast': 1044, 'packet': 4893, 'rice': 5827, 'chicken': 1363, 'dinner': 2121, 'evenings': 2541, 'gather': 3003, 'cheer': 1355, 'clap': 1428, 'sleep': 6268, 'floor': 2844, 'fatah': 2709, 'reconciliation': 5607, 'factions': 2664, 'form': 2889, 'interim': 3664, 'date': 1884, 'famous': 2693, 'beloved': 868, 'artist': 629, 'ai': 422, 'weiwei': 7348, 'erased': 2499, 'hope': 3374, 'outcry': 4855, 'dropping': 2294, 'concrete': 1590, 'bombs': 986, 'bin': 904, 'laden': 3922, 'sony': 6320, 'breach': 1040, 'theft': 6777, '25m': 122, 'referendum': 5633, 'bankers': 788, 'hedge': 3275, 'managers': 4223, 'vet': 7185, 'unanimously': 7030, 'gangs': 2993, 'mexicans': 4380, 'organised': 4835, 'salary': 5959, 'entertainment': 2480, 'industries': 3569, 'supports': 6599, 'lewp': 4020, 'firewall': 2810, 'censor': 1292, 'block': 946, 'illicit': 3484, 'rallying': 5530, 'revokes': 5816, '140': 34, 'temporarily': 6742, '1967': 67, 'vacation': 7148, 'targeted': 6696, 'plo': 5156, 'cams': 1185, 'raid': 5516, 'cbs': 1275, 'evening': 2540, 'defied': 1978, 'inflatable': 3583, 'explosives': 2619, 'mannequins': 4235, 'sea': 6051, 'filipino': 2775, 'excommunication': 2569, 'condoms': 1597, 'tepco': 6747, 'crippled': 1790, 'daiichi': 1857, 'plant': 5134, 'pensioners': 5016, 'younger': 7503, 'papers': 4924, 'manslaughter': 4238, 'ian': 3447, 'tomlinson': 6844, '17': 47, 'pyramids': 5483, 'survey': 6616, 'infra': 3592, 'detect': 2079, 'underground': 7047, 'buildings': 1109, 'ratko': 5558, 'mladi': 4457, 'agribusiness': 416, 'swaths': 6637, 'rainforest': 5523, 'archaeologists': 587, 'sealed': 6054, 'tunnel': 6981, 'underneath': 7048, 'teotihuacan': 6746, 'temple': 6741, 'qaeda': 5485, 'cupcake': 1828, 'hacked': 3184, 'instructions': 3635, 'recipe': 5597, 'cupcakes': 1829, 'plants': 5136, '2022': 100, 'reactors': 5572, 'f1': 2649, 'bernie': 877, 'ecclestone': 2346, 'grand': 3106, 'prix': 5331, 'cancelled': 1196, 'objected': 4735, 'anchor': 510, 'monks': 4488, 'rounded': 5893, 'monastery': 4479, 'cartels': 1240, 'notch': 4703, 'trafficker': 6893, 'gladiatorlike': 3055, 'lulzsec': 4159, 'condemn': 1591, 'violate': 7217, 'canuck': 1206, 'stanley': 6429, 'lone': 4120, 'rioters': 5849, 'crossposted': 1805, 'oceans': 4757, 'shocking': 6179, 'decline': 1938, 'mastermind': 4280, 'substitute': 6548, 'addicts': 351, 'holds': 3340, 'closed': 1459, 'door': 2242, 'meetings': 4332, 'amsterdam': 506, 'foreigners': 2878, 'purchase': 5468, 'increase': 3538, 'smuggled': 6287, 'begging': 843, 'famine': 2692, 'kosher': 3904, 'halal': 3195, 'animal': 518, 'slaughter': 6264, 'slashes': 6263, 'rations': 5557, '150': 39, 'grams': 3105, 'produces': 5345, '350': 154, 'calories': 1168, 'literature': 4086, 'brutal': 1094, 'defected': 1965, 'hurt': 3435, 'industry': 3570, 'term': 6749, 'environmental': 2489, 'era': 2498, 'eyes': 2647, 'kidney': 3866, 'tortured': 6861, 'failing': 2669, 'praise': 5256, 'withholding': 7418, '800m': 235, 'reach': 5566, 'standstill': 6428, 'rupert': 5922, 'murdoch': 4566, 'gathering': 3005, 'pace': 4889, 'simple': 6231, 'invention': 3692, 'bottle': 1008, 'teaspoons': 6720, 'bleach': 939, 'bringing': 1068, 'philippines': 5062, 'colombian': 1502, 'colonel': 1504, '57': 189, 'dressed': 2279, 'uniforms': 7067, 'pushed': 5474, 'exceed': 2561, 'organisations': 4833, 'granted': 3110, 'rebekah': 5583, 'brooks': 1084, 'parliamentary': 4945, 'scotland': 6045, 'yard': 7487, 'response': 5776, 'oslo': 4848, 'firsthand': 2818, 'utya': 7147, 'crosspost': 1804, 'linux': 4076, 'expectation': 2594, 'anonymity': 528, 'ruling': 5913, 'superior': 6587, 'advertisements': 379, 'misleading': 4443, 'undergo': 7046, 'regular': 5657, 'tests': 6768, 'assuming': 664, 'metropolitan': 4378, 'tech': 6721, 'deleted': 1993, 'emails': 2417, 'negotiate': 4626, '67': 209, 'lines': 4069, 'sydney': 6654, 'defuse': 1984, 'strapped': 6498, 'recognition': 5602, 'software': 6304, 'violates': 7219, 'network': 4647, 'programme': 5362, 'delete': 1992, 'collected': 1492, 'fines': 2797, 'slaughtered': 6265, 'sheep': 6154, 'plainclothes': 5123, 'randomly': 5537, 'besieged': 879, 'hama': 3203, 'burying': 1136, 'gardens': 2997, 'venture': 7180, 'cemeteries': 1290, 'nhs': 4664, 'developed': 2090, 'efficient': 2379, 'looting': 4131, 'areas': 592, 'broad': 1076, 'daylight': 1895, 'expected': 2595, 'birmingham': 907, 'rioting': 5850, 'darcus': 1875, 'howe': 3406, 'writer': 7465, 'play': 5144, 'handing': 3211, 'agencies': 402, 'protection': 5411, 'apart': 542, 'communities': 1544, 'values': 7156, 'stealth': 6452, 'chopper': 1382, 'sparking': 6349, 'demonstrations': 2017, 'orders': 4828, 'isps': 3740, 'leakymails': 3980, 'blogspot': 954, 'relevant': 5683, 'exposing': 2625, 'powerful': 5245, 'unmask': 7086, 'returned': 5799, '78': 228, 'hefty': 3276, 'yen': 7494, 'owners': 4884, 'ethical': 2522, 'jack': 3756, 'layton': 3968, 'lehman': 4007, 'brothers': 1088, 'bankruptcy': 790, 'governments': 3095, 'missed': 4445, 'regulate': 5658, 'matter': 4290, 'natural': 4603, 'lair': 3923, 'album': 453, 'condoleezza': 1596, 'diplomacy': 2124, 'achieve': 320, 'goals': 3068, 'luxury': 4166, 'lurk': 4163, 'compound': 1566, 'doctors': 2210, 'farms': 2702, 'billionth': 902, 'congressman': 1615, 'providing': 5429, 'advice': 381, 'cling': 1452, 'hackings': 3188, '870': 242, 'phones': 5065, 'tapped': 6692, 'schoolboy': 6026, 'prince': 5315, 'william': 7394, 'scope': 6040, 'ordinance': 4829, 'hostile': 3392, 'commissioned': 1526, 'lifetime': 4049, 'bisexual': 910, 'lifted': 4051, 'england': 2468, 'escort': 2509, 'vessel': 7184, 'spartacus': 6350, 'sand': 5975, 'aged': 401, 'tor': 6854, 'glimpse': 3059, 'projections': 5371, 'elections': 2396, 'accusation': 314, 'disclosure': 2146, 'edited': 2361, 'grower': 3146, 'broken': 1080, 'absolute': 285, 'particles': 4952, 'travelling': 6923, 'faster': 2706, 'continues': 1662, 'cement': 1289, 'flaunt': 2831, 'grip': 3137, 'hijacked': 3313, 'turkey': 6986, 'promoted': 5379, 'dealing': 1907, 'regards': 5649, 'japans': 3771, 'trillion': 6943, 'stake': 6418, 'tobacco': 6832, 'rebuilding': 5587, 'fatty': 2711, 'products': 5348, 'fat': 2708, 'slim': 6270, 'disease': 2161, 'arranged': 613, 'lebanon': 3990, 'chaos': 1331, 'attempts': 690, 'resisted': 5766, 'saul': 5992, 'permutter': 5035, 'schmidt': 6021, 'adam': 348, 'riess': 5839, 'discovery': 2153, 'accelerating': 299, 'expansion': 2591, 'observations': 4742, 'distant': 2185, 'supernovae': 6591, 'mugged': 4548, 'metro': 4377, 'wikipedia': 7387, 'ddl': 1899, 'stage': 6416, 'eviction': 2548, 'jaffa': 3759, 'tape': 6690, 'shopping': 6189, 'centre': 1301, 'ads': 371, 'pipe': 5105, 'complaints': 1559, 'viewers': 7204, 'louder': 4141, 'programmes': 5363, 'interrupting': 3675, 'forgives': 2886, 'goldman': 3076, 'sachs': 5936, '10m': 22, 'pounds': 5240, 'avoidance': 730, 'visits': 7237, 'ottawa': 4850, 'oblige': 4738, 'detain': 2076, 'investigate': 3695, 'norwegian': 4700, 'stance': 6423, 'bearing': 830, 'dilma': 2119, 'rousseff': 5895, 'ministers': 4429, 'tolerated': 6840, 'bribery': 1059, 'graft': 3104, 'acts': 344, 'tolerable': 6837, 'occupy': 4752, 'spreads': 6399, 'vaccine': 7152, 'malaria': 4204, 'capture': 1216, '700': 213, 'metres': 4376, 'excessive': 2564, 'mining': 4427, 'pays': 4996, 'sinister': 6239, 'insist': 3621, 'logo': 4116, 'underwater': 7054, 'directors': 2134, 'condemned': 1592, 'elite': 2411, 'greedy': 3123, '49': 178, 'rise': 5854, 'average': 726, 'inflation': 3584, 'unesco': 7057, 'shift': 6166, 'burden': 1122, 'corporations': 1708, 'celebrates': 1283, 'tangible': 6685, 'success': 6552, 'extradition': 2638, 'appeal': 555, 'proof': 5384, 'plots': 5158, 'phase': 5058, 'lightbulbs': 4054, 'inefficient': 3572, 'phased': 5059, 'cur': 1830, 'donation': 2237, 'globalhealth': 3061, 'wei': 7346, 'euros': 2533, 'sum': 6578, 'schizophrenic': 6019, 'ebrard': 2345, 'california': 1162, 'decriminalize': 1949, 'argentine': 596, 'predictions': 5271, 'walk': 7272, 'homemade': 3352, 'rehabilitation': 5664, 'device': 2092, 'father': 2710, 'scottish': 6046, 'replaces': 5724, 'urban': 7123, 'jungle': 3827, 'hills': 3319, 'boulders': 1012, 'tunnels': 6982, 'period': 5030, 'fewer': 2753, 'accidents': 307, 'teen': 6725, 'ray': 5561, 'airports': 442, 'parting': 4956, 'ways': 7323, 'screen': 6049, 'millions': 4416, 'airline': 438, 'clothing': 1464, 'debating': 1916, 'creating': 1770, 'blacklist': 919, 'avaaz': 724, 'neutrinos': 4652, 'experiment': 2604, 'pile': 5094, 'spotted': 6394, 'surrounded': 6613, 'stifling': 6466, 'attempting': 689, 'sun': 6580, 'sunday': 6582, 'lithuania': 4088, 'liquidated': 4078, 'waste': 7307, 'entrepreneur': 2484, '639': 203, 'hectares': 3274, 'sq': 6404, 'mi': 4384, 'investor': 3702, 'prejudice': 5274, 'limits': 4066, 'independence': 3547, 'ensure': 2474, 'benefit': 871, 'anders': 512, 'behring': 856, 'breivik': 1053, 'accountable': 312, 'psychiatrists': 5438, 'experiencing': 2603, 'disruption': 2179, 'services': 6118, 'closing': 1460, 'schools': 6029, 'virtual': 7229, 'cruise': 1812, 'overwhelmingly': 4881, 'prohibition': 5368, 'increased': 3539, 'alert': 457, 'petition': 5053, 'pardon': 4933, 'pioneer': 5104, 'awakening': 733, 'apolitical': 546, 'airs': 443, 'captured': 1217, 'coastguard': 1472, 'stabbed': 6412, 'fisherman': 2820, 'apprehend': 571, 'rock': 5873, 'revolt': 5817, 'wukan': 7475, 'denizens': 2026, 'shave': 6153, 'mohawks': 4469, 'punks': 5465, 'concert': 1584, 'indonesias': 3565, 'raided': 5517, 'punk': 5464, 'detained': 2077, '65': 205, 'buzzing': 1148, 'spiky': 6376, 'stripping': 6512, 'piercings': 5089, 'perceived': 5024, 'christopher': 1394, 'hitchens': 3329, '62': 199, 'burned': 1130, 'equal': 2492, 'galileo': 2984, 'assad': 645, 'desert': 2056, 'allegedly': 466, 'betrayed': 882, 'volkswagen': 7247, 'reduce': 5625, 'blurring': 964, 'nigh': 4672, 'fought': 2903, 'hide': 3305, 'medals': 4320, 'peru': 5046, 'shell': 6157, 'reign': 5666, 'implementing': 3510, 'gearing': 3014, 'wargames': 7285, 'strait': 6496, 'hormuz': 3379, 'renewable': 5709, 'owned': 4882, 'whalers': 7363, 'ultra': 7023, 'orthodox': 4845, 'gynecology': 3178, 'loggers': 4114, 'indigenous': 3555, 'citizen': 1411, 'mit': 4456, 'presence': 5283, 'marked': 4258, 'impact': 3506, 'adolescents': 364, 'career': 1226, 'educational': 2371, 'performance': 5028, '195': 62, 'tonnes': 6846, 'methamphetamine': 4374, 'captain': 1213, 'tripped': 6948, 'lifeboat': 4046, 'thailand': 6774, 'recognizes': 5604, 'branson': 1033, 'rick': 5834, 'falkvinge': 2678, 'restrict': 5787, 'repulsive': 5741, 'consumers': 1644, 'forever': 2882, 'comply': 1565, 'fidel': 2757, 'lambasted': 3928, 'republican': 5740, 'race': 5507, 'competition': 1555, 'idiocy': 3461, 'ignorance': 3470, 'donates': 2235, '750': 221, 'carlos': 1230, 'fuentes': 2952, 'robin': 5870, 'hood': 3373, 'acta': 331, 'mep': 4354, 'kader': 3837, 'arif': 601, 'lead': 3969, 'negotiator': 4630, 'cuts': 1844, 'lifesaving': 4047, 'generic': 3019, 'restricts': 5789, 'bulgarian': 1115, 'xpost': 7481, 'evolutionreddit': 2553, 'slovenia': 6271, 'apologizes': 548, 'signing': 6223, 'ljubljana': 4099, 'scans': 6012, 'flying': 2854, 'lake': 3925, 'vostok': 7250, 'cases': 1247, 'polio': 5185, 'charlotte': 1346, 'settle': 6123, 'singer': 6236, 'damaging': 1863, 'sued': 6558, 'suffers': 6564, 'neurological': 4649, 'problems': 5338, 'linked': 4072, 'providers': 5427, 'log': 4112, 'customers': 1841, 'provide': 5425, 'siding': 6211, 'pronographers': 5383, 'bulgaria': 1114, 'ratify': 5553, '309': 142, 'mask': 4272, 'counterfeit': 1729, 'bonds': 988, 'thinking': 6787, 'memo': 4343, 'blows': 960, 'lid': 4040, 'greek': 3124, 'undertaken': 7053, 'destroying': 2069, 'reforms': 5638, 'outrage': 4864, 'safer': 5946, 'guatemala': 3161, 'colombia': 1501, 'regional': 5653, 'trade': 6888, 'interpol': 3670, 'hackers': 3186, 'megaupload': 4335, 'defeats': 1962, 'antisec': 537, 'dumps': 2309, 'continued': 1661, 'earned': 2326, 'humanity': 3420, 'construction': 1640, 'leftist': 3994, 'troublesome': 6956, 'destroyed': 2068, 'ensured': 2475, 'unable': 7026, 'earn': 2325, 'devastated': 2088, 'file': 2770, 'downloaders': 2257, 'cp': 1755, 'download': 2256, 'seeing': 6078, 'desecration': 2055, 'aboriginal': 280, 'burial': 1124, 'swastikas': 6636, 'kkk': 3887, 'disgusting': 2164, 'concern': 1580, 'cruel': 1810, 'inhuman': 3601, 'slash': 6261, 'price': 5307, '97': 259, 'solar': 6306, 'villages': 7213, 'moroccans': 4503, 'penal': 5007, 'code': 1479, 'deterrent': 2086, 'amounting': 502, 'iranians': 3716, 'initiative': 3603, 'lt': 4152, 'potato': 5234, 'agricultural': 417, 'produce': 5342, 'directly': 2132, 'producers': 5344, 'pirating': 5111, 'extradited': 2637, 'secretary': 6067, 'theresa': 6779, 'approved': 575, 'visited': 7235, 'criticism': 1795, 'program': 5361, 'aims': 431, 'mariana': 4252, 'corp': 1705, 'crippling': 1791, 'ramifications': 5531, 'colombias': 1503, 'americas': 497, 'failure': 2671, 'talk': 6680, 'speaks': 6356, 'favor': 2714, 'foxconn': 2911, 'agreed': 413, 'tackle': 6667, 'violations': 7221, 'assembling': 654, 'iphones': 3713, 'ipads': 3711, 'bred': 1051, 'criminals': 1789, 'draconian': 2264, 'gain': 2980, 'touted': 6875, 'sopa': 6323, 'cispa': 1407, 'include': 3531, 'warranting': 7296, 'murdochs': 4567, 'sky': 6259, 'troll': 6951, 'exactly': 2555, 'liam': 4027, 'stacey': 6413, 'nz': 4730, 'mysteriously': 4580, 'lose': 4133, 'launch': 3952, '24': 116, '48': 177, 'oxford': 4885, 'library': 4033, 'digitize': 2116, 'pages': 4901, 'texts': 6772, 'available': 725, 'el': 2391, 'salvador': 5965, 'saturday': 5988, 'homicide': 3358, 'auto': 721, 'parts': 4961, 'filed': 2771, 'complaint': 1558, 'accusing': 318, 'juarez': 3815, 'scheduled': 6017, 'testify': 6766, 'screaming': 6048, 'bombing': 984, 'pulitzer': 5451, 'drifting': 2280, 'aboard': 276, 'injured': 3606, 'epic': 2490, 'upheld': 7111, 'rulings': 5914, 'iinet': 3476, 'infringements': 3595, 'sanction': 5972, 'authoritarian': 713, 'regimes': 5651, 'backed': 750, 'execs': 2570, 'unveiled': 7105, 'novartis': 4708, 'legally': 4004, 'annulled': 527, 'northern': 4697, 'rajasthan': 5527, '1st': 80, 'blind': 943, 'posts': 5230, 'limiting': 4065, 'organizations': 4839, 'conclude': 1587, 'fit': 2823, 'stewardship': 6463, 'motorcycle': 4521, 'washes': 7303, 'located': 4104, 'harley': 3231, 'davidson': 1890, 'emptive': 2438, 'facilities': 2660, 'vogue': 7242, 'skinny': 6255, 'models': 4463, 'abc': 268, 'broadcasting': 1078, 'worried': 7448, 'globe': 3063, 'trash': 6918, 'garbage': 2995, 'patch': 4978, 'fold': 2858, 'profound': 5359, 'changes': 1325, 'draft': 2265, 'crop': 1799, 'growing': 3147, 'coca': 1473, 'opium': 4808, 'poppies': 5204, 'schoolgirl': 6028, 'hemorrhage': 3290, 'donating': 2236, 'organs': 4841, 'ritchie': 5860, 'lived': 4094, 'gap': 2994, 'infamous': 3574, 'cliff': 1448, 'gone': 3078, 'named': 4586, '2011': 91, 'peacefully': 4999, 'wifi': 7383, 'liable': 4026, 'sharing': 6150, 'subjected': 6538, 'extraordinary': 2639, 'policemen': 5182, 'semitic': 6090, 'yemeni': 7493, 'parade': 4926, 'rehearsal': 5665, 'conversation': 1680, 'poachers': 5168, 'maharashtra': 4183, 'quebec': 5495, 'trampling': 6900, 'basic': 812, 'quash': 5494, 'wears': 7332, 'style': 6534, 'lawyers': 3965, 'courtroom': 1746, 'attire': 695, 'unconsitutional': 7038, 'unanimous': 7029, 'similar': 6230, 'cap': 1207, 'executive': 2576, 'mars': 4266, 'trip': 6946, 'eduard': 2367, 'khil': 3856, 'trololo': 6952, 'st': 6411, 'petersburg': 5052, '77': 226, 'lutheran': 4164, 'bradbury': 1026, 'visitors': 7236, 'forbids': 2870, 'tourism': 6871, 'indefinitely': 3546, 'banker': 787, 'ousted': 4852, 'involved': 3707, 'afraid': 395, 'gallup': 2987, 'priority': 5321, 'john': 3794, 'testifies': 6765, 'oppose': 4813, '1997': 76, 'pure': 5469, 'ecstacy': 2354, 'mdma': 4307, 'regulated': 5659, 'stores': 6489, 'lunches': 4160, 'wired': 7408, 'cipla': 1401, 'medicines': 4327, 'shaking': 6141, 'brave': 1035, 'jumps': 3825, 'plunge': 5163, 'flees': 2836, 'ecuadorian': 2358, 'blow': 957, 'diversity': 2195, 'winning': 7403, 'unblocks': 7034, 'lonesome': 4121, 'galapagos': 2982, 'tortoise': 6859, 'zealanders': 7514, 'recreational': 5617, 'particularly': 4954, 'backing': 753, 'sexually': 6135, 'assaulted': 652, 'stripped': 6511, 'turned': 6991, 'humans': 3421, 'announcing': 526, 'bunch': 1121, 'individuals': 3560, 'process': 5340, 'creation': 1771, 'resale': 5749, 'licenses': 4039, 'fixed': 2825, 'rates': 5552, 'barclays': 801, 'bo': 965, 'diamond': 2098, 'matt': 4289, 'taibbi': 6672, 'libor': 4032, 'deepens': 1955, 'damning': 1867, 'implicates': 3511, 'botswana': 1007, 'leatherback': 3986, 'turtle': 6995, 'eggs': 2383, 'crushed': 1815, 'trinidad': 6945, 'beach': 826, 'thestar': 6780, 'melinda': 4337, 'challenges': 1319, 'vowing': 7259, 'contraception': 1664, 'thirsty': 6790, 'coroner': 1704, 'patient': 4980, 'pleas': 5153, 'hoax': 3335, 'satirical': 5986, 'took': 6849, 'cervical': 1311, 'ja': 3755, 'opted': 4819, 'hpv': 3408, 'vaccination': 7151, 'pupils': 5466, 'follow': 2860, 'strict': 6505, 'principles': 5317, 'practise': 5253, 'portugal': 5215, 'decreases': 1942, 'lenovo': 4010, 'distributes': 2188, 'bonus': 993, '32': 145, 'offshore': 4778, 'roughly': 5891, 'gdp': 3012, 'combined': 1514, '280bn': 134, 'hsbc': 3411, 'citigroup': 1409, 'ubs': 7010, 'credit': 1776, 'suisse': 6574, 'norwegians': 4701, 'reacted': 5569, 'openness': 4800, 'participation': 4950, 'gorillas': 3086, 'dismantling': 2166, 'snares': 6291, 'rwanda': 5931, 'francois': 2918, 'hollande': 3345, '75': 220, 'earners': 2327, 'deficit': 1977, 'ral': 5528, 'breaks': 1046, 'kwh': 3911, 'converted': 1681, 'installed': 3629, 'total': 6864, 'grids': 3132, 'fail': 2667, 'forgot': 2887, 'squad': 6405, 'authorizes': 718, 'hire': 3322, 'curiosity': 1833, 'rover': 5899, 'successfully': 6554, 'landed': 3931, 'liveblog': 4093, 'commercial': 1524, 'gold': 3074, 'copper': 1692, 'papua': 4925, 'guinea': 3166, 'seabed': 6052, 'vehement': 7172, 'objections': 4736, 'nautilus': 4605, 'minerals': 4420, 'blacklisted': 920, 'wing': 7400, 'trouble': 6955, 'makers': 4199, 'sympathizers': 6657, 'recruits': 5619, 'sect': 6071, 'package': 4892, 'articles': 626, 'qantas': 5487, 'sitting': 6249, 'unaccompanied': 7028, 'seats': 6060, 'adult': 372, 'molester': 4473, 'ridicule': 5838, 'mission': 4449, '2013': 93, 'pussy': 5476, 'counsellor': 1725, '90k': 250, 'swim': 6648, 'ontario': 4793, 'degree': 1987, 'courses': 1744, 'assistance': 660, 'nicklinson': 4668, 'paralysed': 4930, 'neck': 4619, 'described': 2052, 'nightmare': 4675, 'mysterious': 4579, 'unknown': 7081, 'capsule': 1211, 'brevik': 1055, 'tuition': 6973, 'aimed': 429, 'starve': 6438, 'steal': 6450, 'blunted': 963, 'widespread': 7381, 'starvation': 6437, 'decade': 1919, 'deliver': 1999, 'harvests': 3241, 'plates': 5141, 'indias': 3552, 'hungriest': 3428, '270': 131, 'colleagues': 1490, 'fun': 2957, 'virus': 7231, 'eats': 2341, 'cheap': 1349, 'exquisitely': 2628, 'precise': 5264, 'mild': 4403, 'refrigerator': 5639, 'laboratory': 3917, 'knew': 3892, 'lies': 4043, 'evangelical': 2538, 'practicing': 5252, 'gp': 3098, 'prescribing': 5281, 'actress': 342, 'appearing': 560, 'numerous': 4724, 'actresses': 343, 'threats': 6799, 'coral': 1699, 'reefs': 5629, 'interference': 3663, 'textbooks': 6771, 'consulate': 1641, 'benghazi': 873, 'libyans': 4036, 'defending': 1971, 'cousulate': 1748, 'brotherhood': 1086, 'contradiction': 1668, 'brotherhoods': 1087, 'arabic': 583, 'postings': 5229, 'sustain': 6631, 'turbulence': 6983, 'events': 2543, 'egyptians': 2387, 'prophets': 5392, 'genetically': 3022, 'fracking': 2913, 'specifically': 6362, 'targets': 6698, 'mon810': 4478, 'maize': 4192, 'gmo': 3066, 'declassified': 1936, 'shake': 6140, 'gem': 3015, 'markets': 4261, 'core': 1702, 'vast': 7165, 'trillions': 6944, 'carats': 1219, 'uruguay': 7131, 'monopoly': 4489, 'mufti': 4546, 'endure': 2459, 'insults': 3641, 'angered': 514, 'mocking': 4462, 'mohammad': 4467, 'example': 2559, 'enduring': 2460, 'retaliating': 5794, 'highest': 3311, 'recommended': 5605, 'hillary': 3318, 'pony': 5196, 'politics': 5189, 'elites': 2412, 'contribute': 1670, 'comet': 1517, 'predicted': 5270, 'blaze': 937, 'brighter': 1065, 'picks': 5083, 'onion': 4790, 'rural': 5923, 'prefer': 5272, 'bahraini': 764, 'mafia': 4180, 'tropics': 6954, 'logging': 4115, 'lion': 4077, 'rain': 5522, 'organized': 4840, 'grim': 3135, 'conclusion': 1589, 'maple': 4245, 'syrup': 6661, 'recovered': 5616, 'authorises': 712, 'chaplains': 1332, 'prisons': 5326, 'turning': 6992, 'casino': 1251, 'malala': 4203, 'yousafzai': 7505, 'diary': 2099, 'wake': 7269, '2014': 94, 'eventual': 2544, 'breakup': 1048, 'impoverished': 3518, 'driven': 2286, 'fleet': 2837, 'unreported': 7095, 'unregulated': 7093, 'trawlers': 6924, 'ships': 6173, 'identified': 3457, 'licences': 4037, 'export': 2620, 'catches': 1263, 'exemption': 2579, 'extra': 2636, 'revenue': 5811, 'exempt': 2578, 'properties': 5389, 'hotels': 3395, 'restaurants': 5782, 'sports': 6391, 'centres': 1302, '5m': 192, 'rome': 5882, 'shadow': 6138, 'disguised': 2163, 'ceta': 1312, 'comparison': 1550, 'provisions': 5433, 'concerning': 1582, 'enforcement': 2462, 'harsh': 3238, 'damages': 1862, 'hacker': 3185, 'gary': 2999, 'mckinnon': 4305, 'fippa': 2806, 'investment': 3701, 'promotion': 5381, 'carvings': 1245, 'stone': 6479, 'moroccos': 4505, 'atlas': 677, 'salafists': 5955, 'prohibit': 5366, 'idolatry': 3465, 'depicted': 2036, 'divinity': 2201, 'plaque': 5137, 'predates': 5267, 'arrival': 618, 'phoenicians': 5063, 'morocco': 4504, '72': 216, 'pension': 5014, 'tunisian': 6980, 'stealing': 6451, 'tracks': 6887, 'stockholm': 6472, 'deportation': 2043, 'billionaire': 899, 'michigan': 4390, 'voters': 7254, 'reject': 5669, 'memorial': 4344, 'forgotten': 2888, 'holocaust': 3347, 'opens': 4801, 'gypsies': 3179, 'nazis': 4610, 'forward': 2898, 'ashok': 633, 'khemka': 3855, 'bureaucrat': 1123, 'transferred': 6905, '43': 170, 'determination': 2084, 'tolerate': 6839, 'incoming': 3536, 'ditches': 2193, 'weed': 7341, 'effectively': 2376, 'cafes': 1156, 'coffee': 1482, 'shops': 6190, 'builds': 1110, '60ft': 196, 'garden': 2996, 'invites': 3706, 'buffs': 1104, 'round': 5892, 'enactment': 2444, 'reaction': 5570, 'age': 400, 'harassers': 3225, 'wrath': 7461, 'vigilantes': 7207, 'emerging': 2427, 'protecting': 5410, 'shaming': 6144, 'viewed': 7203, 'negatively': 4625, 'measures': 4315, 'ahead': 419, 'buddhist': 1101, 'mes': 4362, 'aynak': 742, 'earlier': 2322, '63': 201, 'salute': 5964, 'fastest': 2707, 'surveyed': 6617, 'shirts': 6175, 'cheers': 1357, 'reverberated': 5813, 'golden': 3075, 'dawn': 1892, 'savita': 5998, 'halappanavar': 3196, 'medically': 4323, 'unnecessary': 7088, 'abortion': 282, 'advocates': 386, 'lawmaker': 3960, 'introduces': 3685, 'presented': 5285, 'adding': 352, 'chorus': 1384, 'rejecting': 5671, 'prohibitionist': 5369, 'leaflets': 3974, 'evacuate': 2535, 'executes': 2573, 'collaborators': 1486, 'dragged': 2267, 'san': 5971, 'jose': 3807, 'mercury': 4357, 'offices': 4772, 'assassination': 649, 'joke': 3801, 'overrules': 4876, 'newsoftheweird': 4657, 'liability': 4025, 'assembly': 655, 'responds': 5775, 'approving': 577, '000new': 3, 'housing': 3404, 'hangs': 3219, 'balance': 768, 'medicinal': 4325, 'legalised': 3998, 'escaped': 2506, 'padlocks': 4896, 'doors': 2243, 'sweatshop': 6642, 'beeing': 838, 'decorations': 1941, 'rooms': 5886, 'ft': 2946, 'eavesdropping': 2343, 'mp3': 4536, 'transfers': 6906, 'womens': 7426, 'helium': 3281, 'balloons': 774, 'shortage': 6192, 'worsens': 7452, 'missiles': 4447, 'innocents': 3610, 'heinous': 3277, 'executions': 2575, 'remains': 5691, 'treaty': 6931, 'panic': 4922, 'mayan': 4294, 'apocalypse': 545, 'mania': 4229, 'root': 5887, 'thieves': 6783, 'cluster': 1466, 'swaziland': 6638, 'mini': 4424, 'skirts': 6257, 'midriff': 4398, 'tops': 6853, 'jeans': 3777, 'mos': 4509, 'easy': 2336, 'cloth': 1462, 'worn': 7447, 'assaults': 653, 'rapes': 5543, 'infuriates': 3596, '000s': 4, 'gathered': 3004, 'tied': 6817, 'lawmakers': 3961, 'weak': 7324, 'enslave': 2472, 'adopting': 366, 'pressured': 5294, 'attackers': 685, 'relative': 5677, 'nepali': 4637, 'returning': 5800, 'robbed': 5867, 'policeman': 5181, 'teachers': 6713, 'educate': 2368, 'abolishing': 278, 'plaything': 5149, 'cashed': 1250, 'walks': 7275, 'player': 5145, 'taunted': 6705, 'monkey': 4487, 'chants': 1330, 'mother': 4515, 'son': 6319, 'elephants': 2406, 'declining': 1940, 'beheads': 854, 'maid': 4184, 'clemency': 1445, 'unexpectedly': 7059, 'mali': 4212, 'role': 5878, 'airpocalypse': 440, 'pollution': 5193, 'literally': 4085, 'charts': 1347, 'hazardous': 3253, 'consecutive': 1620, 'hitting': 3332, 'levels': 4019, '25x': 124, 'insecticide': 3616, 'unacceptable': 7027, 'bees': 840, 'campaigners': 1180, 'safety': 5947, 'knell': 3890, 'neonicotinoid': 4634, 'lucky': 4155, 'prospector': 5403, 'nugget': 4718, '177': 50, 'oz': 4886, '5kg': 191, 'reprieve': 5737, 'arsenal': 621, 'spears': 6357, 'blowpipes': 959, 'machetes': 4172, 'guns': 3173, 'fend': 2746, 'intrusion': 3686, 'goal': 3067, 'helping': 3288, 'expand': 2590, 'tapping': 6693, 'riches': 5831, 'prospecting': 5402, 'spacecraft': 6343, '2015': 95, 'basin': 815, 'importer': 3514, 'exporter': 2621, 'duped': 2310, 'misrepresented': 4444, 'causes': 1271, 'vandalism': 7160, 'valid': 7153, 'activists': 339, 'teaming': 6717, 'points': 5175, 'scores': 6043, 'innovative': 3611, 'modes': 4465, 'fleeing': 2835, 'timbuktu': 6823, 'burn': 1129, 'manuscripts': 4243, 'unveils': 7106, 'detailed': 2074, 'map': 4244, 'deport': 2042, 'radical': 5512, 'clerics': 1447, 'bombed': 982, 'research': 5752, 'northwest': 4698, 'damascus': 1864, 'ridden': 5837, 'reuter': 5802, 'goran': 3082, 'tomasevic': 6843, 'iii': 3475, 'poised': 5176, 'conduct': 1598, 'depicting': 2037, 'resembling': 5755, 'york': 7500, 'engulfed': 2470, 'flames': 2829, 'apparent': 553, 'eliminates': 2410, 'penny': 5013, '35': 153, 'pennies': 5012, '82m': 237, 'kg': 3853, '180m': 54, 'melted': 4338, '05': 7, 'aren': 593, 'salafi': 5954, 'raping': 5545, 'harassing': 3226, 'cairos': 1159, 'crusaders': 1813, 'entirely': 2482, 'unexpected': 7058, 'development': 2091, 'atomic': 680, 'begin': 844, 'formal': 2890, 'paving': 4990, 'totally': 6867, 'resistant': 5765, 'uncovered': 7041, 'untreatable': 7102, 'meteor': 4370, 'shower': 6199, 'eastern': 2335, 'struggled': 6521, 'alberta': 452, 'counsel': 1724, 'germans': 3034, 'playing': 5147, 'background': 752, 'miaa': 4387, 'unprofitable': 7092, 'survive': 6618, 'subsidies': 6544, 'caters': 1264, 'shrinking': 6203, 'aging': 410, 'inmates': 3608, 'reoffending': 5713, 'taiwanese': 6674, 'maldives': 4209, 'marital': 4255, 'premarital': 5275, 'cannon': 1204, 'statement': 6441, 'headed': 3255, 'event': 2542, 'sort': 6325, 'drove': 2297, 'dinosaurs': 2122, 'extinct': 2632, '65m': 206, '58': 190, 'rhino': 5824, 'voids': 7245, 'pacts': 4895, 'preparing': 5279, 'college': 1496, '36': 155, 'hrs': 3410, 'spending': 6370, 'capitalism': 1210, 'baldness': 770, 'vw': 7262, 'shares': 6149, 'profits': 5358, 'deserved': 2058, 'equitable': 2496, 'contractor': 1666, 'lockheed': 4109, 'martin': 4270, 'needed': 4621, 'salt': 5963, 'seawater': 6061, 'eliminate': 2409, 'fresh': 2934, 'jumped': 3824, 'balcony': 769, 'severely': 6130, 'joined': 3797, 'hunger': 3427, 'reflects': 5636, 'hopelessness': 3376, 'prospects': 5404, 'freed': 2925, 'acupuncturist': 346, 'infecting': 3580, 'defect': 1964, 'nk': 4682, 'armenia': 606, 'chess': 1360, 'aiming': 430, 'society': 6300, 'windfarm': 7398, 'donald': 2232, 'trump': 6962, 'businessman': 1140, 'aberdeen': 273, 'spoil': 6382, 'nearby': 4615, 'golf': 3077, 'course': 1743, 'francis': 2917, 'devote': 2094, 'worrying': 7450, 'careers': 1227, 'cyprus': 1852, 'tens': 6743, 'deposit': 2045, 'confiscations': 1609, 'samoa': 5970, 'weigh': 7347, 'aifares': 427, 'meaninig': 4310, 'overweight': 4880, 'instagram': 3628, 'appalled': 551, 'drowned': 2298, 'wedding': 7338, 'ring': 5844, 'closure': 1461, 'commitments': 1530, 'obliged': 4739, 'uphold': 7112, 'ex': 2554, 'margaret': 4250, 'thatcher': 6776, 'stroke': 6514, 'verge': 7181, 'industrial': 3568, 'electrical': 2400, 'generation': 3018, 'fusion': 2969, 'engine': 2466, 'bitcoin': 916, 'plummets': 5161, 'couples': 1741, 'adopt': 365, 'alwaleed': 484, 'talal': 6678, 'nephew': 4638, 'abdullah': 272, 'economic': 2348, 'towns': 6878, 'mongolia': 4483, 'plot': 5157, 'plotters': 5159, 'faith': 2673, 'humiliate': 3422, 'protesting': 5416, 'resistance': 5764, 'fighter': 2763, 'daring': 1878, 'sabotage': 5934, 'honoured': 3372, 'ceremony': 1308, 'donor': 2239, 'sperm': 6372, 'describes': 2053, 'wicked': 7378, 'selfish': 6087, 'motive': 4518, 'parent': 4936, 'fourth': 2909, 'plundering': 5162, 'seas': 6058, 'rhinos': 5825, 'mozambique': 4533, 'widely': 7380, 'devastating': 2089, 'dragonflies': 2268, 'snails': 6290, 'groundbreaking': 3142, 'vow': 7257, 'ruined': 5907, 'stalker': 6420, 'girlfriend': 3050, 'placed': 5117, 'pedophile': 5004, 'withdraws': 7415, 'idled': 3463, 'kaesong': 3838, 'complex': 1563, 'declines': 1939, '3d': 160, 'printable': 5318, 'poacher': 5167, 'elephant': 2405, 'astronauts': 669, 'hadfield': 3189, 'tom': 6842, 'marshburn': 4267, 'romanenko': 5880, 'touched': 6869, 'kazakhstan': 3841, '146': 36, 'station': 6444, 'expedition': 2597, 'theres': 6778, 'horn': 3380, 'hangovers': 3218, 'wiping': 7407, 'denounced': 2029, 'blasting': 934, 'cult': 1823, 'tyrannizing': 7008, 'expendable': 2599, 'consumer': 1643, 'goods': 3080, 'christianity': 1391, 'catastrophic': 1261, 'suggesting': 6568, 'uploading': 7115, '00': 0, 'resources': 5770, 'dolphin': 2227, 'highly': 3312, 'intelligent': 3651, 'persons': 5042, 'specific': 6361, 'panel': 4920, 'accountability': 311, 'pyongyang': 5481, 'icc': 3448, 'indictment': 3553, 'atheists': 673, 'urging': 7129, 'religions': 5687, 'brewers': 1056, 'contaminate': 1651, 'beer': 839, 'purity': 5470, '1516': 41, 'embarrassed': 2419, 'obnoxious': 4740, 'abroad': 283, 'louvre': 4143, 'characters': 1336, 'urinating': 7130, 'defecating': 1963, 'seat': 6059, 'delay': 1989, 'communions': 1542, 'adulthood': 375, 'choice': 1377, 'proper': 5387, 'formation': 2892, 'isnt': 3738, 'realistic': 5576, 'dotcom': 2249, 'ethem': 2521, 'sarslk': 5982, 'ankara': 520, 'witnesses': 7420, '55': 188, 'arresting': 616, 'tweeting': 6999, 'facebooking': 2655, 'turk': 6985, 'needs': 4622, 'translation': 6910, 'mr': 4538, 'erdogan': 2500, 'intimidated': 3681, 'choked': 1378, 'eff': 2373, 'nsa': 4711, 'edward': 2372, 'snowden': 6297, 'revelations': 5809, 'behaving': 849, 'ruin': 5906, 'embodied': 2423, 'unnoticed': 7089, 'tanzania': 6689, 'malawi': 4205, 'insignia': 3619, 'irregulars': 3726, 'sow': 6340, 'mayhem': 4296, 'congos': 1613, 'answer': 530, 'allegations': 464, 'guarantee': 3156, 'wouldn': 7455, 'brasil': 1034, 'broadcasted': 1077, 'masks': 4273, 'unlawful': 7082, 'carries': 1236, 'maximum': 4293, 'rio': 5847, 'mails': 4186, 'standard': 6425, 'poors': 5200, 'moodys': 4496, 'accepted': 301, 'ratings': 5554, 'judicial': 3819, 'drones': 2291, 'robots': 5872, 'psy': 5437, 'silly': 6228, 'tired': 6829, 'posturing': 5231, 'grandstanding': 3108, 'banditry': 780, 'focus': 2856, 'rent': 5712, 'prostituion': 5405, 'bugging': 1106, 'operations': 4804, 'landing': 3933, 'austria': 710, 'rumour': 5915, 'fugitive': 2953, 'superiors': 6588, 'ignore': 3471, 'incidents': 3529, 'interpreters': 3672, 'recording': 5612, 'cellphone': 1287, 'attacked': 684, 'pri': 5306, 'militants': 4408, 'manager': 4222, 'foiled': 2857, 'yoshidas': 7501, 'disobey': 2170, 'hq': 3409, 'cool': 1688, 'active': 335, 'zones': 7521, 'overheating': 4873, 'messaging': 4365, 'app': 550, 'openly': 4799, 'powered': 5244, 'unclaimed': 7035, 'reykjavk': 5823, 'sister': 6245, 'relationship': 5676, 'pres': 5280, 'jimmy': 3791, 'carter': 1241, 'moves': 4530, 'welfare': 7350, 'successful': 6553, 'writes': 7466, 'check': 1353, 'spying': 6402, 'technologically': 6723, 'illiterate': 3485, 'masterminded': 4281, 'blocker': 949, 'writing': 7467, 'scolds': 6039, 'muddy': 4545, 'slum': 6275, 'particular': 4953, 'opportunities': 4811, 'responsibilities': 5777, 'contribution': 1671, 'injustices': 3607, 'praised': 5257, 'controlled': 1674, 'huawei': 3412, 'defects': 1967, 'gods': 3071, 'established': 2515, 'nepal': 4635, 'fbi': 2718, 'persuade': 5044, 'nixes': 4681, 'cold': 1485, 'leaker': 3977, 'electronic': 2402, 'feds': 2732, 'malware': 4217, 'participate': 4948, 'activities': 340, 'stephen': 6456, 'hurting': 3436, 'canceling': 1194, 'sticking': 6465, 'ny': 4727, 'abdicated': 270, 'subpoenaed': 6540, 'regulator': 5661, 'brazilians': 1038, 'transportation': 6916, 'sao': 5980, 'paulo': 4987, 'siemens': 6213, 'occupying': 4753, 'refund': 5642, 'archbishop': 588, 'canterbury': 1205, 'grow': 3145, 'exaggerate': 2556, 'feeling': 2736, 'mildly': 4404, 'uncomfortable': 7036, 'heathrow': 3270, 'possessions': 5221, 'confiscated': 1608, 'drives': 2288, 'write': 7464, 'warn': 7289, 'spiritual': 6380, 'gangrape': 2992, 'addressing': 355, 'violators': 7222, 'asking': 639, 'mercy': 4358, 'prove': 5422, 'gassed': 3001, 'hans': 3220, 'blix': 944, 'encourage': 2447, 'meteorological': 4371, 'naming': 4588, 'hurricanes': 3434, 'destructive': 2072, 'storms': 6493, 'deniers': 2023, 'kingdom': 3883, 'physical': 5075, 'applies': 568, 'commons': 1537, 'romanian': 5881, 'cyanide': 1846, 'galleries': 2985, 'biased': 888, 'advertising': 380, 'default': 1960, 'televangelist': 6735, 'defrauded': 1982, 'challenge': 1317, 'wasting': 7310, 'substandard': 6546, 'profitable': 5355, 'woah': 7423, 'vladamir': 7239, '15m': 42, 'jet': 3784, 'malnutrition': 4216, 'hawking': 3252, 'backs': 755, 'assisted': 661, 'beauty': 836, 'contests': 1657, 'hyper': 3442, 'sexualisation': 6134, 'organise': 4834, 'pageant': 4900, 'obsessed': 4744, 'sending': 6096, 'shirt': 6174, 'words': 7433, '618': 198, '2007': 86, 'poached': 5166, 'masturbate': 4282, 'mistake': 4451, 'eddie': 2360, 'izzard': 3754, '2020': 99, 'criminality': 1787, 'contemptible': 1654, 'mcafee': 4300, 'thwart': 6809, 'stopped': 6484, 'microsoft': 4394, 'unaware': 7032, 'prism': 5322, 'worked': 7438, 'carmaker': 1231, 'hyundai': 3445, 'motor': 4519, 'defer': 1974, 'payments': 4994, 'impacted': 3507, 'partial': 4946, 'crypto': 1817, 'keys': 3852, 'simultaneously': 6233, 'wiretap': 7409, 'stops': 6486, 'adoptions': 367, 'merely': 4359, 'fascism': 2704, 'higgs': 3308, 'boson': 1004, '110': 24, 'azerbaijan': 744, 'ilham': 3479, 'aliyev': 462, 'agents': 406, 'byte': 1149, 'giants': 3045, 'spies': 6375, 'hubs': 3413, 'warlord': 7287, 'lured': 4162, 'brussels': 1092, 'pretext': 5296, 'movie': 4531, 'translations': 6911, 'filmmaker': 2782, 'dire': 2128, 'qatar': 5488, 'worker': 7439, 'warnings': 7292, 'shared': 6148, 'internal': 3666, 'mechanisms': 4318, 'explanation': 2609, 'smog': 6281, 'fingers': 2800, 'gallery': 2986, 'printers': 5319, 'arrive': 619, 'quickly': 5502, 'umbilical': 7025, 'clamps': 1426, 'gear': 3013, 'angela': 513, 'merkel': 4360, 'barack': 798, 'complain': 1557, 'eavesdrop': 2342, 'investigations': 3698, 'hinted': 3321, 'monitored': 4485, 'economists': 2350, '27': 130, 'forgets': 2884, '886k': 244, 'apartment': 544, 'wealthy': 7327, 'cheapest': 1351, 'subur': 6549, 'barcelona': 800, 'stir': 6469, 'proving': 5432, 'infiltrates': 3582, 'centers': 1299, 'communications': 1541, 'connect': 1616, 'merkels': 4361, 'granting': 3111, 'ivory': 3753, '1800kg': 53, 'nationals': 4598, 'dar': 1874, 'es': 2504, 'salam': 5957, 'mikocheni': 4401, 'haul': 3247, 'counted': 1727, '706': 215, 'pieces': 5088, 'discovers': 2152, 'useless': 7138, 'budget': 1102, 'gravity': 3118, '105': 19, 'polonium': 5194, 'arafat': 584, 'bones': 990, 'normal': 4692, 'radioactive': 5515, 'element': 2404, '62k': 200, 'reward': 5822, 'trans': 6901, 'partnership': 4959, 'argeement': 594, 'wwii': 7477, 'remembrance': 5697, 'lung': 4161, 'attributed': 698, 'negotiated': 4627, 'text': 6770, 'tpp': 6880, 'chapter': 1334, 'herd': 3293, 'crossing': 1803, 'calves': 1169, 'memory': 4346, 'railways': 5521, 'requests': 5744, 'speeds': 6368, 'famed': 2688, 'corridor': 1712, 'jpmorgan': 3814, 'cancels': 1197, 'abusive': 295, 'alcoholics': 455, 'imaginative': 3492, 'behaviour': 851, 'typical': 7006, 'pragmatism': 5254, 'lg': 4022, 'smart': 6278, 'tvs': 6998, 'filenames': 2772, 'viewing': 7205, 'info': 3588, 'manipulation': 4232, 'entries': 2485, 'encyclopaedia': 2451, 'sock': 6302, 'puppet': 5467, 'traced': 6882, 'virgin': 7228, 'galactic': 2981, 'fish': 2819, 'ecosystems': 2353, 'filters': 2785, 'espousing': 2512, 'flies': 2838, 'b52': 745, 'disputed': 2178, 'defence': 1968, 'dentist': 2030, 'returns': 5801, 'profiteering': 5356, 'crush': 1814, 'activism': 337, 'bangladeshi': 785, 'garment': 2998, 'factory': 2665, 'gazipur': 3010, 'trucks': 6958, 'casualties': 1257, 'tracking': 6886, 'locations': 4107, 'nelson': 4633, 'mandela': 4228, 'mcg': 4303, 'cubic': 1822, 'meter': 4372, 'limit': 4063, 'rivers': 5863, 'lakes': 3926, 'drink': 2283, 'visibility': 7233, 'meters': 4373, 'clinton': 1454, 'espionage': 2511, 'bubonic': 1097, 'plague': 5121, 'madagascar': 4178, 'tablet': 6665, 'customs': 1842, 'convoy': 1686, 'connections': 1619, 'exchange': 2565, 'deposits': 2046, 'fallout': 2682, 'tune': 6978, 'dollars': 2226, 'boeing': 977, 'gripen': 3138, 'faxes': 2716, 'threatening': 6797, 'uruguays': 7132, 'neighbor': 4631, 'navi': 4607, 'pillay': 5097, 'compares': 1549, 'uproar': 7118, 'defeat': 1961, 'inventor': 3693, 'exchanged': 2566, 'voluminous': 7248, 'correspondence': 1711, 'prior': 5320, 'declassify': 1937, 'britains': 1073, 'hiring': 3324, '244': 117, 'update': 7108, 'musician': 4572, 'flutes': 2852, 'shepherd': 6162, 'locates': 4105, 'whale': 7362, 'protected': 5409, 'minke': 4431, 'whales': 7364, 'deck': 1931, 'currant': 1834, 'spoof': 6389, 'antibiotics': 536, 'antibiotic': 535, 'organisms': 4837, 'prof': 5349, 'jeremy': 3781, 'farrar': 2703, 'wellcome': 7351, 'duty': 2314, 'gsm': 3151, 'weaken': 7325, 'coalition': 1470, 'foundation': 2905, 'mozilla': 4534, 'ranging': 5539, 'february': 2727, 'aaron': 261, 'swartz': 6635, 'firefox': 2808, 'browser': 1091, 'sacks': 5939, 'cardinals': 1223, 'appointed': 570, 'revolting': 5818, 'livestream': 4097, 'subscriber': 6541, 'participant': 4947, 'disturbance': 2190, 'ukrainian': 7020, 'spontaneously': 6388, 'prohibiting': 5367, 'netflix': 4643, 'provoke': 5434, 'customer': 1840, 'dial': 2097, 'sms': 6286, 'permanent': 5031, 'cartel': 1239, 'vigilantism': 7208, 'signal': 6218, 'billions': 901, 'displaying': 2176, 'iconic': 3453, 'forehead': 2875, 'editors': 2363, 'gchq': 3011, 'technicians': 6722, 'watched': 7312, 'angle': 515, 'grinders': 3136, 'drills': 2282, 'computers': 1573, 'tense': 6744, 'negotiations': 4629, 'counterterrorism': 1734, 'prosecute': 5397, 'reform': 5637, 'leaks': 3979, 'rusbridger': 5924, 'abusers': 292, 'dry': 2303, 'amid': 498, 'drought': 2296, 'tokyo': 6835, 'runner': 5918, 'gubernatorial': 3162, 'menstruation': 4348, 'unfit': 7060, 'scahill': 6003, '273': 132, 'somalia': 6317, 'instructor': 3636, 'clive': 1455, 'palmer': 4915, 'nickel': 4667, 'refinery': 5635, 'pumped': 5456, 'discharged': 2144, 'wastewater': 7309, 'heritage': 3295, 'neighbour': 4632, 'inches': 3527, 'dismiss': 2168, 'counterpart': 1731, 'covert': 1752, 'senators': 6093, 'liberalization': 4029, 'cycle': 1849, 'ak': 446, '47': 176, 'rifles': 5840, 'skier': 6254, 'pulls': 5455, 'protestors': 5418, 'kiev': 3868, 'resigned': 5762, 'affairs': 389, 'doc': 2206, 'deceive': 1923, 'reputations': 5742, 'intercepted': 3659, 'webcam': 7335, 'offer': 4766, 'ugandans': 7014, 'flags': 2827, 'marched': 4249, 'dozens': 2262, 'demonstrating': 2015, '261': 126, '1044': 18, '888': 245, 'precautionary': 5263, 'whitewashes': 7373, '220': 108, 'tanks': 6688, 'helicopters': 3280, '4000': 164, 'paratroopers': 4932, 'planes': 5128, 'tasmanian': 6703, 'listing': 4083, '74': 219, 'degraded': 1986, 'ecologically': 2347, 'pristine': 5327, 'requiring': 5748, 'compatible': 1551, 'common': 1535, 'charger': 1340, 'beggar': 842, 'amassing': 486, 'estate': 2517, 'portfolio': 5214, 'jeddah': 3778, 'rivaled': 5861, 'citys': 1414, 'annex': 521, 'crimea': 1783, 'federation': 2730, 'qatars': 5490, 'confederation': 1600, 'migrants': 4400, 'egg': 2382, 'faberge': 2650, 'peter': 5051, 'sunde': 6583, '529': 186, 'conventional': 1679, 'governance': 3092, 'sets': 6121, 'guarantees': 3157, 'antarctic': 532, 'ballots': 775, 'roaming': 5866, 'detects': 2082, 'saturn': 5989, 'extraterrestrial': 2640, 'microbes': 4392, 'workday': 7436, 'municipal': 4560, 'gothenburg': 3088, 'workdays': 7437, 'hopes': 3377, 'boost': 998, 'efficiency': 2378, 'ultimately': 7022, 'shark': 6151, 'fin': 2787, 'hong': 3369, 'kong': 3898, 'homeopathic': 3353, 'remedies': 5695, 'monitoring': 4486, 'regulators': 5662, 'invest': 3694, 'yuan': 7511, 'approaches': 573, '767th': 225, 'birthday': 909, 'excavation': 2560, '753bc': 222, 'channeled': 1328, 'ceramic': 1306, 'pottery': 5237, 'pledges': 5155, 'africas': 398, 'ferry': 2748, 'crowds': 1807, 'documenting': 2215, 'ratio': 5555, 'fcc': 2719, 'abandons': 265, 'eaters': 2339, 'dyncorp': 2318, 'secrets': 6070, 'dictators': 2101, 'hack': 3183, 'nose': 4702, 'ears': 2328, 'cleric': 1446, 'colleague': 1489, 'ill': 3480, 'donated': 2234, '170': 48, 'battling': 820, '5th': 193, 'outlaws': 4860, 'denial': 2021, 'distortion': 2187, 'fast': 2705, 'walkouts': 7274, '2016': 96, 'schedule': 6016, 'ioc': 3710, 'wreck': 7462, 'columbuss': 1508, 'flagship': 2828, 'santa': 5978, 'maria': 4251, 'caribou': 1229, 'habitat': 3182, 'herds': 3294, 'vanishing': 7163, 'abbott': 266, 'ferals': 2747, 'martial': 4269, 'mistakenly': 4453, 'trains': 6898, 'platforms': 5142, 'matadors': 4284, 'gored': 3085, 'isidro': 3728, 'festival': 2749, 'soma': 6315, '301': 141, 'perfect': 5027, 'score': 6041, 'classify': 1434, 'arguing': 599, 'jeopardize': 3780, 'smoking': 6284, '180': 52, 'satellites': 5984, 'bassem': 817, 'youssef': 7506, 'jon': 3802, 'stewart': 6464, 'suitable': 6575, 'satire': 5985, 'fearing': 2722, 'familys': 2691, 'gunned': 3171, 'unprecedented': 7091, 'silence': 6225, 'todays': 6834, '25th': 123, 'biofuels': 905, 'facility': 2661, 'edmonton': 2365, 'converts': 1682, 'landfill': 3932, 'dignity': 2117, 'terminally': 6751, 'patients': 4981, 'bounty': 1016, 'aided': 425, 'behest': 855, 'hollywood': 3346, 'studios': 6525, 'gertjie': 3038, 'witnessing': 7421, 'crying': 1816, 'inconsolably': 3537, 'cyberbullying': 1848, 'remotely': 5701, 'devices': 2093, 'cars': 1238, 'grabs': 3102, 'idle': 3462, 'dormant': 2245, 'wildleaks': 7391, 'attracts': 697, 'wildlife': 7392, 'leads': 3973, 'targeting': 6697, 'kingpins': 3884, 'attracted': 696, 'fishery': 2821, 'michael': 4388, 'schumacher': 6030, 'coma': 1510, 'tiny': 6827, 'controls': 1675, 'parks': 4942, 'triumph': 6950, 'creationism': 1772, 'academies': 297, 'fiji': 2769, 'accuses': 317, 'abandoning': 264, 'singles': 6238, 'essential': 2514, 'neurotoxic': 4650, 'harming': 3233, 'butterflies': 1142, 'worms': 7446, 'sufficient': 6565, 'regulatory': 5663, 'disprove': 2177, 'manmade': 4233, 'verizon': 7182, 'row': 5900, 'blackwaters': 925, 'investigator': 3699, 'department': 2033, 'mood': 4495, 'unlawfully': 7083, 'subsequently': 6542, 'forwarded': 2899, 'airing': 437, 'featuring': 2726, 'science': 6031, 'fringe': 2941, 'cries': 1781, 'miroslav': 4438, 'klose': 3888, 'scorer': 6042, 'netting': 4646, '16th': 46, 'finals': 2790, 'houses': 3403, 'debts': 1918, 'ussr': 7143, 'grown': 3148, '1990s': 74, 'programs': 5364, 'footballer': 2867, 'mesut': 4366, 'ozil': 4887, 'surgery': 6609, 'mh17': 4383, 'airliner': 439, 'downing': 2255, 'flights': 2840, 'doctored': 2209, 'dancing': 1868, 'watchlist': 7314, 'authorizing': 719, 'facts': 2666, 'irrefutable': 3725, 'designate': 2060, 'foreigner': 2877, 'cyclist': 1850, 'pedaled': 5002, 'plus': 5164, 'drunken': 2302, 'migrant': 4399, 'organisers': 4836, 'cockroach': 1477, 'infested': 3581, 'lodgings': 4111, 'steel': 6454, 'tar': 6694, '69': 211, 'nagasaki': 4581, 'sierra': 6214, 'leone': 4011, 'ebola': 2344, '729': 217, 'mentions': 4352, 'construct': 1639, 'encouraged': 2448, 'docs': 2207, '225': 109, 'endorsement': 2457, 'isis': 3730, 'mounts': 4525, 'airstrikes': 445, 'airdrops': 436, 'jihadists': 3790, 'mountaintop': 4524, 'kurdish': 3907, 'koreas': 3903, 'firstand': 2817, 'onlyastronaut': 4792, 'quit': 5504, 'manned': 4234, 'defectors': 1966, 'laos': 3940, 'repatriated': 5717, 'exotic': 2589, 'dust': 2311, 'appear': 557, 'specks': 6364, 'hallmarks': 3198, 'interstellar': 3676, 'beijing': 857, 'recycling': 5620, 'machines': 4175, 'bottles': 1010, 'rebates': 5582, 'transit': 6908, 'sisters': 6246, 'kidnapped': 3864, 'pickpockets': 5082, 'foley': 2859, 'beheaded': 853, 'allah': 463, 'populous': 5209, 'deemed': 1953, 'embarrassing': 2420, 'unite': 7075, 'conservationists': 1625, 'ditch': 2192, 'plea': 5150, 'fed': 2728, 'cockatoos': 1475, 'felling': 2740, 'pine': 5100, 'perth': 5045, 'healthy': 3262, 'unpaid': 7090, 'totalling': 6866, '1000': 12, 'keeps': 3843, 'rocket': 5874, '2018': 98, 'seek': 6079, 'peshmerga': 5048, 'rot': 5890, 'kurds': 3908, 'steven': 6461, 'sotloff': 6328, 'convincing': 1685, 'soup': 6331, 'yao': 7486, 'ming': 4423, 'stumbling': 6530, 'sword': 6653, 'jiangsu': 3788, '26cm': 129, '10in': 21, 'shang': 6145, 'zhou': 7516, 'dynasties': 2317, 'civilisation': 1419, 'shape': 6146, 'psychoactive': 5439, 'substances': 6545, '4268': 169, '2288': 111, '93': 253, 'accessory': 304, 'murders': 4565, 'appeals': 556, 'henning': 3291, 'believes': 864, 'genuinely': 3027, 'hepatitis': 3292, 'snatch': 6292, 'random': 5536, 'drape': 2274, 'liberia': 4030, '150m': 40, 'native': 4601, 'establishing': 2516, 'inter': 3658, 'tribal': 6936, 'alliance': 468, 'bison': 914, 'rocky': 5876, 'plains': 5125, 'roamed': 5865, 'enabling': 2443, 'whistleblowers': 7369, 'anil': 517, 'agarwal': 399, 'vedanta': 7169, 'jozef': 3813, 'wesolowski': 7356, 'stored': 6488, 'retake': 5793, 'estimated': 2519, 'walrus': 7277, 'ashore': 634, 'alaska': 451, 'unlike': 7085, 'seals': 6055, 'mammals': 4218, 'ice': 3449, 'resting': 5783, 'artic': 624, 'abolished': 277, 'fees': 2737, 'thinkprogress': 6788, 'dumped': 2308, 'berry': 878, 'tree': 6932, 'queensland': 5497, 'tumour': 6975, 'ap': 541, 'estonia': 2520, 'partnerships': 4960, 'tea': 6710, 'vital': 7238, 'demonization': 2012, 'medics': 4328, 'fossil': 2900, 'nordics': 4691, 'baltics': 777, 'eroding': 2502, 'profitability': 5354, 'nigeria': 4670, 'scholarship': 6024, 'welcoming': 7349, 'hearts': 3267, 'fairness': 2672, 'justin': 3834, 'trudeau': 6959, 'buyers': 1144, 'hungary': 3426, 'winners': 7402, '23rd': 115, 'urge': 7124, 'embargo': 2418, 'amelia': 492, 'earhart': 2321, 'fragment': 2914, 'chancellor': 1322, 'exit': 2587, 'compromise': 1569, 'principle': 5316, 'demoted': 2019, 'homeopathy': 3354, 'guam': 3154, '66': 208, 'choose': 1380, '14a': 37, 'pepsi': 5023, 'ikea': 3477, 'fedex': 2731, '340': 152, 'secured': 6075, 'deals': 1909, 'luxembourg': 4165, 'maintaining': 4191, 'duchy': 2306, 'excommunicated': 2568, 'admitted': 363, 'abusing': 294, 'teenagers': 6728, 'geologists': 3029, 'predict': 5269, 'killers': 3873, 'conviction': 1684, 'commander': 1520, 'robot': 5871, 'probe': 5335, 'philae': 5060, 'descending': 2051, 'mothership': 4517, 'su': 6535, 'maasai': 4170, 'hunting': 3432, 'rosetta': 5889, 'organic': 4831, 'molecules': 4471, 'subatomic': 6536, 'cern': 1309, 'bludgeoned': 961, 'threaten': 6795, 'destabilise': 2066, 'tagging': 6670, 'colosseum': 1506, 'frequencies': 2933, 'laity': 3924, 'parishes': 4940, 'charging': 1342, 'baptisms': 796, 'blessings': 942, 'intentions': 3656, 'forgive': 2885, 'hearings': 3265, 'auckland': 700, 'nailbom': 4583, 'cache': 1154, 'immigrants': 3501, 'testing': 6767, 'orbiter': 4822, 'orion': 4843, 'nils': 4678, 'muinieks': 4550, 'commissioner': 1527, 'indiscriminate': 3556, 'contrary': 1669, 'halt': 3200, 'multiply': 4556, 'chairman': 1316, 'lindt': 4067, 'chocolat': 1376, 'drama': 2271, 'siege': 6212, 'hostages': 3391, 'normalize': 4693, 'havana': 3248, 'monument': 4494, 'lasted': 3946, '1980': 68, '1988': 71, 'suffer': 6561, 'vip': 7226, 'credible': 1775, 'domain': 2229, 'offline': 4776, 'presumed': 5295, 'nepalese': 4636, 'infrastructure': 3593, 'promises': 5376, 'eagerly': 2320, 'awaiting': 732, 'shoura': 6197, 'married': 4264, 'pending': 5010, 'procuring': 5341, 'tigers': 6820, 'airasia': 434, 'java': 3773, 'sheer': 6155, 'unhealthy': 7065, 'lifestyles': 4048, 'diet': 2110, 'inherited': 3600, 'genes': 3020, 'mutations': 4576, 'occur': 4754, 'cells': 1288, 'divide': 2198, 'cancers': 1199, 'tissues': 6830, 'barrel': 804, 'charlie': 1345, 'hebdo': 3273, 'grief': 3133, 'stupidity': 6533, '8m': 247, 'booked': 995, 'inciting': 3530, 'indoor': 3566, 'productive': 5347, 'outdoor': 4856, 'cameroon': 1177, '143': 35, 'boko': 979, 'haram': 3224, 'weekly': 7344, 'canings': 1202, 'forum': 2897, 'discussion': 2160, 'mecca': 4317, '226': 110, 'chimpanzees': 1371, 'heaviest': 3271, 'invited': 3705, 'leading': 3972, 'answers': 531, 'yanis': 7485, 'varoufakis': 7164, 'valve': 7157, 'steam': 6453, 'key': 3851, 'patent': 4979, 'clearing': 1440, 'costing': 1719, 'megamouth': 4334, 'zoologist': 7523, '60th': 197, 'encounter': 2446, 'westminster': 7359, 'dossiers': 2248, 'paedophiles': 4897, 'hoped': 3375, 'blackmail': 922, 'europa': 2529, 'candidates': 1201, 'alien': 460, 'bodyguards': 976, 'stumbles': 6529, 'carpet': 1233, 'sends': 6097, 'authorization': 716, 'poses': 5217, 'wade': 7263, 'learner': 3983, 'stitched': 6470, 'chainsaw': 1315, 'wound': 7456, 'drank': 2273, 'gin': 3048, 'lifts': 4052, 'installing': 3630, 'adware': 387, 'everest': 2545, 'chain': 1313, 'provincial': 5431, 'falsified': 2687, 'placement': 5118, 'grade': 3103, 'codebreaker': 1480, 'pardons': 4935, 'kilometer': 3877, 'freezeway': 2931, 'skate': 6252, 'pilot': 5098, 'planned': 5131, '8000': 233, 'mosul': 4514, 'systematic': 6662, 'evasion': 2539, 'radicalisation': 5513, 'civics': 1415, 'classes': 1432, 'chant': 1329, 'decriminalising': 1947, 'abstinence': 288, 'preventing': 5300, 'grasp': 3114, 'ndtv': 4613, 'delhi': 1996, 'sharply': 6152, 'rebuked': 5589, 'dozen': 2261, 'pivotal': 5115, 'characterizing': 1335, 'illegitimate': 3483, 'obamas': 4734, 'transparency': 6913, 'backers': 751, 'influenced': 3586, 'sponsors': 6387, 'southwestern': 6336, 'decapitated': 1921, 'vaccer': 7150, 'wagers': 7264, 'existance': 2585, 'measles': 4313, 'researcher': 5753, 'supporter': 6596, 'apply': 569, 'suspending': 6628, 'frills': 2940, 'ryanair': 5932, 'transatlantic': 6904, 'routes': 5898, 'equipment': 2495, 'alzheimers': 485, 'restores': 5785, 'function': 2958, 'researchers': 5754, 'invasive': 3691, 'ultrasound': 7024, 'technology': 6724, 'amyloid': 507, 'plaques': 5138, 'decrees': 1944, 'rooftops': 5884, 'covered': 1751, 'immunity': 3505, 'whistle': 7367, 'crashes': 1764, 'draped': 2275, 'celebrating': 1284, 'exploration': 2615, 'completed': 1561, 'marathon': 4246, '219': 105, 'kilometers': 3878, 'germanwings': 3035, 'cockpit': 1476, 'breaching': 1042, 'logged': 4113, 'tracked': 6884, '000kg': 2, 'climbers': 1450, 'risks': 5859, 'evaluated': 2537, 'fallujah': 2684, 'confession': 1602, 'easter': 2334, 'vault': 7167, 'raiders': 5518, '200million': 89, 'hatton': 3246, 'roof': 5883, 'alarm': 450, 'abseiling': 284, 'shaft': 6139, 'loot': 4130, 'boxes': 1020, 'planetary': 5130, 'rapid': 5544, 'acidification': 324, 'concludes': 1588, 'carbon': 1221, 'atmosphere': 679, 'absorbed': 287, 'flat': 2830, 'pack': 4891, 'shelters': 6160, 'iraqis': 3720, 'circle': 1402, 'sponsor': 6385, 'overtakes': 4878, 'patriot': 4983, 'khaama': 3854, 'kp': 3905, 'astronomers': 670, 'structure': 6519, 'incredibly': 3543, 'hole': 3341, 'supervoid': 6592, 'blo': 945, 'distinguished': 2186, 'unusual': 7103, 'emptiness': 2437, 'telescope': 6734, 'cosmic': 1716, 'occurred': 4755, 'bang': 782, 'examine': 2558, 'possibility': 5222, '218': 104, 'stockpiles': 6473, 'minimal': 4425, 'fulfilling': 2955, 'proliferation': 5373, 'considerable': 1629, 'comprehensive': 1568, 'disarmament': 2142, 'hideout': 3306, 'sambisa': 5969, 'pulled': 5453, 'rubble': 5905, 'em': 2415, 'conservation': 1624, 'momentum': 4477, 'thrust': 6806, 'propellant': 5386, 'bouncing': 1014, 'microwaves': 4395, 'container': 1648, 'electoral': 2397, 'germanys': 3037, 'questioned': 5499, 'dohas': 2223, 'vexed': 7190, 'nomination': 4687, 'moldova': 4470, 'eighth': 2388, 'rt': 5903, 'hon': 3364, 'caroline': 1232, 'lucas': 4153, 'proportional': 5393, 'representation': 5734, 'felt': 2742, 'richter': 5833, 'shocks': 6180, 'aboriginals': 281, 'petronas': 5055, 'canadas': 1187, 'petroliam': 5054, 'nasional': 4594, 'bhd': 885, '319': 144, '267': 127, 'compensation': 1552, 'terminal': 6750, 'ancestral': 509, 'lands': 3936, 'shelf': 6156, 'disintegration': 2165, 'ongoing': 4789, 'irans': 3717, 'bail': 765, '7bn': 229, 'rigging': 5841, 'penalties': 5008, 'manipulating': 4231, 'blogger': 952, 'supermarkets': 6590, 'unsold': 7098, 'edits': 2364, 'scandals': 6007, 'steve': 6460, 'wozniak': 7460, 'nike': 4677, 'en': 2439, 'route': 5896, 'mortar': 4508, '80000': 234, 'rounds': 5894, 'ammunition': 500, 'launchers': 3954, 'ugly': 7015, 'lowers': 4148, 'explosive': 2618, 'exercises': 2581, 'alerted': 458, 'pod': 5171, 'orcas': 4823, 'vicinity': 7192, 'responsive': 5780, 'governed': 3093, 'independent': 3548, 'candidate': 1200, 'smell': 6279, 'sgt': 6137, 'craig': 1761, 'harrison': 3237, 'longest': 4124, 'traumatic': 6920, 'stress': 6503, 'disorder': 2172, 'deployment': 2041, 'balkans': 772, 'peacekeeping': 5000, 'engaged': 2463, 'transactional': 6902, 'haitian': 3193, 'exploitation': 2614, 'significantly': 6222, 'underreported': 7049, 'missions': 4450, 'surfaced': 6605, 'corroborates': 1713, 'assertions': 656, 'ensuring': 2476, 'isil': 3729, 'passage': 4964, 'dmz': 2203, 'tide': 6816, 'boats': 970, 'trickle': 6939, 'recommends': 5606, 'concentrate': 1576, '76': 223, 'overseas': 4877, 'havens': 3250, 'nature': 4604, 'preserves': 5288, 'oases': 4731, 'poaching': 5169, '96': 257, 'ttip': 6971, 'privatisation': 5330, 'corporate': 1706, 'grenoble': 3131, 'speakers': 6354, 'transmission': 6912, 'hails': 3191, 'achievements': 322, '32bn': 147, 'inspired': 3626, 'understanding': 7051, 'empower': 2435, 'iftar': 3467, 'meal': 4308, 'playstation': 5148, 'shutting': 6208, 'xbox': 7479, 'offences': 4762, 'imposes': 3516, 'informant': 3590, 'blower': 958, 'chuck': 1396, 'blazer': 938, 'tibetans': 6815, 'ethnic': 2525, 'minorities': 4433, 'surge': 6607, 'hadron': 3190, 'collider': 1497, 'particle': 4951, 'pentaquark': 5019, 'heading': 3256, 'appetite': 563, 'respondents': 5774, 'insights': 3618, 'outright': 4867, 'undecided': 7043, 'royals': 5902, 'clooney': 1457, 'oscar': 4847, 'winner': 7401, 'prendergast': 5277, 'flow': 2848, 'spyware': 6403, 'vendor': 7177, 'subsidiary': 6543, 'insitu': 3624, 'infect': 3578, 'proximity': 5436, 'reality': 5577, 'dolphins': 2228, 'reproduce': 5738, 'linger': 4070, 'milky': 4412, 'galaxy': 2983, 'kepler': 3847, '452': 175, 'habitable': 3181, 'zone': 7520, 'musk': 4573, 'autonomous': 723, 'artificial': 627, 'hunter': 3431, 'cecil': 1282, 'walter': 7278, 'palmers': 4916, 'practice': 5250, 'zimbabwean': 7518, 'filthy': 2786, 'olympians': 4785, 'compete': 1553, 'microbeads': 4391, 'review': 5815, 'pose': 5216, 'ultimate': 7021, 'frisbee': 2942, 'recognised': 5600, 'rushing': 5926, 'transparent': 6914, 'itunes': 3752, 'explains': 2608, 'cd': 1277, 'contains': 1650, 'copyrighted': 1698, 'disappearance': 2138, 'reorganize': 5714, 'alphabet': 479, 'nestle': 4640, '100m': 14, 'noodles': 4690, 'port': 5213, 'tianjin': 6812, 'cbc': 1274, '31': 143, 'addition': 353, 'breached': 1041, 'circumvention': 1405, 'dmca': 2202, 'gps': 3099, 'trackers': 6885, 'tusks': 6996, 'smuggling': 6289, 'interpreter': 3671, 'served': 6114, 'refuge': 5640, 'survivor': 6621, 'suing': 6573, 'location': 4106, 'hid': 3303, 'shooters': 6184, '81': 236, 'archaeologist': 586, 'foremost': 2879, 'scholar': 6022, 'treasures': 6925, 'palmyra': 4917, 'unto': 7100, 'prepare': 5278, 'archive': 590, 'tool': 6850, 'honest': 3367, 'geneva': 3023, 'convention': 1678, 'safeguard': 5945, 'clandestine': 1427, 'km': 3889, 'gotthard': 3090, 'base': 809, 'connecting': 1617, 'milan': 4402, 'zurich': 7526, 'ahmedabad': 421, 'vehicles': 7174, 'manufactured': 4240, 'wooden': 7431, 'shigir': 6167, 'stonehenge': 6480, 'decipher': 1928, 'defying': 1985, 'fury': 2968, 'quetta': 5501, 'congolese': 1612, 'surgeon': 6608, 'mukwege': 4551, 'intent': 3653, 'sully': 6577, 'image': 3490, 'delegates': 1991, 'hallucinogenic': 3199, 'daywe': 1897, 'geographic': 3028, 'hungry': 3429, 'malcom': 4208, 'turnbull': 6990, 'mackerel': 4176, 'populations': 5208, 'turnover': 6993, 'experiments': 2605, 'contributions': 1672, 'audi': 702, 'branded': 1031, 'cheat': 1352, 'diesel': 2109, 'emissions': 2429, 'cycloserine': 1851, 'jump': 3823, 'pharmaceutical': 5056, 'ensuing': 2473, 'expert': 2606, 'publicity': 5444, 'original': 4842, 'hike': 3315, 'pharmaceuticals': 5057, 'hiked': 3316, 'pill': 5095, 'incurable': 3544, 'barrick': 805, 'liters': 4087, '700k': 214, 'flowing': 2849, 'outline': 4862, 'integrate': 3647, 'insists': 3623, 'employer': 2434, 'chops': 1383, 'october': 4759, 'encompasses': 2445, '327': 146, 'survivors': 6622, 'psychologists': 5440, 'designed': 2061, 'palm': 4914, 'primary': 5313, 'ecosystem': 2352, 'jacked': 3757, 'antitrust': 538, 'damge': 1865, 'benefiting': 872, 'multinationals': 4554, 'nanjing': 4589, 'relating': 5674, '1937': 58, 'elect': 2393, 'harpers': 3236, 'greenhouse': 3127, 'rebuke': 5588, 'treaties': 6928, 'comfortable': 1518, 'hurricane': 3433, 'patricia': 4982, 'measured': 4314, 'strongest': 6516, 'applications': 567, 'unconscious': 7037, 'bias': 887, 'minority': 4434, 'exxon': 2645, 'understood': 7052, 'promote': 5378, 'misinformation': 4442, 'pitting': 5113, 'villagers': 7212, 'multinational': 4553, 'lying': 4167, 'oath': 4732, 'chevron': 1362, 'judgment': 3818, 'deliberate': 1997, '285': 136, '281': 135, 'meps': 4355, 'clinics': 1453, 'gynaecologists': 3177, 'decriminalise': 1946, 'bullets': 1117, 'luggage': 4157, 'extort': 2634, 'mexicos': 4382, 'catalan': 1258, 'secede': 6063, '2017': 97, 'storing': 6492, '269': 128, 'hates': 3245, 'feared': 2721, 'g7': 2972, 'fuel': 2951, 'tory': 6863, 'handouts': 3213, 'majors': 4195, 'embattled': 2422, 'stronghold': 6517, 'raqqa': 5547, 'solve': 6313, 'prayers': 5259, 'praying': 5260, 'illogical': 3488, 'expect': 2592, 'buddha': 1100, 'explosions': 2617, 'saint': 5952, 'ringleader': 5845, 'steady': 6449, 'doses': 2247, 'amphetamine': 505, 'captagon': 1212, 'num': 4720, 'reckless': 5598, 'abandon': 262, 'psychosis': 5441, 'accomplices': 308, 'upgrade': 7110, 'met': 4367, 'chronic': 1395, 'chosen': 1386, 'issues': 3748, 'possessing': 5219, 'obsolete': 4745, 'sunni': 6585, 'resort': 5769, 'implausible': 3509, 'precision': 5266, 'guided': 3164, 'valls': 7154, 'councillors': 1722, 'lexmark': 4021, 'pesos': 5049, 'schkreli': 6020, '5000': 183, 'sepp': 6108, 'blatter': 936, 'uefa': 7011, 'michel': 4389, 'platini': 5143, 'suspended': 6627, 'related': 5673, 'ethics': 2523, 'spacexs': 6344, 'falcon': 2676, 'upright': 7116, 'teens': 6729, 'mosquito': 4511, 'borne': 1003, '196': 65, 'thwarts': 6810, 'notify': 4706, 'outlook': 4863, 'execution': 2574, 'encryption': 2450, 'condemns': 1593, 'backdoors': 749, 'stock': 6471, 'min': 4417, 'cologne': 1499, 'hamburg': 3205, 'zrich': 7524, 'salzburg': 5967, 'helsinki': 3289, 'nye': 4728, 'festivities': 2750, 'chapo': 1333, 'arak': 585, 'reactor': 5571, 'fills': 2778, 'obligations': 4737, 'december': 1924, 'indonesian': 3564, 'jakarta': 3762, 'postwar': 5232, '933': 254, '127m': 29, '65yo': 207, 'destroys': 2070, 'assyrian': 666, 'ninth': 4680, 'neptunebut': 4639, 'unseenorbits': 7097, 'menus': 4353, 'daycare': 1894, 'insisting': 3622, 'necessary': 4618, 'preserving': 5289, 'traditions': 6891, 'travel': 6921, 'unusually': 7104, 'swept': 6647, 'conducted': 1599, 'encrypted': 2449, 'plotting': 5160, 'oecd': 4760, 'acquaintance': 327, 'fptp': 2912, 'suited': 6576, 'fledgling': 2834, 'democracies': 2007, 'mature': 4291, 'fundamentally': 2962, 'flawed': 2832, 'hydrogen': 3440, 'throwing': 6803, 'charities': 1343, 'denmarks': 2028, 'meant': 4312, 'tumbling': 6974, 'orbit': 4821, 'incapable': 3525, 'useful': 7137, 'placing': 5120, 'superman': 6589, 'gravitational': 3117, 'holes': 3342, 'detected': 2080, 'iceberg': 3450, 'renders': 5707, 'landlocked': 3934, 'faced': 2656, 'caliphate': 1164, 'slashed': 6262, 'salaries': 5958, 'releasing': 5682, 'drain': 2270, 'pipes': 5106, 'yield': 7498, 'dismembered': 2167, 'corpses': 1709, '88': 243, 'bugged': 1105, 'ki': 3857, 'netanyahu': 4642, 'discussing': 2159, 'wto': 7474, 'choosing': 1381, 'suez': 6560, 'canal': 1190, 'billionaires': 900, '770': 227, 'voter': 7253, 'registration': 5656, 'critics': 1797, 'tories': 6856, 'atheist': 672, 'layoffs': 3967, 'injected': 3605, 'stimulate': 6467, 'tumours': 6976, 'depictions': 2038, 'cleavage': 1443, 'reincarnation': 5668, 'peruvian': 5047, 'polluted': 5192, 'preventive': 5302, 'create': 1767, 'basis': 816, 'iphone': 3712, 'microphones': 4393, 'wiring': 7411, 'submarine': 6539, 'needy': 4623, 'dept': 2047, 'profoundly': 5360, 'salah': 5956, 'abdeslam': 269, 'falling': 2681, 'recognises': 5601, '333': 149, 'females': 2744, 'aerial': 388, 'shown': 6201, 'bleached': 940, 'corals': 1700, 'egyptair': 2385, 'alexandria': 459, 'massively': 4278, 'int': 3645, 'squalid': 6406, 'recruitment': 5618, 'wages': 7265, 'withheld': 7416, 'tournament': 6874, 'deletes': 1994, 'canary': 1191, 'terabyte': 6748, 'panamanian': 4919, 'asset': 658, 'manages': 4224, 'estates': 2518, 'fraudsters': 2923, 'smugglers': 6288, 'celebrities': 1285, 'athletes': 675, 'personally': 5041, 'intervened': 3677, 'trusts': 6964, 'assets': 659, 'meat': 4316, 'poultry': 5238, 'stewards': 6462, 'starshot': 6432, 'accelerate': 298, 'probes': 5336, 'alpha': 478, 'centauri': 1297, 'strips': 6513, 'investigators': 3700, 'youths': 7508, 'commission': 1525, 'impeach': 3508, 'poo': 5197, 'poos': 5201, 'boaty': 971, 'mcboatface': 4301, 'christen': 1389, 'certificate': 1310, 'operative': 4805, 'envelope': 2487, 'dc': 1898, 'insulting': 3640, 'abducted': 271, 'wards': 7284, '4g': 179, 'airstrike': 444, 'aleppo': 456, 'puerto': 5450, 'rico': 5835, 'partners': 4958, 'irreversible': 3727, 'affordable': 392, 'wildfire': 7389, 'fort': 2894, 'mcmurray': 4306, 'evacuated': 2536, 'spend': 6369, 'tesla': 6763, 'countering': 1730, 'lobbys': 4102, 'justification': 3831, 'abolition': 279, 'recognise': 5599, 'surrounds': 6614, 'frauds': 2922, 'disobeying': 2171, 'speaker': 6353, 'mossack': 4512, 'fonseca': 2862, '54': 187, 'commonly': 1536, 'hypertension': 3443, 'diabetes': 2095, 'disorders': 2173, 'chilling': 1370, 'commissions': 1528, 'hijackers': 3314, 'headscarves': 3259, 'circling': 1403, '000th': 5, 'pave': 4988, 'ms804': 4540, 'disappears': 2140, 'linkedin': 4073, 'compromised': 1570, 'lodged': 4110, 'adidas': 357, 'manufacture': 4239, 'automated': 722, 'relying': 5689, 'aristotle': 602, 'popular': 5206, 'diving': 2200, 'bleaching': 941, 'shun': 6204, 'intervention': 3678, 'cu': 1818, 'freezer': 2930, 'trafficking': 6894, 'inhabited': 3599, 'accuse': 315, 'flip': 2841, 'flopping': 2845, 'vandals': 7161, 'artworks': 632, 'tasmania': 6702, 'priceless': 5308, 'repair': 5715, 'extortion': 2635, 'upscale': 7120, 'nightclu': 4674, 'doha': 2222, 'wedlock': 7339, 'qatari': 5489, 'beatings': 834, 'decriminalisation': 1945, 'punishing': 5461, 'cox': 1754, 'staggering': 6417, '87': 241, 'venezuelans': 7179, 'athlete': 674, 'competed': 1554, 'paralympic': 4929, 'games': 2990, 'gunpoint': 3172, 'janeiro': 3767, 'liesl': 4044, 'tesch': 6762, 'brandishing': 1032, 'bicycle': 889, 'rbs': 5565, 'trading': 6889, 'tanking': 6687, 'istanbul': 3749, 'dispensers': 2174, 'legalisation': 3996, 'kiosks': 3885, 'desks': 2063, 'ounces': 4851, '117': 25, 'alvarez': 482, 'lira': 4079, 'waited': 7268, '1898': 55}\n"
     ]
    },
    {
     "data": {
      "text/plain": [
       "(1989, 7527)"
      ]
     },
     "execution_count": 77,
     "metadata": {},
     "output_type": "execute_result"
    }
   ],
   "source": [
    "# This is my bag of words based on the word count in the respective document, takes an array of texts and counts its words\n",
    "bag=vectorizer.fit_transform(dNews['Top1'])\n",
    "print(vectorizer.vocabulary_)\n",
    "bag.shape\n"
   ]
  },
  {
   "cell_type": "code",
   "execution_count": 78,
   "metadata": {},
   "outputs": [
    {
     "data": {
      "text/plain": [
       "(1989, 7527)"
      ]
     },
     "execution_count": 78,
     "metadata": {},
     "output_type": "execute_result"
    }
   ],
   "source": [
    "bag.shape"
   ]
  },
  {
   "cell_type": "code",
   "execution_count": 79,
   "metadata": {
    "colab": {
     "base_uri": "https://localhost:8080/",
     "height": 136
    },
    "colab_type": "code",
    "id": "LqWkZJUv4Qdo",
    "outputId": "a584b7f6-60ec-4a56-c031-7515e862ae14"
   },
   "outputs": [
    {
     "name": "stdout",
     "output_type": "stream",
     "text": [
      "[[0. 0. 0. ... 0. 0. 0.]\n",
      " [0. 0. 0. ... 0. 0. 0.]\n",
      " [0. 0. 0. ... 0. 0. 0.]\n",
      " ...\n",
      " [0. 0. 0. ... 0. 0. 0.]\n",
      " [0. 0. 0. ... 0. 0. 0.]\n",
      " [0. 0. 0. ... 0. 0. 0.]]\n"
     ]
    }
   ],
   "source": [
    "print(bag.toarray())"
   ]
  },
  {
   "cell_type": "code",
   "execution_count": 80,
   "metadata": {
    "colab": {},
    "colab_type": "code",
    "id": "0UKBygTgWNvJ"
   },
   "outputs": [],
   "source": [
    "bagArray=bag.toarray()"
   ]
  },
  {
   "cell_type": "code",
   "execution_count": 81,
   "metadata": {
    "colab": {
     "base_uri": "https://localhost:8080/",
     "height": 34
    },
    "colab_type": "code",
    "id": "venGC07HWVqw",
    "outputId": "19724c79-2791-4ac9-a218-11a8cf634c59"
   },
   "outputs": [
    {
     "data": {
      "text/plain": [
       "(1989, 7527)"
      ]
     },
     "execution_count": 81,
     "metadata": {},
     "output_type": "execute_result"
    }
   ],
   "source": [
    "bagArray.shape"
   ]
  },
  {
   "cell_type": "code",
   "execution_count": 82,
   "metadata": {
    "colab": {
     "base_uri": "https://localhost:8080/",
     "height": 769
    },
    "colab_type": "code",
    "id": "1Xq_tne6cIjG",
    "outputId": "b4b89128-47ee-45d9-83c9-4f24900d823e"
   },
   "outputs": [],
   "source": [
    "# Create a length column to be used as a future feature \n",
    "#for i in range(0, len(dNews)):\n",
    "#    dNews.length[i] = len(dNews.iloc[i])\n",
    "#dNews.head()"
   ]
  },
  {
   "cell_type": "code",
   "execution_count": 83,
   "metadata": {
    "colab": {},
    "colab_type": "code",
    "id": "LPcSMJ1i4Qrh"
   },
   "outputs": [],
   "source": [
    "from sklearn.feature_extraction.text import TfidfTransformer"
   ]
  },
  {
   "cell_type": "code",
   "execution_count": 84,
   "metadata": {
    "colab": {},
    "colab_type": "code",
    "id": "dcK9K0DD4Q1i"
   },
   "outputs": [],
   "source": [
    "tfidf=TfidfTransformer(use_idf=True,norm='l2',smooth_idf=True)"
   ]
  },
  {
   "cell_type": "code",
   "execution_count": 85,
   "metadata": {
    "colab": {},
    "colab_type": "code",
    "id": "rR3mf8vD8dkO"
   },
   "outputs": [],
   "source": [
    "np.set_printoptions(precision=2)"
   ]
  },
  {
   "cell_type": "markdown",
   "metadata": {
    "colab": {
     "base_uri": "https://localhost:8080/",
     "height": 136
    },
    "colab_type": "code",
    "id": "X7e3wHom8dw7",
    "outputId": "3135b599-d099-4fd7-c783-e9f7880117fd"
   },
   "source": [
    "### TfidTransformer class, takes the raw term frequencies from TfidVectorizer class as input and\n",
    "###  transforms them into tf-idfs\n"
   ]
  },
  {
   "cell_type": "code",
   "execution_count": 86,
   "metadata": {},
   "outputs": [
    {
     "name": "stdout",
     "output_type": "stream",
     "text": [
      "[[0. 0. 0. ... 0. 0. 0.]\n",
      " [0. 0. 0. ... 0. 0. 0.]\n",
      " [0. 0. 0. ... 0. 0. 0.]\n",
      " ...\n",
      " [0. 0. 0. ... 0. 0. 0.]\n",
      " [0. 0. 0. ... 0. 0. 0.]\n",
      " [0. 0. 0. ... 0. 0. 0.]]\n"
     ]
    }
   ],
   "source": [
    "print(tfidf.fit_transform(vectorizer.fit_transform(dNews['Top1'])).toarray())"
   ]
  },
  {
   "cell_type": "code",
   "execution_count": 87,
   "metadata": {
    "colab": {
     "base_uri": "https://localhost:8080/",
     "height": 34
    },
    "colab_type": "code",
    "id": "JkYAn3yA8eAY",
    "outputId": "d39d706b-9de2-4f5a-c19d-a55ce9375414"
   },
   "outputs": [
    {
     "data": {
      "text/plain": [
       "(1989, 7527)"
      ]
     },
     "execution_count": 87,
     "metadata": {},
     "output_type": "execute_result"
    }
   ],
   "source": [
    "dNews_tf =tfidf.fit_transform(vectorizer.fit_transform(dNews['Top1']))\n",
    "dNews_tf.shape"
   ]
  },
  {
   "cell_type": "code",
   "execution_count": 88,
   "metadata": {},
   "outputs": [
    {
     "ename": "NameError",
     "evalue": "name 'X_train_tf' is not defined",
     "output_type": "error",
     "traceback": [
      "\u001b[0;31m---------------------------------------------------------------------------\u001b[0m",
      "\u001b[0;31mNameError\u001b[0m                                 Traceback (most recent call last)",
      "\u001b[0;32m<ipython-input-88-644628419680>\u001b[0m in \u001b[0;36m<module>\u001b[0;34m\u001b[0m\n\u001b[1;32m      1\u001b[0m \u001b[0;31m#X_train_tf =tfidf.fit_transform(vectorizer.fit_transform(X_train))\u001b[0m\u001b[0;34m\u001b[0m\u001b[0;34m\u001b[0m\u001b[0;34m\u001b[0m\u001b[0m\n\u001b[0;32m----> 2\u001b[0;31m \u001b[0mX_train_tf\u001b[0m\u001b[0;34m.\u001b[0m\u001b[0mshape\u001b[0m\u001b[0;34m\u001b[0m\u001b[0;34m\u001b[0m\u001b[0m\n\u001b[0m",
      "\u001b[0;31mNameError\u001b[0m: name 'X_train_tf' is not defined"
     ]
    }
   ],
   "source": [
    "#X_train_tf =tfidf.fit_transform(vectorizer.fit_transform(X_train))\n",
    "X_train_tf.shape"
   ]
  },
  {
   "cell_type": "code",
   "execution_count": 89,
   "metadata": {},
   "outputs": [
    {
     "ename": "NameError",
     "evalue": "name 'X_test_tf' is not defined",
     "output_type": "error",
     "traceback": [
      "\u001b[0;31m---------------------------------------------------------------------------\u001b[0m",
      "\u001b[0;31mNameError\u001b[0m                                 Traceback (most recent call last)",
      "\u001b[0;32m<ipython-input-89-7e29b9348bba>\u001b[0m in \u001b[0;36m<module>\u001b[0;34m\u001b[0m\n\u001b[1;32m      1\u001b[0m \u001b[0;31m#X_test_tf =tfidf.fit_transform(vectorizer.fit_transform(X_test))\u001b[0m\u001b[0;34m\u001b[0m\u001b[0;34m\u001b[0m\u001b[0;34m\u001b[0m\u001b[0m\n\u001b[0;32m----> 2\u001b[0;31m \u001b[0mX_test_tf\u001b[0m\u001b[0;34m.\u001b[0m\u001b[0mshape\u001b[0m\u001b[0;34m\u001b[0m\u001b[0;34m\u001b[0m\u001b[0m\n\u001b[0m",
      "\u001b[0;31mNameError\u001b[0m: name 'X_test_tf' is not defined"
     ]
    }
   ],
   "source": [
    "#X_test_tf =tfidf.fit_transform(vectorizer.fit_transform(X_test))\n",
    "X_test_tf.shape"
   ]
  },
  {
   "cell_type": "code",
   "execution_count": 90,
   "metadata": {},
   "outputs": [
    {
     "ename": "NameError",
     "evalue": "name 'X_test' is not defined",
     "output_type": "error",
     "traceback": [
      "\u001b[0;31m---------------------------------------------------------------------------\u001b[0m",
      "\u001b[0;31mNameError\u001b[0m                                 Traceback (most recent call last)",
      "\u001b[0;32m<ipython-input-90-8ab503226373>\u001b[0m in \u001b[0;36m<module>\u001b[0;34m\u001b[0m\n\u001b[0;32m----> 1\u001b[0;31m \u001b[0mX_test\u001b[0m\u001b[0;34m.\u001b[0m\u001b[0mshape\u001b[0m\u001b[0;34m,\u001b[0m \u001b[0my_test\u001b[0m\u001b[0;34m.\u001b[0m\u001b[0mshape\u001b[0m\u001b[0;34m,\u001b[0m \u001b[0mX_train\u001b[0m\u001b[0;34m.\u001b[0m\u001b[0mshape\u001b[0m\u001b[0;34m,\u001b[0m \u001b[0my_train\u001b[0m\u001b[0;34m.\u001b[0m\u001b[0mshape\u001b[0m\u001b[0;34m\u001b[0m\u001b[0;34m\u001b[0m\u001b[0m\n\u001b[0m",
      "\u001b[0;31mNameError\u001b[0m: name 'X_test' is not defined"
     ]
    }
   ],
   "source": [
    "X_test.shape, y_test.shape, X_train.shape, y_train.shape"
   ]
  },
  {
   "cell_type": "code",
   "execution_count": 91,
   "metadata": {},
   "outputs": [],
   "source": [
    "# Fit the classifier\n",
    "from sklearn import linear_model"
   ]
  },
  {
   "cell_type": "code",
   "execution_count": 92,
   "metadata": {},
   "outputs": [],
   "source": [
    "# The expit function, also known as the logistic sigmoid function, is defined as expit(x) = 1/(1+exp(-x)). \n",
    "# It is the inverse of the logit function.\n",
    "from scipy.special import expit"
   ]
  },
  {
   "cell_type": "code",
   "execution_count": 93,
   "metadata": {},
   "outputs": [
    {
     "ename": "NameError",
     "evalue": "name 'X_test_tf' is not defined",
     "output_type": "error",
     "traceback": [
      "\u001b[0;31m---------------------------------------------------------------------------\u001b[0m",
      "\u001b[0;31mNameError\u001b[0m                                 Traceback (most recent call last)",
      "\u001b[0;32m<ipython-input-93-6823f1684992>\u001b[0m in \u001b[0;36m<module>\u001b[0;34m\u001b[0m\n\u001b[1;32m      1\u001b[0m \u001b[0;31m#-------------------------------------------------------------------------------------\u001b[0m\u001b[0;34m\u001b[0m\u001b[0;34m\u001b[0m\u001b[0;34m\u001b[0m\u001b[0m\n\u001b[0;32m----> 2\u001b[0;31m \u001b[0mX\u001b[0m\u001b[0;34m=\u001b[0m\u001b[0mX_test_tf\u001b[0m\u001b[0;34m\u001b[0m\u001b[0;34m\u001b[0m\u001b[0m\n\u001b[0m\u001b[1;32m      3\u001b[0m \u001b[0my\u001b[0m\u001b[0;34m=\u001b[0m\u001b[0my_test\u001b[0m\u001b[0;34m\u001b[0m\u001b[0;34m\u001b[0m\u001b[0m\n\u001b[1;32m      4\u001b[0m \u001b[0;31m#-------------------------------------------------------------------------------------\u001b[0m\u001b[0;34m\u001b[0m\u001b[0;34m\u001b[0m\u001b[0;34m\u001b[0m\u001b[0m\n\u001b[1;32m      5\u001b[0m \u001b[0mclf\u001b[0m \u001b[0;34m=\u001b[0m \u001b[0mlinear_model\u001b[0m\u001b[0;34m.\u001b[0m\u001b[0mLogisticRegression\u001b[0m\u001b[0;34m(\u001b[0m\u001b[0mC\u001b[0m\u001b[0;34m=\u001b[0m\u001b[0;36m1e5\u001b[0m\u001b[0;34m)\u001b[0m\u001b[0;34m\u001b[0m\u001b[0;34m\u001b[0m\u001b[0m\n",
      "\u001b[0;31mNameError\u001b[0m: name 'X_test_tf' is not defined"
     ]
    }
   ],
   "source": [
    "#-------------------------------------------------------------------------------------\n",
    "X=X_test_tf\n",
    "y=y_test\n",
    "#-------------------------------------------------------------------------------------\n",
    "clf = linear_model.LogisticRegression(C=1e5)\n",
    "clf.fit(X, y)\n",
    "clf.coef_\n",
    "clf.score(X, y)"
   ]
  },
  {
   "cell_type": "code",
   "execution_count": 94,
   "metadata": {
    "colab": {
     "base_uri": "https://localhost:8080/",
     "height": 34
    },
    "colab_type": "code",
    "id": "olNs-dJEJSqO",
    "outputId": "3ca1ae68-029e-4e84-ce7b-41f8cf3b3235"
   },
   "outputs": [
    {
     "name": "stderr",
     "output_type": "stream",
     "text": [
      "/Users/piruzalemi/opt/anaconda3/lib/python3.7/site-packages/sklearn/linear_model/logistic.py:432: FutureWarning: Default solver will be changed to 'lbfgs' in 0.22. Specify a solver to silence this warning.\n",
      "  FutureWarning)\n"
     ]
    },
    {
     "data": {
      "text/plain": [
       "array([[ -2.92, -12.82,  -4.89, ...,  -3.64,  -4.94,   5.23]])"
      ]
     },
     "execution_count": 94,
     "metadata": {},
     "output_type": "execute_result"
    }
   ],
   "source": [
    "#-------------------------------------------------------------------------------------\n",
    "X=dNews_tf\n",
    "#X=X_train_tf\n",
    "y=dNews['Label']\n",
    "#-------------------------------------------------------------------------------------\n",
    "clf = linear_model.LogisticRegression(C=1e5)\n",
    "clf.fit(X, y)\n",
    "clf.coef_\n",
    "#clf.score(X, y)"
   ]
  },
  {
   "cell_type": "code",
   "execution_count": 95,
   "metadata": {},
   "outputs": [
    {
     "data": {
      "text/plain": [
       "LogisticRegression(C=100000.0, class_weight=None, dual=False,\n",
       "                   fit_intercept=True, intercept_scaling=1, l1_ratio=None,\n",
       "                   max_iter=100, multi_class='warn', n_jobs=None, penalty='l2',\n",
       "                   random_state=None, solver='warn', tol=0.0001, verbose=0,\n",
       "                   warm_start=False)"
      ]
     },
     "execution_count": 95,
     "metadata": {},
     "output_type": "execute_result"
    }
   ],
   "source": [
    "clf"
   ]
  },
  {
   "cell_type": "code",
   "execution_count": 96,
   "metadata": {},
   "outputs": [],
   "source": [
    "import numpy as np\n",
    "import matplotlib.pyplot as plt"
   ]
  },
  {
   "cell_type": "markdown",
   "metadata": {},
   "source": [
    "# Naive Bayes Model: BernoulliNB"
   ]
  },
  {
   "cell_type": "code",
   "execution_count": 97,
   "metadata": {},
   "outputs": [],
   "source": [
    "from sklearn.naive_bayes import BernoulliNB"
   ]
  },
  {
   "cell_type": "code",
   "execution_count": 98,
   "metadata": {},
   "outputs": [],
   "source": [
    "from sklearn.feature_extraction.text import CountVectorizer"
   ]
  },
  {
   "cell_type": "code",
   "execution_count": 99,
   "metadata": {},
   "outputs": [],
   "source": [
    "vectorizer = CountVectorizer()"
   ]
  },
  {
   "cell_type": "code",
   "execution_count": 100,
   "metadata": {},
   "outputs": [],
   "source": [
    "#X = vectorizer.fit_transform(X_train)"
   ]
  },
  {
   "cell_type": "code",
   "execution_count": 101,
   "metadata": {},
   "outputs": [],
   "source": [
    "naive_bayes = BernoulliNB()"
   ]
  },
  {
   "cell_type": "code",
   "execution_count": 102,
   "metadata": {},
   "outputs": [],
   "source": [
    "# from sklearn.model_selection import train_test_split"
   ]
  },
  {
   "cell_type": "code",
   "execution_count": 103,
   "metadata": {},
   "outputs": [
    {
     "ename": "NameError",
     "evalue": "name 'X_train_tf' is not defined",
     "output_type": "error",
     "traceback": [
      "\u001b[0;31m---------------------------------------------------------------------------\u001b[0m",
      "\u001b[0;31mNameError\u001b[0m                                 Traceback (most recent call last)",
      "\u001b[0;32m<ipython-input-103-e990b44cefe9>\u001b[0m in \u001b[0;36m<module>\u001b[0;34m\u001b[0m\n\u001b[1;32m      2\u001b[0m \u001b[0;31m# Threshold for binarizing (mapping to booleans) of sample features.\u001b[0m\u001b[0;34m\u001b[0m\u001b[0;34m\u001b[0m\u001b[0;34m\u001b[0m\u001b[0m\n\u001b[1;32m      3\u001b[0m \u001b[0;31m# If None, input is presumed to already consist of binary vectors.\u001b[0m\u001b[0;34m\u001b[0m\u001b[0;34m\u001b[0m\u001b[0;34m\u001b[0m\u001b[0m\n\u001b[0;32m----> 4\u001b[0;31m \u001b[0mnaive_bayes\u001b[0m\u001b[0;34m.\u001b[0m\u001b[0mfit\u001b[0m\u001b[0;34m(\u001b[0m\u001b[0mX_train_tf\u001b[0m\u001b[0;34m,\u001b[0m \u001b[0my_train\u001b[0m\u001b[0;34m)\u001b[0m\u001b[0;34m\u001b[0m\u001b[0;34m\u001b[0m\u001b[0m\n\u001b[0m\u001b[1;32m      5\u001b[0m \u001b[0;31m#X.shape\u001b[0m\u001b[0;34m\u001b[0m\u001b[0;34m\u001b[0m\u001b[0;34m\u001b[0m\u001b[0m\n",
      "\u001b[0;31mNameError\u001b[0m: name 'X_train_tf' is not defined"
     ]
    }
   ],
   "source": [
    "# binarizefloat or None, optional (default=0.0)\n",
    "# Threshold for binarizing (mapping to booleans) of sample features. \n",
    "# If None, input is presumed to already consist of binary vectors.\n",
    "naive_bayes.fit(X_train_tf, y_train)\n",
    "#X.shape"
   ]
  },
  {
   "cell_type": "code",
   "execution_count": 104,
   "metadata": {
    "scrolled": true
   },
   "outputs": [],
   "source": [
    "#X_test2 = naive_bayes.transform(X_test)\n"
   ]
  },
  {
   "cell_type": "code",
   "execution_count": 105,
   "metadata": {},
   "outputs": [],
   "source": [
    "#clf = BernoulliNB()\n",
    "#clf.fit(X, y_train)"
   ]
  },
  {
   "cell_type": "code",
   "execution_count": 106,
   "metadata": {
    "scrolled": false
   },
   "outputs": [
    {
     "ename": "NameError",
     "evalue": "name 'X_test_tf' is not defined",
     "output_type": "error",
     "traceback": [
      "\u001b[0;31m---------------------------------------------------------------------------\u001b[0m",
      "\u001b[0;31mNameError\u001b[0m                                 Traceback (most recent call last)",
      "\u001b[0;32m<ipython-input-106-87f2b0789046>\u001b[0m in \u001b[0;36m<module>\u001b[0;34m\u001b[0m\n\u001b[0;32m----> 1\u001b[0;31m \u001b[0mpredictions\u001b[0m \u001b[0;34m=\u001b[0m \u001b[0mnaive_bayes\u001b[0m\u001b[0;34m.\u001b[0m\u001b[0mpredict\u001b[0m\u001b[0;34m(\u001b[0m\u001b[0mX_test_tf\u001b[0m\u001b[0;34m)\u001b[0m\u001b[0;34m\u001b[0m\u001b[0;34m\u001b[0m\u001b[0m\n\u001b[0m\u001b[1;32m      2\u001b[0m \u001b[0mnaive_bayes\u001b[0m\u001b[0;34m.\u001b[0m\u001b[0mscore\u001b[0m\u001b[0;34m(\u001b[0m\u001b[0mX_test_tf\u001b[0m\u001b[0;34m,\u001b[0m \u001b[0my_test\u001b[0m\u001b[0;34m)\u001b[0m\u001b[0;34m\u001b[0m\u001b[0;34m\u001b[0m\u001b[0m\n",
      "\u001b[0;31mNameError\u001b[0m: name 'X_test_tf' is not defined"
     ]
    }
   ],
   "source": [
    "predictions = naive_bayes.predict(X_test_tf)\n",
    "naive_bayes.score(X_test_tf, y_test)"
   ]
  },
  {
   "cell_type": "code",
   "execution_count": 107,
   "metadata": {},
   "outputs": [
    {
     "ename": "NameError",
     "evalue": "name 'X_train_tf' is not defined",
     "output_type": "error",
     "traceback": [
      "\u001b[0;31m---------------------------------------------------------------------------\u001b[0m",
      "\u001b[0;31mNameError\u001b[0m                                 Traceback (most recent call last)",
      "\u001b[0;32m<ipython-input-107-d57ff12ce605>\u001b[0m in \u001b[0;36m<module>\u001b[0;34m\u001b[0m\n\u001b[0;32m----> 1\u001b[0;31m \u001b[0mnaive_bayes\u001b[0m\u001b[0;34m.\u001b[0m\u001b[0mscore\u001b[0m\u001b[0;34m(\u001b[0m\u001b[0mX_train_tf\u001b[0m\u001b[0;34m,\u001b[0m \u001b[0my_train\u001b[0m\u001b[0;34m)\u001b[0m\u001b[0;34m\u001b[0m\u001b[0;34m\u001b[0m\u001b[0m\n\u001b[0m",
      "\u001b[0;31mNameError\u001b[0m: name 'X_train_tf' is not defined"
     ]
    }
   ],
   "source": [
    "naive_bayes.score(X_train_tf, y_train)"
   ]
  },
  {
   "cell_type": "code",
   "execution_count": 109,
   "metadata": {},
   "outputs": [
    {
     "ename": "NameError",
     "evalue": "name 'predictions' is not defined",
     "output_type": "error",
     "traceback": [
      "\u001b[0;31m---------------------------------------------------------------------------\u001b[0m",
      "\u001b[0;31mNameError\u001b[0m                                 Traceback (most recent call last)",
      "\u001b[0;32m<ipython-input-109-fd2951b82103>\u001b[0m in \u001b[0;36m<module>\u001b[0;34m\u001b[0m\n\u001b[0;32m----> 1\u001b[0;31m \u001b[0mpredictions\u001b[0m\u001b[0;34m\u001b[0m\u001b[0;34m\u001b[0m\u001b[0m\n\u001b[0m",
      "\u001b[0;31mNameError\u001b[0m: name 'predictions' is not defined"
     ]
    }
   ],
   "source": [
    "predictions"
   ]
  },
  {
   "cell_type": "code",
   "execution_count": 110,
   "metadata": {},
   "outputs": [
    {
     "ename": "AttributeError",
     "evalue": "ravel not found",
     "output_type": "error",
     "traceback": [
      "\u001b[0;31m---------------------------------------------------------------------------\u001b[0m",
      "\u001b[0;31mAttributeError\u001b[0m                            Traceback (most recent call last)",
      "\u001b[0;32m<ipython-input-110-9496cd29b4d7>\u001b[0m in \u001b[0;36m<module>\u001b[0;34m\u001b[0m\n\u001b[1;32m      2\u001b[0m \u001b[0mplt\u001b[0m\u001b[0;34m.\u001b[0m\u001b[0mfigure\u001b[0m\u001b[0;34m(\u001b[0m\u001b[0;36m1\u001b[0m\u001b[0;34m,\u001b[0m \u001b[0mfigsize\u001b[0m\u001b[0;34m=\u001b[0m\u001b[0;34m(\u001b[0m\u001b[0;36m4\u001b[0m\u001b[0;34m,\u001b[0m \u001b[0;36m3\u001b[0m\u001b[0;34m)\u001b[0m\u001b[0;34m)\u001b[0m\u001b[0;34m\u001b[0m\u001b[0;34m\u001b[0m\u001b[0m\n\u001b[1;32m      3\u001b[0m \u001b[0mplt\u001b[0m\u001b[0;34m.\u001b[0m\u001b[0mclf\u001b[0m\u001b[0;34m(\u001b[0m\u001b[0;34m)\u001b[0m\u001b[0;34m\u001b[0m\u001b[0;34m\u001b[0m\u001b[0m\n\u001b[0;32m----> 4\u001b[0;31m \u001b[0mplt\u001b[0m\u001b[0;34m.\u001b[0m\u001b[0mscatter\u001b[0m\u001b[0;34m(\u001b[0m\u001b[0mX\u001b[0m\u001b[0;34m.\u001b[0m\u001b[0mravel\u001b[0m\u001b[0;34m(\u001b[0m\u001b[0;34m)\u001b[0m\u001b[0;34m,\u001b[0m \u001b[0my\u001b[0m\u001b[0;34m,\u001b[0m \u001b[0mcolor\u001b[0m\u001b[0;34m=\u001b[0m\u001b[0;34m'black'\u001b[0m\u001b[0;34m,\u001b[0m \u001b[0mzorder\u001b[0m\u001b[0;34m=\u001b[0m\u001b[0;36m20\u001b[0m\u001b[0;34m)\u001b[0m\u001b[0;34m\u001b[0m\u001b[0;34m\u001b[0m\u001b[0m\n\u001b[0m\u001b[1;32m      5\u001b[0m \u001b[0mX_test\u001b[0m \u001b[0;34m=\u001b[0m \u001b[0mnp\u001b[0m\u001b[0;34m.\u001b[0m\u001b[0mlinspace\u001b[0m\u001b[0;34m(\u001b[0m\u001b[0;34m-\u001b[0m\u001b[0;36m5\u001b[0m\u001b[0;34m,\u001b[0m \u001b[0;36m10\u001b[0m\u001b[0;34m,\u001b[0m \u001b[0;36m300\u001b[0m\u001b[0;34m)\u001b[0m\u001b[0;34m\u001b[0m\u001b[0;34m\u001b[0m\u001b[0m\n\u001b[1;32m      6\u001b[0m \u001b[0;34m\u001b[0m\u001b[0m\n",
      "\u001b[0;32m~/opt/anaconda3/lib/python3.7/site-packages/scipy/sparse/base.py\u001b[0m in \u001b[0;36m__getattr__\u001b[0;34m(self, attr)\u001b[0m\n\u001b[1;32m    689\u001b[0m             \u001b[0;32mreturn\u001b[0m \u001b[0mself\u001b[0m\u001b[0;34m.\u001b[0m\u001b[0mgetnnz\u001b[0m\u001b[0;34m(\u001b[0m\u001b[0;34m)\u001b[0m\u001b[0;34m\u001b[0m\u001b[0;34m\u001b[0m\u001b[0m\n\u001b[1;32m    690\u001b[0m         \u001b[0;32melse\u001b[0m\u001b[0;34m:\u001b[0m\u001b[0;34m\u001b[0m\u001b[0;34m\u001b[0m\u001b[0m\n\u001b[0;32m--> 691\u001b[0;31m             \u001b[0;32mraise\u001b[0m \u001b[0mAttributeError\u001b[0m\u001b[0;34m(\u001b[0m\u001b[0mattr\u001b[0m \u001b[0;34m+\u001b[0m \u001b[0;34m\" not found\"\u001b[0m\u001b[0;34m)\u001b[0m\u001b[0;34m\u001b[0m\u001b[0;34m\u001b[0m\u001b[0m\n\u001b[0m\u001b[1;32m    692\u001b[0m \u001b[0;34m\u001b[0m\u001b[0m\n\u001b[1;32m    693\u001b[0m     \u001b[0;32mdef\u001b[0m \u001b[0mtranspose\u001b[0m\u001b[0;34m(\u001b[0m\u001b[0mself\u001b[0m\u001b[0;34m,\u001b[0m \u001b[0maxes\u001b[0m\u001b[0;34m=\u001b[0m\u001b[0;32mNone\u001b[0m\u001b[0;34m,\u001b[0m \u001b[0mcopy\u001b[0m\u001b[0;34m=\u001b[0m\u001b[0;32mFalse\u001b[0m\u001b[0;34m)\u001b[0m\u001b[0;34m:\u001b[0m\u001b[0;34m\u001b[0m\u001b[0;34m\u001b[0m\u001b[0m\n",
      "\u001b[0;31mAttributeError\u001b[0m: ravel not found"
     ]
    },
    {
     "data": {
      "text/plain": [
       "<Figure size 288x216 with 0 Axes>"
      ]
     },
     "metadata": {},
     "output_type": "display_data"
    }
   ],
   "source": [
    "# and plot the result\n",
    "plt.figure(1, figsize=(4, 3))\n",
    "plt.clf()\n",
    "plt.scatter(X.ravel(), y, color='black', zorder=20)\n",
    "X_test = np.linspace(-5, 10, 300)\n",
    "\n",
    "loss = expit(X_test * clf.coef_ + clf.intercept_).ravel()\n",
    "plt.plot(X_test, loss, color='red', linewidth=3)\n",
    "\n",
    "ols = linear_model.LinearRegression()\n",
    "ols.fit(X, y)\n",
    "plt.plot(X_test, ols.coef_ * X_test + ols.intercept_, linewidth=1)\n",
    "plt.axhline(.5, color='.5')\n",
    "\n",
    "plt.ylabel('y')\n",
    "plt.xlabel('X')\n",
    "plt.xticks(range(-5, 10))\n",
    "plt.yticks([0, 0.5, 1])\n",
    "plt.ylim(-.25, 1.25)\n",
    "plt.xlim(-4, 10)\n",
    "plt.legend(('Logistic Regression Model', 'Linear Regression Model'),\n",
    "           loc=\"lower right\", fontsize='small')\n",
    "plt.tight_layout()\n",
    "plt.show()"
   ]
  },
  {
   "cell_type": "code",
   "execution_count": 111,
   "metadata": {
    "colab": {},
    "colab_type": "code",
    "id": "aTKnDTiHRmUO"
   },
   "outputs": [
    {
     "ename": "SyntaxError",
     "evalue": "invalid syntax (<ipython-input-111-403df2f6ffc0>, line 1)",
     "output_type": "error",
     "traceback": [
      "\u001b[0;36m  File \u001b[0;32m\"<ipython-input-111-403df2f6ffc0>\"\u001b[0;36m, line \u001b[0;32m1\u001b[0m\n\u001b[0;31m    [8]:  # Show label and resulting features\u001b[0m\n\u001b[0m                                             ^\u001b[0m\n\u001b[0;31mSyntaxError\u001b[0m\u001b[0;31m:\u001b[0m invalid syntax\n"
     ]
    }
   ],
   "source": [
    "[8]:  # Show label and resulting features\n",
    "cleaned(['Label', 'Top1'])"
   ]
  },
  {
   "cell_type": "code",
   "execution_count": null,
   "metadata": {
    "colab": {},
    "colab_type": "code",
    "id": "JUCU2z6kRmqX"
   },
   "outputs": [],
   "source": []
  },
  {
   "cell_type": "code",
   "execution_count": 112,
   "metadata": {
    "colab": {},
    "colab_type": "code",
    "id": "PRu_MDsDffI8"
   },
   "outputs": [],
   "source": [
    "param_grid =[{'vect_ngram_range': [(1,1)],\n",
    "              'vect_stop_words': [stop, None],\n",
    "              'vect_topkenizer': [tokenizer,tokenizer_porter],\n",
    "              'clf_penalty':['l1','l2'],\n",
    "              'clf_C':[1.0,10.0,100.0]}]\n",
    "              "
   ]
  },
  {
   "cell_type": "code",
   "execution_count": 113,
   "metadata": {
    "colab": {},
    "colab_type": "code",
    "id": "19N9yrHFg1fG"
   },
   "outputs": [],
   "source": [
    "lr_tfidf = Pipeline([('vect',tfidf),('clf',LogisticRegression(random_state=0))])"
   ]
  },
  {
   "cell_type": "code",
   "execution_count": 114,
   "metadata": {
    "colab": {},
    "colab_type": "code",
    "id": "FXQYO7gthNbI"
   },
   "outputs": [],
   "source": [
    "gs_lr_tfidf = GridSearchCV(lr_tfidf, param_grid, scoring='accuracy', cv=5, verbose=1, n_jobs=1)"
   ]
  },
  {
   "cell_type": "code",
   "execution_count": 115,
   "metadata": {
    "colab": {
     "base_uri": "https://localhost:8080/",
     "height": 715
    },
    "colab_type": "code",
    "id": "uu8MhrFvhoxM",
    "outputId": "40044474-a0b0-46e6-8811-ff26f5590235"
   },
   "outputs": [
    {
     "name": "stdout",
     "output_type": "stream",
     "text": [
      "Fitting 5 folds for each of 24 candidates, totalling 120 fits\n"
     ]
    },
    {
     "name": "stderr",
     "output_type": "stream",
     "text": [
      "[Parallel(n_jobs=1)]: Using backend SequentialBackend with 1 concurrent workers.\n"
     ]
    },
    {
     "ename": "ValueError",
     "evalue": "Invalid parameter clf_C for estimator Pipeline(memory=None,\n         steps=[('vect',\n                 TfidfTransformer(norm='l2', smooth_idf=True,\n                                  sublinear_tf=False, use_idf=True)),\n                ('clf',\n                 LogisticRegression(C=1.0, class_weight=None, dual=False,\n                                    fit_intercept=True, intercept_scaling=1,\n                                    l1_ratio=None, max_iter=100,\n                                    multi_class='warn', n_jobs=None,\n                                    penalty='l2', random_state=0, solver='warn',\n                                    tol=0.0001, verbose=0, warm_start=False))],\n         verbose=False). Check the list of available parameters with `estimator.get_params().keys()`.",
     "output_type": "error",
     "traceback": [
      "\u001b[0;31m---------------------------------------------------------------------------\u001b[0m",
      "\u001b[0;31mValueError\u001b[0m                                Traceback (most recent call last)",
      "\u001b[0;32m<ipython-input-115-891f8ef7d396>\u001b[0m in \u001b[0;36m<module>\u001b[0;34m\u001b[0m\n\u001b[0;32m----> 1\u001b[0;31m \u001b[0mgs_lr_tfidf\u001b[0m\u001b[0;34m.\u001b[0m\u001b[0mfit\u001b[0m\u001b[0;34m(\u001b[0m\u001b[0mX_train\u001b[0m\u001b[0;34m,\u001b[0m \u001b[0my_train\u001b[0m\u001b[0;34m)\u001b[0m\u001b[0;34m\u001b[0m\u001b[0;34m\u001b[0m\u001b[0m\n\u001b[0m",
      "\u001b[0;32m~/opt/anaconda3/lib/python3.7/site-packages/sklearn/model_selection/_search.py\u001b[0m in \u001b[0;36mfit\u001b[0;34m(self, X, y, groups, **fit_params)\u001b[0m\n\u001b[1;32m    686\u001b[0m                 \u001b[0;32mreturn\u001b[0m \u001b[0mresults\u001b[0m\u001b[0;34m\u001b[0m\u001b[0;34m\u001b[0m\u001b[0m\n\u001b[1;32m    687\u001b[0m \u001b[0;34m\u001b[0m\u001b[0m\n\u001b[0;32m--> 688\u001b[0;31m             \u001b[0mself\u001b[0m\u001b[0;34m.\u001b[0m\u001b[0m_run_search\u001b[0m\u001b[0;34m(\u001b[0m\u001b[0mevaluate_candidates\u001b[0m\u001b[0;34m)\u001b[0m\u001b[0;34m\u001b[0m\u001b[0;34m\u001b[0m\u001b[0m\n\u001b[0m\u001b[1;32m    689\u001b[0m \u001b[0;34m\u001b[0m\u001b[0m\n\u001b[1;32m    690\u001b[0m         \u001b[0;31m# For multi-metric evaluation, store the best_index_, best_params_ and\u001b[0m\u001b[0;34m\u001b[0m\u001b[0;34m\u001b[0m\u001b[0;34m\u001b[0m\u001b[0m\n",
      "\u001b[0;32m~/opt/anaconda3/lib/python3.7/site-packages/sklearn/model_selection/_search.py\u001b[0m in \u001b[0;36m_run_search\u001b[0;34m(self, evaluate_candidates)\u001b[0m\n\u001b[1;32m   1147\u001b[0m     \u001b[0;32mdef\u001b[0m \u001b[0m_run_search\u001b[0m\u001b[0;34m(\u001b[0m\u001b[0mself\u001b[0m\u001b[0;34m,\u001b[0m \u001b[0mevaluate_candidates\u001b[0m\u001b[0;34m)\u001b[0m\u001b[0;34m:\u001b[0m\u001b[0;34m\u001b[0m\u001b[0;34m\u001b[0m\u001b[0m\n\u001b[1;32m   1148\u001b[0m         \u001b[0;34m\"\"\"Search all candidates in param_grid\"\"\"\u001b[0m\u001b[0;34m\u001b[0m\u001b[0;34m\u001b[0m\u001b[0m\n\u001b[0;32m-> 1149\u001b[0;31m         \u001b[0mevaluate_candidates\u001b[0m\u001b[0;34m(\u001b[0m\u001b[0mParameterGrid\u001b[0m\u001b[0;34m(\u001b[0m\u001b[0mself\u001b[0m\u001b[0;34m.\u001b[0m\u001b[0mparam_grid\u001b[0m\u001b[0;34m)\u001b[0m\u001b[0;34m)\u001b[0m\u001b[0;34m\u001b[0m\u001b[0;34m\u001b[0m\u001b[0m\n\u001b[0m\u001b[1;32m   1150\u001b[0m \u001b[0;34m\u001b[0m\u001b[0m\n\u001b[1;32m   1151\u001b[0m \u001b[0;34m\u001b[0m\u001b[0m\n",
      "\u001b[0;32m~/opt/anaconda3/lib/python3.7/site-packages/sklearn/model_selection/_search.py\u001b[0m in \u001b[0;36mevaluate_candidates\u001b[0;34m(candidate_params)\u001b[0m\n\u001b[1;32m    665\u001b[0m                                \u001b[0;32mfor\u001b[0m \u001b[0mparameters\u001b[0m\u001b[0;34m,\u001b[0m \u001b[0;34m(\u001b[0m\u001b[0mtrain\u001b[0m\u001b[0;34m,\u001b[0m \u001b[0mtest\u001b[0m\u001b[0;34m)\u001b[0m\u001b[0;34m\u001b[0m\u001b[0;34m\u001b[0m\u001b[0m\n\u001b[1;32m    666\u001b[0m                                in product(candidate_params,\n\u001b[0;32m--> 667\u001b[0;31m                                           cv.split(X, y, groups)))\n\u001b[0m\u001b[1;32m    668\u001b[0m \u001b[0;34m\u001b[0m\u001b[0m\n\u001b[1;32m    669\u001b[0m                 \u001b[0;32mif\u001b[0m \u001b[0mlen\u001b[0m\u001b[0;34m(\u001b[0m\u001b[0mout\u001b[0m\u001b[0;34m)\u001b[0m \u001b[0;34m<\u001b[0m \u001b[0;36m1\u001b[0m\u001b[0;34m:\u001b[0m\u001b[0;34m\u001b[0m\u001b[0;34m\u001b[0m\u001b[0m\n",
      "\u001b[0;32m~/opt/anaconda3/lib/python3.7/site-packages/joblib/parallel.py\u001b[0m in \u001b[0;36m__call__\u001b[0;34m(self, iterable)\u001b[0m\n\u001b[1;32m    919\u001b[0m             \u001b[0;31m# remaining jobs.\u001b[0m\u001b[0;34m\u001b[0m\u001b[0;34m\u001b[0m\u001b[0;34m\u001b[0m\u001b[0m\n\u001b[1;32m    920\u001b[0m             \u001b[0mself\u001b[0m\u001b[0;34m.\u001b[0m\u001b[0m_iterating\u001b[0m \u001b[0;34m=\u001b[0m \u001b[0;32mFalse\u001b[0m\u001b[0;34m\u001b[0m\u001b[0;34m\u001b[0m\u001b[0m\n\u001b[0;32m--> 921\u001b[0;31m             \u001b[0;32mif\u001b[0m \u001b[0mself\u001b[0m\u001b[0;34m.\u001b[0m\u001b[0mdispatch_one_batch\u001b[0m\u001b[0;34m(\u001b[0m\u001b[0miterator\u001b[0m\u001b[0;34m)\u001b[0m\u001b[0;34m:\u001b[0m\u001b[0;34m\u001b[0m\u001b[0;34m\u001b[0m\u001b[0m\n\u001b[0m\u001b[1;32m    922\u001b[0m                 \u001b[0mself\u001b[0m\u001b[0;34m.\u001b[0m\u001b[0m_iterating\u001b[0m \u001b[0;34m=\u001b[0m \u001b[0mself\u001b[0m\u001b[0;34m.\u001b[0m\u001b[0m_original_iterator\u001b[0m \u001b[0;32mis\u001b[0m \u001b[0;32mnot\u001b[0m \u001b[0;32mNone\u001b[0m\u001b[0;34m\u001b[0m\u001b[0;34m\u001b[0m\u001b[0m\n\u001b[1;32m    923\u001b[0m \u001b[0;34m\u001b[0m\u001b[0m\n",
      "\u001b[0;32m~/opt/anaconda3/lib/python3.7/site-packages/joblib/parallel.py\u001b[0m in \u001b[0;36mdispatch_one_batch\u001b[0;34m(self, iterator)\u001b[0m\n\u001b[1;32m    757\u001b[0m                 \u001b[0;32mreturn\u001b[0m \u001b[0;32mFalse\u001b[0m\u001b[0;34m\u001b[0m\u001b[0;34m\u001b[0m\u001b[0m\n\u001b[1;32m    758\u001b[0m             \u001b[0;32melse\u001b[0m\u001b[0;34m:\u001b[0m\u001b[0;34m\u001b[0m\u001b[0;34m\u001b[0m\u001b[0m\n\u001b[0;32m--> 759\u001b[0;31m                 \u001b[0mself\u001b[0m\u001b[0;34m.\u001b[0m\u001b[0m_dispatch\u001b[0m\u001b[0;34m(\u001b[0m\u001b[0mtasks\u001b[0m\u001b[0;34m)\u001b[0m\u001b[0;34m\u001b[0m\u001b[0;34m\u001b[0m\u001b[0m\n\u001b[0m\u001b[1;32m    760\u001b[0m                 \u001b[0;32mreturn\u001b[0m \u001b[0;32mTrue\u001b[0m\u001b[0;34m\u001b[0m\u001b[0;34m\u001b[0m\u001b[0m\n\u001b[1;32m    761\u001b[0m \u001b[0;34m\u001b[0m\u001b[0m\n",
      "\u001b[0;32m~/opt/anaconda3/lib/python3.7/site-packages/joblib/parallel.py\u001b[0m in \u001b[0;36m_dispatch\u001b[0;34m(self, batch)\u001b[0m\n\u001b[1;32m    714\u001b[0m         \u001b[0;32mwith\u001b[0m \u001b[0mself\u001b[0m\u001b[0;34m.\u001b[0m\u001b[0m_lock\u001b[0m\u001b[0;34m:\u001b[0m\u001b[0;34m\u001b[0m\u001b[0;34m\u001b[0m\u001b[0m\n\u001b[1;32m    715\u001b[0m             \u001b[0mjob_idx\u001b[0m \u001b[0;34m=\u001b[0m \u001b[0mlen\u001b[0m\u001b[0;34m(\u001b[0m\u001b[0mself\u001b[0m\u001b[0;34m.\u001b[0m\u001b[0m_jobs\u001b[0m\u001b[0;34m)\u001b[0m\u001b[0;34m\u001b[0m\u001b[0;34m\u001b[0m\u001b[0m\n\u001b[0;32m--> 716\u001b[0;31m             \u001b[0mjob\u001b[0m \u001b[0;34m=\u001b[0m \u001b[0mself\u001b[0m\u001b[0;34m.\u001b[0m\u001b[0m_backend\u001b[0m\u001b[0;34m.\u001b[0m\u001b[0mapply_async\u001b[0m\u001b[0;34m(\u001b[0m\u001b[0mbatch\u001b[0m\u001b[0;34m,\u001b[0m \u001b[0mcallback\u001b[0m\u001b[0;34m=\u001b[0m\u001b[0mcb\u001b[0m\u001b[0;34m)\u001b[0m\u001b[0;34m\u001b[0m\u001b[0;34m\u001b[0m\u001b[0m\n\u001b[0m\u001b[1;32m    717\u001b[0m             \u001b[0;31m# A job can complete so quickly than its callback is\u001b[0m\u001b[0;34m\u001b[0m\u001b[0;34m\u001b[0m\u001b[0;34m\u001b[0m\u001b[0m\n\u001b[1;32m    718\u001b[0m             \u001b[0;31m# called before we get here, causing self._jobs to\u001b[0m\u001b[0;34m\u001b[0m\u001b[0;34m\u001b[0m\u001b[0;34m\u001b[0m\u001b[0m\n",
      "\u001b[0;32m~/opt/anaconda3/lib/python3.7/site-packages/joblib/_parallel_backends.py\u001b[0m in \u001b[0;36mapply_async\u001b[0;34m(self, func, callback)\u001b[0m\n\u001b[1;32m    180\u001b[0m     \u001b[0;32mdef\u001b[0m \u001b[0mapply_async\u001b[0m\u001b[0;34m(\u001b[0m\u001b[0mself\u001b[0m\u001b[0;34m,\u001b[0m \u001b[0mfunc\u001b[0m\u001b[0;34m,\u001b[0m \u001b[0mcallback\u001b[0m\u001b[0;34m=\u001b[0m\u001b[0;32mNone\u001b[0m\u001b[0;34m)\u001b[0m\u001b[0;34m:\u001b[0m\u001b[0;34m\u001b[0m\u001b[0;34m\u001b[0m\u001b[0m\n\u001b[1;32m    181\u001b[0m         \u001b[0;34m\"\"\"Schedule a func to be run\"\"\"\u001b[0m\u001b[0;34m\u001b[0m\u001b[0;34m\u001b[0m\u001b[0m\n\u001b[0;32m--> 182\u001b[0;31m         \u001b[0mresult\u001b[0m \u001b[0;34m=\u001b[0m \u001b[0mImmediateResult\u001b[0m\u001b[0;34m(\u001b[0m\u001b[0mfunc\u001b[0m\u001b[0;34m)\u001b[0m\u001b[0;34m\u001b[0m\u001b[0;34m\u001b[0m\u001b[0m\n\u001b[0m\u001b[1;32m    183\u001b[0m         \u001b[0;32mif\u001b[0m \u001b[0mcallback\u001b[0m\u001b[0;34m:\u001b[0m\u001b[0;34m\u001b[0m\u001b[0;34m\u001b[0m\u001b[0m\n\u001b[1;32m    184\u001b[0m             \u001b[0mcallback\u001b[0m\u001b[0;34m(\u001b[0m\u001b[0mresult\u001b[0m\u001b[0;34m)\u001b[0m\u001b[0;34m\u001b[0m\u001b[0;34m\u001b[0m\u001b[0m\n",
      "\u001b[0;32m~/opt/anaconda3/lib/python3.7/site-packages/joblib/_parallel_backends.py\u001b[0m in \u001b[0;36m__init__\u001b[0;34m(self, batch)\u001b[0m\n\u001b[1;32m    547\u001b[0m         \u001b[0;31m# Don't delay the application, to avoid keeping the input\u001b[0m\u001b[0;34m\u001b[0m\u001b[0;34m\u001b[0m\u001b[0;34m\u001b[0m\u001b[0m\n\u001b[1;32m    548\u001b[0m         \u001b[0;31m# arguments in memory\u001b[0m\u001b[0;34m\u001b[0m\u001b[0;34m\u001b[0m\u001b[0;34m\u001b[0m\u001b[0m\n\u001b[0;32m--> 549\u001b[0;31m         \u001b[0mself\u001b[0m\u001b[0;34m.\u001b[0m\u001b[0mresults\u001b[0m \u001b[0;34m=\u001b[0m \u001b[0mbatch\u001b[0m\u001b[0;34m(\u001b[0m\u001b[0;34m)\u001b[0m\u001b[0;34m\u001b[0m\u001b[0;34m\u001b[0m\u001b[0m\n\u001b[0m\u001b[1;32m    550\u001b[0m \u001b[0;34m\u001b[0m\u001b[0m\n\u001b[1;32m    551\u001b[0m     \u001b[0;32mdef\u001b[0m \u001b[0mget\u001b[0m\u001b[0;34m(\u001b[0m\u001b[0mself\u001b[0m\u001b[0;34m)\u001b[0m\u001b[0;34m:\u001b[0m\u001b[0;34m\u001b[0m\u001b[0;34m\u001b[0m\u001b[0m\n",
      "\u001b[0;32m~/opt/anaconda3/lib/python3.7/site-packages/joblib/parallel.py\u001b[0m in \u001b[0;36m__call__\u001b[0;34m(self)\u001b[0m\n\u001b[1;32m    223\u001b[0m         \u001b[0;32mwith\u001b[0m \u001b[0mparallel_backend\u001b[0m\u001b[0;34m(\u001b[0m\u001b[0mself\u001b[0m\u001b[0;34m.\u001b[0m\u001b[0m_backend\u001b[0m\u001b[0;34m,\u001b[0m \u001b[0mn_jobs\u001b[0m\u001b[0;34m=\u001b[0m\u001b[0mself\u001b[0m\u001b[0;34m.\u001b[0m\u001b[0m_n_jobs\u001b[0m\u001b[0;34m)\u001b[0m\u001b[0;34m:\u001b[0m\u001b[0;34m\u001b[0m\u001b[0;34m\u001b[0m\u001b[0m\n\u001b[1;32m    224\u001b[0m             return [func(*args, **kwargs)\n\u001b[0;32m--> 225\u001b[0;31m                     for func, args, kwargs in self.items]\n\u001b[0m\u001b[1;32m    226\u001b[0m \u001b[0;34m\u001b[0m\u001b[0m\n\u001b[1;32m    227\u001b[0m     \u001b[0;32mdef\u001b[0m \u001b[0m__len__\u001b[0m\u001b[0;34m(\u001b[0m\u001b[0mself\u001b[0m\u001b[0;34m)\u001b[0m\u001b[0;34m:\u001b[0m\u001b[0;34m\u001b[0m\u001b[0;34m\u001b[0m\u001b[0m\n",
      "\u001b[0;32m~/opt/anaconda3/lib/python3.7/site-packages/joblib/parallel.py\u001b[0m in \u001b[0;36m<listcomp>\u001b[0;34m(.0)\u001b[0m\n\u001b[1;32m    223\u001b[0m         \u001b[0;32mwith\u001b[0m \u001b[0mparallel_backend\u001b[0m\u001b[0;34m(\u001b[0m\u001b[0mself\u001b[0m\u001b[0;34m.\u001b[0m\u001b[0m_backend\u001b[0m\u001b[0;34m,\u001b[0m \u001b[0mn_jobs\u001b[0m\u001b[0;34m=\u001b[0m\u001b[0mself\u001b[0m\u001b[0;34m.\u001b[0m\u001b[0m_n_jobs\u001b[0m\u001b[0;34m)\u001b[0m\u001b[0;34m:\u001b[0m\u001b[0;34m\u001b[0m\u001b[0;34m\u001b[0m\u001b[0m\n\u001b[1;32m    224\u001b[0m             return [func(*args, **kwargs)\n\u001b[0;32m--> 225\u001b[0;31m                     for func, args, kwargs in self.items]\n\u001b[0m\u001b[1;32m    226\u001b[0m \u001b[0;34m\u001b[0m\u001b[0m\n\u001b[1;32m    227\u001b[0m     \u001b[0;32mdef\u001b[0m \u001b[0m__len__\u001b[0m\u001b[0;34m(\u001b[0m\u001b[0mself\u001b[0m\u001b[0;34m)\u001b[0m\u001b[0;34m:\u001b[0m\u001b[0;34m\u001b[0m\u001b[0;34m\u001b[0m\u001b[0m\n",
      "\u001b[0;32m~/opt/anaconda3/lib/python3.7/site-packages/sklearn/model_selection/_validation.py\u001b[0m in \u001b[0;36m_fit_and_score\u001b[0;34m(estimator, X, y, scorer, train, test, verbose, parameters, fit_params, return_train_score, return_parameters, return_n_test_samples, return_times, return_estimator, error_score)\u001b[0m\n\u001b[1;32m    501\u001b[0m     \u001b[0mtrain_scores\u001b[0m \u001b[0;34m=\u001b[0m \u001b[0;34m{\u001b[0m\u001b[0;34m}\u001b[0m\u001b[0;34m\u001b[0m\u001b[0;34m\u001b[0m\u001b[0m\n\u001b[1;32m    502\u001b[0m     \u001b[0;32mif\u001b[0m \u001b[0mparameters\u001b[0m \u001b[0;32mis\u001b[0m \u001b[0;32mnot\u001b[0m \u001b[0;32mNone\u001b[0m\u001b[0;34m:\u001b[0m\u001b[0;34m\u001b[0m\u001b[0;34m\u001b[0m\u001b[0m\n\u001b[0;32m--> 503\u001b[0;31m         \u001b[0mestimator\u001b[0m\u001b[0;34m.\u001b[0m\u001b[0mset_params\u001b[0m\u001b[0;34m(\u001b[0m\u001b[0;34m**\u001b[0m\u001b[0mparameters\u001b[0m\u001b[0;34m)\u001b[0m\u001b[0;34m\u001b[0m\u001b[0;34m\u001b[0m\u001b[0m\n\u001b[0m\u001b[1;32m    504\u001b[0m \u001b[0;34m\u001b[0m\u001b[0m\n\u001b[1;32m    505\u001b[0m     \u001b[0mstart_time\u001b[0m \u001b[0;34m=\u001b[0m \u001b[0mtime\u001b[0m\u001b[0;34m.\u001b[0m\u001b[0mtime\u001b[0m\u001b[0;34m(\u001b[0m\u001b[0;34m)\u001b[0m\u001b[0;34m\u001b[0m\u001b[0;34m\u001b[0m\u001b[0m\n",
      "\u001b[0;32m~/opt/anaconda3/lib/python3.7/site-packages/sklearn/pipeline.py\u001b[0m in \u001b[0;36mset_params\u001b[0;34m(self, **kwargs)\u001b[0m\n\u001b[1;32m    162\u001b[0m         \u001b[0mself\u001b[0m\u001b[0;34m\u001b[0m\u001b[0;34m\u001b[0m\u001b[0m\n\u001b[1;32m    163\u001b[0m         \"\"\"\n\u001b[0;32m--> 164\u001b[0;31m         \u001b[0mself\u001b[0m\u001b[0;34m.\u001b[0m\u001b[0m_set_params\u001b[0m\u001b[0;34m(\u001b[0m\u001b[0;34m'steps'\u001b[0m\u001b[0;34m,\u001b[0m \u001b[0;34m**\u001b[0m\u001b[0mkwargs\u001b[0m\u001b[0;34m)\u001b[0m\u001b[0;34m\u001b[0m\u001b[0;34m\u001b[0m\u001b[0m\n\u001b[0m\u001b[1;32m    165\u001b[0m         \u001b[0;32mreturn\u001b[0m \u001b[0mself\u001b[0m\u001b[0;34m\u001b[0m\u001b[0;34m\u001b[0m\u001b[0m\n\u001b[1;32m    166\u001b[0m \u001b[0;34m\u001b[0m\u001b[0m\n",
      "\u001b[0;32m~/opt/anaconda3/lib/python3.7/site-packages/sklearn/utils/metaestimators.py\u001b[0m in \u001b[0;36m_set_params\u001b[0;34m(self, attr, **params)\u001b[0m\n\u001b[1;32m     48\u001b[0m                 \u001b[0mself\u001b[0m\u001b[0;34m.\u001b[0m\u001b[0m_replace_estimator\u001b[0m\u001b[0;34m(\u001b[0m\u001b[0mattr\u001b[0m\u001b[0;34m,\u001b[0m \u001b[0mname\u001b[0m\u001b[0;34m,\u001b[0m \u001b[0mparams\u001b[0m\u001b[0;34m.\u001b[0m\u001b[0mpop\u001b[0m\u001b[0;34m(\u001b[0m\u001b[0mname\u001b[0m\u001b[0;34m)\u001b[0m\u001b[0;34m)\u001b[0m\u001b[0;34m\u001b[0m\u001b[0;34m\u001b[0m\u001b[0m\n\u001b[1;32m     49\u001b[0m         \u001b[0;31m# 3. Step parameters and other initialisation arguments\u001b[0m\u001b[0;34m\u001b[0m\u001b[0;34m\u001b[0m\u001b[0;34m\u001b[0m\u001b[0m\n\u001b[0;32m---> 50\u001b[0;31m         \u001b[0msuper\u001b[0m\u001b[0;34m(\u001b[0m\u001b[0;34m)\u001b[0m\u001b[0;34m.\u001b[0m\u001b[0mset_params\u001b[0m\u001b[0;34m(\u001b[0m\u001b[0;34m**\u001b[0m\u001b[0mparams\u001b[0m\u001b[0;34m)\u001b[0m\u001b[0;34m\u001b[0m\u001b[0;34m\u001b[0m\u001b[0m\n\u001b[0m\u001b[1;32m     51\u001b[0m         \u001b[0;32mreturn\u001b[0m \u001b[0mself\u001b[0m\u001b[0;34m\u001b[0m\u001b[0;34m\u001b[0m\u001b[0m\n\u001b[1;32m     52\u001b[0m \u001b[0;34m\u001b[0m\u001b[0m\n",
      "\u001b[0;32m~/opt/anaconda3/lib/python3.7/site-packages/sklearn/base.py\u001b[0m in \u001b[0;36mset_params\u001b[0;34m(self, **params)\u001b[0m\n\u001b[1;32m    222\u001b[0m                                  \u001b[0;34m'Check the list of available parameters '\u001b[0m\u001b[0;34m\u001b[0m\u001b[0;34m\u001b[0m\u001b[0m\n\u001b[1;32m    223\u001b[0m                                  \u001b[0;34m'with `estimator.get_params().keys()`.'\u001b[0m \u001b[0;34m%\u001b[0m\u001b[0;34m\u001b[0m\u001b[0;34m\u001b[0m\u001b[0m\n\u001b[0;32m--> 224\u001b[0;31m                                  (key, self))\n\u001b[0m\u001b[1;32m    225\u001b[0m \u001b[0;34m\u001b[0m\u001b[0m\n\u001b[1;32m    226\u001b[0m             \u001b[0;32mif\u001b[0m \u001b[0mdelim\u001b[0m\u001b[0;34m:\u001b[0m\u001b[0;34m\u001b[0m\u001b[0;34m\u001b[0m\u001b[0m\n",
      "\u001b[0;31mValueError\u001b[0m: Invalid parameter clf_C for estimator Pipeline(memory=None,\n         steps=[('vect',\n                 TfidfTransformer(norm='l2', smooth_idf=True,\n                                  sublinear_tf=False, use_idf=True)),\n                ('clf',\n                 LogisticRegression(C=1.0, class_weight=None, dual=False,\n                                    fit_intercept=True, intercept_scaling=1,\n                                    l1_ratio=None, max_iter=100,\n                                    multi_class='warn', n_jobs=None,\n                                    penalty='l2', random_state=0, solver='warn',\n                                    tol=0.0001, verbose=0, warm_start=False))],\n         verbose=False). Check the list of available parameters with `estimator.get_params().keys()`."
     ]
    }
   ],
   "source": [
    "gs_lr_tfidf.fit(X_train, y_train)"
   ]
  },
  {
   "cell_type": "code",
   "execution_count": null,
   "metadata": {
    "colab": {},
    "colab_type": "code",
    "id": "3LFPlPJqhzr2"
   },
   "outputs": [],
   "source": []
  },
  {
   "cell_type": "code",
   "execution_count": null,
   "metadata": {},
   "outputs": [],
   "source": []
  },
  {
   "cell_type": "code",
   "execution_count": null,
   "metadata": {},
   "outputs": [],
   "source": []
  }
 ],
 "metadata": {
  "colab": {
   "collapsed_sections": [
    "WsqbxzYQju2n"
   ],
   "name": "Copy of final_project.ipynb",
   "provenance": []
  },
  "kernelspec": {
   "display_name": "Python 3",
   "language": "python",
   "name": "python3"
  },
  "language_info": {
   "codemirror_mode": {
    "name": "ipython",
    "version": 3
   },
   "file_extension": ".py",
   "mimetype": "text/x-python",
   "name": "python",
   "nbconvert_exporter": "python",
   "pygments_lexer": "ipython3",
   "version": "3.7.4"
  }
 },
 "nbformat": 4,
 "nbformat_minor": 1
}
