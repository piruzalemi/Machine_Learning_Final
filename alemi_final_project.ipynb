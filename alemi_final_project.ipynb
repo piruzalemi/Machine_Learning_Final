{
 "cells": [
  {
   "cell_type": "markdown",
   "metadata": {},
   "source": [
    "### ----------------------------------------------------------------------------------------------------------------------\n",
    "### This program, all of it runs, except the last line, where i make an attempt to plot 2 features on a region\n",
    "###  This was in the first stage of development to become familiar with vectorizers, Tokenization + features\n",
    "###  See other programs post stage 1.    Alemi 04/15/2020\n",
    "###  ------------------------------------------------------------------------------------------------------------------------\n",
    "###  Fix the plot!"
   ]
  },
  {
   "cell_type": "code",
   "execution_count": 1,
   "metadata": {
    "colab": {},
    "colab_type": "code",
    "id": "QBlUzYPaJ1Ks"
   },
   "outputs": [],
   "source": [
    "import numpy as np"
   ]
  },
  {
   "cell_type": "markdown",
   "metadata": {
    "colab_type": "text",
    "id": "5S5tBknqkNnz"
   },
   "source": [
    "# **CountVectorizer**"
   ]
  },
  {
   "cell_type": "code",
   "execution_count": 2,
   "metadata": {
    "colab": {},
    "colab_type": "code",
    "id": "CRwqeL3OHkX9"
   },
   "outputs": [],
   "source": [
    "from sklearn.feature_extraction.text import CountVectorizer"
   ]
  },
  {
   "cell_type": "code",
   "execution_count": 3,
   "metadata": {
    "colab": {},
    "colab_type": "code",
    "id": "AagsmfAKHt5S"
   },
   "outputs": [],
   "source": [
    "# COUNT VECTORIZER TAKES AN ARRAY OF TEXT DATA, WHICH CAN BE DOCUMENTS OR SENTENCES AND CONSTRUCTS THE BAG-OF-WORDS MODEL FOR US\n",
    "# Note CountVectorizer is an  instance of some type. We need to initialize that instance first before we apply the .fit_transform(docs) Alemi 04/07/2020\n",
    "count=CountVectorizer()\n"
   ]
  },
  {
   "cell_type": "code",
   "execution_count": 4,
   "metadata": {
    "colab": {},
    "colab_type": "code",
    "id": "1rJq1RE-H0xy"
   },
   "outputs": [],
   "source": [
    "import numpy as np \n",
    "# Note there are 4 lines in Docs which is really 3 documents. Each document is separated by a \",\". So the frequency of occurance for the word \"is\" = 3 for the 3rd document\n",
    "# 1 for the first and 1 for the second document. The word \"is\" occurs max = 3. It also occurs in every document. \n",
    "docs = np.array(['The sun is shining on Zhongping',\n",
    "                 'The weather is sweet',\n",
    "                 'The sun is shining, the weather is sweet,'\n",
    "                 'and one and one is two'])\n"
   ]
  },
  {
   "cell_type": "code",
   "execution_count": 5,
   "metadata": {
    "colab": {},
    "colab_type": "code",
    "id": "rO8VZbpHIQ6O"
   },
   "outputs": [],
   "source": [
    "# Transforming Words into Feature Vectors \n",
    "bag = count.fit_transform(docs)"
   ]
  },
  {
   "cell_type": "code",
   "execution_count": 6,
   "metadata": {
    "colab": {
     "base_uri": "https://localhost:8080/",
     "height": 34
    },
    "colab_type": "code",
    "id": "iTNpzpXNIWws",
    "outputId": "cd74e373-2570-46eb-d85f-71c490e48fb0"
   },
   "outputs": [
    {
     "name": "stdout",
     "output_type": "stream",
     "text": [
      "{'the': 7, 'sun': 5, 'is': 1, 'shining': 4, 'on': 2, 'zhongping': 10, 'weather': 9, 'sweet': 6, 'and': 0, 'one': 3, 'two': 8}\n"
     ]
    }
   ],
   "source": [
    "print(count.vocabulary_)"
   ]
  },
  {
   "cell_type": "code",
   "execution_count": 7,
   "metadata": {
    "colab": {
     "base_uri": "https://localhost:8080/",
     "height": 68
    },
    "colab_type": "code",
    "id": "wWdEsgHMN8jM",
    "outputId": "ca89c6c8-2e7f-4d8d-a379-cb9a61b7c9f9"
   },
   "outputs": [
    {
     "name": "stdout",
     "output_type": "stream",
     "text": [
      "[[0 1 1 0 1 1 0 1 0 0 1]\n",
      " [0 1 0 0 0 0 1 1 0 1 0]\n",
      " [2 3 0 2 1 1 1 2 1 1 0]]\n"
     ]
    }
   ],
   "source": [
    "# Each index position in the feature vectors shown here corresponds to the integer values that are stored as dictionary items in the CountVectorizer vocabulary\n",
    "# For example, the first feature at index position 0 resembles the count of the word 'and' which only occurs in the last document. Zhongping occurs on index 10,\n",
    "# recall our index starts with zero, and it (Zhongping) only occurs once! in the first document. We call these feature vectors: Raw Term Frequencies: tf(t,d) -\n",
    "# the number of times a term t occurs in a document d. The sequence of items in the bag-of-words model we just created is also called the 1-gram or unigram model -\n",
    "# Each item or token in the vocabulary represents a single word. More generally, the contigious sequences of items in NLP - words, letters, or symbols - are also called\n",
    "# n-grams. \n",
    "# In 1-gram, we will have 1-gram: \"The\", \"Sun\", \"is\", \"Shining\"\n",
    "# In 2-gram: \"The sun\", \"Sun is\", \"is Shining\"\n",
    "# We could have initialized our CountVectorizer instance with ngram_range=(2,2)\n",
    "print(bag.toarray())"
   ]
  },
  {
   "cell_type": "code",
   "execution_count": 8,
   "metadata": {
    "colab": {
     "base_uri": "https://localhost:8080/",
     "height": 187
    },
    "colab_type": "code",
    "id": "YCCTYBxNQoJ1",
    "outputId": "3182c075-8d79-4e59-fba2-3d8747d86939"
   },
   "outputs": [
    {
     "name": "stdout",
     "output_type": "stream",
     "text": [
      "Name: tensorflow\r\n",
      "Version: 2.1.0\r\n",
      "Summary: TensorFlow is an open source machine learning framework for everyone.\r\n",
      "Home-page: https://www.tensorflow.org/\r\n",
      "Author: Google Inc.\r\n",
      "Author-email: packages@tensorflow.org\r\n",
      "License: Apache 2.0\r\n",
      "Location: /Users/piruzalemi/opt/anaconda3/lib/python3.7/site-packages\r\n",
      "Requires: numpy, opt-einsum, tensorboard, google-pasta, gast, termcolor, grpcio, wheel, six, tensorflow-estimator, scipy, keras-applications, keras-preprocessing, protobuf, astor, wrapt, absl-py\r\n",
      "Required-by: \r\n"
     ]
    }
   ],
   "source": [
    "# Let us capture the inverse of document frequency: idf(t,d) = log n/(1+df(d,t)) - where n is the number of our documents. Log is a weight and f(d,t) was explained before!\n",
    "# Another transformer from scikit-learn library is TfidTransformer class, that takes the term frequencies from CountVectorizer class as input and transforms them into tf-idfs\n",
    "!pip show tensorflow\n"
   ]
  },
  {
   "cell_type": "code",
   "execution_count": 9,
   "metadata": {
    "colab": {
     "base_uri": "https://localhost:8080/",
     "height": 153
    },
    "colab_type": "code",
    "id": "ZMcSRJi5V6QO",
    "outputId": "fcaf772c-3b2b-4a09-d77c-0c0c43c4d422"
   },
   "outputs": [
    {
     "name": "stdout",
     "output_type": "stream",
     "text": [
      "/bin/sh: apt-get: command not found\r\n"
     ]
    }
   ],
   "source": [
    "# https://pypi.python.org/pypi/libarchive\n",
    "!apt-get -qq install -y libarchive-dev && pip install -q -U libarchive\n",
    "import libarchive"
   ]
  },
  {
   "cell_type": "code",
   "execution_count": 10,
   "metadata": {
    "colab": {
     "base_uri": "https://localhost:8080/",
     "height": 153
    },
    "colab_type": "code",
    "id": "9uwcdQcRYYN4",
    "outputId": "3a50d424-d610-4e25-84a2-f523e55b1c66"
   },
   "outputs": [
    {
     "name": "stdout",
     "output_type": "stream",
     "text": [
      "/bin/sh: apt-get: command not found\r\n"
     ]
    }
   ],
   "source": [
    "# from sklearn.feature_extraction.text import TfidTransformer\n",
    "!apt-get -qq install -y libfluidsynth1"
   ]
  },
  {
   "cell_type": "code",
   "execution_count": 11,
   "metadata": {
    "colab": {
     "base_uri": "https://localhost:8080/",
     "height": 768
    },
    "colab_type": "code",
    "id": "EKD-aShpYgdF",
    "outputId": "d651768b-62f4-4866-d478-09f82338e7e3"
   },
   "outputs": [
    {
     "name": "stdout",
     "output_type": "stream",
     "text": [
      "Requirement already satisfied: tf-nightly in /Users/piruzalemi/opt/anaconda3/lib/python3.7/site-packages (2.2.0.dev20200409)\n",
      "Requirement already satisfied: numpy<2.0,>=1.16.0 in /Users/piruzalemi/opt/anaconda3/lib/python3.7/site-packages (from tf-nightly) (1.17.2)\n",
      "Requirement already satisfied: six>=1.12.0 in /Users/piruzalemi/opt/anaconda3/lib/python3.7/site-packages (from tf-nightly) (1.12.0)\n",
      "Requirement already satisfied: protobuf>=3.9.2 in /Users/piruzalemi/opt/anaconda3/lib/python3.7/site-packages (from tf-nightly) (3.11.3)\n",
      "Requirement already satisfied: gast==0.3.3 in /Users/piruzalemi/opt/anaconda3/lib/python3.7/site-packages (from tf-nightly) (0.3.3)\n",
      "Requirement already satisfied: google-pasta>=0.1.8 in /Users/piruzalemi/opt/anaconda3/lib/python3.7/site-packages (from tf-nightly) (0.2.0)\n",
      "Requirement already satisfied: tf-estimator-nightly in /Users/piruzalemi/opt/anaconda3/lib/python3.7/site-packages (from tf-nightly) (2.3.0.dev2020040901)\n",
      "Requirement already satisfied: wrapt>=1.11.1 in /Users/piruzalemi/opt/anaconda3/lib/python3.7/site-packages (from tf-nightly) (1.11.2)\n",
      "Requirement already satisfied: astunparse==1.6.3 in /Users/piruzalemi/opt/anaconda3/lib/python3.7/site-packages (from tf-nightly) (1.6.3)\n",
      "Requirement already satisfied: wheel>=0.26; python_version >= \"3\" in /Users/piruzalemi/opt/anaconda3/lib/python3.7/site-packages (from tf-nightly) (0.33.6)\n",
      "Requirement already satisfied: scipy==1.4.1; python_version >= \"3\" in /Users/piruzalemi/opt/anaconda3/lib/python3.7/site-packages (from tf-nightly) (1.4.1)\n",
      "Requirement already satisfied: opt-einsum>=2.3.2 in /Users/piruzalemi/opt/anaconda3/lib/python3.7/site-packages (from tf-nightly) (3.2.0)\n",
      "Requirement already satisfied: tb-nightly<2.4.0a0,>=2.3.0a0 in /Users/piruzalemi/opt/anaconda3/lib/python3.7/site-packages (from tf-nightly) (2.3.0a20200409)\n",
      "Requirement already satisfied: h5py<2.11.0,>=2.10.0 in /Users/piruzalemi/opt/anaconda3/lib/python3.7/site-packages (from tf-nightly) (2.10.0)\n",
      "Requirement already satisfied: keras-preprocessing>=1.1.0 in /Users/piruzalemi/opt/anaconda3/lib/python3.7/site-packages (from tf-nightly) (1.1.0)\n",
      "Requirement already satisfied: grpcio>=1.8.6 in /Users/piruzalemi/opt/anaconda3/lib/python3.7/site-packages (from tf-nightly) (1.27.2)\n",
      "Requirement already satisfied: termcolor>=1.1.0 in /Users/piruzalemi/opt/anaconda3/lib/python3.7/site-packages (from tf-nightly) (1.1.0)\n",
      "Requirement already satisfied: absl-py>=0.7.0 in /Users/piruzalemi/opt/anaconda3/lib/python3.7/site-packages (from tf-nightly) (0.9.0)\n",
      "Requirement already satisfied: setuptools in /Users/piruzalemi/opt/anaconda3/lib/python3.7/site-packages (from protobuf>=3.9.2->tf-nightly) (41.4.0)\n",
      "Requirement already satisfied: requests<3,>=2.21.0 in /Users/piruzalemi/opt/anaconda3/lib/python3.7/site-packages (from tb-nightly<2.4.0a0,>=2.3.0a0->tf-nightly) (2.22.0)\n",
      "Requirement already satisfied: markdown>=2.6.8 in /Users/piruzalemi/opt/anaconda3/lib/python3.7/site-packages (from tb-nightly<2.4.0a0,>=2.3.0a0->tf-nightly) (3.2.1)\n",
      "Requirement already satisfied: tensorboard-plugin-wit>=1.6.0 in /Users/piruzalemi/opt/anaconda3/lib/python3.7/site-packages (from tb-nightly<2.4.0a0,>=2.3.0a0->tf-nightly) (1.6.0.post3)\n",
      "Requirement already satisfied: werkzeug>=0.11.15 in /Users/piruzalemi/opt/anaconda3/lib/python3.7/site-packages (from tb-nightly<2.4.0a0,>=2.3.0a0->tf-nightly) (0.16.0)\n",
      "Requirement already satisfied: google-auth<2,>=1.6.3 in /Users/piruzalemi/opt/anaconda3/lib/python3.7/site-packages (from tb-nightly<2.4.0a0,>=2.3.0a0->tf-nightly) (1.12.0)\n",
      "Requirement already satisfied: google-auth-oauthlib<0.5,>=0.4.1 in /Users/piruzalemi/opt/anaconda3/lib/python3.7/site-packages (from tb-nightly<2.4.0a0,>=2.3.0a0->tf-nightly) (0.4.1)\n",
      "Requirement already satisfied: urllib3!=1.25.0,!=1.25.1,<1.26,>=1.21.1 in /Users/piruzalemi/opt/anaconda3/lib/python3.7/site-packages (from requests<3,>=2.21.0->tb-nightly<2.4.0a0,>=2.3.0a0->tf-nightly) (1.24.2)\n",
      "Requirement already satisfied: chardet<3.1.0,>=3.0.2 in /Users/piruzalemi/opt/anaconda3/lib/python3.7/site-packages (from requests<3,>=2.21.0->tb-nightly<2.4.0a0,>=2.3.0a0->tf-nightly) (3.0.4)\n",
      "Requirement already satisfied: certifi>=2017.4.17 in /Users/piruzalemi/opt/anaconda3/lib/python3.7/site-packages (from requests<3,>=2.21.0->tb-nightly<2.4.0a0,>=2.3.0a0->tf-nightly) (2019.9.11)\n",
      "Requirement already satisfied: idna<2.9,>=2.5 in /Users/piruzalemi/opt/anaconda3/lib/python3.7/site-packages (from requests<3,>=2.21.0->tb-nightly<2.4.0a0,>=2.3.0a0->tf-nightly) (2.8)\n",
      "Requirement already satisfied: cachetools<5.0,>=2.0.0 in /Users/piruzalemi/opt/anaconda3/lib/python3.7/site-packages (from google-auth<2,>=1.6.3->tb-nightly<2.4.0a0,>=2.3.0a0->tf-nightly) (4.0.0)\n",
      "Requirement already satisfied: pyasn1-modules>=0.2.1 in /Users/piruzalemi/opt/anaconda3/lib/python3.7/site-packages (from google-auth<2,>=1.6.3->tb-nightly<2.4.0a0,>=2.3.0a0->tf-nightly) (0.2.8)\n",
      "Requirement already satisfied: rsa<4.1,>=3.1.4 in /Users/piruzalemi/opt/anaconda3/lib/python3.7/site-packages (from google-auth<2,>=1.6.3->tb-nightly<2.4.0a0,>=2.3.0a0->tf-nightly) (4.0)\n",
      "Requirement already satisfied: requests-oauthlib>=0.7.0 in /Users/piruzalemi/opt/anaconda3/lib/python3.7/site-packages (from google-auth-oauthlib<0.5,>=0.4.1->tb-nightly<2.4.0a0,>=2.3.0a0->tf-nightly) (1.3.0)\n",
      "Requirement already satisfied: pyasn1<0.5.0,>=0.4.6 in /Users/piruzalemi/opt/anaconda3/lib/python3.7/site-packages (from pyasn1-modules>=0.2.1->google-auth<2,>=1.6.3->tb-nightly<2.4.0a0,>=2.3.0a0->tf-nightly) (0.4.8)\n",
      "Requirement already satisfied: oauthlib>=3.0.0 in /Users/piruzalemi/opt/anaconda3/lib/python3.7/site-packages (from requests-oauthlib>=0.7.0->google-auth-oauthlib<0.5,>=0.4.1->tb-nightly<2.4.0a0,>=2.3.0a0->tf-nightly) (3.1.0)\n"
     ]
    }
   ],
   "source": [
    "#from sklearn.feature_extraction.text import TfidTransformer\n",
    "!pip install tf-nightly"
   ]
  },
  {
   "cell_type": "code",
   "execution_count": 12,
   "metadata": {
    "colab": {},
    "colab_type": "code",
    "id": "um58XzwEY_u7"
   },
   "outputs": [],
   "source": [
    "#from sklearn.feature_extraction.text import TfidTransformer\n",
    "from sklearn.feature_extraction.text import TfidfTransformer"
   ]
  },
  {
   "cell_type": "code",
   "execution_count": 13,
   "metadata": {
    "colab": {},
    "colab_type": "code",
    "id": "oWNyTgqxanwL"
   },
   "outputs": [],
   "source": [
    "#  Tf is “n” (natural) by default, “l” (logarithmic) when sublinear_tf=True. \n",
    "#  Idf is “t” when use_idf is given, “n” (none) otherwise. \n",
    "#  Normalization is “c” (cosine)\n",
    "#  when norm='l2', “n” (none) when norm=None.\n",
    "tfidf = TfidfTransformer(use_idf=True,norm='l2',smooth_idf=True)"
   ]
  },
  {
   "cell_type": "code",
   "execution_count": 14,
   "metadata": {
    "colab": {},
    "colab_type": "code",
    "id": "Hxi_EzyGbr5B"
   },
   "outputs": [],
   "source": [
    "np.set_printoptions(precision=2)"
   ]
  },
  {
   "cell_type": "code",
   "execution_count": 15,
   "metadata": {
    "colab": {
     "base_uri": "https://localhost:8080/",
     "height": 68
    },
    "colab_type": "code",
    "id": "Ce81zUwvcKu3",
    "outputId": "61bc0e3d-b5de-40cd-f0e5-740c87766542"
   },
   "outputs": [
    {
     "name": "stdout",
     "output_type": "stream",
     "text": [
      "[[0.   0.3  0.51 0.   0.39 0.39 0.   0.3  0.   0.   0.51]\n",
      " [0.   0.43 0.   0.   0.   0.   0.56 0.43 0.   0.56 0.  ]\n",
      " [0.5  0.45 0.   0.5  0.19 0.19 0.19 0.3  0.25 0.19 0.  ]]\n"
     ]
    }
   ],
   "source": [
    "print(tfidf.fit_transform(count.fit_transform(docs)).toarray())"
   ]
  },
  {
   "cell_type": "code",
   "execution_count": 16,
   "metadata": {
    "colab": {},
    "colab_type": "code",
    "id": "T1Bqxtdkci6V"
   },
   "outputs": [],
   "source": [
    "# The word 'is' has a frequency of 3 (tf=3) in the third document, and the document frequency of this term is also 3 since the term \"is\" occurs in all three documents (df=3)\n",
    "#. Thus, we can calculate  the inverse document frequency as follows: idf(\"is\",d3) = log(1+3)/(1+3) = 0, and the tf-idf (termFrequency-inverseDocumentFrequency) \n",
    "#  tf-idf(\"is\",d3)=3 * (0+1) =3. Note this value is different than the above derived tf-idf(d3), as the above values in the final step is L2-normalized.\n",
    "# lets clean our data by excluding unwanted characters!"
   ]
  },
  {
   "cell_type": "code",
   "execution_count": 17,
   "metadata": {
    "colab": {},
    "colab_type": "code",
    "id": "hji2ebjnn4ey"
   },
   "outputs": [],
   "source": [
    "#import pyprind\n",
    "import tarfile\n",
    "!pip install -q matplotlib-venn"
   ]
  },
  {
   "cell_type": "code",
   "execution_count": 18,
   "metadata": {
    "colab": {},
    "colab_type": "code",
    "id": "F2uHBKyZpAKx"
   },
   "outputs": [],
   "source": [
    "#with tarfile.open('https://www.kaggle.com/aaron7sun/stocknews#Combined_News_DJIA.csv') as tar:\n",
    "#  tar.extractall()\n",
    "import numpy as np"
   ]
  },
  {
   "cell_type": "code",
   "execution_count": 19,
   "metadata": {
    "colab": {
     "base_uri": "https://localhost:8080/",
     "height": 85
    },
    "colab_type": "code",
    "id": "x_98qzDPrOVP",
    "outputId": "dfeb1503-3d00-4d27-e4f4-2d48ebf44726"
   },
   "outputs": [
    {
     "name": "stdout",
     "output_type": "stream",
     "text": [
      "Requirement already satisfied: pyprind in /Users/piruzalemi/opt/anaconda3/lib/python3.7/site-packages (2.11.2)\r\n"
     ]
    }
   ],
   "source": [
    "np.random.seed(0)\n",
    "!pip install pyprind\n",
    "import pyprind\n",
    "import pandas as pd\n",
    "import os"
   ]
  },
  {
   "cell_type": "code",
   "execution_count": null,
   "metadata": {
    "colab": {},
    "colab_type": "code",
    "id": "bSiBW9SiUD27"
   },
   "outputs": [],
   "source": [
    "\n"
   ]
  },
  {
   "cell_type": "markdown",
   "metadata": {
    "colab_type": "text",
    "id": "WsqbxzYQju2n"
   },
   "source": [
    "# **Access Kaggle**\n"
   ]
  },
  {
   "cell_type": "code",
   "execution_count": 20,
   "metadata": {
    "colab": {
     "base_uri": "https://localhost:8080/",
     "height": 204
    },
    "colab_type": "code",
    "id": "J6942WUGjrVI",
    "outputId": "c6af5b56-5c9e-49c3-acf1-da0cee8b368f"
   },
   "outputs": [
    {
     "name": "stdout",
     "output_type": "stream",
     "text": [
      "Requirement already satisfied: kaggle in /Users/piruzalemi/opt/anaconda3/lib/python3.7/site-packages (1.5.6)\n",
      "Requirement already satisfied: six>=1.10 in /Users/piruzalemi/opt/anaconda3/lib/python3.7/site-packages (from kaggle) (1.12.0)\n",
      "Requirement already satisfied: requests in /Users/piruzalemi/opt/anaconda3/lib/python3.7/site-packages (from kaggle) (2.22.0)\n",
      "Requirement already satisfied: urllib3<1.25,>=1.21.1 in /Users/piruzalemi/opt/anaconda3/lib/python3.7/site-packages (from kaggle) (1.24.2)\n",
      "Requirement already satisfied: python-dateutil in /Users/piruzalemi/opt/anaconda3/lib/python3.7/site-packages (from kaggle) (2.8.0)\n",
      "Requirement already satisfied: python-slugify in /Users/piruzalemi/opt/anaconda3/lib/python3.7/site-packages (from kaggle) (4.0.0)\n",
      "Requirement already satisfied: tqdm in /Users/piruzalemi/opt/anaconda3/lib/python3.7/site-packages (from kaggle) (4.45.0)\n",
      "Requirement already satisfied: certifi in /Users/piruzalemi/opt/anaconda3/lib/python3.7/site-packages (from kaggle) (2019.9.11)\n",
      "Requirement already satisfied: chardet<3.1.0,>=3.0.2 in /Users/piruzalemi/opt/anaconda3/lib/python3.7/site-packages (from requests->kaggle) (3.0.4)\n",
      "Requirement already satisfied: idna<2.9,>=2.5 in /Users/piruzalemi/opt/anaconda3/lib/python3.7/site-packages (from requests->kaggle) (2.8)\n",
      "Requirement already satisfied: text-unidecode>=1.3 in /Users/piruzalemi/opt/anaconda3/lib/python3.7/site-packages (from python-slugify->kaggle) (1.3)\n"
     ]
    }
   ],
   "source": [
    "# Install Kaggle library\n",
    "!pip install -q kaggle\n",
    "!pip install kaggle"
   ]
  },
  {
   "cell_type": "code",
   "execution_count": 21,
   "metadata": {},
   "outputs": [],
   "source": [
    "#!mkdir ~/.kaggle\n",
    "#!cp Downloads/kaggle.json ~/.kaggle/kaggle.json"
   ]
  },
  {
   "cell_type": "code",
   "execution_count": 22,
   "metadata": {
    "colab": {
     "base_uri": "https://localhost:8080/",
     "height": 85
    },
    "colab_type": "code",
    "id": "ysm9AzmjWiEA",
    "outputId": "dade59a9-bc9b-460e-aeed-2cbe356ff52d"
   },
   "outputs": [
    {
     "name": "stdout",
     "output_type": "stream",
     "text": [
      "Warning: Your Kaggle API key is readable by other users on this system! To fix this, you can run 'chmod 600 /Users/piruzalemi/.kaggle/kaggle.json'\n",
      "stocknews.zip: Skipping, found more recently modified local copy (use --force to force download)\n"
     ]
    }
   ],
   "source": [
    "!kaggle datasets download -d aaron7sun/stocknews"
   ]
  },
  {
   "cell_type": "code",
   "execution_count": null,
   "metadata": {
    "colab": {},
    "colab_type": "code",
    "id": "w9II8-IFcdYb"
   },
   "outputs": [],
   "source": []
  },
  {
   "cell_type": "code",
   "execution_count": 23,
   "metadata": {
    "colab": {
     "base_uri": "https://localhost:8080/",
     "height": 51
    },
    "colab_type": "code",
    "id": "a092eIpKZfI4",
    "outputId": "702377f5-f8b5-4b8f-c007-9760690cab2b"
   },
   "outputs": [
    {
     "name": "stdout",
     "output_type": "stream",
     "text": [
      "Warning: Your Kaggle API key is readable by other users on this system! To fix this, you can run 'chmod 600 /Users/piruzalemi/.kaggle/kaggle.json'\n",
      "stocknews.zip: Skipping, found more recently modified local copy (use --force to force download)\n"
     ]
    }
   ],
   "source": [
    "!kaggle datasets download -d aaron7sun/stocknews"
   ]
  },
  {
   "cell_type": "code",
   "execution_count": 24,
   "metadata": {
    "colab": {
     "base_uri": "https://localhost:8080/",
     "height": 51
    },
    "colab_type": "code",
    "id": "0UULO-XWcemh",
    "outputId": "b066e869-6b11-4729-e8fd-b506b13e156c"
   },
   "outputs": [
    {
     "name": "stdout",
     "output_type": "stream",
     "text": [
      "Alemi2_final_project.ipynb\r\n",
      "\u001b[31mCombined_News_DJIA.csv\u001b[m\u001b[m*\r\n",
      "Combined_News_DJIA.xls\r\n",
      "D11ScikitLearnBayes.pdf\r\n",
      "Final_NLTK_Latent.ipynb\r\n",
      "Linear_Visualization_Graph.ipynb\r\n",
      "Naive_Visualization_Graph-Copy1.ipynb\r\n",
      "Naive_Visualization_Graph.ipynb\r\n",
      "\u001b[31mRedditNews.csv\u001b[m\u001b[m*\r\n",
      "TensorFlow.ipynb\r\n",
      "Tony Holdroyd - Tensorflow 2.0 Quick Start Guide (2019, Packt Publishing).pdf\r\n",
      "Untitled.ipynb\r\n",
      "alemi2_NLTK.ipynb\r\n",
      "alemi_NLTK.ipynb\r\n",
      "alemi_final_project-Copy1.ipynb\r\n",
      "alemi_final_project.ipynb\r\n",
      "alemi_final_project2.ipynb\r\n",
      "kaggle.json\r\n",
      "plot_logistic.ipynb\r\n",
      "report.txt\r\n",
      "\u001b[34mstocknews\u001b[m\u001b[m/\r\n",
      "stocknews.zip\r\n",
      "\u001b[31mupload_DJIA_table.csv\u001b[m\u001b[m*\r\n"
     ]
    }
   ],
   "source": [
    "ls"
   ]
  },
  {
   "cell_type": "code",
   "execution_count": 25,
   "metadata": {
    "colab": {
     "base_uri": "https://localhost:8080/",
     "height": 85
    },
    "colab_type": "code",
    "id": "5lGlyNj21IsX",
    "outputId": "626c4da6-3825-4604-df1d-7194600329ed"
   },
   "outputs": [],
   "source": [
    "#pd.read_csv(\"stocknews/RedditNews.csv\")\n",
    "#!unzip stocknews.zip -d ~/.kaggle"
   ]
  },
  {
   "cell_type": "code",
   "execution_count": 26,
   "metadata": {
    "colab": {
     "base_uri": "https://localhost:8080/",
     "height": 204
    },
    "colab_type": "code",
    "id": "W9uWsRvOrpHT",
    "outputId": "90813efb-e58c-4ba2-cea6-6c540afe96f8"
   },
   "outputs": [
    {
     "data": {
      "text/html": [
       "<div>\n",
       "<style scoped>\n",
       "    .dataframe tbody tr th:only-of-type {\n",
       "        vertical-align: middle;\n",
       "    }\n",
       "\n",
       "    .dataframe tbody tr th {\n",
       "        vertical-align: top;\n",
       "    }\n",
       "\n",
       "    .dataframe thead th {\n",
       "        text-align: right;\n",
       "    }\n",
       "</style>\n",
       "<table border=\"1\" class=\"dataframe\">\n",
       "  <thead>\n",
       "    <tr style=\"text-align: right;\">\n",
       "      <th></th>\n",
       "      <th>Date</th>\n",
       "      <th>News</th>\n",
       "    </tr>\n",
       "  </thead>\n",
       "  <tbody>\n",
       "    <tr>\n",
       "      <td>0</td>\n",
       "      <td>2016-07-01</td>\n",
       "      <td>A 117-year-old woman in Mexico City finally re...</td>\n",
       "    </tr>\n",
       "    <tr>\n",
       "      <td>1</td>\n",
       "      <td>2016-07-01</td>\n",
       "      <td>IMF chief backs Athens as permanent Olympic host</td>\n",
       "    </tr>\n",
       "    <tr>\n",
       "      <td>2</td>\n",
       "      <td>2016-07-01</td>\n",
       "      <td>The president of France says if Brexit won, so...</td>\n",
       "    </tr>\n",
       "    <tr>\n",
       "      <td>3</td>\n",
       "      <td>2016-07-01</td>\n",
       "      <td>British Man Who Must Give Police 24 Hours' Not...</td>\n",
       "    </tr>\n",
       "    <tr>\n",
       "      <td>4</td>\n",
       "      <td>2016-07-01</td>\n",
       "      <td>100+ Nobel laureates urge Greenpeace to stop o...</td>\n",
       "    </tr>\n",
       "  </tbody>\n",
       "</table>\n",
       "</div>"
      ],
      "text/plain": [
       "         Date                                               News\n",
       "0  2016-07-01  A 117-year-old woman in Mexico City finally re...\n",
       "1  2016-07-01   IMF chief backs Athens as permanent Olympic host\n",
       "2  2016-07-01  The president of France says if Brexit won, so...\n",
       "3  2016-07-01  British Man Who Must Give Police 24 Hours' Not...\n",
       "4  2016-07-01  100+ Nobel laureates urge Greenpeace to stop o..."
      ]
     },
     "execution_count": 26,
     "metadata": {},
     "output_type": "execute_result"
    }
   ],
   "source": [
    "#df=pd.read_csv('stocknews.zip', compression='zip', header=0, sep=',', quotechar='\"')\n",
    "rNews=pd.read_csv('RedditNews.csv')\n",
    "rNews.head()\n"
   ]
  },
  {
   "cell_type": "code",
   "execution_count": 27,
   "metadata": {
    "colab": {
     "base_uri": "https://localhost:8080/",
     "height": 479
    },
    "colab_type": "code",
    "id": "Wy3cjoljWg0A",
    "outputId": "e9620e17-07be-44e9-ee7d-22c1dabd4c91"
   },
   "outputs": [
    {
     "data": {
      "text/html": [
       "<div>\n",
       "<style scoped>\n",
       "    .dataframe tbody tr th:only-of-type {\n",
       "        vertical-align: middle;\n",
       "    }\n",
       "\n",
       "    .dataframe tbody tr th {\n",
       "        vertical-align: top;\n",
       "    }\n",
       "\n",
       "    .dataframe thead th {\n",
       "        text-align: right;\n",
       "    }\n",
       "</style>\n",
       "<table border=\"1\" class=\"dataframe\">\n",
       "  <thead>\n",
       "    <tr style=\"text-align: right;\">\n",
       "      <th></th>\n",
       "      <th>Date</th>\n",
       "      <th>Label</th>\n",
       "      <th>Top1</th>\n",
       "      <th>Top2</th>\n",
       "      <th>Top3</th>\n",
       "      <th>Top4</th>\n",
       "      <th>Top5</th>\n",
       "      <th>Top6</th>\n",
       "      <th>Top7</th>\n",
       "      <th>Top8</th>\n",
       "      <th>...</th>\n",
       "      <th>Top16</th>\n",
       "      <th>Top17</th>\n",
       "      <th>Top18</th>\n",
       "      <th>Top19</th>\n",
       "      <th>Top20</th>\n",
       "      <th>Top21</th>\n",
       "      <th>Top22</th>\n",
       "      <th>Top23</th>\n",
       "      <th>Top24</th>\n",
       "      <th>Top25</th>\n",
       "    </tr>\n",
       "  </thead>\n",
       "  <tbody>\n",
       "    <tr>\n",
       "      <td>0</td>\n",
       "      <td>2008-08-08</td>\n",
       "      <td>0</td>\n",
       "      <td>b\"Georgia 'downs two Russian warplanes' as cou...</td>\n",
       "      <td>b'BREAKING: Musharraf to be impeached.'</td>\n",
       "      <td>b'Russia Today: Columns of troops roll into So...</td>\n",
       "      <td>b'Russian tanks are moving towards the capital...</td>\n",
       "      <td>b\"Afghan children raped with 'impunity,' U.N. ...</td>\n",
       "      <td>b'150 Russian tanks have entered South Ossetia...</td>\n",
       "      <td>b\"Breaking: Georgia invades South Ossetia, Rus...</td>\n",
       "      <td>b\"The 'enemy combatent' trials are nothing but...</td>\n",
       "      <td>...</td>\n",
       "      <td>b'Georgia Invades South Ossetia - if Russia ge...</td>\n",
       "      <td>b'Al-Qaeda Faces Islamist Backlash'</td>\n",
       "      <td>b'Condoleezza Rice: \"The US would not act to p...</td>\n",
       "      <td>b'This is a busy day:  The European Union has ...</td>\n",
       "      <td>b\"Georgia will withdraw 1,000 soldiers from Ir...</td>\n",
       "      <td>b'Why the Pentagon Thinks Attacking Iran is a ...</td>\n",
       "      <td>b'Caucasus in crisis: Georgia invades South Os...</td>\n",
       "      <td>b'Indian shoe manufactory  - And again in a se...</td>\n",
       "      <td>b'Visitors Suffering from Mental Illnesses Ban...</td>\n",
       "      <td>b\"No Help for Mexico's Kidnapping Surge\"</td>\n",
       "    </tr>\n",
       "    <tr>\n",
       "      <td>1</td>\n",
       "      <td>2008-08-11</td>\n",
       "      <td>1</td>\n",
       "      <td>b'Why wont America and Nato help us? If they w...</td>\n",
       "      <td>b'Bush puts foot down on Georgian conflict'</td>\n",
       "      <td>b\"Jewish Georgian minister: Thanks to Israeli ...</td>\n",
       "      <td>b'Georgian army flees in disarray as Russians ...</td>\n",
       "      <td>b\"Olympic opening ceremony fireworks 'faked'\"</td>\n",
       "      <td>b'What were the Mossad with fraudulent New Zea...</td>\n",
       "      <td>b'Russia angered by Israeli military sale to G...</td>\n",
       "      <td>b'An American citizen living in S.Ossetia blam...</td>\n",
       "      <td>...</td>\n",
       "      <td>b'Israel and the US behind the Georgian aggres...</td>\n",
       "      <td>b'\"Do not believe TV, neither Russian nor Geor...</td>\n",
       "      <td>b'Riots are still going on in Montreal (Canada...</td>\n",
       "      <td>b'China to overtake US as largest manufacturer'</td>\n",
       "      <td>b'War in South Ossetia [PICS]'</td>\n",
       "      <td>b'Israeli Physicians Group Condemns State Tort...</td>\n",
       "      <td>b' Russia has just beaten the United States ov...</td>\n",
       "      <td>b'Perhaps *the* question about the Georgia - R...</td>\n",
       "      <td>b'Russia is so much better at war'</td>\n",
       "      <td>b\"So this is what it's come to: trading sex fo...</td>\n",
       "    </tr>\n",
       "    <tr>\n",
       "      <td>2</td>\n",
       "      <td>2008-08-12</td>\n",
       "      <td>0</td>\n",
       "      <td>b'Remember that adorable 9-year-old who sang a...</td>\n",
       "      <td>b\"Russia 'ends Georgia operation'\"</td>\n",
       "      <td>b'\"If we had no sexual harassment we would hav...</td>\n",
       "      <td>b\"Al-Qa'eda is losing support in Iraq because ...</td>\n",
       "      <td>b'Ceasefire in Georgia: Putin Outmaneuvers the...</td>\n",
       "      <td>b'Why Microsoft and Intel tried to kill the XO...</td>\n",
       "      <td>b'Stratfor: The Russo-Georgian War and the Bal...</td>\n",
       "      <td>b\"I'm Trying to Get a Sense of This Whole Geor...</td>\n",
       "      <td>...</td>\n",
       "      <td>b'U.S. troops still in Georgia (did you know t...</td>\n",
       "      <td>b'Why Russias response to Georgia was right'</td>\n",
       "      <td>b'Gorbachev accuses U.S. of making a \"serious ...</td>\n",
       "      <td>b'Russia, Georgia, and NATO: Cold War Two'</td>\n",
       "      <td>b'Remember that adorable 62-year-old who led y...</td>\n",
       "      <td>b'War in Georgia: The Israeli connection'</td>\n",
       "      <td>b'All signs point to the US encouraging Georgi...</td>\n",
       "      <td>b'Christopher King argues that the US and NATO...</td>\n",
       "      <td>b'America: The New Mexico?'</td>\n",
       "      <td>b\"BBC NEWS | Asia-Pacific | Extinction 'by man...</td>\n",
       "    </tr>\n",
       "    <tr>\n",
       "      <td>3</td>\n",
       "      <td>2008-08-13</td>\n",
       "      <td>0</td>\n",
       "      <td>b' U.S. refuses Israel weapons to attack Iran:...</td>\n",
       "      <td>b\"When the president ordered to attack Tskhinv...</td>\n",
       "      <td>b' Israel clears troops who killed Reuters cam...</td>\n",
       "      <td>b'Britain\\'s policy of being tough on drugs is...</td>\n",
       "      <td>b'Body of 14 year old found in trunk; Latest (...</td>\n",
       "      <td>b'China has moved 10 *million* quake survivors...</td>\n",
       "      <td>b\"Bush announces Operation Get All Up In Russi...</td>\n",
       "      <td>b'Russian forces sink Georgian ships '</td>\n",
       "      <td>...</td>\n",
       "      <td>b'Elephants extinct by 2020?'</td>\n",
       "      <td>b'US humanitarian missions soon in Georgia - i...</td>\n",
       "      <td>b\"Georgia's DDOS came from US sources\"</td>\n",
       "      <td>b'Russian convoy heads into Georgia, violating...</td>\n",
       "      <td>b'Israeli defence minister: US against strike ...</td>\n",
       "      <td>b'Gorbachev: We Had No Choice'</td>\n",
       "      <td>b'Witness: Russian forces head towards Tbilisi...</td>\n",
       "      <td>b' Quarter of Russians blame U.S. for conflict...</td>\n",
       "      <td>b'Georgian president  says US military will ta...</td>\n",
       "      <td>b'2006: Nobel laureate Aleksander Solzhenitsyn...</td>\n",
       "    </tr>\n",
       "    <tr>\n",
       "      <td>4</td>\n",
       "      <td>2008-08-14</td>\n",
       "      <td>1</td>\n",
       "      <td>b'All the experts admit that we should legalis...</td>\n",
       "      <td>b'War in South Osetia - 89 pictures made by a ...</td>\n",
       "      <td>b'Swedish wrestler Ara Abrahamian throws away ...</td>\n",
       "      <td>b'Russia exaggerated the death toll in South O...</td>\n",
       "      <td>b'Missile That Killed 9 Inside Pakistan May Ha...</td>\n",
       "      <td>b\"Rushdie Condemns Random House's Refusal to P...</td>\n",
       "      <td>b'Poland and US agree to missle defense deal. ...</td>\n",
       "      <td>b'Will the Russians conquer Tblisi? Bet on it,...</td>\n",
       "      <td>...</td>\n",
       "      <td>b'Bank analyst forecast Georgian crisis 2 days...</td>\n",
       "      <td>b\"Georgia confict could set back Russia's US r...</td>\n",
       "      <td>b'War in the Caucasus is as much the product o...</td>\n",
       "      <td>b'\"Non-media\" photos of South Ossetia/Georgia ...</td>\n",
       "      <td>b'Georgian TV reporter shot by Russian sniper ...</td>\n",
       "      <td>b'Saudi Arabia: Mother moves to block child ma...</td>\n",
       "      <td>b'Taliban wages war on humanitarian aid workers'</td>\n",
       "      <td>b'Russia: World  \"can forget about\" Georgia\\'s...</td>\n",
       "      <td>b'Darfur rebels accuse Sudan of mounting major...</td>\n",
       "      <td>b'Philippines : Peace Advocate say Muslims nee...</td>\n",
       "    </tr>\n",
       "  </tbody>\n",
       "</table>\n",
       "<p>5 rows × 27 columns</p>\n",
       "</div>"
      ],
      "text/plain": [
       "         Date  Label                                               Top1  \\\n",
       "0  2008-08-08      0  b\"Georgia 'downs two Russian warplanes' as cou...   \n",
       "1  2008-08-11      1  b'Why wont America and Nato help us? If they w...   \n",
       "2  2008-08-12      0  b'Remember that adorable 9-year-old who sang a...   \n",
       "3  2008-08-13      0  b' U.S. refuses Israel weapons to attack Iran:...   \n",
       "4  2008-08-14      1  b'All the experts admit that we should legalis...   \n",
       "\n",
       "                                                Top2  \\\n",
       "0            b'BREAKING: Musharraf to be impeached.'   \n",
       "1        b'Bush puts foot down on Georgian conflict'   \n",
       "2                 b\"Russia 'ends Georgia operation'\"   \n",
       "3  b\"When the president ordered to attack Tskhinv...   \n",
       "4  b'War in South Osetia - 89 pictures made by a ...   \n",
       "\n",
       "                                                Top3  \\\n",
       "0  b'Russia Today: Columns of troops roll into So...   \n",
       "1  b\"Jewish Georgian minister: Thanks to Israeli ...   \n",
       "2  b'\"If we had no sexual harassment we would hav...   \n",
       "3  b' Israel clears troops who killed Reuters cam...   \n",
       "4  b'Swedish wrestler Ara Abrahamian throws away ...   \n",
       "\n",
       "                                                Top4  \\\n",
       "0  b'Russian tanks are moving towards the capital...   \n",
       "1  b'Georgian army flees in disarray as Russians ...   \n",
       "2  b\"Al-Qa'eda is losing support in Iraq because ...   \n",
       "3  b'Britain\\'s policy of being tough on drugs is...   \n",
       "4  b'Russia exaggerated the death toll in South O...   \n",
       "\n",
       "                                                Top5  \\\n",
       "0  b\"Afghan children raped with 'impunity,' U.N. ...   \n",
       "1      b\"Olympic opening ceremony fireworks 'faked'\"   \n",
       "2  b'Ceasefire in Georgia: Putin Outmaneuvers the...   \n",
       "3  b'Body of 14 year old found in trunk; Latest (...   \n",
       "4  b'Missile That Killed 9 Inside Pakistan May Ha...   \n",
       "\n",
       "                                                Top6  \\\n",
       "0  b'150 Russian tanks have entered South Ossetia...   \n",
       "1  b'What were the Mossad with fraudulent New Zea...   \n",
       "2  b'Why Microsoft and Intel tried to kill the XO...   \n",
       "3  b'China has moved 10 *million* quake survivors...   \n",
       "4  b\"Rushdie Condemns Random House's Refusal to P...   \n",
       "\n",
       "                                                Top7  \\\n",
       "0  b\"Breaking: Georgia invades South Ossetia, Rus...   \n",
       "1  b'Russia angered by Israeli military sale to G...   \n",
       "2  b'Stratfor: The Russo-Georgian War and the Bal...   \n",
       "3  b\"Bush announces Operation Get All Up In Russi...   \n",
       "4  b'Poland and US agree to missle defense deal. ...   \n",
       "\n",
       "                                                Top8  ...  \\\n",
       "0  b\"The 'enemy combatent' trials are nothing but...  ...   \n",
       "1  b'An American citizen living in S.Ossetia blam...  ...   \n",
       "2  b\"I'm Trying to Get a Sense of This Whole Geor...  ...   \n",
       "3             b'Russian forces sink Georgian ships '  ...   \n",
       "4  b'Will the Russians conquer Tblisi? Bet on it,...  ...   \n",
       "\n",
       "                                               Top16  \\\n",
       "0  b'Georgia Invades South Ossetia - if Russia ge...   \n",
       "1  b'Israel and the US behind the Georgian aggres...   \n",
       "2  b'U.S. troops still in Georgia (did you know t...   \n",
       "3                      b'Elephants extinct by 2020?'   \n",
       "4  b'Bank analyst forecast Georgian crisis 2 days...   \n",
       "\n",
       "                                               Top17  \\\n",
       "0                b'Al-Qaeda Faces Islamist Backlash'   \n",
       "1  b'\"Do not believe TV, neither Russian nor Geor...   \n",
       "2       b'Why Russias response to Georgia was right'   \n",
       "3  b'US humanitarian missions soon in Georgia - i...   \n",
       "4  b\"Georgia confict could set back Russia's US r...   \n",
       "\n",
       "                                               Top18  \\\n",
       "0  b'Condoleezza Rice: \"The US would not act to p...   \n",
       "1  b'Riots are still going on in Montreal (Canada...   \n",
       "2  b'Gorbachev accuses U.S. of making a \"serious ...   \n",
       "3             b\"Georgia's DDOS came from US sources\"   \n",
       "4  b'War in the Caucasus is as much the product o...   \n",
       "\n",
       "                                               Top19  \\\n",
       "0  b'This is a busy day:  The European Union has ...   \n",
       "1    b'China to overtake US as largest manufacturer'   \n",
       "2         b'Russia, Georgia, and NATO: Cold War Two'   \n",
       "3  b'Russian convoy heads into Georgia, violating...   \n",
       "4  b'\"Non-media\" photos of South Ossetia/Georgia ...   \n",
       "\n",
       "                                               Top20  \\\n",
       "0  b\"Georgia will withdraw 1,000 soldiers from Ir...   \n",
       "1                     b'War in South Ossetia [PICS]'   \n",
       "2  b'Remember that adorable 62-year-old who led y...   \n",
       "3  b'Israeli defence minister: US against strike ...   \n",
       "4  b'Georgian TV reporter shot by Russian sniper ...   \n",
       "\n",
       "                                               Top21  \\\n",
       "0  b'Why the Pentagon Thinks Attacking Iran is a ...   \n",
       "1  b'Israeli Physicians Group Condemns State Tort...   \n",
       "2          b'War in Georgia: The Israeli connection'   \n",
       "3                     b'Gorbachev: We Had No Choice'   \n",
       "4  b'Saudi Arabia: Mother moves to block child ma...   \n",
       "\n",
       "                                               Top22  \\\n",
       "0  b'Caucasus in crisis: Georgia invades South Os...   \n",
       "1  b' Russia has just beaten the United States ov...   \n",
       "2  b'All signs point to the US encouraging Georgi...   \n",
       "3  b'Witness: Russian forces head towards Tbilisi...   \n",
       "4   b'Taliban wages war on humanitarian aid workers'   \n",
       "\n",
       "                                               Top23  \\\n",
       "0  b'Indian shoe manufactory  - And again in a se...   \n",
       "1  b'Perhaps *the* question about the Georgia - R...   \n",
       "2  b'Christopher King argues that the US and NATO...   \n",
       "3  b' Quarter of Russians blame U.S. for conflict...   \n",
       "4  b'Russia: World  \"can forget about\" Georgia\\'s...   \n",
       "\n",
       "                                               Top24  \\\n",
       "0  b'Visitors Suffering from Mental Illnesses Ban...   \n",
       "1                 b'Russia is so much better at war'   \n",
       "2                        b'America: The New Mexico?'   \n",
       "3  b'Georgian president  says US military will ta...   \n",
       "4  b'Darfur rebels accuse Sudan of mounting major...   \n",
       "\n",
       "                                               Top25  \n",
       "0           b\"No Help for Mexico's Kidnapping Surge\"  \n",
       "1  b\"So this is what it's come to: trading sex fo...  \n",
       "2  b\"BBC NEWS | Asia-Pacific | Extinction 'by man...  \n",
       "3  b'2006: Nobel laureate Aleksander Solzhenitsyn...  \n",
       "4  b'Philippines : Peace Advocate say Muslims nee...  \n",
       "\n",
       "[5 rows x 27 columns]"
      ]
     },
     "execution_count": 27,
     "metadata": {},
     "output_type": "execute_result"
    }
   ],
   "source": [
    "dNews=pd.read_csv('Combined_News_DJIA.csv')\n",
    "dNews.head()"
   ]
  },
  {
   "cell_type": "code",
   "execution_count": null,
   "metadata": {
    "colab": {},
    "colab_type": "code",
    "id": "K9QFT6voN8ZS"
   },
   "outputs": [],
   "source": []
  },
  {
   "cell_type": "code",
   "execution_count": 28,
   "metadata": {
    "colab": {},
    "colab_type": "code",
    "id": "MRd-_-jtrysP"
   },
   "outputs": [],
   "source": [
    "# we need to clean yje \"'\" and \\ and all punctuation marks like b\" which are HTML makups\n",
    "# to accomplish this, we will use Python's regular expression (regex) library re as shown below\n",
    "import re\n"
   ]
  },
  {
   "cell_type": "code",
   "execution_count": 29,
   "metadata": {
    "colab": {},
    "colab_type": "code",
    "id": "eAOwyDS0OHsg"
   },
   "outputs": [],
   "source": [
    "# We will remove all the non-word characters from the text via the regex [\\w] + and convert the text into lower characters\n",
    "def preprocessor(text):\n",
    "    \n",
    "    text = (re.sub('[\\W]+',' ', text.lower() + ''))\n",
    "    text = re.sub(\"b \",' ',text)\n",
    "    return text"
   ]
  },
  {
   "cell_type": "code",
   "execution_count": 30,
   "metadata": {
    "colab": {},
    "colab_type": "code",
    "id": "39lPBbHNPFzj"
   },
   "outputs": [],
   "source": [
    "dNews['Top1'] = dNews['Top1'].apply(preprocessor)"
   ]
  },
  {
   "cell_type": "code",
   "execution_count": 31,
   "metadata": {
    "colab": {
     "base_uri": "https://localhost:8080/",
     "height": 119
    },
    "colab_type": "code",
    "id": "Fzd8n9U3OLvk",
    "outputId": "36f4d43e-9fad-4860-e79b-5dec66ca1508"
   },
   "outputs": [
    {
     "data": {
      "text/plain": [
       "0     georgia downs two russian warplanes as countr...\n",
       "1     why wont america and nato help us if they won...\n",
       "2     remember that adorable 9 year old who sang at...\n",
       "3     u s refuses israel weapons to attack iran rep...\n",
       "4     all the experts admit that we should legalise...\n",
       "Name: Top1, dtype: object"
      ]
     },
     "execution_count": 31,
     "metadata": {},
     "output_type": "execute_result"
    }
   ],
   "source": [
    "dNews['Top1'].head()"
   ]
  },
  {
   "cell_type": "code",
   "execution_count": 32,
   "metadata": {
    "colab": {
     "base_uri": "https://localhost:8080/",
     "height": 34
    },
    "colab_type": "code",
    "id": "tU4DREe7Jbmo",
    "outputId": "e9255a43-dbed-4d87-8097-eca6af731a70"
   },
   "outputs": [
    {
     "data": {
      "text/plain": [
       "' georgia downs two russian warplanes as countries move to brink of war '"
      ]
     },
     "execution_count": 32,
     "metadata": {},
     "output_type": "execute_result"
    }
   ],
   "source": [
    "dNews.loc[0,'Top1'][0:]"
   ]
  },
  {
   "cell_type": "markdown",
   "metadata": {
    "colab_type": "text",
    "id": "Oa6u6cvEjVZb"
   },
   "source": [
    "# **Tokenization**"
   ]
  },
  {
   "cell_type": "code",
   "execution_count": 33,
   "metadata": {
    "colab": {},
    "colab_type": "code",
    "id": "h58jYPi2JgQb"
   },
   "outputs": [],
   "source": [
    "def tokenizer(text):\n",
    "  return text.split()\n"
   ]
  },
  {
   "cell_type": "code",
   "execution_count": 34,
   "metadata": {
    "colab": {
     "base_uri": "https://localhost:8080/",
     "height": 221
    },
    "colab_type": "code",
    "id": "WrFRQg05UF3h",
    "outputId": "870b61ee-b80e-4df8-faad-9d2b508101ec"
   },
   "outputs": [
    {
     "data": {
      "text/plain": [
       "['georgia',\n",
       " 'downs',\n",
       " 'two',\n",
       " 'russian',\n",
       " 'warplanes',\n",
       " 'as',\n",
       " 'countries',\n",
       " 'move',\n",
       " 'to',\n",
       " 'brink',\n",
       " 'of',\n",
       " 'war']"
      ]
     },
     "execution_count": 34,
     "metadata": {},
     "output_type": "execute_result"
    }
   ],
   "source": [
    "tokenizer(dNews['Top1'][0])"
   ]
  },
  {
   "cell_type": "code",
   "execution_count": 35,
   "metadata": {
    "colab": {
     "base_uri": "https://localhost:8080/",
     "height": 51
    },
    "colab_type": "code",
    "id": "rSA5M-m8UOuq",
    "outputId": "f03cb835-2f40-455f-c707-f39cff81f714"
   },
   "outputs": [
    {
     "name": "stdout",
     "output_type": "stream",
     "text": [
      "Requirement already satisfied: nltk in /Users/piruzalemi/opt/anaconda3/lib/python3.7/site-packages (3.4.5)\n",
      "Requirement already satisfied: six in /Users/piruzalemi/opt/anaconda3/lib/python3.7/site-packages (from nltk) (1.12.0)\n"
     ]
    }
   ],
   "source": [
    "# install NTLK see www.ntlk.org/book/ in advanced applications in NLP\n",
    "#  We will use Porter stemmer's algorim - 1979, which is word stemming\n",
    "!pip install nltk"
   ]
  },
  {
   "cell_type": "code",
   "execution_count": 36,
   "metadata": {
    "colab": {},
    "colab_type": "code",
    "id": "sdEjXP5dVL8b"
   },
   "outputs": [],
   "source": [
    "from nltk.stem.porter import PorterStemmer"
   ]
  },
  {
   "cell_type": "code",
   "execution_count": 37,
   "metadata": {
    "colab": {},
    "colab_type": "code",
    "id": "bJXeWPSNVVY-"
   },
   "outputs": [],
   "source": [
    "porter = PorterStemmer()"
   ]
  },
  {
   "cell_type": "code",
   "execution_count": 38,
   "metadata": {
    "colab": {},
    "colab_type": "code",
    "id": "VV15Z-guVeRI"
   },
   "outputs": [],
   "source": [
    "def tokenizer_porter(text):\n",
    "  return [porter.stem(word) for word in text.split()]"
   ]
  },
  {
   "cell_type": "code",
   "execution_count": 39,
   "metadata": {
    "colab": {
     "base_uri": "https://localhost:8080/",
     "height": 221
    },
    "colab_type": "code",
    "id": "JubrRWzGV9Bh",
    "outputId": "6d311cd7-f6ce-40da-8fb0-5cf56f4c41fb"
   },
   "outputs": [
    {
     "data": {
      "text/plain": [
       "['georgia',\n",
       " 'down',\n",
       " 'two',\n",
       " 'russian',\n",
       " 'warplan',\n",
       " 'as',\n",
       " 'countri',\n",
       " 'move',\n",
       " 'to',\n",
       " 'brink',\n",
       " 'of',\n",
       " 'war']"
      ]
     },
     "execution_count": 39,
     "metadata": {},
     "output_type": "execute_result"
    }
   ],
   "source": [
    "tokenizer_porter(dNews['Top1'][0])"
   ]
  },
  {
   "cell_type": "code",
   "execution_count": 40,
   "metadata": {
    "colab": {},
    "colab_type": "code",
    "id": "Asr6REjLWIX-"
   },
   "outputs": [],
   "source": [
    "# Stopwords are simply those words that are extremely common but bear no use for our analysis!\n",
    "# like is, and, has, like,,,, we will use 127 stopwords already available in the NTLK library which we get by downloading it\n",
    "import nltk\n"
   ]
  },
  {
   "cell_type": "code",
   "execution_count": 41,
   "metadata": {
    "colab": {
     "base_uri": "https://localhost:8080/",
     "height": 68
    },
    "colab_type": "code",
    "id": "T7o0yWP-W8wE",
    "outputId": "a3326ba3-809f-447c-d3bd-5f00e6a58d38"
   },
   "outputs": [
    {
     "name": "stderr",
     "output_type": "stream",
     "text": [
      "[nltk_data] Downloading package stopwords to\n",
      "[nltk_data]     /Users/piruzalemi/nltk_data...\n",
      "[nltk_data]   Package stopwords is already up-to-date!\n"
     ]
    },
    {
     "data": {
      "text/plain": [
       "True"
      ]
     },
     "execution_count": 41,
     "metadata": {},
     "output_type": "execute_result"
    }
   ],
   "source": [
    "nltk.download('stopwords')"
   ]
  },
  {
   "cell_type": "code",
   "execution_count": 42,
   "metadata": {
    "colab": {},
    "colab_type": "code",
    "id": "LtF8gSbCXMoq"
   },
   "outputs": [],
   "source": [
    "# Load and apply the stopwards after download\n",
    "from nltk.corpus import stopwords"
   ]
  },
  {
   "cell_type": "code",
   "execution_count": 43,
   "metadata": {
    "colab": {},
    "colab_type": "code",
    "id": "5LVSio16XcjC"
   },
   "outputs": [],
   "source": [
    "stop = stopwords.words('english')"
   ]
  },
  {
   "cell_type": "code",
   "execution_count": 44,
   "metadata": {
    "colab": {
     "base_uri": "https://localhost:8080/",
     "height": 34
    },
    "colab_type": "code",
    "id": "U4eAtudkXi3L",
    "outputId": "04d5d6b8-e1b0-4aae-a32a-48e07c684607"
   },
   "outputs": [
    {
     "data": {
      "text/plain": [
       "['georgia', 'two', 'russian', 'warplan', 'countri', 'move', 'brink', 'war']"
      ]
     },
     "execution_count": 44,
     "metadata": {},
     "output_type": "execute_result"
    }
   ],
   "source": [
    "[w for w in tokenizer_porter(dNews['Top1'][0]) if w not in stop]"
   ]
  },
  {
   "cell_type": "code",
   "execution_count": 45,
   "metadata": {
    "colab": {},
    "colab_type": "code",
    "id": "ZJswnWtUYD-m"
   },
   "outputs": [],
   "source": [
    "# Training a logistic regression model for Document Classification\n",
    "# Here we train a logistic "
   ]
  },
  {
   "cell_type": "markdown",
   "metadata": {
    "colab_type": "text",
    "id": "UiGzHCI6aGmH"
   },
   "source": [
    "# **Training a Logistic Regression on Document Classification - Alemi 04/07/2020**\n",
    "\n"
   ]
  },
  {
   "cell_type": "code",
   "execution_count": 46,
   "metadata": {
    "colab": {
     "base_uri": "https://localhost:8080/",
     "height": 700
    },
    "colab_type": "code",
    "id": "jqrQ7heAaNU5",
    "outputId": "a8c9e634-4cdc-4998-fe40-5162c62fd921"
   },
   "outputs": [],
   "source": [
    "# we will use \n",
    "#dNews.head()"
   ]
  },
  {
   "cell_type": "markdown",
   "metadata": {},
   "source": [
    "# Select the Test & Train Data"
   ]
  },
  {
   "cell_type": "code",
   "execution_count": 47,
   "metadata": {
    "colab": {},
    "colab_type": "code",
    "id": "gKCK4WHha1XG"
   },
   "outputs": [
    {
     "data": {
      "text/plain": [
       "(1001,)"
      ]
     },
     "execution_count": 47,
     "metadata": {},
     "output_type": "execute_result"
    }
   ],
   "source": [
    "#. This should run on cleaned data, Note i have solely cleaned only row [0], we have to run the above code on all rows!!!!!!!\n",
    "#. So this code is solely is for a placeholder, after the data is fully cleaned, then we run this part...Alemi 04/07/2020\n",
    "X_train = dNews.loc[:1000,\"Top1\"].values\n",
    "X_train.shape\n",
    "#print(X_train)"
   ]
  },
  {
   "cell_type": "code",
   "execution_count": 48,
   "metadata": {},
   "outputs": [],
   "source": [
    "from sklearn.feature_extraction.text import CountVectorizer\n",
    "from sklearn.feature_extraction.text import TfidfTransformer\n",
    "from sklearn.feature_extraction.text import TfidfVectorizer"
   ]
  },
  {
   "cell_type": "code",
   "execution_count": 49,
   "metadata": {},
   "outputs": [],
   "source": [
    "vectorizer=CountVectorizer()\n",
    "tfidf=TfidfVectorizer()"
   ]
  },
  {
   "cell_type": "code",
   "execution_count": 50,
   "metadata": {},
   "outputs": [
    {
     "data": {
      "text/plain": [
       "(1001, 5040)"
      ]
     },
     "execution_count": 50,
     "metadata": {},
     "output_type": "execute_result"
    }
   ],
   "source": [
    "X_train_tf =tfidf.fit_transform(X_train)\n",
    "X_train_tf.shape\n",
    "#print(X_train_tf)\n",
    "#print(X_train_tf)"
   ]
  },
  {
   "cell_type": "code",
   "execution_count": 51,
   "metadata": {
    "colab": {},
    "colab_type": "code",
    "id": "EAPswo-kcV_E"
   },
   "outputs": [
    {
     "data": {
      "text/plain": [
       "(1001,)"
      ]
     },
     "execution_count": 51,
     "metadata": {},
     "output_type": "execute_result"
    }
   ],
   "source": [
    "y_train= dNews.loc[:1000,\"Label\"].values\n",
    "y_train.shape\n",
    "#print(y_train)"
   ]
  },
  {
   "cell_type": "code",
   "execution_count": 52,
   "metadata": {},
   "outputs": [],
   "source": [
    "#test = old_count_vectorizer.transform(test)\n",
    "#tfidf_data = old_tfidf_transformer.transform(test)"
   ]
  },
  {
   "cell_type": "code",
   "execution_count": 53,
   "metadata": {
    "colab": {},
    "colab_type": "code",
    "id": "uvXGXMnJdDuQ"
   },
   "outputs": [
    {
     "data": {
      "text/plain": [
       "(988,)"
      ]
     },
     "execution_count": 53,
     "metadata": {},
     "output_type": "execute_result"
    }
   ],
   "source": [
    "X_test = dNews.loc[1001:,\"Top1\"].values\n",
    "X_test.shape"
   ]
  },
  {
   "cell_type": "code",
   "execution_count": 54,
   "metadata": {},
   "outputs": [
    {
     "data": {
      "text/plain": [
       "(988, 5040)"
      ]
     },
     "execution_count": 54,
     "metadata": {},
     "output_type": "execute_result"
    }
   ],
   "source": [
    "X_test_tf =tfidf.transform(X_test)\n",
    "X_test_tf.shape"
   ]
  },
  {
   "cell_type": "code",
   "execution_count": 55,
   "metadata": {
    "colab": {},
    "colab_type": "code",
    "id": "3cSh8K3SdNgJ"
   },
   "outputs": [
    {
     "data": {
      "text/plain": [
       "(988,)"
      ]
     },
     "execution_count": 55,
     "metadata": {},
     "output_type": "execute_result"
    }
   ],
   "source": [
    "y_test= dNews.loc[1001:,\"Label\"].values\n",
    "y_test.shape"
   ]
  },
  {
   "cell_type": "code",
   "execution_count": 56,
   "metadata": {},
   "outputs": [],
   "source": [
    "from sklearn.model_selection import train_test_split\n",
    "# X,y =  dNews.iloc[:, 2:].values, dNews.iloc[:, 1].values\n"
   ]
  },
  {
   "cell_type": "code",
   "execution_count": 57,
   "metadata": {},
   "outputs": [],
   "source": [
    "# X_train, X_test, y_train, y_test =\\\n",
    "#    train_test_split(X,y,test_size=0.3,random_state=0,stratify=y)"
   ]
  },
  {
   "cell_type": "markdown",
   "metadata": {},
   "source": [
    "# Imports from SkLearn"
   ]
  },
  {
   "cell_type": "code",
   "execution_count": 58,
   "metadata": {
    "colab": {},
    "colab_type": "code",
    "id": "XzaHmogAd7LR"
   },
   "outputs": [],
   "source": [
    "# like our class exercise we run the GridSearch to find the optimal set of parameters\n",
    "from sklearn.model_selection import GridSearchCV"
   ]
  },
  {
   "cell_type": "code",
   "execution_count": 59,
   "metadata": {
    "colab": {},
    "colab_type": "code",
    "id": "RdAJOwhPePcb"
   },
   "outputs": [],
   "source": [
    "from sklearn.pipeline import Pipeline"
   ]
  },
  {
   "cell_type": "code",
   "execution_count": 60,
   "metadata": {
    "colab": {},
    "colab_type": "code",
    "id": "yczMmIIBeb-8"
   },
   "outputs": [],
   "source": [
    "from sklearn.linear_model import LogisticRegression"
   ]
  },
  {
   "cell_type": "code",
   "execution_count": 61,
   "metadata": {
    "colab": {},
    "colab_type": "code",
    "id": "SLxx4aM_ei2w"
   },
   "outputs": [],
   "source": [
    "from sklearn.feature_extraction.text import TfidfVectorizer"
   ]
  },
  {
   "cell_type": "code",
   "execution_count": 62,
   "metadata": {
    "colab": {},
    "colab_type": "code",
    "id": "5VMepxqOerNs"
   },
   "outputs": [],
   "source": [
    "tfidf = TfidfVectorizer(strip_accents=None,lowercase=False,preprocessor=None)"
   ]
  },
  {
   "cell_type": "markdown",
   "metadata": {
    "colab_type": "text",
    "id": "MMYhXC2Y_A7D"
   },
   "source": [
    "# **Clean the Text Data**"
   ]
  },
  {
   "cell_type": "code",
   "execution_count": 63,
   "metadata": {
    "colab": {
     "base_uri": "https://localhost:8080/",
     "height": 221
    },
    "colab_type": "code",
    "id": "-z9UitYk_JqU",
    "outputId": "451cbe59-a496-4dd1-8f55-0bdc9823f863"
   },
   "outputs": [
    {
     "data": {
      "text/plain": [
       "0        georgia downs two russian warplanes as countr...\n",
       "1        why wont america and nato help us if they won...\n",
       "2        remember that adorable 9 year old who sang at...\n",
       "3        u s refuses israel weapons to attack iran rep...\n",
       "4        all the experts admit that we should legalise...\n",
       "                              ...                        \n",
       "1984    barclays and rbs shares suspended from trading...\n",
       "1985    2 500 scientists to australia if you want to s...\n",
       "1986                     explosion at airport in istanbul\n",
       "1987    jamaica proposes marijuana dispensers for tour...\n",
       "1988    a 117 year old woman in mexico city finally re...\n",
       "Name: Top1, Length: 1989, dtype: object"
      ]
     },
     "execution_count": 63,
     "metadata": {},
     "output_type": "execute_result"
    }
   ],
   "source": [
    "dNews['Top1']"
   ]
  },
  {
   "cell_type": "code",
   "execution_count": 64,
   "metadata": {
    "colab": {
     "base_uri": "https://localhost:8080/",
     "height": 68
    },
    "colab_type": "code",
    "id": "Bh6Glq_6_Jue",
    "outputId": "31ee0014-2584-4eee-c70b-4026a65e7e0d"
   },
   "outputs": [
    {
     "name": "stderr",
     "output_type": "stream",
     "text": [
      "[nltk_data] Downloading package stopwords to\n",
      "[nltk_data]     /Users/piruzalemi/nltk_data...\n",
      "[nltk_data]   Package stopwords is already up-to-date!\n"
     ]
    },
    {
     "data": {
      "text/plain": [
       "True"
      ]
     },
     "execution_count": 64,
     "metadata": {},
     "output_type": "execute_result"
    }
   ],
   "source": [
    "#import nltk\n",
    "nltk.download('stopwords')"
   ]
  },
  {
   "cell_type": "code",
   "execution_count": 65,
   "metadata": {
    "colab": {},
    "colab_type": "code",
    "id": "QO40oHNl_JyZ"
   },
   "outputs": [],
   "source": [
    "from nltk.corpus import stopwords"
   ]
  },
  {
   "cell_type": "code",
   "execution_count": 66,
   "metadata": {
    "colab": {},
    "colab_type": "code",
    "id": "ODgPjfQA_J2k"
   },
   "outputs": [],
   "source": [
    "stop=stopwords.words('english') + [None]"
   ]
  },
  {
   "cell_type": "code",
   "execution_count": 67,
   "metadata": {},
   "outputs": [
    {
     "data": {
      "text/plain": [
       "['georgia',\n",
       " 'down',\n",
       " 'two',\n",
       " 'russian',\n",
       " 'warplan',\n",
       " 'as',\n",
       " 'countri',\n",
       " 'move',\n",
       " 'to',\n",
       " 'brink',\n",
       " 'of',\n",
       " 'war']"
      ]
     },
     "execution_count": 67,
     "metadata": {},
     "output_type": "execute_result"
    }
   ],
   "source": [
    "tokenizer_porter(dNews['Top1'][0])"
   ]
  },
  {
   "cell_type": "code",
   "execution_count": 68,
   "metadata": {
    "colab": {
     "base_uri": "https://localhost:8080/",
     "height": 307
    },
    "colab_type": "code",
    "id": "XbB7gBBi_J-N",
    "outputId": "8c9c5689-b65e-4f31-fcb8-9257c31edddb"
   },
   "outputs": [
    {
     "data": {
      "text/plain": [
       "['georgia', 'two', 'russian', 'warplan', 'countri', 'move', 'brink', 'war']"
      ]
     },
     "execution_count": 68,
     "metadata": {},
     "output_type": "execute_result"
    }
   ],
   "source": [
    "[w for w in tokenizer_porter(dNews['Top1'][0]) if w not in stop]"
   ]
  },
  {
   "cell_type": "markdown",
   "metadata": {
    "colab_type": "text",
    "id": "YTipH0Qh4C05"
   },
   "source": [
    "# **Transforming words into feature vectors**"
   ]
  },
  {
   "cell_type": "code",
   "execution_count": 69,
   "metadata": {
    "colab": {},
    "colab_type": "code",
    "id": "fDIAp3Kz4QB9"
   },
   "outputs": [],
   "source": [
    "from sklearn.feature_extraction.text import CountVectorizer"
   ]
  },
  {
   "cell_type": "code",
   "execution_count": 70,
   "metadata": {},
   "outputs": [],
   "source": [
    "cv = CountVectorizer(stop_words='english')"
   ]
  },
  {
   "cell_type": "code",
   "execution_count": 71,
   "metadata": {
    "colab": {},
    "colab_type": "code",
    "id": "f9s8os4o4QPv"
   },
   "outputs": [],
   "source": [
    "#count=CountVectorizer"
   ]
  },
  {
   "cell_type": "code",
   "execution_count": 72,
   "metadata": {
    "colab": {},
    "colab_type": "code",
    "id": "Kj1C19054QZY"
   },
   "outputs": [],
   "source": [
    "#docs=np.array(dNews['Top1'])"
   ]
  },
  {
   "cell_type": "code",
   "execution_count": 73,
   "metadata": {
    "colab": {},
    "colab_type": "code",
    "id": "WO4jV_FV5hIP"
   },
   "outputs": [],
   "source": [
    "vectorizer = TfidfVectorizer(stop_words='english')"
   ]
  },
  {
   "cell_type": "markdown",
   "metadata": {},
   "source": [
    "### Bag of Words indices +  Vectorized + stop_words"
   ]
  },
  {
   "cell_type": "code",
   "execution_count": 74,
   "metadata": {},
   "outputs": [
    {
     "name": "stdout",
     "output_type": "stream",
     "text": [
      "{'germany': 2041, 'breaks': 710, '25': 79, 'renewable': 3830, 'energy': 1654, 'barrier': 550, 'produced': 3582, '67': 147, 'billion': 610, 'kwh': 2613, '1st': 50, '2012': 58, 'increase': 2376, '19': 41, 'year': 5030, 'world': 5001, 'market': 2839, 'power': 3507, 'converted': 1137, 'solar': 4224, 'radiation': 3703, 'installed': 2433, 'capacity': 810, 'accounts': 224, 'global': 2056, 'total': 4602, 'grids': 2107, 'fail': 1788, 'leaving': 2668, '600': 137, 'million': 2948, 'india': 2385, 'american': 343, 'embassy': 1625, 'norway': 3149, 'forgot': 1937, 'practise': 3513, 'bom': 671, 'called': 777, 'norwegian': 3150, 'squad': 4286, 'obama': 3166, 'authorizes': 498, 'secret': 4068, 'support': 4421, 'syrian': 4462, 'rebels': 3745, 'reuters': 3894, 'china': 926, 'rich': 3910, 'powerful': 3509, 'hire': 2236, 'body': 666, 'doubles': 1506, 'prison': 3566, 'time': 4575, 'nasa': 3068, 'curiosity': 1234, 'rover': 3962, 'successfully': 4392, 'landed': 2623, 'mars': 2845, 'pictures': 3397, 'expected': 1739, 'shortly': 4150, 'guardian': 2127, 'liveblog': 2730, 'commercial': 1028, 'deep': 1317, 'sea': 4057, 'mining': 2958, 'project': 3604, 'canadian': 793, 'firm': 1885, 'gold': 2065, 'amp': 350, 'copper': 1147, 'papua': 3299, 'new': 3118, 'guinea': 2132, 'seabed': 4058, 'despite': 1383, 'vehement': 4820, 'objections': 3168, 'threat': 4552, 'marine': 2837, 'life': 2705, 'nautilus': 3079, 'minerals': 2952, 'granted': 2089, '20': 51, 'yr': 5045, 'license': 2702, 'thousands': 4551, 'uk': 4717, 'workers': 4999, 'blacklisted': 627, 'political': 3461, 'views': 4841, 'corporations': 1158, 'used': 4792, 'blacklisting': 628, 'database': 1266, 'screen': 4056, 'left': 2671, 'wing': 4972, 'trouble': 4672, 'makers': 2795, 'union': 4747, 'sympathizers': 4460, 'potential': 3502, 'jo': 2539, 'recruits': 3765, 'islamist': 2498, 'sect': 4072, 'living': 2733, 'underground': 4737, 'near': 3085, 'russian': 3983, 'city': 955, 'nearly': 3088, '10': 7, 'years': 5031, 'children': 922, 'seen': 4079, 'daylight': 1274, 'libor': 2697, 'scandal': 4033, 'largest': 2633, 'financial': 1873, 'receiving': 3749, 'tv': 4706, 'coverage': 1188, 'complete': 1058, 'package': 3273, 'news': 3120, 'articles': 440, 'matter': 2861, 'qantas': 3687, 'airline': 303, 'defends': 1327, 'policy': 3460, 'moving': 3027, 'men': 2902, 'sitting': 4191, 'unaccompanied': 4726, 'minors': 2966, 'different': 1420, 'seats': 4063, 'adult': 259, 'male': 2804, 'child': 921, 'molester': 2988, 'canadians': 794, 'ridicule': 3917, 'unarmed': 4728, 'tourist': 4607, 'fears': 1823, 'announces': 370, 'plans': 3426, 'mission': 2974, '2013': 59, 'ecuador': 1575, 'let': 2684, 'julian': 2556, 'assange': 451, 'stay': 4315, 'pussy': 3680, 'riot': 3925, 'guilty': 2131, '14': 22, 'old': 3201, 'girl': 2049, 'young': 5038, 'work': 4994, 'counsellor': 1171, 'camp': 786, 'kids': 2583, 'cancer': 801, 'instead': 2435, 'raised': 3714, '90k': 176, 'youngest': 5039, 'person': 3369, 'swim': 4455, 'lake': 2619, 'ontario': 3211, 'iran': 2482, 'bans': 543, 'women': 4989, '70': 149, 'university': 4752, 'degree': 1336, 'courses': 1183, 'week': 4932, 'losing': 2756, 'appeal': 390, 'right': 3920, 'die': 1414, 'assistance': 459, 'doctor': 1475, 'tony': 4593, 'nicklinson': 3127, 'paralysed': 3302, 'neck': 3090, 'described': 1377, 'nightmare': 3132, 'dies': 1416, 'refusing': 3788, 'food': 1917, 'tomorrow': 4591, '100': 8, 'mysterious': 3061, 'content': 1118, 'unknown': 4753, 'opened': 3214, 'museum': 3053, 'true': 4676, 'capsule': 813, 'revealed': 3896, 'anders': 357, 'brevik': 713, 'sentenced': 4094, '21': 67, 'australian': 491, 'state': 4310, 'try': 4682, 'ban': 533, 'cigarettes': 947, 'born': 685, '2000': 53, 'people': 3362, 'tuition': 4686, 'free': 1964, 'online': 3209, 'aimed': 296, 'poor': 3471, 'students': 4368, 'globe': 2057, 'access': 217, 'higher': 2227, 'education': 1585, 'starve': 4309, 'politicians': 3463, 'steal': 4317, 'theft': 4542, 'blunted': 661, 'countrys': 1179, 'weapon': 4921, 'widespread': 4960, 'starvation': 4308, 'decade': 1289, 'public': 3658, 'distribution': 1462, 'failed': 1789, 'deliver': 1343, 'record': 3760, 'harvests': 2180, 'plates': 3431, 'indias': 2387, 'hungriest': 2298, '270': 89, 'south': 4240, 'african': 273, 'miners': 2953, 'arrested': 432, 'protests': 3640, 'charged': 902, 'murder': 3048, '34': 105, 'colleagues': 1008, 'shot': 4151, 'police': 3457, 'richest': 3913, 'woman': 4988, 'says': 4030, 'fun': 1984, 'harder': 2174, 'virus': 4855, 'eats': 1564, 'cheap': 911, 'produce': 3581, 'exquisitely': 1761, 'precise': 3521, 'mild': 2941, 'flu': 1907, 'like': 2712, 'effects': 1592, 'humans': 2292, 'just': 2561, 'refrigerator': 3781, 'swedish': 4452, 'laboratory': 2615, 'couldn': 1167, 'believe': 586, 'cnn': 993, 'making': 2797, 'knew': 2601, 'government': 2081, 'lies': 2703, 'reporting': 3842, 'evangelical': 1705, 'christian': 938, 'australia': 490, 'banned': 541, 'practicing': 3512, 'gp': 2084, 'prescribing': 3533, 'chemical': 917, 'castration': 845, 'cure': 1233, 'teenager': 4507, 'gay': 2019, 'afghan': 270, 'actress': 242, 'stabbed': 4290, 'death': 1283, 'mo': 2979, 'appearing': 393, 'television': 4513, 'numerous': 3160, 'actresses': 243, 'received': 3748, 'threats': 4557, 'forced': 1924, 'hiding': 2224, 'afghanistan': 271, 'caribbean': 825, 'coral': 1151, 'reefs': 3773, 'face': 1777, 'collapse': 1006, 'showing': 4157, 'live': 2729, 'cover': 1187, 'korea': 2607, 'rejects': 3803, 'creationist': 1202, 'interference': 2450, 'school': 4041, 'textbooks': 4538, 'ambassador': 340, 'staff': 4292, 'members': 2897, 'killed': 2586, 'attack': 475, 'consulate': 1110, 'benghazi': 594, 'libya': 2699, 'libyans': 2700, 'wounded': 5012, 'defending': 1326, 'cousulate': 1186, 'calls': 779, 'muslim': 3057, 'brotherhood': 732, 'contradiction': 1125, 'brotherhoods': 733, 'arabic': 410, 'english': 1661, 'twitter': 4711, 'postings': 3497, 'feed': 1832, 'hope': 2264, 'relations': 3806, 'sustain': 4445, 'turbulence': 4694, 'tuesday': 4685, 'events': 1709, 'egyptians': 1599, 'revolt': 3904, 'prophets': 3619, 'victory': 4835, 'france': 1959, 'genetically': 2030, 'modified': 2984, 'crops': 1216, 'fracking': 1957, 'specifically': 4259, 'targets': 4488, 'monsanto': 3000, 'mon810': 2991, 'maize': 2790, 'gmo': 2058, 'currently': 1238, 'allowed': 329, 'europe': 1699, 'russia': 3982, 'declassified': 1303, 'shake': 4117, 'gem': 2025, 'markets': 2840, 'core': 1154, 'discovery': 1443, 'vast': 4815, 'diamond': 1409, 'field': 1847, 'containing': 1114, 'trillions': 4666, 'carats': 818, 'supply': 4420, '000': 1, 'anti': 377, 'video': 4836, 'uruguay': 4787, 'takes': 4473, 'war': 4893, 'drugs': 1536, 'direction': 1431, 'monopoly': 2999, 'production': 3584, 'marijuana': 2836, 'national': 3071, 'sell': 4084, 'cannabis': 806, 'directly': 1432, 'citizens': 954, 'egypt': 1596, 'mufti': 3037, 'urges': 4784, 'muslims': 3058, 'endure': 1652, 'insults': 2438, 'peacefully': 3349, 'angered': 359, 'cartoons': 837, 'mocking': 2981, 'prophet': 3618, 'mohammad': 2985, 'follow': 1914, 'example': 1717, 'enduring': 1653, 'retaliating': 3887, 'highest': 2228, 'islamic': 2497, 'legal': 2673, 'official': 3195, 'said': 3994, 'thursday': 4562, '11': 15, 'guantanamo': 2123, 'man': 2809, 'crime': 1206, 'recommended': 3757, 'twice': 4710, 'release': 3810, 'dead': 1279, 'hillary': 2234, 'leaders': 2655, 'pony': 3469, 'taxes': 4493, 'know': 2602, 'im': 2339, 'politics': 3464, 'fact': 1785, 'elites': 1618, 'country': 1178, 'money': 2994, 'contribute': 1127, 'growth': 2119, 'countries': 1177, 'comet': 1024, 'discovered': 1441, 'predicted': 3525, 'blaze': 641, 'brighter': 719, 'moon': 3006, 'president': 3539, 'united': 4749, 'nations': 3073, 'blasphemy': 637, 'agency': 278, 'picks': 3395, 'onion': 3208, 'story': 4347, 'tells': 4516, 'iranians': 2484, 'rural': 3979, 'americans': 344, 'prefer': 3526, 'ahmadinejad': 287, 'bahraini': 524, 'court': 1184, 'sentences': 4095, 'doctors': 1477, 'treating': 4653, 'injured': 2415, 'protesters': 3637, 'mafia': 2782, 'runs': 3978, '90': 174, 'illegal': 2333, 'tropics': 4671, 'logging': 2745, 'driving': 1526, 'lion': 2721, 'share': 4122, 'deforestation': 1332, 'rain': 3711, 'forests': 1932, 'organized': 3243, 'blame': 634, 'grim': 2109, 'conclusion': 1074, 'report': 3837, 'stolen': 4336, 'maple': 2830, 'syrup': 4463, 'recovered': 3763, 'bbc': 561, 'turkey': 4697, 'parliament': 3311, 'authorises': 493, 'military': 2946, 'action': 235, 'syria': 4461, 'fires': 1884, 'non': 3141, 'chaplains': 896, 'federal': 1827, 'prisons': 3569, 'banking': 539, 'crash': 1195, 'sparked': 4251, 'credit': 1204, 'boom': 681, 'turning': 4702, 'away': 507, 'casino': 843, 'finance': 1872, 'democratic': 1350, 'isn': 2501, 'pakistani': 3285, 'activist': 239, 'malala': 2798, 'yousafzai': 5040, 'taliban': 4476, 'hit': 2240, 'list': 2723, 'march': 2832, 'giving': 2054, 'diary': 1410, 'wake': 4881, 'forbidden': 1921, 'town': 4610, 'scotland': 4054, 'hold': 2244, 'vote': 4867, '2014': 60, 'independence': 2383, 'result': 3884, 'eventual': 1710, 'breakup': 712, 'britain': 722, 'group': 2113, '23': 75, 'impoverished': 2361, 'west': 4944, 'fishing': 1890, 'communities': 1045, 'driven': 1523, 'fleet': 1899, 'unreported': 4763, 'unregulated': 4762, 'pirate': 3407, 'trawlers': 4648, 'filming': 1862, 'waters': 4913, 'ships': 4137, 'identified': 2318, 'licences': 2701, 'export': 1755, 'catches': 849, 'italian': 2511, 'church': 945, 'stripped': 4356, 'tax': 4492, 'exemption': 1729, 'extra': 1766, 'revenue': 3900, 'exempt': 1728, 'properties': 3616, 'including': 2372, 'hotels': 2276, 'restaurants': 3880, 'sports': 4278, 'centres': 875, '5m': 134, 'rome': 3948, 'shadow': 4115, 'acta': 234, 'disguised': 1447, 'ceta': 882, 'canada': 791, 'european': 1700, 'trade': 4620, 'agreement': 284, 'comparison': 1050, 'leaked': 2660, 'draft': 1510, 'shows': 4159, 'includes': 2371, 'number': 3158, 'controversial': 1133, 'provisions': 3650, 'concerning': 1072, 'criminal': 1209, 'enforcement': 1655, 'private': 3572, 'isps': 2504, 'harsh': 2179, 'damages': 1257, 'british': 724, 'computer': 1068, 'hacker': 2145, 'gary': 2011, 'mckinnon': 2870, 'extradited': 1767, 'chinese': 927, 'companies': 1047, 'able': 196, 'sue': 4393, 'trying': 4683, 'protect': 3632, 'environment': 1672, 'fippa': 1881, 'foreign': 1928, 'investment': 2474, 'promotion': 3611, 'protection': 3635, 'act': 233, 'passes': 3331, 'carvings': 838, 'stone': 4337, 'destroyed': 1386, 'moroccos': 3010, 'high': 2226, 'atlas': 472, 'mountains': 3021, 'salafists': 3997, 'strictly': 4352, 'prohibit': 3601, 'idolatry': 2323, 'depicted': 1366, 'sun': 4410, 'divinity': 1469, 'plaque': 3429, 'predates': 3523, 'arrival': 435, 'phoenicians': 3386, 'morocco': 3009, 'schoolgirl': 4042, 'stand': 4298, 'communicate': 1040, 'soldier': 4226, 'sacked': 3987, 'army': 430, '72': 153, 'hours': 2278, 'gets': 2044, 'pension': 3358, '28': 91, 'tunisian': 4692, 'caught': 852, 'security': 4075, 'camera': 782, 'stealing': 4318, 'fallen': 1796, 'tracks': 4619, 'stockholm': 4332, 'subway': 4389, 'train': 4625, 'deportation': 1372, 'greedy': 2099, 'billionaire': 611, 'michigan': 2929, 'voters': 4870, 'reject': 3800, 'bridge': 718, 'memorial': 2900, 'forgotten': 1938, 'holocaust': 2251, 'opens': 3217, '500': 126, 'gypsies': 2140, 'slaughtered': 4202, 'nazis': 3083, 'forward': 1946, 'com': 1019, 'ashok': 444, 'khemka': 2577, 'bureaucrat': 753, 'transferred': 4633, '43': 118, 'times': 4577, 'determination': 1399, 'rules': 3972, 'whistleblowing': 4953, 'senior': 4090, 'career': 823, 'simply': 4180, 'tolerate': 4587, 'corruption': 1163, 'does': 1481, 'best': 600, 'stop': 4340, 'incoming': 2374, 'dutch': 1544, 'ditches': 1465, 'weed': 4931, 'pass': 3327, 'plan': 3419, 'available': 502, 'residents': 3863, 'effectively': 1591, 'tourists': 4608, 'amsterdam': 352, 'cafes': 773, 'coffee': 1003, 'shops': 4147, 'mayor': 2866, 'home': 2252, 'builds': 750, '60ft': 138, 'long': 2748, 'trench': 4658, 'garden': 2009, 'invites': 2477, 'history': 2239, 'buffs': 744, 'round': 3956, 'enactment': 1639, '16': 31, 'raped': 3721, 'caste': 844, 'father': 1814, 'committed': 1034, 'suicide': 4404, 'shame': 4118, 'reaction': 3735, 'community': 1046, 'change': 888, 'age': 276, 'consent': 1099, 'harassers': 2171, 'cairo': 774, 'wrath': 5014, 'vigilantes': 4842, 'groups': 2114, 'emerging': 1629, 'make': 2794, 'protecting': 3634, 'shaming': 4119, 'cause': 853, 'poll': 3465, 'israel': 2505, 'viewed': 4839, 'negatively': 3096, 'survey': 4434, 'measures': 2878, 'opinion': 3222, '22': 70, 'places': 3415, 'company': 1048, 'north': 3146, 'ahead': 286, 'pakistan': 3284, 'ancient': 356, 'buddhist': 742, 'mes': 2913, 'aynak': 509, 'turned': 4701, 'open': 3213, 'pit': 3409, 'cipla': 948, 'indian': 2386, 'drug': 1534, 'cut': 1242, 'prices': 3554, 'earlier': 1551, 'slashes': 4201, '63': 142, 'arm': 425, 'nazi': 3082, 'style': 4375, 'salute': 4003, 'leader': 2654, 'greece': 2098, 'fastest': 1813, 'rising': 3928, 'party': 3326, 'surveyed': 4435, 'hundreds': 2295, 'black': 625, 'shirts': 4139, 'exploded': 1748, 'cheers': 916, 'battle': 558, 'reverberated': 3901, 'night': 3130, 'blood': 654, 'honour': 2262, 'golden': 2066, 'dawn': 1271, '50': 125, 'supporters': 4423, 'uprising': 4778, 'ara': 407, 'facebook': 1778, 'blocked': 650, 'picture': 3396, 'wearing': 4924, 'veil': 4822, 'contraception': 1122, 'human': 2290, 'savita': 4026, 'halappanavar': 2153, 'medically': 2884, 'unnecessary': 4757, 'worst': 5008, 'way': 4916, 'possible': 3492, 'refused': 3786, 'saving': 4024, 'abortion': 202, 'ireland': 2489, 'proved': 3643, 'pro': 3575, 'advocates': 265, 'wrong': 5020, 'mexico': 2923, 'lawmaker': 2646, 'introduces': 2462, 'legalize': 2678, 'leftist': 2672, 'mexican': 2922, 'presented': 3536, 'sale': 4001, 'use': 4791, 'adding': 249, 'growing': 2116, 'chorus': 934, 'latin': 2639, 'rejecting': 3802, 'prohibitionist': 3603, 'policies': 3459, 'states': 4312, 'turkish': 4698, 'prime': 3558, 'minister': 2959, 'say': 4028, 'terrorist': 4528, 'acts': 244, 'air': 298, 'force': 1923, 'drops': 1530, 'leaflets': 2658, 'gaza': 2020, 'warning': 4898, 'evacuate': 1702, 'homes': 2257, 'immediately': 2346, 'hamas': 2159, 'executes': 1724, 'suspected': 4441, 'collaborators': 1005, 'dragged': 1511, 'street': 4349, 'san': 4007, 'jose': 2548, 'mercury': 2908, 'set': 4104, 'offices': 3194, 'having': 2186, 'survived': 4437, 'assassination': 452, 'attempts': 480, 'beaten': 566, 'paper': 3297, 'falls': 1799, 'joke': 2544, 'kim': 2593, 'jong': 2546, 'vaccination': 4802, 'shots': 4152, 'overrules': 3261, 'mum': 3046, 'xpost': 5025, 'newsoftheweird': 3121, 'creates': 1199, 'cap': 809, 'liability': 2692, 'file': 1857, 'sharing': 4125, 'lawsuits': 2649, '24': 77, 'general': 2026, 'assembly': 455, 'recognizes': 3756, 'palestine': 3286, 'member': 2896, 'responds': 3874, 'approving': 406, 'construction': 1109, '000new': 3, 'housing': 2282, 'units': 4750, 'jerusalem': 2531, 'bank': 537, 'internet': 2453, 'hangs': 2166, 'balance': 526, 'governments': 2082, 'meet': 2889, 'medicinal': 2886, 'legalised': 2676, 'korean': 2608, 'prisoner': 3567, 'labor': 2614, 'escaped': 1683, 'brutal': 738, 'broke': 728, 'padlocks': 3276, 'busted': 763, 'doors': 1501, 'surprise': 4430, 'raid': 3708, 'sweatshop': 4449, 'imprisoned': 2362, 'beeing': 570, 'christmas': 941, 'decorations': 1308, 'kept': 2572, 'rooms': 3951, 'ft': 1978, 'hour': 2277, 'days': 1275, 'summit': 4409, 'votes': 4871, 'eavesdropping': 1566, 'uses': 4796, 'censorship': 868, 'identifying': 2319, 'bittorrent': 624, 'mp3': 3031, 'transfers': 4634, 'gunmen': 2134, 'kill': 2585, 'womens': 4990, 'helium': 2209, 'balloons': 530, 'shortage': 4149, 'worsens': 5007, 'form': 1939, 'wikileaks': 4962, 'run': 3975, 'senate': 4085, 'real': 3740, 'problem': 3578, 'missiles': 2972, '250': 80, 'innocents': 2419, 'slave': 4203, 'rations': 3731, 'daily': 1253, 'subjected': 4378, 'heinous': 2205, 'torture': 4600, 'executions': 1726, 'remains': 3820, 'treaty': 4655, 'sees': 4080, 'panic': 3296, 'buying': 767, 'mayan': 2864, 'apocalypse': 385, 'mania': 2818, 'root': 3952, 'legalise': 2675, 'thieves': 4544, 'pounds': 3505, 'dropping': 1529, 'cluster': 992, 'bombs': 675, 'civilians': 960, 'swaziland': 4448, 'rape': 3720, 'provoking': 3652, 'mini': 2955, 'skirts': 4196, 'midriff': 2936, 'revealing': 3897, 'tops': 4596, 'low': 2763, 'rise': 3927, 'jeans': 2527, 'offenders': 3187, 'mos': 3012, 'jail': 2517, 'rapist': 3725, 'easy': 1561, 'remove': 3824, 'half': 2154, 'cloth': 990, 'worn': 5005, 'clothing': 991, 'responsible': 3877, 'assaults': 454, 'rapes': 3722, 'bishop': 620, 'inspires': 2431, 'infuriates': 2410, 'telling': 4515, '000s': 4, 'gathered': 2016, 'stadium': 4291, 'tied': 4569, 'lawmakers': 2647, 'cur': 1232, 'laundering': 2644, 'intentionally': 2446, 'weak': 4917, 'reforms': 3780, 'enslave': 1663, 'putin': 3681, 'sign': 4170, 'banning': 542, 'adopting': 257, '17': 33, 'gang': 2006, 'pressured': 3543, 'drop': 1528, 'case': 839, 'marry': 2844, 'attackers': 477, 'relative': 3808, 'nepali': 3105, 'returning': 3891, 'saudi': 4020, 'arabia': 408, 'robbed': 3936, 'immigration': 2349, 'officials': 3197, 'policeman': 3458, 'van': 4809, 'teachers': 4497, 'educate': 1583, 'girls': 2051, 'shoot': 4144, 'aid': 290, 'pm': 3447, 'abolishing': 198, 'compulsory': 1067, 'voting': 4872, 'democracy': 1349, 'plaything': 3437, 'cashed': 842, 'soccer': 4219, 'team': 4498, 'walks': 4886, 'game': 2004, 'italy': 2512, 'player': 3434, 'taunted': 4491, 'monkey': 2998, 'chants': 894, 'mother': 3017, 'jailed': 2518, 'murdering': 3050, 'seven': 4107, 'son': 4232, 'failing': 1790, 'learn': 2663, 'koran': 2606, 'poachers': 3450, 'family': 1804, 'elephants': 1614, 'biggest': 609, 'single': 4182, 'mass': 2852, 'shooting': 4146, 'animals': 364, 'kenya': 2570, 'ruling': 3973, 'puts': 3682, 'end': 1647, 'marriage': 2841, '15': 26, 'bride': 717, 'population': 3477, 'actually': 245, 'start': 4305, 'declining': 1307, 'beheads': 582, 'sri': 4289, 'lankan': 2629, 'maid': 2785, 'international': 2452, 'campaign': 787, 'clemency': 978, 'german': 2038, 'govt': 2083, 'unexpectedly': 4744, 'offers': 3191, 'paris': 3307, 'concrete': 1075, 'french': 1970, 'troops': 4670, 'extremists': 1773, 'mali': 2805, 'combat': 1021, 'role': 3944, 'provide': 3644, 'transport': 4642, 'medical': 2883, 'capital': 811, 'calling': 778, 'airpocalypse': 305, 'pollution': 3467, 'literally': 2726, 'charts': 909, 'classified': 969, 'hazardous': 2188, 'health': 2194, 'fifth': 1850, 'consecutive': 1098, 'day': 1272, 'hitting': 2242, 'levels': 2688, '25x': 82, 'considered': 1104, 'safe': 3991, 'insecticide': 2422, 'unacceptable': 4725, 'danger': 1261, 'bees': 572, 'finds': 1875, 'campaigners': 788, 'safety': 3993, 'authority': 495, 'knell': 2600, 'neonicotinoid': 3102, 'pesticides': 3378, 'lucky': 2770, 'prospector': 3628, 'huge': 2288, 'nugget': 3156, '177': 35, 'oz': 3269, '5kg': 133, 'indigenous': 2389, 'ecuadorian': 1576, 'amazon': 339, 'won': 4991, 'reprieve': 3846, 'building': 748, 'arsenal': 437, 'spears': 4256, 'blowpipes': 657, 'machetes': 2778, 'guns': 2137, 'fend': 1840, 'intrusion': 2463, 'oil': 3200, 'asteroid': 463, 'space': 4246, 'industries': 2396, 'launches': 2643, 'goal': 2059, 'helping': 2212, 'humanity': 2291, 'expand': 1736, 'tapping': 4483, 'riches': 3912, 'rocks': 3942, 'launch': 2640, 'prospecting': 3627, 'spacecraft': 4247, '2015': 61, 'trillion': 4665, 'basin': 555, 'turn': 4699, 'importer': 2358, 'exporter': 1756, 'scientology': 4049, 'claiming': 963, 'duped': 1542, 'donating': 1496, 'millions': 2950, 'misrepresented': 2970, 'causes': 855, 'destroy': 1385, 'cctv': 858, 'cameras': 783, 'vandalism': 4811, 'valid': 4804, 'protest': 3636, 'activists': 240, 'berlin': 595, 'teaming': 4499, 'trash': 4644, 'surveillance': 4433, 'points': 3454, 'given': 2052, 'bonus': 677, 'scores': 4053, 'innovative': 2420, 'modes': 2983, 'destruction': 1389, 'fleeing': 1898, 'timbuktu': 4574, 'burn': 755, 'library': 2698, 'manuscripts': 2828, 'google': 2071, 'unveils': 4771, 'detailed': 1391, 'map': 2829, 'deport': 1371, 'radical': 3704, 'clerics': 980, 'confirmed': 1086, 'israeli': 2506, 'warplanes': 4901, 'bombed': 672, 'research': 3856, 'centre': 874, 'northwest': 3148, 'damascus': 1258, 'recent': 3750, 'ridden': 3916, 'reuter': 3893, 'photographer': 3390, 'goran': 2072, 'tomasevic': 4590, 'atlantic': 471, 'richard': 3911, 'iii': 2329, 'famous': 1806, 'figures': 1855, 'poised': 3455, 'conduct': 1081, 'nuclear': 3155, 'test': 4532, 'posted': 3495, 'youtube': 5044, 'depicting': 1367, 'resembling': 3859, 'york': 5036, 'engulfed': 1662, 'flames': 1894, 'apparent': 389, 'missile': 2971, 'officially': 3196, 'eliminates': 1616, 'penny': 3357, '35': 107, 'pennies': 3356, '82m': 168, 'kg': 2575, '180m': 39, 'collected': 1009, 'melted': 2895, 'transactions': 4631, 'rounded': 3957, 'nearest': 3087, '05': 6, 'dad': 1252, 'pay': 3343, 'aren': 419, 'egyptian': 1598, 'salafi': 3996, 'preacher': 3519, 'raping': 3724, 'sexually': 4113, 'harassing': 2172, 'cairos': 775, 'tahrir': 4470, 'square': 4288, 'justified': 2564, 'crusaders': 1221, 'fear': 1820, 'feminism': 1839, 'pope': 3475, 'benedict': 591, 'xvi': 5026, 'resign': 3864, 'month': 3001, 'entirely': 1669, 'unexpected': 4743, 'development': 1402, 'reports': 3843, 'vatican': 4816, 'atomic': 474, 'weapons': 4922, 'need': 3091, 'come': 1022, 'point': 3453, 'arms': 429, 'begin': 575, 'formal': 1940, 'talks': 4478, 'paving': 3342, 'deal': 1280, 'totally': 4604, 'resistant': 3868, 'uncovered': 4733, 'outbreak': 3249, 'untreatable': 4767, 'meteor': 2918, 'shower': 4156, 'reported': 3838, 'eastern': 1560, 'threatens': 4556, 'final': 1869, 'lawyer': 2650, 'struggled': 4365, 'using': 4797, 'telephone': 4510, 'alberta': 315, 'ruled': 3971, 'accused': 226, 'exercise': 1730, 'counsel': 1170, 'germans': 2039, 'videos': 4837, 'radio': 3706, 'playing': 3435, 'music': 3054, 'background': 517, 'version': 4829, 'miaa': 2926, 'wanted': 4891, 'view': 4838, 'japanese': 2524, 'beginning': 576, 'whaling': 4949, 'industry': 2397, 'according': 221, 'unprofitable': 4761, 'business': 761, 'survive': 4436, 'substantial': 4387, 'subsidies': 4384, 'caters': 850, 'increasingly': 2379, 'shrinking': 4160, 'aging': 281, 'inmates': 2417, 'treated': 4651, 'lowest': 2766, 'reoffending': 3832, 'rate': 3728, 'sydney': 4459, 'holding': 2246, 'taiwanese': 4471, 'hostage': 2272, 'maldives': 2803, 'lashes': 2634, 'pre': 3518, 'marital': 2838, 'sex': 4110, 'victim': 4833, 'engaging': 1658, 'premarital': 3528, 'cannon': 807, 'border': 683, 'seized': 4081, 'manning': 2824, 'statement': 4311, 'cost': 1165, 'hiv': 2243, 'headed': 2190, 'hits': 2241, 'event': 1708, 'sort': 4235, 'scale': 4032, 'impact': 2352, 'drove': 1532, 'dinosaurs': 1425, 'extinct': 1762, '65m': 144, 'ago': 282, 'venezuela': 4824, 'hugo': 2289, 'chavez': 910, '58': 132, 'rhino': 3908, 'forest': 1931, 'guards': 2128, 'voids': 4863, 'aggression': 280, 'pacts': 3275, 'following': 1915, 'sanctions': 4008, 'preparing': 3531, 'ready': 3739, 'fight': 1851, 'media': 2882, 'irish': 2490, 'college': 1010, '36': 109, 'hrs': 2284, 'far': 1807, 'spending': 4265, 'reached': 3734, 'argentina': 421, 'malaysia': 2801, 'gates': 2014, 'capitalism': 812, 'means': 2874, 'baldness': 528, 'funding': 1991, 'malaria': 2799, 'vw': 4875, 'shares': 4124, 'profits': 3595, 'profit': 3591, 'hard': 2173, 'earned': 1554, 'deserved': 1379, 'equitable': 1677, 'participation': 3315, 'employees': 1633, 'success': 4390, 'defense': 1328, 'contractor': 1124, 'lockheed': 2741, 'martin': 2849, 'slash': 4199, 'needed': 3092, 'salt': 4002, 'seawater': 4064, 'eliminate': 1615, 'fresh': 1972, 'water': 4912, 'future': 1996, 'jumped': 2559, 'hotel': 2275, 'balcony': 527, 'severely': 4109, 'escape': 1682, 'prisoners': 3568, 'bay': 560, 'joined': 2542, 'hunger': 2297, 'strike': 4353, 'lawyers': 2651, 'reflects': 3778, 'hopelessness': 2266, 'prospects': 3629, 'freed': 1965, 'detention': 1398, 'center': 871, 'cuba': 1226, 'swiss': 4456, 'acupuncturist': 246, 'infecting': 2400, 'soldiers': 4227, 'attempting': 479, 'defect': 1321, 'captured': 817, 'sent': 4092, 'nk': 3138, 'armenia': 427, 'chess': 918, 'mandatory': 2816, 'schools': 4043, 'aiming': 297, 'build': 747, 'better': 602, 'society': 4221, 'scottish': 4055, 'approves': 405, 'windfarm': 4971, 'opposed': 3225, 'donald': 1493, 'trump': 4678, 'businessman': 762, 'claims': 964, 'wind': 4970, 'aberdeen': 194, 'coast': 996, 'spoil': 4272, 'nearby': 3086, 'golf': 2067, 'course': 1182, 'portugal': 3485, '12': 18, 'decriminalizing': 1315, 'francis': 1960, 'urged': 4782, 'catholic': 851, 'priests': 3556, 'devote': 1405, 'suffering': 4399, 'worrying': 5006, 'careers': 824, 'managers': 2813, 'cyprus': 1251, 'tens': 4518, 'london': 2747, 'deposit': 1373, 'confiscations': 1089, 'samoa': 4006, 'introduce': 2461, 'weigh': 4936, 'aifares': 294, 'meaninig': 2873, 'overweight': 3265, 'passengers': 3330, 'instagram': 2432, 'appalled': 388, 'drowned': 1533, 'boys': 696, 'bodies': 665, 'husband': 2306, 'wedding': 4928, 'ring': 3922, 'released': 3811, 'serving': 4103, 'months': 3002, 'closure': 989, 'clear': 972, 'breach': 706, 'commitments': 1033, 'laws': 2648, 'standards': 4300, 'obliged': 3171, 'uphold': 4775, 'ex': 1714, 'margaret': 2834, 'thatcher': 4541, 'died': 1415, 'stroke': 4358, 'putting': 3683, 'coal': 994, 'burning': 756, 'plants': 3428, 'verge': 4827, 'industrial': 2395, 'region': 3790, 'america': 342, 'fired': 1882, 'electrical': 1608, 'generation': 2027, 'backed': 515, 'fusion': 1995, 'engine': 1659, 'trip': 4668, '30': 95, 'bitcoin': 623, 'value': 4806, 'plummets': 3443, '41': 115, 'legislation': 2681, 'legalizes': 2680, 'allows': 331, 'couples': 1181, 'adopt': 256, 'arabian': 409, 'prince': 3559, 'alwaleed': 336, 'bin': 615, 'talal': 4475, 'nephew': 3106, 'king': 2594, 'abdullah': 193, 'thrown': 4559, 'allowing': 330, 'drive': 1522, 'saying': 4029, 'makes': 2796, 'economic': 1569, 'sense': 4091, 'earthquake': 1557, 'strikes': 4354, 'zealand': 5047, 'equality': 1675, 'law': 2645, 'commit': 1032, 'particularly': 3319, 'towns': 4611, 'fighting': 1854, 'marriages': 2842, 'letter': 2686, 'asks': 450, 'mongolia': 2995, 'tipped': 4579, 'terror': 4526, 'plot': 3440, 'stance': 4297, 'plotters': 3441, 'faith': 1793, 'dressed': 1518, 'suspect': 4440, 'parade': 3300, 'humiliate': 2293, 'iranian': 2483, 'started': 4306, 'protesting': 3638, 'posting': 3496, 'photos': 3391, 'resistance': 3867, 'fighter': 1852, 'led': 2669, 'daring': 1264, 'sabotage': 3986, 'program': 3597, 'ii': 2328, 'honoured': 2263, 'ceremony': 879, 'pregnant': 3527, 'donor': 1498, 'sperm': 4267, 'bought': 690, 'judge': 2553, 'describes': 1378, 'wicked': 4957, 'selfish': 4083, 'motive': 3019, 'daughter': 1269, 'parent': 3305, 'fourth': 1954, 'plundering': 3444, 'planet': 3422, 'seas': 4061, 'doing': 1485, 'anybody': 381, 'rhinos': 3909, 'mozambique': 3028, 'widely': 4959, 'devastating': 1400, 'dragonflies': 1512, 'snails': 4215, 'based': 552, 'species': 4257, 'groundbreaking': 2112, 'study': 4370, 'tribes': 4660, 'vow': 4873, 'save': 4022, 'rainforest': 3712, 'teacher': 4496, 'ruined': 3969, 'cyber': 1246, 'stalker': 4296, 'girlfriend': 2050, 'placed': 3413, 'ordered': 3234, 'want': 4890, 'pedophile': 3352, 'withdraws': 4982, 'traffic': 4623, 'disappeared': 1435, 'idled': 2321, 'closed': 988, 'kaesong': 2567, 'complex': 1061, 'declines': 1306, 'censored': 867, '3d': 111, 'printable': 3562, 'gun': 2133, 'poacher': 3449, 'trampled': 4628, 'elephant': 1613, 'astronauts': 464, 'chris': 936, 'hadfield': 2148, 'tom': 4589, 'marshburn': 2846, 'roman': 3945, 'romanenko': 3946, 'touched': 4605, 'kazakhstan': 2568, '146': 24, 'station': 4313, 'expedition': 1740, 'theres': 4543, '300': 96, 'horn': 2268, 'hangovers': 2165, 'wiping': 4978, 'denounced': 1363, 'blasting': 638, 'cult': 1228, 'tyrannizing': 4713, 'expendable': 1741, 'consumer': 1111, 'goods': 2070, 'serve': 4098, 'rule': 3970, 'christianity': 939, 'facing': 1784, 'catastrophic': 848, 'suggesting': 4402, 'percent': 3364, 'faster': 1812, 'previously': 3550, 'thought': 4549, 'uploading': 4776, '00': 0, 'book': 678, 'website': 4926, 'educational': 1586, 'resources': 3871, 'captive': 815, 'dolphin': 1488, 'morally': 3007, 'highly': 2229, 'intelligent': 2443, 'persons': 3372, 'specific': 4258, 'rights': 3921, 'hidden': 2222, 'camps': 790, 'exposed': 1758, 'panel': 3294, 'vowing': 4874, 'regime': 3789, 'accountability': 223, 'decades': 1290, 'pyongyang': 3684, 'icc': 2312, 'indictment': 2388, 'atheists': 468, 'good': 2069, 'latest': 2638, 'urging': 4785, 'religions': 3816, 'brewers': 714, 'concerned': 1071, 'contaminate': 1116, 'supplies': 4419, 'violate': 4846, 'beer': 571, 'purity': 3676, '1516': 29, 'starting': 4307, 'embarrassed': 1623, 'obnoxious': 3172, 'behavior': 578, 'abroad': 203, 'outside': 3257, 'louvre': 2760, 'characters': 900, 'forbids': 1922, 'urinating': 4786, 'defecating': 1320, 'win': 4969, 'seat': 4062, 'priest': 3555, 'delay': 1337, 'communions': 1043, 'adulthood': 261, 'choice': 929, 'proper': 3615, 'formation': 1941, 'isnt': 2502, 'wall': 4887, 'realistic': 3741, 'dotcom': 1505, 'wins': 4976, 'material': 2859, 'ethem': 1694, 'sarslk': 4013, 'head': 2189, 'ankara': 365, 'multiple': 3044, 'witnesses': 4985, 'footage': 1918, 'ignoring': 2327, 'raise': 3713, '55': 130, 'page': 3279, 'ad': 247, 'arresting': 433, 'tweeting': 4708, 'facebooking': 1779, 'local': 2736, 'turk': 4696, 'needs': 3093, 'translation': 4637, 'mr': 3033, 'erdogan': 1679, 'intimidated': 2460, 'self': 4082, 'choked': 930, 'tear': 4500, 'gas': 2012, 'networks': 3115, 'carried': 830, 'programmes': 3599, 'cooking': 1143, 'penguins': 3355, 'journalists': 2550, 'eff': 1588, 'evidence': 1713, 'nsa': 3154, 've': 4818, 'created': 1198, 'timeline': 4576, 'edward': 1587, 'snowden': 4218, 'whistleblower': 4951, 'revelations': 3899, 'behaving': 577, 'think': 4546, 'abuse': 207, 'ruin': 3968, 'lives': 2731, 'ai': 289, 'weiwei': 4937, 'unanimous': 4727, 'tell': 4514, 'exist': 1732, 'defend': 1325, 'betraying': 601, 'principles': 3561, 'embodied': 1627, 'exposing': 1760, 'conspiracy': 1106, 'coming': 1026, 'possibly': 3493, 'unnoticed': 4758, 'africa': 272, 'tanzania': 4481, 'malawi': 2800, 'insignia': 2425, 'irregulars': 2492, 'sow': 4245, 'mayhem': 2865, 'congos': 1093, 'east': 1558, 'willing': 4968, 'sweden': 4450, 'answer': 374, 'allegations': 325, 'guarantee': 2124, 'wouldn': 5010, 'handed': 2162, 'brasil': 702, 'cup': 1231, 'hacked': 2144, 'happening': 2169, 'brazil': 703, 'network': 3114, 'broadcasted': 726, 'masks': 2851, 'unlawful': 4754, 'carries': 831, 'maximum': 2863, 'sentence': 4093, 'scheduled': 4036, 'today': 4583, 'thousand': 4550, 'rio': 3924, 'silvio': 4178, 'berlusconi': 596, 'mails': 2787, 'reveal': 3895, 'standard': 4299, 'poors': 3473, 'moodys': 3005, 'accepted': 215, 'ratings': 3729, 'crisis': 1213, 'humiliated': 2294, 'hunt': 2300, 'judicial': 2555, 'drones': 1527, 'killer': 2587, 'robots': 3939, 'extraordinary': 1769, 'rendition': 3829, 'ops': 3228, 'wet': 4946, 'psy': 3654, 'silly': 4177, 'bit': 622, 'tired': 4580, 'posturing': 3499, 'grandstanding': 2088, 'banditry': 534, 'blasts': 639, 'managed': 2810, 'focus': 1911, 'attention': 482, 'forget': 1934, 'terrible': 4525, 'things': 4545, 'rent': 3831, 'boy': 694, 'prostituion': 3630, 'charge': 901, 'intelligence': 2442, 'alleged': 326, 'bugging': 746, 'operations': 3220, 'moscow': 3013, 'bolivia': 670, 'furious': 1993, 'plane': 3420, 'emergency': 1628, 'landing': 2625, 'austria': 492, 'rumour': 3974, 'fugitive': 1980, 'board': 662, 'told': 4586, 'superiors': 4415, 'ignore': 2325, 'incidents': 2368, 'interpreters': 2455, 'assaulted': 453, 'recording': 3762, 'cellphone': 865, 'attacked': 476, 'pri': 3551, 'militants': 2945, 'current': 1237, 'hero': 2219, 'fukushima': 1981, 'manager': 2812, 'foiled': 1912, 'disaster': 1438, 'yoshidas': 5037, 'decision': 1298, 'disobey': 1451, 'hq': 2283, 'orders': 3235, 'cool': 1144, 'reactors': 3737, 'continued': 1120, 'saved': 4023, 'active': 237, 'zones': 5052, 'overheating': 3259, 'exploding': 1749, 'founder': 1951, 'raising': 3715, 'spy': 4283, 'proof': 3613, 'messaging': 2915, 'app': 387, 'arrest': 431, 'openly': 3216, 'dollar': 1486, 'prize': 3574, 'powered': 3508, 'helicopter': 2207, 'unclaimed': 4730, '33': 103, 'reykjavk': 3907, 'sister': 4187, 'cities': 952, 'relationship': 3807, 'violations': 4848, 'continues': 1121, 'information': 2407, 'dubai': 1539, 'pres': 3532, 'jimmy': 2538, 'carter': 836, 'functioning': 1986, 'sites': 4190, 'cia': 946, 'chief': 920, 'panama': 3292, 'faces': 1781, 'extradition': 1768, 'involvement': 2479, 'iraqi': 2487, 'moves': 3025, 'welfare': 4939, 'income': 2373, 'successful': 4391, 'writes': 5017, 'check': 915, 'cent': 869, 'post': 3494, 'spying': 4284, 'nz': 3163, 'technologically': 4503, 'illiterate': 2337, 'mp': 3030, 'masterminded': 2856, 'porn': 3481, 'blocker': 651, 'reporter': 3840, 'writing': 5018, 'scolds': 4050, 'visit': 4857, 'muddy': 3036, 'brazilian': 704, 'slum': 4206, 'everybody': 1712, 'particular': 3318, 'opportunities': 3223, 'responsibilities': 3876, 'personal': 3370, 'contribution': 1128, 'social': 4220, 'injustices': 2416, 'pornography': 3482, 'filtering': 1865, 'praised': 3515, 'david': 1270, 'cameron': 784, 'controlled': 1131, 'huawei': 2286, 'learned': 2664, 'defects': 1323, 'royal': 3964, 'gods': 2062, 'established': 1688, 'decisions': 1299, 'actions': 236, 'nepal': 3103, 'tiger': 4571, '2009': 56, 'fbi': 1818, 'asked': 448, 'fly': 1909, 'persuade': 3373, 'return': 3889, 'documents': 1480, 'allow': 328, 'leave': 2666, 'airport': 306, 'june': 2560, 'nixes': 3137, 'pact': 3274, 'canceled': 797, 'cold': 1004, 'era': 1678, 'friday': 1973, 'response': 3875, 'leaker': 2661, 'electronic': 1610, 'feds': 1830, 'suspects': 4442, 'malware': 2807, 'attacks': 478, 'tor': 4597, 'anonymity': 372, 'proposes': 3623, 'participate': 3314, 'activities': 241, 'eu': 1697, 'stephen': 4322, 'fry': 1977, 'olympics': 3205, 'treatment': 4654, 'lgbt': 2691, 'hurting': 2305, 'canceling': 798, 'card': 820, 'sues': 4395, 'sticking': 4327, 'terms': 4524, 'greek': 2100, 'youth': 5042, 'unemployment': 4741, '65': 143, 'speaks': 4255, 'ny': 3161, 'important': 2357, 'outlets': 3252, 'abdicated': 191, 'got': 2075, 'subpoenaed': 4380, 'regulator': 3796, 'brazilians': 705, 'transportation': 4643, 'sao': 4011, 'paulo': 3340, 'siemens': 4168, '200': 52, 'scheme': 4037, 'occupying': 3178, 'council': 1168, 'imprisonment': 2363, 'involved': 2478, 'refund': 3784, 'archbishop': 415, 'canterbury': 808, 'christians': 940, 'claim': 962, 'persecuted': 3368, 'grow': 2115, 'exaggerate': 1715, 'amounts': 349, 'feeling': 1833, 'mildly': 2942, 'uncomfortable': 4731, 'glenn': 2055, 'greenwald': 2104, 'partner': 3321, 'detained': 1394, 'heathrow': 2200, 'terrorism': 4527, 'denied': 1359, 'possessions': 3490, 'confiscated': 1088, 'editor': 1579, 'experts': 1744, 'entered': 1667, 'drives': 1525, 'debate': 1285, 'write': 5016, 'cabinet': 770, 'warn': 4896, 'newspaper': 3122, 'consequences': 1100, 'publishing': 3664, 'spiritual': 4271, 'controversy': 1134, 'gangrape': 2007, 'addressing': 251, 'violators': 4849, 'brothers': 734, 'asking': 449, 'mercy': 2909, 'minor': 2963, 'came': 781, 'exclusive': 1721, 'files': 1859, 'prove': 3642, 'helped': 2211, 'saddam': 3990, 'gassed': 2013, 'hans': 2167, 'blix': 647, 'bush': 760, 'iraq': 2486, 'launched': 2641, 'encourage': 1642, 'meteorological': 2919, 'organisation': 3237, 'naming': 3066, 'hurricanes': 2304, 'destructive': 1390, 'storms': 4346, 'climate': 981, 'deniers': 1360, 'passed': 3329, 'domestic': 1491, 'violence': 4850, 'forms': 1942, 'kingdom': 2595, 'approved': 404, 'physical': 3392, 'sexual': 4111, 'applies': 398, 'place': 3412, 'loses': 2755, 'commons': 1039, 'romanian': 3947, 'changes': 889, 'cyanide': 1245, 'earth': 1556, 'galleries': 2002, 'forcing': 1926, 'major': 2791, 'critical': 1214, 'murdoch': 3052, 'biased': 605, 'election': 1604, 'middle': 2935, 'advertising': 263, 'blackout': 630, 'lead': 2653, 'declares': 1302, 'filter': 1864, 'default': 1318, 'documentary': 1478, 'televangelist': 4512, 'pat': 3335, 'robertson': 3937, 'defrauded': 1333, 'donations': 1497, 'fund': 1987, 'venture': 4826, 'congo': 1091, 'knows': 2604, 'challenge': 886, 'wealth': 4919, 'risk': 3929, 'wasting': 4908, 'substandard': 4386, 'projects': 3605, 'profitable': 3593, 'accepts': 216, 'proposal': 3621, 'woah': 4987, 'big': 608, 'implications': 2356, 'vladamir': 4860, 'op': 3212, 'ed': 1577, '15m': 30, 'presidential': 3540, 'jet': 2532, 'malnutrition': 2806, 'professor': 3589, 'hawking': 2187, 'backs': 520, 'assisted': 460, 'beauty': 568, 'contests': 1119, 'hyper': 2308, 'sexualisation': 4112, 'tries': 4663, 'organise': 3238, 'pageant': 3280, 'obsessed': 3173, 'sending': 4088, 'named': 3064, 'jihad': 2536, 'shirt': 4138, 'words': 4993, '618': 140, '2007': 55, '13': 21, 'poached': 3448, 'masturbate': 2857, 'publicly': 3660, 'mistake': 2976, 'eddie': 1578, 'izzard': 2515, '2020': 65, 'yes': 5033, 'happened': 2168, 'criminality': 1210, 'jews': 2534, 'condemn': 1076, 'taking': 4474, 'contemptible': 1117, 'difference': 1419, 'jewish': 2533, 'john': 2540, 'mcafee': 2867, 'reveals': 3898, 'details': 1392, 'gadget': 1998, 'thwart': 4563, 'll': 2734, 'england': 1660, 'japan': 2523, 'stopped': 4341, 'microsoft': 2933, 'privacy': 3571, 'don': 1492, 'trust': 4679, 'unaware': 4729, 'prism': 3565, 'data': 1265, 'worked': 4997, 'carmaker': 827, 'hyundai': 2310, 'motor': 3020, 'defer': 1329, 'payments': 3345, 'impacted': 2353, 'partial': 3312, 'shutdown': 4163, 'demands': 1347, 'secretly': 4070, 'crypto': 1224, 'keys': 2574, 'simultaneously': 4181, 'wiretap': 4979, 'customers': 1240, 'worldwide': 5003, 'gag': 1999, 'order': 3233, 'stops': 4342, 'adoptions': 258, 'getting': 2045, 'parents': 3306, 'detain': 1393, 'merely': 2910, 'looks': 2752, 'opposition': 3227, 'fascism': 1810, 'higgs': 2225, 'boson': 687, 'scientists': 4048, 'nobel': 3139, 'wants': 4892, 'russias': 3984, 'entire': 1668, 'hands': 2164, '110': 16, 'azerbaijan': 510, 'accidentally': 219, 'results': 3885, 'showed': 4155, 'ilham': 2331, 'aliyev': 323, 'winning': 4975, '73': 155, 'award': 506, 'agents': 279, 'gathering': 2017, 'byte': 769, 'communication': 1041, 'giants': 2047, 'spies': 4269, 'hubs': 2287, 'somali': 4230, 'warlord': 4895, 'lured': 2773, 'brussels': 737, 'belgium': 585, 'pretext': 3545, 'signing': 4174, 'movie': 3026, 'translations': 4638, 'fraud': 1961, 'religious': 3817, 'freedom': 1966, 'filmmaker': 1863, 'dire': 1429, 'qatar': 3688, 'worker': 4998, 'conditions': 1080, 'buried': 754, 'warnings': 4899, 'forever': 1933, 'shared': 4123, 'internal': 2451, 'mechanisms': 2881, 'phone': 3387, 'recorded': 3761, 'immediate': 2345, 'explanation': 1746, 'shocking': 4141, 'smog': 4210, 'shuts': 4164, 'bad': 521, 'fingers': 1879, 'photo': 3389, 'gallery': 2003, 'printers': 3563, 'arrive': 436, 'haiti': 2151, 'quickly': 3697, 'umbilical': 4723, 'cord': 1153, 'clamps': 965, 'obtain': 3175, 'gear': 2024, 'angela': 358, 'merkel': 2911, 'barack': 545, 'complain': 1055, 'eavesdrop': 1565, 'investigations': 2471, 'agencies': 277, 'clearly': 974, 'hinted': 2235, 'break': 709, 'source': 4239, 'monitored': 2996, 'contacts': 1112, 'reduce': 3769, 'working': 5000, 'economists': 1571, 'buys': 768, '27': 88, 'forgets': 1935, 'worth': 5009, '886k': 171, 'currency': 1236, 'saw': 4027, 'small': 4207, 'buy': 765, 'apartment': 384, 'wealthy': 4920, 'area': 417, 'oslo': 3247, 'cheapest': 913, 'subur': 4388, 'barcelona': 546, 'stir': 4329, 'proving': 3649, 'cheaper': 912, 'spain': 4249, 'morning': 3008, 'infiltrates': 2402, 'links': 2720, 'yahoo': 5027, 'centers': 872, 'broken': 729, 'main': 2788, 'communications': 1042, 'connect': 1095, 'obtained': 3176, 'testify': 4533, 'wiretapping': 4980, 'merkels': 2912, 'condition': 1079, 'granting': 2090, 'asylum': 466, 'tonnes': 4592, 'ivory': 2514, 'authorities': 494, '1800kg': 38, 'nationals': 3072, 'dar': 1263, 'es': 1681, 'salam': 3999, 'mikocheni': 2939, 'haul': 2183, 'counted': 1172, '706': 152, 'pieces': 3398, 'representing': 3845, 'deaths': 1284, 'discovers': 1442, 'really': 3743, 'useless': 4794, 'budget': 743, 'gravity': 2094, '105': 13, 'polonium': 3468, 'arafat': 411, 'bones': 676, '18': 36, 'normal': 3144, 'radioactive': 3707, 'element': 1612, 'late': 2636, 'palestinian': 3287, '62k': 141, 'usd': 4790, 'reward': 3906, 'offered': 3190, 'publish': 3661, 'trans': 4629, 'pacific': 3271, 'partnership': 3323, 'argeement': 420, 'nation': 3070, 'funeral': 1992, 'wwii': 5023, 'veteran': 4830, 'held': 2206, 'remembrance': 3822, 'diagnosed': 1407, 'lung': 2772, 'attributed': 485, 'releases': 3812, 'negotiated': 3097, 'text': 4537, 'tpp': 4613, 'intellectual': 2441, 'property': 3617, 'chapter': 898, 'herd': 2216, '40': 112, 'crossing': 1218, 'calves': 780, 'seriously': 4097, 'toll': 4588, 'memory': 2901, 'railways': 3710, 'ignored': 2326, 'requests': 3851, 'speeds': 4263, 'inside': 2423, 'famed': 1803, 'corridor': 1161, 'cartels': 835, 'giant': 2046, 'jpmorgan': 2552, 'cancels': 800, 'abusive': 211, 'tweets': 4709, 'possession': 3489, 'punished': 3670, 'announce': 368, 'pays': 3346, 'alcoholics': 316, 'clean': 971, 'streets': 4350, 'imaginative': 2342, 'approach': 401, 'behaviour': 579, 'demonstrates': 1352, 'typical': 4712, 'pragmatism': 3514, 'lg': 2690, 'smart': 4208, 'tvs': 4707, 'filenames': 1858, 'viewing': 4840, 'info': 2405, 'servers': 4100, 'wikipedia': 4963, 'names': 3065, 'texas': 4536, 'pr': 3510, 'false': 1801, 'manipulation': 2821, 'site': 4189, 'entries': 1670, 'encyclopaedia': 1646, 'sock': 4222, 'puppet': 3674, 'traced': 4614, 'branson': 701, 'virgin': 4854, 'galactic': 2000, 'accept': 214, 'fish': 1888, 'fee': 1831, 'opposes': 3226, 'campaigns': 789, 'stocks': 4334, 'ecosystems': 1574, 'filters': 1866, 'block': 649, 'websites': 4927, 'espousing': 1686, 'extremist': 1772, 'flies': 1900, 'b52': 511, 'aircraft': 300, 'disputed': 1458, 'islands': 2500, 'defiance': 1330, 'defence': 1324, 'escapes': 1684, 'dentist': 1364, 'returns': 3892, 'profiteering': 3594, 'crush': 1222, 'activism': 238, 'iceland': 2315, 'bangladeshi': 536, 'garment': 2010, 'paid': 3282, 'torch': 4598, 'factory': 1786, 'gazipur': 2021, 'trucks': 4674, 'casualties': 846, 'losses': 2758, 'owners': 3268, 'tracking': 4618, 'locations': 2739, 'nelson': 3101, 'mandela': 2817, '104': 11, 'mcg': 2869, 'cubic': 1227, 'meter': 2920, 'limit': 2713, 'rivers': 3933, 'lakes': 2620, 'toxic': 4612, 'drink': 1520, 'past': 3334, 'visibility': 4856, 'parts': 3325, 'reduced': 3770, 'meters': 2921, 'clinton': 984, 'justify': 2565, 'espionage': 1685, 'bubonic': 740, 'plague': 3417, 'madagascar': 2781, 'citizen': 953, 'tablet': 4466, 'laptop': 2631, 'customs': 1241, 'talk': 4477, 'kills': 2590, 'yemen': 5032, 'mistaken': 2977, 'al': 311, 'qaeda': 3686, 'convoy': 1142, 'isp': 2503, 'blocks': 652, 'connections': 1097, 'overnight': 3260, 'exchange': 1719, 'deposits': 1374, 'fallout': 1798, 'tune': 4691, 'dollars': 1487, 'boeing': 668, 'gripen': 2111, 'supreme': 4425, 'struck': 4362, 'prostitution': 3631, 'faxes': 1817, 'threatening': 4555, 'uruguays': 4788, 'neighbor': 3099, 'considering': 1105, 'legalization': 2677, 'navi': 3080, 'pillay': 3401, 'compares': 1049, 'uproar': 4779, 'defeat': 1319, 'apartheid': 383, 'programme': 3598, 'did': 1412, 'favour': 1816, 'inventor': 2466, 'sir': 4186, 'tim': 4573, 'berners': 597, 'lee': 2670, 'believed': 587, 'blair': 633, 'george': 2037, 'exchanged': 1720, 'voluminous': 4865, 'correspondence': 1160, 'prior': 3564, 'declassify': 1304, 'inquiry': 2421, 'britains': 723, 'conflict': 1090, 'hiring': 2237, 'homeless': 2254, '244': 78, 'update': 4772, 'apologize': 386, 'destroying': 1387, 'musician': 3055, 'rare': 3727, 'flutes': 1908, 'shepherd': 4133, 'locates': 2737, 'whale': 4947, 'sovereign': 4243, 'protected': 3633, 'minke': 2962, 'whales': 4948, 'deck': 1300, 'justice': 2562, 'currant': 1235, 'spoof': 4277, 'incident': 2367, 'stupid': 4373, 'sad': 3989, 'antibiotics': 379, 'weren': 4942, 'warned': 4897, 'antibiotic': 378, 'organisms': 3240, 'spotlight': 4280, 'prof': 3587, 'jeremy': 2530, 'farrar': 1809, 'charity': 907, 'wellcome': 4940, 'truly': 4677, 'issue': 2507, 'armed': 426, 'officers': 3193, 'wear': 4923, 'duty': 1545, 'gsm': 2120, 'weaken': 4918, 'mobile': 2980, '80': 163, 'broad': 725, 'coalition': 995, 'known': 2603, 'organizations': 3242, 'reddit': 3768, 'foundation': 1950, 'press': 3541, 'mozilla': 3029, 'announced': 369, 'stage': 4293, 'wide': 4958, 'ranging': 3719, 'users': 4795, 'february': 1825, 'aaron': 184, 'swartz': 4447, 'firefox': 1883, 'browser': 736, 'sought': 4237, 'sacks': 3988, 'cardinals': 821, 'appointed': 400, 'ukraine': 4718, 'revolting': 3905, 'livestream': 2732, 'dear': 1282, 'subscriber': 4381, 'registered': 3793, 'participant': 3313, 'disturbance': 1463, 'message': 2914, 'ukrainian': 4719, 'spontaneously': 4276, 'cell': 864, 'phones': 3388, 'prohibiting': 3602, 'demonstrations': 1355, 'went': 4941, 'effect': 1589, 'netflix': 3111, 'warns': 4900, 'provoke': 3651, 'customer': 1239, 'net': 3109, 'neutrality': 3117, 'dial': 1408, 'purchase': 3675, 'send': 4087, 'sms': 4212, 'mail': 2786, 'going': 2064, 'look': 2751, 'permanent': 3366, 'hsbc': 2285, 'paying': 3344, 'weeks': 4935, 'avoid': 504, 'charges': 904, 'cartel': 834, 'legalized': 2679, 'vigilantism': 4843, 'signal': 4171, 'billions': 613, 'undemocratic': 4735, 'tactics': 4468, 'angry': 361, 'birds': 617, 'displaying': 1456, 'iconic': 2316, 'bearing': 564, 'logo': 2746, 'forehead': 1927, 'editors': 1580, 'gchq': 2022, 'technicians': 4502, 'watched': 4910, 'took': 4594, 'angle': 360, 'grinders': 2110, 'drills': 1519, 'computers': 1069, 'tense': 4519, 'negotiations': 3098, 'sweeping': 4453, 'counterterrorism': 1176, 'sunday': 4411, 'prosecute': 3624, 'reform': 3779, 'exposes': 1759, 'engages': 1657, 'dissent': 1459, 'leaks': 2662, 'threatened': 4554, 'alan': 312, 'rusbridger': 3980, 'close': 987, 'july': 2557, 'newspapers': 3123, 'abusers': 208, 'posts': 3498, 'provides': 3646, 'drinking': 1521, 'americas': 345, 'dry': 1538, '45': 119, 'amid': 346, 'drought': 1531, 'tokyo': 4585, 'boycott': 695, 'runner': 3976, 'weekend': 4933, 'gubernatorial': 2129, 'menstruation': 2903, 'unfit': 4745, 'scahill': 4031, '273': 90, 'somalia': 4231, 'instructor': 2436, 'gives': 2053, 'demonstration': 1354, 'pupils': 3673, 'politician': 3462, 'clive': 985, 'palmer': 3289, 'nickel': 3126, 'refinery': 3777, 'pumped': 3668, 'waste': 4906, 'great': 2095, 'reef': 3772, 'park': 3309, 'discharged': 1439, 'wastewater': 4907, 'heritage': 2218, 'banker': 538, 'tried': 4662, 'neighbour': 3100, 'mental': 2904, 'hospital': 2270, 'inches': 2366, 'land': 2622, 'turns': 4704, 'promise': 3607, 'ability': 195, 'dismiss': 1450, 'wrongdoing': 5021, 'counterpart': 1175, 'targeted': 4486, 'covert': 1190, 'prosecution': 3625, 'senators': 4086, 'initiative': 2413, 'speed': 4262, 'liberalization': 2694, 'help': 2210, 'cycle': 1248, 'ak': 310, '47': 121, 'sniper': 4217, 'rifles': 3918, 'skier': 4195, 'pulls': 3667, 'join': 2541, 'protestors': 3639, 'kiev': 2584, 'resigned': 3865, 'affairs': 268, 'doc': 1473, 'manipulate': 2819, 'deceive': 1292, 'reputations': 3850, 'intercepted': 2449, 'webcam': 4925, 'images': 2341, 'offer': 3189, 'ugandans': 4715, 'flags': 1892, 'marched': 2833, 'freely': 1967, 'invasion': 2464, 'rally': 3716, 'dozens': 1509, 'demonstrating': 1353, 'red': 3767, 'aide': 291, '261': 84, '1044': 12, 'arrests': 434, '888': 172, 'precautionary': 3520, 'anchor': 355, 'resigns': 3866, 'funded': 1990, 'whitewashes': 4955, 'training': 4626, '220': 71, '800': 164, 'tanks': 4480, '400': 113, 'helicopters': 2208, '4000': 114, 'elite': 1617, 'paratroopers': 3303, 'planes': 3421, 'strip': 4355, 'tasmanian': 4490, 'listing': 2724, 'developed': 1401, '74': 156, 'hectares': 2204, 'degraded': 1335, 'ecologically': 1568, 'pristine': 3570, 'requiring': 3853, 'sold': 4225, 'compatible': 1051, 'common': 1037, 'charger': 903, 'yesterday': 5034, 'beggar': 573, 'fortune': 1944, 'amassing': 338, 'estate': 1690, 'portfolio': 3484, 'begging': 574, 'jeddah': 2528, 'rivaled': 3931, 'citys': 956, 'millionaires': 2949, 'annex': 366, 'crimea': 1207, 'federation': 1828, '900': 175, 'qatars': 3690, 'facilities': 1782, 'confederation': 1083, 'dont': 1499, 'improve': 2364, 'migrants': 2938, 'kick': 2579, 'guy': 2138, 'egg': 1595, 'faberge': 1776, 'peter': 3379, 'sunde': 4412, '529': 128, 'conventional': 1136, 'electricity': 1609, 'governance': 2079, 'approval': 403, 'sets': 4105, 'guarantees': 2125, 'slams': 4198, 'antarctic': 376, 'scientific': 4046, 'purposes': 3677, 'ballots': 531, 'bags': 523, 'southern': 4241, 'magnitude': 2784, 'offshore': 3199, 'northern': 3147, 'chile': 923, 'strong': 4359, 'roaming': 3935, 'detects': 1397, 'ocean': 3181, 'saturn': 4019, 'extraterrestrial': 1770, 'microbes': 2931, 'voice': 4862, 'philippines': 3385, 'swedes': 4451, 'workday': 4995, 'municipal': 3047, 'gothenburg': 2076, 'pigs': 3399, 'proposed': 3622, 'push': 3678, 'workdays': 4996, 'hopes': 2267, 'sick': 4166, 'boost': 682, 'efficiency': 1593, 'ultimately': 4721, 'shark': 4126, 'fin': 1868, 'hong': 2261, 'kong': 2605, 'homeopathic': 2255, 'remedies': 3821, 'firms': 1886, 'ministry': 2961, 'monitoring': 2997, 'regulators': 3797, 'direct': 1430, 'invest': 2467, 'yuan': 5046, 'approaches': 402, '767th': 160, 'birthday': 619, 'excavation': 1718, 'built': 751, 'founding': 1953, '753bc': 158, 'channeled': 892, 'ceramic': 878, 'pottery': 3503, 'pledges': 3439, 'multi': 3041, 'africas': 274, 'ferry': 1842, 'carrying': 832, '350': 108, 'sinking': 4185, 'admits': 254, 'forces': 1925, 'deployed': 1369, 'complaints': 1057, 'violent': 4851, 'thugs': 4561, 'crowds': 1219, 'documenting': 1479, 'brutality': 739, 'ratio': 3730, 'materials': 2860, 'fcc': 1819, 'abandons': 188, 'eaters': 1562, 'wild': 4964, 'thirds': 4548, 'reconstruction': 3759, 'gone': 2068, 'dyncorp': 1548, 'secrets': 4071, 'dictators': 1411, 'couple': 1180, 'hack': 2143, 'nose': 3151, 'ears': 1555, 'cleric': 979, 'agrees': 285, 'colleague': 1007, 'ill': 2332, 'idea': 2317, 'donated': 1495, '170': 34, 'battling': 559, 'leaves': 2667, '5th': 135, 'outlaws': 3251, 'denial': 1358, 'crimes': 1208, 'vladimir': 4861, 'signed': 4172, 'monday': 2993, 'distortion': 1461, 'soviet': 4244, 'offence': 3185, 'punishable': 3669, 'fast': 1811, 'walkouts': 4885, '2016': 62, 'schedule': 4035, 'ioc': 2480, 'axe': 508, 'wreck': 5015, 'christopher': 942, 'columbuss': 1018, 'flagship': 1893, 'santa': 4010, 'maria': 2835, 'illegally': 2334, 'planning': 3425, 'crucial': 1220, 'caribou': 826, 'habitat': 2142, 'herds': 2217, 'vanishing': 4813, 'completely': 1060, 'fifa': 1849, 'gather': 2015, 'abbott': 189, 'cuts': 1243, 'ferals': 1841, 'thailand': 4540, 'declared': 1301, 'martial': 2848, 'mistakenly': 2978, 'trains': 4627, 'platforms': 3432, 'matadors': 2858, 'gored': 2073, 'opening': 3215, 'isidro': 2494, 'festival': 1843, 'cancelled': 799, 'soma': 4229, '301': 97, 'lost': 2759, 'perfect': 3365, 'score': 4051, 'inspector': 2429, 'brother': 731, 'executive': 1727, 'questions': 3695, 'underage': 4736, 'organization': 3241, 'classify': 970, 'tobacco': 4582, 'products': 3586, 'arguing': 423, 'jeopardize': 2529, 'opportunity': 3224, 'disease': 1446, 'caused': 854, 'smoking': 4211, '180': 37, 'satellites': 4015, 'spread': 4282, 'satirist': 4017, 'bassem': 557, 'youssef': 5041, 'jon': 2545, 'stewart': 4326, 'ends': 1651, 'present': 3535, 'suitable': 4406, 'satire': 4016, 'struggling': 4366, 'fearing': 1822, 'familys': 1805, 'relatives': 3809, 'gunned': 2135, '1989': 47, 'tiananmen': 4565, 'massacre': 2853, 'defied': 1331, 'unprecedented': 4760, 'communist': 1044, 'silence': 4176, 'demand': 1345, 'truth': 4681, 'loved': 2762, 'ones': 3206, 'todays': 4584, '25th': 81, 'anniversary': 367, 'crackdown': 1192, 'worlds': 5002, 'biofuels': 616, 'facility': 1783, 'edmonton': 1582, 'converts': 1138, 'household': 2280, 'garbage': 2008, 'diverted': 1466, 'landfill': 2624, 'quebec': 3692, 'dying': 1546, 'dignity': 1423, 'terminally': 4523, 'patients': 3337, 'bounty': 692, 'piracy': 3406, 'megaupload': 2893, 'bid': 607, 'aided': 292, 'behest': 583, 'hollywood': 2250, 'studios': 4369, 'baby': 513, 'gertjie': 2043, 'refuses': 3787, 'sleep': 4204, 'witnessing': 4986, 'crying': 1223, 'inconsolably': 2375, 'cyberbullying': 1247, 'remotely': 3823, 'devices': 1404, 'cars': 833, 'grabs': 2086, '360': 110, 'idle': 2320, 'dormant': 1502, 'prompting': 3612, 'outrage': 3255, 'quarters': 3691, 'pensioners': 3359, 'retirees': 3888, 'wildleaks': 4966, 'attracts': 484, 'wildlife': 4967, 'leads': 2657, 'targeting': 4487, 'kingpins': 2596, 'attracted': 483, 'fishery': 1889, 'michael': 2927, 'schumacher': 4044, 'coma': 1020, 'tiny': 4578, 'island': 2499, 'controls': 1132, 'parks': 3310, 'account': 222, 'reserves': 3861, 'savings': 4025, 'secular': 4073, 'triumph': 4669, 'creationism': 1201, 'academies': 212, 'fiji': 1856, 'accuses': 227, 'abandoning': 187, 'singles': 4183, 'sink': 4184, 'waves': 4914, 'tackling': 4467, 'essential': 1687, 'medicines': 2887, 'birth': 618, 'jazeera': 2526, 'neurotoxic': 3116, 'blamed': 635, 'bee': 569, 'harming': 2176, 'butterflies': 764, 'worms': 5004, 'sufficient': 4401, 'trigger': 4664, 'regulatory': 3798, 'linked': 2718, 'scientist': 4047, 'disprove': 1457, 'manmade': 2822, 'verizon': 4828, 'contract': 1123, 'row': 3963, 'blackwaters': 632, 'issued': 2508, 'investigator': 2472, 'department': 1365, 'ceasefire': 860, 'investigation': 2470, 'mood': 3004, 'belonging': 589, 'copies': 1146, 'unlawfully': 4755, 'passwords': 3333, 'subsequently': 4382, 'forwarded': 1947, 'equal': 1674, 'airing': 302, 'debates': 1286, 'featuring': 1824, 'science': 4045, 'fringe': 1975, 'cries': 1205, 'rescued': 3855, 'miroslav': 2968, 'klose': 2598, 'scorer': 4052, 'netting': 3113, '16th': 32, 'finals': 1871, 'hackers': 2146, 'houses': 2281, 'debts': 1288, 'ussr': 4798, 'debt': 1287, 'republic': 3848, 'written': 5019, 'average': 503, 'grown': 2117, '60': 136, '1990s': 48, 'programs': 3600, 'track': 4615, 'universe': 4751, 'footballer': 1920, 'mesut': 2916, 'ozil': 3270, 'surgery': 4429, 'decriminalization': 1313, 'netherlands': 3112, 'mh17': 2925, 'airliner': 304, 'downing': 1507, 'delta': 1344, 'flights': 1902, 'indefinitely': 2382, 'doctored': 1476, 'dancing': 1260, 'unable': 4724, 'oblige': 3170, 'administration': 253, 'quietly': 3698, 'expansion': 1737, 'watchlist': 4911, 'authorizing': 499, 'process': 3579, 'requires': 3852, 'facts': 1787, 'irrefutable': 2491, 'designate': 1380, 'foreigner': 1929, 'cyclist': 1249, 'pedaled': 3351, 'plus': 3446, 'peace': 3347, 'drunken': 1537, 'truck': 4673, 'driver': 1524, 'wait': 4879, 'migrant': 2937, 'luxury': 2775, '2022': 66, 'football': 1919, 'organisers': 3239, 'cockroach': 1000, 'infested': 2401, 'lodgings': 2743, 'steel': 4320, 'bombing': 674, 'tar': 4484, '69': 148, 'respect': 3872, 'nagasaki': 3062, 'victims': 4834, 'vaccine': 4803, 'sierra': 4169, 'leone': 2683, 'ebola': 1567, '729': 154, 'mentions': 2905, 'race': 3700, 'construct': 1108, 'encouraged': 1643, 'docs': 1474, 'signs': 4175, '225': 72, 'indonesia': 2392, 'endorsement': 1650, 'isis': 2496, 'mounts': 3023, 'references': 3775, 'airstrikes': 309, 'airdrops': 301, 'besieged': 599, 'jihadists': 2537, 'mountaintop': 3022, 'kurdish': 2611, 'crossed': 1217, 'rescue': 3854, 'joins': 2543, 'koreas': 2609, 'firstand': 1887, 'onlyastronaut': 3210, 'quit': 3699, 'ending': 1649, 'manned': 2823, 'defectors': 1322, 'laos': 2630, 'repatriated': 3835, 'exotic': 1735, 'particles': 3317, 'dust': 1543, 'brought': 735, 'appear': 392, 'specks': 4260, 'hallmarks': 2155, 'interstellar': 2456, 'beijing': 584, 'newly': 3119, 'recycling': 3766, 'machines': 2779, 'bottles': 689, 'rebates': 3744, 'transit': 4635, 'sisters': 4188, 'kidnapped': 2580, 'pickpockets': 3394, 'executed': 1723, 'journalist': 2549, 'james': 2521, 'foley': 1913, 'beheaded': 581, 'spokesman': 4273, 'promised': 3608, 'flag': 1891, 'allah': 324, 'white': 4954, 'house': 2279, 'populous': 3479, 'majority': 2792, 'deemed': 1316, 'embarrassing': 1624, 'religion': 3815, 'unite': 4748, 'extremism': 1771, 'conservationists': 1102, 'ditch': 1464, 'plea': 3438, 'fed': 1826, 'prevent': 3546, 'endangered': 1648, 'cockatoos': 998, 'felling': 1835, 'pine': 3403, 'perth': 3374, 'love': 2761, 'urgent': 4783, 'aboriginal': 200, 'seeking': 4077, 'healthy': 2195, 'unpaid': 4759, 'fines': 1878, 'totalling': 4603, '1000': 9, 'keeps': 2569, 'confirms': 1087, 'rocket': 3941, '2018': 64, 'seek': 4076, 'nato': 3076, 'membership': 2898, 'bomber': 673, 'peshmerga': 3376, 'rot': 3954, 'rest': 3879, 'martyrdom': 2850, 'kurds': 2612, 'fighters': 1853, 'sky': 4197, 'steven': 4324, 'sotloff': 4236, 'convincing': 1141, 'soup': 4238, 'yao': 5029, 'ming': 2954, 'lifetime': 2707, 'stumbling': 4372, 'bronze': 730, 'sword': 4458, 'river': 3932, 'jiangsu': 2535, 'province': 3647, 'archaeologists': 414, 'dated': 1268, '26cm': 87, '10in': 14, 'shang': 4120, 'zhou': 5048, 'dynasties': 1547, 'civilisation': 961, 'size': 4193, 'shape': 4121, 'criminalization': 1211, 'regulation': 3795, 'psychoactive': 3655, 'substances': 4385, '4268': 117, 'cases': 840, '2288': 74, 'usa': 4789, 'auschwitz': 488, 'guard': 2126, '93': 177, 'accessory': 218, 'murders': 3051, 'appeals': 391, 'henning': 2214, 'believes': 588, 'innocent': 2418, 'volunteer': 4866, 'genuinely': 2034, 'kidnapping': 2581, 'step': 4321, 'hepatitis': 2215, 'price': 3552, 'snatch': 4216, 'random': 3717, 'drape': 1516, 'behead': 580, 'remain': 3819, 'liberia': 2695, 'cutting': 1244, 'trees': 4657, '150m': 28, 'native': 3075, 'establishing': 1689, 'inter': 2448, 'tribal': 4659, 'alliance': 327, 'restore': 3882, 'bison': 621, 'areas': 418, 'rocky': 3943, 'plains': 3418, 'roamed': 3934, 'enabling': 1638, 'whistleblowers': 4952, 'anil': 362, 'agarwal': 275, 'vedanta': 4819, 'decided': 1295, 'donate': 1494, '75': 157, 'meeting': 2890, 'earn': 1553, 'returned': 3890, 'greater': 2096, 'paedophilia': 3278, 'jozef': 2551, 'wesolowski': 4943, 'stored': 4344, 'retake': 3886, 'villages': 4845, 'estimated': 1692, 'walrus': 4888, 'spotted': 4281, 'ashore': 445, 'beach': 562, 'alaska': 314, 'unlike': 4756, 'seals': 4059, 'mammals': 2808, 'numbers': 3159, 'struggle': 4364, 'ice': 2313, 'resting': 3881, 'artic': 439, 'abolished': 197, 'fees': 1834, 'thinkprogress': 4547, 'student': 4367, 'murdered': 3049, 'dumped': 1541, 'grave': 2092, '26': 83, 'missing': 2973, 'discover': 1440, 'berry': 598, 'tree': 4656, 'grows': 2118, 'queensland': 3693, 'tumour': 4688, 'acknowledges': 230, 'ap': 382, 'estonia': 1693, 'partnerships': 3324, 'poisoned': 3456, 'tea': 4494, 'resident': 3862, 'vital': 4859, 'lets': 2685, 'demonization': 1351, 'borders': 684, 'medics': 2888, 'situation': 4192, 'stark': 4303, 'running': 3977, 'blows': 658, 'fossil': 1948, 'nordics': 3143, 'baltics': 532, 'large': 2632, 'pushed': 3679, 'eroding': 1680, 'profitability': 3592, 'stations': 4314, 'female': 1837, 'genital': 2032, 'mutilation': 3060, 'nigeria': 3128, '42': 116, 'scholarship': 4040, 'proud': 3641, 'welcoming': 4938, 'peaceful': 3348, 'hearts': 2199, 'fairness': 1792, 'changing': 890, 'justin': 2566, 'trudeau': 4675, 'buyers': 766, 'hungary': 2296, 'winners': 4974, '23rd': 76, 'urge': 4781, 'embargo': 1622, 'amelia': 341, 'earhart': 1550, 'fragment': 1958, 'chancellor': 887, 'exit': 1734, 'compromise': 1065, 'principle': 3560, 'movement': 3024, 'demoted': 1357, 'homeopathy': 2256, 'guam': 2122, '66': 146, 'choose': 931, '14a': 25, 'pepsi': 3363, 'ikea': 2330, 'fedex': 1829, '340': 106, 'secured': 4074, 'deals': 1281, 'luxembourg': 2774, 'bills': 614, 'maintaining': 2789, 'little': 2728, 'presence': 3534, 'duchy': 1540, '32': 100, 'enter': 1666, 'excommunicated': 1722, 'argentine': 422, 'admitted': 255, 'abusing': 210, 'teenagers': 4508, 'geologists': 2036, 'didn': 1413, 'predict': 3524, 'killers': 2588, 'overturns': 3264, 'manslaughter': 2825, 'conviction': 1140, 'artillery': 442, 'systems': 4465, 'commander': 1027, 'robot': 3938, 'probe': 3576, 'philae': 3384, 'historic': 2238, 'descending': 1376, 'mothership': 3018, 'su': 4376, 'maasai': 2777, 'homeland': 2253, 'hunting': 2302, 'reserve': 3860, 'rosetta': 3953, 'organic': 3236, 'molecules': 2987, 'subatomic': 4377, 'cern': 880, 'killing': 2589, 'bludgeoned': 659, 'courts': 1185, 'wednesday': 4930, 'brink': 721, 'threaten': 4553, 'destabilise': 1384, 'fined': 1877, 'tagging': 4469, 'colosseum': 1016, 'frequencies': 1971, 'super': 4414, 'wifi': 4961, 'condemned': 1077, 'laity': 2618, 'parishes': 3308, 'charging': 905, 'baptisms': 544, 'blessings': 645, 'intentions': 2447, 'forgive': 1936, 'hearings': 2197, 'auckland': 486, 'nailbom': 3063, 'cache': 771, 'immigrants': 2348, 'testing': 4534, 'orbiter': 3231, 'orion': 3245, 'nils': 3135, 'muinieks': 3039, 'commissioner': 1030, 'massive': 2854, 'indiscriminate': 2390, 'contrary': 1126, 'sony': 4233, 'halt': 2157, 'interview': 2459, 'shock': 4140, 'fake': 1794, 'shut': 4162, 'multiply': 3045, 'cracks': 1193, 'chairman': 885, 'search': 4060, 'warrant': 4902, 'lindt': 2714, 'chocolat': 928, 'cafe': 772, 'drama': 1514, 'siege': 4167, 'terrorists': 4529, 'hostages': 2273, 'normalize': 3145, 'diplomatic': 1427, 'havana': 2184, 'unveiled': 4770, 'monument': 3003, 'lasted': 2635, '1980': 45, '1988': 46, 'suffer': 4397, 'damage': 1255, 'vip': 4853, 'credible': 1203, 'domain': 1490, 'waving': 4915, 'offline': 3198, 'ddos': 1278, 'presumed': 3544, 'nepalese': 3104, 'infrastructure': 2408, 'host': 2271, 'promises': 3609, 'saudis': 4021, 'eagerly': 1549, 'awaiting': 505, 'shoura': 4154, 'prevents': 3549, 'married': 2843, 'pending': 3354, 'procuring': 3580, 'storage': 4343, 'lt': 2767, 'eating': 1563, 'tigers': 4572, 'airasia': 299, 'flight': 1901, 'java': 2525, 'sheer': 4128, 'luck': 2769, 'unhealthy': 4746, 'lifestyles': 2706, 'diet': 1418, 'inherited': 2412, 'genes': 2029, 'suggests': 4403, 'mutations': 3059, 'occur': 3179, 'dna': 1472, 'cells': 866, 'divide': 1467, 'cancers': 802, 'range': 3718, 'tissues': 4581, 'gt': 2121, '48': 122, 'barrel': 548, 'magazine': 2783, 'charlie': 908, 'hebdo': 2203, 'grief': 2108, 'stupidity': 4374, '8m': 173, 'booked': 679, 'inciting': 2369, 'indoor': 2394, 'farm': 1808, 'productive': 3585, 'outdoor': 3250, 'fields': 1848, '99': 183, 'burqa': 758, 'cameroon': 785, '143': 23, 'boko': 669, 'haram': 2170, 'weekly': 4934, 'canings': 805, 'setting': 4106, 'forum': 1945, 'discussion': 1445, 'mecca': 2880, '226': 73, 'gorillas': 2074, 'chimpanzees': 925, 'suffers': 4400, 'heaviest': 2201, 'invited': 2476, 'conference': 1084, 'leading': 2656, 'answers': 375, 'emails': 1621, 'yanis': 5028, 'varoufakis': 4814, 'valve': 4808, 'steam': 4319, 'economist': 1570, 'key': 2573, 'patent': 3336, 'rejected': 3801, 'clearing': 973, 'generic': 2028, 'costing': 1166, 'appears': 394, 'surrounded': 4431, 'megamouth': 2892, 'washed': 4904, 'zoologist': 5053, '60th': 139, 'encounter': 1641, 'westminster': 4945, 'dossiers': 1504, 'paedophiles': 3277, 'operating': 3218, 'hoped': 2265, 'blackmail': 629, 'europa': 1698, 'candidates': 804, 'alien': 321, 'prosecutors': 3626, 'jordan': 2547, 'explosion': 1752, 'plant': 3427, 'mugabe': 3038, 'bodyguards': 667, 'zimbabwe': 5049, 'stumbles': 4371, 'carpet': 829, 'sends': 4089, 'congress': 1094, 'authorization': 496, 'poses': 3487, 'operation': 3219, 'anonymous': 373, 'wade': 4876, 'expose': 1757, 'profile': 3590, 'learner': 2665, 'stitched': 4330, 'chainsaw': 884, 'wound': 5011, 'drank': 1515, 'gin': 2048, 'pain': 3283, 'lifts': 2710, 'minimum': 2957, 'lenovo': 2682, 'installing': 2434, 'adware': 266, 'everest': 1711, 'owned': 3267, 'chain': 883, 'provincial': 3648, 'falsified': 1802, 'placement': 3414, 'grade': 2087, 'codebreaker': 1002, 'turing': 4695, 'pardons': 3304, '49': 123, 'homosexuality': 2258, 'kilometer': 2591, 'mile': 2943, 'freezeway': 1969, 'skate': 4194, 'pilot': 3402, 'planned': 3424, 'early': 1552, 'winter': 4977, 'burns': 757, '8000': 165, 'books': 680, 'mosul': 3016, 'systematic': 4464, 'evasion': 1706, 'euros': 1701, 'imams': 2343, 'values': 4807, 'radicalisation': 3705, 'level': 2687, 'civics': 957, 'classes': 968, 'chant': 893, 'emirates': 1630, 'decriminalising': 1312, 'nick': 3125, 'clegg': 977, 'abstinence': 206, 'utterly': 4800, 'preventing': 3547, 'aids': 293, 'sustainable': 4446, 'grasp': 2091, 'channel': 891, 'ndtv': 3084, 'blank': 636, 'evening': 1707, 'delhi': 1341, 'sharply': 4127, 'rebuked': 3747, 'dozen': 1508, 'republican': 3849, 'reach': 3733, 'pivotal': 3411, 'moment': 2989, 'characterizing': 899, 'illegitimate': 2335, 'obamas': 3167, 'transparency': 4640, 'elections': 1605, 'backers': 516, 'influenced': 2404, 'sponsors': 4275, 'southwestern': 4242, 'decapitated': 1291, 'vaccer': 4801, 'wagers': 4877, 'existance': 1733, 'measles': 2876, 'researcher': 3857, 'supporter': 4422, 'apply': 399, 'pressure': 3542, 'suspending': 4444, 'frills': 1974, 'ryanair': 3985, 'flying': 1910, 'transatlantic': 4632, 'routes': 3961, 'pentagon': 3360, 'equipment': 1676, 'alzheimers': 337, 'fully': 1983, 'restores': 3883, 'function': 1985, 'researchers': 3858, 'invasive': 2465, 'ultrasound': 4722, 'technology': 4504, 'clears': 975, 'brain': 698, 'amyloid': 353, 'plaques': 3430, 'decrees': 1309, 'rooftops': 3950, 'covered': 1189, 'panels': 3295, 'buildings': 749, 'comply': 1063, 'environmental': 1673, 'immunity': 2351, 'blow': 655, 'whistle': 4950, 'crashes': 1196, 'alps': 334, 'tape': 4482, 'draped': 1517, 'finish': 1880, 'line': 2715, 'celebrating': 862, 'exploration': 1751, 'completed': 1059, 'marathon': 2831, '219': 69, 'miles': 2944, '195': 43, 'kilometers': 2592, 'roughly': 3955, 'germanwings': 2040, 'locked': 2740, 'cockpit': 999, 'ceo': 877, 'associated': 461, 'visitors': 4858, 'breaching': 708, 'logged': 2744, 'explicitly': 1747, 'opted': 3229, 'tracked': 4616, 'heads': 2192, 'mt': 3035, 'bring': 720, '000kg': 2, 'climbers': 982, 'nationwide': 3074, 'risks': 3930, 'evaluated': 1704, 'fallujah': 1800, 'confession': 1085, 'easter': 1559, 'vault': 4817, 'raiders': 3709, '200million': 57, 'hatton': 2182, 'roof': 3949, 'disabled': 1433, 'alarm': 313, 'abseiling': 204, 'lift': 2708, 'shaft': 4116, 'loot': 2753, 'boxes': 693, 'extinction': 1763, 'planetary': 3423, 'rapid': 3723, 'acidification': 229, 'oceans': 3182, 'concludes': 1073, 'carbon': 819, 'atmosphere': 473, 'absorbed': 205, 'ship': 4136, 'flat': 1895, 'pack': 3272, 'shelters': 4132, 'washington': 4905, 'blackwater': 631, 'iraqis': 2488, 'baghdad': 522, 'circle': 949, 'removes': 3826, 'sponsor': 4274, 'overtakes': 3263, 'holder': 2245, 'treasury': 4650, 'patriot': 3339, 'civil': 958, 'liberties': 2696, 'goes': 2063, 'khaama': 2576, 'kp': 2610, 'astronomers': 465, 'structure': 4363, 'incredibly': 2380, 'hole': 2248, 'supervoid': 4418, 'spherical': 4268, 'blo': 648, 'light': 2711, 'distinguished': 1460, 'unusual': 4768, 'emptiness': 1636, 'armenian': 428, 'genocide': 2033, 'telescope': 4511, 'cosmic': 1164, 'occurred': 3180, 'bang': 535, 'examine': 1716, 'possibility': 3491, '218': 68, 'saturday': 4018, 'stockpiles': 4333, 'minimal': 2956, 'fulfilling': 1982, 'proliferation': 3606, 'considerable': 1103, 'comprehensive': 1064, 'disarmament': 1437, 'hideout': 2223, 'sambisa': 4005, 'nigerian': 3129, 'pulled': 3666, 'alive': 322, 'rubble': 3967, 'impossible': 2360, 'em': 1619, 'physics': 3393, 'conservation': 1101, 'momentum': 2990, 'electric': 1607, 'thrust': 4560, 'propellant': 3614, 'bouncing': 691, 'microwaves': 2934, 'container': 1113, 'electoral': 1606, 'reporters': 3841, 'investigating': 2469, 'germanys': 2042, 'reportedly': 3839, 'questioned': 3694, 'dohas': 1484, 'vexed': 4831, 'nomination': 3140, 'authorized': 497, 'service': 4101, 'stole': 4335, 'moldova': 2986, 'eighth': 1600, 'gdp': 2023, 'green': 2102, 'elected': 1603, 'rt': 3966, 'hon': 2259, 'caroline': 828, 'lucas': 2768, 'proportional': 3620, 'representation': 3844, 'felt': 1836, 'richter': 3914, 'shocks': 4142, 'aboriginals': 201, '960': 181, 'petronas': 3381, 'canadas': 792, 'petroliam': 3380, 'nasional': 3069, 'bhd': 603, '319': 99, '267': 85, 'compensation': 1052, 'natural': 3077, 'terminal': 4522, 'ancestral': 354, 'lands': 2627, 'shelf': 4129, 'disintegration': 1448, 'strategic': 4348, 'ongoing': 3207, 'irans': 2485, 'bail': 525, 'horrific': 2269, 'banks': 540, '7bn': 162, 'rigging': 3919, 'updates': 4773, 'announcing': 371, 'penalties': 3353, 'manipulating': 2820, 'blogger': 653, 'supermarkets': 4417, 'unsold': 4765, 'edits': 1581, 'removing': 3827, 'scandals': 4034, 'mps': 3032, 'pages': 3281, 'apple': 396, 'steve': 4323, 'wozniak': 5013, 'gave': 2018, 'nike': 3134, '150': 27, 'bribery': 715, 'en': 1637, 'route': 3960, 'published': 3662, 'mortar': 3011, 'shells': 4131, '80000': 166, 'rounds': 3958, 'ammunition': 347, 'heavy': 2202, 'grenade': 2105, 'launchers': 2642, 'racist': 3701, 'ugly': 4716, 'lowers': 2765, 'replaced': 3836, 'navy': 3081, 'halts': 2158, 'explosive': 1754, 'exercises': 1731, 'vancouver': 4810, 'alerted': 319, 'pod': 3452, 'orcas': 3232, 'vicinity': 4832, 'responsive': 3878, 'governed': 2080, 'independent': 2384, 'candidate': 803, 'smell': 4209, 'nightmares': 3133, 'sgt': 4114, 'craig': 1194, 'harrison': 2178, 'holds': 2247, 'longest': 2750, 'traumatic': 4645, 'stress': 4351, 'disorder': 1453, 'deployment': 1370, 'balkans': 529, 'peacekeeping': 3350, 'engaged': 1656, 'transactional': 4630, 'haitian': 2152, 'medication': 2885, 'exploitation': 1750, 'significantly': 4173, 'underreported': 4738, 'missions': 2975, 'surfaced': 4426, 'corroborates': 1162, 'assertions': 456, 'ensuring': 1665, 'isil': 2495, 'passage': 3328, 'minutes': 2967, 'walked': 4884, 'dmz': 1471, 'tide': 4568, 'boats': 663, 'imf': 2344, 'trickle': 4661, 'recommends': 3758, 'concentrate': 1070, 'poorest': 3472, 'wal': 4882, 'mart': 2847, '76': 159, 'overseas': 3262, 'havens': 2185, 'agreed': 283, 'bases': 553, 'nature': 3078, 'preserves': 3537, 'aim': 295, 'creating': 1200, 'oases': 3164, 'sanctuaries': 4009, 'poaching': 3451, '96': 180, 'voted': 4868, 'overwhelmingly': 3266, 'care': 822, 'services': 4102, 'nhs': 3124, 'ttip': 4684, 'privatisation': 3573, 'corporate': 1156, 'parties': 3320, 'century': 876, 'ask': 447, 'grenoble': 2106, 'blind': 646, 'door': 1500, 'spanish': 4250, 'speakers': 4253, 'transmission': 4639, 'hails': 2150, 'greatest': 2097, 'achievements': 228, 'regional': 3791, '32bn': 102, 'inspired': 2430, 'melinda': 2894, '1997': 49, 'foster': 1949, 'cultural': 1229, 'understanding': 4739, 'empower': 1635, 'relief': 3814, 'greeks': 2101, 'austerity': 489, 'iftar': 2324, 'meal': 2872, 'teen': 4505, 'hacking': 2147, 'playstation': 3436, 'shutting': 4165, 'xbox': 5024, 'convicted': 1139, '700': 150, 'offences': 3186, 'imposes': 2359, 'informant': 2406, 'blower': 656, 'chuck': 944, 'blazer': 642, 'founders': 1952, 'acquitted': 232, 'copyright': 1149, 'tibetans': 4567, 'ethnic': 1696, 'minorities': 2964, 'obtaining': 3177, 'passports': 3332, 'watch': 4909, 'surge': 4427, 'travelling': 4647, 'hadron': 2149, 'collider': 1011, 'particle': 3316, 'pentaquark': 3361, 'heading': 2191, 'columbia': 1017, 'appetite': 395, 'respondents': 3873, 'insights': 2424, 'outright': 3256, 'undecided': 4734, 'royals': 3965, 'clooney': 986, 'seeks': 4078, 'wars': 4903, 'oscar': 3246, 'winner': 4973, 'prendergast': 3529, 'investigate': 2468, 'flow': 1905, 'spyware': 4285, 'vendor': 4823, 'subsidiary': 4383, 'insitu': 2428, 'infect': 2399, 'wi': 4956, 'fi': 1846, 'proximity': 3653, 'reality': 3742, 'dolphins': 1489, 'reproduce': 3847, 'linger': 2717, 'milky': 2947, 'galaxy': 2001, 'kepler': 2571, '452': 120, 'habitable': 2141, 'zone': 5051, 'star': 4302, 'similar': 4179, 'musk': 3056, 'autonomous': 501, 'artificial': 441, 'offensive': 3188, 'hunter': 2301, 'beloved': 590, 'cecil': 861, 'animal': 363, 'walter': 4889, 'palmers': 3290, 'practice': 3511, 'attend': 481, 'zimbabwean': 5050, 'filthy': 1867, 'olympians': 3203, 'violently': 4852, 'compete': 1053, 'intends': 2444, 'microbeads': 2930, 'review': 3903, 'pose': 3486, 'ultimate': 4720, 'frisbee': 1976, 'recognised': 3754, 'olympic': 3204, 'committee': 1035, 'rushing': 3981, 'digitize': 1422, 'transparent': 4641, 'itunes': 2513, 'office': 3192, 'explains': 1745, 'ripping': 3926, 'cd': 859, 'longer': 2749, 'permitted': 3367, 'backing': 518, 'contains': 1115, 'copyrighted': 1150, 'broadcasting': 727, 'disappearance': 1434, 'reorganize': 3833, 'alphabet': 333, 'nestle': 3108, '100m': 10, 'shouldn': 4153, 'noodles': 3142, 'port': 3483, 'tianjin': 4566, 'cbc': 857, 'sued': 4394, 'pirating': 3408, '31': 98, 'second': 4066, 'addition': 250, 'infringement': 2409, 'breached': 707, 'circumvention': 951, 'dmca': 1470, 'gps': 2085, 'trackers': 4617, 'tusks': 4705, 'smuggling': 4214, 'interpreter': 2454, 'served': 4099, 'refuge': 3782, 'survivor': 4438, 'suing': 4405, 'location': 2738, 'hid': 2221, 'shooters': 4145, '81': 167, 'pioneer': 3404, 'archaeologist': 413, 'foremost': 1930, 'scholar': 4039, 'treasures': 4649, 'palmyra': 3291, 'unto': 4766, 'prepare': 3530, 'archive': 416, 'deleted': 1339, 'effective': 1590, 'tool': 4595, 'honest': 2260, 'geneva': 2031, 'convention': 1135, 'safeguard': 3992, 'clandestine': 966, 'digital': 1421, 'switzerland': 4457, '57': 131, 'km': 2599, 'gotthard': 2078, 'base': 551, 'tunnel': 4693, 'connecting': 1096, 'milan': 2940, 'zurich': 5055, 'ahmedabad': 288, 'vehicles': 4821, 'fewer': 1845, 'manufactured': 2827, 'wooden': 4992, 'idol': 2322, 'shigir': 4135, 'pyramids': 3685, 'stonehenge': 4338, 'oldest': 3202, 'code': 1001, 'decipher': 1297, 'recession': 3751, 'defying': 1334, 'fury': 1994, 'eye': 1775, 'quetta': 3696, 'film': 1861, 'congolese': 1092, 'surgeon': 4428, 'denis': 1361, 'mukwege': 3040, 'intent': 2445, 'harm': 2175, 'sully': 4408, 'image': 2340, 'taken': 4472, 'refugees': 3783, 'chaos': 895, 'delegates': 1338, 'hallucinogenic': 2156, 'daywe': 1276, 'diplomats': 1428, 'geographic': 2035, 'fox': 1955, 'poverty': 3506, 'severe': 4108, 'advice': 264, 'spot': 4279, 'class': 967, 'hungry': 2299, 'malcom': 2802, 'turnbull': 4700, 'liberal': 2693, 'tuna': 4690, 'mackerel': 2780, 'populations': 3478, 'decline': 1305, 'turnover': 4703, 'experiments': 1742, 'contributions': 1129, 'volkswagen': 4864, 'software': 4223, 'audi': 487, 'branded': 699, 'cheat': 914, 'diesel': 1417, 'emissions': 1631, 'tests': 4535, 'plunge': 3445, 'cycloserine': 1250, 'jump': 2558, 'pharmaceutical': 3382, 'ensuing': 1664, 'backlash': 519, 'reverse': 3902, 'expert': 1743, 'negative': 3095, 'publicity': 3659, 'original': 3244, 'hike': 2232, 'pharmaceuticals': 3383, 'hiked': 2233, 'pill': 3400, 'incurable': 2381, 'kidney': 2582, 'barrick': 549, 'liters': 2727, 'lower': 2764, '700k': 151, 'flowing': 1906, 'translated': 4636, 'constitution': 1107, 'outline': 3253, 'basic': 554, 'speech': 4261, 'integrate': 2440, 'walk': 4883, 'lack': 2617, 'insists': 2427, 'goals': 2060, 'counter': 1173, 'bp': 697, 'spill': 4270, 'soon': 4234, 'employer': 1634, 'chops': 933, 'hand': 2161, 'october': 3183, 'encompasses': 1640, '327': 101, 'corporation': 1157, 'survivors': 4439, 'psychologists': 3656, 'designed': 1381, 'infamous': 2398, 'palm': 3288, 'primary': 3557, 'ecosystem': 1573, 'jacked': 2516, 'antitrust': 380, 'demonstrators': 1356, 'damge': 1259, 'benefiting': 593, 'multinationals': 3043, 'unesco': 4742, 'nanjing': 3067, 'include': 2370, 'relating': 3805, '1937': 42, 'elect': 1602, 'harpers': 2177, 'beat': 565, 'greenhouse': 2103, 'target': 4485, 'rebuke': 3746, 'treaties': 4652, 'date': 1267, 'comfortable': 1025, 'hurricane': 2303, 'patricia': 3338, 'measured': 2877, 'strongest': 4360, 'applications': 397, 'unconscious': 4732, 'bias': 604, 'minority': 2965, 'exxon': 1774, 'understood': 4740, 'spent': 4266, 'promote': 3610, 'misinformation': 2969, 'witness': 4984, 'pitting': 3410, 'villagers': 4844, 'multinational': 3042, 'lying': 2776, 'oath': 3165, 'effort': 1594, 'chevron': 919, 'judgment': 2554, 'deliberate': 1342, '285': 93, '281': 92, 'meps': 2907, 'decide': 1294, 'clinics': 983, 'gynaecologists': 2139, 'decriminalise': 1311, 'heroin': 2220, 'cocaine': 997, 'bullets': 752, 'luggage': 2771, 'extort': 1764, 'finding': 1874, 'mexicos': 2924, 'pot': 3501, 'fundamental': 1988, 'catalan': 847, 'secede': 4065, '2017': 63, 'storing': 4345, 'fine': 1876, '269': 86, 'doesnt': 1482, 'hates': 2181, 'secretive': 4069, 'finally': 1870, 'gotten': 2077, 'feared': 1821, 'g7': 1997, 'fuel': 1979, 'tory': 4601, 'increasing': 2378, 'handouts': 2163, 'majors': 2793, 'copy': 1148, 'culture': 1230, 'embattled': 1626, 'criminals': 1212, 'stronghold': 4361, 'raqqa': 3726, 'dalai': 1254, 'lama': 2621, 'solve': 4228, 'prayers': 3516, 'praying': 3517, 'god': 2061, 'illogical': 2338, 'expect': 1738, 'buddha': 741, 'explosions': 1753, 'saint': 3995, 'ringleader': 3923, 'steady': 4316, 'doses': 1503, 'amphetamine': 351, 'captagon': 814, 'num': 3157, 'reckless': 3752, 'abandon': 185, 'psychosis': 3657, 'accomplices': 220, 'upgrade': 4774, 'alert': 318, 'met': 2917, 'reduction': 3771, 'amnesty': 348, 'chronic': 943, 'labour': 2616, 'chosen': 935, 'issues': 2509, 'possessing': 3488, 'obsolete': 3174, 'favor': 1815, 'sunni': 4413, 'resort': 3870, 'producers': 3583, 'implausible': 2355, '29': 94, 'precision': 3522, 'guided': 2130, 'comes': 1023, 'indiscriminately': 2391, 'benefit': 592, 'economy': 1572, 'valls': 4805, 'added': 248, 'elects': 1611, 'councillors': 1169, 'lexmark': 2689, 'term': 4521, 'increased': 2377, 'pesos': 3377, '120': 19, 'schkreli': 4038, '5000': 127, 'models': 2982, 'note': 3152, 'sepp': 4096, 'blatter': 640, 'uefa': 4714, 'boss': 688, 'michel': 2928, 'platini': 3433, 'suspended': 4443, 'related': 3804, 'ethics': 1695, 'spacexs': 4248, 'falcon': 1795, 'upright': 4777, 'teens': 4509, 'adults': 262, 'babies': 512, 'mosquito': 3014, 'borne': 686, 'teach': 4495, '196': 44, 'thwarts': 4564, 'tech': 4501, 'notify': 3153, 'corp': 1155, 'outlook': 3254, 'email': 1620, 'ties': 4570, 'execution': 1725, 'shia': 4134, 'encryption': 1645, 'condemns': 1078, 'backdoors': 514, 'stock': 4331, 'min': 2951, 'loss': 2757, 'cologne': 1012, 'hamburg': 2160, 'zrich': 5054, 'salzburg': 4004, 'helsinki': 2213, 'nye': 3162, 'festivities': 1844, 'el': 1601, 'chapo': 897, 'arak': 412, 'reactor': 3736, 'fills': 1860, 'obligations': 3169, 'december': 1293, '2003': 54, 'heard': 2196, 'indonesian': 2393, 'jakarta': 2519, 'postwar': 3500, '933': 178, '127m': 20, 'teenage': 4506, '65yo': 145, 'destroys': 1388, 'assyrian': 462, 'monastery': 2992, 'stood': 4339, 'ninth': 3136, 'neptunebut': 3107, 'unseenorbits': 4764, 'danish': 1262, 'pork': 3480, 'menus': 2906, 'daycare': 1273, 'insisting': 2426, 'necessary': 3089, 'preserving': 3538, 'traditions': 4622, 'travel': 4646, 'causing': 856, 'unusually': 4769, 'swept': 4454, 'lanka': 2628, 'complicity': 1062, 'conducted': 1082, 'civilian': 959, 'violation': 4847, 'encrypted': 1644, 'plotting': 3442, 'literacy': 2725, 'oecd': 3184, 'speaking': 4254, 'immigrant': 2347, 'acquaintance': 231, 'fptp': 1956, 'suited': 4407, 'fledgling': 1897, 'democracies': 1348, 'mature': 2862, 'fundamentally': 1989, 'flawed': 1896, 'resisted': 3869, 'device': 1403, 'hydrogen': 2307, 'throwing': 4558, 'charities': 906, 'denmarks': 1362, 'copenhagen': 1145, 'meant': 2875, 'capture': 816, 'satellite': 4014, 'tumbling': 4687, 'orbit': 3230, 'incapable': 2365, 'useful': 4793, 'placing': 3416, 'superman': 4416, 'gravitational': 2093, 'holes': 2249, 'detected': 1396, 'iceberg': 2314, 'renders': 3828, 'colony': 1015, 'landlocked': 2626, 'faced': 1780, 'cash': 841, 'caliphate': 776, 'slashed': 4200, 'salaries': 4000, 'utility': 4799, 'releasing': 3813, 'detainees': 1395, 'colombian': 1014, 'drain': 1513, 'pipes': 3405, 'yield': 5035, 'dismembered': 1449, 'corpses': 1159, '88': 170, 'publishes': 3663, 'bugged': 745, 'meetings': 2891, 'ki': 2578, 'netanyahu': 3110, 'ministers': 2960, 'discussing': 1444, 'lines': 2716, 'wto': 5022, 'sarkozy': 4012, 'choosing': 932, 'suez': 4396, 'canal': 795, 'billionaires': 612, '770': 161, 'voter': 4869, 'register': 3792, 'registration': 3794, 'critics': 1215, 'tories': 4599, 'atheist': 467, 'layoffs': 2652, 'lose': 2754, 'injected': 2414, 'stimulate': 4328, 'immune': 2350, 'tumours': 4689, 'short': 4148, 'depictions': 1368, 'adultery': 260, 'stands': 4301, 'cleavage': 976, 'reincarnation': 3799, 'peruvian': 3375, 'central': 873, 'polluted': 3466, 'preventive': 3548, 'create': 1197, 'basis': 556, 'iphone': 2481, 'microphones': 2932, 'wiring': 4981, 'submarine': 4379, 'needy': 3094, 'hosting': 2274, 'bribes': 716, 'dept': 1375, 'committing': 1036, 'secrecy': 4067, 'profoundly': 3596, 'read': 3738, 'salah': 3998, 'abdeslam': 190, 'falling': 1797, 'recognises': 3755, '333': 104, 'females': 1838, 'aerial': 267, 'shown': 4158, '95': 179, 'bleached': 643, 'corals': 1152, 'egyptair': 1597, 'alexandria': 320, 'hijacked': 2230, 'massively': 2855, 'int': 2439, 'squalid': 4287, 'recruitment': 3764, 'wages': 4878, 'withheld': 4983, 'tournament': 4609, 'abuses': 209, 'deletes': 1340, 'canary': 796, 'terabyte': 4520, 'leak': 2659, 'panamanian': 3293, 'shell': 4130, 'asset': 457, 'management': 2811, 'manages': 2814, 'estates': 1691, 'fraudsters': 1963, 'smugglers': 4213, 'celebrities': 863, 'professional': 3588, 'athletes': 470, 'personally': 3371, 'intervened': 2457, 'trusts': 4680, 'stake': 4295, 'ian': 2311, 'investors': 2475, 'managing': 2815, 'assets': 458, 'meat': 2879, 'poultry': 3504, 'stewards': 4325, 'refuse': 3785, 'breakthrough': 711, 'starshot': 4304, 'accelerate': 213, 'probes': 3577, 'alpha': 332, 'centauri': 870, 'strips': 4357, 'investigators': 2473, 'youths': 5043, 'bus': 759, 'commission': 1029, 'impeach': 2354, 'dilma': 1424, 'rousseff': 3959, 'poo': 3470, 'poos': 3474, 'boaty': 664, 'mcboatface': 2868, 'christen': 937, 'bluefin': 660, '97': 182, 'overfishing': 3258, 'memo': 2899, 'certificate': 881, 'operative': 3221, 'envelope': 1671, 'dc': 1277, 'decriminalize': 1314, 'insulting': 2437, 'suffered': 4398, 'provided': 3645, 'abducted': 192, 'wards': 4894, '4g': 124, 'airstrike': 308, 'aleppo': 317, 'puerto': 3665, 'rico': 3915, 'partners': 3322, 'irreversible': 2493, 'control': 1130, 'affordable': 269, 'wildfire': 4965, 'fort': 1943, 'mcmurray': 2871, 'evacuated': 1703, 'spend': 4264, 'tesla': 4531, 'educating': 1584, 'countering': 1174, 'lobbys': 2735, 'influence': 2403, 'justification': 2563, 'abolition': 199, 'recognise': 3753, 'demanding': 1346, 'surrounds': 4432, 'lifted': 2709, 'papers': 3298, 'frauds': 1962, 'disobeying': 1452, 'speaker': 4252, 'mossack': 3015, 'fonseca': 1916, '54': 129, 'commonly': 1038, 'hypertension': 2309, 'diabetes': 1406, 'heart': 2198, 'disorders': 1454, 'chilling': 924, 'diplomat': 1426, 'commissions': 1031, 'hijackers': 2231, 'headscarves': 2193, 'circling': 950, '000th': 5, 'pave': 3341, 'ms804': 3034, 'disappears': 1436, 'radar': 3702, 'linkedin': 2719, 'compromised': 1066, 'lodged': 2742, 'complaint': 1056, 'employee': 1632, 'colombia': 1013, 'adidas': 252, 'shoe': 4143, 'manufacture': 2826, 'automated': 500, 'relying': 3818, 'asia': 446, 'aristotle': 424, 'popular': 3476, 'diving': 1468, 'slow': 4205, 'bleaching': 644, 'shun': 4161, 'tourism': 4606, 'reference': 3774, 'removed': 3825, 'intervention': 2458, 'cu': 1225, 'freezer': 1968, 'thai': 4539, 'temple': 4517, 'trafficking': 4624, 'bear': 563, 'inhabited': 2411, 'abandoned': 186, 'punishment': 3672, 'blacklist': 626, 'accuse': 225, 'flip': 1903, 'flopping': 1904, 'vandals': 4812, 'artworks': 443, 'tasmania': 4489, 'priceless': 3553, 'rock': 3940, 'art': 438, 'damaged': 1256, 'repair': 3834, 'extortion': 1765, 'drugged': 1535, 'upscale': 4780, 'nightclu': 3131, 'doha': 1483, 'wedlock': 4929, 'qatari': 3689, 'beatings': 567, 'decriminalisation': 1310, 'fails': 1791, 'illicit': 2336, 'punishing': 3671, 'cox': 1191, 'staggering': 4294, '87': 169, 'venezuelans': 4825, 'athlete': 469, 'competed': 1054, 'paralympic': 3301, 'games': 2005, 'gunpoint': 2136, 'janeiro': 2522, 'liesl': 2704, 'tesch': 4530, 'brandishing': 700, 'bicycle': 606, 'decides': 1296, 'referendum': 3776, 'barclays': 547, 'rbs': 3732, 'trading': 4621, 'tanking': 4479, 'supporting': 4424, 'istanbul': 2510, 'jamaica': 2520, 'dispensers': 1455, 'airports': 307, 'legalisation': 2674, 'kiosks': 2597, 'desks': 1382, 'ounces': 3248, '117': 17, 'later': 2637, 'trinidad': 4667, 'alvarez': 335, 'lira': 2722, 'waited': 4880, '1898': 40}\n"
     ]
    }
   ],
   "source": [
    "# This is my bag of words based on the word count in the respective document, takes an array of texts and counts its words\n",
    "bagX_test=vectorizer.fit_transform(X_test)\n",
    "print(vectorizer.vocabulary_)\n"
   ]
  },
  {
   "cell_type": "code",
   "execution_count": 75,
   "metadata": {},
   "outputs": [
    {
     "name": "stdout",
     "output_type": "stream",
     "text": [
      "{'georgia': 1907, 'downs': 1439, 'russian': 3759, 'warplanes': 4654, 'countries': 1092, 'brink': 671, 'war': 4647, 'wont': 4748, 'america': 284, 'nato': 2914, 'help': 2067, 'did': 1336, 'iraq': 2343, 'remember': 3617, 'adorable': 205, 'year': 4784, 'old': 3023, 'sang': 3790, 'opening': 3034, 'ceremonies': 834, 'fake': 1679, 'refuses': 3583, 'israel': 2358, 'weapons': 4682, 'attack': 400, 'iran': 2340, 'report': 3639, 'experts': 1636, 'admit': 201, 'legalise': 2536, 'drugs': 1464, 'mom': 2837, 'missing': 2820, 'gay': 1894, 'man': 2693, 'bad': 453, '21': 61, 'cheerleader': 857, 'looking': 2632, 'afghan': 221, 'prison': 3364, 'majority': 2678, 'female': 1722, 'prisoners': 3366, 'serving': 3897, '20': 49, 'sentences': 3886, 'victims': 4585, 'rape': 3510, 'arrested': 361, 'locked': 2618, 'hours': 2145, 'taking': 4266, 'photo': 3210, 'police': 3281, 'van': 4564, 'ignoring': 2188, 'entry': 1567, 'sign': 3960, 'elderly': 1516, 'chinese': 869, 'women': 4744, 'sentenced': 3885, 'education': 1502, 'labor': 2476, 'sought': 4040, 'permit': 3190, 'demonstrate': 1285, 'official': 3015, 'olympic': 3026, 'protest': 3420, 'area': 342, 'british': 674, 'resident': 3662, 'held': 2061, 'guantanamo': 1990, 'bay': 494, 'wins': 4731, 'legal': 2535, 'battle': 493, 'force': 1809, 'foreign': 1813, 'office': 3012, 'reveal': 3690, 'torture': 4390, 'evidence': 1601, 'syria': 4253, 'says': 3809, 'ready': 3534, 'missile': 2819, 'soil': 4022, 'counterweight': 1091, 'plans': 3257, 'deploy': 1300, 'shield': 3924, 'poland': 3280, 'czech': 1175, 'republic': 3649, 'korea': 2465, 'kim': 2452, 'died': 1340, '2003': 52, 'replaced': 3636, 'lookalike': 2631, 'waseda': 4661, 'professor': 3384, 'north': 2963, 'halts': 2014, 'denuclearisation': 1296, 'fails': 1677, 'remove': 3621, 'list': 2599, 'states': 4120, 'sponsoring': 4078, 'terrorism': 4321, 'photos': 3216, '15': 21, 'iraqi': 2344, 'suicide': 4196, 'bomber': 604, 'gave': 1893, 'military': 2794, 'declaration': 1235, 'moscow': 2858, 'prime': 3360, 'minister': 2807, 'vladimir': 4619, 'putin': 3464, 'accused': 171, 'provoking': 3436, 'conflict': 1018, 'possibly': 3306, 'domestic': 1419, 'election': 1518, 'purposes': 3459, 'girl': 1919, 'filmed': 1749, 'israeli': 2359, 'soldiers': 4026, 'brutality': 690, 'family': 1689, 'victim': 4584, 'revenge': 3695, 'attacks': 402, 'legalization': 2537, 'marijuana': 2710, 'majour': 2679, 'steps': 4129, 'right': 3712, 'direction': 1358, 'security': 3861, 'guards': 1993, 'beat': 504, 'soccer': 4017, 'football': 1805, 'game': 1883, 'fans': 1694, 'players': 3264, 'charge': 848, 'field': 1731, 'jordan': 2402, 'honor': 2122, 'killings': 2450, 'murdered': 2886, 'reasons': 3539, 'caught': 807, 'guilty': 1996, 'claim': 900, 'killing': 2449, 'obtain': 2996, 'lenient': 2546, 'sentencing': 3887, 'french': 1845, 'judge': 2410, 'ordered': 3054, 'branches': 642, 'scientologists': 3835, 'leaders': 2517, 'stand': 4106, 'trial': 4429, 'fraud': 1839, 'love': 2646, 'world': 4755, 'thai': 4331, 'samak': 3785, 'sundaravej': 4201, 'forced': 1810, 'resign': 3664, 'court': 1098, 'said': 3774, 'violated': 4604, 'constitution': 1036, 'hosting': 2139, 'cooking': 1063, 'seriously': 3891, 'dutch': 1469, 'ban': 464, 'burkas': 712, 'picking': 3223, 'children': 864, 'school': 3826, 'american': 285, 'intelligence': 2302, 'confirms': 1016, 'latest': 2499, 'actions': 185, 'south': 4044, 'ossetia': 3069, 'started': 4114, 'russias': 3761, 'position': 3303, 'correct': 1078, 'opec': 3031, 'finished': 1765, 'saudi': 3798, 'arabia': 338, 'later': 2498, 'saakashvili': 3763, 'lie': 2570, 'west': 4700, 'begins': 512, 'doubt': 1432, 'georgian': 1908, 'leader': 2516, 'pakistani': 3109, 'tribesmen': 4431, 'representing': 3647, 'half': 2013, 'million': 2797, 'people': 3180, 'vowed': 4632, 'switch': 4247, 'sides': 3956, 'amp': 292, 'join': 2396, 'taliban': 4267, 'americans': 286, 'don': 1420, 'stop': 4140, 'raids': 3492, 'pakistan': 3108, 'embassy': 1531, 'yemen': 4787, 'leaves': 2528, '16': 24, 'dead': 1212, '200': 50, 'babies': 445, 'sick': 3955, 'milk': 2796, 'scandal': 3812, 'spreading': 4086, 'brits': 675, 'short': 3944, 'selling': 3872, 'financial': 1756, 'stocks': 4133, 'navy': 2917, 'sails': 3777, 'venezuela': 4574, '13': 16, 'billion': 550, 'money': 2841, 'allocated': 268, 'reconstruction': 3558, 'projects': 3396, 'wasted': 4668, 'stolen': 4135, 'ending': 1548, 'al': 257, 'qaedas': 3472, 'coffers': 938, 'empire': 1537, 'near': 2921, 'collapse': 940, 'woman': 4743, 'red': 3565, 'handed': 2022, 'drinking': 1453, 'orange': 3051, 'juice': 2412, 'dubai': 1465, 'japanese': 2379, 'space': 4050, 'tourist': 4397, 'paid': 3103, 'adventures': 211, '21m': 63, 'iss': 2362, 'bumped': 706, 'sent': 3883, 'investors': 2333, 'instead': 2289, 'kept': 2432, 'power': 3320, 'nightmares': 2954, 'bbc': 496, 'gorbachev': 1944, 'forms': 1822, 'new': 2937, 'party': 3140, 'opposing': 3047, 'fucking': 1857, 'hell': 2063, 'great': 1966, 'britain': 673, '2008': 54, 've': 4568, 'soweto': 4049, 'seen': 3866, 'aids': 246, 'orphans': 3065, 'eating': 1486, 'better': 540, 'mexican': 2783, 'farm': 1696, 'dies': 1341, 'lighting': 2580, 'strikes': 4159, 'kill': 2446, 'iceland': 2173, 'sept': 3888, '08': 3, 'best': 536, 'country': 1093, 'live': 2608, '07': 2, 'oct': 3005, 'food': 1802, 'hoarding': 2095, 'currency': 1164, 'rated': 3516, 'just': 2419, 'zimbabwe': 4804, 'russia': 3758, 'won': 4745, 'buy': 725, 'version': 4576, 'fine': 1759, '11': 12, 'modern': 2831, 'slavery': 3997, 'bush': 722, 'administration': 199, 'month': 2846, 'quietly': 3481, 'cutting': 1172, 'birth': 556, 'control': 1058, 'supplies': 4207, 'worlds': 4756, 'poorest': 3293, 'africa': 224, 'icelandic': 2174, 'isk': 2349, 'loses': 2637, '73': 121, 'value': 4562, 'single': 3975, 'day': 1207, 'yesterday': 4791, 'usd': 4547, '92': 139, 'today': 4371, '418': 95, 'eu': 1588, 'bans': 478, 'incandescent': 2222, 'light': 2578, 'bul': 699, 'lawyer': 2511, 'defended': 1256, 'journalists': 2407, 'poisoned': 3278, 'france': 1835, 'behalf': 514, '64': 115, 'canadians': 761, 'vote': 4628, 'conservative': 1026, 'government': 1950, 'apologize': 317, 'weeks': 4693, 'podium': 3275, 'coke': 939, 'dealers': 1217, 'badass': 454, 'house': 2146, 'private': 3368, 'zoo': 4806, 'freedoms': 1842, 'threat': 4348, 'big': 544, 'brother': 684, 'state': 4118, 'warns': 4653, 'director': 1361, 'public': 3439, 'prosecutions': 3413, 'falls': 1685, '119th': 13, '160': 25, 'ranked': 3509, 'press': 3346, 'outside': 3082, 'territory': 4319, 'reporters': 3643, 'borders': 618, 'argentina': 344, 'nationalizes': 2911, 'pensions': 3178, 'acknowledges': 178, 'enormous': 1557, 'error': 1579, 'takes': 4265, 'action': 184, 'protect': 3418, 'workers': 4752, 'retirees': 3686, 'banks': 474, 'formally': 1821, 'renews': 3628, 'ties': 4361, 'cuba': 1152, 'rampant': 3504, 'committed': 969, 'crimes': 1126, 'finnish': 1768, 'voting': 4631, 'votes': 4630, 'paper': 3117, 'trail': 4409, 'know': 2460, 'got': 1947, 'worry': 4759, 'wanted': 4645, 'shine': 3928, 'australian': 418, 'friends': 1849, 'potential': 3314, 'internet': 2314, 'filter': 1751, 'problem': 3373, 'let': 2551, 'spotlight': 4081, 'reply': 3638, 'ends': 1550, 'bilingual': 548, 'road': 3728, 'wales': 4639, 'ask': 373, 'camera': 748, 'license': 2567, 'mp': 2870, 'receive': 3545, 'copy': 1069, 'orwell': 3067, 'nineteen': 2955, 'eighty': 1513, 'kenya': 2430, 'declares': 1237, 'holiday': 2102, 'obama': 2990, 'london': 2624, 'smokers': 4009, 'banned': 475, 'fostering': 1826, 'wait': 4637, 'id': 2175, 'cards': 780, 'wtf': 4773, 'indifferent': 2241, 'scheme': 3822, 'actually': 190, 'want': 4644, 'card': 779, 'uk': 4482, 'asks': 375, 'media': 2749, 'release': 3605, 'iaea': 2171, 'documents': 1411, 'linking': 2595, 'nuclear': 2979, 'push': 3461, 'fabricated': 1664, 'sudan': 4184, 'president': 3344, 'announced': 303, 'immediate': 2202, 'ceasefire': 815, 'darfur': 1193, 'stupid': 4174, 'believing': 524, 'witchcraft': 4737, 'work': 4751, 'harder': 2034, 'recoup': 3563, 'note': 2970, 'left': 2533, 'pyramid': 3468, 'operators': 3038, 'taunt': 4283, 'angry': 298, 'good': 1942, 'going': 1939, 'hang': 2026, 'balls': 463, 'hanged': 2027, 'saddam': 3770, 'hussein': 2168, 'sarkozy': 3793, 'yes': 4790, 'end': 1545, 'like': 2583, 'point': 3276, 'haitians': 2011, 'desperate': 1312, 'mothers': 2860, 'newborns': 2938, 'infants': 2260, 'die': 1339, 'malnourishment': 2692, 'india': 2238, 'sinks': 3979, 'somali': 4031, 'pirate': 3242, 'ship': 3929, 'ignored': 2187, 'g20': 1870, 'meeting': 2756, 'denmark': 1295, 'considers': 1031, 'outlawing': 3077, 'male': 2688, 'circumcision': 886, 'minors': 2811, 'swiss': 4246, 'army': 358, 'vegetarians': 4570, 'fighting': 1737, 'boycott': 634, 'tasers': 4282, 'cause': 808, 'fear': 1711, 'damage': 1181, 'confidence': 1014, 'rip': 3719, 'brenden': 658, 'foster': 1825, 'wish': 4736, 'feed': 1717, 'homeless': 2108, 'updates': 4533, 'mumbai': 2884, 'blasts': 576, 'photographer': 3213, 'gun': 1999, 'armed': 352, 'make': 2680, 'offence': 3006, 'punishable': 3450, 'years': 4785, 'imprisonment': 2218, 'publish': 3441, 'elicit': 1524, 'information': 2267, 'constable': 1035, 'brazil': 645, 'announces': 304, 'plan': 3253, 'slow': 4002, 'amazon': 280, 'deforestation': 1265, '70': 119, 'fell': 1720, 'assassin': 382, 'canadian': 760, 'conservatives': 1027, 'suspend': 4230, 'parliament': 3129, 'avoid': 432, 'facing': 1672, 'non': 2960, 'false': 1686, 'flag': 1784, 'men': 2768, 'illegally': 2193, 'buying': 726, 'mobile': 2829, 'phone': 3207, 'used': 4549, 'gunmen': 2000, 'counter': 1087, 'insurgency': 2296, 'officer': 3013, 'gets': 1911, 'kiss': 2456, 'deaf': 1215, 'canada': 759, 'wal': 4638, 'mart': 2721, 'tries': 4433, 'prevent': 3349, 'employee': 1538, 'unionization': 4516, 'supreme': 4215, 'escapee': 1581, 'tells': 4307, 'horrors': 2132, 'korean': 2466, 'camp': 752, 'unrest': 4528, 'gripped': 1979, 'greece': 1969, 'spilling': 4073, 'rest': 3675, 'europe': 1591, 'raising': 3497, 'concerns': 1000, 'clashes': 906, 'trigger': 4434, 'opponents': 3042, 'globalization': 1931, 'disaffected': 1364, 'youth': 4797, 'mugabe': 2877, 'arrest': 360, 'charges': 850, 'jaw': 2382, 'dropped': 1459, 'face': 1666, 'contorted': 1054, 'turks': 4463, 'armenian': 353, 'massacres': 2726, 'shoe': 3936, 'thrower': 4353, 'faces': 1668, '7yrs': 127, 'offending': 3008, 'head': 2047, 'applauds': 327, 'ing': 2271, 'uses': 4552, 'molotov': 2836, 'cocktails': 935, 'fight': 1735, 'pirates': 3244, 'scientist': 3832, 'repeat': 3632, '1962': 37, 'milgram': 2793, 'test': 4325, '80': 128, 'told': 4372, 'authority': 423, 'figure': 1739, 'learned': 2523, 'threatened': 4349, 'anti': 310, 'act': 181, 'videoing': 4589, 'performing': 3187, 'search': 3849, 'express': 1647, '39': 90, 'capital': 771, 'discover': 1373, 'lets': 2552, 'intrest': 2321, 'rate': 3515, '22': 64, '99': 144, 'compounded': 990, 'monthly': 2847, 'late': 2497, 'fee': 1716, 'earth': 1479, 'city': 894, 'shipbreakers': 3930, '120': 15, 'reportedly': 3641, 'killed': 2447, 'gaza': 1896, 'entire': 1564, 'apt': 336, 'building': 696, 'civilians': 897, 'union': 4515, 'activist': 187, 'eye': 1660, 'acid': 176, 'supporters': 4210, 'blockade': 580, 'company': 979, 'riot': 3715, 'run': 3751, 'leaving': 2529, 'shields': 3925, 'helmets': 2066, 'shoes': 3937, 'pleads': 3266, 'acting': 183, 'spy': 4089, 'australia': 417, 'request': 3652, 'detainees': 1322, 'palestine': 3111, 'stands': 4108, 'soldier': 4025, 'true': 4446, 'lied': 2571, 'vatican': 4567, 'giant': 1916, 'concentration': 996, 'time': 4365, 'video': 4588, 'didn': 1337, 'hinders': 2085, 'arms': 357, 'delivery': 1275, 'headquarters': 2048, 'hit': 2090, 'white': 4709, 'phosphorus': 3209, 'shells': 3921, 'reveals': 3693, 'worst': 4761, 'sins': 3980, 'desecrating': 1306, 'eucharist': 1589, 'outranks': 3081, 'genocide': 1905, 'farmers': 1698, 'beginning': 511, 'feel': 1718, 'sting': 4132, 'worldwide': 4757, 'officers': 3014, 'warned': 4651, 'traveling': 4421, 'danger': 1186, 'huh': 2156, 'nytimes': 2988, 'publishes': 3443, 'op': 3030, 'ed': 1496, 'libyan': 2566, 'muammar': 2874, 'qaddafi': 3470, 'strangely': 4149, 'makes': 2683, 'sense': 3880, 'solution': 4029, 'bailout': 459, 'russians': 3760, 'cheaper': 854, 'vodka': 4620, 'cut': 1170, 'alcohol': 260, 'taxes': 4285, 'ease': 1481, 'citizens': 893, 'pain': 3104, 'human': 2157, 'rights': 3713, 'richard': 3706, 'falk': 1681, 'jewish': 2388, 'evokes': 1603, 'memories': 2767, 'warsaw': 4659, 'ghetto': 1913, 'dismisses': 1386, 'argument': 348, 'assault': 385, 'self': 3870, 'defense': 1258, 'labels': 2475, 'hater': 2044, 'david': 1204, 'attenborough': 406, 'creationist': 1118, 'hate': 2043, 'mail': 2672, 'crediting': 1121, 'god': 1936, 'dear': 1220, 'reddit': 3567, 'attention': 409, 'humanitarian': 2158, 'crisis': 1133, 'democratic': 1282, 'congo': 1019, 'taken': 4264, 'lives': 2610, '1998': 45, 'continue': 1051, 'leave': 2527, '45': 101, '000': 0, 'deep': 1247, 'doo': 1427, 'picture': 3225, 'students': 4169, 'bombings': 606, 'mention': 2770, 'names': 2904, 'ages': 231, 'anymore': 313, 'blame': 569, 'protester': 3422, 'thrown': 4354, 'wen': 4697, 'jiabao': 2390, 'speech': 4065, 'cambridge': 746, 'university': 4522, 'called': 741, 'dictator': 1334, 'admits': 202, 'peace': 3166, 'doctor': 1405, 'daughters': 1203, 'tank': 4274, 'claims': 903, 'reasonable': 3538, 'shocked': 3934, 'moral': 2850, 'girls': 1920, 'pu': 3438, 'lords': 2635, 'surveillance': 4223, 'greatest': 1968, 'democracy': 1281, 'hitler': 2092, 'shortly': 3945, 'fires': 1770, 'pregnant': 3336, 'gang': 1884, '100': 5, 'lashes': 2496, 'committing': 971, 'adultery': 209, 'christians': 878, 'jerusalem': 2387, 'jews': 2389, 'spitting': 4075, 'teenage': 4298, 'thief': 4338, 'picked': 3222, 'wrong': 4770, 'tried': 4432, 'bag': 455, 'belonging': 526, 'pensioner': 3176, 'jean': 2384, 'hirst': 2087, 'championship': 839, 'sprinter': 4088, 'dude': 1467, 'send': 3876, 'veterans': 4580, 'hunt': 2164, 'win': 4727, 'wasn': 4666, 'godly': 1937, 'sniper': 4013, 'shot': 3946, 'running': 3753, 'trees': 4427, 'smoke': 4008, 'mexico': 2785, 'discovered': 1374, 'oil': 3021, 'times': 4367, 'present': 3341, 'known': 2462, 'reserves': 3660, 'saudis': 3799, 'goes': 1938, 'electric': 1521, 'vehicle': 4571, 'progress': 3392, 'extremists': 1659, 'criminalising': 1128, 'legitimate': 2544, 'dissent': 1390, 'guise': 1997, 'extremism': 1657, 'word': 4749, 'definition': 1264, 'seized': 3869, '425': 97, 'acres': 180, 'palestinian': 3112, 'land': 2487, 'build': 695, 'settlement': 3901, '2500': 71, 'homes': 2112, 'interested': 2308, 'graph': 1962, 'historic': 2088, 'collapses': 941, 'puts': 3465, 'current': 1165, 'perspective': 3198, 'legalize': 2538, 'ammiano': 288, 'introduce': 2322, 'legislation': 2543, 'monday': 2840, 'allow': 269, 'pot': 3312, 'tax': 4284, 'bono': 612, 'african': 225, 'aid': 244, 'survives': 4226, '10': 4, 'days': 1209, 'ski': 3986, 'mountain': 2863, 'spouse': 4083, 'rescue': 3657, 'teams': 4293, 'began': 509, 'ground': 1981, 'searches': 3850, 'tuesday': 4455, 'despite': 1313, 'helicopter': 2062, 'pilots': 3235, 'twice': 4470, 'reporting': 3644, 'saw': 3806, 'sos': 4039, 'symbol': 4250, 'carved': 791, 'snow': 4016, 'blocks': 583, 'pasta': 3152, 'shipment': 3931, 'piece': 3227, 'macaroni': 2664, 'united': 4519, 'decided': 1231, 'upcoming': 4532, 'conference': 1012, 'racism': 3485, 'unless': 4524, 'final': 1753, 'document': 1407, 'changed': 842, 'drop': 1458, 'references': 3575, 'night': 2953, 'asteroid': 393, 'ago': 234, 'size': 3985, 'story': 4146, 'moving': 2869, '12': 14, 'miles': 2792, 'second': 3852, 'buzzed': 728, 'pass': 3141, 'distance': 1393, 'moon': 2849, 'luck': 2654, 'bigoted': 547, 'parents': 3125, 'disabled': 1363, 'telly': 4308, 'say': 3807, 'mandatory': 2699, 'jail': 2371, 'terms': 4315, 'economist': 1489, 'disaster': 1368, 'policy': 3284, 'jong': 2401, 'il': 2191, 'news': 2940, 'koreans': 2467, 'camps': 756, 'net': 2929, 'neutrality': 2935, 'guys': 2002, 'mps': 2871, 'jailed': 2372, 'offensive': 3009, 'hamas': 2017, 'ruled': 3747, 'strip': 4161, '434': 98, 'including': 2227, '960': 142, '239': 67, '235': 66, 'fighters': 1736, 'ara': 337, 'wailing': 4636, 'stricken': 4155, 'graphic': 1963, 'shooting': 3939, '37': 88, 'californian': 740, 'nonviolent': 2961, 'protests': 3425, 'hello': 2064, 'wikileaks': 4719, 'huge': 2154, 'bank': 469, 'gags': 1877, 'newspaper': 2941, 'revealing': 3692, 'multi': 2880, 'pound': 3316, 'rort': 3737, 'adds': 197, 'website': 4688, 'scenes': 3820, 'recession': 3551, 'crowded': 1145, 'civilian': 896, 'sorts': 4038, 'away': 440, 'terrified': 4317, 'pic': 3219, 'tshirt': 4453, 'way': 4678, 'doesnt': 1414, 'ironic': 2348, 'thousands': 4347, 'cctv': 813, 'cameras': 750, 'shut': 3952, 'google': 1943, 'street': 4153, 'view': 4593, 'privacy': 3367, 'china': 868, 'youtube': 4798, 'drug': 1462, 'pics': 3224, 'defamation': 1251, 'religion': 3611, 'violation': 4606, 'machine': 2665, 'overdrive': 3085, 'shoot': 3938, 'kids': 2444, 'went': 4698, 'warning': 4652, 'shots': 3947, 'exaggerated': 1607, 'does': 1412, 'think': 4341, 'anybody': 312, 'buys': 727, 'crap': 1110, 'western': 4701, 'censorship': 825, 'll': 2614, 'morbidly': 2852, 'absurd': 154, 'prosecution': 3412, 'child': 863, 'pornography': 3301, 'laws': 2509, 'possible': 3305, 'palin': 3114, 'spaniards': 4052, 'grateful': 1964, 'reilly': 3600, 'promising': 3399, 'visit': 4615, 'spain': 4051, 'mideastern': 2790, 'nation': 2909, 'photoshops': 3217, 'photograph': 3211, 'cabinet': 731, 'dark': 1194, 'calderon': 738, 'impossible': 2216, 'tons': 4380, 'complicity': 987, 'authorities': 422, 'protesters': 3423, 'tibet': 4359, 'death': 1222, 'film': 1748, 'maker': 2681, 'sir': 3981, 'patron': 3159, 'group': 1982, 'seeking': 3864, 'growth': 1987, 'population': 3298, 'overfishing': 3086, 'wipe': 4733, 'bluefin': 590, 'tuna': 4456, 'wwf': 4775, 'monsanto': 2845, 'uprooted': 4538, 'germany': 1910, 'cultivation': 1155, 'gm': 1934, 'corn': 1073, 'deleting': 1272, 'tourists': 4398, 'photographing': 3214, 'transport': 4417, 'strictly': 4157, 'forbidden': 1807, 'poll': 3289, '60': 110, 'swedes': 4242, 'showed': 3949, '89': 135, 'cent': 827, 'believed': 523, 'founders': 1830, 'acquitted': 179, 'decides': 1232, 'museum': 2893, 'tolerance': 4374, 'atop': 398, 'muslim': 2895, 'cemetery': 822, 'redditors': 3568, 'awarded': 437, 'homo': 2115, 'heroes': 2071, 'fm': 1798, 'believe': 522, 'accepts': 161, 'decisions': 1234, 'admin': 198, 'forth': 1823, 'initiatives': 2276, 'wants': 4646, 'decide': 1230, '19': 29, 'coward': 1103, 'tent': 4311, 'handcuff': 2020, 'hold': 2098, 'indecently': 2235, 'scene': 3819, 'setting': 3899, 'afghanistan': 222, 'need': 2924, 'understand': 4500, 'waterboarding': 4672, 'outbreak': 3072, 'swine': 4245, 'flu': 1795, 'renamed': 3625, 'influenza': 2265, 'deference': 1259, 'sensitivities': 3882, 'pork': 3299, 'health': 2050, 'muslims': 2896, 'dont': 1426, 'care': 781, 'doesn': 1413, 'speak': 4058, 'everybody': 1598, 'talking': 4269, 'personal': 3197, 'use': 4548, 'breaking': 651, 'royal': 3742, 'car': 777, 'bus': 721, 'high': 2080, 'speed': 4067, 'hits': 2093, 'remarkable': 3615, 'thing': 4339, 'happened': 2029, 'week': 4691, '400': 93, 'fellow': 1721, 'wearing': 4684, 'black': 563, 'solidarity': 4027, 'carrying': 787, 'signs': 3965, 'support': 4209, 'walked': 4641, 'keswick': 2433, 'rally': 3500, 'consider': 1028, 'banning': 477, 'marriage': 2717, '18': 28, 'brazilian': 646, 'cattle': 805, 'ranching': 3506, 'permission': 3189, 'paraguayan': 3120, 'destroy': 1314, 'forest': 1815, 'ayoreo': 444, 'totobiegosode': 4394, 'indians': 2240, 'uncontacted': 4493, 'tribes': 4430, 'biggest': 546, 'sweden': 4241, 'membership': 2765, 'count': 1086, 'tm': 4369, 'shoots': 3940, 'peaceful': 3167, 'protestor': 3424, 'blank': 572, 'idf': 2180, 'intentionally': 2305, 'target': 4278, 'eric': 1578, 'arthur': 365, 'blair': 568, 'aka': 256, 'george': 1906, 'proud': 3426, 'thought': 4345, 'muscle': 2892, 'passes': 3146, 'law': 2508, 'making': 2684, 'illegal': 2192, 'shia': 3923, 'refuse': 3581, 'sex': 3908, 'husband': 2166, 'custody': 1168, 'wonder': 4746, 'doubting': 1433, 'sacrifice': 3768, 'worth': 4762, 'piratebay': 3243, 'launches': 2504, 'wonderful': 4747, 'dimes': 1350, 'swedish': 4243, 'freeze': 1844, 'accounts': 169, 'admins': 200, 'alvaro': 277, 'colom': 948, 'unsung': 4529, 'hero': 2070, 'reason': 3537, 'bulbs': 700, 'moat': 2828, 'cleaning': 912, 'campaigning': 754, 'journalist': 2406, 'heather': 2056, 'brooke': 682, 'spent': 4068, 'tooth': 4383, 'nail': 2900, 'come': 960, 'clean': 911, 'expenses': 1632, 'tamil': 4272, 'tiger': 4362, 'rebels': 3543, 'velupillai': 4573, 'prabhakaran': 3325, 'belgian': 520, 'bodybuilding': 599, 'canceled': 763, 'doping': 1429, 'officials': 3017, 'competitors': 982, 'fled': 1786, 'endemic': 1547, 'abuse': 155, 'irish': 2347, 'catholic': 804, 'inquiry': 2280, 'finds': 1758, 'nigerian': 2951, 'hundreds': 2162, 'maybe': 2738, 'rich': 3705, 'niger': 2950, 'delta': 1276, 'received': 3546, 'little': 2606, 'international': 2312, 'tiananmen': 4358, 'anniversary': 301, 'unimportant': 4513, 'european': 1592, 'shock': 3933, 'politicians': 3288, 'digital': 1346, 'illiterates': 2195, 'fuck': 1855, 'strike': 4158, 'longer': 2628, 'bound': 629, '1953': 35, 'armistice': 355, 'immigrant': 2206, 'cracks': 1109, 'centuries': 831, 'mathematical': 2733, 'puzzle': 3467, 'hidden': 2077, 'massacre': 2725, 'throes': 4351, 'sri': 4094, 'lankan': 2491, 'civil': 895, 'result': 3681, 'shelling': 3920, 'air': 250, 'aircraft': 251, '215': 62, 'disappeared': 1366, 'radar': 3487, 'atlantic': 396, 'ocean': 3003, 'jaqui': 2381, 'smith': 4007, 'finally': 1754, 'small': 4006, 'respite': 3670, 'breathes': 654, 'sigh': 3958, 'relief': 3610, 'june': 2416, '4th': 104, '1989': 41, 'carradine': 785, 'bangkok': 467, 'dearlove': 1221, 'concerned': 999, 'loss': 2639, 'liberties': 2562, 'mi6': 2788, 'striking': 4160, 'disturbing': 1397, 'invasions': 2327, 'enters': 1562, 'torre': 4388, 'cnn': 928, 'teaching': 4290, 'spot': 4080, 'terrorists': 4323, 'olds': 3025, 'urges': 4545, 'tell': 4305, 'teacher': 4289, 'hear': 2052, 'expressing': 1648, 'extremist': 1658, 'views': 4595, 'frank': 1837, 'mcgarahan': 2743, 'beaten': 505, 'stepped': 4127, 'courage': 1097, 'life': 2572, 'darkness': 1195, 'berlusconi': 532, 'decree': 1241, 'wiretapping': 4735, 'justice': 2420, 'freedom': 1841, 'blogs': 584, 'italy': 2366, 'asleep': 376, 'tv': 4468, 'pictures': 3226, 'tehran': 4300, 'delivered': 1274, 'stark': 4112, 'reminder': 3619, 'backward': 451, 'medieval': 2754, 'fanatics': 1693, 'thirds': 4343, '30': 79, 'interests': 2309, 'aspirations': 378, 'counterparts': 1089, 'yall': 4781, 'wanna': 4643, 'feminism': 1723, 'patriotism': 3157, 'iranian': 2341, 'leaked': 2519, 'real': 3535, 'results': 3682, 'interior': 2311, 'ministry': 2809, 'ones': 3028, 'showing': 3950, 'ahmadinejad': 242, 'coming': 962, 'suspicious': 4232, 'accident': 163, '00am': 1, 'posting': 3310, 'vancouver': 4565, 'site': 3982, '2010': 56, 'winter': 4732, 'olympics': 3027, 'seize': 3868, 'warrant': 4655, 'issued': 2364, 'mistaken': 2821, 'grabbed': 1954, 'pinned': 3237, 'arm': 350, 'led': 2531, 'bowels': 632, 'identification': 2177, 'basij': 490, 'bring': 668, 'urgent': 4544, 'basiji': 491, 'footballers': 1806, 'wore': 4750, 'green': 1973, 'armbands': 351, 'retire': 3685, 'hardline': 2035, 'regime': 3587, 'unimaginable': 4512, 'horror': 2131, 'screw': 3845, 'honduras': 2120, 'coup': 1095, 'currently': 1166, 'holding': 2100, 'gtfo': 1989, 'happy': 2031, 'scientology': 3836, 'viral': 4611, 'marketing': 2716, 'uganda': 4478, 'outlaw': 3076, 'friend': 1847, 'email': 1529, 'videos': 4590, 'firing': 1774, 'uploaded': 4536, 'eyewitness': 1662, 'account': 167, 'disappear': 1365, 'falsely': 1687, 'cried': 1124, 'town': 4401, 'sale': 3780, 'bottled': 625, 'water': 4671, 'community': 977, 'ireland': 2345, 'blasphemy': 574, 'passed': 3143, 'wednesday': 4690, '25': 69, 'euro': 1590, 'enter': 1560, 'confiscate': 1017, 'blasphemous': 573, 'materials': 2732, 'books': 615, 'artwork': 370, 'cartoons': 790, 'mohammed': 2833, 'book': 614, 'burnings': 716, 'wars': 4658, 'break': 649, 'bhopal': 541, 'pop': 3294, 'rationed': 3519, 'minutes': 2813, 'supply': 4208, 'indore': 2251, 'hour': 2144, 'seven': 3905, 'line': 2591, 'melting': 2762, 'alps': 275, 'contaminated': 1045, '1984': 39, 'catastrophe': 802, 'scared': 3818, 'dow': 1434, 'chemical': 858, 'management': 2695, 'team': 4291, 'hiding': 2079, 'earthquake': 1480, 'm7': 2663, 'coast': 931, 'island': 2353, 'zealand': 4801, 'tsunami': 4454, 'professional': 3383, 'snipers': 4014, 'brought': 686, 'guard': 1991, 'vulnerable': 4635, 'colony': 953, 'penguins': 3175, 'troops': 4443, 'contractors': 1057, 'caused': 809, 'substantial': 4178, 'archeological': 341, 'babylon': 447, 'considered': 1029, 'civilizations': 898, 'fsm': 1853, 'terrible': 4316, 'sad': 3769, 'mum': 2883, 'hard': 2033, 'read': 3533, 'cell': 819, 'ad': 191, 'shows': 3951, 'friendly': 1848, 'wall': 4642, 'palestinians': 3113, 'kick': 2437, 'ball': 462, 'salvo': 3784, 'tear': 4294, 'gas': 1889, 'grenades': 1976, 'fired': 1769, 'return': 3687, 'includes': 2226, 'lol': 2623, 'jersey': 2386, 'mayors': 2740, 'rabbis': 3483, 'involvement': 2336, 'laundering': 2505, 'conspiracy': 1034, '26': 74, 'documentary': 1409, 'footage': 1804, 'fool': 1803, 'trips': 4440, 'rays': 3525, 'treatment': 4426, 'scourge': 3842, 'scalpal': 3811, 'ringworm': 3714, 'dna': 1403, 'database': 1198, 'convicted': 1062, 'crime': 1125, 'argue': 347, 'innocent': 2278, 'likely': 2584, 'commit': 967, 'future': 1869, 'drags': 1445, 'daughter': 1202, 'faux': 1707, 'detector': 1324, 'radio': 3489, 'skipped': 3988, 'previous': 3353, 'experience': 1633, 'surprised': 4220, 'hasn': 2042, 'higher': 2081, 'scale': 3810, 'bom': 603, 'incredible': 2234, 'bolivia': 602, 'circus': 887, 'animals': 300, 'defines': 1263, 'cruelty': 1149, 'kind': 2453, 'chavez': 853, 'shuts': 3954, '34': 85, 'stations': 4121, 'waves': 4676, 'belong': 525, 'bourgeoisie': 630, 'idol': 2182, 'teenager': 4299, 'revelation': 3694, 'releases': 3607, 'terrorist': 4322, 'sight': 3959, 'supposedly': 4213, 'unhackable': 4508, 'containing': 1044, 'cloned': 921, 'modified': 2832, 'unbelievable': 4489, 'hypocrisy': 2170, 'islamic': 2351, 'preacher': 3332, 'dictatorship': 1335, 'allowed': 270, 'descendants': 1305, 'rats': 3522, 'pigs': 3230, 'elected': 1517, 'islamist': 2352, 'parliamentarian': 3130, 'member': 2763, 'refused': 3582, 'malaysia': 2687, 'brain': 640, 'damaged': 1182, 'nh1n1': 2944, 'masturbation': 2730, 'nhomosexuality': 2946, 'refusal': 3580, 'decrypt': 1246, 'data': 1197, 'message': 2775, 'anonymous': 308, 'living': 2612, 'recently': 3550, 'diagnosed': 1332, 'breast': 653, 'cancer': 766, 'gotten': 1948, 'letter': 2553, 'panels': 3116, 'medical': 2750, 'councils': 1085, 'determine': 1326, 'eligible': 1525, 'percent': 3184, 'coverage': 1102, 'provided': 3431, 'pay': 3161, '635': 113, '85': 133, 'service': 3894, 'compared': 980, '131': 17, '44': 99, 'netherlands': 2930, '137': 18, '94': 140, 'campaign': 753, 'officially': 3016, 'castrating': 798, 'driving': 1456, 'alan': 258, 'turing': 4460, 'helped': 2068, 'nazi': 2918, 'codes': 937, 'revolutionize': 3702, 'computing': 993, 'homosexual': 2116, 'huckabee': 2153, 'room': 3736, 'middle': 2789, 'homeland': 2107, 'able': 149, 'settlements': 3902, 'aipac': 249, '2012': 58, 'checkbooks': 855, 'australians': 419, 'stayed': 4124, 'turns': 4466, 'sleeping': 3999, 'atm': 397, 'cocaine': 934, 'bar': 479, 'guy': 2001, 'haven': 2045, 'learn': 2522, 'effective': 1505, 'decriminalizes': 1244, 'possession': 3304, 'amounts': 291, 'heroin': 2072, 'body': 598, 'trying': 4451, 'plastic': 3261, 'pint': 3238, 'glasses': 1926, 'compulsory': 991, 'nanny': 2905, 'order': 3053, 'consumption': 1042, 'hostage': 2137, 'kills': 2451, 'escapes': 1582, 'courts': 1100, 'blocking': 582, 'youngest': 4796, 'person': 3196, 'sail': 3775, 'apology': 319, 'backlash': 450, 'latin': 2500, 'liberal': 2561, 'prosecutors': 3415, 'cultural': 1156, 'publishing': 3444, 'cartoon': 789, 'suggests': 4195, 'ii': 2189, 'fabrication': 1665, 'chief': 862, 'inspector': 2286, 'calls': 743, 'hyped': 2169, 'darling': 1196, 'aspiration': 377, 'corrupt': 1079, 'grows': 1986, 'changing': 844, 'proudly': 3427, 'secular': 3860, 'combat': 956, 'units': 4520, 'filling': 1747, 'nurse': 2986, 'struck': 4165, 'register': 3591, 'secretly': 3857, 'filming': 1750, 'lack': 2480, 'brighton': 667, 'hospital': 2133, 'nominated': 2959, 'national': 2910, 'award': 436, 'decades': 1228, 'inbreeding': 2221, 'causing': 810, 'immense': 2204, 'suffering': 4189, 'pedigree': 3170, 'dogs': 1416, 'plagued': 3250, 'painful': 3105, 'deadly': 1213, 'genetic': 1902, 'diseases': 1383, 'breeding': 656, 'appearance': 323, 'investigation': 2331, 'starving': 4117, 'virtually': 4613, 'machinery': 2666, 'eaten': 1485, 'livestock': 2611, 'czar': 1174, 'slams': 3991, 'harper': 2039, 'gov': 1949, 'exits': 1624, 'approach': 331, 'utterly': 4556, 'failed': 1675, 'past': 3151, '40': 92, 'emperor': 1536, 'truly': 4447, 'clothes': 925, 'case': 792, 'church': 881, 'dissolved': 1392, 'typo': 4475, 'obscure': 2993, 'voted': 4629, 'explicitly': 1638, 'prevents': 3352, 'richer': 3707, 'wealth': 4680, 'fallen': 1684, 'region': 3589, 'allowing': 271, 'step': 4126, 'plate': 3262, 'richest': 3708, 'continent': 1050, 'promised': 3398, 'wear': 4683, 'lime': 2587, 'dress': 1449, 'funeral': 1867, 'september': 3889, '15th': 23, 'kevin': 2434, 'elliot': 1527, 'promise': 3397, 'young': 4794, 'created': 1114, 'volunteer': 4626, 'patrol': 3158, 'malls': 2691, 'places': 3249, 'interracial': 2316, 'dates': 1201, 'committee': 970, 'cross': 1141, 'access': 162, 'safe': 3772, 'cease': 814, 'november': 2974, '1992': 43, '600': 111, 'scientists': 3833, '104': 9, 'nobel': 2957, 'laureates': 2507, 'endorsed': 1549, 'bride': 664, 'inspires': 2287, 'curfew': 1163, 'extended': 1649, '50': 105, 'brazillian': 647, 'barrios': 486, 'barracaded': 483, 'evicted': 1599, 'fan': 1692, 'armored': 356, 'pittsburgh': 3247, 'campus': 757, 'stopping': 4141, 'anarchists': 294, 'philippine': 3205, 'saving': 3804, 'working': 4753, 'chiquitas': 871, 'plantations': 3259, 'hands': 2025, 'burning': 715, 'inside': 2283, 'rubber': 3743, 'gloves': 1933, '14': 19, 'mess': 2774, 'farmer': 1697, 'holy': 2105, 'roman': 3735, 'nova': 2972, 'scotia': 3839, 'bishop': 559, 'busted': 724, 'ncanadian': 2919, 'airport': 253, 'laptop': 2492, 'porn': 3300, 'nthe': 2978, 'kicker': 2439, 'previously': 3354, 'nhelped': 2945, 'broker': 680, 'nsexually': 2976, 'abused': 156, 'priests': 3359, 'diocese': 1352, 'boy': 633, 'harnessed': 2038, 'wind': 4728, 'malawian': 2686, 'transformed': 4415, 'village': 4597, 'windmills': 4729, 'junk': 2418, 'revolution': 3700, 'regulation': 3596, 'requires': 3655, 'chemicals': 859, 'assessed': 388, 'potentially': 3315, 'toxic': 4402, 'effects': 1506, 'beings': 518, 'environment': 1568, 'signals': 3961, 'industrys': 2254, 'ability': 148, 'withhold': 4739, 'critical': 1134, 'italian': 2365, 'prosecutor': 3414, 'cia': 882, 'kidnapping': 2442, 'grave': 1965, 'cover': 1101, 'energy': 1551, 'utility': 4555, 'companies': 978, 'prices': 3356, '42': 96, '382': 89, 'household': 2147, 'wholesale': 4711, 'cost': 1081, 'electricity': 1522, 'halved': 2015, 'bills': 552, 'oh': 3020, 'wow': 4765, 'joseph': 2404, 'stalin': 4102, 'grandson': 1959, 'yevgeny': 4792, 'dzhugashvili': 1473, 'launched': 2503, 'claiming': 902, 'defamed': 1252, 'soviet': 4047, 'deaths': 1223, 'yahoo': 4780, 'users': 4551, 'forces': 1811, 'immediately': 2203, 'taser': 4281, 'manufacturer': 2705, 'directive': 1359, 'aim': 247, 'weapon': 4681, 'suspect': 4227, 'chest': 860, 'question': 3479, 'guardian': 1992, 'gagged': 1876, 'fingerprint': 1763, 'unmasks': 4526, 'da': 1176, 'vinci': 4600, 'painting': 3106, 'sold': 4024, 'auction': 412, '19th': 46, 'century': 832, 'german': 1909, 'collector': 945, 'multispectral': 2882, 'imaging': 2199, 'peer': 3172, 'layers': 2513, 'pigment': 3229, 'discovering': 1375, 'proved': 3428, 'vinvi': 4602, 'serve': 3892, 'occupation': 3000, 'violent': 4609, 'racist': 3486, 'inhumane': 2274, 'undemocratic': 4495, 'immoral': 2208, 'extreme': 1656, 'condition': 1008, 'presents': 3342, 'mortal': 2856, 'peoples': 3181, 'blackwater': 567, 'prostitutes': 3416, 'lithuanian': 2605, 'dad': 1177, 'senior': 3878, 'politician': 3287, 'molested': 2835, 'lobby': 2615, 'decriminalization': 1242, 'kuwaiti': 2471, 'passport': 3148, 'consent': 1024, 'husbands': 2167, 'columbia': 954, 'cops': 1067, 'stomp': 4137, 'ribs': 3703, 'posted': 3308, 'calder': 737, 'heard': 2053, 'diplomats': 1356, 'especially': 1584, 'publicly': 3440, 'usually': 4554, 'deal': 1216, 'respond': 3671, 'ah': 241, 'soo': 4034, 'desu': 1318, 'ka': 2423, 'fined': 1760, '900': 137, 'metallica': 2776, 'sucks': 4183, 'frontman': 1851, 'james': 2375, 'hetfield': 2074, 'chose': 874, 'bands': 466, 'music': 2894, 'represents': 3648, 'likemaybe': 2585, 'aggression': 233, 'adviser': 215, 'sparked': 4054, 'controversy': 1060, 'ecstasy': 1492, 'lsd': 2652, 'cannabis': 767, 'dangerous': 1187, 'cigarettes': 884, 'unidentified': 4510, 'ukraine': 4483, 'emergency': 1534, 'declared': 1236, 'following': 1801, 'comments': 965, 'regarding': 3585, 'ectasy': 1493, 'nutt': 2987, 'sacked': 3766, 'telling': 4306, 'truth': 4449, 'wild': 4722, 'bear': 501, 'beating': 506, 'clash': 905, 'suppress': 4214, 'broke': 678, 'agent': 230, 'rendition': 3626, 'epidemic': 1571, '109': 10, '763': 124, 'infected': 2261, 'hospitalized': 2134, 'friday': 1846, 'advisers': 216, 'sacking': 3767, 'whistleblower': 4707, 'cop': 1064, 'sensation': 3879, 'released': 3606, 'series': 3890, 'calling': 742, 'corruption': 1080, 'christian': 877, 'janitor': 2377, 'rises': 3722, 'barriers': 485, 'caste': 796, 'creed': 1122, 'sectarian': 3858, 'gives': 1922, 'save': 3801, 'idea': 2176, 'participating': 3132, 'drafting': 1444, 'speechless': 4066, 'authorized': 424, 'predator': 3334, 'drone': 1457, 'months': 2848, '500': 106, 'kicks': 2440, 'weather': 4687, 'channel': 845, 'ass': 379, 'approves': 334, 'settler': 3903, 'dog': 1415, 'bridge': 665, 'latvia': 2501, 'translated': 4416, 'article': 366, 'fifa': 1733, 'finance': 1755, 'stadium': 4098, 'territories': 4318, 'complete': 985, 'fucked': 1856, 'snooping': 4015, 'cloud': 927, 'storage': 4142, 'powers': 3323, 'specified': 4064, 'facilitating': 1670, 'prevention': 3351, 'reduction': 3571, 'online': 3029, 'infringement': 2269, 'copyright': 1071, 'limitations': 2588, 'disconnections': 1372, 'offenders': 3007, 'paralyzed': 3122, 'fully': 1860, 'aware': 438, '23': 65, 'isn': 2355, 'vegetable': 4569, 'saying': 3808, 'communicating': 973, 'really': 3536, 'faking': 1680, 'communication': 974, 'arriving': 363, 'integration': 2300, 'contract': 1056, 'require': 3653, 'respect': 3669, 'equality': 1573, 'medicine': 2752, 'startling': 4116, 'breakthrough': 652, 'treating': 4425, 'wife': 4716, 'cure': 1162, 'multiple': 2881, 'sclerosis': 3837, 'ms': 2872, 'nuez': 2980, 'blood': 586, 'mouth': 2866, 'killer': 2448, 'putting': 3466, 'didnt': 1338, 'instinctively': 2290, 'reached': 3529, 'kinds': 2454, 'recorded': 3560, 'types': 4474, 'fibrous': 1729, 'bone': 610, 'refer': 3573, 'clearly': 914, 'radiation': 3488, 'exposed': 1644, 'poisoning': 3279, 'salad': 3778, 'laced': 2479, 'overdose': 3084, 'pressure': 3347, 'medication': 2751, 'saddest': 3771, 'history': 2089, 'senate': 3875, 'studying': 4171, 'minimum': 2805, 'given': 1921, 'approval': 332, 'minor': 2810, 'amendments': 283, 'ruins': 3745, 'pompeii': 3291, 'added': 194, 'draw': 1447, 'ignites': 2185, 'cup': 1158, 'fever': 1725, 'tony': 4381, 'minute': 2812, 'wmd': 4742, 'taxi': 4286, 'driver': 1455, 'cash4gold': 795, 'built': 698, 'maintain': 2676, 'madness': 2668, 'vid': 4587, 'settlers': 3904, 'occupied': 3001, 'intepretation': 2306, 'quantum': 3474, 'physics': 3218, 'parallel': 3121, 'universe': 4521, 'crossed': 1142, 'border': 617, 'timeline': 4366, 'punched': 3448, 'pepper': 3182, 'sprayed': 4084, 'shit': 3932, 'kicked': 2438, 'handcuffed': 2021, 'wet': 4703, 'naked': 2902, 'tycoons': 4473, 'entitled': 1565, 'fields': 1732, 'assume': 390, 'invasion': 2326, 'opposition': 3048, 'federal': 1715, 'isp': 2356, 'filtering': 1752, 'hugo': 2155, 'climate': 918, 'saved': 3802, 'uninsured': 4514, 'japan': 2378, 'sees': 3867, 'prescriptions': 3339, 'filled': 1746, 'sorry': 4037, 'whopping': 4713, 'bucks': 693, 'home': 2106, 'paying': 3162, 'managing': 2697, 'things': 4340, 'prague': 3328, 'tower': 4400, 'largest': 2494, 'spherical': 4069, 'npanorama': 2975, 'gigapixel': 1918, 'megazoom': 2760, 'laura': 2506, 'dekker': 1268, 'ran': 3505, 'caribbean': 783, 'wrecked': 4766, 'copenhagen': 1065, 'backyard': 452, 'training': 4411, 'property': 3407, 'owner': 3092, 'defends': 1257, 'knocks': 2459, 'pope': 3295, 'benedict': 529, 'christmas': 879, 'mass': 2724, 'fact': 1673, 'born': 620, 'greater': 1967, 'chance': 840, 'raped': 3511, 'learning': 2524, 'reports': 3645, 'lots': 2642, 'witness': 4741, 'exiles': 1621, 'close': 922, 'contacts': 1043, 'risking': 3725, 'post': 3307, 'taboo': 4257, 'major': 2677, 'starting': 4115, 'tomorrow': 4378, 'scanners': 3815, 'images': 2198, 'depict': 1299, 'untouched': 4530, 'stomach': 4136, 'contents': 1048, 'baby': 446, 'birds': 554, 'remote': 3620, 'marine': 2711, 'sanctuaries': 3788, '2000': 51, 'nearest': 2922, 'teach': 4288, 'gays': 1895, 'agenda': 229, 'ugandan': 4479, 'families': 1688, 'sodomize': 4020, 'impose': 2215, 'sentence': 3884, 'behavior': 515, 'having': 2046, 'sexual': 3909, 'intercourse': 2307, 'imams': 2200, 'affiliated': 220, 'council': 1084, 'fatwa': 1706, 'evil': 1602, 'track': 4404, 'captives': 774, 'agree': 235, 'fly': 1796, 'meet': 2755, 'stole': 4134, 'intellectual': 2301, 'crazy': 1113, 'considering': 1030, 'ceasing': 817, 'operation': 3037, 'signed': 3962, 'www': 4776, 'redcross': 3566, 'org': 3058, 'donate': 1421, 'haiti': 2010, 'difference': 1342, 'ceases': 816, 'amaze': 278, 'amazing': 279, 'somebody': 4032, 'spokesman': 4077, 'robert': 3729, 'gibbs': 1917, 'pat': 3154, 'robertson': 3730, 'remarks': 3616, 'cancellation': 764, 'debt': 1227, '2nd': 78, 'exist': 1622, 'im': 2197, 'collect': 942, '41': 94, 'mln': 2826, 'doubles': 1431, 'totaling': 4393, '83': 131, '448': 100, '252': 72, 'link': 2593, '360': 87, 'burqa': 718, 'dr': 1441, 'norman': 2962, 'finkelstein': 1766, 'exterminated': 1651, 'dispicable': 1387, 'martyrdom': 2722, 'try': 4450, 'justify': 2422, 'brutalization': 691, 'demolition': 1284, 'daily': 1179, 'commits': 968, 'howard': 2148, 'zinn': 4805, 'arguably': 346, 'important': 2214, 'scholars': 3825, 'raised': 3496, '100k': 6, 'sweat': 4240, 'shutdown': 3953, 'funds': 1866, 'fix': 1782, 'bloomberg': 587, 'secret': 3854, 'banking': 472, 'cabal': 730, 'uprising': 4537, 'overturns': 3089, 'harvard': 2040, 'student': 4168, 'expelled': 1630, 'essay': 1585, 'computer': 992, 'drive': 1454, 'sympathetic': 4251, 'lashed': 2495, '101': 8, 'conceiving': 994, 'rapist': 3512, 'pardoned': 3124, 'turkish': 4462, 'buried': 711, 'alive': 262, 'honour': 2123, 'nuganda': 2981, 'nanti': 2906, 'worse': 4760, 'rat': 3514, 'acknowledged': 177, 'equation': 1574, 'invading': 2324, 'actively': 186, 'consulted': 1039, 'planning': 3256, 'jazeera': 2383, 'obtained': 2997, 'exclusive': 1612, 'appears': 325, 'ordering': 3055, 'number': 2983, 'range': 3508, 'blocked': 581, 'agreement': 237, 'allows': 272, 'terror': 4320, 'monitor': 2843, 'europeans': 1593, 'transactions': 4414, 'urged': 4542, 'hand': 2019, 'zero': 4803, 'rupees': 3755, 'asked': 374, 'bribe': 660, 'bid': 542, 'stamp': 4104, 'luger': 2655, 'giving': 1923, 'motorcade': 2861, 'finger': 1762, 'swearing': 4239, 'individual': 2245, 'permitted': 3191, 'foul': 1828, 'language': 2489, 'swear': 4238, 'figures': 1740, 'cigarette': 883, 'torch': 4386, 'surprise': 4219, 'nice': 2948, 'thugs': 4356, 'upload': 4535, 'autistic': 425, 'kid': 2441, 'employees': 1539, 'charged': 849, 'pow': 3319, 'auschwitz': 414, 'survived': 4225, '1944': 31, 'denis': 1293, 'avey': 430, 'swapped': 4235, 'identities': 2179, 'prisoner': 3365, '91': 138, 'gaddafi': 1872, 'jihad': 2391, 'switzerland': 4248, 'magnitude': 2670, 'reported': 3640, 'concepcion': 997, 'chile': 865, 'constitutional': 1037, 'ncourt': 2920, 'rules': 3748, 'telephone': 4303, 'yeah': 4783, '1985': 40, 'band': 465, '250': 70, '95': 141, 'diverted': 1400, 'ethiopian': 1587, 'silent': 3967, 'rebellion': 3542, 'scanning': 3816, 'manchester': 2698, 'flight': 1788, 'retain': 3683, 'looks': 2633, 'inward': 2337, 'mall': 2690, 'culture': 1157, 'posters': 3309, 'throws': 4355, 'grenade': 1975, 'holland': 2103, 'proposes': 3411, 'simply': 3971, 'english': 1556, 'outlets': 3078, 'shame': 3913, 'cahoots': 735, 'scientologist': 3834, 'slave': 3996, 'alleges': 265, 'chained': 836, 'disappointed': 1367, 'religious': 3612, 'organisation': 3059, 'start': 4113, 'accept': 160, 'bonkers': 611, 'lessons': 2550, 'learnt': 2525, 'beard': 502, 'boards': 595, 'plane': 3254, 'exploding': 1640, 'rid': 3710, 'penalty': 3174, 'spanish': 4053, 'organization': 3062, 'sgae': 3911, 'brings': 670, 'outcome': 3073, 'p2p': 3095, 'networks': 2933, 'edonkey': 1499, 'bittorrent': 562, 'material': 2731, 'profit': 3386, 'completely': 986, 'whoops': 4712, 'li': 2558, 'dems': 1290, 'restore': 3676, 'trampled': 4412, 'nick': 2949, 'clegg': 916, 'teamed': 4292, 'fishing': 1780, 'critically': 1135, 'endangered': 1546, 'species': 4063, 'extinction': 1652, 'paedophilia': 3100, 'plainly': 3252, 'loudly': 2645, 'sinful': 3973, 'criminal': 1127, 'israels': 2361, 'fu': 1854, 'east': 1483, 'negotiation': 2927, 'ireport': 2346, 'comment': 964, 'vetted': 4582, 'raise': 3495, 'awareness': 439, 'happening': 2030, 'thank': 4333, 'upvote': 4539, 'karmawhore': 2426, 'throwaway': 4352, 'xvi': 4779, 'defrock': 1266, 'priest': 3358, 'boys': 635, 'receiving': 3548, 'letters': 2554, 'bishops': 560, 'pleading': 3265, 'pocketed': 3274, 'revenues': 3696, 'dealings': 1219, 'consortium': 1033, 'ui': 4481, 'corporation': 1076, 'efforts': 1509, 'connection': 1022, 'naval': 2916, 'sinking': 3978, 'board': 593, 'torpedo': 4387, 'suspected': 4228, 'large': 2493, 'explosion': 1641, 'subway': 4180, 'economy': 1490, 'rushed': 3757, 'debate': 1224, 'fox': 1832, 'ripping': 3720, 'content': 1047, 'straight': 4147, 'depths': 1304, 'shin': 3927, 'bet': 537, 'mentioning': 2771, 'identifying': 2178, 'reporter': 3642, 'expose': 1643, 'reuters': 3689, 'shouldn': 3948, 'outraged': 3080, 'silenced': 3966, 'published': 3442, 'kyrgyz': 2472, 'overall': 3083, 'bishkek': 558, 'escape': 1580, 'kyrgyzstan': 2473, 'trust': 4448, 'aggregator': 232, 'political': 3286, 'bcg': 497, 'offered': 3010, 'diligent': 1348, 'effort': 1508, 'morally': 2851, 'nearly': 2923, 'immersion': 2205, 'propaganda': 3405, 'piiiiiiiissed': 3231, 'arrests': 362, 'crew': 1123, 'members': 2764, 'coal': 930, 'trashed': 4420, 'barrier': 484, 'reef': 3572, 'finding': 1757, 'groups': 1983, 'males': 2689, 'executed': 1616, 'using': 4553, 'unfortunately': 4507, 'special': 4061, 'ops': 3049, 'entered': 1561, 'quarters': 3475, 'ied': 2183, 'dormitory': 1430, 'disruptive': 1389, 'volcano': 4624, 'talks': 4270, 'burials': 710, 'sensitive': 3881, 'souls': 4041, 'explicit': 1637, 'bit': 561, 'turn': 4464, 'electorate': 1520, 'dollar': 1418, 'gt': 1988, 'firm': 1775, 'represent': 3646, 'prophet': 3408, 'sues': 4187, 'danish': 1189, 'newspapers': 2942, 'countersues': 1090, 'insulted': 2295, 'koran': 2464, 'demanding': 1279, 'passages': 3142, 'removed': 3622, 'burqas': 719, 'appalls': 320, 'forcing': 1812, 'discrimination': 1378, 'traffic': 4407, 'park': 3128, 'lost': 2641, 'bronze': 681, 'medal': 2747, 'gymnast': 2003, 'proven': 3429, 'underage': 4496, 'belgium': 521, 'lower': 2649, 'veil': 4572, 'homosexuality': 2117, 'sin': 3972, 'soviets': 4048, 'leaking': 2520, 'wells': 4696, 'couldn': 1083, 'seal': 3847, 'nuked': 2982, 'greeks': 1972, 'struggle': 4166, 'status': 4122, 'emptied': 1540, 'abandoned': 145, 'vacations': 4559, 'jobs': 2393, 'bemoan': 528, 'difficult': 1345, 'humiliated': 2161, 'sabotaged': 3764, 'summit': 4199, 'recordings': 3561, 'spiegel': 4070, 'prevented': 3350, 'tackling': 4259, 'change': 841, 'crucial': 1147, 'powerless': 3322, 'look': 2630, 'furious': 1868, 'mad': 2667, 'austerity': 416, 'gambling': 1882, 'losses': 2640, 'hey': 2075, 'sec': 3851, 'clears': 915, 'murderer': 2887, 'apparently': 321, 'torturing': 4392, 'confessions': 1013, 'chilli': 867, 'fireworks': 1773, 'gordon': 1945, 'brown': 687, 'stepping': 4128, 'labour': 2477, 'unfolds': 4506, 'slowly': 4003, 'gulf': 1998, 'denies': 1292, 'lgbt': 2557, 'documentarian': 1408, 'kiana': 2436, 'firouz': 1777, 'asylum': 395, 'deported': 1302, '300': 80, 'hanging': 2028, 'unrepentant': 4527, 'noise': 2958, 'kabul': 2424, 'chomsky': 872, 'interrogators': 2317, 'written': 4769, 'suggested': 4192, 'likes': 2586, 'elvis': 1528, 'costello': 1082, 'santana': 3792, 'cancel': 762, 'supporting': 4211, 'academic': 158, 'crackdown': 1107, 'paintings': 3107, 'picasso': 3220, 'matisse': 2734, 'artists': 369, 'art': 364, 'paris': 3127, 'challenged': 837, 'intention': 2304, 'muhammad': 2879, 'veteren': 4581, 'satirist': 3796, 'zapiro': 4800, 'newstands': 2943, 'sell': 3871, 'warheads': 4649, 'apartheid': 315, 'kenyan': 2431, 'judges': 2411, 'rule': 3746, 'nare': 2907, 'discriminatory': 1379, 'unconstitutional': 4492, 'severs': 3907, 'norway': 2966, '1bn': 47, 'forests': 1816, 'indonesia': 2249, 'sank': 3791, 'warship': 4660, 'details': 1319, 'flotilla': 1793, 'incident': 2224, 'bigger': 545, 'strategic': 4151, 'implications': 2213, 'produced': 3378, 'stratfor': 4152, 'global': 1929, 'harm': 2037, 'comes': 961, 'consequences': 1025, 'lift': 2576, 'repeating': 3634, '1947': 32, 'refugees': 3579, 'boarded': 594, 'wounding': 4764, 'pr': 3324, 'paved': 3160, 'founding': 1831, 'indian': 2239, 'executives': 1618, 'removing': 3624, 'haaretz': 2005, 'infographic': 2266, 'tallest': 4271, 'mountains': 2864, 'deepest': 1249, 'trench': 4428, 'deepwater': 1250, 'horizon': 2126, 'drilling': 1452, 'depth': 1303, 'supremo': 4216, 'labyrinth': 2478, 'horrifying': 2130, 'bodyguard': 600, 'abby': 146, 'sutherland': 4234, 'sailor': 3776, 'dares': 1192, 'solved': 4030, 'soon': 4035, 'restricted': 3679, 'retention': 3684, 'activity': 188, 'passports': 3149, 'bp': 636, 'doing': 1417, 'pretty': 3348, 'demolish': 1283, 'homeowners': 2110, 'alternative': 276, 'proposal': 3409, 'razed': 3526, 'discussed': 1381, 'alleged': 263, 'mossad': 2859, 'adversely': 212, 'affect': 219, 'relations': 3603, 'berlin': 531, 'far': 1695, 'obtaining': 2998, 'murder': 2885, 'persecution': 3195, 'beacon': 500, 'internationally': 2313, 'perpetrator': 3193, 'atrocities': 399, 'dying': 1471, 'secretive': 3856, 'train': 4410, 'armies': 354, 'southern': 4045, 'mineral': 2802, 'sanctions': 3787, 'legalizes': 2540, 'marry': 2719, 'partner': 3138, 'castration': 799, 'punishment': 3452, 'seeks': 3865, 'opinion': 3039, 'repealed': 3631, 'quite': 3482, 'detractors': 1328, 'tactics': 4260, 'improve': 2219, 'suffered': 4188, 'severe': 3906, 'facial': 1669, 'burns': 717, 'drops': 1461, 'veteran': 4579, 'editor': 1498, 'twitter': 4471, 'mourning': 2865, 'pro': 3371, 'hezbollah': 2076, 'adulterer': 208, 'stoning': 4138, 'bangladesh': 468, 'refusing': 3584, 'bribes': 662, 'relatives': 3604, 'pursue': 3460, 'ok': 3022, 'long': 2627, 'hottest': 2143, 'record': 3559, 'according': 166, 'nasa': 2908, 'hotter': 2142, 'keeping': 2428, 'records': 3562, 'grant': 1960, 'marriages': 2718, 'heterosexual': 2073, 'unions': 4517, 'gadget': 1873, 'makersincluding': 2682, 'hp': 2150, 'applemay': 329, 'raw': 3523, 'ingredients': 2272, 'genocidal': 1904, 'militias': 2795, 'movement': 2868, 'begun': 513, 'trace': 4403, 'rare': 3513, 'metals': 2777, 'mines': 2804, 'victory': 4586, 'founder': 1829, 'julian': 2413, 'assange': 381, 'knows': 2463, 'designer': 1311, 'sunglasses': 4203, 'consensual': 1023, 'introduced': 2323, 'daniel': 1188, 'pushing': 3463, '2009': 55, 'user': 4550, 'logs': 2622, 'massive': 2727, 'leak': 2518, 'files': 1743, 'exposes': 1645, 'interview': 2320, 'wide': 4715, 'discrepancy': 1377, '2006': 53, 'insurgent': 2297, 'newly': 2939, 'weren': 4699, 'catalonia': 801, 'bullfighting': 704, 'landmark': 2488, 'fundamental': 1863, 'shamed': 3914, 'grilling': 1977, 'coach': 929, 'punished': 3451, 'betraying': 539, 'lightly': 2581, 'withdraw': 4738, 'weekend': 4692, 'imprisoned': 2217, 'hikers': 2083, 'bargaining': 482, 'chips': 870, 'unjust': 4523, '28': 75, 'felipe': 1719, 'agrees': 238, 'discuss': 1380, 'wrote': 4772, 'detention': 1325, 'pentagon': 3179, 'demands': 1280, '90': 136, 'methinks': 2779, 'works': 4754, '800': 129, 'wildfires': 4723, 'ignited': 2184, 'heat': 2055, 'wave': 4675, 'claimed': 901, '52': 108, 'responsibility': 3673, 'consumes': 1041, 'responsible': 3674, 'educating': 1501, 'socioeconomic': 4019, 'context': 1049, 'production': 3381, 'distribution': 1396, 'vicente': 4583, 'super': 4204, 'rejected': 3601, 'invitation': 2334, 'gates': 1890, 'warren': 4657, 'buffett': 694, 'pledge': 3268, 'fortune': 1824, 'criticized': 1137, 'millionaires': 2799, 'donations': 1425, 'replace': 3635, 'duties': 1470, 'carried': 786, 'pedophiles': 3171, 'inquest': 2279, 'kelly': 2429, 'casting': 797, 'destruction': 1317, 'satellite': 3794, 'extent': 1650, 'flooding': 1789, 'vs': 4634, 'noam': 2956, 'enables': 1544, 'host': 2136, 'place': 3248, 'servers': 3893, 'campaigns': 755, 'joint': 2399, 'taxpayers': 4287, 'pick': 3221, 'tab': 4256, 'hospitals': 2135, 'maim': 2673, 'arabian': 339, 'mans': 2703, 'spinal': 4074, 'cord': 1072, 'ceo': 833, 'scandinavian': 3814, 'megabank': 2758, 'crash': 1111, 'treated': 4424, 'differently': 1344, 'firms': 1776, 'jam': 2373, 'criminalization': 1129, 'hiv': 2094, 'synagogue': 4252, 'squarely': 4093, 'center': 828, 'heart': 2054, 'pride': 3357, 'downtown': 1440, 'beirut': 519, 'vietnam': 4591, 'adopts': 204, 'washington': 4664, 'interventionist': 2319, 'gen': 1899, 'vinh': 4601, 'reconfirmed': 3557, 'pillars': 3234, 'vietnams': 4592, 'joining': 2397, 'alliances': 266, 'ally': 273, 'set': 3898, 'bases': 488, 'offset': 3018, 'spate': 4057, 'negative': 2925, 'stories': 4145, 'combatant': 957, 'willing': 4726, 'sweeping': 4244, 'concession': 1002, 'dividing': 1402, 'pact': 3099, 'demand': 1277, 'remain': 3613, 'undivided': 4503, 'associated': 389, 'standards': 4107, 'staff': 4099, 'uncritically': 4494, 'suggestions': 4194, 'situation': 3984, 'different': 1343, 'climbing': 919, 'mt': 2873, 'kilimanjaro': 2445, 'charity': 851, 'bidding': 543, 'peak': 3169, 'squander': 4091, 'opportunity': 3043, 'upvotes': 4540, 'awesome': 441, 'harvesting': 2041, 'crops': 1140, 'market': 2715, 'fetching': 1724, 'firewood': 1772, 'loved': 2647, 'insurgents': 2298, 'captive': 773, 'tweets': 4469, 'whereabouts': 4706, 'weary': 4686, 'debates': 1225, 'legalizing': 2541, 'suggestion': 4193, 'percolating': 3185, 'exhausted': 1620, 'runaway': 3752, 'violence': 4608, 'renowned': 3629, 'harbouring': 2032, 'imf': 2201, 'fears': 1712, 'social': 4018, 'dawkins': 1206, 'fry': 1852, 'pratchett': 3330, 'sources': 4043, 'confirmed': 1015, 'morning': 2854, 'tel': 4301, 'aviv': 431, 'accidentally': 164, 'yr': 4799, 'instantly': 2288, 'egyptian': 1512, 'manipulate': 2700, 'attempt': 403, 'mubarak': 2875, 'spoiler': 4076, 'shopped': 3941, 'wounded': 4763, 'infantry': 2259, 'unit': 4518, 'fights': 1738, 'ambush': 282, 'kunar': 2469, 'province': 3435, 'bullet': 703, 'helmet': 2065, 'direct': 1357, 'rail': 3493, 'frankfurt': 1838, 'journey': 2408, 'insinuating': 2284, 'reserve': 3659, 'moment': 2838, 'assassins': 384, 'queen': 3478, 'poverty': 3318, 'fund': 1862, 'buckingham': 692, 'palace': 3110, 'source': 4042, 'nations': 2912, 'tapes': 4276, 'servicemen': 3895, 'sport': 4079, 'finish': 1764, 'reparation': 3630, 'websites': 4689, 'scandinavia': 3813, 'combating': 958, 'suspects': 4229, 'mainsteam': 2675, 'panama': 3115, 'tycoon': 4472, '50m': 107, 'poor': 3292, 'millionaire': 2798, 'denying': 1297, 'evolution': 1604, 'warming': 4650, 'study': 4170, 'effect': 1504, 'prostitution': 3417, 'improvement': 2220, 'hungarian': 2163, 'sludge': 4004, 'spill': 4072, 'reaches': 3530, 'danube': 1190, 'river': 3727, 'prize': 3370, 'liu': 2607, 'xiaobo': 4777, '33': 83, 'trapped': 4418, 'chilean': 866, 'miners': 2803, 'moved': 2867, 'profiting': 3387, 'expense': 1631, 'drawing': 1448, 'share': 3915, 'proceeds': 3375, 'ordeal': 3052, 'business': 723, 'thursday': 4357, 'dublin': 1466, 'brian': 659, 'lenihan': 2547, 'allied': 267, 'bought': 626, '832': 132, 'miner': 2801, 'hoisted': 2097, '33rd': 84, 'rescued': 3658, 'absolutely': 153, 'astounded': 394, 'managed': 2694, 'pull': 3446, 'funding': 1865, 'blacklisting': 565, 'decision': 1233, 'moneybookers': 2842, 'collects': 946, 'whistleblowing': 4708, 'damn': 1184, 'engineer': 1554, 'unemployment': 4504, 'lowest': 2650, 'income': 2228, 'inequality': 2256, 'healthcare': 2051, 'expectancy': 1626, 'low': 2648, 'infant': 2258, 'mortality': 2857, 'numeracy': 2985, 'literacy': 2602, 'incarceration': 2223, 'homicides': 2114, 'mental': 2769, 'illness': 2196, 'beats': 507, 'mile': 2791, 'elects': 1523, 'mayor': 2739, 'page': 3101, 'featured': 1714, 'homosexuals': 2118, 'bright': 666, 'yellow': 4786, 'banner': 476, 'alongside': 274, 'addresses': 196, 'crocodile': 1138, 'passengers': 3145, 'karzai': 2427, 'receives': 3547, 'cash': 794, 'presidential': 3345, 'expects': 1629, 'provides': 3433, 'bags': 457, 'ruinous': 3744, 'lawsuits': 2510, 'bombshell': 608, 'cambodians': 745, 'funded': 1864, 'saves': 3803, 'attacking': 401, 'grabbing': 1955, 'tail': 4263, 'sink': 3977, 'surface': 4217, 'boat': 596, 'storey': 4144, 'fall': 1683, 'unharmed': 4509, 'bounces': 628, 'cafe': 734, 'awning': 442, 'passing': 3147, 'shoppers': 3942, 'pulling': 3447, 'copies': 1066, 'adbusters': 193, 'magazine': 2669, 'shelves': 3922, 'congress': 1020, 'cjc': 899, 'semitism': 3874, 'photographs': 3215, 'ghettos': 1914, 'couple': 1096, 'jackpot': 2369, 'passenger': 3144, 'observed': 2995, 'caucasian': 806, 'appeared': 324, 'subject': 4176, 'attended': 408, 'washroom': 4665, 'emerged': 1533, 'asian': 372, 'early': 1475, '20s': 60, 'knowingly': 2461, 'statements': 4119, 'opponent': 3041, 'risk': 3724, 'void': 4623, 'noticed': 2971, 'heavy': 2057, 'horrifically': 2129, 'theyre': 4337, 'easily': 1482, 'numbers': 2984, 'handle': 2024, 'lightweight': 2582, 'indoctrinated': 2247, 'capacity': 770, 'loyalty': 2651, 'barbarism': 480, 'exceeds': 1609, 'adults': 210, 'premier': 3338, 'indispensable': 2244, 'censored': 824, 'cyber': 1173, 'stay': 4123, 'classy': 909, 'boris': 619, 'johnson': 2395, 'authorise': 420, 'wests': 4702, 'spread': 4085, 'achieved': 175, 'vile': 4596, 'means': 2746, 'getting': 1912, 'groped': 1980, 'tsa': 4452, 'bother': 622, 'finland': 1767, 'catch': 803, 'watching': 4670, 'remand': 3614, 'local': 2616, 'advises': 217, 'tour': 4395, 'texas': 4329, 'tim': 4364, 'berners': 533, 'lee': 2532, 'creator': 1119, 'defend': 1255, 'fragmented': 1834, 'islands': 2354, 'apple': 328, 'facebook': 1667, 'artillery': 367, 'maritime': 2712, 'prompting': 3402, '29': 77, 'pike': 3232, 'deployed': 1301, 'schoolchildren': 3828, 'whitehall': 4710, 'traditional': 4406, 'toothless': 4384, 'reduced': 3570, 'jo': 2392, 'properly': 3406, 'ecuador': 1494, 'offers': 3011, 'wikileak': 4718, 'residency': 3661, 'questions': 3480, 'declaring': 1238, 'outlandish': 3075, 'secrecy': 3853, 'bradley': 639, 'manning': 2702, 'solider': 4028, 'vanishes': 4566, 'removes': 3623, 'dns': 1404, 'razor': 3527, '1911': 30, 'recent': 3549, 'mirroring': 2815, 'free': 1840, 'journalism': 2405, 'remind': 3618, 'collective': 944, 'persecuted': 3194, 'amnesty': 289, 'abuses': 157, 'mc': 2741, 'hammered': 2018, 'mastercard': 2728, 'downed': 1435, 'ddos': 1211, 'overnight': 3087, 'payment': 3163, 'sue': 4185, 'visa': 4614, 'lula': 2656, 'blaming': 571, 'disclosed': 1369, 'blamed': 570, 'copycats': 1070, 'popping': 3297, 'indoleaks': 2248, 'brusselsleaks': 688, 'balkanleaks': 461, 'cameraman': 749, 'baghdad': 456, 'delays': 1269, 'hotel': 2140, 'suggest': 4191, 'colluded': 947, 'conditions': 1009, 'glenn': 1927, 'greenwald': 1974, 'salon': 3782, 'com': 955, 'paypal': 3164, 'instruments': 2293, 'stallman': 4103, 'hacking': 2008, 'equivalent': 1575, 'demonstration': 1287, 'enable': 1542, 'registered': 3592, 'defiance': 1260, 'mirror': 2814, 'rejects': 3602, 'downloading': 1438, 'revealed': 3691, 'bullied': 705, 'investigating': 2330, 'wikilleaker': 4720, 'cpl': 1105, 'brad': 637, 'pre': 3331, 'usa': 4546, 'labelled': 2474, 'engages': 1552, 'deserving': 1310, 'bogus': 601, 'gag': 1875, 'pointless': 3277, 'polls': 3290, 'influence': 2264, 'lancet': 2486, 'demonstrates': 1286, 'clear': 913, 'scientific': 3831, 'opposes': 3046, 'advisory': 218, 'misuse': 2823, 'piracy': 3241, 'villager': 4598, 'speaking': 4059, 'netizens': 2931, 'truck': 4445, 'threatens': 4350, 'cable': 732, 'july': 2414, '1990': 42, 'ambassador': 281, 'april': 335, 'glaspie': 1925, 'kuwait': 2470, 'friendship': 1850, 'punja': 3453, 'governor': 1952, 'salman': 3781, 'taseer': 4280, 'assassinated': 383, 'islamabad': 2350, 'functioning': 1861, 'level': 2555, 'consistent': 1032, 'avoiding': 434, 'nationwide': 2913, 'egypt': 1511, 'attend': 407, 'coptic': 1068, 'murrow': 2891, 'leonid': 2549, 'parfyonov': 3126, 'stunning': 4173, 'television': 4304, 'watch': 4669, 'audience': 413, 'listened': 2600, 'deadpan': 1214, 'loud': 2643, 'uh': 4480, 'brisbane': 672, 'au': 411, 'cities': 889, 'washed': 4662, 'floods': 1790, 'toll': 4376, 'rising': 3723, 'succeeded': 4181, 'pesticides': 3200, 'increasing': 2232, 'yields': 4793, 'incomes': 2229, 'diversifying': 1398, 'farming': 1699, 'systems': 4255, 'project': 3394, 'promoting': 3401, 'sustainable': 4233, 'practices': 3326, 'aussie': 415, 'lanka': 2490, 'probably': 3372, 'mauritanian': 2737, 'issue': 2363, 'genital': 1903, 'mutilation': 2898, 'fgm': 1727, 'thousand': 4346, 'israelis': 2360, 'protested': 3421, 'waving': 4677, 'came': 747, 'policies': 3283, 'disclosures': 1371, 'significant': 3963, 'precisely': 3333, 'govt': 1953, 'deceit': 1229, 'wrongdoing': 4771, 'deliberately': 1273, 'wildly': 4724, 'misconduct': 2816, 'central': 829, 'institutions': 2291, 'parties': 3136, 'treasury': 4423, 'boss': 621, 'blast': 575, 'rocks': 3733, 'main': 2674, 'tunisia': 4457, 'riots': 3718, 'cairo': 736, 'residents': 3663, 'passwords': 3150, 'wi': 4714, 'fi': 1728, 'routers': 3741, 'communicate': 972, 'violently': 4610, 'smooth': 4010, '100s': 7, 'blackout': 566, 'faxing': 1710, 'cables': 733, 'enabled': 1543, 'feature': 1713, 'voice': 4622, 'demonstrators': 1289, 'tahrir': 4261, 'square': 4092, 'concessions': 1003, 'insufficient': 2294, 'reverse': 3697, 'crtc': 1146, 'billing': 549, 'ub': 4476, 'horrific': 2128, 'diplomatic': 1355, 'streets': 4154, 'jan': 2376, 'einstein': 1514, 'honey': 2121, 'bee': 508, 'telegraph': 4302, 'runs': 3754, 'overpowered': 3088, 'tipped': 4368, 'bow': 631, 'march': 2708, 'pm': 3272, 'silvio': 3968, 'suspends': 4231, 'antartic': 309, 'whaling': 4705, 'dramatic': 1446, 'departure': 1298, 'longstanding': 2629, 'intends': 2303, 'resolutions': 3668, 'censuring': 826, 'revolutionary': 3701, 'commanding': 963, 'assurances': 392, 'required': 3654, 'open': 3032, 'quake': 3473, 'christchurch': 876, 'listening': 2601, 'gadaffi': 1871, 'batshit': 492, 'insane': 2281, 'libya': 2565, 'rebel': 3541, 'tripoli': 4438, 'ghostly': 1915, 'marauding': 2707, 'hotrod': 2141, 'indiscriminately': 2243, 'mercenaries': 2773, 'hired': 2086, 'immune': 2209, 'clause': 910, 'resolution': 3667, 'demanded': 1278, 'insanely': 2282, 'slums': 4005, 'king': 2455, 'bahrain': 458, 'referring': 3577, 'engaging': 1553, 'guerilla': 1995, 'bazookas': 495, 'losing': 2638, 'planet': 3255, 'pink': 3236, 'floyd': 1794, 'roger': 3734, 'waters': 4674, 'joins': 2398, 'divestment': 1401, 'bds': 498, 'seedbox': 3862, '172': 27, 'savings': 3805, 'proposed': 3410, 'exercise': 1619, 'charade': 847, 'appease': 326, 'strong': 4164, 'curry': 1167, 'favour': 1709, 'cameron': 751, 'dissident': 1391, 'creates': 1115, 'documentation': 1410, 'mark': 2713, 'zuckerberg': 4807, 'profile': 3385, 'dalai': 1180, 'lama': 2484, 'citing': 891, 'tibetan': 4360, 'deserve': 1309, 'freely': 1843, 'northeastern': 2964, 'links': 2596, 'sites': 3983, 'crashing': 1112, 'sendai': 3877, 'aches': 173, 'forget': 1818, 'homepage': 2111, 'boom': 616, 'stuff': 4172, 'increasingly': 2233, 'relied': 3609, 'sector': 3859, 'concentrated': 995, 'manufacturing': 2706, 'adrift': 206, 'pacific': 3097, 'photographed': 3212, 'specialist': 4062, '3rd': 91, 'class': 907, 'dylan': 1472, 'mccord': 2742, 'unarmed': 4488, 'operating': 3036, 'nsfw': 2977, 'based': 487, 'heads': 2049, 'mi5': 2787, 'cps': 1106, 'contempt': 1046, 'nakba': 2901, 'punish': 3449, 'reference': 3574, '1948': 33, 'burma': 713, 'classified': 908, 'gadhafi': 1874, 'aide': 245, 'bodies': 597, 'morgue': 2853, 'holder': 2099, 'announce': 302, 'emerge': 1532, 'stood': 4139, 'knelt': 2458, 'mud': 2876, 'brick': 663, 'exploded': 1639, 'opened': 3033, 'repeatedly': 3633, 'm4': 2662, 'carbine': 778, 'star': 4111, 'emirates': 1535, 'drugged': 1463, 'earliest': 1474, 'writings': 4768, 'existence': 1623, 'jordanian': 2403, 'cave': 811, 'occasions': 2999, 'axe': 443, 'murdering': 2888, 'rampage': 3503, 'justified': 2421, 'mo': 2827, 'florida': 1792, 'pastor': 3153, 'terry': 4324, 'jones': 2400, 'recognize': 3554, 'sovereign': 4046, 'jenin': 2385, 'agency': 228, 'skull': 3989, 'dated': 1200, '684': 118, 'exceptionally': 1610, 'preserved': 3343, 'waterlogged': 4673, 'pit': 3246, 'oldest': 3024, 'intact': 2299, 'asia': 371, 'ancient': 296, 'brains': 641, 'surfing': 4218, 'diplomat': 1354, 'denied': 1291, 'invalid': 2325, 'legalized': 2539, 'jamaica': 2374, 'decriminalizing': 1245, 'execute': 1615, 'behead': 516, 'mutilate': 2897, 'surrender': 4221, 'eurosceptic': 1595, 'opposed': 3045, 'immigration': 2207, 'bailouts': 460, 'struggling': 4167, 'fifth': 1734, 'countrys': 1094, 'general': 1900, 'castro': 800, 'resigns': 3665, 'cuban': 1153, 'communist': 975, 'cubans': 1154, '1959': 36, 'controversial': 1059, 'filesharing': 1744, 'urgency': 4543, 'restrepo': 3677, 'chris': 875, 'hondros': 2119, 'misurata': 2822, 'syrian': 4254, 'til': 4363, 'fukushima': 1859, 'eat': 1484, 'meals': 2745, 'crackers': 1108, 'breakfast': 650, 'packet': 3098, 'rice': 3704, 'chicken': 861, 'dinner': 1351, 'evenings': 1597, 'gather': 1891, 'cheer': 856, 'clap': 904, 'sleep': 3998, 'floor': 1791, 'fatah': 1703, 'reconciliation': 3556, 'factions': 1674, 'form': 1820, 'interim': 2310, 'date': 1199, 'famous': 1691, 'beloved': 527, 'artist': 368, 'ai': 243, 'weiwei': 4695, 'erased': 1577, 'hope': 2125, 'outcry': 3074, 'dropping': 1460, 'concrete': 1005, 'bombs': 607, 'bin': 553, 'laden': 2481, 'sony': 4033, 'breach': 648, 'theft': 4334, '25m': 73, 'referendum': 3576, 'bankers': 471, 'hedge': 2059, 'managers': 2696, 'vet': 4578, 'unanimously': 4487, 'gangs': 1885, 'mexicans': 2784, 'organised': 3061, 'salary': 3779, 'entertainment': 1563, 'industries': 2252, 'supports': 4212, 'lewp': 2556, 'firewall': 1771, 'censor': 823, 'block': 579, 'illicit': 2194, 'rallying': 3501, 'revokes': 3698, '140': 20, 'temporarily': 4310, '1967': 38, 'vacation': 4558, 'targeted': 4279, 'plo': 3269, 'cams': 758, 'raid': 3490, 'cbs': 812, 'evening': 1596, 'defied': 1262, 'inflatable': 2262, 'explosives': 1642, 'mannequins': 2701, 'sea': 3846, 'filipino': 1745, 'excommunication': 1613, 'condoms': 1011, 'tepco': 4313, 'crippled': 1131, 'daiichi': 1178, 'plant': 3258, 'pensioners': 3177, 'younger': 4795, 'papers': 3118, 'manslaughter': 2704, 'ian': 2172, 'tomlinson': 4377, '17': 26, 'pyramids': 3469, 'survey': 4224, 'infra': 2268, 'detect': 1323, 'underground': 4498, 'buildings': 697, 'ratko': 3521, 'mladi': 2825, 'agribusiness': 239, 'swaths': 4237, 'rainforest': 3494, 'archaeologists': 340, 'sealed': 3848, 'tunnel': 4458, 'underneath': 4499, 'teotihuacan': 4312, 'temple': 4309, 'qaeda': 3471, 'cupcake': 1159, 'hacked': 2006, 'instructions': 2292, 'recipe': 3552, 'cupcakes': 1160, 'plants': 3260, '2022': 59, 'reactors': 3532, 'f1': 1663, 'bernie': 534, 'ecclestone': 1488, 'grand': 1958, 'prix': 3369, 'cancelled': 765, 'objected': 2991, 'anchor': 295, 'monks': 2844, 'rounded': 3739, 'monastery': 2839, 'cartels': 788, 'notch': 2969, 'trafficker': 4408, 'gladiatorlike': 1924, 'lulzsec': 2657, 'condemn': 1006, 'violate': 4603, 'canuck': 768, 'stanley': 4110, 'lone': 2625, 'rioters': 3716, 'crossposted': 1144, 'oceans': 3004, 'shocking': 3935, 'decline': 1239, 'mastermind': 2729, 'substitute': 4179, 'addicts': 195, 'holds': 2101, 'closed': 923, 'door': 1428, 'meetings': 2757, 'amsterdam': 293, 'foreigners': 1814, 'purchase': 3457, 'increase': 2230, 'smuggled': 4011, 'begging': 510, 'famine': 1690, 'kosher': 2468, 'halal': 2012, 'animal': 299, 'slaughter': 3994, 'slashes': 3993, 'rations': 3520, '150': 22, 'grams': 1957, 'produces': 3380, '350': 86, 'calories': 744, 'literature': 2603, 'brutal': 689, 'defected': 1254, 'hurt': 2165, 'industry': 2253, 'term': 4314, 'environmental': 1569, 'era': 1576, 'eyes': 1661, 'kidney': 2443, 'tortured': 4391, 'failing': 1676, 'praise': 3329, 'withholding': 4740, '800m': 130, 'reach': 3528, 'standstill': 4109, 'rupert': 3756, 'murdoch': 2889, 'gathering': 1892, 'pace': 3096, 'simple': 3970, 'invention': 2328, 'bottle': 624, 'teaspoons': 4295, 'bleach': 577, 'bringing': 669, 'philippines': 3206, 'colombian': 950, 'colonel': 952, '57': 109, 'dressed': 1450, 'uniforms': 4511, 'pushed': 3462, 'exceed': 1608, 'organisations': 3060, 'granted': 1961, 'rebekah': 3540, 'brooks': 683, 'parliamentary': 3131, 'scotland': 3840, 'yard': 4782, 'response': 3672, 'oslo': 3068, 'firsthand': 1778, 'utya': 4557, 'crosspost': 1143, 'linux': 2597, 'expectation': 1627, 'anonymity': 307, 'ruling': 3749, 'superior': 4205, 'advertisements': 213, 'misleading': 2817, 'undergo': 4497, 'regular': 3593, 'tests': 4328, 'assuming': 391, 'metropolitan': 2782, 'tech': 4296, 'deleted': 1271, 'emails': 1530, 'negotiate': 2926, '67': 117, 'lines': 2592, 'sydney': 4249, 'defuse': 1267, 'strapped': 4150, 'recognition': 3553, 'software': 4021, 'violates': 4605, 'network': 2932, 'programme': 3390, 'delete': 1270, 'collected': 943, 'fines': 1761, 'slaughtered': 3995, 'sheep': 3918, 'plainclothes': 3251, 'randomly': 3507, 'besieged': 535, 'hama': 2016, 'burying': 720, 'gardens': 1888, 'venture': 4575, 'cemeteries': 821, 'nhs': 2947, 'developed': 1330, 'efficient': 1507, 'looting': 2634, 'areas': 343, 'broad': 676, 'daylight': 1208, 'expected': 1628, 'birmingham': 555, 'rioting': 3717, 'darcus': 1191, 'howe': 2149, 'writer': 4767, 'play': 3263, 'handing': 2023, 'agencies': 227, 'protection': 3419, 'apart': 314, 'communities': 976, 'values': 4563, 'stealth': 4125, 'chopper': 873, 'sparking': 4055, 'demonstrations': 1288, 'orders': 3056, 'isps': 2357, 'leakymails': 2521, 'blogspot': 585, 'relevant': 3608, 'exposing': 1646, 'powerful': 3321, 'unmask': 4525, 'returned': 3688, '78': 126, 'hefty': 2060, 'yen': 4789, 'owners': 3093, 'ethical': 1586, 'jack': 2368, 'layton': 2514, 'lehman': 2545, 'brothers': 685, 'bankruptcy': 473, 'governments': 1951, 'missed': 2818, 'regulate': 3594, 'matter': 2736, 'natural': 2915, 'lair': 2482, 'album': 259, 'condoleezza': 1010, 'diplomacy': 1353, 'achieve': 174, 'goals': 1935, 'luxury': 2661, 'lurk': 2659, 'compound': 989, 'doctors': 1406, 'farms': 1700, 'billionth': 551, 'congressman': 1021, 'providing': 3434, 'advice': 214, 'cling': 920, 'hackings': 2009, '870': 134, 'phones': 3208, 'tapped': 4277, 'schoolboy': 3827, 'prince': 3361, 'william': 4725, 'scope': 3838, 'ordinance': 3057, 'hostile': 2138, 'commissioned': 966, 'lifetime': 2575, 'bisexual': 557, 'lifted': 2577, 'england': 1555, 'escort': 1583, 'vessel': 4577, 'spartacus': 4056, 'sand': 3789, 'aged': 226, 'tor': 4385, 'glimpse': 1928, 'projections': 3395, 'elections': 1519, 'accusation': 170, 'disclosure': 1370, 'edited': 1497, 'grower': 1984, 'broken': 679, 'absolute': 152, 'particles': 3134, 'travelling': 4422, 'faster': 1701, 'continues': 1053, 'cement': 820, 'flaunt': 1785, 'grip': 1978, 'hijacked': 2082, 'turkey': 4461, 'promoted': 3400, 'dealing': 1218, 'regards': 3586, 'japans': 2380, 'trillion': 4435, 'stake': 4101, 'tobacco': 4370, 'rebuilding': 3544, 'fatty': 1705, 'products': 3382, 'fat': 1702, 'slim': 4000, 'disease': 1382, 'arranged': 359, 'lebanon': 2530, 'chaos': 846, 'attempts': 405, 'resisted': 3666, 'saul': 3800, 'permutter': 3192, 'schmidt': 3824, 'adam': 192, 'riess': 3711, 'discovery': 1376, 'accelerating': 159, 'expansion': 1625, 'observations': 2994, 'distant': 1394, 'supernovae': 4206, 'mugged': 2878, 'metro': 2781, 'wikipedia': 4721, 'ddl': 1210, 'stage': 4100, 'eviction': 1600, 'jaffa': 2370, 'tape': 4275, 'shopping': 3943, 'centre': 830, 'ads': 207, 'pipe': 3240, 'complaints': 984, 'viewers': 4594, 'louder': 2644, 'programmes': 3391, 'interrupting': 2318, 'forgives': 1819, 'goldman': 1940, 'sachs': 3765, '10m': 11, 'pounds': 3317, 'avoidance': 433, 'visits': 4618, 'ottawa': 3070, 'oblige': 2992, 'detain': 1320, 'investigate': 2329, 'norwegian': 2967, 'stance': 4105, 'bearing': 503, 'dilma': 1349, 'rousseff': 3740, 'ministers': 2808, 'tolerated': 4375, 'bribery': 661, 'graft': 1956, 'acts': 189, 'tolerable': 4373, 'occupy': 3002, 'spreads': 4087, 'vaccine': 4561, 'malaria': 2685, 'capture': 775, '700': 120, 'metres': 2780, 'excessive': 1611, 'mining': 2806, 'pays': 3165, 'sinister': 3976, 'insist': 2285, 'logo': 2621, 'underwater': 4502, 'directors': 1362, 'condemned': 1007, 'elite': 1526, 'greedy': 1970, '49': 103, 'rise': 3721, 'average': 429, 'inflation': 2263, 'unesco': 4505, 'shift': 3926, 'burden': 708, 'corporations': 1077, 'celebrates': 818, 'tangible': 4273, 'success': 4182, 'extradition': 1654, 'appeal': 322, 'proof': 3404, 'plots': 3270, 'phase': 3203, 'lightbulbs': 2579, 'inefficient': 2255, 'phased': 3204, 'cur': 1161, 'donation': 1424, 'globalhealth': 1930, 'wei': 4694, 'euros': 1594, 'sum': 4198, 'schizophrenic': 3823, 'ebrard': 1487, 'california': 739, 'decriminalize': 1243, 'argentine': 345, 'predictions': 3335, 'walk': 4640, 'homemade': 2109, 'rehabilitation': 3597, 'device': 1331, 'father': 1704, 'scottish': 3841, 'replaces': 3637, 'urban': 4541, 'jungle': 2417, 'hills': 2084, 'boulders': 627, 'tunnels': 4459, 'period': 3188, 'fewer': 1726, 'accidents': 165, 'teen': 4297, 'ray': 3524, 'airports': 254, 'parting': 3137, 'ways': 4679, 'screen': 3844, 'millions': 2800, 'airline': 252, 'clothing': 926, 'debating': 1226, 'creating': 1116, 'blacklist': 564, 'avaaz': 427, 'neutrinos': 2936, 'experiment': 1635, 'pile': 3233, 'spotted': 4082, 'surrounded': 4222, 'stifling': 4131, 'attempting': 404, 'sun': 4200, 'sunday': 4202, 'lithuania': 2604, 'liquidated': 2598, 'waste': 4667, 'entrepreneur': 1566, '639': 114, 'hectares': 2058, 'sq': 4090, 'mi': 2786, 'investor': 2332, 'prejudice': 3337, 'limits': 2590, 'independence': 2237, 'ensure': 1558, 'benefit': 530, 'anders': 297, 'behring': 517, 'breivik': 657, 'accountable': 168, 'psychiatrists': 3437, 'experiencing': 1634, 'disruption': 1388, 'services': 3896, 'closing': 924, 'schools': 3830, 'virtual': 4612, 'cruise': 1150, 'overwhelmingly': 3090, 'prohibition': 3393, 'increased': 2231, 'alert': 261, 'petition': 3202, 'pardon': 3123, 'pioneer': 3239, 'awakening': 435, 'apolitical': 316, 'airs': 255, 'captured': 776, 'coastguard': 932, 'stabbed': 4096, 'fisherman': 1779, 'apprehend': 330, 'rock': 3732, 'revolt': 3699, 'wukan': 4774, 'denizens': 1294, 'shave': 3917, 'mohawks': 2834, 'punks': 3455, 'concert': 1001, 'indonesias': 2250, 'raided': 3491, 'punk': 3454, 'detained': 1321, '65': 116, 'buzzing': 729, 'spiky': 4071, 'stripping': 4163, 'piercings': 3228, 'perceived': 3183, 'christopher': 880, 'hitchens': 2091, '62': 112, 'burned': 714, 'equal': 1572, 'galileo': 1880, 'assad': 380, 'desert': 1308, 'allegedly': 264, 'betrayed': 538, 'volkswagen': 4625, 'reduce': 3569, 'blurring': 591, 'nigh': 2952, 'fought': 1827, 'hide': 2078, 'medals': 2748, 'peru': 3199, 'shell': 3919, 'reign': 3599, 'implementing': 2211, 'gearing': 1898, 'wargames': 4648, 'strait': 4148, 'hormuz': 2127, 'renewable': 3627, 'owned': 3091, 'whalers': 4704, 'ultra': 4484, 'orthodox': 3066, 'gynecology': 2004, 'loggers': 2620, 'indigenous': 2242, 'citizen': 892, 'mit': 2824, 'presence': 3340, 'marked': 2714, 'impact': 2210, 'adolescents': 203, 'career': 782, 'educational': 1503, 'performance': 3186, '195': 34, 'tonnes': 4379, 'methamphetamine': 2778, 'captain': 772, 'tripped': 4439, 'lifeboat': 2573, 'thailand': 4332, 'recognizes': 3555, 'branson': 643, 'rick': 3709, 'falkvinge': 1682, 'restrict': 3678, 'repulsive': 3651, 'consumers': 1040, 'forever': 1817, 'comply': 988, 'fidel': 1730, 'lambasted': 2485, 'republican': 3650, 'race': 3484, 'competition': 981, 'idiocy': 2181, 'ignorance': 2186, 'donates': 1422, '750': 123, 'carlos': 784, 'fuentes': 1858, 'robin': 3731, 'hood': 2124, 'acta': 182, 'mep': 2772, 'kader': 2425, 'arif': 349, 'lead': 2515, 'negotiator': 2928, 'cuts': 1171, 'lifesaving': 2574, 'generic': 1901, 'restricts': 3680, 'bulgarian': 702, 'xpost': 4778, 'evolutionreddit': 1605, 'slovenia': 4001, 'apologizes': 318, 'signing': 3964, 'ljubljana': 2613, 'scans': 3817, 'flying': 1797, 'lake': 2483, 'vostok': 4627, 'cases': 793, 'polio': 3285, 'charlotte': 852, 'settle': 3900, 'singer': 3974, 'damaging': 1183, 'sued': 4186, 'suffers': 4190, 'neurological': 2934, 'problems': 3374, 'linked': 2594, 'providers': 3432, 'log': 2619, 'customers': 1169, 'provide': 3430, 'siding': 3957, 'pronographers': 3403, 'bulgaria': 701, 'ratify': 3518, '309': 81, 'mask': 2723, 'counterfeit': 1088, 'bonds': 609, 'thinking': 4342, 'memo': 2766, 'blows': 589, 'lid': 2569, 'greek': 1971, 'undertaken': 4501, 'destroying': 1316, 'reforms': 3578, 'outrage': 3079, 'safer': 3773, 'guatemala': 1994, 'colombia': 949, 'regional': 3590, 'trade': 4405, 'interpol': 2315, 'hackers': 2007, 'megaupload': 2759, 'defeats': 1253, 'antisec': 311, 'dumps': 1468, 'continued': 1052, 'earned': 1477, 'humanity': 2159, 'construction': 1038, 'leftist': 2534, 'troublesome': 4444, 'destroyed': 1315, 'ensured': 1559, 'unable': 4485, 'earn': 1476, 'devastated': 1329, 'file': 1741, 'downloaders': 1437, 'cp': 1104, 'download': 1436, 'seeing': 3863, 'desecration': 1307, 'aboriginal': 151, 'burial': 709, 'swastikas': 4236, 'kkk': 2457, 'disgusting': 1384, 'concern': 998, 'cruel': 1148, 'inhuman': 2273, 'slash': 3992, 'price': 3355, '97': 143, 'solar': 4023, 'villages': 4599, 'moroccans': 2855, 'penal': 3173, 'code': 936, 'deterrent': 1327, 'amounting': 290, 'iranians': 2342, 'initiative': 2275, 'lt': 2653, 'potato': 3313, 'agricultural': 240, 'produce': 3377, 'directly': 1360, 'producers': 3379, 'pirating': 3245, 'extradited': 1653, 'secretary': 3855, 'theresa': 4335, 'approved': 333, 'visited': 4616, 'criticism': 1136, 'program': 3389, 'aims': 248, 'mariana': 2709, 'corp': 1075, 'crippling': 1132, 'ramifications': 3502, 'colombias': 951, 'americas': 287, 'failure': 1678, 'talk': 4268, 'speaks': 4060, 'favor': 1708, 'foxconn': 1833, 'agreed': 236, 'tackle': 4258, 'violations': 4607, 'assembling': 387, 'iphones': 2339, 'ipads': 2338, 'bred': 655, 'criminals': 1130, 'draconian': 1442, 'gain': 1878, 'touted': 4399, 'sopa': 4036, 'cispa': 888, 'include': 2225, 'warranting': 4656, 'murdochs': 2890, 'sky': 3990, 'troll': 4441, 'exactly': 1606, 'liam': 2560, 'stacey': 4097, 'nz': 2989, 'mysteriously': 2899, 'lose': 2636, 'launch': 2502, '24': 68, '48': 102, 'oxford': 3094, 'library': 2564, 'digitize': 1347, 'pages': 3102, 'texts': 4330, 'available': 428, 'el': 1515, 'salvador': 3783, 'saturday': 3797, 'homicide': 2113, 'auto': 426, 'parts': 3139, 'filed': 1742, 'complaint': 983, 'accusing': 172, 'juarez': 2409, 'scheduled': 3821, 'testify': 4327, 'screaming': 3843, 'bombing': 605, 'pulitzer': 3445, 'drifting': 1451, 'aboard': 150, 'injured': 2277, 'epic': 1570, 'upheld': 4534, 'rulings': 3750, 'iinet': 2190, 'infringements': 2270, 'sanction': 3786, 'authoritarian': 421, 'regimes': 3588, 'backed': 448, 'execs': 1614, 'unveiled': 4531, 'novartis': 2973, 'legally': 2542, 'annulled': 306, 'northern': 2965, 'rajasthan': 3498, '1st': 48, 'blind': 578, 'posts': 3311, 'limiting': 2589, 'organizations': 3063, 'conclude': 1004, 'fit': 1781, 'stewardship': 4130, 'motorcycle': 2862, 'washes': 4663, 'located': 2617, 'harley': 2036, 'davidson': 1205, 'emptive': 1541, 'facilities': 1671, 'vogue': 4621, 'skinny': 3987, 'models': 2830, 'abc': 147, 'broadcasting': 677, 'worried': 4758, 'globe': 1932, 'trash': 4419, 'garbage': 1887, 'patch': 3155, 'fold': 1799, 'profound': 3388, 'changes': 843, 'draft': 1443, 'crop': 1139, 'growing': 1985, 'coca': 933, 'opium': 3040, 'poppies': 3296, 'schoolgirl': 3829, 'hemorrhage': 2069, 'donating': 1423, 'organs': 3064, 'ritchie': 3726, 'lived': 2609, 'gap': 1886, 'infamous': 2257, 'cliff': 917, 'gone': 1941, 'named': 2903, '2011': 57, 'peacefully': 3168, 'wifi': 4717, 'liable': 2559, 'sharing': 3916, 'subjected': 4177, 'extraordinary': 1655, 'policemen': 3282, 'semitic': 3873, 'yemeni': 4788, 'parade': 3119, 'rehearsal': 3598, 'conversation': 1061, 'poachers': 3273, 'maharashtra': 2671, 'quebec': 3477, 'trampling': 4413, 'basic': 489, 'quash': 3476, 'wears': 4685, 'style': 4175, 'lawyers': 2512, 'courtroom': 1099, 'attire': 410, 'unconsitutional': 4491, 'unanimous': 4486, 'similar': 3969, 'cap': 769, 'executive': 1617, 'mars': 2720, 'trip': 4437, 'eduard': 1500, 'khil': 2435, 'trololo': 4442, 'st': 4095, 'petersburg': 3201, '77': 125, 'lutheran': 2660, 'bradbury': 638, 'visitors': 4617, 'forbids': 1808, 'tourism': 4396, 'indefinitely': 2236, 'banker': 470, 'ousted': 3071, 'involved': 2335, 'afraid': 223, 'gallup': 1881, 'priority': 3363, 'john': 2394, 'testifies': 4326, 'oppose': 3044, '1997': 44, 'pure': 3458, 'ecstacy': 1491, 'mdma': 2744, 'regulated': 3595, 'stores': 4143, 'lunches': 2658, 'wired': 4734, 'cipla': 885, 'medicines': 2753, 'shaking': 3912, 'brave': 644, 'jumps': 2415, 'plunge': 3271, 'flees': 1787, 'ecuadorian': 1495, 'blow': 588, 'diversity': 1399, 'winning': 4730, 'unblocks': 4490, 'lonesome': 2626, 'galapagos': 1879, 'tortoise': 4389, 'zealanders': 4802, 'recreational': 3564, 'particularly': 3135, 'backing': 449, 'sexually': 3910, 'assaulted': 386, 'stripped': 4162, 'turned': 4465, 'humans': 2160, 'announcing': 305, 'bunch': 707, 'individuals': 2246, 'process': 3376, 'creation': 1117, 'resale': 3656, 'licenses': 2568, 'fixed': 1783, 'rates': 3517, 'barclays': 481, 'bo': 592, 'diamond': 1333, 'matt': 2735, 'taibbi': 4262, 'libor': 2563, 'deepens': 1248, 'damning': 1185, 'implicates': 2212, 'botswana': 623, 'leatherback': 2526, 'turtle': 4467, 'eggs': 1510, 'crushed': 1151, 'trinidad': 4436, 'beach': 499, 'thestar': 4336, 'melinda': 2761, 'challenges': 838, 'vowing': 4633, 'contraception': 1055, 'thirsty': 4344, 'coroner': 1074, 'patient': 3156, 'pleas': 3267, 'hoax': 2096, 'satirical': 3795, 'took': 4382, 'cervical': 835, 'ja': 2367, 'opted': 3050, 'hpv': 2151, 'vaccination': 4560, 'pupils': 3456, 'follow': 1800, 'strict': 4156, 'principles': 3362, 'practise': 3327, 'portugal': 3302, 'decreases': 1240, 'lenovo': 2548, 'distributes': 1395, 'bonus': 613, '32': 82, 'offshore': 3019, 'roughly': 3738, 'gdp': 1897, 'combined': 959, '280bn': 76, 'hsbc': 2152, 'citigroup': 890, 'ubs': 4477, 'credit': 1120, 'suisse': 4197, 'norwegians': 2968, 'reacted': 3531, 'openness': 3035, 'participation': 3133, 'gorillas': 1946, 'dismantling': 1385, 'snares': 4012, 'rwanda': 3762, 'francois': 1836, 'hollande': 2104, '75': 122, 'earners': 1478, 'deficit': 1261, 'ral': 3499}\n"
     ]
    }
   ],
   "source": [
    "bagX_train=vectorizer.fit_transform(X_train)\n",
    "print(vectorizer.vocabulary_)"
   ]
  },
  {
   "cell_type": "code",
   "execution_count": 76,
   "metadata": {},
   "outputs": [
    {
     "data": {
      "text/plain": [
       "((988, 5056), (1001, 4808))"
      ]
     },
     "execution_count": 76,
     "metadata": {},
     "output_type": "execute_result"
    }
   ],
   "source": [
    "bagX_test.shape, bagX_train.shape"
   ]
  },
  {
   "cell_type": "code",
   "execution_count": 77,
   "metadata": {
    "colab": {
     "base_uri": "https://localhost:8080/",
     "height": 71
    },
    "colab_type": "code",
    "id": "zMyJD1my5mRR",
    "outputId": "f80f59b2-654d-43a7-c583-4c6c4a60b68a"
   },
   "outputs": [
    {
     "name": "stdout",
     "output_type": "stream",
     "text": [
      "{'georgia': 3031, 'downs': 2259, 'russian': 5928, 'warplanes': 7294, 'countries': 1736, 'brink': 1070, 'war': 7283, 'wont': 7430, 'america': 494, 'nato': 4602, 'help': 3286, 'did': 2103, 'iraq': 3718, 'remember': 5696, 'adorable': 369, 'year': 7489, 'old': 4782, 'sang': 5976, 'opening': 4798, 'ceremonies': 1307, 'fake': 2674, 'refuses': 5646, 'israel': 3741, 'weapons': 7329, 'attack': 683, 'iran': 3714, 'report': 5726, 'experts': 2607, 'admit': 361, 'legalise': 3997, 'drugs': 2301, 'mom': 4475, 'missing': 4448, 'gay': 3007, 'man': 4219, 'bad': 758, '21': 102, 'cheerleader': 1356, 'looking': 4128, 'afghan': 393, 'prison': 5323, 'majority': 4194, 'female': 2743, 'prisoners': 5325, 'serving': 6119, '20': 81, 'sentences': 6106, 'victims': 7194, 'rape': 5541, 'arrested': 615, 'locked': 4108, 'hours': 3400, 'taking': 6677, 'photo': 5067, 'police': 5180, 'van': 7158, 'ignoring': 3473, 'entry': 2486, 'sign': 6217, 'elderly': 2392, 'chinese': 1373, 'women': 7425, 'sentenced': 6105, 'education': 2370, 'labor': 3916, 'sought': 6329, 'permit': 5033, 'demonstrate': 2013, 'official': 4773, 'olympic': 4786, 'protest': 5412, 'area': 591, 'british': 1074, 'resident': 5759, 'held': 3278, 'guantanamo': 3155, 'bay': 821, 'wins': 7404, 'legal': 3995, 'battle': 819, 'force': 2871, 'foreign': 2876, 'office': 4769, 'reveal': 5804, 'torture': 6860, 'evidence': 2549, 'syria': 6659, 'says': 6002, 'ready': 5574, 'missile': 4446, 'soil': 6305, 'counterweight': 1735, 'plans': 5133, 'deploy': 2039, 'shield': 6164, 'poland': 5179, 'czech': 1854, 'republic': 5739, 'korea': 3900, 'kim': 3879, 'died': 2107, '2003': 84, 'replaced': 5723, 'lookalike': 4127, 'waseda': 7301, 'professor': 5351, 'north': 4695, 'halts': 3201, 'denuclearisation': 2031, 'fails': 2670, 'remove': 5702, 'list': 4080, 'states': 6443, 'sponsoring': 6386, 'terrorism': 6758, 'photos': 5073, '15': 38, 'iraqi': 3719, 'suicide': 6572, 'bomber': 983, 'gave': 3006, 'military': 4409, 'declaration': 1932, 'moscow': 4510, 'prime': 5314, 'minister': 4428, 'vladimir': 7240, 'putin': 5477, 'accused': 316, 'provoking': 5435, 'conflict': 1610, 'possibly': 5224, 'domestic': 2230, 'election': 2395, 'purposes': 5471, 'girl': 3049, 'filmed': 2780, 'israeli': 3742, 'soldiers': 6309, 'brutality': 1095, 'family': 2690, 'victim': 7193, 'revenge': 5810, 'attacks': 687, 'legalization': 3999, 'marijuana': 4253, 'majour': 4196, 'steps': 6459, 'right': 5842, 'direction': 2130, 'security': 6076, 'guards': 3160, 'beat': 831, 'soccer': 6298, 'football': 2866, 'game': 2989, 'fans': 2696, 'players': 5146, 'charge': 1338, 'field': 2758, 'jordan': 3805, 'honor': 3370, 'killings': 3875, 'murdered': 4562, 'reasons': 5581, 'caught': 1268, 'guilty': 3165, 'claim': 1422, 'killing': 3874, 'obtain': 4746, 'lenient': 4008, 'sentencing': 6107, 'french': 2932, 'judge': 3816, 'ordered': 4826, 'branches': 1030, 'scientologists': 6036, 'leaders': 3971, 'stand': 6424, 'trial': 6935, 'fraud': 2921, 'love': 4144, 'world': 7443, 'thai': 6773, 'samak': 5968, 'sundaravej': 6581, 'forced': 2872, 'resign': 5761, 'court': 1745, 'said': 5948, 'violated': 7218, 'constitution': 1637, 'hosting': 3393, 'cooking': 1687, 'seriously': 6112, 'dutch': 2312, 'ban': 778, 'burkas': 1127, 'picking': 5081, 'children': 1366, 'school': 6025, 'american': 495, 'intelligence': 3650, 'confirms': 1606, 'latest': 3949, 'actions': 334, 'south': 6334, 'ossetia': 4849, 'started': 6434, 'russias': 5930, 'position': 5218, 'correct': 1710, 'opec': 4795, 'finished': 2802, 'saudi': 5990, 'arabia': 581, 'later': 3948, 'saakashvili': 5933, 'lie': 4041, 'west': 7357, 'begins': 846, 'doubt': 2251, 'georgian': 3032, 'leader': 3970, 'pakistani': 4908, 'tribesmen': 6938, 'representing': 5735, 'half': 3197, 'million': 4413, 'people': 5020, 'vowed': 7258, 'switch': 6651, 'sides': 6210, 'amp': 504, 'join': 3796, 'taliban': 6679, 'americans': 496, 'don': 2231, 'stop': 6483, 'raids': 5519, 'pakistan': 4907, 'embassy': 2421, 'yemen': 7492, 'leaves': 3988, '16': 44, 'dead': 1901, '200': 82, 'babies': 746, 'sick': 6209, 'milk': 4411, 'scandal': 6006, 'spreading': 6398, 'brits': 1075, 'short': 6191, 'selling': 6089, 'financial': 2792, 'stocks': 6474, 'navy': 4608, 'sails': 5951, 'venezuela': 7178, '13': 30, 'billion': 898, 'money': 4481, 'allocated': 471, 'reconstruction': 5609, 'projects': 5372, 'wasted': 7308, 'stolen': 6476, 'ending': 2455, 'al': 448, 'qaedas': 5486, 'coffers': 1483, 'empire': 2431, 'near': 4614, 'collapse': 1487, 'woman': 7424, 'red': 5621, 'handed': 3210, 'drinking': 2284, 'orange': 4820, 'juice': 3820, 'dubai': 2304, 'japanese': 3770, 'space': 6342, 'tourist': 6872, 'paid': 4902, 'adventures': 377, '21m': 106, 'iss': 3745, 'bumped': 1120, 'sent': 6103, 'investors': 3703, 'instead': 3632, 'kept': 3848, 'power': 5243, 'nightmares': 4676, 'bbc': 823, 'gorbachev': 3083, 'forms': 2893, 'new': 4653, 'party': 4962, 'opposing': 4816, 'fucking': 2950, 'hell': 3282, 'great': 3119, 'britain': 1072, '2008': 87, 've': 7168, 'soweto': 6341, 'seen': 6082, 'aids': 426, 'orphans': 4844, 'eating': 2340, 'better': 884, 'mexican': 4379, 'farm': 2698, 'dies': 2108, 'lighting': 4055, 'strikes': 6508, 'kill': 3870, 'iceland': 3451, 'sept': 6109, '08': 9, 'best': 880, 'country': 1737, 'live': 4092, '07': 8, 'oct': 4758, 'food': 2863, 'hoarding': 3334, 'currency': 1835, 'rated': 5551, 'just': 3829, 'zimbabwe': 7517, 'russia': 5927, 'won': 7427, 'buy': 1143, 'version': 7183, 'fine': 2795, '11': 23, 'modern': 4464, 'slavery': 6267, 'bush': 1138, 'administration': 359, 'month': 4491, 'quietly': 5503, 'cutting': 1845, 'birth': 908, 'control': 1673, 'supplies': 6593, 'worlds': 7444, 'poorest': 5199, 'africa': 396, 'icelandic': 3452, 'isk': 3731, 'loses': 4134, '73': 218, 'value': 7155, 'single': 6237, 'day': 1893, 'yesterday': 7496, 'usd': 7134, '92': 252, 'today': 6833, '418': 166, 'eu': 2526, 'bans': 795, 'incandescent': 3524, 'light': 4053, 'bul': 1112, 'lawyer': 3964, 'defended': 1970, 'journalists': 3811, 'poisoned': 5177, 'france': 2916, 'behalf': 848, '64': 204, 'canadians': 1189, 'vote': 7251, 'conservative': 1626, 'government': 3094, 'apologize': 547, 'weeks': 7345, 'podium': 5172, 'coke': 1484, 'dealers': 1906, 'badass': 759, 'house': 3401, 'private': 5329, 'zoo': 7522, 'freedoms': 2927, 'threat': 6794, 'big': 892, 'brother': 1085, 'state': 6440, 'warns': 7293, 'director': 2133, 'public': 5443, 'prosecutions': 5399, 'falls': 2683, '119th': 26, '160': 45, 'ranked': 5540, 'press': 5292, 'outside': 4868, 'territory': 6756, 'reporters': 5730, 'borders': 1000, 'argentina': 595, 'nationalizes': 4597, 'pensions': 5017, 'acknowledges': 326, 'enormous': 2471, 'error': 2503, 'takes': 6676, 'action': 333, 'protect': 5408, 'workers': 7440, 'retirees': 5797, 'banks': 791, 'formally': 2891, 'renews': 5710, 'ties': 6818, 'cuba': 1819, 'rampant': 5533, 'committed': 1532, 'crimes': 1784, 'finnish': 2805, 'voting': 7256, 'votes': 7255, 'paper': 4923, 'trail': 6895, 'know': 3894, 'got': 3087, 'worry': 7449, 'wanted': 7281, 'shine': 6169, 'australian': 708, 'friends': 2938, 'potential': 5235, 'internet': 3669, 'filter': 2783, 'problem': 5337, 'let': 4014, 'spotlight': 6393, 'reply': 5725, 'ends': 2458, 'bilingual': 896, 'road': 5864, 'wales': 7271, 'ask': 637, 'camera': 1173, 'license': 4038, 'mp': 4535, 'receive': 5590, 'copy': 1695, 'orwell': 4846, 'nineteen': 4679, 'eighty': 2389, 'kenya': 3845, 'declares': 1934, 'holiday': 3343, 'obama': 4733, 'london': 4119, 'smokers': 6283, 'banned': 792, 'fostering': 2902, 'wait': 7267, 'id': 3454, 'cards': 1224, 'wtf': 7473, 'indifferent': 3554, 'scheme': 6018, 'actually': 345, 'want': 7280, 'card': 1222, 'uk': 7018, 'asks': 640, 'media': 4321, 'release': 5679, 'iaea': 3446, 'documents': 2216, 'linking': 4074, 'nuclear': 4715, 'push': 5473, 'fabricated': 2651, 'sudan': 6556, 'president': 5290, 'announced': 524, 'immediate': 3496, 'ceasefire': 1279, 'darfur': 1877, 'stupid': 6532, 'believing': 865, 'witchcraft': 7413, 'work': 7435, 'harder': 3229, 'recoup': 5615, 'note': 4704, 'left': 3993, 'pyramid': 5482, 'operators': 4806, 'taunt': 6704, 'angry': 516, 'good': 3079, 'going': 3073, 'hang': 3215, 'balls': 776, 'hanged': 3216, 'saddam': 5942, 'hussein': 3439, 'sarkozy': 5981, 'yes': 7495, 'end': 2452, 'like': 4058, 'point': 5173, 'haitians': 3194, 'desperate': 2064, 'mothers': 4516, 'newborns': 4654, 'infants': 3577, 'die': 2106, 'malnourishment': 4215, 'india': 3549, 'sinks': 6242, 'somali': 6316, 'pirate': 5108, 'ship': 6170, 'ignored': 3472, 'g20': 2971, 'meeting': 4331, 'denmark': 2027, 'considers': 1632, 'outlawing': 4859, 'male': 4210, 'circumcision': 1404, 'minors': 4435, 'swiss': 6650, 'army': 612, 'vegetarians': 7171, 'fighting': 2765, 'boycott': 1022, 'tasers': 6701, 'cause': 1269, 'fear': 2720, 'damage': 1860, 'confidence': 1604, 'rip': 5852, 'brenden': 1054, 'foster': 2901, 'wish': 7412, 'feed': 2734, 'homeless': 3351, 'updates': 7109, 'mumbai': 4559, 'blasts': 935, 'photographer': 5070, 'gun': 3169, 'armed': 605, 'make': 4197, 'offence': 4761, 'punishable': 5459, 'years': 7490, 'imprisonment': 3520, 'publish': 5446, 'elicit': 2407, 'information': 3591, 'constable': 1636, 'brazil': 1036, 'announces': 525, 'plan': 5126, 'slow': 6272, 'amazon': 489, 'deforestation': 1981, '70': 212, 'fell': 2739, 'assassin': 647, 'canadian': 1188, 'conservatives': 1627, 'suspend': 6626, 'parliament': 4943, 'avoid': 729, 'facing': 2662, 'non': 4688, 'false': 2685, 'flag': 2826, 'men': 4347, 'illegally': 3482, 'buying': 1145, 'mobile': 4461, 'phone': 5064, 'used': 7136, 'gunmen': 3170, 'counter': 1728, 'insurgency': 3642, 'officer': 4770, 'gets': 3039, 'kiss': 3886, 'deaf': 1904, 'canada': 1186, 'wal': 7270, 'mart': 4268, 'tries': 6941, 'prevent': 5298, 'employee': 2432, 'unionization': 7072, 'supreme': 6602, 'escapee': 2507, 'tells': 6739, 'horrors': 3385, 'korean': 3901, 'camp': 1178, 'unrest': 7096, 'gripped': 3139, 'greece': 3122, 'spilling': 6378, 'rest': 5781, 'europe': 2530, 'raising': 5526, 'concerns': 1583, 'clashes': 1430, 'trigger': 6942, 'opponents': 4810, 'globalization': 3062, 'disaffected': 2136, 'youth': 7507, 'mugabe': 4547, 'arrest': 614, 'charges': 1341, 'jaw': 3774, 'dropped': 2293, 'face': 2653, 'contorted': 1663, 'turks': 6988, 'armenian': 607, 'massacres': 4276, 'shoe': 6181, 'thrower': 6802, 'faces': 2657, '7yrs': 230, 'offending': 4764, 'head': 3254, 'applauds': 564, 'ing': 3597, 'uses': 7141, 'molotov': 4474, 'cocktails': 1478, 'fight': 2762, 'pirates': 5110, 'scientist': 6033, 'repeat': 5719, '1962': 66, 'milgram': 4407, 'test': 6764, '80': 231, 'told': 6836, 'authority': 715, 'figure': 2767, 'learned': 3982, 'threatened': 6796, 'anti': 534, 'act': 330, 'videoing': 7198, 'performing': 5029, 'search': 6056, 'express': 2626, '39': 159, 'capital': 1209, 'discover': 2149, 'lets': 4015, 'intrest': 3682, 'rate': 5550, '22': 107, '99': 260, 'compounded': 1567, 'monthly': 4492, 'late': 3947, 'fee': 2733, 'earth': 2329, 'city': 1413, 'shipbreakers': 6171, '120': 28, 'reportedly': 5728, 'killed': 3871, 'gaza': 3009, 'entire': 2481, 'apt': 579, 'building': 1108, 'civilians': 1418, 'union': 7071, 'activist': 338, 'eye': 2646, 'acid': 323, 'supporters': 6597, 'blockade': 947, 'company': 1547, 'riot': 5848, 'run': 5916, 'leaving': 3989, 'shields': 6165, 'helmets': 3285, 'shoes': 6182, 'pleads': 5152, 'acting': 332, 'spy': 6401, 'australia': 707, 'request': 5743, 'detainees': 2078, 'palestine': 4910, 'stands': 6427, 'soldier': 6308, 'true': 6960, 'lied': 4042, 'vatican': 7166, 'giant': 3044, 'concentration': 1578, 'time': 6824, 'video': 7197, 'didn': 2104, 'hinders': 3320, 'arms': 611, 'delivery': 2001, 'headquarters': 3257, 'hit': 3328, 'white': 7371, 'phosphorus': 5066, 'shells': 6159, 'reveals': 5807, 'worst': 7453, 'sins': 6243, 'desecrating': 2054, 'eucharist': 2527, 'outranks': 4866, 'genocide': 3026, 'farmers': 2700, 'beginning': 845, 'feel': 2735, 'sting': 6468, 'worldwide': 7445, 'officers': 4771, 'warned': 7290, 'traveling': 6922, 'danger': 1869, 'huh': 3417, 'nytimes': 4729, 'publishes': 5448, 'op': 4794, 'ed': 2359, 'libyan': 4035, 'muammar': 4542, 'qaddafi': 5484, 'strangely': 6497, 'makes': 4201, 'sense': 6100, 'solution': 6312, 'bailout': 766, 'russians': 5929, 'cheaper': 1350, 'vodka': 7241, 'cut': 1843, 'alcohol': 454, 'taxes': 6707, 'ease': 2331, 'citizens': 1412, 'pain': 4903, 'human': 3418, 'rights': 5843, 'richard': 5829, 'falk': 2677, 'jewish': 3785, 'evokes': 2551, 'memories': 4345, 'warsaw': 7299, 'ghetto': 3041, 'dismisses': 2169, 'argument': 600, 'assault': 651, 'self': 6086, 'defense': 1973, 'labels': 3915, 'hater': 3244, 'david': 1889, 'attenborough': 691, 'creationist': 1773, 'hate': 3243, 'mail': 4185, 'crediting': 1777, 'god': 3069, 'dear': 1910, 'reddit': 5623, 'attention': 694, 'humanitarian': 3419, 'crisis': 1792, 'democratic': 2009, 'congo': 1611, 'taken': 6675, 'lives': 4095, '1998': 77, 'continue': 1660, 'leave': 3987, '45': 174, '000': 1, 'deep': 1954, 'doo': 2241, 'picture': 5085, 'students': 6524, 'bombings': 985, 'mention': 4350, 'names': 4587, 'ages': 407, 'anymore': 540, 'blame': 927, 'protester': 5414, 'thrown': 6804, 'wen': 7353, 'jiabao': 3787, 'speech': 6365, 'cambridge': 1171, 'university': 7079, 'called': 1165, 'dictator': 2100, 'admits': 362, 'peace': 4997, 'doctor': 2208, 'daughters': 1888, 'tank': 6686, 'claims': 1425, 'reasonable': 5580, 'shocked': 6178, 'moral': 4498, 'girls': 3051, 'pu': 5442, 'lords': 4132, 'surveillance': 6615, 'greatest': 3121, 'democracy': 2008, 'hitler': 3330, 'shortly': 6193, 'fires': 2809, 'pregnant': 5273, 'gang': 2991, '100': 11, 'lashes': 3945, 'committing': 1534, 'adultery': 374, 'christians': 1392, 'jerusalem': 3783, 'jews': 3786, 'spitting': 6381, 'teenage': 6726, 'thief': 6782, 'picked': 5080, 'wrong': 7470, 'tried': 6940, 'bag': 760, 'belonging': 867, 'pensioner': 5015, 'jean': 3776, 'hirst': 3325, 'championship': 1320, 'sprinter': 6400, 'dude': 2307, 'send': 6094, 'veterans': 7187, 'hunt': 3430, 'win': 7396, 'wasn': 7306, 'godly': 3070, 'sniper': 6293, 'shot': 6194, 'running': 5919, 'trees': 6933, 'smoke': 6282, 'mexico': 4381, 'discovered': 2150, 'oil': 4780, 'times': 6826, 'present': 5284, 'known': 3896, 'reserves': 5757, 'saudis': 5991, 'goes': 3072, 'electric': 2399, 'vehicle': 7173, 'progress': 5365, 'extremists': 2644, 'criminalising': 1786, 'legitimate': 4006, 'dissent': 2181, 'guise': 3167, 'extremism': 2642, 'word': 7432, 'definition': 1980, 'seized': 6085, '425': 168, 'acres': 329, 'palestinian': 4911, 'land': 3930, 'build': 1107, 'settlement': 6124, '2500': 120, 'homes': 3357, 'interested': 3661, 'graph': 3112, 'historic': 3326, 'collapses': 1488, 'puts': 5478, 'current': 1836, 'perspective': 5043, 'legalize': 4000, 'ammiano': 499, 'introduce': 3683, 'legislation': 4005, 'monday': 4480, 'allow': 472, 'pot': 5233, 'tax': 6706, 'bono': 992, 'african': 397, 'aid': 423, 'survives': 6620, '10': 10, 'days': 1896, 'ski': 6253, 'mountain': 4522, 'spouse': 6395, 'rescue': 5750, 'teams': 6718, 'began': 841, 'ground': 3141, 'searches': 6057, 'tuesday': 6972, 'despite': 2065, 'helicopter': 3279, 'pilots': 5099, 'twice': 7001, 'reporting': 5731, 'saw': 5999, 'sos': 6327, 'symbol': 6655, 'carved': 1244, 'snow': 6296, 'blocks': 951, 'pasta': 4975, 'shipment': 6172, 'piece': 5087, 'macaroni': 4171, 'united': 7076, 'decided': 1926, 'upcoming': 7107, 'conference': 1601, 'racism': 5508, 'unless': 7084, 'final': 2788, 'document': 2211, 'changed': 1324, 'drop': 2292, 'references': 5632, 'night': 4673, 'asteroid': 667, 'ago': 411, 'size': 6251, 'story': 6494, 'moving': 4532, '12': 27, 'miles': 4406, 'second': 6064, 'buzzed': 1147, 'pass': 4963, 'distance': 2184, 'moon': 4497, 'luck': 4154, 'bigoted': 895, 'parents': 4937, 'disabled': 2135, 'telly': 6740, 'say': 6000, 'mandatory': 4227, 'jail': 3760, 'terms': 6752, 'economist': 2349, 'disaster': 2143, 'policy': 5184, 'jong': 3804, 'il': 3478, 'news': 4656, 'koreans': 3902, 'camps': 1183, 'net': 4641, 'neutrality': 4651, 'guys': 3175, 'mps': 4537, 'jailed': 3761, 'offensive': 4765, 'hamas': 3204, 'ruled': 5911, 'strip': 6510, '434': 171, 'including': 3533, '960': 258, '239': 114, '235': 113, 'fighters': 2764, 'ara': 580, 'wailing': 7266, 'stricken': 6504, 'graphic': 3113, 'shooting': 6185, '37': 157, 'californian': 1163, 'nonviolent': 4689, 'protests': 5419, 'hello': 3283, 'wikileaks': 7385, 'huge': 3415, 'bank': 786, 'gags': 2979, 'newspaper': 4658, 'revealing': 5806, 'multi': 4552, 'pound': 5239, 'rort': 5888, 'adds': 356, 'website': 7336, 'scenes': 6015, 'recession': 5596, 'crowded': 1806, 'civilian': 1417, 'sorts': 6326, 'away': 738, 'terrified': 6754, 'pic': 5077, 'tshirt': 6969, 'way': 7322, 'doesnt': 2219, 'ironic': 3724, 'thousands': 6793, 'cctv': 1276, 'cameras': 1175, 'shut': 6205, 'google': 3081, 'street': 6501, 'view': 7202, 'privacy': 5328, 'china': 1372, 'youtube': 7509, 'drug': 2299, 'pics': 5084, 'defamation': 1958, 'religion': 5686, 'violation': 7220, 'machine': 4173, 'overdrive': 4871, 'shoot': 6183, 'kids': 3867, 'went': 7354, 'warning': 7291, 'shots': 6195, 'exaggerated': 2557, 'does': 2217, 'think': 6786, 'anybody': 539, 'buys': 1146, 'crap': 1762, 'western': 7358, 'censorship': 1294, 'll': 4100, 'morbidly': 4500, 'absurd': 289, 'prosecution': 5398, 'child': 1365, 'pornography': 5212, 'laws': 3962, 'possible': 5223, 'palin': 4913, 'spaniards': 6346, 'grateful': 3115, 'reilly': 5667, 'promising': 5377, 'visit': 7234, 'spain': 6345, 'mideastern': 4397, 'nation': 4595, 'photoshops': 5074, 'photograph': 5068, 'cabinet': 1151, 'dark': 1879, 'calderon': 1161, 'impossible': 3517, 'tons': 6847, 'complicity': 1564, 'authorities': 714, 'protesters': 5415, 'tibet': 6813, 'death': 1912, 'film': 2779, 'maker': 4198, 'sir': 6244, 'patron': 4986, 'group': 3143, 'seeking': 6080, 'growth': 3150, 'population': 5207, 'overfishing': 4872, 'wipe': 7406, 'bluefin': 962, 'tuna': 6977, 'wwf': 7476, 'monsanto': 4490, 'uprooted': 7119, 'germany': 3036, 'cultivation': 1824, 'gm': 3065, 'corn': 1703, 'deleting': 1995, 'tourists': 6873, 'photographing': 5071, 'transport': 6915, 'strictly': 6506, 'forbidden': 2869, 'poll': 5190, '60': 194, 'swedes': 6644, 'showed': 6198, '89': 246, 'cent': 1296, 'believed': 863, 'founders': 2907, 'acquitted': 328, 'decides': 1927, 'museum': 4570, 'tolerance': 6838, 'atop': 681, 'muslim': 4574, 'cemetery': 1291, 'redditors': 5624, 'awarded': 735, 'homo': 3360, 'heroes': 3297, 'fm': 2855, 'believe': 862, 'accepts': 302, 'decisions': 1930, 'admin': 358, 'forth': 2895, 'initiatives': 3604, 'wants': 7282, 'decide': 1925, '19': 56, 'coward': 1753, 'tent': 6745, 'handcuff': 3208, 'hold': 3337, 'indecently': 3545, 'scene': 6014, 'setting': 6122, 'afghanistan': 394, 'need': 4620, 'understand': 7050, 'waterboarding': 7316, 'outbreak': 4853, 'swine': 6649, 'flu': 2851, 'renamed': 5706, 'influenza': 3587, 'deference': 1975, 'sensitivities': 6102, 'pork': 5210, 'health': 3260, 'muslims': 4575, 'dont': 2240, 'care': 1225, 'doesn': 2218, 'speak': 6352, 'everybody': 2546, 'talking': 6681, 'personal': 5040, 'use': 7135, 'breaking': 1045, 'royal': 5901, 'car': 1218, 'bus': 1137, 'high': 3309, 'speed': 6367, 'hits': 3331, 'remarkable': 5693, 'thing': 6784, 'happened': 3221, 'week': 7342, '400': 163, 'fellow': 2741, 'wearing': 7331, 'black': 918, 'solidarity': 6310, 'carrying': 1237, 'signs': 6224, 'support': 6595, 'walked': 7273, 'keswick': 3849, 'rally': 5529, 'consider': 1628, 'banning': 794, 'marriage': 4262, '18': 51, 'brazilian': 1037, 'cattle': 1266, 'ranching': 5535, 'permission': 5032, 'paraguayan': 4927, 'destroy': 2067, 'forest': 2880, 'ayoreo': 743, 'totobiegosode': 6868, 'indians': 3551, 'uncontacted': 7040, 'tribes': 6937, 'biggest': 894, 'sweden': 6643, 'membership': 4342, 'count': 1726, 'tm': 6831, 'shoots': 6186, 'peaceful': 4998, 'protestor': 5417, 'blank': 930, 'idf': 3460, 'intentionally': 3655, 'target': 6695, 'eric': 2501, 'arthur': 623, 'blair': 926, 'aka': 447, 'george': 3030, 'proud': 5420, 'thought': 6791, 'muscle': 4569, 'passes': 4969, 'law': 3959, 'making': 4202, 'illegal': 3481, 'shia': 6163, 'refuse': 5644, 'sex': 6132, 'husband': 3437, 'custody': 1839, 'wonder': 7428, 'doubting': 2252, 'sacrifice': 5940, 'worth': 7454, 'piratebay': 5109, 'launches': 3955, 'wonderful': 7429, 'dimes': 2120, 'swedish': 6645, 'freeze': 2929, 'accounts': 313, 'admins': 360, 'alvaro': 483, 'colom': 1500, 'unsung': 7099, 'hero': 3296, 'reason': 5579, 'bulbs': 1113, 'moat': 4460, 'cleaning': 1438, 'campaigning': 1181, 'journalist': 3810, 'heather': 3269, 'brooke': 1083, 'spent': 6371, 'tooth': 6851, 'nail': 4582, 'come': 1515, 'clean': 1437, 'expenses': 2601, 'tamil': 6684, 'tiger': 6819, 'rebels': 5586, 'velupillai': 7176, 'prabhakaran': 5249, 'belgian': 860, 'bodybuilding': 974, 'canceled': 1193, 'doping': 2244, 'officials': 4775, 'competitors': 1556, 'fled': 2833, 'endemic': 2454, 'abuse': 290, 'irish': 3723, 'catholic': 1265, 'inquiry': 3613, 'finds': 2794, 'nigerian': 4671, 'hundreds': 3424, 'maybe': 4295, 'rich': 5828, 'niger': 4669, 'delta': 2002, 'received': 5591, 'little': 4090, 'international': 3667, 'tiananmen': 6811, 'anniversary': 522, 'unimportant': 7069, 'european': 2531, 'shock': 6177, 'politicians': 5188, 'digital': 2115, 'illiterates': 3486, 'fuck': 2948, 'strike': 6507, 'longer': 4123, 'bound': 1015, '1953': 63, 'armistice': 609, 'immigrant': 3500, 'cracks': 1760, 'centuries': 1303, 'mathematical': 4287, 'puzzle': 5480, 'hidden': 3304, 'massacre': 4275, 'throes': 6800, 'sri': 6410, 'lankan': 3939, 'civil': 1416, 'result': 5790, 'shelling': 6158, 'air': 433, 'aircraft': 435, '215': 103, 'disappeared': 2139, 'radar': 5510, 'atlantic': 676, 'ocean': 4756, 'jaqui': 3772, 'smith': 6280, 'finally': 2789, 'small': 6277, 'respite': 5772, 'breathes': 1050, 'sigh': 6215, 'relief': 5685, 'june': 3826, '4th': 180, '1989': 72, 'carradine': 1234, 'bangkok': 783, 'dearlove': 1911, 'concerned': 1581, 'loss': 4136, 'liberties': 4031, 'mi6': 4386, 'striking': 6509, 'disturbing': 2191, 'invasions': 3690, 'enters': 2479, 'torre': 6858, 'cnn': 1467, 'teaching': 6714, 'spot': 6392, 'terrorists': 6760, 'olds': 4784, 'urges': 7128, 'tell': 6737, 'teacher': 6712, 'hear': 3263, 'expressing': 2627, 'extremist': 2643, 'views': 7206, 'frank': 2919, 'mcgarahan': 4304, 'beaten': 832, 'stepped': 6457, 'courage': 1742, 'life': 4045, 'darkness': 1880, 'berlusconi': 875, 'decree': 1943, 'wiretapping': 7410, 'justice': 3830, 'freedom': 2926, 'blogs': 953, 'italy': 3751, 'asleep': 641, 'tv': 6997, 'pictures': 5086, 'tehran': 6730, 'delivered': 2000, 'stark': 6431, 'reminder': 5699, 'backward': 756, 'medieval': 4329, 'fanatics': 2695, 'thirds': 6789, '30': 139, 'interests': 3662, 'aspirations': 643, 'counterparts': 1732, 'yall': 7484, 'wanna': 7279, 'feminism': 2745, 'patriotism': 4984, 'iranian': 3715, 'leaked': 3976, 'real': 5575, 'results': 5791, 'interior': 3665, 'ministry': 4430, 'ones': 4788, 'showing': 6200, 'ahmadinejad': 420, 'coming': 1519, 'suspicious': 6630, 'accident': 305, '00am': 6, 'posting': 5228, 'vancouver': 7159, 'site': 6247, '2010': 90, 'winter': 7405, 'olympics': 4787, 'seize': 6084, 'warrant': 7295, 'issued': 3747, 'mistaken': 4452, 'grabbed': 3100, 'pinned': 5102, 'arm': 603, 'led': 3991, 'bowels': 1019, 'identification': 3456, 'basij': 813, 'bring': 1067, 'urgent': 7127, 'basiji': 814, 'footballers': 2868, 'wore': 7434, 'green': 3126, 'armbands': 604, 'retire': 5796, 'hardline': 3230, 'regime': 5650, 'unimaginable': 7068, 'horror': 3384, 'screw': 6050, 'honduras': 3366, 'coup': 1739, 'currently': 1837, 'holding': 3339, 'gtfo': 3153, 'happy': 3223, 'scientology': 6037, 'viral': 7227, 'marketing': 4260, 'uganda': 7012, 'outlaw': 4858, 'friend': 2936, 'email': 2416, 'videos': 7199, 'firing': 2813, 'uploaded': 7114, 'eyewitness': 2648, 'account': 310, 'disappear': 2137, 'falsely': 2686, 'cried': 1780, 'town': 6877, 'sale': 5960, 'bottled': 1009, 'water': 7315, 'community': 1545, 'ireland': 3721, 'blasphemy': 932, 'passed': 4966, 'wednesday': 7340, '25': 118, 'euro': 2528, 'enter': 2477, 'confiscate': 1607, 'blasphemous': 931, 'materials': 4286, 'books': 996, 'artwork': 631, 'cartoons': 1243, 'mohammed': 4468, 'book': 994, 'burnings': 1132, 'wars': 7298, 'break': 1043, 'bhopal': 886, 'pop': 5202, 'rationed': 5556, 'minutes': 4437, 'supply': 6594, 'indore': 3567, 'hour': 3399, 'seven': 6128, 'line': 4068, 'melting': 4339, 'alps': 480, 'contaminated': 1652, '1984': 69, 'catastrophe': 1260, 'scared': 6013, 'dow': 2253, 'chemical': 1358, 'management': 4221, 'team': 6715, 'hiding': 3307, 'earthquake': 2330, 'm7': 4169, 'coast': 1471, 'island': 3735, 'zealand': 7513, 'tsunami': 6970, 'professional': 5350, 'snipers': 6294, 'brought': 1089, 'guard': 3158, 'vulnerable': 7261, 'colony': 1505, 'penguins': 5011, 'troops': 6953, 'contractors': 1667, 'caused': 1270, 'substantial': 6547, 'archeological': 589, 'babylon': 748, 'considered': 1630, 'civilizations': 1420, 'fsm': 2945, 'terrible': 6753, 'sad': 5941, 'mum': 4558, 'hard': 3228, 'read': 5573, 'cell': 1286, 'ad': 347, 'shows': 6202, 'friendly': 2937, 'wall': 7276, 'palestinians': 4912, 'kick': 3859, 'ball': 773, 'salvo': 5966, 'tear': 6719, 'gas': 3000, 'grenades': 3130, 'fired': 2807, 'return': 5798, 'includes': 3532, 'lol': 4118, 'jersey': 3782, 'mayors': 4298, 'rabbis': 5506, 'involvement': 3708, 'laundering': 3956, 'conspiracy': 1635, '26': 125, 'documentary': 2213, 'footage': 2865, 'fool': 2864, 'trips': 6949, 'rays': 5562, 'treatment': 6930, 'scourge': 6047, 'scalpal': 6005, 'ringworm': 5846, 'dna': 2204, 'database': 1883, 'convicted': 1683, 'crime': 1782, 'argue': 598, 'innocent': 3609, 'likely': 4059, 'commit': 1529, 'future': 2970, 'drags': 2269, 'daughter': 1887, 'faux': 2713, 'detector': 2081, 'radio': 5514, 'skipped': 6256, 'previous': 5304, 'experience': 2602, 'surprised': 6611, 'hasn': 3242, 'higher': 3310, 'scale': 6004, 'bom': 981, 'incredible': 3542, 'bolivia': 980, 'circus': 1406, 'animals': 519, 'defines': 1979, 'cruelty': 1811, 'kind': 3880, 'chavez': 1348, 'shuts': 6207, '34': 151, 'stations': 6445, 'waves': 7320, 'belong': 866, 'bourgeoisie': 1017, 'idol': 3464, 'teenager': 6727, 'revelation': 5808, 'releases': 5681, 'terrorist': 6759, 'sight': 6216, 'supposedly': 6600, 'unhackable': 7063, 'containing': 1649, 'cloned': 1456, 'modified': 4466, 'unbelievable': 7033, 'hypocrisy': 3444, 'islamic': 3733, 'preacher': 5262, 'dictatorship': 2102, 'allowed': 473, 'descendants': 2050, 'rats': 5559, 'pigs': 5091, 'elected': 2394, 'islamist': 3734, 'parliamentarian': 4944, 'member': 4340, 'refused': 5645, 'malaysia': 4207, 'brain': 1028, 'damaged': 1861, 'nh1n1': 4661, 'masturbation': 4283, 'nhomosexuality': 4663, 'refusal': 5643, 'decrypt': 1952, 'data': 1882, 'message': 4364, 'anonymous': 529, 'living': 4098, 'recently': 5595, 'diagnosed': 2096, 'breast': 1049, 'cancer': 1198, 'gotten': 3089, 'letter': 4016, 'panels': 4921, 'medical': 4322, 'councils': 1723, 'determine': 2085, 'eligible': 2408, 'percent': 5025, 'coverage': 1750, 'provided': 5426, 'pay': 4991, '635': 202, '85': 240, 'service': 6116, 'compared': 1548, '131': 31, '44': 172, 'netherlands': 4644, '137': 32, '94': 255, 'campaign': 1179, 'officially': 4774, 'castrating': 1254, 'driving': 2289, 'alan': 449, 'turing': 6984, 'helped': 3287, 'nazi': 4609, 'codes': 1481, 'revolutionize': 5821, 'computing': 1574, 'homosexual': 3361, 'huckabee': 3414, 'room': 5885, 'middle': 4396, 'homeland': 3350, 'able': 275, 'settlements': 6125, 'aipac': 432, '2012': 92, 'checkbooks': 1354, 'australians': 709, 'stayed': 6448, 'turns': 6994, 'sleeping': 6269, 'atm': 678, 'cocaine': 1474, 'bar': 797, 'guy': 3174, 'haven': 3249, 'learn': 3981, 'effective': 2375, 'decriminalizes': 1950, 'possession': 5220, 'amounts': 503, 'heroin': 3298, 'body': 973, 'trying': 6967, 'plastic': 5139, 'pint': 5103, 'glasses': 3057, 'compulsory': 1571, 'nanny': 4590, 'order': 4825, 'consumption': 1646, 'hostage': 3390, 'kills': 3876, 'escapes': 2508, 'courts': 1747, 'blocking': 950, 'youngest': 7504, 'person': 5039, 'sail': 5949, 'apology': 549, 'backlash': 754, 'latin': 3950, 'liberal': 4028, 'prosecutors': 5401, 'cultural': 1825, 'publishing': 5449, 'cartoon': 1242, 'suggests': 6571, 'ii': 3474, 'fabrication': 2652, 'chief': 1364, 'inspector': 3625, 'calls': 1167, 'hyped': 3441, 'darling': 1881, 'aspiration': 642, 'corrupt': 1714, 'grows': 3149, 'changing': 1326, 'proudly': 5421, 'secular': 6074, 'combat': 1511, 'units': 7077, 'filling': 2777, 'nurse': 4725, 'struck': 6518, 'register': 5654, 'secretly': 6069, 'filming': 2781, 'lack': 3921, 'brighton': 1066, 'hospital': 3386, 'nominated': 4686, 'national': 4596, 'award': 734, 'decades': 1920, 'inbreeding': 3523, 'causing': 1272, 'immense': 3498, 'suffering': 6563, 'pedigree': 5003, 'dogs': 2221, 'plagued': 5122, 'painful': 4904, 'deadly': 1902, 'genetic': 3021, 'diseases': 2162, 'breeding': 1052, 'appearance': 558, 'investigation': 3697, 'starving': 6439, 'virtually': 7230, 'machinery': 4174, 'eaten': 2338, 'livestock': 4096, 'czar': 1853, 'slams': 6260, 'harper': 3235, 'gov': 3091, 'exits': 2588, 'approach': 572, 'utterly': 7146, 'failed': 2668, 'past': 4974, '40': 162, 'emperor': 2430, 'truly': 6961, 'clothes': 1463, 'case': 1246, 'church': 1397, 'dissolved': 2183, 'typo': 7007, 'obscure': 4741, 'voted': 7252, 'explicitly': 2611, 'prevents': 5303, 'richer': 5830, 'wealth': 7326, 'fallen': 2680, 'region': 5652, 'allowing': 474, 'step': 6455, 'plate': 5140, 'richest': 5832, 'continent': 1659, 'promised': 5375, 'wear': 7330, 'lime': 4062, 'dress': 2278, 'funeral': 2966, 'september': 6110, '15th': 43, 'kevin': 3850, 'elliot': 2413, 'promise': 5374, 'young': 7502, 'created': 1768, 'volunteer': 7249, 'patrol': 4985, 'malls': 4214, 'places': 5119, 'interracial': 3673, 'dates': 1886, 'committee': 1533, 'cross': 1801, 'access': 303, 'safe': 5944, 'cease': 1278, 'november': 4709, '1992': 75, '600': 195, 'scientists': 6034, '104': 17, 'nobel': 4684, 'laureates': 3958, 'endorsed': 2456, 'bride': 1062, 'inspires': 3627, 'curfew': 1832, 'extended': 2629, '50': 181, 'brazillian': 1039, 'barrios': 808, 'barracaded': 803, 'evicted': 2547, 'fan': 2694, 'armored': 610, 'pittsburgh': 5114, 'campus': 1184, 'stopping': 6485, 'anarchists': 508, 'philippine': 5061, 'saving': 5996, 'working': 7441, 'chiquitas': 1375, 'plantations': 5135, 'hands': 3214, 'burning': 1131, 'inside': 3617, 'rubber': 5904, 'gloves': 3064, '14': 33, 'mess': 4363, 'farmer': 2699, 'holy': 3348, 'roman': 5879, 'nova': 4707, 'scotia': 6044, 'bishop': 912, 'busted': 1141, 'ncanadian': 4611, 'airport': 441, 'laptop': 3941, 'porn': 5211, 'nthe': 4714, 'kicker': 3861, 'previously': 5305, 'nhelped': 4662, 'broker': 1081, 'nsexually': 4712, 'abused': 291, 'priests': 5312, 'diocese': 2123, 'boy': 1021, 'harnessed': 3234, 'wind': 7397, 'malawian': 4206, 'transformed': 6907, 'village': 7210, 'windmills': 7399, 'junk': 3828, 'revolution': 5819, 'regulation': 5660, 'requires': 5747, 'chemicals': 1359, 'assessed': 657, 'potentially': 5236, 'toxic': 6879, 'effects': 2377, 'beings': 858, 'environment': 2488, 'signals': 6219, 'industrys': 3571, 'ability': 274, 'withhold': 7417, 'critical': 1793, 'italian': 3750, 'prosecutor': 5400, 'cia': 1398, 'kidnapping': 3865, 'grave': 3116, 'cover': 1749, 'energy': 2461, 'utility': 7145, 'companies': 1546, 'prices': 5309, '42': 167, '382': 158, 'household': 3402, 'wholesale': 7374, 'cost': 1717, 'electricity': 2401, 'halved': 3202, 'bills': 903, 'oh': 4779, 'wow': 7459, 'joseph': 3808, 'stalin': 6419, 'grandson': 3107, 'yevgeny': 7497, 'dzhugashvili': 2319, 'launched': 3953, 'claiming': 1424, 'defamed': 1959, 'soviet': 6338, 'deaths': 1913, 'yahoo': 7483, 'users': 7140, 'forces': 2873, 'immediately': 3497, 'taser': 6700, 'manufacturer': 4241, 'directive': 2131, 'aim': 428, 'weapon': 7328, 'suspect': 6623, 'chest': 1361, 'question': 5498, 'guardian': 3159, 'gagged': 2978, 'fingerprint': 2799, 'unmasks': 7087, 'da': 1855, 'vinci': 7214, 'painting': 4905, 'sold': 6307, 'auction': 701, '19th': 78, 'century': 1304, 'german': 3033, 'collector': 1494, 'multispectral': 4557, 'imaging': 3493, 'peer': 5006, 'layers': 3966, 'pigment': 5090, 'discovering': 2151, 'proved': 5423, 'vinvi': 7216, 'serve': 6113, 'occupation': 4750, 'violent': 7224, 'racist': 5509, 'inhumane': 3602, 'undemocratic': 7044, 'immoral': 3503, 'extreme': 2641, 'condition': 1594, 'presents': 5286, 'mortal': 4506, 'peoples': 5021, 'blackwater': 924, 'prostitutes': 5406, 'lithuanian': 4089, 'dad': 1856, 'senior': 6098, 'politician': 5187, 'molested': 4472, 'lobby': 4101, 'decriminalization': 1948, 'kuwaiti': 3910, 'passport': 4971, 'consent': 1622, 'husbands': 3438, 'columbia': 1507, 'cops': 1693, 'stomp': 6478, 'ribs': 5826, 'posted': 5226, 'calder': 1160, 'heard': 3264, 'diplomats': 2127, 'especially': 2510, 'publicly': 5445, 'usually': 7144, 'deal': 1905, 'respond': 5773, 'ah': 418, 'soo': 6321, 'desu': 2073, 'ka': 3835, 'fined': 2796, '900': 249, 'metallica': 4368, 'sucks': 6555, 'frontman': 2943, 'james': 3765, 'hetfield': 3300, 'chose': 1385, 'bands': 781, 'music': 4571, 'represents': 5736, 'likemaybe': 4060, 'aggression': 409, 'adviser': 382, 'sparked': 6348, 'controversy': 1677, 'ecstasy': 2355, 'lsd': 4151, 'cannabis': 1203, 'dangerous': 1870, 'cigarettes': 1400, 'unidentified': 7066, 'ukraine': 7019, 'emergency': 2426, 'declared': 1933, 'following': 2861, 'comments': 1523, 'regarding': 5648, 'ectasy': 2356, 'nutt': 4726, 'sacked': 5937, 'telling': 6738, 'truth': 6965, 'wild': 7388, 'bear': 828, 'beating': 833, 'clash': 1429, 'suppress': 6601, 'broke': 1079, 'agent': 405, 'rendition': 5708, 'epidemic': 2491, '109': 20, '763': 224, 'infected': 3579, 'hospitalized': 3387, 'friday': 2935, 'advisers': 383, 'sacking': 5938, 'whistleblower': 7368, 'cop': 1689, 'sensation': 6099, 'released': 5680, 'series': 6111, 'calling': 1166, 'corruption': 1715, 'christian': 1390, 'janitor': 3768, 'rises': 5855, 'barriers': 807, 'caste': 1252, 'creed': 1778, 'sectarian': 6072, 'gives': 3053, 'save': 5993, 'idea': 3455, 'participating': 4949, 'drafting': 2266, 'speechless': 6366, 'authorized': 717, 'predator': 5268, 'drone': 2290, 'months': 4493, '500': 182, 'kicks': 3862, 'weather': 7334, 'channel': 1327, 'ass': 644, 'approves': 576, 'settler': 6126, 'dog': 2220, 'bridge': 1063, 'latvia': 3951, 'translated': 6909, 'article': 625, 'fifa': 2760, 'finance': 2791, 'stadium': 6414, 'territories': 6755, 'complete': 1560, 'fucked': 2949, 'snooping': 6295, 'cloud': 1465, 'storage': 6487, 'powers': 5247, 'specified': 6363, 'facilitating': 2659, 'prevention': 5301, 'reduction': 5627, 'online': 4791, 'infringement': 3594, 'copyright': 1697, 'limitations': 4064, 'disconnections': 2148, 'offenders': 4763, 'paralyzed': 4931, 'fully': 2956, 'aware': 736, '23': 112, 'isn': 3737, 'vegetable': 7170, 'saying': 6001, 'communicating': 1539, 'really': 5578, 'faking': 2675, 'communication': 1540, 'arriving': 620, 'integration': 3648, 'contract': 1665, 'require': 5745, 'respect': 5771, 'equality': 2493, 'medicine': 4326, 'startling': 6436, 'breakthrough': 1047, 'treating': 6929, 'wife': 7382, 'cure': 1831, 'multiple': 4555, 'sclerosis': 6038, 'ms': 4539, 'nuez': 4716, 'blood': 955, 'mouth': 4527, 'killer': 3872, 'putting': 5479, 'didnt': 2105, 'instinctively': 3633, 'reached': 5567, 'kinds': 3881, 'recorded': 5611, 'types': 7005, 'fibrous': 2756, 'bone': 989, 'refer': 5630, 'clearly': 1441, 'radiation': 5511, 'exposed': 2623, 'poisoning': 5178, 'salad': 5953, 'laced': 3920, 'overdose': 4870, 'pressure': 5293, 'medication': 4324, 'saddest': 5943, 'history': 3327, 'senate': 6092, 'studying': 6527, 'minimum': 4426, 'given': 3052, 'approval': 574, 'minor': 4432, 'amendments': 493, 'ruins': 5909, 'pompeii': 5195, 'added': 350, 'draw': 2276, 'ignites': 3469, 'cup': 1827, 'fever': 2752, 'tony': 6848, 'minute': 4436, 'wmd': 7422, 'taxi': 6708, 'driver': 2287, 'cash4gold': 1249, 'built': 1111, 'maintain': 4190, 'madness': 4179, 'vid': 7196, 'settlers': 6127, 'occupied': 4751, 'intepretation': 3657, 'quantum': 5492, 'physics': 5076, 'parallel': 4928, 'universe': 7078, 'crossed': 1802, 'border': 999, 'timeline': 6825, 'punched': 5457, 'pepper': 5022, 'sprayed': 6396, 'shit': 6176, 'kicked': 3860, 'handcuffed': 3209, 'wet': 7361, 'naked': 4585, 'tycoons': 7004, 'entitled': 2483, 'fields': 2759, 'assume': 663, 'invasion': 3689, 'opposition': 4817, 'federal': 2729, 'isp': 3739, 'filtering': 2784, 'hugo': 3416, 'climate': 1449, 'saved': 5994, 'uninsured': 7070, 'japan': 3769, 'sees': 6083, 'prescriptions': 5282, 'filled': 2776, 'sorry': 6324, 'whopping': 7376, 'bucks': 1099, 'home': 3349, 'paying': 4992, 'managing': 4225, 'things': 6785, 'prague': 5255, 'tower': 6876, 'largest': 3943, 'spherical': 6373, 'npanorama': 4710, 'gigapixel': 3047, 'megazoom': 4336, 'laura': 3957, 'dekker': 1988, 'ran': 5534, 'caribbean': 1228, 'wrecked': 7463, 'copenhagen': 1690, 'backyard': 757, 'training': 6897, 'property': 5390, 'owner': 4883, 'defends': 1972, 'knocks': 3893, 'pope': 5203, 'benedict': 870, 'christmas': 1393, 'mass': 4274, 'fact': 2663, 'born': 1002, 'greater': 3120, 'chance': 1321, 'raped': 5542, 'learning': 3984, 'reports': 5732, 'lots': 4139, 'witness': 7419, 'exiles': 2583, 'close': 1458, 'contacts': 1647, 'risking': 5858, 'post': 5225, 'taboo': 6666, 'major': 4193, 'starting': 6435, 'tomorrow': 6845, 'scanners': 6010, 'images': 3491, 'depict': 2035, 'untouched': 7101, 'stomach': 6477, 'contents': 1656, 'baby': 747, 'birds': 906, 'remote': 5700, 'marine': 4254, 'sanctuaries': 5974, '2000': 83, 'nearest': 4616, 'teach': 6711, 'gays': 3008, 'agenda': 404, 'ugandan': 7013, 'families': 2689, 'sodomize': 6303, 'impose': 3515, 'sentence': 6104, 'behavior': 850, 'having': 3251, 'sexual': 6133, 'intercourse': 3660, 'imams': 3494, 'affiliated': 391, 'council': 1721, 'fatwa': 2712, 'evil': 2550, 'track': 6883, 'captives': 1215, 'agree': 412, 'fly': 2853, 'meet': 4330, 'stole': 6475, 'intellectual': 3649, 'crazy': 1766, 'considering': 1631, 'ceasing': 1281, 'operation': 4803, 'signed': 6220, 'www': 7478, 'redcross': 5622, 'org': 4830, 'donate': 2233, 'haiti': 3192, 'difference': 2111, 'ceases': 1280, 'amaze': 487, 'amazing': 488, 'somebody': 6318, 'spokesman': 6384, 'robert': 5868, 'gibbs': 3046, 'pat': 4977, 'robertson': 5869, 'remarks': 5694, 'cancellation': 1195, 'debt': 1917, '2nd': 138, 'exist': 2584, 'im': 3489, 'collect': 1491, '41': 165, 'mln': 4458, 'doubles': 2250, 'totaling': 6865, '83': 238, '448': 173, '252': 121, 'link': 4071, '360': 156, 'burqa': 1134, 'dr': 2263, 'norman': 4694, 'finkelstein': 2803, 'exterminated': 2631, 'dispicable': 2175, 'martyrdom': 4271, 'try': 6966, 'justify': 3833, 'brutalization': 1096, 'demolition': 2011, 'daily': 1858, 'commits': 1531, 'howard': 3405, 'zinn': 7519, 'arguably': 597, 'important': 3513, 'scholars': 6023, 'raised': 5525, '100k': 13, 'sweat': 6641, 'shutdown': 6206, 'funds': 2965, 'fix': 2824, 'bloomberg': 956, 'secret': 6066, 'banking': 789, 'cabal': 1150, 'uprising': 7117, 'overturns': 4879, 'harvard': 3239, 'student': 6523, 'expelled': 2598, 'essay': 2513, 'computer': 1572, 'drive': 2285, 'sympathetic': 6656, 'lashed': 3944, '101': 16, 'conceiving': 1575, 'rapist': 5546, 'pardoned': 4934, 'turkish': 6987, 'buried': 1126, 'alive': 461, 'honour': 3371, 'nuganda': 4717, 'nanti': 4591, 'worse': 7451, 'rat': 5549, 'acknowledged': 325, 'equation': 2494, 'invading': 3687, 'actively': 336, 'consulted': 1642, 'planning': 5132, 'jazeera': 3775, 'obtained': 4747, 'exclusive': 2567, 'appears': 561, 'ordering': 4827, 'number': 4721, 'range': 5538, 'blocked': 948, 'agreement': 414, 'allows': 475, 'terror': 6757, 'monitor': 4484, 'europeans': 2532, 'transactions': 6903, 'urged': 7125, 'hand': 3207, 'zero': 7515, 'rupees': 5921, 'asked': 638, 'bribe': 1058, 'bid': 890, 'stamp': 6422, 'luger': 4156, 'giving': 3054, 'motorcade': 4520, 'finger': 2798, 'swearing': 6640, 'individual': 3559, 'permitted': 5034, 'foul': 2904, 'language': 3937, 'swear': 6639, 'figures': 2768, 'cigarette': 1399, 'torch': 6855, 'surprise': 6610, 'nice': 4665, 'thugs': 6807, 'upload': 7113, 'autistic': 720, 'kid': 3863, 'employees': 2433, 'charged': 1339, 'pow': 5242, 'auschwitz': 704, 'survived': 6619, '1944': 59, 'denis': 2025, 'avey': 727, 'swapped': 6634, 'identities': 3459, 'prisoner': 5324, '91': 251, 'gaddafi': 2974, 'jihad': 3789, 'switzerland': 6652, 'magnitude': 4182, 'reported': 5727, 'concepcion': 1579, 'chile': 1367, 'constitutional': 1638, 'ncourt': 4612, 'rules': 5912, 'telephone': 6733, 'yeah': 7488, '1985': 70, 'band': 779, '250': 119, '95': 256, 'diverted': 2196, 'ethiopian': 2524, 'silent': 6227, 'rebellion': 5585, 'scanning': 6011, 'manchester': 4226, 'flight': 2839, 'retain': 5792, 'looks': 4129, 'inward': 3709, 'mall': 4213, 'culture': 1826, 'posters': 5227, 'throws': 6805, 'grenade': 3129, 'holland': 3344, 'proposes': 5396, 'simply': 6232, 'english': 2469, 'outlets': 4861, 'shame': 6142, 'cahoots': 1157, 'scientologist': 6035, 'slave': 6266, 'alleges': 467, 'chained': 1314, 'disappointed': 2141, 'religious': 5688, 'organisation': 4832, 'start': 6433, 'accept': 300, 'bonkers': 991, 'lessons': 4013, 'learnt': 3985, 'beard': 829, 'boards': 968, 'plane': 5127, 'exploding': 2613, 'rid': 5836, 'penalty': 5009, 'spanish': 6347, 'organization': 4838, 'sgae': 6136, 'brings': 1069, 'outcome': 4854, 'p2p': 4888, 'networks': 4648, 'edonkey': 2366, 'bittorrent': 917, 'material': 4285, 'profit': 5353, 'completely': 1562, 'whoops': 7375, 'li': 4024, 'dems': 2020, 'restore': 5784, 'trampled': 6899, 'nick': 4666, 'clegg': 1444, 'teamed': 6716, 'fishing': 2822, 'critically': 1794, 'endangered': 2453, 'species': 6360, 'extinction': 2633, 'paedophilia': 4898, 'plainly': 5124, 'loudly': 4142, 'sinful': 6235, 'criminal': 1785, 'israels': 3744, 'fu': 2947, 'east': 2333, 'negotiation': 4628, 'ireport': 3722, 'comment': 1522, 'vetted': 7189, 'raise': 5524, 'awareness': 737, 'happening': 3222, 'thank': 6775, 'upvote': 7121, 'karmawhore': 3839, 'throwaway': 6801, 'xvi': 7482, 'defrock': 1983, 'priest': 5311, 'boys': 1023, 'receiving': 5593, 'letters': 4017, 'bishops': 913, 'pleading': 5151, 'pocketed': 5170, 'revenues': 5812, 'dealings': 1908, 'consortium': 1634, 'ui': 7017, 'corporation': 1707, 'efforts': 2381, 'connection': 1618, 'naval': 4606, 'sinking': 6241, 'board': 966, 'torpedo': 6857, 'suspected': 6624, 'large': 3942, 'explosion': 2616, 'subway': 6550, 'economy': 2351, 'rushed': 5925, 'debate': 1914, 'fox': 2910, 'ripping': 5853, 'content': 1655, 'straight': 6495, 'depths': 2049, 'shin': 6168, 'bet': 881, 'mentioning': 4351, 'identifying': 3458, 'reporter': 5729, 'expose': 2622, 'reuters': 5803, 'shouldn': 6196, 'outraged': 4865, 'silenced': 6226, 'published': 5447, 'kyrgyz': 3912, 'overall': 4869, 'bishkek': 911, 'escape': 2505, 'kyrgyzstan': 3913, 'trust': 6963, 'aggregator': 408, 'political': 5186, 'bcg': 824, 'offered': 4767, 'diligent': 2118, 'effort': 2380, 'morally': 4499, 'nearly': 4617, 'immersion': 3499, 'propaganda': 5385, 'piiiiiiiissed': 5092, 'arrests': 617, 'crew': 1779, 'members': 4341, 'coal': 1469, 'trashed': 6919, 'barrier': 806, 'reef': 5628, 'finding': 2793, 'groups': 3144, 'males': 4211, 'executed': 2572, 'using': 7142, 'unfortunately': 7062, 'special': 6358, 'ops': 4818, 'entered': 2478, 'quarters': 5493, 'ied': 3466, 'dormitory': 2246, 'disruptive': 2180, 'volcano': 7246, 'talks': 6682, 'burials': 1125, 'sensitive': 6101, 'souls': 6330, 'explicit': 2610, 'bit': 915, 'turn': 6989, 'electorate': 2398, 'dollar': 2225, 'gt': 3152, 'firm': 2814, 'represent': 5733, 'prophet': 5391, 'sues': 6559, 'danish': 1872, 'newspapers': 4659, 'countersues': 1733, 'insulted': 3639, 'koran': 3899, 'demanding': 2005, 'passages': 4965, 'removed': 5703, 'burqas': 1135, 'appalls': 552, 'forcing': 2874, 'discrimination': 2155, 'traffic': 6892, 'park': 4941, 'lost': 4138, 'bronze': 1082, 'medal': 4319, 'gymnast': 3176, 'proven': 5424, 'underage': 7045, 'belgium': 861, 'lower': 4147, 'veil': 7175, 'homosexuality': 3362, 'sin': 6234, 'soviets': 6339, 'leaking': 3978, 'wells': 7352, 'couldn': 1720, 'seal': 6053, 'nuked': 4719, 'greeks': 3125, 'struggle': 6520, 'status': 6446, 'emptied': 2436, 'abandoned': 263, 'vacations': 7149, 'jobs': 3793, 'bemoan': 869, 'difficult': 2114, 'humiliated': 3423, 'sabotaged': 5935, 'summit': 6579, 'recordings': 5613, 'spiegel': 6374, 'prevented': 5299, 'tackling': 6668, 'change': 1323, 'crucial': 1809, 'powerless': 5246, 'look': 4126, 'furious': 2967, 'mad': 4177, 'austerity': 706, 'gambling': 2988, 'losses': 4137, 'hey': 3301, 'sec': 6062, 'clears': 1442, 'murderer': 4563, 'apparently': 554, 'torturing': 6862, 'confessions': 1603, 'chilli': 1369, 'fireworks': 2812, 'gordon': 3084, 'brown': 1090, 'stepping': 6458, 'labour': 3918, 'unfolds': 7061, 'slowly': 6273, 'gulf': 3168, 'denies': 2024, 'lgbt': 4023, 'documentarian': 2212, 'kiana': 3858, 'firouz': 2816, 'asylum': 671, 'deported': 2044, '300': 140, 'hanging': 3217, 'unrepentant': 7094, 'noise': 4685, 'kabul': 3836, 'chomsky': 1379, 'interrogators': 3674, 'written': 7469, 'suggested': 6567, 'likes': 4061, 'elvis': 2414, 'costello': 1718, 'santana': 5979, 'cancel': 1192, 'supporting': 6598, 'academic': 296, 'crackdown': 1758, 'paintings': 4906, 'picasso': 5078, 'matisse': 4288, 'artists': 630, 'art': 622, 'paris': 4939, 'challenged': 1318, 'intention': 3654, 'muhammad': 4549, 'veteren': 7188, 'satirist': 5987, 'zapiro': 7512, 'newstands': 4660, 'sell': 6088, 'warheads': 7286, 'apartheid': 543, 'kenyan': 3846, 'judges': 3817, 'rule': 5910, 'nare': 4592, 'discriminatory': 2156, 'unconstitutional': 7039, 'severs': 6131, 'norway': 4699, '1bn': 79, 'forests': 2881, 'indonesia': 3563, 'sank': 5977, 'warship': 7300, 'details': 2075, 'flotilla': 2847, 'incident': 3528, 'bigger': 893, 'strategic': 6499, 'implications': 3512, 'produced': 5343, 'stratfor': 6500, 'global': 3060, 'harm': 3232, 'comes': 1516, 'consequences': 1623, 'lift': 4050, 'repeating': 5721, '1947': 60, 'refugees': 5641, 'boarded': 967, 'wounding': 7458, 'pr': 5248, 'paved': 4989, 'founding': 2908, 'indian': 3550, 'executives': 2577, 'removing': 5705, 'haaretz': 3180, 'infographic': 3589, 'tallest': 6683, 'mountains': 4523, 'deepest': 1956, 'trench': 6934, 'deepwater': 1957, 'horizon': 3378, 'drilling': 2281, 'depth': 2048, 'supremo': 6603, 'labyrinth': 3919, 'horrifying': 3383, 'bodyguard': 975, 'abby': 267, 'sutherland': 6633, 'sailor': 5950, 'dares': 1876, 'solved': 6314, 'soon': 6322, 'restricted': 5788, 'retention': 5795, 'activity': 341, 'passports': 4972, 'bp': 1024, 'doing': 2224, 'pretty': 5297, 'demolish': 2010, 'homeowners': 3355, 'alternative': 481, 'proposal': 5394, 'razed': 5563, 'discussed': 2158, 'alleged': 465, 'mossad': 4513, 'adversely': 378, 'affect': 390, 'relations': 5675, 'berlin': 874, 'far': 2697, 'obtaining': 4748, 'murder': 4561, 'persecution': 5038, 'beacon': 827, 'internationally': 3668, 'perpetrator': 5036, 'atrocities': 682, 'dying': 2315, 'secretive': 6068, 'train': 6896, 'armies': 608, 'southern': 6335, 'mineral': 4419, 'sanctions': 5973, 'legalizes': 4002, 'marry': 4265, 'partner': 4957, 'castration': 1255, 'punishment': 5462, 'seeks': 6081, 'opinion': 4807, 'repealed': 5718, 'quite': 5505, 'detractors': 2087, 'tactics': 6669, 'improve': 3521, 'suffered': 6562, 'severe': 6129, 'facial': 2658, 'burns': 1133, 'drops': 2295, 'veteran': 7186, 'editor': 2362, 'twitter': 7002, 'mourning': 4526, 'pro': 5333, 'hezbollah': 3302, 'adulterer': 373, 'stoning': 6481, 'bangladesh': 784, 'refusing': 5647, 'bribes': 1060, 'relatives': 5678, 'pursue': 5472, 'ok': 4781, 'long': 4122, 'hottest': 3398, 'record': 5610, 'according': 309, 'nasa': 4593, 'hotter': 3397, 'keeping': 3842, 'records': 5614, 'grant': 3109, 'marriages': 4263, 'heterosexual': 3299, 'unions': 7073, 'gadget': 2975, 'makersincluding': 4200, 'hp': 3407, 'applemay': 566, 'raw': 5560, 'ingredients': 3598, 'genocidal': 3025, 'militias': 4410, 'movement': 4529, 'begun': 847, 'trace': 6881, 'rare': 5548, 'metals': 4369, 'mines': 4422, 'victory': 7195, 'founder': 2906, 'julian': 3821, 'assange': 646, 'knows': 3897, 'designer': 2062, 'sunglasses': 6584, 'consensual': 1621, 'introduced': 3684, 'daniel': 1871, 'pushing': 5475, '2009': 88, 'user': 7139, 'logs': 4117, 'massive': 4277, 'leak': 3975, 'files': 2773, 'exposes': 2624, 'interview': 3680, 'wide': 7379, 'discrepancy': 2154, '2006': 85, 'insurgent': 3643, 'newly': 4655, 'weren': 7355, 'catalonia': 1259, 'bullfighting': 1118, 'landmark': 3935, 'fundamental': 2961, 'shamed': 6143, 'grilling': 3134, 'coach': 1468, 'punished': 5460, 'betraying': 883, 'lightly': 4056, 'withdraw': 7414, 'weekend': 7343, 'imprisoned': 3519, 'hikers': 3317, 'bargaining': 802, 'chips': 1374, 'unjust': 7080, '28': 133, 'felipe': 2738, 'agrees': 415, 'discuss': 2157, 'wrote': 7472, 'detention': 2083, 'pentagon': 5018, 'demands': 2006, '90': 248, 'methinks': 4375, 'works': 7442, '800': 232, 'wildfires': 7390, 'ignited': 3468, 'heat': 3268, 'wave': 7319, 'claimed': 1423, '52': 185, 'responsibility': 5778, 'consumes': 1645, 'responsible': 5779, 'educating': 2369, 'socioeconomic': 6301, 'context': 1658, 'production': 5346, 'distribution': 2189, 'vicente': 7191, 'super': 6586, 'rejected': 5670, 'invitation': 3704, 'gates': 3002, 'warren': 7297, 'buffett': 1103, 'pledge': 5154, 'fortune': 2896, 'criticized': 1796, 'millionaires': 4415, 'donations': 2238, 'replace': 5722, 'duties': 2313, 'carried': 1235, 'pedophiles': 5005, 'inquest': 3612, 'kelly': 3844, 'casting': 1253, 'destruction': 2071, 'satellite': 5983, 'extent': 2630, 'flooding': 2842, 'vs': 7260, 'noam': 4683, 'enables': 2442, 'host': 3389, 'place': 5116, 'servers': 6115, 'campaigns': 1182, 'joint': 3800, 'taxpayers': 6709, 'pick': 5079, 'tab': 6664, 'hospitals': 3388, 'maim': 4187, 'arabian': 582, 'mans': 4237, 'spinal': 6379, 'cord': 1701, 'ceo': 1305, 'scandinavian': 6009, 'megabank': 4333, 'crash': 1763, 'treated': 6927, 'differently': 2113, 'firms': 2815, 'jam': 3763, 'criminalization': 1788, 'hiv': 3333, 'synagogue': 6658, 'squarely': 6409, 'center': 1298, 'heart': 3266, 'pride': 5310, 'downtown': 2260, 'beirut': 859, 'vietnam': 7200, 'adopts': 368, 'washington': 7304, 'interventionist': 3679, 'gen': 3016, 'vinh': 7215, 'reconfirmed': 5608, 'pillars': 5096, 'vietnams': 7201, 'joining': 3798, 'alliances': 469, 'ally': 476, 'set': 6120, 'bases': 811, 'offset': 4777, 'spate': 6351, 'negative': 4624, 'stories': 6491, 'combatant': 1512, 'willing': 7395, 'sweeping': 6646, 'concession': 1585, 'dividing': 2199, 'pact': 4894, 'demand': 2003, 'remain': 5690, 'undivided': 7055, 'associated': 662, 'standards': 6426, 'staff': 6415, 'uncritically': 7042, 'suggestions': 6570, 'situation': 6250, 'different': 2112, 'climbing': 1451, 'mt': 4541, 'kilimanjaro': 3869, 'charity': 1344, 'bidding': 891, 'peak': 5001, 'squander': 6407, 'opportunity': 4812, 'upvotes': 7122, 'awesome': 739, 'harvesting': 3240, 'crops': 1800, 'market': 4259, 'fetching': 2751, 'firewood': 2811, 'loved': 4145, 'insurgents': 3644, 'captive': 1214, 'tweets': 7000, 'whereabouts': 7366, 'weary': 7333, 'debates': 1915, 'legalizing': 4003, 'suggestion': 6569, 'percolating': 5026, 'exhausted': 2582, 'runaway': 5917, 'violence': 7223, 'renowned': 5711, 'harbouring': 3227, 'imf': 3495, 'fears': 2723, 'social': 6299, 'dawkins': 1891, 'fry': 2944, 'pratchett': 5258, 'sources': 6333, 'confirmed': 1605, 'morning': 4502, 'tel': 6731, 'aviv': 728, 'accidentally': 306, 'yr': 7510, 'instantly': 3631, 'egyptian': 2386, 'manipulate': 4230, 'attempt': 688, 'mubarak': 4543, 'spoiler': 6383, 'shopped': 6187, 'wounded': 7457, 'infantry': 3576, 'unit': 7074, 'fights': 2766, 'ambush': 491, 'kunar': 3906, 'province': 5430, 'bullet': 1116, 'helmet': 3284, 'direct': 2129, 'rail': 5520, 'frankfurt': 2920, 'journey': 3812, 'insinuating': 3620, 'reserve': 5756, 'moment': 4476, 'assassins': 650, 'queen': 5496, 'poverty': 5241, 'fund': 2960, 'buckingham': 1098, 'palace': 4909, 'source': 6332, 'nations': 4599, 'tapes': 6691, 'servicemen': 6117, 'sport': 6390, 'finish': 2801, 'reparation': 5716, 'websites': 7337, 'scandinavia': 6008, 'combating': 1513, 'suspects': 6625, 'mainsteam': 4189, 'panama': 4918, 'tycoon': 7003, '50m': 184, 'poor': 5198, 'millionaire': 4414, 'denying': 2032, 'evolution': 2552, 'warming': 7288, 'study': 6526, 'effect': 2374, 'prostitution': 5407, 'improvement': 3522, 'hungarian': 3425, 'sludge': 6274, 'spill': 6377, 'reaches': 5568, 'danube': 1873, 'river': 5862, 'prize': 5332, 'liu': 4091, 'xiaobo': 7480, '33': 148, 'trapped': 6917, 'chilean': 1368, 'miners': 4421, 'moved': 4528, 'profiting': 5357, 'expense': 2600, 'drawing': 2277, 'share': 6147, 'proceeds': 5339, 'ordeal': 4824, 'business': 1139, 'thursday': 6808, 'dublin': 2305, 'brian': 1057, 'lenihan': 4009, 'allied': 470, 'bought': 1011, '832': 239, 'miner': 4418, 'hoisted': 3336, '33rd': 150, 'rescued': 5751, 'absolutely': 286, 'astounded': 668, 'managed': 4220, 'pull': 5452, 'funding': 2964, 'blacklisting': 921, 'decision': 1929, 'moneybookers': 4482, 'collects': 1495, 'whistleblowing': 7370, 'damn': 1866, 'engineer': 2467, 'unemployment': 7056, 'lowest': 4149, 'income': 3534, 'inequality': 3573, 'healthcare': 3261, 'expectancy': 2593, 'low': 4146, 'infant': 3575, 'mortality': 4507, 'numeracy': 4723, 'literacy': 4084, 'incarceration': 3526, 'homicides': 3359, 'mental': 4349, 'illness': 3487, 'beats': 835, 'mile': 4405, 'elects': 2403, 'mayor': 4297, 'page': 4899, 'featured': 2725, 'homosexuals': 3363, 'bright': 1064, 'yellow': 7491, 'banner': 793, 'alongside': 477, 'addresses': 354, 'crocodile': 1798, 'passengers': 4968, 'karzai': 3840, 'receives': 5592, 'cash': 1248, 'presidential': 5291, 'expects': 2596, 'provides': 5428, 'bags': 762, 'ruinous': 5908, 'lawsuits': 3963, 'bombshell': 987, 'cambodians': 1170, 'funded': 2963, 'saves': 5995, 'attacking': 686, 'grabbing': 3101, 'tail': 6673, 'sink': 6240, 'surface': 6604, 'boat': 969, 'storey': 6490, 'fall': 2679, 'unharmed': 7064, 'bounces': 1013, 'cafe': 1155, 'awning': 740, 'passing': 4970, 'shoppers': 6188, 'pulling': 5454, 'copies': 1691, 'adbusters': 349, 'magazine': 4181, 'shelves': 6161, 'congress': 1614, 'cjc': 1421, 'semitism': 6091, 'photographs': 5072, 'ghettos': 3042, 'couple': 1740, 'jackpot': 3758, 'passenger': 4967, 'observed': 4743, 'caucasian': 1267, 'appeared': 559, 'subject': 6537, 'attended': 693, 'washroom': 7305, 'emerged': 2425, 'asian': 636, 'early': 2324, '20s': 101, 'knowingly': 3895, 'statements': 6442, 'opponent': 4809, 'risk': 5857, 'void': 7244, 'noticed': 4705, 'heavy': 3272, 'horrifically': 3382, 'theyre': 6781, 'easily': 2332, 'numbers': 4722, 'handle': 3212, 'lightweight': 4057, 'indoctrinated': 3561, 'capacity': 1208, 'loyalty': 4150, 'barbarism': 799, 'exceeds': 2562, 'adults': 376, 'premier': 5276, 'indispensable': 3558, 'censored': 1293, 'cyber': 1847, 'stay': 6447, 'classy': 1435, 'boris': 1001, 'johnson': 3795, 'authorise': 711, 'wests': 7360, 'spread': 6397, 'achieved': 321, 'vile': 7209, 'means': 4311, 'getting': 3040, 'groped': 3140, 'tsa': 6968, 'bother': 1006, 'finland': 2804, 'catch': 1262, 'watching': 7313, 'remand': 5692, 'local': 4103, 'advises': 384, 'tour': 6870, 'texas': 6769, 'tim': 6822, 'berners': 876, 'lee': 3992, 'creator': 1774, 'defend': 1969, 'fragmented': 2915, 'islands': 3736, 'apple': 565, 'facebook': 2654, 'artillery': 628, 'maritime': 4256, 'prompting': 5382, '29': 137, 'pike': 5093, 'deployed': 2040, 'schoolchildren': 6027, 'whitehall': 7372, 'traditional': 6890, 'toothless': 6852, 'reduced': 5626, 'jo': 3792, 'properly': 5388, 'ecuador': 2357, 'offers': 4768, 'wikileak': 7384, 'residency': 5758, 'questions': 5500, 'declaring': 1935, 'outlandish': 4857, 'secrecy': 6065, 'bradley': 1027, 'manning': 4236, 'solider': 6311, 'vanishes': 7162, 'removes': 5704, 'dns': 2205, 'razor': 5564, '1911': 57, 'recent': 5594, 'mirroring': 4440, 'free': 2924, 'journalism': 3809, 'remind': 5698, 'collective': 1493, 'persecuted': 5037, 'amnesty': 501, 'abuses': 293, 'mc': 4299, 'hammered': 3206, 'mastercard': 4279, 'downed': 2254, 'ddos': 1900, 'overnight': 4874, 'payment': 4993, 'sue': 6557, 'visa': 7232, 'lula': 4158, 'blaming': 929, 'disclosed': 2145, 'blamed': 928, 'copycats': 1696, 'popping': 5205, 'indoleaks': 3562, 'brusselsleaks': 1093, 'balkanleaks': 771, 'cameraman': 1174, 'baghdad': 761, 'delays': 1990, 'hotel': 3394, 'suggest': 6566, 'colluded': 1498, 'conditions': 1595, 'glenn': 3058, 'greenwald': 3128, 'salon': 5962, 'com': 1509, 'paypal': 4995, 'instruments': 3637, 'stallman': 6421, 'hacking': 3187, 'equivalent': 2497, 'demonstration': 2016, 'enable': 2440, 'registered': 5655, 'defiance': 1976, 'mirror': 4439, 'rejects': 5672, 'downloading': 2258, 'revealed': 5805, 'bullied': 1119, 'investigating': 3696, 'wikilleaker': 7386, 'cpl': 1756, 'brad': 1025, 'pre': 5261, 'usa': 7133, 'labelled': 3914, 'engages': 2464, 'deserving': 2059, 'bogus': 978, 'gag': 2977, 'pointless': 5174, 'polls': 5191, 'influence': 3585, 'lancet': 3929, 'demonstrates': 2014, 'clear': 1439, 'scientific': 6032, 'opposes': 4815, 'advisory': 385, 'misuse': 4455, 'piracy': 5107, 'villager': 7211, 'speaking': 6355, 'netizens': 4645, 'truck': 6957, 'threatens': 6798, 'cable': 1152, 'july': 3822, '1990': 73, 'ambassador': 490, 'april': 578, 'glaspie': 3056, 'kuwait': 3909, 'friendship': 2939, 'punja': 5463, 'governor': 3096, 'salman': 5961, 'taseer': 6699, 'assassinated': 648, 'islamabad': 3732, 'functioning': 2959, 'level': 4018, 'consistent': 1633, 'avoiding': 731, 'nationwide': 4600, 'egypt': 2384, 'attend': 692, 'coptic': 1694, 'murrow': 4568, 'leonid': 4012, 'parfyonov': 4938, 'stunning': 6531, 'television': 6736, 'watch': 7311, 'audience': 703, 'listened': 4081, 'deadpan': 1903, 'loud': 4140, 'uh': 7016, 'brisbane': 1071, 'au': 699, 'cities': 1408, 'washed': 7302, 'floods': 2843, 'toll': 6841, 'rising': 5856, 'succeeded': 6551, 'pesticides': 5050, 'increasing': 3540, 'yields': 7499, 'incomes': 3535, 'diversifying': 2194, 'farming': 2701, 'systems': 6663, 'project': 5370, 'promoting': 5380, 'sustainable': 6632, 'practices': 5251, 'aussie': 705, 'lanka': 3938, 'probably': 5334, 'mauritanian': 4292, 'issue': 3746, 'genital': 3024, 'mutilation': 4578, 'fgm': 2754, 'thousand': 6792, 'israelis': 3743, 'protested': 5413, 'waving': 7321, 'came': 1172, 'policies': 5183, 'disclosures': 2147, 'significant': 6221, 'precisely': 5265, 'govt': 3097, 'deceit': 1922, 'wrongdoing': 7471, 'deliberately': 1998, 'wildly': 7393, 'misconduct': 4441, 'central': 1300, 'institutions': 3634, 'parties': 4955, 'treasury': 6926, 'boss': 1005, 'blast': 933, 'rocks': 5875, 'main': 4188, 'tunisia': 6979, 'riots': 5851, 'cairo': 1158, 'residents': 5760, 'passwords': 4973, 'wi': 7377, 'fi': 2755, 'routers': 5897, 'communicate': 1538, 'violently': 7225, 'smooth': 6285, '100s': 15, 'blackout': 923, 'faxing': 2717, 'cables': 1153, 'enabled': 2441, 'feature': 2724, 'voice': 7243, 'demonstrators': 2018, 'tahrir': 6671, 'square': 6408, 'concessions': 1586, 'insufficient': 3638, 'reverse': 5814, 'crtc': 1808, 'billing': 897, 'ub': 7009, 'horrific': 3381, 'diplomatic': 2126, 'streets': 6502, 'jan': 3766, 'einstein': 2390, 'honey': 3368, 'bee': 837, 'telegraph': 6732, 'runs': 5920, 'overpowered': 4875, 'tipped': 6828, 'bow': 1018, 'march': 4248, 'pm': 5165, 'silvio': 6229, 'suspends': 6629, 'antartic': 533, 'whaling': 7365, 'dramatic': 2272, 'departure': 2034, 'longstanding': 4125, 'intends': 3652, 'resolutions': 5768, 'censuring': 1295, 'revolutionary': 5820, 'commanding': 1521, 'assurances': 665, 'required': 5746, 'open': 4796, 'quake': 5491, 'christchurch': 1388, 'listening': 4082, 'gadaffi': 2973, 'batshit': 818, 'insane': 3614, 'libya': 4034, 'rebel': 5584, 'tripoli': 6947, 'ghostly': 3043, 'marauding': 4247, 'hotrod': 3396, 'indiscriminately': 3557, 'mercenaries': 4356, 'hired': 3323, 'immune': 3504, 'clause': 1436, 'resolution': 5767, 'demanded': 2004, 'insanely': 3615, 'slums': 6276, 'king': 3882, 'bahrain': 763, 'referring': 5634, 'engaging': 2465, 'guerilla': 3163, 'bazookas': 822, 'losing': 4135, 'planet': 5129, 'pink': 5101, 'floyd': 2850, 'roger': 5877, 'waters': 7318, 'joins': 3799, 'divestment': 2197, 'bds': 825, 'seedbox': 6077, '172': 49, 'savings': 5997, 'proposed': 5395, 'exercise': 2580, 'charade': 1337, 'appease': 562, 'strong': 6515, 'curry': 1838, 'favour': 2715, 'cameron': 1176, 'dissident': 2182, 'creates': 1769, 'documentation': 2214, 'mark': 4257, 'zuckerberg': 7525, 'profile': 5352, 'dalai': 1859, 'lama': 3927, 'citing': 1410, 'tibetan': 6814, 'deserve': 2057, 'freely': 2928, 'northeastern': 4696, 'links': 4075, 'sites': 6248, 'crashing': 1765, 'sendai': 6095, 'aches': 319, 'forget': 2883, 'homepage': 3356, 'boom': 997, 'stuff': 6528, 'increasingly': 3541, 'relied': 5684, 'sector': 6073, 'concentrated': 1577, 'manufacturing': 4242, 'adrift': 370, 'pacific': 4890, 'photographed': 5069, 'specialist': 6359, '3rd': 161, 'class': 1431, 'dylan': 2316, 'mccord': 4302, 'unarmed': 7031, 'operating': 4802, 'nsfw': 4713, 'based': 810, 'heads': 3258, 'mi5': 4385, 'cps': 1757, 'contempt': 1653, 'nakba': 4584, 'punish': 5458, 'reference': 5631, '1948': 61, 'burma': 1128, 'classified': 1433, 'gadhafi': 2976, 'aide': 424, 'bodies': 972, 'morgue': 4501, 'holder': 3338, 'announce': 523, 'emerge': 2424, 'stood': 6482, 'knelt': 3891, 'mud': 4544, 'brick': 1061, 'exploded': 2612, 'opened': 4797, 'repeatedly': 5720, 'm4': 4168, 'carbine': 1220, 'star': 6430, 'emirates': 2428, 'drugged': 2300, 'earliest': 2323, 'writings': 7468, 'existence': 2586, 'jordanian': 3806, 'cave': 1273, 'occasions': 4749, 'axe': 741, 'murdering': 4564, 'rampage': 5532, 'justified': 3832, 'mo': 4459, 'florida': 2846, 'pastor': 4976, 'terry': 6761, 'jones': 3803, 'recognize': 5603, 'sovereign': 6337, 'jenin': 3779, 'agency': 403, 'skull': 6258, 'dated': 1885, '684': 210, 'exceptionally': 2563, 'preserved': 5287, 'waterlogged': 7317, 'pit': 5112, 'oldest': 4783, 'intact': 3646, 'asia': 635, 'ancient': 511, 'brains': 1029, 'surfing': 6606, 'diplomat': 2125, 'denied': 2022, 'invalid': 3688, 'legalized': 4001, 'jamaica': 3764, 'decriminalizing': 1951, 'execute': 2571, 'behead': 852, 'mutilate': 4577, 'surrender': 6612, 'eurosceptic': 2534, 'opposed': 4814, 'immigration': 3502, 'bailouts': 767, 'struggling': 6522, 'fifth': 2761, 'countrys': 1738, 'general': 3017, 'castro': 1256, 'resigns': 5763, 'cuban': 1820, 'communist': 1543, 'cubans': 1821, '1959': 64, 'controversial': 1676, 'filesharing': 2774, 'urgency': 7126, 'restrepo': 5786, 'chris': 1387, 'hondros': 3365, 'misurata': 4454, 'syrian': 6660, 'til': 6821, 'fukushima': 2954, 'eat': 2337, 'meals': 4309, 'crackers': 1759, 'breakfast': 1044, 'packet': 4893, 'rice': 5827, 'chicken': 1363, 'dinner': 2121, 'evenings': 2541, 'gather': 3003, 'cheer': 1355, 'clap': 1428, 'sleep': 6268, 'floor': 2844, 'fatah': 2709, 'reconciliation': 5607, 'factions': 2664, 'form': 2889, 'interim': 3664, 'date': 1884, 'famous': 2693, 'beloved': 868, 'artist': 629, 'ai': 422, 'weiwei': 7348, 'erased': 2499, 'hope': 3374, 'outcry': 4855, 'dropping': 2294, 'concrete': 1590, 'bombs': 986, 'bin': 904, 'laden': 3922, 'sony': 6320, 'breach': 1040, 'theft': 6777, '25m': 122, 'referendum': 5633, 'bankers': 788, 'hedge': 3275, 'managers': 4223, 'vet': 7185, 'unanimously': 7030, 'gangs': 2993, 'mexicans': 4380, 'organised': 4835, 'salary': 5959, 'entertainment': 2480, 'industries': 3569, 'supports': 6599, 'lewp': 4020, 'firewall': 2810, 'censor': 1292, 'block': 946, 'illicit': 3484, 'rallying': 5530, 'revokes': 5816, '140': 34, 'temporarily': 6742, '1967': 67, 'vacation': 7148, 'targeted': 6696, 'plo': 5156, 'cams': 1185, 'raid': 5516, 'cbs': 1275, 'evening': 2540, 'defied': 1978, 'inflatable': 3583, 'explosives': 2619, 'mannequins': 4235, 'sea': 6051, 'filipino': 2775, 'excommunication': 2569, 'condoms': 1597, 'tepco': 6747, 'crippled': 1790, 'daiichi': 1857, 'plant': 5134, 'pensioners': 5016, 'younger': 7503, 'papers': 4924, 'manslaughter': 4238, 'ian': 3447, 'tomlinson': 6844, '17': 47, 'pyramids': 5483, 'survey': 6616, 'infra': 3592, 'detect': 2079, 'underground': 7047, 'buildings': 1109, 'ratko': 5558, 'mladi': 4457, 'agribusiness': 416, 'swaths': 6637, 'rainforest': 5523, 'archaeologists': 587, 'sealed': 6054, 'tunnel': 6981, 'underneath': 7048, 'teotihuacan': 6746, 'temple': 6741, 'qaeda': 5485, 'cupcake': 1828, 'hacked': 3184, 'instructions': 3635, 'recipe': 5597, 'cupcakes': 1829, 'plants': 5136, '2022': 100, 'reactors': 5572, 'f1': 2649, 'bernie': 877, 'ecclestone': 2346, 'grand': 3106, 'prix': 5331, 'cancelled': 1196, 'objected': 4735, 'anchor': 510, 'monks': 4488, 'rounded': 5893, 'monastery': 4479, 'cartels': 1240, 'notch': 4703, 'trafficker': 6893, 'gladiatorlike': 3055, 'lulzsec': 4159, 'condemn': 1591, 'violate': 7217, 'canuck': 1206, 'stanley': 6429, 'lone': 4120, 'rioters': 5849, 'crossposted': 1805, 'oceans': 4757, 'shocking': 6179, 'decline': 1938, 'mastermind': 4280, 'substitute': 6548, 'addicts': 351, 'holds': 3340, 'closed': 1459, 'door': 2242, 'meetings': 4332, 'amsterdam': 506, 'foreigners': 2878, 'purchase': 5468, 'increase': 3538, 'smuggled': 6287, 'begging': 843, 'famine': 2692, 'kosher': 3904, 'halal': 3195, 'animal': 518, 'slaughter': 6264, 'slashes': 6263, 'rations': 5557, '150': 39, 'grams': 3105, 'produces': 5345, '350': 154, 'calories': 1168, 'literature': 4086, 'brutal': 1094, 'defected': 1965, 'hurt': 3435, 'industry': 3570, 'term': 6749, 'environmental': 2489, 'era': 2498, 'eyes': 2647, 'kidney': 3866, 'tortured': 6861, 'failing': 2669, 'praise': 5256, 'withholding': 7418, '800m': 235, 'reach': 5566, 'standstill': 6428, 'rupert': 5922, 'murdoch': 4566, 'gathering': 3005, 'pace': 4889, 'simple': 6231, 'invention': 3692, 'bottle': 1008, 'teaspoons': 6720, 'bleach': 939, 'bringing': 1068, 'philippines': 5062, 'colombian': 1502, 'colonel': 1504, '57': 189, 'dressed': 2279, 'uniforms': 7067, 'pushed': 5474, 'exceed': 2561, 'organisations': 4833, 'granted': 3110, 'rebekah': 5583, 'brooks': 1084, 'parliamentary': 4945, 'scotland': 6045, 'yard': 7487, 'response': 5776, 'oslo': 4848, 'firsthand': 2818, 'utya': 7147, 'crosspost': 1804, 'linux': 4076, 'expectation': 2594, 'anonymity': 528, 'ruling': 5913, 'superior': 6587, 'advertisements': 379, 'misleading': 4443, 'undergo': 7046, 'regular': 5657, 'tests': 6768, 'assuming': 664, 'metropolitan': 4378, 'tech': 6721, 'deleted': 1993, 'emails': 2417, 'negotiate': 4626, '67': 209, 'lines': 4069, 'sydney': 6654, 'defuse': 1984, 'strapped': 6498, 'recognition': 5602, 'software': 6304, 'violates': 7219, 'network': 4647, 'programme': 5362, 'delete': 1992, 'collected': 1492, 'fines': 2797, 'slaughtered': 6265, 'sheep': 6154, 'plainclothes': 5123, 'randomly': 5537, 'besieged': 879, 'hama': 3203, 'burying': 1136, 'gardens': 2997, 'venture': 7180, 'cemeteries': 1290, 'nhs': 4664, 'developed': 2090, 'efficient': 2379, 'looting': 4131, 'areas': 592, 'broad': 1076, 'daylight': 1895, 'expected': 2595, 'birmingham': 907, 'rioting': 5850, 'darcus': 1875, 'howe': 3406, 'writer': 7465, 'play': 5144, 'handing': 3211, 'agencies': 402, 'protection': 5411, 'apart': 542, 'communities': 1544, 'values': 7156, 'stealth': 6452, 'chopper': 1382, 'sparking': 6349, 'demonstrations': 2017, 'orders': 4828, 'isps': 3740, 'leakymails': 3980, 'blogspot': 954, 'relevant': 5683, 'exposing': 2625, 'powerful': 5245, 'unmask': 7086, 'returned': 5799, '78': 228, 'hefty': 3276, 'yen': 7494, 'owners': 4884, 'ethical': 2522, 'jack': 3756, 'layton': 3968, 'lehman': 4007, 'brothers': 1088, 'bankruptcy': 790, 'governments': 3095, 'missed': 4445, 'regulate': 5658, 'matter': 4290, 'natural': 4603, 'lair': 3923, 'album': 453, 'condoleezza': 1596, 'diplomacy': 2124, 'achieve': 320, 'goals': 3068, 'luxury': 4166, 'lurk': 4163, 'compound': 1566, 'doctors': 2210, 'farms': 2702, 'billionth': 902, 'congressman': 1615, 'providing': 5429, 'advice': 381, 'cling': 1452, 'hackings': 3188, '870': 242, 'phones': 5065, 'tapped': 6692, 'schoolboy': 6026, 'prince': 5315, 'william': 7394, 'scope': 6040, 'ordinance': 4829, 'hostile': 3392, 'commissioned': 1526, 'lifetime': 4049, 'bisexual': 910, 'lifted': 4051, 'england': 2468, 'escort': 2509, 'vessel': 7184, 'spartacus': 6350, 'sand': 5975, 'aged': 401, 'tor': 6854, 'glimpse': 3059, 'projections': 5371, 'elections': 2396, 'accusation': 314, 'disclosure': 2146, 'edited': 2361, 'grower': 3146, 'broken': 1080, 'absolute': 285, 'particles': 4952, 'travelling': 6923, 'faster': 2706, 'continues': 1662, 'cement': 1289, 'flaunt': 2831, 'grip': 3137, 'hijacked': 3313, 'turkey': 6986, 'promoted': 5379, 'dealing': 1907, 'regards': 5649, 'japans': 3771, 'trillion': 6943, 'stake': 6418, 'tobacco': 6832, 'rebuilding': 5587, 'fatty': 2711, 'products': 5348, 'fat': 2708, 'slim': 6270, 'disease': 2161, 'arranged': 613, 'lebanon': 3990, 'chaos': 1331, 'attempts': 690, 'resisted': 5766, 'saul': 5992, 'permutter': 5035, 'schmidt': 6021, 'adam': 348, 'riess': 5839, 'discovery': 2153, 'accelerating': 299, 'expansion': 2591, 'observations': 4742, 'distant': 2185, 'supernovae': 6591, 'mugged': 4548, 'metro': 4377, 'wikipedia': 7387, 'ddl': 1899, 'stage': 6416, 'eviction': 2548, 'jaffa': 3759, 'tape': 6690, 'shopping': 6189, 'centre': 1301, 'ads': 371, 'pipe': 5105, 'complaints': 1559, 'viewers': 7204, 'louder': 4141, 'programmes': 5363, 'interrupting': 3675, 'forgives': 2886, 'goldman': 3076, 'sachs': 5936, '10m': 22, 'pounds': 5240, 'avoidance': 730, 'visits': 7237, 'ottawa': 4850, 'oblige': 4738, 'detain': 2076, 'investigate': 3695, 'norwegian': 4700, 'stance': 6423, 'bearing': 830, 'dilma': 2119, 'rousseff': 5895, 'ministers': 4429, 'tolerated': 6840, 'bribery': 1059, 'graft': 3104, 'acts': 344, 'tolerable': 6837, 'occupy': 4752, 'spreads': 6399, 'vaccine': 7152, 'malaria': 4204, 'capture': 1216, '700': 213, 'metres': 4376, 'excessive': 2564, 'mining': 4427, 'pays': 4996, 'sinister': 6239, 'insist': 3621, 'logo': 4116, 'underwater': 7054, 'directors': 2134, 'condemned': 1592, 'elite': 2411, 'greedy': 3123, '49': 178, 'rise': 5854, 'average': 726, 'inflation': 3584, 'unesco': 7057, 'shift': 6166, 'burden': 1122, 'corporations': 1708, 'celebrates': 1283, 'tangible': 6685, 'success': 6552, 'extradition': 2638, 'appeal': 555, 'proof': 5384, 'plots': 5158, 'phase': 5058, 'lightbulbs': 4054, 'inefficient': 3572, 'phased': 5059, 'cur': 1830, 'donation': 2237, 'globalhealth': 3061, 'wei': 7346, 'euros': 2533, 'sum': 6578, 'schizophrenic': 6019, 'ebrard': 2345, 'california': 1162, 'decriminalize': 1949, 'argentine': 596, 'predictions': 5271, 'walk': 7272, 'homemade': 3352, 'rehabilitation': 5664, 'device': 2092, 'father': 2710, 'scottish': 6046, 'replaces': 5724, 'urban': 7123, 'jungle': 3827, 'hills': 3319, 'boulders': 1012, 'tunnels': 6982, 'period': 5030, 'fewer': 2753, 'accidents': 307, 'teen': 6725, 'ray': 5561, 'airports': 442, 'parting': 4956, 'ways': 7323, 'screen': 6049, 'millions': 4416, 'airline': 438, 'clothing': 1464, 'debating': 1916, 'creating': 1770, 'blacklist': 919, 'avaaz': 724, 'neutrinos': 4652, 'experiment': 2604, 'pile': 5094, 'spotted': 6394, 'surrounded': 6613, 'stifling': 6466, 'attempting': 689, 'sun': 6580, 'sunday': 6582, 'lithuania': 4088, 'liquidated': 4078, 'waste': 7307, 'entrepreneur': 2484, '639': 203, 'hectares': 3274, 'sq': 6404, 'mi': 4384, 'investor': 3702, 'prejudice': 5274, 'limits': 4066, 'independence': 3547, 'ensure': 2474, 'benefit': 871, 'anders': 512, 'behring': 856, 'breivik': 1053, 'accountable': 312, 'psychiatrists': 5438, 'experiencing': 2603, 'disruption': 2179, 'services': 6118, 'closing': 1460, 'schools': 6029, 'virtual': 7229, 'cruise': 1812, 'overwhelmingly': 4881, 'prohibition': 5368, 'increased': 3539, 'alert': 457, 'petition': 5053, 'pardon': 4933, 'pioneer': 5104, 'awakening': 733, 'apolitical': 546, 'airs': 443, 'captured': 1217, 'coastguard': 1472, 'stabbed': 6412, 'fisherman': 2820, 'apprehend': 571, 'rock': 5873, 'revolt': 5817, 'wukan': 7475, 'denizens': 2026, 'shave': 6153, 'mohawks': 4469, 'punks': 5465, 'concert': 1584, 'indonesias': 3565, 'raided': 5517, 'punk': 5464, 'detained': 2077, '65': 205, 'buzzing': 1148, 'spiky': 6376, 'stripping': 6512, 'piercings': 5089, 'perceived': 5024, 'christopher': 1394, 'hitchens': 3329, '62': 199, 'burned': 1130, 'equal': 2492, 'galileo': 2984, 'assad': 645, 'desert': 2056, 'allegedly': 466, 'betrayed': 882, 'volkswagen': 7247, 'reduce': 5625, 'blurring': 964, 'nigh': 4672, 'fought': 2903, 'hide': 3305, 'medals': 4320, 'peru': 5046, 'shell': 6157, 'reign': 5666, 'implementing': 3510, 'gearing': 3014, 'wargames': 7285, 'strait': 6496, 'hormuz': 3379, 'renewable': 5709, 'owned': 4882, 'whalers': 7363, 'ultra': 7023, 'orthodox': 4845, 'gynecology': 3178, 'loggers': 4114, 'indigenous': 3555, 'citizen': 1411, 'mit': 4456, 'presence': 5283, 'marked': 4258, 'impact': 3506, 'adolescents': 364, 'career': 1226, 'educational': 2371, 'performance': 5028, '195': 62, 'tonnes': 6846, 'methamphetamine': 4374, 'captain': 1213, 'tripped': 6948, 'lifeboat': 4046, 'thailand': 6774, 'recognizes': 5604, 'branson': 1033, 'rick': 5834, 'falkvinge': 2678, 'restrict': 5787, 'repulsive': 5741, 'consumers': 1644, 'forever': 2882, 'comply': 1565, 'fidel': 2757, 'lambasted': 3928, 'republican': 5740, 'race': 5507, 'competition': 1555, 'idiocy': 3461, 'ignorance': 3470, 'donates': 2235, '750': 221, 'carlos': 1230, 'fuentes': 2952, 'robin': 5870, 'hood': 3373, 'acta': 331, 'mep': 4354, 'kader': 3837, 'arif': 601, 'lead': 3969, 'negotiator': 4630, 'cuts': 1844, 'lifesaving': 4047, 'generic': 3019, 'restricts': 5789, 'bulgarian': 1115, 'xpost': 7481, 'evolutionreddit': 2553, 'slovenia': 6271, 'apologizes': 548, 'signing': 6223, 'ljubljana': 4099, 'scans': 6012, 'flying': 2854, 'lake': 3925, 'vostok': 7250, 'cases': 1247, 'polio': 5185, 'charlotte': 1346, 'settle': 6123, 'singer': 6236, 'damaging': 1863, 'sued': 6558, 'suffers': 6564, 'neurological': 4649, 'problems': 5338, 'linked': 4072, 'providers': 5427, 'log': 4112, 'customers': 1841, 'provide': 5425, 'siding': 6211, 'pronographers': 5383, 'bulgaria': 1114, 'ratify': 5553, '309': 142, 'mask': 4272, 'counterfeit': 1729, 'bonds': 988, 'thinking': 6787, 'memo': 4343, 'blows': 960, 'lid': 4040, 'greek': 3124, 'undertaken': 7053, 'destroying': 2069, 'reforms': 5638, 'outrage': 4864, 'safer': 5946, 'guatemala': 3161, 'colombia': 1501, 'regional': 5653, 'trade': 6888, 'interpol': 3670, 'hackers': 3186, 'megaupload': 4335, 'defeats': 1962, 'antisec': 537, 'dumps': 2309, 'continued': 1661, 'earned': 2326, 'humanity': 3420, 'construction': 1640, 'leftist': 3994, 'troublesome': 6956, 'destroyed': 2068, 'ensured': 2475, 'unable': 7026, 'earn': 2325, 'devastated': 2088, 'file': 2770, 'downloaders': 2257, 'cp': 1755, 'download': 2256, 'seeing': 6078, 'desecration': 2055, 'aboriginal': 280, 'burial': 1124, 'swastikas': 6636, 'kkk': 3887, 'disgusting': 2164, 'concern': 1580, 'cruel': 1810, 'inhuman': 3601, 'slash': 6261, 'price': 5307, '97': 259, 'solar': 6306, 'villages': 7213, 'moroccans': 4503, 'penal': 5007, 'code': 1479, 'deterrent': 2086, 'amounting': 502, 'iranians': 3716, 'initiative': 3603, 'lt': 4152, 'potato': 5234, 'agricultural': 417, 'produce': 5342, 'directly': 2132, 'producers': 5344, 'pirating': 5111, 'extradited': 2637, 'secretary': 6067, 'theresa': 6779, 'approved': 575, 'visited': 7235, 'criticism': 1795, 'program': 5361, 'aims': 431, 'mariana': 4252, 'corp': 1705, 'crippling': 1791, 'ramifications': 5531, 'colombias': 1503, 'americas': 497, 'failure': 2671, 'talk': 6680, 'speaks': 6356, 'favor': 2714, 'foxconn': 2911, 'agreed': 413, 'tackle': 6667, 'violations': 7221, 'assembling': 654, 'iphones': 3713, 'ipads': 3711, 'bred': 1051, 'criminals': 1789, 'draconian': 2264, 'gain': 2980, 'touted': 6875, 'sopa': 6323, 'cispa': 1407, 'include': 3531, 'warranting': 7296, 'murdochs': 4567, 'sky': 6259, 'troll': 6951, 'exactly': 2555, 'liam': 4027, 'stacey': 6413, 'nz': 4730, 'mysteriously': 4580, 'lose': 4133, 'launch': 3952, '24': 116, '48': 177, 'oxford': 4885, 'library': 4033, 'digitize': 2116, 'pages': 4901, 'texts': 6772, 'available': 725, 'el': 2391, 'salvador': 5965, 'saturday': 5988, 'homicide': 3358, 'auto': 721, 'parts': 4961, 'filed': 2771, 'complaint': 1558, 'accusing': 318, 'juarez': 3815, 'scheduled': 6017, 'testify': 6766, 'screaming': 6048, 'bombing': 984, 'pulitzer': 5451, 'drifting': 2280, 'aboard': 276, 'injured': 3606, 'epic': 2490, 'upheld': 7111, 'rulings': 5914, 'iinet': 3476, 'infringements': 3595, 'sanction': 5972, 'authoritarian': 713, 'regimes': 5651, 'backed': 750, 'execs': 2570, 'unveiled': 7105, 'novartis': 4708, 'legally': 4004, 'annulled': 527, 'northern': 4697, 'rajasthan': 5527, '1st': 80, 'blind': 943, 'posts': 5230, 'limiting': 4065, 'organizations': 4839, 'conclude': 1587, 'fit': 2823, 'stewardship': 6463, 'motorcycle': 4521, 'washes': 7303, 'located': 4104, 'harley': 3231, 'davidson': 1890, 'emptive': 2438, 'facilities': 2660, 'vogue': 7242, 'skinny': 6255, 'models': 4463, 'abc': 268, 'broadcasting': 1078, 'worried': 7448, 'globe': 3063, 'trash': 6918, 'garbage': 2995, 'patch': 4978, 'fold': 2858, 'profound': 5359, 'changes': 1325, 'draft': 2265, 'crop': 1799, 'growing': 3147, 'coca': 1473, 'opium': 4808, 'poppies': 5204, 'schoolgirl': 6028, 'hemorrhage': 3290, 'donating': 2236, 'organs': 4841, 'ritchie': 5860, 'lived': 4094, 'gap': 2994, 'infamous': 3574, 'cliff': 1448, 'gone': 3078, 'named': 4586, '2011': 91, 'peacefully': 4999, 'wifi': 7383, 'liable': 4026, 'sharing': 6150, 'subjected': 6538, 'extraordinary': 2639, 'policemen': 5182, 'semitic': 6090, 'yemeni': 7493, 'parade': 4926, 'rehearsal': 5665, 'conversation': 1680, 'poachers': 5168, 'maharashtra': 4183, 'quebec': 5495, 'trampling': 6900, 'basic': 812, 'quash': 5494, 'wears': 7332, 'style': 6534, 'lawyers': 3965, 'courtroom': 1746, 'attire': 695, 'unconsitutional': 7038, 'unanimous': 7029, 'similar': 6230, 'cap': 1207, 'executive': 2576, 'mars': 4266, 'trip': 6946, 'eduard': 2367, 'khil': 3856, 'trololo': 6952, 'st': 6411, 'petersburg': 5052, '77': 226, 'lutheran': 4164, 'bradbury': 1026, 'visitors': 7236, 'forbids': 2870, 'tourism': 6871, 'indefinitely': 3546, 'banker': 787, 'ousted': 4852, 'involved': 3707, 'afraid': 395, 'gallup': 2987, 'priority': 5321, 'john': 3794, 'testifies': 6765, 'oppose': 4813, '1997': 76, 'pure': 5469, 'ecstacy': 2354, 'mdma': 4307, 'regulated': 5659, 'stores': 6489, 'lunches': 4160, 'wired': 7408, 'cipla': 1401, 'medicines': 4327, 'shaking': 6141, 'brave': 1035, 'jumps': 3825, 'plunge': 5163, 'flees': 2836, 'ecuadorian': 2358, 'blow': 957, 'diversity': 2195, 'winning': 7403, 'unblocks': 7034, 'lonesome': 4121, 'galapagos': 2982, 'tortoise': 6859, 'zealanders': 7514, 'recreational': 5617, 'particularly': 4954, 'backing': 753, 'sexually': 6135, 'assaulted': 652, 'stripped': 6511, 'turned': 6991, 'humans': 3421, 'announcing': 526, 'bunch': 1121, 'individuals': 3560, 'process': 5340, 'creation': 1771, 'resale': 5749, 'licenses': 4039, 'fixed': 2825, 'rates': 5552, 'barclays': 801, 'bo': 965, 'diamond': 2098, 'matt': 4289, 'taibbi': 6672, 'libor': 4032, 'deepens': 1955, 'damning': 1867, 'implicates': 3511, 'botswana': 1007, 'leatherback': 3986, 'turtle': 6995, 'eggs': 2383, 'crushed': 1815, 'trinidad': 6945, 'beach': 826, 'thestar': 6780, 'melinda': 4337, 'challenges': 1319, 'vowing': 7259, 'contraception': 1664, 'thirsty': 6790, 'coroner': 1704, 'patient': 4980, 'pleas': 5153, 'hoax': 3335, 'satirical': 5986, 'took': 6849, 'cervical': 1311, 'ja': 3755, 'opted': 4819, 'hpv': 3408, 'vaccination': 7151, 'pupils': 5466, 'follow': 2860, 'strict': 6505, 'principles': 5317, 'practise': 5253, 'portugal': 5215, 'decreases': 1942, 'lenovo': 4010, 'distributes': 2188, 'bonus': 993, '32': 145, 'offshore': 4778, 'roughly': 5891, 'gdp': 3012, 'combined': 1514, '280bn': 134, 'hsbc': 3411, 'citigroup': 1409, 'ubs': 7010, 'credit': 1776, 'suisse': 6574, 'norwegians': 4701, 'reacted': 5569, 'openness': 4800, 'participation': 4950, 'gorillas': 3086, 'dismantling': 2166, 'snares': 6291, 'rwanda': 5931, 'francois': 2918, 'hollande': 3345, '75': 220, 'earners': 2327, 'deficit': 1977, 'ral': 5528, 'breaks': 1046, 'kwh': 3911, 'converted': 1681, 'installed': 3629, 'total': 6864, 'grids': 3132, 'fail': 2667, 'forgot': 2887, 'squad': 6405, 'authorizes': 718, 'hire': 3322, 'curiosity': 1833, 'rover': 5899, 'successfully': 6554, 'landed': 3931, 'liveblog': 4093, 'commercial': 1524, 'gold': 3074, 'copper': 1692, 'papua': 4925, 'guinea': 3166, 'seabed': 6052, 'vehement': 7172, 'objections': 4736, 'nautilus': 4605, 'minerals': 4420, 'blacklisted': 920, 'wing': 7400, 'trouble': 6955, 'makers': 4199, 'sympathizers': 6657, 'recruits': 5619, 'sect': 6071, 'package': 4892, 'articles': 626, 'qantas': 5487, 'sitting': 6249, 'unaccompanied': 7028, 'seats': 6060, 'adult': 372, 'molester': 4473, 'ridicule': 5838, 'mission': 4449, '2013': 93, 'pussy': 5476, 'counsellor': 1725, '90k': 250, 'swim': 6648, 'ontario': 4793, 'degree': 1987, 'courses': 1744, 'assistance': 660, 'nicklinson': 4668, 'paralysed': 4930, 'neck': 4619, 'described': 2052, 'nightmare': 4675, 'mysterious': 4579, 'unknown': 7081, 'capsule': 1211, 'brevik': 1055, 'tuition': 6973, 'aimed': 429, 'starve': 6438, 'steal': 6450, 'blunted': 963, 'widespread': 7381, 'starvation': 6437, 'decade': 1919, 'deliver': 1999, 'harvests': 3241, 'plates': 5141, 'indias': 3552, 'hungriest': 3428, '270': 131, 'colleagues': 1490, 'fun': 2957, 'virus': 7231, 'eats': 2341, 'cheap': 1349, 'exquisitely': 2628, 'precise': 5264, 'mild': 4403, 'refrigerator': 5639, 'laboratory': 3917, 'knew': 3892, 'lies': 4043, 'evangelical': 2538, 'practicing': 5252, 'gp': 3098, 'prescribing': 5281, 'actress': 342, 'appearing': 560, 'numerous': 4724, 'actresses': 343, 'threats': 6799, 'coral': 1699, 'reefs': 5629, 'interference': 3663, 'textbooks': 6771, 'consulate': 1641, 'benghazi': 873, 'libyans': 4036, 'defending': 1971, 'cousulate': 1748, 'brotherhood': 1086, 'contradiction': 1668, 'brotherhoods': 1087, 'arabic': 583, 'postings': 5229, 'sustain': 6631, 'turbulence': 6983, 'events': 2543, 'egyptians': 2387, 'prophets': 5392, 'genetically': 3022, 'fracking': 2913, 'specifically': 6362, 'targets': 6698, 'mon810': 4478, 'maize': 4192, 'gmo': 3066, 'declassified': 1936, 'shake': 6140, 'gem': 3015, 'markets': 4261, 'core': 1702, 'vast': 7165, 'trillions': 6944, 'carats': 1219, 'uruguay': 7131, 'monopoly': 4489, 'mufti': 4546, 'endure': 2459, 'insults': 3641, 'angered': 514, 'mocking': 4462, 'mohammad': 4467, 'example': 2559, 'enduring': 2460, 'retaliating': 5794, 'highest': 3311, 'recommended': 5605, 'hillary': 3318, 'pony': 5196, 'politics': 5189, 'elites': 2412, 'contribute': 1670, 'comet': 1517, 'predicted': 5270, 'blaze': 937, 'brighter': 1065, 'picks': 5083, 'onion': 4790, 'rural': 5923, 'prefer': 5272, 'bahraini': 764, 'mafia': 4180, 'tropics': 6954, 'logging': 4115, 'lion': 4077, 'rain': 5522, 'organized': 4840, 'grim': 3135, 'conclusion': 1589, 'maple': 4245, 'syrup': 6661, 'recovered': 5616, 'authorises': 712, 'chaplains': 1332, 'prisons': 5326, 'turning': 6992, 'casino': 1251, 'malala': 4203, 'yousafzai': 7505, 'diary': 2099, 'wake': 7269, '2014': 94, 'eventual': 2544, 'breakup': 1048, 'impoverished': 3518, 'driven': 2286, 'fleet': 2837, 'unreported': 7095, 'unregulated': 7093, 'trawlers': 6924, 'ships': 6173, 'identified': 3457, 'licences': 4037, 'export': 2620, 'catches': 1263, 'exemption': 2579, 'extra': 2636, 'revenue': 5811, 'exempt': 2578, 'properties': 5389, 'hotels': 3395, 'restaurants': 5782, 'sports': 6391, 'centres': 1302, '5m': 192, 'rome': 5882, 'shadow': 6138, 'disguised': 2163, 'ceta': 1312, 'comparison': 1550, 'provisions': 5433, 'concerning': 1582, 'enforcement': 2462, 'harsh': 3238, 'damages': 1862, 'hacker': 3185, 'gary': 2999, 'mckinnon': 4305, 'fippa': 2806, 'investment': 3701, 'promotion': 5381, 'carvings': 1245, 'stone': 6479, 'moroccos': 4505, 'atlas': 677, 'salafists': 5955, 'prohibit': 5366, 'idolatry': 3465, 'depicted': 2036, 'divinity': 2201, 'plaque': 5137, 'predates': 5267, 'arrival': 618, 'phoenicians': 5063, 'morocco': 4504, '72': 216, 'pension': 5014, 'tunisian': 6980, 'stealing': 6451, 'tracks': 6887, 'stockholm': 6472, 'deportation': 2043, 'billionaire': 899, 'michigan': 4390, 'voters': 7254, 'reject': 5669, 'memorial': 4344, 'forgotten': 2888, 'holocaust': 3347, 'opens': 4801, 'gypsies': 3179, 'nazis': 4610, 'forward': 2898, 'ashok': 633, 'khemka': 3855, 'bureaucrat': 1123, 'transferred': 6905, '43': 170, 'determination': 2084, 'tolerate': 6839, 'incoming': 3536, 'ditches': 2193, 'weed': 7341, 'effectively': 2376, 'cafes': 1156, 'coffee': 1482, 'shops': 6190, 'builds': 1110, '60ft': 196, 'garden': 2996, 'invites': 3706, 'buffs': 1104, 'round': 5892, 'enactment': 2444, 'reaction': 5570, 'age': 400, 'harassers': 3225, 'wrath': 7461, 'vigilantes': 7207, 'emerging': 2427, 'protecting': 5410, 'shaming': 6144, 'viewed': 7203, 'negatively': 4625, 'measures': 4315, 'ahead': 419, 'buddhist': 1101, 'mes': 4362, 'aynak': 742, 'earlier': 2322, '63': 201, 'salute': 5964, 'fastest': 2707, 'surveyed': 6617, 'shirts': 6175, 'cheers': 1357, 'reverberated': 5813, 'golden': 3075, 'dawn': 1892, 'savita': 5998, 'halappanavar': 3196, 'medically': 4323, 'unnecessary': 7088, 'abortion': 282, 'advocates': 386, 'lawmaker': 3960, 'introduces': 3685, 'presented': 5285, 'adding': 352, 'chorus': 1384, 'rejecting': 5671, 'prohibitionist': 5369, 'leaflets': 3974, 'evacuate': 2535, 'executes': 2573, 'collaborators': 1486, 'dragged': 2267, 'san': 5971, 'jose': 3807, 'mercury': 4357, 'offices': 4772, 'assassination': 649, 'joke': 3801, 'overrules': 4876, 'newsoftheweird': 4657, 'liability': 4025, 'assembly': 655, 'responds': 5775, 'approving': 577, '000new': 3, 'housing': 3404, 'hangs': 3219, 'balance': 768, 'medicinal': 4325, 'legalised': 3998, 'escaped': 2506, 'padlocks': 4896, 'doors': 2243, 'sweatshop': 6642, 'beeing': 838, 'decorations': 1941, 'rooms': 5886, 'ft': 2946, 'eavesdropping': 2343, 'mp3': 4536, 'transfers': 6906, 'womens': 7426, 'helium': 3281, 'balloons': 774, 'shortage': 6192, 'worsens': 7452, 'missiles': 4447, 'innocents': 3610, 'heinous': 3277, 'executions': 2575, 'remains': 5691, 'treaty': 6931, 'panic': 4922, 'mayan': 4294, 'apocalypse': 545, 'mania': 4229, 'root': 5887, 'thieves': 6783, 'cluster': 1466, 'swaziland': 6638, 'mini': 4424, 'skirts': 6257, 'midriff': 4398, 'tops': 6853, 'jeans': 3777, 'mos': 4509, 'easy': 2336, 'cloth': 1462, 'worn': 7447, 'assaults': 653, 'rapes': 5543, 'infuriates': 3596, '000s': 4, 'gathered': 3004, 'tied': 6817, 'lawmakers': 3961, 'weak': 7324, 'enslave': 2472, 'adopting': 366, 'pressured': 5294, 'attackers': 685, 'relative': 5677, 'nepali': 4637, 'returning': 5800, 'robbed': 5867, 'policeman': 5181, 'teachers': 6713, 'educate': 2368, 'abolishing': 278, 'plaything': 5149, 'cashed': 1250, 'walks': 7275, 'player': 5145, 'taunted': 6705, 'monkey': 4487, 'chants': 1330, 'mother': 4515, 'son': 6319, 'elephants': 2406, 'declining': 1940, 'beheads': 854, 'maid': 4184, 'clemency': 1445, 'unexpectedly': 7059, 'mali': 4212, 'role': 5878, 'airpocalypse': 440, 'pollution': 5193, 'literally': 4085, 'charts': 1347, 'hazardous': 3253, 'consecutive': 1620, 'hitting': 3332, 'levels': 4019, '25x': 124, 'insecticide': 3616, 'unacceptable': 7027, 'bees': 840, 'campaigners': 1180, 'safety': 5947, 'knell': 3890, 'neonicotinoid': 4634, 'lucky': 4155, 'prospector': 5403, 'nugget': 4718, '177': 50, 'oz': 4886, '5kg': 191, 'reprieve': 5737, 'arsenal': 621, 'spears': 6357, 'blowpipes': 959, 'machetes': 4172, 'guns': 3173, 'fend': 2746, 'intrusion': 3686, 'goal': 3067, 'helping': 3288, 'expand': 2590, 'tapping': 6693, 'riches': 5831, 'prospecting': 5402, 'spacecraft': 6343, '2015': 95, 'basin': 815, 'importer': 3514, 'exporter': 2621, 'duped': 2310, 'misrepresented': 4444, 'causes': 1271, 'vandalism': 7160, 'valid': 7153, 'activists': 339, 'teaming': 6717, 'points': 5175, 'scores': 6043, 'innovative': 3611, 'modes': 4465, 'fleeing': 2835, 'timbuktu': 6823, 'burn': 1129, 'manuscripts': 4243, 'unveils': 7106, 'detailed': 2074, 'map': 4244, 'deport': 2042, 'radical': 5512, 'clerics': 1447, 'bombed': 982, 'research': 5752, 'northwest': 4698, 'damascus': 1864, 'ridden': 5837, 'reuter': 5802, 'goran': 3082, 'tomasevic': 6843, 'iii': 3475, 'poised': 5176, 'conduct': 1598, 'depicting': 2037, 'resembling': 5755, 'york': 7500, 'engulfed': 2470, 'flames': 2829, 'apparent': 553, 'eliminates': 2410, 'penny': 5013, '35': 153, 'pennies': 5012, '82m': 237, 'kg': 3853, '180m': 54, 'melted': 4338, '05': 7, 'aren': 593, 'salafi': 5954, 'raping': 5545, 'harassing': 3226, 'cairos': 1159, 'crusaders': 1813, 'entirely': 2482, 'unexpected': 7058, 'development': 2091, 'atomic': 680, 'begin': 844, 'formal': 2890, 'paving': 4990, 'totally': 6867, 'resistant': 5765, 'uncovered': 7041, 'untreatable': 7102, 'meteor': 4370, 'shower': 6199, 'eastern': 2335, 'struggled': 6521, 'alberta': 452, 'counsel': 1724, 'germans': 3034, 'playing': 5147, 'background': 752, 'miaa': 4387, 'unprofitable': 7092, 'survive': 6618, 'subsidies': 6544, 'caters': 1264, 'shrinking': 6203, 'aging': 410, 'inmates': 3608, 'reoffending': 5713, 'taiwanese': 6674, 'maldives': 4209, 'marital': 4255, 'premarital': 5275, 'cannon': 1204, 'statement': 6441, 'headed': 3255, 'event': 2542, 'sort': 6325, 'drove': 2297, 'dinosaurs': 2122, 'extinct': 2632, '65m': 206, '58': 190, 'rhino': 5824, 'voids': 7245, 'pacts': 4895, 'preparing': 5279, 'college': 1496, '36': 155, 'hrs': 3410, 'spending': 6370, 'capitalism': 1210, 'baldness': 770, 'vw': 7262, 'shares': 6149, 'profits': 5358, 'deserved': 2058, 'equitable': 2496, 'contractor': 1666, 'lockheed': 4109, 'martin': 4270, 'needed': 4621, 'salt': 5963, 'seawater': 6061, 'eliminate': 2409, 'fresh': 2934, 'jumped': 3824, 'balcony': 769, 'severely': 6130, 'joined': 3797, 'hunger': 3427, 'reflects': 5636, 'hopelessness': 3376, 'prospects': 5404, 'freed': 2925, 'acupuncturist': 346, 'infecting': 3580, 'defect': 1964, 'nk': 4682, 'armenia': 606, 'chess': 1360, 'aiming': 430, 'society': 6300, 'windfarm': 7398, 'donald': 2232, 'trump': 6962, 'businessman': 1140, 'aberdeen': 273, 'spoil': 6382, 'nearby': 4615, 'golf': 3077, 'course': 1743, 'francis': 2917, 'devote': 2094, 'worrying': 7450, 'careers': 1227, 'cyprus': 1852, 'tens': 6743, 'deposit': 2045, 'confiscations': 1609, 'samoa': 5970, 'weigh': 7347, 'aifares': 427, 'meaninig': 4310, 'overweight': 4880, 'instagram': 3628, 'appalled': 551, 'drowned': 2298, 'wedding': 7338, 'ring': 5844, 'closure': 1461, 'commitments': 1530, 'obliged': 4739, 'uphold': 7112, 'ex': 2554, 'margaret': 4250, 'thatcher': 6776, 'stroke': 6514, 'verge': 7181, 'industrial': 3568, 'electrical': 2400, 'generation': 3018, 'fusion': 2969, 'engine': 2466, 'bitcoin': 916, 'plummets': 5161, 'couples': 1741, 'adopt': 365, 'alwaleed': 484, 'talal': 6678, 'nephew': 4638, 'abdullah': 272, 'economic': 2348, 'towns': 6878, 'mongolia': 4483, 'plot': 5157, 'plotters': 5159, 'faith': 2673, 'humiliate': 3422, 'protesting': 5416, 'resistance': 5764, 'fighter': 2763, 'daring': 1878, 'sabotage': 5934, 'honoured': 3372, 'ceremony': 1308, 'donor': 2239, 'sperm': 6372, 'describes': 2053, 'wicked': 7378, 'selfish': 6087, 'motive': 4518, 'parent': 4936, 'fourth': 2909, 'plundering': 5162, 'seas': 6058, 'rhinos': 5825, 'mozambique': 4533, 'widely': 7380, 'devastating': 2089, 'dragonflies': 2268, 'snails': 6290, 'groundbreaking': 3142, 'vow': 7257, 'ruined': 5907, 'stalker': 6420, 'girlfriend': 3050, 'placed': 5117, 'pedophile': 5004, 'withdraws': 7415, 'idled': 3463, 'kaesong': 3838, 'complex': 1563, 'declines': 1939, '3d': 160, 'printable': 5318, 'poacher': 5167, 'elephant': 2405, 'astronauts': 669, 'hadfield': 3189, 'tom': 6842, 'marshburn': 4267, 'romanenko': 5880, 'touched': 6869, 'kazakhstan': 3841, '146': 36, 'station': 6444, 'expedition': 2597, 'theres': 6778, 'horn': 3380, 'hangovers': 3218, 'wiping': 7407, 'denounced': 2029, 'blasting': 934, 'cult': 1823, 'tyrannizing': 7008, 'expendable': 2599, 'consumer': 1643, 'goods': 3080, 'christianity': 1391, 'catastrophic': 1261, 'suggesting': 6568, 'uploading': 7115, '00': 0, 'resources': 5770, 'dolphin': 2227, 'highly': 3312, 'intelligent': 3651, 'persons': 5042, 'specific': 6361, 'panel': 4920, 'accountability': 311, 'pyongyang': 5481, 'icc': 3448, 'indictment': 3553, 'atheists': 673, 'urging': 7129, 'religions': 5687, 'brewers': 1056, 'contaminate': 1651, 'beer': 839, 'purity': 5470, '1516': 41, 'embarrassed': 2419, 'obnoxious': 4740, 'abroad': 283, 'louvre': 4143, 'characters': 1336, 'urinating': 7130, 'defecating': 1963, 'seat': 6059, 'delay': 1989, 'communions': 1542, 'adulthood': 375, 'choice': 1377, 'proper': 5387, 'formation': 2892, 'isnt': 3738, 'realistic': 5576, 'dotcom': 2249, 'ethem': 2521, 'sarslk': 5982, 'ankara': 520, 'witnesses': 7420, '55': 188, 'arresting': 616, 'tweeting': 6999, 'facebooking': 2655, 'turk': 6985, 'needs': 4622, 'translation': 6910, 'mr': 4538, 'erdogan': 2500, 'intimidated': 3681, 'choked': 1378, 'eff': 2373, 'nsa': 4711, 'edward': 2372, 'snowden': 6297, 'revelations': 5809, 'behaving': 849, 'ruin': 5906, 'embodied': 2423, 'unnoticed': 7089, 'tanzania': 6689, 'malawi': 4205, 'insignia': 3619, 'irregulars': 3726, 'sow': 6340, 'mayhem': 4296, 'congos': 1613, 'answer': 530, 'allegations': 464, 'guarantee': 3156, 'wouldn': 7455, 'brasil': 1034, 'broadcasted': 1077, 'masks': 4273, 'unlawful': 7082, 'carries': 1236, 'maximum': 4293, 'rio': 5847, 'mails': 4186, 'standard': 6425, 'poors': 5200, 'moodys': 4496, 'accepted': 301, 'ratings': 5554, 'judicial': 3819, 'drones': 2291, 'robots': 5872, 'psy': 5437, 'silly': 6228, 'tired': 6829, 'posturing': 5231, 'grandstanding': 3108, 'banditry': 780, 'focus': 2856, 'rent': 5712, 'prostituion': 5405, 'bugging': 1106, 'operations': 4804, 'landing': 3933, 'austria': 710, 'rumour': 5915, 'fugitive': 2953, 'superiors': 6588, 'ignore': 3471, 'incidents': 3529, 'interpreters': 3672, 'recording': 5612, 'cellphone': 1287, 'attacked': 684, 'pri': 5306, 'militants': 4408, 'manager': 4222, 'foiled': 2857, 'yoshidas': 7501, 'disobey': 2170, 'hq': 3409, 'cool': 1688, 'active': 335, 'zones': 7521, 'overheating': 4873, 'messaging': 4365, 'app': 550, 'openly': 4799, 'powered': 5244, 'unclaimed': 7035, 'reykjavk': 5823, 'sister': 6245, 'relationship': 5676, 'pres': 5280, 'jimmy': 3791, 'carter': 1241, 'moves': 4530, 'welfare': 7350, 'successful': 6553, 'writes': 7466, 'check': 1353, 'spying': 6402, 'technologically': 6723, 'illiterate': 3485, 'masterminded': 4281, 'blocker': 949, 'writing': 7467, 'scolds': 6039, 'muddy': 4545, 'slum': 6275, 'particular': 4953, 'opportunities': 4811, 'responsibilities': 5777, 'contribution': 1671, 'injustices': 3607, 'praised': 5257, 'controlled': 1674, 'huawei': 3412, 'defects': 1967, 'gods': 3071, 'established': 2515, 'nepal': 4635, 'fbi': 2718, 'persuade': 5044, 'nixes': 4681, 'cold': 1485, 'leaker': 3977, 'electronic': 2402, 'feds': 2732, 'malware': 4217, 'participate': 4948, 'activities': 340, 'stephen': 6456, 'hurting': 3436, 'canceling': 1194, 'sticking': 6465, 'ny': 4727, 'abdicated': 270, 'subpoenaed': 6540, 'regulator': 5661, 'brazilians': 1038, 'transportation': 6916, 'sao': 5980, 'paulo': 4987, 'siemens': 6213, 'occupying': 4753, 'refund': 5642, 'archbishop': 588, 'canterbury': 1205, 'grow': 3145, 'exaggerate': 2556, 'feeling': 2736, 'mildly': 4404, 'uncomfortable': 7036, 'heathrow': 3270, 'possessions': 5221, 'confiscated': 1608, 'drives': 2288, 'write': 7464, 'warn': 7289, 'spiritual': 6380, 'gangrape': 2992, 'addressing': 355, 'violators': 7222, 'asking': 639, 'mercy': 4358, 'prove': 5422, 'gassed': 3001, 'hans': 3220, 'blix': 944, 'encourage': 2447, 'meteorological': 4371, 'naming': 4588, 'hurricanes': 3434, 'destructive': 2072, 'storms': 6493, 'deniers': 2023, 'kingdom': 3883, 'physical': 5075, 'applies': 568, 'commons': 1537, 'romanian': 5881, 'cyanide': 1846, 'galleries': 2985, 'biased': 888, 'advertising': 380, 'default': 1960, 'televangelist': 6735, 'defrauded': 1982, 'challenge': 1317, 'wasting': 7310, 'substandard': 6546, 'profitable': 5355, 'woah': 7423, 'vladamir': 7239, '15m': 42, 'jet': 3784, 'malnutrition': 4216, 'hawking': 3252, 'backs': 755, 'assisted': 661, 'beauty': 836, 'contests': 1657, 'hyper': 3442, 'sexualisation': 6134, 'organise': 4834, 'pageant': 4900, 'obsessed': 4744, 'sending': 6096, 'shirt': 6174, 'words': 7433, '618': 198, '2007': 86, 'poached': 5166, 'masturbate': 4282, 'mistake': 4451, 'eddie': 2360, 'izzard': 3754, '2020': 99, 'criminality': 1787, 'contemptible': 1654, 'mcafee': 4300, 'thwart': 6809, 'stopped': 6484, 'microsoft': 4394, 'unaware': 7032, 'prism': 5322, 'worked': 7438, 'carmaker': 1231, 'hyundai': 3445, 'motor': 4519, 'defer': 1974, 'payments': 4994, 'impacted': 3507, 'partial': 4946, 'crypto': 1817, 'keys': 3852, 'simultaneously': 6233, 'wiretap': 7409, 'stops': 6486, 'adoptions': 367, 'merely': 4359, 'fascism': 2704, 'higgs': 3308, 'boson': 1004, '110': 24, 'azerbaijan': 744, 'ilham': 3479, 'aliyev': 462, 'agents': 406, 'byte': 1149, 'giants': 3045, 'spies': 6375, 'hubs': 3413, 'warlord': 7287, 'lured': 4162, 'brussels': 1092, 'pretext': 5296, 'movie': 4531, 'translations': 6911, 'filmmaker': 2782, 'dire': 2128, 'qatar': 5488, 'worker': 7439, 'warnings': 7292, 'shared': 6148, 'internal': 3666, 'mechanisms': 4318, 'explanation': 2609, 'smog': 6281, 'fingers': 2800, 'gallery': 2986, 'printers': 5319, 'arrive': 619, 'quickly': 5502, 'umbilical': 7025, 'clamps': 1426, 'gear': 3013, 'angela': 513, 'merkel': 4360, 'barack': 798, 'complain': 1557, 'eavesdrop': 2342, 'investigations': 3698, 'hinted': 3321, 'monitored': 4485, 'economists': 2350, '27': 130, 'forgets': 2884, '886k': 244, 'apartment': 544, 'wealthy': 7327, 'cheapest': 1351, 'subur': 6549, 'barcelona': 800, 'stir': 6469, 'proving': 5432, 'infiltrates': 3582, 'centers': 1299, 'communications': 1541, 'connect': 1616, 'merkels': 4361, 'granting': 3111, 'ivory': 3753, '1800kg': 53, 'nationals': 4598, 'dar': 1874, 'es': 2504, 'salam': 5957, 'mikocheni': 4401, 'haul': 3247, 'counted': 1727, '706': 215, 'pieces': 5088, 'discovers': 2152, 'useless': 7138, 'budget': 1102, 'gravity': 3118, '105': 19, 'polonium': 5194, 'arafat': 584, 'bones': 990, 'normal': 4692, 'radioactive': 5515, 'element': 2404, '62k': 200, 'reward': 5822, 'trans': 6901, 'partnership': 4959, 'argeement': 594, 'wwii': 7477, 'remembrance': 5697, 'lung': 4161, 'attributed': 698, 'negotiated': 4627, 'text': 6770, 'tpp': 6880, 'chapter': 1334, 'herd': 3293, 'crossing': 1803, 'calves': 1169, 'memory': 4346, 'railways': 5521, 'requests': 5744, 'speeds': 6368, 'famed': 2688, 'corridor': 1712, 'jpmorgan': 3814, 'cancels': 1197, 'abusive': 295, 'alcoholics': 455, 'imaginative': 3492, 'behaviour': 851, 'typical': 7006, 'pragmatism': 5254, 'lg': 4022, 'smart': 6278, 'tvs': 6998, 'filenames': 2772, 'viewing': 7205, 'info': 3588, 'manipulation': 4232, 'entries': 2485, 'encyclopaedia': 2451, 'sock': 6302, 'puppet': 5467, 'traced': 6882, 'virgin': 7228, 'galactic': 2981, 'fish': 2819, 'ecosystems': 2353, 'filters': 2785, 'espousing': 2512, 'flies': 2838, 'b52': 745, 'disputed': 2178, 'defence': 1968, 'dentist': 2030, 'returns': 5801, 'profiteering': 5356, 'crush': 1814, 'activism': 337, 'bangladeshi': 785, 'garment': 2998, 'factory': 2665, 'gazipur': 3010, 'trucks': 6958, 'casualties': 1257, 'tracking': 6886, 'locations': 4107, 'nelson': 4633, 'mandela': 4228, 'mcg': 4303, 'cubic': 1822, 'meter': 4372, 'limit': 4063, 'rivers': 5863, 'lakes': 3926, 'drink': 2283, 'visibility': 7233, 'meters': 4373, 'clinton': 1454, 'espionage': 2511, 'bubonic': 1097, 'plague': 5121, 'madagascar': 4178, 'tablet': 6665, 'customs': 1842, 'convoy': 1686, 'connections': 1619, 'exchange': 2565, 'deposits': 2046, 'fallout': 2682, 'tune': 6978, 'dollars': 2226, 'boeing': 977, 'gripen': 3138, 'faxes': 2716, 'threatening': 6797, 'uruguays': 7132, 'neighbor': 4631, 'navi': 4607, 'pillay': 5097, 'compares': 1549, 'uproar': 7118, 'defeat': 1961, 'inventor': 3693, 'exchanged': 2566, 'voluminous': 7248, 'correspondence': 1711, 'prior': 5320, 'declassify': 1937, 'britains': 1073, 'hiring': 3324, '244': 117, 'update': 7108, 'musician': 4572, 'flutes': 2852, 'shepherd': 6162, 'locates': 4105, 'whale': 7362, 'protected': 5409, 'minke': 4431, 'whales': 7364, 'deck': 1931, 'currant': 1834, 'spoof': 6389, 'antibiotics': 536, 'antibiotic': 535, 'organisms': 4837, 'prof': 5349, 'jeremy': 3781, 'farrar': 2703, 'wellcome': 7351, 'duty': 2314, 'gsm': 3151, 'weaken': 7325, 'coalition': 1470, 'foundation': 2905, 'mozilla': 4534, 'ranging': 5539, 'february': 2727, 'aaron': 261, 'swartz': 6635, 'firefox': 2808, 'browser': 1091, 'sacks': 5939, 'cardinals': 1223, 'appointed': 570, 'revolting': 5818, 'livestream': 4097, 'subscriber': 6541, 'participant': 4947, 'disturbance': 2190, 'ukrainian': 7020, 'spontaneously': 6388, 'prohibiting': 5367, 'netflix': 4643, 'provoke': 5434, 'customer': 1840, 'dial': 2097, 'sms': 6286, 'permanent': 5031, 'cartel': 1239, 'vigilantism': 7208, 'signal': 6218, 'billions': 901, 'displaying': 2176, 'iconic': 3453, 'forehead': 2875, 'editors': 2363, 'gchq': 3011, 'technicians': 6722, 'watched': 7312, 'angle': 515, 'grinders': 3136, 'drills': 2282, 'computers': 1573, 'tense': 6744, 'negotiations': 4629, 'counterterrorism': 1734, 'prosecute': 5397, 'reform': 5637, 'leaks': 3979, 'rusbridger': 5924, 'abusers': 292, 'dry': 2303, 'amid': 498, 'drought': 2296, 'tokyo': 6835, 'runner': 5918, 'gubernatorial': 3162, 'menstruation': 4348, 'unfit': 7060, 'scahill': 6003, '273': 132, 'somalia': 6317, 'instructor': 3636, 'clive': 1455, 'palmer': 4915, 'nickel': 4667, 'refinery': 5635, 'pumped': 5456, 'discharged': 2144, 'wastewater': 7309, 'heritage': 3295, 'neighbour': 4632, 'inches': 3527, 'dismiss': 2168, 'counterpart': 1731, 'covert': 1752, 'senators': 6093, 'liberalization': 4029, 'cycle': 1849, 'ak': 446, '47': 176, 'rifles': 5840, 'skier': 6254, 'pulls': 5455, 'protestors': 5418, 'kiev': 3868, 'resigned': 5762, 'affairs': 389, 'doc': 2206, 'deceive': 1923, 'reputations': 5742, 'intercepted': 3659, 'webcam': 7335, 'offer': 4766, 'ugandans': 7014, 'flags': 2827, 'marched': 4249, 'dozens': 2262, 'demonstrating': 2015, '261': 126, '1044': 18, '888': 245, 'precautionary': 5263, 'whitewashes': 7373, '220': 108, 'tanks': 6688, 'helicopters': 3280, '4000': 164, 'paratroopers': 4932, 'planes': 5128, 'tasmanian': 6703, 'listing': 4083, '74': 219, 'degraded': 1986, 'ecologically': 2347, 'pristine': 5327, 'requiring': 5748, 'compatible': 1551, 'common': 1535, 'charger': 1340, 'beggar': 842, 'amassing': 486, 'estate': 2517, 'portfolio': 5214, 'jeddah': 3778, 'rivaled': 5861, 'citys': 1414, 'annex': 521, 'crimea': 1783, 'federation': 2730, 'qatars': 5490, 'confederation': 1600, 'migrants': 4400, 'egg': 2382, 'faberge': 2650, 'peter': 5051, 'sunde': 6583, '529': 186, 'conventional': 1679, 'governance': 3092, 'sets': 6121, 'guarantees': 3157, 'antarctic': 532, 'ballots': 775, 'roaming': 5866, 'detects': 2082, 'saturn': 5989, 'extraterrestrial': 2640, 'microbes': 4392, 'workday': 7436, 'municipal': 4560, 'gothenburg': 3088, 'workdays': 7437, 'hopes': 3377, 'boost': 998, 'efficiency': 2378, 'ultimately': 7022, 'shark': 6151, 'fin': 2787, 'hong': 3369, 'kong': 3898, 'homeopathic': 3353, 'remedies': 5695, 'monitoring': 4486, 'regulators': 5662, 'invest': 3694, 'yuan': 7511, 'approaches': 573, '767th': 225, 'birthday': 909, 'excavation': 2560, '753bc': 222, 'channeled': 1328, 'ceramic': 1306, 'pottery': 5237, 'pledges': 5155, 'africas': 398, 'ferry': 2748, 'crowds': 1807, 'documenting': 2215, 'ratio': 5555, 'fcc': 2719, 'abandons': 265, 'eaters': 2339, 'dyncorp': 2318, 'secrets': 6070, 'dictators': 2101, 'hack': 3183, 'nose': 4702, 'ears': 2328, 'cleric': 1446, 'colleague': 1489, 'ill': 3480, 'donated': 2234, '170': 48, 'battling': 820, '5th': 193, 'outlaws': 4860, 'denial': 2021, 'distortion': 2187, 'fast': 2705, 'walkouts': 7274, '2016': 96, 'schedule': 6016, 'ioc': 3710, 'wreck': 7462, 'columbuss': 1508, 'flagship': 2828, 'santa': 5978, 'maria': 4251, 'caribou': 1229, 'habitat': 3182, 'herds': 3294, 'vanishing': 7163, 'abbott': 266, 'ferals': 2747, 'martial': 4269, 'mistakenly': 4453, 'trains': 6898, 'platforms': 5142, 'matadors': 4284, 'gored': 3085, 'isidro': 3728, 'festival': 2749, 'soma': 6315, '301': 141, 'perfect': 5027, 'score': 6041, 'classify': 1434, 'arguing': 599, 'jeopardize': 3780, 'smoking': 6284, '180': 52, 'satellites': 5984, 'bassem': 817, 'youssef': 7506, 'jon': 3802, 'stewart': 6464, 'suitable': 6575, 'satire': 5985, 'fearing': 2722, 'familys': 2691, 'gunned': 3171, 'unprecedented': 7091, 'silence': 6225, 'todays': 6834, '25th': 123, 'biofuels': 905, 'facility': 2661, 'edmonton': 2365, 'converts': 1682, 'landfill': 3932, 'dignity': 2117, 'terminally': 6751, 'patients': 4981, 'bounty': 1016, 'aided': 425, 'behest': 855, 'hollywood': 3346, 'studios': 6525, 'gertjie': 3038, 'witnessing': 7421, 'crying': 1816, 'inconsolably': 3537, 'cyberbullying': 1848, 'remotely': 5701, 'devices': 2093, 'cars': 1238, 'grabs': 3102, 'idle': 3462, 'dormant': 2245, 'wildleaks': 7391, 'attracts': 697, 'wildlife': 7392, 'leads': 3973, 'targeting': 6697, 'kingpins': 3884, 'attracted': 696, 'fishery': 2821, 'michael': 4388, 'schumacher': 6030, 'coma': 1510, 'tiny': 6827, 'controls': 1675, 'parks': 4942, 'triumph': 6950, 'creationism': 1772, 'academies': 297, 'fiji': 2769, 'accuses': 317, 'abandoning': 264, 'singles': 6238, 'essential': 2514, 'neurotoxic': 4650, 'harming': 3233, 'butterflies': 1142, 'worms': 7446, 'sufficient': 6565, 'regulatory': 5663, 'disprove': 2177, 'manmade': 4233, 'verizon': 7182, 'row': 5900, 'blackwaters': 925, 'investigator': 3699, 'department': 2033, 'mood': 4495, 'unlawfully': 7083, 'subsequently': 6542, 'forwarded': 2899, 'airing': 437, 'featuring': 2726, 'science': 6031, 'fringe': 2941, 'cries': 1781, 'miroslav': 4438, 'klose': 3888, 'scorer': 6042, 'netting': 4646, '16th': 46, 'finals': 2790, 'houses': 3403, 'debts': 1918, 'ussr': 7143, 'grown': 3148, '1990s': 74, 'programs': 5364, 'footballer': 2867, 'mesut': 4366, 'ozil': 4887, 'surgery': 6609, 'mh17': 4383, 'airliner': 439, 'downing': 2255, 'flights': 2840, 'doctored': 2209, 'dancing': 1868, 'watchlist': 7314, 'authorizing': 719, 'facts': 2666, 'irrefutable': 3725, 'designate': 2060, 'foreigner': 2877, 'cyclist': 1850, 'pedaled': 5002, 'plus': 5164, 'drunken': 2302, 'migrant': 4399, 'organisers': 4836, 'cockroach': 1477, 'infested': 3581, 'lodgings': 4111, 'steel': 6454, 'tar': 6694, '69': 211, 'nagasaki': 4581, 'sierra': 6214, 'leone': 4011, 'ebola': 2344, '729': 217, 'mentions': 4352, 'construct': 1639, 'encouraged': 2448, 'docs': 2207, '225': 109, 'endorsement': 2457, 'isis': 3730, 'mounts': 4525, 'airstrikes': 445, 'airdrops': 436, 'jihadists': 3790, 'mountaintop': 4524, 'kurdish': 3907, 'koreas': 3903, 'firstand': 2817, 'onlyastronaut': 4792, 'quit': 5504, 'manned': 4234, 'defectors': 1966, 'laos': 3940, 'repatriated': 5717, 'exotic': 2589, 'dust': 2311, 'appear': 557, 'specks': 6364, 'hallmarks': 3198, 'interstellar': 3676, 'beijing': 857, 'recycling': 5620, 'machines': 4175, 'bottles': 1010, 'rebates': 5582, 'transit': 6908, 'sisters': 6246, 'kidnapped': 3864, 'pickpockets': 5082, 'foley': 2859, 'beheaded': 853, 'allah': 463, 'populous': 5209, 'deemed': 1953, 'embarrassing': 2420, 'unite': 7075, 'conservationists': 1625, 'ditch': 2192, 'plea': 5150, 'fed': 2728, 'cockatoos': 1475, 'felling': 2740, 'pine': 5100, 'perth': 5045, 'healthy': 3262, 'unpaid': 7090, 'totalling': 6866, '1000': 12, 'keeps': 3843, 'rocket': 5874, '2018': 98, 'seek': 6079, 'peshmerga': 5048, 'rot': 5890, 'kurds': 3908, 'steven': 6461, 'sotloff': 6328, 'convincing': 1685, 'soup': 6331, 'yao': 7486, 'ming': 4423, 'stumbling': 6530, 'sword': 6653, 'jiangsu': 3788, '26cm': 129, '10in': 21, 'shang': 6145, 'zhou': 7516, 'dynasties': 2317, 'civilisation': 1419, 'shape': 6146, 'psychoactive': 5439, 'substances': 6545, '4268': 169, '2288': 111, '93': 253, 'accessory': 304, 'murders': 4565, 'appeals': 556, 'henning': 3291, 'believes': 864, 'genuinely': 3027, 'hepatitis': 3292, 'snatch': 6292, 'random': 5536, 'drape': 2274, 'liberia': 4030, '150m': 40, 'native': 4601, 'establishing': 2516, 'inter': 3658, 'tribal': 6936, 'alliance': 468, 'bison': 914, 'rocky': 5876, 'plains': 5125, 'roamed': 5865, 'enabling': 2443, 'whistleblowers': 7369, 'anil': 517, 'agarwal': 399, 'vedanta': 7169, 'jozef': 3813, 'wesolowski': 7356, 'stored': 6488, 'retake': 5793, 'estimated': 2519, 'walrus': 7277, 'ashore': 634, 'alaska': 451, 'unlike': 7085, 'seals': 6055, 'mammals': 4218, 'ice': 3449, 'resting': 5783, 'artic': 624, 'abolished': 277, 'fees': 2737, 'thinkprogress': 6788, 'dumped': 2308, 'berry': 878, 'tree': 6932, 'queensland': 5497, 'tumour': 6975, 'ap': 541, 'estonia': 2520, 'partnerships': 4960, 'tea': 6710, 'vital': 7238, 'demonization': 2012, 'medics': 4328, 'fossil': 2900, 'nordics': 4691, 'baltics': 777, 'eroding': 2502, 'profitability': 5354, 'nigeria': 4670, 'scholarship': 6024, 'welcoming': 7349, 'hearts': 3267, 'fairness': 2672, 'justin': 3834, 'trudeau': 6959, 'buyers': 1144, 'hungary': 3426, 'winners': 7402, '23rd': 115, 'urge': 7124, 'embargo': 2418, 'amelia': 492, 'earhart': 2321, 'fragment': 2914, 'chancellor': 1322, 'exit': 2587, 'compromise': 1569, 'principle': 5316, 'demoted': 2019, 'homeopathy': 3354, 'guam': 3154, '66': 208, 'choose': 1380, '14a': 37, 'pepsi': 5023, 'ikea': 3477, 'fedex': 2731, '340': 152, 'secured': 6075, 'deals': 1909, 'luxembourg': 4165, 'maintaining': 4191, 'duchy': 2306, 'excommunicated': 2568, 'admitted': 363, 'abusing': 294, 'teenagers': 6728, 'geologists': 3029, 'predict': 5269, 'killers': 3873, 'conviction': 1684, 'commander': 1520, 'robot': 5871, 'probe': 5335, 'philae': 5060, 'descending': 2051, 'mothership': 4517, 'su': 6535, 'maasai': 4170, 'hunting': 3432, 'rosetta': 5889, 'organic': 4831, 'molecules': 4471, 'subatomic': 6536, 'cern': 1309, 'bludgeoned': 961, 'threaten': 6795, 'destabilise': 2066, 'tagging': 6670, 'colosseum': 1506, 'frequencies': 2933, 'laity': 3924, 'parishes': 4940, 'charging': 1342, 'baptisms': 796, 'blessings': 942, 'intentions': 3656, 'forgive': 2885, 'hearings': 3265, 'auckland': 700, 'nailbom': 4583, 'cache': 1154, 'immigrants': 3501, 'testing': 6767, 'orbiter': 4822, 'orion': 4843, 'nils': 4678, 'muinieks': 4550, 'commissioner': 1527, 'indiscriminate': 3556, 'contrary': 1669, 'halt': 3200, 'multiply': 4556, 'chairman': 1316, 'lindt': 4067, 'chocolat': 1376, 'drama': 2271, 'siege': 6212, 'hostages': 3391, 'normalize': 4693, 'havana': 3248, 'monument': 4494, 'lasted': 3946, '1980': 68, '1988': 71, 'suffer': 6561, 'vip': 7226, 'credible': 1775, 'domain': 2229, 'offline': 4776, 'presumed': 5295, 'nepalese': 4636, 'infrastructure': 3593, 'promises': 5376, 'eagerly': 2320, 'awaiting': 732, 'shoura': 6197, 'married': 4264, 'pending': 5010, 'procuring': 5341, 'tigers': 6820, 'airasia': 434, 'java': 3773, 'sheer': 6155, 'unhealthy': 7065, 'lifestyles': 4048, 'diet': 2110, 'inherited': 3600, 'genes': 3020, 'mutations': 4576, 'occur': 4754, 'cells': 1288, 'divide': 2198, 'cancers': 1199, 'tissues': 6830, 'barrel': 804, 'charlie': 1345, 'hebdo': 3273, 'grief': 3133, 'stupidity': 6533, '8m': 247, 'booked': 995, 'inciting': 3530, 'indoor': 3566, 'productive': 5347, 'outdoor': 4856, 'cameroon': 1177, '143': 35, 'boko': 979, 'haram': 3224, 'weekly': 7344, 'canings': 1202, 'forum': 2897, 'discussion': 2160, 'mecca': 4317, '226': 110, 'chimpanzees': 1371, 'heaviest': 3271, 'invited': 3705, 'leading': 3972, 'answers': 531, 'yanis': 7485, 'varoufakis': 7164, 'valve': 7157, 'steam': 6453, 'key': 3851, 'patent': 4979, 'clearing': 1440, 'costing': 1719, 'megamouth': 4334, 'zoologist': 7523, '60th': 197, 'encounter': 2446, 'westminster': 7359, 'dossiers': 2248, 'paedophiles': 4897, 'hoped': 3375, 'blackmail': 922, 'europa': 2529, 'candidates': 1201, 'alien': 460, 'bodyguards': 976, 'stumbles': 6529, 'carpet': 1233, 'sends': 6097, 'authorization': 716, 'poses': 5217, 'wade': 7263, 'learner': 3983, 'stitched': 6470, 'chainsaw': 1315, 'wound': 7456, 'drank': 2273, 'gin': 3048, 'lifts': 4052, 'installing': 3630, 'adware': 387, 'everest': 2545, 'chain': 1313, 'provincial': 5431, 'falsified': 2687, 'placement': 5118, 'grade': 3103, 'codebreaker': 1480, 'pardons': 4935, 'kilometer': 3877, 'freezeway': 2931, 'skate': 6252, 'pilot': 5098, 'planned': 5131, '8000': 233, 'mosul': 4514, 'systematic': 6662, 'evasion': 2539, 'radicalisation': 5513, 'civics': 1415, 'classes': 1432, 'chant': 1329, 'decriminalising': 1947, 'abstinence': 288, 'preventing': 5300, 'grasp': 3114, 'ndtv': 4613, 'delhi': 1996, 'sharply': 6152, 'rebuked': 5589, 'dozen': 2261, 'pivotal': 5115, 'characterizing': 1335, 'illegitimate': 3483, 'obamas': 4734, 'transparency': 6913, 'backers': 751, 'influenced': 3586, 'sponsors': 6387, 'southwestern': 6336, 'decapitated': 1921, 'vaccer': 7150, 'wagers': 7264, 'existance': 2585, 'measles': 4313, 'researcher': 5753, 'supporter': 6596, 'apply': 569, 'suspending': 6628, 'frills': 2940, 'ryanair': 5932, 'transatlantic': 6904, 'routes': 5898, 'equipment': 2495, 'alzheimers': 485, 'restores': 5785, 'function': 2958, 'researchers': 5754, 'invasive': 3691, 'ultrasound': 7024, 'technology': 6724, 'amyloid': 507, 'plaques': 5138, 'decrees': 1944, 'rooftops': 5884, 'covered': 1751, 'immunity': 3505, 'whistle': 7367, 'crashes': 1764, 'draped': 2275, 'celebrating': 1284, 'exploration': 2615, 'completed': 1561, 'marathon': 4246, '219': 105, 'kilometers': 3878, 'germanwings': 3035, 'cockpit': 1476, 'breaching': 1042, 'logged': 4113, 'tracked': 6884, '000kg': 2, 'climbers': 1450, 'risks': 5859, 'evaluated': 2537, 'fallujah': 2684, 'confession': 1602, 'easter': 2334, 'vault': 7167, 'raiders': 5518, '200million': 89, 'hatton': 3246, 'roof': 5883, 'alarm': 450, 'abseiling': 284, 'shaft': 6139, 'loot': 4130, 'boxes': 1020, 'planetary': 5130, 'rapid': 5544, 'acidification': 324, 'concludes': 1588, 'carbon': 1221, 'atmosphere': 679, 'absorbed': 287, 'flat': 2830, 'pack': 4891, 'shelters': 6160, 'iraqis': 3720, 'circle': 1402, 'sponsor': 6385, 'overtakes': 4878, 'patriot': 4983, 'khaama': 3854, 'kp': 3905, 'astronomers': 670, 'structure': 6519, 'incredibly': 3543, 'hole': 3341, 'supervoid': 6592, 'blo': 945, 'distinguished': 2186, 'unusual': 7103, 'emptiness': 2437, 'telescope': 6734, 'cosmic': 1716, 'occurred': 4755, 'bang': 782, 'examine': 2558, 'possibility': 5222, '218': 104, 'stockpiles': 6473, 'minimal': 4425, 'fulfilling': 2955, 'proliferation': 5373, 'considerable': 1629, 'comprehensive': 1568, 'disarmament': 2142, 'hideout': 3306, 'sambisa': 5969, 'pulled': 5453, 'rubble': 5905, 'em': 2415, 'conservation': 1624, 'momentum': 4477, 'thrust': 6806, 'propellant': 5386, 'bouncing': 1014, 'microwaves': 4395, 'container': 1648, 'electoral': 2397, 'germanys': 3037, 'questioned': 5499, 'dohas': 2223, 'vexed': 7190, 'nomination': 4687, 'moldova': 4470, 'eighth': 2388, 'rt': 5903, 'hon': 3364, 'caroline': 1232, 'lucas': 4153, 'proportional': 5393, 'representation': 5734, 'felt': 2742, 'richter': 5833, 'shocks': 6180, 'aboriginals': 281, 'petronas': 5055, 'canadas': 1187, 'petroliam': 5054, 'nasional': 4594, 'bhd': 885, '319': 144, '267': 127, 'compensation': 1552, 'terminal': 6750, 'ancestral': 509, 'lands': 3936, 'shelf': 6156, 'disintegration': 2165, 'ongoing': 4789, 'irans': 3717, 'bail': 765, '7bn': 229, 'rigging': 5841, 'penalties': 5008, 'manipulating': 4231, 'blogger': 952, 'supermarkets': 6590, 'unsold': 7098, 'edits': 2364, 'scandals': 6007, 'steve': 6460, 'wozniak': 7460, 'nike': 4677, 'en': 2439, 'route': 5896, 'mortar': 4508, '80000': 234, 'rounds': 5894, 'ammunition': 500, 'launchers': 3954, 'ugly': 7015, 'lowers': 4148, 'explosive': 2618, 'exercises': 2581, 'alerted': 458, 'pod': 5171, 'orcas': 4823, 'vicinity': 7192, 'responsive': 5780, 'governed': 3093, 'independent': 3548, 'candidate': 1200, 'smell': 6279, 'sgt': 6137, 'craig': 1761, 'harrison': 3237, 'longest': 4124, 'traumatic': 6920, 'stress': 6503, 'disorder': 2172, 'deployment': 2041, 'balkans': 772, 'peacekeeping': 5000, 'engaged': 2463, 'transactional': 6902, 'haitian': 3193, 'exploitation': 2614, 'significantly': 6222, 'underreported': 7049, 'missions': 4450, 'surfaced': 6605, 'corroborates': 1713, 'assertions': 656, 'ensuring': 2476, 'isil': 3729, 'passage': 4964, 'dmz': 2203, 'tide': 6816, 'boats': 970, 'trickle': 6939, 'recommends': 5606, 'concentrate': 1576, '76': 223, 'overseas': 4877, 'havens': 3250, 'nature': 4604, 'preserves': 5288, 'oases': 4731, 'poaching': 5169, '96': 257, 'ttip': 6971, 'privatisation': 5330, 'corporate': 1706, 'grenoble': 3131, 'speakers': 6354, 'transmission': 6912, 'hails': 3191, 'achievements': 322, '32bn': 147, 'inspired': 3626, 'understanding': 7051, 'empower': 2435, 'iftar': 3467, 'meal': 4308, 'playstation': 5148, 'shutting': 6208, 'xbox': 7479, 'offences': 4762, 'imposes': 3516, 'informant': 3590, 'blower': 958, 'chuck': 1396, 'blazer': 938, 'tibetans': 6815, 'ethnic': 2525, 'minorities': 4433, 'surge': 6607, 'hadron': 3190, 'collider': 1497, 'particle': 4951, 'pentaquark': 5019, 'heading': 3256, 'appetite': 563, 'respondents': 5774, 'insights': 3618, 'outright': 4867, 'undecided': 7043, 'royals': 5902, 'clooney': 1457, 'oscar': 4847, 'winner': 7401, 'prendergast': 5277, 'flow': 2848, 'spyware': 6403, 'vendor': 7177, 'subsidiary': 6543, 'insitu': 3624, 'infect': 3578, 'proximity': 5436, 'reality': 5577, 'dolphins': 2228, 'reproduce': 5738, 'linger': 4070, 'milky': 4412, 'galaxy': 2983, 'kepler': 3847, '452': 175, 'habitable': 3181, 'zone': 7520, 'musk': 4573, 'autonomous': 723, 'artificial': 627, 'hunter': 3431, 'cecil': 1282, 'walter': 7278, 'palmers': 4916, 'practice': 5250, 'zimbabwean': 7518, 'filthy': 2786, 'olympians': 4785, 'compete': 1553, 'microbeads': 4391, 'review': 5815, 'pose': 5216, 'ultimate': 7021, 'frisbee': 2942, 'recognised': 5600, 'rushing': 5926, 'transparent': 6914, 'itunes': 3752, 'explains': 2608, 'cd': 1277, 'contains': 1650, 'copyrighted': 1698, 'disappearance': 2138, 'reorganize': 5714, 'alphabet': 479, 'nestle': 4640, '100m': 14, 'noodles': 4690, 'port': 5213, 'tianjin': 6812, 'cbc': 1274, '31': 143, 'addition': 353, 'breached': 1041, 'circumvention': 1405, 'dmca': 2202, 'gps': 3099, 'trackers': 6885, 'tusks': 6996, 'smuggling': 6289, 'interpreter': 3671, 'served': 6114, 'refuge': 5640, 'survivor': 6621, 'suing': 6573, 'location': 4106, 'hid': 3303, 'shooters': 6184, '81': 236, 'archaeologist': 586, 'foremost': 2879, 'scholar': 6022, 'treasures': 6925, 'palmyra': 4917, 'unto': 7100, 'prepare': 5278, 'archive': 590, 'tool': 6850, 'honest': 3367, 'geneva': 3023, 'convention': 1678, 'safeguard': 5945, 'clandestine': 1427, 'km': 3889, 'gotthard': 3090, 'base': 809, 'connecting': 1617, 'milan': 4402, 'zurich': 7526, 'ahmedabad': 421, 'vehicles': 7174, 'manufactured': 4240, 'wooden': 7431, 'shigir': 6167, 'stonehenge': 6480, 'decipher': 1928, 'defying': 1985, 'fury': 2968, 'quetta': 5501, 'congolese': 1612, 'surgeon': 6608, 'mukwege': 4551, 'intent': 3653, 'sully': 6577, 'image': 3490, 'delegates': 1991, 'hallucinogenic': 3199, 'daywe': 1897, 'geographic': 3028, 'hungry': 3429, 'malcom': 4208, 'turnbull': 6990, 'mackerel': 4176, 'populations': 5208, 'turnover': 6993, 'experiments': 2605, 'contributions': 1672, 'audi': 702, 'branded': 1031, 'cheat': 1352, 'diesel': 2109, 'emissions': 2429, 'cycloserine': 1851, 'jump': 3823, 'pharmaceutical': 5056, 'ensuing': 2473, 'expert': 2606, 'publicity': 5444, 'original': 4842, 'hike': 3315, 'pharmaceuticals': 5057, 'hiked': 3316, 'pill': 5095, 'incurable': 3544, 'barrick': 805, 'liters': 4087, '700k': 214, 'flowing': 2849, 'outline': 4862, 'integrate': 3647, 'insists': 3623, 'employer': 2434, 'chops': 1383, 'october': 4759, 'encompasses': 2445, '327': 146, 'survivors': 6622, 'psychologists': 5440, 'designed': 2061, 'palm': 4914, 'primary': 5313, 'ecosystem': 2352, 'jacked': 3757, 'antitrust': 538, 'damge': 1865, 'benefiting': 872, 'multinationals': 4554, 'nanjing': 4589, 'relating': 5674, '1937': 58, 'elect': 2393, 'harpers': 3236, 'greenhouse': 3127, 'rebuke': 5588, 'treaties': 6928, 'comfortable': 1518, 'hurricane': 3433, 'patricia': 4982, 'measured': 4314, 'strongest': 6516, 'applications': 567, 'unconscious': 7037, 'bias': 887, 'minority': 4434, 'exxon': 2645, 'understood': 7052, 'promote': 5378, 'misinformation': 4442, 'pitting': 5113, 'villagers': 7212, 'multinational': 4553, 'lying': 4167, 'oath': 4732, 'chevron': 1362, 'judgment': 3818, 'deliberate': 1997, '285': 136, '281': 135, 'meps': 4355, 'clinics': 1453, 'gynaecologists': 3177, 'decriminalise': 1946, 'bullets': 1117, 'luggage': 4157, 'extort': 2634, 'mexicos': 4382, 'catalan': 1258, 'secede': 6063, '2017': 97, 'storing': 6492, '269': 128, 'hates': 3245, 'feared': 2721, 'g7': 2972, 'fuel': 2951, 'tory': 6863, 'handouts': 3213, 'majors': 4195, 'embattled': 2422, 'stronghold': 6517, 'raqqa': 5547, 'solve': 6313, 'prayers': 5259, 'praying': 5260, 'illogical': 3488, 'expect': 2592, 'buddha': 1100, 'explosions': 2617, 'saint': 5952, 'ringleader': 5845, 'steady': 6449, 'doses': 2247, 'amphetamine': 505, 'captagon': 1212, 'num': 4720, 'reckless': 5598, 'abandon': 262, 'psychosis': 5441, 'accomplices': 308, 'upgrade': 7110, 'met': 4367, 'chronic': 1395, 'chosen': 1386, 'issues': 3748, 'possessing': 5219, 'obsolete': 4745, 'sunni': 6585, 'resort': 5769, 'implausible': 3509, 'precision': 5266, 'guided': 3164, 'valls': 7154, 'councillors': 1722, 'lexmark': 4021, 'pesos': 5049, 'schkreli': 6020, '5000': 183, 'sepp': 6108, 'blatter': 936, 'uefa': 7011, 'michel': 4389, 'platini': 5143, 'suspended': 6627, 'related': 5673, 'ethics': 2523, 'spacexs': 6344, 'falcon': 2676, 'upright': 7116, 'teens': 6729, 'mosquito': 4511, 'borne': 1003, '196': 65, 'thwarts': 6810, 'notify': 4706, 'outlook': 4863, 'execution': 2574, 'encryption': 2450, 'condemns': 1593, 'backdoors': 749, 'stock': 6471, 'min': 4417, 'cologne': 1499, 'hamburg': 3205, 'zrich': 7524, 'salzburg': 5967, 'helsinki': 3289, 'nye': 4728, 'festivities': 2750, 'chapo': 1333, 'arak': 585, 'reactor': 5571, 'fills': 2778, 'obligations': 4737, 'december': 1924, 'indonesian': 3564, 'jakarta': 3762, 'postwar': 5232, '933': 254, '127m': 29, '65yo': 207, 'destroys': 2070, 'assyrian': 666, 'ninth': 4680, 'neptunebut': 4639, 'unseenorbits': 7097, 'menus': 4353, 'daycare': 1894, 'insisting': 3622, 'necessary': 4618, 'preserving': 5289, 'traditions': 6891, 'travel': 6921, 'unusually': 7104, 'swept': 6647, 'conducted': 1599, 'encrypted': 2449, 'plotting': 5160, 'oecd': 4760, 'acquaintance': 327, 'fptp': 2912, 'suited': 6576, 'fledgling': 2834, 'democracies': 2007, 'mature': 4291, 'fundamentally': 2962, 'flawed': 2832, 'hydrogen': 3440, 'throwing': 6803, 'charities': 1343, 'denmarks': 2028, 'meant': 4312, 'tumbling': 6974, 'orbit': 4821, 'incapable': 3525, 'useful': 7137, 'placing': 5120, 'superman': 6589, 'gravitational': 3117, 'holes': 3342, 'detected': 2080, 'iceberg': 3450, 'renders': 5707, 'landlocked': 3934, 'faced': 2656, 'caliphate': 1164, 'slashed': 6262, 'salaries': 5958, 'releasing': 5682, 'drain': 2270, 'pipes': 5106, 'yield': 7498, 'dismembered': 2167, 'corpses': 1709, '88': 243, 'bugged': 1105, 'ki': 3857, 'netanyahu': 4642, 'discussing': 2159, 'wto': 7474, 'choosing': 1381, 'suez': 6560, 'canal': 1190, 'billionaires': 900, '770': 227, 'voter': 7253, 'registration': 5656, 'critics': 1797, 'tories': 6856, 'atheist': 672, 'layoffs': 3967, 'injected': 3605, 'stimulate': 6467, 'tumours': 6976, 'depictions': 2038, 'cleavage': 1443, 'reincarnation': 5668, 'peruvian': 5047, 'polluted': 5192, 'preventive': 5302, 'create': 1767, 'basis': 816, 'iphone': 3712, 'microphones': 4393, 'wiring': 7411, 'submarine': 6539, 'needy': 4623, 'dept': 2047, 'profoundly': 5360, 'salah': 5956, 'abdeslam': 269, 'falling': 2681, 'recognises': 5601, '333': 149, 'females': 2744, 'aerial': 388, 'shown': 6201, 'bleached': 940, 'corals': 1700, 'egyptair': 2385, 'alexandria': 459, 'massively': 4278, 'int': 3645, 'squalid': 6406, 'recruitment': 5618, 'wages': 7265, 'withheld': 7416, 'tournament': 6874, 'deletes': 1994, 'canary': 1191, 'terabyte': 6748, 'panamanian': 4919, 'asset': 658, 'manages': 4224, 'estates': 2518, 'fraudsters': 2923, 'smugglers': 6288, 'celebrities': 1285, 'athletes': 675, 'personally': 5041, 'intervened': 3677, 'trusts': 6964, 'assets': 659, 'meat': 4316, 'poultry': 5238, 'stewards': 6462, 'starshot': 6432, 'accelerate': 298, 'probes': 5336, 'alpha': 478, 'centauri': 1297, 'strips': 6513, 'investigators': 3700, 'youths': 7508, 'commission': 1525, 'impeach': 3508, 'poo': 5197, 'poos': 5201, 'boaty': 971, 'mcboatface': 4301, 'christen': 1389, 'certificate': 1310, 'operative': 4805, 'envelope': 2487, 'dc': 1898, 'insulting': 3640, 'abducted': 271, 'wards': 7284, '4g': 179, 'airstrike': 444, 'aleppo': 456, 'puerto': 5450, 'rico': 5835, 'partners': 4958, 'irreversible': 3727, 'affordable': 392, 'wildfire': 7389, 'fort': 2894, 'mcmurray': 4306, 'evacuated': 2536, 'spend': 6369, 'tesla': 6763, 'countering': 1730, 'lobbys': 4102, 'justification': 3831, 'abolition': 279, 'recognise': 5599, 'surrounds': 6614, 'frauds': 2922, 'disobeying': 2171, 'speaker': 6353, 'mossack': 4512, 'fonseca': 2862, '54': 187, 'commonly': 1536, 'hypertension': 3443, 'diabetes': 2095, 'disorders': 2173, 'chilling': 1370, 'commissions': 1528, 'hijackers': 3314, 'headscarves': 3259, 'circling': 1403, '000th': 5, 'pave': 4988, 'ms804': 4540, 'disappears': 2140, 'linkedin': 4073, 'compromised': 1570, 'lodged': 4110, 'adidas': 357, 'manufacture': 4239, 'automated': 722, 'relying': 5689, 'aristotle': 602, 'popular': 5206, 'diving': 2200, 'bleaching': 941, 'shun': 6204, 'intervention': 3678, 'cu': 1818, 'freezer': 2930, 'trafficking': 6894, 'inhabited': 3599, 'accuse': 315, 'flip': 2841, 'flopping': 2845, 'vandals': 7161, 'artworks': 632, 'tasmania': 6702, 'priceless': 5308, 'repair': 5715, 'extortion': 2635, 'upscale': 7120, 'nightclu': 4674, 'doha': 2222, 'wedlock': 7339, 'qatari': 5489, 'beatings': 834, 'decriminalisation': 1945, 'punishing': 5461, 'cox': 1754, 'staggering': 6417, '87': 241, 'venezuelans': 7179, 'athlete': 674, 'competed': 1554, 'paralympic': 4929, 'games': 2990, 'gunpoint': 3172, 'janeiro': 3767, 'liesl': 4044, 'tesch': 6762, 'brandishing': 1032, 'bicycle': 889, 'rbs': 5565, 'trading': 6889, 'tanking': 6687, 'istanbul': 3749, 'dispensers': 2174, 'legalisation': 3996, 'kiosks': 3885, 'desks': 2063, 'ounces': 4851, '117': 25, 'alvarez': 482, 'lira': 4079, 'waited': 7268, '1898': 55}\n"
     ]
    },
    {
     "data": {
      "text/plain": [
       "(1989, 7527)"
      ]
     },
     "execution_count": 77,
     "metadata": {},
     "output_type": "execute_result"
    }
   ],
   "source": [
    "# This is my bag of words based on the word count in the respective document, takes an array of texts and counts its words\n",
    "bag=vectorizer.fit_transform(dNews['Top1'])\n",
    "print(vectorizer.vocabulary_)\n",
    "bag.shape\n"
   ]
  },
  {
   "cell_type": "code",
   "execution_count": 78,
   "metadata": {},
   "outputs": [
    {
     "data": {
      "text/plain": [
       "(1989, 7527)"
      ]
     },
     "execution_count": 78,
     "metadata": {},
     "output_type": "execute_result"
    }
   ],
   "source": [
    "bag.shape"
   ]
  },
  {
   "cell_type": "code",
   "execution_count": 79,
   "metadata": {
    "colab": {
     "base_uri": "https://localhost:8080/",
     "height": 136
    },
    "colab_type": "code",
    "id": "LqWkZJUv4Qdo",
    "outputId": "a584b7f6-60ec-4a56-c031-7515e862ae14"
   },
   "outputs": [
    {
     "name": "stdout",
     "output_type": "stream",
     "text": [
      "[[0. 0. 0. ... 0. 0. 0.]\n",
      " [0. 0. 0. ... 0. 0. 0.]\n",
      " [0. 0. 0. ... 0. 0. 0.]\n",
      " ...\n",
      " [0. 0. 0. ... 0. 0. 0.]\n",
      " [0. 0. 0. ... 0. 0. 0.]\n",
      " [0. 0. 0. ... 0. 0. 0.]]\n"
     ]
    }
   ],
   "source": [
    "print(bag.toarray())"
   ]
  },
  {
   "cell_type": "code",
   "execution_count": 80,
   "metadata": {
    "colab": {},
    "colab_type": "code",
    "id": "0UKBygTgWNvJ"
   },
   "outputs": [],
   "source": [
    "bagArray=bag.toarray()"
   ]
  },
  {
   "cell_type": "code",
   "execution_count": 81,
   "metadata": {
    "colab": {
     "base_uri": "https://localhost:8080/",
     "height": 34
    },
    "colab_type": "code",
    "id": "venGC07HWVqw",
    "outputId": "19724c79-2791-4ac9-a218-11a8cf634c59"
   },
   "outputs": [
    {
     "data": {
      "text/plain": [
       "(1989, 7527)"
      ]
     },
     "execution_count": 81,
     "metadata": {},
     "output_type": "execute_result"
    }
   ],
   "source": [
    "bagArray.shape"
   ]
  },
  {
   "cell_type": "code",
   "execution_count": 82,
   "metadata": {
    "colab": {
     "base_uri": "https://localhost:8080/",
     "height": 769
    },
    "colab_type": "code",
    "id": "1Xq_tne6cIjG",
    "outputId": "b4b89128-47ee-45d9-83c9-4f24900d823e"
   },
   "outputs": [],
   "source": [
    "# Create a length column to be used as a future feature \n",
    "#for i in range(0, len(dNews)):\n",
    "#    dNews.length[i] = len(dNews.iloc[i])\n",
    "#dNews.head()"
   ]
  },
  {
   "cell_type": "code",
   "execution_count": 83,
   "metadata": {
    "colab": {},
    "colab_type": "code",
    "id": "LPcSMJ1i4Qrh"
   },
   "outputs": [],
   "source": [
    "from sklearn.feature_extraction.text import TfidfTransformer"
   ]
  },
  {
   "cell_type": "code",
   "execution_count": 84,
   "metadata": {
    "colab": {},
    "colab_type": "code",
    "id": "dcK9K0DD4Q1i"
   },
   "outputs": [],
   "source": [
    "tfidf=TfidfTransformer(use_idf=True,norm='l2',smooth_idf=True)"
   ]
  },
  {
   "cell_type": "code",
   "execution_count": 85,
   "metadata": {
    "colab": {},
    "colab_type": "code",
    "id": "rR3mf8vD8dkO"
   },
   "outputs": [],
   "source": [
    "np.set_printoptions(precision=2)"
   ]
  },
  {
   "cell_type": "markdown",
   "metadata": {
    "colab": {
     "base_uri": "https://localhost:8080/",
     "height": 136
    },
    "colab_type": "code",
    "id": "X7e3wHom8dw7",
    "outputId": "3135b599-d099-4fd7-c783-e9f7880117fd"
   },
   "source": [
    "### TfidTransformer class, takes the raw term frequencies from TfidVectorizer class as input and\n",
    "###  transforms them into tf-idfs\n"
   ]
  },
  {
   "cell_type": "code",
   "execution_count": 86,
   "metadata": {},
   "outputs": [
    {
     "name": "stdout",
     "output_type": "stream",
     "text": [
      "[[0. 0. 0. ... 0. 0. 0.]\n",
      " [0. 0. 0. ... 0. 0. 0.]\n",
      " [0. 0. 0. ... 0. 0. 0.]\n",
      " ...\n",
      " [0. 0. 0. ... 0. 0. 0.]\n",
      " [0. 0. 0. ... 0. 0. 0.]\n",
      " [0. 0. 0. ... 0. 0. 0.]]\n"
     ]
    }
   ],
   "source": [
    "print(tfidf.fit_transform(vectorizer.fit_transform(dNews['Top1'])).toarray())"
   ]
  },
  {
   "cell_type": "code",
   "execution_count": 87,
   "metadata": {
    "colab": {
     "base_uri": "https://localhost:8080/",
     "height": 34
    },
    "colab_type": "code",
    "id": "JkYAn3yA8eAY",
    "outputId": "d39d706b-9de2-4f5a-c19d-a55ce9375414"
   },
   "outputs": [
    {
     "data": {
      "text/plain": [
       "(1989, 7527)"
      ]
     },
     "execution_count": 87,
     "metadata": {},
     "output_type": "execute_result"
    }
   ],
   "source": [
    "dNews_tf =tfidf.fit_transform(vectorizer.fit_transform(dNews['Top1']))\n",
    "dNews_tf.shape"
   ]
  },
  {
   "cell_type": "code",
   "execution_count": 88,
   "metadata": {},
   "outputs": [
    {
     "data": {
      "text/plain": [
       "(1001, 5040)"
      ]
     },
     "execution_count": 88,
     "metadata": {},
     "output_type": "execute_result"
    }
   ],
   "source": [
    "#X_train_tf =tfidf.fit_transform(vectorizer.fit_transform(X_train))\n",
    "X_train_tf.shape"
   ]
  },
  {
   "cell_type": "code",
   "execution_count": 89,
   "metadata": {},
   "outputs": [
    {
     "data": {
      "text/plain": [
       "(988, 5040)"
      ]
     },
     "execution_count": 89,
     "metadata": {},
     "output_type": "execute_result"
    }
   ],
   "source": [
    "#X_test_tf =tfidf.fit_transform(vectorizer.fit_transform(X_test))\n",
    "X_test_tf.shape"
   ]
  },
  {
   "cell_type": "code",
   "execution_count": 90,
   "metadata": {},
   "outputs": [
    {
     "data": {
      "text/plain": [
       "((988,), (988,), (1001,), (1001,))"
      ]
     },
     "execution_count": 90,
     "metadata": {},
     "output_type": "execute_result"
    }
   ],
   "source": [
    "X_test.shape, y_test.shape, X_train.shape, y_train.shape"
   ]
  },
  {
   "cell_type": "code",
   "execution_count": 91,
   "metadata": {},
   "outputs": [],
   "source": [
    "# Fit the classifier\n",
    "from sklearn import linear_model"
   ]
  },
  {
   "cell_type": "code",
   "execution_count": 92,
   "metadata": {},
   "outputs": [],
   "source": [
    "# The expit function, also known as the logistic sigmoid function, is defined as expit(x) = 1/(1+exp(-x)). \n",
    "# It is the inverse of the logit function.\n",
    "from scipy.special import expit"
   ]
  },
  {
   "cell_type": "code",
   "execution_count": 93,
   "metadata": {},
   "outputs": [
    {
     "name": "stderr",
     "output_type": "stream",
     "text": [
      "/Users/piruzalemi/opt/anaconda3/lib/python3.7/site-packages/sklearn/linear_model/logistic.py:432: FutureWarning: Default solver will be changed to 'lbfgs' in 0.22. Specify a solver to silence this warning.\n",
      "  FutureWarning)\n"
     ]
    },
    {
     "data": {
      "text/plain": [
       "1.0"
      ]
     },
     "execution_count": 93,
     "metadata": {},
     "output_type": "execute_result"
    }
   ],
   "source": [
    "#-------------------------------------------------------------------------------------\n",
    "#-------------------------------------------------------------------------------------\n",
    "clf = linear_model.LogisticRegression(C=1e5)\n",
    "clf.fit(X_train_tf, y_train)\n",
    "clf.coef_\n",
    "clf.score(X_train_tf, y_train)"
   ]
  },
  {
   "cell_type": "code",
   "execution_count": 94,
   "metadata": {
    "colab": {
     "base_uri": "https://localhost:8080/",
     "height": 34
    },
    "colab_type": "code",
    "id": "olNs-dJEJSqO",
    "outputId": "3ca1ae68-029e-4e84-ce7b-41f8cf3b3235"
   },
   "outputs": [
    {
     "data": {
      "text/plain": [
       "0.9989878542510121"
      ]
     },
     "execution_count": 94,
     "metadata": {},
     "output_type": "execute_result"
    }
   ],
   "source": [
    "#-------------------------------------------------------------------------------------\n",
    "\n",
    "#X=X_train_tf\n",
    "#.                 I T          H A S          SEEN    THE.    DATA.   ??????????\n",
    "#-------------------------------------------------------------------------------------\n",
    "clf = linear_model.LogisticRegression(C=1e5)\n",
    "clf.fit(X_test_tf, y_test)\n",
    "clf.coef_\n",
    "clf.score(X_test_tf, y_test)"
   ]
  },
  {
   "cell_type": "code",
   "execution_count": 95,
   "metadata": {},
   "outputs": [
    {
     "data": {
      "text/plain": [
       "LogisticRegression(C=100000.0, class_weight=None, dual=False,\n",
       "                   fit_intercept=True, intercept_scaling=1, l1_ratio=None,\n",
       "                   max_iter=100, multi_class='warn', n_jobs=None, penalty='l2',\n",
       "                   random_state=None, solver='warn', tol=0.0001, verbose=0,\n",
       "                   warm_start=False)"
      ]
     },
     "execution_count": 95,
     "metadata": {},
     "output_type": "execute_result"
    }
   ],
   "source": [
    "clf"
   ]
  },
  {
   "cell_type": "code",
   "execution_count": 96,
   "metadata": {},
   "outputs": [],
   "source": [
    "import numpy as np\n",
    "import matplotlib.pyplot as plt"
   ]
  },
  {
   "cell_type": "markdown",
   "metadata": {},
   "source": [
    "# Naive Bayes Model: BernoulliNB"
   ]
  },
  {
   "cell_type": "code",
   "execution_count": 97,
   "metadata": {},
   "outputs": [],
   "source": [
    "from sklearn.naive_bayes import BernoulliNB"
   ]
  },
  {
   "cell_type": "code",
   "execution_count": 98,
   "metadata": {},
   "outputs": [],
   "source": [
    "from sklearn.feature_extraction.text import CountVectorizer\n"
   ]
  },
  {
   "cell_type": "code",
   "execution_count": 99,
   "metadata": {},
   "outputs": [
    {
     "name": "stdout",
     "output_type": "stream",
     "text": [
      "  (0, 4853)\t0.22792892201180157\n",
      "  (0, 3137)\t0.1025347432785759\n",
      "  (0, 712)\t0.3802090036555188\n",
      "  (0, 4564)\t0.09533057700673112\n",
      "  (0, 2985)\t0.3319339583856534\n",
      "  (0, 1141)\t0.3319339583856534\n",
      "  (0, 395)\t0.18925954129984127\n",
      "  (0, 4860)\t0.3802090036555188\n",
      "  (0, 3912)\t0.2644475839999778\n",
      "  (0, 4671)\t0.2644475839999778\n",
      "  (0, 1492)\t0.3802090036555188\n",
      "  (0, 1990)\t0.31420682016423046\n",
      "  (1, 2446)\t0.1795641894485897\n",
      "  (1, 2320)\t0.06980503378630495\n",
      "  (1, 4514)\t0.15359929563994384\n",
      "  (1, 4887)\t0.13486009581756692\n",
      "  (1, 1386)\t0.194616725348384\n",
      "  (1, 3105)\t0.1493351873479981\n",
      "  (1, 4522)\t0.13173235930668914\n",
      "  (1, 2282)\t0.15359929563994384\n",
      "  (1, 4750)\t0.2599697574489796\n",
      "  (1, 2157)\t0.5386925683457692\n",
      "  (1, 3037)\t0.23204469063577404\n",
      "  (1, 313)\t0.07861741888779643\n",
      "  (1, 297)\t0.194616725348384\n",
      "  :\t:\n",
      "  (999, 785)\t0.22894320373961627\n",
      "  (999, 4582)\t0.2115921567768079\n",
      "  (999, 3494)\t0.1886420698573275\n",
      "  (999, 1914)\t0.19968576330487225\n",
      "  (999, 1142)\t0.18676908690864932\n",
      "  (999, 1924)\t0.25042603427435833\n",
      "  (999, 2129)\t0.12050424854504235\n",
      "  (999, 3162)\t0.11591050349596108\n",
      "  (999, 1882)\t0.1012211138713214\n",
      "  (999, 4511)\t0.06656134468592147\n",
      "  (999, 2320)\t0.07865684462641838\n",
      "  (999, 2157)\t0.20233429860036045\n",
      "  (999, 4564)\t0.0694615339758046\n",
      "  (1000, 3650)\t0.35825539347833285\n",
      "  (1000, 2700)\t0.33812680951347046\n",
      "  (1000, 1202)\t0.33812680951347046\n",
      "  (1000, 847)\t0.32384535191148467\n",
      "  (1000, 4951)\t0.33812680951347046\n",
      "  (1000, 4444)\t0.32384535191148467\n",
      "  (1000, 2194)\t0.3127677927848743\n",
      "  (1000, 3494)\t0.24394770965117799\n",
      "  (1000, 4963)\t0.16765270854273226\n",
      "  (1000, 3082)\t0.21208403116778113\n",
      "  (1000, 297)\t0.28358818398175983\n",
      "  (1000, 4564)\t0.08982610366325351\n"
     ]
    }
   ],
   "source": [
    "print(X_train_tf)"
   ]
  },
  {
   "cell_type": "code",
   "execution_count": 100,
   "metadata": {},
   "outputs": [],
   "source": [
    "vectorizer = CountVectorizer()"
   ]
  },
  {
   "cell_type": "code",
   "execution_count": 101,
   "metadata": {},
   "outputs": [],
   "source": [
    "#X = vectorizer.fit_transform(X_train)"
   ]
  },
  {
   "cell_type": "code",
   "execution_count": 102,
   "metadata": {},
   "outputs": [],
   "source": [
    "naive_bayes = BernoulliNB()"
   ]
  },
  {
   "cell_type": "code",
   "execution_count": 103,
   "metadata": {},
   "outputs": [],
   "source": [
    "# from sklearn.model_selection import train_test_split"
   ]
  },
  {
   "cell_type": "code",
   "execution_count": 104,
   "metadata": {},
   "outputs": [
    {
     "data": {
      "text/plain": [
       "BernoulliNB(alpha=1.0, binarize=0.0, class_prior=None, fit_prior=True)"
      ]
     },
     "execution_count": 104,
     "metadata": {},
     "output_type": "execute_result"
    }
   ],
   "source": [
    "# binarizefloat or None, optional (default=0.0)\n",
    "# Threshold for binarizing (mapping to booleans) of sample features. \n",
    "# If None, input is presumed to already consist of binary vectors.\n",
    "naive_bayes.fit(X_train_tf, y_train)\n",
    "#X.shape"
   ]
  },
  {
   "cell_type": "code",
   "execution_count": 105,
   "metadata": {
    "scrolled": true
   },
   "outputs": [],
   "source": [
    "#X_test2 = naive_bayes.transform(X_test)\n"
   ]
  },
  {
   "cell_type": "code",
   "execution_count": 106,
   "metadata": {},
   "outputs": [],
   "source": [
    "#clf = BernoulliNB()\n",
    "#clf.fit(X, y_train)"
   ]
  },
  {
   "cell_type": "code",
   "execution_count": 107,
   "metadata": {
    "scrolled": false
   },
   "outputs": [
    {
     "data": {
      "text/plain": [
       "0.5394736842105263"
      ]
     },
     "execution_count": 107,
     "metadata": {},
     "output_type": "execute_result"
    }
   ],
   "source": [
    "predictions = naive_bayes.predict(X_test_tf)\n",
    "naive_bayes.score(X_test_tf, y_test)"
   ]
  },
  {
   "cell_type": "code",
   "execution_count": 108,
   "metadata": {},
   "outputs": [
    {
     "data": {
      "text/plain": [
       "0.926073926073926"
      ]
     },
     "execution_count": 108,
     "metadata": {},
     "output_type": "execute_result"
    }
   ],
   "source": [
    "naive_bayes.score(X_train_tf, y_train)"
   ]
  },
  {
   "cell_type": "code",
   "execution_count": 109,
   "metadata": {},
   "outputs": [
    {
     "data": {
      "text/plain": [
       "array([0, 1, 1, 1, 0, 1, 1, 0, 1, 0, 1, 1, 1, 1, 1, 1, 1, 1, 0, 1, 1, 0,\n",
       "       0, 1, 1, 1, 0, 1, 0, 1, 1, 1, 1, 1, 1, 0, 1, 1, 1, 1, 0, 1, 1, 1,\n",
       "       1, 0, 1, 1, 1, 0, 1, 1, 1, 1, 1, 1, 1, 0, 1, 1, 1, 1, 1, 1, 1, 1,\n",
       "       0, 1, 1, 0, 0, 1, 0, 1, 1, 1, 1, 0, 1, 1, 1, 1, 1, 1, 0, 1, 1, 1,\n",
       "       1, 1, 1, 1, 1, 1, 1, 1, 1, 1, 1, 1, 1, 0, 0, 1, 1, 1, 0, 1, 0, 1,\n",
       "       0, 1, 1, 1, 1, 1, 0, 1, 1, 1, 1, 1, 0, 0, 1, 1, 1, 1, 1, 1, 0, 1,\n",
       "       1, 0, 0, 0, 1, 1, 1, 1, 1, 1, 0, 1, 0, 1, 1, 1, 1, 0, 1, 1, 1, 0,\n",
       "       1, 0, 1, 1, 1, 0, 1, 1, 0, 1, 1, 0, 1, 0, 1, 1, 1, 0, 1, 0, 1, 1,\n",
       "       1, 1, 1, 0, 1, 1, 1, 1, 1, 1, 1, 0, 1, 1, 1, 1, 1, 1, 1, 1, 1, 1,\n",
       "       0, 1, 1, 0, 1, 0, 1, 1, 1, 1, 1, 1, 1, 0, 1, 0, 1, 1, 1, 0, 1, 1,\n",
       "       1, 1, 0, 1, 0, 1, 1, 0, 0, 0, 0, 1, 1, 1, 0, 0, 1, 1, 1, 1, 1, 1,\n",
       "       1, 0, 1, 0, 1, 1, 1, 0, 1, 1, 1, 0, 1, 1, 1, 0, 1, 1, 1, 1, 0, 1,\n",
       "       1, 1, 1, 0, 1, 1, 1, 0, 0, 1, 0, 1, 0, 1, 0, 1, 0, 1, 1, 1, 1, 1,\n",
       "       1, 1, 1, 0, 1, 0, 1, 0, 1, 0, 1, 0, 1, 1, 1, 1, 0, 0, 1, 1, 1, 1,\n",
       "       1, 1, 1, 1, 1, 0, 1, 1, 1, 1, 1, 1, 0, 1, 1, 1, 1, 0, 1, 1, 1, 0,\n",
       "       1, 0, 1, 1, 0, 1, 1, 0, 1, 1, 1, 1, 0, 1, 1, 1, 0, 1, 1, 1, 1, 1,\n",
       "       1, 1, 0, 0, 1, 1, 1, 0, 0, 1, 1, 1, 1, 0, 1, 1, 0, 1, 1, 0, 1, 1,\n",
       "       0, 1, 1, 1, 1, 0, 1, 1, 1, 0, 1, 1, 1, 1, 1, 0, 1, 1, 1, 1, 1, 1,\n",
       "       1, 0, 1, 1, 1, 0, 1, 1, 1, 1, 1, 1, 1, 0, 0, 1, 1, 1, 1, 1, 1, 1,\n",
       "       1, 1, 1, 1, 0, 1, 0, 1, 1, 1, 1, 1, 1, 1, 1, 1, 1, 1, 1, 1, 1, 1,\n",
       "       1, 0, 1, 0, 0, 1, 1, 1, 1, 1, 1, 1, 1, 1, 1, 1, 1, 1, 1, 1, 1, 1,\n",
       "       1, 1, 1, 1, 1, 1, 1, 0, 1, 1, 0, 1, 1, 0, 1, 1, 1, 1, 1, 1, 1, 1,\n",
       "       1, 1, 1, 1, 0, 1, 0, 1, 1, 1, 1, 1, 1, 0, 0, 0, 1, 0, 0, 1, 1, 1,\n",
       "       1, 1, 0, 1, 1, 0, 0, 1, 1, 1, 1, 1, 1, 1, 1, 1, 1, 1, 1, 1, 1, 1,\n",
       "       1, 1, 1, 1, 1, 1, 1, 1, 1, 1, 1, 1, 0, 1, 1, 0, 0, 1, 0, 1, 1, 0,\n",
       "       1, 1, 0, 1, 1, 1, 0, 1, 1, 0, 1, 1, 1, 1, 1, 1, 1, 1, 0, 1, 1, 1,\n",
       "       1, 1, 1, 1, 1, 1, 1, 1, 1, 1, 0, 0, 1, 1, 1, 1, 1, 1, 0, 0, 1, 0,\n",
       "       1, 1, 0, 1, 1, 1, 0, 1, 1, 1, 1, 1, 1, 0, 1, 0, 1, 1, 0, 1, 1, 1,\n",
       "       0, 1, 1, 1, 1, 1, 1, 1, 1, 0, 1, 0, 1, 1, 0, 1, 1, 1, 1, 1, 1, 1,\n",
       "       1, 0, 1, 1, 1, 1, 1, 1, 1, 1, 1, 1, 1, 1, 1, 1, 0, 1, 0, 1, 1, 1,\n",
       "       0, 1, 1, 1, 0, 1, 0, 1, 1, 1, 0, 0, 1, 1, 1, 1, 1, 1, 1, 1, 1, 1,\n",
       "       0, 1, 0, 1, 0, 1, 1, 0, 1, 1, 0, 1, 1, 1, 0, 0, 0, 1, 1, 0, 1, 0,\n",
       "       1, 1, 1, 1, 1, 1, 1, 0, 1, 1, 1, 1, 1, 1, 1, 1, 1, 1, 0, 0, 0, 1,\n",
       "       1, 1, 0, 1, 1, 1, 1, 1, 1, 0, 0, 1, 0, 1, 1, 0, 1, 0, 1, 1, 1, 1,\n",
       "       1, 1, 0, 1, 1, 1, 1, 1, 0, 1, 1, 0, 1, 1, 1, 1, 1, 1, 1, 1, 1, 1,\n",
       "       1, 1, 1, 1, 1, 0, 1, 1, 1, 1, 0, 1, 1, 1, 0, 0, 1, 1, 1, 1, 1, 1,\n",
       "       1, 1, 1, 1, 0, 0, 1, 1, 1, 0, 1, 1, 0, 1, 1, 1, 1, 1, 0, 0, 0, 0,\n",
       "       1, 1, 0, 0, 0, 1, 1, 1, 1, 1, 1, 1, 1, 1, 0, 0, 1, 1, 1, 1, 0, 1,\n",
       "       1, 0, 0, 1, 0, 1, 1, 1, 1, 1, 0, 0, 1, 1, 0, 1, 0, 1, 1, 1, 1, 1,\n",
       "       1, 1, 1, 0, 0, 1, 1, 1, 1, 1, 1, 1, 1, 1, 0, 1, 1, 1, 0, 1, 1, 1,\n",
       "       1, 1, 1, 1, 1, 1, 1, 1, 1, 1, 1, 1, 1, 1, 0, 0, 1, 1, 1, 1, 0, 1,\n",
       "       0, 1, 1, 1, 1, 1, 1, 1, 1, 1, 1, 1, 1, 1, 0, 1, 0, 1, 1, 0, 0, 1,\n",
       "       1, 1, 1, 0, 1, 1, 1, 1, 1, 0, 0, 0, 1, 0, 1, 1, 1, 1, 1, 0, 1, 0,\n",
       "       1, 1, 0, 1, 0, 1, 1, 0, 1, 1, 0, 1, 0, 0, 1, 0, 1, 1, 1, 1, 1, 1,\n",
       "       1, 1, 0, 1, 1, 1, 1, 1, 1, 1, 1, 0, 1, 1, 0, 1, 1, 1, 1, 1])"
      ]
     },
     "execution_count": 109,
     "metadata": {},
     "output_type": "execute_result"
    }
   ],
   "source": [
    "predictions\n",
    "\n"
   ]
  },
  {
   "cell_type": "code",
   "execution_count": 110,
   "metadata": {
    "colab": {},
    "colab_type": "code",
    "id": "PRu_MDsDffI8"
   },
   "outputs": [],
   "source": [
    "param_grid =[{'vect_ngram_range': [(1,1)],\n",
    "              'vect_stop_words': [stop, None],\n",
    "              'vect_topkenizer': [tokenizer,tokenizer_porter],\n",
    "              'clf_penalty':['l1','l2'],\n",
    "              'clf_C':[1.0,10.0,100.0]}]\n",
    "              "
   ]
  },
  {
   "cell_type": "code",
   "execution_count": 111,
   "metadata": {
    "colab": {},
    "colab_type": "code",
    "id": "19N9yrHFg1fG"
   },
   "outputs": [],
   "source": [
    "# lr_tfidf = Pipeline([('vect',tfidf),('clf',LogisticRegression(random_state=0))])"
   ]
  },
  {
   "cell_type": "code",
   "execution_count": 112,
   "metadata": {
    "colab": {},
    "colab_type": "code",
    "id": "FXQYO7gthNbI"
   },
   "outputs": [],
   "source": [
    "# gs_lr_tfidf = GridSearchCV(lr_tfidf, param_grid, scoring='accuracy', cv=5, verbose=1, n_jobs=1)"
   ]
  },
  {
   "cell_type": "code",
   "execution_count": 113,
   "metadata": {
    "colab": {
     "base_uri": "https://localhost:8080/",
     "height": 715
    },
    "colab_type": "code",
    "id": "uu8MhrFvhoxM",
    "outputId": "40044474-a0b0-46e6-8811-ff26f5590235"
   },
   "outputs": [],
   "source": [
    "#gs_lr_tfidf.fit(X_train, y_train)"
   ]
  },
  {
   "cell_type": "code",
   "execution_count": 114,
   "metadata": {
    "colab": {},
    "colab_type": "code",
    "id": "3LFPlPJqhzr2"
   },
   "outputs": [],
   "source": [
    "from sklearn.preprocessing import StandardScaler\n",
    "from sklearn.preprocessing import MaxAbsScaler"
   ]
  },
  {
   "cell_type": "code",
   "execution_count": 115,
   "metadata": {},
   "outputs": [],
   "source": [
    "stdsc = StandardScaler()\n",
    "MaxAbs = MaxAbsScaler()"
   ]
  },
  {
   "cell_type": "code",
   "execution_count": 116,
   "metadata": {},
   "outputs": [],
   "source": [
    "X_train_std = MaxAbs.fit_transform(X_train_tf)"
   ]
  },
  {
   "cell_type": "code",
   "execution_count": 117,
   "metadata": {},
   "outputs": [],
   "source": [
    "X_test_std = MaxAbs.transform(X_test_tf)\n",
    "# print(X_test_std)"
   ]
  },
  {
   "cell_type": "code",
   "execution_count": 118,
   "metadata": {},
   "outputs": [
    {
     "data": {
      "text/plain": [
       "BernoulliNB(alpha=1.0, binarize=0.0, class_prior=None, fit_prior=True)"
      ]
     },
     "execution_count": 118,
     "metadata": {},
     "output_type": "execute_result"
    }
   ],
   "source": [
    "naive_bayes.fit(X_train_std, y_train)"
   ]
  },
  {
   "cell_type": "code",
   "execution_count": 119,
   "metadata": {},
   "outputs": [],
   "source": [
    "predictions = naive_bayes.predict(X_test_std)"
   ]
  },
  {
   "cell_type": "code",
   "execution_count": 120,
   "metadata": {},
   "outputs": [
    {
     "data": {
      "text/plain": [
       "0.5394736842105263"
      ]
     },
     "execution_count": 120,
     "metadata": {},
     "output_type": "execute_result"
    }
   ],
   "source": [
    "naive_bayes.score(X_test_std, y_test)"
   ]
  },
  {
   "cell_type": "code",
   "execution_count": 121,
   "metadata": {},
   "outputs": [
    {
     "data": {
      "text/plain": [
       "0.926073926073926"
      ]
     },
     "execution_count": 121,
     "metadata": {},
     "output_type": "execute_result"
    }
   ],
   "source": [
    "naive_bayes.score(X_train_std, y_train)"
   ]
  },
  {
   "cell_type": "markdown",
   "metadata": {},
   "source": [
    "## OUR MISSCLASSIFICATIONS"
   ]
  },
  {
   "cell_type": "code",
   "execution_count": 122,
   "metadata": {},
   "outputs": [],
   "source": [
    "from sklearn.linear_model import Perceptron"
   ]
  },
  {
   "cell_type": "code",
   "execution_count": 123,
   "metadata": {},
   "outputs": [],
   "source": [
    "# The learning rate eta and the number of epochs (n_iter, or here max_iter so it will run are our hyper parameters)\n",
    "# meaning we set!\n",
    "ppn = Perceptron(max_iter=20, eta0=0.01, random_state=1, verbose=1, n_jobs=1)"
   ]
  },
  {
   "cell_type": "code",
   "execution_count": 124,
   "metadata": {},
   "outputs": [
    {
     "name": "stdout",
     "output_type": "stream",
     "text": [
      "-- Epoch 1\n",
      "Norm: 0.56, NNZs: 3186, Bias: 0.000700, T: 1001, Avg. loss: 0.006885\n",
      "Total training time: 0.00 seconds.\n",
      "-- Epoch 2\n",
      "Norm: 0.66, NNZs: 3925, Bias: 0.000800, T: 2002, Avg. loss: 0.002999\n",
      "Total training time: 0.00 seconds.\n",
      "-- Epoch 3\n",
      "Norm: 0.69, NNZs: 4125, Bias: 0.000500, T: 3003, Avg. loss: 0.000708\n",
      "Total training time: 0.00 seconds.\n",
      "-- Epoch 4\n",
      "Norm: 0.70, NNZs: 4179, Bias: 0.000200, T: 4004, Avg. loss: 0.000156\n",
      "Total training time: 0.00 seconds.\n",
      "-- Epoch 5\n",
      "Norm: 0.71, NNZs: 4239, Bias: 0.000300, T: 5005, Avg. loss: 0.000072\n",
      "Total training time: 0.00 seconds.\n",
      "-- Epoch 6\n",
      "Norm: 0.72, NNZs: 4246, Bias: 0.000300, T: 6006, Avg. loss: 0.000024\n",
      "Total training time: 0.00 seconds.\n",
      "-- Epoch 7\n",
      "Norm: 0.72, NNZs: 4248, Bias: 0.000400, T: 7007, Avg. loss: 0.000001\n",
      "Total training time: 0.00 seconds.\n",
      "-- Epoch 8\n",
      "Norm: 0.72, NNZs: 4248, Bias: 0.000400, T: 8008, Avg. loss: 0.000000\n",
      "Total training time: 0.01 seconds.\n",
      "Convergence after 8 epochs took 0.01 seconds\n"
     ]
    },
    {
     "data": {
      "text/plain": [
       "Perceptron(alpha=0.0001, class_weight=None, early_stopping=False, eta0=0.01,\n",
       "           fit_intercept=True, max_iter=20, n_iter_no_change=5, n_jobs=1,\n",
       "           penalty=None, random_state=1, shuffle=True, tol=0.001,\n",
       "           validation_fraction=0.1, verbose=1, warm_start=False)"
      ]
     },
     "execution_count": 124,
     "metadata": {},
     "output_type": "execute_result"
    }
   ],
   "source": [
    "ppn.fit(X_train_std, y_train)"
   ]
  },
  {
   "cell_type": "code",
   "execution_count": 125,
   "metadata": {},
   "outputs": [],
   "source": [
    "y_pred = ppn.predict(X_test_std)"
   ]
  },
  {
   "cell_type": "code",
   "execution_count": 126,
   "metadata": {},
   "outputs": [
    {
     "name": "stdout",
     "output_type": "stream",
     "text": [
      "Misclassified samples 508\n"
     ]
    }
   ],
   "source": [
    "print('Misclassified samples %d' % (y_test != y_pred).sum())"
   ]
  },
  {
   "cell_type": "code",
   "execution_count": 127,
   "metadata": {},
   "outputs": [],
   "source": [
    "#            USE CONFUSION MATRIX.   ??????????????????\n",
    "#plt.plot(range(1, len(ppn.errors_) +1), ppn.errors_, marker='o')\n",
    "#plt.xlabel('Epochs')\n",
    "#plt.ylabel('Number of updates')\n",
    "#plt.show"
   ]
  },
  {
   "cell_type": "markdown",
   "metadata": {},
   "source": [
    "# Support vector machine linear classifier"
   ]
  },
  {
   "cell_type": "code",
   "execution_count": 130,
   "metadata": {},
   "outputs": [
    {
     "name": "stdout",
     "output_type": "stream",
     "text": [
      "Requirement already satisfied: mlxtend in /Users/piruzalemi/opt/anaconda3/lib/python3.7/site-packages (0.17.2)\n",
      "Requirement already satisfied: joblib>=0.13.2 in /Users/piruzalemi/opt/anaconda3/lib/python3.7/site-packages (from mlxtend) (0.13.2)\n",
      "Requirement already satisfied: numpy>=1.16.2 in /Users/piruzalemi/opt/anaconda3/lib/python3.7/site-packages (from mlxtend) (1.17.2)\n",
      "Requirement already satisfied: matplotlib>=3.0.0 in /Users/piruzalemi/opt/anaconda3/lib/python3.7/site-packages (from mlxtend) (3.1.1)\n",
      "Requirement already satisfied: scikit-learn>=0.20.3 in /Users/piruzalemi/opt/anaconda3/lib/python3.7/site-packages (from mlxtend) (0.21.3)\n",
      "Requirement already satisfied: pandas>=0.24.2 in /Users/piruzalemi/opt/anaconda3/lib/python3.7/site-packages (from mlxtend) (0.25.1)\n",
      "Requirement already satisfied: scipy>=1.2.1 in /Users/piruzalemi/opt/anaconda3/lib/python3.7/site-packages (from mlxtend) (1.4.1)\n",
      "Requirement already satisfied: setuptools in /Users/piruzalemi/opt/anaconda3/lib/python3.7/site-packages (from mlxtend) (41.4.0)\n",
      "Requirement already satisfied: cycler>=0.10 in /Users/piruzalemi/opt/anaconda3/lib/python3.7/site-packages (from matplotlib>=3.0.0->mlxtend) (0.10.0)\n",
      "Requirement already satisfied: kiwisolver>=1.0.1 in /Users/piruzalemi/opt/anaconda3/lib/python3.7/site-packages (from matplotlib>=3.0.0->mlxtend) (1.1.0)\n",
      "Requirement already satisfied: pyparsing!=2.0.4,!=2.1.2,!=2.1.6,>=2.0.1 in /Users/piruzalemi/opt/anaconda3/lib/python3.7/site-packages (from matplotlib>=3.0.0->mlxtend) (2.4.2)\n",
      "Requirement already satisfied: python-dateutil>=2.1 in /Users/piruzalemi/opt/anaconda3/lib/python3.7/site-packages (from matplotlib>=3.0.0->mlxtend) (2.8.0)\n",
      "Requirement already satisfied: pytz>=2017.2 in /Users/piruzalemi/opt/anaconda3/lib/python3.7/site-packages (from pandas>=0.24.2->mlxtend) (2019.3)\n",
      "Requirement already satisfied: six in /Users/piruzalemi/opt/anaconda3/lib/python3.7/site-packages (from cycler>=0.10->matplotlib>=3.0.0->mlxtend) (1.12.0)\n"
     ]
    }
   ],
   "source": [
    "!pip install mlxtend  "
   ]
  },
  {
   "cell_type": "code",
   "execution_count": 131,
   "metadata": {},
   "outputs": [
    {
     "name": "stderr",
     "output_type": "stream",
     "text": [
      "/Users/piruzalemi/opt/anaconda3/lib/python3.7/site-packages/sklearn/linear_model/logistic.py:432: FutureWarning: Default solver will be changed to 'lbfgs' in 0.22. Specify a solver to silence this warning.\n",
      "  FutureWarning)\n",
      "/Users/piruzalemi/opt/anaconda3/lib/python3.7/site-packages/sklearn/linear_model/logistic.py:469: FutureWarning: Default multi_class will be changed to 'auto' in 0.22. Specify the multi_class option to silence this warning.\n",
      "  \"this warning.\", FutureWarning)\n",
      "/Users/piruzalemi/opt/anaconda3/lib/python3.7/site-packages/sklearn/ensemble/forest.py:245: FutureWarning: The default value of n_estimators will change from 10 in version 0.20 to 100 in 0.22.\n",
      "  \"10 in version 0.20 to 100 in 0.22.\", FutureWarning)\n",
      "/Users/piruzalemi/opt/anaconda3/lib/python3.7/site-packages/sklearn/svm/base.py:193: FutureWarning: The default value of gamma will change from 'auto' to 'scale' in version 0.22 to account better for unscaled features. Set gamma explicitly to 'auto' or 'scale' to avoid this warning.\n",
      "  \"avoid this warning.\", FutureWarning)\n",
      "/Users/piruzalemi/opt/anaconda3/lib/python3.7/site-packages/sklearn/linear_model/logistic.py:432: FutureWarning: Default solver will be changed to 'lbfgs' in 0.22. Specify a solver to silence this warning.\n",
      "  FutureWarning)\n",
      "/Users/piruzalemi/opt/anaconda3/lib/python3.7/site-packages/sklearn/linear_model/logistic.py:469: FutureWarning: Default multi_class will be changed to 'auto' in 0.22. Specify the multi_class option to silence this warning.\n",
      "  \"this warning.\", FutureWarning)\n",
      "/Users/piruzalemi/opt/anaconda3/lib/python3.7/site-packages/sklearn/svm/base.py:193: FutureWarning: The default value of gamma will change from 'auto' to 'scale' in version 0.22 to account better for unscaled features. Set gamma explicitly to 'auto' or 'scale' to avoid this warning.\n",
      "  \"avoid this warning.\", FutureWarning)\n"
     ]
    },
    {
     "data": {
      "image/png": "[encoded data removed]",
      "text/plain": [
       "<Figure size 720x576 with 4 Axes>"
      ]
     },
     "metadata": {
      "needs_background": "light"
     },
     "output_type": "display_data"
    }
   ],
   "source": [
    "import numpy as np\n",
    "import matplotlib.pyplot as plt\n",
    "import matplotlib.gridspec as gridspec\n",
    "import itertools\n",
    "from sklearn.linear_model import LogisticRegression\n",
    "from sklearn.svm import SVC\n",
    "from sklearn.ensemble import RandomForestClassifier\n",
    "from mlxtend.classifier import EnsembleVoteClassifier\n",
    "from mlxtend.data import iris_data\n",
    "from mlxtend.plotting import plot_decision_regions\n",
    "\n",
    "# Initializing Classifiers\n",
    "clf1 = LogisticRegression(random_state=0)\n",
    "clf2 = RandomForestClassifier(random_state=0)\n",
    "clf3 = SVC(random_state=0, probability=True)\n",
    "eclf = EnsembleVoteClassifier(clfs=[clf1, clf2, clf3],\n",
    "                              weights=[2, 1, 1], voting='soft')\n",
    "\n",
    "\n",
    "# Loading some example data\n",
    "X, y = iris_data()\n",
    "X = X[:,[0, 2]]\n",
    "\n",
    "# Plotting Decision Regions\n",
    "\n",
    "gs = gridspec.GridSpec(2, 2)\n",
    "fig = plt.figure(figsize=(10, 8))\n",
    "\n",
    "labels = ['Logistic Regression',\n",
    "          'Random Forest',\n",
    "          'RBF kernel SVM',\n",
    "          'Ensemble']\n",
    "\n",
    "for clf, lab, grd in zip([clf1, clf2, clf3, eclf],\n",
    "                         labels,\n",
    "                         itertools.product([0, 1],\n",
    "                         repeat=2)):\n",
    "    clf.fit(X, y)\n",
    "    ax = plt.subplot(gs[grd[0], grd[1]])\n",
    "    fig = plot_decision_regions(X=X, y=y,\n",
    "                                clf=clf, legend=2)\n",
    "    plt.title(lab)\n",
    "\n",
    "plt.show()"
   ]
  },
  {
   "cell_type": "code",
   "execution_count": 132,
   "metadata": {},
   "outputs": [],
   "source": [
    "from mlxtend.plotting import plot_decision_regions\n",
    "import matplotlib.pyplot as plt\n",
    "from sklearn import datasets"
   ]
  },
  {
   "cell_type": "code",
   "execution_count": 133,
   "metadata": {},
   "outputs": [
    {
     "name": "stderr",
     "output_type": "stream",
     "text": [
      "/Users/piruzalemi/opt/anaconda3/lib/python3.7/site-packages/sklearn/svm/base.py:193: FutureWarning: The default value of gamma will change from 'auto' to 'scale' in version 0.22 to account better for unscaled features. Set gamma explicitly to 'auto' or 'scale' to avoid this warning.\n",
      "  \"avoid this warning.\", FutureWarning)\n"
     ]
    },
    {
     "data": {
      "text/plain": [
       "SVC(C=1.0, cache_size=200, class_weight=None, coef0=0.0,\n",
       "    decision_function_shape='ovr', degree=3, gamma='auto_deprecated',\n",
       "    kernel='rbf', max_iter=-1, probability=False, random_state=None,\n",
       "    shrinking=True, tol=0.001, verbose=False)"
      ]
     },
     "execution_count": 133,
     "metadata": {},
     "output_type": "execute_result"
    }
   ],
   "source": [
    "# Support vector machine linear classifier\n",
    "from sklearn.svm import SVC \n",
    "model = SVC(kernel='rbf')\n",
    "model.fit(X, y)"
   ]
  },
  {
   "cell_type": "code",
   "execution_count": 134,
   "metadata": {},
   "outputs": [],
   "source": [
    "svm = SVC(kernel='rbf',random_state=1, gamma=0.10, C=10.0)"
   ]
  },
  {
   "cell_type": "code",
   "execution_count": 135,
   "metadata": {},
   "outputs": [
    {
     "data": {
      "text/plain": [
       "SVC(C=10.0, cache_size=200, class_weight=None, coef0=0.0,\n",
       "    decision_function_shape='ovr', degree=3, gamma=0.1, kernel='rbf',\n",
       "    max_iter=-1, probability=False, random_state=1, shrinking=True, tol=0.001,\n",
       "    verbose=False)"
      ]
     },
     "execution_count": 135,
     "metadata": {},
     "output_type": "execute_result"
    }
   ],
   "source": [
    "svm.fit(X_train_tf, y_train)"
   ]
  },
  {
   "cell_type": "code",
   "execution_count": 137,
   "metadata": {},
   "outputs": [],
   "source": [
    "#plot_decision_regions(X_train_tf, y_train, classifier=svm)"
   ]
  },
  {
   "cell_type": "code",
   "execution_count": 138,
   "metadata": {},
   "outputs": [
    {
     "ename": "AttributeError",
     "evalue": "values not found",
     "output_type": "error",
     "traceback": [
      "\u001b[0;31m---------------------------------------------------------------------------\u001b[0m",
      "\u001b[0;31mAttributeError\u001b[0m                            Traceback (most recent call last)",
      "\u001b[0;32m<ipython-input-138-cd1752aea3be>\u001b[0m in \u001b[0;36m<module>\u001b[0;34m\u001b[0m\n\u001b[1;32m      2\u001b[0m \u001b[0mwidth\u001b[0m\u001b[0;34m=\u001b[0m\u001b[0;36m0.75\u001b[0m\u001b[0;34m\u001b[0m\u001b[0;34m\u001b[0m\u001b[0m\n\u001b[1;32m      3\u001b[0m \u001b[0;34m\u001b[0m\u001b[0m\n\u001b[0;32m----> 4\u001b[0;31m fig = plot_decision_regions(X_train_tf.values, y_train.values, clf=clf,\n\u001b[0m\u001b[1;32m      5\u001b[0m               \u001b[0mfeature_index\u001b[0m\u001b[0;34m=\u001b[0m\u001b[0;34m[\u001b[0m\u001b[0;36m0\u001b[0m\u001b[0;34m,\u001b[0m\u001b[0;36m2\u001b[0m\u001b[0;34m]\u001b[0m\u001b[0;34m,\u001b[0m                        \u001b[0;31m#these one will be plotted\u001b[0m\u001b[0;34m\u001b[0m\u001b[0;34m\u001b[0m\u001b[0m\n\u001b[1;32m      6\u001b[0m               \u001b[0mfiller_feature_values\u001b[0m\u001b[0;34m=\u001b[0m\u001b[0;34m{\u001b[0m\u001b[0;36m1\u001b[0m\u001b[0;34m:\u001b[0m \u001b[0mvalue\u001b[0m\u001b[0;34m,\u001b[0m \u001b[0;36m3\u001b[0m\u001b[0;34m:\u001b[0m\u001b[0mvalue\u001b[0m\u001b[0;34m}\u001b[0m\u001b[0;34m,\u001b[0m  \u001b[0;31m#these will be ignored\u001b[0m\u001b[0;34m\u001b[0m\u001b[0;34m\u001b[0m\u001b[0m\n",
      "\u001b[0;32m~/opt/anaconda3/lib/python3.7/site-packages/scipy/sparse/base.py\u001b[0m in \u001b[0;36m__getattr__\u001b[0;34m(self, attr)\u001b[0m\n\u001b[1;32m    689\u001b[0m             \u001b[0;32mreturn\u001b[0m \u001b[0mself\u001b[0m\u001b[0;34m.\u001b[0m\u001b[0mgetnnz\u001b[0m\u001b[0;34m(\u001b[0m\u001b[0;34m)\u001b[0m\u001b[0;34m\u001b[0m\u001b[0;34m\u001b[0m\u001b[0m\n\u001b[1;32m    690\u001b[0m         \u001b[0;32melse\u001b[0m\u001b[0;34m:\u001b[0m\u001b[0;34m\u001b[0m\u001b[0;34m\u001b[0m\u001b[0m\n\u001b[0;32m--> 691\u001b[0;31m             \u001b[0;32mraise\u001b[0m \u001b[0mAttributeError\u001b[0m\u001b[0;34m(\u001b[0m\u001b[0mattr\u001b[0m \u001b[0;34m+\u001b[0m \u001b[0;34m\" not found\"\u001b[0m\u001b[0;34m)\u001b[0m\u001b[0;34m\u001b[0m\u001b[0;34m\u001b[0m\u001b[0m\n\u001b[0m\u001b[1;32m    692\u001b[0m \u001b[0;34m\u001b[0m\u001b[0m\n\u001b[1;32m    693\u001b[0m     \u001b[0;32mdef\u001b[0m \u001b[0mtranspose\u001b[0m\u001b[0;34m(\u001b[0m\u001b[0mself\u001b[0m\u001b[0;34m,\u001b[0m \u001b[0maxes\u001b[0m\u001b[0;34m=\u001b[0m\u001b[0;32mNone\u001b[0m\u001b[0;34m,\u001b[0m \u001b[0mcopy\u001b[0m\u001b[0;34m=\u001b[0m\u001b[0;32mFalse\u001b[0m\u001b[0;34m)\u001b[0m\u001b[0;34m:\u001b[0m\u001b[0;34m\u001b[0m\u001b[0;34m\u001b[0m\u001b[0m\n",
      "\u001b[0;31mAttributeError\u001b[0m: values not found"
     ]
    }
   ],
   "source": [
    "value=1.5\n",
    "width=0.75\n",
    "\n",
    "fig = plot_decision_regions(X_train_tf.values, y_train.values, clf=clf,\n",
    "              feature_index=[0,2],                        #these one will be plotted  \n",
    "              filler_feature_values={1: value, 3:value},  #these will be ignored\n",
    "              filler_feature_ranges={1: width, 3: width})"
   ]
  },
  {
   "cell_type": "code",
   "execution_count": 288,
   "metadata": {},
   "outputs": [
    {
     "data": {
      "text/plain": [
       "5040"
      ]
     },
     "execution_count": 288,
     "metadata": {},
     "output_type": "execute_result"
    }
   ],
   "source": [
    "X_train_std.shape[1]"
   ]
  },
  {
   "cell_type": "code",
   "execution_count": null,
   "metadata": {},
   "outputs": [],
   "source": []
  }
 ],
 "metadata": {
  "colab": {
   "collapsed_sections": [
    "WsqbxzYQju2n"
   ],
   "name": "Copy of final_project.ipynb",
   "provenance": []
  },
  "kernelspec": {
   "display_name": "Python 3",
   "language": "python",
   "name": "python3"
  },
  "language_info": {
   "codemirror_mode": {
    "name": "ipython",
    "version": 3
   },
   "file_extension": ".py",
   "mimetype": "text/x-python",
   "name": "python",
   "nbconvert_exporter": "python",
   "pygments_lexer": "ipython3",
   "version": "3.7.4"
  }
 },
 "nbformat": 4,
 "nbformat_minor": 1
}
