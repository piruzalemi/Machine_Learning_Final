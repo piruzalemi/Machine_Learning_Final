{
 "cells": [
  {
   "cell_type": "markdown",
   "metadata": {},
   "source": [
    "### The last line of this program has a GridSearch, that includes incompatible N-Gram parameters!"
   ]
  },
  {
   "cell_type": "code",
   "execution_count": 1,
   "metadata": {
    "colab": {},
    "colab_type": "code",
    "id": "QBlUzYPaJ1Ks"
   },
   "outputs": [],
   "source": [
    "import numpy as np"
   ]
  },
  {
   "cell_type": "code",
   "execution_count": 126,
   "metadata": {},
   "outputs": [],
   "source": [
    "# Import python libraries\n",
    "\n",
    "import numpy as np\n",
    "import pandas as pd\n",
    "import os\n",
    "import re"
   ]
  },
  {
   "cell_type": "code",
   "execution_count": 127,
   "metadata": {},
   "outputs": [],
   "source": [
    "# Import dependencies\n",
    "\n",
    "from sklearn.feature_extraction.text import CountVectorizer\n",
    "from sklearn.feature_extraction.text import TfidfTransformer\n",
    "from sklearn.model_selection import GridSearchCV\n",
    "from sklearn.pipeline import Pipeline\n",
    "from sklearn.linear_model import LogisticRegression\n",
    "from sklearn.feature_extraction.text import TfidfVectorizer\n",
    "from sklearn.pipeline import make_pipeline\n",
    "from sklearn.naive_bayes import MultinomialNB\n",
    "from sklearn.model_selection import train_test_split\n",
    "import matplotlib.pyplot as plt"
   ]
  },
  {
   "cell_type": "markdown",
   "metadata": {
    "colab_type": "text",
    "id": "5S5tBknqkNnz"
   },
   "source": [
    "# **CountVectorizer**"
   ]
  },
  {
   "cell_type": "code",
   "execution_count": 2,
   "metadata": {
    "colab": {},
    "colab_type": "code",
    "id": "CRwqeL3OHkX9"
   },
   "outputs": [],
   "source": [
    "from sklearn.feature_extraction.text import CountVectorizer"
   ]
  },
  {
   "cell_type": "code",
   "execution_count": 3,
   "metadata": {
    "colab": {},
    "colab_type": "code",
    "id": "AagsmfAKHt5S"
   },
   "outputs": [],
   "source": [
    "# COUNT VECTORIZER TAKES AN ARRAY OF TEXT DATA, WHICH CAN BE DOCUMENTS OR SENTENCES AND CONSTRUCTS THE BAG-OF-WORDS MODEL FOR US\n",
    "# Note CountVectorizer is an  instance of some type. We need to initialize that instance first before we apply the .fit_transform(docs) Alemi 04/07/2020\n",
    "count=CountVectorizer()\n"
   ]
  },
  {
   "cell_type": "code",
   "execution_count": 4,
   "metadata": {
    "colab": {},
    "colab_type": "code",
    "id": "1rJq1RE-H0xy"
   },
   "outputs": [],
   "source": [
    "import numpy as np \n",
    "# Note there are 4 lines in Docs which is really 3 documents. Each document is separated by a \",\". So the frequency of occurance for the word \"is\" = 3 for the 3rd document\n",
    "# 1 for the first and 1 for the second document. The word \"is\" occurs max = 3. It also occurs in every document. \n",
    "docs = np.array(['The sun is shining on Zhongping',\n",
    "                 'The weather is sweet',\n",
    "                 'The sun is shining, the weather is sweet,'\n",
    "                 'and one and one is two'])\n"
   ]
  },
  {
   "cell_type": "code",
   "execution_count": 5,
   "metadata": {
    "colab": {},
    "colab_type": "code",
    "id": "rO8VZbpHIQ6O"
   },
   "outputs": [],
   "source": [
    "# Transforming Words into Feature Vectors \n",
    "bag = count.fit_transform(docs)"
   ]
  },
  {
   "cell_type": "code",
   "execution_count": 6,
   "metadata": {
    "colab": {
     "base_uri": "https://localhost:8080/",
     "height": 34
    },
    "colab_type": "code",
    "id": "iTNpzpXNIWws",
    "outputId": "cd74e373-2570-46eb-d85f-71c490e48fb0"
   },
   "outputs": [
    {
     "name": "stdout",
     "output_type": "stream",
     "text": [
      "{'the': 7, 'sun': 5, 'is': 1, 'shining': 4, 'on': 2, 'zhongping': 10, 'weather': 9, 'sweet': 6, 'and': 0, 'one': 3, 'two': 8}\n"
     ]
    }
   ],
   "source": [
    "print(count.vocabulary_)"
   ]
  },
  {
   "cell_type": "code",
   "execution_count": 7,
   "metadata": {
    "colab": {
     "base_uri": "https://localhost:8080/",
     "height": 68
    },
    "colab_type": "code",
    "id": "wWdEsgHMN8jM",
    "outputId": "ca89c6c8-2e7f-4d8d-a379-cb9a61b7c9f9"
   },
   "outputs": [
    {
     "name": "stdout",
     "output_type": "stream",
     "text": [
      "[[0 1 1 0 1 1 0 1 0 0 1]\n",
      " [0 1 0 0 0 0 1 1 0 1 0]\n",
      " [2 3 0 2 1 1 1 2 1 1 0]]\n"
     ]
    }
   ],
   "source": [
    "# Each index position in the feature vectors shown here corresponds to the integer values that are stored as dictionary items in the CountVectorizer vocabulary\n",
    "# For example, the first feature at index position 0 resembles the count of the word 'and' which only occurs in the last document. Zhongping occurs on index 10,\n",
    "# recall our index starts with zero, and it (Zhongping) only occurs once! in the first document. We call these feature vectors: Raw Term Frequencies: tf(t,d) -\n",
    "# the number of times a term t occurs in a document d. The sequence of items in the bag-of-words model we just created is also called the 1-gram or unigram model -\n",
    "# Each item or token in the vocabulary represents a single word. More generally, the contigious sequences of items in NLP - words, letters, or symbols - are also called\n",
    "# n-grams. \n",
    "# In 1-gram, we will have 1-gram: \"The\", \"Sun\", \"is\", \"Shining\"\n",
    "# In 2-gram: \"The sun\", \"Sun is\", \"is Shining\"\n",
    "# We could have initialized our CountVectorizer instance with ngram_range=(2,2)\n",
    "print(bag.toarray())"
   ]
  },
  {
   "cell_type": "code",
   "execution_count": 8,
   "metadata": {
    "colab": {
     "base_uri": "https://localhost:8080/",
     "height": 187
    },
    "colab_type": "code",
    "id": "YCCTYBxNQoJ1",
    "outputId": "3182c075-8d79-4e59-fba2-3d8747d86939"
   },
   "outputs": [
    {
     "name": "stdout",
     "output_type": "stream",
     "text": [
      "Name: tensorflow\r\n",
      "Version: 2.1.0\r\n",
      "Summary: TensorFlow is an open source machine learning framework for everyone.\r\n",
      "Home-page: https://www.tensorflow.org/\r\n",
      "Author: Google Inc.\r\n",
      "Author-email: packages@tensorflow.org\r\n",
      "License: Apache 2.0\r\n",
      "Location: /Users/piruzalemi/opt/anaconda3/lib/python3.7/site-packages\r\n",
      "Requires: numpy, astor, six, wheel, wrapt, tensorboard, gast, google-pasta, opt-einsum, protobuf, keras-applications, termcolor, scipy, tensorflow-estimator, keras-preprocessing, absl-py, grpcio\r\n",
      "Required-by: \r\n"
     ]
    }
   ],
   "source": [
    "# Let us capture the inverse of document frequency: idf(t,d) = log n/(1+df(d,t)) - where n is the number of our documents. Log is a weight and f(d,t) was explained before!\n",
    "# Another transformer from scikit-learn library is TfidTransformer class, that takes the term frequencies from CountVectorizer class as input and transforms them into tf-idfs\n",
    "!pip show tensorflow\n"
   ]
  },
  {
   "cell_type": "code",
   "execution_count": 9,
   "metadata": {
    "colab": {
     "base_uri": "https://localhost:8080/",
     "height": 153
    },
    "colab_type": "code",
    "id": "ZMcSRJi5V6QO",
    "outputId": "fcaf772c-3b2b-4a09-d77c-0c0c43c4d422"
   },
   "outputs": [
    {
     "name": "stdout",
     "output_type": "stream",
     "text": [
      "/bin/sh: apt-get: command not found\r\n"
     ]
    }
   ],
   "source": [
    "# https://pypi.python.org/pypi/libarchive\n",
    "!apt-get -qq install -y libarchive-dev && pip install -q -U libarchive\n",
    "import libarchive"
   ]
  },
  {
   "cell_type": "code",
   "execution_count": 10,
   "metadata": {
    "colab": {
     "base_uri": "https://localhost:8080/",
     "height": 153
    },
    "colab_type": "code",
    "id": "9uwcdQcRYYN4",
    "outputId": "3a50d424-d610-4e25-84a2-f523e55b1c66"
   },
   "outputs": [
    {
     "name": "stdout",
     "output_type": "stream",
     "text": [
      "/bin/sh: apt-get: command not found\r\n"
     ]
    }
   ],
   "source": [
    "# from sklearn.feature_extraction.text import TfidTransformer\n",
    "!apt-get -qq install -y libfluidsynth1"
   ]
  },
  {
   "cell_type": "code",
   "execution_count": 11,
   "metadata": {
    "colab": {
     "base_uri": "https://localhost:8080/",
     "height": 768
    },
    "colab_type": "code",
    "id": "EKD-aShpYgdF",
    "outputId": "d651768b-62f4-4866-d478-09f82338e7e3"
   },
   "outputs": [
    {
     "name": "stdout",
     "output_type": "stream",
     "text": [
      "Requirement already satisfied: tf-nightly in /Users/piruzalemi/opt/anaconda3/lib/python3.7/site-packages (2.2.0.dev20200409)\n",
      "Requirement already satisfied: google-pasta>=0.1.8 in /Users/piruzalemi/opt/anaconda3/lib/python3.7/site-packages (from tf-nightly) (0.2.0)\n",
      "Requirement already satisfied: numpy<2.0,>=1.16.0 in /Users/piruzalemi/opt/anaconda3/lib/python3.7/site-packages (from tf-nightly) (1.17.2)\n",
      "Requirement already satisfied: h5py<2.11.0,>=2.10.0 in /Users/piruzalemi/opt/anaconda3/lib/python3.7/site-packages (from tf-nightly) (2.10.0)\n",
      "Requirement already satisfied: protobuf>=3.9.2 in /Users/piruzalemi/opt/anaconda3/lib/python3.7/site-packages (from tf-nightly) (3.11.3)\n",
      "Requirement already satisfied: wrapt>=1.11.1 in /Users/piruzalemi/opt/anaconda3/lib/python3.7/site-packages (from tf-nightly) (1.11.2)\n",
      "Requirement already satisfied: opt-einsum>=2.3.2 in /Users/piruzalemi/opt/anaconda3/lib/python3.7/site-packages (from tf-nightly) (3.2.0)\n",
      "Requirement already satisfied: tb-nightly<2.4.0a0,>=2.3.0a0 in /Users/piruzalemi/opt/anaconda3/lib/python3.7/site-packages (from tf-nightly) (2.3.0a20200409)\n",
      "Requirement already satisfied: tf-estimator-nightly in /Users/piruzalemi/opt/anaconda3/lib/python3.7/site-packages (from tf-nightly) (2.3.0.dev2020040901)\n",
      "Requirement already satisfied: scipy==1.4.1; python_version >= \"3\" in /Users/piruzalemi/opt/anaconda3/lib/python3.7/site-packages (from tf-nightly) (1.4.1)\n",
      "Requirement already satisfied: grpcio>=1.8.6 in /Users/piruzalemi/opt/anaconda3/lib/python3.7/site-packages (from tf-nightly) (1.27.2)\n",
      "Requirement already satisfied: termcolor>=1.1.0 in /Users/piruzalemi/opt/anaconda3/lib/python3.7/site-packages (from tf-nightly) (1.1.0)\n",
      "Requirement already satisfied: six>=1.12.0 in /Users/piruzalemi/opt/anaconda3/lib/python3.7/site-packages (from tf-nightly) (1.12.0)\n",
      "Requirement already satisfied: absl-py>=0.7.0 in /Users/piruzalemi/opt/anaconda3/lib/python3.7/site-packages (from tf-nightly) (0.9.0)\n",
      "Requirement already satisfied: wheel>=0.26; python_version >= \"3\" in /Users/piruzalemi/opt/anaconda3/lib/python3.7/site-packages (from tf-nightly) (0.33.6)\n",
      "Requirement already satisfied: astunparse==1.6.3 in /Users/piruzalemi/opt/anaconda3/lib/python3.7/site-packages (from tf-nightly) (1.6.3)\n",
      "Requirement already satisfied: keras-preprocessing>=1.1.0 in /Users/piruzalemi/opt/anaconda3/lib/python3.7/site-packages (from tf-nightly) (1.1.0)\n",
      "Requirement already satisfied: gast==0.3.3 in /Users/piruzalemi/opt/anaconda3/lib/python3.7/site-packages (from tf-nightly) (0.3.3)\n",
      "Requirement already satisfied: setuptools in /Users/piruzalemi/opt/anaconda3/lib/python3.7/site-packages (from protobuf>=3.9.2->tf-nightly) (41.4.0)\n",
      "Requirement already satisfied: google-auth<2,>=1.6.3 in /Users/piruzalemi/opt/anaconda3/lib/python3.7/site-packages (from tb-nightly<2.4.0a0,>=2.3.0a0->tf-nightly) (1.12.0)\n",
      "Requirement already satisfied: google-auth-oauthlib<0.5,>=0.4.1 in /Users/piruzalemi/opt/anaconda3/lib/python3.7/site-packages (from tb-nightly<2.4.0a0,>=2.3.0a0->tf-nightly) (0.4.1)\n",
      "Requirement already satisfied: requests<3,>=2.21.0 in /Users/piruzalemi/opt/anaconda3/lib/python3.7/site-packages (from tb-nightly<2.4.0a0,>=2.3.0a0->tf-nightly) (2.22.0)\n",
      "Requirement already satisfied: werkzeug>=0.11.15 in /Users/piruzalemi/opt/anaconda3/lib/python3.7/site-packages (from tb-nightly<2.4.0a0,>=2.3.0a0->tf-nightly) (0.16.0)\n",
      "Requirement already satisfied: markdown>=2.6.8 in /Users/piruzalemi/opt/anaconda3/lib/python3.7/site-packages (from tb-nightly<2.4.0a0,>=2.3.0a0->tf-nightly) (3.2.1)\n",
      "Requirement already satisfied: tensorboard-plugin-wit>=1.6.0 in /Users/piruzalemi/opt/anaconda3/lib/python3.7/site-packages (from tb-nightly<2.4.0a0,>=2.3.0a0->tf-nightly) (1.6.0.post3)\n",
      "Requirement already satisfied: cachetools<5.0,>=2.0.0 in /Users/piruzalemi/opt/anaconda3/lib/python3.7/site-packages (from google-auth<2,>=1.6.3->tb-nightly<2.4.0a0,>=2.3.0a0->tf-nightly) (4.0.0)\n",
      "Requirement already satisfied: rsa<4.1,>=3.1.4 in /Users/piruzalemi/opt/anaconda3/lib/python3.7/site-packages (from google-auth<2,>=1.6.3->tb-nightly<2.4.0a0,>=2.3.0a0->tf-nightly) (4.0)\n",
      "Requirement already satisfied: pyasn1-modules>=0.2.1 in /Users/piruzalemi/opt/anaconda3/lib/python3.7/site-packages (from google-auth<2,>=1.6.3->tb-nightly<2.4.0a0,>=2.3.0a0->tf-nightly) (0.2.8)\n",
      "Requirement already satisfied: requests-oauthlib>=0.7.0 in /Users/piruzalemi/opt/anaconda3/lib/python3.7/site-packages (from google-auth-oauthlib<0.5,>=0.4.1->tb-nightly<2.4.0a0,>=2.3.0a0->tf-nightly) (1.3.0)\n",
      "Requirement already satisfied: certifi>=2017.4.17 in /Users/piruzalemi/opt/anaconda3/lib/python3.7/site-packages (from requests<3,>=2.21.0->tb-nightly<2.4.0a0,>=2.3.0a0->tf-nightly) (2019.9.11)\n",
      "Requirement already satisfied: urllib3!=1.25.0,!=1.25.1,<1.26,>=1.21.1 in /Users/piruzalemi/opt/anaconda3/lib/python3.7/site-packages (from requests<3,>=2.21.0->tb-nightly<2.4.0a0,>=2.3.0a0->tf-nightly) (1.24.2)\n",
      "Requirement already satisfied: idna<2.9,>=2.5 in /Users/piruzalemi/opt/anaconda3/lib/python3.7/site-packages (from requests<3,>=2.21.0->tb-nightly<2.4.0a0,>=2.3.0a0->tf-nightly) (2.8)\n",
      "Requirement already satisfied: chardet<3.1.0,>=3.0.2 in /Users/piruzalemi/opt/anaconda3/lib/python3.7/site-packages (from requests<3,>=2.21.0->tb-nightly<2.4.0a0,>=2.3.0a0->tf-nightly) (3.0.4)\n",
      "Requirement already satisfied: pyasn1>=0.1.3 in /Users/piruzalemi/opt/anaconda3/lib/python3.7/site-packages (from rsa<4.1,>=3.1.4->google-auth<2,>=1.6.3->tb-nightly<2.4.0a0,>=2.3.0a0->tf-nightly) (0.4.8)\n",
      "Requirement already satisfied: oauthlib>=3.0.0 in /Users/piruzalemi/opt/anaconda3/lib/python3.7/site-packages (from requests-oauthlib>=0.7.0->google-auth-oauthlib<0.5,>=0.4.1->tb-nightly<2.4.0a0,>=2.3.0a0->tf-nightly) (3.1.0)\n"
     ]
    }
   ],
   "source": [
    "#from sklearn.feature_extraction.text import TfidTransformer\n",
    "!pip install tf-nightly"
   ]
  },
  {
   "cell_type": "code",
   "execution_count": 12,
   "metadata": {
    "colab": {},
    "colab_type": "code",
    "id": "um58XzwEY_u7"
   },
   "outputs": [],
   "source": [
    "#from sklearn.feature_extraction.text import TfidTransformer\n",
    "from sklearn.feature_extraction.text import TfidfTransformer"
   ]
  },
  {
   "cell_type": "code",
   "execution_count": 13,
   "metadata": {
    "colab": {},
    "colab_type": "code",
    "id": "oWNyTgqxanwL"
   },
   "outputs": [],
   "source": [
    "#  Tf is “n” (natural) by default, “l” (logarithmic) when sublinear_tf=True. \n",
    "#  Idf is “t” when use_idf is given, “n” (none) otherwise. \n",
    "#  Normalization is “c” (cosine)\n",
    "#  when norm='l2', “n” (none) when norm=None.\n",
    "tfidf = TfidfTransformer(use_idf=True,norm='l2',smooth_idf=True)"
   ]
  },
  {
   "cell_type": "code",
   "execution_count": 14,
   "metadata": {
    "colab": {},
    "colab_type": "code",
    "id": "Hxi_EzyGbr5B"
   },
   "outputs": [],
   "source": [
    "np.set_printoptions(precision=2)"
   ]
  },
  {
   "cell_type": "code",
   "execution_count": 15,
   "metadata": {
    "colab": {
     "base_uri": "https://localhost:8080/",
     "height": 68
    },
    "colab_type": "code",
    "id": "Ce81zUwvcKu3",
    "outputId": "61bc0e3d-b5de-40cd-f0e5-740c87766542"
   },
   "outputs": [
    {
     "name": "stdout",
     "output_type": "stream",
     "text": [
      "[[0.   0.3  0.51 0.   0.39 0.39 0.   0.3  0.   0.   0.51]\n",
      " [0.   0.43 0.   0.   0.   0.   0.56 0.43 0.   0.56 0.  ]\n",
      " [0.5  0.45 0.   0.5  0.19 0.19 0.19 0.3  0.25 0.19 0.  ]]\n"
     ]
    }
   ],
   "source": [
    "print(tfidf.fit_transform(count.fit_transform(docs)).toarray())"
   ]
  },
  {
   "cell_type": "code",
   "execution_count": 16,
   "metadata": {
    "colab": {},
    "colab_type": "code",
    "id": "T1Bqxtdkci6V"
   },
   "outputs": [],
   "source": [
    "# The word 'is' has a frequency of 3 (tf=3) in the third document, and the document frequency of this term is also 3 since the term \"is\" occurs in all three documents (df=3)\n",
    "#. Thus, we can calculate  the inverse document frequency as follows: idf(\"is\",d3) = log(1+3)/(1+3) = 0, and the tf-idf (termFrequency-inverseDocumentFrequency) \n",
    "#  tf-idf(\"is\",d3)=3 * (0+1) =3. Note this value is different than the above derived tf-idf(d3), as the above values in the final step is L2-normalized.\n",
    "# lets clean our data by excluding unwanted characters!"
   ]
  },
  {
   "cell_type": "code",
   "execution_count": 17,
   "metadata": {
    "colab": {},
    "colab_type": "code",
    "id": "hji2ebjnn4ey"
   },
   "outputs": [],
   "source": [
    "#import pyprind\n",
    "import tarfile\n",
    "!pip install -q matplotlib-venn"
   ]
  },
  {
   "cell_type": "code",
   "execution_count": 18,
   "metadata": {
    "colab": {},
    "colab_type": "code",
    "id": "F2uHBKyZpAKx"
   },
   "outputs": [],
   "source": [
    "#with tarfile.open('https://www.kaggle.com/aaron7sun/stocknews#Combined_News_DJIA.csv') as tar:\n",
    "#  tar.extractall()\n",
    "import numpy as np"
   ]
  },
  {
   "cell_type": "code",
   "execution_count": 19,
   "metadata": {
    "colab": {
     "base_uri": "https://localhost:8080/",
     "height": 85
    },
    "colab_type": "code",
    "id": "x_98qzDPrOVP",
    "outputId": "dfeb1503-3d00-4d27-e4f4-2d48ebf44726"
   },
   "outputs": [
    {
     "name": "stdout",
     "output_type": "stream",
     "text": [
      "Requirement already satisfied: pyprind in /Users/piruzalemi/opt/anaconda3/lib/python3.7/site-packages (2.11.2)\r\n"
     ]
    }
   ],
   "source": [
    "np.random.seed(0)\n",
    "!pip install pyprind\n",
    "import pyprind\n",
    "import pandas as pd\n",
    "import os"
   ]
  },
  {
   "cell_type": "code",
   "execution_count": null,
   "metadata": {
    "colab": {},
    "colab_type": "code",
    "id": "bSiBW9SiUD27"
   },
   "outputs": [],
   "source": [
    "\n"
   ]
  },
  {
   "cell_type": "markdown",
   "metadata": {
    "colab_type": "text",
    "id": "WsqbxzYQju2n"
   },
   "source": [
    "# **Access Kaggle**\n"
   ]
  },
  {
   "cell_type": "code",
   "execution_count": 20,
   "metadata": {
    "colab": {
     "base_uri": "https://localhost:8080/",
     "height": 204
    },
    "colab_type": "code",
    "id": "J6942WUGjrVI",
    "outputId": "c6af5b56-5c9e-49c3-acf1-da0cee8b368f"
   },
   "outputs": [
    {
     "name": "stdout",
     "output_type": "stream",
     "text": [
      "Requirement already satisfied: kaggle in /Users/piruzalemi/opt/anaconda3/lib/python3.7/site-packages (1.5.6)\r\n",
      "Requirement already satisfied: urllib3<1.25,>=1.21.1 in /Users/piruzalemi/opt/anaconda3/lib/python3.7/site-packages (from kaggle) (1.24.2)\r\n",
      "Requirement already satisfied: python-slugify in /Users/piruzalemi/opt/anaconda3/lib/python3.7/site-packages (from kaggle) (4.0.0)\r\n",
      "Requirement already satisfied: six>=1.10 in /Users/piruzalemi/opt/anaconda3/lib/python3.7/site-packages (from kaggle) (1.12.0)\r\n",
      "Requirement already satisfied: requests in /Users/piruzalemi/opt/anaconda3/lib/python3.7/site-packages (from kaggle) (2.22.0)\r\n",
      "Requirement already satisfied: certifi in /Users/piruzalemi/opt/anaconda3/lib/python3.7/site-packages (from kaggle) (2019.9.11)\r\n",
      "Requirement already satisfied: python-dateutil in /Users/piruzalemi/opt/anaconda3/lib/python3.7/site-packages (from kaggle) (2.8.0)\r\n",
      "Requirement already satisfied: tqdm in /Users/piruzalemi/opt/anaconda3/lib/python3.7/site-packages (from kaggle) (4.45.0)\r\n",
      "Requirement already satisfied: text-unidecode>=1.3 in /Users/piruzalemi/opt/anaconda3/lib/python3.7/site-packages (from python-slugify->kaggle) (1.3)\r\n",
      "Requirement already satisfied: idna<2.9,>=2.5 in /Users/piruzalemi/opt/anaconda3/lib/python3.7/site-packages (from requests->kaggle) (2.8)\r\n",
      "Requirement already satisfied: chardet<3.1.0,>=3.0.2 in /Users/piruzalemi/opt/anaconda3/lib/python3.7/site-packages (from requests->kaggle) (3.0.4)\r\n"
     ]
    }
   ],
   "source": [
    "# Install Kaggle library\n",
    "!pip install -q kaggle\n",
    "!pip install kaggle"
   ]
  },
  {
   "cell_type": "code",
   "execution_count": 21,
   "metadata": {},
   "outputs": [],
   "source": [
    "#!mkdir ~/.kaggle\n",
    "#!cp Downloads/kaggle.json ~/.kaggle/kaggle.json"
   ]
  },
  {
   "cell_type": "code",
   "execution_count": 22,
   "metadata": {
    "colab": {
     "base_uri": "https://localhost:8080/",
     "height": 85
    },
    "colab_type": "code",
    "id": "ysm9AzmjWiEA",
    "outputId": "dade59a9-bc9b-460e-aeed-2cbe356ff52d"
   },
   "outputs": [
    {
     "name": "stdout",
     "output_type": "stream",
     "text": [
      "Warning: Your Kaggle API key is readable by other users on this system! To fix this, you can run 'chmod 600 /Users/piruzalemi/.kaggle/kaggle.json'\n",
      "stocknews.zip: Skipping, found more recently modified local copy (use --force to force download)\n"
     ]
    }
   ],
   "source": [
    "!kaggle datasets download -d aaron7sun/stocknews"
   ]
  },
  {
   "cell_type": "code",
   "execution_count": null,
   "metadata": {
    "colab": {},
    "colab_type": "code",
    "id": "w9II8-IFcdYb"
   },
   "outputs": [],
   "source": []
  },
  {
   "cell_type": "code",
   "execution_count": 23,
   "metadata": {
    "colab": {
     "base_uri": "https://localhost:8080/",
     "height": 51
    },
    "colab_type": "code",
    "id": "a092eIpKZfI4",
    "outputId": "702377f5-f8b5-4b8f-c007-9760690cab2b"
   },
   "outputs": [
    {
     "name": "stdout",
     "output_type": "stream",
     "text": [
      "Warning: Your Kaggle API key is readable by other users on this system! To fix this, you can run 'chmod 600 /Users/piruzalemi/.kaggle/kaggle.json'\n",
      "stocknews.zip: Skipping, found more recently modified local copy (use --force to force download)\n"
     ]
    }
   ],
   "source": [
    "!kaggle datasets download -d aaron7sun/stocknews"
   ]
  },
  {
   "cell_type": "code",
   "execution_count": 24,
   "metadata": {
    "colab": {
     "base_uri": "https://localhost:8080/",
     "height": 51
    },
    "colab_type": "code",
    "id": "0UULO-XWcemh",
    "outputId": "b066e869-6b11-4729-e8fd-b506b13e156c"
   },
   "outputs": [
    {
     "name": "stdout",
     "output_type": "stream",
     "text": [
      "Alemi2_final_project.ipynb\r\n",
      "\u001b[31mCombined_News_DJIA.csv\u001b[m\u001b[m*\r\n",
      "Combined_News_DJIA.xls\r\n",
      "D11ScikitLearnBayes.pdf\r\n",
      "Final_NLTK_Latent.ipynb\r\n",
      "Linear_Visualization_Graph.ipynb\r\n",
      "Naive_Visualization_Graph-Copy1.ipynb\r\n",
      "Naive_Visualization_Graph.ipynb\r\n",
      "\u001b[31mRedditNews.csv\u001b[m\u001b[m*\r\n",
      "TensorFlow.ipynb\r\n",
      "Tony Holdroyd - Tensorflow 2.0 Quick Start Guide (2019, Packt Publishing).pdf\r\n",
      "Untitled.ipynb\r\n",
      "alemi2_NLTK.ipynb\r\n",
      "alemi_NLTK.ipynb\r\n",
      "alemi_final_project-Copy1.ipynb\r\n",
      "alemi_final_project.ipynb\r\n",
      "alemi_final_project2.ipynb\r\n",
      "kaggle.json\r\n",
      "plot_logistic.ipynb\r\n",
      "report.txt\r\n",
      "\u001b[34mstocknews\u001b[m\u001b[m/\r\n",
      "stocknews.zip\r\n",
      "\u001b[31mupload_DJIA_table.csv\u001b[m\u001b[m*\r\n"
     ]
    }
   ],
   "source": [
    "ls"
   ]
  },
  {
   "cell_type": "code",
   "execution_count": 25,
   "metadata": {
    "colab": {
     "base_uri": "https://localhost:8080/",
     "height": 85
    },
    "colab_type": "code",
    "id": "5lGlyNj21IsX",
    "outputId": "626c4da6-3825-4604-df1d-7194600329ed"
   },
   "outputs": [],
   "source": [
    "#pd.read_csv(\"stocknews/RedditNews.csv\")\n",
    "#!unzip stocknews.zip -d ~/.kaggle"
   ]
  },
  {
   "cell_type": "code",
   "execution_count": 26,
   "metadata": {
    "colab": {
     "base_uri": "https://localhost:8080/",
     "height": 204
    },
    "colab_type": "code",
    "id": "W9uWsRvOrpHT",
    "outputId": "90813efb-e58c-4ba2-cea6-6c540afe96f8"
   },
   "outputs": [
    {
     "data": {
      "text/html": [
       "<div>\n",
       "<style scoped>\n",
       "    .dataframe tbody tr th:only-of-type {\n",
       "        vertical-align: middle;\n",
       "    }\n",
       "\n",
       "    .dataframe tbody tr th {\n",
       "        vertical-align: top;\n",
       "    }\n",
       "\n",
       "    .dataframe thead th {\n",
       "        text-align: right;\n",
       "    }\n",
       "</style>\n",
       "<table border=\"1\" class=\"dataframe\">\n",
       "  <thead>\n",
       "    <tr style=\"text-align: right;\">\n",
       "      <th></th>\n",
       "      <th>Date</th>\n",
       "      <th>News</th>\n",
       "    </tr>\n",
       "  </thead>\n",
       "  <tbody>\n",
       "    <tr>\n",
       "      <td>0</td>\n",
       "      <td>2016-07-01</td>\n",
       "      <td>A 117-year-old woman in Mexico City finally re...</td>\n",
       "    </tr>\n",
       "    <tr>\n",
       "      <td>1</td>\n",
       "      <td>2016-07-01</td>\n",
       "      <td>IMF chief backs Athens as permanent Olympic host</td>\n",
       "    </tr>\n",
       "    <tr>\n",
       "      <td>2</td>\n",
       "      <td>2016-07-01</td>\n",
       "      <td>The president of France says if Brexit won, so...</td>\n",
       "    </tr>\n",
       "    <tr>\n",
       "      <td>3</td>\n",
       "      <td>2016-07-01</td>\n",
       "      <td>British Man Who Must Give Police 24 Hours' Not...</td>\n",
       "    </tr>\n",
       "    <tr>\n",
       "      <td>4</td>\n",
       "      <td>2016-07-01</td>\n",
       "      <td>100+ Nobel laureates urge Greenpeace to stop o...</td>\n",
       "    </tr>\n",
       "  </tbody>\n",
       "</table>\n",
       "</div>"
      ],
      "text/plain": [
       "         Date                                               News\n",
       "0  2016-07-01  A 117-year-old woman in Mexico City finally re...\n",
       "1  2016-07-01   IMF chief backs Athens as permanent Olympic host\n",
       "2  2016-07-01  The president of France says if Brexit won, so...\n",
       "3  2016-07-01  British Man Who Must Give Police 24 Hours' Not...\n",
       "4  2016-07-01  100+ Nobel laureates urge Greenpeace to stop o..."
      ]
     },
     "execution_count": 26,
     "metadata": {},
     "output_type": "execute_result"
    }
   ],
   "source": [
    "#df=pd.read_csv('stocknews.zip', compression='zip', header=0, sep=',', quotechar='\"')\n",
    "rNews=pd.read_csv('RedditNews.csv')\n",
    "rNews.head()\n"
   ]
  },
  {
   "cell_type": "code",
   "execution_count": 27,
   "metadata": {
    "colab": {
     "base_uri": "https://localhost:8080/",
     "height": 479
    },
    "colab_type": "code",
    "id": "Wy3cjoljWg0A",
    "outputId": "e9620e17-07be-44e9-ee7d-22c1dabd4c91"
   },
   "outputs": [
    {
     "data": {
      "text/html": [
       "<div>\n",
       "<style scoped>\n",
       "    .dataframe tbody tr th:only-of-type {\n",
       "        vertical-align: middle;\n",
       "    }\n",
       "\n",
       "    .dataframe tbody tr th {\n",
       "        vertical-align: top;\n",
       "    }\n",
       "\n",
       "    .dataframe thead th {\n",
       "        text-align: right;\n",
       "    }\n",
       "</style>\n",
       "<table border=\"1\" class=\"dataframe\">\n",
       "  <thead>\n",
       "    <tr style=\"text-align: right;\">\n",
       "      <th></th>\n",
       "      <th>Date</th>\n",
       "      <th>Label</th>\n",
       "      <th>Top1</th>\n",
       "      <th>Top2</th>\n",
       "      <th>Top3</th>\n",
       "      <th>Top4</th>\n",
       "      <th>Top5</th>\n",
       "      <th>Top6</th>\n",
       "      <th>Top7</th>\n",
       "      <th>Top8</th>\n",
       "      <th>...</th>\n",
       "      <th>Top16</th>\n",
       "      <th>Top17</th>\n",
       "      <th>Top18</th>\n",
       "      <th>Top19</th>\n",
       "      <th>Top20</th>\n",
       "      <th>Top21</th>\n",
       "      <th>Top22</th>\n",
       "      <th>Top23</th>\n",
       "      <th>Top24</th>\n",
       "      <th>Top25</th>\n",
       "    </tr>\n",
       "  </thead>\n",
       "  <tbody>\n",
       "    <tr>\n",
       "      <td>0</td>\n",
       "      <td>2008-08-08</td>\n",
       "      <td>0</td>\n",
       "      <td>b\"Georgia 'downs two Russian warplanes' as cou...</td>\n",
       "      <td>b'BREAKING: Musharraf to be impeached.'</td>\n",
       "      <td>b'Russia Today: Columns of troops roll into So...</td>\n",
       "      <td>b'Russian tanks are moving towards the capital...</td>\n",
       "      <td>b\"Afghan children raped with 'impunity,' U.N. ...</td>\n",
       "      <td>b'150 Russian tanks have entered South Ossetia...</td>\n",
       "      <td>b\"Breaking: Georgia invades South Ossetia, Rus...</td>\n",
       "      <td>b\"The 'enemy combatent' trials are nothing but...</td>\n",
       "      <td>...</td>\n",
       "      <td>b'Georgia Invades South Ossetia - if Russia ge...</td>\n",
       "      <td>b'Al-Qaeda Faces Islamist Backlash'</td>\n",
       "      <td>b'Condoleezza Rice: \"The US would not act to p...</td>\n",
       "      <td>b'This is a busy day:  The European Union has ...</td>\n",
       "      <td>b\"Georgia will withdraw 1,000 soldiers from Ir...</td>\n",
       "      <td>b'Why the Pentagon Thinks Attacking Iran is a ...</td>\n",
       "      <td>b'Caucasus in crisis: Georgia invades South Os...</td>\n",
       "      <td>b'Indian shoe manufactory  - And again in a se...</td>\n",
       "      <td>b'Visitors Suffering from Mental Illnesses Ban...</td>\n",
       "      <td>b\"No Help for Mexico's Kidnapping Surge\"</td>\n",
       "    </tr>\n",
       "    <tr>\n",
       "      <td>1</td>\n",
       "      <td>2008-08-11</td>\n",
       "      <td>1</td>\n",
       "      <td>b'Why wont America and Nato help us? If they w...</td>\n",
       "      <td>b'Bush puts foot down on Georgian conflict'</td>\n",
       "      <td>b\"Jewish Georgian minister: Thanks to Israeli ...</td>\n",
       "      <td>b'Georgian army flees in disarray as Russians ...</td>\n",
       "      <td>b\"Olympic opening ceremony fireworks 'faked'\"</td>\n",
       "      <td>b'What were the Mossad with fraudulent New Zea...</td>\n",
       "      <td>b'Russia angered by Israeli military sale to G...</td>\n",
       "      <td>b'An American citizen living in S.Ossetia blam...</td>\n",
       "      <td>...</td>\n",
       "      <td>b'Israel and the US behind the Georgian aggres...</td>\n",
       "      <td>b'\"Do not believe TV, neither Russian nor Geor...</td>\n",
       "      <td>b'Riots are still going on in Montreal (Canada...</td>\n",
       "      <td>b'China to overtake US as largest manufacturer'</td>\n",
       "      <td>b'War in South Ossetia [PICS]'</td>\n",
       "      <td>b'Israeli Physicians Group Condemns State Tort...</td>\n",
       "      <td>b' Russia has just beaten the United States ov...</td>\n",
       "      <td>b'Perhaps *the* question about the Georgia - R...</td>\n",
       "      <td>b'Russia is so much better at war'</td>\n",
       "      <td>b\"So this is what it's come to: trading sex fo...</td>\n",
       "    </tr>\n",
       "    <tr>\n",
       "      <td>2</td>\n",
       "      <td>2008-08-12</td>\n",
       "      <td>0</td>\n",
       "      <td>b'Remember that adorable 9-year-old who sang a...</td>\n",
       "      <td>b\"Russia 'ends Georgia operation'\"</td>\n",
       "      <td>b'\"If we had no sexual harassment we would hav...</td>\n",
       "      <td>b\"Al-Qa'eda is losing support in Iraq because ...</td>\n",
       "      <td>b'Ceasefire in Georgia: Putin Outmaneuvers the...</td>\n",
       "      <td>b'Why Microsoft and Intel tried to kill the XO...</td>\n",
       "      <td>b'Stratfor: The Russo-Georgian War and the Bal...</td>\n",
       "      <td>b\"I'm Trying to Get a Sense of This Whole Geor...</td>\n",
       "      <td>...</td>\n",
       "      <td>b'U.S. troops still in Georgia (did you know t...</td>\n",
       "      <td>b'Why Russias response to Georgia was right'</td>\n",
       "      <td>b'Gorbachev accuses U.S. of making a \"serious ...</td>\n",
       "      <td>b'Russia, Georgia, and NATO: Cold War Two'</td>\n",
       "      <td>b'Remember that adorable 62-year-old who led y...</td>\n",
       "      <td>b'War in Georgia: The Israeli connection'</td>\n",
       "      <td>b'All signs point to the US encouraging Georgi...</td>\n",
       "      <td>b'Christopher King argues that the US and NATO...</td>\n",
       "      <td>b'America: The New Mexico?'</td>\n",
       "      <td>b\"BBC NEWS | Asia-Pacific | Extinction 'by man...</td>\n",
       "    </tr>\n",
       "    <tr>\n",
       "      <td>3</td>\n",
       "      <td>2008-08-13</td>\n",
       "      <td>0</td>\n",
       "      <td>b' U.S. refuses Israel weapons to attack Iran:...</td>\n",
       "      <td>b\"When the president ordered to attack Tskhinv...</td>\n",
       "      <td>b' Israel clears troops who killed Reuters cam...</td>\n",
       "      <td>b'Britain\\'s policy of being tough on drugs is...</td>\n",
       "      <td>b'Body of 14 year old found in trunk; Latest (...</td>\n",
       "      <td>b'China has moved 10 *million* quake survivors...</td>\n",
       "      <td>b\"Bush announces Operation Get All Up In Russi...</td>\n",
       "      <td>b'Russian forces sink Georgian ships '</td>\n",
       "      <td>...</td>\n",
       "      <td>b'Elephants extinct by 2020?'</td>\n",
       "      <td>b'US humanitarian missions soon in Georgia - i...</td>\n",
       "      <td>b\"Georgia's DDOS came from US sources\"</td>\n",
       "      <td>b'Russian convoy heads into Georgia, violating...</td>\n",
       "      <td>b'Israeli defence minister: US against strike ...</td>\n",
       "      <td>b'Gorbachev: We Had No Choice'</td>\n",
       "      <td>b'Witness: Russian forces head towards Tbilisi...</td>\n",
       "      <td>b' Quarter of Russians blame U.S. for conflict...</td>\n",
       "      <td>b'Georgian president  says US military will ta...</td>\n",
       "      <td>b'2006: Nobel laureate Aleksander Solzhenitsyn...</td>\n",
       "    </tr>\n",
       "    <tr>\n",
       "      <td>4</td>\n",
       "      <td>2008-08-14</td>\n",
       "      <td>1</td>\n",
       "      <td>b'All the experts admit that we should legalis...</td>\n",
       "      <td>b'War in South Osetia - 89 pictures made by a ...</td>\n",
       "      <td>b'Swedish wrestler Ara Abrahamian throws away ...</td>\n",
       "      <td>b'Russia exaggerated the death toll in South O...</td>\n",
       "      <td>b'Missile That Killed 9 Inside Pakistan May Ha...</td>\n",
       "      <td>b\"Rushdie Condemns Random House's Refusal to P...</td>\n",
       "      <td>b'Poland and US agree to missle defense deal. ...</td>\n",
       "      <td>b'Will the Russians conquer Tblisi? Bet on it,...</td>\n",
       "      <td>...</td>\n",
       "      <td>b'Bank analyst forecast Georgian crisis 2 days...</td>\n",
       "      <td>b\"Georgia confict could set back Russia's US r...</td>\n",
       "      <td>b'War in the Caucasus is as much the product o...</td>\n",
       "      <td>b'\"Non-media\" photos of South Ossetia/Georgia ...</td>\n",
       "      <td>b'Georgian TV reporter shot by Russian sniper ...</td>\n",
       "      <td>b'Saudi Arabia: Mother moves to block child ma...</td>\n",
       "      <td>b'Taliban wages war on humanitarian aid workers'</td>\n",
       "      <td>b'Russia: World  \"can forget about\" Georgia\\'s...</td>\n",
       "      <td>b'Darfur rebels accuse Sudan of mounting major...</td>\n",
       "      <td>b'Philippines : Peace Advocate say Muslims nee...</td>\n",
       "    </tr>\n",
       "  </tbody>\n",
       "</table>\n",
       "<p>5 rows × 27 columns</p>\n",
       "</div>"
      ],
      "text/plain": [
       "         Date  Label                                               Top1  \\\n",
       "0  2008-08-08      0  b\"Georgia 'downs two Russian warplanes' as cou...   \n",
       "1  2008-08-11      1  b'Why wont America and Nato help us? If they w...   \n",
       "2  2008-08-12      0  b'Remember that adorable 9-year-old who sang a...   \n",
       "3  2008-08-13      0  b' U.S. refuses Israel weapons to attack Iran:...   \n",
       "4  2008-08-14      1  b'All the experts admit that we should legalis...   \n",
       "\n",
       "                                                Top2  \\\n",
       "0            b'BREAKING: Musharraf to be impeached.'   \n",
       "1        b'Bush puts foot down on Georgian conflict'   \n",
       "2                 b\"Russia 'ends Georgia operation'\"   \n",
       "3  b\"When the president ordered to attack Tskhinv...   \n",
       "4  b'War in South Osetia - 89 pictures made by a ...   \n",
       "\n",
       "                                                Top3  \\\n",
       "0  b'Russia Today: Columns of troops roll into So...   \n",
       "1  b\"Jewish Georgian minister: Thanks to Israeli ...   \n",
       "2  b'\"If we had no sexual harassment we would hav...   \n",
       "3  b' Israel clears troops who killed Reuters cam...   \n",
       "4  b'Swedish wrestler Ara Abrahamian throws away ...   \n",
       "\n",
       "                                                Top4  \\\n",
       "0  b'Russian tanks are moving towards the capital...   \n",
       "1  b'Georgian army flees in disarray as Russians ...   \n",
       "2  b\"Al-Qa'eda is losing support in Iraq because ...   \n",
       "3  b'Britain\\'s policy of being tough on drugs is...   \n",
       "4  b'Russia exaggerated the death toll in South O...   \n",
       "\n",
       "                                                Top5  \\\n",
       "0  b\"Afghan children raped with 'impunity,' U.N. ...   \n",
       "1      b\"Olympic opening ceremony fireworks 'faked'\"   \n",
       "2  b'Ceasefire in Georgia: Putin Outmaneuvers the...   \n",
       "3  b'Body of 14 year old found in trunk; Latest (...   \n",
       "4  b'Missile That Killed 9 Inside Pakistan May Ha...   \n",
       "\n",
       "                                                Top6  \\\n",
       "0  b'150 Russian tanks have entered South Ossetia...   \n",
       "1  b'What were the Mossad with fraudulent New Zea...   \n",
       "2  b'Why Microsoft and Intel tried to kill the XO...   \n",
       "3  b'China has moved 10 *million* quake survivors...   \n",
       "4  b\"Rushdie Condemns Random House's Refusal to P...   \n",
       "\n",
       "                                                Top7  \\\n",
       "0  b\"Breaking: Georgia invades South Ossetia, Rus...   \n",
       "1  b'Russia angered by Israeli military sale to G...   \n",
       "2  b'Stratfor: The Russo-Georgian War and the Bal...   \n",
       "3  b\"Bush announces Operation Get All Up In Russi...   \n",
       "4  b'Poland and US agree to missle defense deal. ...   \n",
       "\n",
       "                                                Top8  ...  \\\n",
       "0  b\"The 'enemy combatent' trials are nothing but...  ...   \n",
       "1  b'An American citizen living in S.Ossetia blam...  ...   \n",
       "2  b\"I'm Trying to Get a Sense of This Whole Geor...  ...   \n",
       "3             b'Russian forces sink Georgian ships '  ...   \n",
       "4  b'Will the Russians conquer Tblisi? Bet on it,...  ...   \n",
       "\n",
       "                                               Top16  \\\n",
       "0  b'Georgia Invades South Ossetia - if Russia ge...   \n",
       "1  b'Israel and the US behind the Georgian aggres...   \n",
       "2  b'U.S. troops still in Georgia (did you know t...   \n",
       "3                      b'Elephants extinct by 2020?'   \n",
       "4  b'Bank analyst forecast Georgian crisis 2 days...   \n",
       "\n",
       "                                               Top17  \\\n",
       "0                b'Al-Qaeda Faces Islamist Backlash'   \n",
       "1  b'\"Do not believe TV, neither Russian nor Geor...   \n",
       "2       b'Why Russias response to Georgia was right'   \n",
       "3  b'US humanitarian missions soon in Georgia - i...   \n",
       "4  b\"Georgia confict could set back Russia's US r...   \n",
       "\n",
       "                                               Top18  \\\n",
       "0  b'Condoleezza Rice: \"The US would not act to p...   \n",
       "1  b'Riots are still going on in Montreal (Canada...   \n",
       "2  b'Gorbachev accuses U.S. of making a \"serious ...   \n",
       "3             b\"Georgia's DDOS came from US sources\"   \n",
       "4  b'War in the Caucasus is as much the product o...   \n",
       "\n",
       "                                               Top19  \\\n",
       "0  b'This is a busy day:  The European Union has ...   \n",
       "1    b'China to overtake US as largest manufacturer'   \n",
       "2         b'Russia, Georgia, and NATO: Cold War Two'   \n",
       "3  b'Russian convoy heads into Georgia, violating...   \n",
       "4  b'\"Non-media\" photos of South Ossetia/Georgia ...   \n",
       "\n",
       "                                               Top20  \\\n",
       "0  b\"Georgia will withdraw 1,000 soldiers from Ir...   \n",
       "1                     b'War in South Ossetia [PICS]'   \n",
       "2  b'Remember that adorable 62-year-old who led y...   \n",
       "3  b'Israeli defence minister: US against strike ...   \n",
       "4  b'Georgian TV reporter shot by Russian sniper ...   \n",
       "\n",
       "                                               Top21  \\\n",
       "0  b'Why the Pentagon Thinks Attacking Iran is a ...   \n",
       "1  b'Israeli Physicians Group Condemns State Tort...   \n",
       "2          b'War in Georgia: The Israeli connection'   \n",
       "3                     b'Gorbachev: We Had No Choice'   \n",
       "4  b'Saudi Arabia: Mother moves to block child ma...   \n",
       "\n",
       "                                               Top22  \\\n",
       "0  b'Caucasus in crisis: Georgia invades South Os...   \n",
       "1  b' Russia has just beaten the United States ov...   \n",
       "2  b'All signs point to the US encouraging Georgi...   \n",
       "3  b'Witness: Russian forces head towards Tbilisi...   \n",
       "4   b'Taliban wages war on humanitarian aid workers'   \n",
       "\n",
       "                                               Top23  \\\n",
       "0  b'Indian shoe manufactory  - And again in a se...   \n",
       "1  b'Perhaps *the* question about the Georgia - R...   \n",
       "2  b'Christopher King argues that the US and NATO...   \n",
       "3  b' Quarter of Russians blame U.S. for conflict...   \n",
       "4  b'Russia: World  \"can forget about\" Georgia\\'s...   \n",
       "\n",
       "                                               Top24  \\\n",
       "0  b'Visitors Suffering from Mental Illnesses Ban...   \n",
       "1                 b'Russia is so much better at war'   \n",
       "2                        b'America: The New Mexico?'   \n",
       "3  b'Georgian president  says US military will ta...   \n",
       "4  b'Darfur rebels accuse Sudan of mounting major...   \n",
       "\n",
       "                                               Top25  \n",
       "0           b\"No Help for Mexico's Kidnapping Surge\"  \n",
       "1  b\"So this is what it's come to: trading sex fo...  \n",
       "2  b\"BBC NEWS | Asia-Pacific | Extinction 'by man...  \n",
       "3  b'2006: Nobel laureate Aleksander Solzhenitsyn...  \n",
       "4  b'Philippines : Peace Advocate say Muslims nee...  \n",
       "\n",
       "[5 rows x 27 columns]"
      ]
     },
     "execution_count": 27,
     "metadata": {},
     "output_type": "execute_result"
    }
   ],
   "source": [
    "dNews=pd.read_csv('Combined_News_DJIA.csv')\n",
    "dNews.head()"
   ]
  },
  {
   "cell_type": "code",
   "execution_count": null,
   "metadata": {
    "colab": {},
    "colab_type": "code",
    "id": "K9QFT6voN8ZS"
   },
   "outputs": [],
   "source": []
  },
  {
   "cell_type": "code",
   "execution_count": 28,
   "metadata": {
    "colab": {},
    "colab_type": "code",
    "id": "MRd-_-jtrysP"
   },
   "outputs": [],
   "source": [
    "# we need to clean yje \"'\" and \\ and all punctuation marks like b\" which are HTML makups\n",
    "# to accomplish this, we will use Python's regular expression (regex) library re as shown below\n",
    "import re\n"
   ]
  },
  {
   "cell_type": "code",
   "execution_count": 29,
   "metadata": {
    "colab": {},
    "colab_type": "code",
    "id": "eAOwyDS0OHsg"
   },
   "outputs": [],
   "source": [
    "# We will remove all the non-word characters from the text via the regex [\\w] + and convert the text into lower characters\n",
    "def preprocessor(text):\n",
    "    \n",
    "    text = (re.sub('[\\W]+',' ', text.lower() + ''))\n",
    "    text = re.sub(\"b \",' ',text)\n",
    "    return text"
   ]
  },
  {
   "cell_type": "code",
   "execution_count": 30,
   "metadata": {
    "colab": {},
    "colab_type": "code",
    "id": "39lPBbHNPFzj"
   },
   "outputs": [],
   "source": [
    "dNews['Top1'] = dNews['Top1'].apply(preprocessor)"
   ]
  },
  {
   "cell_type": "code",
   "execution_count": 31,
   "metadata": {
    "colab": {
     "base_uri": "https://localhost:8080/",
     "height": 119
    },
    "colab_type": "code",
    "id": "Fzd8n9U3OLvk",
    "outputId": "36f4d43e-9fad-4860-e79b-5dec66ca1508"
   },
   "outputs": [
    {
     "data": {
      "text/plain": [
       "0     georgia downs two russian warplanes as countr...\n",
       "1     why wont america and nato help us if they won...\n",
       "2     remember that adorable 9 year old who sang at...\n",
       "3     u s refuses israel weapons to attack iran rep...\n",
       "4     all the experts admit that we should legalise...\n",
       "Name: Top1, dtype: object"
      ]
     },
     "execution_count": 31,
     "metadata": {},
     "output_type": "execute_result"
    }
   ],
   "source": [
    "dNews['Top1'].head()"
   ]
  },
  {
   "cell_type": "code",
   "execution_count": 32,
   "metadata": {
    "colab": {
     "base_uri": "https://localhost:8080/",
     "height": 34
    },
    "colab_type": "code",
    "id": "tU4DREe7Jbmo",
    "outputId": "e9255a43-dbed-4d87-8097-eca6af731a70"
   },
   "outputs": [
    {
     "data": {
      "text/plain": [
       "' georgia downs two russian warplanes as countries move to brink of war '"
      ]
     },
     "execution_count": 32,
     "metadata": {},
     "output_type": "execute_result"
    }
   ],
   "source": [
    "dNews.loc[0,'Top1'][0:]"
   ]
  },
  {
   "cell_type": "markdown",
   "metadata": {
    "colab_type": "text",
    "id": "Oa6u6cvEjVZb"
   },
   "source": [
    "# **Tokenization**"
   ]
  },
  {
   "cell_type": "code",
   "execution_count": 33,
   "metadata": {
    "colab": {},
    "colab_type": "code",
    "id": "h58jYPi2JgQb"
   },
   "outputs": [],
   "source": [
    "def tokenizer(text):\n",
    "  return text.split()\n"
   ]
  },
  {
   "cell_type": "code",
   "execution_count": 34,
   "metadata": {
    "colab": {
     "base_uri": "https://localhost:8080/",
     "height": 221
    },
    "colab_type": "code",
    "id": "WrFRQg05UF3h",
    "outputId": "870b61ee-b80e-4df8-faad-9d2b508101ec"
   },
   "outputs": [
    {
     "data": {
      "text/plain": [
       "['georgia',\n",
       " 'downs',\n",
       " 'two',\n",
       " 'russian',\n",
       " 'warplanes',\n",
       " 'as',\n",
       " 'countries',\n",
       " 'move',\n",
       " 'to',\n",
       " 'brink',\n",
       " 'of',\n",
       " 'war']"
      ]
     },
     "execution_count": 34,
     "metadata": {},
     "output_type": "execute_result"
    }
   ],
   "source": [
    "tokenizer(dNews['Top1'][0])"
   ]
  },
  {
   "cell_type": "code",
   "execution_count": 35,
   "metadata": {
    "colab": {
     "base_uri": "https://localhost:8080/",
     "height": 51
    },
    "colab_type": "code",
    "id": "rSA5M-m8UOuq",
    "outputId": "f03cb835-2f40-455f-c707-f39cff81f714"
   },
   "outputs": [
    {
     "name": "stdout",
     "output_type": "stream",
     "text": [
      "Requirement already satisfied: nltk in /Users/piruzalemi/opt/anaconda3/lib/python3.7/site-packages (3.4.5)\r\n",
      "Requirement already satisfied: six in /Users/piruzalemi/opt/anaconda3/lib/python3.7/site-packages (from nltk) (1.12.0)\r\n"
     ]
    }
   ],
   "source": [
    "# install NTLK see www.ntlk.org/book/ in advanced applications in NLP\n",
    "#  We will use Porter stemmer's algorim - 1979, which is word stemming\n",
    "!pip install nltk"
   ]
  },
  {
   "cell_type": "code",
   "execution_count": 36,
   "metadata": {
    "colab": {},
    "colab_type": "code",
    "id": "sdEjXP5dVL8b"
   },
   "outputs": [],
   "source": [
    "from nltk.stem.porter import PorterStemmer"
   ]
  },
  {
   "cell_type": "code",
   "execution_count": 37,
   "metadata": {
    "colab": {},
    "colab_type": "code",
    "id": "bJXeWPSNVVY-"
   },
   "outputs": [],
   "source": [
    "porter = PorterStemmer()"
   ]
  },
  {
   "cell_type": "code",
   "execution_count": 38,
   "metadata": {
    "colab": {},
    "colab_type": "code",
    "id": "VV15Z-guVeRI"
   },
   "outputs": [],
   "source": [
    "def tokenizer_porter(text):\n",
    "  return [porter.stem(word) for word in text.split()]"
   ]
  },
  {
   "cell_type": "code",
   "execution_count": 39,
   "metadata": {
    "colab": {
     "base_uri": "https://localhost:8080/",
     "height": 221
    },
    "colab_type": "code",
    "id": "JubrRWzGV9Bh",
    "outputId": "6d311cd7-f6ce-40da-8fb0-5cf56f4c41fb"
   },
   "outputs": [
    {
     "data": {
      "text/plain": [
       "['georgia',\n",
       " 'down',\n",
       " 'two',\n",
       " 'russian',\n",
       " 'warplan',\n",
       " 'as',\n",
       " 'countri',\n",
       " 'move',\n",
       " 'to',\n",
       " 'brink',\n",
       " 'of',\n",
       " 'war']"
      ]
     },
     "execution_count": 39,
     "metadata": {},
     "output_type": "execute_result"
    }
   ],
   "source": [
    "tokenizer_porter(dNews['Top1'][0])"
   ]
  },
  {
   "cell_type": "code",
   "execution_count": 40,
   "metadata": {
    "colab": {},
    "colab_type": "code",
    "id": "Asr6REjLWIX-"
   },
   "outputs": [],
   "source": [
    "# Stopwords are simply those words that are extremely common but bear no use for our analysis!\n",
    "# like is, and, has, like,,,, we will use 127 stopwords already available in the NTLK library which we get by downloading it\n",
    "import nltk\n"
   ]
  },
  {
   "cell_type": "code",
   "execution_count": 41,
   "metadata": {
    "colab": {
     "base_uri": "https://localhost:8080/",
     "height": 68
    },
    "colab_type": "code",
    "id": "T7o0yWP-W8wE",
    "outputId": "a3326ba3-809f-447c-d3bd-5f00e6a58d38"
   },
   "outputs": [
    {
     "name": "stderr",
     "output_type": "stream",
     "text": [
      "[nltk_data] Downloading package stopwords to\n",
      "[nltk_data]     /Users/piruzalemi/nltk_data...\n",
      "[nltk_data]   Package stopwords is already up-to-date!\n"
     ]
    },
    {
     "data": {
      "text/plain": [
       "True"
      ]
     },
     "execution_count": 41,
     "metadata": {},
     "output_type": "execute_result"
    }
   ],
   "source": [
    "nltk.download('stopwords')"
   ]
  },
  {
   "cell_type": "code",
   "execution_count": 42,
   "metadata": {
    "colab": {},
    "colab_type": "code",
    "id": "LtF8gSbCXMoq"
   },
   "outputs": [],
   "source": [
    "# Load and apply the stopwards after download\n",
    "from nltk.corpus import stopwords"
   ]
  },
  {
   "cell_type": "code",
   "execution_count": 43,
   "metadata": {
    "colab": {},
    "colab_type": "code",
    "id": "5LVSio16XcjC"
   },
   "outputs": [],
   "source": [
    "stop = stopwords.words('english')"
   ]
  },
  {
   "cell_type": "code",
   "execution_count": 44,
   "metadata": {
    "colab": {
     "base_uri": "https://localhost:8080/",
     "height": 34
    },
    "colab_type": "code",
    "id": "U4eAtudkXi3L",
    "outputId": "04d5d6b8-e1b0-4aae-a32a-48e07c684607"
   },
   "outputs": [
    {
     "data": {
      "text/plain": [
       "['georgia', 'two', 'russian', 'warplan', 'countri', 'move', 'brink', 'war']"
      ]
     },
     "execution_count": 44,
     "metadata": {},
     "output_type": "execute_result"
    }
   ],
   "source": [
    "[w for w in tokenizer_porter(dNews['Top1'][0]) if w not in stop]"
   ]
  },
  {
   "cell_type": "code",
   "execution_count": 45,
   "metadata": {
    "colab": {},
    "colab_type": "code",
    "id": "ZJswnWtUYD-m"
   },
   "outputs": [],
   "source": [
    "# Training a logistic regression model for Document Classification\n",
    "# Here we train a logistic "
   ]
  },
  {
   "cell_type": "markdown",
   "metadata": {
    "colab_type": "text",
    "id": "UiGzHCI6aGmH"
   },
   "source": [
    "# **Training a Logistic Regression on Document Classification - Alemi 04/07/2020**\n",
    "\n"
   ]
  },
  {
   "cell_type": "code",
   "execution_count": 46,
   "metadata": {
    "colab": {
     "base_uri": "https://localhost:8080/",
     "height": 700
    },
    "colab_type": "code",
    "id": "jqrQ7heAaNU5",
    "outputId": "a8c9e634-4cdc-4998-fe40-5162c62fd921"
   },
   "outputs": [
    {
     "data": {
      "text/html": [
       "<div>\n",
       "<style scoped>\n",
       "    .dataframe tbody tr th:only-of-type {\n",
       "        vertical-align: middle;\n",
       "    }\n",
       "\n",
       "    .dataframe tbody tr th {\n",
       "        vertical-align: top;\n",
       "    }\n",
       "\n",
       "    .dataframe thead th {\n",
       "        text-align: right;\n",
       "    }\n",
       "</style>\n",
       "<table border=\"1\" class=\"dataframe\">\n",
       "  <thead>\n",
       "    <tr style=\"text-align: right;\">\n",
       "      <th></th>\n",
       "      <th>Date</th>\n",
       "      <th>Label</th>\n",
       "      <th>Top1</th>\n",
       "      <th>Top2</th>\n",
       "      <th>Top3</th>\n",
       "      <th>Top4</th>\n",
       "      <th>Top5</th>\n",
       "      <th>Top6</th>\n",
       "      <th>Top7</th>\n",
       "      <th>Top8</th>\n",
       "      <th>...</th>\n",
       "      <th>Top16</th>\n",
       "      <th>Top17</th>\n",
       "      <th>Top18</th>\n",
       "      <th>Top19</th>\n",
       "      <th>Top20</th>\n",
       "      <th>Top21</th>\n",
       "      <th>Top22</th>\n",
       "      <th>Top23</th>\n",
       "      <th>Top24</th>\n",
       "      <th>Top25</th>\n",
       "    </tr>\n",
       "  </thead>\n",
       "  <tbody>\n",
       "    <tr>\n",
       "      <td>0</td>\n",
       "      <td>2008-08-08</td>\n",
       "      <td>0</td>\n",
       "      <td>georgia downs two russian warplanes as countr...</td>\n",
       "      <td>b'BREAKING: Musharraf to be impeached.'</td>\n",
       "      <td>b'Russia Today: Columns of troops roll into So...</td>\n",
       "      <td>b'Russian tanks are moving towards the capital...</td>\n",
       "      <td>b\"Afghan children raped with 'impunity,' U.N. ...</td>\n",
       "      <td>b'150 Russian tanks have entered South Ossetia...</td>\n",
       "      <td>b\"Breaking: Georgia invades South Ossetia, Rus...</td>\n",
       "      <td>b\"The 'enemy combatent' trials are nothing but...</td>\n",
       "      <td>...</td>\n",
       "      <td>b'Georgia Invades South Ossetia - if Russia ge...</td>\n",
       "      <td>b'Al-Qaeda Faces Islamist Backlash'</td>\n",
       "      <td>b'Condoleezza Rice: \"The US would not act to p...</td>\n",
       "      <td>b'This is a busy day:  The European Union has ...</td>\n",
       "      <td>b\"Georgia will withdraw 1,000 soldiers from Ir...</td>\n",
       "      <td>b'Why the Pentagon Thinks Attacking Iran is a ...</td>\n",
       "      <td>b'Caucasus in crisis: Georgia invades South Os...</td>\n",
       "      <td>b'Indian shoe manufactory  - And again in a se...</td>\n",
       "      <td>b'Visitors Suffering from Mental Illnesses Ban...</td>\n",
       "      <td>b\"No Help for Mexico's Kidnapping Surge\"</td>\n",
       "    </tr>\n",
       "    <tr>\n",
       "      <td>1</td>\n",
       "      <td>2008-08-11</td>\n",
       "      <td>1</td>\n",
       "      <td>why wont america and nato help us if they won...</td>\n",
       "      <td>b'Bush puts foot down on Georgian conflict'</td>\n",
       "      <td>b\"Jewish Georgian minister: Thanks to Israeli ...</td>\n",
       "      <td>b'Georgian army flees in disarray as Russians ...</td>\n",
       "      <td>b\"Olympic opening ceremony fireworks 'faked'\"</td>\n",
       "      <td>b'What were the Mossad with fraudulent New Zea...</td>\n",
       "      <td>b'Russia angered by Israeli military sale to G...</td>\n",
       "      <td>b'An American citizen living in S.Ossetia blam...</td>\n",
       "      <td>...</td>\n",
       "      <td>b'Israel and the US behind the Georgian aggres...</td>\n",
       "      <td>b'\"Do not believe TV, neither Russian nor Geor...</td>\n",
       "      <td>b'Riots are still going on in Montreal (Canada...</td>\n",
       "      <td>b'China to overtake US as largest manufacturer'</td>\n",
       "      <td>b'War in South Ossetia [PICS]'</td>\n",
       "      <td>b'Israeli Physicians Group Condemns State Tort...</td>\n",
       "      <td>b' Russia has just beaten the United States ov...</td>\n",
       "      <td>b'Perhaps *the* question about the Georgia - R...</td>\n",
       "      <td>b'Russia is so much better at war'</td>\n",
       "      <td>b\"So this is what it's come to: trading sex fo...</td>\n",
       "    </tr>\n",
       "    <tr>\n",
       "      <td>2</td>\n",
       "      <td>2008-08-12</td>\n",
       "      <td>0</td>\n",
       "      <td>remember that adorable 9 year old who sang at...</td>\n",
       "      <td>b\"Russia 'ends Georgia operation'\"</td>\n",
       "      <td>b'\"If we had no sexual harassment we would hav...</td>\n",
       "      <td>b\"Al-Qa'eda is losing support in Iraq because ...</td>\n",
       "      <td>b'Ceasefire in Georgia: Putin Outmaneuvers the...</td>\n",
       "      <td>b'Why Microsoft and Intel tried to kill the XO...</td>\n",
       "      <td>b'Stratfor: The Russo-Georgian War and the Bal...</td>\n",
       "      <td>b\"I'm Trying to Get a Sense of This Whole Geor...</td>\n",
       "      <td>...</td>\n",
       "      <td>b'U.S. troops still in Georgia (did you know t...</td>\n",
       "      <td>b'Why Russias response to Georgia was right'</td>\n",
       "      <td>b'Gorbachev accuses U.S. of making a \"serious ...</td>\n",
       "      <td>b'Russia, Georgia, and NATO: Cold War Two'</td>\n",
       "      <td>b'Remember that adorable 62-year-old who led y...</td>\n",
       "      <td>b'War in Georgia: The Israeli connection'</td>\n",
       "      <td>b'All signs point to the US encouraging Georgi...</td>\n",
       "      <td>b'Christopher King argues that the US and NATO...</td>\n",
       "      <td>b'America: The New Mexico?'</td>\n",
       "      <td>b\"BBC NEWS | Asia-Pacific | Extinction 'by man...</td>\n",
       "    </tr>\n",
       "    <tr>\n",
       "      <td>3</td>\n",
       "      <td>2008-08-13</td>\n",
       "      <td>0</td>\n",
       "      <td>u s refuses israel weapons to attack iran rep...</td>\n",
       "      <td>b\"When the president ordered to attack Tskhinv...</td>\n",
       "      <td>b' Israel clears troops who killed Reuters cam...</td>\n",
       "      <td>b'Britain\\'s policy of being tough on drugs is...</td>\n",
       "      <td>b'Body of 14 year old found in trunk; Latest (...</td>\n",
       "      <td>b'China has moved 10 *million* quake survivors...</td>\n",
       "      <td>b\"Bush announces Operation Get All Up In Russi...</td>\n",
       "      <td>b'Russian forces sink Georgian ships '</td>\n",
       "      <td>...</td>\n",
       "      <td>b'Elephants extinct by 2020?'</td>\n",
       "      <td>b'US humanitarian missions soon in Georgia - i...</td>\n",
       "      <td>b\"Georgia's DDOS came from US sources\"</td>\n",
       "      <td>b'Russian convoy heads into Georgia, violating...</td>\n",
       "      <td>b'Israeli defence minister: US against strike ...</td>\n",
       "      <td>b'Gorbachev: We Had No Choice'</td>\n",
       "      <td>b'Witness: Russian forces head towards Tbilisi...</td>\n",
       "      <td>b' Quarter of Russians blame U.S. for conflict...</td>\n",
       "      <td>b'Georgian president  says US military will ta...</td>\n",
       "      <td>b'2006: Nobel laureate Aleksander Solzhenitsyn...</td>\n",
       "    </tr>\n",
       "    <tr>\n",
       "      <td>4</td>\n",
       "      <td>2008-08-14</td>\n",
       "      <td>1</td>\n",
       "      <td>all the experts admit that we should legalise...</td>\n",
       "      <td>b'War in South Osetia - 89 pictures made by a ...</td>\n",
       "      <td>b'Swedish wrestler Ara Abrahamian throws away ...</td>\n",
       "      <td>b'Russia exaggerated the death toll in South O...</td>\n",
       "      <td>b'Missile That Killed 9 Inside Pakistan May Ha...</td>\n",
       "      <td>b\"Rushdie Condemns Random House's Refusal to P...</td>\n",
       "      <td>b'Poland and US agree to missle defense deal. ...</td>\n",
       "      <td>b'Will the Russians conquer Tblisi? Bet on it,...</td>\n",
       "      <td>...</td>\n",
       "      <td>b'Bank analyst forecast Georgian crisis 2 days...</td>\n",
       "      <td>b\"Georgia confict could set back Russia's US r...</td>\n",
       "      <td>b'War in the Caucasus is as much the product o...</td>\n",
       "      <td>b'\"Non-media\" photos of South Ossetia/Georgia ...</td>\n",
       "      <td>b'Georgian TV reporter shot by Russian sniper ...</td>\n",
       "      <td>b'Saudi Arabia: Mother moves to block child ma...</td>\n",
       "      <td>b'Taliban wages war on humanitarian aid workers'</td>\n",
       "      <td>b'Russia: World  \"can forget about\" Georgia\\'s...</td>\n",
       "      <td>b'Darfur rebels accuse Sudan of mounting major...</td>\n",
       "      <td>b'Philippines : Peace Advocate say Muslims nee...</td>\n",
       "    </tr>\n",
       "  </tbody>\n",
       "</table>\n",
       "<p>5 rows × 27 columns</p>\n",
       "</div>"
      ],
      "text/plain": [
       "         Date  Label                                               Top1  \\\n",
       "0  2008-08-08      0   georgia downs two russian warplanes as countr...   \n",
       "1  2008-08-11      1   why wont america and nato help us if they won...   \n",
       "2  2008-08-12      0   remember that adorable 9 year old who sang at...   \n",
       "3  2008-08-13      0   u s refuses israel weapons to attack iran rep...   \n",
       "4  2008-08-14      1   all the experts admit that we should legalise...   \n",
       "\n",
       "                                                Top2  \\\n",
       "0            b'BREAKING: Musharraf to be impeached.'   \n",
       "1        b'Bush puts foot down on Georgian conflict'   \n",
       "2                 b\"Russia 'ends Georgia operation'\"   \n",
       "3  b\"When the president ordered to attack Tskhinv...   \n",
       "4  b'War in South Osetia - 89 pictures made by a ...   \n",
       "\n",
       "                                                Top3  \\\n",
       "0  b'Russia Today: Columns of troops roll into So...   \n",
       "1  b\"Jewish Georgian minister: Thanks to Israeli ...   \n",
       "2  b'\"If we had no sexual harassment we would hav...   \n",
       "3  b' Israel clears troops who killed Reuters cam...   \n",
       "4  b'Swedish wrestler Ara Abrahamian throws away ...   \n",
       "\n",
       "                                                Top4  \\\n",
       "0  b'Russian tanks are moving towards the capital...   \n",
       "1  b'Georgian army flees in disarray as Russians ...   \n",
       "2  b\"Al-Qa'eda is losing support in Iraq because ...   \n",
       "3  b'Britain\\'s policy of being tough on drugs is...   \n",
       "4  b'Russia exaggerated the death toll in South O...   \n",
       "\n",
       "                                                Top5  \\\n",
       "0  b\"Afghan children raped with 'impunity,' U.N. ...   \n",
       "1      b\"Olympic opening ceremony fireworks 'faked'\"   \n",
       "2  b'Ceasefire in Georgia: Putin Outmaneuvers the...   \n",
       "3  b'Body of 14 year old found in trunk; Latest (...   \n",
       "4  b'Missile That Killed 9 Inside Pakistan May Ha...   \n",
       "\n",
       "                                                Top6  \\\n",
       "0  b'150 Russian tanks have entered South Ossetia...   \n",
       "1  b'What were the Mossad with fraudulent New Zea...   \n",
       "2  b'Why Microsoft and Intel tried to kill the XO...   \n",
       "3  b'China has moved 10 *million* quake survivors...   \n",
       "4  b\"Rushdie Condemns Random House's Refusal to P...   \n",
       "\n",
       "                                                Top7  \\\n",
       "0  b\"Breaking: Georgia invades South Ossetia, Rus...   \n",
       "1  b'Russia angered by Israeli military sale to G...   \n",
       "2  b'Stratfor: The Russo-Georgian War and the Bal...   \n",
       "3  b\"Bush announces Operation Get All Up In Russi...   \n",
       "4  b'Poland and US agree to missle defense deal. ...   \n",
       "\n",
       "                                                Top8  ...  \\\n",
       "0  b\"The 'enemy combatent' trials are nothing but...  ...   \n",
       "1  b'An American citizen living in S.Ossetia blam...  ...   \n",
       "2  b\"I'm Trying to Get a Sense of This Whole Geor...  ...   \n",
       "3             b'Russian forces sink Georgian ships '  ...   \n",
       "4  b'Will the Russians conquer Tblisi? Bet on it,...  ...   \n",
       "\n",
       "                                               Top16  \\\n",
       "0  b'Georgia Invades South Ossetia - if Russia ge...   \n",
       "1  b'Israel and the US behind the Georgian aggres...   \n",
       "2  b'U.S. troops still in Georgia (did you know t...   \n",
       "3                      b'Elephants extinct by 2020?'   \n",
       "4  b'Bank analyst forecast Georgian crisis 2 days...   \n",
       "\n",
       "                                               Top17  \\\n",
       "0                b'Al-Qaeda Faces Islamist Backlash'   \n",
       "1  b'\"Do not believe TV, neither Russian nor Geor...   \n",
       "2       b'Why Russias response to Georgia was right'   \n",
       "3  b'US humanitarian missions soon in Georgia - i...   \n",
       "4  b\"Georgia confict could set back Russia's US r...   \n",
       "\n",
       "                                               Top18  \\\n",
       "0  b'Condoleezza Rice: \"The US would not act to p...   \n",
       "1  b'Riots are still going on in Montreal (Canada...   \n",
       "2  b'Gorbachev accuses U.S. of making a \"serious ...   \n",
       "3             b\"Georgia's DDOS came from US sources\"   \n",
       "4  b'War in the Caucasus is as much the product o...   \n",
       "\n",
       "                                               Top19  \\\n",
       "0  b'This is a busy day:  The European Union has ...   \n",
       "1    b'China to overtake US as largest manufacturer'   \n",
       "2         b'Russia, Georgia, and NATO: Cold War Two'   \n",
       "3  b'Russian convoy heads into Georgia, violating...   \n",
       "4  b'\"Non-media\" photos of South Ossetia/Georgia ...   \n",
       "\n",
       "                                               Top20  \\\n",
       "0  b\"Georgia will withdraw 1,000 soldiers from Ir...   \n",
       "1                     b'War in South Ossetia [PICS]'   \n",
       "2  b'Remember that adorable 62-year-old who led y...   \n",
       "3  b'Israeli defence minister: US against strike ...   \n",
       "4  b'Georgian TV reporter shot by Russian sniper ...   \n",
       "\n",
       "                                               Top21  \\\n",
       "0  b'Why the Pentagon Thinks Attacking Iran is a ...   \n",
       "1  b'Israeli Physicians Group Condemns State Tort...   \n",
       "2          b'War in Georgia: The Israeli connection'   \n",
       "3                     b'Gorbachev: We Had No Choice'   \n",
       "4  b'Saudi Arabia: Mother moves to block child ma...   \n",
       "\n",
       "                                               Top22  \\\n",
       "0  b'Caucasus in crisis: Georgia invades South Os...   \n",
       "1  b' Russia has just beaten the United States ov...   \n",
       "2  b'All signs point to the US encouraging Georgi...   \n",
       "3  b'Witness: Russian forces head towards Tbilisi...   \n",
       "4   b'Taliban wages war on humanitarian aid workers'   \n",
       "\n",
       "                                               Top23  \\\n",
       "0  b'Indian shoe manufactory  - And again in a se...   \n",
       "1  b'Perhaps *the* question about the Georgia - R...   \n",
       "2  b'Christopher King argues that the US and NATO...   \n",
       "3  b' Quarter of Russians blame U.S. for conflict...   \n",
       "4  b'Russia: World  \"can forget about\" Georgia\\'s...   \n",
       "\n",
       "                                               Top24  \\\n",
       "0  b'Visitors Suffering from Mental Illnesses Ban...   \n",
       "1                 b'Russia is so much better at war'   \n",
       "2                        b'America: The New Mexico?'   \n",
       "3  b'Georgian president  says US military will ta...   \n",
       "4  b'Darfur rebels accuse Sudan of mounting major...   \n",
       "\n",
       "                                               Top25  \n",
       "0           b\"No Help for Mexico's Kidnapping Surge\"  \n",
       "1  b\"So this is what it's come to: trading sex fo...  \n",
       "2  b\"BBC NEWS | Asia-Pacific | Extinction 'by man...  \n",
       "3  b'2006: Nobel laureate Aleksander Solzhenitsyn...  \n",
       "4  b'Philippines : Peace Advocate say Muslims nee...  \n",
       "\n",
       "[5 rows x 27 columns]"
      ]
     },
     "execution_count": 46,
     "metadata": {},
     "output_type": "execute_result"
    }
   ],
   "source": [
    "# we will use \n",
    "dNews.head()"
   ]
  },
  {
   "cell_type": "code",
   "execution_count": 47,
   "metadata": {
    "colab": {},
    "colab_type": "code",
    "id": "gKCK4WHha1XG"
   },
   "outputs": [],
   "source": [
    "#. This should run on cleaned data, Note i have solely cleaned only row [0], we have to run the above code on all rows!!!!!!!\n",
    "#. So this code is solely is for a placeholder, after the data is fully cleaned, then we run this part...Alemi 04/07/2020\n",
    "X_train = dNews.loc[:1000,\"Top1\"].values"
   ]
  },
  {
   "cell_type": "code",
   "execution_count": 48,
   "metadata": {
    "colab": {},
    "colab_type": "code",
    "id": "EAPswo-kcV_E"
   },
   "outputs": [],
   "source": [
    "y_train= dNews.loc[:1000,\"Label\"].values"
   ]
  },
  {
   "cell_type": "code",
   "execution_count": 49,
   "metadata": {
    "colab": {},
    "colab_type": "code",
    "id": "uvXGXMnJdDuQ"
   },
   "outputs": [],
   "source": [
    "X_test = dNews.loc[1001:,\"Top1\"].values"
   ]
  },
  {
   "cell_type": "code",
   "execution_count": 50,
   "metadata": {
    "colab": {},
    "colab_type": "code",
    "id": "3cSh8K3SdNgJ"
   },
   "outputs": [],
   "source": [
    "y_test= dNews.loc[1001:,\"Label\"].values"
   ]
  },
  {
   "cell_type": "code",
   "execution_count": 51,
   "metadata": {
    "colab": {},
    "colab_type": "code",
    "id": "XzaHmogAd7LR"
   },
   "outputs": [],
   "source": [
    "# like our class exercise we run the GridSearch to find the optimal set of parameters\n",
    "from sklearn.model_selection import GridSearchCV"
   ]
  },
  {
   "cell_type": "code",
   "execution_count": 52,
   "metadata": {
    "colab": {},
    "colab_type": "code",
    "id": "RdAJOwhPePcb"
   },
   "outputs": [],
   "source": [
    "from sklearn.pipeline import Pipeline"
   ]
  },
  {
   "cell_type": "code",
   "execution_count": 53,
   "metadata": {
    "colab": {},
    "colab_type": "code",
    "id": "yczMmIIBeb-8"
   },
   "outputs": [],
   "source": [
    "from sklearn.linear_model import LogisticRegression"
   ]
  },
  {
   "cell_type": "code",
   "execution_count": 129,
   "metadata": {},
   "outputs": [],
   "source": [
    "from sklearn.ensemble import RandomForestClassifier"
   ]
  },
  {
   "cell_type": "code",
   "execution_count": 130,
   "metadata": {
    "colab": {},
    "colab_type": "code",
    "id": "SLxx4aM_ei2w"
   },
   "outputs": [],
   "source": [
    "from sklearn.feature_extraction.text import TfidfVectorizer"
   ]
  },
  {
   "cell_type": "code",
   "execution_count": 131,
   "metadata": {
    "colab": {},
    "colab_type": "code",
    "id": "5VMepxqOerNs"
   },
   "outputs": [],
   "source": [
    "tfidf = TfidfVectorizer(strip_accents=None,lowercase=False,preprocessor=None)"
   ]
  },
  {
   "cell_type": "markdown",
   "metadata": {
    "colab": {},
    "colab_type": "code",
    "id": "FcE70E6Z4Bcv"
   },
   "source": [
    "# Clean The Data"
   ]
  },
  {
   "cell_type": "code",
   "execution_count": 132,
   "metadata": {
    "colab": {},
    "colab_type": "code",
    "id": "KbcekgmV_F-Z"
   },
   "outputs": [],
   "source": [
    "import re"
   ]
  },
  {
   "cell_type": "code",
   "execution_count": 133,
   "metadata": {
    "colab": {},
    "colab_type": "code",
    "id": "zGFH0mwa_JbN"
   },
   "outputs": [],
   "source": [
    "def preprocessor(text):\n",
    "  text=(re.sub('[\\W]+', ' ', text.lower()))\n",
    "  return text"
   ]
  },
  {
   "cell_type": "code",
   "execution_count": 134,
   "metadata": {
    "colab": {},
    "colab_type": "code",
    "id": "jUnk0Gx3_JlX"
   },
   "outputs": [],
   "source": [
    "dNews['Top1'] = dNews['Top1'].apply(preprocessor)"
   ]
  },
  {
   "cell_type": "code",
   "execution_count": 135,
   "metadata": {
    "colab": {
     "base_uri": "https://localhost:8080/",
     "height": 221
    },
    "colab_type": "code",
    "id": "-z9UitYk_JqU",
    "outputId": "451cbe59-a496-4dd1-8f55-0bdc9823f863"
   },
   "outputs": [
    {
     "data": {
      "text/plain": [
       "0        georgia downs two russian warplanes as countr...\n",
       "1        why wont america and nato help us if they won...\n",
       "2        remember that adorable 9 year old who sang at...\n",
       "3        u s refuses israel weapons to attack iran rep...\n",
       "4        all the experts admit that we should legalise...\n",
       "                              ...                        \n",
       "1984    barclays and rbs shares suspended from trading...\n",
       "1985    2 500 scientists to australia if you want to s...\n",
       "1986                     explosion at airport in istanbul\n",
       "1987    jamaica proposes marijuana dispensers for tour...\n",
       "1988    a 117 year old woman in mexico city finally re...\n",
       "Name: Top1, Length: 1989, dtype: object"
      ]
     },
     "execution_count": 135,
     "metadata": {},
     "output_type": "execute_result"
    }
   ],
   "source": [
    "dNews['Top1']"
   ]
  },
  {
   "cell_type": "code",
   "execution_count": 136,
   "metadata": {
    "colab": {
     "base_uri": "https://localhost:8080/",
     "height": 68
    },
    "colab_type": "code",
    "id": "Bh6Glq_6_Jue",
    "outputId": "31ee0014-2584-4eee-c70b-4026a65e7e0d"
   },
   "outputs": [
    {
     "name": "stderr",
     "output_type": "stream",
     "text": [
      "[nltk_data] Downloading package stopwords to\n",
      "[nltk_data]     /Users/piruzalemi/nltk_data...\n",
      "[nltk_data]   Package stopwords is already up-to-date!\n"
     ]
    },
    {
     "data": {
      "text/plain": [
       "True"
      ]
     },
     "execution_count": 136,
     "metadata": {},
     "output_type": "execute_result"
    }
   ],
   "source": [
    "#import nltk\n",
    "nltk.download('stopwords')"
   ]
  },
  {
   "cell_type": "code",
   "execution_count": 137,
   "metadata": {
    "colab": {},
    "colab_type": "code",
    "id": "QO40oHNl_JyZ"
   },
   "outputs": [],
   "source": [
    "from nltk.corpus import stopwords"
   ]
  },
  {
   "cell_type": "code",
   "execution_count": 138,
   "metadata": {
    "colab": {},
    "colab_type": "code",
    "id": "ODgPjfQA_J2k"
   },
   "outputs": [],
   "source": [
    "stop=stopwords.words('english') + [None]"
   ]
  },
  {
   "cell_type": "code",
   "execution_count": 139,
   "metadata": {},
   "outputs": [
    {
     "data": {
      "text/plain": [
       "['georgia',\n",
       " 'down',\n",
       " 'two',\n",
       " 'russian',\n",
       " 'warplan',\n",
       " 'as',\n",
       " 'countri',\n",
       " 'move',\n",
       " 'to',\n",
       " 'brink',\n",
       " 'of',\n",
       " 'war']"
      ]
     },
     "execution_count": 139,
     "metadata": {},
     "output_type": "execute_result"
    }
   ],
   "source": [
    "tokenizer_porter(dNews['Top1'][0])"
   ]
  },
  {
   "cell_type": "code",
   "execution_count": 140,
   "metadata": {
    "colab": {
     "base_uri": "https://localhost:8080/",
     "height": 307
    },
    "colab_type": "code",
    "id": "XbB7gBBi_J-N",
    "outputId": "8c9c5689-b65e-4f31-fcb8-9257c31edddb"
   },
   "outputs": [
    {
     "data": {
      "text/plain": [
       "['georgia', 'two', 'russian', 'warplan', 'countri', 'move', 'brink', 'war']"
      ]
     },
     "execution_count": 140,
     "metadata": {},
     "output_type": "execute_result"
    }
   ],
   "source": [
    "[w for w in tokenizer_porter(dNews['Top1'][0]) if w not in stop]"
   ]
  },
  {
   "cell_type": "markdown",
   "metadata": {
    "colab_type": "text",
    "id": "YTipH0Qh4C05"
   },
   "source": [
    "# **Transforming words into feature vectors**"
   ]
  },
  {
   "cell_type": "code",
   "execution_count": 141,
   "metadata": {
    "colab": {},
    "colab_type": "code",
    "id": "fDIAp3Kz4QB9"
   },
   "outputs": [],
   "source": [
    "from sklearn.feature_extraction.text import CountVectorizer"
   ]
  },
  {
   "cell_type": "code",
   "execution_count": 142,
   "metadata": {
    "colab": {},
    "colab_type": "code",
    "id": "f9s8os4o4QPv"
   },
   "outputs": [],
   "source": [
    "#count=CountVectorizer"
   ]
  },
  {
   "cell_type": "code",
   "execution_count": 143,
   "metadata": {
    "colab": {},
    "colab_type": "code",
    "id": "Kj1C19054QZY"
   },
   "outputs": [],
   "source": [
    "#docs=np.array(dNews['Top1'])"
   ]
  },
  {
   "cell_type": "code",
   "execution_count": 144,
   "metadata": {
    "colab": {},
    "colab_type": "code",
    "id": "WO4jV_FV5hIP"
   },
   "outputs": [],
   "source": [
    "vectorizer = TfidfVectorizer()"
   ]
  },
  {
   "cell_type": "code",
   "execution_count": 145,
   "metadata": {
    "colab": {
     "base_uri": "https://localhost:8080/",
     "height": 71
    },
    "colab_type": "code",
    "id": "zMyJD1my5mRR",
    "outputId": "f80f59b2-654d-43a7-c583-4c6c4a60b68a"
   },
   "outputs": [
    {
     "name": "stdout",
     "output_type": "stream",
     "text": [
      "{'georgia': 3128, 'downs': 2320, 'two': 7224, 'russian': 6100, 'warplanes': 7524, 'as': 660, 'countries': 1790, 'move': 4660, 'to': 7046, 'brink': 1116, 'of': 4910, 'war': 7513, 'why': 7624, 'wont': 7682, 'america': 509, 'and': 530, 'nato': 4740, 'help': 3390, 'us': 7360, 'if': 3579, 'they': 6985, 'now': 4858, 'did': 2161, 'we': 7555, 'them': 6976, 'in': 3636, 'iraq': 3835, 'remember': 5868, 'that': 6971, 'adorable': 372, 'year': 7742, 'old': 4934, 'who': 7616, 'sang': 6149, 'at': 700, 'the': 6973, 'opening': 4955, 'ceremonies': 1359, 'was': 7531, 'fake': 2754, 'too': 7065, 'refuses': 5818, 'israel': 3859, 'weapons': 7561, 'attack': 712, 'iran': 3831, 'report': 5898, 'all': 470, 'experts': 2687, 'admit': 364, 'should': 6375, 'legalise': 4120, 'drugs': 2362, 'mom': 4605, 'missing': 4578, 'gay': 3104, 'man': 4344, 'bad': 788, 'he': 3357, 'not': 4849, '21': 102, 'cheerleader': 1408, 'then': 6978, 'still': 6656, 'be': 856, 'looking': 4252, 'for': 2957, 'him': 3427, 'an': 525, 'afghan': 396, 'prison': 5492, 'majority': 4319, 'female': 2823, 'prisoners': 5494, 'are': 616, 'serving': 6296, '20': 81, 'sentences': 6282, 'being': 897, 'victims': 7424, 'rape': 5711, 'arrested': 642, 'locked': 4232, 'up': 7332, 'five': 2911, 'hours': 3510, 'after': 402, 'taking': 6870, 'photo': 5235, 'police': 5349, 'van': 7386, 'ignoring': 3586, 'no': 4825, 'entry': 2558, 'sign': 6399, 'elderly': 2459, 'chinese': 1425, 'women': 7677, 'have': 3351, 'been': 875, 'sentenced': 6281, 're': 5737, 'education': 2434, 'through': 7012, 'labor': 4037, 'sought': 6518, 'permit': 5201, 'demonstrate': 2069, 'official': 4924, 'olympic': 4938, 'protest': 5581, 'area': 617, 'british': 1120, 'resident': 5931, 'held': 3382, 'guantanamo': 3255, 'bay': 851, 'wins': 7653, 'legal': 4118, 'battle': 849, 'force': 2960, 'foreign': 2965, 'office': 4920, 'reveal': 5976, 'torture': 7078, 'evidence': 2628, 'syria': 6850, 'says': 6175, 'its': 3871, 'ready': 5746, 'put': 5646, 'missile': 4576, 'system': 6853, 'on': 4940, 'soil': 6490, 'counterweight': 1789, 'plans': 5301, 'deploy': 2095, 'shield': 6343, 'poland': 5348, 'czech': 1909, 'republic': 5911, 'korea': 4021, 'kim': 4000, 'died': 2165, '2003': 84, 'replaced': 5895, 'by': 1196, 'lookalike': 4251, 'waseda': 7532, 'professor': 5520, 'north': 4841, 'halts': 3302, 'denuclearisation': 2087, 'fails': 2750, 'remove': 5874, 'from': 3036, 'list': 4204, 'states': 6632, 'sponsoring': 6575, 'terrorism': 6952, 'photos': 5241, '15': 38, 'iraqi': 3836, 'suicide': 6763, 'bomber': 1027, 'gave': 3103, 'herself': 3405, 'military': 4538, 'is': 3845, 'declaration': 1988, 'moscow': 4641, 'prime': 5483, 'minister': 4558, 'vladimir': 7470, 'putin': 5647, 'has': 3343, 'accused': 318, 'provoking': 5604, 'conflict': 1663, 'possibly': 5393, 'domestic': 2289, 'election': 2462, 'purposes': 5640, 'girl': 3147, 'filmed': 2864, 'israeli': 3860, 'soldiers': 6494, 'brutality': 1141, 'since': 6417, 'her': 3397, 'family': 2770, 'victim': 7423, 'revenge': 5982, 'attacks': 716, 'legalization': 4122, 'marijuana': 4379, 'majour': 4321, 'steps': 6648, 'right': 6014, 'direction': 2188, 'security': 6249, 'guards': 3260, 'beat': 862, 'soccer': 6483, 'football': 2954, 'game': 3086, 'fans': 2776, 'players': 5314, 'charge': 1390, 'field': 2839, 'jordan': 3925, 'honor': 3480, 'killings': 3996, 'murdered': 4696, 'other': 5008, 'reasons': 5753, 'but': 1188, 'when': 7602, 'caught': 1320, 'guilty': 3265, 'claim': 1474, 'it': 3868, 'killing': 3995, 'obtain': 4895, 'lenient': 4131, 'sentencing': 6283, 'french': 3025, 'judge': 3936, 'ordered': 4984, 'branches': 1076, 'scientologists': 6209, 'their': 6975, 'leaders': 4093, 'stand': 6613, 'trial': 7155, 'fraud': 3014, 'love': 4268, 'world': 7695, 'thai': 6967, 'samak': 6140, 'sundaravej': 6772, 'forced': 2961, 'resign': 5933, 'court': 1799, 'said': 6120, 'had': 3289, 'violated': 7448, 'constitution': 1690, 'hosting': 3503, 'cooking': 1740, 'show': 6378, 'seriously': 6289, 'dutch': 2375, 'ban': 808, 'burkas': 1173, 'picking': 5249, 'children': 1418, 'school': 6198, 'american': 510, 'intelligence': 3765, 'confirms': 1659, 'latest': 4071, 'actions': 337, 'south': 6523, 'ossetia': 5007, 'were': 7588, 'started': 6623, 'russias': 6102, 'position': 5387, 'correct': 1763, 'opec': 4952, 'finished': 2887, 'saudi': 6163, 'arabia': 606, 'later': 4070, 'saakashvili': 6105, 'lie': 4165, 'west': 7591, 'begins': 884, 'doubt': 2311, 'georgian': 3129, 'leader': 4092, 'pakistani': 5074, 'tribesmen': 7158, 'representing': 5907, 'half': 3298, 'million': 4542, 'people': 5187, 'vowed': 7488, 'switch': 6842, 'sides': 6392, 'amp': 521, 'join': 3916, 'taliban': 6872, 'americans': 511, 'don': 2290, 'stop': 6673, 'raids': 5689, 'into': 3798, 'pakistan': 5073, 'embassy': 2491, 'yemen': 7745, 'leaves': 4111, '16': 44, 'dead': 1957, '200': 82, 'babies': 775, 'sick': 6390, 'milk': 4540, 'scandal': 6179, 'spreading': 6587, 'brits': 1121, 'take': 6867, 'short': 6370, 'selling': 6265, 'financial': 2876, 'stocks': 6664, 'navy': 4746, 'sails': 6123, 'venezuela': 7406, '13': 30, 'billion': 942, 'money': 4611, 'allocated': 479, 'reconstruction': 5781, 'projects': 5541, 'wasted': 7539, 'or': 4977, 'stolen': 6666, 'with': 7663, 'some': 6503, 'ending': 2526, 'al': 455, 'qaedas': 5656, 'coffers': 1536, 'empire': 2501, 'near': 4752, 'collapse': 1540, 'woman': 7676, 'red': 5793, 'handed': 3311, 'drinking': 2345, 'orange': 4978, 'juice': 3940, 'dubai': 2365, 'japanese': 3890, 'space': 6531, 'tourist': 7090, 'paid': 5068, 'adventures': 380, '21m': 106, 'go': 3166, 'iss': 3863, 'bumped': 1166, 'sent': 6279, 'one': 4942, 'investors': 3820, 'instead': 3747, 'kept': 3969, 'his': 3435, 'power': 5412, 'nightmares': 4817, 'bbc': 853, 'part': 5112, 'gorbachev': 3183, 'forms': 2983, 'new': 4793, 'party': 5129, 'opposing': 4973, 'fucking': 3045, 'hell': 3386, 'great': 3219, 'britain': 1118, '2008': 87, 've': 7396, 'soweto': 6530, 'seen': 6258, 'aids': 433, 'orphans': 5002, 'eating': 2404, 'better': 925, 'than': 6969, 'mexican': 4507, 'farm': 2778, 'dies': 2166, 'lighting': 4179, 'himself': 3428, 'fire': 2892, 'strikes': 6698, 'kill': 3991, 'iceland': 3563, 'sept': 6285, '08': 9, 'un': 7248, 'best': 921, 'country': 1791, 'live': 4216, '07': 8, 'oct': 4907, 'food': 2951, 'hoarding': 3444, 'currency': 1890, 'rated': 5721, 'just': 3949, 'above': 284, 'zimbabwe': 7773, 'russia': 6099, 'you': 7756, 'won': 7679, 'buy': 1190, 'our': 5013, 'version': 7411, 'fine': 2880, 'your': 7760, '11': 23, 'modern': 4594, 'slavery': 6451, 'bush': 1184, 'administration': 362, 'this': 6998, 'month': 4621, 'quietly': 5673, 'cutting': 1900, 'off': 4911, 'birth': 952, 'control': 1726, 'supplies': 6784, 'worlds': 7696, 'poorest': 5368, 'africa': 399, 'icelandic': 3564, 'isk': 3849, 'loses': 4258, '73': 218, 'value': 7383, 'single': 6420, 'day': 1948, 'yesterday': 7749, 'usd': 7362, '92': 252, 'today': 7048, '418': 166, 'eu': 2599, 'bans': 825, 'incandescent': 3639, 'light': 4177, 'bul': 1158, 'lawyer': 4086, 'defended': 2026, 'journalists': 3931, 'poisoned': 5346, 'france': 3009, 'behalf': 886, '64': 204, 'canadians': 1239, 'vote': 7481, 'conservative': 1679, 'government': 3194, 'apologize': 572, 'what': 7600, 'done': 2298, 'about': 283, 'weeks': 7577, 'podium': 5341, 'coke': 1537, 'dealers': 1962, 'badass': 789, 'house': 3511, 'private': 5498, 'zoo': 7778, 'freedoms': 3020, 'under': 7268, 'threat': 7004, 'big': 935, 'brother': 1131, 'state': 6629, 'warns': 7523, 'director': 2191, 'public': 5612, 'prosecutions': 5568, 'falls': 2763, '119th': 26, 'out': 5016, 'around': 639, '160': 45, 'ranked': 5710, 'press': 5461, 'outside': 5032, 'own': 5047, 'territory': 6950, 'reporters': 5902, 'without': 7670, 'borders': 1044, 'argentina': 621, 'nationalizes': 4735, 'pensions': 5184, 'acknowledges': 328, 'enormous': 2542, 'error': 2575, 'takes': 6869, 'action': 336, 'protect': 5577, 'workers': 7692, 'retirees': 5969, 'banks': 821, 'formally': 2980, 'renews': 5882, 'ties': 7032, 'cuba': 1874, 'rampant': 5703, 'committed': 1585, 'crimes': 1838, 'during': 2373, 'finnish': 2890, 'voting': 7486, 'votes': 7485, 'paper': 5089, 'trail': 7115, 'know': 4015, 'got': 3187, 'worry': 7701, 'wanted': 7511, 'shine': 6348, 'more': 4631, 'australian': 737, 'friends': 3031, 'potential': 5404, 'internet': 3785, 'filter': 2867, 'problem': 5506, 'let': 4138, 'keep': 3962, 'spotlight': 6582, 'reply': 5897, 'ends': 2529, 'bilingual': 939, 'road': 6036, 'wales': 7501, 'ask': 665, 'camera': 1222, 'license': 4162, 'every': 2621, 'mp': 4668, 'receive': 5762, 'copy': 1748, 'orwell': 5004, 'nineteen': 4821, 'eighty': 2455, 'four': 3001, 'kenya': 3966, 'declares': 1990, 'holiday': 3453, 'obama': 4882, 'london': 4243, 'smokers': 6467, 'banned': 822, 'fostering': 2993, 'can': 1235, 'wait': 7497, 'id': 3566, 'cards': 1276, 'wtf': 7726, 'would': 7707, 'anyone': 562, 'even': 2613, 'indifferent': 3669, 'scheme': 6191, 'actually': 348, 'want': 7510, 'card': 1274, 'uk': 7240, 'asks': 668, 'media': 4449, 'whether': 7606, 'release': 5851, 'iaea': 3558, 'documents': 2275, 'linking': 4198, 'nuclear': 4864, 'push': 5642, 'may': 4420, 'fabricated': 2731, 'sudan': 6747, 'president': 5459, 'announced': 543, 'immediate': 3609, 'ceasefire': 1331, 'darfur': 1932, 'stupid': 6722, 'believing': 905, 'witchcraft': 7662, 'will': 7642, 'work': 7687, 'much': 4677, 'harder': 3330, 'recoup': 5787, 'note': 4851, 'left': 4116, 'pyramid': 5652, 'operators': 4963, 'taunt': 6897, 'angry': 535, 'good': 3179, 'am': 500, 'going': 3173, 'hang': 3316, 'balls': 806, 'hanged': 3317, 'saddam': 6114, 'hussein': 3551, 'sarkozy': 6154, 'yes': 7748, 'do': 2264, 'end': 2523, 'like': 4182, 'point': 5342, 'haitians': 3295, 'so': 6482, 'desperate': 2121, 'many': 4369, 'mothers': 4648, 'name': 4723, 'newborns': 4794, 'because': 869, 'infants': 3692, 'die': 2164, 'malnourishment': 4340, 'india': 3664, 'sinks': 6425, 'somali': 6501, 'pirate': 5276, 'ship': 6349, 'ignored': 3585, 'g20': 3068, 'meeting': 4459, 'denmark': 2083, 'considers': 1685, 'outlawing': 5023, 'male': 4335, 'circumcision': 1456, 'minors': 4565, 'swiss': 6841, 'army': 638, 'vegetarians': 7399, 'fighting': 2848, 'boycott': 1068, 'tasers': 6894, 'cause': 1321, 'fear': 2800, 'damage': 1915, 'confidence': 1657, 'rip': 6024, 'brenden': 1100, 'foster': 2992, 'whose': 7623, 'last': 4067, 'wish': 7661, 'feed': 2814, 'homeless': 3461, 'updates': 7335, 'mumbai': 4693, 'blasts': 979, 'photographer': 5238, 'gun': 3269, 'armed': 631, 'back': 778, 'make': 4322, 'offence': 4912, 'punishable': 5628, 'ten': 6936, 'years': 7743, 'imprisonment': 3633, 'publish': 5615, 'elicit': 2475, 'information': 3706, 'any': 559, 'constable': 1689, 'brazil': 1082, 'announces': 544, 'plan': 5294, 'slow': 6456, 'amazon': 504, 'deforestation': 2037, '70': 212, 'fell': 2819, 'assassin': 675, 'canadian': 1238, 'conservatives': 1680, 'suspend': 6817, 'parliament': 5109, 'avoid': 758, 'facing': 2742, 'non': 4832, 'false': 2765, 'flag': 2914, 'men': 4475, 'illegally': 3595, 'buying': 1192, 'mobile': 4591, 'phone': 5232, 'used': 7364, 'gunmen': 3270, 'counter': 1782, 'insurgency': 3757, 'officer': 4921, 'gets': 3137, 'kiss': 4007, 'deaf': 1960, 'canada': 1236, 'wal': 7500, 'mart': 4394, 'tries': 7161, 'prevent': 5467, 'employee': 2502, 'unionization': 7296, 'supreme': 6793, 'escapee': 2579, 'tells': 6932, 'horrors': 3495, 'korean': 4022, 'camp': 1227, 'unrest': 7320, 'gripped': 3239, 'greece': 3222, 'spilling': 6567, 'over': 5033, 'rest': 5953, 'europe': 2603, 'raising': 5696, 'concerns': 1636, 'clashes': 1482, 'could': 1773, 'trigger': 7162, 'opponents': 4967, 'globalization': 3161, 'disaffected': 2194, 'youth': 7763, 'others': 5009, 'mugabe': 4681, 'arrest': 641, 'charges': 1393, 'jaw': 3894, 'dropped': 2354, 'face': 2733, 'contorted': 1716, 'turks': 7208, 'armenian': 633, 'massacres': 4402, 'shoe': 6360, 'thrower': 7015, 'faces': 2737, '7yrs': 230, 'offending': 4915, 'head': 3358, 'applauds': 589, 'ing': 3712, 'uses': 7369, 'molotov': 4604, 'cocktails': 1531, 'fight': 2845, 'pirates': 5278, 'scientist': 6206, 'repeat': 5891, '1962': 66, 'milgram': 4536, 'test': 6958, '80': 231, 'told': 7052, 'authority': 744, 'figure': 2850, 'learned': 4104, 'nothing': 4852, 'threatened': 7006, 'anti': 554, 'act': 333, 'videoing': 7428, 'performing': 5197, 'search': 6229, 'express': 2706, '39': 159, 'capital': 1261, 'discover': 2207, 'lets': 4139, 'intrest': 3799, 'rate': 5720, '22': 107, '99': 260, 'compounded': 1620, 'monthly': 4622, 'late': 4069, 'fee': 2813, 'earth': 2393, 'city': 1465, 'shipbreakers': 6350, '120': 28, 'reportedly': 5900, 'killed': 3992, 'gaza': 3106, 'down': 2314, 'entire': 2553, 'apt': 604, 'building': 1154, 'civilians': 1470, 'call': 1213, 'union': 7295, 'activist': 341, 'eye': 2726, 'acid': 325, 'supporters': 6788, 'blockade': 991, 'company': 1600, 'riot': 6020, 'run': 6088, 'leaving': 4112, 'shields': 6344, 'helmets': 3389, 'shoes': 6361, 'behind': 894, 'former': 2982, 'pleads': 5320, 'acting': 335, 'spy': 6590, 'australia': 736, 'request': 5915, 'detainees': 2136, 'palestine': 5076, 'stands': 6616, 'soldier': 6493, 'true': 7180, 'lied': 4166, 'vatican': 7394, 'giant': 3142, 'concentration': 1631, 'enough': 2543, 'time': 7038, 'video': 7427, 'didn': 2162, 'see': 6250, 'hinders': 3429, 'arms': 637, 'delivery': 2057, 'headquarters': 3361, 'hit': 3438, 'white': 7613, 'phosphorus': 5234, 'shells': 6338, 'reveals': 5979, 'worst': 7705, 'sins': 6426, 'desecrating': 2111, 'eucharist': 2600, 'outranks': 5030, 'genocide': 3123, 'farmers': 2780, 'beginning': 883, 'feel': 2815, 'sting': 6658, 'worldwide': 7697, 'top': 7070, 'officers': 4922, 'warned': 7520, 'against': 405, 'traveling': 7142, 'danger': 1924, 'might': 4527, 'huh': 3528, 'nytimes': 4878, 'publishes': 5617, 'op': 4951, 'ed': 2423, 'libyan': 4159, 'muammar': 4675, 'qaddafi': 5654, 'strangely': 6687, 'makes': 4326, 'sense': 6276, 'solution': 6497, 'bailout': 796, 'russians': 6101, 'get': 3136, 'cheaper': 1402, 'vodka': 7471, 'cut': 1898, 'alcohol': 461, 'taxes': 6900, 'ease': 2395, 'citizens': 1464, 'pain': 5069, 'human': 3529, 'rights': 6015, 'richard': 6001, 'falk': 2757, 'jewish': 3905, 'evokes': 2630, 'memories': 4473, 'warsaw': 7529, 'ghetto': 3139, 'dismisses': 2227, 'argument': 626, 'assault': 679, 'self': 6262, 'defense': 2029, 'labels': 4036, 'hater': 3346, 'david': 1944, 'attenborough': 720, 'creationist': 1827, 'hate': 3345, 'mail': 4310, 'crediting': 1831, 'god': 3169, 'dear': 1966, 'reddit': 5795, 'please': 5322, 'give': 3150, 'attention': 723, 'humanitarian': 3530, 'crisis': 1846, 'democratic': 2065, 'congo': 1664, 'taken': 6868, 'lives': 4219, '1998': 77, 'continue': 1713, 'leave': 4110, '45': 174, '000': 1, 'deep': 2010, 'doo': 2301, 'picture': 5253, 'students': 6714, 'bombings': 1029, 'mention': 4478, 'names': 4725, 'ages': 414, 'there': 6979, 'anymore': 561, 'blame': 971, 'protester': 5583, 'thrown': 7017, 'wen': 7586, 'jiabao': 3907, 'speech': 6554, 'cambridge': 1220, 'university': 7303, 'called': 1214, 'dictator': 2158, 'admits': 365, 'peace': 5164, 'doctor': 2267, 'daughters': 1943, 'tank': 6879, 'claims': 1477, 'reasonable': 5752, 'shocked': 6357, 'moral': 4628, 'girls': 3149, 'pu': 5611, 'lords': 4256, 'surveillance': 6806, 'greatest': 3221, 'democracy': 2064, 'hitler': 3440, 'here': 3400, 'shortly': 6372, 'fires': 2895, 'pregnant': 5442, 'gang': 3088, '100': 11, 'lashes': 4066, 'committing': 1587, 'adultery': 377, 'christians': 1444, 'jerusalem': 3903, 'jews': 3906, 'spitting': 6570, 'teenage': 6919, 'thief': 6987, 'picked': 5248, 'wrong': 7723, 'she': 6332, 'tried': 7160, 'bag': 790, 'belonging': 907, 'pensioner': 5182, 'jean': 3896, 'hirst': 3434, 'championship': 1372, 'sprinter': 6589, 'dude': 2368, 'send': 6270, 'veterans': 7416, 'hunt': 3542, 'almost': 485, 'win': 7645, 'wasn': 7537, 'godly': 3170, 'sniper': 6477, 'shot': 6373, 'while': 7608, 'running': 6091, 'trees': 7153, 'smoke': 6466, 'mexico': 4509, 'discovered': 2208, 'oil': 4932, 'times': 7040, 'present': 5453, 'known': 4017, 'reserves': 5929, 'saudis': 6164, 'goes': 3172, 'electric': 2466, 'vehicle': 7401, 'progress': 5534, 'extremists': 2724, 'criminalising': 1840, 'legitimate': 4129, 'dissent': 2239, 'guise': 3267, 'extremism': 2722, 'word': 7684, 'which': 7607, 'definition': 2036, 'again': 404, 'seized': 6261, '425': 168, 'acres': 331, 'palestinian': 5077, 'land': 4051, 'build': 1153, 'settlement': 6301, '2500': 120, 'homes': 3467, 'interested': 3777, 'graph': 3212, 'historic': 3436, 'collapses': 1541, 'puts': 5648, 'current': 1891, 'perspective': 5211, 'legalize': 4123, 'ammiano': 514, 'introduce': 3800, 'legislation': 4128, 'monday': 4610, 'allow': 480, 'pot': 5402, 'tax': 6899, 'bono': 1036, 'african': 400, 'aid': 430, 'survives': 6811, '10': 10, 'days': 1951, 'ski': 6437, 'mountain': 4654, 'spouse': 6584, 'neither': 4771, 'nor': 4836, 'rescue': 5922, 'teams': 6911, 'began': 879, 'ground': 3241, 'searches': 6230, 'until': 7324, 'tuesday': 7192, 'despite': 2122, 'helicopter': 3383, 'pilots': 5267, 'twice': 7222, 'reporting': 5903, 'saw': 6172, 'sos': 6516, 'symbol': 6846, 'carved': 1296, 'snow': 6480, 'blocks': 995, 'pasta': 5142, 'shipment': 6351, 'someone': 6505, 'piece': 5255, 'macaroni': 4295, 'united': 7300, 'decided': 1982, 'upcoming': 7333, 'conference': 1654, 'racism': 5678, 'unless': 7308, 'final': 2872, 'document': 2270, 'changed': 1376, 'drop': 2353, 'references': 5804, 'night': 4814, 'asteroid': 695, 'only': 4947, 'ago': 418, 'size': 6435, 'story': 6684, 'moving': 4665, '12': 27, 'miles': 4535, 'per': 5191, 'second': 6237, 'buzzed': 1194, 'pass': 5130, 'within': 7669, 'distance': 2242, 'moon': 4627, 'luck': 4278, 'ever': 2619, 'bigoted': 938, 'parents': 5103, 'disabled': 2193, 'telly': 6933, 'bill': 940, 'say': 6173, 'mandatory': 4352, 'jail': 3880, 'terms': 6946, 'economist': 2413, 'disaster': 2201, 'least': 4108, 'policy': 5353, 'jong': 3924, 'il': 3591, 'news': 4796, 'koreans': 4023, 'camps': 1232, 'net': 4780, 'neutrality': 4790, 'guys': 3275, 'mps': 4670, 'jailed': 3881, 'offensive': 4916, 'hamas': 3305, 'ruled': 6083, 'strip': 6700, '434': 171, 'including': 3648, '960': 258, '239': 114, '235': 113, 'fighters': 2847, 'ara': 605, 'wailing': 7496, 'stricken': 6694, 'graphic': 3213, 'shooting': 6364, '37': 157, 'californian': 1211, 'nonviolent': 4834, 'protests': 5588, 'hello': 3387, 'wikileaks': 7633, 'huge': 3526, 'bank': 816, 'gags': 3076, 'newspaper': 4798, 'revealing': 5978, 'multi': 4686, 'pound': 5408, 'rort': 6060, 'adds': 359, 'website': 7568, 'scenes': 6188, 'recession': 5768, 'crowded': 1860, 'civilian': 1469, 'sorts': 6515, 'cannot': 1255, 'away': 767, 'terrified': 6948, 'pic': 5245, 'tshirt': 7189, 'way': 7553, 'doesnt': 2278, 'seem': 6256, 'ironic': 3841, 'thousands': 7003, 'cctv': 1328, 'cameras': 1224, 'shut': 6386, 'google': 3181, 'street': 6691, 'view': 7432, 'privacy': 5497, 'china': 1424, 'youtube': 7765, 'drug': 2360, 'pics': 5252, 'defamation': 2014, 'religion': 5858, 'violation': 7450, 'machine': 4297, 'overdrive': 5036, 'shoot': 6362, 'kids': 3988, 'went': 7587, 'warning': 7521, 'shots': 6374, 'exaggerated': 2636, 'does': 2276, 'think': 6992, 'anybody': 560, 'anywhere': 565, 'buys': 1193, 'crap': 1816, 'western': 7592, 'censorship': 1346, 'll': 4224, 'morbidly': 4630, 'absurd': 291, 'prosecution': 5567, 'child': 1417, 'pornography': 5381, 'laws': 4084, 'where': 7603, 'possible': 5392, 'themselves': 6977, 'palin': 5079, 'my': 4714, 'spaniards': 6535, 'grateful': 3215, 'reilly': 5839, 'promising': 5546, 'visit': 7464, 'spain': 6534, 'mideastern': 4525, 'nation': 4733, 'photoshops': 5242, 'photograph': 5236, 'cabinet': 1199, 'how': 3515, 'dark': 1934, 'side': 6391, 'calderon': 1209, 'impossible': 3630, 'tons': 7063, 'complicity': 1617, 'authorities': 743, 'protesters': 5584, 'tibet': 7027, 'death': 1968, 'film': 2863, 'maker': 4323, 'sir': 6427, 'becomes': 871, 'patron': 5153, 'group': 3243, 'seeking': 6254, 'growth': 3250, 'population': 5376, 'overfishing': 5037, 'wipe': 7655, 'bluefin': 1006, 'tuna': 7197, 'wwf': 7729, 'monsanto': 4620, 'uprooted': 7346, 'germany': 3133, 'cultivation': 1879, 'gm': 3164, 'corn': 1756, 'deleting': 2051, 'tourists': 7091, 'photographing': 5239, 'anything': 563, 'transport': 7135, 'strictly': 6696, 'forbidden': 2958, 'poll': 5359, '60': 194, 'swedes': 6835, 'showed': 6379, '89': 246, 'cent': 1348, 'believed': 903, 'founders': 2999, 'acquitted': 330, 'decides': 1983, 'museum': 4704, 'tolerance': 7054, 'atop': 710, 'muslim': 4708, 'cemetery': 1343, 'redditors': 5796, 'awarded': 764, 'homo': 3470, 'heroes': 3403, 'fm': 2943, 'believe': 902, 'me': 4435, 'accepts': 304, 'decisions': 1986, 'admin': 361, 'forth': 2985, 'initiatives': 3719, 'wants': 7512, 'decide': 1981, '19': 56, 'coward': 1807, 'tent': 6939, 'handcuff': 3309, 'hold': 3447, 'indecently': 3660, 'scene': 6187, 'setting': 6299, 'afghanistan': 397, 'need': 4758, 'understand': 7274, 'waterboarding': 7547, 'outbreak': 5017, 'swine': 6840, 'flu': 2939, 'renamed': 5878, 'influenza': 3702, 'deference': 2031, 'sensitivities': 6278, 'pork': 5379, 'health': 3364, 'muslims': 4709, 'dont': 2300, 'care': 1277, 'doesn': 2277, 'speak': 6541, 'everybody': 2622, 'talking': 6874, 'personal': 5208, 'use': 7363, 'breaking': 1091, 'royal': 6073, 'car': 1270, 'bus': 1183, 'high': 3416, 'speed': 6556, 'hits': 3441, 'remarkable': 5865, 'thing': 6990, 'happened': 3322, 'week': 7574, '400': 163, 'fellow': 2821, 'wearing': 7563, 'black': 962, 'solidarity': 6495, 'carrying': 1289, 'signs': 6406, 'support': 6786, 'walked': 7503, 'keswick': 3970, 'rally': 5699, 'front': 3037, 'consider': 1681, 'banning': 824, 'marriage': 4388, '18': 51, 'brazilian': 1083, 'cattle': 1318, 'ranching': 5705, 'permission': 5200, 'paraguayan': 5093, 'destroy': 2124, 'forest': 2969, 'ayoreo': 772, 'totobiegosode': 7086, 'indians': 3666, 'uncontacted': 7263, 'tribes': 7157, 'third': 6995, 'biggest': 937, 'sweden': 6834, 'membership': 4470, 'count': 1780, 'most': 4645, 'tm': 7045, 'shoots': 6365, 'peaceful': 5165, 'protestor': 5586, 'blank': 974, 'idf': 3572, 'intentionally': 3770, 'target': 6888, 'eric': 2573, 'arthur': 650, 'blair': 970, 'aka': 454, 'george': 3127, 'must': 4710, 'proud': 5589, 'thought': 7001, 'muscle': 4703, 'passes': 5136, 'law': 4081, 'making': 4327, 'illegal': 3594, 'shia': 6342, 'refuse': 5816, 'sex': 6310, 'husband': 3549, 'custody': 1894, 'wonder': 7680, 'doubting': 2312, 'sacrifice': 6112, 'worth': 7706, 'piratebay': 5277, 'launches': 4077, 'wonderful': 7681, 'few': 2833, 'dimes': 2178, 'swedish': 6836, 'freeze': 3022, 'accounts': 315, 'admins': 363, 'alvaro': 496, 'colom': 1553, 'unsung': 7323, 'hero': 3402, 'reason': 5751, 'those': 6999, 'bulbs': 1159, 'moat': 4590, 'cleaning': 1490, 'campaigning': 1230, 'journalist': 3930, 'heather': 3373, 'brooke': 1129, 'spent': 6560, 'tooth': 7068, 'nail': 4719, 'come': 1568, 'clean': 1489, 'expenses': 2681, 'tamil': 6877, 'tiger': 7033, 'rebels': 5758, 'velupillai': 7404, 'prabhakaran': 5418, 'belgian': 900, 'bodybuilding': 1018, 'canceled': 1243, 'doping': 2304, 'officials': 4926, 'competitors': 1609, 'fled': 2921, 'endemic': 2525, 'abuse': 292, 'irish': 3840, 'catholic': 1317, 'inquiry': 3728, 'finds': 2879, 'nigerian': 4812, 'hundreds': 3536, 'maybe': 4422, 'rich': 6000, 'niger': 4810, 'delta': 2058, 'eight': 2453, 'received': 5763, 'little': 4214, 'international': 3783, 'tiananmen': 7025, 'anniversary': 541, 'unimportant': 7293, 'european': 2604, 'shock': 6356, 'politicians': 5357, 'digital': 2173, 'illiterates': 3599, 'fuck': 3043, 'strike': 6697, 'longer': 4247, 'bound': 1061, '1953': 63, 'armistice': 635, 'immigrant': 3613, 'cracks': 1814, 'centuries': 1355, 'mathematical': 4413, 'puzzle': 5650, 'hidden': 3411, 'massacre': 4401, 'throes': 7011, 'sri': 6599, 'lankan': 4060, 'civil': 1468, 'result': 5962, 'shelling': 6337, 'air': 440, 'aircraft': 442, '215': 103, 'disappeared': 2197, 'radar': 5680, 'atlantic': 705, 'ocean': 4905, 'jaqui': 3892, 'smith': 6464, 'finally': 2873, 'small': 6461, 'respite': 5944, 'breathes': 1096, 'sigh': 6397, 'relief': 5857, 'june': 3946, '4th': 180, '1989': 72, 'carradine': 1286, 'found': 2996, 'bangkok': 813, 'dearlove': 1967, 'concerned': 1634, 'loss': 4260, 'liberties': 4155, 'mi6': 4514, 'striking': 6699, 'disturbing': 2249, 'invasions': 3807, 'enters': 2551, 'torre': 7076, 'cnn': 1519, 'teaching': 6907, 'spot': 6581, 'terrorists': 6954, 'olds': 4936, 'urges': 7355, 'tell': 6930, 'teacher': 6905, 'hear': 3367, 'expressing': 2707, 'extremist': 2723, 'views': 7436, 'frank': 3012, 'mcgarahan': 4431, 'beaten': 863, 'stepped': 6646, 'courage': 1796, 'life': 4169, 'darkness': 1935, 'berlusconi': 916, 'decree': 1999, 'wiretapping': 7659, 'justice': 3950, 'freedom': 3019, 'blogs': 997, 'italy': 3870, 'asleep': 669, 'tv': 7217, 'pictures': 5254, 'tehran': 6923, 'delivered': 2056, 'stark': 6620, 'reminder': 5871, 'backward': 786, 'medieval': 4457, 'fanatics': 2775, 'thirds': 6996, 'whom': 7620, '30': 139, 'same': 6142, 'interests': 3778, 'aspirations': 671, 'counterparts': 1786, 'yall': 7737, 'wanna': 7509, 'feminism': 2825, 'patriotism': 5151, 'iranian': 3832, 'leaked': 4098, 'real': 5747, 'results': 5963, 'interior': 3781, 'ministry': 4560, 'ones': 4943, 'showing': 6381, 'ahmadinejad': 427, 'coming': 1572, 'suspicious': 6821, 'accident': 307, '00am': 6, 'posting': 5397, 'vancouver': 7387, 'site': 6430, '2010': 90, 'winter': 7654, 'olympics': 4939, 'seize': 6260, 'warrant': 7525, 'issued': 3865, 'mistaken': 4582, 'grabbed': 3200, 'pinned': 5270, 'arm': 629, 'led': 4114, 'bowels': 1065, 'another': 549, 'identification': 3568, 'basij': 843, 'bring': 1113, 'urgent': 7354, 'basiji': 844, 'footballers': 2956, 'wore': 7686, 'green': 3226, 'armbands': 630, 'retire': 5968, 'hardline': 3331, 'regime': 5822, 'unimaginable': 7292, 'horror': 3494, 'screw': 6223, 'honduras': 3476, 'coup': 1793, 'currently': 1892, 'holding': 3449, 'gtfo': 3253, 'happy': 3324, 'scientology': 6210, 'viral': 7457, 'marketing': 4386, 'uganda': 7234, 'outlaw': 5022, 'friend': 3029, 'email': 2486, 'videos': 7429, 'firing': 2899, 'uploaded': 7340, 'eyewitness': 2728, 'account': 312, 'everyone': 2623, 'disappear': 2195, 'else': 2482, 'falsely': 2766, 'cried': 1834, 'town': 7097, 'sale': 6132, 'bottled': 1054, 'water': 7546, 'first': 2903, 'community': 1598, 'ireland': 3838, 'blasphemy': 976, 'passed': 5133, 'wednesday': 7572, '25': 118, 'euro': 2601, 'also': 493, 'enter': 2549, 'confiscate': 1660, 'blasphemous': 975, 'materials': 4412, 'books': 1040, 'artwork': 658, 'cartoons': 1295, 'mohammed': 4598, 'whatever': 7601, 'book': 1038, 'burnings': 1178, 'next': 4801, 'wars': 7528, 'break': 1089, 'bhopal': 929, 'pop': 5371, 'rationed': 5727, 'minutes': 4567, 'supply': 6785, 'once': 4941, 'three': 7010, 'indore': 3682, 'hour': 3509, 'seven': 6305, 'line': 4192, 'melting': 4467, 'alps': 491, 'rather': 5723, 'contaminated': 1705, '1984': 69, 'catastrophe': 1312, 'scared': 6186, 'dow': 2313, 'chemical': 1410, 'management': 4346, 'team': 6908, 'hiding': 3414, 'earthquake': 2394, 'm7': 4293, 'coast': 1524, 'island': 3853, 'zealand': 7769, 'tsunami': 7190, 'professional': 5519, 'snipers': 6478, 'brought': 1135, 'guard': 3258, 'vulnerable': 7491, 'colony': 1558, 'penguins': 5178, 'troops': 7173, 'contractors': 1720, 'caused': 1322, 'substantial': 6737, 'archeological': 614, 'babylon': 777, 'considered': 1683, 'civilizations': 1472, 'fsm': 3040, 'terrible': 6947, 'sad': 6113, 'mum': 4692, 'hard': 3329, 'read': 5745, 'cell': 1338, 'ad': 350, 'shows': 6383, 'friendly': 3030, 'wall': 7506, 'palestinians': 5078, 'kick': 3980, 'ball': 803, 'salvo': 6138, 'tear': 6912, 'gas': 3097, 'grenades': 3230, 'fired': 2893, 'return': 5970, 'includes': 3647, 'lol': 4242, 'jersey': 3902, 'mayors': 4425, 'rabbis': 5676, 'involvement': 3825, 'laundering': 4078, 'conspiracy': 1688, '26': 125, 'documentary': 2272, 'footage': 2953, 'never': 4792, 'before': 878, 'fool': 2952, 'trips': 7169, 'rays': 5733, 'treatment': 7150, 'scourge': 6220, 'scalpal': 6178, 'ringworm': 6018, 'dna': 2262, 'database': 1938, 'convicted': 1736, 'crime': 1836, 'argue': 624, 'innocent': 3724, 'likely': 4183, 'commit': 1582, 'future': 3067, 'drags': 2330, 'daughter': 1942, 'onto': 4950, 'faux': 2793, 'detector': 2139, 'radio': 5684, 'skipped': 6440, 'previous': 5473, 'experience': 2682, 'surprised': 6802, 'hasn': 3344, 'made': 4303, 'higher': 3417, 'scale': 6177, 'bom': 1025, 'incredible': 3657, 'bolivia': 1024, 'circus': 1458, 'animals': 538, 'defines': 2035, 'cruelty': 1865, 'kind': 4001, 'chavez': 1400, 'shuts': 6388, '34': 151, 'stations': 6634, 'waves': 7551, 'belong': 906, 'bourgeoisie': 1063, 'idol': 3576, 'teenager': 6920, 'revelation': 5980, 'releases': 5853, 'terrorist': 6953, 'sight': 6398, 'supposedly': 6791, 'unhackable': 7287, 'containing': 1702, 'very': 7412, 'cloned': 1508, 'modified': 4596, 'unbelievable': 7256, 'hypocrisy': 3556, 'islamic': 3851, 'preacher': 5431, 'dictatorship': 2160, 'allowed': 481, 'descendants': 2106, 'rats': 5730, 'pigs': 5259, 'elected': 2461, 'islamist': 3852, 'parliamentarian': 5110, 'member': 4468, 'refused': 5817, 'malaysia': 4332, 'brain': 1074, 'damaged': 1916, 'nh1n1': 4802, 'masturbation': 4409, 'nhomosexuality': 4804, 'refusal': 5815, 'decrypt': 2008, 'data': 1937, 'message': 4492, 'anonymous': 548, 'living': 4222, 'recently': 5767, 'diagnosed': 2154, 'breast': 1095, 'cancer': 1248, 'gotten': 3189, 'letter': 4140, 'panels': 5087, 'medical': 4450, 'councils': 1777, 'determine': 2143, 'eligible': 2476, 'percent': 5193, 'coverage': 1804, 'provided': 5595, 'pay': 5158, '635': 202, '85': 240, 'service': 6293, 'compared': 1601, '131': 31, '44': 172, 'netherlands': 4783, '137': 32, '94': 255, 'campaign': 1228, 'officially': 4925, 'castrating': 1306, 'driving': 2350, 'alan': 456, 'turing': 7204, 'helped': 3391, 'nazi': 4747, 'codes': 1534, 'revolutionize': 5993, 'computing': 1627, 'homosexual': 3471, 'huckabee': 3525, 'room': 6057, 'middle': 4524, 'homeland': 3460, 'able': 275, 'settlements': 6302, 'wherever': 7605, 'aipac': 439, '2012': 92, 'checkbooks': 1406, 'australians': 738, 'stayed': 6637, 'turns': 7214, 'sleeping': 6453, 'atm': 707, 'cocaine': 1527, 'bar': 827, 'guy': 3274, 'haven': 3352, 'something': 6506, 'learn': 4103, 'effective': 2439, 'decriminalizes': 2006, 'possession': 5389, 'amounts': 520, 'heroin': 3404, 'body': 1017, 'trying': 7187, 'plastic': 5307, 'pint': 5271, 'glasses': 3156, 'compulsory': 1624, 'nanny': 4728, 'order': 4983, 'consumption': 1699, 'hostage': 3500, 'kills': 3997, 'escapes': 2580, 'courts': 1801, 'blocking': 994, 'youngest': 7759, 'person': 5207, 'sail': 6121, 'apology': 574, 'backlash': 784, 'latin': 4072, 'liberal': 4152, 'prosecutors': 5570, 'cultural': 1880, 'publishing': 5618, 'cartoon': 1294, 'suggests': 6762, 'ii': 3587, 'fabrication': 2732, 'chief': 1416, 'inspector': 3740, 'calls': 1216, 'hyped': 3553, 'six': 6434, 'become': 870, 'darling': 1936, 'aspiration': 670, 'corrupt': 1767, 'grows': 3249, 'changing': 1378, 'proudly': 5590, 'secular': 6247, 'combat': 1564, 'units': 7301, 'filling': 2861, 'nurse': 4874, 'struck': 6708, 'register': 5826, 'secretly': 6242, 'filming': 2865, 'lack': 4042, 'brighton': 1112, 'hospital': 3496, 'nominated': 4830, 'national': 4734, 'award': 763, 'decades': 1976, 'inbreeding': 3637, 'causing': 1324, 'immense': 3611, 'suffering': 6754, 'pedigree': 5170, 'dogs': 2280, 'plagued': 5290, 'painful': 5070, 'deadly': 1958, 'genetic': 3118, 'diseases': 2220, 'breeding': 1098, 'appearance': 583, 'investigation': 3814, 'starving': 6628, 'virtually': 7460, 'machinery': 4298, 'eaten': 2402, 'livestock': 4220, 'czar': 1908, 'slams': 6444, 'harper': 3336, 'gov': 3191, 'exits': 2668, 'approach': 597, 'utterly': 7374, 'failed': 2748, 'past': 5141, '40': 162, 'emperor': 2500, 'truly': 7181, 'clothes': 1515, 'case': 1298, 'church': 1449, 'dissolved': 2241, 'due': 2369, 'typo': 7229, 'obscure': 4890, 'voted': 7482, 'explicitly': 2691, 'prevents': 5472, 'richer': 6002, 'wealth': 7558, 'fallen': 2760, 'region': 5824, 'allowing': 482, 'step': 6644, 'plate': 5308, 'richest': 6004, 'continent': 1712, 'promised': 5544, 'each': 2383, 'wear': 7562, 'lime': 4186, 'dress': 2339, 'funeral': 3062, 'september': 6286, '15th': 43, 'kevin': 3971, 'elliot': 2481, 'promise': 5543, 'young': 7757, 'created': 1822, 'volunteer': 7479, 'patrol': 5152, 'malls': 4339, 'places': 5287, 'interracial': 3789, 'dates': 1941, 'eg': 2446, 'committee': 1586, 'cross': 1855, 'access': 305, 'safe': 6116, 'cease': 1330, 'november': 4857, '1992': 75, '600': 195, 'scientists': 6207, '104': 17, 'nobel': 4827, 'laureates': 4080, 'endorsed': 2527, 'bride': 1108, 'inspires': 3742, 'curfew': 1887, 'extended': 2709, '50': 181, 'brazillian': 1085, 'barrios': 838, 'barracaded': 833, 'evicted': 2626, 'fan': 2774, 'armored': 636, 'pittsburgh': 5282, 'campus': 1233, 'stopping': 6675, 'anarchists': 526, 'philippine': 5229, 'saving': 6169, 'working': 7693, 'chiquitas': 1427, 'plantations': 5303, 'hands': 3315, 'burning': 1177, 'inside': 3732, 'rubber': 6076, 'gloves': 3163, '14': 33, 'mess': 4491, 'farmer': 2779, 'holy': 3458, 'roman': 6051, 'nova': 4855, 'scotia': 6217, 'bishop': 956, 'busted': 1187, 'ncanadian': 4749, 'airport': 448, 'laptop': 4062, 'full': 3051, 'porn': 5380, 'nthe': 4863, 'kicker': 3982, 'previously': 5474, 'nhelped': 4803, 'broker': 1127, 'nsexually': 4861, 'abused': 293, 'priests': 5481, 'diocese': 2181, 'boy': 1067, 'harnessed': 3335, 'wind': 7646, 'malawian': 4331, 'transformed': 7127, 'village': 7440, 'windmills': 7648, 'junk': 3948, 'revolution': 5991, 'regulation': 5832, 'requires': 5919, 'chemicals': 1411, 'assessed': 685, 'potentially': 5405, 'toxic': 7099, 'effects': 2441, 'beings': 898, 'environment': 2560, 'signals': 6401, 'industrys': 3686, 'ability': 274, 'withhold': 7667, 'critical': 1847, 'italian': 3869, 'prosecutor': 5569, 'cia': 1450, 'kidnapping': 3986, 'grave': 3216, 'cover': 1803, 'energy': 2532, 'utility': 7373, 'companies': 1599, 'prices': 5478, '42': 167, '382': 158, 'household': 3512, 'wholesale': 7619, 'cost': 1770, 'electricity': 2468, 'halved': 3303, 'bills': 947, 'oh': 4931, 'wow': 7712, 'joseph': 3928, 'stalin': 6608, 'grandson': 3207, 'yevgeny': 7751, 'dzhugashvili': 2382, 'launched': 4075, 'claiming': 1476, 'defamed': 2015, 'soviet': 6527, 'deaths': 1969, 'yahoo': 7736, 'users': 7368, 'forces': 2962, 'across': 332, 'immediately': 3610, 'taser': 6893, 'manufacturer': 4366, 'directive': 2189, 'aim': 435, 'weapon': 7560, 'suspect': 6814, 'chest': 1413, 'question': 5668, 'guardian': 3259, 'gagged': 3075, 'fingerprint': 2884, 'unmasks': 7311, 'da': 1910, 'vinci': 7444, 'painting': 5071, 'sold': 6492, 'auction': 730, '19th': 78, 'century': 1356, 'german': 3130, 'collector': 1547, 'multispectral': 4691, 'imaging': 3606, 'peer': 5173, 'layers': 4088, 'pigment': 5258, 'discovering': 2209, 'proved': 5592, 'vinvi': 7446, 'serve': 6290, 'occupation': 4899, 'violent': 7454, 'racist': 5679, 'inhumane': 3717, 'undemocratic': 7267, 'immoral': 3616, 'extreme': 2721, 'condition': 1647, 'presents': 5455, 'mortal': 4637, 'both': 1050, 'peoples': 5188, 'blackwater': 968, 'prostitutes': 5575, 'lithuanian': 4213, 'dad': 1911, 'senior': 6274, 'politician': 5356, 'molested': 4602, 'lobby': 4225, 'toward': 7094, 'decriminalization': 2004, 'kuwaiti': 4031, 'passport': 5138, 'consent': 1675, 'husbands': 3550, 'columbia': 1560, 'cops': 1746, 'stomp': 6668, 'ribs': 5998, 'posted': 5395, 'calder': 1208, 'heard': 3368, 'diplomats': 2185, 'often': 4930, 'especially': 2582, 'publicly': 5614, 'usually': 7372, 'deal': 1961, 'respond': 5945, 'ah': 425, 'soo': 6510, 'desu': 2130, 'ka': 3955, 'fined': 2881, '900': 249, 'metallica': 4496, 'sucks': 6746, 'frontman': 3038, 'james': 3885, 'hetfield': 3407, 'chose': 1437, 'bands': 811, 'music': 4705, 'represents': 5908, 'likemaybe': 4184, 'aggression': 416, 'adviser': 385, 'sparked': 6537, 'controversy': 1730, 'ecstasy': 2419, 'lsd': 4275, 'cannabis': 1253, 'less': 4136, 'dangerous': 1925, 'cigarettes': 1452, 'unidentified': 7290, 'ukraine': 7241, 'emergency': 2496, 'declared': 1989, 'following': 2949, 'comments': 1576, 'regarding': 5820, 'ectasy': 2420, 'nutt': 4875, 'sacked': 6109, 'telling': 6931, 'truth': 7185, 'wild': 7636, 'bear': 859, 'beating': 864, 'clash': 1481, 'these': 6983, 'suppress': 6792, 'broke': 1125, 'agent': 412, 'rendition': 5880, 'epidemic': 2563, '109': 20, '763': 224, 'infected': 3694, 'hospitalized': 3497, 'friday': 3028, 'advisers': 386, 'sacking': 6110, 'whistleblower': 7610, 'cop': 1742, 'sensation': 6275, 'released': 5852, 'series': 6287, 'calling': 1215, 'corruption': 1768, 'christian': 1442, 'janitor': 3888, 'rises': 6027, 'barriers': 837, 'caste': 1304, 'creed': 1832, 'sectarian': 6245, 'gives': 3152, 'save': 6166, 'idea': 3567, 'participating': 5116, 'drafting': 2327, 'speechless': 6555, 'authorized': 746, 'predator': 5437, 'drone': 2351, 'months': 4623, '500': 182, 'kicks': 3983, 'weather': 7566, 'channel': 1379, 'ass': 672, 'approves': 601, 'settler': 6303, 'dog': 2279, 'bridge': 1109, 'latvia': 4073, 'translated': 7129, 'article': 652, 'fifa': 2841, 'finance': 2875, 'stadium': 6603, 'territories': 6949, 'complete': 1613, 'well': 7583, 'fucked': 3044, 'snooping': 6479, 'cloud': 1517, 'storage': 6677, 'powers': 5416, 'specified': 6552, 'facilitating': 2739, 'prevention': 5470, 'reduction': 5799, 'online': 4946, 'infringement': 3709, 'copyright': 1750, 'limitations': 4188, 'disconnections': 2206, 'offenders': 4914, 'etc': 2593, 'paralyzed': 5097, 'fully': 3052, 'aware': 765, '23': 112, 'isn': 3855, 'vegetable': 7398, 'saying': 6174, 'communicating': 1592, 'really': 5750, 'faking': 2755, 'communication': 1593, 'arriving': 647, 'integration': 3763, 'contract': 1718, 'require': 5917, 'respect': 5943, 'equality': 2565, 'medicine': 4454, 'startling': 6625, 'breakthrough': 1093, 'treating': 7149, 'wife': 7630, 'cure': 1886, 'multiple': 4689, 'sclerosis': 6211, 'ms': 4672, 'nuez': 4865, 'blood': 999, 'mouth': 4659, 'killer': 3993, 'putting': 5649, 'didnt': 2163, 'instinctively': 3748, 'reached': 5739, 'kinds': 4002, 'recorded': 5783, 'types': 7227, 'fibrous': 2837, 'bone': 1033, 'refer': 5802, 'clearly': 1493, 'radiation': 5681, 'exposed': 2703, 'poisoning': 5347, 'salad': 6125, 'laced': 4041, 'overdose': 5035, 'pressure': 5462, 'medication': 4452, 'saddest': 6115, 'history': 3437, 'senate': 6268, 'studying': 6717, 'minimum': 4556, 'given': 3151, 'approval': 599, 'minor': 4562, 'amendments': 508, 'ruins': 6081, 'pompeii': 5364, 'added': 353, 'draw': 2337, 'ignites': 3582, 'cup': 1882, 'fever': 2832, 'tony': 7064, 'minute': 4566, 'wmd': 7674, 'taxi': 6901, 'driver': 2348, 'cash4gold': 1301, 'empty': 2509, 'built': 1157, 'maintain': 4315, 'madness': 4304, 'vid': 7426, 'settlers': 6304, 'occupied': 4900, 'intepretation': 3772, 'quantum': 5662, 'physics': 5244, 'parallel': 5094, 'universe': 7302, 'crossed': 1856, 'border': 1043, 'timeline': 7039, 'punched': 5626, 'pepper': 5189, 'sprayed': 6585, 'shit': 6355, 'kicked': 3981, 'handcuffed': 3310, 'wet': 7595, 'naked': 4722, 'tycoons': 7226, 'entitled': 2555, 'fields': 2840, 'assume': 691, 'invasion': 3806, 'opposition': 4974, 'federal': 2809, 'isp': 3857, 'filtering': 2868, 'hugo': 3527, 'climate': 1501, 'saved': 6167, 'uninsured': 7294, 'japan': 3889, 'sees': 6259, 'prescriptions': 5451, 'filled': 2860, 'sorry': 6513, 'whopping': 7622, 'bucks': 1145, 'home': 3459, 'paying': 5159, 'managing': 4350, 'things': 6991, 'prague': 5424, 'tower': 7096, 'largest': 4064, 'spherical': 6562, 'npanorama': 4859, 'gigapixel': 3145, 'megazoom': 4464, 'laura': 4079, 'dekker': 2044, 'ran': 5704, 'caribbean': 1280, 'wrecked': 7716, 'copenhagen': 1743, 'backyard': 787, 'training': 7117, 'property': 5559, 'owner': 5049, 'defends': 2028, 'knocks': 4014, 'pope': 5372, 'benedict': 911, 'christmas': 1445, 'mass': 4400, 'fact': 2743, 'born': 1046, 'greater': 3220, 'chance': 1373, 'raped': 5712, 'learning': 4106, 'reports': 5904, 'lots': 4263, 'witness': 7671, 'exiles': 2663, 'close': 1510, 'contacts': 1700, 'risking': 6030, 'post': 5394, 'taboo': 6858, 'major': 4318, 'starting': 6624, 'tomorrow': 7061, 'scanners': 6183, 'images': 3604, 'depict': 2091, 'untouched': 7326, 'stomach': 6667, 'contents': 1709, 'baby': 776, 'birds': 950, 'remote': 5872, 'marine': 4380, 'sanctuaries': 6147, '2000': 83, 'nearest': 4754, 'teach': 6904, 'gays': 3105, 'agenda': 411, 'ugandan': 7235, 'families': 2769, 'sodomize': 6488, 'impose': 3628, 'sentence': 6280, 'behavior': 888, 'having': 3354, 'sexual': 6311, 'intercourse': 3775, 'imams': 3607, 'affiliated': 394, 'council': 1775, 'fatwa': 2792, 'evil': 2629, 'track': 7103, 'captives': 1267, 'agree': 419, 'fly': 2941, 'meet': 4458, 'stole': 6665, 'intellectual': 3764, 'crazy': 1820, 'considering': 1684, 'ceasing': 1333, 'operation': 4960, 'signed': 6402, 'www': 7731, 'redcross': 5794, 'org': 4988, 'donate': 2292, 'haiti': 3293, 'difference': 2169, 'ceases': 1332, 'amaze': 502, 'amazing': 503, 'somebody': 6504, 'spokesman': 6573, 'robert': 6040, 'gibbs': 3144, 'pat': 5144, 'robertson': 6041, 'remarks': 5866, 'cancellation': 1245, 'debt': 1973, '2nd': 138, 'exist': 2664, 'im': 3602, 'collect': 1544, '41': 165, 'mln': 4588, 'doubles': 2310, 'totaling': 7083, '83': 238, '448': 173, '252': 121, 'link': 4195, '360': 156, 'burqa': 1180, 'dr': 2324, 'norman': 4840, 'finkelstein': 2888, 'exterminated': 2711, 'dispicable': 2233, 'martyrdom': 4397, 'try': 7186, 'justify': 3953, 'brutalization': 1142, 'demolition': 2067, 'daily': 1913, 'commits': 1584, 'howard': 3516, 'zinn': 7775, 'arguably': 623, 'important': 3626, 'scholars': 6196, 'raised': 5695, '100k': 13, 'sweat': 6832, 'shutdown': 6387, 'funds': 3061, 'fix': 2912, 'bloomberg': 1000, 'secret': 6239, 'banking': 819, 'cabal': 1198, 'uprising': 7344, 'overturns': 5044, 'harvard': 3340, 'student': 6713, 'expelled': 2678, 'essay': 2585, 'computer': 1625, 'drive': 2346, 'sympathetic': 6847, 'lashed': 4065, '101': 16, 'conceiving': 1628, 'rapist': 5716, 'pardoned': 5100, 'turkish': 7207, 'buried': 1172, 'alive': 468, 'honour': 3481, 'nuganda': 4866, 'nanti': 4729, 'worse': 7703, 'rat': 5719, 'acknowledged': 327, 'equation': 2566, 'invading': 3804, 'actively': 339, 'consulted': 1695, 'planning': 5300, 'jazeera': 3895, 'obtained': 4896, 'exclusive': 2647, 'appears': 586, 'ordering': 4985, 'number': 4870, 'range': 5708, 'blocked': 992, 'agreement': 421, 'allows': 483, 'terror': 6951, 'monitor': 4614, 'europeans': 2605, 'transactions': 7123, 'urged': 7352, 'hand': 3308, 'zero': 7771, 'rupees': 6093, 'asked': 666, 'bribe': 1104, 'bid': 933, 'stamp': 6611, 'among': 517, 'luger': 4280, 'giving': 3153, 'motorcade': 4652, 'finger': 2883, 'swearing': 6831, 'individual': 3674, 'permitted': 5202, 'foul': 2995, 'language': 4058, 'swear': 6830, 'figures': 2851, 'cigarette': 1451, 'torch': 7073, 'surprise': 6801, 'nice': 4806, 'thugs': 7020, 'upload': 7339, 'autistic': 749, 'kid': 3984, 'employees': 2503, 'charged': 1391, 'pow': 5411, 'auschwitz': 733, 'survived': 6810, '1944': 59, 'denis': 2081, 'avey': 756, 'swapped': 6825, 'identities': 3571, 'prisoner': 5493, '91': 251, 'gaddafi': 3071, 'jihad': 3909, 'switzerland': 6843, 'magnitude': 4307, 'reported': 5899, 'concepcion': 1632, 'chile': 1419, 'constitutional': 1691, 'ncourt': 4750, 'rules': 6084, 'telephone': 6926, 'yeah': 7741, '1985': 70, 'band': 809, '250': 119, '95': 256, 'diverted': 2254, 'ethiopian': 2597, 'silent': 6409, 'rebellion': 5757, 'scanning': 6184, 'manchester': 4351, 'flight': 2927, 'retain': 5964, 'looks': 4253, 'inward': 3826, 'mall': 4338, 'culture': 1881, 'posters': 5396, 'throws': 7018, 'grenade': 3229, 'holland': 3454, 'proposes': 5565, 'simply': 6414, 'english': 2540, 'outlets': 5025, 'shame': 6320, 'cahoots': 1205, 'scientologist': 6208, 'slave': 6450, 'alleges': 475, 'chained': 1366, 'disappointed': 2199, 'religious': 5860, 'organisation': 4990, 'start': 6622, 'accept': 302, 'bonkers': 1035, 'lessons': 4137, 'learnt': 4107, 'beard': 860, 'boards': 1012, 'plane': 5295, 'exploding': 2693, 'rid': 6008, 'penalty': 5176, 'spanish': 6536, 'organization': 4996, 'sgae': 6314, 'brings': 1115, 'outcome': 5018, 'p2p': 5054, 'networks': 4787, 'edonkey': 2430, 'bittorrent': 961, 'material': 4411, 'profit': 5522, 'completely': 1615, 'whoops': 7621, 'li': 4148, 'dems': 2076, 'restore': 5956, 'trampled': 7119, 'nick': 4807, 'clegg': 1496, 'teamed': 6909, 'fishing': 2909, 'critically': 1848, 'endangered': 2524, 'species': 6549, 'extinction': 2713, 'paedophilia': 5064, 'plainly': 5292, 'loudly': 4266, 'sinful': 6418, 'criminal': 1839, 'israels': 3862, 'fu': 3042, 'east': 2397, 'negotiation': 4766, 'ireport': 3839, 'comment': 1575, 'vetted': 7418, 'raise': 5694, 'awareness': 766, 'happening': 3323, 'thank': 6970, 'upvote': 7348, 'karmawhore': 3959, 'throwaway': 7014, 'xvi': 7735, 'defrock': 2039, 'priest': 5480, 'boys': 1069, 'receiving': 5765, 'letters': 4141, 'bishops': 957, 'pleading': 5319, 'pocketed': 5339, 'revenues': 5984, 'dealings': 1964, 'consortium': 1687, 'ui': 7239, 'corporation': 1760, 'efforts': 2445, 'connection': 1671, 'naval': 4744, 'sinking': 6424, 'board': 1010, 'torpedo': 7075, 'suspected': 6815, 'large': 4063, 'explosion': 2696, 'subway': 6740, 'economy': 2415, 'rushed': 6097, 'debate': 1970, 'fox': 3003, 'ripping': 6025, 'content': 1708, 'straight': 6685, 'depths': 2105, 'shin': 6347, 'bet': 922, 'mentioning': 4479, 'identifying': 3570, 'reporter': 5901, 'expose': 2702, 'reuters': 5975, 'shouldn': 6376, 'outraged': 5029, 'silenced': 6408, 'published': 5616, 'kyrgyz': 4033, 'overall': 5034, 'bishkek': 955, 'escape': 2577, 'kyrgyzstan': 4034, 'trust': 7183, 'aggregator': 415, 'political': 5355, 'bcg': 854, 'offered': 4918, 'diligent': 2176, 'effort': 2444, 'morally': 4629, 'nearly': 4755, 'immersion': 3612, 'propaganda': 5554, 'piiiiiiiissed': 5260, 'arrests': 644, 'crew': 1833, 'members': 4469, 'coal': 1522, 'trashed': 7139, 'barrier': 836, 'reef': 5800, 'finding': 2878, 'groups': 3244, 'males': 4336, 'executed': 2652, 'using': 7370, 'unfortunately': 7286, 'special': 6547, 'ops': 4975, 'entered': 2550, 'quarters': 5663, 'ied': 3578, 'dormitory': 2306, 'disruptive': 2238, 'volcano': 7476, 'talks': 6875, 'burials': 1171, 'sensitive': 6277, 'souls': 6519, 'explicit': 2690, 'bit': 959, 'turn': 7209, 'electorate': 2465, 'dollar': 2284, 'gt': 3252, 'firm': 2900, 'represent': 5905, 'prophet': 5560, 'sues': 6750, 'danish': 1927, 'newspapers': 4799, 'countersues': 1787, 'insulted': 3754, 'koran': 4020, 'demanding': 2061, 'passages': 5132, 'removed': 5875, 'burqas': 1181, 'appalls': 577, 'between': 926, 'forcing': 2963, 'discrimination': 2213, 'traffic': 7112, 'park': 5107, 'lost': 4262, 'bronze': 1128, 'medal': 4447, 'gymnast': 3276, 'proven': 5593, 'underage': 7269, 'belgium': 901, 'lower': 4271, 'veil': 7403, 'homosexuality': 3472, 'sin': 6416, 'soviets': 6528, 'leaking': 4100, 'wells': 7585, 'couldn': 1774, 'seal': 6226, 'nuked': 4868, 'greeks': 3225, 'struggle': 6710, 'status': 6635, 'emptied': 2506, 'abandoned': 263, 'vacations': 7377, 'jobs': 3913, 'bemoan': 910, 'difficult': 2172, 'humiliated': 3534, 'sabotaged': 6107, 'summit': 6770, 'recordings': 5785, 'spiegel': 6563, 'prevented': 5468, 'tackling': 6860, 'change': 1375, 'crucial': 1863, 'powerless': 5415, 'look': 4250, 'furious': 3063, 'mad': 4301, 'austerity': 735, 'gambling': 3085, 'losses': 4261, 'hey': 3408, 'sec': 6235, 'clears': 1494, 'murderer': 4697, 'apparently': 579, 'torturing': 7080, 'confessions': 1656, 'chilli': 1421, 'fireworks': 2898, 'always': 498, 'gordon': 3184, 'brown': 1136, 'stepping': 6647, 'labour': 4039, 'unfolds': 7285, 'slowly': 6457, 'gulf': 3268, 'denies': 2080, 'lgbt': 4147, 'documentarian': 2271, 'kiana': 3979, 'firouz': 2902, 'asylum': 699, 'deported': 2100, '300': 140, 'hanging': 3318, 'unrepentant': 7318, 'noise': 4829, 'kabul': 3956, 'chomsky': 1431, 'interrogators': 3790, 'written': 7722, 'suggested': 6758, 'find': 2877, 'likes': 4185, 'elvis': 2484, 'costello': 1771, 'santana': 6152, 'cancel': 1242, 'supporting': 6789, 'academic': 298, 'crackdown': 1812, 'paintings': 5072, 'picasso': 5246, 'matisse': 4414, 'artists': 657, 'art': 649, 'paris': 5105, 'challenged': 1370, 'intention': 3769, 'muhammad': 4683, 'veteren': 7417, 'satirist': 6160, 'zapiro': 7768, 'newstands': 4800, 'sell': 6264, 'warheads': 7516, 'apartheid': 568, 'kenyan': 3967, 'judges': 3937, 'rule': 6082, 'nare': 4730, 'discriminatory': 2214, 'unconstitutional': 7262, 'severs': 6309, 'norway': 4845, '1bn': 79, 'forests': 2970, 'indonesia': 3678, 'whoever': 7617, 'sank': 6150, 'warship': 7530, 'details': 2133, 'flotilla': 2935, 'incident': 3643, 'bigger': 936, 'strategic': 6689, 'implications': 3625, 'produced': 5512, 'stratfor': 6690, 'global': 3159, 'harm': 3333, 'comes': 1569, 'serious': 6288, 'consequences': 1676, 'lift': 4174, 'repeating': 5893, '1947': 60, 'refugees': 5813, 'boarded': 1011, 'wounding': 7711, 'pr': 5417, 'paved': 5156, 'founding': 3000, 'indian': 3665, 'executives': 2657, 'removing': 5877, 'haaretz': 3280, 'infographic': 3704, 'tallest': 6876, 'mountains': 4655, 'deepest': 2012, 'trench': 7154, 'deepwater': 2013, 'horizon': 3488, 'drilling': 2342, 'depth': 2104, 'supremo': 6794, 'labyrinth': 4040, 'horrifying': 3493, 'bodyguard': 1019, 'abby': 267, 'sutherland': 6824, 'sailor': 6122, 'dares': 1931, 'solved': 6499, 'soon': 6511, 'restricted': 5960, 'retention': 5967, 'activity': 344, 'passports': 5139, 'bp': 1070, 'doing': 2283, 'pretty': 5466, 'demolish': 2066, 'homeowners': 3465, 'alternative': 494, 'proposal': 5563, 'razed': 5734, 'discussed': 2216, 'alleged': 473, 'mossad': 4644, 'adversely': 381, 'affect': 393, 'relations': 5847, 'berlin': 915, 'far': 2777, 'obtaining': 4897, 'murder': 4695, 'persecution': 5206, 'beacon': 858, 'internationally': 3784, 'perpetrator': 5204, 'atrocities': 711, 'dying': 2378, 'secretive': 6241, 'train': 7116, 'armies': 634, 'southern': 6524, 'mineral': 4549, 'sanctions': 6146, 'legalizes': 4125, 'marry': 4391, 'partner': 5124, 'castration': 1307, 'punishment': 5631, 'seeks': 6255, 'opinion': 4964, 'repealed': 5890, 'seems': 6257, 'quite': 5675, 'detractors': 2145, 'already': 492, 'tactics': 6861, 'improve': 3634, 'suffered': 6753, 'severe': 6307, 'facial': 2738, 'burns': 1179, 'drops': 2356, 'veteran': 7415, 'editor': 2426, 'twitter': 7223, 'mourning': 4658, 'pro': 5502, 'hezbollah': 3409, 'adulterer': 376, 'stoning': 6671, 'bangladesh': 814, 'refusing': 5819, 'bribes': 1106, 'relatives': 5850, 'pursue': 5641, 'ok': 4933, 'long': 4246, 'hottest': 3508, 'record': 5782, 'according': 311, 'nasa': 4731, 'hotter': 3507, 'keeping': 3963, 'records': 5786, 'grant': 3209, 'marriages': 4389, 'heterosexual': 3406, 'unions': 7297, 'gadget': 3072, 'makersincluding': 4325, 'hp': 3518, 'applemay': 591, 'raw': 5731, 'ingredients': 3713, 'genocidal': 3122, 'militias': 4539, 'movement': 4662, 'begun': 885, 'trace': 7101, 'rare': 5718, 'metals': 4497, 'mines': 4552, 'victory': 7425, 'founder': 2998, 'julian': 3941, 'assange': 674, 'knows': 4018, 'designer': 2119, 'sunglasses': 6775, 'consensual': 1674, 'introduced': 3801, 'daniel': 1926, 'pushing': 5644, '2009': 88, 'user': 7367, 'co': 1520, 'logs': 4241, 'massive': 4403, 'leak': 4097, 'files': 2856, 'exposes': 2704, 'interview': 3796, 'wide': 7627, 'discrepancy': 2212, '2006': 85, 'insurgent': 3758, 'newly': 4795, 'weren': 7589, 'catalonia': 1311, 'bullfighting': 1164, 'landmark': 4056, 'fundamental': 3057, 'shamed': 6321, 'grilling': 3234, 'coach': 1521, 'punished': 5629, 'betraying': 924, 'lightly': 4180, 'withdraw': 7664, 'weekend': 7575, 'imprisoned': 3632, 'hikers': 3424, 'bargaining': 832, 'chips': 1426, 'unjust': 7304, '28': 133, 'felipe': 2818, 'agrees': 422, 'discuss': 2215, 'wrote': 7725, 'though': 7000, 'detention': 2141, 'pentagon': 5185, 'demands': 2062, '90': 248, 'methinks': 4503, 'works': 7694, '800': 232, 'wildfires': 7638, 'ignited': 3581, 'heat': 3372, 'wave': 7550, 'claimed': 1475, '52': 185, 'thus': 7022, 'responsibility': 5950, 'consumes': 1698, 'responsible': 5951, 'educating': 2433, 'socioeconomic': 6486, 'context': 1711, 'production': 5515, 'distribution': 2247, 'vicente': 7421, 'super': 6777, 'rejected': 5842, 'invitation': 3821, 'gates': 3099, 'warren': 7527, 'buffett': 1149, 'pledge': 5323, 'fortune': 2986, 'criticized': 1850, 'millionaires': 4544, 'donations': 2297, 'replace': 5894, 'duties': 2376, 'carried': 1287, 'pedophiles': 5172, 'inquest': 3727, 'kelly': 3965, 'casting': 1305, 'destruction': 2128, 'satellite': 6156, 'extent': 2710, 'flooding': 2930, 'vs': 7490, 'noam': 4826, 'enables': 2513, 'host': 3499, 'place': 5284, 'several': 6306, 'servers': 6292, 'campaigns': 1231, 'joint': 3920, 'taxpayers': 6902, 'pick': 5247, 'tab': 6856, 'hospitals': 3498, 'maim': 4312, 'arabian': 607, 'mans': 4362, 'spinal': 6568, 'cord': 1754, 'ceo': 1357, 'scandinavian': 6182, 'megabank': 4461, 'crash': 1817, 'treated': 7147, 'differently': 2171, 'firms': 2901, 'jam': 3883, 'criminalization': 1842, 'hiv': 3443, 'synagogue': 6849, 'squarely': 6598, 'center': 1350, 'heart': 3370, 'pride': 5479, 'downtown': 2321, 'beirut': 899, 'vietnam': 7430, 'adopts': 371, 'washington': 7535, 'interventionist': 3795, 'gen': 3113, 'vinh': 7445, 'reconfirmed': 5780, 'pillars': 5264, 'vietnams': 7431, 'joining': 3918, 'alliances': 477, 'becoming': 872, 'ally': 484, 'set': 6297, 'bases': 841, 'offset': 4928, 'spate': 6540, 'negative': 4762, 'stories': 6681, 'combatant': 1565, 'willing': 7644, 'sweeping': 6837, 'concession': 1638, 'dividing': 2257, 'pact': 5060, 'demand': 2059, 'remain': 5862, 'undivided': 7279, 'associated': 690, 'standards': 6615, 'staff': 6604, 'uncritically': 7265, 'suggestions': 6761, 'situation': 6433, 'different': 2170, 'climbing': 1503, 'mt': 4674, 'kilimanjaro': 3990, 'charity': 1396, 'bidding': 934, 'peak': 5168, 'squander': 6596, 'opportunity': 4969, 'upvotes': 7349, 'awesome': 768, 'harvesting': 3341, 'crops': 1854, 'market': 4385, 'fetching': 2831, 'firewood': 2897, 'loved': 4269, 'insurgents': 3759, 'captive': 1266, 'tweets': 7220, 'whereabouts': 7604, 'weary': 7565, 'debates': 1971, 'legalizing': 4126, 'suggestion': 6760, 'percolating': 5194, 'exhausted': 2662, 'runaway': 6089, 'violence': 7453, 'renowned': 5883, 'harbouring': 3328, 'imf': 3608, 'fears': 2803, 'social': 6484, 'dawkins': 1946, 'fry': 3039, 'pratchett': 5427, 'sources': 6522, 'confirmed': 1658, 'morning': 4633, 'tel': 6924, 'aviv': 757, 'accidentally': 308, 'yr': 7766, 'instantly': 3746, 'egyptian': 2451, 'manipulate': 4355, 'attempt': 717, 'mubarak': 4676, 'spoiler': 6572, 'shopped': 6366, 'wounded': 7710, 'infantry': 3691, 'unit': 7298, 'fights': 2849, 'ambush': 506, 'kunar': 4027, 'province': 5599, 'bullet': 1162, 'helmet': 3388, 'direct': 2187, 'rail': 5690, 'frankfurt': 3013, 'journey': 3932, 'insinuating': 3735, 'reserve': 5928, 'moment': 4606, 'assassins': 678, 'queen': 5666, 'poverty': 5410, 'fund': 3056, 'buckingham': 1144, 'palace': 5075, 'source': 6521, 'nations': 4737, 'tapes': 6884, 'describe': 2108, 'servicemen': 6294, 'sport': 6579, 'finish': 2886, 'reparation': 5888, 'websites': 7569, 'scandinavia': 6181, 'combating': 1566, 'suspects': 6816, 'mainsteam': 4314, 'panama': 5084, 'tycoon': 7225, '50m': 184, 'poor': 5367, 'millionaire': 4543, 'denying': 2088, 'evolution': 2631, 'warming': 7518, 'study': 6716, 'effect': 2438, 'prostitution': 5576, 'improvement': 3635, 'hungarian': 3537, 'sludge': 6458, 'spill': 6566, 'reaches': 5740, 'danube': 1928, 'river': 6034, 'prize': 5501, 'liu': 4215, 'xiaobo': 7733, '33': 148, 'trapped': 7137, 'chilean': 1420, 'miners': 4551, 'moved': 4661, 'profiting': 5526, 'expense': 2680, 'drawing': 2338, 'share': 6325, 'proceeds': 5508, 'ordeal': 4982, 'business': 1185, 'thursday': 7021, 'dublin': 2366, 'brian': 1103, 'lenihan': 4132, 'allied': 478, 'bought': 1057, '832': 239, 'miner': 4548, 'hoisted': 3446, '33rd': 150, 'rescued': 5923, 'absolutely': 288, 'astounded': 696, 'managed': 4345, 'pull': 5621, 'funding': 3060, 'blacklisting': 965, 'decision': 1985, 'moneybookers': 4612, 'collects': 1548, 'whistleblowing': 7612, 'damn': 1921, 'engineer': 2538, 'unemployment': 7280, 'lowest': 4273, 'income': 3649, 'inequality': 3688, 'healthcare': 3365, 'expectancy': 2673, 'low': 4270, 'infant': 3690, 'mortality': 4638, 'numeracy': 4872, 'literacy': 4208, 'incarceration': 3641, 'homicides': 3469, 'mental': 4477, 'illness': 3600, 'beats': 866, 'mile': 4534, 'elects': 2470, 'mayor': 4424, 'page': 5065, 'featured': 2805, 'homosexuals': 3473, 'bright': 1110, 'yellow': 7744, 'banner': 823, 'alongside': 488, 'addresses': 357, 'crocodile': 1852, 'passengers': 5135, 'karzai': 3960, 'receives': 5764, 'cash': 1300, 'presidential': 5460, 'expects': 2676, 'provides': 5597, 'bags': 792, 'ruinous': 6080, 'lawsuits': 4085, 'bombshell': 1031, 'cambodians': 1219, 'funded': 3059, 'saves': 6168, 'attacking': 715, 'grabbing': 3201, 'tail': 6865, 'sink': 6423, 'bottom': 1056, 'surface': 6795, 'boat': 1013, 'storey': 6680, 'fall': 2759, 'unharmed': 7288, 'bounces': 1059, 'cafe': 1203, 'awning': 769, 'passing': 5137, 'shoppers': 6367, 'pulling': 5623, 'copies': 1744, 'adbusters': 352, 'magazine': 4306, 'shelves': 6340, 'congress': 1667, 'cjc': 1473, 'semitism': 6267, 'photographs': 5240, 'ghettos': 3140, 'couple': 1794, 'jackpot': 3878, 'passenger': 5134, 'observed': 4892, 'caucasian': 1319, 'appeared': 584, 'subject': 6727, 'attended': 722, 'washroom': 7536, 'emerged': 2495, 'asian': 664, 'early': 2388, '20s': 101, 'knowingly': 4016, 'statements': 6631, 'opponent': 4966, 'risk': 6029, 'void': 7474, 'noticed': 4853, 'heavy': 3376, 'horrifically': 3492, 'theyre': 6986, 'easily': 2396, 'numbers': 4871, 'yet': 7750, 'handle': 3313, 'lightweight': 4181, 'indoctrinated': 3676, 'capacity': 1260, 'loyalty': 4274, 'barbarism': 829, 'exceeds': 2641, 'adults': 379, 'premier': 5445, 'indispensable': 3673, 'censored': 1345, 'cyber': 1902, 'stay': 6636, 'classy': 1487, 'boris': 1045, 'johnson': 3915, 'cant': 1256, 'authorise': 740, 'wests': 7594, 'spread': 6586, 'achieved': 323, 'vile': 7439, 'means': 4439, 'getting': 3138, 'groped': 3240, 'tsa': 7188, 'bother': 1051, 'finland': 2889, 'catch': 1314, 'watching': 7544, 'remand': 5864, 'local': 4227, 'advises': 387, 'tour': 7088, 'texas': 6963, 'tim': 7036, 'berners': 917, 'lee': 4115, 'creator': 1828, 'defend': 2025, 'fragmented': 3008, 'islands': 3854, 'apple': 590, 'facebook': 2734, 'artillery': 655, 'maritime': 4382, 'prompting': 5551, '29': 137, 'pike': 5261, 'mine': 4547, 'deployed': 2096, 'schoolchildren': 6200, 'whitehall': 7614, 'traditional': 7110, 'toothless': 7069, 'reduced': 5798, 'jo': 3912, 'properly': 5557, 'ecuador': 2421, 'offers': 4919, 'wikileak': 7632, 'residency': 5930, 'questions': 5670, 'declaring': 1991, 'outlandish': 5021, 'secrecy': 6238, 'bradley': 1073, 'manning': 4361, 'solider': 6496, 'vanishes': 7390, 'removes': 5876, 'dns': 2263, 'razor': 5735, '1911': 57, 'recent': 5766, 'mirroring': 4570, 'free': 3017, 'journalism': 3929, 'remind': 5870, 'collective': 1546, 'persecuted': 5205, 'amnesty': 516, 'abuses': 295, 'mc': 4426, 'hammered': 3307, 'mastercard': 4405, 'downed': 2315, 'ddos': 1955, 'overnight': 5039, 'payment': 5160, 'sue': 6748, 'visa': 7462, 'lula': 4282, 'blaming': 973, 'disclosed': 2203, 'blamed': 972, 'copycats': 1749, 'popping': 5374, 'indoleaks': 3677, 'brusselsleaks': 1139, 'balkanleaks': 801, 'cameraman': 1223, 'baghdad': 791, 'delays': 2046, 'hotel': 3504, 'suggest': 6757, 'colluded': 1551, 'conditions': 1648, 'glenn': 3157, 'greenwald': 3228, 'salon': 6134, 'com': 1562, 'paypal': 5162, 'instruments': 3752, 'stallman': 6610, 'hacking': 3287, 'equivalent': 2569, 'demonstration': 2072, 'enable': 2511, 'registered': 5827, 'defiance': 2032, 'mirror': 4569, 'rejects': 5844, 'downloading': 2319, 'revealed': 5977, 'bullied': 1165, 'investigating': 3813, 'wikilleaker': 7634, 'cpl': 1810, 'brad': 1071, 'pre': 5430, 'usa': 7361, 'labelled': 4035, 'engages': 2535, 'deserving': 2116, 'bogus': 1022, 'gag': 3074, 'pointless': 5343, 'polls': 5360, 'influence': 3700, 'lancet': 4050, 'demonstrates': 2070, 'clear': 1491, 'scientific': 6205, 'opposes': 4972, 'advisory': 388, 'misuse': 4585, 'piracy': 5275, 'villager': 7441, 'speaking': 6544, 'except': 2642, 'netizens': 4784, 'truck': 7177, 'threatens': 7008, 'cable': 1200, 'july': 3942, '1990': 73, 'ambassador': 505, 'april': 603, 'glaspie': 3155, 'kuwait': 4030, 'friendship': 3032, 'punja': 5632, 'governor': 3196, 'salman': 6133, 'taseer': 6892, 'assassinated': 676, 'islamabad': 3850, 'functioning': 3055, 'level': 4142, 'consistent': 1686, 'avoiding': 760, 'nationwide': 4738, 'egypt': 2449, 'attend': 721, 'coptic': 1747, 'murrow': 4702, 'leonid': 4135, 'parfyonov': 5104, 'stunning': 6721, 'television': 6929, 'watch': 7542, 'audience': 732, 'listened': 4205, 'deadpan': 1959, 'loud': 4264, 'uh': 7238, 'brisbane': 1117, 'au': 728, 'cities': 1460, 'washed': 7533, 'floods': 2931, 'toll': 7057, 'rising': 6028, 'succeeded': 6741, 'pesticides': 5218, 'increasing': 3655, 'yields': 7753, 'incomes': 3650, 'diversifying': 2252, 'farming': 2781, 'systems': 6855, 'project': 5539, 'promoting': 5549, 'sustainable': 6823, 'practices': 5420, 'aussie': 734, 'lanka': 4059, 'probably': 5503, 'mauritanian': 4418, 'issue': 3864, 'genital': 3121, 'mutilation': 4713, 'fgm': 2835, 'thousand': 7002, 'israelis': 3861, 'protested': 5582, 'waving': 7552, 'came': 1221, 'policies': 5352, 'disclosures': 2205, 'significant': 6403, 'precisely': 5434, 'govt': 3197, 'deceit': 1978, 'wrongdoing': 7724, 'deliberately': 2054, 'wildly': 7641, 'misconduct': 4571, 'central': 1352, 'institutions': 3749, 'parties': 5122, 'treasury': 7146, 'boss': 1049, 'blast': 977, 'rocks': 6047, 'main': 4313, 'tunisia': 7199, 'riots': 6023, 'cairo': 1206, 'residents': 5932, 'passwords': 5140, 'wi': 7625, 'fi': 2836, 'routers': 6069, 'communicate': 1591, 'violently': 7455, 'smooth': 6469, '100s': 15, 'blackout': 967, 'faxing': 2797, 'cables': 1201, 'enabled': 2512, 'feature': 2804, 'voice': 7473, 'demonstrators': 2074, 'tahrir': 6863, 'square': 6597, 'concessions': 1639, 'insufficient': 3753, 'reverse': 5986, 'crtc': 1862, 'billing': 941, 'ub': 7231, 'horrific': 3491, 'diplomatic': 2184, 'streets': 6692, 'jan': 3886, 'einstein': 2456, 'honey': 3478, 'bee': 873, 'telegraph': 6925, 'runs': 6092, 'overpowered': 5040, 'tipped': 7042, 'bow': 1064, 'march': 4374, 'together': 7050, 'pm': 5334, 'silvio': 6411, 'suspends': 6820, 'antartic': 553, 'whaling': 7599, 'dramatic': 2333, 'departure': 2090, 'longstanding': 4249, 'intends': 3767, 'resolutions': 5940, 'censuring': 1347, 'revolutionary': 5992, 'commanding': 1574, 'assurances': 693, 'required': 5918, 'open': 4953, 'quake': 5661, 'christchurch': 1440, 'listening': 4206, 'gadaffi': 3070, 'batshit': 848, 'insane': 3729, 'libya': 4158, 'rebel': 5756, 'tripoli': 7167, 'ghostly': 3141, 'marauding': 4373, 'hotrod': 3506, 'sometimes': 6507, 'indiscriminately': 3672, 'mercenaries': 4484, 'hired': 3432, 'immune': 3617, 'clause': 1488, 'resolution': 5939, 'demanded': 2060, 'insanely': 3730, 'slums': 6460, 'king': 4003, 'bahrain': 793, 'referring': 5806, 'engaging': 2536, 'guerilla': 3263, 'bazookas': 852, 'losing': 4259, 'planet': 5297, 'pink': 5269, 'floyd': 2938, 'roger': 6049, 'waters': 7549, 'joins': 3919, 'divestment': 2255, 'bds': 855, 'seedbox': 6251, '172': 49, 'savings': 6170, 'proposed': 5564, 'exercise': 2660, 'charade': 1389, 'appease': 587, 'strong': 6705, 'curry': 1893, 'favour': 2795, 'cameron': 1225, 'dissident': 2240, 'creates': 1823, 'documentation': 2273, 'mark': 4383, 'zuckerberg': 7781, 'profile': 5521, 'dalai': 1914, 'lama': 4048, 'citing': 1462, 'tibetan': 7028, 'deserve': 2114, 'freely': 3021, 'northeastern': 4842, 'links': 4199, 'sites': 6431, 'crashing': 1819, 'sendai': 6271, 'aches': 321, 'forget': 2972, 'homepage': 3466, 'boom': 1041, 'stuff': 6718, 'increasingly': 3656, 'relied': 5856, 'sector': 6246, 'concentrated': 1630, 'manufacturing': 4367, 'adrift': 373, 'pacific': 5056, 'photographed': 5237, 'specialist': 6548, '3rd': 161, 'class': 1483, 'dylan': 2379, 'mccord': 4429, 'unarmed': 7254, 'operating': 4959, 'nsfw': 4862, 'based': 840, 'heads': 3362, 'mi5': 4513, 'cps': 1811, 'contempt': 1706, 'nakba': 4721, 'punish': 5627, 'reference': 5803, '1948': 61, 'burma': 1174, 'classified': 1485, 'gadhafi': 3073, 'aide': 431, 'bodies': 1016, 'morgue': 4632, 'holder': 3448, 'announce': 542, 'emerge': 2494, 'stood': 6672, 'knelt': 4012, 'mud': 4678, 'brick': 1107, 'exploded': 2692, 'opened': 4954, 'repeatedly': 5892, 'm4': 4292, 'carbine': 1272, 'star': 6619, 'emirates': 2498, 'drugged': 2361, 'earliest': 2387, 'writings': 7721, 'existence': 2666, 'jordanian': 3926, 'cave': 1325, 'occasions': 4898, 'axe': 770, 'murdering': 4698, 'rampage': 5702, 'justified': 3952, 'mo': 4589, 'florida': 2934, 'pastor': 5143, 'terry': 6955, 'jones': 3923, 'recognize': 5775, 'sovereign': 6526, 'jenin': 3899, 'agency': 410, 'skull': 6442, 'dated': 1940, '684': 210, 'exceptionally': 2643, 'preserved': 5456, 'waterlogged': 7548, 'pit': 5280, 'oldest': 4935, 'intact': 3761, 'asia': 663, 'ancient': 529, 'brains': 1075, 'surfing': 6797, 'diplomat': 2183, 'denied': 2078, 'invalid': 3805, 'legalized': 4124, 'jamaica': 3884, 'decriminalizing': 2007, 'execute': 2651, 'behead': 890, 'mutilate': 4712, 'surrender': 6803, 'eurosceptic': 2607, 'opposed': 4971, 'immigration': 3615, 'bailouts': 797, 'struggling': 6712, 'fifth': 2843, 'countrys': 1792, 'general': 3114, 'castro': 1308, 'resigns': 5935, 'cuban': 1875, 'communist': 1596, 'cubans': 1876, '1959': 64, 'controversial': 1729, 'filesharing': 2857, 'urgency': 7353, 'restrepo': 5958, 'chris': 1439, 'hondros': 3475, 'misurata': 4584, 'syrian': 6851, 'til': 7035, 'fukushima': 3049, 'eat': 2401, 'meals': 4437, 'crackers': 1813, 'breakfast': 1090, 'packet': 5059, 'rice': 5999, 'chicken': 1415, 'dinner': 2179, 'evenings': 2615, 'gather': 3100, 'cheer': 1407, 'clap': 1480, 'sleep': 6452, 'floor': 2932, 'fatah': 2789, 'reconciliation': 5779, 'factions': 2744, 'form': 2978, 'interim': 3780, 'date': 1939, 'famous': 2773, 'beloved': 908, 'artist': 656, 'ai': 429, 'weiwei': 7580, 'erased': 2571, 'hope': 3484, 'outcry': 5019, 'dropping': 2355, 'concrete': 1643, 'bombs': 1030, 'bin': 948, 'laden': 4043, 'sony': 6509, 'breach': 1086, 'theft': 6974, '25m': 122, 'referendum': 5805, 'bankers': 818, 'hedge': 3379, 'managers': 4348, 'vet': 7414, 'unanimously': 7253, 'gangs': 3090, 'mexicans': 4508, 'organised': 4993, 'salary': 6131, 'entertainment': 2552, 'industries': 3684, 'supports': 6790, 'lewp': 4144, 'firewall': 2896, 'censor': 1344, 'block': 990, 'illicit': 3597, 'rallying': 5700, 'revokes': 5988, '140': 34, 'temporarily': 6935, '1967': 67, 'vacation': 7376, 'targeted': 6889, 'plo': 5325, 'cams': 1234, 'raid': 5686, 'cbs': 1327, 'evening': 2614, 'defied': 2034, 'fill': 2859, 'inflatable': 3698, 'explosives': 2699, 'mannequins': 4360, 'sea': 6224, 'filipino': 2858, 'excommunication': 2649, 'condoms': 1650, 'tepco': 6941, 'crippled': 1844, 'daiichi': 1912, 'plant': 5302, 'pensioners': 5183, 'younger': 7758, 'papers': 5090, 'manslaughter': 4363, 'ian': 3559, 'tomlinson': 7060, '17': 47, 'pyramids': 5653, 'survey': 6807, 'infra': 3707, 'detect': 2137, 'underground': 7271, 'buildings': 1155, 'ratko': 5729, 'mladi': 4587, 'agribusiness': 423, 'swaths': 6828, 'rainforest': 5693, 'archaeologists': 612, 'sealed': 6227, 'tunnel': 7201, 'underneath': 7272, 'teotihuacan': 6940, 'temple': 6934, 'qaeda': 5655, 'cupcake': 1883, 'hacked': 3284, 'instructions': 3750, 'recipe': 5769, 'cupcakes': 1884, 'plants': 5304, '2022': 100, 'reactors': 5744, 'f1': 2729, 'bernie': 918, 'ecclestone': 2410, 'grand': 3206, 'prix': 5500, 'cancelled': 1246, 'objected': 4884, 'anchor': 528, 'monks': 4618, 'rounded': 6065, 'monastery': 4609, 'cartels': 1292, 'notch': 4850, 'trafficker': 7113, 'gladiatorlike': 3154, 'lulzsec': 4283, 'condemn': 1644, 'violate': 7447, 'canuck': 1258, 'stanley': 6618, 'lone': 4244, 'rioters': 6021, 'crossposted': 1859, 'oceans': 4906, 'shocking': 6358, 'decline': 1994, 'mastermind': 4406, 'substitute': 6738, 'addicts': 354, 'holds': 3450, 'closed': 1511, 'door': 2302, 'meetings': 4460, 'amsterdam': 523, 'foreigners': 2967, 'purchase': 5637, 'increase': 3653, 'smuggled': 6471, 'begging': 881, 'famine': 2772, 'kosher': 4025, 'halal': 3296, 'animal': 537, 'slaughter': 6448, 'slashes': 6447, 'rations': 5728, '150': 39, 'grams': 3205, 'hundred': 3535, 'produces': 5514, '350': 154, 'calories': 1217, 'literature': 4210, 'brutal': 1140, 'defected': 2021, 'hurt': 3547, 'industry': 3685, 'term': 6943, 'environmental': 2561, 'era': 2570, 'eyes': 2727, 'kidney': 3987, 'tortured': 7079, 'failing': 2749, 'praise': 5425, 'withholding': 7668, '800m': 235, 'reach': 5738, 'standstill': 6617, 'rupert': 6094, 'murdoch': 4700, 'gathering': 3102, 'pace': 5055, 'simple': 6413, 'invention': 3809, 'bottle': 1053, 'teaspoons': 6913, 'bleach': 983, 'bringing': 1114, 'philippines': 5230, 'colombian': 1555, 'colonel': 1557, '57': 189, 'dressed': 2340, 'uniforms': 7291, 'pushed': 5643, 'exceed': 2640, 'organisations': 4991, 'granted': 3210, 'rebekah': 5755, 'brooks': 1130, 'parliamentary': 5111, 'scotland': 6218, 'yard': 7740, 'response': 5948, 'oslo': 5006, 'firsthand': 2905, 'utya': 7375, 'crosspost': 1858, 'linux': 4200, 'expectation': 2674, 'anonymity': 547, 'ruling': 6085, 'superior': 6778, 'advertisements': 382, 'misleading': 4573, 'undergo': 7270, 'regular': 5829, 'tests': 6962, 'assuming': 692, 'metropolitan': 4506, 'tech': 6914, 'deleted': 2049, 'emails': 2487, 'negotiate': 4764, '67': 209, 'lines': 4193, 'sydney': 6845, 'defuse': 2040, 'strapped': 6688, 'recognition': 5774, 'software': 6489, 'violates': 7449, 'network': 4786, 'programme': 5531, 'delete': 2048, 'collected': 1545, 'fines': 2882, 'slaughtered': 6449, 'sheep': 6333, 'plainclothes': 5291, 'randomly': 5707, 'besieged': 920, 'hama': 3304, 'burying': 1182, 'gardens': 3094, 'venture': 7408, 'cemeteries': 1342, 'nhs': 4805, 'developed': 2148, 'efficient': 2443, 'looting': 4255, 'areas': 618, 'broad': 1122, 'daylight': 1950, 'expected': 2675, 'birmingham': 951, 'rioting': 6022, 'darcus': 1930, 'howe': 3517, 'writer': 7718, 'play': 5312, 'handing': 3312, 'agencies': 409, 'protection': 5580, 'apart': 567, 'communities': 1597, 'values': 7384, 'stealth': 6641, 'chopper': 1434, 'sparking': 6538, 'demonstrations': 2073, 'throughout': 7013, 'orders': 4986, 'isps': 3858, 'leakymails': 4102, 'blogspot': 998, 'relevant': 5855, 'exposing': 2705, 'powerful': 5414, 'unmask': 7310, 'returned': 5971, '78': 228, 'hefty': 3380, 'yen': 7747, 'owners': 5050, 'ethical': 2595, 'jack': 3876, 'layton': 4090, 'lehman': 4130, 'brothers': 1134, 'bankruptcy': 820, 'governments': 3195, 'missed': 4575, 'regulate': 5830, 'matter': 4416, 'natural': 4741, 'lair': 4044, 'album': 460, 'condoleezza': 1649, 'diplomacy': 2182, 'achieve': 322, 'goals': 3168, 'luxury': 4290, 'lurk': 4287, 'compound': 1619, 'doctors': 2269, 'farms': 2782, 'billionth': 946, 'congressman': 1668, 'providing': 5598, 'advice': 384, 'cling': 1504, 'hackings': 3288, '870': 242, 'phones': 5233, 'tapped': 6885, 'schoolboy': 6199, 'prince': 5484, 'william': 7643, 'scope': 6213, 'ordinance': 4987, 'hostile': 3502, 'commissioned': 1579, 'lifetime': 4173, 'bisexual': 954, 'lifted': 4175, 'england': 2539, 'escort': 2581, 'vessel': 7413, 'spartacus': 6539, 'sand': 6148, 'aged': 408, 'tor': 7072, 'glimpse': 3158, 'projections': 5540, 'elections': 2463, 'accusation': 316, 'disclosure': 2204, 'edited': 2425, 'grower': 3246, 'broken': 1126, 'absolute': 287, 'particles': 5119, 'travelling': 7143, 'faster': 2786, 'continues': 1715, 'cement': 1341, 'flaunt': 2919, 'grip': 3237, 'hijacked': 3420, 'turkey': 7206, 'promoted': 5548, 'dealing': 1963, 'regards': 5821, 'japans': 3891, 'trillion': 7163, 'stake': 6607, 'tobacco': 7047, 'inc': 3638, 'rebuilding': 5759, 'fatty': 2791, 'products': 5517, 'fat': 2788, 'slim': 6454, 'disease': 2219, 'arranged': 640, 'lebanon': 4113, 'chaos': 1383, 'attempts': 719, 'resisted': 5938, 'saul': 6165, 'permutter': 5203, 'schmidt': 6194, 'adam': 351, 'riess': 6011, 'discovery': 2211, 'accelerating': 301, 'expansion': 2671, 'observations': 4891, 'distant': 2243, 'supernovae': 6782, 'mugged': 4682, 'metro': 4505, 'wikipedia': 7635, 'ddl': 1954, 'stage': 6605, 'eviction': 2627, 'jaffa': 3879, 'tape': 6883, 'shopping': 6368, 'centre': 1353, 'ads': 374, 'pipe': 5273, 'complaints': 1612, 'viewers': 7434, 'louder': 4265, 'programmes': 5532, 'interrupting': 3791, 'forgives': 2975, 'goldman': 3176, 'sachs': 6108, '10m': 22, 'pounds': 5409, 'interest': 3776, 'avoidance': 759, 'visits': 7467, 'ottawa': 5011, 'oblige': 4887, 'detain': 2134, 'investigate': 3812, 'norwegian': 4846, 'stance': 6612, 'bearing': 861, 'dilma': 2177, 'rousseff': 6067, 'ministers': 4559, 'elsewhere': 2483, 'tolerated': 7056, 'such': 6745, 'bribery': 1105, 'graft': 3204, 'acts': 347, 'tolerable': 7053, 'occupy': 4901, 'spreads': 6588, 'vaccine': 7380, 'malaria': 4329, 'capture': 1268, '700': 213, 'metres': 4504, 'excessive': 2644, 'mining': 4557, 'pays': 5163, 'sinister': 6422, 'insist': 3736, 'logo': 4240, 'underwater': 7278, 'directors': 2192, 'condemned': 1645, 'elite': 2479, 'greedy': 3223, '49': 178, 'rise': 6026, 'average': 755, 'inflation': 3699, 'unesco': 7281, 'shift': 6345, 'burden': 1168, 'corporations': 1761, 'celebrates': 1335, 'tangible': 6878, 'success': 6742, 'extradition': 2718, 'appeal': 580, 'proof': 5553, 'plots': 5327, 'phase': 5226, 'lightbulbs': 4178, 'inefficient': 3687, 'phased': 5227, 'cur': 1885, 'donation': 2296, 'globalhealth': 3160, 'wei': 7578, 'euros': 2606, 'sum': 6769, 'schizophrenic': 6192, 'ourselves': 5014, 'ebrard': 2409, 'california': 1210, 'decriminalize': 2005, 'argentine': 622, 'predictions': 5440, 'walk': 7502, 'homemade': 3462, 'rehabilitation': 5836, 'device': 2150, 'father': 2790, 'scottish': 6219, 'replaces': 5896, 'urban': 7350, 'jungle': 3947, 'hills': 3426, 'boulders': 1058, 'tunnels': 7202, 'period': 5198, 'fewer': 2834, 'accidents': 309, 'teen': 6918, 'ray': 5732, 'airports': 449, 'parting': 5123, 'ways': 7554, 'screen': 6222, 'millions': 4545, 'airline': 445, 'clothing': 1516, 'debating': 1972, 'creating': 1824, 'blacklist': 963, 'avaaz': 753, 'neutrinos': 4791, 'experiment': 2684, 'pile': 5262, 'spotted': 6583, 'surrounded': 6804, 'stifling': 6655, 'further': 3064, 'attempting': 718, 'whole': 7618, 'sun': 6771, 'sunday': 6773, 'lithuania': 4212, 'liquidated': 4202, 'waste': 7538, 'entrepreneur': 2556, '639': 203, 'hectares': 3378, 'sq': 6593, 'mi': 4512, 'investor': 3819, 'prejudice': 5443, 'limits': 4190, 'independence': 3662, 'ensure': 2546, 'benefit': 912, 'anders': 531, 'behring': 895, 'breivik': 1099, 'accountable': 314, 'psychiatrists': 5607, 'experiencing': 2683, 'disruption': 2237, 'services': 6295, 'closing': 1512, 'schools': 6202, 'virtual': 7459, 'cruise': 1866, 'overwhelmingly': 5046, 'prohibition': 5537, 'increased': 3654, 'alert': 464, 'petition': 5221, 'pardon': 5099, 'pioneer': 5272, 'awakening': 762, 'apolitical': 571, 'airs': 450, 'captured': 1269, 'coastguard': 1525, 'stabbed': 6601, 'fisherman': 2907, 'apprehend': 596, 'rock': 6045, 'revolt': 5989, 'wukan': 7728, 'denizens': 2082, 'shave': 6331, 'mohawks': 4599, 'punks': 5634, 'concert': 1637, 'indonesias': 3680, 'raided': 5687, 'punk': 5633, 'detained': 2135, '65': 205, 'buzzing': 1195, 'spiky': 6565, 'stripping': 6702, 'piercings': 5257, 'perceived': 5192, 'christopher': 1446, 'hitchens': 3439, '62': 199, 'burned': 1176, 'equal': 2564, 'galileo': 3081, 'assad': 673, 'desert': 2113, 'allegedly': 474, 'betrayed': 923, 'everything': 2624, 'volkswagen': 7477, 'reduce': 5797, 'blurring': 1008, 'nigh': 4813, 'fought': 2994, 'hide': 3412, 'medals': 4448, 'peru': 5214, 'shell': 6336, 'reign': 5838, 'implementing': 3623, 'gearing': 3111, 'wargames': 7515, 'strait': 6686, 'hormuz': 3489, 'renewable': 5881, 'owned': 5048, 'whalers': 7597, 'ultra': 7245, 'orthodox': 5003, 'gynecology': 3278, 'loggers': 4238, 'indigenous': 3670, 'citizen': 1463, 'mit': 4586, 'presence': 5452, 'marked': 4384, 'impact': 3619, 'adolescents': 367, 'career': 1278, 'educational': 2435, 'performance': 5196, '195': 62, 'tonnes': 7062, 'methamphetamine': 4502, 'captain': 1265, 'tripped': 7168, 'lifeboat': 4170, 'thailand': 6968, 'recognizes': 5776, 'branson': 1079, 'rick': 6006, 'falkvinge': 2758, 'restrict': 5959, 'repulsive': 5913, 'consumers': 1697, 'forever': 2971, 'comply': 1618, 'fidel': 2838, 'lambasted': 4049, 'republican': 5912, 'race': 5677, 'competition': 1608, 'idiocy': 3573, 'ignorance': 3583, 'donates': 2294, '750': 221, 'carlos': 1282, 'fuentes': 3047, 'robin': 6042, 'hood': 3483, 'acta': 334, 'mep': 4482, 'kader': 3957, 'arif': 627, 'lead': 4091, 'negotiator': 4768, 'cuts': 1899, 'lifesaving': 4171, 'generic': 3116, 'restricts': 5961, 'bulgarian': 1161, 'xpost': 7734, 'evolutionreddit': 2632, 'slovenia': 6455, 'apologizes': 573, 'signing': 6405, 'ljubljana': 4223, 'scans': 6185, 'flying': 2942, 'lake': 4046, 'vostok': 7480, 'cases': 1299, 'polio': 5354, 'charlotte': 1398, 'alone': 486, 'settle': 6300, 'singer': 6419, 'damaging': 1918, 'sued': 6749, 'suffers': 6755, 'neurological': 4788, 'problems': 5507, 'linked': 4196, 'providers': 5596, 'log': 4236, 'customers': 1896, 'provide': 5594, 'siding': 6393, 'pronographers': 5552, 'bulgaria': 1160, 'ratify': 5724, '309': 142, 'mask': 4398, 'counterfeit': 1783, 'bonds': 1032, 'thinking': 6993, 'memo': 4471, 'blows': 1004, 'lid': 4164, 'greek': 3224, 'undertaken': 7277, 'destroying': 2126, 'reforms': 5810, 'outrage': 5028, 'safer': 6118, 'guatemala': 3261, 'colombia': 1554, 'regional': 5825, 'trade': 7108, 'interpol': 3786, 'hackers': 3286, 'megaupload': 4463, 'defeats': 2018, 'antisec': 557, 'dumps': 2371, 'continued': 1714, 'earned': 2390, 'humanity': 3531, 'construction': 1693, 'leftist': 4117, 'troublesome': 7176, 'destroyed': 2125, 'ensured': 2547, 'unable': 7249, 'earn': 2389, 'devastated': 2146, 'file': 2853, 'downloaders': 2318, 'cp': 1809, 'download': 2317, 'seeing': 6252, 'desecration': 2112, 'aboriginal': 280, 'burial': 1170, 'swastikas': 6827, 'kkk': 4008, 'disgusting': 2222, 'concern': 1633, 'cruel': 1864, 'inhuman': 3716, 'slash': 6445, 'price': 5476, '97': 259, 'solar': 6491, 'villages': 7443, 'moroccans': 4634, 'penal': 5174, 'code': 1532, 'deterrent': 2144, 'amounting': 519, 'iranians': 3833, 'initiative': 3718, 'lt': 4276, 'potato': 5403, 'agricultural': 424, 'produce': 5511, 'directly': 2190, 'producers': 5513, 'pirating': 5279, 'extradited': 2717, 'secretary': 6240, 'theresa': 6982, 'approved': 600, 'visited': 7465, 'criticism': 1849, 'program': 5530, 'aims': 438, 'mariana': 4378, 'below': 909, 'corp': 1758, 'crippling': 1845, 'ramifications': 5701, 'colombias': 1556, 'americas': 512, 'failure': 2751, 'talk': 6873, 'speaks': 6545, 'favor': 2794, 'foxconn': 3004, 'agreed': 420, 'tackle': 6859, 'violations': 7451, 'assembling': 682, 'iphones': 3830, 'ipads': 3828, 'bred': 1097, 'criminals': 1843, 'draconian': 2325, 'gain': 3077, 'touted': 7093, 'sopa': 6512, 'cispa': 1459, 'include': 3646, 'warranting': 7526, 'murdochs': 4701, 'sky': 6443, 'troll': 7171, 'exactly': 2634, 'liam': 4151, 'stacey': 6602, 'nz': 4879, 'mysteriously': 4717, 'lose': 4257, 'launch': 4074, '24': 116, '48': 177, 'oxford': 5051, 'library': 4157, 'digitize': 2174, 'pages': 5067, 'texts': 6966, 'available': 754, 'el': 2458, 'salvador': 6137, 'saturday': 6161, 'homicide': 3468, 'auto': 750, 'parts': 5128, 'filed': 2854, 'complaint': 1611, 'accusing': 320, 'juarez': 3935, 'scheduled': 6190, 'testify': 6960, 'screaming': 6221, 'bombing': 1028, 'pulitzer': 5620, 'drifting': 2341, 'aboard': 276, 'injured': 3721, 'epic': 2562, 'upheld': 7337, 'rulings': 6086, 'iinet': 3589, 'infringements': 3710, 'sanction': 6145, 'authoritarian': 742, 'regimes': 5823, 'backed': 780, 'execs': 2650, 'unveiled': 7330, 'novartis': 4856, 'legally': 4127, 'annulled': 546, 'northern': 4843, 'rajasthan': 5697, '1st': 80, 'blind': 987, 'posts': 5399, 'limiting': 4189, 'organizations': 4997, 'conclude': 1640, 'therefore': 6980, 'fit': 2910, 'stewardship': 6652, 'motorcycle': 4653, 'washes': 7534, 'located': 4228, 'harley': 3332, 'davidson': 1945, 'emptive': 2508, 'facilities': 2740, 'vogue': 7472, 'skinny': 6439, 'models': 4593, 'abc': 268, 'broadcasting': 1124, 'worried': 7700, 'globe': 3162, 'amount': 518, 'trash': 7138, 'garbage': 3092, 'patch': 5145, 'fold': 2946, 'profound': 5528, 'changes': 1377, 'draft': 2326, 'crop': 1853, 'growing': 3247, 'coca': 1526, 'opium': 4965, 'poppies': 5373, 'schoolgirl': 6201, 'hemorrhage': 3394, 'donating': 2295, 'organs': 4999, 'ritchie': 6032, 'lived': 4218, 'gap': 3091, 'infamous': 3689, 'cliff': 1500, 'gone': 3178, 'named': 4724, '2011': 91, 'peacefully': 5166, 'wifi': 7631, 'liable': 4150, 'sharing': 6328, 'subjected': 6728, 'extraordinary': 2719, 'policemen': 5351, 'semitic': 6266, 'yemeni': 7746, 'parade': 5092, 'rehearsal': 5837, 'conversation': 1733, 'poachers': 5337, 'maharashtra': 4308, 'quebec': 5665, 'trampling': 7120, 'basic': 842, 'quash': 5664, 'wears': 7564, 'style': 6724, 'lawyers': 4087, 'courtroom': 1800, 'attire': 724, 'unconsitutional': 7261, 'unanimous': 7252, 'similar': 6412, 'cap': 1259, 'executive': 2656, 'mars': 4392, 'trip': 7166, 'eduard': 2431, 'khil': 3977, 'trololo': 7172, 'st': 6600, 'petersburg': 5220, '77': 226, 'lutheran': 4288, 'bradbury': 1072, 'visitors': 7466, 'forbids': 2959, 'tourism': 7089, 'indefinitely': 3661, 'banker': 817, 'ousted': 5015, 'involved': 3824, 'afraid': 398, 'gallup': 3084, 'priority': 5490, 'john': 3914, 'testifies': 6959, 'oppose': 4970, '1997': 76, 'pure': 5638, 'ecstacy': 2418, 'mdma': 4434, 'regulated': 5831, 'stores': 6679, 'lunches': 4284, 'wired': 7657, 'cipla': 1453, 'medicines': 4455, 'shaking': 6319, 'brave': 1081, 'jumps': 3945, 'plunge': 5332, 'flees': 2924, 'ecuadorian': 2422, 'blow': 1001, 'diversity': 2253, 'winning': 7652, 'unblocks': 7257, 'lonesome': 4245, 'galapagos': 3079, 'tortoise': 7077, 'zealanders': 7770, 'recreational': 5789, 'particularly': 5121, 'backing': 783, 'sexually': 6313, 'assaulted': 680, 'stripped': 6701, 'turned': 7211, 'humans': 3532, 'announcing': 545, 'bunch': 1167, 'individuals': 3675, 'process': 5509, 'creation': 1825, 'resale': 5921, 'licenses': 4163, 'fixed': 2913, 'rates': 5722, 'barclays': 831, 'bo': 1009, 'diamond': 2156, 'matt': 4415, 'taibbi': 6864, 'libor': 4156, 'deepens': 2011, 'damning': 1922, 'implicates': 3624, 'botswana': 1052, 'leatherback': 4109, 'turtle': 7215, 'eggs': 2448, 'crushed': 1869, 'trinidad': 7165, 'beach': 857, 'thestar': 6984, 'melinda': 4465, 'challenges': 1371, 'vowing': 7489, 'contraception': 1717, 'thirsty': 6997, 'coroner': 1757, 'patient': 5147, 'pleas': 5321, 'hoax': 3445, 'satirical': 6159, 'took': 7066, 'cervical': 1363, 'ja': 3875, 'opted': 4976, 'hpv': 3519, 'vaccination': 7379, 'pupils': 5635, 'follow': 2948, 'strict': 6695, 'principles': 5486, 'practise': 5422, 'portugal': 5384, 'decreases': 1998, 'lenovo': 4133, 'distributes': 2246, 'bonus': 1037, '32': 145, 'offshore': 4929, 'roughly': 6063, 'gdp': 3109, 'combined': 1567, '280bn': 134, 'hsbc': 3522, 'citigroup': 1461, 'ubs': 7232, 'credit': 1830, 'suisse': 6765, 'norwegians': 4847, 'reacted': 5741, 'openness': 4957, 'participation': 5117, 'gorillas': 3186, 'dismantling': 2224, 'snares': 6475, 'rwanda': 6103, 'francois': 3011, 'hollande': 3455, '75': 220, 'earners': 2391, 'deficit': 2033, 'ral': 5698, 'breaks': 1092, 'kwh': 4032, 'converted': 1734, 'installed': 3744, 'total': 7082, 'grids': 3232, 'fail': 2747, 'forgot': 2976, 'squad': 6594, 'authorizes': 747, 'hire': 3431, 'curiosity': 1888, 'rover': 6071, 'successfully': 6744, 'landed': 4052, 'liveblog': 4217, 'commercial': 1577, 'gold': 3174, 'copper': 1745, 'papua': 5091, 'guinea': 3266, 'seabed': 6225, 'vehement': 7400, 'objections': 4885, 'nautilus': 4743, 'minerals': 4550, 'blacklisted': 964, 'wing': 7649, 'trouble': 7175, 'makers': 4324, 'sympathizers': 6848, 'recruits': 5791, 'sect': 6244, 'package': 5058, 'articles': 653, 'qantas': 5657, 'sitting': 6432, 'unaccompanied': 7251, 'seats': 6233, 'adult': 375, 'molester': 4603, 'ridicule': 6010, 'mission': 4579, '2013': 93, 'pussy': 5645, 'counsellor': 1779, '90k': 250, 'swim': 6839, 'ontario': 4949, 'degree': 2043, 'courses': 1798, 'assistance': 688, 'nicklinson': 4809, 'paralysed': 5096, 'neck': 4757, 'described': 2109, 'nightmare': 4816, 'mysterious': 4716, 'unknown': 7305, 'capsule': 1263, 'brevik': 1101, 'tuition': 7193, 'aimed': 436, 'otherwise': 5010, 'starve': 6627, 'steal': 6639, 'blunted': 1007, 'widespread': 7629, 'starvation': 6626, 'decade': 1975, 'deliver': 2055, 'harvests': 3342, 'plates': 5309, 'indias': 3667, 'hungriest': 3540, '270': 131, 'colleagues': 1543, 'fun': 3053, 'virus': 7461, 'eats': 2405, 'cheap': 1401, 'exquisitely': 2708, 'precise': 5433, 'mild': 4532, 'refrigerator': 5811, 'laboratory': 4038, 'knew': 4013, 'lies': 4167, 'evangelical': 2611, 'practicing': 5421, 'gp': 3198, 'prescribing': 5450, 'actress': 345, 'appearing': 585, 'numerous': 4873, 'actresses': 346, 'threats': 7009, 'coral': 1752, 'reefs': 5801, 'interference': 3779, 'textbooks': 6965, 'consulate': 1694, 'benghazi': 914, 'libyans': 4160, 'defending': 2027, 'cousulate': 1802, 'brotherhood': 1132, 'contradiction': 1721, 'brotherhoods': 1133, 'arabic': 608, 'postings': 5398, 'sustain': 6822, 'turbulence': 7203, 'events': 2617, 'egyptians': 2452, 'prophets': 5561, 'genetically': 3119, 'fracking': 3006, 'specifically': 6551, 'targets': 6891, 'mon810': 4608, 'maize': 4317, 'gmo': 3165, 'declassified': 1992, 'shake': 6318, 'gem': 3112, 'markets': 4387, 'core': 1755, 'vast': 7393, 'trillions': 7164, 'carats': 1271, 'uruguay': 7358, 'monopoly': 4619, 'mufti': 4680, 'endure': 2530, 'insults': 3756, 'angered': 533, 'mocking': 4592, 'mohammad': 4597, 'example': 2638, 'enduring': 2531, 'retaliating': 5966, 'highest': 3418, 'recommended': 5777, 'hillary': 3425, 'pony': 5365, 'politics': 5358, 'elites': 2480, 'everywhere': 2625, 'contribute': 1723, 'comet': 1570, 'predicted': 5439, 'blaze': 981, 'brighter': 1111, 'picks': 5251, 'onion': 4945, 'rural': 6095, 'prefer': 5441, 'bahraini': 794, 'mafia': 4305, 'tropics': 7174, 'logging': 4239, 'lion': 4201, 'rain': 5692, 'organized': 4998, 'grim': 3235, 'conclusion': 1642, 'maple': 4371, 'syrup': 6852, 'recovered': 5788, 'authorises': 741, 'chaplains': 1384, 'prisons': 5495, 'turning': 7212, 'casino': 1303, 'towards': 7095, 'malala': 4328, 'yousafzai': 7761, 'diary': 2157, 'wake': 7499, '2014': 94, 'eventual': 2618, 'breakup': 1094, 'impoverished': 3631, 'driven': 2347, 'fleet': 2925, 'unreported': 7319, 'unregulated': 7317, 'trawlers': 7144, 'ships': 6352, 'identified': 3569, 'licences': 4161, 'export': 2700, 'catches': 1315, 'exemption': 2659, 'extra': 2716, 'revenue': 5983, 'exempt': 2658, 'properties': 5558, 'hotels': 3505, 'restaurants': 5954, 'sports': 6580, 'centres': 1354, '5m': 192, 'rome': 6054, 'shadow': 6316, 'disguised': 2221, 'ceta': 1364, 'comparison': 1603, 'provisions': 5602, 'concerning': 1635, 'enforcement': 2533, 'harsh': 3339, 'damages': 1917, 'hacker': 3285, 'gary': 3096, 'mckinnon': 4432, 'fippa': 2891, 'investment': 3818, 'promotion': 5550, 'carvings': 1297, 'stone': 6669, 'moroccos': 4636, 'atlas': 706, 'salafists': 6127, 'prohibit': 5535, 'idolatry': 3577, 'depicted': 2092, 'divinity': 2259, 'plaque': 5305, 'predates': 5436, 'arrival': 645, 'phoenicians': 5231, 'morocco': 4635, '72': 216, 'pension': 5181, 'tunisian': 7200, 'stealing': 6640, 'tracks': 7107, 'stockholm': 6662, 'deportation': 2099, 'billionaire': 943, 'michigan': 4518, 'voters': 7484, 'reject': 5841, 'memorial': 4472, 'forgotten': 2977, 'holocaust': 3457, 'opens': 4958, 'gypsies': 3279, 'nazis': 4748, 'forward': 2989, 'ashok': 661, 'khemka': 3976, 'bureaucrat': 1169, 'transferred': 7125, '43': 170, 'determination': 2142, 'tolerate': 7055, 'incoming': 3651, 'ditches': 2251, 'weed': 7573, 'effectively': 2440, 'cafes': 1204, 'coffee': 1535, 'shops': 6369, 'builds': 1156, '60ft': 196, 'garden': 3093, 'invites': 3823, 'buffs': 1150, 'round': 6064, 'enactment': 2515, 'reaction': 5742, 'age': 407, 'harassers': 3326, 'wrath': 7714, 'vigilantes': 7437, 'emerging': 2497, 'protecting': 5579, 'shaming': 6322, 'viewed': 7433, 'negatively': 4763, 'measures': 4443, 'ahead': 426, 'buddhist': 1147, 'mes': 4490, 'aynak': 771, 'earlier': 2386, '63': 201, 'salute': 6136, 'fastest': 2787, 'surveyed': 6808, 'shirts': 6354, 'cheers': 1409, 'cry': 1870, 'reverberated': 5985, 'golden': 3175, 'dawn': 1947, 'savita': 6171, 'halappanavar': 3297, 'medically': 4451, 'unnecessary': 7312, 'abortion': 282, 'advocates': 389, 'lawmaker': 4082, 'introduces': 3802, 'presented': 5454, 'adding': 355, 'chorus': 1436, 'rejecting': 5843, 'prohibitionist': 5538, 'leaflets': 4096, 'evacuate': 2608, 'executes': 2653, 'collaborators': 1539, 'dragged': 2328, 'san': 6144, 'jose': 3927, 'mercury': 4485, 'offices': 4923, 'assassination': 677, 'joke': 3921, 'overrules': 5041, 'newsoftheweird': 4797, 'liability': 4149, 'assembly': 683, 'responds': 5947, 'approving': 602, '000new': 3, 'housing': 3514, 'hangs': 3320, 'balance': 798, 'medicinal': 4453, 'legalised': 4121, 'escaped': 2578, 'padlocks': 5062, 'doors': 2303, 'sweatshop': 6833, 'beeing': 874, 'decorations': 1997, 'rooms': 6058, 'ft': 3041, 'eavesdropping': 2407, 'mp3': 4669, 'transfers': 7126, 'womens': 7678, 'helium': 3385, 'balloons': 804, 'shortage': 6371, 'worsens': 7704, 'missiles': 4577, 'innocents': 3725, 'heinous': 3381, 'executions': 2655, 'remains': 5863, 'treaty': 7151, 'panic': 5088, 'mayan': 4421, 'apocalypse': 570, 'mania': 4354, 'root': 6059, 'thieves': 6988, 'cluster': 1518, 'swaziland': 6829, 'mini': 4554, 'skirts': 6441, 'midriff': 4526, 'tops': 7071, 'jeans': 3897, 'mos': 4640, 'easy': 2400, 'cloth': 1514, 'worn': 7699, 'assaults': 681, 'rapes': 5713, 'infuriates': 3711, '000s': 4, 'gathered': 3101, 'tied': 7031, 'lawmakers': 4083, 'weak': 7556, 'enslave': 2544, 'adopting': 369, 'pressured': 5463, 'attackers': 714, 'relative': 5849, 'nepali': 4776, 'returning': 5972, 'robbed': 6039, 'policeman': 5350, 'teachers': 6906, 'educate': 2432, 'abolishing': 278, 'plaything': 5317, 'cashed': 1302, 'walks': 7505, 'player': 5313, 'taunted': 6898, 'monkey': 4617, 'chants': 1382, 'mother': 4647, 'son': 6508, 'elephants': 2473, 'declining': 1996, 'beheads': 892, 'maid': 4309, 'clemency': 1497, 'unexpectedly': 7283, 'mali': 4337, 'role': 6050, 'airpocalypse': 447, 'pollution': 5362, 'literally': 4209, 'charts': 1399, 'hazardous': 3356, 'consecutive': 1673, 'hitting': 3442, 'levels': 4143, '25x': 124, 'insecticide': 3731, 'unacceptable': 7250, 'bees': 877, 'campaigners': 1229, 'safety': 6119, 'knell': 4011, 'neonicotinoid': 4773, 'lucky': 4279, 'prospector': 5572, 'nugget': 4867, '177': 50, 'oz': 5052, '5kg': 191, 'reprieve': 5909, 'arsenal': 648, 'spears': 6546, 'blowpipes': 1003, 'machetes': 4296, 'guns': 3273, 'fend': 2826, 'intrusion': 3803, 'goal': 3167, 'helping': 3392, 'expand': 2670, 'tapping': 6886, 'riches': 6003, 'prospecting': 5571, 'spacecraft': 6532, '2015': 95, 'basin': 845, 'importer': 3627, 'exporter': 2701, 'duped': 2372, 'misrepresented': 4574, 'causes': 1323, 'vandalism': 7388, 'valid': 7381, 'activists': 342, 'teaming': 6910, 'points': 5344, 'scores': 6216, 'innovative': 3726, 'modes': 4595, 'fleeing': 2923, 'timbuktu': 7037, 'burn': 1175, 'manuscripts': 4368, 'unveils': 7331, 'detailed': 2132, 'map': 4370, 'deport': 2098, 'radical': 5682, 'clerics': 1499, 'bombed': 1026, 'research': 5924, 'northwest': 4844, 'damascus': 1919, 'ridden': 6009, 'reuter': 5974, 'goran': 3182, 'tomasevic': 7059, 'iii': 3588, 'poised': 5345, 'conduct': 1651, 'depicting': 2093, 'resembling': 5927, 'york': 7754, 'engulfed': 2541, 'flames': 2917, 'apparent': 578, 'eliminates': 2478, 'penny': 5180, '35': 153, 'pennies': 5179, '82m': 237, 'kg': 3974, '180m': 54, 'melted': 4466, '05': 7, 'aren': 619, 'salafi': 6126, 'raping': 5715, 'harassing': 3327, 'cairos': 1207, 'crusaders': 1867, 'entirely': 2554, 'unexpected': 7282, 'development': 2149, 'atomic': 709, 'begin': 882, 'formal': 2979, 'paving': 5157, 'totally': 7085, 'resistant': 5937, 'uncovered': 7264, 'untreatable': 7327, 'meteor': 4498, 'shower': 6380, 'eastern': 2399, 'struggled': 6711, 'alberta': 459, 'counsel': 1778, 'germans': 3131, 'playing': 5315, 'background': 782, 'miaa': 4515, 'unprofitable': 7316, 'survive': 6809, 'subsidies': 6734, 'caters': 1316, 'shrinking': 6384, 'aging': 417, 'inmates': 3723, 'reoffending': 5885, 'taiwanese': 6866, 'maldives': 4334, 'marital': 4381, 'premarital': 5444, 'cannon': 1254, 'statement': 6630, 'headed': 3359, 'event': 2616, 'sort': 6514, 'drove': 2358, 'dinosaurs': 2180, 'extinct': 2712, '65m': 206, '58': 190, 'rhino': 5996, 'voids': 7475, 'pacts': 5061, 'preparing': 5448, 'college': 1549, '36': 155, 'hrs': 3521, 'spending': 6559, 'capitalism': 1262, 'baldness': 800, 'vw': 7492, 'shares': 6327, 'profits': 5527, 'deserved': 2115, 'equitable': 2568, 'contractor': 1719, 'lockheed': 4233, 'martin': 4396, 'needed': 4759, 'salt': 6135, 'seawater': 6234, 'eliminate': 2477, 'fresh': 3027, 'jumped': 3944, 'balcony': 799, 'severely': 6308, 'joined': 3917, 'hunger': 3539, 'reflects': 5808, 'hopelessness': 3486, 'prospects': 5573, 'freed': 3018, 'acupuncturist': 349, 'infecting': 3695, 'twelve': 7221, 'defect': 2020, 'nk': 4824, 'armenia': 632, 'chess': 1412, 'aiming': 437, 'society': 6485, 'windfarm': 7647, 'donald': 2291, 'trump': 7182, 'businessman': 1186, 'aberdeen': 273, 'spoil': 6571, 'nearby': 4753, 'golf': 3177, 'course': 1797, 'francis': 3010, 'devote': 2152, 'worrying': 7702, 'careers': 1279, 'cyprus': 1907, 'tens': 6937, 'deposit': 2101, 'confiscations': 1662, 'samoa': 6143, 'weigh': 7579, 'aifares': 434, 'meaninig': 4438, 'overweight': 5045, 'via': 7420, 'instagram': 3743, 'appalled': 576, 'drowned': 2359, 'wedding': 7570, 'ring': 6016, 'closure': 1513, 'commitments': 1583, 'obliged': 4888, 'uphold': 7338, 'ex': 2633, 'margaret': 4376, 'thatcher': 6972, 'stroke': 6704, 'verge': 7409, 'industrial': 3683, 'electrical': 2467, 'generation': 3115, 'fusion': 3066, 'engine': 2537, 'bitcoin': 960, 'plummets': 5330, 'couples': 1795, 'adopt': 368, 'alwaleed': 497, 'talal': 6871, 'nephew': 4777, 'abdullah': 272, 'economic': 2412, 'towns': 7098, 'mongolia': 4613, 'plot': 5326, 'plotters': 5328, 'faith': 2753, 'humiliate': 3533, 'protesting': 5585, 'resistance': 5936, 'fighter': 2846, 'daring': 1933, 'sabotage': 6106, 'honoured': 3482, 'ceremony': 1360, 'donor': 2299, 'sperm': 6561, 'describes': 2110, 'wicked': 7626, 'selfish': 6263, 'motive': 4650, 'parent': 5102, 'fourth': 3002, 'plundering': 5331, 'seas': 6231, 'rhinos': 5997, 'mozambique': 4666, 'widely': 7628, 'devastating': 2147, 'dragonflies': 2329, 'snails': 6474, 'groundbreaking': 3242, 'vow': 7487, 'ruined': 6079, 'stalker': 6609, 'girlfriend': 3148, 'placed': 5285, 'pedophile': 5171, 'withdraws': 7665, 'idled': 3575, 'kaesong': 3958, 'complex': 1616, 'declines': 1995, '3d': 160, 'printable': 5487, 'poacher': 5336, 'elephant': 2472, 'astronauts': 697, 'hadfield': 3290, 'tom': 7058, 'marshburn': 4393, 'romanenko': 6052, 'touched': 7087, 'kazakhstan': 3961, '146': 36, 'station': 6633, 'expedition': 2677, 'theres': 6981, 'horn': 3490, 'hangovers': 3319, 'wiping': 7656, 'denounced': 2085, 'blasting': 978, 'cult': 1878, 'tyrannizing': 7230, 'expendable': 2679, 'consumer': 1696, 'goods': 3180, 'christianity': 1443, 'catastrophic': 1313, 'suggesting': 6759, 'uploading': 7341, '00': 0, 'resources': 5942, 'dolphin': 2286, 'highly': 3419, 'intelligent': 3766, 'persons': 5210, 'specific': 6550, 'panel': 5086, 'accountability': 313, 'pyongyang': 5651, 'icc': 3560, 'indictment': 3668, 'atheists': 702, 'urging': 7356, 'religions': 5859, 'none': 4833, 'brewers': 1102, 'contaminate': 1704, 'beer': 876, 'purity': 5639, '1516': 41, 'embarrassed': 2489, 'obnoxious': 4889, 'abroad': 285, 'louvre': 4267, 'characters': 1388, 'urinating': 7357, 'defecating': 2019, 'seat': 6232, 'delay': 2045, 'communions': 1595, 'adulthood': 378, 'choice': 1429, 'proper': 5556, 'formation': 2981, 'isnt': 3856, 'realistic': 5748, 'dotcom': 2309, 'ethem': 2594, 'sarslk': 6155, 'ankara': 539, 'witnesses': 7672, '55': 188, 'arresting': 643, 'tweeting': 7219, 'facebooking': 2735, 'turk': 7205, 'needs': 4760, 'translation': 7130, 'mr': 4671, 'erdogan': 2572, 'intimidated': 3797, 'choked': 1430, 'eff': 2437, 'nsa': 4860, 'edward': 2436, 'snowden': 6481, 'revelations': 5981, 'behaving': 887, 'ruin': 6078, 'embodied': 2493, 'unnoticed': 7313, 'tanzania': 6882, 'malawi': 4330, 'insignia': 3734, 'irregulars': 3843, 'sow': 6529, 'mayhem': 4423, 'congos': 1666, 'answer': 550, 'allegations': 472, 'guarantee': 3256, 'wouldn': 7708, 'brasil': 1080, 'broadcasted': 1123, 'masks': 4399, 'unlawful': 7306, 'carries': 1288, 'maximum': 4419, 'rio': 6019, 'mails': 4311, 'standard': 6614, 'poors': 5369, 'moodys': 4626, 'accepted': 303, 'ratings': 5725, 'judicial': 3939, 'drones': 2352, 'robots': 6044, 'psy': 5606, 'silly': 6410, 'tired': 7043, 'posturing': 5400, 'grandstanding': 3208, 'banditry': 810, 'focus': 2944, 'rent': 5884, 'prostituion': 5574, 'bugging': 1152, 'operations': 4961, 'landing': 4054, 'austria': 739, 'rumour': 6087, 'fugitive': 3048, 'superiors': 6779, 'ignore': 3584, 'incidents': 3644, 'interpreters': 3788, 'recording': 5784, 'cellphone': 1339, 'attacked': 713, 'pri': 5475, 'militants': 4537, 'manager': 4347, 'foiled': 2945, 'yoshidas': 7755, 'disobey': 2228, 'hq': 3520, 'cool': 1741, 'active': 338, 'zones': 7777, 'overheating': 5038, 'messaging': 4493, 'app': 575, 'openly': 4956, 'powered': 5413, 'unclaimed': 7258, 'reykjavk': 5995, 'sister': 6428, 'relationship': 5848, 'pres': 5449, 'jimmy': 3911, 'carter': 1293, 'moves': 4663, 'welfare': 7582, 'successful': 6743, 'writes': 7719, 'check': 1405, 'spying': 6591, 'technologically': 6916, 'illiterate': 3598, 'masterminded': 4407, 'blocker': 993, 'writing': 7720, 'scolds': 6212, 'muddy': 4679, 'slum': 6459, 'particular': 5120, 'opportunities': 4968, 'responsibilities': 5949, 'contribution': 1724, 'injustices': 3722, 'praised': 5426, 'controlled': 1727, 'huawei': 3523, 'defects': 2023, 'gods': 3171, 'established': 2587, 'nepal': 4774, 'fbi': 2798, 'persuade': 5212, 'nixes': 4823, 'cold': 1538, 'leaker': 4099, 'electronic': 2469, 'feds': 2812, 'malware': 4342, 'participate': 5115, 'activities': 343, 'stephen': 6645, 'hurting': 3548, 'canceling': 1244, 'sticking': 6654, 'ny': 4876, 'abdicated': 270, 'subpoenaed': 6730, 'regulator': 5833, 'brazilians': 1084, 'transportation': 7136, 'sao': 6153, 'paulo': 5154, 'siemens': 6395, 'occupying': 4902, 'refund': 5814, 'archbishop': 613, 'canterbury': 1257, 'grow': 3245, 'exaggerate': 2635, 'feeling': 2816, 'mildly': 4533, 'uncomfortable': 7259, 'heathrow': 3374, 'nine': 4820, 'possessions': 5390, 'confiscated': 1661, 'drives': 2349, 'write': 7717, 'warn': 7519, 'spiritual': 6569, 'gangrape': 3089, 'addressing': 358, 'violators': 7452, 'asking': 667, 'mercy': 4486, 'prove': 5591, 'gassed': 3098, 'hans': 3321, 'blix': 988, 'encourage': 2518, 'meteorological': 4499, 'naming': 4726, 'hurricanes': 3546, 'destructive': 2129, 'storms': 6683, 'deniers': 2079, 'kingdom': 4004, 'physical': 5243, 'applies': 593, 'commons': 1590, 'romanian': 6053, 'cyanide': 1901, 'galleries': 3082, 'biased': 931, 'advertising': 383, 'default': 2016, 'televangelist': 6928, 'defrauded': 2038, 'challenge': 1369, 'wasting': 7541, 'substandard': 6736, 'profitable': 5524, 'woah': 7675, 'vladamir': 7469, '15m': 42, 'jet': 3904, 'malnutrition': 4341, 'hawking': 3355, 'backs': 785, 'assisted': 689, 'beauty': 867, 'contests': 1710, 'hyper': 3554, 'sexualisation': 6312, 'organise': 4992, 'pageant': 5066, 'obsessed': 4893, 'sending': 6272, 'shirt': 6353, 'words': 7685, '618': 198, '2007': 86, 'poached': 5335, 'masturbate': 4408, 'mistake': 4581, 'eddie': 2424, 'izzard': 3874, '2020': 99, 'criminality': 1841, 'contemptible': 1707, 'mcafee': 4427, 'thwart': 7023, 'stopped': 6674, 'microsoft': 4522, 'unaware': 7255, 'prism': 5491, 'worked': 7690, 'carmaker': 1283, 'hyundai': 3557, 'motor': 4651, 'defer': 2030, 'payments': 5161, 'impacted': 3620, 'partial': 5113, 'crypto': 1872, 'keys': 3973, 'simultaneously': 6415, 'wiretap': 7658, 'stops': 6676, 'adoptions': 370, 'merely': 4487, 'beyond': 927, 'fascism': 2784, 'higgs': 3415, 'boson': 1048, '110': 24, 'azerbaijan': 773, 'ilham': 3592, 'aliyev': 469, 'agents': 413, 'byte': 1197, 'giants': 3143, 'spies': 6564, 'hubs': 3524, 'warlord': 7517, 'lured': 4286, 'brussels': 1138, 'pretext': 5465, 'movie': 4664, 'translations': 7131, 'filmmaker': 2866, 'dire': 2186, 'qatar': 5658, 'worker': 7691, 'warnings': 7522, 'shared': 6326, 'internal': 3782, 'mechanisms': 4446, 'explanation': 2689, 'smog': 6465, 'fingers': 2885, 'gallery': 3083, 'printers': 5488, 'arrive': 646, 'quickly': 5672, 'umbilical': 7247, 'clamps': 1478, 'gear': 3110, 'angela': 532, 'merkel': 4488, 'barack': 828, 'complain': 1610, 'eavesdrop': 2406, 'investigations': 3815, 'hinted': 3430, 'monitored': 4615, 'economists': 2414, '27': 130, 'forgets': 2973, '886k': 244, 'apartment': 569, 'wealthy': 7559, 'cheapest': 1403, 'subur': 6739, 'barcelona': 830, 'stir': 6659, 'proving': 5601, 'infiltrates': 3697, 'centers': 1351, 'communications': 1594, 'connect': 1669, 'merkels': 4489, 'granting': 3211, 'ivory': 3873, '1800kg': 53, 'nationals': 4736, 'dar': 1929, 'es': 2576, 'salam': 6129, 'mikocheni': 4530, 'haul': 3349, 'counted': 1781, '706': 215, 'pieces': 5256, 'discovers': 2210, 'useless': 7366, 'budget': 1148, 'gravity': 3218, '105': 19, 'polonium': 5363, 'arafat': 609, 'bones': 1034, 'normal': 4838, 'radioactive': 5685, 'element': 2471, '62k': 200, 'reward': 5994, 'trans': 7121, 'partnership': 5126, 'argeement': 620, 'wwii': 7730, 'remembrance': 5869, 'lung': 4285, 'attributed': 727, 'negotiated': 4765, 'text': 6964, 'tpp': 7100, 'chapter': 1386, 'herd': 3398, 'crossing': 1857, 'calves': 1218, 'memory': 4474, 'railways': 5691, 'requests': 5916, 'speeds': 6557, 'famed': 2768, 'corridor': 1765, 'jpmorgan': 3934, 'cancels': 1247, 'abusive': 297, 'alcoholics': 462, 'imaginative': 3605, 'behaviour': 889, 'typical': 7228, 'pragmatism': 5423, 'lg': 4146, 'smart': 6462, 'tvs': 7218, 'filenames': 2855, 'viewing': 7435, 'info': 3703, 'manipulation': 4357, 'entries': 2557, 'encyclopaedia': 2522, 'sock': 6487, 'puppet': 5636, 'traced': 7102, 'virgin': 7458, 'galactic': 3078, 'fish': 2906, 'ecosystems': 2417, 'filters': 2869, 'espousing': 2584, 'flies': 2926, 'b52': 774, 'disputed': 2236, 'defence': 2024, 'dentist': 2086, 'returns': 5973, 'afterwards': 403, 'profiteering': 5525, 'crush': 1868, 'activism': 340, 'bangladeshi': 815, 'garment': 3095, 'factory': 2745, 'gazipur': 3107, 'trucks': 7178, 'casualties': 1309, 'tracking': 7106, 'locations': 4231, 'nelson': 4772, 'mandela': 4353, 'mcg': 4430, 'cubic': 1877, 'meter': 4500, 'limit': 4187, 'rivers': 6035, 'lakes': 4047, 'drink': 2344, 'visibility': 7463, 'meters': 4501, 'clinton': 1506, 'espionage': 2583, 'bubonic': 1143, 'plague': 5289, 'madagascar': 4302, 'tablet': 6857, 'customs': 1897, 'fifteen': 2842, 'convoy': 1739, 'connections': 1672, 'exchange': 2645, 'deposits': 2102, 'fallout': 2762, 'tune': 7198, 'dollars': 2285, 'boeing': 1021, 'gripen': 3238, 'faxes': 2796, 'threatening': 7007, 'uruguays': 7359, 'neighbor': 4769, 'navi': 4745, 'pillay': 5265, 'compares': 1602, 'uproar': 7345, 'defeat': 2017, 'inventor': 3810, 'exchanged': 2646, 'voluminous': 7478, 'correspondence': 1764, 'prior': 5489, 'declassify': 1993, 'britains': 1119, 'hiring': 3433, '244': 117, 'update': 7334, 'musician': 4706, 'flutes': 2940, 'shepherd': 6341, 'locates': 4229, 'whale': 7596, 'protected': 5578, 'minke': 4561, 'whales': 7598, 'deck': 1987, 'currant': 1889, 'spoof': 6578, 'antibiotics': 556, 'antibiotic': 555, 'organisms': 4995, 'prof': 5518, 'jeremy': 3901, 'farrar': 2783, 'wellcome': 7584, 'duty': 2377, 'gsm': 3251, 'weaken': 7557, 'coalition': 1523, 'foundation': 2997, 'mozilla': 4667, 'ranging': 5709, 'february': 2807, 'aaron': 261, 'swartz': 6826, 'firefox': 2894, 'browser': 1137, 'sacks': 6111, 'cardinals': 1275, 'appointed': 595, 'revolting': 5990, 'livestream': 4221, 'subscriber': 6731, 'participant': 5114, 'disturbance': 2248, 'ukrainian': 7242, 'spontaneously': 6577, 'prohibiting': 5536, 'netflix': 4782, 'provoke': 5603, 'customer': 1895, 'dial': 2155, 'sms': 6470, 'permanent': 5199, 'cartel': 1291, 'vigilantism': 7438, 'signal': 6400, 'billions': 945, 'displaying': 2234, 'iconic': 3565, 'forehead': 2964, 'editors': 2427, 'gchq': 3108, 'technicians': 6915, 'watched': 7543, 'angle': 534, 'grinders': 3236, 'drills': 2343, 'computers': 1626, 'tense': 6938, 'negotiations': 4767, 'counterterrorism': 1788, 'prosecute': 5566, 'reform': 5809, 'leaks': 4101, 'rusbridger': 6096, 'abusers': 294, 'dry': 2364, 'amid': 513, 'drought': 2357, 'tokyo': 7051, 'runner': 6090, 'gubernatorial': 3262, 'menstruation': 4476, 'unfit': 7284, 'scahill': 6176, '273': 132, 'somalia': 6502, 'instructor': 3751, 'clive': 1507, 'palmer': 5081, 'nickel': 4808, 'refinery': 5807, 'pumped': 5625, 'discharged': 2202, 'wastewater': 7540, 'heritage': 3401, 'neighbour': 4770, 'inches': 3642, 'dismiss': 2226, 'counterpart': 1785, 'covert': 1806, 'senators': 6269, 'liberalization': 4153, 'cycle': 1904, 'ak': 453, '47': 176, 'rifles': 6012, 'skier': 6438, 'pulls': 5624, 'protestors': 5587, 'kiev': 3989, 'resigned': 5934, 'affairs': 392, 'doc': 2265, 'deceive': 1979, 'reputations': 5914, 'intercepted': 3774, 'webcam': 7567, 'offer': 4917, 'ugandans': 7236, 'flags': 2915, 'marched': 4375, 'dozens': 2323, 'demonstrating': 2071, '261': 126, '1044': 18, '888': 245, 'precautionary': 5432, 'whitewashes': 7615, '220': 108, 'tanks': 6881, 'helicopters': 3384, '4000': 164, 'paratroopers': 5098, 'planes': 5296, 'tasmanian': 6896, 'listing': 4207, '74': 219, 'degraded': 2042, 'ecologically': 2411, 'pristine': 5496, 'requiring': 5920, 'compatible': 1604, 'common': 1588, 'charger': 1392, 'beggar': 880, 'amassing': 501, 'estate': 2589, 'portfolio': 5383, 'jeddah': 3898, 'rivaled': 6033, 'citys': 1466, 'annex': 540, 'crimea': 1837, 'federation': 2810, 'qatars': 5660, 'confederation': 1653, 'migrants': 4529, 'egg': 2447, 'faberge': 2730, 'peter': 5219, 'sunde': 6774, '529': 186, 'conventional': 1732, 'governance': 3192, 'sets': 6298, 'guarantees': 3257, 'antarctic': 552, 'ballots': 805, 'along': 487, 'roaming': 6038, 'detects': 2140, 'saturn': 6162, 'extraterrestrial': 2720, 'microbes': 4520, 'workday': 7688, 'municipal': 4694, 'gothenburg': 3188, 'workdays': 7689, 'hopes': 3487, 'boost': 1042, 'efficiency': 2442, 'ultimately': 7244, 'shark': 6329, 'fin': 2871, 'hong': 3479, 'kong': 4019, 'homeopathic': 3463, 'remedies': 5867, 'monitoring': 4616, 'regulators': 5834, 'invest': 3811, 'yuan': 7767, 'approaches': 598, '767th': 225, 'birthday': 953, 'excavation': 2639, '753bc': 222, 'channeled': 1380, 'ceramic': 1358, 'pottery': 5406, 'pledges': 5324, 'africas': 401, 'ferry': 2828, 'crowds': 1861, 'documenting': 2274, 'ratio': 5726, 'fcc': 2799, 'abandons': 265, 'eaters': 2403, 'dyncorp': 2381, 'secrets': 6243, 'dictators': 2159, 'hack': 3283, 'nose': 4848, 'ears': 2392, 'cleric': 1498, 'colleague': 1542, 'ill': 3593, 'donated': 2293, '170': 48, 'battling': 850, '5th': 193, 'outlaws': 5024, 'denial': 2077, 'distortion': 2245, 'fast': 2785, 'walkouts': 7504, '2016': 96, 'schedule': 6189, 'ioc': 3827, 'wreck': 7715, 'columbuss': 1561, 'flagship': 2916, 'santa': 6151, 'maria': 4377, 'caribou': 1281, 'habitat': 3282, 'herds': 3399, 'vanishing': 7391, 'abbott': 266, 'ferals': 2827, 'martial': 4395, 'mistakenly': 4583, 'trains': 7118, 'platforms': 5310, 'matadors': 4410, 'gored': 3185, 'isidro': 3846, 'festival': 2829, 'soma': 6500, '301': 141, 'perfect': 5195, 'score': 6214, 'classify': 1486, 'arguing': 625, 'jeopardize': 3900, 'smoking': 6468, '180': 52, 'satellites': 6157, 'bassem': 847, 'youssef': 7762, 'jon': 3922, 'stewart': 6653, 'suitable': 6766, 'satire': 6158, 'fearing': 2802, 'familys': 2771, 'gunned': 3271, 'unprecedented': 7315, 'silence': 6407, 'todays': 7049, '25th': 123, 'biofuels': 949, 'facility': 2741, 'edmonton': 2429, 'converts': 1735, 'landfill': 4053, 'dignity': 2175, 'terminally': 6945, 'patients': 5148, 'bounty': 1062, 'aided': 432, 'behest': 893, 'hollywood': 3456, 'studios': 6715, 'gertjie': 3135, 'witnessing': 7673, 'crying': 1871, 'inconsolably': 3652, 'cyberbullying': 1903, 'remotely': 5873, 'devices': 2151, 'cars': 1290, 'grabs': 3202, 'idle': 3574, 'dormant': 2305, 'wildleaks': 7639, 'attracts': 726, 'wildlife': 7640, 'leads': 4095, 'targeting': 6890, 'kingpins': 4005, 'attracted': 725, 'fishery': 2908, 'michael': 4516, 'schumacher': 6203, 'coma': 1563, 'tiny': 7041, 'controls': 1728, 'parks': 5108, 'nobody': 4828, 'triumph': 7170, 'creationism': 1826, 'academies': 299, 'fiji': 2852, 'accuses': 319, 'abandoning': 264, 'singles': 6421, 'essential': 2586, 'neurotoxic': 4789, 'harming': 3334, 'butterflies': 1189, 'worms': 7698, 'sufficient': 6756, 'regulatory': 5835, 'disprove': 2235, 'manmade': 4358, 'verizon': 7410, 'row': 6072, 'blackwaters': 969, 'investigator': 3816, 'department': 2089, 'mood': 4625, 'unlawfully': 7307, 'subsequently': 6732, 'forwarded': 2990, 'airing': 444, 'featuring': 2806, 'science': 6204, 'fringe': 3034, 'cries': 1835, 'miroslav': 4568, 'klose': 4009, 'scorer': 6215, 'netting': 4785, '16th': 46, 'finals': 2874, 'houses': 3513, 'debts': 1974, 'ussr': 7371, 'grown': 3248, '1990s': 74, 'programs': 5533, 'footballer': 2955, 'mesut': 4494, 'ozil': 5053, 'surgery': 6800, 'mh17': 4511, 'airliner': 446, 'downing': 2316, 'flights': 2928, 'doctored': 2268, 'dancing': 1923, 'watchlist': 7545, 'authorizing': 748, 'facts': 2746, 'irrefutable': 3842, 'designate': 2117, 'foreigner': 2966, 'cyclist': 1905, 'pedaled': 5169, 'plus': 5333, 'drunken': 2363, 'migrant': 4528, 'organisers': 4994, 'cockroach': 1530, 'infested': 3696, 'lodgings': 4235, 'steel': 6643, 'tar': 6887, '69': 211, 'nagasaki': 4718, 'sierra': 6396, 'leone': 4134, 'ebola': 2408, '729': 217, 'mentions': 4480, 'construct': 1692, 'encouraged': 2519, 'docs': 2266, '225': 109, 'endorsement': 2528, 'isis': 3848, 'mounts': 4657, 'airstrikes': 452, 'airdrops': 443, 'jihadists': 3910, 'mountaintop': 4656, 'kurdish': 4028, 'koreas': 4024, 'firstand': 2904, 'onlyastronaut': 4948, 'quit': 5674, 'manned': 4359, 'defectors': 2022, 'laos': 4061, 'repatriated': 5889, 'exotic': 2669, 'dust': 2374, 'appear': 582, 'specks': 6553, 'hallmarks': 3299, 'interstellar': 3792, 'beijing': 896, 'recycling': 5792, 'machines': 4299, 'bottles': 1055, 'rebates': 5754, 'transit': 7128, 'sisters': 6429, 'kidnapped': 3985, 'pickpockets': 5250, 'foley': 2947, 'beheaded': 891, 'allah': 471, 'populous': 5378, 'deemed': 2009, 'embarrassing': 2490, 'upon': 7342, 'unite': 7299, 'conservationists': 1678, 'ditch': 2250, 'plea': 5318, 'fed': 2808, 'cockatoos': 1528, 'felling': 2820, 'pine': 5268, 'perth': 5213, 'healthy': 3366, 'unpaid': 7314, 'totalling': 7084, '1000': 12, 'keeps': 3964, 'rocket': 6046, '2018': 98, 'seek': 6253, 'peshmerga': 5216, 'rot': 6062, 'kurds': 4029, 'steven': 6650, 'sotloff': 6517, 'convincing': 1738, 'soup': 6520, 'yao': 7739, 'ming': 4553, 'stumbling': 6720, 'sword': 6844, 'jiangsu': 3908, '26cm': 129, '10in': 21, 'either': 2457, 'shang': 6323, 'zhou': 7772, 'dynasties': 2380, 'civilisation': 1471, 'shape': 6324, 'psychoactive': 5608, 'substances': 6735, '4268': 169, '2288': 111, '93': 253, 'accessory': 306, 'murders': 4699, 'appeals': 581, 'henning': 3395, 'believes': 904, 'genuinely': 3124, 'hepatitis': 3396, 'snatch': 6476, 'random': 5706, 'drape': 2335, 'liberia': 4154, '150m': 40, 'native': 4739, 'establishing': 2588, 'inter': 3773, 'tribal': 7156, 'alliance': 476, 'bison': 958, 'rocky': 6048, 'plains': 5293, 'roamed': 6037, 'enabling': 2514, 'whistleblowers': 7611, 'anil': 536, 'agarwal': 406, 'vedanta': 7397, 'jozef': 3933, 'wesolowski': 7590, 'stored': 6678, 'retake': 5965, 'estimated': 2591, 'walrus': 7507, 'ashore': 662, 'alaska': 458, 'unlike': 7309, 'seals': 6228, 'mammals': 4343, 'ice': 3561, 'resting': 5955, 'artic': 651, 'abolished': 277, 'fees': 2817, 'thinkprogress': 6994, 'dumped': 2370, 'berry': 919, 'tree': 7152, 'queensland': 5667, 'tumour': 7195, 'ap': 566, 'estonia': 2592, 'partnerships': 5127, 'tea': 6903, 'vital': 7468, 'demonization': 2068, 'medics': 4456, 'fossil': 2991, 'nordics': 4837, 'baltics': 807, 'eroding': 2574, 'profitability': 5523, 'nigeria': 4811, 'scholarship': 6197, 'welcoming': 7581, 'hearts': 3371, 'fairness': 2752, 'justin': 3954, 'trudeau': 7179, 'buyers': 1191, 'hungary': 3538, 'winners': 7651, '23rd': 115, 'urge': 7351, 'embargo': 2488, 'amelia': 507, 'earhart': 2385, 'fragment': 3007, 'chancellor': 1374, 'exit': 2667, 'compromise': 1622, 'principle': 5485, 'demoted': 2075, 'homeopathy': 3464, 'guam': 3254, '66': 208, 'choose': 1432, '14a': 37, 'pepsi': 5190, 'ikea': 3590, 'fedex': 2811, '340': 152, 'secured': 6248, 'deals': 1965, 'luxembourg': 4289, 'maintaining': 4316, 'duchy': 2367, 'excommunicated': 2648, 'admitted': 366, 'abusing': 296, 'teenagers': 6921, 'geologists': 3126, 'predict': 5438, 'killers': 3994, 'conviction': 1737, 'commander': 1573, 'robot': 6043, 'probe': 5504, 'philae': 5228, 'descending': 2107, 'mothership': 4649, 'su': 6725, 'maasai': 4294, 'hunting': 3544, 'rosetta': 6061, 'organic': 4989, 'molecules': 4601, 'subatomic': 6726, 'cern': 1361, 'bludgeoned': 1005, 'threaten': 7005, 'destabilise': 2123, 'tagging': 6862, 'colosseum': 1559, 'frequencies': 3026, 'laity': 4045, 'parishes': 5106, 'charging': 1394, 'baptisms': 826, 'blessings': 986, 'intentions': 3771, 'forgive': 2974, 'hearings': 3369, 'auckland': 729, 'nailbom': 4720, 'cache': 1202, 'immigrants': 3614, 'testing': 6961, 'orbiter': 4980, 'orion': 5001, 'nils': 4819, 'muinieks': 4684, 'commissioner': 1580, 'indiscriminate': 3671, 'contrary': 1722, 'halt': 3301, 'multiply': 4690, 'chairman': 1368, 'lindt': 4191, 'chocolat': 1428, 'drama': 2332, 'siege': 6394, 'hostages': 3501, 'normalize': 4839, 'havana': 3350, 'monument': 4624, 'lasted': 4068, '1980': 68, '1988': 71, 'suffer': 6752, 'vip': 7456, 'credible': 1829, 'domain': 2288, 'offline': 4927, 'presumed': 5464, 'nepalese': 4775, 'infrastructure': 3708, 'promises': 5545, 'eagerly': 2384, 'awaiting': 761, 'shoura': 6377, 'married': 4390, 'pending': 5177, 'procuring': 5510, 'tigers': 7034, 'airasia': 441, 'java': 3893, 'sheer': 6334, 'unhealthy': 7289, 'lifestyles': 4172, 'diet': 2168, 'inherited': 3715, 'genes': 3117, 'mutations': 4711, 'occur': 4903, 'cells': 1340, 'divide': 2256, 'cancers': 1249, 'tissues': 7044, 'barrel': 834, 'charlie': 1397, 'hebdo': 3377, 'grief': 3233, 'anyway': 564, 'stupidity': 6723, '8m': 247, 'booked': 1039, 'inciting': 3645, 'indoor': 3681, 'productive': 5516, 'outdoor': 5020, 'cameroon': 1226, '143': 35, 'boko': 1023, 'haram': 3325, 'weekly': 7576, 'canings': 1252, 'forum': 2988, 'discussion': 2218, 'mecca': 4445, '226': 110, 'chimpanzees': 1423, 'heaviest': 3375, 'invited': 3822, 'leading': 4094, 'answers': 551, 'yanis': 7738, 'varoufakis': 7392, 'valve': 7385, 'steam': 6642, 'key': 3972, 'patent': 5146, 'clearing': 1492, 'costing': 1772, 'megamouth': 4462, 'zoologist': 7779, '60th': 197, 'encounter': 2517, 'westminster': 7593, 'dossiers': 2308, 'paedophiles': 5063, 'hoped': 3485, 'blackmail': 966, 'europa': 2602, 'candidates': 1251, 'alien': 467, 'bodyguards': 1020, 'stumbles': 6719, 'carpet': 1285, 'sends': 6273, 'authorization': 745, 'poses': 5386, 'wade': 7493, 'learner': 4105, 'stitched': 6660, 'chainsaw': 1367, 'wound': 7709, 'drank': 2334, 'gin': 3146, 'lifts': 4176, 'installing': 3745, 'adware': 390, 'everest': 2620, 'chain': 1365, 'provincial': 5600, 'falsified': 2767, 'placement': 5286, 'grade': 3203, 'codebreaker': 1533, 'pardons': 5101, 'eleven': 2474, 'kilometer': 3998, 'freezeway': 3024, 'skate': 6436, 'pilot': 5266, 'planned': 5299, '8000': 233, 'mosul': 4646, 'systematic': 6854, 'evasion': 2612, 'radicalisation': 5683, 'civics': 1467, 'classes': 1484, 'chant': 1381, 'decriminalising': 2003, 'abstinence': 290, 'preventing': 5469, 'grasp': 3214, 'ndtv': 4751, 'delhi': 2052, 'sharply': 6330, 'rebuked': 5761, 'dozen': 2322, 'pivotal': 5283, 'characterizing': 1387, 'illegitimate': 3596, 'obamas': 4883, 'transparency': 7133, 'backers': 781, 'influenced': 3701, 'sponsors': 6576, 'southwestern': 6525, 'decapitated': 1977, 'vaccer': 7378, 'wagers': 7494, 'existance': 2665, 'measles': 4441, 'researcher': 5925, 'supporter': 6787, 'apply': 594, 'suspending': 6819, 'frills': 3033, 'ryanair': 6104, 'transatlantic': 7124, 'routes': 6070, 'equipment': 2567, 'alzheimers': 499, 'restores': 5957, 'function': 3054, 'researchers': 5926, 'invasive': 3808, 'ultrasound': 7246, 'technology': 6917, 'amyloid': 524, 'plaques': 5306, 'decrees': 2000, 'rooftops': 6056, 'covered': 1805, 'immunity': 3618, 'whistle': 7609, 'crashes': 1818, 'draped': 2336, 'celebrating': 1336, 'exploration': 2695, 'completed': 1614, 'marathon': 4372, '219': 105, 'kilometers': 3999, 'germanwings': 3132, 'cockpit': 1529, 'breaching': 1088, 'logged': 4237, 'tracked': 7104, '000kg': 2, 'climbers': 1502, 'risks': 6031, 'evaluated': 2610, 'fallujah': 2764, 'confession': 1655, 'easter': 2398, 'vault': 7395, 'raiders': 5688, '200million': 89, 'hatton': 3348, 'roof': 6055, 'alarm': 457, 'abseiling': 286, 'shaft': 6317, 'loot': 4254, 'boxes': 1066, 'planetary': 5298, 'rapid': 5714, 'acidification': 326, 'concludes': 1641, 'carbon': 1273, 'atmosphere': 708, 'absorbed': 289, 'flat': 2918, 'pack': 5057, 'shelters': 6339, 'iraqis': 3837, 'circle': 1454, 'sponsor': 6574, 'overtakes': 5043, 'patriot': 5150, 'khaama': 3975, 'kp': 4026, 'astronomers': 698, 'structure': 6709, 'incredibly': 3658, 'hole': 3451, 'supervoid': 6783, 'blo': 989, 'distinguished': 2244, 'unusual': 7328, 'emptiness': 2507, 'telescope': 6927, 'cosmic': 1769, 'occurred': 4904, 'bang': 812, 'examine': 2637, 'possibility': 5391, '218': 104, 'stockpiles': 6663, 'minimal': 4555, 'fulfilling': 3050, 'proliferation': 5542, 'considerable': 1682, 'comprehensive': 1621, 'disarmament': 2200, 'hideout': 3413, 'sambisa': 6141, 'pulled': 5622, 'rubble': 6077, 'em': 2485, 'conservation': 1677, 'momentum': 4607, 'thrust': 7019, 'propellant': 5555, 'bouncing': 1060, 'microwaves': 4523, 'container': 1701, 'electoral': 2464, 'germanys': 3134, 'questioned': 5669, 'dohas': 2282, 'vexed': 7419, 'nomination': 4831, 'moldova': 4600, 'eighth': 2454, 'rt': 6075, 'hon': 3474, 'caroline': 1284, 'lucas': 4277, 'proportional': 5562, 'representation': 5906, 'felt': 2822, 'richter': 6005, 'shocks': 6359, 'aboriginals': 281, 'petronas': 5223, 'canadas': 1237, 'petroliam': 5222, 'nasional': 4732, 'bhd': 928, '319': 144, '267': 127, 'compensation': 1605, 'terminal': 6944, 'ancestral': 527, 'lands': 4057, 'shelf': 6335, 'disintegration': 2223, 'ongoing': 4944, 'irans': 3834, 'bail': 795, '7bn': 229, 'rigging': 6013, 'penalties': 5175, 'manipulating': 4356, 'blogger': 996, 'supermarkets': 6781, 'unsold': 7322, 'edits': 2428, 'scandals': 6180, 'steve': 6649, 'wozniak': 7713, 'nike': 4818, 'en': 2510, 'route': 6068, 'mortar': 4639, '80000': 234, 'rounds': 6066, 'ammunition': 515, 'launchers': 4076, 'ugly': 7237, 'lowers': 4272, 'explosive': 2698, 'exercises': 2661, 'alerted': 465, 'pod': 5340, 'orcas': 4981, 'vicinity': 7422, 'responsive': 5952, 'governed': 3193, 'independent': 3663, 'candidate': 1250, 'smell': 6463, 'sgt': 6315, 'craig': 1815, 'harrison': 3338, 'longest': 4248, 'traumatic': 7140, 'stress': 6693, 'disorder': 2230, 'deployment': 2097, 'balkans': 802, 'peacekeeping': 5167, 'engaged': 2534, 'transactional': 7122, 'haitian': 3294, 'exploitation': 2694, 'significantly': 6404, 'underreported': 7273, 'missions': 4580, 'surfaced': 6796, 'corroborates': 1766, 'assertions': 684, 'ensuring': 2548, 'isil': 3847, 'passage': 5131, 'dmz': 2261, 'tide': 7030, 'boats': 1014, 'trickle': 7159, 'recommends': 5778, 'concentrate': 1629, '76': 223, 'overseas': 5042, 'havens': 3353, 'nature': 4742, 'preserves': 5457, 'oases': 4880, 'poaching': 5338, '96': 257, 'ttip': 7191, 'privatisation': 5499, 'corporate': 1759, 'grenoble': 3231, 'speakers': 6543, 'transmission': 7132, 'hails': 3292, 'achievements': 324, '32bn': 147, 'inspired': 3741, 'understanding': 7275, 'empower': 2505, 'iftar': 3580, 'meal': 4436, 'playstation': 5316, 'shutting': 6389, 'xbox': 7732, 'offences': 4913, 'imposes': 3629, 'informant': 3705, 'blower': 1002, 'chuck': 1448, 'blazer': 982, 'tibetans': 7029, 'ethnic': 2598, 'minorities': 4563, 'surge': 6798, 'hadron': 3291, 'collider': 1550, 'particle': 5118, 'pentaquark': 5186, 'heading': 3360, 'appetite': 588, 'respondents': 5946, 'insights': 3733, 'outright': 5031, 'undecided': 7266, 'royals': 6074, 'clooney': 1509, 'oscar': 5005, 'winner': 7650, 'prendergast': 5446, 'flow': 2936, 'spyware': 6592, 'vendor': 7405, 'subsidiary': 6733, 'insitu': 3739, 'infect': 3693, 'proximity': 5605, 'reality': 5749, 'dolphins': 2287, 'reproduce': 5910, 'linger': 4194, 'milky': 4541, 'galaxy': 3080, 'kepler': 3968, '452': 175, 'habitable': 3281, 'zone': 7776, 'musk': 4707, 'autonomous': 752, 'artificial': 654, 'hunter': 3543, 'cecil': 1334, 'walter': 7508, 'palmers': 5082, 'practice': 5419, 'zimbabwean': 7774, 'filthy': 2870, 'olympians': 4937, 'compete': 1606, 'microbeads': 4519, 'review': 5987, 'pose': 5385, 'ultimate': 7243, 'frisbee': 3035, 'recognised': 5772, 'rushing': 6098, 'transparent': 7134, 'itunes': 3872, 'explains': 2688, 'cd': 1329, 'contains': 1703, 'copyrighted': 1751, 'disappearance': 2196, 'reorganize': 5886, 'alphabet': 490, 'nestle': 4779, '100m': 14, 'noodles': 4835, 'port': 5382, 'tianjin': 7026, 'cbc': 1326, '31': 143, 'addition': 356, 'breached': 1087, 'circumvention': 1457, 'dmca': 2260, 'gps': 3199, 'trackers': 7105, 'tusks': 7216, 'smuggling': 6473, 'interpreter': 3787, 'served': 6291, 'refuge': 5812, 'survivor': 6812, 'suing': 6764, 'location': 4230, 'hid': 3410, 'shooters': 6363, '81': 236, 'archaeologist': 611, 'foremost': 2968, 'scholar': 6195, 'treasures': 7145, 'palmyra': 5083, 'unto': 7325, 'prepare': 5447, 'archive': 615, 'tool': 7067, 'honest': 3477, 'geneva': 3120, 'convention': 1731, 'safeguard': 6117, 'clandestine': 1479, 'km': 4010, 'gotthard': 3190, 'base': 839, 'connecting': 1670, 'milan': 4531, 'zurich': 7782, 'ahmedabad': 428, 'vehicles': 7402, 'manufactured': 4365, 'wooden': 7683, 'shigir': 6346, 'stonehenge': 6670, 'decipher': 1984, 'defying': 2041, 'fury': 3065, 'quetta': 5671, 'congolese': 1665, 'surgeon': 6799, 'mukwege': 4685, 'intent': 3768, 'sully': 6768, 'image': 3603, 'delegates': 2047, 'hallucinogenic': 3300, 'daywe': 1952, 'geographic': 3125, 'hungry': 3541, 'malcom': 4333, 'turnbull': 7210, 'mackerel': 4300, 'populations': 5377, 'turnover': 7213, 'experiments': 2685, 'contributions': 1725, 'audi': 731, 'branded': 1077, 'cheat': 1404, 'diesel': 2167, 'emissions': 2499, 'cycloserine': 1906, 'jump': 3943, 'pharmaceutical': 5224, 'ensuing': 2545, 'expert': 2686, 'publicity': 5613, 'original': 5000, 'hike': 3422, 'pharmaceuticals': 5225, 'hiked': 3423, 'pill': 5263, 'incurable': 3659, 'barrick': 835, 'liters': 4211, '700k': 214, 'flowing': 2937, 'outline': 5026, 'integrate': 3762, 'insists': 3738, 'employer': 2504, 'chops': 1435, 'october': 4908, 'encompasses': 2516, '327': 146, 'survivors': 6813, 'psychologists': 5609, 'designed': 2118, 'palm': 5080, 'primary': 5482, 'ecosystem': 2416, 'jacked': 3877, 'antitrust': 558, 'damge': 1920, 'benefiting': 913, 'multinationals': 4688, 'nanjing': 4727, 'relating': 5846, '1937': 58, 'elect': 2460, 'harpers': 3337, 'greenhouse': 3227, 'rebuke': 5760, 'treaties': 7148, 'comfortable': 1571, 'hurricane': 3545, 'patricia': 5149, 'measured': 4442, 'strongest': 6706, 'applications': 592, 'unconscious': 7260, 'bias': 930, 'minority': 4564, 'exxon': 2725, 'understood': 7276, 'became': 868, 'promote': 5547, 'misinformation': 4572, 'pitting': 5281, 'villagers': 7442, 'multinational': 4687, 'lying': 4291, 'oath': 4881, 'chevron': 1414, 'judgment': 3938, 'deliberate': 2053, '285': 136, '281': 135, 'meps': 4483, 'clinics': 1505, 'gynaecologists': 3277, 'decriminalise': 2002, 'bullets': 1163, 'luggage': 4281, 'extort': 2714, 'mexicos': 4510, 'catalan': 1310, 'secede': 6236, '2017': 97, 'storing': 6682, '269': 128, 'hates': 3347, 'feared': 2801, 'g7': 3069, 'fuel': 3046, 'tory': 7081, 'handouts': 3314, 'majors': 4320, 'embattled': 2492, 'stronghold': 6707, 'raqqa': 5717, 'solve': 6498, 'prayers': 5428, 'praying': 5429, 'illogical': 3601, 'expect': 2672, 'buddha': 1146, 'explosions': 2697, 'saint': 6124, 'ringleader': 6017, 'steady': 6638, 'doses': 2307, 'amphetamine': 522, 'captagon': 1264, 'num': 4869, 'reckless': 5770, 'abandon': 262, 'psychosis': 5610, 'accomplices': 310, 'myself': 4715, 'upgrade': 7336, 'met': 4495, 'chronic': 1447, 'chosen': 1438, 'issues': 3866, 'possessing': 5388, 'obsolete': 4894, 'sunni': 6776, 'resort': 5941, 'implausible': 3622, 'precision': 5435, 'guided': 3264, 'valls': 7382, 'councillors': 1776, 'lexmark': 4145, 'pesos': 5217, 'schkreli': 6193, '5000': 183, 'thin': 6989, 'sepp': 6284, 'blatter': 980, 'uefa': 7233, 'michel': 4517, 'platini': 5311, 'suspended': 6818, 'related': 5845, 'ethics': 2596, 'spacexs': 6533, 'falcon': 2756, 'upright': 7343, 'teens': 6922, 'mosquito': 4642, 'borne': 1047, '196': 65, 'thwarts': 7024, 'notify': 4854, 'outlook': 5027, 'execution': 2654, 'encryption': 2521, 'condemns': 1646, 'backdoors': 779, 'stock': 6661, 'min': 4546, 'cologne': 1552, 'hamburg': 3306, 'zrich': 7780, 'salzburg': 6139, 'helsinki': 3393, 'nye': 4877, 'festivities': 2830, 'chapo': 1385, 'arak': 610, 'reactor': 5743, 'fills': 2862, 'obligations': 4886, 'december': 1980, 'indonesian': 3679, 'jakarta': 3882, 'postwar': 5401, '933': 254, '127m': 29, '65yo': 207, 'destroys': 2127, 'assyrian': 694, 'ninth': 4822, 'neptunebut': 4778, 'unseenorbits': 7321, 'menus': 4481, 'daycare': 1949, 'insisting': 3737, 'necessary': 4756, 'preserving': 5458, 'traditions': 7111, 'travel': 7141, 'unusually': 7329, 'swept': 6838, 'conducted': 1652, 'encrypted': 2520, 'plotting': 5329, 'oecd': 4909, 'acquaintance': 329, 'fptp': 3005, 'suited': 6767, 'fledgling': 2922, 'democracies': 2063, 'mature': 4417, 'fundamentally': 3058, 'flawed': 2920, 'hydrogen': 3552, 'throwing': 7016, 'charities': 1395, 'denmarks': 2084, 'meant': 4440, 'tumbling': 7194, 'orbit': 4979, 'incapable': 3640, 'useful': 7365, 'placing': 5288, 'superman': 6780, 'gravitational': 3217, 'holes': 3452, 'detected': 2138, 'iceberg': 3562, 'renders': 5879, 'landlocked': 4055, 'faced': 2736, 'caliphate': 1212, 'slashed': 6446, 'salaries': 6130, 'releasing': 5854, 'drain': 2331, 'pipes': 5274, 'yield': 7752, 'dismembered': 2225, 'corpses': 1762, '88': 243, 'bugged': 1151, 'ki': 3978, 'netanyahu': 4781, 'discussing': 2217, 'wto': 7727, 'choosing': 1433, 'suez': 6751, 'canal': 1240, 'billionaires': 944, '770': 227, 'voter': 7483, 'registration': 5828, 'critics': 1851, 'tories': 7074, 'atheist': 701, 'layoffs': 4089, 'injected': 3720, 'stimulate': 6657, 'tumours': 7196, 'depictions': 2094, 'cleavage': 1495, 'reincarnation': 5840, 'peruvian': 5215, 'polluted': 5361, 'preventive': 5471, 'create': 1821, 'basis': 846, 'iphone': 3829, 'microphones': 4521, 'wiring': 7660, 'submarine': 6729, 'needy': 4761, 'dept': 2103, 'profoundly': 5529, 'salah': 6128, 'abdeslam': 269, 'falling': 2761, 'recognises': 5773, '333': 149, 'females': 2824, 'aerial': 391, 'shown': 6382, 'bleached': 984, 'corals': 1753, 'egyptair': 2450, 'alexandria': 466, 'massively': 4404, 'int': 3760, 'squalid': 6595, 'recruitment': 5790, 'wages': 7495, 'withheld': 7666, 'tournament': 7092, 'deletes': 2050, 'canary': 1241, 'terabyte': 6942, 'panamanian': 5085, 'asset': 686, 'manages': 4349, 'estates': 2590, 'fraudsters': 3016, 'smugglers': 6472, 'celebrities': 1337, 'athletes': 704, 'personally': 5209, 'intervened': 3793, 'trusts': 7184, 'fifty': 2844, 'assets': 687, 'meat': 4444, 'poultry': 5407, 'stewards': 6651, 'starshot': 6621, 'accelerate': 300, 'probes': 5505, 'alpha': 489, 'centauri': 1349, 'strips': 6703, 'investigators': 3817, 'youths': 7764, 'commission': 1578, 'impeach': 3621, 'poo': 5366, 'poos': 5370, 'boaty': 1015, 'mcboatface': 4428, 'christen': 1441, 'certificate': 1362, 'operative': 4962, 'envelope': 2559, 'dc': 1953, 'insulting': 3755, 'abducted': 271, 'wards': 7514, '4g': 179, 'airstrike': 451, 'aleppo': 463, 'puerto': 5619, 'rico': 6007, 'partners': 5125, 'irreversible': 3844, 'affordable': 395, 'wildfire': 7637, 'fort': 2984, 'mcmurray': 4433, 'evacuated': 2609, 'spend': 6558, 'tesla': 6957, 'countering': 1784, 'lobbys': 4226, 'justification': 3951, 'abolition': 279, 'recognise': 5771, 'surrounds': 6805, 'frauds': 3015, 'disobeying': 2229, 'speaker': 6542, 'mossack': 4643, 'fonseca': 2950, '54': 187, 'commonly': 1589, 'hypertension': 3555, 'diabetes': 2153, 'disorders': 2231, 'detail': 2131, 'chilling': 1422, 'commissions': 1581, 'hijackers': 3421, 'headscarves': 3363, 'circling': 1455, '000th': 5, 'pave': 5155, 'ms804': 4673, 'disappears': 2198, 'linkedin': 4197, 'compromised': 1623, 'lodged': 4234, 'adidas': 360, 'manufacture': 4364, 'automated': 751, 'relying': 5861, 'aristotle': 628, 'popular': 5375, 'diving': 2258, 'bleaching': 985, 'shun': 6385, 'intervention': 3794, 'forty': 2987, 'cu': 1873, 'freezer': 3023, 'trafficking': 7114, 'inhabited': 3714, 'accuse': 317, 'flip': 2929, 'flopping': 2933, 'vandals': 7389, 'artworks': 659, 'tasmania': 6895, 'priceless': 5477, 'repair': 5887, 'extortion': 2715, 'upscale': 7347, 'nightclu': 4815, 'doha': 2281, 'wedlock': 7571, 'qatari': 5659, 'beatings': 865, 'decriminalisation': 2001, 'punishing': 5630, 'cox': 1808, 'staggering': 6606, '87': 241, 'venezuelans': 7407, 'athlete': 703, 'competed': 1607, 'paralympic': 5095, 'games': 3087, 'gunpoint': 3272, 'de': 1956, 'janeiro': 3887, 'liesl': 4168, 'tesch': 6956, 'brandishing': 1078, 'bicycle': 932, 'rbs': 5736, 'trading': 7109, 'tanking': 6880, 'istanbul': 3867, 'dispensers': 2232, 'legalisation': 4119, 'kiosks': 4006, 'desks': 2120, 'ounces': 5012, '117': 25, 'alvarez': 495, 'lira': 4203, 'waited': 7498, '1898': 55}\n"
     ]
    },
    {
     "data": {
      "text/plain": [
       "(1989, 7783)"
      ]
     },
     "execution_count": 145,
     "metadata": {},
     "output_type": "execute_result"
    }
   ],
   "source": [
    "# This is my bag of words based on the word count in the respective document, takes an array of texts and counts its words\n",
    "bag=vectorizer.fit_transform(dNews['Top1'])\n",
    "print(vectorizer.vocabulary_)\n",
    "bag.shape\n"
   ]
  },
  {
   "cell_type": "code",
   "execution_count": 146,
   "metadata": {
    "colab": {
     "base_uri": "https://localhost:8080/",
     "height": 34
    },
    "colab_type": "code",
    "id": "7POBwfH5WFni",
    "outputId": "3355fdc9-222e-4e17-bb0e-fc68f7628d3e"
   },
   "outputs": [
    {
     "data": {
      "text/plain": [
       "(1989, 7783)"
      ]
     },
     "execution_count": 146,
     "metadata": {},
     "output_type": "execute_result"
    }
   ],
   "source": [
    "bag.shape"
   ]
  },
  {
   "cell_type": "code",
   "execution_count": 147,
   "metadata": {
    "colab": {
     "base_uri": "https://localhost:8080/",
     "height": 136
    },
    "colab_type": "code",
    "id": "LqWkZJUv4Qdo",
    "outputId": "a584b7f6-60ec-4a56-c031-7515e862ae14"
   },
   "outputs": [
    {
     "name": "stdout",
     "output_type": "stream",
     "text": [
      "[[0. 0. 0. ... 0. 0. 0.]\n",
      " [0. 0. 0. ... 0. 0. 0.]\n",
      " [0. 0. 0. ... 0. 0. 0.]\n",
      " ...\n",
      " [0. 0. 0. ... 0. 0. 0.]\n",
      " [0. 0. 0. ... 0. 0. 0.]\n",
      " [0. 0. 0. ... 0. 0. 0.]]\n"
     ]
    }
   ],
   "source": [
    "print(bag.toarray())"
   ]
  },
  {
   "cell_type": "code",
   "execution_count": 148,
   "metadata": {
    "colab": {},
    "colab_type": "code",
    "id": "0UKBygTgWNvJ"
   },
   "outputs": [],
   "source": [
    "bagArray=bag.toarray()"
   ]
  },
  {
   "cell_type": "code",
   "execution_count": 149,
   "metadata": {
    "colab": {
     "base_uri": "https://localhost:8080/",
     "height": 34
    },
    "colab_type": "code",
    "id": "venGC07HWVqw",
    "outputId": "19724c79-2791-4ac9-a218-11a8cf634c59"
   },
   "outputs": [
    {
     "data": {
      "text/plain": [
       "(1989, 7783)"
      ]
     },
     "execution_count": 149,
     "metadata": {},
     "output_type": "execute_result"
    }
   ],
   "source": [
    "bagArray.shape"
   ]
  },
  {
   "cell_type": "code",
   "execution_count": null,
   "metadata": {
    "colab": {},
    "colab_type": "code",
    "id": "lSJG8LiXlMMV"
   },
   "outputs": [],
   "source": []
  },
  {
   "cell_type": "code",
   "execution_count": 150,
   "metadata": {
    "colab": {},
    "colab_type": "code",
    "id": "LPcSMJ1i4Qrh"
   },
   "outputs": [],
   "source": [
    "from sklearn.feature_extraction.text import TfidfTransformer"
   ]
  },
  {
   "cell_type": "code",
   "execution_count": 151,
   "metadata": {
    "colab": {},
    "colab_type": "code",
    "id": "dcK9K0DD4Q1i"
   },
   "outputs": [],
   "source": [
    "tfidf=TfidfTransformer(use_idf=True,norm='l2',smooth_idf=True)"
   ]
  },
  {
   "cell_type": "code",
   "execution_count": 152,
   "metadata": {
    "colab": {},
    "colab_type": "code",
    "id": "rR3mf8vD8dkO"
   },
   "outputs": [],
   "source": [
    "np.set_printoptions(precision=2)"
   ]
  },
  {
   "cell_type": "code",
   "execution_count": 153,
   "metadata": {
    "colab": {
     "base_uri": "https://localhost:8080/",
     "height": 136
    },
    "colab_type": "code",
    "id": "X7e3wHom8dw7",
    "outputId": "3135b599-d099-4fd7-c783-e9f7880117fd"
   },
   "outputs": [
    {
     "name": "stdout",
     "output_type": "stream",
     "text": [
      "[[0. 0. 0. ... 0. 0. 0.]\n",
      " [0. 0. 0. ... 0. 0. 0.]\n",
      " [0. 0. 0. ... 0. 0. 0.]\n",
      " ...\n",
      " [0. 0. 0. ... 0. 0. 0.]\n",
      " [0. 0. 0. ... 0. 0. 0.]\n",
      " [0. 0. 0. ... 0. 0. 0.]]\n"
     ]
    }
   ],
   "source": [
    "# TfidTransformer class, takes the raw term frequencies from TfidVectorizer class as input and transforms them into tf-idfs\n",
    "print(tfidf.fit_transform(vectorizer.fit_transform(dNews['Top1'])).toarray())"
   ]
  },
  {
   "cell_type": "code",
   "execution_count": 154,
   "metadata": {},
   "outputs": [
    {
     "name": "stdout",
     "output_type": "stream",
     "text": [
      "(5967,)\n",
      "(5967,)\n"
     ]
    }
   ],
   "source": [
    "# X_train = dNews.loc[:1000,\"Top1\"].values\n",
    "X1 = dNews.loc[:,\"Top1\"].values\n",
    "y1 = dNews.loc[:,\"Label\"].values\n",
    "X2 = dNews.loc[:,\"Top2\"].values\n",
    "y2 = dNews.loc[:,\"Label\"].values\n",
    "X3 = dNews.loc[:,\"Top3\"].values\n",
    "y3 = dNews.loc[:,\"Label\"].values\n",
    "X = np.concatenate((X1, X2, X3))\n",
    "y = np.concatenate((y1, y2, y3))\n",
    "print(X.shape)\n",
    "print(y.shape)"
   ]
  },
  {
   "cell_type": "code",
   "execution_count": 155,
   "metadata": {},
   "outputs": [],
   "source": [
    "vectorizer = TfidfVectorizer(stop_words='english', ngram_range=(2,2))"
   ]
  },
  {
   "cell_type": "code",
   "execution_count": 156,
   "metadata": {},
   "outputs": [],
   "source": [
    "\n",
    "from sklearn.model_selection import train_test_split\n",
    "X_train, X_test, y_train, y_test = train_test_split(X, y, test_size=0.50, random_state=42)\n",
    "#.   \n",
    "X_train=vectorizer.fit_transform(X_train)\n",
    "X_test=vectorizer.transform(X_test)"
   ]
  },
  {
   "cell_type": "code",
   "execution_count": 157,
   "metadata": {
    "colab": {
     "base_uri": "https://localhost:8080/",
     "height": 34
    },
    "colab_type": "code",
    "id": "JkYAn3yA8eAY",
    "outputId": "d39d706b-9de2-4f5a-c19d-a55ce9375414"
   },
   "outputs": [
    {
     "data": {
      "text/plain": [
       "(2983, 29910)"
      ]
     },
     "execution_count": 157,
     "metadata": {},
     "output_type": "execute_result"
    }
   ],
   "source": [
    "X_train.shape"
   ]
  },
  {
   "cell_type": "code",
   "execution_count": 158,
   "metadata": {
    "colab": {
     "base_uri": "https://localhost:8080/",
     "height": 34
    },
    "colab_type": "code",
    "id": "olNs-dJEJSqO",
    "outputId": "3ca1ae68-029e-4e84-ce7b-41f8cf3b3235"
   },
   "outputs": [
    {
     "data": {
      "text/plain": [
       "(2984, 29910)"
      ]
     },
     "execution_count": 158,
     "metadata": {},
     "output_type": "execute_result"
    }
   ],
   "source": [
    "X_test.shape"
   ]
  },
  {
   "cell_type": "code",
   "execution_count": null,
   "metadata": {
    "colab": {},
    "colab_type": "code",
    "id": "aTKnDTiHRmUO"
   },
   "outputs": [],
   "source": []
  },
  {
   "cell_type": "code",
   "execution_count": null,
   "metadata": {
    "colab": {},
    "colab_type": "code",
    "id": "JUCU2z6kRmqX"
   },
   "outputs": [],
   "source": []
  },
  {
   "cell_type": "code",
   "execution_count": 159,
   "metadata": {
    "colab": {},
    "colab_type": "code",
    "id": "PRu_MDsDffI8"
   },
   "outputs": [],
   "source": [
    "param_grid =[{'vect__ngram_range': [(1,1)],\n",
    "              'vect__stop_words': [stop, None],\n",
    "              'vect__topkenizer': [tokenizer,tokenizer_porter],\n",
    "              'clf__penalty':['l1','l2'],\n",
    "              'clf__C':[1.0,10.0]}]\n",
    "              "
   ]
  },
  {
   "cell_type": "code",
   "execution_count": 160,
   "metadata": {
    "colab": {},
    "colab_type": "code",
    "id": "19N9yrHFg1fG"
   },
   "outputs": [],
   "source": [
    "lr_tfidf = Pipeline([('vect',tfidf),('clf',LogisticRegression(random_state=0))])"
   ]
  },
  {
   "cell_type": "code",
   "execution_count": 165,
   "metadata": {},
   "outputs": [],
   "source": [
    "#lr_tfidf = Pipeline([('vect',tfidf),('clf',RandomForestClassifier(random_state=0))])"
   ]
  },
  {
   "cell_type": "code",
   "execution_count": 166,
   "metadata": {
    "colab": {},
    "colab_type": "code",
    "id": "FXQYO7gthNbI"
   },
   "outputs": [],
   "source": [
    "gs_lr_tfidf = GridSearchCV(lr_tfidf, param_grid, scoring='accuracy', cv=5, verbose=1, n_jobs=1)"
   ]
  },
  {
   "cell_type": "code",
   "execution_count": 167,
   "metadata": {},
   "outputs": [
    {
     "name": "stdout",
     "output_type": "stream",
     "text": [
      "memory\n",
      "steps\n",
      "verbose\n",
      "vect\n",
      "clf\n",
      "vect__norm\n",
      "vect__smooth_idf\n",
      "vect__sublinear_tf\n",
      "vect__use_idf\n",
      "clf__bootstrap\n",
      "clf__class_weight\n",
      "clf__criterion\n",
      "clf__max_depth\n",
      "clf__max_features\n",
      "clf__max_leaf_nodes\n",
      "clf__min_impurity_decrease\n",
      "clf__min_impurity_split\n",
      "clf__min_samples_leaf\n",
      "clf__min_samples_split\n",
      "clf__min_weight_fraction_leaf\n",
      "clf__n_estimators\n",
      "clf__n_jobs\n",
      "clf__oob_score\n",
      "clf__random_state\n",
      "clf__verbose\n",
      "clf__warm_start\n"
     ]
    }
   ],
   "source": [
    "for param in lr_tfidf.get_params().keys():\n",
    "    print(param)"
   ]
  },
  {
   "cell_type": "code",
   "execution_count": 168,
   "metadata": {
    "colab": {
     "base_uri": "https://localhost:8080/",
     "height": 715
    },
    "colab_type": "code",
    "id": "uu8MhrFvhoxM",
    "outputId": "40044474-a0b0-46e6-8811-ff26f5590235",
    "scrolled": false
   },
   "outputs": [
    {
     "name": "stdout",
     "output_type": "stream",
     "text": [
      "Fitting 5 folds for each of 16 candidates, totalling 80 fits\n"
     ]
    },
    {
     "name": "stderr",
     "output_type": "stream",
     "text": [
      "[Parallel(n_jobs=1)]: Using backend SequentialBackend with 1 concurrent workers.\n"
     ]
    },
    {
     "ename": "ValueError",
     "evalue": "Invalid parameter C for estimator RandomForestClassifier(bootstrap=True, class_weight=None, criterion='gini',\n                       max_depth=None, max_features='auto', max_leaf_nodes=None,\n                       min_impurity_decrease=0.0, min_impurity_split=None,\n                       min_samples_leaf=1, min_samples_split=2,\n                       min_weight_fraction_leaf=0.0, n_estimators='warn',\n                       n_jobs=None, oob_score=False, random_state=0, verbose=0,\n                       warm_start=False). Check the list of available parameters with `estimator.get_params().keys()`.",
     "output_type": "error",
     "traceback": [
      "\u001b[0;31m---------------------------------------------------------------------------\u001b[0m",
      "\u001b[0;31mValueError\u001b[0m                                Traceback (most recent call last)",
      "\u001b[0;32m<ipython-input-168-891f8ef7d396>\u001b[0m in \u001b[0;36m<module>\u001b[0;34m\u001b[0m\n\u001b[0;32m----> 1\u001b[0;31m \u001b[0mgs_lr_tfidf\u001b[0m\u001b[0;34m.\u001b[0m\u001b[0mfit\u001b[0m\u001b[0;34m(\u001b[0m\u001b[0mX_train\u001b[0m\u001b[0;34m,\u001b[0m \u001b[0my_train\u001b[0m\u001b[0;34m)\u001b[0m\u001b[0;34m\u001b[0m\u001b[0;34m\u001b[0m\u001b[0m\n\u001b[0m",
      "\u001b[0;32m~/opt/anaconda3/lib/python3.7/site-packages/sklearn/model_selection/_search.py\u001b[0m in \u001b[0;36mfit\u001b[0;34m(self, X, y, groups, **fit_params)\u001b[0m\n\u001b[1;32m    686\u001b[0m                 \u001b[0;32mreturn\u001b[0m \u001b[0mresults\u001b[0m\u001b[0;34m\u001b[0m\u001b[0;34m\u001b[0m\u001b[0m\n\u001b[1;32m    687\u001b[0m \u001b[0;34m\u001b[0m\u001b[0m\n\u001b[0;32m--> 688\u001b[0;31m             \u001b[0mself\u001b[0m\u001b[0;34m.\u001b[0m\u001b[0m_run_search\u001b[0m\u001b[0;34m(\u001b[0m\u001b[0mevaluate_candidates\u001b[0m\u001b[0;34m)\u001b[0m\u001b[0;34m\u001b[0m\u001b[0;34m\u001b[0m\u001b[0m\n\u001b[0m\u001b[1;32m    689\u001b[0m \u001b[0;34m\u001b[0m\u001b[0m\n\u001b[1;32m    690\u001b[0m         \u001b[0;31m# For multi-metric evaluation, store the best_index_, best_params_ and\u001b[0m\u001b[0;34m\u001b[0m\u001b[0;34m\u001b[0m\u001b[0;34m\u001b[0m\u001b[0m\n",
      "\u001b[0;32m~/opt/anaconda3/lib/python3.7/site-packages/sklearn/model_selection/_search.py\u001b[0m in \u001b[0;36m_run_search\u001b[0;34m(self, evaluate_candidates)\u001b[0m\n\u001b[1;32m   1147\u001b[0m     \u001b[0;32mdef\u001b[0m \u001b[0m_run_search\u001b[0m\u001b[0;34m(\u001b[0m\u001b[0mself\u001b[0m\u001b[0;34m,\u001b[0m \u001b[0mevaluate_candidates\u001b[0m\u001b[0;34m)\u001b[0m\u001b[0;34m:\u001b[0m\u001b[0;34m\u001b[0m\u001b[0;34m\u001b[0m\u001b[0m\n\u001b[1;32m   1148\u001b[0m         \u001b[0;34m\"\"\"Search all candidates in param_grid\"\"\"\u001b[0m\u001b[0;34m\u001b[0m\u001b[0;34m\u001b[0m\u001b[0m\n\u001b[0;32m-> 1149\u001b[0;31m         \u001b[0mevaluate_candidates\u001b[0m\u001b[0;34m(\u001b[0m\u001b[0mParameterGrid\u001b[0m\u001b[0;34m(\u001b[0m\u001b[0mself\u001b[0m\u001b[0;34m.\u001b[0m\u001b[0mparam_grid\u001b[0m\u001b[0;34m)\u001b[0m\u001b[0;34m)\u001b[0m\u001b[0;34m\u001b[0m\u001b[0;34m\u001b[0m\u001b[0m\n\u001b[0m\u001b[1;32m   1150\u001b[0m \u001b[0;34m\u001b[0m\u001b[0m\n\u001b[1;32m   1151\u001b[0m \u001b[0;34m\u001b[0m\u001b[0m\n",
      "\u001b[0;32m~/opt/anaconda3/lib/python3.7/site-packages/sklearn/model_selection/_search.py\u001b[0m in \u001b[0;36mevaluate_candidates\u001b[0;34m(candidate_params)\u001b[0m\n\u001b[1;32m    665\u001b[0m                                \u001b[0;32mfor\u001b[0m \u001b[0mparameters\u001b[0m\u001b[0;34m,\u001b[0m \u001b[0;34m(\u001b[0m\u001b[0mtrain\u001b[0m\u001b[0;34m,\u001b[0m \u001b[0mtest\u001b[0m\u001b[0;34m)\u001b[0m\u001b[0;34m\u001b[0m\u001b[0;34m\u001b[0m\u001b[0m\n\u001b[1;32m    666\u001b[0m                                in product(candidate_params,\n\u001b[0;32m--> 667\u001b[0;31m                                           cv.split(X, y, groups)))\n\u001b[0m\u001b[1;32m    668\u001b[0m \u001b[0;34m\u001b[0m\u001b[0m\n\u001b[1;32m    669\u001b[0m                 \u001b[0;32mif\u001b[0m \u001b[0mlen\u001b[0m\u001b[0;34m(\u001b[0m\u001b[0mout\u001b[0m\u001b[0;34m)\u001b[0m \u001b[0;34m<\u001b[0m \u001b[0;36m1\u001b[0m\u001b[0;34m:\u001b[0m\u001b[0;34m\u001b[0m\u001b[0;34m\u001b[0m\u001b[0m\n",
      "\u001b[0;32m~/opt/anaconda3/lib/python3.7/site-packages/joblib/parallel.py\u001b[0m in \u001b[0;36m__call__\u001b[0;34m(self, iterable)\u001b[0m\n\u001b[1;32m    919\u001b[0m             \u001b[0;31m# remaining jobs.\u001b[0m\u001b[0;34m\u001b[0m\u001b[0;34m\u001b[0m\u001b[0;34m\u001b[0m\u001b[0m\n\u001b[1;32m    920\u001b[0m             \u001b[0mself\u001b[0m\u001b[0;34m.\u001b[0m\u001b[0m_iterating\u001b[0m \u001b[0;34m=\u001b[0m \u001b[0;32mFalse\u001b[0m\u001b[0;34m\u001b[0m\u001b[0;34m\u001b[0m\u001b[0m\n\u001b[0;32m--> 921\u001b[0;31m             \u001b[0;32mif\u001b[0m \u001b[0mself\u001b[0m\u001b[0;34m.\u001b[0m\u001b[0mdispatch_one_batch\u001b[0m\u001b[0;34m(\u001b[0m\u001b[0miterator\u001b[0m\u001b[0;34m)\u001b[0m\u001b[0;34m:\u001b[0m\u001b[0;34m\u001b[0m\u001b[0;34m\u001b[0m\u001b[0m\n\u001b[0m\u001b[1;32m    922\u001b[0m                 \u001b[0mself\u001b[0m\u001b[0;34m.\u001b[0m\u001b[0m_iterating\u001b[0m \u001b[0;34m=\u001b[0m \u001b[0mself\u001b[0m\u001b[0;34m.\u001b[0m\u001b[0m_original_iterator\u001b[0m \u001b[0;32mis\u001b[0m \u001b[0;32mnot\u001b[0m \u001b[0;32mNone\u001b[0m\u001b[0;34m\u001b[0m\u001b[0;34m\u001b[0m\u001b[0m\n\u001b[1;32m    923\u001b[0m \u001b[0;34m\u001b[0m\u001b[0m\n",
      "\u001b[0;32m~/opt/anaconda3/lib/python3.7/site-packages/joblib/parallel.py\u001b[0m in \u001b[0;36mdispatch_one_batch\u001b[0;34m(self, iterator)\u001b[0m\n\u001b[1;32m    757\u001b[0m                 \u001b[0;32mreturn\u001b[0m \u001b[0;32mFalse\u001b[0m\u001b[0;34m\u001b[0m\u001b[0;34m\u001b[0m\u001b[0m\n\u001b[1;32m    758\u001b[0m             \u001b[0;32melse\u001b[0m\u001b[0;34m:\u001b[0m\u001b[0;34m\u001b[0m\u001b[0;34m\u001b[0m\u001b[0m\n\u001b[0;32m--> 759\u001b[0;31m                 \u001b[0mself\u001b[0m\u001b[0;34m.\u001b[0m\u001b[0m_dispatch\u001b[0m\u001b[0;34m(\u001b[0m\u001b[0mtasks\u001b[0m\u001b[0;34m)\u001b[0m\u001b[0;34m\u001b[0m\u001b[0;34m\u001b[0m\u001b[0m\n\u001b[0m\u001b[1;32m    760\u001b[0m                 \u001b[0;32mreturn\u001b[0m \u001b[0;32mTrue\u001b[0m\u001b[0;34m\u001b[0m\u001b[0;34m\u001b[0m\u001b[0m\n\u001b[1;32m    761\u001b[0m \u001b[0;34m\u001b[0m\u001b[0m\n",
      "\u001b[0;32m~/opt/anaconda3/lib/python3.7/site-packages/joblib/parallel.py\u001b[0m in \u001b[0;36m_dispatch\u001b[0;34m(self, batch)\u001b[0m\n\u001b[1;32m    714\u001b[0m         \u001b[0;32mwith\u001b[0m \u001b[0mself\u001b[0m\u001b[0;34m.\u001b[0m\u001b[0m_lock\u001b[0m\u001b[0;34m:\u001b[0m\u001b[0;34m\u001b[0m\u001b[0;34m\u001b[0m\u001b[0m\n\u001b[1;32m    715\u001b[0m             \u001b[0mjob_idx\u001b[0m \u001b[0;34m=\u001b[0m \u001b[0mlen\u001b[0m\u001b[0;34m(\u001b[0m\u001b[0mself\u001b[0m\u001b[0;34m.\u001b[0m\u001b[0m_jobs\u001b[0m\u001b[0;34m)\u001b[0m\u001b[0;34m\u001b[0m\u001b[0;34m\u001b[0m\u001b[0m\n\u001b[0;32m--> 716\u001b[0;31m             \u001b[0mjob\u001b[0m \u001b[0;34m=\u001b[0m \u001b[0mself\u001b[0m\u001b[0;34m.\u001b[0m\u001b[0m_backend\u001b[0m\u001b[0;34m.\u001b[0m\u001b[0mapply_async\u001b[0m\u001b[0;34m(\u001b[0m\u001b[0mbatch\u001b[0m\u001b[0;34m,\u001b[0m \u001b[0mcallback\u001b[0m\u001b[0;34m=\u001b[0m\u001b[0mcb\u001b[0m\u001b[0;34m)\u001b[0m\u001b[0;34m\u001b[0m\u001b[0;34m\u001b[0m\u001b[0m\n\u001b[0m\u001b[1;32m    717\u001b[0m             \u001b[0;31m# A job can complete so quickly than its callback is\u001b[0m\u001b[0;34m\u001b[0m\u001b[0;34m\u001b[0m\u001b[0;34m\u001b[0m\u001b[0m\n\u001b[1;32m    718\u001b[0m             \u001b[0;31m# called before we get here, causing self._jobs to\u001b[0m\u001b[0;34m\u001b[0m\u001b[0;34m\u001b[0m\u001b[0;34m\u001b[0m\u001b[0m\n",
      "\u001b[0;32m~/opt/anaconda3/lib/python3.7/site-packages/joblib/_parallel_backends.py\u001b[0m in \u001b[0;36mapply_async\u001b[0;34m(self, func, callback)\u001b[0m\n\u001b[1;32m    180\u001b[0m     \u001b[0;32mdef\u001b[0m \u001b[0mapply_async\u001b[0m\u001b[0;34m(\u001b[0m\u001b[0mself\u001b[0m\u001b[0;34m,\u001b[0m \u001b[0mfunc\u001b[0m\u001b[0;34m,\u001b[0m \u001b[0mcallback\u001b[0m\u001b[0;34m=\u001b[0m\u001b[0;32mNone\u001b[0m\u001b[0;34m)\u001b[0m\u001b[0;34m:\u001b[0m\u001b[0;34m\u001b[0m\u001b[0;34m\u001b[0m\u001b[0m\n\u001b[1;32m    181\u001b[0m         \u001b[0;34m\"\"\"Schedule a func to be run\"\"\"\u001b[0m\u001b[0;34m\u001b[0m\u001b[0;34m\u001b[0m\u001b[0m\n\u001b[0;32m--> 182\u001b[0;31m         \u001b[0mresult\u001b[0m \u001b[0;34m=\u001b[0m \u001b[0mImmediateResult\u001b[0m\u001b[0;34m(\u001b[0m\u001b[0mfunc\u001b[0m\u001b[0;34m)\u001b[0m\u001b[0;34m\u001b[0m\u001b[0;34m\u001b[0m\u001b[0m\n\u001b[0m\u001b[1;32m    183\u001b[0m         \u001b[0;32mif\u001b[0m \u001b[0mcallback\u001b[0m\u001b[0;34m:\u001b[0m\u001b[0;34m\u001b[0m\u001b[0;34m\u001b[0m\u001b[0m\n\u001b[1;32m    184\u001b[0m             \u001b[0mcallback\u001b[0m\u001b[0;34m(\u001b[0m\u001b[0mresult\u001b[0m\u001b[0;34m)\u001b[0m\u001b[0;34m\u001b[0m\u001b[0;34m\u001b[0m\u001b[0m\n",
      "\u001b[0;32m~/opt/anaconda3/lib/python3.7/site-packages/joblib/_parallel_backends.py\u001b[0m in \u001b[0;36m__init__\u001b[0;34m(self, batch)\u001b[0m\n\u001b[1;32m    547\u001b[0m         \u001b[0;31m# Don't delay the application, to avoid keeping the input\u001b[0m\u001b[0;34m\u001b[0m\u001b[0;34m\u001b[0m\u001b[0;34m\u001b[0m\u001b[0m\n\u001b[1;32m    548\u001b[0m         \u001b[0;31m# arguments in memory\u001b[0m\u001b[0;34m\u001b[0m\u001b[0;34m\u001b[0m\u001b[0;34m\u001b[0m\u001b[0m\n\u001b[0;32m--> 549\u001b[0;31m         \u001b[0mself\u001b[0m\u001b[0;34m.\u001b[0m\u001b[0mresults\u001b[0m \u001b[0;34m=\u001b[0m \u001b[0mbatch\u001b[0m\u001b[0;34m(\u001b[0m\u001b[0;34m)\u001b[0m\u001b[0;34m\u001b[0m\u001b[0;34m\u001b[0m\u001b[0m\n\u001b[0m\u001b[1;32m    550\u001b[0m \u001b[0;34m\u001b[0m\u001b[0m\n\u001b[1;32m    551\u001b[0m     \u001b[0;32mdef\u001b[0m \u001b[0mget\u001b[0m\u001b[0;34m(\u001b[0m\u001b[0mself\u001b[0m\u001b[0;34m)\u001b[0m\u001b[0;34m:\u001b[0m\u001b[0;34m\u001b[0m\u001b[0;34m\u001b[0m\u001b[0m\n",
      "\u001b[0;32m~/opt/anaconda3/lib/python3.7/site-packages/joblib/parallel.py\u001b[0m in \u001b[0;36m__call__\u001b[0;34m(self)\u001b[0m\n\u001b[1;32m    223\u001b[0m         \u001b[0;32mwith\u001b[0m \u001b[0mparallel_backend\u001b[0m\u001b[0;34m(\u001b[0m\u001b[0mself\u001b[0m\u001b[0;34m.\u001b[0m\u001b[0m_backend\u001b[0m\u001b[0;34m,\u001b[0m \u001b[0mn_jobs\u001b[0m\u001b[0;34m=\u001b[0m\u001b[0mself\u001b[0m\u001b[0;34m.\u001b[0m\u001b[0m_n_jobs\u001b[0m\u001b[0;34m)\u001b[0m\u001b[0;34m:\u001b[0m\u001b[0;34m\u001b[0m\u001b[0;34m\u001b[0m\u001b[0m\n\u001b[1;32m    224\u001b[0m             return [func(*args, **kwargs)\n\u001b[0;32m--> 225\u001b[0;31m                     for func, args, kwargs in self.items]\n\u001b[0m\u001b[1;32m    226\u001b[0m \u001b[0;34m\u001b[0m\u001b[0m\n\u001b[1;32m    227\u001b[0m     \u001b[0;32mdef\u001b[0m \u001b[0m__len__\u001b[0m\u001b[0;34m(\u001b[0m\u001b[0mself\u001b[0m\u001b[0;34m)\u001b[0m\u001b[0;34m:\u001b[0m\u001b[0;34m\u001b[0m\u001b[0;34m\u001b[0m\u001b[0m\n",
      "\u001b[0;32m~/opt/anaconda3/lib/python3.7/site-packages/joblib/parallel.py\u001b[0m in \u001b[0;36m<listcomp>\u001b[0;34m(.0)\u001b[0m\n\u001b[1;32m    223\u001b[0m         \u001b[0;32mwith\u001b[0m \u001b[0mparallel_backend\u001b[0m\u001b[0;34m(\u001b[0m\u001b[0mself\u001b[0m\u001b[0;34m.\u001b[0m\u001b[0m_backend\u001b[0m\u001b[0;34m,\u001b[0m \u001b[0mn_jobs\u001b[0m\u001b[0;34m=\u001b[0m\u001b[0mself\u001b[0m\u001b[0;34m.\u001b[0m\u001b[0m_n_jobs\u001b[0m\u001b[0;34m)\u001b[0m\u001b[0;34m:\u001b[0m\u001b[0;34m\u001b[0m\u001b[0;34m\u001b[0m\u001b[0m\n\u001b[1;32m    224\u001b[0m             return [func(*args, **kwargs)\n\u001b[0;32m--> 225\u001b[0;31m                     for func, args, kwargs in self.items]\n\u001b[0m\u001b[1;32m    226\u001b[0m \u001b[0;34m\u001b[0m\u001b[0m\n\u001b[1;32m    227\u001b[0m     \u001b[0;32mdef\u001b[0m \u001b[0m__len__\u001b[0m\u001b[0;34m(\u001b[0m\u001b[0mself\u001b[0m\u001b[0;34m)\u001b[0m\u001b[0;34m:\u001b[0m\u001b[0;34m\u001b[0m\u001b[0;34m\u001b[0m\u001b[0m\n",
      "\u001b[0;32m~/opt/anaconda3/lib/python3.7/site-packages/sklearn/model_selection/_validation.py\u001b[0m in \u001b[0;36m_fit_and_score\u001b[0;34m(estimator, X, y, scorer, train, test, verbose, parameters, fit_params, return_train_score, return_parameters, return_n_test_samples, return_times, return_estimator, error_score)\u001b[0m\n\u001b[1;32m    501\u001b[0m     \u001b[0mtrain_scores\u001b[0m \u001b[0;34m=\u001b[0m \u001b[0;34m{\u001b[0m\u001b[0;34m}\u001b[0m\u001b[0;34m\u001b[0m\u001b[0;34m\u001b[0m\u001b[0m\n\u001b[1;32m    502\u001b[0m     \u001b[0;32mif\u001b[0m \u001b[0mparameters\u001b[0m \u001b[0;32mis\u001b[0m \u001b[0;32mnot\u001b[0m \u001b[0;32mNone\u001b[0m\u001b[0;34m:\u001b[0m\u001b[0;34m\u001b[0m\u001b[0;34m\u001b[0m\u001b[0m\n\u001b[0;32m--> 503\u001b[0;31m         \u001b[0mestimator\u001b[0m\u001b[0;34m.\u001b[0m\u001b[0mset_params\u001b[0m\u001b[0;34m(\u001b[0m\u001b[0;34m**\u001b[0m\u001b[0mparameters\u001b[0m\u001b[0;34m)\u001b[0m\u001b[0;34m\u001b[0m\u001b[0;34m\u001b[0m\u001b[0m\n\u001b[0m\u001b[1;32m    504\u001b[0m \u001b[0;34m\u001b[0m\u001b[0m\n\u001b[1;32m    505\u001b[0m     \u001b[0mstart_time\u001b[0m \u001b[0;34m=\u001b[0m \u001b[0mtime\u001b[0m\u001b[0;34m.\u001b[0m\u001b[0mtime\u001b[0m\u001b[0;34m(\u001b[0m\u001b[0;34m)\u001b[0m\u001b[0;34m\u001b[0m\u001b[0;34m\u001b[0m\u001b[0m\n",
      "\u001b[0;32m~/opt/anaconda3/lib/python3.7/site-packages/sklearn/pipeline.py\u001b[0m in \u001b[0;36mset_params\u001b[0;34m(self, **kwargs)\u001b[0m\n\u001b[1;32m    162\u001b[0m         \u001b[0mself\u001b[0m\u001b[0;34m\u001b[0m\u001b[0;34m\u001b[0m\u001b[0m\n\u001b[1;32m    163\u001b[0m         \"\"\"\n\u001b[0;32m--> 164\u001b[0;31m         \u001b[0mself\u001b[0m\u001b[0;34m.\u001b[0m\u001b[0m_set_params\u001b[0m\u001b[0;34m(\u001b[0m\u001b[0;34m'steps'\u001b[0m\u001b[0;34m,\u001b[0m \u001b[0;34m**\u001b[0m\u001b[0mkwargs\u001b[0m\u001b[0;34m)\u001b[0m\u001b[0;34m\u001b[0m\u001b[0;34m\u001b[0m\u001b[0m\n\u001b[0m\u001b[1;32m    165\u001b[0m         \u001b[0;32mreturn\u001b[0m \u001b[0mself\u001b[0m\u001b[0;34m\u001b[0m\u001b[0;34m\u001b[0m\u001b[0m\n\u001b[1;32m    166\u001b[0m \u001b[0;34m\u001b[0m\u001b[0m\n",
      "\u001b[0;32m~/opt/anaconda3/lib/python3.7/site-packages/sklearn/utils/metaestimators.py\u001b[0m in \u001b[0;36m_set_params\u001b[0;34m(self, attr, **params)\u001b[0m\n\u001b[1;32m     48\u001b[0m                 \u001b[0mself\u001b[0m\u001b[0;34m.\u001b[0m\u001b[0m_replace_estimator\u001b[0m\u001b[0;34m(\u001b[0m\u001b[0mattr\u001b[0m\u001b[0;34m,\u001b[0m \u001b[0mname\u001b[0m\u001b[0;34m,\u001b[0m \u001b[0mparams\u001b[0m\u001b[0;34m.\u001b[0m\u001b[0mpop\u001b[0m\u001b[0;34m(\u001b[0m\u001b[0mname\u001b[0m\u001b[0;34m)\u001b[0m\u001b[0;34m)\u001b[0m\u001b[0;34m\u001b[0m\u001b[0;34m\u001b[0m\u001b[0m\n\u001b[1;32m     49\u001b[0m         \u001b[0;31m# 3. Step parameters and other initialisation arguments\u001b[0m\u001b[0;34m\u001b[0m\u001b[0;34m\u001b[0m\u001b[0;34m\u001b[0m\u001b[0m\n\u001b[0;32m---> 50\u001b[0;31m         \u001b[0msuper\u001b[0m\u001b[0;34m(\u001b[0m\u001b[0;34m)\u001b[0m\u001b[0;34m.\u001b[0m\u001b[0mset_params\u001b[0m\u001b[0;34m(\u001b[0m\u001b[0;34m**\u001b[0m\u001b[0mparams\u001b[0m\u001b[0;34m)\u001b[0m\u001b[0;34m\u001b[0m\u001b[0;34m\u001b[0m\u001b[0m\n\u001b[0m\u001b[1;32m     51\u001b[0m         \u001b[0;32mreturn\u001b[0m \u001b[0mself\u001b[0m\u001b[0;34m\u001b[0m\u001b[0;34m\u001b[0m\u001b[0m\n\u001b[1;32m     52\u001b[0m \u001b[0;34m\u001b[0m\u001b[0m\n",
      "\u001b[0;32m~/opt/anaconda3/lib/python3.7/site-packages/sklearn/base.py\u001b[0m in \u001b[0;36mset_params\u001b[0;34m(self, **params)\u001b[0m\n\u001b[1;32m    231\u001b[0m \u001b[0;34m\u001b[0m\u001b[0m\n\u001b[1;32m    232\u001b[0m         \u001b[0;32mfor\u001b[0m \u001b[0mkey\u001b[0m\u001b[0;34m,\u001b[0m \u001b[0msub_params\u001b[0m \u001b[0;32min\u001b[0m \u001b[0mnested_params\u001b[0m\u001b[0;34m.\u001b[0m\u001b[0mitems\u001b[0m\u001b[0;34m(\u001b[0m\u001b[0;34m)\u001b[0m\u001b[0;34m:\u001b[0m\u001b[0;34m\u001b[0m\u001b[0;34m\u001b[0m\u001b[0m\n\u001b[0;32m--> 233\u001b[0;31m             \u001b[0mvalid_params\u001b[0m\u001b[0;34m[\u001b[0m\u001b[0mkey\u001b[0m\u001b[0;34m]\u001b[0m\u001b[0;34m.\u001b[0m\u001b[0mset_params\u001b[0m\u001b[0;34m(\u001b[0m\u001b[0;34m**\u001b[0m\u001b[0msub_params\u001b[0m\u001b[0;34m)\u001b[0m\u001b[0;34m\u001b[0m\u001b[0;34m\u001b[0m\u001b[0m\n\u001b[0m\u001b[1;32m    234\u001b[0m \u001b[0;34m\u001b[0m\u001b[0m\n\u001b[1;32m    235\u001b[0m         \u001b[0;32mreturn\u001b[0m \u001b[0mself\u001b[0m\u001b[0;34m\u001b[0m\u001b[0;34m\u001b[0m\u001b[0m\n",
      "\u001b[0;32m~/opt/anaconda3/lib/python3.7/site-packages/sklearn/base.py\u001b[0m in \u001b[0;36mset_params\u001b[0;34m(self, **params)\u001b[0m\n\u001b[1;32m    222\u001b[0m                                  \u001b[0;34m'Check the list of available parameters '\u001b[0m\u001b[0;34m\u001b[0m\u001b[0;34m\u001b[0m\u001b[0m\n\u001b[1;32m    223\u001b[0m                                  \u001b[0;34m'with `estimator.get_params().keys()`.'\u001b[0m \u001b[0;34m%\u001b[0m\u001b[0;34m\u001b[0m\u001b[0;34m\u001b[0m\u001b[0m\n\u001b[0;32m--> 224\u001b[0;31m                                  (key, self))\n\u001b[0m\u001b[1;32m    225\u001b[0m \u001b[0;34m\u001b[0m\u001b[0m\n\u001b[1;32m    226\u001b[0m             \u001b[0;32mif\u001b[0m \u001b[0mdelim\u001b[0m\u001b[0;34m:\u001b[0m\u001b[0;34m\u001b[0m\u001b[0;34m\u001b[0m\u001b[0m\n",
      "\u001b[0;31mValueError\u001b[0m: Invalid parameter C for estimator RandomForestClassifier(bootstrap=True, class_weight=None, criterion='gini',\n                       max_depth=None, max_features='auto', max_leaf_nodes=None,\n                       min_impurity_decrease=0.0, min_impurity_split=None,\n                       min_samples_leaf=1, min_samples_split=2,\n                       min_weight_fraction_leaf=0.0, n_estimators='warn',\n                       n_jobs=None, oob_score=False, random_state=0, verbose=0,\n                       warm_start=False). Check the list of available parameters with `estimator.get_params().keys()`."
     ]
    }
   ],
   "source": [
    "gs_lr_tfidf.fit(X_train, y_train)"
   ]
  },
  {
   "cell_type": "code",
   "execution_count": null,
   "metadata": {
    "colab": {},
    "colab_type": "code",
    "id": "3LFPlPJqhzr2"
   },
   "outputs": [],
   "source": []
  },
  {
   "cell_type": "code",
   "execution_count": null,
   "metadata": {},
   "outputs": [],
   "source": []
  }
 ],
 "metadata": {
  "colab": {
   "collapsed_sections": [
    "WsqbxzYQju2n"
   ],
   "name": "Copy of final_project.ipynb",
   "provenance": []
  },
  "kernelspec": {
   "display_name": "Python 3",
   "language": "python",
   "name": "python3"
  },
  "language_info": {
   "codemirror_mode": {
    "name": "ipython",
    "version": 3
   },
   "file_extension": ".py",
   "mimetype": "text/x-python",
   "name": "python",
   "nbconvert_exporter": "python",
   "pygments_lexer": "ipython3",
   "version": "3.7.4"
  }
 },
 "nbformat": 4,
 "nbformat_minor": 1
}
