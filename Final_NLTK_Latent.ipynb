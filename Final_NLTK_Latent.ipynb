{
 "cells": [
  {
   "cell_type": "code",
   "execution_count": 536,
   "metadata": {},
   "outputs": [],
   "source": [
    "import nltk\n",
    "#.               Added sentence Tokenizer. Alemi 04/12/2020\n",
    "from nltk.tokenize import word_tokenize, sent_tokenize\n",
    "from nltk.tag import pos_tag\n",
    "import pandas as pd"
   ]
  },
  {
   "cell_type": "code",
   "execution_count": 537,
   "metadata": {},
   "outputs": [],
   "source": [
    "# Import python libraries\n",
    "\n",
    "import numpy as np\n",
    "import pandas as pd\n",
    "import os\n",
    "import re"
   ]
  },
  {
   "cell_type": "code",
   "execution_count": 538,
   "metadata": {},
   "outputs": [],
   "source": [
    "# Import dependencies\n",
    "\n",
    "from sklearn.feature_extraction.text import CountVectorizer\n",
    "from sklearn.feature_extraction.text import TfidfTransformer\n",
    "from sklearn.model_selection import GridSearchCV\n",
    "from sklearn.pipeline import Pipeline\n",
    "from sklearn.linear_model import LogisticRegression\n",
    "from sklearn.feature_extraction.text import TfidfVectorizer\n",
    "from sklearn.pipeline import make_pipeline\n",
    "from sklearn.naive_bayes import MultinomialNB\n",
    "from sklearn.model_selection import train_test_split\n",
    "import matplotlib.pyplot as plt"
   ]
  },
  {
   "cell_type": "markdown",
   "metadata": {},
   "source": [
    "# Syntax Structure\n"
   ]
  },
  {
   "cell_type": "code",
   "execution_count": 539,
   "metadata": {
    "scrolled": true
   },
   "outputs": [
    {
     "data": {
      "text/html": [
       "<div>\n",
       "<style scoped>\n",
       "    .dataframe tbody tr th:only-of-type {\n",
       "        vertical-align: middle;\n",
       "    }\n",
       "\n",
       "    .dataframe tbody tr th {\n",
       "        vertical-align: top;\n",
       "    }\n",
       "\n",
       "    .dataframe thead th {\n",
       "        text-align: right;\n",
       "    }\n",
       "</style>\n",
       "<table border=\"1\" class=\"dataframe\">\n",
       "  <thead>\n",
       "    <tr style=\"text-align: right;\">\n",
       "      <th></th>\n",
       "      <th>Date</th>\n",
       "      <th>News</th>\n",
       "    </tr>\n",
       "  </thead>\n",
       "  <tbody>\n",
       "    <tr>\n",
       "      <td>73603</td>\n",
       "      <td>2008-06-08</td>\n",
       "      <td>b'Man goes berzerk in Akihabara and stabs ever...</td>\n",
       "    </tr>\n",
       "    <tr>\n",
       "      <td>73604</td>\n",
       "      <td>2008-06-08</td>\n",
       "      <td>b'Threat of world AIDS pandemic among heterose...</td>\n",
       "    </tr>\n",
       "    <tr>\n",
       "      <td>73605</td>\n",
       "      <td>2008-06-08</td>\n",
       "      <td>b'Angst in Ankara: Turkey Steers into a Danger...</td>\n",
       "    </tr>\n",
       "    <tr>\n",
       "      <td>73606</td>\n",
       "      <td>2008-06-08</td>\n",
       "      <td>b\"UK: Identity cards 'could be used to spy on ...</td>\n",
       "    </tr>\n",
       "    <tr>\n",
       "      <td>73607</td>\n",
       "      <td>2008-06-08</td>\n",
       "      <td>b'Marriage, they said, was reduced to the stat...</td>\n",
       "    </tr>\n",
       "  </tbody>\n",
       "</table>\n",
       "</div>"
      ],
      "text/plain": [
       "             Date                                               News\n",
       "73603  2008-06-08  b'Man goes berzerk in Akihabara and stabs ever...\n",
       "73604  2008-06-08  b'Threat of world AIDS pandemic among heterose...\n",
       "73605  2008-06-08  b'Angst in Ankara: Turkey Steers into a Danger...\n",
       "73606  2008-06-08  b\"UK: Identity cards 'could be used to spy on ...\n",
       "73607  2008-06-08  b'Marriage, they said, was reduced to the stat..."
      ]
     },
     "execution_count": 539,
     "metadata": {},
     "output_type": "execute_result"
    }
   ],
   "source": [
    "rNews=pd.read_csv('RedditNews.csv')\n",
    "rNews.tail()"
   ]
  },
  {
   "cell_type": "code",
   "execution_count": 540,
   "metadata": {},
   "outputs": [],
   "source": [
    "dateparser = lambda x:pd.datetime.strptime(x, \"%Y-%m-%d\")"
   ]
  },
  {
   "cell_type": "code",
   "execution_count": 541,
   "metadata": {
    "scrolled": true
   },
   "outputs": [
    {
     "data": {
      "text/html": [
       "<div>\n",
       "<style scoped>\n",
       "    .dataframe tbody tr th:only-of-type {\n",
       "        vertical-align: middle;\n",
       "    }\n",
       "\n",
       "    .dataframe tbody tr th {\n",
       "        vertical-align: top;\n",
       "    }\n",
       "\n",
       "    .dataframe thead th {\n",
       "        text-align: right;\n",
       "    }\n",
       "</style>\n",
       "<table border=\"1\" class=\"dataframe\">\n",
       "  <thead>\n",
       "    <tr style=\"text-align: right;\">\n",
       "      <th></th>\n",
       "      <th>Date</th>\n",
       "      <th>Label</th>\n",
       "      <th>Top1</th>\n",
       "      <th>Top2</th>\n",
       "      <th>Top3</th>\n",
       "      <th>Top4</th>\n",
       "      <th>Top5</th>\n",
       "      <th>Top6</th>\n",
       "      <th>Top7</th>\n",
       "      <th>Top8</th>\n",
       "      <th>...</th>\n",
       "      <th>Top16</th>\n",
       "      <th>Top17</th>\n",
       "      <th>Top18</th>\n",
       "      <th>Top19</th>\n",
       "      <th>Top20</th>\n",
       "      <th>Top21</th>\n",
       "      <th>Top22</th>\n",
       "      <th>Top23</th>\n",
       "      <th>Top24</th>\n",
       "      <th>Top25</th>\n",
       "    </tr>\n",
       "  </thead>\n",
       "  <tbody>\n",
       "    <tr>\n",
       "      <td>0</td>\n",
       "      <td>2008-08-08</td>\n",
       "      <td>0</td>\n",
       "      <td>b\"Georgia 'downs two Russian warplanes' as cou...</td>\n",
       "      <td>b'BREAKING: Musharraf to be impeached.'</td>\n",
       "      <td>b'Russia Today: Columns of troops roll into So...</td>\n",
       "      <td>b'Russian tanks are moving towards the capital...</td>\n",
       "      <td>b\"Afghan children raped with 'impunity,' U.N. ...</td>\n",
       "      <td>b'150 Russian tanks have entered South Ossetia...</td>\n",
       "      <td>b\"Breaking: Georgia invades South Ossetia, Rus...</td>\n",
       "      <td>b\"The 'enemy combatent' trials are nothing but...</td>\n",
       "      <td>...</td>\n",
       "      <td>b'Georgia Invades South Ossetia - if Russia ge...</td>\n",
       "      <td>b'Al-Qaeda Faces Islamist Backlash'</td>\n",
       "      <td>b'Condoleezza Rice: \"The US would not act to p...</td>\n",
       "      <td>b'This is a busy day:  The European Union has ...</td>\n",
       "      <td>b\"Georgia will withdraw 1,000 soldiers from Ir...</td>\n",
       "      <td>b'Why the Pentagon Thinks Attacking Iran is a ...</td>\n",
       "      <td>b'Caucasus in crisis: Georgia invades South Os...</td>\n",
       "      <td>b'Indian shoe manufactory  - And again in a se...</td>\n",
       "      <td>b'Visitors Suffering from Mental Illnesses Ban...</td>\n",
       "      <td>b\"No Help for Mexico's Kidnapping Surge\"</td>\n",
       "    </tr>\n",
       "    <tr>\n",
       "      <td>1</td>\n",
       "      <td>2008-08-11</td>\n",
       "      <td>1</td>\n",
       "      <td>b'Why wont America and Nato help us? If they w...</td>\n",
       "      <td>b'Bush puts foot down on Georgian conflict'</td>\n",
       "      <td>b\"Jewish Georgian minister: Thanks to Israeli ...</td>\n",
       "      <td>b'Georgian army flees in disarray as Russians ...</td>\n",
       "      <td>b\"Olympic opening ceremony fireworks 'faked'\"</td>\n",
       "      <td>b'What were the Mossad with fraudulent New Zea...</td>\n",
       "      <td>b'Russia angered by Israeli military sale to G...</td>\n",
       "      <td>b'An American citizen living in S.Ossetia blam...</td>\n",
       "      <td>...</td>\n",
       "      <td>b'Israel and the US behind the Georgian aggres...</td>\n",
       "      <td>b'\"Do not believe TV, neither Russian nor Geor...</td>\n",
       "      <td>b'Riots are still going on in Montreal (Canada...</td>\n",
       "      <td>b'China to overtake US as largest manufacturer'</td>\n",
       "      <td>b'War in South Ossetia [PICS]'</td>\n",
       "      <td>b'Israeli Physicians Group Condemns State Tort...</td>\n",
       "      <td>b' Russia has just beaten the United States ov...</td>\n",
       "      <td>b'Perhaps *the* question about the Georgia - R...</td>\n",
       "      <td>b'Russia is so much better at war'</td>\n",
       "      <td>b\"So this is what it's come to: trading sex fo...</td>\n",
       "    </tr>\n",
       "    <tr>\n",
       "      <td>2</td>\n",
       "      <td>2008-08-12</td>\n",
       "      <td>0</td>\n",
       "      <td>b'Remember that adorable 9-year-old who sang a...</td>\n",
       "      <td>b\"Russia 'ends Georgia operation'\"</td>\n",
       "      <td>b'\"If we had no sexual harassment we would hav...</td>\n",
       "      <td>b\"Al-Qa'eda is losing support in Iraq because ...</td>\n",
       "      <td>b'Ceasefire in Georgia: Putin Outmaneuvers the...</td>\n",
       "      <td>b'Why Microsoft and Intel tried to kill the XO...</td>\n",
       "      <td>b'Stratfor: The Russo-Georgian War and the Bal...</td>\n",
       "      <td>b\"I'm Trying to Get a Sense of This Whole Geor...</td>\n",
       "      <td>...</td>\n",
       "      <td>b'U.S. troops still in Georgia (did you know t...</td>\n",
       "      <td>b'Why Russias response to Georgia was right'</td>\n",
       "      <td>b'Gorbachev accuses U.S. of making a \"serious ...</td>\n",
       "      <td>b'Russia, Georgia, and NATO: Cold War Two'</td>\n",
       "      <td>b'Remember that adorable 62-year-old who led y...</td>\n",
       "      <td>b'War in Georgia: The Israeli connection'</td>\n",
       "      <td>b'All signs point to the US encouraging Georgi...</td>\n",
       "      <td>b'Christopher King argues that the US and NATO...</td>\n",
       "      <td>b'America: The New Mexico?'</td>\n",
       "      <td>b\"BBC NEWS | Asia-Pacific | Extinction 'by man...</td>\n",
       "    </tr>\n",
       "    <tr>\n",
       "      <td>3</td>\n",
       "      <td>2008-08-13</td>\n",
       "      <td>0</td>\n",
       "      <td>b' U.S. refuses Israel weapons to attack Iran:...</td>\n",
       "      <td>b\"When the president ordered to attack Tskhinv...</td>\n",
       "      <td>b' Israel clears troops who killed Reuters cam...</td>\n",
       "      <td>b'Britain\\'s policy of being tough on drugs is...</td>\n",
       "      <td>b'Body of 14 year old found in trunk; Latest (...</td>\n",
       "      <td>b'China has moved 10 *million* quake survivors...</td>\n",
       "      <td>b\"Bush announces Operation Get All Up In Russi...</td>\n",
       "      <td>b'Russian forces sink Georgian ships '</td>\n",
       "      <td>...</td>\n",
       "      <td>b'Elephants extinct by 2020?'</td>\n",
       "      <td>b'US humanitarian missions soon in Georgia - i...</td>\n",
       "      <td>b\"Georgia's DDOS came from US sources\"</td>\n",
       "      <td>b'Russian convoy heads into Georgia, violating...</td>\n",
       "      <td>b'Israeli defence minister: US against strike ...</td>\n",
       "      <td>b'Gorbachev: We Had No Choice'</td>\n",
       "      <td>b'Witness: Russian forces head towards Tbilisi...</td>\n",
       "      <td>b' Quarter of Russians blame U.S. for conflict...</td>\n",
       "      <td>b'Georgian president  says US military will ta...</td>\n",
       "      <td>b'2006: Nobel laureate Aleksander Solzhenitsyn...</td>\n",
       "    </tr>\n",
       "    <tr>\n",
       "      <td>4</td>\n",
       "      <td>2008-08-14</td>\n",
       "      <td>1</td>\n",
       "      <td>b'All the experts admit that we should legalis...</td>\n",
       "      <td>b'War in South Osetia - 89 pictures made by a ...</td>\n",
       "      <td>b'Swedish wrestler Ara Abrahamian throws away ...</td>\n",
       "      <td>b'Russia exaggerated the death toll in South O...</td>\n",
       "      <td>b'Missile That Killed 9 Inside Pakistan May Ha...</td>\n",
       "      <td>b\"Rushdie Condemns Random House's Refusal to P...</td>\n",
       "      <td>b'Poland and US agree to missle defense deal. ...</td>\n",
       "      <td>b'Will the Russians conquer Tblisi? Bet on it,...</td>\n",
       "      <td>...</td>\n",
       "      <td>b'Bank analyst forecast Georgian crisis 2 days...</td>\n",
       "      <td>b\"Georgia confict could set back Russia's US r...</td>\n",
       "      <td>b'War in the Caucasus is as much the product o...</td>\n",
       "      <td>b'\"Non-media\" photos of South Ossetia/Georgia ...</td>\n",
       "      <td>b'Georgian TV reporter shot by Russian sniper ...</td>\n",
       "      <td>b'Saudi Arabia: Mother moves to block child ma...</td>\n",
       "      <td>b'Taliban wages war on humanitarian aid workers'</td>\n",
       "      <td>b'Russia: World  \"can forget about\" Georgia\\'s...</td>\n",
       "      <td>b'Darfur rebels accuse Sudan of mounting major...</td>\n",
       "      <td>b'Philippines : Peace Advocate say Muslims nee...</td>\n",
       "    </tr>\n",
       "  </tbody>\n",
       "</table>\n",
       "<p>5 rows × 27 columns</p>\n",
       "</div>"
      ],
      "text/plain": [
       "        Date  Label                                               Top1  \\\n",
       "0 2008-08-08      0  b\"Georgia 'downs two Russian warplanes' as cou...   \n",
       "1 2008-08-11      1  b'Why wont America and Nato help us? If they w...   \n",
       "2 2008-08-12      0  b'Remember that adorable 9-year-old who sang a...   \n",
       "3 2008-08-13      0  b' U.S. refuses Israel weapons to attack Iran:...   \n",
       "4 2008-08-14      1  b'All the experts admit that we should legalis...   \n",
       "\n",
       "                                                Top2  \\\n",
       "0            b'BREAKING: Musharraf to be impeached.'   \n",
       "1        b'Bush puts foot down on Georgian conflict'   \n",
       "2                 b\"Russia 'ends Georgia operation'\"   \n",
       "3  b\"When the president ordered to attack Tskhinv...   \n",
       "4  b'War in South Osetia - 89 pictures made by a ...   \n",
       "\n",
       "                                                Top3  \\\n",
       "0  b'Russia Today: Columns of troops roll into So...   \n",
       "1  b\"Jewish Georgian minister: Thanks to Israeli ...   \n",
       "2  b'\"If we had no sexual harassment we would hav...   \n",
       "3  b' Israel clears troops who killed Reuters cam...   \n",
       "4  b'Swedish wrestler Ara Abrahamian throws away ...   \n",
       "\n",
       "                                                Top4  \\\n",
       "0  b'Russian tanks are moving towards the capital...   \n",
       "1  b'Georgian army flees in disarray as Russians ...   \n",
       "2  b\"Al-Qa'eda is losing support in Iraq because ...   \n",
       "3  b'Britain\\'s policy of being tough on drugs is...   \n",
       "4  b'Russia exaggerated the death toll in South O...   \n",
       "\n",
       "                                                Top5  \\\n",
       "0  b\"Afghan children raped with 'impunity,' U.N. ...   \n",
       "1      b\"Olympic opening ceremony fireworks 'faked'\"   \n",
       "2  b'Ceasefire in Georgia: Putin Outmaneuvers the...   \n",
       "3  b'Body of 14 year old found in trunk; Latest (...   \n",
       "4  b'Missile That Killed 9 Inside Pakistan May Ha...   \n",
       "\n",
       "                                                Top6  \\\n",
       "0  b'150 Russian tanks have entered South Ossetia...   \n",
       "1  b'What were the Mossad with fraudulent New Zea...   \n",
       "2  b'Why Microsoft and Intel tried to kill the XO...   \n",
       "3  b'China has moved 10 *million* quake survivors...   \n",
       "4  b\"Rushdie Condemns Random House's Refusal to P...   \n",
       "\n",
       "                                                Top7  \\\n",
       "0  b\"Breaking: Georgia invades South Ossetia, Rus...   \n",
       "1  b'Russia angered by Israeli military sale to G...   \n",
       "2  b'Stratfor: The Russo-Georgian War and the Bal...   \n",
       "3  b\"Bush announces Operation Get All Up In Russi...   \n",
       "4  b'Poland and US agree to missle defense deal. ...   \n",
       "\n",
       "                                                Top8  ...  \\\n",
       "0  b\"The 'enemy combatent' trials are nothing but...  ...   \n",
       "1  b'An American citizen living in S.Ossetia blam...  ...   \n",
       "2  b\"I'm Trying to Get a Sense of This Whole Geor...  ...   \n",
       "3             b'Russian forces sink Georgian ships '  ...   \n",
       "4  b'Will the Russians conquer Tblisi? Bet on it,...  ...   \n",
       "\n",
       "                                               Top16  \\\n",
       "0  b'Georgia Invades South Ossetia - if Russia ge...   \n",
       "1  b'Israel and the US behind the Georgian aggres...   \n",
       "2  b'U.S. troops still in Georgia (did you know t...   \n",
       "3                      b'Elephants extinct by 2020?'   \n",
       "4  b'Bank analyst forecast Georgian crisis 2 days...   \n",
       "\n",
       "                                               Top17  \\\n",
       "0                b'Al-Qaeda Faces Islamist Backlash'   \n",
       "1  b'\"Do not believe TV, neither Russian nor Geor...   \n",
       "2       b'Why Russias response to Georgia was right'   \n",
       "3  b'US humanitarian missions soon in Georgia - i...   \n",
       "4  b\"Georgia confict could set back Russia's US r...   \n",
       "\n",
       "                                               Top18  \\\n",
       "0  b'Condoleezza Rice: \"The US would not act to p...   \n",
       "1  b'Riots are still going on in Montreal (Canada...   \n",
       "2  b'Gorbachev accuses U.S. of making a \"serious ...   \n",
       "3             b\"Georgia's DDOS came from US sources\"   \n",
       "4  b'War in the Caucasus is as much the product o...   \n",
       "\n",
       "                                               Top19  \\\n",
       "0  b'This is a busy day:  The European Union has ...   \n",
       "1    b'China to overtake US as largest manufacturer'   \n",
       "2         b'Russia, Georgia, and NATO: Cold War Two'   \n",
       "3  b'Russian convoy heads into Georgia, violating...   \n",
       "4  b'\"Non-media\" photos of South Ossetia/Georgia ...   \n",
       "\n",
       "                                               Top20  \\\n",
       "0  b\"Georgia will withdraw 1,000 soldiers from Ir...   \n",
       "1                     b'War in South Ossetia [PICS]'   \n",
       "2  b'Remember that adorable 62-year-old who led y...   \n",
       "3  b'Israeli defence minister: US against strike ...   \n",
       "4  b'Georgian TV reporter shot by Russian sniper ...   \n",
       "\n",
       "                                               Top21  \\\n",
       "0  b'Why the Pentagon Thinks Attacking Iran is a ...   \n",
       "1  b'Israeli Physicians Group Condemns State Tort...   \n",
       "2          b'War in Georgia: The Israeli connection'   \n",
       "3                     b'Gorbachev: We Had No Choice'   \n",
       "4  b'Saudi Arabia: Mother moves to block child ma...   \n",
       "\n",
       "                                               Top22  \\\n",
       "0  b'Caucasus in crisis: Georgia invades South Os...   \n",
       "1  b' Russia has just beaten the United States ov...   \n",
       "2  b'All signs point to the US encouraging Georgi...   \n",
       "3  b'Witness: Russian forces head towards Tbilisi...   \n",
       "4   b'Taliban wages war on humanitarian aid workers'   \n",
       "\n",
       "                                               Top23  \\\n",
       "0  b'Indian shoe manufactory  - And again in a se...   \n",
       "1  b'Perhaps *the* question about the Georgia - R...   \n",
       "2  b'Christopher King argues that the US and NATO...   \n",
       "3  b' Quarter of Russians blame U.S. for conflict...   \n",
       "4  b'Russia: World  \"can forget about\" Georgia\\'s...   \n",
       "\n",
       "                                               Top24  \\\n",
       "0  b'Visitors Suffering from Mental Illnesses Ban...   \n",
       "1                 b'Russia is so much better at war'   \n",
       "2                        b'America: The New Mexico?'   \n",
       "3  b'Georgian president  says US military will ta...   \n",
       "4  b'Darfur rebels accuse Sudan of mounting major...   \n",
       "\n",
       "                                               Top25  \n",
       "0           b\"No Help for Mexico's Kidnapping Surge\"  \n",
       "1  b\"So this is what it's come to: trading sex fo...  \n",
       "2  b\"BBC NEWS | Asia-Pacific | Extinction 'by man...  \n",
       "3  b'2006: Nobel laureate Aleksander Solzhenitsyn...  \n",
       "4  b'Philippines : Peace Advocate say Muslims nee...  \n",
       "\n",
       "[5 rows x 27 columns]"
      ]
     },
     "execution_count": 541,
     "metadata": {},
     "output_type": "execute_result"
    }
   ],
   "source": [
    "dNews=pd.read_csv('Combined_News_DJIA.csv', encoding='latin-1', parse_dates = ['Date'],date_parser = dateparser)\n",
    "dNews.head()"
   ]
  },
  {
   "cell_type": "code",
   "execution_count": 542,
   "metadata": {},
   "outputs": [],
   "source": [
    "ex=rNews[\"News\"][0]"
   ]
  },
  {
   "cell_type": "code",
   "execution_count": 543,
   "metadata": {},
   "outputs": [],
   "source": [
    "ex2=dNews[\"Top1\"][0]"
   ]
  },
  {
   "cell_type": "code",
   "execution_count": 544,
   "metadata": {},
   "outputs": [
    {
     "name": "stdout",
     "output_type": "stream",
     "text": [
      "['b\"Georgia \\'downs two Russian warplanes\\' as countries move to brink of war\"'\n",
      " \"b'Why wont America and Nato help us? If they wont help us now, why did we help them in Iraq?'\"\n",
      " \"b'Remember that adorable 9-year-old who sang at the opening ceremonies? That was fake, too.'\"\n",
      " ... 'UK must accept freedom of movement to access EU Market'\n",
      " 'Boris Johnson says he will not run for Tory party leadership'\n",
      " 'The president of France says if Brexit won, so can Donald Trump']\n"
     ]
    }
   ],
   "source": [
    "X1 = dNews.loc[:,\"Top1\"].values\n",
    "y1 = dNews.loc[:,\"Label\"].values\n",
    "X2 = dNews.loc[:,\"Top2\"].values\n",
    "y2 = dNews.loc[:,\"Label\"].values\n",
    "X3 = dNews.loc[:,\"Top3\"].values\n",
    "y3 = dNews.loc[:,\"Label\"].values\n",
    "\n",
    "\n",
    "\n",
    "X = np.concatenate((X1, X2, X3))\n",
    "y = np.concatenate((y1, y2, y3))\n",
    "# print(X.shape)\n",
    "# print(y.shape)\n",
    "# --------------------------------------------------------------------\n",
    "#.   KeepX is used if we need the data before it is transformed\n",
    "# --------------------------------------------------------------------\n",
    "keepX=X\n",
    "print(X)"
   ]
  },
  {
   "cell_type": "code",
   "execution_count": 545,
   "metadata": {},
   "outputs": [
    {
     "name": "stdout",
     "output_type": "stream",
     "text": [
      "A 117-year-old woman in Mexico City finally received her birth certificate, and died a few hours later. Trinidad Alvarez Lira had waited years for proof that she had been born in 1898.\n"
     ]
    }
   ],
   "source": [
    "\n",
    "#.                    Why here ex is text but Z is not?!\n",
    "Z=X\n",
    "print(ex)"
   ]
  },
  {
   "cell_type": "code",
   "execution_count": 546,
   "metadata": {},
   "outputs": [
    {
     "name": "stdout",
     "output_type": "stream",
     "text": [
      "['A 117-year-old woman in Mexico City finally received her birth certificate, and died a few hours later.', 'Trinidad Alvarez Lira had waited years for proof that she had been born in 1898.']\n"
     ]
    }
   ],
   "source": [
    "text = nltk.sent_tokenize(ex)\n",
    "print(text)"
   ]
  },
  {
   "cell_type": "code",
   "execution_count": 547,
   "metadata": {},
   "outputs": [
    {
     "name": "stdout",
     "output_type": "stream",
     "text": [
      "A 117-year-old woman in Mexico City finally received her birth certificate, and died a few hours later.\n",
      "Trinidad Alvarez Lira had waited years for proof that she had been born in 1898.\n"
     ]
    }
   ],
   "source": [
    "for i in nltk.sent_tokenize(ex):\n",
    "    print(i)"
   ]
  },
  {
   "cell_type": "code",
   "execution_count": 548,
   "metadata": {},
   "outputs": [
    {
     "name": "stdout",
     "output_type": "stream",
     "text": [
      "A\n",
      "117-year-old\n",
      "woman\n",
      "in\n",
      "Mexico\n",
      "City\n",
      "finally\n",
      "received\n",
      "her\n",
      "birth\n",
      "certificate\n",
      ",\n",
      "and\n",
      "died\n",
      "a\n",
      "few\n",
      "hours\n",
      "later\n",
      ".\n",
      "Trinidad\n",
      "Alvarez\n",
      "Lira\n",
      "had\n",
      "waited\n",
      "years\n",
      "for\n",
      "proof\n",
      "that\n",
      "she\n",
      "had\n",
      "been\n",
      "born\n",
      "in\n",
      "1898\n",
      ".\n"
     ]
    }
   ],
   "source": [
    "for i in nltk.word_tokenize(ex):\n",
    "    print(i)"
   ]
  },
  {
   "cell_type": "code",
   "execution_count": 549,
   "metadata": {},
   "outputs": [],
   "source": [
    "# Then we apply word tokenization and part-of-speech tagging to the sentence.\n",
    "def preprocess(sent):\n",
    "    sent = nltk.word_tokenize(sent)\n",
    "    sent = nltk.pos_tag(sent)\n",
    "    return sent"
   ]
  },
  {
   "cell_type": "code",
   "execution_count": 550,
   "metadata": {},
   "outputs": [
    {
     "name": "stderr",
     "output_type": "stream",
     "text": [
      "[nltk_data] Downloading package punkt to\n",
      "[nltk_data]     /Users/piruzalemi/nltk_data...\n",
      "[nltk_data]   Package punkt is already up-to-date!\n",
      "[nltk_data] Downloading package averaged_perceptron_tagger to\n",
      "[nltk_data]     /Users/piruzalemi/nltk_data...\n",
      "[nltk_data]   Package averaged_perceptron_tagger is already up-to-\n",
      "[nltk_data]       date!\n"
     ]
    },
    {
     "data": {
      "text/plain": [
       "True"
      ]
     },
     "execution_count": 550,
     "metadata": {},
     "output_type": "execute_result"
    }
   ],
   "source": [
    "import nltk\n",
    "nltk.download('punkt')\n",
    "nltk.download('averaged_perceptron_tagger')"
   ]
  },
  {
   "cell_type": "code",
   "execution_count": 551,
   "metadata": {
    "scrolled": false
   },
   "outputs": [
    {
     "data": {
      "text/plain": [
       "[('A', 'DT'),\n",
       " ('117-year-old', 'JJ'),\n",
       " ('woman', 'NN'),\n",
       " ('in', 'IN'),\n",
       " ('Mexico', 'NNP'),\n",
       " ('City', 'NNP'),\n",
       " ('finally', 'RB'),\n",
       " ('received', 'VBD'),\n",
       " ('her', 'PRP'),\n",
       " ('birth', 'NN'),\n",
       " ('certificate', 'NN'),\n",
       " (',', ','),\n",
       " ('and', 'CC'),\n",
       " ('died', 'VBD'),\n",
       " ('a', 'DT'),\n",
       " ('few', 'JJ'),\n",
       " ('hours', 'NNS'),\n",
       " ('later', 'RB'),\n",
       " ('.', '.'),\n",
       " ('Trinidad', 'NNP'),\n",
       " ('Alvarez', 'NNP'),\n",
       " ('Lira', 'NNP'),\n",
       " ('had', 'VBD'),\n",
       " ('waited', 'VBN'),\n",
       " ('years', 'NNS'),\n",
       " ('for', 'IN'),\n",
       " ('proof', 'NN'),\n",
       " ('that', 'IN'),\n",
       " ('she', 'PRP'),\n",
       " ('had', 'VBD'),\n",
       " ('been', 'VBN'),\n",
       " ('born', 'VBN'),\n",
       " ('in', 'IN'),\n",
       " ('1898', 'CD'),\n",
       " ('.', '.')]"
      ]
     },
     "execution_count": 551,
     "metadata": {},
     "output_type": "execute_result"
    }
   ],
   "source": [
    "# We get a list of tuples containing the individual words in the sentence and their associated part-of-speech.\n",
    "sent = preprocess(ex)\n",
    "sent"
   ]
  },
  {
   "cell_type": "markdown",
   "metadata": {},
   "source": [
    "Now we’ll implement noun phrase chunking to identify named entities using a regular expression consisting of rules that indicate how sentences should be chunked.\n",
    "Our chunk pattern consists of one rule, that a noun phrase, NP, should be formed whenever the chunker finds an optional determiner, DT, followed by any number of adjectives, JJ, and then a noun, NN."
   ]
  },
  {
   "cell_type": "code",
   "execution_count": 552,
   "metadata": {},
   "outputs": [],
   "source": [
    "pattern = 'NP: {<DT>?<JJ>*<NN>}'"
   ]
  },
  {
   "cell_type": "code",
   "execution_count": 553,
   "metadata": {},
   "outputs": [
    {
     "name": "stdout",
     "output_type": "stream",
     "text": [
      "(S\n",
      "  (NP A/DT 117-year-old/JJ woman/NN)\n",
      "  in/IN\n",
      "  Mexico/NNP\n",
      "  City/NNP\n",
      "  finally/RB\n",
      "  received/VBD\n",
      "  her/PRP\n",
      "  (NP birth/NN)\n",
      "  (NP certificate/NN)\n",
      "  ,/,\n",
      "  and/CC\n",
      "  died/VBD\n",
      "  a/DT\n",
      "  few/JJ\n",
      "  hours/NNS\n",
      "  later/RB\n",
      "  ./.\n",
      "  Trinidad/NNP\n",
      "  Alvarez/NNP\n",
      "  Lira/NNP\n",
      "  had/VBD\n",
      "  waited/VBN\n",
      "  years/NNS\n",
      "  for/IN\n",
      "  (NP proof/NN)\n",
      "  that/IN\n",
      "  she/PRP\n",
      "  had/VBD\n",
      "  been/VBN\n",
      "  born/VBN\n",
      "  in/IN\n",
      "  1898/CD\n",
      "  ./.)\n"
     ]
    }
   ],
   "source": [
    "cp = nltk.RegexpParser(pattern)\n",
    "cs = cp.parse(sent)\n",
    "print(cs)"
   ]
  },
  {
   "cell_type": "markdown",
   "metadata": {},
   "source": [
    "# Chunker"
   ]
  },
  {
   "cell_type": "markdown",
   "metadata": {},
   "source": [
    "The output can be read as a tree or a hierarchy with S as the first level, denoting sentence. we can also display it graphically."
   ]
  },
  {
   "attachments": {
    "image.png": {
     "image/png": "[encoded data removed]"
    }
   },
   "cell_type": "markdown",
   "metadata": {},
   "source": [
    "# ![image.png](attachment:image.png)"
   ]
  },
  {
   "attachments": {
    "image.png": {
     "image/png": "[encoded data removed]"
    }
   },
   "cell_type": "markdown",
   "metadata": {},
   "source": [
    "![image.png](attachment:image.png)\n"
   ]
  },
  {
   "cell_type": "code",
   "execution_count": 554,
   "metadata": {},
   "outputs": [
    {
     "name": "stdout",
     "output_type": "stream",
     "text": [
      "[('A', 'DT', 'B-NP'),\n",
      " ('117-year-old', 'JJ', 'I-NP'),\n",
      " ('woman', 'NN', 'I-NP'),\n",
      " ('in', 'IN', 'O'),\n",
      " ('Mexico', 'NNP', 'O'),\n",
      " ('City', 'NNP', 'O'),\n",
      " ('finally', 'RB', 'O'),\n",
      " ('received', 'VBD', 'O'),\n",
      " ('her', 'PRP', 'O'),\n",
      " ('birth', 'NN', 'B-NP'),\n",
      " ('certificate', 'NN', 'B-NP'),\n",
      " (',', ',', 'O'),\n",
      " ('and', 'CC', 'O'),\n",
      " ('died', 'VBD', 'O'),\n",
      " ('a', 'DT', 'O'),\n",
      " ('few', 'JJ', 'O'),\n",
      " ('hours', 'NNS', 'O'),\n",
      " ('later', 'RB', 'O'),\n",
      " ('.', '.', 'O'),\n",
      " ('Trinidad', 'NNP', 'O'),\n",
      " ('Alvarez', 'NNP', 'O'),\n",
      " ('Lira', 'NNP', 'O'),\n",
      " ('had', 'VBD', 'O'),\n",
      " ('waited', 'VBN', 'O'),\n",
      " ('years', 'NNS', 'O'),\n",
      " ('for', 'IN', 'O'),\n",
      " ('proof', 'NN', 'B-NP'),\n",
      " ('that', 'IN', 'O'),\n",
      " ('she', 'PRP', 'O'),\n",
      " ('had', 'VBD', 'O'),\n",
      " ('been', 'VBN', 'O'),\n",
      " ('born', 'VBN', 'O'),\n",
      " ('in', 'IN', 'O'),\n",
      " ('1898', 'CD', 'O'),\n",
      " ('.', '.', 'O')]\n"
     ]
    }
   ],
   "source": [
    "from nltk.chunk import conlltags2tree, tree2conlltags\n",
    "from pprint import pprint\n",
    "iob_tagged = tree2conlltags(cs)\n",
    "pprint(iob_tagged)"
   ]
  },
  {
   "cell_type": "markdown",
   "metadata": {},
   "source": [
    "\n",
    "\n",
    "In this representation, there is one token per line, each with its part-of-speech tag and its named entity tag. Based on this training corpus, we can construct a tagger that can be used to label new sentences; and use the nltk.chunk.conlltags2tree() function to convert the tag sequences into a chunk tree."
   ]
  },
  {
   "cell_type": "markdown",
   "metadata": {},
   "source": [
    "With the function nltk.ne_chunk(), we can recognize named entities using a classifier, the classifier adds category labels such as PERSON, ORGANIZATION, and GPE."
   ]
  },
  {
   "cell_type": "code",
   "execution_count": 555,
   "metadata": {},
   "outputs": [],
   "source": [
    "from nltk.chunk import conlltags2tree, tree2conlltags, ne_chunk\n",
    "from pprint import pprint"
   ]
  },
  {
   "cell_type": "code",
   "execution_count": 556,
   "metadata": {},
   "outputs": [
    {
     "name": "stderr",
     "output_type": "stream",
     "text": [
      "[nltk_data] Downloading package maxent_ne_chunker to\n",
      "[nltk_data]     /Users/piruzalemi/nltk_data...\n",
      "[nltk_data]   Package maxent_ne_chunker is already up-to-date!\n",
      "[nltk_data] Downloading package words to\n",
      "[nltk_data]     /Users/piruzalemi/nltk_data...\n",
      "[nltk_data]   Package words is already up-to-date!\n"
     ]
    },
    {
     "data": {
      "text/plain": [
       "True"
      ]
     },
     "execution_count": 556,
     "metadata": {},
     "output_type": "execute_result"
    }
   ],
   "source": [
    "import nltk\n",
    "nltk.download('maxent_ne_chunker')\n",
    "nltk.download('words')"
   ]
  },
  {
   "cell_type": "code",
   "execution_count": 557,
   "metadata": {
    "scrolled": false
   },
   "outputs": [
    {
     "name": "stdout",
     "output_type": "stream",
     "text": [
      "(S\n",
      "  A/DT\n",
      "  117-year-old/JJ\n",
      "  woman/NN\n",
      "  in/IN\n",
      "  (GPE Mexico/NNP City/NNP)\n",
      "  finally/RB\n",
      "  received/VBD\n",
      "  her/PRP\n",
      "  birth/NN\n",
      "  certificate/NN\n",
      "  ,/,\n",
      "  and/CC\n",
      "  died/VBD\n",
      "  a/DT\n",
      "  few/JJ\n",
      "  hours/NNS\n",
      "  later/RB\n",
      "  ./.\n",
      "  (PERSON Trinidad/NNP Alvarez/NNP Lira/NNP)\n",
      "  had/VBD\n",
      "  waited/VBN\n",
      "  years/NNS\n",
      "  for/IN\n",
      "  proof/NN\n",
      "  that/IN\n",
      "  she/PRP\n",
      "  had/VBD\n",
      "  been/VBN\n",
      "  born/VBN\n",
      "  in/IN\n",
      "  1898/CD\n",
      "  ./.)\n"
     ]
    }
   ],
   "source": [
    "\n",
    "ne_tree = ne_chunk(pos_tag(word_tokenize(ex)))\n",
    "print(ne_tree)"
   ]
  },
  {
   "cell_type": "code",
   "execution_count": 558,
   "metadata": {},
   "outputs": [],
   "source": [
    "# I thank Susan Li Senior Data Sicentist in Canada for her git hub code adapted to our data set...Please add\n",
    "# to the rest, looping thru our documents and chuncking on S&P500 code!  Alemi. 04/09/2020 "
   ]
  },
  {
   "cell_type": "code",
   "execution_count": 559,
   "metadata": {
    "scrolled": true
   },
   "outputs": [
    {
     "name": "stderr",
     "output_type": "stream",
     "text": [
      "[nltk_data] Downloading package treebank to\n",
      "[nltk_data]     /Users/piruzalemi/nltk_data...\n",
      "[nltk_data]   Package treebank is already up-to-date!\n"
     ]
    },
    {
     "data": {
      "text/plain": [
       "True"
      ]
     },
     "execution_count": 559,
     "metadata": {},
     "output_type": "execute_result"
    }
   ],
   "source": [
    "import nltk\n",
    "nltk.download('treebank')"
   ]
  },
  {
   "cell_type": "code",
   "execution_count": 560,
   "metadata": {},
   "outputs": [],
   "source": [
    "from nltk.corpus import treebank\n",
    "#. Do noty run this.........\n",
    "#t = treebank.parsed_sents('wsj_0001.mrg')[0]\n",
    "#t.draw()"
   ]
  },
  {
   "cell_type": "markdown",
   "metadata": {},
   "source": [
    "## Latent Dirichlet Allocation\n",
    "### Assign Topics to unlabelled text dopcuments"
   ]
  },
  {
   "cell_type": "code",
   "execution_count": 561,
   "metadata": {},
   "outputs": [],
   "source": [
    "# Load the library with the CountVectorizer method\n",
    "from sklearn.feature_extraction.text import CountVectorizer\n",
    "import numpy as np\n",
    "import matplotlib.pyplot as plt\n",
    "import seaborn as sns"
   ]
  },
  {
   "cell_type": "code",
   "execution_count": 562,
   "metadata": {},
   "outputs": [],
   "source": [
    "def lemmatization(texts, allowed_postags=['NOUN', 'ADJ', 'VERB', 'ADV']): #'NOUN', 'ADJ', 'VERB', 'ADV'\n",
    "    texts_out = []\n",
    "    for sent in texts:\n",
    "        doc = nlp(\" \".join(sent)) \n",
    "        texts_out.append(\" \".join([token.lemma_ if token.lemma_ not in ['-PRON-'] else '' for token in doc if token.pos_ in allowed_postags]))\n",
    "    return texts_out"
   ]
  },
  {
   "cell_type": "code",
   "execution_count": 563,
   "metadata": {},
   "outputs": [],
   "source": [
    "# Skip this line as we do not use Spacy this stage........\n",
    "# --------------------------------------------------------------------------------\n",
    "# Initialize spacy ‘en’ model, keeping only tagger component (for efficiency)\n",
    "# Run in terminal: python -m spacy download en\n",
    "data_words=Z\n",
    "nlp = spacy.load('en', disable=['parser', 'ne'])\n",
    "# Do lemmatization keeping only Noun, Adj, Verb, Adverb\n",
    "data_lemmatized = lemmatization(data_words, allowed_postags=['NOUN', 'VERB', 'ADJ']) #select noun and verb\n"
   ]
  },
  {
   "cell_type": "code",
   "execution_count": 564,
   "metadata": {},
   "outputs": [
    {
     "name": "stdout",
     "output_type": "stream",
     "text": [
      "['g e o r g d o w w o r u s s i r p l a n e s s c o n t r e s o v e t o r i n r', 'h y w o n t a m e r i c n d a t o h e l p s t h e y w o n t h e l p s w y d i d w e h e l p t h e m r q', 'r e m e m b e r t h a t d o r a b l e y e r o l d h o s g t t h e o p e n n c e r e m o n e s t h a t k e t o o', 'r e u s e s s r a e l e a p o n s t t t a c k r n r e p o r t', 'l l t h e e p e r t s d m i t t h a t w e s h o u l d e g l s e r u g s', \"s s y m a n t o o b a d h e ' s n o t y e r o l d c h e e r l e a d e r t h e n t h e y d s t e l o o k i n o r h i m\", 'f g h a n p r s o n t h e j o r i t y e m a l e p r s o n e r s r e s e r v i n y e a r s e n t e n c e s f o r b e i v c t i m s r a p e', 'r r e s t e d n d l o c k e d o r v e h o u r s f t e r t k n g p h o t o o f p o l i c e v g o r i n o e n t r y g', 'w o l d e r l y h i n e s w o m e h a v e b e e n e n t e n c e d t y e a r o f r e e d u c a t o t h r o u g h l b o r f t e r t h e y s o u g h t p e r m i t t o d e m o n s t r a t e o i c l o l y m p i c p r o t e s t r e a', 't s h r e s i d e n t h e l d a n t a n a m o y w i n e g l b a t t l e t o f o r c e o r e g i c e t o r e v e l t o r t u r e e v i d e n c e']\n"
     ]
    }
   ],
   "source": [
    "print(data_lemmatized[:10])"
   ]
  },
  {
   "cell_type": "code",
   "execution_count": 565,
   "metadata": {},
   "outputs": [],
   "source": [
    "#vectorizer = CountVectorizer(analyzer='word',       \n",
    "#                             min_df=10,\n",
    "# minimum reqd occurences of a word \n",
    "#                             stop_words='english',             \n",
    "# remove stop words#\n",
    "#                             lowercase=True,                   \n",
    "# convert all words to lowercase\n",
    "#                             token_pattern='[a-zA-Z0-9]{3,}',  \n",
    "# num chars > 3\n",
    "#                             max_features=50000)             \n",
    "# max number of uniq words    )\n"
   ]
  },
  {
   "cell_type": "code",
   "execution_count": 566,
   "metadata": {},
   "outputs": [],
   "source": [
    "#data_vectorized = vectorizer.fit_transform(data_lemmatized)"
   ]
  },
  {
   "cell_type": "code",
   "execution_count": 567,
   "metadata": {},
   "outputs": [],
   "source": [
    "# Step 3: Vectorize transform\n",
    "#mytext_4 = Vectorizer.transform(data_lemmatized)"
   ]
  },
  {
   "cell_type": "code",
   "execution_count": 568,
   "metadata": {},
   "outputs": [
    {
     "data": {
      "text/plain": [
       "CountVectorizer(analyzer='word', binary=False, decode_error='strict',\n",
       "                dtype=<class 'numpy.int64'>, encoding='utf-8', input='content',\n",
       "                lowercase=True, max_df=0.1, max_features=200, min_df=1,\n",
       "                ngram_range=(1, 1), preprocessor=None, stop_words='english',\n",
       "                strip_accents=None, token_pattern='(?u)\\\\b\\\\w\\\\w+\\\\b',\n",
       "                tokenizer=None, vocabulary=None)"
      ]
     },
     "execution_count": 568,
     "metadata": {},
     "output_type": "execute_result"
    }
   ],
   "source": [
    "# Note we set the maximum document frequency to be considered to 10%, to exclude words that occur \n",
    "#. too frequently across documents.\n",
    "#\n",
    "# The rational behind the removal of frequency occuring word  is that these might be common words occuring across\n",
    "# all documents. Also we limit the the number of words to be considered, to the most frequently occuring 200 words\n",
    "# max_features=200\n",
    "count2 = CountVectorizer(stop_words='english', max_df=0.1,max_features=200)\n",
    "count2\n",
    "#X=count2.fit_transform(X)"
   ]
  },
  {
   "cell_type": "code",
   "execution_count": 569,
   "metadata": {},
   "outputs": [],
   "source": [
    "from sklearn.decomposition import LatentDirichletAllocation"
   ]
  },
  {
   "cell_type": "code",
   "execution_count": 570,
   "metadata": {},
   "outputs": [],
   "source": [
    "#X=count2.fit_transform(dNews['Top1'].values)\n",
    "X=count2.fit_transform(X)"
   ]
  },
  {
   "cell_type": "code",
   "execution_count": 571,
   "metadata": {},
   "outputs": [
    {
     "data": {
      "text/plain": [
       "(5967, 200)"
      ]
     },
     "execution_count": 571,
     "metadata": {},
     "output_type": "execute_result"
    }
   ],
   "source": [
    "X.shape"
   ]
  },
  {
   "cell_type": "code",
   "execution_count": 572,
   "metadata": {},
   "outputs": [],
   "source": [
    "\n",
    "#print(X)"
   ]
  },
  {
   "cell_type": "code",
   "execution_count": 573,
   "metadata": {},
   "outputs": [],
   "source": [
    "# n_topics did not work and i changed it to n_components\n",
    "# lda is our model!\n",
    "lda = LatentDirichletAllocation(n_components=10, random_state=123,learning_method='batch')"
   ]
  },
  {
   "cell_type": "code",
   "execution_count": 574,
   "metadata": {},
   "outputs": [
    {
     "name": "stdout",
     "output_type": "stream",
     "text": [
      "LatentDirichletAllocation(batch_size=128, doc_topic_prior=None,\n",
      "                          evaluate_every=-1, learning_decay=0.7,\n",
      "                          learning_method='batch', learning_offset=10.0,\n",
      "                          max_doc_update_iter=100, max_iter=10,\n",
      "                          mean_change_tol=0.001, n_components=10, n_jobs=None,\n",
      "                          perp_tol=0.1, random_state=123, topic_word_prior=None,\n",
      "                          total_samples=1000000.0, verbose=0)\n"
     ]
    }
   ],
   "source": [
    "# Print the Model:\n",
    "# Build LDA Model\n",
    "#lda_model = LatentDirichletAllocation(n_components=20,               # Number of topics\n",
    "#                                      max_iter=10,               \n",
    "# Max learning iterations\n",
    "#                                      learning_method='online',   \n",
    "#                                      random_state=100,          \n",
    "# Random state\n",
    "#                                      batch_size=128,            \n",
    "# n docs in each learning iter\n",
    "#                                      evaluate_every = -1,       \n",
    "# compute perplexity every n iters, default: Don't\n",
    "#                                      n_jobs = -1,               \n",
    "# Use all available CPUs\n",
    "\n",
    "\n",
    "print(lda)"
   ]
  },
  {
   "cell_type": "code",
   "execution_count": 575,
   "metadata": {},
   "outputs": [],
   "source": [
    "#topic_probability_scores = lda.transform(X)"
   ]
  },
  {
   "cell_type": "code",
   "execution_count": 576,
   "metadata": {},
   "outputs": [
    {
     "data": {
      "text/plain": [
       "array([[0.025     , 0.025     , 0.025     , ..., 0.025     , 0.025     ,\n",
       "        0.49702029],\n",
       "       [0.02      , 0.21999981, 0.6199939 , ..., 0.02      , 0.02      ,\n",
       "        0.02      ],\n",
       "       [0.03333333, 0.03333333, 0.03333333, ..., 0.03333333, 0.03333333,\n",
       "        0.03333333],\n",
       "       ...,\n",
       "       [0.03333333, 0.03333333, 0.03333333, ..., 0.50594923, 0.03333333,\n",
       "        0.2273841 ],\n",
       "       [0.03333333, 0.03333333, 0.03333333, ..., 0.03333416, 0.03333333,\n",
       "        0.03333438],\n",
       "       [0.025     , 0.025     , 0.27499994, ..., 0.025     , 0.025     ,\n",
       "        0.02500001]])"
      ]
     },
     "execution_count": 576,
     "metadata": {},
     "output_type": "execute_result"
    }
   ],
   "source": [
    "topic_probability_scores"
   ]
  },
  {
   "cell_type": "code",
   "execution_count": null,
   "metadata": {},
   "outputs": [],
   "source": []
  },
  {
   "cell_type": "code",
   "execution_count": 577,
   "metadata": {},
   "outputs": [],
   "source": [
    "# X    was vectorized\n",
    "X_topics=lda.fit_transform(X)"
   ]
  },
  {
   "cell_type": "code",
   "execution_count": 578,
   "metadata": {},
   "outputs": [
    {
     "data": {
      "text/plain": [
       "array([[0.025     , 0.025     , 0.025     , ..., 0.025     , 0.025     ,\n",
       "        0.49702029],\n",
       "       [0.02      , 0.21999981, 0.6199939 , ..., 0.02      , 0.02      ,\n",
       "        0.02      ],\n",
       "       [0.03333333, 0.03333333, 0.03333333, ..., 0.03333333, 0.03333333,\n",
       "        0.03333333],\n",
       "       ...,\n",
       "       [0.03333333, 0.03333333, 0.03333333, ..., 0.50594923, 0.03333333,\n",
       "        0.2273841 ],\n",
       "       [0.03333333, 0.03333333, 0.03333333, ..., 0.03333416, 0.03333333,\n",
       "        0.03333438],\n",
       "       [0.025     , 0.025     , 0.27499994, ..., 0.025     , 0.025     ,\n",
       "        0.02500001]])"
      ]
     },
     "execution_count": 578,
     "metadata": {},
     "output_type": "execute_result"
    }
   ],
   "source": [
    "# See: https://scikit-learn.org/stable/modules/generated/sklearn.decomposition.LatentDirichletAllocation.html\n",
    "lda_output = lda.fit_transform(X)\n",
    "lda_output"
   ]
  },
  {
   "cell_type": "code",
   "execution_count": 579,
   "metadata": {},
   "outputs": [
    {
     "name": "stdout",
     "output_type": "stream",
     "text": [
      "Log Likelihood:  -95912.04113658932\n"
     ]
    }
   ],
   "source": [
    "# Log Likelyhood: Higher the better\n",
    "print(\"Log Likelihood: \", lda.score(X))"
   ]
  },
  {
   "cell_type": "code",
   "execution_count": 580,
   "metadata": {},
   "outputs": [],
   "source": [
    "#7 Diagnose model performance with perplexity and log-likelihood\n",
    "# A model with higher log-likelihood and lower perplexity (exp(-1. * log-likelihood per word))\n",
    "# is considered to be good."
   ]
  },
  {
   "cell_type": "code",
   "execution_count": 581,
   "metadata": {},
   "outputs": [
    {
     "name": "stdout",
     "output_type": "stream",
     "text": [
      "Perplexity:  225.66814792477965\n"
     ]
    }
   ],
   "source": [
    "# Perplexity: Lower the better. Perplexity = exp(-1. * log-likelihood per word)\n",
    "print(\"Perplexity: \", lda.perplexity(X))"
   ]
  },
  {
   "cell_type": "code",
   "execution_count": null,
   "metadata": {},
   "outputs": [],
   "source": []
  },
  {
   "cell_type": "code",
   "execution_count": null,
   "metadata": {},
   "outputs": [],
   "source": []
  },
  {
   "cell_type": "code",
   "execution_count": 582,
   "metadata": {},
   "outputs": [
    {
     "name": "stdout",
     "output_type": "stream",
     "text": [
      "{'batch_size': 128,\n",
      " 'doc_topic_prior': None,\n",
      " 'evaluate_every': -1,\n",
      " 'learning_decay': 0.7,\n",
      " 'learning_method': 'batch',\n",
      " 'learning_offset': 10.0,\n",
      " 'max_doc_update_iter': 100,\n",
      " 'max_iter': 10,\n",
      " 'mean_change_tol': 0.001,\n",
      " 'n_components': 10,\n",
      " 'n_jobs': None,\n",
      " 'perp_tol': 0.1,\n",
      " 'random_state': 123,\n",
      " 'topic_word_prior': None,\n",
      " 'total_samples': 1000000.0,\n",
      " 'verbose': 0}\n"
     ]
    }
   ],
   "source": [
    "# See models parameters\n",
    "pprint(lda.get_params())"
   ]
  },
  {
   "cell_type": "code",
   "execution_count": 583,
   "metadata": {},
   "outputs": [
    {
     "name": "stdout",
     "output_type": "stream",
     "text": [
      "[[0.025      0.025      0.025      ... 0.025      0.025      0.49702029]\n",
      " [0.02       0.21999981 0.6199939  ... 0.02       0.02       0.02      ]\n",
      " [0.03333333 0.03333333 0.03333333 ... 0.03333333 0.03333333 0.03333333]\n",
      " ...\n",
      " [0.03333333 0.03333333 0.03333333 ... 0.50594923 0.03333333 0.2273841 ]\n",
      " [0.03333333 0.03333333 0.03333333 ... 0.03333416 0.03333333 0.03333438]\n",
      " [0.025      0.025      0.27499994 ... 0.025      0.025      0.02500001]]\n"
     ]
    }
   ],
   "source": [
    "#print(lda_model)\n",
    "print(X_topics)"
   ]
  },
  {
   "cell_type": "markdown",
   "metadata": {},
   "source": [
    "### On a different note, perplexity might not be the best measure to evaluate topic models because \n",
    "### it doesn’t consider the context and semantic associations between words."
   ]
  },
  {
   "cell_type": "code",
   "execution_count": 584,
   "metadata": {},
   "outputs": [
    {
     "name": "stdout",
     "output_type": "stream",
     "text": [
      "Requirement already up-to-date: textblob in /Users/piruzalemi/opt/anaconda3/lib/python3.7/site-packages (0.15.3)\n",
      "Requirement already satisfied, skipping upgrade: nltk>=3.1 in /Users/piruzalemi/opt/anaconda3/lib/python3.7/site-packages (from textblob) (3.4.5)\n",
      "Requirement already satisfied, skipping upgrade: six in /Users/piruzalemi/opt/anaconda3/lib/python3.7/site-packages (from nltk>=3.1->textblob) (1.12.0)\n",
      "[nltk_data] Downloading package brown to\n",
      "[nltk_data]     /Users/piruzalemi/nltk_data...\n",
      "[nltk_data]   Package brown is already up-to-date!\n",
      "[nltk_data] Downloading package punkt to\n",
      "[nltk_data]     /Users/piruzalemi/nltk_data...\n",
      "[nltk_data]   Package punkt is already up-to-date!\n",
      "[nltk_data] Downloading package wordnet to\n",
      "[nltk_data]     /Users/piruzalemi/nltk_data...\n",
      "[nltk_data]   Package wordnet is already up-to-date!\n",
      "[nltk_data] Downloading package averaged_perceptron_tagger to\n",
      "[nltk_data]     /Users/piruzalemi/nltk_data...\n",
      "[nltk_data]   Package averaged_perceptron_tagger is already up-to-\n",
      "[nltk_data]       date!\n",
      "[nltk_data] Downloading package conll2000 to\n",
      "[nltk_data]     /Users/piruzalemi/nltk_data...\n",
      "[nltk_data]   Package conll2000 is already up-to-date!\n",
      "[nltk_data] Downloading package movie_reviews to\n",
      "[nltk_data]     /Users/piruzalemi/nltk_data...\n",
      "[nltk_data]   Package movie_reviews is already up-to-date!\n",
      "Finished.\n"
     ]
    }
   ],
   "source": [
    "!pip install -U textblob \n",
    "!python -m textblob.download_corpora \n",
    "from textblob import TextBlob, Word, Blobber"
   ]
  },
  {
   "cell_type": "code",
   "execution_count": 653,
   "metadata": {},
   "outputs": [
    {
     "name": "stdout",
     "output_type": "stream",
     "text": [
      "Our team is the greatest, however that may not be true\n"
     ]
    },
    {
     "data": {
      "text/plain": [
       "Sentiment(polarity=0.675, subjectivity=0.825)"
      ]
     },
     "execution_count": 653,
     "metadata": {},
     "output_type": "execute_result"
    }
   ],
   "source": [
    "# Polarity is of 'float' type and lies in the range of -1,1, \n",
    "# where 1 means a high positive sentiment, and -1 means a high negative sentiment.\n",
    "text = TextBlob(\"Our team is the greatest, however that may not be true\")\n",
    "print (text)\n",
    "text.sentiment"
   ]
  },
  {
   "cell_type": "code",
   "execution_count": 654,
   "metadata": {},
   "outputs": [
    {
     "name": "stdout",
     "output_type": "stream",
     "text": [
      "b\"Georgia 'downs two Russian warplanes' as countries move to brink of war\"\n"
     ]
    },
    {
     "data": {
      "text/plain": [
       "Sentiment(polarity=0.0, subjectivity=0.0)"
      ]
     },
     "execution_count": 654,
     "metadata": {},
     "output_type": "execute_result"
    }
   ],
   "source": [
    "text = TextBlob(keepX[0])\n",
    "print (text)\n",
    "text.sentiment"
   ]
  },
  {
   "cell_type": "code",
   "execution_count": 704,
   "metadata": {},
   "outputs": [
    {
     "data": {
      "text/plain": [
       "0                                     (0.0, 0.0)\n",
       "1                                     (0.0, 0.0)\n",
       "2                                     (0.0, 1.0)\n",
       "3                                     (0.0, 0.0)\n",
       "4                                     (0.0, 0.0)\n",
       "5    (-0.16111111111111107, 0.43333333333333335)\n",
       "6                     (0.0, 0.16666666666666666)\n",
       "7                                     (0.0, 0.0)\n",
       "8                                     (0.0, 0.0)\n",
       "9                             (0.09375, 0.13125)\n",
       "Name: Top1, dtype: object"
      ]
     },
     "execution_count": 704,
     "metadata": {},
     "output_type": "execute_result"
    }
   ],
   "source": [
    "# The following output is a tuple representing polarity and subjectivity of each piece of News in our data. \n",
    "# Since we are interested in the sentiment,\n",
    "# we will only extract the polarity and apply it to all the observations\n",
    "dNews['Top1'][:10].apply(lambda x: TextBlob(x).sentiment)"
   ]
  },
  {
   "cell_type": "code",
   "execution_count": 656,
   "metadata": {
    "scrolled": true
   },
   "outputs": [
    {
     "data": {
      "text/html": [
       "<div>\n",
       "<style scoped>\n",
       "    .dataframe tbody tr th:only-of-type {\n",
       "        vertical-align: middle;\n",
       "    }\n",
       "\n",
       "    .dataframe tbody tr th {\n",
       "        vertical-align: top;\n",
       "    }\n",
       "\n",
       "    .dataframe thead th {\n",
       "        text-align: right;\n",
       "    }\n",
       "</style>\n",
       "<table border=\"1\" class=\"dataframe\">\n",
       "  <thead>\n",
       "    <tr style=\"text-align: right;\">\n",
       "      <th></th>\n",
       "      <th>Date</th>\n",
       "      <th>Label</th>\n",
       "      <th>Top1</th>\n",
       "      <th>Top2</th>\n",
       "      <th>Top3</th>\n",
       "      <th>Top4</th>\n",
       "      <th>Top5</th>\n",
       "      <th>Top6</th>\n",
       "      <th>Top7</th>\n",
       "      <th>Top8</th>\n",
       "      <th>...</th>\n",
       "      <th>Top20</th>\n",
       "      <th>Top21</th>\n",
       "      <th>Top22</th>\n",
       "      <th>Top23</th>\n",
       "      <th>Top24</th>\n",
       "      <th>Top25</th>\n",
       "      <th>sentiment1</th>\n",
       "      <th>sentiment2</th>\n",
       "      <th>sentiment3</th>\n",
       "      <th>Avg_sentiment</th>\n",
       "    </tr>\n",
       "  </thead>\n",
       "  <tbody>\n",
       "    <tr>\n",
       "      <td>0</td>\n",
       "      <td>2008-08-08</td>\n",
       "      <td>0</td>\n",
       "      <td>b\"Georgia 'downs two Russian warplanes' as cou...</td>\n",
       "      <td>b'BREAKING: Musharraf to be impeached.'</td>\n",
       "      <td>b'Russia Today: Columns of troops roll into So...</td>\n",
       "      <td>b'Russian tanks are moving towards the capital...</td>\n",
       "      <td>b\"Afghan children raped with 'impunity,' U.N. ...</td>\n",
       "      <td>b'150 Russian tanks have entered South Ossetia...</td>\n",
       "      <td>b\"Breaking: Georgia invades South Ossetia, Rus...</td>\n",
       "      <td>b\"The 'enemy combatent' trials are nothing but...</td>\n",
       "      <td>...</td>\n",
       "      <td>b\"Georgia will withdraw 1,000 soldiers from Ir...</td>\n",
       "      <td>b'Why the Pentagon Thinks Attacking Iran is a ...</td>\n",
       "      <td>b'Caucasus in crisis: Georgia invades South Os...</td>\n",
       "      <td>b'Indian shoe manufactory  - And again in a se...</td>\n",
       "      <td>b'Visitors Suffering from Mental Illnesses Ban...</td>\n",
       "      <td>b\"No Help for Mexico's Kidnapping Surge\"</td>\n",
       "      <td>0.0</td>\n",
       "      <td>0.000000</td>\n",
       "      <td>0.00</td>\n",
       "      <td>0.000000</td>\n",
       "    </tr>\n",
       "    <tr>\n",
       "      <td>1</td>\n",
       "      <td>2008-08-11</td>\n",
       "      <td>1</td>\n",
       "      <td>b'Why wont America and Nato help us? If they w...</td>\n",
       "      <td>b'Bush puts foot down on Georgian conflict'</td>\n",
       "      <td>b\"Jewish Georgian minister: Thanks to Israeli ...</td>\n",
       "      <td>b'Georgian army flees in disarray as Russians ...</td>\n",
       "      <td>b\"Olympic opening ceremony fireworks 'faked'\"</td>\n",
       "      <td>b'What were the Mossad with fraudulent New Zea...</td>\n",
       "      <td>b'Russia angered by Israeli military sale to G...</td>\n",
       "      <td>b'An American citizen living in S.Ossetia blam...</td>\n",
       "      <td>...</td>\n",
       "      <td>b'War in South Ossetia [PICS]'</td>\n",
       "      <td>b'Israeli Physicians Group Condemns State Tort...</td>\n",
       "      <td>b' Russia has just beaten the United States ov...</td>\n",
       "      <td>b'Perhaps *the* question about the Georgia - R...</td>\n",
       "      <td>b'Russia is so much better at war'</td>\n",
       "      <td>b\"So this is what it's come to: trading sex fo...</td>\n",
       "      <td>0.0</td>\n",
       "      <td>-0.155556</td>\n",
       "      <td>0.10</td>\n",
       "      <td>-0.018519</td>\n",
       "    </tr>\n",
       "    <tr>\n",
       "      <td>2</td>\n",
       "      <td>2008-08-12</td>\n",
       "      <td>0</td>\n",
       "      <td>b'Remember that adorable 9-year-old who sang a...</td>\n",
       "      <td>b\"Russia 'ends Georgia operation'\"</td>\n",
       "      <td>b'\"If we had no sexual harassment we would hav...</td>\n",
       "      <td>b\"Al-Qa'eda is losing support in Iraq because ...</td>\n",
       "      <td>b'Ceasefire in Georgia: Putin Outmaneuvers the...</td>\n",
       "      <td>b'Why Microsoft and Intel tried to kill the XO...</td>\n",
       "      <td>b'Stratfor: The Russo-Georgian War and the Bal...</td>\n",
       "      <td>b\"I'm Trying to Get a Sense of This Whole Geor...</td>\n",
       "      <td>...</td>\n",
       "      <td>b'Remember that adorable 62-year-old who led y...</td>\n",
       "      <td>b'War in Georgia: The Israeli connection'</td>\n",
       "      <td>b'All signs point to the US encouraging Georgi...</td>\n",
       "      <td>b'Christopher King argues that the US and NATO...</td>\n",
       "      <td>b'America: The New Mexico?'</td>\n",
       "      <td>b\"BBC NEWS | Asia-Pacific | Extinction 'by man...</td>\n",
       "      <td>0.0</td>\n",
       "      <td>0.000000</td>\n",
       "      <td>-0.25</td>\n",
       "      <td>-0.083333</td>\n",
       "    </tr>\n",
       "    <tr>\n",
       "      <td>3</td>\n",
       "      <td>2008-08-13</td>\n",
       "      <td>0</td>\n",
       "      <td>b' U.S. refuses Israel weapons to attack Iran:...</td>\n",
       "      <td>b\"When the president ordered to attack Tskhinv...</td>\n",
       "      <td>b' Israel clears troops who killed Reuters cam...</td>\n",
       "      <td>b'Britain\\'s policy of being tough on drugs is...</td>\n",
       "      <td>b'Body of 14 year old found in trunk; Latest (...</td>\n",
       "      <td>b'China has moved 10 *million* quake survivors...</td>\n",
       "      <td>b\"Bush announces Operation Get All Up In Russi...</td>\n",
       "      <td>b'Russian forces sink Georgian ships '</td>\n",
       "      <td>...</td>\n",
       "      <td>b'Israeli defence minister: US against strike ...</td>\n",
       "      <td>b'Gorbachev: We Had No Choice'</td>\n",
       "      <td>b'Witness: Russian forces head towards Tbilisi...</td>\n",
       "      <td>b' Quarter of Russians blame U.S. for conflict...</td>\n",
       "      <td>b'Georgian president  says US military will ta...</td>\n",
       "      <td>b'2006: Nobel laureate Aleksander Solzhenitsyn...</td>\n",
       "      <td>0.0</td>\n",
       "      <td>0.000000</td>\n",
       "      <td>-0.20</td>\n",
       "      <td>-0.066667</td>\n",
       "    </tr>\n",
       "    <tr>\n",
       "      <td>4</td>\n",
       "      <td>2008-08-14</td>\n",
       "      <td>1</td>\n",
       "      <td>b'All the experts admit that we should legalis...</td>\n",
       "      <td>b'War in South Osetia - 89 pictures made by a ...</td>\n",
       "      <td>b'Swedish wrestler Ara Abrahamian throws away ...</td>\n",
       "      <td>b'Russia exaggerated the death toll in South O...</td>\n",
       "      <td>b'Missile That Killed 9 Inside Pakistan May Ha...</td>\n",
       "      <td>b\"Rushdie Condemns Random House's Refusal to P...</td>\n",
       "      <td>b'Poland and US agree to missle defense deal. ...</td>\n",
       "      <td>b'Will the Russians conquer Tblisi? Bet on it,...</td>\n",
       "      <td>...</td>\n",
       "      <td>b'Georgian TV reporter shot by Russian sniper ...</td>\n",
       "      <td>b'Saudi Arabia: Mother moves to block child ma...</td>\n",
       "      <td>b'Taliban wages war on humanitarian aid workers'</td>\n",
       "      <td>b'Russia: World  \"can forget about\" Georgia\\'s...</td>\n",
       "      <td>b'Darfur rebels accuse Sudan of mounting major...</td>\n",
       "      <td>b'Philippines : Peace Advocate say Muslims nee...</td>\n",
       "      <td>0.0</td>\n",
       "      <td>0.000000</td>\n",
       "      <td>0.40</td>\n",
       "      <td>0.133333</td>\n",
       "    </tr>\n",
       "  </tbody>\n",
       "</table>\n",
       "<p>5 rows × 31 columns</p>\n",
       "</div>"
      ],
      "text/plain": [
       "        Date  Label                                               Top1  \\\n",
       "0 2008-08-08      0  b\"Georgia 'downs two Russian warplanes' as cou...   \n",
       "1 2008-08-11      1  b'Why wont America and Nato help us? If they w...   \n",
       "2 2008-08-12      0  b'Remember that adorable 9-year-old who sang a...   \n",
       "3 2008-08-13      0  b' U.S. refuses Israel weapons to attack Iran:...   \n",
       "4 2008-08-14      1  b'All the experts admit that we should legalis...   \n",
       "\n",
       "                                                Top2  \\\n",
       "0            b'BREAKING: Musharraf to be impeached.'   \n",
       "1        b'Bush puts foot down on Georgian conflict'   \n",
       "2                 b\"Russia 'ends Georgia operation'\"   \n",
       "3  b\"When the president ordered to attack Tskhinv...   \n",
       "4  b'War in South Osetia - 89 pictures made by a ...   \n",
       "\n",
       "                                                Top3  \\\n",
       "0  b'Russia Today: Columns of troops roll into So...   \n",
       "1  b\"Jewish Georgian minister: Thanks to Israeli ...   \n",
       "2  b'\"If we had no sexual harassment we would hav...   \n",
       "3  b' Israel clears troops who killed Reuters cam...   \n",
       "4  b'Swedish wrestler Ara Abrahamian throws away ...   \n",
       "\n",
       "                                                Top4  \\\n",
       "0  b'Russian tanks are moving towards the capital...   \n",
       "1  b'Georgian army flees in disarray as Russians ...   \n",
       "2  b\"Al-Qa'eda is losing support in Iraq because ...   \n",
       "3  b'Britain\\'s policy of being tough on drugs is...   \n",
       "4  b'Russia exaggerated the death toll in South O...   \n",
       "\n",
       "                                                Top5  \\\n",
       "0  b\"Afghan children raped with 'impunity,' U.N. ...   \n",
       "1      b\"Olympic opening ceremony fireworks 'faked'\"   \n",
       "2  b'Ceasefire in Georgia: Putin Outmaneuvers the...   \n",
       "3  b'Body of 14 year old found in trunk; Latest (...   \n",
       "4  b'Missile That Killed 9 Inside Pakistan May Ha...   \n",
       "\n",
       "                                                Top6  \\\n",
       "0  b'150 Russian tanks have entered South Ossetia...   \n",
       "1  b'What were the Mossad with fraudulent New Zea...   \n",
       "2  b'Why Microsoft and Intel tried to kill the XO...   \n",
       "3  b'China has moved 10 *million* quake survivors...   \n",
       "4  b\"Rushdie Condemns Random House's Refusal to P...   \n",
       "\n",
       "                                                Top7  \\\n",
       "0  b\"Breaking: Georgia invades South Ossetia, Rus...   \n",
       "1  b'Russia angered by Israeli military sale to G...   \n",
       "2  b'Stratfor: The Russo-Georgian War and the Bal...   \n",
       "3  b\"Bush announces Operation Get All Up In Russi...   \n",
       "4  b'Poland and US agree to missle defense deal. ...   \n",
       "\n",
       "                                                Top8  ...  \\\n",
       "0  b\"The 'enemy combatent' trials are nothing but...  ...   \n",
       "1  b'An American citizen living in S.Ossetia blam...  ...   \n",
       "2  b\"I'm Trying to Get a Sense of This Whole Geor...  ...   \n",
       "3             b'Russian forces sink Georgian ships '  ...   \n",
       "4  b'Will the Russians conquer Tblisi? Bet on it,...  ...   \n",
       "\n",
       "                                               Top20  \\\n",
       "0  b\"Georgia will withdraw 1,000 soldiers from Ir...   \n",
       "1                     b'War in South Ossetia [PICS]'   \n",
       "2  b'Remember that adorable 62-year-old who led y...   \n",
       "3  b'Israeli defence minister: US against strike ...   \n",
       "4  b'Georgian TV reporter shot by Russian sniper ...   \n",
       "\n",
       "                                               Top21  \\\n",
       "0  b'Why the Pentagon Thinks Attacking Iran is a ...   \n",
       "1  b'Israeli Physicians Group Condemns State Tort...   \n",
       "2          b'War in Georgia: The Israeli connection'   \n",
       "3                     b'Gorbachev: We Had No Choice'   \n",
       "4  b'Saudi Arabia: Mother moves to block child ma...   \n",
       "\n",
       "                                               Top22  \\\n",
       "0  b'Caucasus in crisis: Georgia invades South Os...   \n",
       "1  b' Russia has just beaten the United States ov...   \n",
       "2  b'All signs point to the US encouraging Georgi...   \n",
       "3  b'Witness: Russian forces head towards Tbilisi...   \n",
       "4   b'Taliban wages war on humanitarian aid workers'   \n",
       "\n",
       "                                               Top23  \\\n",
       "0  b'Indian shoe manufactory  - And again in a se...   \n",
       "1  b'Perhaps *the* question about the Georgia - R...   \n",
       "2  b'Christopher King argues that the US and NATO...   \n",
       "3  b' Quarter of Russians blame U.S. for conflict...   \n",
       "4  b'Russia: World  \"can forget about\" Georgia\\'s...   \n",
       "\n",
       "                                               Top24  \\\n",
       "0  b'Visitors Suffering from Mental Illnesses Ban...   \n",
       "1                 b'Russia is so much better at war'   \n",
       "2                        b'America: The New Mexico?'   \n",
       "3  b'Georgian president  says US military will ta...   \n",
       "4  b'Darfur rebels accuse Sudan of mounting major...   \n",
       "\n",
       "                                               Top25 sentiment1 sentiment2  \\\n",
       "0           b\"No Help for Mexico's Kidnapping Surge\"        0.0   0.000000   \n",
       "1  b\"So this is what it's come to: trading sex fo...        0.0  -0.155556   \n",
       "2  b\"BBC NEWS | Asia-Pacific | Extinction 'by man...        0.0   0.000000   \n",
       "3  b'2006: Nobel laureate Aleksander Solzhenitsyn...        0.0   0.000000   \n",
       "4  b'Philippines : Peace Advocate say Muslims nee...        0.0   0.000000   \n",
       "\n",
       "  sentiment3 Avg_sentiment  \n",
       "0       0.00      0.000000  \n",
       "1       0.10     -0.018519  \n",
       "2      -0.25     -0.083333  \n",
       "3      -0.20     -0.066667  \n",
       "4       0.40      0.133333  \n",
       "\n",
       "[5 rows x 31 columns]"
      ]
     },
     "execution_count": 656,
     "metadata": {},
     "output_type": "execute_result"
    }
   ],
   "source": [
    "# extracts the polarity for all the observations, and store it in a new variable 'sentiment'.\n",
    "# Here the values for sentiment tupple can be [0] or [1] Zero for capturing polarity, and 1 for subjectivity\n",
    "dNews['sentiment1'] = dNews['Top1'].apply(lambda x: TextBlob(x).sentiment[0])\n",
    "dNews['sentiment2'] = dNews['Top2'].apply(lambda x: TextBlob(x).sentiment[0])\n",
    "dNews['sentiment3'] = dNews['Top3'].apply(lambda x: TextBlob(x).sentiment[0])\n",
    "\n",
    "dNews['Avg_sentiment'] = (dNews['sentiment1'] + dNews['sentiment2'] + dNews['sentiment3'] )/3\n",
    "dNews.head()"
   ]
  },
  {
   "cell_type": "code",
   "execution_count": 657,
   "metadata": {},
   "outputs": [],
   "source": [
    "s1 = dNews.loc[:,'sentiment1'].values"
   ]
  },
  {
   "cell_type": "code",
   "execution_count": 658,
   "metadata": {
    "scrolled": false
   },
   "outputs": [],
   "source": [
    "\n",
    "s1 = dNews.loc[:,'sentiment1'].values\n",
    "s2 = dNews.loc[:,'sentiment2'].values\n",
    "s3 = dNews.loc[:,'sentiment3'].values\n",
    "s = np.concatenate((s1, s2, s3))\n",
    "# print(X.shape)\n",
    "# print(y.shape)"
   ]
  },
  {
   "cell_type": "code",
   "execution_count": 659,
   "metadata": {},
   "outputs": [
    {
     "data": {
      "text/plain": [
       "(5967,)"
      ]
     },
     "execution_count": 659,
     "metadata": {},
     "output_type": "execute_result"
    }
   ],
   "source": [
    "s.shape"
   ]
  },
  {
   "cell_type": "code",
   "execution_count": 660,
   "metadata": {},
   "outputs": [
    {
     "data": {
      "text/plain": [
       "MinMaxScaler(copy=True, feature_range=(0, 1))"
      ]
     },
     "execution_count": 660,
     "metadata": {},
     "output_type": "execute_result"
    }
   ],
   "source": [
    "# min(s)\n",
    "from sklearn.preprocessing import MinMaxScaler\n",
    "\n",
    "scaler=MinMaxScaler()\n",
    "scaler.fit(s_matrix)"
   ]
  },
  {
   "cell_type": "code",
   "execution_count": 594,
   "metadata": {},
   "outputs": [],
   "source": [
    "s_scaler=scaler.transform(s_matrix)"
   ]
  },
  {
   "cell_type": "code",
   "execution_count": 595,
   "metadata": {},
   "outputs": [
    {
     "data": {
      "text/plain": [
       "(1, 5967)"
      ]
     },
     "execution_count": 595,
     "metadata": {},
     "output_type": "execute_result"
    }
   ],
   "source": [
    "s_scaler.shape"
   ]
  },
  {
   "cell_type": "code",
   "execution_count": 661,
   "metadata": {},
   "outputs": [],
   "source": [
    "X1 = dNews.loc[:,\"Top1\"].values\n",
    "y1 = dNews.loc[:,\"Label\"].values\n",
    "X2 = dNews.loc[:,\"Top2\"].values\n",
    "y2 = dNews.loc[:,\"Label\"].values\n",
    "X3 = dNews.loc[:,\"Top3\"].values\n",
    "y3 = dNews.loc[:,\"Label\"].values\n",
    "\n",
    "\n",
    "\n",
    "X = np.concatenate((X1, X2, X3))\n",
    "y = np.concatenate((y1, y2, y3))"
   ]
  },
  {
   "cell_type": "code",
   "execution_count": 662,
   "metadata": {},
   "outputs": [
    {
     "data": {
      "text/plain": [
       "(5967, 2000)"
      ]
     },
     "execution_count": 662,
     "metadata": {},
     "output_type": "execute_result"
    }
   ],
   "source": [
    "# max_features=200\n",
    "count3 = CountVectorizer(stop_words='english', max_df=0.1,max_features=2000)\n",
    "xVect=count3.fit_transform(X)\n",
    "xVect.shape"
   ]
  },
  {
   "cell_type": "code",
   "execution_count": 663,
   "metadata": {},
   "outputs": [
    {
     "data": {
      "text/plain": [
       "(5967, 2000)"
      ]
     },
     "execution_count": 663,
     "metadata": {},
     "output_type": "execute_result"
    }
   ],
   "source": [
    "X_matrix=np.array(xVect.todense())\n",
    "X_matrix.shape"
   ]
  },
  {
   "cell_type": "code",
   "execution_count": 664,
   "metadata": {},
   "outputs": [
    {
     "data": {
      "text/plain": [
       "(1, 5967)"
      ]
     },
     "execution_count": 664,
     "metadata": {},
     "output_type": "execute_result"
    }
   ],
   "source": [
    "s_matrix=np.array([s])\n",
    "s_matrix.shape"
   ]
  },
  {
   "cell_type": "code",
   "execution_count": 665,
   "metadata": {},
   "outputs": [
    {
     "data": {
      "text/plain": [
       "(5967, 2001)"
      ]
     },
     "execution_count": 665,
     "metadata": {},
     "output_type": "execute_result"
    }
   ],
   "source": [
    "X_data=np.concatenate((X_matrix,s_scaler.T), axis=1)\n",
    "X_data.shape"
   ]
  },
  {
   "cell_type": "code",
   "execution_count": 666,
   "metadata": {},
   "outputs": [
    {
     "data": {
      "text/plain": [
       "array([[0.57257948, 0.02000106, 0.26740873, ..., 0.02      , 0.02      ,\n",
       "        0.02000003],\n",
       "       [0.01000099, 0.01000053, 0.01000182, ..., 0.01000089, 0.0100005 ,\n",
       "        0.68487814],\n",
       "       [0.01666704, 0.01666676, 0.01666667, ..., 0.01666669, 0.01666667,\n",
       "        0.01666667],\n",
       "       ...,\n",
       "       [0.01250065, 0.0125    , 0.01250017, ..., 0.01250473, 0.35278205,\n",
       "        0.28335346],\n",
       "       [0.02500262, 0.02500147, 0.02500616, ..., 0.56402007, 0.02500678,\n",
       "        0.02500545],\n",
       "       [0.01428571, 0.01428588, 0.17480375, ..., 0.32957843, 0.01428648,\n",
       "        0.01428784]])"
      ]
     },
     "execution_count": 666,
     "metadata": {},
     "output_type": "execute_result"
    }
   ],
   "source": [
    "lda_output2 = lda.fit_transform(X_data)\n",
    "lda_output2"
   ]
  },
  {
   "cell_type": "code",
   "execution_count": 667,
   "metadata": {},
   "outputs": [],
   "source": [
    "#.       apply.   continue......"
   ]
  },
  {
   "cell_type": "code",
   "execution_count": 668,
   "metadata": {},
   "outputs": [
    {
     "data": {
      "text/plain": [
       "(2, 2)"
      ]
     },
     "execution_count": 668,
     "metadata": {},
     "output_type": "execute_result"
    }
   ],
   "source": [
    "a.shape"
   ]
  },
  {
   "cell_type": "code",
   "execution_count": 669,
   "metadata": {},
   "outputs": [
    {
     "data": {
      "text/plain": [
       "(5967, 2000)"
      ]
     },
     "execution_count": 669,
     "metadata": {},
     "output_type": "execute_result"
    }
   ],
   "source": [
    "xVect.shape"
   ]
  },
  {
   "cell_type": "code",
   "execution_count": 670,
   "metadata": {},
   "outputs": [
    {
     "data": {
      "text/plain": [
       "array([[5],\n",
       "       [6]])"
      ]
     },
     "execution_count": 670,
     "metadata": {},
     "output_type": "execute_result"
    }
   ],
   "source": [
    "#print(xVect)\n",
    "import numpy as np\n",
    "a=np.array([[1,2],\n",
    "           [3,4]])\n",
    "b=np.array([[5,6]])\n",
    "b.T"
   ]
  },
  {
   "cell_type": "code",
   "execution_count": 671,
   "metadata": {},
   "outputs": [
    {
     "data": {
      "text/plain": [
       "array([[1, 2, 5],\n",
       "       [3, 4, 6]])"
      ]
     },
     "execution_count": 671,
     "metadata": {},
     "output_type": "execute_result"
    }
   ],
   "source": [
    "c=np.concatenate((a,b.T), axis=1)\n",
    "c"
   ]
  },
  {
   "cell_type": "code",
   "execution_count": 672,
   "metadata": {},
   "outputs": [
    {
     "data": {
      "text/plain": [
       "array([[1, 2],\n",
       "       [3, 4]])"
      ]
     },
     "execution_count": 672,
     "metadata": {},
     "output_type": "execute_result"
    }
   ],
   "source": [
    "a\n"
   ]
  },
  {
   "cell_type": "code",
   "execution_count": 673,
   "metadata": {},
   "outputs": [],
   "source": [
    "#c=np.concatenate((X,s.T), axis=1)"
   ]
  },
  {
   "cell_type": "markdown",
   "metadata": {},
   "source": [
    "# LDA GridSearch for Best Model"
   ]
  },
  {
   "cell_type": "code",
   "execution_count": 674,
   "metadata": {},
   "outputs": [],
   "source": [
    "# Define Search Param\n",
    "search_params = {'n_components': [10, 15, 20, 25, 30], 'learning_decay': [.5, .7, .9]}"
   ]
  },
  {
   "cell_type": "code",
   "execution_count": 675,
   "metadata": {},
   "outputs": [],
   "source": [
    "# Define Search Param\n",
    "#search_params = {'n_topics': [10, 15, 20, 25, 30], 'learning_decay': [.5, .7, .9]}"
   ]
  },
  {
   "cell_type": "code",
   "execution_count": 676,
   "metadata": {},
   "outputs": [],
   "source": [
    "# Init the Model\n",
    "lda = LatentDirichletAllocation(max_iter=5, learning_method='online', learning_offset=50.,random_state=0)"
   ]
  },
  {
   "cell_type": "code",
   "execution_count": 677,
   "metadata": {},
   "outputs": [],
   "source": [
    "# Init Grid Search Class\n",
    "model = GridSearchCV(lda, param_grid=search_params)"
   ]
  },
  {
   "cell_type": "code",
   "execution_count": 678,
   "metadata": {
    "scrolled": false
   },
   "outputs": [
    {
     "name": "stderr",
     "output_type": "stream",
     "text": [
      "/Users/piruzalemi/opt/anaconda3/lib/python3.7/site-packages/sklearn/model_selection/_split.py:1978: FutureWarning: The default value of cv will change from 3 to 5 in version 0.22. Specify it explicitly to silence this warning.\n",
      "  warnings.warn(CV_WARNING, FutureWarning)\n"
     ]
    },
    {
     "data": {
      "text/plain": [
       "GridSearchCV(cv='warn', error_score='raise-deprecating',\n",
       "             estimator=LatentDirichletAllocation(batch_size=128,\n",
       "                                                 doc_topic_prior=None,\n",
       "                                                 evaluate_every=-1,\n",
       "                                                 learning_decay=0.7,\n",
       "                                                 learning_method='online',\n",
       "                                                 learning_offset=50.0,\n",
       "                                                 max_doc_update_iter=100,\n",
       "                                                 max_iter=5,\n",
       "                                                 mean_change_tol=0.001,\n",
       "                                                 n_components=10, n_jobs=None,\n",
       "                                                 perp_tol=0.1, random_state=0,\n",
       "                                                 topic_word_prior=None,\n",
       "                                                 total_samples=1000000.0,\n",
       "                                                 verbose=0),\n",
       "             iid='warn', n_jobs=None,\n",
       "             param_grid={'learning_decay': [0.5, 0.7, 0.9],\n",
       "                         'n_components': [10, 15, 20, 25, 30]},\n",
       "             pre_dispatch='2*n_jobs', refit=True, return_train_score=False,\n",
       "             scoring=None, verbose=0)"
      ]
     },
     "execution_count": 678,
     "metadata": {},
     "output_type": "execute_result"
    }
   ],
   "source": [
    "# Do the Grid Search\n",
    "model.fit(X_data)"
   ]
  },
  {
   "cell_type": "code",
   "execution_count": 679,
   "metadata": {},
   "outputs": [],
   "source": [
    "# Best Model\n",
    "best_lda_model = model.best_estimator_"
   ]
  },
  {
   "cell_type": "code",
   "execution_count": 680,
   "metadata": {},
   "outputs": [
    {
     "data": {
      "text/plain": [
       "LatentDirichletAllocation(batch_size=128, doc_topic_prior=None,\n",
       "                          evaluate_every=-1, learning_decay=0.5,\n",
       "                          learning_method='online', learning_offset=50.0,\n",
       "                          max_doc_update_iter=100, max_iter=5,\n",
       "                          mean_change_tol=0.001, n_components=10, n_jobs=None,\n",
       "                          perp_tol=0.1, random_state=0, topic_word_prior=None,\n",
       "                          total_samples=1000000.0, verbose=0)"
      ]
     },
     "execution_count": 680,
     "metadata": {},
     "output_type": "execute_result"
    }
   ],
   "source": [
    "best_lda_model"
   ]
  },
  {
   "cell_type": "code",
   "execution_count": 681,
   "metadata": {},
   "outputs": [
    {
     "name": "stdout",
     "output_type": "stream",
     "text": [
      "Best Model's Params:  {'learning_decay': 0.5, 'n_components': 10}\n"
     ]
    }
   ],
   "source": [
    "# Model Parameters\n",
    "print(\"Best Model's Params: \", model.best_params_)"
   ]
  },
  {
   "cell_type": "code",
   "execution_count": 682,
   "metadata": {},
   "outputs": [
    {
     "data": {
      "text/plain": [
       "<bound method BaseSearchCV.score of GridSearchCV(cv='warn', error_score='raise-deprecating',\n",
       "             estimator=LatentDirichletAllocation(batch_size=128,\n",
       "                                                 doc_topic_prior=None,\n",
       "                                                 evaluate_every=-1,\n",
       "                                                 learning_decay=0.7,\n",
       "                                                 learning_method='online',\n",
       "                                                 learning_offset=50.0,\n",
       "                                                 max_doc_update_iter=100,\n",
       "                                                 max_iter=5,\n",
       "                                                 mean_change_tol=0.001,\n",
       "                                                 n_components=10, n_jobs=None,\n",
       "                                                 perp_tol=0.1, random_state=0,\n",
       "                                                 topic_word_prior=None,\n",
       "                                                 total_samples=1000000.0,\n",
       "                                                 verbose=0),\n",
       "             iid='warn', n_jobs=None,\n",
       "             param_grid={'learning_decay': [0.5, 0.7, 0.9],\n",
       "                         'n_components': [10, 15, 20, 25, 30]},\n",
       "             pre_dispatch='2*n_jobs', refit=True, return_train_score=False,\n",
       "             scoring=None, verbose=0)>"
      ]
     },
     "execution_count": 682,
     "metadata": {},
     "output_type": "execute_result"
    }
   ],
   "source": [
    "model.score"
   ]
  },
  {
   "cell_type": "code",
   "execution_count": 683,
   "metadata": {},
   "outputs": [
    {
     "data": {
      "text/plain": [
       "'warn'"
      ]
     },
     "execution_count": 683,
     "metadata": {},
     "output_type": "execute_result"
    }
   ],
   "source": [
    "model.iid"
   ]
  },
  {
   "cell_type": "code",
   "execution_count": 684,
   "metadata": {},
   "outputs": [
    {
     "data": {
      "text/plain": [
       "GridSearchCV(cv='warn', error_score='raise-deprecating',\n",
       "             estimator=LatentDirichletAllocation(batch_size=128,\n",
       "                                                 doc_topic_prior=None,\n",
       "                                                 evaluate_every=-1,\n",
       "                                                 learning_decay=0.7,\n",
       "                                                 learning_method='online',\n",
       "                                                 learning_offset=50.0,\n",
       "                                                 max_doc_update_iter=100,\n",
       "                                                 max_iter=5,\n",
       "                                                 mean_change_tol=0.001,\n",
       "                                                 n_components=10, n_jobs=None,\n",
       "                                                 perp_tol=0.1, random_state=0,\n",
       "                                                 topic_word_prior=None,\n",
       "                                                 total_samples=1000000.0,\n",
       "                                                 verbose=0),\n",
       "             iid='warn', n_jobs=None,\n",
       "             param_grid={'learning_decay': [0.5, 0.7, 0.9],\n",
       "                         'n_components': [10, 15, 20, 25, 30]},\n",
       "             pre_dispatch='2*n_jobs', refit=True, return_train_score=False,\n",
       "             scoring=None, verbose=1)"
      ]
     },
     "execution_count": 684,
     "metadata": {},
     "output_type": "execute_result"
    }
   ],
   "source": [
    "GridSearchCV(cv='warn', error_score='raise-deprecating',\n",
    "             estimator=LatentDirichletAllocation(batch_size=128,\n",
    "                                                 doc_topic_prior=None,\n",
    "                                                 evaluate_every=-1,\n",
    "                                                 learning_decay=0.7,\n",
    "                                                 learning_method='online',\n",
    "                                                 learning_offset=50.0,\n",
    "                                                 max_doc_update_iter=100,\n",
    "                                                 max_iter=5,\n",
    "                                                 mean_change_tol=0.001,\n",
    "                                                 n_components=10, n_jobs=None,\n",
    "                                                 perp_tol=0.1, random_state=0,\n",
    "                                                 topic_word_prior=None,\n",
    "                                                 total_samples=1000000.0,\n",
    "                                                 verbose=0),\n",
    "             iid='warn', n_jobs=None,\n",
    "             param_grid={'learning_decay': [0.5, 0.7, 0.9],\n",
    "                         'n_components': [10, 15, 20, 25, 30]},\n",
    "             pre_dispatch='2*n_jobs', refit=True, return_train_score=False,\n",
    "             scoring=None, verbose=1)"
   ]
  },
  {
   "cell_type": "code",
   "execution_count": null,
   "metadata": {},
   "outputs": [],
   "source": []
  },
  {
   "cell_type": "code",
   "execution_count": null,
   "metadata": {},
   "outputs": [],
   "source": []
  },
  {
   "cell_type": "code",
   "execution_count": null,
   "metadata": {},
   "outputs": [],
   "source": []
  },
  {
   "cell_type": "code",
   "execution_count": 685,
   "metadata": {},
   "outputs": [],
   "source": [
    "# Create Document — Topic Matrix\n",
    "# X=data_vectorized\n",
    "# lda_output = lda.transform(data_vectorized)\n",
    "# print(lda_output)\n",
    "# lda_output.shape"
   ]
  },
  {
   "cell_type": "code",
   "execution_count": 695,
   "metadata": {},
   "outputs": [
    {
     "name": "stdout",
     "output_type": "stream",
     "text": [
      "10\n"
     ]
    },
    {
     "data": {
      "text/plain": [
       "['Topic0',\n",
       " 'Topic1',\n",
       " 'Topic2',\n",
       " 'Topic3',\n",
       " 'Topic4',\n",
       " 'Topic5',\n",
       " 'Topic6',\n",
       " 'Topic7',\n",
       " 'Topic8',\n",
       " 'Topic9']"
      ]
     },
     "execution_count": 695,
     "metadata": {},
     "output_type": "execute_result"
    }
   ],
   "source": [
    "\n",
    "# column names\n",
    "topicnames = [\"Topic\" + str(i) for i in range(lda.n_components)]\n",
    "# index names\n",
    "#docnames = [“Doc” + str(i) for i in range(len(data))]\n",
    "# Make the pandas dataframe\n",
    "#df_document_topic = pd.DataFrame(np.round(lda_output, 2), columns=topicnames, index=docnames)\n",
    "print(lda.n_components)\n",
    "#topicnames.shape\n",
    "topicnames"
   ]
  },
  {
   "cell_type": "code",
   "execution_count": 696,
   "metadata": {},
   "outputs": [],
   "source": [
    "#X\n",
    "#print(data_vectorized)"
   ]
  },
  {
   "cell_type": "code",
   "execution_count": 697,
   "metadata": {},
   "outputs": [
    {
     "name": "stdout",
     "output_type": "stream",
     "text": [
      "['Doc0', 'Doc1', 'Doc2', 'Doc3', 'Doc4', 'Doc5', 'Doc6', 'Doc7', 'Doc8', 'Doc9', 'Doc10', 'Doc11', 'Doc12', 'Doc13', 'Doc14', 'Doc15', 'Doc16', 'Doc17', 'Doc18', 'Doc19', 'Doc20', 'Doc21', 'Doc22', 'Doc23', 'Doc24', 'Doc25', 'Doc26', 'Doc27', 'Doc28', 'Doc29', 'Doc30', 'Doc31', 'Doc32', 'Doc33', 'Doc34', 'Doc35', 'Doc36', 'Doc37', 'Doc38', 'Doc39', 'Doc40', 'Doc41', 'Doc42', 'Doc43', 'Doc44', 'Doc45', 'Doc46', 'Doc47', 'Doc48', 'Doc49', 'Doc50', 'Doc51', 'Doc52', 'Doc53', 'Doc54', 'Doc55', 'Doc56', 'Doc57', 'Doc58', 'Doc59', 'Doc60', 'Doc61', 'Doc62', 'Doc63', 'Doc64', 'Doc65', 'Doc66', 'Doc67', 'Doc68', 'Doc69', 'Doc70', 'Doc71', 'Doc72', 'Doc73', 'Doc74', 'Doc75', 'Doc76', 'Doc77', 'Doc78', 'Doc79', 'Doc80', 'Doc81', 'Doc82', 'Doc83', 'Doc84', 'Doc85', 'Doc86', 'Doc87', 'Doc88', 'Doc89', 'Doc90', 'Doc91', 'Doc92', 'Doc93', 'Doc94', 'Doc95', 'Doc96', 'Doc97', 'Doc98', 'Doc99', 'Doc100', 'Doc101', 'Doc102', 'Doc103', 'Doc104', 'Doc105', 'Doc106', 'Doc107', 'Doc108', 'Doc109', 'Doc110', 'Doc111', 'Doc112', 'Doc113', 'Doc114', 'Doc115', 'Doc116', 'Doc117', 'Doc118', 'Doc119', 'Doc120', 'Doc121', 'Doc122', 'Doc123', 'Doc124', 'Doc125', 'Doc126', 'Doc127', 'Doc128', 'Doc129', 'Doc130', 'Doc131', 'Doc132', 'Doc133', 'Doc134', 'Doc135', 'Doc136', 'Doc137', 'Doc138', 'Doc139', 'Doc140', 'Doc141', 'Doc142', 'Doc143', 'Doc144', 'Doc145', 'Doc146', 'Doc147', 'Doc148', 'Doc149', 'Doc150', 'Doc151', 'Doc152', 'Doc153', 'Doc154', 'Doc155', 'Doc156', 'Doc157', 'Doc158', 'Doc159', 'Doc160', 'Doc161', 'Doc162', 'Doc163', 'Doc164', 'Doc165', 'Doc166', 'Doc167', 'Doc168', 'Doc169', 'Doc170', 'Doc171', 'Doc172', 'Doc173', 'Doc174', 'Doc175', 'Doc176', 'Doc177', 'Doc178', 'Doc179', 'Doc180', 'Doc181', 'Doc182', 'Doc183', 'Doc184', 'Doc185', 'Doc186', 'Doc187', 'Doc188', 'Doc189', 'Doc190', 'Doc191', 'Doc192', 'Doc193', 'Doc194', 'Doc195', 'Doc196', 'Doc197', 'Doc198', 'Doc199', 'Doc200', 'Doc201', 'Doc202', 'Doc203', 'Doc204', 'Doc205', 'Doc206', 'Doc207', 'Doc208', 'Doc209', 'Doc210', 'Doc211', 'Doc212', 'Doc213', 'Doc214', 'Doc215', 'Doc216', 'Doc217', 'Doc218', 'Doc219', 'Doc220', 'Doc221', 'Doc222', 'Doc223', 'Doc224', 'Doc225', 'Doc226', 'Doc227', 'Doc228', 'Doc229', 'Doc230', 'Doc231', 'Doc232', 'Doc233', 'Doc234', 'Doc235', 'Doc236', 'Doc237', 'Doc238', 'Doc239', 'Doc240', 'Doc241', 'Doc242', 'Doc243', 'Doc244', 'Doc245', 'Doc246', 'Doc247', 'Doc248', 'Doc249', 'Doc250', 'Doc251', 'Doc252', 'Doc253', 'Doc254', 'Doc255', 'Doc256', 'Doc257', 'Doc258', 'Doc259', 'Doc260', 'Doc261', 'Doc262', 'Doc263', 'Doc264', 'Doc265', 'Doc266', 'Doc267', 'Doc268', 'Doc269', 'Doc270', 'Doc271', 'Doc272', 'Doc273', 'Doc274', 'Doc275', 'Doc276', 'Doc277', 'Doc278', 'Doc279', 'Doc280', 'Doc281', 'Doc282', 'Doc283', 'Doc284', 'Doc285', 'Doc286', 'Doc287', 'Doc288', 'Doc289', 'Doc290', 'Doc291', 'Doc292', 'Doc293', 'Doc294', 'Doc295', 'Doc296', 'Doc297', 'Doc298', 'Doc299', 'Doc300', 'Doc301', 'Doc302', 'Doc303', 'Doc304', 'Doc305', 'Doc306', 'Doc307', 'Doc308', 'Doc309', 'Doc310', 'Doc311', 'Doc312', 'Doc313', 'Doc314', 'Doc315', 'Doc316', 'Doc317', 'Doc318', 'Doc319', 'Doc320', 'Doc321', 'Doc322', 'Doc323', 'Doc324', 'Doc325', 'Doc326', 'Doc327', 'Doc328', 'Doc329', 'Doc330', 'Doc331', 'Doc332', 'Doc333', 'Doc334', 'Doc335', 'Doc336', 'Doc337', 'Doc338', 'Doc339', 'Doc340', 'Doc341', 'Doc342', 'Doc343', 'Doc344', 'Doc345', 'Doc346', 'Doc347', 'Doc348', 'Doc349', 'Doc350', 'Doc351', 'Doc352', 'Doc353', 'Doc354', 'Doc355', 'Doc356', 'Doc357', 'Doc358', 'Doc359', 'Doc360', 'Doc361', 'Doc362', 'Doc363', 'Doc364', 'Doc365', 'Doc366', 'Doc367', 'Doc368', 'Doc369', 'Doc370', 'Doc371', 'Doc372', 'Doc373', 'Doc374', 'Doc375', 'Doc376', 'Doc377', 'Doc378', 'Doc379', 'Doc380', 'Doc381', 'Doc382', 'Doc383', 'Doc384', 'Doc385', 'Doc386', 'Doc387', 'Doc388', 'Doc389', 'Doc390', 'Doc391', 'Doc392', 'Doc393', 'Doc394', 'Doc395', 'Doc396', 'Doc397', 'Doc398', 'Doc399', 'Doc400', 'Doc401', 'Doc402', 'Doc403', 'Doc404', 'Doc405', 'Doc406', 'Doc407', 'Doc408', 'Doc409', 'Doc410', 'Doc411', 'Doc412', 'Doc413', 'Doc414', 'Doc415', 'Doc416', 'Doc417', 'Doc418', 'Doc419', 'Doc420', 'Doc421', 'Doc422', 'Doc423', 'Doc424', 'Doc425', 'Doc426', 'Doc427', 'Doc428', 'Doc429', 'Doc430', 'Doc431', 'Doc432', 'Doc433', 'Doc434', 'Doc435', 'Doc436', 'Doc437', 'Doc438', 'Doc439', 'Doc440', 'Doc441', 'Doc442', 'Doc443', 'Doc444', 'Doc445', 'Doc446', 'Doc447', 'Doc448', 'Doc449', 'Doc450', 'Doc451', 'Doc452', 'Doc453', 'Doc454', 'Doc455', 'Doc456', 'Doc457', 'Doc458', 'Doc459', 'Doc460', 'Doc461', 'Doc462', 'Doc463', 'Doc464', 'Doc465', 'Doc466', 'Doc467', 'Doc468', 'Doc469', 'Doc470', 'Doc471', 'Doc472', 'Doc473', 'Doc474', 'Doc475', 'Doc476', 'Doc477', 'Doc478', 'Doc479', 'Doc480', 'Doc481', 'Doc482', 'Doc483', 'Doc484', 'Doc485', 'Doc486', 'Doc487', 'Doc488', 'Doc489', 'Doc490', 'Doc491', 'Doc492', 'Doc493', 'Doc494', 'Doc495', 'Doc496', 'Doc497', 'Doc498', 'Doc499', 'Doc500', 'Doc501', 'Doc502', 'Doc503', 'Doc504', 'Doc505', 'Doc506', 'Doc507', 'Doc508', 'Doc509', 'Doc510', 'Doc511', 'Doc512', 'Doc513', 'Doc514', 'Doc515', 'Doc516', 'Doc517', 'Doc518', 'Doc519', 'Doc520', 'Doc521', 'Doc522', 'Doc523', 'Doc524', 'Doc525', 'Doc526', 'Doc527', 'Doc528', 'Doc529', 'Doc530', 'Doc531', 'Doc532', 'Doc533', 'Doc534', 'Doc535', 'Doc536', 'Doc537', 'Doc538', 'Doc539', 'Doc540', 'Doc541', 'Doc542', 'Doc543', 'Doc544', 'Doc545', 'Doc546', 'Doc547', 'Doc548', 'Doc549', 'Doc550', 'Doc551', 'Doc552', 'Doc553', 'Doc554', 'Doc555', 'Doc556', 'Doc557', 'Doc558', 'Doc559', 'Doc560', 'Doc561', 'Doc562', 'Doc563', 'Doc564', 'Doc565', 'Doc566', 'Doc567', 'Doc568', 'Doc569', 'Doc570', 'Doc571', 'Doc572', 'Doc573', 'Doc574', 'Doc575', 'Doc576', 'Doc577', 'Doc578', 'Doc579', 'Doc580', 'Doc581', 'Doc582', 'Doc583', 'Doc584', 'Doc585', 'Doc586', 'Doc587', 'Doc588', 'Doc589', 'Doc590', 'Doc591', 'Doc592', 'Doc593', 'Doc594', 'Doc595', 'Doc596', 'Doc597', 'Doc598', 'Doc599', 'Doc600', 'Doc601', 'Doc602', 'Doc603', 'Doc604', 'Doc605', 'Doc606', 'Doc607', 'Doc608', 'Doc609', 'Doc610', 'Doc611', 'Doc612', 'Doc613', 'Doc614', 'Doc615', 'Doc616', 'Doc617', 'Doc618', 'Doc619', 'Doc620', 'Doc621', 'Doc622', 'Doc623', 'Doc624', 'Doc625', 'Doc626', 'Doc627', 'Doc628', 'Doc629', 'Doc630', 'Doc631', 'Doc632', 'Doc633', 'Doc634', 'Doc635', 'Doc636', 'Doc637', 'Doc638', 'Doc639', 'Doc640', 'Doc641', 'Doc642', 'Doc643', 'Doc644', 'Doc645', 'Doc646', 'Doc647', 'Doc648', 'Doc649', 'Doc650', 'Doc651', 'Doc652', 'Doc653', 'Doc654', 'Doc655', 'Doc656', 'Doc657', 'Doc658', 'Doc659', 'Doc660', 'Doc661', 'Doc662', 'Doc663', 'Doc664', 'Doc665', 'Doc666', 'Doc667', 'Doc668', 'Doc669', 'Doc670', 'Doc671', 'Doc672', 'Doc673', 'Doc674', 'Doc675', 'Doc676', 'Doc677', 'Doc678', 'Doc679', 'Doc680', 'Doc681', 'Doc682', 'Doc683', 'Doc684', 'Doc685', 'Doc686', 'Doc687', 'Doc688', 'Doc689', 'Doc690', 'Doc691', 'Doc692', 'Doc693', 'Doc694', 'Doc695', 'Doc696', 'Doc697', 'Doc698', 'Doc699', 'Doc700', 'Doc701', 'Doc702', 'Doc703', 'Doc704', 'Doc705', 'Doc706', 'Doc707', 'Doc708', 'Doc709', 'Doc710', 'Doc711', 'Doc712', 'Doc713', 'Doc714', 'Doc715', 'Doc716', 'Doc717', 'Doc718', 'Doc719', 'Doc720', 'Doc721', 'Doc722', 'Doc723', 'Doc724', 'Doc725', 'Doc726', 'Doc727', 'Doc728', 'Doc729', 'Doc730', 'Doc731', 'Doc732', 'Doc733', 'Doc734', 'Doc735', 'Doc736', 'Doc737', 'Doc738', 'Doc739', 'Doc740', 'Doc741', 'Doc742', 'Doc743', 'Doc744', 'Doc745', 'Doc746', 'Doc747', 'Doc748', 'Doc749', 'Doc750', 'Doc751', 'Doc752', 'Doc753', 'Doc754', 'Doc755', 'Doc756', 'Doc757', 'Doc758', 'Doc759', 'Doc760', 'Doc761', 'Doc762', 'Doc763', 'Doc764', 'Doc765', 'Doc766', 'Doc767', 'Doc768', 'Doc769', 'Doc770', 'Doc771', 'Doc772', 'Doc773', 'Doc774', 'Doc775', 'Doc776', 'Doc777', 'Doc778', 'Doc779', 'Doc780', 'Doc781', 'Doc782', 'Doc783', 'Doc784', 'Doc785', 'Doc786', 'Doc787', 'Doc788', 'Doc789', 'Doc790', 'Doc791', 'Doc792', 'Doc793', 'Doc794', 'Doc795', 'Doc796', 'Doc797', 'Doc798', 'Doc799', 'Doc800', 'Doc801', 'Doc802', 'Doc803', 'Doc804', 'Doc805', 'Doc806', 'Doc807', 'Doc808', 'Doc809', 'Doc810', 'Doc811', 'Doc812', 'Doc813', 'Doc814', 'Doc815', 'Doc816', 'Doc817', 'Doc818', 'Doc819', 'Doc820', 'Doc821', 'Doc822', 'Doc823', 'Doc824', 'Doc825', 'Doc826', 'Doc827', 'Doc828', 'Doc829', 'Doc830', 'Doc831', 'Doc832', 'Doc833', 'Doc834', 'Doc835', 'Doc836', 'Doc837', 'Doc838', 'Doc839', 'Doc840', 'Doc841', 'Doc842', 'Doc843', 'Doc844', 'Doc845', 'Doc846', 'Doc847', 'Doc848', 'Doc849', 'Doc850', 'Doc851', 'Doc852', 'Doc853', 'Doc854', 'Doc855', 'Doc856', 'Doc857', 'Doc858', 'Doc859', 'Doc860', 'Doc861', 'Doc862', 'Doc863', 'Doc864', 'Doc865', 'Doc866', 'Doc867', 'Doc868', 'Doc869', 'Doc870', 'Doc871', 'Doc872', 'Doc873', 'Doc874', 'Doc875', 'Doc876', 'Doc877', 'Doc878', 'Doc879', 'Doc880', 'Doc881', 'Doc882', 'Doc883', 'Doc884', 'Doc885', 'Doc886', 'Doc887', 'Doc888', 'Doc889', 'Doc890', 'Doc891', 'Doc892', 'Doc893', 'Doc894', 'Doc895', 'Doc896', 'Doc897', 'Doc898', 'Doc899', 'Doc900', 'Doc901', 'Doc902', 'Doc903', 'Doc904', 'Doc905', 'Doc906', 'Doc907', 'Doc908', 'Doc909', 'Doc910', 'Doc911', 'Doc912', 'Doc913', 'Doc914', 'Doc915', 'Doc916', 'Doc917', 'Doc918', 'Doc919', 'Doc920', 'Doc921', 'Doc922', 'Doc923', 'Doc924', 'Doc925', 'Doc926', 'Doc927', 'Doc928', 'Doc929', 'Doc930', 'Doc931', 'Doc932', 'Doc933', 'Doc934', 'Doc935', 'Doc936', 'Doc937', 'Doc938', 'Doc939', 'Doc940', 'Doc941', 'Doc942', 'Doc943', 'Doc944', 'Doc945', 'Doc946', 'Doc947', 'Doc948', 'Doc949', 'Doc950', 'Doc951', 'Doc952', 'Doc953', 'Doc954', 'Doc955', 'Doc956', 'Doc957', 'Doc958', 'Doc959', 'Doc960', 'Doc961', 'Doc962', 'Doc963', 'Doc964', 'Doc965', 'Doc966', 'Doc967', 'Doc968', 'Doc969', 'Doc970', 'Doc971', 'Doc972', 'Doc973', 'Doc974', 'Doc975', 'Doc976', 'Doc977', 'Doc978', 'Doc979', 'Doc980', 'Doc981', 'Doc982', 'Doc983', 'Doc984', 'Doc985', 'Doc986', 'Doc987', 'Doc988', 'Doc989', 'Doc990', 'Doc991', 'Doc992', 'Doc993', 'Doc994', 'Doc995', 'Doc996', 'Doc997', 'Doc998', 'Doc999', 'Doc1000', 'Doc1001', 'Doc1002', 'Doc1003', 'Doc1004', 'Doc1005', 'Doc1006', 'Doc1007', 'Doc1008', 'Doc1009', 'Doc1010', 'Doc1011', 'Doc1012', 'Doc1013', 'Doc1014', 'Doc1015', 'Doc1016', 'Doc1017', 'Doc1018', 'Doc1019', 'Doc1020', 'Doc1021', 'Doc1022', 'Doc1023', 'Doc1024', 'Doc1025', 'Doc1026', 'Doc1027', 'Doc1028', 'Doc1029', 'Doc1030', 'Doc1031', 'Doc1032', 'Doc1033', 'Doc1034', 'Doc1035', 'Doc1036', 'Doc1037', 'Doc1038', 'Doc1039', 'Doc1040', 'Doc1041', 'Doc1042', 'Doc1043', 'Doc1044', 'Doc1045', 'Doc1046', 'Doc1047', 'Doc1048', 'Doc1049', 'Doc1050', 'Doc1051', 'Doc1052', 'Doc1053', 'Doc1054', 'Doc1055', 'Doc1056', 'Doc1057', 'Doc1058', 'Doc1059', 'Doc1060', 'Doc1061', 'Doc1062', 'Doc1063', 'Doc1064', 'Doc1065', 'Doc1066', 'Doc1067', 'Doc1068', 'Doc1069', 'Doc1070', 'Doc1071', 'Doc1072', 'Doc1073', 'Doc1074', 'Doc1075', 'Doc1076', 'Doc1077', 'Doc1078', 'Doc1079', 'Doc1080', 'Doc1081', 'Doc1082', 'Doc1083', 'Doc1084', 'Doc1085', 'Doc1086', 'Doc1087', 'Doc1088', 'Doc1089', 'Doc1090', 'Doc1091', 'Doc1092', 'Doc1093', 'Doc1094', 'Doc1095', 'Doc1096', 'Doc1097', 'Doc1098', 'Doc1099', 'Doc1100', 'Doc1101', 'Doc1102', 'Doc1103', 'Doc1104', 'Doc1105', 'Doc1106', 'Doc1107', 'Doc1108', 'Doc1109', 'Doc1110', 'Doc1111', 'Doc1112', 'Doc1113', 'Doc1114', 'Doc1115', 'Doc1116', 'Doc1117', 'Doc1118', 'Doc1119', 'Doc1120', 'Doc1121', 'Doc1122', 'Doc1123', 'Doc1124', 'Doc1125', 'Doc1126', 'Doc1127', 'Doc1128', 'Doc1129', 'Doc1130', 'Doc1131', 'Doc1132', 'Doc1133', 'Doc1134', 'Doc1135', 'Doc1136', 'Doc1137', 'Doc1138', 'Doc1139', 'Doc1140', 'Doc1141', 'Doc1142', 'Doc1143', 'Doc1144', 'Doc1145', 'Doc1146', 'Doc1147', 'Doc1148', 'Doc1149', 'Doc1150', 'Doc1151', 'Doc1152', 'Doc1153', 'Doc1154', 'Doc1155', 'Doc1156', 'Doc1157', 'Doc1158', 'Doc1159', 'Doc1160', 'Doc1161', 'Doc1162', 'Doc1163', 'Doc1164', 'Doc1165', 'Doc1166', 'Doc1167', 'Doc1168', 'Doc1169', 'Doc1170', 'Doc1171', 'Doc1172', 'Doc1173', 'Doc1174', 'Doc1175', 'Doc1176', 'Doc1177', 'Doc1178', 'Doc1179', 'Doc1180', 'Doc1181', 'Doc1182', 'Doc1183', 'Doc1184', 'Doc1185', 'Doc1186', 'Doc1187', 'Doc1188', 'Doc1189', 'Doc1190', 'Doc1191', 'Doc1192', 'Doc1193', 'Doc1194', 'Doc1195', 'Doc1196', 'Doc1197', 'Doc1198', 'Doc1199', 'Doc1200', 'Doc1201', 'Doc1202', 'Doc1203', 'Doc1204', 'Doc1205', 'Doc1206', 'Doc1207', 'Doc1208', 'Doc1209', 'Doc1210', 'Doc1211', 'Doc1212', 'Doc1213', 'Doc1214', 'Doc1215', 'Doc1216', 'Doc1217', 'Doc1218', 'Doc1219', 'Doc1220', 'Doc1221', 'Doc1222', 'Doc1223', 'Doc1224', 'Doc1225', 'Doc1226', 'Doc1227', 'Doc1228', 'Doc1229', 'Doc1230', 'Doc1231', 'Doc1232', 'Doc1233', 'Doc1234', 'Doc1235', 'Doc1236', 'Doc1237', 'Doc1238', 'Doc1239', 'Doc1240', 'Doc1241', 'Doc1242', 'Doc1243', 'Doc1244', 'Doc1245', 'Doc1246', 'Doc1247', 'Doc1248', 'Doc1249', 'Doc1250', 'Doc1251', 'Doc1252', 'Doc1253', 'Doc1254', 'Doc1255', 'Doc1256', 'Doc1257', 'Doc1258', 'Doc1259', 'Doc1260', 'Doc1261', 'Doc1262', 'Doc1263', 'Doc1264', 'Doc1265', 'Doc1266', 'Doc1267', 'Doc1268', 'Doc1269', 'Doc1270', 'Doc1271', 'Doc1272', 'Doc1273', 'Doc1274', 'Doc1275', 'Doc1276', 'Doc1277', 'Doc1278', 'Doc1279', 'Doc1280', 'Doc1281', 'Doc1282', 'Doc1283', 'Doc1284', 'Doc1285', 'Doc1286', 'Doc1287', 'Doc1288', 'Doc1289', 'Doc1290', 'Doc1291', 'Doc1292', 'Doc1293', 'Doc1294', 'Doc1295', 'Doc1296', 'Doc1297', 'Doc1298', 'Doc1299', 'Doc1300', 'Doc1301', 'Doc1302', 'Doc1303', 'Doc1304', 'Doc1305', 'Doc1306', 'Doc1307', 'Doc1308', 'Doc1309', 'Doc1310', 'Doc1311', 'Doc1312', 'Doc1313', 'Doc1314', 'Doc1315', 'Doc1316', 'Doc1317', 'Doc1318', 'Doc1319', 'Doc1320', 'Doc1321', 'Doc1322', 'Doc1323', 'Doc1324', 'Doc1325', 'Doc1326', 'Doc1327', 'Doc1328', 'Doc1329', 'Doc1330', 'Doc1331', 'Doc1332', 'Doc1333', 'Doc1334', 'Doc1335', 'Doc1336', 'Doc1337', 'Doc1338', 'Doc1339', 'Doc1340', 'Doc1341', 'Doc1342', 'Doc1343', 'Doc1344', 'Doc1345', 'Doc1346', 'Doc1347', 'Doc1348', 'Doc1349', 'Doc1350', 'Doc1351', 'Doc1352', 'Doc1353', 'Doc1354', 'Doc1355', 'Doc1356', 'Doc1357', 'Doc1358', 'Doc1359', 'Doc1360', 'Doc1361', 'Doc1362', 'Doc1363', 'Doc1364', 'Doc1365', 'Doc1366', 'Doc1367', 'Doc1368', 'Doc1369', 'Doc1370', 'Doc1371', 'Doc1372', 'Doc1373', 'Doc1374', 'Doc1375', 'Doc1376', 'Doc1377', 'Doc1378', 'Doc1379', 'Doc1380', 'Doc1381', 'Doc1382', 'Doc1383', 'Doc1384', 'Doc1385', 'Doc1386', 'Doc1387', 'Doc1388', 'Doc1389', 'Doc1390', 'Doc1391', 'Doc1392', 'Doc1393', 'Doc1394', 'Doc1395', 'Doc1396', 'Doc1397', 'Doc1398', 'Doc1399', 'Doc1400', 'Doc1401', 'Doc1402', 'Doc1403', 'Doc1404', 'Doc1405', 'Doc1406', 'Doc1407', 'Doc1408', 'Doc1409', 'Doc1410', 'Doc1411', 'Doc1412', 'Doc1413', 'Doc1414', 'Doc1415', 'Doc1416', 'Doc1417', 'Doc1418', 'Doc1419', 'Doc1420', 'Doc1421', 'Doc1422', 'Doc1423', 'Doc1424', 'Doc1425', 'Doc1426', 'Doc1427', 'Doc1428', 'Doc1429', 'Doc1430', 'Doc1431', 'Doc1432', 'Doc1433', 'Doc1434', 'Doc1435', 'Doc1436', 'Doc1437', 'Doc1438', 'Doc1439', 'Doc1440', 'Doc1441', 'Doc1442', 'Doc1443', 'Doc1444', 'Doc1445', 'Doc1446', 'Doc1447', 'Doc1448', 'Doc1449', 'Doc1450', 'Doc1451', 'Doc1452', 'Doc1453', 'Doc1454', 'Doc1455', 'Doc1456', 'Doc1457', 'Doc1458', 'Doc1459', 'Doc1460', 'Doc1461', 'Doc1462', 'Doc1463', 'Doc1464', 'Doc1465', 'Doc1466', 'Doc1467', 'Doc1468', 'Doc1469', 'Doc1470', 'Doc1471', 'Doc1472', 'Doc1473', 'Doc1474', 'Doc1475', 'Doc1476', 'Doc1477', 'Doc1478', 'Doc1479', 'Doc1480', 'Doc1481', 'Doc1482', 'Doc1483', 'Doc1484', 'Doc1485', 'Doc1486', 'Doc1487', 'Doc1488', 'Doc1489', 'Doc1490', 'Doc1491', 'Doc1492', 'Doc1493', 'Doc1494', 'Doc1495', 'Doc1496', 'Doc1497', 'Doc1498', 'Doc1499', 'Doc1500', 'Doc1501', 'Doc1502', 'Doc1503', 'Doc1504', 'Doc1505', 'Doc1506', 'Doc1507', 'Doc1508', 'Doc1509', 'Doc1510', 'Doc1511', 'Doc1512', 'Doc1513', 'Doc1514', 'Doc1515', 'Doc1516', 'Doc1517', 'Doc1518', 'Doc1519', 'Doc1520', 'Doc1521', 'Doc1522', 'Doc1523', 'Doc1524', 'Doc1525', 'Doc1526', 'Doc1527', 'Doc1528', 'Doc1529', 'Doc1530', 'Doc1531', 'Doc1532', 'Doc1533', 'Doc1534', 'Doc1535', 'Doc1536', 'Doc1537', 'Doc1538', 'Doc1539', 'Doc1540', 'Doc1541', 'Doc1542', 'Doc1543', 'Doc1544', 'Doc1545', 'Doc1546', 'Doc1547', 'Doc1548', 'Doc1549', 'Doc1550', 'Doc1551', 'Doc1552', 'Doc1553', 'Doc1554', 'Doc1555', 'Doc1556', 'Doc1557', 'Doc1558', 'Doc1559', 'Doc1560', 'Doc1561', 'Doc1562', 'Doc1563', 'Doc1564', 'Doc1565', 'Doc1566', 'Doc1567', 'Doc1568', 'Doc1569', 'Doc1570', 'Doc1571', 'Doc1572', 'Doc1573', 'Doc1574', 'Doc1575', 'Doc1576', 'Doc1577', 'Doc1578', 'Doc1579', 'Doc1580', 'Doc1581', 'Doc1582', 'Doc1583', 'Doc1584', 'Doc1585', 'Doc1586', 'Doc1587', 'Doc1588', 'Doc1589', 'Doc1590', 'Doc1591', 'Doc1592', 'Doc1593', 'Doc1594', 'Doc1595', 'Doc1596', 'Doc1597', 'Doc1598', 'Doc1599', 'Doc1600', 'Doc1601', 'Doc1602', 'Doc1603', 'Doc1604', 'Doc1605', 'Doc1606', 'Doc1607', 'Doc1608', 'Doc1609', 'Doc1610', 'Doc1611', 'Doc1612', 'Doc1613', 'Doc1614', 'Doc1615', 'Doc1616', 'Doc1617', 'Doc1618', 'Doc1619', 'Doc1620', 'Doc1621', 'Doc1622', 'Doc1623', 'Doc1624', 'Doc1625', 'Doc1626', 'Doc1627', 'Doc1628', 'Doc1629', 'Doc1630', 'Doc1631', 'Doc1632', 'Doc1633', 'Doc1634', 'Doc1635', 'Doc1636', 'Doc1637', 'Doc1638', 'Doc1639', 'Doc1640', 'Doc1641', 'Doc1642', 'Doc1643', 'Doc1644', 'Doc1645', 'Doc1646', 'Doc1647', 'Doc1648', 'Doc1649', 'Doc1650', 'Doc1651', 'Doc1652', 'Doc1653', 'Doc1654', 'Doc1655', 'Doc1656', 'Doc1657', 'Doc1658', 'Doc1659', 'Doc1660', 'Doc1661', 'Doc1662', 'Doc1663', 'Doc1664', 'Doc1665', 'Doc1666', 'Doc1667', 'Doc1668', 'Doc1669', 'Doc1670', 'Doc1671', 'Doc1672', 'Doc1673', 'Doc1674', 'Doc1675', 'Doc1676', 'Doc1677', 'Doc1678', 'Doc1679', 'Doc1680', 'Doc1681', 'Doc1682', 'Doc1683', 'Doc1684', 'Doc1685', 'Doc1686', 'Doc1687', 'Doc1688', 'Doc1689', 'Doc1690', 'Doc1691', 'Doc1692', 'Doc1693', 'Doc1694', 'Doc1695', 'Doc1696', 'Doc1697', 'Doc1698', 'Doc1699', 'Doc1700', 'Doc1701', 'Doc1702', 'Doc1703', 'Doc1704', 'Doc1705', 'Doc1706', 'Doc1707', 'Doc1708', 'Doc1709', 'Doc1710', 'Doc1711', 'Doc1712', 'Doc1713', 'Doc1714', 'Doc1715', 'Doc1716', 'Doc1717', 'Doc1718', 'Doc1719', 'Doc1720', 'Doc1721', 'Doc1722', 'Doc1723', 'Doc1724', 'Doc1725', 'Doc1726', 'Doc1727', 'Doc1728', 'Doc1729', 'Doc1730', 'Doc1731', 'Doc1732', 'Doc1733', 'Doc1734', 'Doc1735', 'Doc1736', 'Doc1737', 'Doc1738', 'Doc1739', 'Doc1740', 'Doc1741', 'Doc1742', 'Doc1743', 'Doc1744', 'Doc1745', 'Doc1746', 'Doc1747', 'Doc1748', 'Doc1749', 'Doc1750', 'Doc1751', 'Doc1752', 'Doc1753', 'Doc1754', 'Doc1755', 'Doc1756', 'Doc1757', 'Doc1758', 'Doc1759', 'Doc1760', 'Doc1761', 'Doc1762', 'Doc1763', 'Doc1764', 'Doc1765', 'Doc1766', 'Doc1767', 'Doc1768', 'Doc1769', 'Doc1770', 'Doc1771', 'Doc1772', 'Doc1773', 'Doc1774', 'Doc1775', 'Doc1776', 'Doc1777', 'Doc1778', 'Doc1779', 'Doc1780', 'Doc1781', 'Doc1782', 'Doc1783', 'Doc1784', 'Doc1785', 'Doc1786', 'Doc1787', 'Doc1788', 'Doc1789', 'Doc1790', 'Doc1791', 'Doc1792', 'Doc1793', 'Doc1794', 'Doc1795', 'Doc1796', 'Doc1797', 'Doc1798', 'Doc1799', 'Doc1800', 'Doc1801', 'Doc1802', 'Doc1803', 'Doc1804', 'Doc1805', 'Doc1806', 'Doc1807', 'Doc1808', 'Doc1809', 'Doc1810', 'Doc1811', 'Doc1812', 'Doc1813', 'Doc1814', 'Doc1815', 'Doc1816', 'Doc1817', 'Doc1818', 'Doc1819', 'Doc1820', 'Doc1821', 'Doc1822', 'Doc1823', 'Doc1824', 'Doc1825', 'Doc1826', 'Doc1827', 'Doc1828', 'Doc1829', 'Doc1830', 'Doc1831', 'Doc1832', 'Doc1833', 'Doc1834', 'Doc1835', 'Doc1836', 'Doc1837', 'Doc1838', 'Doc1839', 'Doc1840', 'Doc1841', 'Doc1842', 'Doc1843', 'Doc1844', 'Doc1845', 'Doc1846', 'Doc1847', 'Doc1848', 'Doc1849', 'Doc1850', 'Doc1851', 'Doc1852', 'Doc1853', 'Doc1854', 'Doc1855', 'Doc1856', 'Doc1857', 'Doc1858', 'Doc1859', 'Doc1860', 'Doc1861', 'Doc1862', 'Doc1863', 'Doc1864', 'Doc1865', 'Doc1866', 'Doc1867', 'Doc1868', 'Doc1869', 'Doc1870', 'Doc1871', 'Doc1872', 'Doc1873', 'Doc1874', 'Doc1875', 'Doc1876', 'Doc1877', 'Doc1878', 'Doc1879', 'Doc1880', 'Doc1881', 'Doc1882', 'Doc1883', 'Doc1884', 'Doc1885', 'Doc1886', 'Doc1887', 'Doc1888', 'Doc1889', 'Doc1890', 'Doc1891', 'Doc1892', 'Doc1893', 'Doc1894', 'Doc1895', 'Doc1896', 'Doc1897', 'Doc1898', 'Doc1899', 'Doc1900', 'Doc1901', 'Doc1902', 'Doc1903', 'Doc1904', 'Doc1905', 'Doc1906', 'Doc1907', 'Doc1908', 'Doc1909', 'Doc1910', 'Doc1911', 'Doc1912', 'Doc1913', 'Doc1914', 'Doc1915', 'Doc1916', 'Doc1917', 'Doc1918', 'Doc1919', 'Doc1920', 'Doc1921', 'Doc1922', 'Doc1923', 'Doc1924', 'Doc1925', 'Doc1926', 'Doc1927', 'Doc1928', 'Doc1929', 'Doc1930', 'Doc1931', 'Doc1932', 'Doc1933', 'Doc1934', 'Doc1935', 'Doc1936', 'Doc1937', 'Doc1938', 'Doc1939', 'Doc1940', 'Doc1941', 'Doc1942', 'Doc1943', 'Doc1944', 'Doc1945', 'Doc1946', 'Doc1947', 'Doc1948', 'Doc1949', 'Doc1950', 'Doc1951', 'Doc1952', 'Doc1953', 'Doc1954', 'Doc1955', 'Doc1956', 'Doc1957', 'Doc1958', 'Doc1959', 'Doc1960', 'Doc1961', 'Doc1962', 'Doc1963', 'Doc1964', 'Doc1965', 'Doc1966', 'Doc1967', 'Doc1968', 'Doc1969', 'Doc1970', 'Doc1971', 'Doc1972', 'Doc1973', 'Doc1974', 'Doc1975', 'Doc1976', 'Doc1977', 'Doc1978', 'Doc1979', 'Doc1980', 'Doc1981', 'Doc1982', 'Doc1983', 'Doc1984', 'Doc1985', 'Doc1986', 'Doc1987', 'Doc1988', 'Doc1989', 'Doc1990', 'Doc1991', 'Doc1992', 'Doc1993', 'Doc1994', 'Doc1995', 'Doc1996', 'Doc1997', 'Doc1998', 'Doc1999', 'Doc2000', 'Doc2001', 'Doc2002', 'Doc2003', 'Doc2004', 'Doc2005', 'Doc2006', 'Doc2007', 'Doc2008', 'Doc2009', 'Doc2010', 'Doc2011', 'Doc2012', 'Doc2013', 'Doc2014', 'Doc2015', 'Doc2016', 'Doc2017', 'Doc2018', 'Doc2019', 'Doc2020', 'Doc2021', 'Doc2022', 'Doc2023', 'Doc2024', 'Doc2025', 'Doc2026', 'Doc2027', 'Doc2028', 'Doc2029', 'Doc2030', 'Doc2031', 'Doc2032', 'Doc2033', 'Doc2034', 'Doc2035', 'Doc2036', 'Doc2037', 'Doc2038', 'Doc2039', 'Doc2040', 'Doc2041', 'Doc2042', 'Doc2043', 'Doc2044', 'Doc2045', 'Doc2046', 'Doc2047', 'Doc2048', 'Doc2049', 'Doc2050', 'Doc2051', 'Doc2052', 'Doc2053', 'Doc2054', 'Doc2055', 'Doc2056', 'Doc2057', 'Doc2058', 'Doc2059', 'Doc2060', 'Doc2061', 'Doc2062', 'Doc2063', 'Doc2064', 'Doc2065', 'Doc2066', 'Doc2067', 'Doc2068', 'Doc2069', 'Doc2070', 'Doc2071', 'Doc2072', 'Doc2073', 'Doc2074', 'Doc2075', 'Doc2076', 'Doc2077', 'Doc2078', 'Doc2079', 'Doc2080', 'Doc2081', 'Doc2082', 'Doc2083', 'Doc2084', 'Doc2085', 'Doc2086', 'Doc2087', 'Doc2088', 'Doc2089', 'Doc2090', 'Doc2091', 'Doc2092', 'Doc2093', 'Doc2094', 'Doc2095', 'Doc2096', 'Doc2097', 'Doc2098', 'Doc2099', 'Doc2100', 'Doc2101', 'Doc2102', 'Doc2103', 'Doc2104', 'Doc2105', 'Doc2106', 'Doc2107', 'Doc2108', 'Doc2109', 'Doc2110', 'Doc2111', 'Doc2112', 'Doc2113', 'Doc2114', 'Doc2115', 'Doc2116', 'Doc2117', 'Doc2118', 'Doc2119', 'Doc2120', 'Doc2121', 'Doc2122', 'Doc2123', 'Doc2124', 'Doc2125', 'Doc2126', 'Doc2127', 'Doc2128', 'Doc2129', 'Doc2130', 'Doc2131', 'Doc2132', 'Doc2133', 'Doc2134', 'Doc2135', 'Doc2136', 'Doc2137', 'Doc2138', 'Doc2139', 'Doc2140', 'Doc2141', 'Doc2142', 'Doc2143', 'Doc2144', 'Doc2145', 'Doc2146', 'Doc2147', 'Doc2148', 'Doc2149', 'Doc2150', 'Doc2151', 'Doc2152', 'Doc2153', 'Doc2154', 'Doc2155', 'Doc2156', 'Doc2157', 'Doc2158', 'Doc2159', 'Doc2160', 'Doc2161', 'Doc2162', 'Doc2163', 'Doc2164', 'Doc2165', 'Doc2166', 'Doc2167', 'Doc2168', 'Doc2169', 'Doc2170', 'Doc2171', 'Doc2172', 'Doc2173', 'Doc2174', 'Doc2175', 'Doc2176', 'Doc2177', 'Doc2178', 'Doc2179', 'Doc2180', 'Doc2181', 'Doc2182', 'Doc2183', 'Doc2184', 'Doc2185', 'Doc2186', 'Doc2187', 'Doc2188', 'Doc2189', 'Doc2190', 'Doc2191', 'Doc2192', 'Doc2193', 'Doc2194', 'Doc2195', 'Doc2196', 'Doc2197', 'Doc2198', 'Doc2199', 'Doc2200', 'Doc2201', 'Doc2202', 'Doc2203', 'Doc2204', 'Doc2205', 'Doc2206', 'Doc2207', 'Doc2208', 'Doc2209', 'Doc2210', 'Doc2211', 'Doc2212', 'Doc2213', 'Doc2214', 'Doc2215', 'Doc2216', 'Doc2217', 'Doc2218', 'Doc2219', 'Doc2220', 'Doc2221', 'Doc2222', 'Doc2223', 'Doc2224', 'Doc2225', 'Doc2226', 'Doc2227', 'Doc2228', 'Doc2229', 'Doc2230', 'Doc2231', 'Doc2232', 'Doc2233', 'Doc2234', 'Doc2235', 'Doc2236', 'Doc2237', 'Doc2238', 'Doc2239', 'Doc2240', 'Doc2241', 'Doc2242', 'Doc2243', 'Doc2244', 'Doc2245', 'Doc2246', 'Doc2247', 'Doc2248', 'Doc2249', 'Doc2250', 'Doc2251', 'Doc2252', 'Doc2253', 'Doc2254', 'Doc2255', 'Doc2256', 'Doc2257', 'Doc2258', 'Doc2259', 'Doc2260', 'Doc2261', 'Doc2262', 'Doc2263', 'Doc2264', 'Doc2265', 'Doc2266', 'Doc2267', 'Doc2268', 'Doc2269', 'Doc2270', 'Doc2271', 'Doc2272', 'Doc2273', 'Doc2274', 'Doc2275', 'Doc2276', 'Doc2277', 'Doc2278', 'Doc2279', 'Doc2280', 'Doc2281', 'Doc2282', 'Doc2283', 'Doc2284', 'Doc2285', 'Doc2286', 'Doc2287', 'Doc2288', 'Doc2289', 'Doc2290', 'Doc2291', 'Doc2292', 'Doc2293', 'Doc2294', 'Doc2295', 'Doc2296', 'Doc2297', 'Doc2298', 'Doc2299', 'Doc2300', 'Doc2301', 'Doc2302', 'Doc2303', 'Doc2304', 'Doc2305', 'Doc2306', 'Doc2307', 'Doc2308', 'Doc2309', 'Doc2310', 'Doc2311', 'Doc2312', 'Doc2313', 'Doc2314', 'Doc2315', 'Doc2316', 'Doc2317', 'Doc2318', 'Doc2319', 'Doc2320', 'Doc2321', 'Doc2322', 'Doc2323', 'Doc2324', 'Doc2325', 'Doc2326', 'Doc2327', 'Doc2328', 'Doc2329', 'Doc2330', 'Doc2331', 'Doc2332', 'Doc2333', 'Doc2334', 'Doc2335', 'Doc2336', 'Doc2337', 'Doc2338', 'Doc2339', 'Doc2340', 'Doc2341', 'Doc2342', 'Doc2343', 'Doc2344', 'Doc2345', 'Doc2346', 'Doc2347', 'Doc2348', 'Doc2349', 'Doc2350', 'Doc2351', 'Doc2352', 'Doc2353', 'Doc2354', 'Doc2355', 'Doc2356', 'Doc2357', 'Doc2358', 'Doc2359', 'Doc2360', 'Doc2361', 'Doc2362', 'Doc2363', 'Doc2364', 'Doc2365', 'Doc2366', 'Doc2367', 'Doc2368', 'Doc2369', 'Doc2370', 'Doc2371', 'Doc2372', 'Doc2373', 'Doc2374', 'Doc2375', 'Doc2376', 'Doc2377', 'Doc2378', 'Doc2379', 'Doc2380', 'Doc2381', 'Doc2382', 'Doc2383', 'Doc2384', 'Doc2385', 'Doc2386', 'Doc2387', 'Doc2388', 'Doc2389', 'Doc2390', 'Doc2391', 'Doc2392', 'Doc2393', 'Doc2394', 'Doc2395', 'Doc2396', 'Doc2397', 'Doc2398', 'Doc2399', 'Doc2400', 'Doc2401', 'Doc2402', 'Doc2403', 'Doc2404', 'Doc2405', 'Doc2406', 'Doc2407', 'Doc2408', 'Doc2409', 'Doc2410', 'Doc2411', 'Doc2412', 'Doc2413', 'Doc2414', 'Doc2415', 'Doc2416', 'Doc2417', 'Doc2418', 'Doc2419', 'Doc2420', 'Doc2421', 'Doc2422', 'Doc2423', 'Doc2424', 'Doc2425', 'Doc2426', 'Doc2427', 'Doc2428', 'Doc2429', 'Doc2430', 'Doc2431', 'Doc2432', 'Doc2433', 'Doc2434', 'Doc2435', 'Doc2436', 'Doc2437', 'Doc2438', 'Doc2439', 'Doc2440', 'Doc2441', 'Doc2442', 'Doc2443', 'Doc2444', 'Doc2445', 'Doc2446', 'Doc2447', 'Doc2448', 'Doc2449', 'Doc2450', 'Doc2451', 'Doc2452', 'Doc2453', 'Doc2454', 'Doc2455', 'Doc2456', 'Doc2457', 'Doc2458', 'Doc2459', 'Doc2460', 'Doc2461', 'Doc2462', 'Doc2463', 'Doc2464', 'Doc2465', 'Doc2466', 'Doc2467', 'Doc2468', 'Doc2469', 'Doc2470', 'Doc2471', 'Doc2472', 'Doc2473', 'Doc2474', 'Doc2475', 'Doc2476', 'Doc2477', 'Doc2478', 'Doc2479', 'Doc2480', 'Doc2481', 'Doc2482', 'Doc2483', 'Doc2484', 'Doc2485', 'Doc2486', 'Doc2487', 'Doc2488', 'Doc2489', 'Doc2490', 'Doc2491', 'Doc2492', 'Doc2493', 'Doc2494', 'Doc2495', 'Doc2496', 'Doc2497', 'Doc2498', 'Doc2499', 'Doc2500', 'Doc2501', 'Doc2502', 'Doc2503', 'Doc2504', 'Doc2505', 'Doc2506', 'Doc2507', 'Doc2508', 'Doc2509', 'Doc2510', 'Doc2511', 'Doc2512', 'Doc2513', 'Doc2514', 'Doc2515', 'Doc2516', 'Doc2517', 'Doc2518', 'Doc2519', 'Doc2520', 'Doc2521', 'Doc2522', 'Doc2523', 'Doc2524', 'Doc2525', 'Doc2526', 'Doc2527', 'Doc2528', 'Doc2529', 'Doc2530', 'Doc2531', 'Doc2532', 'Doc2533', 'Doc2534', 'Doc2535', 'Doc2536', 'Doc2537', 'Doc2538', 'Doc2539', 'Doc2540', 'Doc2541', 'Doc2542', 'Doc2543', 'Doc2544', 'Doc2545', 'Doc2546', 'Doc2547', 'Doc2548', 'Doc2549', 'Doc2550', 'Doc2551', 'Doc2552', 'Doc2553', 'Doc2554', 'Doc2555', 'Doc2556', 'Doc2557', 'Doc2558', 'Doc2559', 'Doc2560', 'Doc2561', 'Doc2562', 'Doc2563', 'Doc2564', 'Doc2565', 'Doc2566', 'Doc2567', 'Doc2568', 'Doc2569', 'Doc2570', 'Doc2571', 'Doc2572', 'Doc2573', 'Doc2574', 'Doc2575', 'Doc2576', 'Doc2577', 'Doc2578', 'Doc2579', 'Doc2580', 'Doc2581', 'Doc2582', 'Doc2583', 'Doc2584', 'Doc2585', 'Doc2586', 'Doc2587', 'Doc2588', 'Doc2589', 'Doc2590', 'Doc2591', 'Doc2592', 'Doc2593', 'Doc2594', 'Doc2595', 'Doc2596', 'Doc2597', 'Doc2598', 'Doc2599', 'Doc2600', 'Doc2601', 'Doc2602', 'Doc2603', 'Doc2604', 'Doc2605', 'Doc2606', 'Doc2607', 'Doc2608', 'Doc2609', 'Doc2610', 'Doc2611', 'Doc2612', 'Doc2613', 'Doc2614', 'Doc2615', 'Doc2616', 'Doc2617', 'Doc2618', 'Doc2619', 'Doc2620', 'Doc2621', 'Doc2622', 'Doc2623', 'Doc2624', 'Doc2625', 'Doc2626', 'Doc2627', 'Doc2628', 'Doc2629', 'Doc2630', 'Doc2631', 'Doc2632', 'Doc2633', 'Doc2634', 'Doc2635', 'Doc2636', 'Doc2637', 'Doc2638', 'Doc2639', 'Doc2640', 'Doc2641', 'Doc2642', 'Doc2643', 'Doc2644', 'Doc2645', 'Doc2646', 'Doc2647', 'Doc2648', 'Doc2649', 'Doc2650', 'Doc2651', 'Doc2652', 'Doc2653', 'Doc2654', 'Doc2655', 'Doc2656', 'Doc2657', 'Doc2658', 'Doc2659', 'Doc2660', 'Doc2661', 'Doc2662', 'Doc2663', 'Doc2664', 'Doc2665', 'Doc2666', 'Doc2667', 'Doc2668', 'Doc2669', 'Doc2670', 'Doc2671', 'Doc2672', 'Doc2673', 'Doc2674', 'Doc2675', 'Doc2676', 'Doc2677', 'Doc2678', 'Doc2679', 'Doc2680', 'Doc2681', 'Doc2682', 'Doc2683', 'Doc2684', 'Doc2685', 'Doc2686', 'Doc2687', 'Doc2688', 'Doc2689', 'Doc2690', 'Doc2691', 'Doc2692', 'Doc2693', 'Doc2694', 'Doc2695', 'Doc2696', 'Doc2697', 'Doc2698', 'Doc2699', 'Doc2700', 'Doc2701', 'Doc2702', 'Doc2703', 'Doc2704', 'Doc2705', 'Doc2706', 'Doc2707', 'Doc2708', 'Doc2709', 'Doc2710', 'Doc2711', 'Doc2712', 'Doc2713', 'Doc2714', 'Doc2715', 'Doc2716', 'Doc2717', 'Doc2718', 'Doc2719', 'Doc2720', 'Doc2721', 'Doc2722', 'Doc2723', 'Doc2724', 'Doc2725', 'Doc2726', 'Doc2727', 'Doc2728', 'Doc2729', 'Doc2730', 'Doc2731', 'Doc2732', 'Doc2733', 'Doc2734', 'Doc2735', 'Doc2736', 'Doc2737', 'Doc2738', 'Doc2739', 'Doc2740', 'Doc2741', 'Doc2742', 'Doc2743', 'Doc2744', 'Doc2745', 'Doc2746', 'Doc2747', 'Doc2748', 'Doc2749', 'Doc2750', 'Doc2751', 'Doc2752', 'Doc2753', 'Doc2754', 'Doc2755', 'Doc2756', 'Doc2757', 'Doc2758', 'Doc2759', 'Doc2760', 'Doc2761', 'Doc2762', 'Doc2763', 'Doc2764', 'Doc2765', 'Doc2766', 'Doc2767', 'Doc2768', 'Doc2769', 'Doc2770', 'Doc2771', 'Doc2772', 'Doc2773', 'Doc2774', 'Doc2775', 'Doc2776', 'Doc2777', 'Doc2778', 'Doc2779', 'Doc2780', 'Doc2781', 'Doc2782', 'Doc2783', 'Doc2784', 'Doc2785', 'Doc2786', 'Doc2787', 'Doc2788', 'Doc2789', 'Doc2790', 'Doc2791', 'Doc2792', 'Doc2793', 'Doc2794', 'Doc2795', 'Doc2796', 'Doc2797', 'Doc2798', 'Doc2799', 'Doc2800', 'Doc2801', 'Doc2802', 'Doc2803', 'Doc2804', 'Doc2805', 'Doc2806', 'Doc2807', 'Doc2808', 'Doc2809', 'Doc2810', 'Doc2811', 'Doc2812', 'Doc2813', 'Doc2814', 'Doc2815', 'Doc2816', 'Doc2817', 'Doc2818', 'Doc2819', 'Doc2820', 'Doc2821', 'Doc2822', 'Doc2823', 'Doc2824', 'Doc2825', 'Doc2826', 'Doc2827', 'Doc2828', 'Doc2829', 'Doc2830', 'Doc2831', 'Doc2832', 'Doc2833', 'Doc2834', 'Doc2835', 'Doc2836', 'Doc2837', 'Doc2838', 'Doc2839', 'Doc2840', 'Doc2841', 'Doc2842', 'Doc2843', 'Doc2844', 'Doc2845', 'Doc2846', 'Doc2847', 'Doc2848', 'Doc2849', 'Doc2850', 'Doc2851', 'Doc2852', 'Doc2853', 'Doc2854', 'Doc2855', 'Doc2856', 'Doc2857', 'Doc2858', 'Doc2859', 'Doc2860', 'Doc2861', 'Doc2862', 'Doc2863', 'Doc2864', 'Doc2865', 'Doc2866', 'Doc2867', 'Doc2868', 'Doc2869', 'Doc2870', 'Doc2871', 'Doc2872', 'Doc2873', 'Doc2874', 'Doc2875', 'Doc2876', 'Doc2877', 'Doc2878', 'Doc2879', 'Doc2880', 'Doc2881', 'Doc2882', 'Doc2883', 'Doc2884', 'Doc2885', 'Doc2886', 'Doc2887', 'Doc2888', 'Doc2889', 'Doc2890', 'Doc2891', 'Doc2892', 'Doc2893', 'Doc2894', 'Doc2895', 'Doc2896', 'Doc2897', 'Doc2898', 'Doc2899', 'Doc2900', 'Doc2901', 'Doc2902', 'Doc2903', 'Doc2904', 'Doc2905', 'Doc2906', 'Doc2907', 'Doc2908', 'Doc2909', 'Doc2910', 'Doc2911', 'Doc2912', 'Doc2913', 'Doc2914', 'Doc2915', 'Doc2916', 'Doc2917', 'Doc2918', 'Doc2919', 'Doc2920', 'Doc2921', 'Doc2922', 'Doc2923', 'Doc2924', 'Doc2925', 'Doc2926', 'Doc2927', 'Doc2928', 'Doc2929', 'Doc2930', 'Doc2931', 'Doc2932', 'Doc2933', 'Doc2934', 'Doc2935', 'Doc2936', 'Doc2937', 'Doc2938', 'Doc2939', 'Doc2940', 'Doc2941', 'Doc2942', 'Doc2943', 'Doc2944', 'Doc2945', 'Doc2946', 'Doc2947', 'Doc2948', 'Doc2949', 'Doc2950', 'Doc2951', 'Doc2952', 'Doc2953', 'Doc2954', 'Doc2955', 'Doc2956', 'Doc2957', 'Doc2958', 'Doc2959', 'Doc2960', 'Doc2961', 'Doc2962', 'Doc2963', 'Doc2964', 'Doc2965', 'Doc2966', 'Doc2967', 'Doc2968', 'Doc2969', 'Doc2970', 'Doc2971', 'Doc2972', 'Doc2973', 'Doc2974', 'Doc2975', 'Doc2976', 'Doc2977', 'Doc2978', 'Doc2979', 'Doc2980', 'Doc2981', 'Doc2982', 'Doc2983', 'Doc2984', 'Doc2985', 'Doc2986', 'Doc2987', 'Doc2988', 'Doc2989', 'Doc2990', 'Doc2991', 'Doc2992', 'Doc2993', 'Doc2994', 'Doc2995', 'Doc2996', 'Doc2997', 'Doc2998', 'Doc2999', 'Doc3000', 'Doc3001', 'Doc3002', 'Doc3003', 'Doc3004', 'Doc3005', 'Doc3006', 'Doc3007', 'Doc3008', 'Doc3009', 'Doc3010', 'Doc3011', 'Doc3012', 'Doc3013', 'Doc3014', 'Doc3015', 'Doc3016', 'Doc3017', 'Doc3018', 'Doc3019', 'Doc3020', 'Doc3021', 'Doc3022', 'Doc3023', 'Doc3024', 'Doc3025', 'Doc3026', 'Doc3027', 'Doc3028', 'Doc3029', 'Doc3030', 'Doc3031', 'Doc3032', 'Doc3033', 'Doc3034', 'Doc3035', 'Doc3036', 'Doc3037', 'Doc3038', 'Doc3039', 'Doc3040', 'Doc3041', 'Doc3042', 'Doc3043', 'Doc3044', 'Doc3045', 'Doc3046', 'Doc3047', 'Doc3048', 'Doc3049', 'Doc3050', 'Doc3051', 'Doc3052', 'Doc3053', 'Doc3054', 'Doc3055', 'Doc3056', 'Doc3057', 'Doc3058', 'Doc3059', 'Doc3060', 'Doc3061', 'Doc3062', 'Doc3063', 'Doc3064', 'Doc3065', 'Doc3066', 'Doc3067', 'Doc3068', 'Doc3069', 'Doc3070', 'Doc3071', 'Doc3072', 'Doc3073', 'Doc3074', 'Doc3075', 'Doc3076', 'Doc3077', 'Doc3078', 'Doc3079', 'Doc3080', 'Doc3081', 'Doc3082', 'Doc3083', 'Doc3084', 'Doc3085', 'Doc3086', 'Doc3087', 'Doc3088', 'Doc3089', 'Doc3090', 'Doc3091', 'Doc3092', 'Doc3093', 'Doc3094', 'Doc3095', 'Doc3096', 'Doc3097', 'Doc3098', 'Doc3099', 'Doc3100', 'Doc3101', 'Doc3102', 'Doc3103', 'Doc3104', 'Doc3105', 'Doc3106', 'Doc3107', 'Doc3108', 'Doc3109', 'Doc3110', 'Doc3111', 'Doc3112', 'Doc3113', 'Doc3114', 'Doc3115', 'Doc3116', 'Doc3117', 'Doc3118', 'Doc3119', 'Doc3120', 'Doc3121', 'Doc3122', 'Doc3123', 'Doc3124', 'Doc3125', 'Doc3126', 'Doc3127', 'Doc3128', 'Doc3129', 'Doc3130', 'Doc3131', 'Doc3132', 'Doc3133', 'Doc3134', 'Doc3135', 'Doc3136', 'Doc3137', 'Doc3138', 'Doc3139', 'Doc3140', 'Doc3141', 'Doc3142', 'Doc3143', 'Doc3144', 'Doc3145', 'Doc3146', 'Doc3147', 'Doc3148', 'Doc3149', 'Doc3150', 'Doc3151', 'Doc3152', 'Doc3153', 'Doc3154', 'Doc3155', 'Doc3156', 'Doc3157', 'Doc3158', 'Doc3159', 'Doc3160', 'Doc3161', 'Doc3162', 'Doc3163', 'Doc3164', 'Doc3165', 'Doc3166', 'Doc3167', 'Doc3168', 'Doc3169', 'Doc3170', 'Doc3171', 'Doc3172', 'Doc3173', 'Doc3174', 'Doc3175', 'Doc3176', 'Doc3177', 'Doc3178', 'Doc3179', 'Doc3180', 'Doc3181', 'Doc3182', 'Doc3183', 'Doc3184', 'Doc3185', 'Doc3186', 'Doc3187', 'Doc3188', 'Doc3189', 'Doc3190', 'Doc3191', 'Doc3192', 'Doc3193', 'Doc3194', 'Doc3195', 'Doc3196', 'Doc3197', 'Doc3198', 'Doc3199', 'Doc3200', 'Doc3201', 'Doc3202', 'Doc3203', 'Doc3204', 'Doc3205', 'Doc3206', 'Doc3207', 'Doc3208', 'Doc3209', 'Doc3210', 'Doc3211', 'Doc3212', 'Doc3213', 'Doc3214', 'Doc3215', 'Doc3216', 'Doc3217', 'Doc3218', 'Doc3219', 'Doc3220', 'Doc3221', 'Doc3222', 'Doc3223', 'Doc3224', 'Doc3225', 'Doc3226', 'Doc3227', 'Doc3228', 'Doc3229', 'Doc3230', 'Doc3231', 'Doc3232', 'Doc3233', 'Doc3234', 'Doc3235', 'Doc3236', 'Doc3237', 'Doc3238', 'Doc3239', 'Doc3240', 'Doc3241', 'Doc3242', 'Doc3243', 'Doc3244', 'Doc3245', 'Doc3246', 'Doc3247', 'Doc3248', 'Doc3249', 'Doc3250', 'Doc3251', 'Doc3252', 'Doc3253', 'Doc3254', 'Doc3255', 'Doc3256', 'Doc3257', 'Doc3258', 'Doc3259', 'Doc3260', 'Doc3261', 'Doc3262', 'Doc3263', 'Doc3264', 'Doc3265', 'Doc3266', 'Doc3267', 'Doc3268', 'Doc3269', 'Doc3270', 'Doc3271', 'Doc3272', 'Doc3273', 'Doc3274', 'Doc3275', 'Doc3276', 'Doc3277', 'Doc3278', 'Doc3279', 'Doc3280', 'Doc3281', 'Doc3282', 'Doc3283', 'Doc3284', 'Doc3285', 'Doc3286', 'Doc3287', 'Doc3288', 'Doc3289', 'Doc3290', 'Doc3291', 'Doc3292', 'Doc3293', 'Doc3294', 'Doc3295', 'Doc3296', 'Doc3297', 'Doc3298', 'Doc3299', 'Doc3300', 'Doc3301', 'Doc3302', 'Doc3303', 'Doc3304', 'Doc3305', 'Doc3306', 'Doc3307', 'Doc3308', 'Doc3309', 'Doc3310', 'Doc3311', 'Doc3312', 'Doc3313', 'Doc3314', 'Doc3315', 'Doc3316', 'Doc3317', 'Doc3318', 'Doc3319', 'Doc3320', 'Doc3321', 'Doc3322', 'Doc3323', 'Doc3324', 'Doc3325', 'Doc3326', 'Doc3327', 'Doc3328', 'Doc3329', 'Doc3330', 'Doc3331', 'Doc3332', 'Doc3333', 'Doc3334', 'Doc3335', 'Doc3336', 'Doc3337', 'Doc3338', 'Doc3339', 'Doc3340', 'Doc3341', 'Doc3342', 'Doc3343', 'Doc3344', 'Doc3345', 'Doc3346', 'Doc3347', 'Doc3348', 'Doc3349', 'Doc3350', 'Doc3351', 'Doc3352', 'Doc3353', 'Doc3354', 'Doc3355', 'Doc3356', 'Doc3357', 'Doc3358', 'Doc3359', 'Doc3360', 'Doc3361', 'Doc3362', 'Doc3363', 'Doc3364', 'Doc3365', 'Doc3366', 'Doc3367', 'Doc3368', 'Doc3369', 'Doc3370', 'Doc3371', 'Doc3372', 'Doc3373', 'Doc3374', 'Doc3375', 'Doc3376', 'Doc3377', 'Doc3378', 'Doc3379', 'Doc3380', 'Doc3381', 'Doc3382', 'Doc3383', 'Doc3384', 'Doc3385', 'Doc3386', 'Doc3387', 'Doc3388', 'Doc3389', 'Doc3390', 'Doc3391', 'Doc3392', 'Doc3393', 'Doc3394', 'Doc3395', 'Doc3396', 'Doc3397', 'Doc3398', 'Doc3399', 'Doc3400', 'Doc3401', 'Doc3402', 'Doc3403', 'Doc3404', 'Doc3405', 'Doc3406', 'Doc3407', 'Doc3408', 'Doc3409', 'Doc3410', 'Doc3411', 'Doc3412', 'Doc3413', 'Doc3414', 'Doc3415', 'Doc3416', 'Doc3417', 'Doc3418', 'Doc3419', 'Doc3420', 'Doc3421', 'Doc3422', 'Doc3423', 'Doc3424', 'Doc3425', 'Doc3426', 'Doc3427', 'Doc3428', 'Doc3429', 'Doc3430', 'Doc3431', 'Doc3432', 'Doc3433', 'Doc3434', 'Doc3435', 'Doc3436', 'Doc3437', 'Doc3438', 'Doc3439', 'Doc3440', 'Doc3441', 'Doc3442', 'Doc3443', 'Doc3444', 'Doc3445', 'Doc3446', 'Doc3447', 'Doc3448', 'Doc3449', 'Doc3450', 'Doc3451', 'Doc3452', 'Doc3453', 'Doc3454', 'Doc3455', 'Doc3456', 'Doc3457', 'Doc3458', 'Doc3459', 'Doc3460', 'Doc3461', 'Doc3462', 'Doc3463', 'Doc3464', 'Doc3465', 'Doc3466', 'Doc3467', 'Doc3468', 'Doc3469', 'Doc3470', 'Doc3471', 'Doc3472', 'Doc3473', 'Doc3474', 'Doc3475', 'Doc3476', 'Doc3477', 'Doc3478', 'Doc3479', 'Doc3480', 'Doc3481', 'Doc3482', 'Doc3483', 'Doc3484', 'Doc3485', 'Doc3486', 'Doc3487', 'Doc3488', 'Doc3489', 'Doc3490', 'Doc3491', 'Doc3492', 'Doc3493', 'Doc3494', 'Doc3495', 'Doc3496', 'Doc3497', 'Doc3498', 'Doc3499', 'Doc3500', 'Doc3501', 'Doc3502', 'Doc3503', 'Doc3504', 'Doc3505', 'Doc3506', 'Doc3507', 'Doc3508', 'Doc3509', 'Doc3510', 'Doc3511', 'Doc3512', 'Doc3513', 'Doc3514', 'Doc3515', 'Doc3516', 'Doc3517', 'Doc3518', 'Doc3519', 'Doc3520', 'Doc3521', 'Doc3522', 'Doc3523', 'Doc3524', 'Doc3525', 'Doc3526', 'Doc3527', 'Doc3528', 'Doc3529', 'Doc3530', 'Doc3531', 'Doc3532', 'Doc3533', 'Doc3534', 'Doc3535', 'Doc3536', 'Doc3537', 'Doc3538', 'Doc3539', 'Doc3540', 'Doc3541', 'Doc3542', 'Doc3543', 'Doc3544', 'Doc3545', 'Doc3546', 'Doc3547', 'Doc3548', 'Doc3549', 'Doc3550', 'Doc3551', 'Doc3552', 'Doc3553', 'Doc3554', 'Doc3555', 'Doc3556', 'Doc3557', 'Doc3558', 'Doc3559', 'Doc3560', 'Doc3561', 'Doc3562', 'Doc3563', 'Doc3564', 'Doc3565', 'Doc3566', 'Doc3567', 'Doc3568', 'Doc3569', 'Doc3570', 'Doc3571', 'Doc3572', 'Doc3573', 'Doc3574', 'Doc3575', 'Doc3576', 'Doc3577', 'Doc3578', 'Doc3579', 'Doc3580', 'Doc3581', 'Doc3582', 'Doc3583', 'Doc3584', 'Doc3585', 'Doc3586', 'Doc3587', 'Doc3588', 'Doc3589', 'Doc3590', 'Doc3591', 'Doc3592', 'Doc3593', 'Doc3594', 'Doc3595', 'Doc3596', 'Doc3597', 'Doc3598', 'Doc3599', 'Doc3600', 'Doc3601', 'Doc3602', 'Doc3603', 'Doc3604', 'Doc3605', 'Doc3606', 'Doc3607', 'Doc3608', 'Doc3609', 'Doc3610', 'Doc3611', 'Doc3612', 'Doc3613', 'Doc3614', 'Doc3615', 'Doc3616', 'Doc3617', 'Doc3618', 'Doc3619', 'Doc3620', 'Doc3621', 'Doc3622', 'Doc3623', 'Doc3624', 'Doc3625', 'Doc3626', 'Doc3627', 'Doc3628', 'Doc3629', 'Doc3630', 'Doc3631', 'Doc3632', 'Doc3633', 'Doc3634', 'Doc3635', 'Doc3636', 'Doc3637', 'Doc3638', 'Doc3639', 'Doc3640', 'Doc3641', 'Doc3642', 'Doc3643', 'Doc3644', 'Doc3645', 'Doc3646', 'Doc3647', 'Doc3648', 'Doc3649', 'Doc3650', 'Doc3651', 'Doc3652', 'Doc3653', 'Doc3654', 'Doc3655', 'Doc3656', 'Doc3657', 'Doc3658', 'Doc3659', 'Doc3660', 'Doc3661', 'Doc3662', 'Doc3663', 'Doc3664', 'Doc3665', 'Doc3666', 'Doc3667', 'Doc3668', 'Doc3669', 'Doc3670', 'Doc3671', 'Doc3672', 'Doc3673', 'Doc3674', 'Doc3675', 'Doc3676', 'Doc3677', 'Doc3678', 'Doc3679', 'Doc3680', 'Doc3681', 'Doc3682', 'Doc3683', 'Doc3684', 'Doc3685', 'Doc3686', 'Doc3687', 'Doc3688', 'Doc3689', 'Doc3690', 'Doc3691', 'Doc3692', 'Doc3693', 'Doc3694', 'Doc3695', 'Doc3696', 'Doc3697', 'Doc3698', 'Doc3699', 'Doc3700', 'Doc3701', 'Doc3702', 'Doc3703', 'Doc3704', 'Doc3705', 'Doc3706', 'Doc3707', 'Doc3708', 'Doc3709', 'Doc3710', 'Doc3711', 'Doc3712', 'Doc3713', 'Doc3714', 'Doc3715', 'Doc3716', 'Doc3717', 'Doc3718', 'Doc3719', 'Doc3720', 'Doc3721', 'Doc3722', 'Doc3723', 'Doc3724', 'Doc3725', 'Doc3726', 'Doc3727', 'Doc3728', 'Doc3729', 'Doc3730', 'Doc3731', 'Doc3732', 'Doc3733', 'Doc3734', 'Doc3735', 'Doc3736', 'Doc3737', 'Doc3738', 'Doc3739', 'Doc3740', 'Doc3741', 'Doc3742', 'Doc3743', 'Doc3744', 'Doc3745', 'Doc3746', 'Doc3747', 'Doc3748', 'Doc3749', 'Doc3750', 'Doc3751', 'Doc3752', 'Doc3753', 'Doc3754', 'Doc3755', 'Doc3756', 'Doc3757', 'Doc3758', 'Doc3759', 'Doc3760', 'Doc3761', 'Doc3762', 'Doc3763', 'Doc3764', 'Doc3765', 'Doc3766', 'Doc3767', 'Doc3768', 'Doc3769', 'Doc3770', 'Doc3771', 'Doc3772', 'Doc3773', 'Doc3774', 'Doc3775', 'Doc3776', 'Doc3777', 'Doc3778', 'Doc3779', 'Doc3780', 'Doc3781', 'Doc3782', 'Doc3783', 'Doc3784', 'Doc3785', 'Doc3786', 'Doc3787', 'Doc3788', 'Doc3789', 'Doc3790', 'Doc3791', 'Doc3792', 'Doc3793', 'Doc3794', 'Doc3795', 'Doc3796', 'Doc3797', 'Doc3798', 'Doc3799', 'Doc3800', 'Doc3801', 'Doc3802', 'Doc3803', 'Doc3804', 'Doc3805', 'Doc3806', 'Doc3807', 'Doc3808', 'Doc3809', 'Doc3810', 'Doc3811', 'Doc3812', 'Doc3813', 'Doc3814', 'Doc3815', 'Doc3816', 'Doc3817', 'Doc3818', 'Doc3819', 'Doc3820', 'Doc3821', 'Doc3822', 'Doc3823', 'Doc3824', 'Doc3825', 'Doc3826', 'Doc3827', 'Doc3828', 'Doc3829', 'Doc3830', 'Doc3831', 'Doc3832', 'Doc3833', 'Doc3834', 'Doc3835', 'Doc3836', 'Doc3837', 'Doc3838', 'Doc3839', 'Doc3840', 'Doc3841', 'Doc3842', 'Doc3843', 'Doc3844', 'Doc3845', 'Doc3846', 'Doc3847', 'Doc3848', 'Doc3849', 'Doc3850', 'Doc3851', 'Doc3852', 'Doc3853', 'Doc3854', 'Doc3855', 'Doc3856', 'Doc3857', 'Doc3858', 'Doc3859', 'Doc3860', 'Doc3861', 'Doc3862', 'Doc3863', 'Doc3864', 'Doc3865', 'Doc3866', 'Doc3867', 'Doc3868', 'Doc3869', 'Doc3870', 'Doc3871', 'Doc3872', 'Doc3873', 'Doc3874', 'Doc3875', 'Doc3876', 'Doc3877', 'Doc3878', 'Doc3879', 'Doc3880', 'Doc3881', 'Doc3882', 'Doc3883', 'Doc3884', 'Doc3885', 'Doc3886', 'Doc3887', 'Doc3888', 'Doc3889', 'Doc3890', 'Doc3891', 'Doc3892', 'Doc3893', 'Doc3894', 'Doc3895', 'Doc3896', 'Doc3897', 'Doc3898', 'Doc3899', 'Doc3900', 'Doc3901', 'Doc3902', 'Doc3903', 'Doc3904', 'Doc3905', 'Doc3906', 'Doc3907', 'Doc3908', 'Doc3909', 'Doc3910', 'Doc3911', 'Doc3912', 'Doc3913', 'Doc3914', 'Doc3915', 'Doc3916', 'Doc3917', 'Doc3918', 'Doc3919', 'Doc3920', 'Doc3921', 'Doc3922', 'Doc3923', 'Doc3924', 'Doc3925', 'Doc3926', 'Doc3927', 'Doc3928', 'Doc3929', 'Doc3930', 'Doc3931', 'Doc3932', 'Doc3933', 'Doc3934', 'Doc3935', 'Doc3936', 'Doc3937', 'Doc3938', 'Doc3939', 'Doc3940', 'Doc3941', 'Doc3942', 'Doc3943', 'Doc3944', 'Doc3945', 'Doc3946', 'Doc3947', 'Doc3948', 'Doc3949', 'Doc3950', 'Doc3951', 'Doc3952', 'Doc3953', 'Doc3954', 'Doc3955', 'Doc3956', 'Doc3957', 'Doc3958', 'Doc3959', 'Doc3960', 'Doc3961', 'Doc3962', 'Doc3963', 'Doc3964', 'Doc3965', 'Doc3966', 'Doc3967', 'Doc3968', 'Doc3969', 'Doc3970', 'Doc3971', 'Doc3972', 'Doc3973', 'Doc3974', 'Doc3975', 'Doc3976', 'Doc3977', 'Doc3978', 'Doc3979', 'Doc3980', 'Doc3981', 'Doc3982', 'Doc3983', 'Doc3984', 'Doc3985', 'Doc3986', 'Doc3987', 'Doc3988', 'Doc3989', 'Doc3990', 'Doc3991', 'Doc3992', 'Doc3993', 'Doc3994', 'Doc3995', 'Doc3996', 'Doc3997', 'Doc3998', 'Doc3999', 'Doc4000', 'Doc4001', 'Doc4002', 'Doc4003', 'Doc4004', 'Doc4005', 'Doc4006', 'Doc4007', 'Doc4008', 'Doc4009', 'Doc4010', 'Doc4011', 'Doc4012', 'Doc4013', 'Doc4014', 'Doc4015', 'Doc4016', 'Doc4017', 'Doc4018', 'Doc4019', 'Doc4020', 'Doc4021', 'Doc4022', 'Doc4023', 'Doc4024', 'Doc4025', 'Doc4026', 'Doc4027', 'Doc4028', 'Doc4029', 'Doc4030', 'Doc4031', 'Doc4032', 'Doc4033', 'Doc4034', 'Doc4035', 'Doc4036', 'Doc4037', 'Doc4038', 'Doc4039', 'Doc4040', 'Doc4041', 'Doc4042', 'Doc4043', 'Doc4044', 'Doc4045', 'Doc4046', 'Doc4047', 'Doc4048', 'Doc4049', 'Doc4050', 'Doc4051', 'Doc4052', 'Doc4053', 'Doc4054', 'Doc4055', 'Doc4056', 'Doc4057', 'Doc4058', 'Doc4059', 'Doc4060', 'Doc4061', 'Doc4062', 'Doc4063', 'Doc4064', 'Doc4065', 'Doc4066', 'Doc4067', 'Doc4068', 'Doc4069', 'Doc4070', 'Doc4071', 'Doc4072', 'Doc4073', 'Doc4074', 'Doc4075', 'Doc4076', 'Doc4077', 'Doc4078', 'Doc4079', 'Doc4080', 'Doc4081', 'Doc4082', 'Doc4083', 'Doc4084', 'Doc4085', 'Doc4086', 'Doc4087', 'Doc4088', 'Doc4089', 'Doc4090', 'Doc4091', 'Doc4092', 'Doc4093', 'Doc4094', 'Doc4095', 'Doc4096', 'Doc4097', 'Doc4098', 'Doc4099', 'Doc4100', 'Doc4101', 'Doc4102', 'Doc4103', 'Doc4104', 'Doc4105', 'Doc4106', 'Doc4107', 'Doc4108', 'Doc4109', 'Doc4110', 'Doc4111', 'Doc4112', 'Doc4113', 'Doc4114', 'Doc4115', 'Doc4116', 'Doc4117', 'Doc4118', 'Doc4119', 'Doc4120', 'Doc4121', 'Doc4122', 'Doc4123', 'Doc4124', 'Doc4125', 'Doc4126', 'Doc4127', 'Doc4128', 'Doc4129', 'Doc4130', 'Doc4131', 'Doc4132', 'Doc4133', 'Doc4134', 'Doc4135', 'Doc4136', 'Doc4137', 'Doc4138', 'Doc4139', 'Doc4140', 'Doc4141', 'Doc4142', 'Doc4143', 'Doc4144', 'Doc4145', 'Doc4146', 'Doc4147', 'Doc4148', 'Doc4149', 'Doc4150', 'Doc4151', 'Doc4152', 'Doc4153', 'Doc4154', 'Doc4155', 'Doc4156', 'Doc4157', 'Doc4158', 'Doc4159', 'Doc4160', 'Doc4161', 'Doc4162', 'Doc4163', 'Doc4164', 'Doc4165', 'Doc4166', 'Doc4167', 'Doc4168', 'Doc4169', 'Doc4170', 'Doc4171', 'Doc4172', 'Doc4173', 'Doc4174', 'Doc4175', 'Doc4176', 'Doc4177', 'Doc4178', 'Doc4179', 'Doc4180', 'Doc4181', 'Doc4182', 'Doc4183', 'Doc4184', 'Doc4185', 'Doc4186', 'Doc4187', 'Doc4188', 'Doc4189', 'Doc4190', 'Doc4191', 'Doc4192', 'Doc4193', 'Doc4194', 'Doc4195', 'Doc4196', 'Doc4197', 'Doc4198', 'Doc4199', 'Doc4200', 'Doc4201', 'Doc4202', 'Doc4203', 'Doc4204', 'Doc4205', 'Doc4206', 'Doc4207', 'Doc4208', 'Doc4209', 'Doc4210', 'Doc4211', 'Doc4212', 'Doc4213', 'Doc4214', 'Doc4215', 'Doc4216', 'Doc4217', 'Doc4218', 'Doc4219', 'Doc4220', 'Doc4221', 'Doc4222', 'Doc4223', 'Doc4224', 'Doc4225', 'Doc4226', 'Doc4227', 'Doc4228', 'Doc4229', 'Doc4230', 'Doc4231', 'Doc4232', 'Doc4233', 'Doc4234', 'Doc4235', 'Doc4236', 'Doc4237', 'Doc4238', 'Doc4239', 'Doc4240', 'Doc4241', 'Doc4242', 'Doc4243', 'Doc4244', 'Doc4245', 'Doc4246', 'Doc4247', 'Doc4248', 'Doc4249', 'Doc4250', 'Doc4251', 'Doc4252', 'Doc4253', 'Doc4254', 'Doc4255', 'Doc4256', 'Doc4257', 'Doc4258', 'Doc4259', 'Doc4260', 'Doc4261', 'Doc4262', 'Doc4263', 'Doc4264', 'Doc4265', 'Doc4266', 'Doc4267', 'Doc4268', 'Doc4269', 'Doc4270', 'Doc4271', 'Doc4272', 'Doc4273', 'Doc4274', 'Doc4275', 'Doc4276', 'Doc4277', 'Doc4278', 'Doc4279', 'Doc4280', 'Doc4281', 'Doc4282', 'Doc4283', 'Doc4284', 'Doc4285', 'Doc4286', 'Doc4287', 'Doc4288', 'Doc4289', 'Doc4290', 'Doc4291', 'Doc4292', 'Doc4293', 'Doc4294', 'Doc4295', 'Doc4296', 'Doc4297', 'Doc4298', 'Doc4299', 'Doc4300', 'Doc4301', 'Doc4302', 'Doc4303', 'Doc4304', 'Doc4305', 'Doc4306', 'Doc4307', 'Doc4308', 'Doc4309', 'Doc4310', 'Doc4311', 'Doc4312', 'Doc4313', 'Doc4314', 'Doc4315', 'Doc4316', 'Doc4317', 'Doc4318', 'Doc4319', 'Doc4320', 'Doc4321', 'Doc4322', 'Doc4323', 'Doc4324', 'Doc4325', 'Doc4326', 'Doc4327', 'Doc4328', 'Doc4329', 'Doc4330', 'Doc4331', 'Doc4332', 'Doc4333', 'Doc4334', 'Doc4335', 'Doc4336', 'Doc4337', 'Doc4338', 'Doc4339', 'Doc4340', 'Doc4341', 'Doc4342', 'Doc4343', 'Doc4344', 'Doc4345', 'Doc4346', 'Doc4347', 'Doc4348', 'Doc4349', 'Doc4350', 'Doc4351', 'Doc4352', 'Doc4353', 'Doc4354', 'Doc4355', 'Doc4356', 'Doc4357', 'Doc4358', 'Doc4359', 'Doc4360', 'Doc4361', 'Doc4362', 'Doc4363', 'Doc4364', 'Doc4365', 'Doc4366', 'Doc4367', 'Doc4368', 'Doc4369', 'Doc4370', 'Doc4371', 'Doc4372', 'Doc4373', 'Doc4374', 'Doc4375', 'Doc4376', 'Doc4377', 'Doc4378', 'Doc4379', 'Doc4380', 'Doc4381', 'Doc4382', 'Doc4383', 'Doc4384', 'Doc4385', 'Doc4386', 'Doc4387', 'Doc4388', 'Doc4389', 'Doc4390', 'Doc4391', 'Doc4392', 'Doc4393', 'Doc4394', 'Doc4395', 'Doc4396', 'Doc4397', 'Doc4398', 'Doc4399', 'Doc4400', 'Doc4401', 'Doc4402', 'Doc4403', 'Doc4404', 'Doc4405', 'Doc4406', 'Doc4407', 'Doc4408', 'Doc4409', 'Doc4410', 'Doc4411', 'Doc4412', 'Doc4413', 'Doc4414', 'Doc4415', 'Doc4416', 'Doc4417', 'Doc4418', 'Doc4419', 'Doc4420', 'Doc4421', 'Doc4422', 'Doc4423', 'Doc4424', 'Doc4425', 'Doc4426', 'Doc4427', 'Doc4428', 'Doc4429', 'Doc4430', 'Doc4431', 'Doc4432', 'Doc4433', 'Doc4434', 'Doc4435', 'Doc4436', 'Doc4437', 'Doc4438', 'Doc4439', 'Doc4440', 'Doc4441', 'Doc4442', 'Doc4443', 'Doc4444', 'Doc4445', 'Doc4446', 'Doc4447', 'Doc4448', 'Doc4449', 'Doc4450', 'Doc4451', 'Doc4452', 'Doc4453', 'Doc4454', 'Doc4455', 'Doc4456', 'Doc4457', 'Doc4458', 'Doc4459', 'Doc4460', 'Doc4461', 'Doc4462', 'Doc4463', 'Doc4464', 'Doc4465', 'Doc4466', 'Doc4467', 'Doc4468', 'Doc4469', 'Doc4470', 'Doc4471', 'Doc4472', 'Doc4473', 'Doc4474', 'Doc4475', 'Doc4476', 'Doc4477', 'Doc4478', 'Doc4479', 'Doc4480', 'Doc4481', 'Doc4482', 'Doc4483', 'Doc4484', 'Doc4485', 'Doc4486', 'Doc4487', 'Doc4488', 'Doc4489', 'Doc4490', 'Doc4491', 'Doc4492', 'Doc4493', 'Doc4494', 'Doc4495', 'Doc4496', 'Doc4497', 'Doc4498', 'Doc4499', 'Doc4500', 'Doc4501', 'Doc4502', 'Doc4503', 'Doc4504', 'Doc4505', 'Doc4506', 'Doc4507', 'Doc4508', 'Doc4509', 'Doc4510', 'Doc4511', 'Doc4512', 'Doc4513', 'Doc4514', 'Doc4515', 'Doc4516', 'Doc4517', 'Doc4518', 'Doc4519', 'Doc4520', 'Doc4521', 'Doc4522', 'Doc4523', 'Doc4524', 'Doc4525', 'Doc4526', 'Doc4527', 'Doc4528', 'Doc4529', 'Doc4530', 'Doc4531', 'Doc4532', 'Doc4533', 'Doc4534', 'Doc4535', 'Doc4536', 'Doc4537', 'Doc4538', 'Doc4539', 'Doc4540', 'Doc4541', 'Doc4542', 'Doc4543', 'Doc4544', 'Doc4545', 'Doc4546', 'Doc4547', 'Doc4548', 'Doc4549', 'Doc4550', 'Doc4551', 'Doc4552', 'Doc4553', 'Doc4554', 'Doc4555', 'Doc4556', 'Doc4557', 'Doc4558', 'Doc4559', 'Doc4560', 'Doc4561', 'Doc4562', 'Doc4563', 'Doc4564', 'Doc4565', 'Doc4566', 'Doc4567', 'Doc4568', 'Doc4569', 'Doc4570', 'Doc4571', 'Doc4572', 'Doc4573', 'Doc4574', 'Doc4575', 'Doc4576', 'Doc4577', 'Doc4578', 'Doc4579', 'Doc4580', 'Doc4581', 'Doc4582', 'Doc4583', 'Doc4584', 'Doc4585', 'Doc4586', 'Doc4587', 'Doc4588', 'Doc4589', 'Doc4590', 'Doc4591', 'Doc4592', 'Doc4593', 'Doc4594', 'Doc4595', 'Doc4596', 'Doc4597', 'Doc4598', 'Doc4599', 'Doc4600', 'Doc4601', 'Doc4602', 'Doc4603', 'Doc4604', 'Doc4605', 'Doc4606', 'Doc4607', 'Doc4608', 'Doc4609', 'Doc4610', 'Doc4611', 'Doc4612', 'Doc4613', 'Doc4614', 'Doc4615', 'Doc4616', 'Doc4617', 'Doc4618', 'Doc4619', 'Doc4620', 'Doc4621', 'Doc4622', 'Doc4623', 'Doc4624', 'Doc4625', 'Doc4626', 'Doc4627', 'Doc4628', 'Doc4629', 'Doc4630', 'Doc4631', 'Doc4632', 'Doc4633', 'Doc4634', 'Doc4635', 'Doc4636', 'Doc4637', 'Doc4638', 'Doc4639', 'Doc4640', 'Doc4641', 'Doc4642', 'Doc4643', 'Doc4644', 'Doc4645', 'Doc4646', 'Doc4647', 'Doc4648', 'Doc4649', 'Doc4650', 'Doc4651', 'Doc4652', 'Doc4653', 'Doc4654', 'Doc4655', 'Doc4656', 'Doc4657', 'Doc4658', 'Doc4659', 'Doc4660', 'Doc4661', 'Doc4662', 'Doc4663', 'Doc4664', 'Doc4665', 'Doc4666', 'Doc4667', 'Doc4668', 'Doc4669', 'Doc4670', 'Doc4671', 'Doc4672', 'Doc4673', 'Doc4674', 'Doc4675', 'Doc4676', 'Doc4677', 'Doc4678', 'Doc4679', 'Doc4680', 'Doc4681', 'Doc4682', 'Doc4683', 'Doc4684', 'Doc4685', 'Doc4686', 'Doc4687', 'Doc4688', 'Doc4689', 'Doc4690', 'Doc4691', 'Doc4692', 'Doc4693', 'Doc4694', 'Doc4695', 'Doc4696', 'Doc4697', 'Doc4698', 'Doc4699', 'Doc4700', 'Doc4701', 'Doc4702', 'Doc4703', 'Doc4704', 'Doc4705', 'Doc4706', 'Doc4707', 'Doc4708', 'Doc4709', 'Doc4710', 'Doc4711', 'Doc4712', 'Doc4713', 'Doc4714', 'Doc4715', 'Doc4716', 'Doc4717', 'Doc4718', 'Doc4719', 'Doc4720', 'Doc4721', 'Doc4722', 'Doc4723', 'Doc4724', 'Doc4725', 'Doc4726', 'Doc4727', 'Doc4728', 'Doc4729', 'Doc4730', 'Doc4731', 'Doc4732', 'Doc4733', 'Doc4734', 'Doc4735', 'Doc4736', 'Doc4737', 'Doc4738', 'Doc4739', 'Doc4740', 'Doc4741', 'Doc4742', 'Doc4743', 'Doc4744', 'Doc4745', 'Doc4746', 'Doc4747', 'Doc4748', 'Doc4749', 'Doc4750', 'Doc4751', 'Doc4752', 'Doc4753', 'Doc4754', 'Doc4755', 'Doc4756', 'Doc4757', 'Doc4758', 'Doc4759', 'Doc4760', 'Doc4761', 'Doc4762', 'Doc4763', 'Doc4764', 'Doc4765', 'Doc4766', 'Doc4767', 'Doc4768', 'Doc4769', 'Doc4770', 'Doc4771', 'Doc4772', 'Doc4773', 'Doc4774', 'Doc4775', 'Doc4776', 'Doc4777', 'Doc4778', 'Doc4779', 'Doc4780', 'Doc4781', 'Doc4782', 'Doc4783', 'Doc4784', 'Doc4785', 'Doc4786', 'Doc4787', 'Doc4788', 'Doc4789', 'Doc4790', 'Doc4791', 'Doc4792', 'Doc4793', 'Doc4794', 'Doc4795', 'Doc4796', 'Doc4797', 'Doc4798', 'Doc4799', 'Doc4800', 'Doc4801', 'Doc4802', 'Doc4803', 'Doc4804', 'Doc4805', 'Doc4806', 'Doc4807', 'Doc4808', 'Doc4809', 'Doc4810', 'Doc4811', 'Doc4812', 'Doc4813', 'Doc4814', 'Doc4815', 'Doc4816', 'Doc4817', 'Doc4818', 'Doc4819', 'Doc4820', 'Doc4821', 'Doc4822', 'Doc4823', 'Doc4824', 'Doc4825', 'Doc4826', 'Doc4827', 'Doc4828', 'Doc4829', 'Doc4830', 'Doc4831', 'Doc4832', 'Doc4833', 'Doc4834', 'Doc4835', 'Doc4836', 'Doc4837', 'Doc4838', 'Doc4839', 'Doc4840', 'Doc4841', 'Doc4842', 'Doc4843', 'Doc4844', 'Doc4845', 'Doc4846', 'Doc4847', 'Doc4848', 'Doc4849', 'Doc4850', 'Doc4851', 'Doc4852', 'Doc4853', 'Doc4854', 'Doc4855', 'Doc4856', 'Doc4857', 'Doc4858', 'Doc4859', 'Doc4860', 'Doc4861', 'Doc4862', 'Doc4863', 'Doc4864', 'Doc4865', 'Doc4866', 'Doc4867', 'Doc4868', 'Doc4869', 'Doc4870', 'Doc4871', 'Doc4872', 'Doc4873', 'Doc4874', 'Doc4875', 'Doc4876', 'Doc4877', 'Doc4878', 'Doc4879', 'Doc4880', 'Doc4881', 'Doc4882', 'Doc4883', 'Doc4884', 'Doc4885', 'Doc4886', 'Doc4887', 'Doc4888', 'Doc4889', 'Doc4890', 'Doc4891', 'Doc4892', 'Doc4893', 'Doc4894', 'Doc4895', 'Doc4896', 'Doc4897', 'Doc4898', 'Doc4899', 'Doc4900', 'Doc4901', 'Doc4902', 'Doc4903', 'Doc4904', 'Doc4905', 'Doc4906', 'Doc4907', 'Doc4908', 'Doc4909', 'Doc4910', 'Doc4911', 'Doc4912', 'Doc4913', 'Doc4914', 'Doc4915', 'Doc4916', 'Doc4917', 'Doc4918', 'Doc4919', 'Doc4920', 'Doc4921', 'Doc4922', 'Doc4923', 'Doc4924', 'Doc4925', 'Doc4926', 'Doc4927', 'Doc4928', 'Doc4929', 'Doc4930', 'Doc4931', 'Doc4932', 'Doc4933', 'Doc4934', 'Doc4935', 'Doc4936', 'Doc4937', 'Doc4938', 'Doc4939', 'Doc4940', 'Doc4941', 'Doc4942', 'Doc4943', 'Doc4944', 'Doc4945', 'Doc4946', 'Doc4947', 'Doc4948', 'Doc4949', 'Doc4950', 'Doc4951', 'Doc4952', 'Doc4953', 'Doc4954', 'Doc4955', 'Doc4956', 'Doc4957', 'Doc4958', 'Doc4959', 'Doc4960', 'Doc4961', 'Doc4962', 'Doc4963', 'Doc4964', 'Doc4965', 'Doc4966', 'Doc4967', 'Doc4968', 'Doc4969', 'Doc4970', 'Doc4971', 'Doc4972', 'Doc4973', 'Doc4974', 'Doc4975', 'Doc4976', 'Doc4977', 'Doc4978', 'Doc4979', 'Doc4980', 'Doc4981', 'Doc4982', 'Doc4983', 'Doc4984', 'Doc4985', 'Doc4986', 'Doc4987', 'Doc4988', 'Doc4989', 'Doc4990', 'Doc4991', 'Doc4992', 'Doc4993', 'Doc4994', 'Doc4995', 'Doc4996', 'Doc4997', 'Doc4998', 'Doc4999', 'Doc5000', 'Doc5001', 'Doc5002', 'Doc5003', 'Doc5004', 'Doc5005', 'Doc5006', 'Doc5007', 'Doc5008', 'Doc5009', 'Doc5010', 'Doc5011', 'Doc5012', 'Doc5013', 'Doc5014', 'Doc5015', 'Doc5016', 'Doc5017', 'Doc5018', 'Doc5019', 'Doc5020', 'Doc5021', 'Doc5022', 'Doc5023', 'Doc5024', 'Doc5025', 'Doc5026', 'Doc5027', 'Doc5028', 'Doc5029', 'Doc5030', 'Doc5031', 'Doc5032', 'Doc5033', 'Doc5034', 'Doc5035', 'Doc5036', 'Doc5037', 'Doc5038', 'Doc5039', 'Doc5040', 'Doc5041', 'Doc5042', 'Doc5043', 'Doc5044', 'Doc5045', 'Doc5046', 'Doc5047', 'Doc5048', 'Doc5049', 'Doc5050', 'Doc5051', 'Doc5052', 'Doc5053', 'Doc5054', 'Doc5055', 'Doc5056', 'Doc5057', 'Doc5058', 'Doc5059', 'Doc5060', 'Doc5061', 'Doc5062', 'Doc5063', 'Doc5064', 'Doc5065', 'Doc5066', 'Doc5067', 'Doc5068', 'Doc5069', 'Doc5070', 'Doc5071', 'Doc5072', 'Doc5073', 'Doc5074', 'Doc5075', 'Doc5076', 'Doc5077', 'Doc5078', 'Doc5079', 'Doc5080', 'Doc5081', 'Doc5082', 'Doc5083', 'Doc5084', 'Doc5085', 'Doc5086', 'Doc5087', 'Doc5088', 'Doc5089', 'Doc5090', 'Doc5091', 'Doc5092', 'Doc5093', 'Doc5094', 'Doc5095', 'Doc5096', 'Doc5097', 'Doc5098', 'Doc5099', 'Doc5100', 'Doc5101', 'Doc5102', 'Doc5103', 'Doc5104', 'Doc5105', 'Doc5106', 'Doc5107', 'Doc5108', 'Doc5109', 'Doc5110', 'Doc5111', 'Doc5112', 'Doc5113', 'Doc5114', 'Doc5115', 'Doc5116', 'Doc5117', 'Doc5118', 'Doc5119', 'Doc5120', 'Doc5121', 'Doc5122', 'Doc5123', 'Doc5124', 'Doc5125', 'Doc5126', 'Doc5127', 'Doc5128', 'Doc5129', 'Doc5130', 'Doc5131', 'Doc5132', 'Doc5133', 'Doc5134', 'Doc5135', 'Doc5136', 'Doc5137', 'Doc5138', 'Doc5139', 'Doc5140', 'Doc5141', 'Doc5142', 'Doc5143', 'Doc5144', 'Doc5145', 'Doc5146', 'Doc5147', 'Doc5148', 'Doc5149', 'Doc5150', 'Doc5151', 'Doc5152', 'Doc5153', 'Doc5154', 'Doc5155', 'Doc5156', 'Doc5157', 'Doc5158', 'Doc5159', 'Doc5160', 'Doc5161', 'Doc5162', 'Doc5163', 'Doc5164', 'Doc5165', 'Doc5166', 'Doc5167', 'Doc5168', 'Doc5169', 'Doc5170', 'Doc5171', 'Doc5172', 'Doc5173', 'Doc5174', 'Doc5175', 'Doc5176', 'Doc5177', 'Doc5178', 'Doc5179', 'Doc5180', 'Doc5181', 'Doc5182', 'Doc5183', 'Doc5184', 'Doc5185', 'Doc5186', 'Doc5187', 'Doc5188', 'Doc5189', 'Doc5190', 'Doc5191', 'Doc5192', 'Doc5193', 'Doc5194', 'Doc5195', 'Doc5196', 'Doc5197', 'Doc5198', 'Doc5199', 'Doc5200', 'Doc5201', 'Doc5202', 'Doc5203', 'Doc5204', 'Doc5205', 'Doc5206', 'Doc5207', 'Doc5208', 'Doc5209', 'Doc5210', 'Doc5211', 'Doc5212', 'Doc5213', 'Doc5214', 'Doc5215', 'Doc5216', 'Doc5217', 'Doc5218', 'Doc5219', 'Doc5220', 'Doc5221', 'Doc5222', 'Doc5223', 'Doc5224', 'Doc5225', 'Doc5226', 'Doc5227', 'Doc5228', 'Doc5229', 'Doc5230', 'Doc5231', 'Doc5232', 'Doc5233', 'Doc5234', 'Doc5235', 'Doc5236', 'Doc5237', 'Doc5238', 'Doc5239', 'Doc5240', 'Doc5241', 'Doc5242', 'Doc5243', 'Doc5244', 'Doc5245', 'Doc5246', 'Doc5247', 'Doc5248', 'Doc5249', 'Doc5250', 'Doc5251', 'Doc5252', 'Doc5253', 'Doc5254', 'Doc5255', 'Doc5256', 'Doc5257', 'Doc5258', 'Doc5259', 'Doc5260', 'Doc5261', 'Doc5262', 'Doc5263', 'Doc5264', 'Doc5265', 'Doc5266', 'Doc5267', 'Doc5268', 'Doc5269', 'Doc5270', 'Doc5271', 'Doc5272', 'Doc5273', 'Doc5274', 'Doc5275', 'Doc5276', 'Doc5277', 'Doc5278', 'Doc5279', 'Doc5280', 'Doc5281', 'Doc5282', 'Doc5283', 'Doc5284', 'Doc5285', 'Doc5286', 'Doc5287', 'Doc5288', 'Doc5289', 'Doc5290', 'Doc5291', 'Doc5292', 'Doc5293', 'Doc5294', 'Doc5295', 'Doc5296', 'Doc5297', 'Doc5298', 'Doc5299', 'Doc5300', 'Doc5301', 'Doc5302', 'Doc5303', 'Doc5304', 'Doc5305', 'Doc5306', 'Doc5307', 'Doc5308', 'Doc5309', 'Doc5310', 'Doc5311', 'Doc5312', 'Doc5313', 'Doc5314', 'Doc5315', 'Doc5316', 'Doc5317', 'Doc5318', 'Doc5319', 'Doc5320', 'Doc5321', 'Doc5322', 'Doc5323', 'Doc5324', 'Doc5325', 'Doc5326', 'Doc5327', 'Doc5328', 'Doc5329', 'Doc5330', 'Doc5331', 'Doc5332', 'Doc5333', 'Doc5334', 'Doc5335', 'Doc5336', 'Doc5337', 'Doc5338', 'Doc5339', 'Doc5340', 'Doc5341', 'Doc5342', 'Doc5343', 'Doc5344', 'Doc5345', 'Doc5346', 'Doc5347', 'Doc5348', 'Doc5349', 'Doc5350', 'Doc5351', 'Doc5352', 'Doc5353', 'Doc5354', 'Doc5355', 'Doc5356', 'Doc5357', 'Doc5358', 'Doc5359', 'Doc5360', 'Doc5361', 'Doc5362', 'Doc5363', 'Doc5364', 'Doc5365', 'Doc5366', 'Doc5367', 'Doc5368', 'Doc5369', 'Doc5370', 'Doc5371', 'Doc5372', 'Doc5373', 'Doc5374', 'Doc5375', 'Doc5376', 'Doc5377', 'Doc5378', 'Doc5379', 'Doc5380', 'Doc5381', 'Doc5382', 'Doc5383', 'Doc5384', 'Doc5385', 'Doc5386', 'Doc5387', 'Doc5388', 'Doc5389', 'Doc5390', 'Doc5391', 'Doc5392', 'Doc5393', 'Doc5394', 'Doc5395', 'Doc5396', 'Doc5397', 'Doc5398', 'Doc5399', 'Doc5400', 'Doc5401', 'Doc5402', 'Doc5403', 'Doc5404', 'Doc5405', 'Doc5406', 'Doc5407', 'Doc5408', 'Doc5409', 'Doc5410', 'Doc5411', 'Doc5412', 'Doc5413', 'Doc5414', 'Doc5415', 'Doc5416', 'Doc5417', 'Doc5418', 'Doc5419', 'Doc5420', 'Doc5421', 'Doc5422', 'Doc5423', 'Doc5424', 'Doc5425', 'Doc5426', 'Doc5427', 'Doc5428', 'Doc5429', 'Doc5430', 'Doc5431', 'Doc5432', 'Doc5433', 'Doc5434', 'Doc5435', 'Doc5436', 'Doc5437', 'Doc5438', 'Doc5439', 'Doc5440', 'Doc5441', 'Doc5442', 'Doc5443', 'Doc5444', 'Doc5445', 'Doc5446', 'Doc5447', 'Doc5448', 'Doc5449', 'Doc5450', 'Doc5451', 'Doc5452', 'Doc5453', 'Doc5454', 'Doc5455', 'Doc5456', 'Doc5457', 'Doc5458', 'Doc5459', 'Doc5460', 'Doc5461', 'Doc5462', 'Doc5463', 'Doc5464', 'Doc5465', 'Doc5466', 'Doc5467', 'Doc5468', 'Doc5469', 'Doc5470', 'Doc5471', 'Doc5472', 'Doc5473', 'Doc5474', 'Doc5475', 'Doc5476', 'Doc5477', 'Doc5478', 'Doc5479', 'Doc5480', 'Doc5481', 'Doc5482', 'Doc5483', 'Doc5484', 'Doc5485', 'Doc5486', 'Doc5487', 'Doc5488', 'Doc5489', 'Doc5490', 'Doc5491', 'Doc5492', 'Doc5493', 'Doc5494', 'Doc5495', 'Doc5496', 'Doc5497', 'Doc5498', 'Doc5499', 'Doc5500', 'Doc5501', 'Doc5502', 'Doc5503', 'Doc5504', 'Doc5505', 'Doc5506', 'Doc5507', 'Doc5508', 'Doc5509', 'Doc5510', 'Doc5511', 'Doc5512', 'Doc5513', 'Doc5514', 'Doc5515', 'Doc5516', 'Doc5517', 'Doc5518', 'Doc5519', 'Doc5520', 'Doc5521', 'Doc5522', 'Doc5523', 'Doc5524', 'Doc5525', 'Doc5526', 'Doc5527', 'Doc5528', 'Doc5529', 'Doc5530', 'Doc5531', 'Doc5532', 'Doc5533', 'Doc5534', 'Doc5535', 'Doc5536', 'Doc5537', 'Doc5538', 'Doc5539', 'Doc5540', 'Doc5541', 'Doc5542', 'Doc5543', 'Doc5544', 'Doc5545', 'Doc5546', 'Doc5547', 'Doc5548', 'Doc5549', 'Doc5550', 'Doc5551', 'Doc5552', 'Doc5553', 'Doc5554', 'Doc5555', 'Doc5556', 'Doc5557', 'Doc5558', 'Doc5559', 'Doc5560', 'Doc5561', 'Doc5562', 'Doc5563', 'Doc5564', 'Doc5565', 'Doc5566', 'Doc5567', 'Doc5568', 'Doc5569', 'Doc5570', 'Doc5571', 'Doc5572', 'Doc5573', 'Doc5574', 'Doc5575', 'Doc5576', 'Doc5577', 'Doc5578', 'Doc5579', 'Doc5580', 'Doc5581', 'Doc5582', 'Doc5583', 'Doc5584', 'Doc5585', 'Doc5586', 'Doc5587', 'Doc5588', 'Doc5589', 'Doc5590', 'Doc5591', 'Doc5592', 'Doc5593', 'Doc5594', 'Doc5595', 'Doc5596', 'Doc5597', 'Doc5598', 'Doc5599', 'Doc5600', 'Doc5601', 'Doc5602', 'Doc5603', 'Doc5604', 'Doc5605', 'Doc5606', 'Doc5607', 'Doc5608', 'Doc5609', 'Doc5610', 'Doc5611', 'Doc5612', 'Doc5613', 'Doc5614', 'Doc5615', 'Doc5616', 'Doc5617', 'Doc5618', 'Doc5619', 'Doc5620', 'Doc5621', 'Doc5622', 'Doc5623', 'Doc5624', 'Doc5625', 'Doc5626', 'Doc5627', 'Doc5628', 'Doc5629', 'Doc5630', 'Doc5631', 'Doc5632', 'Doc5633', 'Doc5634', 'Doc5635', 'Doc5636', 'Doc5637', 'Doc5638', 'Doc5639', 'Doc5640', 'Doc5641', 'Doc5642', 'Doc5643', 'Doc5644', 'Doc5645', 'Doc5646', 'Doc5647', 'Doc5648', 'Doc5649', 'Doc5650', 'Doc5651', 'Doc5652', 'Doc5653', 'Doc5654', 'Doc5655', 'Doc5656', 'Doc5657', 'Doc5658', 'Doc5659', 'Doc5660', 'Doc5661', 'Doc5662', 'Doc5663', 'Doc5664', 'Doc5665', 'Doc5666', 'Doc5667', 'Doc5668', 'Doc5669', 'Doc5670', 'Doc5671', 'Doc5672', 'Doc5673', 'Doc5674', 'Doc5675', 'Doc5676', 'Doc5677', 'Doc5678', 'Doc5679', 'Doc5680', 'Doc5681', 'Doc5682', 'Doc5683', 'Doc5684', 'Doc5685', 'Doc5686', 'Doc5687', 'Doc5688', 'Doc5689', 'Doc5690', 'Doc5691', 'Doc5692', 'Doc5693', 'Doc5694', 'Doc5695', 'Doc5696', 'Doc5697', 'Doc5698', 'Doc5699', 'Doc5700', 'Doc5701', 'Doc5702', 'Doc5703', 'Doc5704', 'Doc5705', 'Doc5706', 'Doc5707', 'Doc5708', 'Doc5709', 'Doc5710', 'Doc5711', 'Doc5712', 'Doc5713', 'Doc5714', 'Doc5715', 'Doc5716', 'Doc5717', 'Doc5718', 'Doc5719', 'Doc5720', 'Doc5721', 'Doc5722', 'Doc5723', 'Doc5724', 'Doc5725', 'Doc5726', 'Doc5727', 'Doc5728', 'Doc5729', 'Doc5730', 'Doc5731', 'Doc5732', 'Doc5733', 'Doc5734', 'Doc5735', 'Doc5736', 'Doc5737', 'Doc5738', 'Doc5739', 'Doc5740', 'Doc5741', 'Doc5742', 'Doc5743', 'Doc5744', 'Doc5745', 'Doc5746', 'Doc5747', 'Doc5748', 'Doc5749', 'Doc5750', 'Doc5751', 'Doc5752', 'Doc5753', 'Doc5754', 'Doc5755', 'Doc5756', 'Doc5757', 'Doc5758', 'Doc5759', 'Doc5760', 'Doc5761', 'Doc5762', 'Doc5763', 'Doc5764', 'Doc5765', 'Doc5766', 'Doc5767', 'Doc5768', 'Doc5769', 'Doc5770', 'Doc5771', 'Doc5772', 'Doc5773', 'Doc5774', 'Doc5775', 'Doc5776', 'Doc5777', 'Doc5778', 'Doc5779', 'Doc5780', 'Doc5781', 'Doc5782', 'Doc5783', 'Doc5784', 'Doc5785', 'Doc5786', 'Doc5787', 'Doc5788', 'Doc5789', 'Doc5790', 'Doc5791', 'Doc5792', 'Doc5793', 'Doc5794', 'Doc5795', 'Doc5796', 'Doc5797', 'Doc5798', 'Doc5799', 'Doc5800', 'Doc5801', 'Doc5802', 'Doc5803', 'Doc5804', 'Doc5805', 'Doc5806', 'Doc5807', 'Doc5808', 'Doc5809', 'Doc5810', 'Doc5811', 'Doc5812', 'Doc5813', 'Doc5814', 'Doc5815', 'Doc5816', 'Doc5817', 'Doc5818', 'Doc5819', 'Doc5820', 'Doc5821', 'Doc5822', 'Doc5823', 'Doc5824', 'Doc5825', 'Doc5826', 'Doc5827', 'Doc5828', 'Doc5829', 'Doc5830', 'Doc5831', 'Doc5832', 'Doc5833', 'Doc5834', 'Doc5835', 'Doc5836', 'Doc5837', 'Doc5838', 'Doc5839', 'Doc5840', 'Doc5841', 'Doc5842', 'Doc5843', 'Doc5844', 'Doc5845', 'Doc5846', 'Doc5847', 'Doc5848', 'Doc5849', 'Doc5850', 'Doc5851', 'Doc5852', 'Doc5853', 'Doc5854', 'Doc5855', 'Doc5856', 'Doc5857', 'Doc5858', 'Doc5859', 'Doc5860', 'Doc5861', 'Doc5862', 'Doc5863', 'Doc5864', 'Doc5865', 'Doc5866', 'Doc5867', 'Doc5868', 'Doc5869', 'Doc5870', 'Doc5871', 'Doc5872', 'Doc5873', 'Doc5874', 'Doc5875', 'Doc5876', 'Doc5877', 'Doc5878', 'Doc5879', 'Doc5880', 'Doc5881', 'Doc5882', 'Doc5883', 'Doc5884', 'Doc5885', 'Doc5886', 'Doc5887', 'Doc5888', 'Doc5889', 'Doc5890', 'Doc5891', 'Doc5892', 'Doc5893', 'Doc5894', 'Doc5895', 'Doc5896', 'Doc5897', 'Doc5898', 'Doc5899', 'Doc5900', 'Doc5901', 'Doc5902', 'Doc5903', 'Doc5904', 'Doc5905', 'Doc5906', 'Doc5907', 'Doc5908', 'Doc5909', 'Doc5910', 'Doc5911', 'Doc5912', 'Doc5913', 'Doc5914', 'Doc5915', 'Doc5916', 'Doc5917', 'Doc5918', 'Doc5919', 'Doc5920', 'Doc5921', 'Doc5922', 'Doc5923', 'Doc5924', 'Doc5925', 'Doc5926', 'Doc5927', 'Doc5928', 'Doc5929', 'Doc5930', 'Doc5931', 'Doc5932', 'Doc5933', 'Doc5934', 'Doc5935', 'Doc5936', 'Doc5937', 'Doc5938', 'Doc5939', 'Doc5940', 'Doc5941', 'Doc5942', 'Doc5943', 'Doc5944', 'Doc5945', 'Doc5946', 'Doc5947', 'Doc5948', 'Doc5949', 'Doc5950', 'Doc5951', 'Doc5952', 'Doc5953', 'Doc5954', 'Doc5955', 'Doc5956', 'Doc5957', 'Doc5958', 'Doc5959', 'Doc5960', 'Doc5961', 'Doc5962', 'Doc5963', 'Doc5964', 'Doc5965', 'Doc5966']\n"
     ]
    }
   ],
   "source": [
    "# index names\n",
    "data=Z\n",
    "docnames = [\"Doc\" + str(i) for i in range(len(data))]\n",
    "print(docnames)\n"
   ]
  },
  {
   "cell_type": "code",
   "execution_count": 698,
   "metadata": {},
   "outputs": [
    {
     "data": {
      "text/plain": [
       "5967"
      ]
     },
     "execution_count": 698,
     "metadata": {},
     "output_type": "execute_result"
    }
   ],
   "source": [
    "len(docnames)"
   ]
  },
  {
   "cell_type": "code",
   "execution_count": 699,
   "metadata": {},
   "outputs": [],
   "source": [
    "#lda.components_.shape"
   ]
  },
  {
   "cell_type": "markdown",
   "metadata": {},
   "source": [
    "# Dominant Topic"
   ]
  },
  {
   "cell_type": "code",
   "execution_count": 700,
   "metadata": {},
   "outputs": [],
   "source": [
    "# To classify a document as belonging to a particular topic, \n",
    "# a logical approach is to see which topic has\n",
    "# the highest contribution to that document and assign it."
   ]
  },
  {
   "cell_type": "code",
   "execution_count": 701,
   "metadata": {},
   "outputs": [
    {
     "data": {
      "text/html": [
       "<div>\n",
       "<style scoped>\n",
       "    .dataframe tbody tr th:only-of-type {\n",
       "        vertical-align: middle;\n",
       "    }\n",
       "\n",
       "    .dataframe tbody tr th {\n",
       "        vertical-align: top;\n",
       "    }\n",
       "\n",
       "    .dataframe thead th {\n",
       "        text-align: right;\n",
       "    }\n",
       "</style>\n",
       "<table border=\"1\" class=\"dataframe\">\n",
       "  <thead>\n",
       "    <tr style=\"text-align: right;\">\n",
       "      <th></th>\n",
       "      <th>Topic0</th>\n",
       "      <th>Topic1</th>\n",
       "      <th>Topic2</th>\n",
       "      <th>Topic3</th>\n",
       "      <th>Topic4</th>\n",
       "      <th>Topic5</th>\n",
       "      <th>Topic6</th>\n",
       "      <th>Topic7</th>\n",
       "      <th>Topic8</th>\n",
       "      <th>Topic9</th>\n",
       "    </tr>\n",
       "  </thead>\n",
       "  <tbody>\n",
       "    <tr>\n",
       "      <td>0</td>\n",
       "      <td>0.03</td>\n",
       "      <td>0.03</td>\n",
       "      <td>0.03</td>\n",
       "      <td>0.03</td>\n",
       "      <td>0.03</td>\n",
       "      <td>0.03</td>\n",
       "      <td>0.30</td>\n",
       "      <td>0.03</td>\n",
       "      <td>0.03</td>\n",
       "      <td>0.50</td>\n",
       "    </tr>\n",
       "    <tr>\n",
       "      <td>1</td>\n",
       "      <td>0.02</td>\n",
       "      <td>0.22</td>\n",
       "      <td>0.62</td>\n",
       "      <td>0.02</td>\n",
       "      <td>0.02</td>\n",
       "      <td>0.02</td>\n",
       "      <td>0.02</td>\n",
       "      <td>0.02</td>\n",
       "      <td>0.02</td>\n",
       "      <td>0.02</td>\n",
       "    </tr>\n",
       "    <tr>\n",
       "      <td>2</td>\n",
       "      <td>0.03</td>\n",
       "      <td>0.03</td>\n",
       "      <td>0.03</td>\n",
       "      <td>0.70</td>\n",
       "      <td>0.03</td>\n",
       "      <td>0.03</td>\n",
       "      <td>0.03</td>\n",
       "      <td>0.03</td>\n",
       "      <td>0.03</td>\n",
       "      <td>0.03</td>\n",
       "    </tr>\n",
       "    <tr>\n",
       "      <td>3</td>\n",
       "      <td>0.02</td>\n",
       "      <td>0.02</td>\n",
       "      <td>0.02</td>\n",
       "      <td>0.02</td>\n",
       "      <td>0.42</td>\n",
       "      <td>0.22</td>\n",
       "      <td>0.22</td>\n",
       "      <td>0.02</td>\n",
       "      <td>0.02</td>\n",
       "      <td>0.02</td>\n",
       "    </tr>\n",
       "    <tr>\n",
       "      <td>4</td>\n",
       "      <td>0.05</td>\n",
       "      <td>0.05</td>\n",
       "      <td>0.05</td>\n",
       "      <td>0.05</td>\n",
       "      <td>0.05</td>\n",
       "      <td>0.05</td>\n",
       "      <td>0.05</td>\n",
       "      <td>0.05</td>\n",
       "      <td>0.05</td>\n",
       "      <td>0.55</td>\n",
       "    </tr>\n",
       "    <tr>\n",
       "      <td>...</td>\n",
       "      <td>...</td>\n",
       "      <td>...</td>\n",
       "      <td>...</td>\n",
       "      <td>...</td>\n",
       "      <td>...</td>\n",
       "      <td>...</td>\n",
       "      <td>...</td>\n",
       "      <td>...</td>\n",
       "      <td>...</td>\n",
       "      <td>...</td>\n",
       "    </tr>\n",
       "    <tr>\n",
       "      <td>5962</td>\n",
       "      <td>0.03</td>\n",
       "      <td>0.03</td>\n",
       "      <td>0.03</td>\n",
       "      <td>0.37</td>\n",
       "      <td>0.03</td>\n",
       "      <td>0.03</td>\n",
       "      <td>0.03</td>\n",
       "      <td>0.37</td>\n",
       "      <td>0.03</td>\n",
       "      <td>0.03</td>\n",
       "    </tr>\n",
       "    <tr>\n",
       "      <td>5963</td>\n",
       "      <td>0.37</td>\n",
       "      <td>0.03</td>\n",
       "      <td>0.03</td>\n",
       "      <td>0.03</td>\n",
       "      <td>0.03</td>\n",
       "      <td>0.03</td>\n",
       "      <td>0.37</td>\n",
       "      <td>0.03</td>\n",
       "      <td>0.03</td>\n",
       "      <td>0.03</td>\n",
       "    </tr>\n",
       "    <tr>\n",
       "      <td>5964</td>\n",
       "      <td>0.03</td>\n",
       "      <td>0.03</td>\n",
       "      <td>0.03</td>\n",
       "      <td>0.03</td>\n",
       "      <td>0.03</td>\n",
       "      <td>0.03</td>\n",
       "      <td>0.03</td>\n",
       "      <td>0.51</td>\n",
       "      <td>0.03</td>\n",
       "      <td>0.23</td>\n",
       "    </tr>\n",
       "    <tr>\n",
       "      <td>5965</td>\n",
       "      <td>0.03</td>\n",
       "      <td>0.03</td>\n",
       "      <td>0.03</td>\n",
       "      <td>0.39</td>\n",
       "      <td>0.34</td>\n",
       "      <td>0.03</td>\n",
       "      <td>0.03</td>\n",
       "      <td>0.03</td>\n",
       "      <td>0.03</td>\n",
       "      <td>0.03</td>\n",
       "    </tr>\n",
       "    <tr>\n",
       "      <td>5966</td>\n",
       "      <td>0.03</td>\n",
       "      <td>0.03</td>\n",
       "      <td>0.27</td>\n",
       "      <td>0.28</td>\n",
       "      <td>0.27</td>\n",
       "      <td>0.03</td>\n",
       "      <td>0.03</td>\n",
       "      <td>0.03</td>\n",
       "      <td>0.03</td>\n",
       "      <td>0.03</td>\n",
       "    </tr>\n",
       "  </tbody>\n",
       "</table>\n",
       "<p>5967 rows × 10 columns</p>\n",
       "</div>"
      ],
      "text/plain": [
       "      Topic0  Topic1  Topic2  Topic3  Topic4  Topic5  Topic6  Topic7  Topic8  \\\n",
       "0       0.03    0.03    0.03    0.03    0.03    0.03    0.30    0.03    0.03   \n",
       "1       0.02    0.22    0.62    0.02    0.02    0.02    0.02    0.02    0.02   \n",
       "2       0.03    0.03    0.03    0.70    0.03    0.03    0.03    0.03    0.03   \n",
       "3       0.02    0.02    0.02    0.02    0.42    0.22    0.22    0.02    0.02   \n",
       "4       0.05    0.05    0.05    0.05    0.05    0.05    0.05    0.05    0.05   \n",
       "...      ...     ...     ...     ...     ...     ...     ...     ...     ...   \n",
       "5962    0.03    0.03    0.03    0.37    0.03    0.03    0.03    0.37    0.03   \n",
       "5963    0.37    0.03    0.03    0.03    0.03    0.03    0.37    0.03    0.03   \n",
       "5964    0.03    0.03    0.03    0.03    0.03    0.03    0.03    0.51    0.03   \n",
       "5965    0.03    0.03    0.03    0.39    0.34    0.03    0.03    0.03    0.03   \n",
       "5966    0.03    0.03    0.27    0.28    0.27    0.03    0.03    0.03    0.03   \n",
       "\n",
       "      Topic9  \n",
       "0       0.50  \n",
       "1       0.02  \n",
       "2       0.03  \n",
       "3       0.02  \n",
       "4       0.55  \n",
       "...      ...  \n",
       "5962    0.03  \n",
       "5963    0.03  \n",
       "5964    0.23  \n",
       "5965    0.03  \n",
       "5966    0.03  \n",
       "\n",
       "[5967 rows x 10 columns]"
      ]
     },
     "execution_count": 701,
     "metadata": {},
     "output_type": "execute_result"
    }
   ],
   "source": [
    "# Make the pandas dataframe\n",
    "df_document_topic = pd.DataFrame(np.round(lda_output, 2), columns=topicnames)\n",
    "df_document_topic"
   ]
  },
  {
   "cell_type": "code",
   "execution_count": 702,
   "metadata": {},
   "outputs": [],
   "source": [
    "#lda.components_[5]"
   ]
  },
  {
   "cell_type": "code",
   "execution_count": 645,
   "metadata": {},
   "outputs": [],
   "source": [
    "n_top_words = 10"
   ]
  },
  {
   "cell_type": "code",
   "execution_count": 646,
   "metadata": {},
   "outputs": [],
   "source": [
    "feature_names = count2.get_feature_names()\n",
    "#feature_names"
   ]
  },
  {
   "cell_type": "code",
   "execution_count": 703,
   "metadata": {},
   "outputs": [
    {
     "ename": "ValueError",
     "evalue": "DataFrame constructor not properly called!",
     "output_type": "error",
     "traceback": [
      "\u001b[0;31m---------------------------------------------------------------------------\u001b[0m",
      "\u001b[0;31mValueError\u001b[0m                                Traceback (most recent call last)",
      "\u001b[0;32m<ipython-input-703-91c6c221db28>\u001b[0m in \u001b[0;36m<module>\u001b[0;34m\u001b[0m\n\u001b[1;32m      1\u001b[0m \u001b[0;31m# Topic-Keyword Matrix\u001b[0m\u001b[0;34m\u001b[0m\u001b[0;34m\u001b[0m\u001b[0;34m\u001b[0m\u001b[0m\n\u001b[0;32m----> 2\u001b[0;31m \u001b[0mdf_topic_keywords\u001b[0m \u001b[0;34m=\u001b[0m \u001b[0mpd\u001b[0m\u001b[0;34m.\u001b[0m\u001b[0mDataFrame\u001b[0m\u001b[0;34m(\u001b[0m\u001b[0mlda\u001b[0m\u001b[0;34m.\u001b[0m\u001b[0mn_components\u001b[0m\u001b[0;34m)\u001b[0m\u001b[0;34m\u001b[0m\u001b[0;34m\u001b[0m\u001b[0m\n\u001b[0m",
      "\u001b[0;32m~/opt/anaconda3/lib/python3.7/site-packages/pandas/core/frame.py\u001b[0m in \u001b[0;36m__init__\u001b[0;34m(self, data, index, columns, dtype, copy)\u001b[0m\n\u001b[1;32m    483\u001b[0m                 )\n\u001b[1;32m    484\u001b[0m             \u001b[0;32melse\u001b[0m\u001b[0;34m:\u001b[0m\u001b[0;34m\u001b[0m\u001b[0;34m\u001b[0m\u001b[0m\n\u001b[0;32m--> 485\u001b[0;31m                 \u001b[0;32mraise\u001b[0m \u001b[0mValueError\u001b[0m\u001b[0;34m(\u001b[0m\u001b[0;34m\"DataFrame constructor not properly called!\"\u001b[0m\u001b[0;34m)\u001b[0m\u001b[0;34m\u001b[0m\u001b[0;34m\u001b[0m\u001b[0m\n\u001b[0m\u001b[1;32m    486\u001b[0m \u001b[0;34m\u001b[0m\u001b[0m\n\u001b[1;32m    487\u001b[0m         \u001b[0mNDFrame\u001b[0m\u001b[0;34m.\u001b[0m\u001b[0m__init__\u001b[0m\u001b[0;34m(\u001b[0m\u001b[0mself\u001b[0m\u001b[0;34m,\u001b[0m \u001b[0mmgr\u001b[0m\u001b[0;34m,\u001b[0m \u001b[0mfastpath\u001b[0m\u001b[0;34m=\u001b[0m\u001b[0;32mTrue\u001b[0m\u001b[0;34m)\u001b[0m\u001b[0;34m\u001b[0m\u001b[0;34m\u001b[0m\u001b[0m\n",
      "\u001b[0;31mValueError\u001b[0m: DataFrame constructor not properly called!"
     ]
    }
   ],
   "source": [
    "# Topic-Keyword Matrix\n",
    "df_topic_keywords = pd.DataFrame(lda.components_)"
   ]
  },
  {
   "cell_type": "code",
   "execution_count": 210,
   "metadata": {},
   "outputs": [],
   "source": []
  },
  {
   "cell_type": "code",
   "execution_count": 647,
   "metadata": {},
   "outputs": [
    {
     "ename": "ValueError",
     "evalue": "Length mismatch: Expected axis has 11 elements, new values have 200 elements",
     "output_type": "error",
     "traceback": [
      "\u001b[0;31m---------------------------------------------------------------------------\u001b[0m",
      "\u001b[0;31mValueError\u001b[0m                                Traceback (most recent call last)",
      "\u001b[0;32m<ipython-input-647-4b865c128f09>\u001b[0m in \u001b[0;36m<module>\u001b[0;34m\u001b[0m\n\u001b[1;32m      1\u001b[0m \u001b[0;31m# Assign Column and Index\u001b[0m\u001b[0;34m\u001b[0m\u001b[0;34m\u001b[0m\u001b[0;34m\u001b[0m\u001b[0m\n\u001b[1;32m      2\u001b[0m \u001b[0;31m#df_topic_keywords.columns = vectorizer.get_feature_names()\u001b[0m\u001b[0;34m\u001b[0m\u001b[0;34m\u001b[0m\u001b[0;34m\u001b[0m\u001b[0m\n\u001b[0;32m----> 3\u001b[0;31m \u001b[0mdf_topic_keywords\u001b[0m\u001b[0;34m.\u001b[0m\u001b[0mcolumns\u001b[0m \u001b[0;34m=\u001b[0m \u001b[0mfeature_names\u001b[0m\u001b[0;34m\u001b[0m\u001b[0;34m\u001b[0m\u001b[0m\n\u001b[0m\u001b[1;32m      4\u001b[0m \u001b[0mdf_topic_keywords\u001b[0m\u001b[0;34m.\u001b[0m\u001b[0mindex\u001b[0m \u001b[0;34m=\u001b[0m \u001b[0mtopicnames\u001b[0m\u001b[0;34m\u001b[0m\u001b[0;34m\u001b[0m\u001b[0m\n",
      "\u001b[0;32m~/opt/anaconda3/lib/python3.7/site-packages/pandas/core/generic.py\u001b[0m in \u001b[0;36m__setattr__\u001b[0;34m(self, name, value)\u001b[0m\n\u001b[1;32m   5190\u001b[0m         \u001b[0;32mtry\u001b[0m\u001b[0;34m:\u001b[0m\u001b[0;34m\u001b[0m\u001b[0;34m\u001b[0m\u001b[0m\n\u001b[1;32m   5191\u001b[0m             \u001b[0mobject\u001b[0m\u001b[0;34m.\u001b[0m\u001b[0m__getattribute__\u001b[0m\u001b[0;34m(\u001b[0m\u001b[0mself\u001b[0m\u001b[0;34m,\u001b[0m \u001b[0mname\u001b[0m\u001b[0;34m)\u001b[0m\u001b[0;34m\u001b[0m\u001b[0;34m\u001b[0m\u001b[0m\n\u001b[0;32m-> 5192\u001b[0;31m             \u001b[0;32mreturn\u001b[0m \u001b[0mobject\u001b[0m\u001b[0;34m.\u001b[0m\u001b[0m__setattr__\u001b[0m\u001b[0;34m(\u001b[0m\u001b[0mself\u001b[0m\u001b[0;34m,\u001b[0m \u001b[0mname\u001b[0m\u001b[0;34m,\u001b[0m \u001b[0mvalue\u001b[0m\u001b[0;34m)\u001b[0m\u001b[0;34m\u001b[0m\u001b[0;34m\u001b[0m\u001b[0m\n\u001b[0m\u001b[1;32m   5193\u001b[0m         \u001b[0;32mexcept\u001b[0m \u001b[0mAttributeError\u001b[0m\u001b[0;34m:\u001b[0m\u001b[0;34m\u001b[0m\u001b[0;34m\u001b[0m\u001b[0m\n\u001b[1;32m   5194\u001b[0m             \u001b[0;32mpass\u001b[0m\u001b[0;34m\u001b[0m\u001b[0;34m\u001b[0m\u001b[0m\n",
      "\u001b[0;32mpandas/_libs/properties.pyx\u001b[0m in \u001b[0;36mpandas._libs.properties.AxisProperty.__set__\u001b[0;34m()\u001b[0m\n",
      "\u001b[0;32m~/opt/anaconda3/lib/python3.7/site-packages/pandas/core/generic.py\u001b[0m in \u001b[0;36m_set_axis\u001b[0;34m(self, axis, labels)\u001b[0m\n\u001b[1;32m    688\u001b[0m \u001b[0;34m\u001b[0m\u001b[0m\n\u001b[1;32m    689\u001b[0m     \u001b[0;32mdef\u001b[0m \u001b[0m_set_axis\u001b[0m\u001b[0;34m(\u001b[0m\u001b[0mself\u001b[0m\u001b[0;34m,\u001b[0m \u001b[0maxis\u001b[0m\u001b[0;34m,\u001b[0m \u001b[0mlabels\u001b[0m\u001b[0;34m)\u001b[0m\u001b[0;34m:\u001b[0m\u001b[0;34m\u001b[0m\u001b[0;34m\u001b[0m\u001b[0m\n\u001b[0;32m--> 690\u001b[0;31m         \u001b[0mself\u001b[0m\u001b[0;34m.\u001b[0m\u001b[0m_data\u001b[0m\u001b[0;34m.\u001b[0m\u001b[0mset_axis\u001b[0m\u001b[0;34m(\u001b[0m\u001b[0maxis\u001b[0m\u001b[0;34m,\u001b[0m \u001b[0mlabels\u001b[0m\u001b[0;34m)\u001b[0m\u001b[0;34m\u001b[0m\u001b[0;34m\u001b[0m\u001b[0m\n\u001b[0m\u001b[1;32m    691\u001b[0m         \u001b[0mself\u001b[0m\u001b[0;34m.\u001b[0m\u001b[0m_clear_item_cache\u001b[0m\u001b[0;34m(\u001b[0m\u001b[0;34m)\u001b[0m\u001b[0;34m\u001b[0m\u001b[0;34m\u001b[0m\u001b[0m\n\u001b[1;32m    692\u001b[0m \u001b[0;34m\u001b[0m\u001b[0m\n",
      "\u001b[0;32m~/opt/anaconda3/lib/python3.7/site-packages/pandas/core/internals/managers.py\u001b[0m in \u001b[0;36mset_axis\u001b[0;34m(self, axis, new_labels)\u001b[0m\n\u001b[1;32m    181\u001b[0m             raise ValueError(\n\u001b[1;32m    182\u001b[0m                 \u001b[0;34m\"Length mismatch: Expected axis has {old} elements, new \"\u001b[0m\u001b[0;34m\u001b[0m\u001b[0;34m\u001b[0m\u001b[0m\n\u001b[0;32m--> 183\u001b[0;31m                 \u001b[0;34m\"values have {new} elements\"\u001b[0m\u001b[0;34m.\u001b[0m\u001b[0mformat\u001b[0m\u001b[0;34m(\u001b[0m\u001b[0mold\u001b[0m\u001b[0;34m=\u001b[0m\u001b[0mold_len\u001b[0m\u001b[0;34m,\u001b[0m \u001b[0mnew\u001b[0m\u001b[0;34m=\u001b[0m\u001b[0mnew_len\u001b[0m\u001b[0;34m)\u001b[0m\u001b[0;34m\u001b[0m\u001b[0;34m\u001b[0m\u001b[0m\n\u001b[0m\u001b[1;32m    184\u001b[0m             )\n\u001b[1;32m    185\u001b[0m \u001b[0;34m\u001b[0m\u001b[0m\n",
      "\u001b[0;31mValueError\u001b[0m: Length mismatch: Expected axis has 11 elements, new values have 200 elements"
     ]
    }
   ],
   "source": [
    "# Assign Column and Index\n",
    "#df_topic_keywords.columns = vectorizer.get_feature_names()\n",
    "df_topic_keywords.columns = feature_names\n",
    "df_topic_keywords.index = topicnames"
   ]
  },
  {
   "cell_type": "code",
   "execution_count": 211,
   "metadata": {},
   "outputs": [
    {
     "data": {
      "text/html": [
       "<div>\n",
       "<style scoped>\n",
       "    .dataframe tbody tr th:only-of-type {\n",
       "        vertical-align: middle;\n",
       "    }\n",
       "\n",
       "    .dataframe tbody tr th {\n",
       "        vertical-align: top;\n",
       "    }\n",
       "\n",
       "    .dataframe thead th {\n",
       "        text-align: right;\n",
       "    }\n",
       "</style>\n",
       "<table border=\"1\" class=\"dataframe\">\n",
       "  <thead>\n",
       "    <tr style=\"text-align: right;\">\n",
       "      <th></th>\n",
       "      <th>Word 0</th>\n",
       "      <th>Word 1</th>\n",
       "      <th>Word 2</th>\n",
       "      <th>Word 3</th>\n",
       "      <th>Word 4</th>\n",
       "      <th>Word 5</th>\n",
       "      <th>Word 6</th>\n",
       "      <th>Word 7</th>\n",
       "      <th>Word 8</th>\n",
       "      <th>Word 9</th>\n",
       "      <th>Topics</th>\n",
       "    </tr>\n",
       "  </thead>\n",
       "  <tbody>\n",
       "    <tr>\n",
       "      <td>Topic 0</td>\n",
       "      <td>human</td>\n",
       "      <td>rights</td>\n",
       "      <td>amp</td>\n",
       "      <td>calls</td>\n",
       "      <td>use</td>\n",
       "      <td>stop</td>\n",
       "      <td>south</td>\n",
       "      <td>marijuana</td>\n",
       "      <td>bbc</td>\n",
       "      <td>korean</td>\n",
       "      <td>human rights/prison</td>\n",
       "    </tr>\n",
       "    <tr>\n",
       "      <td>Topic 1</td>\n",
       "      <td>years</td>\n",
       "      <td>china</td>\n",
       "      <td>death</td>\n",
       "      <td>international</td>\n",
       "      <td>news</td>\n",
       "      <td>arrested</td>\n",
       "      <td>days</td>\n",
       "      <td>iraq</td>\n",
       "      <td>gay</td>\n",
       "      <td>10</td>\n",
       "      <td>international sex</td>\n",
       "    </tr>\n",
       "    <tr>\n",
       "      <td>Topic 2</td>\n",
       "      <td>new</td>\n",
       "      <td>people</td>\n",
       "      <td>court</td>\n",
       "      <td>law</td>\n",
       "      <td>france</td>\n",
       "      <td>australia</td>\n",
       "      <td>water</td>\n",
       "      <td>muslim</td>\n",
       "      <td>country</td>\n",
       "      <td>french</td>\n",
       "      <td>court muslim</td>\n",
       "    </tr>\n",
       "    <tr>\n",
       "      <td>Topic 3</td>\n",
       "      <td>says</td>\n",
       "      <td>year</td>\n",
       "      <td>old</td>\n",
       "      <td>minister</td>\n",
       "      <td>oil</td>\n",
       "      <td>girl</td>\n",
       "      <td>child</td>\n",
       "      <td>australian</td>\n",
       "      <td>prime</td>\n",
       "      <td>afghanistan</td>\n",
       "      <td>Iran British</td>\n",
       "    </tr>\n",
       "    <tr>\n",
       "      <td>Topic 4</td>\n",
       "      <td>president</td>\n",
       "      <td>wikileaks</td>\n",
       "      <td>iran</td>\n",
       "      <td>british</td>\n",
       "      <td>snowden</td>\n",
       "      <td>internet</td>\n",
       "      <td>right</td>\n",
       "      <td>nsa</td>\n",
       "      <td>european</td>\n",
       "      <td>pirate</td>\n",
       "      <td>Palestine/Israel protest</td>\n",
       "    </tr>\n",
       "  </tbody>\n",
       "</table>\n",
       "</div>"
      ],
      "text/plain": [
       "            Word 0     Word 1 Word 2         Word 3   Word 4     Word 5  \\\n",
       "Topic 0      human     rights    amp          calls      use       stop   \n",
       "Topic 1      years      china  death  international     news   arrested   \n",
       "Topic 2        new     people  court            law   france  australia   \n",
       "Topic 3       says       year    old       minister      oil       girl   \n",
       "Topic 4  president  wikileaks   iran        british  snowden   internet   \n",
       "\n",
       "        Word 6      Word 7    Word 8       Word 9                    Topics  \n",
       "Topic 0  south   marijuana       bbc       korean       human rights/prison  \n",
       "Topic 1   days        iraq       gay           10         international sex  \n",
       "Topic 2  water      muslim   country       french              court muslim  \n",
       "Topic 3  child  australian     prime  afghanistan              Iran British  \n",
       "Topic 4  right         nsa  european       pirate  Palestine/Israel protest  "
      ]
     },
     "execution_count": 211,
     "metadata": {},
     "output_type": "execute_result"
    }
   ],
   "source": [
    "# View\n",
    "df_topic_keywords.head()\n",
    "   "
   ]
  },
  {
   "cell_type": "code",
   "execution_count": 212,
   "metadata": {},
   "outputs": [],
   "source": [
    "# Make the pandas dataframe\n",
    "df_document_topic = pd.DataFrame(np.round(lda_output, 2), columns=topicnames, index=docnames)"
   ]
  },
  {
   "cell_type": "code",
   "execution_count": 213,
   "metadata": {},
   "outputs": [],
   "source": [
    "# =========================================================================================\n",
    "# Get dominant topic for each document - the argmax does it!  Neat... Alemi 04/15/2020\n",
    "# We would need to revert the numeric matrix of numbers back to their text or simply capture the dominant 15 topics\n",
    "# to retrain our model\n",
    "# =========================================================================================\n",
    "dominant_topic = np.argmax(df_document_topic.values, axis=1)\n",
    "df_document_topic['dominant_topic'] = dominant_topic"
   ]
  },
  {
   "cell_type": "code",
   "execution_count": 214,
   "metadata": {},
   "outputs": [
    {
     "data": {
      "text/html": [
       "<div>\n",
       "<style scoped>\n",
       "    .dataframe tbody tr th:only-of-type {\n",
       "        vertical-align: middle;\n",
       "    }\n",
       "\n",
       "    .dataframe tbody tr th {\n",
       "        vertical-align: top;\n",
       "    }\n",
       "\n",
       "    .dataframe thead th {\n",
       "        text-align: right;\n",
       "    }\n",
       "</style>\n",
       "<table border=\"1\" class=\"dataframe\">\n",
       "  <thead>\n",
       "    <tr style=\"text-align: right;\">\n",
       "      <th></th>\n",
       "      <th>Topic0</th>\n",
       "      <th>Topic1</th>\n",
       "      <th>Topic2</th>\n",
       "      <th>Topic3</th>\n",
       "      <th>Topic4</th>\n",
       "      <th>Topic5</th>\n",
       "      <th>Topic6</th>\n",
       "      <th>Topic7</th>\n",
       "      <th>Topic8</th>\n",
       "      <th>Topic9</th>\n",
       "      <th>dominant_topic</th>\n",
       "    </tr>\n",
       "  </thead>\n",
       "  <tbody>\n",
       "    <tr>\n",
       "      <td>Doc0</td>\n",
       "      <td>0.03</td>\n",
       "      <td>0.03</td>\n",
       "      <td>0.03</td>\n",
       "      <td>0.03</td>\n",
       "      <td>0.03</td>\n",
       "      <td>0.03</td>\n",
       "      <td>0.30</td>\n",
       "      <td>0.03</td>\n",
       "      <td>0.03</td>\n",
       "      <td>0.50</td>\n",
       "      <td>9</td>\n",
       "    </tr>\n",
       "    <tr>\n",
       "      <td>Doc1</td>\n",
       "      <td>0.02</td>\n",
       "      <td>0.22</td>\n",
       "      <td>0.62</td>\n",
       "      <td>0.02</td>\n",
       "      <td>0.02</td>\n",
       "      <td>0.02</td>\n",
       "      <td>0.02</td>\n",
       "      <td>0.02</td>\n",
       "      <td>0.02</td>\n",
       "      <td>0.02</td>\n",
       "      <td>2</td>\n",
       "    </tr>\n",
       "    <tr>\n",
       "      <td>Doc2</td>\n",
       "      <td>0.03</td>\n",
       "      <td>0.03</td>\n",
       "      <td>0.03</td>\n",
       "      <td>0.70</td>\n",
       "      <td>0.03</td>\n",
       "      <td>0.03</td>\n",
       "      <td>0.03</td>\n",
       "      <td>0.03</td>\n",
       "      <td>0.03</td>\n",
       "      <td>0.03</td>\n",
       "      <td>3</td>\n",
       "    </tr>\n",
       "    <tr>\n",
       "      <td>Doc3</td>\n",
       "      <td>0.02</td>\n",
       "      <td>0.02</td>\n",
       "      <td>0.02</td>\n",
       "      <td>0.02</td>\n",
       "      <td>0.42</td>\n",
       "      <td>0.22</td>\n",
       "      <td>0.22</td>\n",
       "      <td>0.02</td>\n",
       "      <td>0.02</td>\n",
       "      <td>0.02</td>\n",
       "      <td>4</td>\n",
       "    </tr>\n",
       "    <tr>\n",
       "      <td>Doc4</td>\n",
       "      <td>0.05</td>\n",
       "      <td>0.05</td>\n",
       "      <td>0.05</td>\n",
       "      <td>0.05</td>\n",
       "      <td>0.05</td>\n",
       "      <td>0.05</td>\n",
       "      <td>0.05</td>\n",
       "      <td>0.05</td>\n",
       "      <td>0.05</td>\n",
       "      <td>0.55</td>\n",
       "      <td>9</td>\n",
       "    </tr>\n",
       "    <tr>\n",
       "      <td>Doc5</td>\n",
       "      <td>0.02</td>\n",
       "      <td>0.42</td>\n",
       "      <td>0.02</td>\n",
       "      <td>0.42</td>\n",
       "      <td>0.02</td>\n",
       "      <td>0.02</td>\n",
       "      <td>0.02</td>\n",
       "      <td>0.02</td>\n",
       "      <td>0.02</td>\n",
       "      <td>0.02</td>\n",
       "      <td>1</td>\n",
       "    </tr>\n",
       "    <tr>\n",
       "      <td>Doc6</td>\n",
       "      <td>0.42</td>\n",
       "      <td>0.02</td>\n",
       "      <td>0.02</td>\n",
       "      <td>0.25</td>\n",
       "      <td>0.02</td>\n",
       "      <td>0.02</td>\n",
       "      <td>0.02</td>\n",
       "      <td>0.02</td>\n",
       "      <td>0.19</td>\n",
       "      <td>0.02</td>\n",
       "      <td>0</td>\n",
       "    </tr>\n",
       "    <tr>\n",
       "      <td>Doc7</td>\n",
       "      <td>0.02</td>\n",
       "      <td>0.26</td>\n",
       "      <td>0.02</td>\n",
       "      <td>0.02</td>\n",
       "      <td>0.02</td>\n",
       "      <td>0.02</td>\n",
       "      <td>0.02</td>\n",
       "      <td>0.02</td>\n",
       "      <td>0.58</td>\n",
       "      <td>0.02</td>\n",
       "      <td>8</td>\n",
       "    </tr>\n",
       "    <tr>\n",
       "      <td>Doc8</td>\n",
       "      <td>0.02</td>\n",
       "      <td>0.02</td>\n",
       "      <td>0.02</td>\n",
       "      <td>0.33</td>\n",
       "      <td>0.02</td>\n",
       "      <td>0.20</td>\n",
       "      <td>0.02</td>\n",
       "      <td>0.02</td>\n",
       "      <td>0.18</td>\n",
       "      <td>0.18</td>\n",
       "      <td>3</td>\n",
       "    </tr>\n",
       "    <tr>\n",
       "      <td>Doc9</td>\n",
       "      <td>0.03</td>\n",
       "      <td>0.03</td>\n",
       "      <td>0.37</td>\n",
       "      <td>0.03</td>\n",
       "      <td>0.37</td>\n",
       "      <td>0.03</td>\n",
       "      <td>0.03</td>\n",
       "      <td>0.03</td>\n",
       "      <td>0.03</td>\n",
       "      <td>0.03</td>\n",
       "      <td>2</td>\n",
       "    </tr>\n",
       "    <tr>\n",
       "      <td>Doc10</td>\n",
       "      <td>0.03</td>\n",
       "      <td>0.03</td>\n",
       "      <td>0.03</td>\n",
       "      <td>0.28</td>\n",
       "      <td>0.03</td>\n",
       "      <td>0.27</td>\n",
       "      <td>0.03</td>\n",
       "      <td>0.03</td>\n",
       "      <td>0.03</td>\n",
       "      <td>0.28</td>\n",
       "      <td>3</td>\n",
       "    </tr>\n",
       "    <tr>\n",
       "      <td>Doc11</td>\n",
       "      <td>0.03</td>\n",
       "      <td>0.03</td>\n",
       "      <td>0.03</td>\n",
       "      <td>0.37</td>\n",
       "      <td>0.03</td>\n",
       "      <td>0.03</td>\n",
       "      <td>0.37</td>\n",
       "      <td>0.03</td>\n",
       "      <td>0.03</td>\n",
       "      <td>0.03</td>\n",
       "      <td>3</td>\n",
       "    </tr>\n",
       "    <tr>\n",
       "      <td>Doc12</td>\n",
       "      <td>0.03</td>\n",
       "      <td>0.03</td>\n",
       "      <td>0.03</td>\n",
       "      <td>0.03</td>\n",
       "      <td>0.03</td>\n",
       "      <td>0.03</td>\n",
       "      <td>0.77</td>\n",
       "      <td>0.03</td>\n",
       "      <td>0.03</td>\n",
       "      <td>0.03</td>\n",
       "      <td>6</td>\n",
       "    </tr>\n",
       "    <tr>\n",
       "      <td>Doc13</td>\n",
       "      <td>0.03</td>\n",
       "      <td>0.03</td>\n",
       "      <td>0.03</td>\n",
       "      <td>0.77</td>\n",
       "      <td>0.03</td>\n",
       "      <td>0.03</td>\n",
       "      <td>0.03</td>\n",
       "      <td>0.03</td>\n",
       "      <td>0.03</td>\n",
       "      <td>0.03</td>\n",
       "      <td>3</td>\n",
       "    </tr>\n",
       "    <tr>\n",
       "      <td>Doc14</td>\n",
       "      <td>0.02</td>\n",
       "      <td>0.02</td>\n",
       "      <td>0.02</td>\n",
       "      <td>0.38</td>\n",
       "      <td>0.26</td>\n",
       "      <td>0.02</td>\n",
       "      <td>0.02</td>\n",
       "      <td>0.02</td>\n",
       "      <td>0.02</td>\n",
       "      <td>0.22</td>\n",
       "      <td>3</td>\n",
       "    </tr>\n",
       "  </tbody>\n",
       "</table>\n",
       "</div>"
      ],
      "text/plain": [
       "       Topic0  Topic1  Topic2  Topic3  Topic4  Topic5  Topic6  Topic7  Topic8  \\\n",
       "Doc0     0.03    0.03    0.03    0.03    0.03    0.03    0.30    0.03    0.03   \n",
       "Doc1     0.02    0.22    0.62    0.02    0.02    0.02    0.02    0.02    0.02   \n",
       "Doc2     0.03    0.03    0.03    0.70    0.03    0.03    0.03    0.03    0.03   \n",
       "Doc3     0.02    0.02    0.02    0.02    0.42    0.22    0.22    0.02    0.02   \n",
       "Doc4     0.05    0.05    0.05    0.05    0.05    0.05    0.05    0.05    0.05   \n",
       "Doc5     0.02    0.42    0.02    0.42    0.02    0.02    0.02    0.02    0.02   \n",
       "Doc6     0.42    0.02    0.02    0.25    0.02    0.02    0.02    0.02    0.19   \n",
       "Doc7     0.02    0.26    0.02    0.02    0.02    0.02    0.02    0.02    0.58   \n",
       "Doc8     0.02    0.02    0.02    0.33    0.02    0.20    0.02    0.02    0.18   \n",
       "Doc9     0.03    0.03    0.37    0.03    0.37    0.03    0.03    0.03    0.03   \n",
       "Doc10    0.03    0.03    0.03    0.28    0.03    0.27    0.03    0.03    0.03   \n",
       "Doc11    0.03    0.03    0.03    0.37    0.03    0.03    0.37    0.03    0.03   \n",
       "Doc12    0.03    0.03    0.03    0.03    0.03    0.03    0.77    0.03    0.03   \n",
       "Doc13    0.03    0.03    0.03    0.77    0.03    0.03    0.03    0.03    0.03   \n",
       "Doc14    0.02    0.02    0.02    0.38    0.26    0.02    0.02    0.02    0.02   \n",
       "\n",
       "       Topic9  dominant_topic  \n",
       "Doc0     0.50               9  \n",
       "Doc1     0.02               2  \n",
       "Doc2     0.03               3  \n",
       "Doc3     0.02               4  \n",
       "Doc4     0.55               9  \n",
       "Doc5     0.02               1  \n",
       "Doc6     0.02               0  \n",
       "Doc7     0.02               8  \n",
       "Doc8     0.18               3  \n",
       "Doc9     0.03               2  \n",
       "Doc10    0.28               3  \n",
       "Doc11    0.03               3  \n",
       "Doc12    0.03               6  \n",
       "Doc13    0.03               3  \n",
       "Doc14    0.22               3  "
      ]
     },
     "execution_count": 214,
     "metadata": {},
     "output_type": "execute_result"
    }
   ],
   "source": [
    "# =========================================================================================\n",
    "#                                  Dominant Topics\n",
    "# =========================================================================================\n",
    "df_document_topics = df_document_topic.head(15)\n",
    "df_document_topics"
   ]
  },
  {
   "cell_type": "code",
   "execution_count": 215,
   "metadata": {},
   "outputs": [],
   "source": [
    "# Styling\n",
    "def color_green(val):\n",
    " color = 'green' if val > .5 else 'black'\n",
    " return 'color: {col}'.format(col=color)\n",
    "\n",
    "def make_bold(val):\n",
    " weight = 700 if val > .5 else 400\n",
    " return 'font-weight: {weight}'.format(weight=weight)"
   ]
  },
  {
   "cell_type": "code",
   "execution_count": 128,
   "metadata": {},
   "outputs": [
    {
     "data": {
      "text/html": [
       "<style  type=\"text/css\" >\n",
       "    #T_54033c4e_7f58_11ea_8197_a683e71eba98row0_col0 {\n",
       "            color:  black;\n",
       "            font-weight:  400;\n",
       "        }    #T_54033c4e_7f58_11ea_8197_a683e71eba98row0_col1 {\n",
       "            color:  black;\n",
       "            font-weight:  400;\n",
       "        }    #T_54033c4e_7f58_11ea_8197_a683e71eba98row0_col2 {\n",
       "            color:  black;\n",
       "            font-weight:  400;\n",
       "        }    #T_54033c4e_7f58_11ea_8197_a683e71eba98row0_col3 {\n",
       "            color:  black;\n",
       "            font-weight:  400;\n",
       "        }    #T_54033c4e_7f58_11ea_8197_a683e71eba98row0_col4 {\n",
       "            color:  black;\n",
       "            font-weight:  400;\n",
       "        }    #T_54033c4e_7f58_11ea_8197_a683e71eba98row0_col5 {\n",
       "            color:  black;\n",
       "            font-weight:  400;\n",
       "        }    #T_54033c4e_7f58_11ea_8197_a683e71eba98row0_col6 {\n",
       "            color:  black;\n",
       "            font-weight:  400;\n",
       "        }    #T_54033c4e_7f58_11ea_8197_a683e71eba98row0_col7 {\n",
       "            color:  black;\n",
       "            font-weight:  400;\n",
       "        }    #T_54033c4e_7f58_11ea_8197_a683e71eba98row0_col8 {\n",
       "            color:  black;\n",
       "            font-weight:  400;\n",
       "        }    #T_54033c4e_7f58_11ea_8197_a683e71eba98row0_col9 {\n",
       "            color:  black;\n",
       "            font-weight:  400;\n",
       "        }    #T_54033c4e_7f58_11ea_8197_a683e71eba98row0_col10 {\n",
       "            color:  green;\n",
       "            font-weight:  700;\n",
       "        }    #T_54033c4e_7f58_11ea_8197_a683e71eba98row1_col0 {\n",
       "            color:  black;\n",
       "            font-weight:  400;\n",
       "        }    #T_54033c4e_7f58_11ea_8197_a683e71eba98row1_col1 {\n",
       "            color:  black;\n",
       "            font-weight:  400;\n",
       "        }    #T_54033c4e_7f58_11ea_8197_a683e71eba98row1_col2 {\n",
       "            color:  green;\n",
       "            font-weight:  700;\n",
       "        }    #T_54033c4e_7f58_11ea_8197_a683e71eba98row1_col3 {\n",
       "            color:  black;\n",
       "            font-weight:  400;\n",
       "        }    #T_54033c4e_7f58_11ea_8197_a683e71eba98row1_col4 {\n",
       "            color:  black;\n",
       "            font-weight:  400;\n",
       "        }    #T_54033c4e_7f58_11ea_8197_a683e71eba98row1_col5 {\n",
       "            color:  black;\n",
       "            font-weight:  400;\n",
       "        }    #T_54033c4e_7f58_11ea_8197_a683e71eba98row1_col6 {\n",
       "            color:  black;\n",
       "            font-weight:  400;\n",
       "        }    #T_54033c4e_7f58_11ea_8197_a683e71eba98row1_col7 {\n",
       "            color:  black;\n",
       "            font-weight:  400;\n",
       "        }    #T_54033c4e_7f58_11ea_8197_a683e71eba98row1_col8 {\n",
       "            color:  black;\n",
       "            font-weight:  400;\n",
       "        }    #T_54033c4e_7f58_11ea_8197_a683e71eba98row1_col9 {\n",
       "            color:  black;\n",
       "            font-weight:  400;\n",
       "        }    #T_54033c4e_7f58_11ea_8197_a683e71eba98row1_col10 {\n",
       "            color:  green;\n",
       "            font-weight:  700;\n",
       "        }    #T_54033c4e_7f58_11ea_8197_a683e71eba98row2_col0 {\n",
       "            color:  black;\n",
       "            font-weight:  400;\n",
       "        }    #T_54033c4e_7f58_11ea_8197_a683e71eba98row2_col1 {\n",
       "            color:  black;\n",
       "            font-weight:  400;\n",
       "        }    #T_54033c4e_7f58_11ea_8197_a683e71eba98row2_col2 {\n",
       "            color:  black;\n",
       "            font-weight:  400;\n",
       "        }    #T_54033c4e_7f58_11ea_8197_a683e71eba98row2_col3 {\n",
       "            color:  green;\n",
       "            font-weight:  700;\n",
       "        }    #T_54033c4e_7f58_11ea_8197_a683e71eba98row2_col4 {\n",
       "            color:  black;\n",
       "            font-weight:  400;\n",
       "        }    #T_54033c4e_7f58_11ea_8197_a683e71eba98row2_col5 {\n",
       "            color:  black;\n",
       "            font-weight:  400;\n",
       "        }    #T_54033c4e_7f58_11ea_8197_a683e71eba98row2_col6 {\n",
       "            color:  black;\n",
       "            font-weight:  400;\n",
       "        }    #T_54033c4e_7f58_11ea_8197_a683e71eba98row2_col7 {\n",
       "            color:  black;\n",
       "            font-weight:  400;\n",
       "        }    #T_54033c4e_7f58_11ea_8197_a683e71eba98row2_col8 {\n",
       "            color:  black;\n",
       "            font-weight:  400;\n",
       "        }    #T_54033c4e_7f58_11ea_8197_a683e71eba98row2_col9 {\n",
       "            color:  black;\n",
       "            font-weight:  400;\n",
       "        }    #T_54033c4e_7f58_11ea_8197_a683e71eba98row2_col10 {\n",
       "            color:  green;\n",
       "            font-weight:  700;\n",
       "        }    #T_54033c4e_7f58_11ea_8197_a683e71eba98row3_col0 {\n",
       "            color:  black;\n",
       "            font-weight:  400;\n",
       "        }    #T_54033c4e_7f58_11ea_8197_a683e71eba98row3_col1 {\n",
       "            color:  black;\n",
       "            font-weight:  400;\n",
       "        }    #T_54033c4e_7f58_11ea_8197_a683e71eba98row3_col2 {\n",
       "            color:  black;\n",
       "            font-weight:  400;\n",
       "        }    #T_54033c4e_7f58_11ea_8197_a683e71eba98row3_col3 {\n",
       "            color:  black;\n",
       "            font-weight:  400;\n",
       "        }    #T_54033c4e_7f58_11ea_8197_a683e71eba98row3_col4 {\n",
       "            color:  black;\n",
       "            font-weight:  400;\n",
       "        }    #T_54033c4e_7f58_11ea_8197_a683e71eba98row3_col5 {\n",
       "            color:  black;\n",
       "            font-weight:  400;\n",
       "        }    #T_54033c4e_7f58_11ea_8197_a683e71eba98row3_col6 {\n",
       "            color:  black;\n",
       "            font-weight:  400;\n",
       "        }    #T_54033c4e_7f58_11ea_8197_a683e71eba98row3_col7 {\n",
       "            color:  black;\n",
       "            font-weight:  400;\n",
       "        }    #T_54033c4e_7f58_11ea_8197_a683e71eba98row3_col8 {\n",
       "            color:  black;\n",
       "            font-weight:  400;\n",
       "        }    #T_54033c4e_7f58_11ea_8197_a683e71eba98row3_col9 {\n",
       "            color:  black;\n",
       "            font-weight:  400;\n",
       "        }    #T_54033c4e_7f58_11ea_8197_a683e71eba98row3_col10 {\n",
       "            color:  green;\n",
       "            font-weight:  700;\n",
       "        }    #T_54033c4e_7f58_11ea_8197_a683e71eba98row4_col0 {\n",
       "            color:  black;\n",
       "            font-weight:  400;\n",
       "        }    #T_54033c4e_7f58_11ea_8197_a683e71eba98row4_col1 {\n",
       "            color:  black;\n",
       "            font-weight:  400;\n",
       "        }    #T_54033c4e_7f58_11ea_8197_a683e71eba98row4_col2 {\n",
       "            color:  black;\n",
       "            font-weight:  400;\n",
       "        }    #T_54033c4e_7f58_11ea_8197_a683e71eba98row4_col3 {\n",
       "            color:  black;\n",
       "            font-weight:  400;\n",
       "        }    #T_54033c4e_7f58_11ea_8197_a683e71eba98row4_col4 {\n",
       "            color:  black;\n",
       "            font-weight:  400;\n",
       "        }    #T_54033c4e_7f58_11ea_8197_a683e71eba98row4_col5 {\n",
       "            color:  black;\n",
       "            font-weight:  400;\n",
       "        }    #T_54033c4e_7f58_11ea_8197_a683e71eba98row4_col6 {\n",
       "            color:  black;\n",
       "            font-weight:  400;\n",
       "        }    #T_54033c4e_7f58_11ea_8197_a683e71eba98row4_col7 {\n",
       "            color:  black;\n",
       "            font-weight:  400;\n",
       "        }    #T_54033c4e_7f58_11ea_8197_a683e71eba98row4_col8 {\n",
       "            color:  black;\n",
       "            font-weight:  400;\n",
       "        }    #T_54033c4e_7f58_11ea_8197_a683e71eba98row4_col9 {\n",
       "            color:  green;\n",
       "            font-weight:  700;\n",
       "        }    #T_54033c4e_7f58_11ea_8197_a683e71eba98row4_col10 {\n",
       "            color:  green;\n",
       "            font-weight:  700;\n",
       "        }    #T_54033c4e_7f58_11ea_8197_a683e71eba98row5_col0 {\n",
       "            color:  black;\n",
       "            font-weight:  400;\n",
       "        }    #T_54033c4e_7f58_11ea_8197_a683e71eba98row5_col1 {\n",
       "            color:  black;\n",
       "            font-weight:  400;\n",
       "        }    #T_54033c4e_7f58_11ea_8197_a683e71eba98row5_col2 {\n",
       "            color:  black;\n",
       "            font-weight:  400;\n",
       "        }    #T_54033c4e_7f58_11ea_8197_a683e71eba98row5_col3 {\n",
       "            color:  black;\n",
       "            font-weight:  400;\n",
       "        }    #T_54033c4e_7f58_11ea_8197_a683e71eba98row5_col4 {\n",
       "            color:  black;\n",
       "            font-weight:  400;\n",
       "        }    #T_54033c4e_7f58_11ea_8197_a683e71eba98row5_col5 {\n",
       "            color:  black;\n",
       "            font-weight:  400;\n",
       "        }    #T_54033c4e_7f58_11ea_8197_a683e71eba98row5_col6 {\n",
       "            color:  black;\n",
       "            font-weight:  400;\n",
       "        }    #T_54033c4e_7f58_11ea_8197_a683e71eba98row5_col7 {\n",
       "            color:  black;\n",
       "            font-weight:  400;\n",
       "        }    #T_54033c4e_7f58_11ea_8197_a683e71eba98row5_col8 {\n",
       "            color:  black;\n",
       "            font-weight:  400;\n",
       "        }    #T_54033c4e_7f58_11ea_8197_a683e71eba98row5_col9 {\n",
       "            color:  black;\n",
       "            font-weight:  400;\n",
       "        }    #T_54033c4e_7f58_11ea_8197_a683e71eba98row5_col10 {\n",
       "            color:  green;\n",
       "            font-weight:  700;\n",
       "        }    #T_54033c4e_7f58_11ea_8197_a683e71eba98row6_col0 {\n",
       "            color:  black;\n",
       "            font-weight:  400;\n",
       "        }    #T_54033c4e_7f58_11ea_8197_a683e71eba98row6_col1 {\n",
       "            color:  black;\n",
       "            font-weight:  400;\n",
       "        }    #T_54033c4e_7f58_11ea_8197_a683e71eba98row6_col2 {\n",
       "            color:  black;\n",
       "            font-weight:  400;\n",
       "        }    #T_54033c4e_7f58_11ea_8197_a683e71eba98row6_col3 {\n",
       "            color:  black;\n",
       "            font-weight:  400;\n",
       "        }    #T_54033c4e_7f58_11ea_8197_a683e71eba98row6_col4 {\n",
       "            color:  black;\n",
       "            font-weight:  400;\n",
       "        }    #T_54033c4e_7f58_11ea_8197_a683e71eba98row6_col5 {\n",
       "            color:  black;\n",
       "            font-weight:  400;\n",
       "        }    #T_54033c4e_7f58_11ea_8197_a683e71eba98row6_col6 {\n",
       "            color:  black;\n",
       "            font-weight:  400;\n",
       "        }    #T_54033c4e_7f58_11ea_8197_a683e71eba98row6_col7 {\n",
       "            color:  black;\n",
       "            font-weight:  400;\n",
       "        }    #T_54033c4e_7f58_11ea_8197_a683e71eba98row6_col8 {\n",
       "            color:  black;\n",
       "            font-weight:  400;\n",
       "        }    #T_54033c4e_7f58_11ea_8197_a683e71eba98row6_col9 {\n",
       "            color:  black;\n",
       "            font-weight:  400;\n",
       "        }    #T_54033c4e_7f58_11ea_8197_a683e71eba98row6_col10 {\n",
       "            color:  black;\n",
       "            font-weight:  400;\n",
       "        }    #T_54033c4e_7f58_11ea_8197_a683e71eba98row7_col0 {\n",
       "            color:  black;\n",
       "            font-weight:  400;\n",
       "        }    #T_54033c4e_7f58_11ea_8197_a683e71eba98row7_col1 {\n",
       "            color:  black;\n",
       "            font-weight:  400;\n",
       "        }    #T_54033c4e_7f58_11ea_8197_a683e71eba98row7_col2 {\n",
       "            color:  black;\n",
       "            font-weight:  400;\n",
       "        }    #T_54033c4e_7f58_11ea_8197_a683e71eba98row7_col3 {\n",
       "            color:  black;\n",
       "            font-weight:  400;\n",
       "        }    #T_54033c4e_7f58_11ea_8197_a683e71eba98row7_col4 {\n",
       "            color:  black;\n",
       "            font-weight:  400;\n",
       "        }    #T_54033c4e_7f58_11ea_8197_a683e71eba98row7_col5 {\n",
       "            color:  black;\n",
       "            font-weight:  400;\n",
       "        }    #T_54033c4e_7f58_11ea_8197_a683e71eba98row7_col6 {\n",
       "            color:  black;\n",
       "            font-weight:  400;\n",
       "        }    #T_54033c4e_7f58_11ea_8197_a683e71eba98row7_col7 {\n",
       "            color:  black;\n",
       "            font-weight:  400;\n",
       "        }    #T_54033c4e_7f58_11ea_8197_a683e71eba98row7_col8 {\n",
       "            color:  green;\n",
       "            font-weight:  700;\n",
       "        }    #T_54033c4e_7f58_11ea_8197_a683e71eba98row7_col9 {\n",
       "            color:  black;\n",
       "            font-weight:  400;\n",
       "        }    #T_54033c4e_7f58_11ea_8197_a683e71eba98row7_col10 {\n",
       "            color:  green;\n",
       "            font-weight:  700;\n",
       "        }    #T_54033c4e_7f58_11ea_8197_a683e71eba98row8_col0 {\n",
       "            color:  black;\n",
       "            font-weight:  400;\n",
       "        }    #T_54033c4e_7f58_11ea_8197_a683e71eba98row8_col1 {\n",
       "            color:  black;\n",
       "            font-weight:  400;\n",
       "        }    #T_54033c4e_7f58_11ea_8197_a683e71eba98row8_col2 {\n",
       "            color:  black;\n",
       "            font-weight:  400;\n",
       "        }    #T_54033c4e_7f58_11ea_8197_a683e71eba98row8_col3 {\n",
       "            color:  black;\n",
       "            font-weight:  400;\n",
       "        }    #T_54033c4e_7f58_11ea_8197_a683e71eba98row8_col4 {\n",
       "            color:  black;\n",
       "            font-weight:  400;\n",
       "        }    #T_54033c4e_7f58_11ea_8197_a683e71eba98row8_col5 {\n",
       "            color:  black;\n",
       "            font-weight:  400;\n",
       "        }    #T_54033c4e_7f58_11ea_8197_a683e71eba98row8_col6 {\n",
       "            color:  black;\n",
       "            font-weight:  400;\n",
       "        }    #T_54033c4e_7f58_11ea_8197_a683e71eba98row8_col7 {\n",
       "            color:  black;\n",
       "            font-weight:  400;\n",
       "        }    #T_54033c4e_7f58_11ea_8197_a683e71eba98row8_col8 {\n",
       "            color:  black;\n",
       "            font-weight:  400;\n",
       "        }    #T_54033c4e_7f58_11ea_8197_a683e71eba98row8_col9 {\n",
       "            color:  black;\n",
       "            font-weight:  400;\n",
       "        }    #T_54033c4e_7f58_11ea_8197_a683e71eba98row8_col10 {\n",
       "            color:  green;\n",
       "            font-weight:  700;\n",
       "        }    #T_54033c4e_7f58_11ea_8197_a683e71eba98row9_col0 {\n",
       "            color:  black;\n",
       "            font-weight:  400;\n",
       "        }    #T_54033c4e_7f58_11ea_8197_a683e71eba98row9_col1 {\n",
       "            color:  black;\n",
       "            font-weight:  400;\n",
       "        }    #T_54033c4e_7f58_11ea_8197_a683e71eba98row9_col2 {\n",
       "            color:  black;\n",
       "            font-weight:  400;\n",
       "        }    #T_54033c4e_7f58_11ea_8197_a683e71eba98row9_col3 {\n",
       "            color:  black;\n",
       "            font-weight:  400;\n",
       "        }    #T_54033c4e_7f58_11ea_8197_a683e71eba98row9_col4 {\n",
       "            color:  black;\n",
       "            font-weight:  400;\n",
       "        }    #T_54033c4e_7f58_11ea_8197_a683e71eba98row9_col5 {\n",
       "            color:  black;\n",
       "            font-weight:  400;\n",
       "        }    #T_54033c4e_7f58_11ea_8197_a683e71eba98row9_col6 {\n",
       "            color:  black;\n",
       "            font-weight:  400;\n",
       "        }    #T_54033c4e_7f58_11ea_8197_a683e71eba98row9_col7 {\n",
       "            color:  black;\n",
       "            font-weight:  400;\n",
       "        }    #T_54033c4e_7f58_11ea_8197_a683e71eba98row9_col8 {\n",
       "            color:  black;\n",
       "            font-weight:  400;\n",
       "        }    #T_54033c4e_7f58_11ea_8197_a683e71eba98row9_col9 {\n",
       "            color:  black;\n",
       "            font-weight:  400;\n",
       "        }    #T_54033c4e_7f58_11ea_8197_a683e71eba98row9_col10 {\n",
       "            color:  green;\n",
       "            font-weight:  700;\n",
       "        }    #T_54033c4e_7f58_11ea_8197_a683e71eba98row10_col0 {\n",
       "            color:  black;\n",
       "            font-weight:  400;\n",
       "        }    #T_54033c4e_7f58_11ea_8197_a683e71eba98row10_col1 {\n",
       "            color:  black;\n",
       "            font-weight:  400;\n",
       "        }    #T_54033c4e_7f58_11ea_8197_a683e71eba98row10_col2 {\n",
       "            color:  black;\n",
       "            font-weight:  400;\n",
       "        }    #T_54033c4e_7f58_11ea_8197_a683e71eba98row10_col3 {\n",
       "            color:  black;\n",
       "            font-weight:  400;\n",
       "        }    #T_54033c4e_7f58_11ea_8197_a683e71eba98row10_col4 {\n",
       "            color:  black;\n",
       "            font-weight:  400;\n",
       "        }    #T_54033c4e_7f58_11ea_8197_a683e71eba98row10_col5 {\n",
       "            color:  black;\n",
       "            font-weight:  400;\n",
       "        }    #T_54033c4e_7f58_11ea_8197_a683e71eba98row10_col6 {\n",
       "            color:  black;\n",
       "            font-weight:  400;\n",
       "        }    #T_54033c4e_7f58_11ea_8197_a683e71eba98row10_col7 {\n",
       "            color:  black;\n",
       "            font-weight:  400;\n",
       "        }    #T_54033c4e_7f58_11ea_8197_a683e71eba98row10_col8 {\n",
       "            color:  black;\n",
       "            font-weight:  400;\n",
       "        }    #T_54033c4e_7f58_11ea_8197_a683e71eba98row10_col9 {\n",
       "            color:  black;\n",
       "            font-weight:  400;\n",
       "        }    #T_54033c4e_7f58_11ea_8197_a683e71eba98row10_col10 {\n",
       "            color:  green;\n",
       "            font-weight:  700;\n",
       "        }    #T_54033c4e_7f58_11ea_8197_a683e71eba98row11_col0 {\n",
       "            color:  black;\n",
       "            font-weight:  400;\n",
       "        }    #T_54033c4e_7f58_11ea_8197_a683e71eba98row11_col1 {\n",
       "            color:  black;\n",
       "            font-weight:  400;\n",
       "        }    #T_54033c4e_7f58_11ea_8197_a683e71eba98row11_col2 {\n",
       "            color:  black;\n",
       "            font-weight:  400;\n",
       "        }    #T_54033c4e_7f58_11ea_8197_a683e71eba98row11_col3 {\n",
       "            color:  black;\n",
       "            font-weight:  400;\n",
       "        }    #T_54033c4e_7f58_11ea_8197_a683e71eba98row11_col4 {\n",
       "            color:  black;\n",
       "            font-weight:  400;\n",
       "        }    #T_54033c4e_7f58_11ea_8197_a683e71eba98row11_col5 {\n",
       "            color:  black;\n",
       "            font-weight:  400;\n",
       "        }    #T_54033c4e_7f58_11ea_8197_a683e71eba98row11_col6 {\n",
       "            color:  black;\n",
       "            font-weight:  400;\n",
       "        }    #T_54033c4e_7f58_11ea_8197_a683e71eba98row11_col7 {\n",
       "            color:  black;\n",
       "            font-weight:  400;\n",
       "        }    #T_54033c4e_7f58_11ea_8197_a683e71eba98row11_col8 {\n",
       "            color:  black;\n",
       "            font-weight:  400;\n",
       "        }    #T_54033c4e_7f58_11ea_8197_a683e71eba98row11_col9 {\n",
       "            color:  black;\n",
       "            font-weight:  400;\n",
       "        }    #T_54033c4e_7f58_11ea_8197_a683e71eba98row11_col10 {\n",
       "            color:  green;\n",
       "            font-weight:  700;\n",
       "        }    #T_54033c4e_7f58_11ea_8197_a683e71eba98row12_col0 {\n",
       "            color:  black;\n",
       "            font-weight:  400;\n",
       "        }    #T_54033c4e_7f58_11ea_8197_a683e71eba98row12_col1 {\n",
       "            color:  black;\n",
       "            font-weight:  400;\n",
       "        }    #T_54033c4e_7f58_11ea_8197_a683e71eba98row12_col2 {\n",
       "            color:  black;\n",
       "            font-weight:  400;\n",
       "        }    #T_54033c4e_7f58_11ea_8197_a683e71eba98row12_col3 {\n",
       "            color:  black;\n",
       "            font-weight:  400;\n",
       "        }    #T_54033c4e_7f58_11ea_8197_a683e71eba98row12_col4 {\n",
       "            color:  black;\n",
       "            font-weight:  400;\n",
       "        }    #T_54033c4e_7f58_11ea_8197_a683e71eba98row12_col5 {\n",
       "            color:  black;\n",
       "            font-weight:  400;\n",
       "        }    #T_54033c4e_7f58_11ea_8197_a683e71eba98row12_col6 {\n",
       "            color:  green;\n",
       "            font-weight:  700;\n",
       "        }    #T_54033c4e_7f58_11ea_8197_a683e71eba98row12_col7 {\n",
       "            color:  black;\n",
       "            font-weight:  400;\n",
       "        }    #T_54033c4e_7f58_11ea_8197_a683e71eba98row12_col8 {\n",
       "            color:  black;\n",
       "            font-weight:  400;\n",
       "        }    #T_54033c4e_7f58_11ea_8197_a683e71eba98row12_col9 {\n",
       "            color:  black;\n",
       "            font-weight:  400;\n",
       "        }    #T_54033c4e_7f58_11ea_8197_a683e71eba98row12_col10 {\n",
       "            color:  green;\n",
       "            font-weight:  700;\n",
       "        }    #T_54033c4e_7f58_11ea_8197_a683e71eba98row13_col0 {\n",
       "            color:  black;\n",
       "            font-weight:  400;\n",
       "        }    #T_54033c4e_7f58_11ea_8197_a683e71eba98row13_col1 {\n",
       "            color:  black;\n",
       "            font-weight:  400;\n",
       "        }    #T_54033c4e_7f58_11ea_8197_a683e71eba98row13_col2 {\n",
       "            color:  black;\n",
       "            font-weight:  400;\n",
       "        }    #T_54033c4e_7f58_11ea_8197_a683e71eba98row13_col3 {\n",
       "            color:  green;\n",
       "            font-weight:  700;\n",
       "        }    #T_54033c4e_7f58_11ea_8197_a683e71eba98row13_col4 {\n",
       "            color:  black;\n",
       "            font-weight:  400;\n",
       "        }    #T_54033c4e_7f58_11ea_8197_a683e71eba98row13_col5 {\n",
       "            color:  black;\n",
       "            font-weight:  400;\n",
       "        }    #T_54033c4e_7f58_11ea_8197_a683e71eba98row13_col6 {\n",
       "            color:  black;\n",
       "            font-weight:  400;\n",
       "        }    #T_54033c4e_7f58_11ea_8197_a683e71eba98row13_col7 {\n",
       "            color:  black;\n",
       "            font-weight:  400;\n",
       "        }    #T_54033c4e_7f58_11ea_8197_a683e71eba98row13_col8 {\n",
       "            color:  black;\n",
       "            font-weight:  400;\n",
       "        }    #T_54033c4e_7f58_11ea_8197_a683e71eba98row13_col9 {\n",
       "            color:  black;\n",
       "            font-weight:  400;\n",
       "        }    #T_54033c4e_7f58_11ea_8197_a683e71eba98row13_col10 {\n",
       "            color:  green;\n",
       "            font-weight:  700;\n",
       "        }    #T_54033c4e_7f58_11ea_8197_a683e71eba98row14_col0 {\n",
       "            color:  black;\n",
       "            font-weight:  400;\n",
       "        }    #T_54033c4e_7f58_11ea_8197_a683e71eba98row14_col1 {\n",
       "            color:  black;\n",
       "            font-weight:  400;\n",
       "        }    #T_54033c4e_7f58_11ea_8197_a683e71eba98row14_col2 {\n",
       "            color:  black;\n",
       "            font-weight:  400;\n",
       "        }    #T_54033c4e_7f58_11ea_8197_a683e71eba98row14_col3 {\n",
       "            color:  black;\n",
       "            font-weight:  400;\n",
       "        }    #T_54033c4e_7f58_11ea_8197_a683e71eba98row14_col4 {\n",
       "            color:  black;\n",
       "            font-weight:  400;\n",
       "        }    #T_54033c4e_7f58_11ea_8197_a683e71eba98row14_col5 {\n",
       "            color:  black;\n",
       "            font-weight:  400;\n",
       "        }    #T_54033c4e_7f58_11ea_8197_a683e71eba98row14_col6 {\n",
       "            color:  black;\n",
       "            font-weight:  400;\n",
       "        }    #T_54033c4e_7f58_11ea_8197_a683e71eba98row14_col7 {\n",
       "            color:  black;\n",
       "            font-weight:  400;\n",
       "        }    #T_54033c4e_7f58_11ea_8197_a683e71eba98row14_col8 {\n",
       "            color:  black;\n",
       "            font-weight:  400;\n",
       "        }    #T_54033c4e_7f58_11ea_8197_a683e71eba98row14_col9 {\n",
       "            color:  black;\n",
       "            font-weight:  400;\n",
       "        }    #T_54033c4e_7f58_11ea_8197_a683e71eba98row14_col10 {\n",
       "            color:  green;\n",
       "            font-weight:  700;\n",
       "        }</style><table id=\"T_54033c4e_7f58_11ea_8197_a683e71eba98\" ><thead>    <tr>        <th class=\"blank level0\" ></th>        <th class=\"col_heading level0 col0\" >Topic0</th>        <th class=\"col_heading level0 col1\" >Topic1</th>        <th class=\"col_heading level0 col2\" >Topic2</th>        <th class=\"col_heading level0 col3\" >Topic3</th>        <th class=\"col_heading level0 col4\" >Topic4</th>        <th class=\"col_heading level0 col5\" >Topic5</th>        <th class=\"col_heading level0 col6\" >Topic6</th>        <th class=\"col_heading level0 col7\" >Topic7</th>        <th class=\"col_heading level0 col8\" >Topic8</th>        <th class=\"col_heading level0 col9\" >Topic9</th>        <th class=\"col_heading level0 col10\" >dominant_topic</th>    </tr></thead><tbody>\n",
       "                <tr>\n",
       "                        <th id=\"T_54033c4e_7f58_11ea_8197_a683e71eba98level0_row0\" class=\"row_heading level0 row0\" >Doc0</th>\n",
       "                        <td id=\"T_54033c4e_7f58_11ea_8197_a683e71eba98row0_col0\" class=\"data row0 col0\" >0.03</td>\n",
       "                        <td id=\"T_54033c4e_7f58_11ea_8197_a683e71eba98row0_col1\" class=\"data row0 col1\" >0.03</td>\n",
       "                        <td id=\"T_54033c4e_7f58_11ea_8197_a683e71eba98row0_col2\" class=\"data row0 col2\" >0.03</td>\n",
       "                        <td id=\"T_54033c4e_7f58_11ea_8197_a683e71eba98row0_col3\" class=\"data row0 col3\" >0.03</td>\n",
       "                        <td id=\"T_54033c4e_7f58_11ea_8197_a683e71eba98row0_col4\" class=\"data row0 col4\" >0.03</td>\n",
       "                        <td id=\"T_54033c4e_7f58_11ea_8197_a683e71eba98row0_col5\" class=\"data row0 col5\" >0.03</td>\n",
       "                        <td id=\"T_54033c4e_7f58_11ea_8197_a683e71eba98row0_col6\" class=\"data row0 col6\" >0.3</td>\n",
       "                        <td id=\"T_54033c4e_7f58_11ea_8197_a683e71eba98row0_col7\" class=\"data row0 col7\" >0.03</td>\n",
       "                        <td id=\"T_54033c4e_7f58_11ea_8197_a683e71eba98row0_col8\" class=\"data row0 col8\" >0.03</td>\n",
       "                        <td id=\"T_54033c4e_7f58_11ea_8197_a683e71eba98row0_col9\" class=\"data row0 col9\" >0.5</td>\n",
       "                        <td id=\"T_54033c4e_7f58_11ea_8197_a683e71eba98row0_col10\" class=\"data row0 col10\" >9</td>\n",
       "            </tr>\n",
       "            <tr>\n",
       "                        <th id=\"T_54033c4e_7f58_11ea_8197_a683e71eba98level0_row1\" class=\"row_heading level0 row1\" >Doc1</th>\n",
       "                        <td id=\"T_54033c4e_7f58_11ea_8197_a683e71eba98row1_col0\" class=\"data row1 col0\" >0.02</td>\n",
       "                        <td id=\"T_54033c4e_7f58_11ea_8197_a683e71eba98row1_col1\" class=\"data row1 col1\" >0.22</td>\n",
       "                        <td id=\"T_54033c4e_7f58_11ea_8197_a683e71eba98row1_col2\" class=\"data row1 col2\" >0.62</td>\n",
       "                        <td id=\"T_54033c4e_7f58_11ea_8197_a683e71eba98row1_col3\" class=\"data row1 col3\" >0.02</td>\n",
       "                        <td id=\"T_54033c4e_7f58_11ea_8197_a683e71eba98row1_col4\" class=\"data row1 col4\" >0.02</td>\n",
       "                        <td id=\"T_54033c4e_7f58_11ea_8197_a683e71eba98row1_col5\" class=\"data row1 col5\" >0.02</td>\n",
       "                        <td id=\"T_54033c4e_7f58_11ea_8197_a683e71eba98row1_col6\" class=\"data row1 col6\" >0.02</td>\n",
       "                        <td id=\"T_54033c4e_7f58_11ea_8197_a683e71eba98row1_col7\" class=\"data row1 col7\" >0.02</td>\n",
       "                        <td id=\"T_54033c4e_7f58_11ea_8197_a683e71eba98row1_col8\" class=\"data row1 col8\" >0.02</td>\n",
       "                        <td id=\"T_54033c4e_7f58_11ea_8197_a683e71eba98row1_col9\" class=\"data row1 col9\" >0.02</td>\n",
       "                        <td id=\"T_54033c4e_7f58_11ea_8197_a683e71eba98row1_col10\" class=\"data row1 col10\" >2</td>\n",
       "            </tr>\n",
       "            <tr>\n",
       "                        <th id=\"T_54033c4e_7f58_11ea_8197_a683e71eba98level0_row2\" class=\"row_heading level0 row2\" >Doc2</th>\n",
       "                        <td id=\"T_54033c4e_7f58_11ea_8197_a683e71eba98row2_col0\" class=\"data row2 col0\" >0.03</td>\n",
       "                        <td id=\"T_54033c4e_7f58_11ea_8197_a683e71eba98row2_col1\" class=\"data row2 col1\" >0.03</td>\n",
       "                        <td id=\"T_54033c4e_7f58_11ea_8197_a683e71eba98row2_col2\" class=\"data row2 col2\" >0.03</td>\n",
       "                        <td id=\"T_54033c4e_7f58_11ea_8197_a683e71eba98row2_col3\" class=\"data row2 col3\" >0.7</td>\n",
       "                        <td id=\"T_54033c4e_7f58_11ea_8197_a683e71eba98row2_col4\" class=\"data row2 col4\" >0.03</td>\n",
       "                        <td id=\"T_54033c4e_7f58_11ea_8197_a683e71eba98row2_col5\" class=\"data row2 col5\" >0.03</td>\n",
       "                        <td id=\"T_54033c4e_7f58_11ea_8197_a683e71eba98row2_col6\" class=\"data row2 col6\" >0.03</td>\n",
       "                        <td id=\"T_54033c4e_7f58_11ea_8197_a683e71eba98row2_col7\" class=\"data row2 col7\" >0.03</td>\n",
       "                        <td id=\"T_54033c4e_7f58_11ea_8197_a683e71eba98row2_col8\" class=\"data row2 col8\" >0.03</td>\n",
       "                        <td id=\"T_54033c4e_7f58_11ea_8197_a683e71eba98row2_col9\" class=\"data row2 col9\" >0.03</td>\n",
       "                        <td id=\"T_54033c4e_7f58_11ea_8197_a683e71eba98row2_col10\" class=\"data row2 col10\" >3</td>\n",
       "            </tr>\n",
       "            <tr>\n",
       "                        <th id=\"T_54033c4e_7f58_11ea_8197_a683e71eba98level0_row3\" class=\"row_heading level0 row3\" >Doc3</th>\n",
       "                        <td id=\"T_54033c4e_7f58_11ea_8197_a683e71eba98row3_col0\" class=\"data row3 col0\" >0.02</td>\n",
       "                        <td id=\"T_54033c4e_7f58_11ea_8197_a683e71eba98row3_col1\" class=\"data row3 col1\" >0.02</td>\n",
       "                        <td id=\"T_54033c4e_7f58_11ea_8197_a683e71eba98row3_col2\" class=\"data row3 col2\" >0.02</td>\n",
       "                        <td id=\"T_54033c4e_7f58_11ea_8197_a683e71eba98row3_col3\" class=\"data row3 col3\" >0.02</td>\n",
       "                        <td id=\"T_54033c4e_7f58_11ea_8197_a683e71eba98row3_col4\" class=\"data row3 col4\" >0.42</td>\n",
       "                        <td id=\"T_54033c4e_7f58_11ea_8197_a683e71eba98row3_col5\" class=\"data row3 col5\" >0.22</td>\n",
       "                        <td id=\"T_54033c4e_7f58_11ea_8197_a683e71eba98row3_col6\" class=\"data row3 col6\" >0.22</td>\n",
       "                        <td id=\"T_54033c4e_7f58_11ea_8197_a683e71eba98row3_col7\" class=\"data row3 col7\" >0.02</td>\n",
       "                        <td id=\"T_54033c4e_7f58_11ea_8197_a683e71eba98row3_col8\" class=\"data row3 col8\" >0.02</td>\n",
       "                        <td id=\"T_54033c4e_7f58_11ea_8197_a683e71eba98row3_col9\" class=\"data row3 col9\" >0.02</td>\n",
       "                        <td id=\"T_54033c4e_7f58_11ea_8197_a683e71eba98row3_col10\" class=\"data row3 col10\" >4</td>\n",
       "            </tr>\n",
       "            <tr>\n",
       "                        <th id=\"T_54033c4e_7f58_11ea_8197_a683e71eba98level0_row4\" class=\"row_heading level0 row4\" >Doc4</th>\n",
       "                        <td id=\"T_54033c4e_7f58_11ea_8197_a683e71eba98row4_col0\" class=\"data row4 col0\" >0.05</td>\n",
       "                        <td id=\"T_54033c4e_7f58_11ea_8197_a683e71eba98row4_col1\" class=\"data row4 col1\" >0.05</td>\n",
       "                        <td id=\"T_54033c4e_7f58_11ea_8197_a683e71eba98row4_col2\" class=\"data row4 col2\" >0.05</td>\n",
       "                        <td id=\"T_54033c4e_7f58_11ea_8197_a683e71eba98row4_col3\" class=\"data row4 col3\" >0.05</td>\n",
       "                        <td id=\"T_54033c4e_7f58_11ea_8197_a683e71eba98row4_col4\" class=\"data row4 col4\" >0.05</td>\n",
       "                        <td id=\"T_54033c4e_7f58_11ea_8197_a683e71eba98row4_col5\" class=\"data row4 col5\" >0.05</td>\n",
       "                        <td id=\"T_54033c4e_7f58_11ea_8197_a683e71eba98row4_col6\" class=\"data row4 col6\" >0.05</td>\n",
       "                        <td id=\"T_54033c4e_7f58_11ea_8197_a683e71eba98row4_col7\" class=\"data row4 col7\" >0.05</td>\n",
       "                        <td id=\"T_54033c4e_7f58_11ea_8197_a683e71eba98row4_col8\" class=\"data row4 col8\" >0.05</td>\n",
       "                        <td id=\"T_54033c4e_7f58_11ea_8197_a683e71eba98row4_col9\" class=\"data row4 col9\" >0.55</td>\n",
       "                        <td id=\"T_54033c4e_7f58_11ea_8197_a683e71eba98row4_col10\" class=\"data row4 col10\" >9</td>\n",
       "            </tr>\n",
       "            <tr>\n",
       "                        <th id=\"T_54033c4e_7f58_11ea_8197_a683e71eba98level0_row5\" class=\"row_heading level0 row5\" >Doc5</th>\n",
       "                        <td id=\"T_54033c4e_7f58_11ea_8197_a683e71eba98row5_col0\" class=\"data row5 col0\" >0.02</td>\n",
       "                        <td id=\"T_54033c4e_7f58_11ea_8197_a683e71eba98row5_col1\" class=\"data row5 col1\" >0.42</td>\n",
       "                        <td id=\"T_54033c4e_7f58_11ea_8197_a683e71eba98row5_col2\" class=\"data row5 col2\" >0.02</td>\n",
       "                        <td id=\"T_54033c4e_7f58_11ea_8197_a683e71eba98row5_col3\" class=\"data row5 col3\" >0.42</td>\n",
       "                        <td id=\"T_54033c4e_7f58_11ea_8197_a683e71eba98row5_col4\" class=\"data row5 col4\" >0.02</td>\n",
       "                        <td id=\"T_54033c4e_7f58_11ea_8197_a683e71eba98row5_col5\" class=\"data row5 col5\" >0.02</td>\n",
       "                        <td id=\"T_54033c4e_7f58_11ea_8197_a683e71eba98row5_col6\" class=\"data row5 col6\" >0.02</td>\n",
       "                        <td id=\"T_54033c4e_7f58_11ea_8197_a683e71eba98row5_col7\" class=\"data row5 col7\" >0.02</td>\n",
       "                        <td id=\"T_54033c4e_7f58_11ea_8197_a683e71eba98row5_col8\" class=\"data row5 col8\" >0.02</td>\n",
       "                        <td id=\"T_54033c4e_7f58_11ea_8197_a683e71eba98row5_col9\" class=\"data row5 col9\" >0.02</td>\n",
       "                        <td id=\"T_54033c4e_7f58_11ea_8197_a683e71eba98row5_col10\" class=\"data row5 col10\" >1</td>\n",
       "            </tr>\n",
       "            <tr>\n",
       "                        <th id=\"T_54033c4e_7f58_11ea_8197_a683e71eba98level0_row6\" class=\"row_heading level0 row6\" >Doc6</th>\n",
       "                        <td id=\"T_54033c4e_7f58_11ea_8197_a683e71eba98row6_col0\" class=\"data row6 col0\" >0.42</td>\n",
       "                        <td id=\"T_54033c4e_7f58_11ea_8197_a683e71eba98row6_col1\" class=\"data row6 col1\" >0.02</td>\n",
       "                        <td id=\"T_54033c4e_7f58_11ea_8197_a683e71eba98row6_col2\" class=\"data row6 col2\" >0.02</td>\n",
       "                        <td id=\"T_54033c4e_7f58_11ea_8197_a683e71eba98row6_col3\" class=\"data row6 col3\" >0.25</td>\n",
       "                        <td id=\"T_54033c4e_7f58_11ea_8197_a683e71eba98row6_col4\" class=\"data row6 col4\" >0.02</td>\n",
       "                        <td id=\"T_54033c4e_7f58_11ea_8197_a683e71eba98row6_col5\" class=\"data row6 col5\" >0.02</td>\n",
       "                        <td id=\"T_54033c4e_7f58_11ea_8197_a683e71eba98row6_col6\" class=\"data row6 col6\" >0.02</td>\n",
       "                        <td id=\"T_54033c4e_7f58_11ea_8197_a683e71eba98row6_col7\" class=\"data row6 col7\" >0.02</td>\n",
       "                        <td id=\"T_54033c4e_7f58_11ea_8197_a683e71eba98row6_col8\" class=\"data row6 col8\" >0.19</td>\n",
       "                        <td id=\"T_54033c4e_7f58_11ea_8197_a683e71eba98row6_col9\" class=\"data row6 col9\" >0.02</td>\n",
       "                        <td id=\"T_54033c4e_7f58_11ea_8197_a683e71eba98row6_col10\" class=\"data row6 col10\" >0</td>\n",
       "            </tr>\n",
       "            <tr>\n",
       "                        <th id=\"T_54033c4e_7f58_11ea_8197_a683e71eba98level0_row7\" class=\"row_heading level0 row7\" >Doc7</th>\n",
       "                        <td id=\"T_54033c4e_7f58_11ea_8197_a683e71eba98row7_col0\" class=\"data row7 col0\" >0.02</td>\n",
       "                        <td id=\"T_54033c4e_7f58_11ea_8197_a683e71eba98row7_col1\" class=\"data row7 col1\" >0.26</td>\n",
       "                        <td id=\"T_54033c4e_7f58_11ea_8197_a683e71eba98row7_col2\" class=\"data row7 col2\" >0.02</td>\n",
       "                        <td id=\"T_54033c4e_7f58_11ea_8197_a683e71eba98row7_col3\" class=\"data row7 col3\" >0.02</td>\n",
       "                        <td id=\"T_54033c4e_7f58_11ea_8197_a683e71eba98row7_col4\" class=\"data row7 col4\" >0.02</td>\n",
       "                        <td id=\"T_54033c4e_7f58_11ea_8197_a683e71eba98row7_col5\" class=\"data row7 col5\" >0.02</td>\n",
       "                        <td id=\"T_54033c4e_7f58_11ea_8197_a683e71eba98row7_col6\" class=\"data row7 col6\" >0.02</td>\n",
       "                        <td id=\"T_54033c4e_7f58_11ea_8197_a683e71eba98row7_col7\" class=\"data row7 col7\" >0.02</td>\n",
       "                        <td id=\"T_54033c4e_7f58_11ea_8197_a683e71eba98row7_col8\" class=\"data row7 col8\" >0.58</td>\n",
       "                        <td id=\"T_54033c4e_7f58_11ea_8197_a683e71eba98row7_col9\" class=\"data row7 col9\" >0.02</td>\n",
       "                        <td id=\"T_54033c4e_7f58_11ea_8197_a683e71eba98row7_col10\" class=\"data row7 col10\" >8</td>\n",
       "            </tr>\n",
       "            <tr>\n",
       "                        <th id=\"T_54033c4e_7f58_11ea_8197_a683e71eba98level0_row8\" class=\"row_heading level0 row8\" >Doc8</th>\n",
       "                        <td id=\"T_54033c4e_7f58_11ea_8197_a683e71eba98row8_col0\" class=\"data row8 col0\" >0.02</td>\n",
       "                        <td id=\"T_54033c4e_7f58_11ea_8197_a683e71eba98row8_col1\" class=\"data row8 col1\" >0.02</td>\n",
       "                        <td id=\"T_54033c4e_7f58_11ea_8197_a683e71eba98row8_col2\" class=\"data row8 col2\" >0.02</td>\n",
       "                        <td id=\"T_54033c4e_7f58_11ea_8197_a683e71eba98row8_col3\" class=\"data row8 col3\" >0.33</td>\n",
       "                        <td id=\"T_54033c4e_7f58_11ea_8197_a683e71eba98row8_col4\" class=\"data row8 col4\" >0.02</td>\n",
       "                        <td id=\"T_54033c4e_7f58_11ea_8197_a683e71eba98row8_col5\" class=\"data row8 col5\" >0.2</td>\n",
       "                        <td id=\"T_54033c4e_7f58_11ea_8197_a683e71eba98row8_col6\" class=\"data row8 col6\" >0.02</td>\n",
       "                        <td id=\"T_54033c4e_7f58_11ea_8197_a683e71eba98row8_col7\" class=\"data row8 col7\" >0.02</td>\n",
       "                        <td id=\"T_54033c4e_7f58_11ea_8197_a683e71eba98row8_col8\" class=\"data row8 col8\" >0.18</td>\n",
       "                        <td id=\"T_54033c4e_7f58_11ea_8197_a683e71eba98row8_col9\" class=\"data row8 col9\" >0.18</td>\n",
       "                        <td id=\"T_54033c4e_7f58_11ea_8197_a683e71eba98row8_col10\" class=\"data row8 col10\" >3</td>\n",
       "            </tr>\n",
       "            <tr>\n",
       "                        <th id=\"T_54033c4e_7f58_11ea_8197_a683e71eba98level0_row9\" class=\"row_heading level0 row9\" >Doc9</th>\n",
       "                        <td id=\"T_54033c4e_7f58_11ea_8197_a683e71eba98row9_col0\" class=\"data row9 col0\" >0.03</td>\n",
       "                        <td id=\"T_54033c4e_7f58_11ea_8197_a683e71eba98row9_col1\" class=\"data row9 col1\" >0.03</td>\n",
       "                        <td id=\"T_54033c4e_7f58_11ea_8197_a683e71eba98row9_col2\" class=\"data row9 col2\" >0.37</td>\n",
       "                        <td id=\"T_54033c4e_7f58_11ea_8197_a683e71eba98row9_col3\" class=\"data row9 col3\" >0.03</td>\n",
       "                        <td id=\"T_54033c4e_7f58_11ea_8197_a683e71eba98row9_col4\" class=\"data row9 col4\" >0.37</td>\n",
       "                        <td id=\"T_54033c4e_7f58_11ea_8197_a683e71eba98row9_col5\" class=\"data row9 col5\" >0.03</td>\n",
       "                        <td id=\"T_54033c4e_7f58_11ea_8197_a683e71eba98row9_col6\" class=\"data row9 col6\" >0.03</td>\n",
       "                        <td id=\"T_54033c4e_7f58_11ea_8197_a683e71eba98row9_col7\" class=\"data row9 col7\" >0.03</td>\n",
       "                        <td id=\"T_54033c4e_7f58_11ea_8197_a683e71eba98row9_col8\" class=\"data row9 col8\" >0.03</td>\n",
       "                        <td id=\"T_54033c4e_7f58_11ea_8197_a683e71eba98row9_col9\" class=\"data row9 col9\" >0.03</td>\n",
       "                        <td id=\"T_54033c4e_7f58_11ea_8197_a683e71eba98row9_col10\" class=\"data row9 col10\" >2</td>\n",
       "            </tr>\n",
       "            <tr>\n",
       "                        <th id=\"T_54033c4e_7f58_11ea_8197_a683e71eba98level0_row10\" class=\"row_heading level0 row10\" >Doc10</th>\n",
       "                        <td id=\"T_54033c4e_7f58_11ea_8197_a683e71eba98row10_col0\" class=\"data row10 col0\" >0.03</td>\n",
       "                        <td id=\"T_54033c4e_7f58_11ea_8197_a683e71eba98row10_col1\" class=\"data row10 col1\" >0.03</td>\n",
       "                        <td id=\"T_54033c4e_7f58_11ea_8197_a683e71eba98row10_col2\" class=\"data row10 col2\" >0.03</td>\n",
       "                        <td id=\"T_54033c4e_7f58_11ea_8197_a683e71eba98row10_col3\" class=\"data row10 col3\" >0.28</td>\n",
       "                        <td id=\"T_54033c4e_7f58_11ea_8197_a683e71eba98row10_col4\" class=\"data row10 col4\" >0.03</td>\n",
       "                        <td id=\"T_54033c4e_7f58_11ea_8197_a683e71eba98row10_col5\" class=\"data row10 col5\" >0.27</td>\n",
       "                        <td id=\"T_54033c4e_7f58_11ea_8197_a683e71eba98row10_col6\" class=\"data row10 col6\" >0.03</td>\n",
       "                        <td id=\"T_54033c4e_7f58_11ea_8197_a683e71eba98row10_col7\" class=\"data row10 col7\" >0.03</td>\n",
       "                        <td id=\"T_54033c4e_7f58_11ea_8197_a683e71eba98row10_col8\" class=\"data row10 col8\" >0.03</td>\n",
       "                        <td id=\"T_54033c4e_7f58_11ea_8197_a683e71eba98row10_col9\" class=\"data row10 col9\" >0.28</td>\n",
       "                        <td id=\"T_54033c4e_7f58_11ea_8197_a683e71eba98row10_col10\" class=\"data row10 col10\" >3</td>\n",
       "            </tr>\n",
       "            <tr>\n",
       "                        <th id=\"T_54033c4e_7f58_11ea_8197_a683e71eba98level0_row11\" class=\"row_heading level0 row11\" >Doc11</th>\n",
       "                        <td id=\"T_54033c4e_7f58_11ea_8197_a683e71eba98row11_col0\" class=\"data row11 col0\" >0.03</td>\n",
       "                        <td id=\"T_54033c4e_7f58_11ea_8197_a683e71eba98row11_col1\" class=\"data row11 col1\" >0.03</td>\n",
       "                        <td id=\"T_54033c4e_7f58_11ea_8197_a683e71eba98row11_col2\" class=\"data row11 col2\" >0.03</td>\n",
       "                        <td id=\"T_54033c4e_7f58_11ea_8197_a683e71eba98row11_col3\" class=\"data row11 col3\" >0.37</td>\n",
       "                        <td id=\"T_54033c4e_7f58_11ea_8197_a683e71eba98row11_col4\" class=\"data row11 col4\" >0.03</td>\n",
       "                        <td id=\"T_54033c4e_7f58_11ea_8197_a683e71eba98row11_col5\" class=\"data row11 col5\" >0.03</td>\n",
       "                        <td id=\"T_54033c4e_7f58_11ea_8197_a683e71eba98row11_col6\" class=\"data row11 col6\" >0.37</td>\n",
       "                        <td id=\"T_54033c4e_7f58_11ea_8197_a683e71eba98row11_col7\" class=\"data row11 col7\" >0.03</td>\n",
       "                        <td id=\"T_54033c4e_7f58_11ea_8197_a683e71eba98row11_col8\" class=\"data row11 col8\" >0.03</td>\n",
       "                        <td id=\"T_54033c4e_7f58_11ea_8197_a683e71eba98row11_col9\" class=\"data row11 col9\" >0.03</td>\n",
       "                        <td id=\"T_54033c4e_7f58_11ea_8197_a683e71eba98row11_col10\" class=\"data row11 col10\" >3</td>\n",
       "            </tr>\n",
       "            <tr>\n",
       "                        <th id=\"T_54033c4e_7f58_11ea_8197_a683e71eba98level0_row12\" class=\"row_heading level0 row12\" >Doc12</th>\n",
       "                        <td id=\"T_54033c4e_7f58_11ea_8197_a683e71eba98row12_col0\" class=\"data row12 col0\" >0.03</td>\n",
       "                        <td id=\"T_54033c4e_7f58_11ea_8197_a683e71eba98row12_col1\" class=\"data row12 col1\" >0.03</td>\n",
       "                        <td id=\"T_54033c4e_7f58_11ea_8197_a683e71eba98row12_col2\" class=\"data row12 col2\" >0.03</td>\n",
       "                        <td id=\"T_54033c4e_7f58_11ea_8197_a683e71eba98row12_col3\" class=\"data row12 col3\" >0.03</td>\n",
       "                        <td id=\"T_54033c4e_7f58_11ea_8197_a683e71eba98row12_col4\" class=\"data row12 col4\" >0.03</td>\n",
       "                        <td id=\"T_54033c4e_7f58_11ea_8197_a683e71eba98row12_col5\" class=\"data row12 col5\" >0.03</td>\n",
       "                        <td id=\"T_54033c4e_7f58_11ea_8197_a683e71eba98row12_col6\" class=\"data row12 col6\" >0.77</td>\n",
       "                        <td id=\"T_54033c4e_7f58_11ea_8197_a683e71eba98row12_col7\" class=\"data row12 col7\" >0.03</td>\n",
       "                        <td id=\"T_54033c4e_7f58_11ea_8197_a683e71eba98row12_col8\" class=\"data row12 col8\" >0.03</td>\n",
       "                        <td id=\"T_54033c4e_7f58_11ea_8197_a683e71eba98row12_col9\" class=\"data row12 col9\" >0.03</td>\n",
       "                        <td id=\"T_54033c4e_7f58_11ea_8197_a683e71eba98row12_col10\" class=\"data row12 col10\" >6</td>\n",
       "            </tr>\n",
       "            <tr>\n",
       "                        <th id=\"T_54033c4e_7f58_11ea_8197_a683e71eba98level0_row13\" class=\"row_heading level0 row13\" >Doc13</th>\n",
       "                        <td id=\"T_54033c4e_7f58_11ea_8197_a683e71eba98row13_col0\" class=\"data row13 col0\" >0.03</td>\n",
       "                        <td id=\"T_54033c4e_7f58_11ea_8197_a683e71eba98row13_col1\" class=\"data row13 col1\" >0.03</td>\n",
       "                        <td id=\"T_54033c4e_7f58_11ea_8197_a683e71eba98row13_col2\" class=\"data row13 col2\" >0.03</td>\n",
       "                        <td id=\"T_54033c4e_7f58_11ea_8197_a683e71eba98row13_col3\" class=\"data row13 col3\" >0.77</td>\n",
       "                        <td id=\"T_54033c4e_7f58_11ea_8197_a683e71eba98row13_col4\" class=\"data row13 col4\" >0.03</td>\n",
       "                        <td id=\"T_54033c4e_7f58_11ea_8197_a683e71eba98row13_col5\" class=\"data row13 col5\" >0.03</td>\n",
       "                        <td id=\"T_54033c4e_7f58_11ea_8197_a683e71eba98row13_col6\" class=\"data row13 col6\" >0.03</td>\n",
       "                        <td id=\"T_54033c4e_7f58_11ea_8197_a683e71eba98row13_col7\" class=\"data row13 col7\" >0.03</td>\n",
       "                        <td id=\"T_54033c4e_7f58_11ea_8197_a683e71eba98row13_col8\" class=\"data row13 col8\" >0.03</td>\n",
       "                        <td id=\"T_54033c4e_7f58_11ea_8197_a683e71eba98row13_col9\" class=\"data row13 col9\" >0.03</td>\n",
       "                        <td id=\"T_54033c4e_7f58_11ea_8197_a683e71eba98row13_col10\" class=\"data row13 col10\" >3</td>\n",
       "            </tr>\n",
       "            <tr>\n",
       "                        <th id=\"T_54033c4e_7f58_11ea_8197_a683e71eba98level0_row14\" class=\"row_heading level0 row14\" >Doc14</th>\n",
       "                        <td id=\"T_54033c4e_7f58_11ea_8197_a683e71eba98row14_col0\" class=\"data row14 col0\" >0.02</td>\n",
       "                        <td id=\"T_54033c4e_7f58_11ea_8197_a683e71eba98row14_col1\" class=\"data row14 col1\" >0.02</td>\n",
       "                        <td id=\"T_54033c4e_7f58_11ea_8197_a683e71eba98row14_col2\" class=\"data row14 col2\" >0.02</td>\n",
       "                        <td id=\"T_54033c4e_7f58_11ea_8197_a683e71eba98row14_col3\" class=\"data row14 col3\" >0.38</td>\n",
       "                        <td id=\"T_54033c4e_7f58_11ea_8197_a683e71eba98row14_col4\" class=\"data row14 col4\" >0.26</td>\n",
       "                        <td id=\"T_54033c4e_7f58_11ea_8197_a683e71eba98row14_col5\" class=\"data row14 col5\" >0.02</td>\n",
       "                        <td id=\"T_54033c4e_7f58_11ea_8197_a683e71eba98row14_col6\" class=\"data row14 col6\" >0.02</td>\n",
       "                        <td id=\"T_54033c4e_7f58_11ea_8197_a683e71eba98row14_col7\" class=\"data row14 col7\" >0.02</td>\n",
       "                        <td id=\"T_54033c4e_7f58_11ea_8197_a683e71eba98row14_col8\" class=\"data row14 col8\" >0.02</td>\n",
       "                        <td id=\"T_54033c4e_7f58_11ea_8197_a683e71eba98row14_col9\" class=\"data row14 col9\" >0.22</td>\n",
       "                        <td id=\"T_54033c4e_7f58_11ea_8197_a683e71eba98row14_col10\" class=\"data row14 col10\" >3</td>\n",
       "            </tr>\n",
       "    </tbody></table>"
      ],
      "text/plain": [
       "<pandas.io.formats.style.Styler at 0x129998410>"
      ]
     },
     "execution_count": 128,
     "metadata": {},
     "output_type": "execute_result"
    }
   ],
   "source": [
    "# Apply Style\n",
    "df_document_topics = df_document_topic.head(15).style.applymap(color_green).applymap(make_bold)\n",
    "df_document_topics"
   ]
  },
  {
   "cell_type": "code",
   "execution_count": 217,
   "metadata": {},
   "outputs": [],
   "source": [
    "# df_topic_keywords.iloc[np.argmax(topic_probability_scores), 1:9].values.tolist()"
   ]
  },
  {
   "cell_type": "code",
   "execution_count": 58,
   "metadata": {},
   "outputs": [
    {
     "data": {
      "text/plain": [
       "['000',\n",
       " '10',\n",
       " '100',\n",
       " '20',\n",
       " '50',\n",
       " 'abuse',\n",
       " 'afghanistan',\n",
       " 'al',\n",
       " 'american',\n",
       " 'amp',\n",
       " 'anti',\n",
       " 'arabia',\n",
       " 'army',\n",
       " 'arrest',\n",
       " 'arrested',\n",
       " 'assange',\n",
       " 'attack',\n",
       " 'australia',\n",
       " 'australian',\n",
       " 'away',\n",
       " 'ban',\n",
       " 'bank',\n",
       " 'banned',\n",
       " 'bans',\n",
       " 'bbc',\n",
       " 'big',\n",
       " 'biggest',\n",
       " 'billion',\n",
       " 'brazil',\n",
       " 'britain',\n",
       " 'british',\n",
       " 'calls',\n",
       " 'canada',\n",
       " 'canadian',\n",
       " 'change',\n",
       " 'child',\n",
       " 'children',\n",
       " 'china',\n",
       " 'chinese',\n",
       " 'church',\n",
       " 'city',\n",
       " 'company',\n",
       " 'countries',\n",
       " 'country',\n",
       " 'court',\n",
       " 'day',\n",
       " 'days',\n",
       " 'dead',\n",
       " 'death',\n",
       " 'documents',\n",
       " 'drug',\n",
       " 'drugs',\n",
       " 'egypt',\n",
       " 'end',\n",
       " 'eu',\n",
       " 'europe',\n",
       " 'european',\n",
       " 'face',\n",
       " 'family',\n",
       " 'food',\n",
       " 'forces',\n",
       " 'foreign',\n",
       " 'france',\n",
       " 'free',\n",
       " 'french',\n",
       " 'gay',\n",
       " 'gaza',\n",
       " 'german',\n",
       " 'germany',\n",
       " 'girl',\n",
       " 'global',\n",
       " 'going',\n",
       " 'google',\n",
       " 'government',\n",
       " 'group',\n",
       " 'help',\n",
       " 'history',\n",
       " 'home',\n",
       " 'hours',\n",
       " 'human',\n",
       " 'illegal',\n",
       " 'including',\n",
       " 'india',\n",
       " 'international',\n",
       " 'internet',\n",
       " 'iran',\n",
       " 'iraq',\n",
       " 'isis',\n",
       " 'islamic',\n",
       " 'israel',\n",
       " 'israeli',\n",
       " 'jail',\n",
       " 'japan',\n",
       " 'just',\n",
       " 'kill',\n",
       " 'killed',\n",
       " 'killing',\n",
       " 'korea',\n",
       " 'korean',\n",
       " 'largest',\n",
       " 'law',\n",
       " 'leader',\n",
       " 'life',\n",
       " 'like',\n",
       " 'live',\n",
       " 'london',\n",
       " 'make',\n",
       " 'man',\n",
       " 'marijuana',\n",
       " 'mass',\n",
       " 'media',\n",
       " 'men',\n",
       " 'mexican',\n",
       " 'mexico',\n",
       " 'military',\n",
       " 'million',\n",
       " 'minister',\n",
       " 'money',\n",
       " 'muslim',\n",
       " 'national',\n",
       " 'new',\n",
       " 'news',\n",
       " 'north',\n",
       " 'nsa',\n",
       " 'nuclear',\n",
       " 'obama',\n",
       " 'official',\n",
       " 'officials',\n",
       " 'oil',\n",
       " 'old',\n",
       " 'pakistan',\n",
       " 'palestinian',\n",
       " 'parliament',\n",
       " 'party',\n",
       " 'pay',\n",
       " 'people',\n",
       " 'pirate',\n",
       " 'police',\n",
       " 'political',\n",
       " 'pope',\n",
       " 'power',\n",
       " 'president',\n",
       " 'prime',\n",
       " 'prison',\n",
       " 'protest',\n",
       " 'protesters',\n",
       " 'public',\n",
       " 'putin',\n",
       " 'rape',\n",
       " 'report',\n",
       " 'right',\n",
       " 'rights',\n",
       " 'rules',\n",
       " 'russia',\n",
       " 'russian',\n",
       " 'said',\n",
       " 'saudi',\n",
       " 'say',\n",
       " 'says',\n",
       " 'school',\n",
       " 'scientists',\n",
       " 'secret',\n",
       " 'security',\n",
       " 'sex',\n",
       " 'shot',\n",
       " 'snowden',\n",
       " 'soldiers',\n",
       " 'south',\n",
       " 'state',\n",
       " 'states',\n",
       " 'stop',\n",
       " 'suicide',\n",
       " 'support',\n",
       " 'syria',\n",
       " 'tax',\n",
       " 'thousands',\n",
       " 'time',\n",
       " 'times',\n",
       " 'today',\n",
       " 'trying',\n",
       " 'uk',\n",
       " 'ukraine',\n",
       " 'united',\n",
       " 'use',\n",
       " 'used',\n",
       " 'using',\n",
       " 'video',\n",
       " 'want',\n",
       " 'war',\n",
       " 'water',\n",
       " 'way',\n",
       " 'west',\n",
       " 'wikileaks',\n",
       " 'woman',\n",
       " 'women',\n",
       " 'workers',\n",
       " 'world',\n",
       " 'year',\n",
       " 'years',\n",
       " 'young']"
      ]
     },
     "execution_count": 58,
     "metadata": {},
     "output_type": "execute_result"
    }
   ],
   "source": [
    "count2.get_feature_names()"
   ]
  },
  {
   "cell_type": "markdown",
   "metadata": {},
   "source": [
    "## Get the top 15 keywords each topic:"
   ]
  },
  {
   "cell_type": "code",
   "execution_count": 161,
   "metadata": {
    "scrolled": true
   },
   "outputs": [
    {
     "data": {
      "text/html": [
       "<div>\n",
       "<style scoped>\n",
       "    .dataframe tbody tr th:only-of-type {\n",
       "        vertical-align: middle;\n",
       "    }\n",
       "\n",
       "    .dataframe tbody tr th {\n",
       "        vertical-align: top;\n",
       "    }\n",
       "\n",
       "    .dataframe thead th {\n",
       "        text-align: right;\n",
       "    }\n",
       "</style>\n",
       "<table border=\"1\" class=\"dataframe\">\n",
       "  <thead>\n",
       "    <tr style=\"text-align: right;\">\n",
       "      <th></th>\n",
       "      <th>Word 0</th>\n",
       "      <th>Word 1</th>\n",
       "      <th>Word 2</th>\n",
       "      <th>Word 3</th>\n",
       "      <th>Word 4</th>\n",
       "      <th>Word 5</th>\n",
       "      <th>Word 6</th>\n",
       "      <th>Word 7</th>\n",
       "      <th>Word 8</th>\n",
       "      <th>Word 9</th>\n",
       "    </tr>\n",
       "  </thead>\n",
       "  <tbody>\n",
       "    <tr>\n",
       "      <td>Topic 0</td>\n",
       "      <td>human</td>\n",
       "      <td>rights</td>\n",
       "      <td>amp</td>\n",
       "      <td>calls</td>\n",
       "      <td>use</td>\n",
       "      <td>stop</td>\n",
       "      <td>south</td>\n",
       "      <td>marijuana</td>\n",
       "      <td>bbc</td>\n",
       "      <td>korean</td>\n",
       "    </tr>\n",
       "    <tr>\n",
       "      <td>Topic 1</td>\n",
       "      <td>years</td>\n",
       "      <td>china</td>\n",
       "      <td>death</td>\n",
       "      <td>international</td>\n",
       "      <td>news</td>\n",
       "      <td>arrested</td>\n",
       "      <td>days</td>\n",
       "      <td>iraq</td>\n",
       "      <td>gay</td>\n",
       "      <td>10</td>\n",
       "    </tr>\n",
       "    <tr>\n",
       "      <td>Topic 2</td>\n",
       "      <td>new</td>\n",
       "      <td>people</td>\n",
       "      <td>court</td>\n",
       "      <td>law</td>\n",
       "      <td>france</td>\n",
       "      <td>australia</td>\n",
       "      <td>water</td>\n",
       "      <td>muslim</td>\n",
       "      <td>country</td>\n",
       "      <td>french</td>\n",
       "    </tr>\n",
       "    <tr>\n",
       "      <td>Topic 3</td>\n",
       "      <td>says</td>\n",
       "      <td>year</td>\n",
       "      <td>old</td>\n",
       "      <td>minister</td>\n",
       "      <td>oil</td>\n",
       "      <td>girl</td>\n",
       "      <td>child</td>\n",
       "      <td>australian</td>\n",
       "      <td>prime</td>\n",
       "      <td>afghanistan</td>\n",
       "    </tr>\n",
       "    <tr>\n",
       "      <td>Topic 4</td>\n",
       "      <td>president</td>\n",
       "      <td>wikileaks</td>\n",
       "      <td>iran</td>\n",
       "      <td>british</td>\n",
       "      <td>snowden</td>\n",
       "      <td>internet</td>\n",
       "      <td>right</td>\n",
       "      <td>nsa</td>\n",
       "      <td>european</td>\n",
       "      <td>pirate</td>\n",
       "    </tr>\n",
       "    <tr>\n",
       "      <td>Topic 5</td>\n",
       "      <td>government</td>\n",
       "      <td>israel</td>\n",
       "      <td>state</td>\n",
       "      <td>just</td>\n",
       "      <td>gaza</td>\n",
       "      <td>israeli</td>\n",
       "      <td>protest</td>\n",
       "      <td>palestinian</td>\n",
       "      <td>bank</td>\n",
       "      <td>global</td>\n",
       "    </tr>\n",
       "    <tr>\n",
       "      <td>Topic 6</td>\n",
       "      <td>world</td>\n",
       "      <td>korea</td>\n",
       "      <td>north</td>\n",
       "      <td>germany</td>\n",
       "      <td>power</td>\n",
       "      <td>united</td>\n",
       "      <td>attack</td>\n",
       "      <td>states</td>\n",
       "      <td>largest</td>\n",
       "      <td>countries</td>\n",
       "    </tr>\n",
       "    <tr>\n",
       "      <td>Topic 7</td>\n",
       "      <td>000</td>\n",
       "      <td>uk</td>\n",
       "      <td>million</td>\n",
       "      <td>canada</td>\n",
       "      <td>drug</td>\n",
       "      <td>ban</td>\n",
       "      <td>billion</td>\n",
       "      <td>mexico</td>\n",
       "      <td>city</td>\n",
       "      <td>illegal</td>\n",
       "    </tr>\n",
       "    <tr>\n",
       "      <td>Topic 8</td>\n",
       "      <td>police</td>\n",
       "      <td>killed</td>\n",
       "      <td>women</td>\n",
       "      <td>saudi</td>\n",
       "      <td>man</td>\n",
       "      <td>woman</td>\n",
       "      <td>isis</td>\n",
       "      <td>israeli</td>\n",
       "      <td>german</td>\n",
       "      <td>american</td>\n",
       "    </tr>\n",
       "    <tr>\n",
       "      <td>Topic 9</td>\n",
       "      <td>war</td>\n",
       "      <td>russia</td>\n",
       "      <td>russian</td>\n",
       "      <td>dead</td>\n",
       "      <td>chinese</td>\n",
       "      <td>time</td>\n",
       "      <td>india</td>\n",
       "      <td>children</td>\n",
       "      <td>free</td>\n",
       "      <td>japan</td>\n",
       "    </tr>\n",
       "  </tbody>\n",
       "</table>\n",
       "</div>"
      ],
      "text/plain": [
       "             Word 0     Word 1   Word 2         Word 3   Word 4     Word 5  \\\n",
       "Topic 0       human     rights      amp          calls      use       stop   \n",
       "Topic 1       years      china    death  international     news   arrested   \n",
       "Topic 2         new     people    court            law   france  australia   \n",
       "Topic 3        says       year      old       minister      oil       girl   \n",
       "Topic 4   president  wikileaks     iran        british  snowden   internet   \n",
       "Topic 5  government     israel    state           just     gaza    israeli   \n",
       "Topic 6       world      korea    north        germany    power     united   \n",
       "Topic 7         000         uk  million         canada     drug        ban   \n",
       "Topic 8      police     killed    women          saudi      man      woman   \n",
       "Topic 9         war     russia  russian           dead  chinese       time   \n",
       "\n",
       "          Word 6       Word 7    Word 8       Word 9  \n",
       "Topic 0    south    marijuana       bbc       korean  \n",
       "Topic 1     days         iraq       gay           10  \n",
       "Topic 2    water       muslim   country       french  \n",
       "Topic 3    child   australian     prime  afghanistan  \n",
       "Topic 4    right          nsa  european       pirate  \n",
       "Topic 5  protest  palestinian      bank       global  \n",
       "Topic 6   attack       states   largest    countries  \n",
       "Topic 7  billion       mexico      city      illegal  \n",
       "Topic 8     isis      israeli    german     american  \n",
       "Topic 9    india     children      free        japan  "
      ]
     },
     "execution_count": 161,
     "metadata": {},
     "output_type": "execute_result"
    }
   ],
   "source": [
    "# Show top n keywords for each topic\n",
    "def show_topics(vectorizer, lda_model, n_words=15):\n",
    "    keywords = np.array(vectorizer.get_feature_names())\n",
    "    topic_keywords = []\n",
    "    for topic_weights in lda_model.components_:\n",
    "        top_keyword_locs = (-topic_weights).argsort()[:n_words]\n",
    "        topic_keywords.append(keywords.take(top_keyword_locs))\n",
    "    return topic_keywords\n",
    "\n",
    "\n",
    "# Note count2 is my LDA count vectorizer ---------------------------------------Piruz Alemi 04/14/2020\n",
    "#.      These are the parameters we pass to the above show_topics function.\n",
    "#       So we request top 10 words, over writing top 15 words...\n",
    "topic_keywords = show_topics(count2, lda, n_words=10)\n",
    "# Topic - Keywords Dataframe\n",
    "df_topic_keywords = pd.DataFrame(topic_keywords)\n",
    "df_topic_keywords.columns = ['Word '+str(i) for i in range(df_topic_keywords.shape[1])]\n",
    "df_topic_keywords.index = ['Topic '+str(i) for i in range(df_topic_keywords.shape[0])]\n",
    "df_topic_keywords"
   ]
  },
  {
   "cell_type": "code",
   "execution_count": 162,
   "metadata": {},
   "outputs": [],
   "source": [
    "# At this step, we need to infer topics according to their key words. \n",
    "# For example: For topic 2, news is about \"court\",\"muslim\", \"rules\", \"France\" etc.\n",
    "# we conclude that this topic is about “French Rules”.\n",
    "# Topic 1: Human Rights\n",
    "# Topic 2 : International Sex, etc."
   ]
  },
  {
   "cell_type": "code",
   "execution_count": 163,
   "metadata": {
    "scrolled": false
   },
   "outputs": [
    {
     "data": {
      "text/html": [
       "<div>\n",
       "<style scoped>\n",
       "    .dataframe tbody tr th:only-of-type {\n",
       "        vertical-align: middle;\n",
       "    }\n",
       "\n",
       "    .dataframe tbody tr th {\n",
       "        vertical-align: top;\n",
       "    }\n",
       "\n",
       "    .dataframe thead th {\n",
       "        text-align: right;\n",
       "    }\n",
       "</style>\n",
       "<table border=\"1\" class=\"dataframe\">\n",
       "  <thead>\n",
       "    <tr style=\"text-align: right;\">\n",
       "      <th></th>\n",
       "      <th>Word 0</th>\n",
       "      <th>Word 1</th>\n",
       "      <th>Word 2</th>\n",
       "      <th>Word 3</th>\n",
       "      <th>Word 4</th>\n",
       "      <th>Word 5</th>\n",
       "      <th>Word 6</th>\n",
       "      <th>Word 7</th>\n",
       "      <th>Word 8</th>\n",
       "      <th>Word 9</th>\n",
       "      <th>Topics</th>\n",
       "    </tr>\n",
       "  </thead>\n",
       "  <tbody>\n",
       "    <tr>\n",
       "      <td>Topic 0</td>\n",
       "      <td>human</td>\n",
       "      <td>rights</td>\n",
       "      <td>amp</td>\n",
       "      <td>calls</td>\n",
       "      <td>use</td>\n",
       "      <td>stop</td>\n",
       "      <td>south</td>\n",
       "      <td>marijuana</td>\n",
       "      <td>bbc</td>\n",
       "      <td>korean</td>\n",
       "      <td>human rights/prison</td>\n",
       "    </tr>\n",
       "    <tr>\n",
       "      <td>Topic 1</td>\n",
       "      <td>years</td>\n",
       "      <td>china</td>\n",
       "      <td>death</td>\n",
       "      <td>international</td>\n",
       "      <td>news</td>\n",
       "      <td>arrested</td>\n",
       "      <td>days</td>\n",
       "      <td>iraq</td>\n",
       "      <td>gay</td>\n",
       "      <td>10</td>\n",
       "      <td>international sex</td>\n",
       "    </tr>\n",
       "    <tr>\n",
       "      <td>Topic 2</td>\n",
       "      <td>new</td>\n",
       "      <td>people</td>\n",
       "      <td>court</td>\n",
       "      <td>law</td>\n",
       "      <td>france</td>\n",
       "      <td>australia</td>\n",
       "      <td>water</td>\n",
       "      <td>muslim</td>\n",
       "      <td>country</td>\n",
       "      <td>french</td>\n",
       "      <td>French Rules</td>\n",
       "    </tr>\n",
       "    <tr>\n",
       "      <td>Topic 3</td>\n",
       "      <td>says</td>\n",
       "      <td>year</td>\n",
       "      <td>old</td>\n",
       "      <td>minister</td>\n",
       "      <td>oil</td>\n",
       "      <td>girl</td>\n",
       "      <td>child</td>\n",
       "      <td>australian</td>\n",
       "      <td>prime</td>\n",
       "      <td>afghanistan</td>\n",
       "      <td>Oil abuse</td>\n",
       "    </tr>\n",
       "    <tr>\n",
       "      <td>Topic 4</td>\n",
       "      <td>president</td>\n",
       "      <td>wikileaks</td>\n",
       "      <td>iran</td>\n",
       "      <td>british</td>\n",
       "      <td>snowden</td>\n",
       "      <td>internet</td>\n",
       "      <td>right</td>\n",
       "      <td>nsa</td>\n",
       "      <td>european</td>\n",
       "      <td>pirate</td>\n",
       "      <td>Iran British</td>\n",
       "    </tr>\n",
       "    <tr>\n",
       "      <td>Topic 5</td>\n",
       "      <td>government</td>\n",
       "      <td>israel</td>\n",
       "      <td>state</td>\n",
       "      <td>just</td>\n",
       "      <td>gaza</td>\n",
       "      <td>israeli</td>\n",
       "      <td>protest</td>\n",
       "      <td>palestinian</td>\n",
       "      <td>bank</td>\n",
       "      <td>global</td>\n",
       "      <td>Palestine/Israel protest</td>\n",
       "    </tr>\n",
       "    <tr>\n",
       "      <td>Topic 6</td>\n",
       "      <td>world</td>\n",
       "      <td>korea</td>\n",
       "      <td>north</td>\n",
       "      <td>germany</td>\n",
       "      <td>power</td>\n",
       "      <td>united</td>\n",
       "      <td>attack</td>\n",
       "      <td>states</td>\n",
       "      <td>largest</td>\n",
       "      <td>countries</td>\n",
       "      <td>war history</td>\n",
       "    </tr>\n",
       "    <tr>\n",
       "      <td>Topic 7</td>\n",
       "      <td>000</td>\n",
       "      <td>uk</td>\n",
       "      <td>million</td>\n",
       "      <td>canada</td>\n",
       "      <td>drug</td>\n",
       "      <td>ban</td>\n",
       "      <td>billion</td>\n",
       "      <td>mexico</td>\n",
       "      <td>city</td>\n",
       "      <td>illegal</td>\n",
       "      <td>drug mexico</td>\n",
       "    </tr>\n",
       "    <tr>\n",
       "      <td>Topic 8</td>\n",
       "      <td>police</td>\n",
       "      <td>killed</td>\n",
       "      <td>women</td>\n",
       "      <td>saudi</td>\n",
       "      <td>man</td>\n",
       "      <td>woman</td>\n",
       "      <td>isis</td>\n",
       "      <td>israeli</td>\n",
       "      <td>german</td>\n",
       "      <td>american</td>\n",
       "      <td>isis saudi/women killed</td>\n",
       "    </tr>\n",
       "    <tr>\n",
       "      <td>Topic 9</td>\n",
       "      <td>war</td>\n",
       "      <td>russia</td>\n",
       "      <td>russian</td>\n",
       "      <td>dead</td>\n",
       "      <td>chinese</td>\n",
       "      <td>time</td>\n",
       "      <td>india</td>\n",
       "      <td>children</td>\n",
       "      <td>free</td>\n",
       "      <td>japan</td>\n",
       "      <td>russia chinese putin</td>\n",
       "    </tr>\n",
       "  </tbody>\n",
       "</table>\n",
       "</div>"
      ],
      "text/plain": [
       "             Word 0     Word 1   Word 2         Word 3   Word 4     Word 5  \\\n",
       "Topic 0       human     rights      amp          calls      use       stop   \n",
       "Topic 1       years      china    death  international     news   arrested   \n",
       "Topic 2         new     people    court            law   france  australia   \n",
       "Topic 3        says       year      old       minister      oil       girl   \n",
       "Topic 4   president  wikileaks     iran        british  snowden   internet   \n",
       "Topic 5  government     israel    state           just     gaza    israeli   \n",
       "Topic 6       world      korea    north        germany    power     united   \n",
       "Topic 7         000         uk  million         canada     drug        ban   \n",
       "Topic 8      police     killed    women          saudi      man      woman   \n",
       "Topic 9         war     russia  russian           dead  chinese       time   \n",
       "\n",
       "          Word 6       Word 7    Word 8       Word 9                    Topics  \n",
       "Topic 0    south    marijuana       bbc       korean       human rights/prison  \n",
       "Topic 1     days         iraq       gay           10         international sex  \n",
       "Topic 2    water       muslim   country       french              French Rules  \n",
       "Topic 3    child   australian     prime  afghanistan                 Oil abuse  \n",
       "Topic 4    right          nsa  european       pirate              Iran British  \n",
       "Topic 5  protest  palestinian      bank       global  Palestine/Israel protest  \n",
       "Topic 6   attack       states   largest    countries               war history  \n",
       "Topic 7  billion       mexico      city      illegal               drug mexico  \n",
       "Topic 8     isis      israeli    german     american   isis saudi/women killed  \n",
       "Topic 9    india     children      free        japan      russia chinese putin  "
      ]
     },
     "execution_count": 163,
     "metadata": {},
     "output_type": "execute_result"
    }
   ],
   "source": [
    "Topics = [\"human rights/prison\",\"international sex\",\"French Rules\",\"Oil abuse\",\"Iran British\",\"Palestine/Israel protest\", \n",
    "          \"war history\", \"drug mexico\", \"isis saudi/women killed\", \"russia chinese putin\"]\n",
    "df_topic_keywords[\"Topics\"]=Topics\n",
    "df_topic_keywords"
   ]
  },
  {
   "cell_type": "code",
   "execution_count": 164,
   "metadata": {
    "scrolled": true
   },
   "outputs": [
    {
     "data": {
      "text/html": [
       "<div>\n",
       "<style scoped>\n",
       "    .dataframe tbody tr th:only-of-type {\n",
       "        vertical-align: middle;\n",
       "    }\n",
       "\n",
       "    .dataframe tbody tr th {\n",
       "        vertical-align: top;\n",
       "    }\n",
       "\n",
       "    .dataframe thead th {\n",
       "        text-align: right;\n",
       "    }\n",
       "</style>\n",
       "<table border=\"1\" class=\"dataframe\">\n",
       "  <thead>\n",
       "    <tr style=\"text-align: right;\">\n",
       "      <th></th>\n",
       "      <th>Word 0</th>\n",
       "      <th>Word 1</th>\n",
       "      <th>Word 2</th>\n",
       "      <th>Word 3</th>\n",
       "      <th>Word 4</th>\n",
       "      <th>Word 5</th>\n",
       "      <th>Word 6</th>\n",
       "      <th>Word 7</th>\n",
       "      <th>Word 8</th>\n",
       "      <th>Word 9</th>\n",
       "      <th>Topics</th>\n",
       "    </tr>\n",
       "  </thead>\n",
       "  <tbody>\n",
       "    <tr>\n",
       "      <td>Topic 0</td>\n",
       "      <td>human</td>\n",
       "      <td>rights</td>\n",
       "      <td>amp</td>\n",
       "      <td>calls</td>\n",
       "      <td>use</td>\n",
       "      <td>stop</td>\n",
       "      <td>south</td>\n",
       "      <td>marijuana</td>\n",
       "      <td>bbc</td>\n",
       "      <td>korean</td>\n",
       "      <td>human rights/prison</td>\n",
       "    </tr>\n",
       "    <tr>\n",
       "      <td>Topic 1</td>\n",
       "      <td>years</td>\n",
       "      <td>china</td>\n",
       "      <td>death</td>\n",
       "      <td>international</td>\n",
       "      <td>news</td>\n",
       "      <td>arrested</td>\n",
       "      <td>days</td>\n",
       "      <td>iraq</td>\n",
       "      <td>gay</td>\n",
       "      <td>10</td>\n",
       "      <td>international sex</td>\n",
       "    </tr>\n",
       "    <tr>\n",
       "      <td>Topic 2</td>\n",
       "      <td>new</td>\n",
       "      <td>people</td>\n",
       "      <td>court</td>\n",
       "      <td>law</td>\n",
       "      <td>france</td>\n",
       "      <td>australia</td>\n",
       "      <td>water</td>\n",
       "      <td>muslim</td>\n",
       "      <td>country</td>\n",
       "      <td>french</td>\n",
       "      <td>court muslim</td>\n",
       "    </tr>\n",
       "    <tr>\n",
       "      <td>Topic 3</td>\n",
       "      <td>says</td>\n",
       "      <td>year</td>\n",
       "      <td>old</td>\n",
       "      <td>minister</td>\n",
       "      <td>oil</td>\n",
       "      <td>girl</td>\n",
       "      <td>child</td>\n",
       "      <td>australian</td>\n",
       "      <td>prime</td>\n",
       "      <td>afghanistan</td>\n",
       "      <td>Iran British</td>\n",
       "    </tr>\n",
       "    <tr>\n",
       "      <td>Topic 4</td>\n",
       "      <td>president</td>\n",
       "      <td>wikileaks</td>\n",
       "      <td>iran</td>\n",
       "      <td>british</td>\n",
       "      <td>snowden</td>\n",
       "      <td>internet</td>\n",
       "      <td>right</td>\n",
       "      <td>nsa</td>\n",
       "      <td>european</td>\n",
       "      <td>pirate</td>\n",
       "      <td>Palestine/Israel protest</td>\n",
       "    </tr>\n",
       "    <tr>\n",
       "      <td>Topic 5</td>\n",
       "      <td>government</td>\n",
       "      <td>israel</td>\n",
       "      <td>state</td>\n",
       "      <td>just</td>\n",
       "      <td>gaza</td>\n",
       "      <td>israeli</td>\n",
       "      <td>protest</td>\n",
       "      <td>palestinian</td>\n",
       "      <td>bank</td>\n",
       "      <td>global</td>\n",
       "      <td>war history</td>\n",
       "    </tr>\n",
       "    <tr>\n",
       "      <td>Topic 6</td>\n",
       "      <td>world</td>\n",
       "      <td>korea</td>\n",
       "      <td>north</td>\n",
       "      <td>germany</td>\n",
       "      <td>power</td>\n",
       "      <td>united</td>\n",
       "      <td>attack</td>\n",
       "      <td>states</td>\n",
       "      <td>largest</td>\n",
       "      <td>countries</td>\n",
       "      <td>drug mexico</td>\n",
       "    </tr>\n",
       "    <tr>\n",
       "      <td>Topic 7</td>\n",
       "      <td>000</td>\n",
       "      <td>uk</td>\n",
       "      <td>million</td>\n",
       "      <td>canada</td>\n",
       "      <td>drug</td>\n",
       "      <td>ban</td>\n",
       "      <td>billion</td>\n",
       "      <td>mexico</td>\n",
       "      <td>city</td>\n",
       "      <td>illegal</td>\n",
       "      <td>isis saudi/women killed</td>\n",
       "    </tr>\n",
       "    <tr>\n",
       "      <td>Topic 8</td>\n",
       "      <td>police</td>\n",
       "      <td>killed</td>\n",
       "      <td>women</td>\n",
       "      <td>saudi</td>\n",
       "      <td>man</td>\n",
       "      <td>woman</td>\n",
       "      <td>isis</td>\n",
       "      <td>israeli</td>\n",
       "      <td>german</td>\n",
       "      <td>american</td>\n",
       "      <td>russia chinese putin</td>\n",
       "    </tr>\n",
       "    <tr>\n",
       "      <td>Topic 9</td>\n",
       "      <td>war</td>\n",
       "      <td>russia</td>\n",
       "      <td>russian</td>\n",
       "      <td>dead</td>\n",
       "      <td>chinese</td>\n",
       "      <td>time</td>\n",
       "      <td>india</td>\n",
       "      <td>children</td>\n",
       "      <td>free</td>\n",
       "      <td>japan</td>\n",
       "      <td>Photo/Search</td>\n",
       "    </tr>\n",
       "  </tbody>\n",
       "</table>\n",
       "</div>"
      ],
      "text/plain": [
       "             Word 0     Word 1   Word 2         Word 3   Word 4     Word 5  \\\n",
       "Topic 0       human     rights      amp          calls      use       stop   \n",
       "Topic 1       years      china    death  international     news   arrested   \n",
       "Topic 2         new     people    court            law   france  australia   \n",
       "Topic 3        says       year      old       minister      oil       girl   \n",
       "Topic 4   president  wikileaks     iran        british  snowden   internet   \n",
       "Topic 5  government     israel    state           just     gaza    israeli   \n",
       "Topic 6       world      korea    north        germany    power     united   \n",
       "Topic 7         000         uk  million         canada     drug        ban   \n",
       "Topic 8      police     killed    women          saudi      man      woman   \n",
       "Topic 9         war     russia  russian           dead  chinese       time   \n",
       "\n",
       "          Word 6       Word 7    Word 8       Word 9                    Topics  \n",
       "Topic 0    south    marijuana       bbc       korean       human rights/prison  \n",
       "Topic 1     days         iraq       gay           10         international sex  \n",
       "Topic 2    water       muslim   country       french              court muslim  \n",
       "Topic 3    child   australian     prime  afghanistan              Iran British  \n",
       "Topic 4    right          nsa  european       pirate  Palestine/Israel protest  \n",
       "Topic 5  protest  palestinian      bank       global               war history  \n",
       "Topic 6   attack       states   largest    countries               drug mexico  \n",
       "Topic 7  billion       mexico      city      illegal   isis saudi/women killed  \n",
       "Topic 8     isis      israeli    german     american      russia chinese putin  \n",
       "Topic 9    india     children      free        japan              Photo/Search  "
      ]
     },
     "execution_count": 164,
     "metadata": {},
     "output_type": "execute_result"
    }
   ],
   "source": [
    "#.  Here we gave the Topic0, top1, etx. our own headline as in Topics.... Alemi + Team.\n",
    "Topics = [\"human rights/prison\",\"international sex\",\"court muslim\",\"Iran British\",\"Palestine/Israel protest\", \n",
    "          \"war history\", \"drug mexico\", \"isis saudi/women killed\", \"russia chinese putin\", \"Photo/Search\"]\n",
    "df_topic_keywords[\"Topics\"]=Topics\n",
    "df_topic_keywords"
   ]
  },
  {
   "cell_type": "code",
   "execution_count": null,
   "metadata": {},
   "outputs": [],
   "source": [
    "#df_topic_keywords[\"Topics\"]=Topics\n",
    "#df_topic_keywords"
   ]
  },
  {
   "cell_type": "code",
   "execution_count": 133,
   "metadata": {
    "scrolled": false
   },
   "outputs": [
    {
     "name": "stdout",
     "output_type": "stream",
     "text": [
      "Requirement already up-to-date: spacy in /Users/piruzalemi/opt/anaconda3/lib/python3.7/site-packages (2.2.4)\n",
      "Requirement already satisfied, skipping upgrade: catalogue<1.1.0,>=0.0.7 in /Users/piruzalemi/opt/anaconda3/lib/python3.7/site-packages (from spacy) (1.0.0)\n",
      "Requirement already satisfied, skipping upgrade: blis<0.5.0,>=0.4.0 in /Users/piruzalemi/opt/anaconda3/lib/python3.7/site-packages (from spacy) (0.4.1)\n",
      "Requirement already satisfied, skipping upgrade: plac<1.2.0,>=0.9.6 in /Users/piruzalemi/opt/anaconda3/lib/python3.7/site-packages (from spacy) (1.1.3)\n",
      "Requirement already satisfied, skipping upgrade: preshed<3.1.0,>=3.0.2 in /Users/piruzalemi/opt/anaconda3/lib/python3.7/site-packages (from spacy) (3.0.2)\n",
      "Requirement already satisfied, skipping upgrade: thinc==7.4.0 in /Users/piruzalemi/opt/anaconda3/lib/python3.7/site-packages (from spacy) (7.4.0)\n",
      "Requirement already satisfied, skipping upgrade: cymem<2.1.0,>=2.0.2 in /Users/piruzalemi/opt/anaconda3/lib/python3.7/site-packages (from spacy) (2.0.3)\n",
      "Requirement already satisfied, skipping upgrade: setuptools in /Users/piruzalemi/opt/anaconda3/lib/python3.7/site-packages (from spacy) (41.4.0)\n",
      "Requirement already satisfied, skipping upgrade: numpy>=1.15.0 in /Users/piruzalemi/opt/anaconda3/lib/python3.7/site-packages (from spacy) (1.17.2)\n",
      "Requirement already satisfied, skipping upgrade: requests<3.0.0,>=2.13.0 in /Users/piruzalemi/opt/anaconda3/lib/python3.7/site-packages (from spacy) (2.22.0)\n",
      "Requirement already satisfied, skipping upgrade: tqdm<5.0.0,>=4.38.0 in /Users/piruzalemi/opt/anaconda3/lib/python3.7/site-packages (from spacy) (4.45.0)\n",
      "Requirement already satisfied, skipping upgrade: srsly<1.1.0,>=1.0.2 in /Users/piruzalemi/opt/anaconda3/lib/python3.7/site-packages (from spacy) (1.0.2)\n",
      "Requirement already satisfied, skipping upgrade: murmurhash<1.1.0,>=0.28.0 in /Users/piruzalemi/opt/anaconda3/lib/python3.7/site-packages (from spacy) (1.0.2)\n",
      "Requirement already satisfied, skipping upgrade: wasabi<1.1.0,>=0.4.0 in /Users/piruzalemi/opt/anaconda3/lib/python3.7/site-packages (from spacy) (0.6.0)\n",
      "Requirement already satisfied, skipping upgrade: importlib-metadata>=0.20; python_version < \"3.8\" in /Users/piruzalemi/opt/anaconda3/lib/python3.7/site-packages (from catalogue<1.1.0,>=0.0.7->spacy) (0.23)\n",
      "Requirement already satisfied, skipping upgrade: certifi>=2017.4.17 in /Users/piruzalemi/opt/anaconda3/lib/python3.7/site-packages (from requests<3.0.0,>=2.13.0->spacy) (2019.9.11)\n",
      "Requirement already satisfied, skipping upgrade: urllib3!=1.25.0,!=1.25.1,<1.26,>=1.21.1 in /Users/piruzalemi/opt/anaconda3/lib/python3.7/site-packages (from requests<3.0.0,>=2.13.0->spacy) (1.24.2)\n",
      "Requirement already satisfied, skipping upgrade: idna<2.9,>=2.5 in /Users/piruzalemi/opt/anaconda3/lib/python3.7/site-packages (from requests<3.0.0,>=2.13.0->spacy) (2.8)\n",
      "Requirement already satisfied, skipping upgrade: chardet<3.1.0,>=3.0.2 in /Users/piruzalemi/opt/anaconda3/lib/python3.7/site-packages (from requests<3.0.0,>=2.13.0->spacy) (3.0.4)\n",
      "Requirement already satisfied, skipping upgrade: zipp>=0.5 in /Users/piruzalemi/opt/anaconda3/lib/python3.7/site-packages (from importlib-metadata>=0.20; python_version < \"3.8\"->catalogue<1.1.0,>=0.0.7->spacy) (0.6.0)\n",
      "Requirement already satisfied, skipping upgrade: more-itertools in /Users/piruzalemi/opt/anaconda3/lib/python3.7/site-packages (from zipp>=0.5->importlib-metadata>=0.20; python_version < \"3.8\"->catalogue<1.1.0,>=0.0.7->spacy) (7.2.0)\n"
     ]
    }
   ],
   "source": [
    "# Run in terminal or command prompt\n",
    "#python3 -m spacy download en\n",
    "#!conda install -c conda-forge spacy\n",
    "!pip install -U spacy"
   ]
  },
  {
   "cell_type": "code",
   "execution_count": 134,
   "metadata": {},
   "outputs": [
    {
     "name": "stdout",
     "output_type": "stream",
     "text": [
      "Requirement already satisfied: gensim in /Users/piruzalemi/opt/anaconda3/lib/python3.7/site-packages (3.8.2)\n",
      "Requirement already satisfied: smart-open>=1.8.1 in /Users/piruzalemi/opt/anaconda3/lib/python3.7/site-packages (from gensim) (1.11.1)\n",
      "Requirement already satisfied: numpy>=1.11.3 in /Users/piruzalemi/opt/anaconda3/lib/python3.7/site-packages (from gensim) (1.17.2)\n",
      "Requirement already satisfied: six>=1.5.0 in /Users/piruzalemi/opt/anaconda3/lib/python3.7/site-packages (from gensim) (1.12.0)\n",
      "Requirement already satisfied: scipy>=1.0.0 in /Users/piruzalemi/opt/anaconda3/lib/python3.7/site-packages (from gensim) (1.4.1)\n",
      "Requirement already satisfied: boto in /Users/piruzalemi/opt/anaconda3/lib/python3.7/site-packages (from smart-open>=1.8.1->gensim) (2.49.0)\n",
      "Requirement already satisfied: requests in /Users/piruzalemi/opt/anaconda3/lib/python3.7/site-packages (from smart-open>=1.8.1->gensim) (2.22.0)\n",
      "Requirement already satisfied: boto3 in /Users/piruzalemi/opt/anaconda3/lib/python3.7/site-packages (from smart-open>=1.8.1->gensim) (1.12.39)\n",
      "Requirement already satisfied: chardet<3.1.0,>=3.0.2 in /Users/piruzalemi/opt/anaconda3/lib/python3.7/site-packages (from requests->smart-open>=1.8.1->gensim) (3.0.4)\n",
      "Requirement already satisfied: certifi>=2017.4.17 in /Users/piruzalemi/opt/anaconda3/lib/python3.7/site-packages (from requests->smart-open>=1.8.1->gensim) (2019.9.11)\n",
      "Requirement already satisfied: urllib3!=1.25.0,!=1.25.1,<1.26,>=1.21.1 in /Users/piruzalemi/opt/anaconda3/lib/python3.7/site-packages (from requests->smart-open>=1.8.1->gensim) (1.24.2)\n",
      "Requirement already satisfied: idna<2.9,>=2.5 in /Users/piruzalemi/opt/anaconda3/lib/python3.7/site-packages (from requests->smart-open>=1.8.1->gensim) (2.8)\n",
      "Requirement already satisfied: s3transfer<0.4.0,>=0.3.0 in /Users/piruzalemi/opt/anaconda3/lib/python3.7/site-packages (from boto3->smart-open>=1.8.1->gensim) (0.3.3)\n",
      "Requirement already satisfied: botocore<1.16.0,>=1.15.39 in /Users/piruzalemi/opt/anaconda3/lib/python3.7/site-packages (from boto3->smart-open>=1.8.1->gensim) (1.15.39)\n",
      "Requirement already satisfied: jmespath<1.0.0,>=0.7.1 in /Users/piruzalemi/opt/anaconda3/lib/python3.7/site-packages (from boto3->smart-open>=1.8.1->gensim) (0.9.5)\n",
      "Requirement already satisfied: python-dateutil<3.0.0,>=2.1 in /Users/piruzalemi/opt/anaconda3/lib/python3.7/site-packages (from botocore<1.16.0,>=1.15.39->boto3->smart-open>=1.8.1->gensim) (2.8.0)\n",
      "Requirement already satisfied: docutils<0.16,>=0.10 in /Users/piruzalemi/opt/anaconda3/lib/python3.7/site-packages (from botocore<1.16.0,>=1.15.39->boto3->smart-open>=1.8.1->gensim) (0.15.2)\n"
     ]
    }
   ],
   "source": [
    "!pip install gensim"
   ]
  },
  {
   "cell_type": "code",
   "execution_count": 135,
   "metadata": {},
   "outputs": [
    {
     "name": "stdout",
     "output_type": "stream",
     "text": [
      "Requirement already up-to-date: pyLDAvis in /Users/piruzalemi/opt/anaconda3/lib/python3.7/site-packages (2.1.2)\n",
      "Requirement already satisfied, skipping upgrade: future in /Users/piruzalemi/opt/anaconda3/lib/python3.7/site-packages (from pyLDAvis) (0.17.1)\n",
      "Requirement already satisfied, skipping upgrade: joblib>=0.8.4 in /Users/piruzalemi/opt/anaconda3/lib/python3.7/site-packages (from pyLDAvis) (0.13.2)\n",
      "Requirement already satisfied, skipping upgrade: numpy>=1.9.2 in /Users/piruzalemi/opt/anaconda3/lib/python3.7/site-packages (from pyLDAvis) (1.17.2)\n",
      "Requirement already satisfied, skipping upgrade: pandas>=0.17.0 in /Users/piruzalemi/opt/anaconda3/lib/python3.7/site-packages (from pyLDAvis) (0.25.1)\n",
      "Requirement already satisfied, skipping upgrade: pytest in /Users/piruzalemi/opt/anaconda3/lib/python3.7/site-packages (from pyLDAvis) (5.2.1)\n",
      "Requirement already satisfied, skipping upgrade: numexpr in /Users/piruzalemi/opt/anaconda3/lib/python3.7/site-packages (from pyLDAvis) (2.7.0)\n",
      "Requirement already satisfied, skipping upgrade: wheel>=0.23.0 in /Users/piruzalemi/opt/anaconda3/lib/python3.7/site-packages (from pyLDAvis) (0.33.6)\n",
      "Requirement already satisfied, skipping upgrade: jinja2>=2.7.2 in /Users/piruzalemi/opt/anaconda3/lib/python3.7/site-packages (from pyLDAvis) (2.10.3)\n",
      "Requirement already satisfied, skipping upgrade: scipy>=0.18.0 in /Users/piruzalemi/opt/anaconda3/lib/python3.7/site-packages (from pyLDAvis) (1.4.1)\n",
      "Requirement already satisfied, skipping upgrade: funcy in /Users/piruzalemi/opt/anaconda3/lib/python3.7/site-packages (from pyLDAvis) (1.14)\n",
      "Requirement already satisfied, skipping upgrade: python-dateutil>=2.6.1 in /Users/piruzalemi/opt/anaconda3/lib/python3.7/site-packages (from pandas>=0.17.0->pyLDAvis) (2.8.0)\n",
      "Requirement already satisfied, skipping upgrade: pytz>=2017.2 in /Users/piruzalemi/opt/anaconda3/lib/python3.7/site-packages (from pandas>=0.17.0->pyLDAvis) (2019.3)\n",
      "Requirement already satisfied, skipping upgrade: py>=1.5.0 in /Users/piruzalemi/opt/anaconda3/lib/python3.7/site-packages (from pytest->pyLDAvis) (1.8.0)\n",
      "Requirement already satisfied, skipping upgrade: packaging in /Users/piruzalemi/opt/anaconda3/lib/python3.7/site-packages (from pytest->pyLDAvis) (19.2)\n",
      "Requirement already satisfied, skipping upgrade: attrs>=17.4.0 in /Users/piruzalemi/opt/anaconda3/lib/python3.7/site-packages (from pytest->pyLDAvis) (19.2.0)\n",
      "Requirement already satisfied, skipping upgrade: more-itertools>=4.0.0 in /Users/piruzalemi/opt/anaconda3/lib/python3.7/site-packages (from pytest->pyLDAvis) (7.2.0)\n",
      "Requirement already satisfied, skipping upgrade: atomicwrites>=1.0 in /Users/piruzalemi/opt/anaconda3/lib/python3.7/site-packages (from pytest->pyLDAvis) (1.3.0)\n",
      "Requirement already satisfied, skipping upgrade: pluggy<1.0,>=0.12 in /Users/piruzalemi/opt/anaconda3/lib/python3.7/site-packages (from pytest->pyLDAvis) (0.13.0)\n",
      "Requirement already satisfied, skipping upgrade: wcwidth in /Users/piruzalemi/opt/anaconda3/lib/python3.7/site-packages (from pytest->pyLDAvis) (0.1.7)\n",
      "Requirement already satisfied, skipping upgrade: importlib-metadata>=0.12 in /Users/piruzalemi/opt/anaconda3/lib/python3.7/site-packages (from pytest->pyLDAvis) (0.23)\n",
      "Requirement already satisfied, skipping upgrade: MarkupSafe>=0.23 in /Users/piruzalemi/opt/anaconda3/lib/python3.7/site-packages (from jinja2>=2.7.2->pyLDAvis) (1.1.1)\n",
      "Requirement already satisfied, skipping upgrade: six>=1.5 in /Users/piruzalemi/opt/anaconda3/lib/python3.7/site-packages (from python-dateutil>=2.6.1->pandas>=0.17.0->pyLDAvis) (1.12.0)\n",
      "Requirement already satisfied, skipping upgrade: pyparsing>=2.0.2 in /Users/piruzalemi/opt/anaconda3/lib/python3.7/site-packages (from packaging->pytest->pyLDAvis) (2.4.2)\n",
      "Requirement already satisfied, skipping upgrade: zipp>=0.5 in /Users/piruzalemi/opt/anaconda3/lib/python3.7/site-packages (from importlib-metadata>=0.12->pytest->pyLDAvis) (0.6.0)\n"
     ]
    }
   ],
   "source": [
    "#!conda install -c memex pyldavis\n",
    "!python -m pip install -U pyLDAvis"
   ]
  },
  {
   "cell_type": "code",
   "execution_count": 136,
   "metadata": {},
   "outputs": [],
   "source": [
    "# Run in terminal or command prompt\n",
    "#python3 -m spacy download en\n",
    "import numpy as np\n",
    "import pandas as pd\n",
    "import re, nltk, spacy, gensim\n",
    "# Sklearn\n",
    "from sklearn.decomposition import LatentDirichletAllocation, TruncatedSVD\n",
    "from sklearn.feature_extraction.text import CountVectorizer, TfidfVectorizer\n",
    "from sklearn.model_selection import GridSearchCV\n",
    "from pprint import pprint\n",
    "# Plotting tools\n",
    "import pyLDAvis\n",
    "import pyLDAvis.sklearn\n",
    "import matplotlib.pyplot as plt\n",
    "%matplotlib inline"
   ]
  },
  {
   "cell_type": "code",
   "execution_count": 137,
   "metadata": {},
   "outputs": [
    {
     "name": "stdout",
     "output_type": "stream",
     "text": [
      "Requirement already up-to-date: pip in /Users/piruzalemi/opt/anaconda3/lib/python3.7/site-packages (20.0.2)\r\n"
     ]
    }
   ],
   "source": [
    "!pip install --upgrade pip"
   ]
  },
  {
   "cell_type": "code",
   "execution_count": 138,
   "metadata": {},
   "outputs": [
    {
     "name": "stdout",
     "output_type": "stream",
     "text": [
      "Collecting https://github.com/explosion/spacy-models/releases/download/en_core_web_sm-2.2.0/en_core_web_sm-2.2.0.tar.gz\n",
      "  Downloading https://github.com/explosion/spacy-models/releases/download/en_core_web_sm-2.2.0/en_core_web_sm-2.2.0.tar.gz (12.0 MB)\n",
      "\u001b[K     |████████████████████████████████| 12.0 MB 30.6 MB/s eta 0:00:01\n",
      "\u001b[?25hRequirement already satisfied: spacy>=2.2.0 in /Users/piruzalemi/opt/anaconda3/lib/python3.7/site-packages (from en-core-web-sm==2.2.0) (2.2.4)\n",
      "Requirement already satisfied: wasabi<1.1.0,>=0.4.0 in /Users/piruzalemi/opt/anaconda3/lib/python3.7/site-packages (from spacy>=2.2.0->en-core-web-sm==2.2.0) (0.6.0)\n",
      "Requirement already satisfied: thinc==7.4.0 in /Users/piruzalemi/opt/anaconda3/lib/python3.7/site-packages (from spacy>=2.2.0->en-core-web-sm==2.2.0) (7.4.0)\n",
      "Requirement already satisfied: tqdm<5.0.0,>=4.38.0 in /Users/piruzalemi/opt/anaconda3/lib/python3.7/site-packages (from spacy>=2.2.0->en-core-web-sm==2.2.0) (4.45.0)\n",
      "Requirement already satisfied: setuptools in /Users/piruzalemi/opt/anaconda3/lib/python3.7/site-packages (from spacy>=2.2.0->en-core-web-sm==2.2.0) (41.4.0)\n",
      "Requirement already satisfied: srsly<1.1.0,>=1.0.2 in /Users/piruzalemi/opt/anaconda3/lib/python3.7/site-packages (from spacy>=2.2.0->en-core-web-sm==2.2.0) (1.0.2)\n",
      "Requirement already satisfied: cymem<2.1.0,>=2.0.2 in /Users/piruzalemi/opt/anaconda3/lib/python3.7/site-packages (from spacy>=2.2.0->en-core-web-sm==2.2.0) (2.0.3)\n",
      "Requirement already satisfied: requests<3.0.0,>=2.13.0 in /Users/piruzalemi/opt/anaconda3/lib/python3.7/site-packages (from spacy>=2.2.0->en-core-web-sm==2.2.0) (2.22.0)\n",
      "Requirement already satisfied: plac<1.2.0,>=0.9.6 in /Users/piruzalemi/opt/anaconda3/lib/python3.7/site-packages (from spacy>=2.2.0->en-core-web-sm==2.2.0) (1.1.3)\n",
      "Requirement already satisfied: numpy>=1.15.0 in /Users/piruzalemi/opt/anaconda3/lib/python3.7/site-packages (from spacy>=2.2.0->en-core-web-sm==2.2.0) (1.17.2)\n",
      "Requirement already satisfied: blis<0.5.0,>=0.4.0 in /Users/piruzalemi/opt/anaconda3/lib/python3.7/site-packages (from spacy>=2.2.0->en-core-web-sm==2.2.0) (0.4.1)\n",
      "Requirement already satisfied: preshed<3.1.0,>=3.0.2 in /Users/piruzalemi/opt/anaconda3/lib/python3.7/site-packages (from spacy>=2.2.0->en-core-web-sm==2.2.0) (3.0.2)\n",
      "Requirement already satisfied: catalogue<1.1.0,>=0.0.7 in /Users/piruzalemi/opt/anaconda3/lib/python3.7/site-packages (from spacy>=2.2.0->en-core-web-sm==2.2.0) (1.0.0)\n",
      "Requirement already satisfied: murmurhash<1.1.0,>=0.28.0 in /Users/piruzalemi/opt/anaconda3/lib/python3.7/site-packages (from spacy>=2.2.0->en-core-web-sm==2.2.0) (1.0.2)\n",
      "Requirement already satisfied: idna<2.9,>=2.5 in /Users/piruzalemi/opt/anaconda3/lib/python3.7/site-packages (from requests<3.0.0,>=2.13.0->spacy>=2.2.0->en-core-web-sm==2.2.0) (2.8)\n",
      "Requirement already satisfied: urllib3!=1.25.0,!=1.25.1,<1.26,>=1.21.1 in /Users/piruzalemi/opt/anaconda3/lib/python3.7/site-packages (from requests<3.0.0,>=2.13.0->spacy>=2.2.0->en-core-web-sm==2.2.0) (1.24.2)\n",
      "Requirement already satisfied: chardet<3.1.0,>=3.0.2 in /Users/piruzalemi/opt/anaconda3/lib/python3.7/site-packages (from requests<3.0.0,>=2.13.0->spacy>=2.2.0->en-core-web-sm==2.2.0) (3.0.4)\n",
      "Requirement already satisfied: certifi>=2017.4.17 in /Users/piruzalemi/opt/anaconda3/lib/python3.7/site-packages (from requests<3.0.0,>=2.13.0->spacy>=2.2.0->en-core-web-sm==2.2.0) (2019.9.11)\n",
      "Requirement already satisfied: importlib-metadata>=0.20; python_version < \"3.8\" in /Users/piruzalemi/opt/anaconda3/lib/python3.7/site-packages (from catalogue<1.1.0,>=0.0.7->spacy>=2.2.0->en-core-web-sm==2.2.0) (0.23)\n",
      "Requirement already satisfied: zipp>=0.5 in /Users/piruzalemi/opt/anaconda3/lib/python3.7/site-packages (from importlib-metadata>=0.20; python_version < \"3.8\"->catalogue<1.1.0,>=0.0.7->spacy>=2.2.0->en-core-web-sm==2.2.0) (0.6.0)\n",
      "Requirement already satisfied: more-itertools in /Users/piruzalemi/opt/anaconda3/lib/python3.7/site-packages (from zipp>=0.5->importlib-metadata>=0.20; python_version < \"3.8\"->catalogue<1.1.0,>=0.0.7->spacy>=2.2.0->en-core-web-sm==2.2.0) (7.2.0)\n",
      "Building wheels for collected packages: en-core-web-sm\n",
      "  Building wheel for en-core-web-sm (setup.py) ... \u001b[?25ldone\n",
      "\u001b[?25h  Created wheel for en-core-web-sm: filename=en_core_web_sm-2.2.0-py3-none-any.whl size=12019122 sha256=b94469bcef603219a01352331db09c3d0613c9e9dd5c9d39a799f5421127921a\n",
      "  Stored in directory: /Users/piruzalemi/Library/Caches/pip/wheels/64/69/41/6f820cf1d7488a0381a2059f66ec9f8f23116f7c67d18f3d8d\n",
      "Successfully built en-core-web-sm\n",
      "Installing collected packages: en-core-web-sm\n",
      "  Attempting uninstall: en-core-web-sm\n",
      "    Found existing installation: en-core-web-sm 2.2.5\n",
      "    Uninstalling en-core-web-sm-2.2.5:\n",
      "      Successfully uninstalled en-core-web-sm-2.2.5\n",
      "Successfully installed en-core-web-sm-2.2.0\n"
     ]
    }
   ],
   "source": [
    "!pip install https://github.com/explosion/spacy-models/releases/download/en_core_web_sm-2.2.0/en_core_web_sm-2.2.0.tar.gz"
   ]
  },
  {
   "cell_type": "code",
   "execution_count": 139,
   "metadata": {},
   "outputs": [],
   "source": [
    "import en_core_web_sm\n",
    "nlp = en_core_web_sm.load()"
   ]
  },
  {
   "cell_type": "code",
   "execution_count": 140,
   "metadata": {},
   "outputs": [
    {
     "name": "stdout",
     "output_type": "stream",
     "text": [
      "Collecting en_core_web_sm==2.2.5\n",
      "  Downloading https://github.com/explosion/spacy-models/releases/download/en_core_web_sm-2.2.5/en_core_web_sm-2.2.5.tar.gz (12.0 MB)\n",
      "\u001b[K     |████████████████████████████████| 12.0 MB 7.2 MB/s eta 0:00:01\n",
      "\u001b[?25hRequirement already satisfied: spacy>=2.2.2 in /Users/piruzalemi/opt/anaconda3/lib/python3.7/site-packages (from en_core_web_sm==2.2.5) (2.2.4)\n",
      "Requirement already satisfied: requests<3.0.0,>=2.13.0 in /Users/piruzalemi/opt/anaconda3/lib/python3.7/site-packages (from spacy>=2.2.2->en_core_web_sm==2.2.5) (2.22.0)\n",
      "Requirement already satisfied: wasabi<1.1.0,>=0.4.0 in /Users/piruzalemi/opt/anaconda3/lib/python3.7/site-packages (from spacy>=2.2.2->en_core_web_sm==2.2.5) (0.6.0)\n",
      "Requirement already satisfied: thinc==7.4.0 in /Users/piruzalemi/opt/anaconda3/lib/python3.7/site-packages (from spacy>=2.2.2->en_core_web_sm==2.2.5) (7.4.0)\n",
      "Requirement already satisfied: blis<0.5.0,>=0.4.0 in /Users/piruzalemi/opt/anaconda3/lib/python3.7/site-packages (from spacy>=2.2.2->en_core_web_sm==2.2.5) (0.4.1)\n",
      "Requirement already satisfied: tqdm<5.0.0,>=4.38.0 in /Users/piruzalemi/opt/anaconda3/lib/python3.7/site-packages (from spacy>=2.2.2->en_core_web_sm==2.2.5) (4.45.0)\n",
      "Requirement already satisfied: setuptools in /Users/piruzalemi/opt/anaconda3/lib/python3.7/site-packages (from spacy>=2.2.2->en_core_web_sm==2.2.5) (41.4.0)\n",
      "Requirement already satisfied: catalogue<1.1.0,>=0.0.7 in /Users/piruzalemi/opt/anaconda3/lib/python3.7/site-packages (from spacy>=2.2.2->en_core_web_sm==2.2.5) (1.0.0)\n",
      "Requirement already satisfied: murmurhash<1.1.0,>=0.28.0 in /Users/piruzalemi/opt/anaconda3/lib/python3.7/site-packages (from spacy>=2.2.2->en_core_web_sm==2.2.5) (1.0.2)\n",
      "Requirement already satisfied: preshed<3.1.0,>=3.0.2 in /Users/piruzalemi/opt/anaconda3/lib/python3.7/site-packages (from spacy>=2.2.2->en_core_web_sm==2.2.5) (3.0.2)\n",
      "Requirement already satisfied: plac<1.2.0,>=0.9.6 in /Users/piruzalemi/opt/anaconda3/lib/python3.7/site-packages (from spacy>=2.2.2->en_core_web_sm==2.2.5) (1.1.3)\n",
      "Requirement already satisfied: cymem<2.1.0,>=2.0.2 in /Users/piruzalemi/opt/anaconda3/lib/python3.7/site-packages (from spacy>=2.2.2->en_core_web_sm==2.2.5) (2.0.3)\n",
      "Requirement already satisfied: numpy>=1.15.0 in /Users/piruzalemi/opt/anaconda3/lib/python3.7/site-packages (from spacy>=2.2.2->en_core_web_sm==2.2.5) (1.17.2)\n",
      "Requirement already satisfied: srsly<1.1.0,>=1.0.2 in /Users/piruzalemi/opt/anaconda3/lib/python3.7/site-packages (from spacy>=2.2.2->en_core_web_sm==2.2.5) (1.0.2)\n",
      "Requirement already satisfied: urllib3!=1.25.0,!=1.25.1,<1.26,>=1.21.1 in /Users/piruzalemi/opt/anaconda3/lib/python3.7/site-packages (from requests<3.0.0,>=2.13.0->spacy>=2.2.2->en_core_web_sm==2.2.5) (1.24.2)\n",
      "Requirement already satisfied: chardet<3.1.0,>=3.0.2 in /Users/piruzalemi/opt/anaconda3/lib/python3.7/site-packages (from requests<3.0.0,>=2.13.0->spacy>=2.2.2->en_core_web_sm==2.2.5) (3.0.4)\n",
      "Requirement already satisfied: idna<2.9,>=2.5 in /Users/piruzalemi/opt/anaconda3/lib/python3.7/site-packages (from requests<3.0.0,>=2.13.0->spacy>=2.2.2->en_core_web_sm==2.2.5) (2.8)\n",
      "Requirement already satisfied: certifi>=2017.4.17 in /Users/piruzalemi/opt/anaconda3/lib/python3.7/site-packages (from requests<3.0.0,>=2.13.0->spacy>=2.2.2->en_core_web_sm==2.2.5) (2019.9.11)\n",
      "Requirement already satisfied: importlib-metadata>=0.20; python_version < \"3.8\" in /Users/piruzalemi/opt/anaconda3/lib/python3.7/site-packages (from catalogue<1.1.0,>=0.0.7->spacy>=2.2.2->en_core_web_sm==2.2.5) (0.23)\n",
      "Requirement already satisfied: zipp>=0.5 in /Users/piruzalemi/opt/anaconda3/lib/python3.7/site-packages (from importlib-metadata>=0.20; python_version < \"3.8\"->catalogue<1.1.0,>=0.0.7->spacy>=2.2.2->en_core_web_sm==2.2.5) (0.6.0)\n",
      "Requirement already satisfied: more-itertools in /Users/piruzalemi/opt/anaconda3/lib/python3.7/site-packages (from zipp>=0.5->importlib-metadata>=0.20; python_version < \"3.8\"->catalogue<1.1.0,>=0.0.7->spacy>=2.2.2->en_core_web_sm==2.2.5) (7.2.0)\n",
      "Building wheels for collected packages: en-core-web-sm\n",
      "  Building wheel for en-core-web-sm (setup.py) ... \u001b[?25ldone\n",
      "\u001b[?25h  Created wheel for en-core-web-sm: filename=en_core_web_sm-2.2.5-py3-none-any.whl size=12011738 sha256=87e6eac1dcc9c53f0f7a9112e65eaaca7d1fd5cec4dda211df4cc8b645b43fb6\n",
      "  Stored in directory: /private/var/folders/cp/fdjy78811p514g86b2vjfy300000gn/T/pip-ephem-wheel-cache-c67t5och/wheels/51/19/da/a3885266a3c241aff0ad2eb674ae058fd34a4870fef1c0a5a0\n",
      "Successfully built en-core-web-sm\n",
      "Installing collected packages: en-core-web-sm\n",
      "  Attempting uninstall: en-core-web-sm\n",
      "    Found existing installation: en-core-web-sm 2.2.0\n",
      "    Uninstalling en-core-web-sm-2.2.0:\n",
      "      Successfully uninstalled en-core-web-sm-2.2.0\n",
      "Successfully installed en-core-web-sm-2.2.5\n",
      "\u001b[38;5;2m✔ Download and installation successful\u001b[0m\n",
      "You can now load the model via spacy.load('en_core_web_sm')\n",
      "\u001b[38;5;2m✔ Linking successful\u001b[0m\n",
      "/Users/piruzalemi/opt/anaconda3/lib/python3.7/site-packages/en_core_web_sm -->\n",
      "/Users/piruzalemi/opt/anaconda3/lib/python3.7/site-packages/spacy/data/en\n",
      "You can now load the model via spacy.load('en')\n"
     ]
    }
   ],
   "source": [
    "!python -m spacy download en"
   ]
  },
  {
   "cell_type": "markdown",
   "metadata": {},
   "source": [
    "# 10. Predict Topics using LDA model for the text I provide"
   ]
  },
  {
   "cell_type": "code",
   "execution_count": 389,
   "metadata": {},
   "outputs": [],
   "source": [
    "# Define function to predict topic for a given text document.\n",
    "# 'en' is for English!\n",
    "# https://spacy.io/usage/models\n",
    "nlp = spacy.load('en', disable=['parser', 'ner'])"
   ]
  },
  {
   "cell_type": "code",
   "execution_count": 390,
   "metadata": {},
   "outputs": [],
   "source": [
    "def predict_topic(text, nlp=nlp):\n",
    "    global sent_to_words\n",
    "    global lemmatization"
   ]
  },
  {
   "cell_type": "code",
   "execution_count": 219,
   "metadata": {},
   "outputs": [],
   "source": [
    "# Step 4: LDA Transform\n",
    "#topic_probability_scores = lda.transform(mytext_4)\n",
    "#topic = df_topic_keywords.iloc[np.argmax(topic_probability_scores), 1:14].values.tolist()"
   ]
  },
  {
   "cell_type": "code",
   "execution_count": 220,
   "metadata": {},
   "outputs": [],
   "source": [
    "# Define function to predict topic for a given text document.\n",
    "nlp = spacy.load('en', disable=['parser', 'ner'])"
   ]
  },
  {
   "cell_type": "code",
   "execution_count": 221,
   "metadata": {},
   "outputs": [],
   "source": [
    "def predict_topic(text, nlp=nlp):\n",
    "    global sent_to_words\n",
    "    global lemmatization"
   ]
  },
  {
   "cell_type": "code",
   "execution_count": 392,
   "metadata": {},
   "outputs": [],
   "source": [
    "# Step 1: Clean with simple_preprocess\n",
    "# mytext_2 = list(sent_to_words(text))"
   ]
  },
  {
   "cell_type": "code",
   "execution_count": null,
   "metadata": {},
   "outputs": [],
   "source": [
    "# Step 3: Vectorize transform\n",
    "mytext_4 = vectorizer.transform(mytext_3)"
   ]
  },
  {
   "cell_type": "code",
   "execution_count": null,
   "metadata": {},
   "outputs": [],
   "source": [
    "# Step 4: LDA Transform\n",
    "topic_probability_scores = best_lda_model.transform(mytext_4)\n",
    "topic = df_topic_keywords.iloc[np.argmax(topic_probability_scores), 1:14].values.tolist()"
   ]
  },
  {
   "cell_type": "code",
   "execution_count": null,
   "metadata": {},
   "outputs": [],
   "source": [
    "# Step 5: Infer Topic\n",
    "infer_topic = df_topic_keywords.iloc[np.argmax(topic_probability_scores), -1]\n",
    "#topic_guess = df_topic_keywords.iloc[np.argmax(topic_probability_scores), Topics]\n",
    "return infer_topic, topic, topic_probability_scores"
   ]
  },
  {
   "cell_type": "code",
   "execution_count": null,
   "metadata": {},
   "outputs": [],
   "source": [
    "# Predict the topic\n",
    "mytext = [\"Very Useful in diabetes age 30. I need control sugar. thanks Good deal\"]\n",
    "infer_topic, topic, prob_scores = predict_topic(text = mytext)\n",
    "print(topic)\n",
    "print(infer_topic)"
   ]
  },
  {
   "cell_type": "code",
   "execution_count": null,
   "metadata": {},
   "outputs": [],
   "source": []
  },
  {
   "cell_type": "markdown",
   "metadata": {},
   "source": [
    "# Singular-value decomposition"
   ]
  },
  {
   "cell_type": "code",
   "execution_count": null,
   "metadata": {},
   "outputs": [],
   "source": [
    "# Singular-value decomposition\n",
    "from numpy import array\n",
    "from scipy.linalg import svd\n",
    "# define a matrix\n",
    "A = array([[1, 2], [3, 4], [5, 6]])\n",
    "print(A)\n",
    "# SVD\n",
    "U, s, VT = svd(A)\n",
    "print(U)\n",
    "print(s)\n",
    "print(VT)"
   ]
  },
  {
   "cell_type": "code",
   "execution_count": 527,
   "metadata": {},
   "outputs": [],
   "source": [
    "# ---------------------------------------------------------------------------------\n",
    "#                             Construct the k-means clusters\n",
    "#.                        Here we set the number of our clusters\n",
    "#               These Clusters are based on LDA_Output, which is clustering by Topics\n",
    "# SEE: https://machinelearningmastery.com/singular-value-decomposition-for-machine-learning/\n",
    "# ---------------------------------------------------------------------------------\n",
    "from sklearn.cluster import KMeans\n",
    "clusters = KMeans(n_clusters=2, random_state=100).fit_predict(lda_output2)"
   ]
  },
  {
   "cell_type": "code",
   "execution_count": 528,
   "metadata": {},
   "outputs": [
    {
     "ename": "ValueError",
     "evalue": "n_components must be < n_features; got 2 >= 2",
     "output_type": "error",
     "traceback": [
      "\u001b[0;31m---------------------------------------------------------------------------\u001b[0m",
      "\u001b[0;31mValueError\u001b[0m                                Traceback (most recent call last)",
      "\u001b[0;32m<ipython-input-528-48c5de144eab>\u001b[0m in \u001b[0;36m<module>\u001b[0;34m\u001b[0m\n\u001b[1;32m      1\u001b[0m \u001b[0;31m# Build the Singular Value Decomposition(SVD) model\u001b[0m\u001b[0;34m\u001b[0m\u001b[0;34m\u001b[0m\u001b[0;34m\u001b[0m\u001b[0m\n\u001b[1;32m      2\u001b[0m \u001b[0msvd_model\u001b[0m \u001b[0;34m=\u001b[0m \u001b[0mTruncatedSVD\u001b[0m\u001b[0;34m(\u001b[0m\u001b[0mn_components\u001b[0m\u001b[0;34m=\u001b[0m\u001b[0;36m2\u001b[0m\u001b[0;34m)\u001b[0m  \u001b[0;31m# 2 components\u001b[0m\u001b[0;34m\u001b[0m\u001b[0;34m\u001b[0m\u001b[0m\n\u001b[0;32m----> 3\u001b[0;31m \u001b[0mlda_output_svd\u001b[0m \u001b[0;34m=\u001b[0m \u001b[0msvd_model\u001b[0m\u001b[0;34m.\u001b[0m\u001b[0mfit_transform\u001b[0m\u001b[0;34m(\u001b[0m\u001b[0mlda_output\u001b[0m\u001b[0;34m)\u001b[0m\u001b[0;34m\u001b[0m\u001b[0;34m\u001b[0m\u001b[0m\n\u001b[0m",
      "\u001b[0;32m~/opt/anaconda3/lib/python3.7/site-packages/sklearn/decomposition/truncated_svd.py\u001b[0m in \u001b[0;36mfit_transform\u001b[0;34m(self, X, y)\u001b[0m\n\u001b[1;32m    173\u001b[0m             \u001b[0;32mif\u001b[0m \u001b[0mk\u001b[0m \u001b[0;34m>=\u001b[0m \u001b[0mn_features\u001b[0m\u001b[0;34m:\u001b[0m\u001b[0;34m\u001b[0m\u001b[0;34m\u001b[0m\u001b[0m\n\u001b[1;32m    174\u001b[0m                 raise ValueError(\"n_components must be < n_features;\"\n\u001b[0;32m--> 175\u001b[0;31m                                  \" got %d >= %d\" % (k, n_features))\n\u001b[0m\u001b[1;32m    176\u001b[0m             U, Sigma, VT = randomized_svd(X, self.n_components,\n\u001b[1;32m    177\u001b[0m                                           \u001b[0mn_iter\u001b[0m\u001b[0;34m=\u001b[0m\u001b[0mself\u001b[0m\u001b[0;34m.\u001b[0m\u001b[0mn_iter\u001b[0m\u001b[0;34m,\u001b[0m\u001b[0;34m\u001b[0m\u001b[0;34m\u001b[0m\u001b[0m\n",
      "\u001b[0;31mValueError\u001b[0m: n_components must be < n_features; got 2 >= 2"
     ]
    }
   ],
   "source": [
    "# Build the Singular Value Decomposition(SVD) model\n",
    "svd_model = TruncatedSVD(n_components=2)  # 2 components\n",
    "lda_output_svd = svd_model.fit_transform(lda_output)"
   ]
  },
  {
   "cell_type": "code",
   "execution_count": 420,
   "metadata": {},
   "outputs": [],
   "source": [
    "# X and Y axes of the plot using SVD decomposition\n",
    "# Explain!!!  \n",
    "x = lda_output_svd[:, 0]\n",
    "y = lda_output_svd[:, 1]"
   ]
  },
  {
   "cell_type": "code",
   "execution_count": 421,
   "metadata": {},
   "outputs": [
    {
     "name": "stdout",
     "output_type": "stream",
     "text": [
      "Component's weights: \n",
      " [[ 0.22  0.32  0.32  0.32  0.36  0.33  0.27  0.31  0.34  0.34]\n",
      " [ 0.01 -0.22 -0.02 -0.19  0.87  0.    0.03 -0.1  -0.39 -0.06]]\n"
     ]
    }
   ],
   "source": [
    "# Weights for the 15 columns of lda_output, for each component\n",
    "print(\"Component's weights: \\n\", np.round(svd_model.components_, 2))"
   ]
  },
  {
   "cell_type": "code",
   "execution_count": 422,
   "metadata": {},
   "outputs": [
    {
     "name": "stdout",
     "output_type": "stream",
     "text": [
      "Perc of Variance Explained: \n",
      " [0.   0.13]\n"
     ]
    }
   ],
   "source": [
    "# Percentage of total information in 'lda_output' explained by the two components\n",
    "print(\"Perc of Variance Explained: \\n\", np.round(svd_model.explained_variance_ratio_, 2))"
   ]
  },
  {
   "cell_type": "code",
   "execution_count": 426,
   "metadata": {},
   "outputs": [
    {
     "data": {
      "text/plain": [
       "Text(0.5, 1.0, 'Segregation of 10 Topic Clusters')"
      ]
     },
     "execution_count": 426,
     "metadata": {},
     "output_type": "execute_result"
    },
    {
     "data": {
      "image/png": "[encoded data removed]",
      "text/plain": [
       "<Figure size 864x864 with 1 Axes>"
      ]
     },
     "metadata": {
      "needs_background": "light"
     },
     "output_type": "display_data"
    }
   ],
   "source": [
    "# Plot\n",
    "plt.figure(figsize=(12, 12))\n",
    "plt.scatter(x, y, c=clusters)\n",
    "plt.ylabel('Component 2')\n",
    "plt.xlabel('Component 1')\n",
    "plt.title(\"Segregation of 10 Topic Clusters\", )"
   ]
  },
  {
   "cell_type": "code",
   "execution_count": 233,
   "metadata": {},
   "outputs": [],
   "source": [
    "# Step 1: Clean with simple_preprocess\n",
    "#mytext_2 = list(sent_to_words(text))"
   ]
  },
  {
   "cell_type": "code",
   "execution_count": null,
   "metadata": {},
   "outputs": [],
   "source": []
  },
  {
   "cell_type": "code",
   "execution_count": null,
   "metadata": {},
   "outputs": [],
   "source": []
  },
  {
   "cell_type": "code",
   "execution_count": null,
   "metadata": {},
   "outputs": [],
   "source": []
  },
  {
   "cell_type": "code",
   "execution_count": null,
   "metadata": {},
   "outputs": [],
   "source": []
  },
  {
   "cell_type": "code",
   "execution_count": null,
   "metadata": {},
   "outputs": [],
   "source": []
  },
  {
   "cell_type": "code",
   "execution_count": null,
   "metadata": {},
   "outputs": [],
   "source": []
  },
  {
   "cell_type": "code",
   "execution_count": null,
   "metadata": {},
   "outputs": [],
   "source": []
  },
  {
   "cell_type": "code",
   "execution_count": null,
   "metadata": {},
   "outputs": [],
   "source": []
  },
  {
   "cell_type": "code",
   "execution_count": null,
   "metadata": {},
   "outputs": [],
   "source": []
  },
  {
   "cell_type": "code",
   "execution_count": 236,
   "metadata": {},
   "outputs": [],
   "source": [
    "#.  Note the index = 15 for Topic #16 (Alemi)\n",
    "Topic10 =X_topics[:, 9].argsort()[::-1]"
   ]
  },
  {
   "cell_type": "code",
   "execution_count": 235,
   "metadata": {},
   "outputs": [
    {
     "name": "stdout",
     "output_type": "stream",
     "text": [
      "\n",
      "Topic10 material #1\n"
     ]
    },
    {
     "ename": "KeyError",
     "evalue": "5277",
     "output_type": "error",
     "traceback": [
      "\u001b[0;31m---------------------------------------------------------------------------\u001b[0m",
      "\u001b[0;31mKeyError\u001b[0m                                  Traceback (most recent call last)",
      "\u001b[0;32m<ipython-input-235-21dd52f9f505>\u001b[0m in \u001b[0;36m<module>\u001b[0;34m\u001b[0m\n\u001b[1;32m      5\u001b[0m \u001b[0;32mfor\u001b[0m \u001b[0miter_idx\u001b[0m\u001b[0;34m,\u001b[0m\u001b[0mpiruz_idx\u001b[0m \u001b[0;32min\u001b[0m \u001b[0menumerate\u001b[0m\u001b[0;34m(\u001b[0m\u001b[0mTopic10\u001b[0m\u001b[0;34m[\u001b[0m\u001b[0;34m:\u001b[0m\u001b[0;36m5\u001b[0m\u001b[0;34m]\u001b[0m\u001b[0;34m)\u001b[0m\u001b[0;34m:\u001b[0m\u001b[0;34m\u001b[0m\u001b[0;34m\u001b[0m\u001b[0m\n\u001b[1;32m      6\u001b[0m     \u001b[0mprint\u001b[0m\u001b[0;34m(\u001b[0m\u001b[0;34m'\\nTopic10 material #%d'\u001b[0m \u001b[0;34m%\u001b[0m \u001b[0;34m(\u001b[0m\u001b[0miter_idx\u001b[0m \u001b[0;34m+\u001b[0m \u001b[0;36m1\u001b[0m\u001b[0;34m)\u001b[0m\u001b[0;34m)\u001b[0m\u001b[0;34m\u001b[0m\u001b[0;34m\u001b[0m\u001b[0m\n\u001b[0;32m----> 7\u001b[0;31m     \u001b[0mprint\u001b[0m\u001b[0;34m(\u001b[0m\u001b[0mdNews\u001b[0m\u001b[0;34m[\u001b[0m\u001b[0;34m'Top1'\u001b[0m\u001b[0;34m]\u001b[0m\u001b[0;34m[\u001b[0m\u001b[0mpiruz_idx\u001b[0m\u001b[0;34m]\u001b[0m\u001b[0;34m[\u001b[0m\u001b[0;34m:\u001b[0m\u001b[0;36m300\u001b[0m\u001b[0;34m]\u001b[0m\u001b[0;34m,\u001b[0m \u001b[0;34m'...'\u001b[0m\u001b[0;34m)\u001b[0m\u001b[0;34m\u001b[0m\u001b[0;34m\u001b[0m\u001b[0m\n\u001b[0m",
      "\u001b[0;32m~/opt/anaconda3/lib/python3.7/site-packages/pandas/core/series.py\u001b[0m in \u001b[0;36m__getitem__\u001b[0;34m(self, key)\u001b[0m\n\u001b[1;32m   1066\u001b[0m         \u001b[0mkey\u001b[0m \u001b[0;34m=\u001b[0m \u001b[0mcom\u001b[0m\u001b[0;34m.\u001b[0m\u001b[0mapply_if_callable\u001b[0m\u001b[0;34m(\u001b[0m\u001b[0mkey\u001b[0m\u001b[0;34m,\u001b[0m \u001b[0mself\u001b[0m\u001b[0;34m)\u001b[0m\u001b[0;34m\u001b[0m\u001b[0;34m\u001b[0m\u001b[0m\n\u001b[1;32m   1067\u001b[0m         \u001b[0;32mtry\u001b[0m\u001b[0;34m:\u001b[0m\u001b[0;34m\u001b[0m\u001b[0;34m\u001b[0m\u001b[0m\n\u001b[0;32m-> 1068\u001b[0;31m             \u001b[0mresult\u001b[0m \u001b[0;34m=\u001b[0m \u001b[0mself\u001b[0m\u001b[0;34m.\u001b[0m\u001b[0mindex\u001b[0m\u001b[0;34m.\u001b[0m\u001b[0mget_value\u001b[0m\u001b[0;34m(\u001b[0m\u001b[0mself\u001b[0m\u001b[0;34m,\u001b[0m \u001b[0mkey\u001b[0m\u001b[0;34m)\u001b[0m\u001b[0;34m\u001b[0m\u001b[0;34m\u001b[0m\u001b[0m\n\u001b[0m\u001b[1;32m   1069\u001b[0m \u001b[0;34m\u001b[0m\u001b[0m\n\u001b[1;32m   1070\u001b[0m             \u001b[0;32mif\u001b[0m \u001b[0;32mnot\u001b[0m \u001b[0mis_scalar\u001b[0m\u001b[0;34m(\u001b[0m\u001b[0mresult\u001b[0m\u001b[0;34m)\u001b[0m\u001b[0;34m:\u001b[0m\u001b[0;34m\u001b[0m\u001b[0;34m\u001b[0m\u001b[0m\n",
      "\u001b[0;32m~/opt/anaconda3/lib/python3.7/site-packages/pandas/core/indexes/base.py\u001b[0m in \u001b[0;36mget_value\u001b[0;34m(self, series, key)\u001b[0m\n\u001b[1;32m   4728\u001b[0m         \u001b[0mk\u001b[0m \u001b[0;34m=\u001b[0m \u001b[0mself\u001b[0m\u001b[0;34m.\u001b[0m\u001b[0m_convert_scalar_indexer\u001b[0m\u001b[0;34m(\u001b[0m\u001b[0mk\u001b[0m\u001b[0;34m,\u001b[0m \u001b[0mkind\u001b[0m\u001b[0;34m=\u001b[0m\u001b[0;34m\"getitem\"\u001b[0m\u001b[0;34m)\u001b[0m\u001b[0;34m\u001b[0m\u001b[0;34m\u001b[0m\u001b[0m\n\u001b[1;32m   4729\u001b[0m         \u001b[0;32mtry\u001b[0m\u001b[0;34m:\u001b[0m\u001b[0;34m\u001b[0m\u001b[0;34m\u001b[0m\u001b[0m\n\u001b[0;32m-> 4730\u001b[0;31m             \u001b[0;32mreturn\u001b[0m \u001b[0mself\u001b[0m\u001b[0;34m.\u001b[0m\u001b[0m_engine\u001b[0m\u001b[0;34m.\u001b[0m\u001b[0mget_value\u001b[0m\u001b[0;34m(\u001b[0m\u001b[0ms\u001b[0m\u001b[0;34m,\u001b[0m \u001b[0mk\u001b[0m\u001b[0;34m,\u001b[0m \u001b[0mtz\u001b[0m\u001b[0;34m=\u001b[0m\u001b[0mgetattr\u001b[0m\u001b[0;34m(\u001b[0m\u001b[0mseries\u001b[0m\u001b[0;34m.\u001b[0m\u001b[0mdtype\u001b[0m\u001b[0;34m,\u001b[0m \u001b[0;34m\"tz\"\u001b[0m\u001b[0;34m,\u001b[0m \u001b[0;32mNone\u001b[0m\u001b[0;34m)\u001b[0m\u001b[0;34m)\u001b[0m\u001b[0;34m\u001b[0m\u001b[0;34m\u001b[0m\u001b[0m\n\u001b[0m\u001b[1;32m   4731\u001b[0m         \u001b[0;32mexcept\u001b[0m \u001b[0mKeyError\u001b[0m \u001b[0;32mas\u001b[0m \u001b[0me1\u001b[0m\u001b[0;34m:\u001b[0m\u001b[0;34m\u001b[0m\u001b[0;34m\u001b[0m\u001b[0m\n\u001b[1;32m   4732\u001b[0m             \u001b[0;32mif\u001b[0m \u001b[0mlen\u001b[0m\u001b[0;34m(\u001b[0m\u001b[0mself\u001b[0m\u001b[0;34m)\u001b[0m \u001b[0;34m>\u001b[0m \u001b[0;36m0\u001b[0m \u001b[0;32mand\u001b[0m \u001b[0;34m(\u001b[0m\u001b[0mself\u001b[0m\u001b[0;34m.\u001b[0m\u001b[0mholds_integer\u001b[0m\u001b[0;34m(\u001b[0m\u001b[0;34m)\u001b[0m \u001b[0;32mor\u001b[0m \u001b[0mself\u001b[0m\u001b[0;34m.\u001b[0m\u001b[0mis_boolean\u001b[0m\u001b[0;34m(\u001b[0m\u001b[0;34m)\u001b[0m\u001b[0;34m)\u001b[0m\u001b[0;34m:\u001b[0m\u001b[0;34m\u001b[0m\u001b[0;34m\u001b[0m\u001b[0m\n",
      "\u001b[0;32mpandas/_libs/index.pyx\u001b[0m in \u001b[0;36mpandas._libs.index.IndexEngine.get_value\u001b[0;34m()\u001b[0m\n",
      "\u001b[0;32mpandas/_libs/index.pyx\u001b[0m in \u001b[0;36mpandas._libs.index.IndexEngine.get_value\u001b[0;34m()\u001b[0m\n",
      "\u001b[0;32mpandas/_libs/index.pyx\u001b[0m in \u001b[0;36mpandas._libs.index.IndexEngine.get_loc\u001b[0;34m()\u001b[0m\n",
      "\u001b[0;32mpandas/_libs/hashtable_class_helper.pxi\u001b[0m in \u001b[0;36mpandas._libs.hashtable.Int64HashTable.get_item\u001b[0;34m()\u001b[0m\n",
      "\u001b[0;32mpandas/_libs/hashtable_class_helper.pxi\u001b[0m in \u001b[0;36mpandas._libs.hashtable.Int64HashTable.get_item\u001b[0;34m()\u001b[0m\n",
      "\u001b[0;31mKeyError\u001b[0m: 5277"
     ]
    }
   ],
   "source": [
    "# Based on the most importantyv words for each topic, we may guess that Latent Dirichlet Allocation (LDA)\n",
    "# puts them in the above 20 topics. I here print  say Topic 9 from our original News to see the similarities ion say\n",
    "# Topic 9.                                                  Piruz Alemi 04/11/2020\n",
    "# \n",
    "for iter_idx,piruz_idx in enumerate(Topic10[:5]):\n",
    "    print('\\nTopic10 material #%d' % (iter_idx + 1))\n",
    "    print(dNews['Top1'][piruz_idx][:300], '...')"
   ]
  },
  {
   "cell_type": "code",
   "execution_count": null,
   "metadata": {},
   "outputs": [],
   "source": []
  },
  {
   "cell_type": "code",
   "execution_count": null,
   "metadata": {},
   "outputs": [],
   "source": []
  },
  {
   "cell_type": "markdown",
   "metadata": {},
   "source": [
    "# Sources:\n",
    "#### We thank Ju chen who origianlly found & noted the code on Chunker, given our question on NLTK \n",
    "### The Latent Deriolicht is our adpatation from Sebastian Rascha & Vahid Mirjajli - Python ML\n",
    "#### \n",
    "####                                             Piruz Alemi 04/09/2020 + Team = Li Steve, Zhongping Yang, Mike Fonseca\n"
   ]
  },
  {
   "cell_type": "code",
   "execution_count": null,
   "metadata": {},
   "outputs": [],
   "source": []
  }
 ],
 "metadata": {
  "kernelspec": {
   "display_name": "Python 3",
   "language": "python",
   "name": "python3"
  },
  "language_info": {
   "codemirror_mode": {
    "name": "ipython",
    "version": 3
   },
   "file_extension": ".py",
   "mimetype": "text/x-python",
   "name": "python",
   "nbconvert_exporter": "python",
   "pygments_lexer": "ipython3",
   "version": "3.7.4"
  }
 },
 "nbformat": 4,
 "nbformat_minor": 1
}
